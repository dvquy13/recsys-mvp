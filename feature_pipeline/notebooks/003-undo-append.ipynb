{
 "cells": [
  {
   "cell_type": "markdown",
   "id": "e01e4c4c-63ce-4908-aea5-9cafc9ac649e",
   "metadata": {
    "editable": true,
    "slideshow": {
     "slide_type": ""
    },
    "tags": []
   },
   "source": [
    "# Remove the holdout data"
   ]
  },
  {
   "cell_type": "markdown",
   "id": "d26e9a86-077a-48cd-8a8c-4218e35fafbb",
   "metadata": {},
   "source": [
    "# Set up"
   ]
  },
  {
   "cell_type": "code",
   "execution_count": 1,
   "id": "d8aee128-fcf9-4f4c-ac03-62cb952f5f29",
   "metadata": {
    "editable": true,
    "slideshow": {
     "slide_type": ""
    },
    "tags": []
   },
   "outputs": [
    {
     "data": {
      "text/plain": [
       "True"
      ]
     },
     "execution_count": 1,
     "metadata": {},
     "output_type": "execute_result"
    }
   ],
   "source": [
    "import os\n",
    "import sys\n",
    "\n",
    "import pandas as pd\n",
    "from dotenv import load_dotenv\n",
    "from loguru import logger\n",
    "from pydantic import BaseModel\n",
    "from sqlalchemy import create_engine\n",
    "\n",
    "sys.path.insert(0, \"..\")\n",
    "\n",
    "load_dotenv(\"../.env\")"
   ]
  },
  {
   "cell_type": "markdown",
   "id": "bb7f3ebc-8eb3-412e-8d88-a7cb74a9c908",
   "metadata": {},
   "source": [
    "# Controller"
   ]
  },
  {
   "cell_type": "code",
   "execution_count": 2,
   "id": "47ce1094-ad6d-4948-b078-ccc1d1da2fbf",
   "metadata": {},
   "outputs": [
    {
     "name": "stdout",
     "output_type": "stream",
     "text": [
      "{\n",
      "  \"notebook_persist_dp\": null,\n",
      "  \"random_seed\": 41,\n",
      "  \"holdout_fp\": \"../../holdout.parquet\",\n",
      "  \"table_name\": \"amz_review_rating_raw\"\n",
      "}\n"
     ]
    }
   ],
   "source": [
    "class Args(BaseModel):\n",
    "    notebook_persist_dp: str = None\n",
    "    random_seed: int = 41\n",
    "\n",
    "    holdout_fp: str = \"../../holdout.parquet\"\n",
    "\n",
    "    # Output PostgreSQL table\n",
    "    table_name: str = \"amz_review_rating_raw\"\n",
    "\n",
    "\n",
    "args = Args()\n",
    "\n",
    "print(args.model_dump_json(indent=2))"
   ]
  },
  {
   "cell_type": "markdown",
   "id": "72bbdf7e-6ac0-4700-8ea4-3440680be347",
   "metadata": {},
   "source": [
    "# Load data"
   ]
  },
  {
   "cell_type": "code",
   "execution_count": 3,
   "id": "10556f15-98a0-413a-a94d-522f017191e1",
   "metadata": {},
   "outputs": [
    {
     "data": {
      "text/html": [
       "<div>\n",
       "<style scoped>\n",
       "    .dataframe tbody tr th:only-of-type {\n",
       "        vertical-align: middle;\n",
       "    }\n",
       "\n",
       "    .dataframe tbody tr th {\n",
       "        vertical-align: top;\n",
       "    }\n",
       "\n",
       "    .dataframe thead th {\n",
       "        text-align: right;\n",
       "    }\n",
       "</style>\n",
       "<table border=\"1\" class=\"dataframe\">\n",
       "  <thead>\n",
       "    <tr style=\"text-align: right;\">\n",
       "      <th></th>\n",
       "      <th>user_id</th>\n",
       "      <th>parent_asin</th>\n",
       "      <th>rating</th>\n",
       "      <th>timestamp</th>\n",
       "      <th>main_category</th>\n",
       "      <th>title</th>\n",
       "      <th>description</th>\n",
       "      <th>categories</th>\n",
       "      <th>price</th>\n",
       "    </tr>\n",
       "  </thead>\n",
       "  <tbody>\n",
       "    <tr>\n",
       "      <th>0</th>\n",
       "      <td>AHLBT2RDWYQWN5O2XNBNX2JPWVZA</td>\n",
       "      <td>B08NYV2VLS</td>\n",
       "      <td>4.0</td>\n",
       "      <td>2022-07-08 18:26:28.360</td>\n",
       "      <td>Video Games</td>\n",
       "      <td>Story of Seasons: Trio of Towns - Nintendo 3DS</td>\n",
       "      <td>[STORY OF SEASONS: Trio of Towns is a fresh ne...</td>\n",
       "      <td>[Video Games, Legacy Systems, Nintendo Systems...</td>\n",
       "      <td>None</td>\n",
       "    </tr>\n",
       "    <tr>\n",
       "      <th>1</th>\n",
       "      <td>AHLBT2RDWYQWN5O2XNBNX2JPWVZA</td>\n",
       "      <td>B00KWIYPZG</td>\n",
       "      <td>5.0</td>\n",
       "      <td>2022-07-08 18:27:49.294</td>\n",
       "      <td>Video Games</td>\n",
       "      <td>Fantasy Life - 3DS</td>\n",
       "      <td>[Embark on a Journey that Lets You Build Your ...</td>\n",
       "      <td>[Video Games, Legacy Systems, Nintendo Systems...</td>\n",
       "      <td>96.65</td>\n",
       "    </tr>\n",
       "    <tr>\n",
       "      <th>2</th>\n",
       "      <td>AF5NKVKUZGRPBR7HAYYDUS25RGRQ</td>\n",
       "      <td>B0BKRXQ5GL</td>\n",
       "      <td>3.0</td>\n",
       "      <td>2022-07-06 12:14:32.366</td>\n",
       "      <td>Computers</td>\n",
       "      <td>Logitech G Logitech G935 Over Ear Wireless Hea...</td>\n",
       "      <td>[Logitech G935 Wireless DTS:X 7.1 Surround Sou...</td>\n",
       "      <td>[Video Games, PC, Accessories, Headsets]</td>\n",
       "      <td>153.98</td>\n",
       "    </tr>\n",
       "    <tr>\n",
       "      <th>3</th>\n",
       "      <td>AGGRGJRYYYWAL7V5M4RG4VFKL3HA</td>\n",
       "      <td>B07BGYLS1L</td>\n",
       "      <td>5.0</td>\n",
       "      <td>2022-06-25 20:06:42.077</td>\n",
       "      <td>Video Games</td>\n",
       "      <td>Shadow of the Tomb Raider - Xbox One</td>\n",
       "      <td>[Experience Lara croft's defining moment as sh...</td>\n",
       "      <td>[Video Games, Xbox One, Games]</td>\n",
       "      <td>14.8</td>\n",
       "    </tr>\n",
       "    <tr>\n",
       "      <th>4</th>\n",
       "      <td>AEKEN3WITS4ZEJ7ZIISGJDZYJB3Q</td>\n",
       "      <td>B0BH1ZL3G9</td>\n",
       "      <td>5.0</td>\n",
       "      <td>2022-06-16 19:54:29.703</td>\n",
       "      <td>Computers</td>\n",
       "      <td>Hipshotdot PRO Color and Brightness Control Do...</td>\n",
       "      <td>[The HipShotDot is the gaming industry’s first...</td>\n",
       "      <td>[Video Games, PC, Accessories, Controllers, Ga...</td>\n",
       "      <td>22.99</td>\n",
       "    </tr>\n",
       "    <tr>\n",
       "      <th>...</th>\n",
       "      <td>...</td>\n",
       "      <td>...</td>\n",
       "      <td>...</td>\n",
       "      <td>...</td>\n",
       "      <td>...</td>\n",
       "      <td>...</td>\n",
       "      <td>...</td>\n",
       "      <td>...</td>\n",
       "      <td>...</td>\n",
       "    </tr>\n",
       "    <tr>\n",
       "      <th>69</th>\n",
       "      <td>AETZPD7JKD42GBVYXBYPGOY4NF6Q</td>\n",
       "      <td>B09B35J159</td>\n",
       "      <td>4.0</td>\n",
       "      <td>2022-07-08 19:10:11.311</td>\n",
       "      <td>Computers</td>\n",
       "      <td>Razer Basilisk Ultimate HyperSpeed Wireless Ga...</td>\n",
       "      <td>[With a high-speed transmission, extremely low...</td>\n",
       "      <td>[Video Games, PC, Accessories, Gaming Mice]</td>\n",
       "      <td>None</td>\n",
       "    </tr>\n",
       "    <tr>\n",
       "      <th>70</th>\n",
       "      <td>AETZPD7JKD42GBVYXBYPGOY4NF6Q</td>\n",
       "      <td>B09QVJDVHN</td>\n",
       "      <td>5.0</td>\n",
       "      <td>2022-07-08 19:13:28.232</td>\n",
       "      <td>Computers</td>\n",
       "      <td>Redragon K552 Mechanical Gaming Keyboard RGB L...</td>\n",
       "      <td>[Redragon K552 Pro KUMARA 87 Key RGB LED Backl...</td>\n",
       "      <td>[Video Games, PC, Accessories, Gaming Keyboards]</td>\n",
       "      <td>48.99</td>\n",
       "    </tr>\n",
       "    <tr>\n",
       "      <th>71</th>\n",
       "      <td>AEVNAGOLV5MAGEPCCTT6ADCGNFWA</td>\n",
       "      <td>B08DF248LD</td>\n",
       "      <td>3.0</td>\n",
       "      <td>2022-07-08 05:07:25.394</td>\n",
       "      <td>Video Games</td>\n",
       "      <td>Xbox Core Wireless Controller – Carbon Black</td>\n",
       "      <td>[Experience the modernized design of the Xbox ...</td>\n",
       "      <td>[]</td>\n",
       "      <td>45.5</td>\n",
       "    </tr>\n",
       "    <tr>\n",
       "      <th>72</th>\n",
       "      <td>AGMNHX4YCSY3BJTLDALLPD5XEYTA</td>\n",
       "      <td>B07WSHTJ48</td>\n",
       "      <td>3.0</td>\n",
       "      <td>2022-07-01 00:34:15.608</td>\n",
       "      <td>Computers</td>\n",
       "      <td>Redragon S101 Gaming Keyboard, M601 Mouse, RGB...</td>\n",
       "      <td>[]</td>\n",
       "      <td>[Video Games, PC, Accessories, Gaming Keyboards]</td>\n",
       "      <td>39.99</td>\n",
       "    </tr>\n",
       "    <tr>\n",
       "      <th>73</th>\n",
       "      <td>AEV5TZDZQEP24PM3SZ7SNV4TR26Q</td>\n",
       "      <td>B01N3ASPNV</td>\n",
       "      <td>5.0</td>\n",
       "      <td>2022-06-17 07:42:54.083</td>\n",
       "      <td>All Electronics</td>\n",
       "      <td>amFilm Tempered Glass Screen Protector for Nin...</td>\n",
       "      <td>[]</td>\n",
       "      <td>[Video Games, Nintendo Switch, Accessories, Fa...</td>\n",
       "      <td>8.91</td>\n",
       "    </tr>\n",
       "  </tbody>\n",
       "</table>\n",
       "<p>74 rows × 9 columns</p>\n",
       "</div>"
      ],
      "text/plain": [
       "                         user_id parent_asin  rating               timestamp  \\\n",
       "0   AHLBT2RDWYQWN5O2XNBNX2JPWVZA  B08NYV2VLS     4.0 2022-07-08 18:26:28.360   \n",
       "1   AHLBT2RDWYQWN5O2XNBNX2JPWVZA  B00KWIYPZG     5.0 2022-07-08 18:27:49.294   \n",
       "2   AF5NKVKUZGRPBR7HAYYDUS25RGRQ  B0BKRXQ5GL     3.0 2022-07-06 12:14:32.366   \n",
       "3   AGGRGJRYYYWAL7V5M4RG4VFKL3HA  B07BGYLS1L     5.0 2022-06-25 20:06:42.077   \n",
       "4   AEKEN3WITS4ZEJ7ZIISGJDZYJB3Q  B0BH1ZL3G9     5.0 2022-06-16 19:54:29.703   \n",
       "..                           ...         ...     ...                     ...   \n",
       "69  AETZPD7JKD42GBVYXBYPGOY4NF6Q  B09B35J159     4.0 2022-07-08 19:10:11.311   \n",
       "70  AETZPD7JKD42GBVYXBYPGOY4NF6Q  B09QVJDVHN     5.0 2022-07-08 19:13:28.232   \n",
       "71  AEVNAGOLV5MAGEPCCTT6ADCGNFWA  B08DF248LD     3.0 2022-07-08 05:07:25.394   \n",
       "72  AGMNHX4YCSY3BJTLDALLPD5XEYTA  B07WSHTJ48     3.0 2022-07-01 00:34:15.608   \n",
       "73  AEV5TZDZQEP24PM3SZ7SNV4TR26Q  B01N3ASPNV     5.0 2022-06-17 07:42:54.083   \n",
       "\n",
       "      main_category                                              title  \\\n",
       "0       Video Games     Story of Seasons: Trio of Towns - Nintendo 3DS   \n",
       "1       Video Games                                 Fantasy Life - 3DS   \n",
       "2         Computers  Logitech G Logitech G935 Over Ear Wireless Hea...   \n",
       "3       Video Games               Shadow of the Tomb Raider - Xbox One   \n",
       "4         Computers  Hipshotdot PRO Color and Brightness Control Do...   \n",
       "..              ...                                                ...   \n",
       "69        Computers  Razer Basilisk Ultimate HyperSpeed Wireless Ga...   \n",
       "70        Computers  Redragon K552 Mechanical Gaming Keyboard RGB L...   \n",
       "71      Video Games       Xbox Core Wireless Controller – Carbon Black   \n",
       "72        Computers  Redragon S101 Gaming Keyboard, M601 Mouse, RGB...   \n",
       "73  All Electronics  amFilm Tempered Glass Screen Protector for Nin...   \n",
       "\n",
       "                                          description  \\\n",
       "0   [STORY OF SEASONS: Trio of Towns is a fresh ne...   \n",
       "1   [Embark on a Journey that Lets You Build Your ...   \n",
       "2   [Logitech G935 Wireless DTS:X 7.1 Surround Sou...   \n",
       "3   [Experience Lara croft's defining moment as sh...   \n",
       "4   [The HipShotDot is the gaming industry’s first...   \n",
       "..                                                ...   \n",
       "69  [With a high-speed transmission, extremely low...   \n",
       "70  [Redragon K552 Pro KUMARA 87 Key RGB LED Backl...   \n",
       "71  [Experience the modernized design of the Xbox ...   \n",
       "72                                                 []   \n",
       "73                                                 []   \n",
       "\n",
       "                                           categories   price  \n",
       "0   [Video Games, Legacy Systems, Nintendo Systems...    None  \n",
       "1   [Video Games, Legacy Systems, Nintendo Systems...   96.65  \n",
       "2            [Video Games, PC, Accessories, Headsets]  153.98  \n",
       "3                      [Video Games, Xbox One, Games]    14.8  \n",
       "4   [Video Games, PC, Accessories, Controllers, Ga...   22.99  \n",
       "..                                                ...     ...  \n",
       "69        [Video Games, PC, Accessories, Gaming Mice]    None  \n",
       "70   [Video Games, PC, Accessories, Gaming Keyboards]   48.99  \n",
       "71                                                 []    45.5  \n",
       "72   [Video Games, PC, Accessories, Gaming Keyboards]   39.99  \n",
       "73  [Video Games, Nintendo Switch, Accessories, Fa...    8.91  \n",
       "\n",
       "[74 rows x 9 columns]"
      ]
     },
     "execution_count": 3,
     "metadata": {},
     "output_type": "execute_result"
    }
   ],
   "source": [
    "holdout_df = pd.read_parquet(args.holdout_fp).assign(\n",
    "    description=lambda df: df[\"description\"].apply(list),\n",
    "    categories=lambda df: df[\"categories\"].apply(list),\n",
    ")\n",
    "holdout_df"
   ]
  },
  {
   "cell_type": "markdown",
   "id": "05a11b0f-3f24-45cf-b3d1-4ecdaa9a8bfb",
   "metadata": {},
   "source": [
    "# Remove holdout data from OLTP"
   ]
  },
  {
   "cell_type": "code",
   "execution_count": 4,
   "id": "8403b919-ecf6-4dc9-93ad-c012ec3c98d1",
   "metadata": {},
   "outputs": [],
   "source": [
    "# PostgreSQL connection details\n",
    "username = os.getenv(\"POSTGRES_USER\")\n",
    "password = os.getenv(\"POSTGRES_PASSWORD\")\n",
    "host = os.getenv(\"POSTGRES_HOST\")\n",
    "port = os.getenv(\"POSTGRES_PORT\")\n",
    "database = os.getenv(\"POSTGRES_DB\")\n",
    "schema = os.getenv(\"POSTGRES_OLTP_SCHEMA\")\n",
    "\n",
    "# Create a connection string and engine outside the function\n",
    "connection_string = f\"postgresql://{username}:{password}@{host}:{port}/{database}\"\n",
    "engine = create_engine(connection_string)"
   ]
  },
  {
   "cell_type": "code",
   "execution_count": 5,
   "id": "7e521759-b8c0-4076-8d03-76925e9f7530",
   "metadata": {},
   "outputs": [],
   "source": [
    "def get_curr_oltp_max_timestamp():\n",
    "    query = f\"select max(timestamp) as max_timestamp from {schema}.{args.table_name};\"\n",
    "    return pd.read_sql(query, engine)[\"max_timestamp\"].iloc[0]"
   ]
  },
  {
   "cell_type": "code",
   "execution_count": 6,
   "id": "165afc87-b1dd-4241-bf37-072a4aef83f3",
   "metadata": {},
   "outputs": [],
   "source": [
    "assert get_curr_oltp_max_timestamp() == holdout_df[\"timestamp\"].max()"
   ]
  },
  {
   "cell_type": "code",
   "execution_count": 7,
   "id": "06053c95-859e-481e-90c9-bebf92754e42",
   "metadata": {},
   "outputs": [
    {
     "name": "stderr",
     "output_type": "stream",
     "text": [
      "\u001b[32m2024-10-14 00:43:14.939\u001b[0m | \u001b[1mINFO    \u001b[0m | \u001b[36m__main__\u001b[0m:\u001b[36m<module>\u001b[0m:\u001b[36m9\u001b[0m - \u001b[1mDeleted 74 rows\u001b[0m\n"
     ]
    }
   ],
   "source": [
    "from sqlalchemy import text\n",
    "\n",
    "delete_query = f\"DELETE FROM {schema}.{args.table_name} WHERE timestamp >= :timestamp;\"\n",
    "min_timestamp = holdout_df['timestamp'].min().strftime('%Y-%m-%d')\n",
    "\n",
    "with engine.connect() as connection:\n",
    "    with connection.begin():\n",
    "        result = connection.execute(text(delete_query), {'timestamp': min_timestamp})\n",
    "        logger.info(f\"Deleted {result.rowcount} rows\")"
   ]
  },
  {
   "cell_type": "code",
   "execution_count": 8,
   "id": "b3d23535-6aa1-462e-9402-96b156870067",
   "metadata": {},
   "outputs": [],
   "source": [
    "assert get_curr_oltp_max_timestamp() < holdout_df[\"timestamp\"].min()"
   ]
  },
  {
   "cell_type": "code",
   "execution_count": null,
   "id": "594e7f87-f079-4fee-861f-629e963d6428",
   "metadata": {},
   "outputs": [],
   "source": []
  }
 ],
 "metadata": {
  "kernelspec": {
   "display_name": "Python 3 (ipykernel)",
   "language": "python",
   "name": "python3"
  },
  "language_info": {
   "codemirror_mode": {
    "name": "ipython",
    "version": 3
   },
   "file_extension": ".py",
   "mimetype": "text/x-python",
   "name": "python",
   "nbconvert_exporter": "python",
   "pygments_lexer": "ipython3",
   "version": "3.11.9"
  }
 },
 "nbformat": 4,
 "nbformat_minor": 5
}
