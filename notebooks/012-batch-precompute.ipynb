{
 "cells": [
  {
   "cell_type": "markdown",
   "id": "bfd48465-69da-444e-88e5-1a6e5b2ab7ba",
   "metadata": {
    "editable": true,
    "slideshow": {
     "slide_type": ""
    },
    "tags": []
   },
   "source": [
    "# Batch pre-computed recommendations"
   ]
  },
  {
   "cell_type": "markdown",
   "id": "c33ddf23-fa66-4dec-ba18-5fed4da95ac3",
   "metadata": {},
   "source": [
    "# Set up"
   ]
  },
  {
   "cell_type": "code",
   "execution_count": 1,
   "id": "1b5115a4-412c-4b98-90ed-7897bb7faea2",
   "metadata": {},
   "outputs": [],
   "source": [
    "%load_ext autoreload\n",
    "%autoreload 2"
   ]
  },
  {
   "cell_type": "code",
   "execution_count": 2,
   "id": "a2514682-a204-4c73-9080-9c754000c58e",
   "metadata": {
    "editable": true,
    "scrolled": true,
    "slideshow": {
     "slide_type": ""
    },
    "tags": []
   },
   "outputs": [],
   "source": [
    "import json\n",
    "import os\n",
    "import sys\n",
    "\n",
    "import mlflow\n",
    "import torch\n",
    "from dotenv import load_dotenv\n",
    "from loguru import logger\n",
    "from pydantic import BaseModel\n",
    "from tqdm.auto import tqdm\n",
    "\n",
    "load_dotenv()\n",
    "\n",
    "sys.path.insert(0, \"..\")\n",
    "\n",
    "from src.vector_search import FaissNN"
   ]
  },
  {
   "cell_type": "markdown",
   "id": "b8c55119-43d0-43b1-9959-83d6cb1f7c83",
   "metadata": {},
   "source": [
    "# Controller"
   ]
  },
  {
   "cell_type": "code",
   "execution_count": 3,
   "id": "88d96f2c-b77a-4187-9702-abfc5414dc21",
   "metadata": {
    "editable": true,
    "scrolled": true,
    "slideshow": {
     "slide_type": ""
    },
    "tags": []
   },
   "outputs": [
    {
     "name": "stdout",
     "output_type": "stream",
     "text": [
      "{\n",
      "  \"testing\": false,\n",
      "  \"run_name\": \"000-first-attempt\",\n",
      "  \"notebook_persist_dp\": \"/Users/quy.dinh/frostmourne/recsys-mvp/notebooks/data/000-first-attempt\",\n",
      "  \"random_seed\": 41,\n",
      "  \"device\": null,\n",
      "  \"top_K\": 100,\n",
      "  \"top_k\": 10,\n",
      "  \"embedding_dim\": 128,\n",
      "  \"mlf_model_name\": \"item2vec\",\n",
      "  \"batch_recs_fp\": \"/Users/quy.dinh/frostmourne/recsys-mvp/notebooks/data/000-first-attempt/batch_recs.jsonl\"\n",
      "}\n"
     ]
    }
   ],
   "source": [
    "class Args(BaseModel):\n",
    "    testing: bool = False\n",
    "    run_name: str = \"000-first-attempt\"\n",
    "    notebook_persist_dp: str = None\n",
    "    random_seed: int = 41\n",
    "    device: str = None\n",
    "\n",
    "    top_K: int = 100\n",
    "    top_k: int = 10\n",
    "\n",
    "    embedding_dim: int = 128\n",
    "\n",
    "    mlf_model_name: str = \"item2vec\"\n",
    "\n",
    "    batch_recs_fp: str = None\n",
    "\n",
    "    def init(self):\n",
    "        self.notebook_persist_dp = os.path.abspath(f\"data/{self.run_name}\")\n",
    "        os.makedirs(self.notebook_persist_dp, exist_ok=True)\n",
    "        self.batch_recs_fp = f\"{self.notebook_persist_dp}/batch_recs.jsonl\"\n",
    "\n",
    "        return self\n",
    "\n",
    "\n",
    "args = Args().init()\n",
    "\n",
    "print(args.model_dump_json(indent=2))"
   ]
  },
  {
   "cell_type": "markdown",
   "id": "dcaf8759-f561-44e4-bfbf-5d4851755076",
   "metadata": {},
   "source": [
    "# Load model"
   ]
  },
  {
   "cell_type": "code",
   "execution_count": 4,
   "id": "c8baa457-d600-4e44-99b4-a37baf06357d",
   "metadata": {},
   "outputs": [],
   "source": [
    "mlf_client = mlflow.MlflowClient()"
   ]
  },
  {
   "cell_type": "code",
   "execution_count": 5,
   "id": "5f912672-f730-4555-b9ad-cb1da6cb3558",
   "metadata": {
    "scrolled": true
   },
   "outputs": [
    {
     "data": {
      "application/vnd.jupyter.widget-view+json": {
       "model_id": "60b321e4be0d4dbba082d4c7c8ef521e",
       "version_major": 2,
       "version_minor": 0
      },
      "text/plain": [
       "Downloading artifacts:   0%|          | 0/8 [00:00<?, ?it/s]"
      ]
     },
     "metadata": {},
     "output_type": "display_data"
    },
    {
     "name": "stderr",
     "output_type": "stream",
     "text": [
      "2024/10/10 11:48:23 WARNING mlflow.utils.requirements_utils: Detected one or more mismatches between the model's dependencies and the current Python environment:\n",
      " - numpy (current: 1.26.4, required: numpy==2.0.2)\n",
      "To fix the mismatches, call `mlflow.pyfunc.get_model_dependencies(model_uri)` to fetch the model's environment and install dependencies using the resulting environment file.\n"
     ]
    }
   ],
   "source": [
    "model = mlflow.pyfunc.load_model(model_uri=f\"models:/{args.mlf_model_name}@champion\")"
   ]
  },
  {
   "cell_type": "code",
   "execution_count": 6,
   "id": "ed8b1e20-4475-44ea-8c39-7ef21b2f7832",
   "metadata": {
    "scrolled": true
   },
   "outputs": [],
   "source": [
    "run_id = model.metadata.run_id\n",
    "run_info = mlf_client.get_run(run_id).info\n",
    "artifact_uri = run_info.artifact_uri"
   ]
  },
  {
   "cell_type": "code",
   "execution_count": 7,
   "id": "5d1efb31-5261-4cd8-b128-3ede0ab4329b",
   "metadata": {
    "scrolled": true
   },
   "outputs": [
    {
     "data": {
      "application/vnd.jupyter.widget-view+json": {
       "model_id": "57499f3c56b04a1ebee1bb3d9f2435cd",
       "version_major": 2,
       "version_minor": 0
      },
      "text/plain": [
       "Downloading artifacts:   0%|          | 0/1 [00:00<?, ?it/s]"
      ]
     },
     "metadata": {},
     "output_type": "display_data"
    },
    {
     "data": {
      "text/plain": [
       "{'item_1_ids': ['B01GHSPTKY'], 'item_2_ids': ['B01NCVU39G']}"
      ]
     },
     "execution_count": 7,
     "metadata": {},
     "output_type": "execute_result"
    }
   ],
   "source": [
    "sample_input = mlflow.artifacts.load_dict(f\"{artifact_uri}/inferrer/input_example.json\")\n",
    "sample_input"
   ]
  },
  {
   "cell_type": "code",
   "execution_count": 8,
   "id": "b25b2cf9-1f32-4cc5-b18a-f88800e0ef5b",
   "metadata": {},
   "outputs": [
    {
     "data": {
      "text/plain": [
       "{'item_1_ids': ['B01GHSPTKY'],\n",
       " 'item_2_ids': ['B01NCVU39G'],\n",
       " 'scores': [0.5856391787528992]}"
      ]
     },
     "execution_count": 8,
     "metadata": {},
     "output_type": "execute_result"
    }
   ],
   "source": [
    "prediction = model.predict(sample_input)\n",
    "prediction"
   ]
  },
  {
   "cell_type": "markdown",
   "id": "c9598fde-95fe-4456-b96c-c36d80414ace",
   "metadata": {},
   "source": [
    "# Batch computing"
   ]
  },
  {
   "cell_type": "markdown",
   "id": "b520e4e5-d4ff-4546-a8eb-a5fffdbde264",
   "metadata": {},
   "source": [
    "## ANN Search"
   ]
  },
  {
   "cell_type": "code",
   "execution_count": 9,
   "id": "927f5967-afef-4cb6-b09c-4525fd968b77",
   "metadata": {},
   "outputs": [
    {
     "data": {
      "text/plain": [
       "tensor([ 0.0724, -0.0767, -0.2191, -0.0854,  0.1054,  0.0132,  0.2014,  0.0446,\n",
       "         0.2218,  0.1166, -0.0863, -0.0153,  0.1844,  0.1532, -0.1622, -0.0426,\n",
       "        -0.1159,  0.0284, -0.0267, -0.0918, -0.0736, -0.2850,  0.0148,  0.0548,\n",
       "        -0.1175,  0.0228, -0.0305,  0.1196,  0.0668,  0.2331,  0.0125,  0.2259,\n",
       "        -0.1539, -0.1171,  0.0529,  0.0086,  0.1421,  0.0833, -0.0282,  0.0463,\n",
       "         0.2397, -0.1958,  0.0900,  0.0121, -0.1647,  0.0359, -0.0999, -0.0860,\n",
       "        -0.1510, -0.0784,  0.1169,  0.0210, -0.0281, -0.2030,  0.1205,  0.0319,\n",
       "         0.0391,  0.0203, -0.2670,  0.1198,  0.0642, -0.1847,  0.0349, -0.0252,\n",
       "        -0.0111, -0.0141, -0.2085, -0.0684,  0.0729,  0.2131,  0.0927,  0.0009,\n",
       "        -0.2403,  0.0962, -0.1512, -0.1278, -0.1753, -0.2403, -0.0523,  0.0561,\n",
       "        -0.0912, -0.3289,  0.0077,  0.3224,  0.0307,  0.2757,  0.1016,  0.0132,\n",
       "         0.0538, -0.0318, -0.1471,  0.0210, -0.0053, -0.0749, -0.0878,  0.3513,\n",
       "         0.0126,  0.0269,  0.0617, -0.0216, -0.0246,  0.0505, -0.0259, -0.1382,\n",
       "         0.1862, -0.1474, -0.1070,  0.0396, -0.0368,  0.0915, -0.0870, -0.1507,\n",
       "        -0.0019, -0.2567, -0.1669, -0.0867, -0.2606, -0.2110,  0.2129,  0.0074,\n",
       "         0.0204,  0.0855, -0.1762,  0.3279, -0.0845,  0.0702, -0.0528, -0.0759],\n",
       "       grad_fn=<EmbeddingBackward0>)"
      ]
     },
     "execution_count": 9,
     "metadata": {},
     "output_type": "execute_result"
    }
   ],
   "source": [
    "skipgram_model = model.unwrap_python_model().model\n",
    "embedding_0 = skipgram_model.embeddings(torch.tensor(0))\n",
    "embedding_dim = embedding_0.size()[0]\n",
    "embedding_0"
   ]
  },
  {
   "cell_type": "code",
   "execution_count": 10,
   "id": "c20eeb2b-69d9-4397-9af1-a4ad270af731",
   "metadata": {
    "scrolled": true
   },
   "outputs": [
    {
     "data": {
      "text/plain": [
       "[0, 1, 2, 3, 4]"
      ]
     },
     "execution_count": 10,
     "metadata": {},
     "output_type": "execute_result"
    }
   ],
   "source": [
    "id_mapping = model.unwrap_python_model().id_mapping\n",
    "all_items = list(id_mapping[\"id_to_idx\"].values())\n",
    "all_items[:5]"
   ]
  },
  {
   "cell_type": "code",
   "execution_count": 11,
   "id": "abcc2d78-0da2-4ece-acc8-7bc860aa27da",
   "metadata": {},
   "outputs": [
    {
     "data": {
      "text/plain": [
       "array([[ 0.07242306, -0.07665822, -0.2190716 , ...,  0.07018692,\n",
       "        -0.05276525, -0.07587786],\n",
       "       [ 0.00143831, -0.07414407,  0.12090597, ...,  0.20651591,\n",
       "         0.09309984,  0.34579048],\n",
       "       [-0.14465706, -0.0803016 , -0.10050222, ..., -0.3577661 ,\n",
       "         0.05050609,  0.22170302],\n",
       "       ...,\n",
       "       [-0.09108083,  0.03409648,  0.14109258, ...,  0.11506427,\n",
       "        -0.17595527, -0.00111264],\n",
       "       [-0.09865314,  0.14300263,  0.00952864, ...,  0.19733563,\n",
       "        -0.12019644,  0.13168813],\n",
       "       [ 0.06380922,  0.22691512, -0.03605513, ..., -0.15583682,\n",
       "         0.4130729 , -0.3798564 ]], dtype=float32)"
      ]
     },
     "execution_count": 11,
     "metadata": {},
     "output_type": "execute_result"
    }
   ],
   "source": [
    "embeddings = skipgram_model.embeddings(torch.tensor(all_items)).detach().numpy()\n",
    "embeddings"
   ]
  },
  {
   "cell_type": "code",
   "execution_count": 12,
   "id": "cff4e7cb-1854-466e-8c16-6f418a338b5d",
   "metadata": {},
   "outputs": [],
   "source": [
    "nn_search = FaissNN(\n",
    "    embedding_dim=embedding_dim,\n",
    "    use_gpu=False,  # TODO: Install faiss-gpu on Mac to make use of GPU\n",
    "    metric=\"L2\",\n",
    ")\n",
    "\n",
    "nn_search.add_embeddings(embeddings)"
   ]
  },
  {
   "cell_type": "code",
   "execution_count": 13,
   "id": "3e3f0e73-4caa-4d5a-ade3-6781461f3046",
   "metadata": {},
   "outputs": [
    {
     "name": "stdout",
     "output_type": "stream",
     "text": [
      "Nearest neighbors (indices): [[   0 2581 1029 2051  215 1921 4526 2223  973 2023]]\n",
      "Distances: [[0.        2.3501468 2.3908849 2.39777   2.459336  2.4745297 2.5172043\n",
      "  2.5510547 2.572996  2.5938916]]\n"
     ]
    },
    {
     "data": {
      "text/plain": [
       "tensor([0.9105, 0.7186, 0.8135, 0.6648, 0.7467, 0.6255, 0.6438, 0.6674, 0.7374,\n",
       "        0.7704], grad_fn=<SigmoidBackward0>)"
      ]
     },
     "execution_count": 13,
     "metadata": {},
     "output_type": "execute_result"
    }
   ],
   "source": [
    "item_indice = 0\n",
    "\n",
    "query_embedding = embeddings[item_indice]\n",
    "distances, indices = nn_search.search(query_embedding, k=args.top_k)\n",
    "\n",
    "print(\"Nearest neighbors (indices):\", indices)\n",
    "print(\"Distances:\", distances)\n",
    "\n",
    "skipgram_model(torch.tensor([item_indice] * args.top_k), torch.tensor(indices[0]))"
   ]
  },
  {
   "cell_type": "markdown",
   "id": "eb07aada-ae45-4f06-a82f-fd07b3279d52",
   "metadata": {},
   "source": [
    "## Predict for all items"
   ]
  },
  {
   "cell_type": "code",
   "execution_count": 14,
   "id": "f2357958-afb5-4de7-85f0-cbca9567c15f",
   "metadata": {
    "scrolled": true
   },
   "outputs": [
    {
     "data": {
      "application/vnd.jupyter.widget-view+json": {
       "model_id": "e0977c911cf24504ab859f443b93279d",
       "version_major": 2,
       "version_minor": 0
      },
      "text/plain": [
       "  0%|          | 0/4630 [00:00<?, ?it/s]"
      ]
     },
     "metadata": {},
     "output_type": "display_data"
    }
   ],
   "source": [
    "recs = []\n",
    "for indice in tqdm(all_items):\n",
    "    query_embedding = embeddings[indice]\n",
    "    _, neighbors = nn_search.search(query_embedding, k=args.top_K + 1)\n",
    "    neighbors = neighbors[0]\n",
    "    # Remove self-recommendation\n",
    "    neighbors = [neighbor for neighbor in neighbors if neighbor != indice]\n",
    "    scores = (\n",
    "        skipgram_model(torch.tensor([indice] * len(neighbors)), torch.tensor(neighbors))\n",
    "        .detach()\n",
    "        .numpy()\n",
    "        .astype(float)\n",
    "    )\n",
    "    neighbors, scores = zip(\n",
    "        *sorted(zip(neighbors, scores), key=lambda x: x[1], reverse=True)\n",
    "    )\n",
    "    neighbor_ids = [id_mapping[\"idx_to_id\"][str(idx)] for idx in neighbors]\n",
    "    id_ = id_mapping[\"idx_to_id\"][str(indice)]\n",
    "    recs.append(\n",
    "        {\"target_item\": id_, \"rec_item_ids\": neighbor_ids, \"rec_scores\": list(scores)}\n",
    "    )"
   ]
  },
  {
   "cell_type": "code",
   "execution_count": 15,
   "id": "d4560dd9-2858-4a67-a1d3-1d7ff6e3268a",
   "metadata": {
    "scrolled": true
   },
   "outputs": [
    {
     "data": {
      "text/plain": [
       "{'target_item': 'B01GHSPTKY',\n",
       " 'rec_item_ids': ['B000GHLBUA',\n",
       "  'B01JUEWS4W',\n",
       "  'B00ANHBGZ8',\n",
       "  'B00002SVFM',\n",
       "  'B00ECOGM52',\n",
       "  'B008FPMBNG',\n",
       "  'B002JTX7FK',\n",
       "  'B000PT18OS',\n",
       "  'B0015PHMFU',\n",
       "  'B0002ST1YQ',\n",
       "  'B016HQZDCA',\n",
       "  'B002I0EPBA',\n",
       "  'B00BALK9CM',\n",
       "  'B07D19QQHW',\n",
       "  'B00HPU96FI',\n",
       "  'B0083CJ2X8',\n",
       "  'B005WMIR4C',\n",
       "  'B002PXRXNW',\n",
       "  'B0116BBW5S',\n",
       "  'B00M37WR90',\n",
       "  'B07GM5MP6M',\n",
       "  'B0BJ6SBBSJ',\n",
       "  'B07M8ZXQR6',\n",
       "  'B01KUAMCWI',\n",
       "  'B08V86DS42',\n",
       "  'B07KF1FB1F',\n",
       "  'B004ZX75AQ',\n",
       "  'B000KQQUMQ',\n",
       "  'B00M7ZIZGC',\n",
       "  'B002BSC5CU',\n",
       "  'B07TV96Q4Z',\n",
       "  'B001262U54',\n",
       "  'B086HMFYFD',\n",
       "  'B001EYUWDG',\n",
       "  'B00ZGDSFHG',\n",
       "  'B013E2KD5M',\n",
       "  'B07V3G6C1F',\n",
       "  'B078YQH6DB',\n",
       "  'B0C8M4WSYB',\n",
       "  'B00004YC3N',\n",
       "  'B00HS7LJ2G',\n",
       "  'B00005B9ZG',\n",
       "  'B003QCJLQI',\n",
       "  'B01FZ884E0',\n",
       "  'B074RNL1RX',\n",
       "  'B00008KU9T',\n",
       "  'B09VYJWTDN',\n",
       "  'B0007WWYLY',\n",
       "  'B0001XMA6I',\n",
       "  'B0BN3JZ8PX',\n",
       "  'B007VYW3US',\n",
       "  'B077SN7QN3',\n",
       "  'B017VLXJ7G',\n",
       "  'B00005J53A',\n",
       "  'B004WLRR4K',\n",
       "  'B078YBBR3X',\n",
       "  'B00004TN9O',\n",
       "  'B009AFLXJS',\n",
       "  'B00004TBGT',\n",
       "  'B00DULUI0S',\n",
       "  'B00K85X1TE',\n",
       "  'B07H9NSBH3',\n",
       "  'B00005KBRD',\n",
       "  'B001EYUNMG',\n",
       "  'B00634MLMW',\n",
       "  'B003DSAT0C',\n",
       "  'B00QV3ZC44',\n",
       "  'B001ELJPSW',\n",
       "  'B01N6ZNSUQ',\n",
       "  'B0002I0UIC',\n",
       "  'B00UH9DN58',\n",
       "  'B07G3Y68KR',\n",
       "  'B06Y6DC1R2',\n",
       "  'B003UI518U',\n",
       "  'B000035Y2Q',\n",
       "  'B07FLTG5LK',\n",
       "  'B001EYUNV2',\n",
       "  'B006BZ1PCA',\n",
       "  'B003ELPQJM',\n",
       "  'B08LZ5STF6',\n",
       "  'B075MZT541',\n",
       "  'B0C8BLQZFD',\n",
       "  'B0B99ZJCNC',\n",
       "  'B00005ATSM',\n",
       "  'B001G7PRK4',\n",
       "  'B071Z8ZTJ8',\n",
       "  'B01GVE4ZXQ',\n",
       "  'B00IZXXF92',\n",
       "  'B071GCLQZP',\n",
       "  'B001EYUTMA',\n",
       "  'B0BJKR3LJJ',\n",
       "  'B002JTX9GC',\n",
       "  'B005QWYKOE',\n",
       "  'B09TY683ZS',\n",
       "  'B07P27XFP7',\n",
       "  'B00005M8TL',\n",
       "  'B0181R6WUA',\n",
       "  'B01MSYK947',\n",
       "  'B00004WKHO',\n",
       "  'B07867YHBS'],\n",
       " 'rec_scores': [0.8134655952453613,\n",
       "  0.8023692965507507,\n",
       "  0.7867134809494019,\n",
       "  0.7772185802459717,\n",
       "  0.7726601958274841,\n",
       "  0.7703948020935059,\n",
       "  0.7653430700302124,\n",
       "  0.7653026580810547,\n",
       "  0.76358562707901,\n",
       "  0.7631730437278748,\n",
       "  0.7594457864761353,\n",
       "  0.7574400901794434,\n",
       "  0.7538694143295288,\n",
       "  0.7528671026229858,\n",
       "  0.7495885491371155,\n",
       "  0.746695339679718,\n",
       "  0.744247555732727,\n",
       "  0.7416432499885559,\n",
       "  0.7398388385772705,\n",
       "  0.7391239404678345,\n",
       "  0.7375156879425049,\n",
       "  0.7373625636100769,\n",
       "  0.7358991503715515,\n",
       "  0.7346615195274353,\n",
       "  0.7316098809242249,\n",
       "  0.7306393384933472,\n",
       "  0.7295600175857544,\n",
       "  0.7274312973022461,\n",
       "  0.7273611426353455,\n",
       "  0.7268503904342651,\n",
       "  0.7241345047950745,\n",
       "  0.7224112749099731,\n",
       "  0.7218895554542542,\n",
       "  0.7217403054237366,\n",
       "  0.7211675643920898,\n",
       "  0.7186468243598938,\n",
       "  0.7185511589050293,\n",
       "  0.7183807492256165,\n",
       "  0.7178793549537659,\n",
       "  0.7160167098045349,\n",
       "  0.7147679328918457,\n",
       "  0.713526725769043,\n",
       "  0.7103177309036255,\n",
       "  0.7046892046928406,\n",
       "  0.703872561454773,\n",
       "  0.7000755667686462,\n",
       "  0.6998021602630615,\n",
       "  0.6972115635871887,\n",
       "  0.6955062747001648,\n",
       "  0.6943274140357971,\n",
       "  0.6941283345222473,\n",
       "  0.6900643110275269,\n",
       "  0.6892017722129822,\n",
       "  0.688863217830658,\n",
       "  0.6881234645843506,\n",
       "  0.6881037950515747,\n",
       "  0.6873422861099243,\n",
       "  0.6869084239006042,\n",
       "  0.6855652928352356,\n",
       "  0.6843727827072144,\n",
       "  0.6816922426223755,\n",
       "  0.681175708770752,\n",
       "  0.6811015009880066,\n",
       "  0.6806533932685852,\n",
       "  0.6765663623809814,\n",
       "  0.6761325597763062,\n",
       "  0.6759875416755676,\n",
       "  0.6739819049835205,\n",
       "  0.6719442009925842,\n",
       "  0.6689680218696594,\n",
       "  0.6676437258720398,\n",
       "  0.6674090027809143,\n",
       "  0.664838969707489,\n",
       "  0.6621792912483215,\n",
       "  0.6620727181434631,\n",
       "  0.6614395380020142,\n",
       "  0.6519191861152649,\n",
       "  0.6495698094367981,\n",
       "  0.6490671038627625,\n",
       "  0.6443880200386047,\n",
       "  0.6438377499580383,\n",
       "  0.6403859853744507,\n",
       "  0.638588547706604,\n",
       "  0.6381298899650574,\n",
       "  0.6316998600959778,\n",
       "  0.6316092014312744,\n",
       "  0.6312666535377502,\n",
       "  0.6298233270645142,\n",
       "  0.6289433836936951,\n",
       "  0.6262803673744202,\n",
       "  0.625492513179779,\n",
       "  0.6252988576889038,\n",
       "  0.6217032074928284,\n",
       "  0.6134350895881653,\n",
       "  0.609548032283783,\n",
       "  0.5903106927871704,\n",
       "  0.5883640050888062,\n",
       "  0.5856974124908447,\n",
       "  0.5808390974998474,\n",
       "  0.5597705245018005]}"
      ]
     },
     "execution_count": 15,
     "metadata": {},
     "output_type": "execute_result"
    }
   ],
   "source": [
    "recs[0]"
   ]
  },
  {
   "cell_type": "markdown",
   "id": "71a9a2fb-a4a9-4cc2-9ba4-d6776c533e71",
   "metadata": {},
   "source": [
    "# Persist"
   ]
  },
  {
   "cell_type": "code",
   "execution_count": 16,
   "id": "80a0def9-2790-4518-b622-8df3c4d5cbe6",
   "metadata": {},
   "outputs": [
    {
     "name": "stderr",
     "output_type": "stream",
     "text": [
      "\u001b[32m2024-10-10 11:48:24.641\u001b[0m | \u001b[1mINFO    \u001b[0m | \u001b[36m__main__\u001b[0m:\u001b[36m<module>\u001b[0m:\u001b[36m1\u001b[0m - \u001b[1mSaving batch recs output to /Users/quy.dinh/frostmourne/recsys-mvp/notebooks/data/000-first-attempt/batch_recs.jsonl...\u001b[0m\n"
     ]
    }
   ],
   "source": [
    "logger.info(f\"Saving batch recs output to {args.batch_recs_fp}...\")\n",
    "with open(args.batch_recs_fp, \"w\") as f:\n",
    "    for rec in recs:\n",
    "        f.write(json.dumps(rec) + \"\\n\")"
   ]
  },
  {
   "cell_type": "code",
   "execution_count": null,
   "id": "868695d4-0cd5-4af8-bad2-21b341c9f929",
   "metadata": {
    "editable": true,
    "slideshow": {
     "slide_type": ""
    },
    "tags": []
   },
   "outputs": [],
   "source": []
  }
 ],
 "metadata": {
  "kernelspec": {
   "display_name": "Python 3 (ipykernel)",
   "language": "python",
   "name": "python3"
  },
  "language_info": {
   "codemirror_mode": {
    "name": "ipython",
    "version": 3
   },
   "file_extension": ".py",
   "mimetype": "text/x-python",
   "name": "python",
   "nbconvert_exporter": "python",
   "pygments_lexer": "ipython3",
   "version": "3.11.9"
  }
 },
 "nbformat": 4,
 "nbformat_minor": 5
}
