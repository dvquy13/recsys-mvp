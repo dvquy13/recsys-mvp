{
 "cells": [
  {
   "cell_type": "markdown",
   "id": "7f363b5b-ec6e-4366-8e08-19750c7800e3",
   "metadata": {
    "editable": true,
    "slideshow": {
     "slide_type": ""
    },
    "tags": []
   },
   "source": [
    "# Index embeddings into embedding store"
   ]
  },
  {
   "cell_type": "markdown",
   "id": "cf1592bf-3214-47bb-80b1-e946a7d77c06",
   "metadata": {},
   "source": [
    "# Set up"
   ]
  },
  {
   "cell_type": "code",
   "execution_count": 1,
   "id": "535b5f0a-6ee6-4283-bbaa-eaf234011c8a",
   "metadata": {},
   "outputs": [],
   "source": [
    "%load_ext autoreload\n",
    "%autoreload 2"
   ]
  },
  {
   "cell_type": "code",
   "execution_count": 2,
   "id": "b22fcc71-773a-48da-9629-d687a70ebc40",
   "metadata": {
    "editable": true,
    "scrolled": true,
    "slideshow": {
     "slide_type": ""
    },
    "tags": []
   },
   "outputs": [
    {
     "data": {
      "text/plain": [
       "True"
      ]
     },
     "execution_count": 2,
     "metadata": {},
     "output_type": "execute_result"
    }
   ],
   "source": [
    "import os\n",
    "import sys\n",
    "\n",
    "import torch\n",
    "from dotenv import load_dotenv\n",
    "from loguru import logger\n",
    "from pydantic import BaseModel\n",
    "from qdrant_client import QdrantClient\n",
    "from qdrant_client.models import Distance, PointStruct, VectorParams\n",
    "\n",
    "import mlflow\n",
    "\n",
    "sys.path.insert(0, \"..\")\n",
    "load_dotenv()"
   ]
  },
  {
   "cell_type": "markdown",
   "id": "c7869d6c-7531-464b-aae2-6bc56185852b",
   "metadata": {},
   "source": [
    "# Controller"
   ]
  },
  {
   "cell_type": "code",
   "execution_count": 3,
   "id": "182138ab-94cc-4867-96e4-88a6434100dc",
   "metadata": {
    "editable": true,
    "scrolled": true,
    "slideshow": {
     "slide_type": ""
    },
    "tags": []
   },
   "outputs": [
    {
     "name": "stdout",
     "output_type": "stream",
     "text": [
      "{\n",
      "  \"testing\": false,\n",
      "  \"run_name\": \"000-first-attempt\",\n",
      "  \"notebook_persist_dp\": \"/Users/dvq/frostmourne/recsys-mvp/notebooks/data/000-first-attempt\",\n",
      "  \"random_seed\": 41,\n",
      "  \"device\": null,\n",
      "  \"top_K\": 100,\n",
      "  \"top_k\": 10,\n",
      "  \"embedding_dim\": 128,\n",
      "  \"mlf_model_name\": \"item2vec\",\n",
      "  \"batch_recs_fp\": \"/Users/dvq/frostmourne/recsys-mvp/notebooks/data/000-first-attempt/batch_recs.jsonl\",\n",
      "  \"qdrant_url\": \"localhost:6333\",\n",
      "  \"qdrant_collection_name\": \"item2vec\"\n",
      "}\n"
     ]
    }
   ],
   "source": [
    "class Args(BaseModel):\n",
    "    testing: bool = False\n",
    "    run_name: str = \"000-first-attempt\"\n",
    "    notebook_persist_dp: str = None\n",
    "    random_seed: int = 41\n",
    "    device: str = None\n",
    "\n",
    "    top_K: int = 100\n",
    "    top_k: int = 10\n",
    "\n",
    "    embedding_dim: int = 128\n",
    "\n",
    "    mlf_model_name: str = \"item2vec\"\n",
    "\n",
    "    batch_recs_fp: str = None\n",
    "\n",
    "    qdrant_url: str = None\n",
    "    qdrant_collection_name: str = None\n",
    "\n",
    "    def init(self):\n",
    "        self.notebook_persist_dp = os.path.abspath(f\"data/{self.run_name}\")\n",
    "        os.makedirs(self.notebook_persist_dp, exist_ok=True)\n",
    "        self.batch_recs_fp = f\"{self.notebook_persist_dp}/batch_recs.jsonl\"\n",
    "\n",
    "        if not (qdrant_host := os.getenv(\"QDRANT_HOST\")):\n",
    "            raise Exception(f\"Environment variable QDRANT_HOST is not set.\")\n",
    "\n",
    "        qdrant_port = os.getenv(\"QDRANT_PORT\")\n",
    "        self.qdrant_url = f\"{qdrant_host}:{qdrant_port}\"\n",
    "        self.qdrant_collection_name = os.getenv(\"QDRANT_COLLECTION_NAME\")\n",
    "\n",
    "        return self\n",
    "\n",
    "\n",
    "args = Args().init()\n",
    "\n",
    "print(args.model_dump_json(indent=2))"
   ]
  },
  {
   "cell_type": "markdown",
   "id": "667fc248-111f-490f-9743-8c40d8743ebc",
   "metadata": {},
   "source": [
    "# Load model"
   ]
  },
  {
   "cell_type": "code",
   "execution_count": 4,
   "id": "784ae525-5ff9-46c1-a24a-de1e8d814b17",
   "metadata": {},
   "outputs": [],
   "source": [
    "mlf_client = mlflow.MlflowClient()"
   ]
  },
  {
   "cell_type": "code",
   "execution_count": 5,
   "id": "645de53b-a1ac-4cc1-9094-f61357f436d9",
   "metadata": {
    "scrolled": true
   },
   "outputs": [
    {
     "data": {
      "application/vnd.jupyter.widget-view+json": {
       "model_id": "3abfa917ced04ba8ada083bea61cb015",
       "version_major": 2,
       "version_minor": 0
      },
      "text/plain": [
       "Downloading artifacts:   0%|          | 0/8 [00:00<?, ?it/s]"
      ]
     },
     "metadata": {},
     "output_type": "display_data"
    },
    {
     "name": "stderr",
     "output_type": "stream",
     "text": [
      "2024/10/12 09:41:32 WARNING mlflow.utils.requirements_utils: Detected one or more mismatches between the model's dependencies and the current Python environment:\n",
      " - cloudpickle (current: 3.1.0, required: cloudpickle==3.0.0)\n",
      "To fix the mismatches, call `mlflow.pyfunc.get_model_dependencies(model_uri)` to fetch the model's environment and install dependencies using the resulting environment file.\n",
      "2024/10/12 09:41:32 WARNING mlflow.pyfunc: The version of CloudPickle that was used to save the model, `CloudPickle 3.0.0`, differs from the version of CloudPickle that is currently running, `CloudPickle 3.1.0`, and may be incompatible\n"
     ]
    }
   ],
   "source": [
    "model = mlflow.pyfunc.load_model(model_uri=f\"models:/{args.mlf_model_name}@champion\")"
   ]
  },
  {
   "cell_type": "code",
   "execution_count": 6,
   "id": "9346a20b-15f7-4f79-af76-279cfde50e3b",
   "metadata": {
    "scrolled": true
   },
   "outputs": [],
   "source": [
    "run_id = model.metadata.run_id\n",
    "run_info = mlf_client.get_run(run_id).info\n",
    "artifact_uri = run_info.artifact_uri"
   ]
  },
  {
   "cell_type": "code",
   "execution_count": 7,
   "id": "1fe7dfd1-1fdc-4f95-b4b8-90249f59f9ea",
   "metadata": {
    "scrolled": true
   },
   "outputs": [
    {
     "data": {
      "application/vnd.jupyter.widget-view+json": {
       "model_id": "38ea502cfa324694b60fab3738bd2240",
       "version_major": 2,
       "version_minor": 0
      },
      "text/plain": [
       "Downloading artifacts:   0%|          | 0/1 [00:00<?, ?it/s]"
      ]
     },
     "metadata": {},
     "output_type": "display_data"
    },
    {
     "data": {
      "text/plain": [
       "{'item_1_ids': ['B0015ACX3Q'], 'item_2_ids': ['B009VUHWBA']}"
      ]
     },
     "execution_count": 7,
     "metadata": {},
     "output_type": "execute_result"
    }
   ],
   "source": [
    "sample_input = mlflow.artifacts.load_dict(f\"{artifact_uri}/inferrer/input_example.json\")\n",
    "sample_input"
   ]
  },
  {
   "cell_type": "code",
   "execution_count": 8,
   "id": "be613be6-7136-4da7-8ca1-5953ade5722d",
   "metadata": {},
   "outputs": [
    {
     "data": {
      "text/plain": [
       "{'item_1_ids': ['B0015ACX3Q'],\n",
       " 'item_2_ids': ['B009VUHWBA'],\n",
       " 'scores': [0.5049286484718323]}"
      ]
     },
     "execution_count": 8,
     "metadata": {},
     "output_type": "execute_result"
    }
   ],
   "source": [
    "prediction = model.predict(sample_input)\n",
    "prediction"
   ]
  },
  {
   "cell_type": "markdown",
   "id": "c7b2012a-bec4-48e6-a080-46ce6123f1a2",
   "metadata": {},
   "source": [
    "# Get embeddings"
   ]
  },
  {
   "cell_type": "code",
   "execution_count": 9,
   "id": "1cfea304-68e1-4650-b077-bc05419b1003",
   "metadata": {},
   "outputs": [
    {
     "data": {
      "text/plain": [
       "tensor([ 0.1503,  0.1055, -0.2476, -0.0465, -0.0883,  0.0994,  0.2884, -0.2099,\n",
       "         0.0748,  0.0424, -0.1090, -0.1652,  0.1983, -0.0623,  0.0731,  0.1268,\n",
       "        -0.0486,  0.4281, -0.3518,  0.3000, -0.3354, -0.1979, -0.0372,  0.3658,\n",
       "        -0.0209,  0.1510, -0.1517, -0.0391,  0.0733,  0.0255, -0.2660,  0.1875,\n",
       "         0.1510,  0.1938,  0.1626, -0.3465,  0.1775, -0.0117,  0.2518,  0.0909,\n",
       "        -0.4770, -0.0490, -0.2498, -0.3234, -0.0900,  0.2820, -0.0304, -0.1027,\n",
       "        -0.2447,  0.3076, -0.1769, -0.0833, -0.0449,  0.0054,  0.0577, -0.2451,\n",
       "         0.1902, -0.0901,  0.4717,  0.1035,  0.2562,  0.1041,  0.0230, -0.0305,\n",
       "         0.2279, -0.4729,  0.0442, -0.0101, -0.0440, -0.4081,  0.2048, -0.1479,\n",
       "         0.4262, -0.1546, -0.0713,  0.0224, -0.1713, -0.1386,  0.2682, -0.2696,\n",
       "        -0.3055,  0.2965, -0.3019, -0.0385,  0.1030,  0.3998,  0.1618,  0.0049,\n",
       "        -0.1015,  0.5003,  0.0309,  0.2191,  0.0314, -0.0273, -0.0231, -0.1765,\n",
       "         0.1304, -0.0575, -0.1425, -0.0446, -0.1868,  0.0224,  0.3436,  0.1088,\n",
       "        -0.5045,  0.1076,  0.3616, -0.2170,  0.2450,  0.0581,  0.1240, -0.2054,\n",
       "         0.1784, -0.0222, -0.1635,  0.3008,  0.0494,  0.0868,  0.0917,  0.1534,\n",
       "        -0.1092, -0.1125,  0.1818,  0.0637,  0.0617, -0.4307,  0.1981,  0.0897],\n",
       "       grad_fn=<EmbeddingBackward0>)"
      ]
     },
     "execution_count": 9,
     "metadata": {},
     "output_type": "execute_result"
    }
   ],
   "source": [
    "skipgram_model = model.unwrap_python_model().model\n",
    "embedding_0 = skipgram_model.embeddings(torch.tensor(0))\n",
    "embedding_dim = embedding_0.size()[0]\n",
    "embedding_0"
   ]
  },
  {
   "cell_type": "code",
   "execution_count": 10,
   "id": "09f0a289-68c8-422d-870e-21e2575a5560",
   "metadata": {
    "scrolled": true
   },
   "outputs": [
    {
     "data": {
      "text/plain": [
       "[0, 1, 2, 3, 4]"
      ]
     },
     "execution_count": 10,
     "metadata": {},
     "output_type": "execute_result"
    }
   ],
   "source": [
    "id_mapping = model.unwrap_python_model().id_mapping\n",
    "all_items = list(id_mapping[\"id_to_idx\"].values())\n",
    "all_items[:5]"
   ]
  },
  {
   "cell_type": "code",
   "execution_count": 11,
   "id": "25b550f2-799e-4193-9262-5df9e4d383de",
   "metadata": {},
   "outputs": [
    {
     "data": {
      "text/plain": [
       "array([[ 0.15028489,  0.10554074, -0.24757317, ..., -0.43071437,\n",
       "         0.19808286,  0.08967826],\n",
       "       [-0.17599209, -0.09977298, -0.2695489 , ..., -0.18573076,\n",
       "         0.09876981,  0.23391782],\n",
       "       [-0.15676837, -0.12917697,  0.12649146, ...,  0.2507824 ,\n",
       "        -0.32547793, -0.04743848],\n",
       "       ...,\n",
       "       [-0.09513666, -0.00402308,  0.00828476, ...,  0.05977607,\n",
       "        -0.01325929,  0.48805568],\n",
       "       [-0.11036596, -0.03687766, -0.18476743, ..., -0.23155648,\n",
       "        -0.08153995,  0.06819829],\n",
       "       [-0.09447317,  0.16883737,  0.26790723, ...,  0.2716018 ,\n",
       "         0.02243392,  0.0830389 ]], dtype=float32)"
      ]
     },
     "execution_count": 11,
     "metadata": {},
     "output_type": "execute_result"
    }
   ],
   "source": [
    "embeddings = skipgram_model.embeddings(torch.tensor(all_items)).detach().numpy()\n",
    "embeddings"
   ]
  },
  {
   "cell_type": "code",
   "execution_count": 12,
   "id": "70b05392-ac0f-41fc-a9d9-99f3ac9fea08",
   "metadata": {},
   "outputs": [
    {
     "data": {
      "text/plain": [
       "(4630, 128)"
      ]
     },
     "execution_count": 12,
     "metadata": {},
     "output_type": "execute_result"
    }
   ],
   "source": [
    "embeddings.shape"
   ]
  },
  {
   "cell_type": "markdown",
   "id": "1214ac09-97ca-4757-8e5d-e7fd07882a49",
   "metadata": {},
   "source": [
    "# Embedding store"
   ]
  },
  {
   "cell_type": "code",
   "execution_count": 14,
   "id": "1ec2fc99-43d3-4bb6-acea-f891055d4598",
   "metadata": {},
   "outputs": [],
   "source": [
    "ann_index = QdrantClient(url=args.qdrant_url)"
   ]
  },
  {
   "cell_type": "code",
   "execution_count": 15,
   "id": "e9a041e5-af03-46ad-8784-9ce4ffc66977",
   "metadata": {
    "scrolled": true
   },
   "outputs": [
    {
     "name": "stderr",
     "output_type": "stream",
     "text": [
      "\u001b[32m2024-10-12 09:41:32.747\u001b[0m | \u001b[1mINFO    \u001b[0m | \u001b[36m__main__\u001b[0m:\u001b[36m<module>\u001b[0m:\u001b[36m3\u001b[0m - \u001b[1mDeleting existing Qdrant collection item2vec...\u001b[0m\n"
     ]
    }
   ],
   "source": [
    "collection_exists = ann_index.collection_exists(args.qdrant_collection_name)\n",
    "if collection_exists:\n",
    "    logger.info(f\"Deleting existing Qdrant collection {args.qdrant_collection_name}...\")\n",
    "    ann_index.delete_collection(args.qdrant_collection_name)\n",
    "\n",
    "create_collection_result = ann_index.create_collection(\n",
    "    collection_name=args.qdrant_collection_name,\n",
    "    vectors_config=VectorParams(size=embedding_dim, distance=Distance.COSINE),\n",
    ")\n",
    "\n",
    "assert create_collection_result == True"
   ]
  },
  {
   "cell_type": "code",
   "execution_count": 16,
   "id": "cd92766a-796a-4c51-9de7-888ada412a4a",
   "metadata": {},
   "outputs": [
    {
     "data": {
      "text/plain": [
       "UpdateResult(operation_id=0, status=<UpdateStatus.COMPLETED: 'completed'>)"
      ]
     },
     "execution_count": 16,
     "metadata": {},
     "output_type": "execute_result"
    }
   ],
   "source": [
    "upsert_result = ann_index.upsert(\n",
    "    collection_name=args.qdrant_collection_name,\n",
    "    points=[\n",
    "        PointStruct(id=idx, vector=vector.tolist(), payload={})\n",
    "        for idx, vector in enumerate(embeddings)\n",
    "    ],\n",
    ")\n",
    "assert str(upsert_result.status) == \"completed\"\n",
    "upsert_result"
   ]
  },
  {
   "cell_type": "code",
   "execution_count": 17,
   "id": "22363a51-0361-45cf-a219-a7560cc4d9a2",
   "metadata": {},
   "outputs": [],
   "source": [
    "hits = ann_index.search(\n",
    "    collection_name=args.qdrant_collection_name,\n",
    "    query_vector=embeddings[0],\n",
    "    limit=args.top_K,\n",
    ")"
   ]
  },
  {
   "cell_type": "code",
   "execution_count": 18,
   "id": "20cb7c53-6740-4ad7-b751-5568296071ce",
   "metadata": {
    "scrolled": true
   },
   "outputs": [
    {
     "data": {
      "text/plain": [
       "[ScoredPoint(id=0, version=0, score=1.0000001, payload={}, vector=None, shard_key=None, order_value=None),\n",
       " ScoredPoint(id=322, version=0, score=0.43110707, payload={}, vector=None, shard_key=None, order_value=None),\n",
       " ScoredPoint(id=2194, version=0, score=0.41356394, payload={}, vector=None, shard_key=None, order_value=None),\n",
       " ScoredPoint(id=2765, version=0, score=0.40142947, payload={}, vector=None, shard_key=None, order_value=None),\n",
       " ScoredPoint(id=617, version=0, score=0.38005733, payload={}, vector=None, shard_key=None, order_value=None),\n",
       " ScoredPoint(id=2237, version=0, score=0.37947062, payload={}, vector=None, shard_key=None, order_value=None),\n",
       " ScoredPoint(id=2067, version=0, score=0.3756628, payload={}, vector=None, shard_key=None, order_value=None),\n",
       " ScoredPoint(id=4088, version=0, score=0.37306264, payload={}, vector=None, shard_key=None, order_value=None),\n",
       " ScoredPoint(id=1531, version=0, score=0.36884758, payload={}, vector=None, shard_key=None, order_value=None),\n",
       " ScoredPoint(id=2712, version=0, score=0.36712334, payload={}, vector=None, shard_key=None, order_value=None),\n",
       " ScoredPoint(id=3385, version=0, score=0.3664341, payload={}, vector=None, shard_key=None, order_value=None),\n",
       " ScoredPoint(id=3864, version=0, score=0.36632046, payload={}, vector=None, shard_key=None, order_value=None),\n",
       " ScoredPoint(id=2263, version=0, score=0.35854045, payload={}, vector=None, shard_key=None, order_value=None),\n",
       " ScoredPoint(id=4311, version=0, score=0.3578481, payload={}, vector=None, shard_key=None, order_value=None),\n",
       " ScoredPoint(id=594, version=0, score=0.35510108, payload={}, vector=None, shard_key=None, order_value=None),\n",
       " ScoredPoint(id=1439, version=0, score=0.35039327, payload={}, vector=None, shard_key=None, order_value=None),\n",
       " ScoredPoint(id=3940, version=0, score=0.3488832, payload={}, vector=None, shard_key=None, order_value=None),\n",
       " ScoredPoint(id=434, version=0, score=0.34662107, payload={}, vector=None, shard_key=None, order_value=None),\n",
       " ScoredPoint(id=3104, version=0, score=0.34400204, payload={}, vector=None, shard_key=None, order_value=None),\n",
       " ScoredPoint(id=2419, version=0, score=0.34339106, payload={}, vector=None, shard_key=None, order_value=None),\n",
       " ScoredPoint(id=3523, version=0, score=0.34274933, payload={}, vector=None, shard_key=None, order_value=None),\n",
       " ScoredPoint(id=1842, version=0, score=0.3404953, payload={}, vector=None, shard_key=None, order_value=None),\n",
       " ScoredPoint(id=266, version=0, score=0.33981463, payload={}, vector=None, shard_key=None, order_value=None),\n",
       " ScoredPoint(id=2118, version=0, score=0.33541635, payload={}, vector=None, shard_key=None, order_value=None),\n",
       " ScoredPoint(id=1320, version=0, score=0.3333193, payload={}, vector=None, shard_key=None, order_value=None),\n",
       " ScoredPoint(id=340, version=0, score=0.33305454, payload={}, vector=None, shard_key=None, order_value=None),\n",
       " ScoredPoint(id=1174, version=0, score=0.3329932, payload={}, vector=None, shard_key=None, order_value=None),\n",
       " ScoredPoint(id=2539, version=0, score=0.33250287, payload={}, vector=None, shard_key=None, order_value=None),\n",
       " ScoredPoint(id=2297, version=0, score=0.32834604, payload={}, vector=None, shard_key=None, order_value=None),\n",
       " ScoredPoint(id=1894, version=0, score=0.32796103, payload={}, vector=None, shard_key=None, order_value=None),\n",
       " ScoredPoint(id=4151, version=0, score=0.32063204, payload={}, vector=None, shard_key=None, order_value=None),\n",
       " ScoredPoint(id=1077, version=0, score=0.32004344, payload={}, vector=None, shard_key=None, order_value=None),\n",
       " ScoredPoint(id=3766, version=0, score=0.3198097, payload={}, vector=None, shard_key=None, order_value=None),\n",
       " ScoredPoint(id=1484, version=0, score=0.3195289, payload={}, vector=None, shard_key=None, order_value=None),\n",
       " ScoredPoint(id=3446, version=0, score=0.3195084, payload={}, vector=None, shard_key=None, order_value=None),\n",
       " ScoredPoint(id=3107, version=0, score=0.316505, payload={}, vector=None, shard_key=None, order_value=None),\n",
       " ScoredPoint(id=1248, version=0, score=0.31591022, payload={}, vector=None, shard_key=None, order_value=None),\n",
       " ScoredPoint(id=3853, version=0, score=0.31435573, payload={}, vector=None, shard_key=None, order_value=None),\n",
       " ScoredPoint(id=1266, version=0, score=0.3140798, payload={}, vector=None, shard_key=None, order_value=None),\n",
       " ScoredPoint(id=1204, version=0, score=0.31188235, payload={}, vector=None, shard_key=None, order_value=None),\n",
       " ScoredPoint(id=3433, version=0, score=0.30976695, payload={}, vector=None, shard_key=None, order_value=None),\n",
       " ScoredPoint(id=640, version=0, score=0.30944496, payload={}, vector=None, shard_key=None, order_value=None),\n",
       " ScoredPoint(id=3445, version=0, score=0.30866033, payload={}, vector=None, shard_key=None, order_value=None),\n",
       " ScoredPoint(id=3806, version=0, score=0.3050384, payload={}, vector=None, shard_key=None, order_value=None),\n",
       " ScoredPoint(id=4199, version=0, score=0.3048696, payload={}, vector=None, shard_key=None, order_value=None),\n",
       " ScoredPoint(id=4501, version=0, score=0.30477393, payload={}, vector=None, shard_key=None, order_value=None),\n",
       " ScoredPoint(id=3960, version=0, score=0.3034197, payload={}, vector=None, shard_key=None, order_value=None),\n",
       " ScoredPoint(id=455, version=0, score=0.30174628, payload={}, vector=None, shard_key=None, order_value=None),\n",
       " ScoredPoint(id=439, version=0, score=0.30167484, payload={}, vector=None, shard_key=None, order_value=None),\n",
       " ScoredPoint(id=142, version=0, score=0.30140606, payload={}, vector=None, shard_key=None, order_value=None),\n",
       " ScoredPoint(id=263, version=0, score=0.29978323, payload={}, vector=None, shard_key=None, order_value=None),\n",
       " ScoredPoint(id=2768, version=0, score=0.29793608, payload={}, vector=None, shard_key=None, order_value=None),\n",
       " ScoredPoint(id=4355, version=0, score=0.2979077, payload={}, vector=None, shard_key=None, order_value=None),\n",
       " ScoredPoint(id=3363, version=0, score=0.2978723, payload={}, vector=None, shard_key=None, order_value=None),\n",
       " ScoredPoint(id=2031, version=0, score=0.29725543, payload={}, vector=None, shard_key=None, order_value=None),\n",
       " ScoredPoint(id=1768, version=0, score=0.29454315, payload={}, vector=None, shard_key=None, order_value=None),\n",
       " ScoredPoint(id=2858, version=0, score=0.29442018, payload={}, vector=None, shard_key=None, order_value=None),\n",
       " ScoredPoint(id=78, version=0, score=0.29419273, payload={}, vector=None, shard_key=None, order_value=None),\n",
       " ScoredPoint(id=1315, version=0, score=0.29300943, payload={}, vector=None, shard_key=None, order_value=None),\n",
       " ScoredPoint(id=278, version=0, score=0.29272714, payload={}, vector=None, shard_key=None, order_value=None),\n",
       " ScoredPoint(id=2917, version=0, score=0.29253593, payload={}, vector=None, shard_key=None, order_value=None),\n",
       " ScoredPoint(id=277, version=0, score=0.29204988, payload={}, vector=None, shard_key=None, order_value=None),\n",
       " ScoredPoint(id=1654, version=0, score=0.28750825, payload={}, vector=None, shard_key=None, order_value=None),\n",
       " ScoredPoint(id=430, version=0, score=0.28744876, payload={}, vector=None, shard_key=None, order_value=None),\n",
       " ScoredPoint(id=2266, version=0, score=0.28662008, payload={}, vector=None, shard_key=None, order_value=None),\n",
       " ScoredPoint(id=4457, version=0, score=0.28653523, payload={}, vector=None, shard_key=None, order_value=None),\n",
       " ScoredPoint(id=199, version=0, score=0.2862643, payload={}, vector=None, shard_key=None, order_value=None),\n",
       " ScoredPoint(id=2614, version=0, score=0.28362828, payload={}, vector=None, shard_key=None, order_value=None),\n",
       " ScoredPoint(id=469, version=0, score=0.28221053, payload={}, vector=None, shard_key=None, order_value=None),\n",
       " ScoredPoint(id=3726, version=0, score=0.28150874, payload={}, vector=None, shard_key=None, order_value=None),\n",
       " ScoredPoint(id=2178, version=0, score=0.28140736, payload={}, vector=None, shard_key=None, order_value=None),\n",
       " ScoredPoint(id=3954, version=0, score=0.28100187, payload={}, vector=None, shard_key=None, order_value=None),\n",
       " ScoredPoint(id=909, version=0, score=0.2801816, payload={}, vector=None, shard_key=None, order_value=None),\n",
       " ScoredPoint(id=874, version=0, score=0.2789507, payload={}, vector=None, shard_key=None, order_value=None),\n",
       " ScoredPoint(id=755, version=0, score=0.27794713, payload={}, vector=None, shard_key=None, order_value=None),\n",
       " ScoredPoint(id=3700, version=0, score=0.2776136, payload={}, vector=None, shard_key=None, order_value=None),\n",
       " ScoredPoint(id=1711, version=0, score=0.27750278, payload={}, vector=None, shard_key=None, order_value=None),\n",
       " ScoredPoint(id=406, version=0, score=0.2774009, payload={}, vector=None, shard_key=None, order_value=None),\n",
       " ScoredPoint(id=3173, version=0, score=0.2770509, payload={}, vector=None, shard_key=None, order_value=None),\n",
       " ScoredPoint(id=3796, version=0, score=0.27655786, payload={}, vector=None, shard_key=None, order_value=None),\n",
       " ScoredPoint(id=2195, version=0, score=0.27615282, payload={}, vector=None, shard_key=None, order_value=None),\n",
       " ScoredPoint(id=1276, version=0, score=0.27447116, payload={}, vector=None, shard_key=None, order_value=None),\n",
       " ScoredPoint(id=4484, version=0, score=0.27443123, payload={}, vector=None, shard_key=None, order_value=None),\n",
       " ScoredPoint(id=891, version=0, score=0.2740666, payload={}, vector=None, shard_key=None, order_value=None),\n",
       " ScoredPoint(id=4577, version=0, score=0.27183983, payload={}, vector=None, shard_key=None, order_value=None),\n",
       " ScoredPoint(id=2124, version=0, score=0.27179164, payload={}, vector=None, shard_key=None, order_value=None),\n",
       " ScoredPoint(id=3354, version=0, score=0.2701434, payload={}, vector=None, shard_key=None, order_value=None),\n",
       " ScoredPoint(id=625, version=0, score=0.2690942, payload={}, vector=None, shard_key=None, order_value=None),\n",
       " ScoredPoint(id=1613, version=0, score=0.26898628, payload={}, vector=None, shard_key=None, order_value=None),\n",
       " ScoredPoint(id=1339, version=0, score=0.26897788, payload={}, vector=None, shard_key=None, order_value=None),\n",
       " ScoredPoint(id=581, version=0, score=0.2685508, payload={}, vector=None, shard_key=None, order_value=None),\n",
       " ScoredPoint(id=79, version=0, score=0.2677708, payload={}, vector=None, shard_key=None, order_value=None),\n",
       " ScoredPoint(id=1485, version=0, score=0.26688978, payload={}, vector=None, shard_key=None, order_value=None),\n",
       " ScoredPoint(id=612, version=0, score=0.26543182, payload={}, vector=None, shard_key=None, order_value=None),\n",
       " ScoredPoint(id=809, version=0, score=0.26539755, payload={}, vector=None, shard_key=None, order_value=None),\n",
       " ScoredPoint(id=2911, version=0, score=0.2653401, payload={}, vector=None, shard_key=None, order_value=None),\n",
       " ScoredPoint(id=3287, version=0, score=0.26452664, payload={}, vector=None, shard_key=None, order_value=None),\n",
       " ScoredPoint(id=2833, version=0, score=0.26408178, payload={}, vector=None, shard_key=None, order_value=None),\n",
       " ScoredPoint(id=2415, version=0, score=0.26316088, payload={}, vector=None, shard_key=None, order_value=None),\n",
       " ScoredPoint(id=3103, version=0, score=0.263033, payload={}, vector=None, shard_key=None, order_value=None)]"
      ]
     },
     "execution_count": 18,
     "metadata": {},
     "output_type": "execute_result"
    }
   ],
   "source": [
    "hits"
   ]
  },
  {
   "cell_type": "code",
   "execution_count": null,
   "id": "6fac2dd6-401e-4625-923b-15759b966b6b",
   "metadata": {},
   "outputs": [],
   "source": []
  }
 ],
 "metadata": {
  "kernelspec": {
   "display_name": "Python 3 (ipykernel)",
   "language": "python",
   "name": "python3"
  },
  "language_info": {
   "codemirror_mode": {
    "name": "ipython",
    "version": 3
   },
   "file_extension": ".py",
   "mimetype": "text/x-python",
   "name": "python",
   "nbconvert_exporter": "python",
   "pygments_lexer": "ipython3",
   "version": "3.11.9"
  }
 },
 "nbformat": 4,
 "nbformat_minor": 5
}
