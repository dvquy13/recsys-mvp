{
 "cells": [
  {
   "cell_type": "markdown",
   "id": "da7ca2bc-c381-4671-aa5c-bc332bbe62d7",
   "metadata": {
    "editable": true,
    "slideshow": {
     "slide_type": ""
    },
    "tags": []
   },
   "source": [
    "# Batch pre-computed recommendations"
   ]
  },
  {
   "cell_type": "markdown",
   "id": "fa66026d-a00d-43df-9821-e51b3f41b55f",
   "metadata": {},
   "source": [
    "# Set up"
   ]
  },
  {
   "cell_type": "code",
   "execution_count": 1,
   "id": "1932c46c-e67a-4728-bd5e-79fb04fe8599",
   "metadata": {},
   "outputs": [],
   "source": [
    "%load_ext autoreload\n",
    "%autoreload 2"
   ]
  },
  {
   "cell_type": "code",
   "execution_count": 2,
   "id": "1abe7fbb-499f-4d33-a23e-b953a2ddae86",
   "metadata": {},
   "outputs": [],
   "source": [
    "import json\n",
    "import os\n",
    "import sys\n",
    "\n",
    "import redis\n",
    "from dotenv import load_dotenv\n",
    "from loguru import logger\n",
    "from pydantic import BaseModel\n",
    "from tqdm.auto import tqdm\n",
    "\n",
    "load_dotenv()\n",
    "\n",
    "sys.path.insert(0, \"..\")"
   ]
  },
  {
   "cell_type": "markdown",
   "id": "72b69c6e-0e2a-46ca-8d07-8f9ca76fed5d",
   "metadata": {},
   "source": [
    "# Controller"
   ]
  },
  {
   "cell_type": "code",
   "execution_count": 3,
   "id": "00b37596-b73d-41b2-8e54-0aa2eab87659",
   "metadata": {
    "editable": true,
    "scrolled": true,
    "slideshow": {
     "slide_type": ""
    },
    "tags": []
   },
   "outputs": [
    {
     "name": "stdout",
     "output_type": "stream",
     "text": [
      "{\n",
      "  \"testing\": false,\n",
      "  \"run_name\": \"000-first-attempt\",\n",
      "  \"notebook_persist_dp\": \"/Users/quy.dinh/frostmourne/recsys-mvp/notebooks/data/000-first-attempt\",\n",
      "  \"random_seed\": 41,\n",
      "  \"redis_host\": \"localhost\",\n",
      "  \"redis_port\": 6379,\n",
      "  \"redis_key_prefix\": \"output:i2i:\",\n",
      "  \"batch_recs_fp\": \"data/000-first-attempt/batch_recs.jsonl\"\n",
      "}\n"
     ]
    }
   ],
   "source": [
    "class Args(BaseModel):\n",
    "    testing: bool = False\n",
    "    run_name: str = \"000-first-attempt\"\n",
    "    notebook_persist_dp: str = None\n",
    "    random_seed: int = 41\n",
    "\n",
    "    redis_host: str = \"localhost\"\n",
    "    redis_port: int = 6379\n",
    "    redis_key_prefix: str = \"output:i2i:\"\n",
    "\n",
    "    batch_recs_fp: str = \"data/000-first-attempt/batch_recs.jsonl\"\n",
    "\n",
    "    def init(self):\n",
    "        self.notebook_persist_dp = os.path.abspath(f\"data/{self.run_name}\")\n",
    "        os.makedirs(self.notebook_persist_dp, exist_ok=True)\n",
    "\n",
    "        return self\n",
    "\n",
    "\n",
    "args = Args().init()\n",
    "\n",
    "print(args.model_dump_json(indent=2))"
   ]
  },
  {
   "cell_type": "markdown",
   "id": "34c2463c-660d-4562-ba3f-88e3ffba521d",
   "metadata": {},
   "source": [
    "# Load batch recs into Redis"
   ]
  },
  {
   "cell_type": "code",
   "execution_count": 4,
   "id": "ee8ea6d2-385c-42c5-a027-cfc09af51ea4",
   "metadata": {},
   "outputs": [],
   "source": [
    "r = redis.Redis(host=args.redis_host, port=args.redis_port, db=0, decode_responses=True)\n",
    "assert (\n",
    "    r.ping()\n",
    "), f\"Redis at {args.redis_host}:{args.port} is not running, please make sure you have started the Redis docker service\""
   ]
  },
  {
   "cell_type": "code",
   "execution_count": 5,
   "id": "a241ad4b-fefa-4bb0-8a17-25dfbae420e0",
   "metadata": {},
   "outputs": [],
   "source": [
    "def store_recommendations(file_path: str):\n",
    "    with open(file_path, \"r\") as file:\n",
    "        for line in tqdm(file):\n",
    "            rec_data = json.loads(line)\n",
    "            target_item = rec_data[\"target_item\"]\n",
    "            key = args.redis_key_prefix + target_item\n",
    "            r.set(\n",
    "                key,\n",
    "                json.dumps(\n",
    "                    {\n",
    "                        \"rec_item_ids\": rec_data[\"rec_item_ids\"],\n",
    "                        \"rec_scores\": rec_data[\"rec_scores\"],\n",
    "                    }\n",
    "                ),\n",
    "            )\n",
    "\n",
    "\n",
    "def get_recommendations(target_item):\n",
    "    key = args.redis_key_prefix + target_item\n",
    "    rec_data = r.get(target_item)\n",
    "    if rec_data:\n",
    "        return json.loads(rec_data)\n",
    "    return None\n",
    "\n",
    "\n",
    "def get_example_keys(count=5):\n",
    "    keys = r.scan_iter(match=args.redis_key_prefix + \"*\", count=count)\n",
    "    output = []\n",
    "    for i, key in enumerate(keys, 1):\n",
    "        output.append(key)\n",
    "        if i >= count:\n",
    "            return output"
   ]
  },
  {
   "cell_type": "code",
   "execution_count": 6,
   "id": "1ac9ee9e-9037-4a79-bc40-11d19c299068",
   "metadata": {},
   "outputs": [
    {
     "name": "stderr",
     "output_type": "stream",
     "text": [
      "\u001b[32m2024-10-10 11:50:39.456\u001b[0m | \u001b[1mINFO    \u001b[0m | \u001b[36m__main__\u001b[0m:\u001b[36m<module>\u001b[0m:\u001b[36m1\u001b[0m - \u001b[1mLoading batch recs output from data/000-first-attempt/batch_recs.jsonl...\u001b[0m\n"
     ]
    },
    {
     "data": {
      "application/vnd.jupyter.widget-view+json": {
       "model_id": "763f16421b724ce7ae40c2de41572cad",
       "version_major": 2,
       "version_minor": 0
      },
      "text/plain": [
       "0it [00:00, ?it/s]"
      ]
     },
     "metadata": {},
     "output_type": "display_data"
    }
   ],
   "source": [
    "logger.info(f\"Loading batch recs output from {args.batch_recs_fp}...\")\n",
    "store_recommendations(args.batch_recs_fp)"
   ]
  },
  {
   "cell_type": "code",
   "execution_count": 7,
   "id": "44402a48-6224-4a6c-9a60-0dd7af7a163e",
   "metadata": {
    "scrolled": true
   },
   "outputs": [
    {
     "data": {
      "text/plain": [
       "{'rec_item_ids': ['B071J4RGZB',\n",
       "  'B07177727N',\n",
       "  'B06WGSKRKL',\n",
       "  'B07ZGJB3WG',\n",
       "  'B074TRZVYZ',\n",
       "  'B07KS74Q2X',\n",
       "  'B07F8K7N51',\n",
       "  'B07M8ZXQR6',\n",
       "  'B01A0PVN5A',\n",
       "  'B08S5YCZ6Q',\n",
       "  'B00OLOQGAY',\n",
       "  'B00BQMGW4Y',\n",
       "  'B084QDTVC6',\n",
       "  'B01KUP6K3U',\n",
       "  'B0017QFMJU',\n",
       "  'B07Q2C9N8W',\n",
       "  'B01D159YQQ',\n",
       "  'B0BFFJTZNN',\n",
       "  'B071GPJS1Q',\n",
       "  'B01LDWMGNC',\n",
       "  'B06XWD8QQJ',\n",
       "  'B002FQJUQ2',\n",
       "  'B01H2YOA3O',\n",
       "  'B07MBKDSQ6',\n",
       "  'B01B1KEERW',\n",
       "  'B00T57U7V6',\n",
       "  'B000NJBD90',\n",
       "  'B07D19QQHW',\n",
       "  'B07HVHT7XF',\n",
       "  'B0050SY8UK',\n",
       "  'B01KUAMCWI',\n",
       "  'B0095C0I4W',\n",
       "  'B01EW9XAKQ',\n",
       "  'B0C2YCG5Y2',\n",
       "  'B0083CJ2X8',\n",
       "  'B09918MSTF',\n",
       "  'B077TQWCFB',\n",
       "  'B00EZIXEIS',\n",
       "  'B08JJ37XVW',\n",
       "  'B072FRJWQH',\n",
       "  'B07T5QKKVP',\n",
       "  'B0C2HFCDR3',\n",
       "  'B0056C2LIG',\n",
       "  'B0012GUAII',\n",
       "  'B07JJLLFXJ',\n",
       "  'B07BF2422D',\n",
       "  'B07HJSNBBH',\n",
       "  'B004W4TG5K',\n",
       "  'B004WLRR4K',\n",
       "  'B013OW1FJ0',\n",
       "  'B00002STFD',\n",
       "  'B07KXPJS16',\n",
       "  'B000KQQUMQ',\n",
       "  'B0B1PB5L93',\n",
       "  'B07H9NSBH3',\n",
       "  'B0728L4V8P',\n",
       "  'B0094H8H7I',\n",
       "  'B001EYUWDG',\n",
       "  'B01GW3GSVS',\n",
       "  'B01GHSPTKY',\n",
       "  'B01J3MKLHC',\n",
       "  'B0BWND72WK',\n",
       "  'B086HMFYFD',\n",
       "  'B00PIEHU74',\n",
       "  'B076H6JDG6',\n",
       "  'B000J18SR2',\n",
       "  'B073WQ8BWK',\n",
       "  'B0CHJC16TX',\n",
       "  'B001EYUNMG',\n",
       "  'B007VYW3US',\n",
       "  'B00005J53A',\n",
       "  'B000V8G1CC',\n",
       "  'B01CKH0WMQ',\n",
       "  'B09MRM36JJ',\n",
       "  'B07JCDNKVY',\n",
       "  'B017VLXJ7G',\n",
       "  'B00000IFRI',\n",
       "  'B00IZXXF92',\n",
       "  'B06WVCWY41',\n",
       "  'B07F36FWMQ',\n",
       "  'B07P2MYH2B',\n",
       "  'B0C7DFZNTY',\n",
       "  'B01KQDL4D2',\n",
       "  'B07HVPZP1Q',\n",
       "  'B00QV3ZC44',\n",
       "  'B0BN3JZ8PX',\n",
       "  'B01MRGTU2D',\n",
       "  'B07V3G6C1F',\n",
       "  'B07SJVCKQW',\n",
       "  'B08LZ5STF6',\n",
       "  'B00FNQUN7Q',\n",
       "  'B004HKJCKI',\n",
       "  'B075MZT541',\n",
       "  'B0181R6WUA',\n",
       "  'B006BZ1PCA',\n",
       "  'B007WRGNQE',\n",
       "  'B071Z8ZTJ8',\n",
       "  'B00FEO58G8',\n",
       "  'B07B62LMC1',\n",
       "  'B09TY683ZS'],\n",
       " 'rec_scores': [0.9178933501243591,\n",
       "  0.9053400158882141,\n",
       "  0.8983808755874634,\n",
       "  0.8797224760055542,\n",
       "  0.877959668636322,\n",
       "  0.8725346326828003,\n",
       "  0.8696954846382141,\n",
       "  0.8636130690574646,\n",
       "  0.8627405762672424,\n",
       "  0.8611477613449097,\n",
       "  0.859829843044281,\n",
       "  0.858929455280304,\n",
       "  0.8525160551071167,\n",
       "  0.8520494103431702,\n",
       "  0.8492605090141296,\n",
       "  0.8487885594367981,\n",
       "  0.8474889397621155,\n",
       "  0.8471367955207825,\n",
       "  0.8427252769470215,\n",
       "  0.8410945534706116,\n",
       "  0.8406017422676086,\n",
       "  0.8402336835861206,\n",
       "  0.8394850492477417,\n",
       "  0.8382508158683777,\n",
       "  0.8382014632225037,\n",
       "  0.8368159532546997,\n",
       "  0.8345836997032166,\n",
       "  0.8338823318481445,\n",
       "  0.8253775238990784,\n",
       "  0.8245454430580139,\n",
       "  0.8243210911750793,\n",
       "  0.8229945302009583,\n",
       "  0.8220363259315491,\n",
       "  0.8218820095062256,\n",
       "  0.8214353919029236,\n",
       "  0.8173571228981018,\n",
       "  0.817008912563324,\n",
       "  0.8156896829605103,\n",
       "  0.8149875402450562,\n",
       "  0.8132379651069641,\n",
       "  0.8130645155906677,\n",
       "  0.8115673661231995,\n",
       "  0.8114819526672363,\n",
       "  0.8100598454475403,\n",
       "  0.8086588382720947,\n",
       "  0.8085430264472961,\n",
       "  0.8080744743347168,\n",
       "  0.8042412400245667,\n",
       "  0.8041791319847107,\n",
       "  0.8022240400314331,\n",
       "  0.8011637926101685,\n",
       "  0.8010830283164978,\n",
       "  0.7971614599227905,\n",
       "  0.793592631816864,\n",
       "  0.7930190563201904,\n",
       "  0.7914575338363647,\n",
       "  0.7911363840103149,\n",
       "  0.79093337059021,\n",
       "  0.7902398705482483,\n",
       "  0.7891472578048706,\n",
       "  0.7887621521949768,\n",
       "  0.788485586643219,\n",
       "  0.7856690883636475,\n",
       "  0.7854666113853455,\n",
       "  0.7835652828216553,\n",
       "  0.7824530005455017,\n",
       "  0.7799757719039917,\n",
       "  0.779205322265625,\n",
       "  0.7787577509880066,\n",
       "  0.7785417437553406,\n",
       "  0.7766651511192322,\n",
       "  0.7764886021614075,\n",
       "  0.775242269039154,\n",
       "  0.7739109396934509,\n",
       "  0.771303653717041,\n",
       "  0.7677667737007141,\n",
       "  0.7666854858398438,\n",
       "  0.7648719549179077,\n",
       "  0.7633656859397888,\n",
       "  0.762667715549469,\n",
       "  0.7592286467552185,\n",
       "  0.7583029866218567,\n",
       "  0.7582334876060486,\n",
       "  0.7572622895240784,\n",
       "  0.7502015233039856,\n",
       "  0.7469812631607056,\n",
       "  0.7400110363960266,\n",
       "  0.7376646399497986,\n",
       "  0.7376151084899902,\n",
       "  0.732530951499939,\n",
       "  0.7320334315299988,\n",
       "  0.7320157885551453,\n",
       "  0.7283222675323486,\n",
       "  0.7211818099021912,\n",
       "  0.7188792824745178,\n",
       "  0.7167843580245972,\n",
       "  0.6909798979759216,\n",
       "  0.6607141494750977,\n",
       "  0.6569498777389526,\n",
       "  0.6387068033218384]}"
      ]
     },
     "execution_count": 7,
     "metadata": {},
     "output_type": "execute_result"
    }
   ],
   "source": [
    "get_recommendations(get_example_keys()[0])"
   ]
  },
  {
   "cell_type": "code",
   "execution_count": null,
   "id": "bf6236cd-b97d-4acb-8714-c918e73766cd",
   "metadata": {},
   "outputs": [],
   "source": []
  }
 ],
 "metadata": {
  "kernelspec": {
   "display_name": "Python 3 (ipykernel)",
   "language": "python",
   "name": "python3"
  },
  "language_info": {
   "codemirror_mode": {
    "name": "ipython",
    "version": 3
   },
   "file_extension": ".py",
   "mimetype": "text/x-python",
   "name": "python",
   "nbconvert_exporter": "python",
   "pygments_lexer": "ipython3",
   "version": "3.11.9"
  }
 },
 "nbformat": 4,
 "nbformat_minor": 5
}
