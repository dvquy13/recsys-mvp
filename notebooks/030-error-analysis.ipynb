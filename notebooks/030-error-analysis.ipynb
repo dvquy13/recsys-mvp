{
 "cells": [
  {
   "cell_type": "markdown",
   "id": "3c7aef2d-d8d1-4a09-9c34-01d6b85a7754",
   "metadata": {},
   "source": [
    "# Error analysis"
   ]
  },
  {
   "cell_type": "markdown",
   "id": "e6c2d215-efe2-4be1-ae80-a2f922829d40",
   "metadata": {},
   "source": [
    "# Set up"
   ]
  },
  {
   "cell_type": "code",
   "execution_count": 1,
   "id": "9dc7ee6b-1cac-4c24-ae84-0289ea302890",
   "metadata": {},
   "outputs": [],
   "source": [
    "%load_ext autoreload\n",
    "%autoreload 2"
   ]
  },
  {
   "cell_type": "code",
   "execution_count": 110,
   "id": "fa1e5660-e01e-4177-8752-808af45f80c3",
   "metadata": {
    "editable": true,
    "slideshow": {
     "slide_type": ""
    },
    "tags": []
   },
   "outputs": [],
   "source": [
    "import os\n",
    "import sys\n",
    "\n",
    "import lightning as L\n",
    "import numpy as np\n",
    "import pandas as pd\n",
    "import torch\n",
    "import plotly.express as px\n",
    "from datasets import load_dataset\n",
    "from datetime import timedelta\n",
    "from dotenv import load_dotenv\n",
    "from lightning.pytorch.callbacks import ModelCheckpoint\n",
    "from lightning.pytorch.callbacks.early_stopping import EarlyStopping\n",
    "from lightning.pytorch.loggers import MLFlowLogger\n",
    "from loguru import logger\n",
    "from mlflow.models.signature import infer_signature\n",
    "from pydantic import BaseModel\n",
    "from torch.utils.data import DataLoader\n",
    "\n",
    "import mlflow\n",
    "\n",
    "load_dotenv()\n",
    "\n",
    "sys.path.insert(0, \"..\")\n",
    "\n",
    "from src.dataset import UserItemRatingDFDataset\n",
    "from src.id_mapper import IDMapper\n",
    "from src.sequence.inference import SequenceRatingPredictionInferenceWrapper\n",
    "from src.sequence.model import SequenceRatingPrediction\n",
    "from src.sequence.trainer import LitSequenceRatingPrediction\n",
    "from src.sequence.utils import generate_item_sequences\n",
    "from src.viz import blueq_colors"
   ]
  },
  {
   "cell_type": "markdown",
   "id": "dda22b59-e5c9-4bcf-888c-d64f6d7778a0",
   "metadata": {},
   "source": [
    "# Controller"
   ]
  },
  {
   "cell_type": "code",
   "execution_count": 5,
   "id": "ebb1809d-d7af-44f4-9945-bb67418132d6",
   "metadata": {
    "scrolled": true
   },
   "outputs": [
    {
     "name": "stdout",
     "output_type": "stream",
     "text": [
      "{\n",
      "  \"testing\": false,\n",
      "  \"log_to_mlflow\": false,\n",
      "  \"experiment_name\": \"RecSys MVP - Sequence Modeling\",\n",
      "  \"run_name\": \"001-seq-model\",\n",
      "  \"notebook_persist_dp\": \"/Users/dvq/frostmourne/recsys-mvp/notebooks/data/001-seq-model\",\n",
      "  \"random_seed\": 41,\n",
      "  \"device\": null,\n",
      "  \"batch_size\": 128,\n",
      "  \"user_col\": \"user_id\",\n",
      "  \"item_col\": \"parent_asin\",\n",
      "  \"rating_col\": \"rating\",\n",
      "  \"timestamp_col\": \"timestamp\",\n",
      "  \"top_K\": 100,\n",
      "  \"top_k\": 10,\n",
      "  \"embedding_dim\": 128,\n",
      "  \"dropout\": 0.3,\n",
      "  \"early_stopping_patience\": 5,\n",
      "  \"learning_rate\": 0.001,\n",
      "  \"l2_reg\": 0.0001,\n",
      "  \"mlf_item2vec_model_name\": \"item2vec\",\n",
      "  \"mlf_model_name\": \"sequence_rating_prediction\",\n",
      "  \"min_roc_auc\": 0.7,\n",
      "  \"model_path\": \"/Users/dvq/frostmourne/recsys-mvp/notebooks/data/001-seq-model/checkpoints/best-checkpoint-v2.ckpt\"\n",
      "}\n"
     ]
    },
    {
     "name": "stderr",
     "output_type": "stream",
     "text": [
      "/Users/dvq/frostmourne/recsys-mvp/.venv/lib/python3.11/site-packages/pydantic/_internal/_fields.py:132: UserWarning: Field \"model_path\" in Args has conflict with protected namespace \"model_\".\n",
      "\n",
      "You may be able to resolve this warning by setting `model_config['protected_namespaces'] = ()`.\n",
      "  warnings.warn(\n"
     ]
    }
   ],
   "source": [
    "class Args(BaseModel):\n",
    "    testing: bool = False\n",
    "    log_to_mlflow: bool = False\n",
    "    experiment_name: str = \"RecSys MVP - Sequence Modeling\"\n",
    "    run_name: str = \"002-try-binary\"\n",
    "    notebook_persist_dp: str = None\n",
    "    random_seed: int = 41\n",
    "    device: str = None\n",
    "\n",
    "    batch_size: int = 128\n",
    "\n",
    "    user_col: str = \"user_id\"\n",
    "    item_col: str = \"parent_asin\"\n",
    "    rating_col: str = \"rating\"\n",
    "    timestamp_col: str = \"timestamp\"\n",
    "\n",
    "    top_K: int = 100\n",
    "    top_k: int = 10\n",
    "\n",
    "    batch_size: int = 128\n",
    "\n",
    "    embedding_dim: int = 128\n",
    "    dropout: float = 0.3\n",
    "    early_stopping_patience: int = 5\n",
    "    learning_rate: float = 0.001\n",
    "    l2_reg: float = 1e-4\n",
    "\n",
    "    mlf_item2vec_model_name: str = \"item2vec\"\n",
    "    mlf_model_name: str = \"sequence_rating_prediction\"\n",
    "    min_roc_auc: float = 0.7\n",
    "\n",
    "    model_path: str = \"/Users/dvq/frostmourne/recsys-mvp/notebooks/data/001-seq-model/checkpoints/best-checkpoint-v2.ckpt\"\n",
    "\n",
    "    def init(self):\n",
    "        self.notebook_persist_dp = os.path.abspath(f\"data/{self.run_name}\")\n",
    "        os.makedirs(self.notebook_persist_dp, exist_ok=True)\n",
    "\n",
    "        if not (mlflow_uri := os.environ.get(\"MLFLOW_TRACKING_URI\")):\n",
    "            logger.warning(\n",
    "                f\"Environment variable MLFLOW_TRACKING_URI is not set. Setting self.log_to_mlflow to false.\"\n",
    "            )\n",
    "            self.log_to_mlflow = False\n",
    "\n",
    "        if self.log_to_mlflow:\n",
    "            logger.info(\n",
    "                f\"Setting up MLflow experiment {self.experiment_name} - run {self.run_name}...\"\n",
    "            )\n",
    "            self._mlf_logger = MLFlowLogger(\n",
    "                experiment_name=self.experiment_name,\n",
    "                run_name=self.run_name,\n",
    "                tracking_uri=mlflow_uri,\n",
    "                log_model=True,\n",
    "            )\n",
    "\n",
    "        return self\n",
    "\n",
    "\n",
    "args = Args().init()\n",
    "\n",
    "print(args.model_dump_json(indent=2))"
   ]
  },
  {
   "cell_type": "markdown",
   "id": "084415d3-5f27-449a-82a7-0db5a7feab33",
   "metadata": {
    "editable": true,
    "slideshow": {
     "slide_type": ""
    },
    "tags": []
   },
   "source": [
    "# Load model"
   ]
  },
  {
   "cell_type": "code",
   "execution_count": 7,
   "id": "e0c1466e-af9d-4e51-a9a0-1c2a7905ddc0",
   "metadata": {},
   "outputs": [
    {
     "data": {
      "application/vnd.jupyter.widget-view+json": {
       "model_id": "cbf5df831ea84a26ba0c92d87687a3c9",
       "version_major": 2,
       "version_minor": 0
      },
      "text/plain": [
       "Downloading artifacts:   0%|          | 0/8 [00:00<?, ?it/s]"
      ]
     },
     "metadata": {},
     "output_type": "display_data"
    }
   ],
   "source": [
    "mlf_client = mlflow.MlflowClient()\n",
    "model_wrapper = mlflow.pyfunc.load_model(\n",
    "    model_uri=f\"models:/{args.mlf_model_name}@champion\"\n",
    ")\n",
    "model = model_wrapper.unwrap_python_model().model\n",
    "idm = model_wrapper.unwrap_python_model().idm"
   ]
  },
  {
   "cell_type": "code",
   "execution_count": 8,
   "id": "5053461b-c54c-4e1b-ab01-20093f965f3d",
   "metadata": {},
   "outputs": [],
   "source": [
    "run_id = model_wrapper.metadata.run_id\n",
    "run_info = mlf_client.get_run(run_id).info\n",
    "artifact_uri = run_info.artifact_uri"
   ]
  },
  {
   "cell_type": "code",
   "execution_count": 9,
   "id": "81146637-d05e-42a3-865c-8a531d6c3e08",
   "metadata": {},
   "outputs": [
    {
     "data": {
      "application/vnd.jupyter.widget-view+json": {
       "model_id": "6df0140b76614a13b970186bc5d71817",
       "version_major": 2,
       "version_minor": 0
      },
      "text/plain": [
       "Downloading artifacts:   0%|          | 0/1 [00:00<?, ?it/s]"
      ]
     },
     "metadata": {},
     "output_type": "display_data"
    },
    {
     "data": {
      "text/plain": [
       "{'user_ids': ['AEZW74DBPW64H5IYA22DX7U7YRIQ'],\n",
       " 'item_sequences': [['B003UF24SI', 'B004Y3HXXQ']],\n",
       " 'item_ids': ['B003UF24SI']}"
      ]
     },
     "execution_count": 9,
     "metadata": {},
     "output_type": "execute_result"
    }
   ],
   "source": [
    "sample_input = mlflow.artifacts.load_dict(f\"{artifact_uri}/inferrer/input_example.json\")\n",
    "sample_input"
   ]
  },
  {
   "cell_type": "code",
   "execution_count": 10,
   "id": "c738397d-7510-4447-af35-842c1e4e660e",
   "metadata": {},
   "outputs": [
    {
     "name": "stderr",
     "output_type": "stream",
     "text": [
      "/Users/dvq/frostmourne/recsys-mvp/notebooks/../src/sequence/inference.py:53: UserWarning: Creating a tensor from a list of numpy.ndarrays is extremely slow. Please consider converting the list to a single numpy.ndarray with numpy.array() before converting to a tensor. (Triggered internally at /Users/runner/work/pytorch/pytorch/pytorch/torch/csrc/utils/tensor_new.cpp:281.)\n",
      "  item_sequences = torch.tensor(item_sequences)\n"
     ]
    },
    {
     "data": {
      "text/plain": [
       "{'user_ids': ['AEZW74DBPW64H5IYA22DX7U7YRIQ'],\n",
       " 'item_sequences': [['B003UF24SI', 'B004Y3HXXQ']],\n",
       " 'item_ids': ['B003UF24SI'],\n",
       " 'scores': [0.8486513495445251]}"
      ]
     },
     "execution_count": 10,
     "metadata": {},
     "output_type": "execute_result"
    }
   ],
   "source": [
    "prediction = model_wrapper.predict(sample_input)\n",
    "prediction"
   ]
  },
  {
   "cell_type": "markdown",
   "id": "0b8ce454-fdac-47ef-822d-43332d81d60e",
   "metadata": {},
   "source": [
    "# Load data"
   ]
  },
  {
   "cell_type": "code",
   "execution_count": 118,
   "id": "6e7143a3-a9d5-4792-82fe-92aa1ab445bc",
   "metadata": {
    "scrolled": true
   },
   "outputs": [
    {
     "data": {
      "text/html": [
       "<div>\n",
       "<style scoped>\n",
       "    .dataframe tbody tr th:only-of-type {\n",
       "        vertical-align: middle;\n",
       "    }\n",
       "\n",
       "    .dataframe tbody tr th {\n",
       "        vertical-align: top;\n",
       "    }\n",
       "\n",
       "    .dataframe thead th {\n",
       "        text-align: right;\n",
       "    }\n",
       "</style>\n",
       "<table border=\"1\" class=\"dataframe\">\n",
       "  <thead>\n",
       "    <tr style=\"text-align: right;\">\n",
       "      <th></th>\n",
       "      <th>main_category</th>\n",
       "      <th>title</th>\n",
       "      <th>average_rating</th>\n",
       "      <th>rating_number</th>\n",
       "      <th>features</th>\n",
       "      <th>description</th>\n",
       "      <th>price</th>\n",
       "      <th>images</th>\n",
       "      <th>videos</th>\n",
       "      <th>store</th>\n",
       "      <th>categories</th>\n",
       "      <th>details</th>\n",
       "      <th>parent_asin</th>\n",
       "      <th>bought_together</th>\n",
       "      <th>subtitle</th>\n",
       "      <th>author</th>\n",
       "      <th>item_indice</th>\n",
       "    </tr>\n",
       "  </thead>\n",
       "  <tbody>\n",
       "    <tr>\n",
       "      <th>2</th>\n",
       "      <td>Video Games</td>\n",
       "      <td>NBA 2K17 - Early Tip Off Edition - PlayStation 4</td>\n",
       "      <td>4.3</td>\n",
       "      <td>223</td>\n",
       "      <td>[The #1 rated NBA video game simulation series...</td>\n",
       "      <td>[Following the record-breaking launch of NBA 2...</td>\n",
       "      <td>58.0</td>\n",
       "      <td>{'hi_res': ['https://m.media-amazon.com/images...</td>\n",
       "      <td>{'title': ['NBA 2K17 - Kobe: Haters vs Players...</td>\n",
       "      <td>2K</td>\n",
       "      <td>[Video Games, PlayStation 4, Games]</td>\n",
       "      <td>{\"Release date\": \"September 16, 2016\", \"Best S...</td>\n",
       "      <td>B00Z9TLVK0</td>\n",
       "      <td>None</td>\n",
       "      <td>None</td>\n",
       "      <td>None</td>\n",
       "      <td>763</td>\n",
       "    </tr>\n",
       "    <tr>\n",
       "      <th>15</th>\n",
       "      <td>Video Games</td>\n",
       "      <td>Warhammer 40,000 Dawn of War Game of the Year ...</td>\n",
       "      <td>4.0</td>\n",
       "      <td>68</td>\n",
       "      <td>[Real-time strategy game based on the popular ...</td>\n",
       "      <td>[From the Manufacturer, This Game of The Year ...</td>\n",
       "      <td>29.95</td>\n",
       "      <td>{'hi_res': [None, 'https://m.media-amazon.com/...</td>\n",
       "      <td>{'title': [], 'url': [], 'user_id': []}</td>\n",
       "      <td>THQ</td>\n",
       "      <td>[Video Games, PC, Games]</td>\n",
       "      <td>{\"Release date\": \"September 20, 2005\", \"Best S...</td>\n",
       "      <td>B001EYUX4Y</td>\n",
       "      <td>None</td>\n",
       "      <td>None</td>\n",
       "      <td>None</td>\n",
       "      <td>532</td>\n",
       "    </tr>\n",
       "    <tr>\n",
       "      <th>46</th>\n",
       "      <td>Video Games</td>\n",
       "      <td>Polk Audio Striker Zx Xbox One Gaming Headset ...</td>\n",
       "      <td>3.9</td>\n",
       "      <td>169</td>\n",
       "      <td>[Powered by 40 years of audio heritage and tun...</td>\n",
       "      <td>[Our ProFit Comfort system creates a lightweig...</td>\n",
       "      <td>None</td>\n",
       "      <td>{'hi_res': ['https://m.media-amazon.com/images...</td>\n",
       "      <td>{'title': [], 'url': [], 'user_id': []}</td>\n",
       "      <td>Polk Audio</td>\n",
       "      <td>[Video Games, Xbox One, Accessories, Headsets]</td>\n",
       "      <td>{\"Release date\": \"October 5, 2014\", \"Best Sell...</td>\n",
       "      <td>B00OLOQGAY</td>\n",
       "      <td>None</td>\n",
       "      <td>None</td>\n",
       "      <td>None</td>\n",
       "      <td>4199</td>\n",
       "    </tr>\n",
       "    <tr>\n",
       "      <th>63</th>\n",
       "      <td>Video Games</td>\n",
       "      <td>The Legend of Heroes: Trails in the Sky - Sony...</td>\n",
       "      <td>4.4</td>\n",
       "      <td>91</td>\n",
       "      <td>[After a brief hiatus since its last release i...</td>\n",
       "      <td>[Product Description, In the peaceful town of ...</td>\n",
       "      <td>185.0</td>\n",
       "      <td>{'hi_res': ['https://m.media-amazon.com/images...</td>\n",
       "      <td>{'title': ['The Legend of Heroes: Trails in th...</td>\n",
       "      <td>Xseed Games</td>\n",
       "      <td>[Video Games, Legacy Systems, PlayStation Syst...</td>\n",
       "      <td>{\"Release date\": \"March 29, 2011\", \"Best Selle...</td>\n",
       "      <td>B004BV5O0U</td>\n",
       "      <td>None</td>\n",
       "      <td>None</td>\n",
       "      <td>None</td>\n",
       "      <td>3554</td>\n",
       "    </tr>\n",
       "    <tr>\n",
       "      <th>65</th>\n",
       "      <td>Video Games</td>\n",
       "      <td>Harry Potter: Goblet of Fire - Sony PSP</td>\n",
       "      <td>3.6</td>\n",
       "      <td>38</td>\n",
       "      <td>[All the Magic of the Movie - Characters model...</td>\n",
       "      <td>[From the Manufacturer, Be Harry Potter in a n...</td>\n",
       "      <td>19.43</td>\n",
       "      <td>{'hi_res': [None, 'https://m.media-amazon.com/...</td>\n",
       "      <td>{'title': [], 'url': [], 'user_id': []}</td>\n",
       "      <td>Electronic Arts</td>\n",
       "      <td>[Purchase Circles, Geography, United States, M...</td>\n",
       "      <td>{\"Release date\": \"September 8, 2006\", \"Best Se...</td>\n",
       "      <td>B001ELJEA6</td>\n",
       "      <td>None</td>\n",
       "      <td>None</td>\n",
       "      <td>None</td>\n",
       "      <td>4227</td>\n",
       "    </tr>\n",
       "    <tr>\n",
       "      <th>...</th>\n",
       "      <td>...</td>\n",
       "      <td>...</td>\n",
       "      <td>...</td>\n",
       "      <td>...</td>\n",
       "      <td>...</td>\n",
       "      <td>...</td>\n",
       "      <td>...</td>\n",
       "      <td>...</td>\n",
       "      <td>...</td>\n",
       "      <td>...</td>\n",
       "      <td>...</td>\n",
       "      <td>...</td>\n",
       "      <td>...</td>\n",
       "      <td>...</td>\n",
       "      <td>...</td>\n",
       "      <td>...</td>\n",
       "      <td>...</td>\n",
       "    </tr>\n",
       "    <tr>\n",
       "      <th>118437</th>\n",
       "      <td>Video Games</td>\n",
       "      <td>Resident Evil 4</td>\n",
       "      <td>4.6</td>\n",
       "      <td>1133</td>\n",
       "      <td>[]</td>\n",
       "      <td>[In Resident Evil 4 you'll know a new type of ...</td>\n",
       "      <td>44.98</td>\n",
       "      <td>{'hi_res': ['https://m.media-amazon.com/images...</td>\n",
       "      <td>{'title': [], 'url': [], 'user_id': []}</td>\n",
       "      <td>Capcom</td>\n",
       "      <td>[Video Games, Legacy Systems, Nintendo Systems...</td>\n",
       "      <td>{\"Release date\": \"June 19, 2007\", \"Best Seller...</td>\n",
       "      <td>B000P46NKC</td>\n",
       "      <td>None</td>\n",
       "      <td>None</td>\n",
       "      <td>None</td>\n",
       "      <td>622</td>\n",
       "    </tr>\n",
       "    <tr>\n",
       "      <th>118457</th>\n",
       "      <td>All Electronics</td>\n",
       "      <td>ivoler Carrying Storage Case for Nintendo Swit...</td>\n",
       "      <td>4.8</td>\n",
       "      <td>13702</td>\n",
       "      <td>[Deluxe Travel Carrying Case. Specially design...</td>\n",
       "      <td>[]</td>\n",
       "      <td>26.39</td>\n",
       "      <td>{'hi_res': ['https://m.media-amazon.com/images...</td>\n",
       "      <td>{'title': [], 'url': [], 'user_id': []}</td>\n",
       "      <td>ivoler</td>\n",
       "      <td>[Video Games, Legacy Systems, Nintendo Systems...</td>\n",
       "      <td>{\"Product Dimensions\": \"11.2 x 4 x 9 inches\", ...</td>\n",
       "      <td>B076GYVWRY</td>\n",
       "      <td>None</td>\n",
       "      <td>None</td>\n",
       "      <td>None</td>\n",
       "      <td>1268</td>\n",
       "    </tr>\n",
       "    <tr>\n",
       "      <th>118459</th>\n",
       "      <td>Video Games</td>\n",
       "      <td>EastVita New Charger Dock + 4 x Battery for Ni...</td>\n",
       "      <td>3.9</td>\n",
       "      <td>676</td>\n",
       "      <td>[Include: 1x Remote Controller Charger 4 x 280...</td>\n",
       "      <td>[Charger Dock + 4 x Battery for Wii Remote]</td>\n",
       "      <td>None</td>\n",
       "      <td>{'hi_res': ['https://m.media-amazon.com/images...</td>\n",
       "      <td>{'title': [], 'url': [], 'user_id': []}</td>\n",
       "      <td>EastVita</td>\n",
       "      <td>[Video Games, Legacy Systems, Nintendo Systems...</td>\n",
       "      <td>{\"Pricing\": \"The strikethrough price is the Li...</td>\n",
       "      <td>B004Y2VAVS</td>\n",
       "      <td>None</td>\n",
       "      <td>None</td>\n",
       "      <td>None</td>\n",
       "      <td>2111</td>\n",
       "    </tr>\n",
       "    <tr>\n",
       "      <th>118510</th>\n",
       "      <td>Video Games</td>\n",
       "      <td>Mario &amp; Luigi: Partners In Time</td>\n",
       "      <td>4.6</td>\n",
       "      <td>607</td>\n",
       "      <td>[Players use the top screen to study the land,...</td>\n",
       "      <td>[Mario and Luigi: Partners In Time an insane s...</td>\n",
       "      <td>99.99</td>\n",
       "      <td>{'hi_res': ['https://m.media-amazon.com/images...</td>\n",
       "      <td>{'title': [], 'url': [], 'user_id': []}</td>\n",
       "      <td>Nintendo</td>\n",
       "      <td>[Video Games, Legacy Systems, Nintendo Systems...</td>\n",
       "      <td>{\"Release date\": \"November 28, 2005\", \"Best Se...</td>\n",
       "      <td>B000B8J7K0</td>\n",
       "      <td>None</td>\n",
       "      <td>None</td>\n",
       "      <td>None</td>\n",
       "      <td>435</td>\n",
       "    </tr>\n",
       "    <tr>\n",
       "      <th>118595</th>\n",
       "      <td>Toys &amp; Games</td>\n",
       "      <td>DC Superman Fun Pack - LEGO Dimensions</td>\n",
       "      <td>4.7</td>\n",
       "      <td>436</td>\n",
       "      <td>[Brand New in box. The product ships with all ...</td>\n",
       "      <td>[When a mysterious and powerful vortex suddenl...</td>\n",
       "      <td>None</td>\n",
       "      <td>{'hi_res': ['https://m.media-amazon.com/images...</td>\n",
       "      <td>{'title': [], 'url': [], 'user_id': []}</td>\n",
       "      <td>WARNER BROS</td>\n",
       "      <td>[Video Games, Legacy Systems, PlayStation Syst...</td>\n",
       "      <td>{\"Product Dimensions\": \"7.99 x 6.77 x 7.4 inch...</td>\n",
       "      <td>B00XUYWTUC</td>\n",
       "      <td>None</td>\n",
       "      <td>None</td>\n",
       "      <td>None</td>\n",
       "      <td>3046</td>\n",
       "    </tr>\n",
       "  </tbody>\n",
       "</table>\n",
       "<p>4630 rows × 17 columns</p>\n",
       "</div>"
      ],
      "text/plain": [
       "          main_category                                              title  \\\n",
       "2           Video Games   NBA 2K17 - Early Tip Off Edition - PlayStation 4   \n",
       "15          Video Games  Warhammer 40,000 Dawn of War Game of the Year ...   \n",
       "46          Video Games  Polk Audio Striker Zx Xbox One Gaming Headset ...   \n",
       "63          Video Games  The Legend of Heroes: Trails in the Sky - Sony...   \n",
       "65          Video Games            Harry Potter: Goblet of Fire - Sony PSP   \n",
       "...                 ...                                                ...   \n",
       "118437      Video Games                                    Resident Evil 4   \n",
       "118457  All Electronics  ivoler Carrying Storage Case for Nintendo Swit...   \n",
       "118459      Video Games  EastVita New Charger Dock + 4 x Battery for Ni...   \n",
       "118510      Video Games                    Mario & Luigi: Partners In Time   \n",
       "118595     Toys & Games             DC Superman Fun Pack - LEGO Dimensions   \n",
       "\n",
       "        average_rating  rating_number  \\\n",
       "2                  4.3            223   \n",
       "15                 4.0             68   \n",
       "46                 3.9            169   \n",
       "63                 4.4             91   \n",
       "65                 3.6             38   \n",
       "...                ...            ...   \n",
       "118437             4.6           1133   \n",
       "118457             4.8          13702   \n",
       "118459             3.9            676   \n",
       "118510             4.6            607   \n",
       "118595             4.7            436   \n",
       "\n",
       "                                                 features  \\\n",
       "2       [The #1 rated NBA video game simulation series...   \n",
       "15      [Real-time strategy game based on the popular ...   \n",
       "46      [Powered by 40 years of audio heritage and tun...   \n",
       "63      [After a brief hiatus since its last release i...   \n",
       "65      [All the Magic of the Movie - Characters model...   \n",
       "...                                                   ...   \n",
       "118437                                                 []   \n",
       "118457  [Deluxe Travel Carrying Case. Specially design...   \n",
       "118459  [Include: 1x Remote Controller Charger 4 x 280...   \n",
       "118510  [Players use the top screen to study the land,...   \n",
       "118595  [Brand New in box. The product ships with all ...   \n",
       "\n",
       "                                              description  price  \\\n",
       "2       [Following the record-breaking launch of NBA 2...   58.0   \n",
       "15      [From the Manufacturer, This Game of The Year ...  29.95   \n",
       "46      [Our ProFit Comfort system creates a lightweig...   None   \n",
       "63      [Product Description, In the peaceful town of ...  185.0   \n",
       "65      [From the Manufacturer, Be Harry Potter in a n...  19.43   \n",
       "...                                                   ...    ...   \n",
       "118437  [In Resident Evil 4 you'll know a new type of ...  44.98   \n",
       "118457                                                 []  26.39   \n",
       "118459        [Charger Dock + 4 x Battery for Wii Remote]   None   \n",
       "118510  [Mario and Luigi: Partners In Time an insane s...  99.99   \n",
       "118595  [When a mysterious and powerful vortex suddenl...   None   \n",
       "\n",
       "                                                   images  \\\n",
       "2       {'hi_res': ['https://m.media-amazon.com/images...   \n",
       "15      {'hi_res': [None, 'https://m.media-amazon.com/...   \n",
       "46      {'hi_res': ['https://m.media-amazon.com/images...   \n",
       "63      {'hi_res': ['https://m.media-amazon.com/images...   \n",
       "65      {'hi_res': [None, 'https://m.media-amazon.com/...   \n",
       "...                                                   ...   \n",
       "118437  {'hi_res': ['https://m.media-amazon.com/images...   \n",
       "118457  {'hi_res': ['https://m.media-amazon.com/images...   \n",
       "118459  {'hi_res': ['https://m.media-amazon.com/images...   \n",
       "118510  {'hi_res': ['https://m.media-amazon.com/images...   \n",
       "118595  {'hi_res': ['https://m.media-amazon.com/images...   \n",
       "\n",
       "                                                   videos            store  \\\n",
       "2       {'title': ['NBA 2K17 - Kobe: Haters vs Players...               2K   \n",
       "15                {'title': [], 'url': [], 'user_id': []}              THQ   \n",
       "46                {'title': [], 'url': [], 'user_id': []}       Polk Audio   \n",
       "63      {'title': ['The Legend of Heroes: Trails in th...      Xseed Games   \n",
       "65                {'title': [], 'url': [], 'user_id': []}  Electronic Arts   \n",
       "...                                                   ...              ...   \n",
       "118437            {'title': [], 'url': [], 'user_id': []}           Capcom   \n",
       "118457            {'title': [], 'url': [], 'user_id': []}           ivoler   \n",
       "118459            {'title': [], 'url': [], 'user_id': []}         EastVita   \n",
       "118510            {'title': [], 'url': [], 'user_id': []}         Nintendo   \n",
       "118595            {'title': [], 'url': [], 'user_id': []}      WARNER BROS   \n",
       "\n",
       "                                               categories  \\\n",
       "2                     [Video Games, PlayStation 4, Games]   \n",
       "15                               [Video Games, PC, Games]   \n",
       "46         [Video Games, Xbox One, Accessories, Headsets]   \n",
       "63      [Video Games, Legacy Systems, PlayStation Syst...   \n",
       "65      [Purchase Circles, Geography, United States, M...   \n",
       "...                                                   ...   \n",
       "118437  [Video Games, Legacy Systems, Nintendo Systems...   \n",
       "118457  [Video Games, Legacy Systems, Nintendo Systems...   \n",
       "118459  [Video Games, Legacy Systems, Nintendo Systems...   \n",
       "118510  [Video Games, Legacy Systems, Nintendo Systems...   \n",
       "118595  [Video Games, Legacy Systems, PlayStation Syst...   \n",
       "\n",
       "                                                  details parent_asin  \\\n",
       "2       {\"Release date\": \"September 16, 2016\", \"Best S...  B00Z9TLVK0   \n",
       "15      {\"Release date\": \"September 20, 2005\", \"Best S...  B001EYUX4Y   \n",
       "46      {\"Release date\": \"October 5, 2014\", \"Best Sell...  B00OLOQGAY   \n",
       "63      {\"Release date\": \"March 29, 2011\", \"Best Selle...  B004BV5O0U   \n",
       "65      {\"Release date\": \"September 8, 2006\", \"Best Se...  B001ELJEA6   \n",
       "...                                                   ...         ...   \n",
       "118437  {\"Release date\": \"June 19, 2007\", \"Best Seller...  B000P46NKC   \n",
       "118457  {\"Product Dimensions\": \"11.2 x 4 x 9 inches\", ...  B076GYVWRY   \n",
       "118459  {\"Pricing\": \"The strikethrough price is the Li...  B004Y2VAVS   \n",
       "118510  {\"Release date\": \"November 28, 2005\", \"Best Se...  B000B8J7K0   \n",
       "118595  {\"Product Dimensions\": \"7.99 x 6.77 x 7.4 inch...  B00XUYWTUC   \n",
       "\n",
       "       bought_together subtitle author  item_indice  \n",
       "2                 None     None   None          763  \n",
       "15                None     None   None          532  \n",
       "46                None     None   None         4199  \n",
       "63                None     None   None         3554  \n",
       "65                None     None   None         4227  \n",
       "...                ...      ...    ...          ...  \n",
       "118437            None     None   None          622  \n",
       "118457            None     None   None         1268  \n",
       "118459            None     None   None         2111  \n",
       "118510            None     None   None          435  \n",
       "118595            None     None   None         3046  \n",
       "\n",
       "[4630 rows x 17 columns]"
      ]
     },
     "execution_count": 118,
     "metadata": {},
     "output_type": "execute_result"
    }
   ],
   "source": [
    "metadata_raw = load_dataset(\n",
    "    \"McAuley-Lab/Amazon-Reviews-2023\", \"raw_meta_Video_Games\", trust_remote_code=True\n",
    ")\n",
    "metadata_df = (\n",
    "    metadata_raw[\"full\"].to_pandas()\n",
    "    .loc[lambda df: df[args.item_col].isin(list(idm.item_to_index.keys()))]\n",
    "    .assign(\n",
    "        item_indice=lambda df: df[args.item_col].map(lambda s: idm.get_item_index(s))\n",
    "    )\n",
    ")\n",
    "metadata_df"
   ]
  },
  {
   "cell_type": "code",
   "execution_count": 36,
   "id": "d4ccc1d5-3940-4f2e-89ba-b23a5233ae77",
   "metadata": {},
   "outputs": [],
   "source": [
    "train_df = pd.read_parquet(\"../data/train_features_neg_df.parquet\")\n",
    "all_val_df = pd.read_parquet(\"../data/val_features_neg_df.parquet\")"
   ]
  },
  {
   "cell_type": "code",
   "execution_count": 39,
   "id": "a23f217d-c595-4a2c-88d8-d9a74cfab53f",
   "metadata": {},
   "outputs": [
    {
     "data": {
      "application/vnd.plotly.v1+json": {
       "config": {
        "plotlyServerURL": "https://plot.ly"
       },
       "data": [
        {
         "alignmentgroup": "True",
         "hovertemplate": "Date=%{x}<br>Number of Interactions=%{y}<extra></extra>",
         "legendgroup": "",
         "marker": {
          "color": "#114B8F",
          "pattern": {
           "shape": ""
          }
         },
         "name": "",
         "offsetgroup": "",
         "orientation": "v",
         "showlegend": false,
         "textposition": "auto",
         "type": "bar",
         "x": [
          "2021-08-11",
          "2021-08-12",
          "2021-08-13",
          "2021-08-14",
          "2021-08-15",
          "2021-08-16",
          "2021-08-17",
          "2021-08-18",
          "2021-08-19",
          "2021-08-20",
          "2021-08-21",
          "2021-08-22",
          "2021-08-23",
          "2021-08-24",
          "2021-08-25",
          "2021-08-26",
          "2021-08-27",
          "2021-08-28",
          "2021-08-29",
          "2021-08-30",
          "2021-08-31",
          "2021-09-01",
          "2021-09-02",
          "2021-09-03",
          "2021-09-04",
          "2021-09-05",
          "2021-09-06",
          "2021-09-07",
          "2021-09-08",
          "2021-09-09",
          "2021-09-10",
          "2021-09-11",
          "2021-09-12",
          "2021-09-13",
          "2021-09-14",
          "2021-09-15",
          "2021-09-16",
          "2021-09-17",
          "2021-09-18",
          "2021-09-19",
          "2021-09-20",
          "2021-09-21",
          "2021-09-22",
          "2021-09-23",
          "2021-09-24",
          "2021-09-26",
          "2021-09-27",
          "2021-09-29",
          "2021-09-30",
          "2021-10-01",
          "2021-10-03",
          "2021-10-04",
          "2021-10-05",
          "2021-10-06",
          "2021-10-07",
          "2021-10-08",
          "2021-10-10",
          "2021-10-11",
          "2021-10-12",
          "2021-10-13",
          "2021-10-14",
          "2021-10-15",
          "2021-10-16",
          "2021-10-17",
          "2021-10-18",
          "2021-10-19",
          "2021-10-20",
          "2021-10-21",
          "2021-10-22",
          "2021-10-24",
          "2021-10-25",
          "2021-10-26",
          "2021-10-27",
          "2021-10-28",
          "2021-10-29",
          "2021-10-30",
          "2021-10-31",
          "2021-11-01",
          "2021-11-02",
          "2021-11-04",
          "2021-11-05",
          "2021-11-07",
          "2021-11-08",
          "2021-11-09",
          "2021-11-10",
          "2021-11-11",
          "2021-11-12",
          "2021-11-13",
          "2021-11-14",
          "2021-11-15",
          "2021-11-16",
          "2021-11-17",
          "2021-11-18",
          "2021-11-19",
          "2021-11-21",
          "2021-11-22",
          "2021-11-23",
          "2021-11-24",
          "2021-11-25",
          "2021-11-26",
          "2021-11-28",
          "2021-11-29",
          "2021-11-30",
          "2021-12-01",
          "2021-12-02",
          "2021-12-03",
          "2021-12-04",
          "2021-12-05",
          "2021-12-06",
          "2021-12-07",
          "2021-12-08",
          "2021-12-09",
          "2021-12-10",
          "2021-12-12",
          "2021-12-13",
          "2021-12-14",
          "2021-12-18",
          "2021-12-19",
          "2021-12-20",
          "2021-12-21",
          "2021-12-23",
          "2021-12-24",
          "2021-12-25",
          "2021-12-26",
          "2021-12-27",
          "2021-12-28",
          "2021-12-29",
          "2021-12-30",
          "2021-12-31",
          "2022-01-01",
          "2022-01-02",
          "2022-01-03",
          "2022-01-04",
          "2022-01-05",
          "2022-01-06",
          "2022-01-08",
          "2022-01-09",
          "2022-01-10",
          "2022-01-11",
          "2022-01-12",
          "2022-01-13",
          "2022-01-14",
          "2022-01-15",
          "2022-01-16",
          "2022-01-17",
          "2022-01-18",
          "2022-01-19",
          "2022-01-20",
          "2022-01-21",
          "2022-01-22",
          "2022-01-23",
          "2022-01-24",
          "2022-01-25",
          "2022-01-26",
          "2022-01-27"
         ],
         "xaxis": "x",
         "y": [
          8,
          12,
          6,
          16,
          8,
          4,
          4,
          6,
          8,
          2,
          10,
          16,
          4,
          6,
          2,
          8,
          8,
          2,
          14,
          10,
          4,
          12,
          12,
          10,
          10,
          14,
          6,
          10,
          4,
          6,
          8,
          4,
          8,
          4,
          4,
          6,
          12,
          8,
          14,
          12,
          4,
          2,
          10,
          14,
          6,
          4,
          6,
          6,
          8,
          10,
          4,
          2,
          4,
          4,
          4,
          10,
          4,
          16,
          6,
          4,
          4,
          2,
          2,
          6,
          12,
          10,
          4,
          12,
          6,
          2,
          8,
          4,
          8,
          2,
          8,
          2,
          2,
          4,
          8,
          4,
          6,
          6,
          2,
          6,
          4,
          12,
          8,
          10,
          6,
          2,
          4,
          12,
          4,
          10,
          6,
          2,
          24,
          4,
          10,
          10,
          4,
          6,
          10,
          4,
          8,
          10,
          8,
          6,
          6,
          6,
          10,
          4,
          6,
          10,
          6,
          2,
          8,
          4,
          8,
          6,
          6,
          10,
          2,
          4,
          4,
          8,
          4,
          10,
          16,
          6,
          10,
          8,
          2,
          6,
          6,
          12,
          8,
          6,
          4,
          8,
          4,
          6,
          4,
          12,
          14,
          8,
          10,
          6,
          12,
          14,
          2,
          6,
          4,
          12,
          2
         ],
         "yaxis": "y"
        }
       ],
       "layout": {
        "autosize": true,
        "barmode": "relative",
        "legend": {
         "tracegroupgap": 0
        },
        "template": {
         "layout": {
          "colorway": [
           "#114B8F",
           "#248F11",
           "#8F6211",
           "#8F116C",
           "#1A293A"
          ],
          "font": {
           "family": "Inter Variable, Inter"
          },
          "showlegend": false,
          "template": {
           "data": {
            "bar": [
             {
              "error_x": {
               "color": "rgb(36,36,36)"
              },
              "error_y": {
               "color": "rgb(36,36,36)"
              },
              "marker": {
               "line": {
                "color": "white",
                "width": 0.5
               },
               "pattern": {
                "fillmode": "overlay",
                "size": 10,
                "solidity": 0.2
               }
              },
              "type": "bar"
             }
            ],
            "barpolar": [
             {
              "marker": {
               "line": {
                "color": "white",
                "width": 0.5
               },
               "pattern": {
                "fillmode": "overlay",
                "size": 10,
                "solidity": 0.2
               }
              },
              "type": "barpolar"
             }
            ],
            "carpet": [
             {
              "aaxis": {
               "endlinecolor": "rgb(36,36,36)",
               "gridcolor": "white",
               "linecolor": "white",
               "minorgridcolor": "white",
               "startlinecolor": "rgb(36,36,36)"
              },
              "baxis": {
               "endlinecolor": "rgb(36,36,36)",
               "gridcolor": "white",
               "linecolor": "white",
               "minorgridcolor": "white",
               "startlinecolor": "rgb(36,36,36)"
              },
              "type": "carpet"
             }
            ],
            "choropleth": [
             {
              "colorbar": {
               "outlinewidth": 1,
               "tickcolor": "rgb(36,36,36)",
               "ticks": "outside"
              },
              "type": "choropleth"
             }
            ],
            "contour": [
             {
              "colorbar": {
               "outlinewidth": 1,
               "tickcolor": "rgb(36,36,36)",
               "ticks": "outside"
              },
              "colorscale": [
               [
                0,
                "#440154"
               ],
               [
                0.1111111111111111,
                "#482878"
               ],
               [
                0.2222222222222222,
                "#3e4989"
               ],
               [
                0.3333333333333333,
                "#31688e"
               ],
               [
                0.4444444444444444,
                "#26828e"
               ],
               [
                0.5555555555555556,
                "#1f9e89"
               ],
               [
                0.6666666666666666,
                "#35b779"
               ],
               [
                0.7777777777777778,
                "#6ece58"
               ],
               [
                0.8888888888888888,
                "#b5de2b"
               ],
               [
                1,
                "#fde725"
               ]
              ],
              "type": "contour"
             }
            ],
            "contourcarpet": [
             {
              "colorbar": {
               "outlinewidth": 1,
               "tickcolor": "rgb(36,36,36)",
               "ticks": "outside"
              },
              "type": "contourcarpet"
             }
            ],
            "heatmap": [
             {
              "colorbar": {
               "outlinewidth": 1,
               "tickcolor": "rgb(36,36,36)",
               "ticks": "outside"
              },
              "colorscale": [
               [
                0,
                "#440154"
               ],
               [
                0.1111111111111111,
                "#482878"
               ],
               [
                0.2222222222222222,
                "#3e4989"
               ],
               [
                0.3333333333333333,
                "#31688e"
               ],
               [
                0.4444444444444444,
                "#26828e"
               ],
               [
                0.5555555555555556,
                "#1f9e89"
               ],
               [
                0.6666666666666666,
                "#35b779"
               ],
               [
                0.7777777777777778,
                "#6ece58"
               ],
               [
                0.8888888888888888,
                "#b5de2b"
               ],
               [
                1,
                "#fde725"
               ]
              ],
              "type": "heatmap"
             }
            ],
            "heatmapgl": [
             {
              "colorbar": {
               "outlinewidth": 1,
               "tickcolor": "rgb(36,36,36)",
               "ticks": "outside"
              },
              "colorscale": [
               [
                0,
                "#440154"
               ],
               [
                0.1111111111111111,
                "#482878"
               ],
               [
                0.2222222222222222,
                "#3e4989"
               ],
               [
                0.3333333333333333,
                "#31688e"
               ],
               [
                0.4444444444444444,
                "#26828e"
               ],
               [
                0.5555555555555556,
                "#1f9e89"
               ],
               [
                0.6666666666666666,
                "#35b779"
               ],
               [
                0.7777777777777778,
                "#6ece58"
               ],
               [
                0.8888888888888888,
                "#b5de2b"
               ],
               [
                1,
                "#fde725"
               ]
              ],
              "type": "heatmapgl"
             }
            ],
            "histogram": [
             {
              "marker": {
               "line": {
                "color": "white",
                "width": 0.6
               }
              },
              "type": "histogram"
             }
            ],
            "histogram2d": [
             {
              "colorbar": {
               "outlinewidth": 1,
               "tickcolor": "rgb(36,36,36)",
               "ticks": "outside"
              },
              "colorscale": [
               [
                0,
                "#440154"
               ],
               [
                0.1111111111111111,
                "#482878"
               ],
               [
                0.2222222222222222,
                "#3e4989"
               ],
               [
                0.3333333333333333,
                "#31688e"
               ],
               [
                0.4444444444444444,
                "#26828e"
               ],
               [
                0.5555555555555556,
                "#1f9e89"
               ],
               [
                0.6666666666666666,
                "#35b779"
               ],
               [
                0.7777777777777778,
                "#6ece58"
               ],
               [
                0.8888888888888888,
                "#b5de2b"
               ],
               [
                1,
                "#fde725"
               ]
              ],
              "type": "histogram2d"
             }
            ],
            "histogram2dcontour": [
             {
              "colorbar": {
               "outlinewidth": 1,
               "tickcolor": "rgb(36,36,36)",
               "ticks": "outside"
              },
              "colorscale": [
               [
                0,
                "#440154"
               ],
               [
                0.1111111111111111,
                "#482878"
               ],
               [
                0.2222222222222222,
                "#3e4989"
               ],
               [
                0.3333333333333333,
                "#31688e"
               ],
               [
                0.4444444444444444,
                "#26828e"
               ],
               [
                0.5555555555555556,
                "#1f9e89"
               ],
               [
                0.6666666666666666,
                "#35b779"
               ],
               [
                0.7777777777777778,
                "#6ece58"
               ],
               [
                0.8888888888888888,
                "#b5de2b"
               ],
               [
                1,
                "#fde725"
               ]
              ],
              "type": "histogram2dcontour"
             }
            ],
            "mesh3d": [
             {
              "colorbar": {
               "outlinewidth": 1,
               "tickcolor": "rgb(36,36,36)",
               "ticks": "outside"
              },
              "type": "mesh3d"
             }
            ],
            "parcoords": [
             {
              "line": {
               "colorbar": {
                "outlinewidth": 1,
                "tickcolor": "rgb(36,36,36)",
                "ticks": "outside"
               }
              },
              "type": "parcoords"
             }
            ],
            "pie": [
             {
              "automargin": true,
              "type": "pie"
             }
            ],
            "scatter": [
             {
              "fillpattern": {
               "fillmode": "overlay",
               "size": 10,
               "solidity": 0.2
              },
              "type": "scatter"
             }
            ],
            "scatter3d": [
             {
              "line": {
               "colorbar": {
                "outlinewidth": 1,
                "tickcolor": "rgb(36,36,36)",
                "ticks": "outside"
               }
              },
              "marker": {
               "colorbar": {
                "outlinewidth": 1,
                "tickcolor": "rgb(36,36,36)",
                "ticks": "outside"
               }
              },
              "type": "scatter3d"
             }
            ],
            "scattercarpet": [
             {
              "marker": {
               "colorbar": {
                "outlinewidth": 1,
                "tickcolor": "rgb(36,36,36)",
                "ticks": "outside"
               }
              },
              "type": "scattercarpet"
             }
            ],
            "scattergeo": [
             {
              "marker": {
               "colorbar": {
                "outlinewidth": 1,
                "tickcolor": "rgb(36,36,36)",
                "ticks": "outside"
               }
              },
              "type": "scattergeo"
             }
            ],
            "scattergl": [
             {
              "marker": {
               "colorbar": {
                "outlinewidth": 1,
                "tickcolor": "rgb(36,36,36)",
                "ticks": "outside"
               }
              },
              "type": "scattergl"
             }
            ],
            "scattermapbox": [
             {
              "marker": {
               "colorbar": {
                "outlinewidth": 1,
                "tickcolor": "rgb(36,36,36)",
                "ticks": "outside"
               }
              },
              "type": "scattermapbox"
             }
            ],
            "scatterpolar": [
             {
              "marker": {
               "colorbar": {
                "outlinewidth": 1,
                "tickcolor": "rgb(36,36,36)",
                "ticks": "outside"
               }
              },
              "type": "scatterpolar"
             }
            ],
            "scatterpolargl": [
             {
              "marker": {
               "colorbar": {
                "outlinewidth": 1,
                "tickcolor": "rgb(36,36,36)",
                "ticks": "outside"
               }
              },
              "type": "scatterpolargl"
             }
            ],
            "scatterternary": [
             {
              "marker": {
               "colorbar": {
                "outlinewidth": 1,
                "tickcolor": "rgb(36,36,36)",
                "ticks": "outside"
               }
              },
              "type": "scatterternary"
             }
            ],
            "surface": [
             {
              "colorbar": {
               "outlinewidth": 1,
               "tickcolor": "rgb(36,36,36)",
               "ticks": "outside"
              },
              "colorscale": [
               [
                0,
                "#440154"
               ],
               [
                0.1111111111111111,
                "#482878"
               ],
               [
                0.2222222222222222,
                "#3e4989"
               ],
               [
                0.3333333333333333,
                "#31688e"
               ],
               [
                0.4444444444444444,
                "#26828e"
               ],
               [
                0.5555555555555556,
                "#1f9e89"
               ],
               [
                0.6666666666666666,
                "#35b779"
               ],
               [
                0.7777777777777778,
                "#6ece58"
               ],
               [
                0.8888888888888888,
                "#b5de2b"
               ],
               [
                1,
                "#fde725"
               ]
              ],
              "type": "surface"
             }
            ],
            "table": [
             {
              "cells": {
               "fill": {
                "color": "rgb(237,237,237)"
               },
               "line": {
                "color": "white"
               }
              },
              "header": {
               "fill": {
                "color": "rgb(217,217,217)"
               },
               "line": {
                "color": "white"
               }
              },
              "type": "table"
             }
            ]
           },
           "layout": {
            "annotationdefaults": {
             "arrowhead": 0,
             "arrowwidth": 1
            },
            "autotypenumbers": "strict",
            "coloraxis": {
             "colorbar": {
              "outlinewidth": 1,
              "tickcolor": "rgb(36,36,36)",
              "ticks": "outside"
             }
            },
            "colorscale": {
             "diverging": [
              [
               0,
               "rgb(103,0,31)"
              ],
              [
               0.1,
               "rgb(178,24,43)"
              ],
              [
               0.2,
               "rgb(214,96,77)"
              ],
              [
               0.3,
               "rgb(244,165,130)"
              ],
              [
               0.4,
               "rgb(253,219,199)"
              ],
              [
               0.5,
               "rgb(247,247,247)"
              ],
              [
               0.6,
               "rgb(209,229,240)"
              ],
              [
               0.7,
               "rgb(146,197,222)"
              ],
              [
               0.8,
               "rgb(67,147,195)"
              ],
              [
               0.9,
               "rgb(33,102,172)"
              ],
              [
               1,
               "rgb(5,48,97)"
              ]
             ],
             "sequential": [
              [
               0,
               "#440154"
              ],
              [
               0.1111111111111111,
               "#482878"
              ],
              [
               0.2222222222222222,
               "#3e4989"
              ],
              [
               0.3333333333333333,
               "#31688e"
              ],
              [
               0.4444444444444444,
               "#26828e"
              ],
              [
               0.5555555555555556,
               "#1f9e89"
              ],
              [
               0.6666666666666666,
               "#35b779"
              ],
              [
               0.7777777777777778,
               "#6ece58"
              ],
              [
               0.8888888888888888,
               "#b5de2b"
              ],
              [
               1,
               "#fde725"
              ]
             ],
             "sequentialminus": [
              [
               0,
               "#440154"
              ],
              [
               0.1111111111111111,
               "#482878"
              ],
              [
               0.2222222222222222,
               "#3e4989"
              ],
              [
               0.3333333333333333,
               "#31688e"
              ],
              [
               0.4444444444444444,
               "#26828e"
              ],
              [
               0.5555555555555556,
               "#1f9e89"
              ],
              [
               0.6666666666666666,
               "#35b779"
              ],
              [
               0.7777777777777778,
               "#6ece58"
              ],
              [
               0.8888888888888888,
               "#b5de2b"
              ],
              [
               1,
               "#fde725"
              ]
             ]
            },
            "colorway": [
             "#1F77B4",
             "#FF7F0E",
             "#2CA02C",
             "#D62728",
             "#9467BD",
             "#8C564B",
             "#E377C2",
             "#7F7F7F",
             "#BCBD22",
             "#17BECF"
            ],
            "font": {
             "color": "rgb(36,36,36)"
            },
            "geo": {
             "bgcolor": "white",
             "lakecolor": "white",
             "landcolor": "white",
             "showlakes": true,
             "showland": true,
             "subunitcolor": "white"
            },
            "hoverlabel": {
             "align": "left"
            },
            "hovermode": "closest",
            "mapbox": {
             "style": "light"
            },
            "paper_bgcolor": "white",
            "plot_bgcolor": "white",
            "polar": {
             "angularaxis": {
              "gridcolor": "rgb(232,232,232)",
              "linecolor": "rgb(36,36,36)",
              "showgrid": false,
              "showline": true,
              "ticks": "outside"
             },
             "bgcolor": "white",
             "radialaxis": {
              "gridcolor": "rgb(232,232,232)",
              "linecolor": "rgb(36,36,36)",
              "showgrid": false,
              "showline": true,
              "ticks": "outside"
             }
            },
            "scene": {
             "xaxis": {
              "backgroundcolor": "white",
              "gridcolor": "rgb(232,232,232)",
              "gridwidth": 2,
              "linecolor": "rgb(36,36,36)",
              "showbackground": true,
              "showgrid": false,
              "showline": true,
              "ticks": "outside",
              "zeroline": false,
              "zerolinecolor": "rgb(36,36,36)"
             },
             "yaxis": {
              "backgroundcolor": "white",
              "gridcolor": "rgb(232,232,232)",
              "gridwidth": 2,
              "linecolor": "rgb(36,36,36)",
              "showbackground": true,
              "showgrid": false,
              "showline": true,
              "ticks": "outside",
              "zeroline": false,
              "zerolinecolor": "rgb(36,36,36)"
             },
             "zaxis": {
              "backgroundcolor": "white",
              "gridcolor": "rgb(232,232,232)",
              "gridwidth": 2,
              "linecolor": "rgb(36,36,36)",
              "showbackground": true,
              "showgrid": false,
              "showline": true,
              "ticks": "outside",
              "zeroline": false,
              "zerolinecolor": "rgb(36,36,36)"
             }
            },
            "shapedefaults": {
             "fillcolor": "black",
             "line": {
              "width": 0
             },
             "opacity": 0.3
            },
            "ternary": {
             "aaxis": {
              "gridcolor": "rgb(232,232,232)",
              "linecolor": "rgb(36,36,36)",
              "showgrid": false,
              "showline": true,
              "ticks": "outside"
             },
             "baxis": {
              "gridcolor": "rgb(232,232,232)",
              "linecolor": "rgb(36,36,36)",
              "showgrid": false,
              "showline": true,
              "ticks": "outside"
             },
             "bgcolor": "white",
             "caxis": {
              "gridcolor": "rgb(232,232,232)",
              "linecolor": "rgb(36,36,36)",
              "showgrid": false,
              "showline": true,
              "ticks": "outside"
             }
            },
            "title": {
             "x": 0.05
            },
            "xaxis": {
             "automargin": true,
             "gridcolor": "rgb(232,232,232)",
             "linecolor": "rgb(36,36,36)",
             "showgrid": false,
             "showline": true,
             "ticks": "outside",
             "title": {
              "standoff": 15
             },
             "zeroline": false,
             "zerolinecolor": "rgb(36,36,36)"
            },
            "yaxis": {
             "automargin": true,
             "gridcolor": "rgb(232,232,232)",
             "linecolor": "rgb(36,36,36)",
             "showgrid": false,
             "showline": true,
             "ticks": "outside",
             "title": {
              "standoff": 15
             },
             "zeroline": false,
             "zerolinecolor": "rgb(36,36,36)"
            }
           }
          },
          "title": {
           "font": {
            "family": "Inter Variable, Inter Tight, Inter",
            "weight": "bold"
           }
          },
          "xaxis": {
           "showgrid": false
          },
          "yaxis": {
           "showgrid": false
          }
         }
        },
        "title": {
         "text": "Interaction over time (assuming US/Eastern timezone)"
        },
        "xaxis": {
         "anchor": "y",
         "autorange": true,
         "domain": [
          0,
          1
         ],
         "range": [
          "2021-08-10 12:00",
          "2022-01-27 12:00"
         ],
         "title": {
          "text": "Date"
         },
         "type": "date"
        },
        "yaxis": {
         "anchor": "x",
         "autorange": true,
         "domain": [
          0,
          1
         ],
         "range": [
          0,
          25.263157894736842
         ],
         "showticklabels": true,
         "tickformat": ",",
         "title": {
          "text": "Number of Interactions"
         },
         "type": "linear"
        }
       }
      },
      "image/png": "[encoded data removed]",
      "text/html": [
       "<div>                            <div id=\"060fa06f-4623-43bc-9e30-e43a47134e94\" class=\"plotly-graph-div\" style=\"height:500px; width:100%;\"></div>            <script type=\"text/javascript\">                require([\"plotly\"], function(Plotly) {                    window.PLOTLYENV=window.PLOTLYENV || {};                                    if (document.getElementById(\"060fa06f-4623-43bc-9e30-e43a47134e94\")) {                    Plotly.newPlot(                        \"060fa06f-4623-43bc-9e30-e43a47134e94\",                        [{\"alignmentgroup\":\"True\",\"hovertemplate\":\"Date=%{x}\\u003cbr\\u003eNumber of Interactions=%{y}\\u003cextra\\u003e\\u003c\\u002fextra\\u003e\",\"legendgroup\":\"\",\"marker\":{\"color\":\"#114B8F\",\"pattern\":{\"shape\":\"\"}},\"name\":\"\",\"offsetgroup\":\"\",\"orientation\":\"v\",\"showlegend\":false,\"textposition\":\"auto\",\"x\":[\"2021-08-11\",\"2021-08-12\",\"2021-08-13\",\"2021-08-14\",\"2021-08-15\",\"2021-08-16\",\"2021-08-17\",\"2021-08-18\",\"2021-08-19\",\"2021-08-20\",\"2021-08-21\",\"2021-08-22\",\"2021-08-23\",\"2021-08-24\",\"2021-08-25\",\"2021-08-26\",\"2021-08-27\",\"2021-08-28\",\"2021-08-29\",\"2021-08-30\",\"2021-08-31\",\"2021-09-01\",\"2021-09-02\",\"2021-09-03\",\"2021-09-04\",\"2021-09-05\",\"2021-09-06\",\"2021-09-07\",\"2021-09-08\",\"2021-09-09\",\"2021-09-10\",\"2021-09-11\",\"2021-09-12\",\"2021-09-13\",\"2021-09-14\",\"2021-09-15\",\"2021-09-16\",\"2021-09-17\",\"2021-09-18\",\"2021-09-19\",\"2021-09-20\",\"2021-09-21\",\"2021-09-22\",\"2021-09-23\",\"2021-09-24\",\"2021-09-26\",\"2021-09-27\",\"2021-09-29\",\"2021-09-30\",\"2021-10-01\",\"2021-10-03\",\"2021-10-04\",\"2021-10-05\",\"2021-10-06\",\"2021-10-07\",\"2021-10-08\",\"2021-10-10\",\"2021-10-11\",\"2021-10-12\",\"2021-10-13\",\"2021-10-14\",\"2021-10-15\",\"2021-10-16\",\"2021-10-17\",\"2021-10-18\",\"2021-10-19\",\"2021-10-20\",\"2021-10-21\",\"2021-10-22\",\"2021-10-24\",\"2021-10-25\",\"2021-10-26\",\"2021-10-27\",\"2021-10-28\",\"2021-10-29\",\"2021-10-30\",\"2021-10-31\",\"2021-11-01\",\"2021-11-02\",\"2021-11-04\",\"2021-11-05\",\"2021-11-07\",\"2021-11-08\",\"2021-11-09\",\"2021-11-10\",\"2021-11-11\",\"2021-11-12\",\"2021-11-13\",\"2021-11-14\",\"2021-11-15\",\"2021-11-16\",\"2021-11-17\",\"2021-11-18\",\"2021-11-19\",\"2021-11-21\",\"2021-11-22\",\"2021-11-23\",\"2021-11-24\",\"2021-11-25\",\"2021-11-26\",\"2021-11-28\",\"2021-11-29\",\"2021-11-30\",\"2021-12-01\",\"2021-12-02\",\"2021-12-03\",\"2021-12-04\",\"2021-12-05\",\"2021-12-06\",\"2021-12-07\",\"2021-12-08\",\"2021-12-09\",\"2021-12-10\",\"2021-12-12\",\"2021-12-13\",\"2021-12-14\",\"2021-12-18\",\"2021-12-19\",\"2021-12-20\",\"2021-12-21\",\"2021-12-23\",\"2021-12-24\",\"2021-12-25\",\"2021-12-26\",\"2021-12-27\",\"2021-12-28\",\"2021-12-29\",\"2021-12-30\",\"2021-12-31\",\"2022-01-01\",\"2022-01-02\",\"2022-01-03\",\"2022-01-04\",\"2022-01-05\",\"2022-01-06\",\"2022-01-08\",\"2022-01-09\",\"2022-01-10\",\"2022-01-11\",\"2022-01-12\",\"2022-01-13\",\"2022-01-14\",\"2022-01-15\",\"2022-01-16\",\"2022-01-17\",\"2022-01-18\",\"2022-01-19\",\"2022-01-20\",\"2022-01-21\",\"2022-01-22\",\"2022-01-23\",\"2022-01-24\",\"2022-01-25\",\"2022-01-26\",\"2022-01-27\"],\"xaxis\":\"x\",\"y\":[8,12,6,16,8,4,4,6,8,2,10,16,4,6,2,8,8,2,14,10,4,12,12,10,10,14,6,10,4,6,8,4,8,4,4,6,12,8,14,12,4,2,10,14,6,4,6,6,8,10,4,2,4,4,4,10,4,16,6,4,4,2,2,6,12,10,4,12,6,2,8,4,8,2,8,2,2,4,8,4,6,6,2,6,4,12,8,10,6,2,4,12,4,10,6,2,24,4,10,10,4,6,10,4,8,10,8,6,6,6,10,4,6,10,6,2,8,4,8,6,6,10,2,4,4,8,4,10,16,6,10,8,2,6,6,12,8,6,4,8,4,6,4,12,14,8,10,6,12,14,2,6,4,12,2],\"yaxis\":\"y\",\"type\":\"bar\"}],                        {\"template\":{\"layout\":{\"colorway\":[\"#114B8F\",\"#248F11\",\"#8F6211\",\"#8F116C\",\"#1A293A\"],\"font\":{\"family\":\"Inter Variable, Inter\"},\"showlegend\":false,\"template\":{\"data\":{\"barpolar\":[{\"marker\":{\"line\":{\"color\":\"white\",\"width\":0.5},\"pattern\":{\"fillmode\":\"overlay\",\"size\":10,\"solidity\":0.2}},\"type\":\"barpolar\"}],\"bar\":[{\"error_x\":{\"color\":\"rgb(36,36,36)\"},\"error_y\":{\"color\":\"rgb(36,36,36)\"},\"marker\":{\"line\":{\"color\":\"white\",\"width\":0.5},\"pattern\":{\"fillmode\":\"overlay\",\"size\":10,\"solidity\":0.2}},\"type\":\"bar\"}],\"carpet\":[{\"aaxis\":{\"endlinecolor\":\"rgb(36,36,36)\",\"gridcolor\":\"white\",\"linecolor\":\"white\",\"minorgridcolor\":\"white\",\"startlinecolor\":\"rgb(36,36,36)\"},\"baxis\":{\"endlinecolor\":\"rgb(36,36,36)\",\"gridcolor\":\"white\",\"linecolor\":\"white\",\"minorgridcolor\":\"white\",\"startlinecolor\":\"rgb(36,36,36)\"},\"type\":\"carpet\"}],\"choropleth\":[{\"colorbar\":{\"outlinewidth\":1,\"tickcolor\":\"rgb(36,36,36)\",\"ticks\":\"outside\"},\"type\":\"choropleth\"}],\"contourcarpet\":[{\"colorbar\":{\"outlinewidth\":1,\"tickcolor\":\"rgb(36,36,36)\",\"ticks\":\"outside\"},\"type\":\"contourcarpet\"}],\"contour\":[{\"colorbar\":{\"outlinewidth\":1,\"tickcolor\":\"rgb(36,36,36)\",\"ticks\":\"outside\"},\"colorscale\":[[0.0,\"#440154\"],[0.1111111111111111,\"#482878\"],[0.2222222222222222,\"#3e4989\"],[0.3333333333333333,\"#31688e\"],[0.4444444444444444,\"#26828e\"],[0.5555555555555556,\"#1f9e89\"],[0.6666666666666666,\"#35b779\"],[0.7777777777777778,\"#6ece58\"],[0.8888888888888888,\"#b5de2b\"],[1.0,\"#fde725\"]],\"type\":\"contour\"}],\"heatmapgl\":[{\"colorbar\":{\"outlinewidth\":1,\"tickcolor\":\"rgb(36,36,36)\",\"ticks\":\"outside\"},\"colorscale\":[[0.0,\"#440154\"],[0.1111111111111111,\"#482878\"],[0.2222222222222222,\"#3e4989\"],[0.3333333333333333,\"#31688e\"],[0.4444444444444444,\"#26828e\"],[0.5555555555555556,\"#1f9e89\"],[0.6666666666666666,\"#35b779\"],[0.7777777777777778,\"#6ece58\"],[0.8888888888888888,\"#b5de2b\"],[1.0,\"#fde725\"]],\"type\":\"heatmapgl\"}],\"heatmap\":[{\"colorbar\":{\"outlinewidth\":1,\"tickcolor\":\"rgb(36,36,36)\",\"ticks\":\"outside\"},\"colorscale\":[[0.0,\"#440154\"],[0.1111111111111111,\"#482878\"],[0.2222222222222222,\"#3e4989\"],[0.3333333333333333,\"#31688e\"],[0.4444444444444444,\"#26828e\"],[0.5555555555555556,\"#1f9e89\"],[0.6666666666666666,\"#35b779\"],[0.7777777777777778,\"#6ece58\"],[0.8888888888888888,\"#b5de2b\"],[1.0,\"#fde725\"]],\"type\":\"heatmap\"}],\"histogram2dcontour\":[{\"colorbar\":{\"outlinewidth\":1,\"tickcolor\":\"rgb(36,36,36)\",\"ticks\":\"outside\"},\"colorscale\":[[0.0,\"#440154\"],[0.1111111111111111,\"#482878\"],[0.2222222222222222,\"#3e4989\"],[0.3333333333333333,\"#31688e\"],[0.4444444444444444,\"#26828e\"],[0.5555555555555556,\"#1f9e89\"],[0.6666666666666666,\"#35b779\"],[0.7777777777777778,\"#6ece58\"],[0.8888888888888888,\"#b5de2b\"],[1.0,\"#fde725\"]],\"type\":\"histogram2dcontour\"}],\"histogram2d\":[{\"colorbar\":{\"outlinewidth\":1,\"tickcolor\":\"rgb(36,36,36)\",\"ticks\":\"outside\"},\"colorscale\":[[0.0,\"#440154\"],[0.1111111111111111,\"#482878\"],[0.2222222222222222,\"#3e4989\"],[0.3333333333333333,\"#31688e\"],[0.4444444444444444,\"#26828e\"],[0.5555555555555556,\"#1f9e89\"],[0.6666666666666666,\"#35b779\"],[0.7777777777777778,\"#6ece58\"],[0.8888888888888888,\"#b5de2b\"],[1.0,\"#fde725\"]],\"type\":\"histogram2d\"}],\"histogram\":[{\"marker\":{\"line\":{\"color\":\"white\",\"width\":0.6}},\"type\":\"histogram\"}],\"mesh3d\":[{\"colorbar\":{\"outlinewidth\":1,\"tickcolor\":\"rgb(36,36,36)\",\"ticks\":\"outside\"},\"type\":\"mesh3d\"}],\"parcoords\":[{\"line\":{\"colorbar\":{\"outlinewidth\":1,\"tickcolor\":\"rgb(36,36,36)\",\"ticks\":\"outside\"}},\"type\":\"parcoords\"}],\"pie\":[{\"automargin\":true,\"type\":\"pie\"}],\"scatter3d\":[{\"line\":{\"colorbar\":{\"outlinewidth\":1,\"tickcolor\":\"rgb(36,36,36)\",\"ticks\":\"outside\"}},\"marker\":{\"colorbar\":{\"outlinewidth\":1,\"tickcolor\":\"rgb(36,36,36)\",\"ticks\":\"outside\"}},\"type\":\"scatter3d\"}],\"scattercarpet\":[{\"marker\":{\"colorbar\":{\"outlinewidth\":1,\"tickcolor\":\"rgb(36,36,36)\",\"ticks\":\"outside\"}},\"type\":\"scattercarpet\"}],\"scattergeo\":[{\"marker\":{\"colorbar\":{\"outlinewidth\":1,\"tickcolor\":\"rgb(36,36,36)\",\"ticks\":\"outside\"}},\"type\":\"scattergeo\"}],\"scattergl\":[{\"marker\":{\"colorbar\":{\"outlinewidth\":1,\"tickcolor\":\"rgb(36,36,36)\",\"ticks\":\"outside\"}},\"type\":\"scattergl\"}],\"scattermapbox\":[{\"marker\":{\"colorbar\":{\"outlinewidth\":1,\"tickcolor\":\"rgb(36,36,36)\",\"ticks\":\"outside\"}},\"type\":\"scattermapbox\"}],\"scatterpolargl\":[{\"marker\":{\"colorbar\":{\"outlinewidth\":1,\"tickcolor\":\"rgb(36,36,36)\",\"ticks\":\"outside\"}},\"type\":\"scatterpolargl\"}],\"scatterpolar\":[{\"marker\":{\"colorbar\":{\"outlinewidth\":1,\"tickcolor\":\"rgb(36,36,36)\",\"ticks\":\"outside\"}},\"type\":\"scatterpolar\"}],\"scatter\":[{\"fillpattern\":{\"fillmode\":\"overlay\",\"size\":10,\"solidity\":0.2},\"type\":\"scatter\"}],\"scatterternary\":[{\"marker\":{\"colorbar\":{\"outlinewidth\":1,\"tickcolor\":\"rgb(36,36,36)\",\"ticks\":\"outside\"}},\"type\":\"scatterternary\"}],\"surface\":[{\"colorbar\":{\"outlinewidth\":1,\"tickcolor\":\"rgb(36,36,36)\",\"ticks\":\"outside\"},\"colorscale\":[[0.0,\"#440154\"],[0.1111111111111111,\"#482878\"],[0.2222222222222222,\"#3e4989\"],[0.3333333333333333,\"#31688e\"],[0.4444444444444444,\"#26828e\"],[0.5555555555555556,\"#1f9e89\"],[0.6666666666666666,\"#35b779\"],[0.7777777777777778,\"#6ece58\"],[0.8888888888888888,\"#b5de2b\"],[1.0,\"#fde725\"]],\"type\":\"surface\"}],\"table\":[{\"cells\":{\"fill\":{\"color\":\"rgb(237,237,237)\"},\"line\":{\"color\":\"white\"}},\"header\":{\"fill\":{\"color\":\"rgb(217,217,217)\"},\"line\":{\"color\":\"white\"}},\"type\":\"table\"}]},\"layout\":{\"annotationdefaults\":{\"arrowhead\":0,\"arrowwidth\":1},\"autotypenumbers\":\"strict\",\"coloraxis\":{\"colorbar\":{\"outlinewidth\":1,\"tickcolor\":\"rgb(36,36,36)\",\"ticks\":\"outside\"}},\"colorscale\":{\"diverging\":[[0.0,\"rgb(103,0,31)\"],[0.1,\"rgb(178,24,43)\"],[0.2,\"rgb(214,96,77)\"],[0.3,\"rgb(244,165,130)\"],[0.4,\"rgb(253,219,199)\"],[0.5,\"rgb(247,247,247)\"],[0.6,\"rgb(209,229,240)\"],[0.7,\"rgb(146,197,222)\"],[0.8,\"rgb(67,147,195)\"],[0.9,\"rgb(33,102,172)\"],[1.0,\"rgb(5,48,97)\"]],\"sequential\":[[0.0,\"#440154\"],[0.1111111111111111,\"#482878\"],[0.2222222222222222,\"#3e4989\"],[0.3333333333333333,\"#31688e\"],[0.4444444444444444,\"#26828e\"],[0.5555555555555556,\"#1f9e89\"],[0.6666666666666666,\"#35b779\"],[0.7777777777777778,\"#6ece58\"],[0.8888888888888888,\"#b5de2b\"],[1.0,\"#fde725\"]],\"sequentialminus\":[[0.0,\"#440154\"],[0.1111111111111111,\"#482878\"],[0.2222222222222222,\"#3e4989\"],[0.3333333333333333,\"#31688e\"],[0.4444444444444444,\"#26828e\"],[0.5555555555555556,\"#1f9e89\"],[0.6666666666666666,\"#35b779\"],[0.7777777777777778,\"#6ece58\"],[0.8888888888888888,\"#b5de2b\"],[1.0,\"#fde725\"]]},\"colorway\":[\"#1F77B4\",\"#FF7F0E\",\"#2CA02C\",\"#D62728\",\"#9467BD\",\"#8C564B\",\"#E377C2\",\"#7F7F7F\",\"#BCBD22\",\"#17BECF\"],\"font\":{\"color\":\"rgb(36,36,36)\"},\"geo\":{\"bgcolor\":\"white\",\"lakecolor\":\"white\",\"landcolor\":\"white\",\"showlakes\":true,\"showland\":true,\"subunitcolor\":\"white\"},\"hoverlabel\":{\"align\":\"left\"},\"hovermode\":\"closest\",\"mapbox\":{\"style\":\"light\"},\"paper_bgcolor\":\"white\",\"plot_bgcolor\":\"white\",\"polar\":{\"angularaxis\":{\"gridcolor\":\"rgb(232,232,232)\",\"linecolor\":\"rgb(36,36,36)\",\"showgrid\":false,\"showline\":true,\"ticks\":\"outside\"},\"bgcolor\":\"white\",\"radialaxis\":{\"gridcolor\":\"rgb(232,232,232)\",\"linecolor\":\"rgb(36,36,36)\",\"showgrid\":false,\"showline\":true,\"ticks\":\"outside\"}},\"scene\":{\"xaxis\":{\"backgroundcolor\":\"white\",\"gridcolor\":\"rgb(232,232,232)\",\"gridwidth\":2,\"linecolor\":\"rgb(36,36,36)\",\"showbackground\":true,\"showgrid\":false,\"showline\":true,\"ticks\":\"outside\",\"zeroline\":false,\"zerolinecolor\":\"rgb(36,36,36)\"},\"yaxis\":{\"backgroundcolor\":\"white\",\"gridcolor\":\"rgb(232,232,232)\",\"gridwidth\":2,\"linecolor\":\"rgb(36,36,36)\",\"showbackground\":true,\"showgrid\":false,\"showline\":true,\"ticks\":\"outside\",\"zeroline\":false,\"zerolinecolor\":\"rgb(36,36,36)\"},\"zaxis\":{\"backgroundcolor\":\"white\",\"gridcolor\":\"rgb(232,232,232)\",\"gridwidth\":2,\"linecolor\":\"rgb(36,36,36)\",\"showbackground\":true,\"showgrid\":false,\"showline\":true,\"ticks\":\"outside\",\"zeroline\":false,\"zerolinecolor\":\"rgb(36,36,36)\"}},\"shapedefaults\":{\"fillcolor\":\"black\",\"line\":{\"width\":0},\"opacity\":0.3},\"ternary\":{\"aaxis\":{\"gridcolor\":\"rgb(232,232,232)\",\"linecolor\":\"rgb(36,36,36)\",\"showgrid\":false,\"showline\":true,\"ticks\":\"outside\"},\"baxis\":{\"gridcolor\":\"rgb(232,232,232)\",\"linecolor\":\"rgb(36,36,36)\",\"showgrid\":false,\"showline\":true,\"ticks\":\"outside\"},\"bgcolor\":\"white\",\"caxis\":{\"gridcolor\":\"rgb(232,232,232)\",\"linecolor\":\"rgb(36,36,36)\",\"showgrid\":false,\"showline\":true,\"ticks\":\"outside\"}},\"title\":{\"x\":0.05},\"xaxis\":{\"automargin\":true,\"gridcolor\":\"rgb(232,232,232)\",\"linecolor\":\"rgb(36,36,36)\",\"showgrid\":false,\"showline\":true,\"ticks\":\"outside\",\"title\":{\"standoff\":15},\"zeroline\":false,\"zerolinecolor\":\"rgb(36,36,36)\"},\"yaxis\":{\"automargin\":true,\"gridcolor\":\"rgb(232,232,232)\",\"linecolor\":\"rgb(36,36,36)\",\"showgrid\":false,\"showline\":true,\"ticks\":\"outside\",\"title\":{\"standoff\":15},\"zeroline\":false,\"zerolinecolor\":\"rgb(36,36,36)\"}}},\"title\":{\"font\":{\"family\":\"Inter Variable, Inter Tight, Inter\",\"weight\":\"bold\"}},\"xaxis\":{\"showgrid\":false},\"yaxis\":{\"showgrid\":false}}},\"xaxis\":{\"anchor\":\"y\",\"domain\":[0.0,1.0],\"title\":{\"text\":\"Date\"}},\"yaxis\":{\"anchor\":\"x\",\"domain\":[0.0,1.0],\"title\":{\"text\":\"Number of Interactions\"},\"showticklabels\":true,\"tickformat\":\",\"},\"legend\":{\"tracegroupgap\":0},\"title\":{\"text\":\"Interaction over time (assuming US\\u002fEastern timezone)\"},\"barmode\":\"relative\",\"height\":500},                        {\"responsive\": true}                    ).then(function(){\n",
       "                            \n",
       "var gd = document.getElementById('060fa06f-4623-43bc-9e30-e43a47134e94');\n",
       "var x = new MutationObserver(function (mutations, observer) {{\n",
       "        var display = window.getComputedStyle(gd).display;\n",
       "        if (!display || display === 'none') {{\n",
       "            console.log([gd, 'removed!']);\n",
       "            Plotly.purge(gd);\n",
       "            observer.disconnect();\n",
       "        }}\n",
       "}});\n",
       "\n",
       "// Listen for the removal of the full notebook cells\n",
       "var notebookContainer = gd.closest('#notebook-container');\n",
       "if (notebookContainer) {{\n",
       "    x.observe(notebookContainer, {childList: true});\n",
       "}}\n",
       "\n",
       "// Listen for the clearing of the current output cell\n",
       "var outputEl = gd.closest('.output');\n",
       "if (outputEl) {{\n",
       "    x.observe(outputEl, {childList: true});\n",
       "}}\n",
       "\n",
       "                        })                };                });            </script>        </div>"
      ]
     },
     "metadata": {},
     "output_type": "display_data"
    }
   ],
   "source": [
    "def plot_interaction_over_time(df, timezone=\"US/Eastern\"):\n",
    "    plot_df = df.assign(\n",
    "        timestamp_date=df[\"timestamp\"]\n",
    "        .dt.tz_localize(\"UTC\")\n",
    "        .dt.tz_convert(timezone)\n",
    "        .dt.date\n",
    "    )\n",
    "\n",
    "    plot_agg_df = plot_df.groupby(\"timestamp_date\").size()\n",
    "\n",
    "    # Create the plot\n",
    "    fig = px.bar(\n",
    "        x=plot_agg_df.index,\n",
    "        y=plot_agg_df.values,\n",
    "        labels={\"x\": \"Date\", \"y\": \"Number of Interactions\"},\n",
    "        title=f\"Interaction over time (assuming {timezone} timezone)\",\n",
    "        height=500,\n",
    "    )\n",
    "\n",
    "    fig.update_layout(yaxis=dict(showticklabels=True, tickformat=\",\"))\n",
    "\n",
    "    fig.show()\n",
    "\n",
    "\n",
    "timezone = \"US/Eastern\"  # Assume this time zone because the data is Amazon Data\n",
    "plot_interaction_over_time(val_df, timezone)"
   ]
  },
  {
   "cell_type": "code",
   "execution_count": 37,
   "id": "96633019-c04f-4b11-bccf-152284cfae10",
   "metadata": {},
   "outputs": [],
   "source": [
    "# Split original val into two halfs: val and test\n",
    "val_days = (val_df[args.timestamp_col].max() - val_df[args.timestamp_col].min()).days // 2\n",
    "val_max = val_df[args.timestamp_col].min() + timedelta(days=val_days)\n",
    "val_df = all_val_df.loc[lambda df: df[args.timestamp_col].le(val_max)]\n",
    "test_df = all_val_df.loc[lambda df: df[args.timestamp_col].gt(val_max)]\n",
    "assert (val_df.shape[0] + test_df.shape[0]) == all_val_df.shape[0]"
   ]
  },
  {
   "cell_type": "code",
   "execution_count": 15,
   "id": "c14d7193-5896-4966-9257-e9e7c7e52624",
   "metadata": {},
   "outputs": [
    {
     "name": "stderr",
     "output_type": "stream",
     "text": [
      "\u001b[32m2024-10-25 22:44:41.202\u001b[0m | \u001b[1mINFO    \u001b[0m | \u001b[36m__main__\u001b[0m:\u001b[36m<module>\u001b[0m:\u001b[36m4\u001b[0m - \u001b[1mlen(user_indices)=19,578, len(item_indices)=4,630\u001b[0m\n"
     ]
    }
   ],
   "source": [
    "user_indices = train_df[\"user_indice\"].unique()\n",
    "item_indices = train_df[\"item_indice\"].unique()\n",
    "\n",
    "logger.info(f\"{len(user_indices)=:,.0f}, {len(item_indices)=:,.0f}\")"
   ]
  },
  {
   "cell_type": "markdown",
   "id": "4a2ac74d-0436-45a1-98be-7d9e11e9a65d",
   "metadata": {},
   "source": [
    "# Check"
   ]
  },
  {
   "cell_type": "code",
   "execution_count": 153,
   "id": "479251f4-6609-4d45-b1c6-1c9a094af30a",
   "metadata": {},
   "outputs": [],
   "source": [
    "def dim_negative(row):\n",
    "    return ['color: #cccfcd' if row['label'] == 0 else '' for _ in row]\n",
    "\n",
    "def display_history(df):\n",
    "    user_df = (\n",
    "        df\n",
    "        .loc[lambda df: df['user_indice'].eq(user_indice)]\n",
    "        .sort_values('timestamp')\n",
    "    )\n",
    "    predictions = model.predict(\n",
    "        torch.tensor(user_df['user_indice'].values),\n",
    "        torch.tensor(user_df['item_sequence'].values.tolist()),\n",
    "        torch.tensor(user_df['item_indice'].values),\n",
    "    ).squeeze().detach().numpy()\n",
    "    with pd.option_context('display.max_colwidth', None):\n",
    "        display(\n",
    "            user_df\n",
    "            .assign(\n",
    "                prediction=predictions,\n",
    "                label=lambda df: df['rating'].gt(0).astype(int)\n",
    "            )\n",
    "            [['timestamp', 'item_indice', 'label', 'prediction', 'title', 'main_category', 'categories', 'price', 'description', 'item_sequence']]\n",
    "            .style.apply(dim_negative, axis=1)\n",
    "        )\n",
    "\n",
    "def get_recs(user_indice):\n",
    "    user_df = train_df.loc[lambda df: df['user_indice'].eq(user_indice)].sort_values('timestamp').iloc[[-1]]\n",
    "    recs = model.recommend(\n",
    "        torch.tensor(user_df['user_indice'].values),\n",
    "        torch.tensor(user_df['item_sequence'].values.tolist()),\n",
    "        k=10\n",
    "    )\n",
    "    recs_df = pd.DataFrame(recs)\n",
    "    with pd.option_context('display.max_colwidth', None):\n",
    "        display(\n",
    "            pd.merge(\n",
    "                recs_df,\n",
    "                metadata_df,\n",
    "                left_on=['recommendation'],\n",
    "                right_on=['item_indice'],\n",
    "                how='left'\n",
    "            )\n",
    "            [['item_indice', 'score', 'title', 'main_category', 'categories', 'price', 'description']]\n",
    "        )"
   ]
  },
  {
   "cell_type": "code",
   "execution_count": 154,
   "id": "65f5d1d4-1743-444c-9f09-139a6b0b522a",
   "metadata": {},
   "outputs": [],
   "source": [
    "user_indice = val_df.sample(1, random_state=1)['user_indice'].iloc[0]"
   ]
  },
  {
   "cell_type": "code",
   "execution_count": 155,
   "id": "2bf14218-5d64-47d9-9c94-c6a42787e50f",
   "metadata": {
    "scrolled": true
   },
   "outputs": [
    {
     "data": {
      "text/html": [
       "<style type=\"text/css\">\n",
       "#T_cf8b7_row0_col0, #T_cf8b7_row0_col1, #T_cf8b7_row0_col2, #T_cf8b7_row0_col3, #T_cf8b7_row0_col4, #T_cf8b7_row0_col5, #T_cf8b7_row0_col6, #T_cf8b7_row0_col7, #T_cf8b7_row0_col8, #T_cf8b7_row0_col9, #T_cf8b7_row2_col0, #T_cf8b7_row2_col1, #T_cf8b7_row2_col2, #T_cf8b7_row2_col3, #T_cf8b7_row2_col4, #T_cf8b7_row2_col5, #T_cf8b7_row2_col6, #T_cf8b7_row2_col7, #T_cf8b7_row2_col8, #T_cf8b7_row2_col9, #T_cf8b7_row5_col0, #T_cf8b7_row5_col1, #T_cf8b7_row5_col2, #T_cf8b7_row5_col3, #T_cf8b7_row5_col4, #T_cf8b7_row5_col5, #T_cf8b7_row5_col6, #T_cf8b7_row5_col7, #T_cf8b7_row5_col8, #T_cf8b7_row5_col9, #T_cf8b7_row6_col0, #T_cf8b7_row6_col1, #T_cf8b7_row6_col2, #T_cf8b7_row6_col3, #T_cf8b7_row6_col4, #T_cf8b7_row6_col5, #T_cf8b7_row6_col6, #T_cf8b7_row6_col7, #T_cf8b7_row6_col8, #T_cf8b7_row6_col9, #T_cf8b7_row9_col0, #T_cf8b7_row9_col1, #T_cf8b7_row9_col2, #T_cf8b7_row9_col3, #T_cf8b7_row9_col4, #T_cf8b7_row9_col5, #T_cf8b7_row9_col6, #T_cf8b7_row9_col7, #T_cf8b7_row9_col8, #T_cf8b7_row9_col9, #T_cf8b7_row10_col0, #T_cf8b7_row10_col1, #T_cf8b7_row10_col2, #T_cf8b7_row10_col3, #T_cf8b7_row10_col4, #T_cf8b7_row10_col5, #T_cf8b7_row10_col6, #T_cf8b7_row10_col7, #T_cf8b7_row10_col8, #T_cf8b7_row10_col9, #T_cf8b7_row12_col0, #T_cf8b7_row12_col1, #T_cf8b7_row12_col2, #T_cf8b7_row12_col3, #T_cf8b7_row12_col4, #T_cf8b7_row12_col5, #T_cf8b7_row12_col6, #T_cf8b7_row12_col7, #T_cf8b7_row12_col8, #T_cf8b7_row12_col9 {\n",
       "  color: #cccfcd;\n",
       "}\n",
       "</style>\n",
       "<table id=\"T_cf8b7\">\n",
       "  <thead>\n",
       "    <tr>\n",
       "      <th class=\"blank level0\" >&nbsp;</th>\n",
       "      <th id=\"T_cf8b7_level0_col0\" class=\"col_heading level0 col0\" >timestamp</th>\n",
       "      <th id=\"T_cf8b7_level0_col1\" class=\"col_heading level0 col1\" >item_indice</th>\n",
       "      <th id=\"T_cf8b7_level0_col2\" class=\"col_heading level0 col2\" >label</th>\n",
       "      <th id=\"T_cf8b7_level0_col3\" class=\"col_heading level0 col3\" >prediction</th>\n",
       "      <th id=\"T_cf8b7_level0_col4\" class=\"col_heading level0 col4\" >title</th>\n",
       "      <th id=\"T_cf8b7_level0_col5\" class=\"col_heading level0 col5\" >main_category</th>\n",
       "      <th id=\"T_cf8b7_level0_col6\" class=\"col_heading level0 col6\" >categories</th>\n",
       "      <th id=\"T_cf8b7_level0_col7\" class=\"col_heading level0 col7\" >price</th>\n",
       "      <th id=\"T_cf8b7_level0_col8\" class=\"col_heading level0 col8\" >description</th>\n",
       "      <th id=\"T_cf8b7_level0_col9\" class=\"col_heading level0 col9\" >item_sequence</th>\n",
       "    </tr>\n",
       "  </thead>\n",
       "  <tbody>\n",
       "    <tr>\n",
       "      <th id=\"T_cf8b7_level0_row0\" class=\"row_heading level0 row0\" >81701</th>\n",
       "      <td id=\"T_cf8b7_row0_col0\" class=\"data row0 col0\" >2017-01-16 01:12:03</td>\n",
       "      <td id=\"T_cf8b7_row0_col1\" class=\"data row0 col1\" >853</td>\n",
       "      <td id=\"T_cf8b7_row0_col2\" class=\"data row0 col2\" >0</td>\n",
       "      <td id=\"T_cf8b7_row0_col3\" class=\"data row0 col3\" >0.767951</td>\n",
       "      <td id=\"T_cf8b7_row0_col4\" class=\"data row0 col4\" >Darksiders III - Collector's Edition - Xbox One</td>\n",
       "      <td id=\"T_cf8b7_row0_col5\" class=\"data row0 col5\" >Video Games</td>\n",
       "      <td id=\"T_cf8b7_row0_col6\" class=\"data row0 col6\" >['Video Games' 'Xbox One' 'Games']</td>\n",
       "      <td id=\"T_cf8b7_row0_col7\" class=\"data row0 col7\" >149.99</td>\n",
       "      <td id=\"T_cf8b7_row0_col8\" class=\"data row0 col8\" >[]</td>\n",
       "      <td id=\"T_cf8b7_row0_col9\" class=\"data row0 col9\" >[-1 -1 -1 -1 -1 -1 -1 -1 -1 -1]</td>\n",
       "    </tr>\n",
       "    <tr>\n",
       "      <th id=\"T_cf8b7_level0_row1\" class=\"row_heading level0 row1\" >94817</th>\n",
       "      <td id=\"T_cf8b7_row1_col0\" class=\"data row1 col0\" >2017-01-16 01:12:03</td>\n",
       "      <td id=\"T_cf8b7_row1_col1\" class=\"data row1 col1\" >2285</td>\n",
       "      <td id=\"T_cf8b7_row1_col2\" class=\"data row1 col2\" >1</td>\n",
       "      <td id=\"T_cf8b7_row1_col3\" class=\"data row1 col3\" >0.903636</td>\n",
       "      <td id=\"T_cf8b7_row1_col4\" class=\"data row1 col4\" >Xb1 System 500Gb Battlefield</td>\n",
       "      <td id=\"T_cf8b7_row1_col5\" class=\"data row1 col5\" >Video Games</td>\n",
       "      <td id=\"T_cf8b7_row1_col6\" class=\"data row1 col6\" >['Video Games' 'Xbox One' 'Consoles']</td>\n",
       "      <td id=\"T_cf8b7_row1_col7\" class=\"data row1 col7\" >438.93</td>\n",
       "      <td id=\"T_cf8b7_row1_col8\" class=\"data row1 col8\" >['The Xbox One S 500GB Console - Battlefield 1 Bundle includes: Xbox One S 500GB Console, full game download of Battlefield 1, one month of EA Access, Xbox Wireless Controller, HDMI cable (4K Capable), Power cable and a 14-day Xbox Live Gold Trial.']</td>\n",
       "      <td id=\"T_cf8b7_row1_col9\" class=\"data row1 col9\" >[-1 -1 -1 -1 -1 -1 -1 -1 -1 -1]</td>\n",
       "    </tr>\n",
       "    <tr>\n",
       "      <th id=\"T_cf8b7_level0_row2\" class=\"row_heading level0 row2\" >26154</th>\n",
       "      <td id=\"T_cf8b7_row2_col0\" class=\"data row2 col0\" >2017-01-16 01:23:38</td>\n",
       "      <td id=\"T_cf8b7_row2_col1\" class=\"data row2 col1\" >2501</td>\n",
       "      <td id=\"T_cf8b7_row2_col2\" class=\"data row2 col2\" >0</td>\n",
       "      <td id=\"T_cf8b7_row2_col3\" class=\"data row2 col3\" >0.613432</td>\n",
       "      <td id=\"T_cf8b7_row2_col4\" class=\"data row2 col4\" >WWE '13</td>\n",
       "      <td id=\"T_cf8b7_row2_col5\" class=\"data row2 col5\" >Video Games</td>\n",
       "      <td id=\"T_cf8b7_row2_col6\" class=\"data row2 col6\" >['Video Games' 'Legacy Systems' 'PlayStation Systems' 'PlayStation 3']</td>\n",
       "      <td id=\"T_cf8b7_row2_col7\" class=\"data row2 col7\" >70.0</td>\n",
       "      <td id=\"T_cf8b7_row2_col8\" class=\"data row2 col8\" >['It takes blood, sweat, and tears to become the best in the world. And if you want to rise to the top on your terms, you better bring the Attitude, and ignite a revolution. Last summer, one man revolutionized the sports entertainment industry. In a legendary moment at the end of Monday Night Raw, CM Punk shook up WWE and a hero was born. Fifteen years ago, the legendary “Stone Cold” Steve Austin revolutionized entertainment, sparking a new generation of supporters with his relentless Attitude. Now, a new crusade is upon us, and it doesn’t start with an iconic WWE Superstar on television, online, or at a live event. WWE ’13 is imminent, and it’s time to Live the Revolution. The WWE videogame franchise returns to provide the most authentic, seamless and passionate experience to date, presented with a grittier Attitude. WWE ’13 will transform WWE gameplay through the introduction of WWE Live, completely changing the videogame’s audio and presentation elements. Predator Technology returns to further implement critical gameplay improvements, while fan favorites in WWE Universe Mode and the franchise’s renowned Creation Suite are poised to offer the utmost in player freedom. Furthermore, WWE ’13 will introduce a groundbreaking, single-player campaign based on the highly influential Attitude Era. Complete with a robust roster – the largest to date in the franchise – along with a host of additional features, WWE ’13 is ready to live a revolution all its own.']</td>\n",
       "      <td id=\"T_cf8b7_row2_col9\" class=\"data row2 col9\" >[  -1   -1   -1   -1   -1   -1   -1   -1   -1 2285]</td>\n",
       "    </tr>\n",
       "    <tr>\n",
       "      <th id=\"T_cf8b7_level0_row3\" class=\"row_heading level0 row3\" >271600</th>\n",
       "      <td id=\"T_cf8b7_row3_col0\" class=\"data row3 col0\" >2017-01-16 01:23:38</td>\n",
       "      <td id=\"T_cf8b7_row3_col1\" class=\"data row3 col1\" >556</td>\n",
       "      <td id=\"T_cf8b7_row3_col2\" class=\"data row3 col2\" >1</td>\n",
       "      <td id=\"T_cf8b7_row3_col3\" class=\"data row3 col3\" >0.940793</td>\n",
       "      <td id=\"T_cf8b7_row3_col4\" class=\"data row3 col4\" >Xbox Live Gold: 1 Month Membership [Digital Code]</td>\n",
       "      <td id=\"T_cf8b7_row3_col5\" class=\"data row3 col5\" >Video Games</td>\n",
       "      <td id=\"T_cf8b7_row3_col6\" class=\"data row3 col6\" >['Video Games' 'Xbox Digital Content' 'Subscription Cards']</td>\n",
       "      <td id=\"T_cf8b7_row3_col7\" class=\"data row3 col7\" >9.99</td>\n",
       "      <td id=\"T_cf8b7_row3_col8\" class=\"data row3 col8\" >['\"Experience the rush of competitive and cooperative online console multiplayer with Xbox Live Gold. Join the Xbox community on the most advanced multiplayer network, where dedicated servers maximize performance, speed, and reliability. Quickly find people you want to play with using Clubs and Looking for Group, or just start a Party and invite your friends. Get 2 free games per month, as well as up to 50% off on select Xbox Series X|S, Xbox One, and Xbox 360 titles in the Microsoft Store. Plus, enjoy member discounts on select game add-ons and consumables. Buy Xbox Live Gold individually or upgrade your experience with Xbox Game Pass Ultimate to get unlimited access to over 100 games with all the benefits of Xbox Live Gold included at a better value\".']</td>\n",
       "      <td id=\"T_cf8b7_row3_col9\" class=\"data row3 col9\" >[  -1   -1   -1   -1   -1   -1   -1   -1   -1 2285]</td>\n",
       "    </tr>\n",
       "    <tr>\n",
       "      <th id=\"T_cf8b7_level0_row4\" class=\"row_heading level0 row4\" >75954</th>\n",
       "      <td id=\"T_cf8b7_row4_col0\" class=\"data row4 col0\" >2017-08-11 09:19:17.833000</td>\n",
       "      <td id=\"T_cf8b7_row4_col1\" class=\"data row4 col1\" >2916</td>\n",
       "      <td id=\"T_cf8b7_row4_col2\" class=\"data row4 col2\" >1</td>\n",
       "      <td id=\"T_cf8b7_row4_col3\" class=\"data row4 col3\" >0.661557</td>\n",
       "      <td id=\"T_cf8b7_row4_col4\" class=\"data row4 col4\" >Injustice: Gods Among Us - Collector's Edition - Playstation 3</td>\n",
       "      <td id=\"T_cf8b7_row4_col5\" class=\"data row4 col5\" >Video Games</td>\n",
       "      <td id=\"T_cf8b7_row4_col6\" class=\"data row4 col6\" >['Video Games' 'Legacy Systems' 'PlayStation Systems' 'PlayStation 3'\n",
       " 'Games']</td>\n",
       "      <td id=\"T_cf8b7_row4_col7\" class=\"data row4 col7\" >None</td>\n",
       "      <td id=\"T_cf8b7_row4_col8\" class=\"data row4 col8\" >[\"Collector's Edition includes:\"\n",
       " \"Exclusive DC Collectibles statue featuring iconic characters Batman and Wonder Woman, the Fortress of Solitude, and the Last Son of Krypton's escape ship, Special Collector's Edition of a brand new DC Comics series Digital download of DC Universe animated film Justice League: Doom, and exclusive skins based on Batman, Superman and Wonder Woman from DC Comics - The New 52  What if our greatest heroes became our greatest threat? From the indomitable DC Comics and the makers of the definitive fighting game franchise Mortal Kombat comes Injustice: Gods Among Us, a bold fighting game featuring a large cast of favorite DC Comics icons. Set in a world where the lines between good and evil are blurred, players will experience heroes and villains engaging in epic battles on a massive scale. A deep, original story compliments the fighting action that pits many of the great heroes and villains from the DC universe against each other -- Batman, Harley Quinn, Solomon Grundy, Superman, The Flash, Wonder Woman and many others lose their allegiances and fight for Injustice!  Injustice: Gods Among Us is a fighting game that blends classic arcade style gameplay mechanics with an intriguing storyline that pits classic DC Comics characters against each other in unique combinations (hero vs. hero, villain vs. villain, etc.). The game is developed by NetherRealm Studios, and Ed Boon, of Mortal Kombat fame. Players can expect over-the-top action that is suitable for players of most ages, and a single-player storyline that provides the background for the unique character match-ups possible. Additional features include: more than 20 DC Comics heroes and villains, a variety of different attack levels, unique attacks for each character, multiplayer support, and more.\"]</td>\n",
       "      <td id=\"T_cf8b7_row4_col9\" class=\"data row4 col9\" >[  -1   -1   -1   -1   -1   -1   -1   -1 2285  556]</td>\n",
       "    </tr>\n",
       "    <tr>\n",
       "      <th id=\"T_cf8b7_level0_row5\" class=\"row_heading level0 row5\" >112461</th>\n",
       "      <td id=\"T_cf8b7_row5_col0\" class=\"data row5 col0\" >2017-08-11 09:19:17.833000</td>\n",
       "      <td id=\"T_cf8b7_row5_col1\" class=\"data row5 col1\" >3331</td>\n",
       "      <td id=\"T_cf8b7_row5_col2\" class=\"data row5 col2\" >0</td>\n",
       "      <td id=\"T_cf8b7_row5_col3\" class=\"data row5 col3\" >0.741026</td>\n",
       "      <td id=\"T_cf8b7_row5_col4\" class=\"data row5 col4\" >Disney Epic Mickey 2: The Power of Two - Playstation 3</td>\n",
       "      <td id=\"T_cf8b7_row5_col5\" class=\"data row5 col5\" >Video Games</td>\n",
       "      <td id=\"T_cf8b7_row5_col6\" class=\"data row5 col6\" >['Video Games' 'Legacy Systems' 'PlayStation Systems' 'PlayStation 3'\n",
       " 'Games']</td>\n",
       "      <td id=\"T_cf8b7_row5_col7\" class=\"data row5 col7\" >19.95</td>\n",
       "      <td id=\"T_cf8b7_row5_col8\" class=\"data row5 col8\" >['Product Description'\n",
       " 'Players can play as Oswald in drop-in, drop-out 2-player co-op mode. \"The Power of Two\" will be evident as Oswald participates in Mickey\\'s adventure every step of the way.'\n",
       " 'Amazon.com' 'Disney Epic Mickey 2: The Power of Two'\n",
       " 'is an Action-Adventure Platforming game set in the Disney themed gameworld of Wasteland. The game utilizes the same open-ended, environment-manipulating play mechanics of the original'\n",
       " 'Disney Epic Mickey'\n",
       " 'to create a unique experience that lets players create their own paths through game levels. The game features both Mickey Mouse and Oswald the Lucky Rabbit, each with their own tools of environment manipulation. Additional features include, forgotten Disney characters and attractions, all-new levels, professional voice acting, Disney-inspired music and lyric, drop-in, dropout two-player co-op support, and PlayStation Move compatibility.'\n",
       " 'Return to Wasteland to face a challenge from an unexpected enemy. View larger    Join forces with Oswald the Lucky Rabbit. View larger'\n",
       " 'Unleash the Power of the Brush in a Whole New Way'\n",
       " 'Join Mickey and Oswald in an epic battle to save the magical world of Wasteland and change it forever. Interact with your favorite characters like never before in the most heroic adventure yet.'\n",
       " 'In' 'Disney Epic Mickey 2: The Power of Two'\n",
       " \", gamers will play as Mickey Mouse and for the first time ever, Oswald the Lucky Rabbit, Walt Disney's first cartoon star, in an all-new adventure of creativity and discovery. Created by industry luminary Warren Spector and Disney Interactive's Junction Point game development studio,\"\n",
       " 'Disney Epic Mickey 2: The Power of Two'\n",
       " 'comes to Next-Gen game consoles for the first time.'\n",
       " 'Disney Epic Mickey 2: The Power of Two'\n",
       " 'returns Mickey Mouse and Oswald the Lucky Rabbit to Wasteland, an alternate world filled with 80 years of forgotten Disney characters and theme park attractions. But for the first time, Mickey and Oswald will join forces as true partners - Mickey with his magical paint brush that wields paint and thinner, and Oswald with his powerful remote control that allows him to command electricity. This new co-op play combined with enhanced in-game physics will further enhance the idea that \"PlayStyle Matters\" - a unique approach to gameplay pioneered by Warren Spector where players dynamically tackle different challenges in order to explore all possibilities and storylines, but with consequences for their chosen actions.'\n",
       " 'Key Game Features'\n",
       " \"Players can play as Oswald in drop-in, dropout 2-player co-op mode. The Power of Two will be evident as Oswald participates in Mickey's adventure every step of the way.\"\n",
       " 'Players can play as Oswald in drop-in, dropout 2-player co-op mode.'\n",
       " 'The Power of Two'\n",
       " \"will be evident as Oswald participates in Mickey's adventure every step of the way.\"\n",
       " 'All in-game characters -- most notably Oswald The Lucky Rabbit whose voice will be heard for the first time ever -- are fully voiced by the official voice actors of those characters.'\n",
       " 'All in-game characters -- most notably Oswald The Lucky Rabbit whose voice will be heard for the first time ever -- are fully voiced by the official voice actors of those characters.'\n",
       " \"Players will experience Disney's forgotten characters and attractions in all-new levels and further explore levels from the original Disney Epic Mickey game, but now changed, impacted by world-changing events that have shaken Wasteland apart. New 2D levels based on classic Disney animated films and shorts will offer compelling puzzle-based, platforming gameplay.\"\n",
       " \"Players will experience Disney's forgotten characters and attractions in all-new levels and further explore levels from the original\"\n",
       " 'Disney Epic Mickey'\n",
       " 'game, but now changed, impacted by world-changing events that have shaken Wasteland apart. New 2D levels based on classic Disney animated films and shorts will offer compelling puzzle-based, platforming gameplay.'\n",
       " \"Players enjoy an original game story CO-written by award-winning American comic book writer, Marv Wolfman, and Junction Point. The storyline features a variety of new and returning characters that further immerse players in Disney's rich history while adversaries familiar and new will challenge players.\"\n",
       " \"Players enjoy an original game story CO-written by award-winning American comic book writer, Marv Wolfman, and Junction Point. The storyline features a variety of new and returning characters that further immerse players in Disney's rich history while adversaries familiar and new will challenge players.\"\n",
       " 'Disney Epic Mickey 2: The Power of Two is the first video game that can be described as a \"musical,\" where at various points during the adventure characters will express themselves and advance the plot by bursting into song. All songs feature original Disney-inspired music and lyrics. Players will also hear tunes and instrumentation that change based on their personal choices, which will ultimately allow each individual to \"conduct\" their own unique soundtrack.'\n",
       " 'Disney Epic Mickey 2: The Power of Two'\n",
       " 'is the first video game that can be described as a \"musical,\" where at various points during the adventure characters will express themselves and advance the plot by bursting into song. All songs feature original Disney-inspired music and lyrics. Players will also hear tunes and instrumentation that change based on their personal choices, which will ultimately allow each individual to \"conduct\" their own unique soundtrack.'\n",
       " 'Optional PlayStation Move support lets players extend the fluity of their movements through Wasteland even further.'\n",
       " 'Optional PlayStation Move support lets players extend the fluity of their movements through Wasteland even further.'\n",
       " 'The Disney Epic Mickey franchise comes to Next Gen consoles for the first time.'\n",
       " 'The' 'Disney Epic Mickey'\n",
       " 'franchise comes to Next Gen consoles for the first time.'\n",
       " 'Additional Screenshots']</td>\n",
       "      <td id=\"T_cf8b7_row5_col9\" class=\"data row5 col9\" >[  -1   -1   -1   -1   -1   -1   -1   -1 2285  556]</td>\n",
       "    </tr>\n",
       "    <tr>\n",
       "      <th id=\"T_cf8b7_level0_row6\" class=\"row_heading level0 row6\" >33112</th>\n",
       "      <td id=\"T_cf8b7_row6_col0\" class=\"data row6 col0\" >2018-06-17 15:43:52.421000</td>\n",
       "      <td id=\"T_cf8b7_row6_col1\" class=\"data row6 col1\" >2839</td>\n",
       "      <td id=\"T_cf8b7_row6_col2\" class=\"data row6 col2\" >0</td>\n",
       "      <td id=\"T_cf8b7_row6_col3\" class=\"data row6 col3\" >0.941526</td>\n",
       "      <td id=\"T_cf8b7_row6_col4\" class=\"data row6 col4\" >Tom Clancy’s The Division Underground - Xbox One Digital Code</td>\n",
       "      <td id=\"T_cf8b7_row6_col5\" class=\"data row6 col5\" >Video Games</td>\n",
       "      <td id=\"T_cf8b7_row6_col6\" class=\"data row6 col6\" >['Video Games' 'Xbox One' 'Downloadable Content']</td>\n",
       "      <td id=\"T_cf8b7_row6_col7\" class=\"data row6 col7\" >None</td>\n",
       "      <td id=\"T_cf8b7_row6_col8\" class=\"data row6 col8\" >['In Expansion I, Underground, the factions of New York are regrouping beneath the streets, and planning major new attacks. Navigate randomly generated urban dungeons with up to three friends to take out this new threat and be rewarded with advanced loot. Experience an all-new incursion called Dragon’s Nest, where a group of powerful cleaners, known as the four horsemen, are creating a new weapon to cleanse New York in flames once and for all. Gear up, and take them out.'\n",
       " 'System Requirements:' 'Supported Platforms:\\xa0One - Microsoft Xbox'\n",
       " 'Supported Platforms:' 'One - Microsoft Xbox' 'Xbox'\n",
       " 'account required for game activation and installation']</td>\n",
       "      <td id=\"T_cf8b7_row6_col9\" class=\"data row6 col9\" >[  -1   -1   -1   -1   -1   -1   -1 2285  556 2916]</td>\n",
       "    </tr>\n",
       "    <tr>\n",
       "      <th id=\"T_cf8b7_level0_row7\" class=\"row_heading level0 row7\" >135916</th>\n",
       "      <td id=\"T_cf8b7_row7_col0\" class=\"data row7 col0\" >2018-06-17 15:43:52.421000</td>\n",
       "      <td id=\"T_cf8b7_row7_col1\" class=\"data row7 col1\" >2004</td>\n",
       "      <td id=\"T_cf8b7_row7_col2\" class=\"data row7 col2\" >1</td>\n",
       "      <td id=\"T_cf8b7_row7_col3\" class=\"data row7 col3\" >0.963408</td>\n",
       "      <td id=\"T_cf8b7_row7_col4\" class=\"data row7 col4\" >Halo 5: Guardians Limited Edition Collector's Edition – Xbox One [Digital Code Only, No Disc Included]</td>\n",
       "      <td id=\"T_cf8b7_row7_col5\" class=\"data row7 col5\" >Video Games</td>\n",
       "      <td id=\"T_cf8b7_row7_col6\" class=\"data row7 col6\" >['Video Games' 'Xbox One' 'Games']</td>\n",
       "      <td id=\"T_cf8b7_row7_col7\" class=\"data row7 col7\" >359.0</td>\n",
       "      <td id=\"T_cf8b7_row7_col8\" class=\"data row7 col8\" >['A premium edition of Halo 5: Guardians for collectors and Halo fans alike. The Limited Collector’s Edition is the ultimate expression of Halo 5: Guardians with a commemorative statue designed by 343 Industries. The Master Chief and Spartan Locke appear as a team – but there’s another story… the statue splits and they separate, ready to face-off. Which scene tells the true story?, System requirements minimum your device must meet all minimum requirements to open this product OS Xbox One architecture x64'\n",
       " 'The Limited Collector’s Edition contains a full game download and the following Limited Edition Content:'\n",
       " 'Warzone REQ Bundle: 14 Premium Requisition packs'\n",
       " 'Warzone REQ Bundle: 14 Premium Requisition packs'\n",
       " 'Halo: The Fall of Reach – Animated Series'\n",
       " 'Halo: The Fall of Reach – Animated Series'\n",
       " 'Guardian model by Metal Earth' 'Guardian model by Metal Earth'\n",
       " 'Uniquely-designed Spartan themed SteelBook'\n",
       " 'Uniquely-designed Spartan themed SteelBook'\n",
       " 'Spartan Locke’s Classified Orders' 'Spartan Locke’s Classified Orders'\n",
       " 'Dossiers on Blue Team and Fireteam Osiris'\n",
       " 'Dossiers on Blue Team and Fireteam Osiris'\n",
       " 'Xbox Live Gold 14-day Trial - perfect for playing with friends'\n",
       " 'Xbox Live Gold 14-day Trial - perfect for playing with friends']</td>\n",
       "      <td id=\"T_cf8b7_row7_col9\" class=\"data row7 col9\" >[  -1   -1   -1   -1   -1   -1   -1 2285  556 2916]</td>\n",
       "    </tr>\n",
       "    <tr>\n",
       "      <th id=\"T_cf8b7_level0_row8\" class=\"row_heading level0 row8\" >207640</th>\n",
       "      <td id=\"T_cf8b7_row8_col0\" class=\"data row8 col0\" >2019-11-08 00:43:44.790000</td>\n",
       "      <td id=\"T_cf8b7_row8_col1\" class=\"data row8 col1\" >2023</td>\n",
       "      <td id=\"T_cf8b7_row8_col2\" class=\"data row8 col2\" >1</td>\n",
       "      <td id=\"T_cf8b7_row8_col3\" class=\"data row8 col3\" >0.917209</td>\n",
       "      <td id=\"T_cf8b7_row8_col4\" class=\"data row8 col4\" >SteelSeries Arctis 9X Wireless Gaming Headset – Integrated Xbox Wireless + Bluetooth – 20+ Hour Battery Life – for Xbox One and Series X</td>\n",
       "      <td id=\"T_cf8b7_row8_col5\" class=\"data row8 col5\" >Video Games</td>\n",
       "      <td id=\"T_cf8b7_row8_col6\" class=\"data row8 col6\" >['Video Games' 'Xbox One' 'Accessories' 'Headsets']</td>\n",
       "      <td id=\"T_cf8b7_row8_col7\" class=\"data row8 col7\" >135.0</td>\n",
       "      <td id=\"T_cf8b7_row8_col8\" class=\"data row8 col8\" >['From the makers of the most award-winning headset line in gaming history, the\\xa0arctis\\xa09x combines the convenience of integrated Xbox wireless with simultaneous Bluetooth audio for true wireless everywhere. With the noise-cancelling\\xa0clearcast\\xa0bidirectional Microphone and stunningly detailed\\xa0arctis\\xa0sound, the\\xa0arctis\\xa09x is the premier wireless headset for Xbox gamers.'\n",
       " 'Microphone Frequency Response - 100–10000 HzMicrophone Pattern - BidirectionalMicrophone Sensitivity - -38\\u2009dBV/PaMicrophone Impedance - 2200\\u2009OhmMicrophone Location - Retractable.']</td>\n",
       "      <td id=\"T_cf8b7_row8_col9\" class=\"data row8 col9\" >[  -1   -1   -1   -1   -1   -1 2285  556 2916 2004]</td>\n",
       "    </tr>\n",
       "    <tr>\n",
       "      <th id=\"T_cf8b7_level0_row9\" class=\"row_heading level0 row9\" >268590</th>\n",
       "      <td id=\"T_cf8b7_row9_col0\" class=\"data row9 col0\" >2019-11-08 00:43:44.790000</td>\n",
       "      <td id=\"T_cf8b7_row9_col1\" class=\"data row9 col1\" >269</td>\n",
       "      <td id=\"T_cf8b7_row9_col2\" class=\"data row9 col2\" >0</td>\n",
       "      <td id=\"T_cf8b7_row9_col3\" class=\"data row9 col3\" >0.893883</td>\n",
       "      <td id=\"T_cf8b7_row9_col4\" class=\"data row9 col4\" >Logitech G600 MMO Gaming Mouse, RGB Backlit, 20 Programmable Buttons, Black</td>\n",
       "      <td id=\"T_cf8b7_row9_col5\" class=\"data row9 col5\" >Computers</td>\n",
       "      <td id=\"T_cf8b7_row9_col6\" class=\"data row9 col6\" >['Video Games' 'PC' 'Accessories' 'Gaming Mice']</td>\n",
       "      <td id=\"T_cf8b7_row9_col7\" class=\"data row9 col7\" >37.99</td>\n",
       "      <td id=\"T_cf8b7_row9_col8\" class=\"data row9 col8\" >['With 20 buttons, the Logitech G600 MMO Gaming Mouse is the most customizable and easy-to-use mouse specifically designed for mastering your favorite MMOs.']</td>\n",
       "      <td id=\"T_cf8b7_row9_col9\" class=\"data row9 col9\" >[  -1   -1   -1   -1   -1   -1 2285  556 2916 2004]</td>\n",
       "    </tr>\n",
       "    <tr>\n",
       "      <th id=\"T_cf8b7_level0_row10\" class=\"row_heading level0 row10\" >100821</th>\n",
       "      <td id=\"T_cf8b7_row10_col0\" class=\"data row10 col0\" >2021-01-25 21:13:50.043000</td>\n",
       "      <td id=\"T_cf8b7_row10_col1\" class=\"data row10 col1\" >457</td>\n",
       "      <td id=\"T_cf8b7_row10_col2\" class=\"data row10 col2\" >0</td>\n",
       "      <td id=\"T_cf8b7_row10_col3\" class=\"data row10 col3\" >0.743326</td>\n",
       "      <td id=\"T_cf8b7_row10_col4\" class=\"data row10 col4\" >Xbox LIVE 1600 Microsoft Points - Xbox 360 Digital Code</td>\n",
       "      <td id=\"T_cf8b7_row10_col5\" class=\"data row10 col5\" >Video Games</td>\n",
       "      <td id=\"T_cf8b7_row10_col6\" class=\"data row10 col6\" >['Video Games' 'Online Game Services' 'Xbox Live' 'Store Currency Cards']</td>\n",
       "      <td id=\"T_cf8b7_row10_col7\" class=\"data row10 col7\" >None</td>\n",
       "      <td id=\"T_cf8b7_row10_col8\" class=\"data row10 col8\" >['From the Manufacturer'\n",
       " 'Xbox LIVE is the online service for your Xbox 360. Connect for free* and use Microsoft Points to rent and buy HD movies or download full Xbox 360 games. Keep games fresh with new map packs, new songs and workouts.'\n",
       " 'Take Your Xbox 360 Online To:'\n",
       " 'Rent HD movies and buy TV shows, and with Kinect, your voice is the remote control.'\n",
       " 'Rent HD movies and buy TV shows, and with Kinect, your voice is the remote control.'\n",
       " 'Download arcade and full Xbox 360 games.'\n",
       " 'Download arcade and full Xbox 360 games.'\n",
       " 'Keep games fresh with new map packs, new songs and workouts'\n",
       " 'Keep games fresh with new map packs, new songs and workouts'\n",
       " '* Broadband Internet, Kinect Sensor and console, games, add-ons and media content all sold separately. Not all Xbox LIVE functionality is Kinect enabled. See xbox.com/live.'\n",
       " 'Xbox LIVE Code Redemption'\n",
       " 'NOT AN XBOX LIVE MEMBER YET?  Follow these steps first before redeeming your code:'\n",
       " 'Connect your Xbox 360 to a broadband Internet connection.'\n",
       " 'Connect your Xbox 360 to a broadband Internet connection.'\n",
       " 'Press the silver/green Xbox Guide Button on the controller.'\n",
       " 'Press the silver/green Xbox Guide Button on the controller.'\n",
       " 'Select Create Profile & follow instructions to create profile name & avatar.'\n",
       " 'Select Create Profile & follow instructions to create profile name & avatar.'\n",
       " 'Select Join Xbox LIVE & follow instructions to setup your'\n",
       " 'Select Join Xbox LIVE & follow instructions to setup your'\n",
       " 'Xbox LIVE account. TO REDEEM GOLD MEMBERSHIP CODE:'\n",
       " 'Sign in to your Xbox LIVE account.' 'Sign in to your Xbox LIVE account.'\n",
       " 'Press the silver/green Xbox Guide Button on the controller.'\n",
       " 'Press the silver/green Xbox Guide Button on the controller.'\n",
       " 'Navigate to Games & Apps tab.' 'Navigate to Games & Apps tab.'\n",
       " 'Select Redeem Code & enter code.' 'Select Redeem Code & enter code.'\n",
       " 'Codes can also be redeemed at live.xbox.com/en-US/RedeemCode.'\n",
       " 'What is Xbox LIVE?'\n",
       " 'Your entertainment. Your way. Get your favorite games, music, movies and more on your TV, tablet and phone.'\n",
       " 'Your entertainment. Your way. Get your favorite games, music, movies and more on your TV, tablet and phone.'\n",
       " 'Use your voice to easily find movies, TV shows, music and games on Xbox 360 with Kinect'\n",
       " 'Use your voice to easily find movies, TV shows, music and games on Xbox 360 with Kinect'\n",
       " 'Play Kinect and controller games online with friends'\n",
       " 'Play Kinect and controller games online with friends'\n",
       " 'Watch HD programs from Netflix, HuluPlus, ESPN, and more'\n",
       " 'Watch HD programs from Netflix, HuluPlus, ESPN, and more'\n",
       " 'Use your phone or tablet as a second screen for an enhanced game and entertainment experience'\n",
       " 'Use your phone or tablet as a second screen for an enhanced game and entertainment experience'\n",
       " 'Explore the web on your TV with Internet Explorer for Xbox'\n",
       " 'Explore the web on your TV with Internet Explorer for Xbox'\n",
       " 'Use Microsoft Points to buy or rent TV shows, movies, and games'\n",
       " 'Use Microsoft Points to buy or rent TV shows, movies, and games'\n",
       " 'Download new songs, workouts, levels and maps to keep your games fresh'\n",
       " 'Download new songs, workouts, levels and maps to keep your games fresh'\n",
       " 'Games' 'Entertainment' 'Kinect'\n",
       " 'Xbox LIVE is where your friends are playing Call of Duty, Halo, and other online multiplayer games'\n",
       " '1'\n",
       " '. With your voice you can quickly find things to watch and play. Even use your phone and tablet to add an extra layer of control for an enhanced experience with your console games. Plus, explore the web easily with Internet Explorer for Xbox on your biggest screen. \\xa0 Xbox brings you great entertainment no matter where you are. Play games online with friends on your TV, tablet or phone. Even enjoy music, TV shows and movies on any of your devices'\n",
       " '2'\n",
       " '. And when you’re at home with Kinect, just say what you want to watch and Xbox finds it. Entertainment is more amazing with Xbox. \\xa0 With Kinect for Xbox 360, you are the controller. Enjoy HD movies, TV, music and sports and control it all with the sound of your voice. Or choose from tons of great Kinect games and experience the fun of getting your whole body in the action'\n",
       " '1' '. Games and entertainment is more amazing with Xbox.' 'SmartGlass'\n",
       " 'Windows 8' 'Internet Explorer'\n",
       " 'Xbox SmartGlass lets you use your phone or tablet as a second screen with your Xbox 360 for an enhanced game and entertainment experience'\n",
       " '2'\n",
       " '. Control and interact with your favorite TV shows, movies, music, sports and games. Even start watching on your tablet and flick it to your TV to keep watching on the big-screen. With Xbox SmartGlass, your devices intelligently work together to show rich interactive activities and new content related to what you’re watching or playing on TV at the moment. The Xbox SmartGlass app will be available on Windows 8, Windows Phone, and the innovative Xbox SmartGlass technology will be available on other major platforms in the My Xbox LIVE app. \\xa0 Xbox is the new way to get great entertainment on Windows 8. Enjoy the latest movies, TV shows, and music on your PC or tablet. You also get access to great games for every style — from the latest hits to your favorite classics. Plus, you can use your tablet as a second screen with your Xbox 360 for an enhanced experience with what you’re watching or playing'\n",
       " '2'\n",
       " '. Even start a show on your tablet and flick it to your TV. Entertainment is more amazing with Xbox. \\xa0 Explore the web on your TV with Internet Explorer for Xbox'\n",
       " '1'\n",
       " '. And with Kinect, use your voice to explore your favorite sites with ease on the biggest screen in the house. Even use your phone or tablet to type and control your experience. Discover the entertainment you love with Xbox.'\n",
       " 'Xbox Video' 'Xbox Music'\n",
       " 'Xbox Video brings you the latest HD movies and TV shows on your TV, tablet, PC or phone. Rent or buy new blockbuster movies and classic favorites, or stay up with last night’s episodes of your favorite TV shows'\n",
       " '3'\n",
       " '. And with Xbox Video you get instant on HD to start watching right away. Plus, the video you buy can be enjoyed wherever you want. Start watching on your Xbox 360, and pick-up where you left off on your tablet. Even download it and take it with you on your Windows Phone at no extra cost. Xbox makes it easy to watch what you love wherever you are. \\xa0 Xbox Music brings you all the music you love, every way you want it. With millions of songs to discover, stream, download and own—it’s the all-in-one music service for your tablet, PC, TV and phone'\n",
       " '4'\n",
       " '. Select an artist, and SmartDJ instantly creates a playlist tailored to you. And with Xbox Music Pass, your favorite songs follow you wherever you go, across all your devices, including unlimited downloads. Because music is more amazing when it’s all brought together for you.'\n",
       " '1'\n",
       " 'Xbox LIVE Gold membership, fees and/or requirements apply for some Xbox LIVE features. Not all Xbox LIVE content is Kinect enabled. Games, add-ons and media content sold separately. Internet Explorer on Xbox coming Holiday 2012. See xbox.com/live.'\n",
       " '2'\n",
       " 'Coming Holiday 2012. Compatible devices required. Broadband internet, additional fees and/or requirements apply for some Xbox LIVE features. Not all features and content on Xbox LIVE is Kinect voice and gesture enabled. Second screen control requires compatible devices enabled with Xbox SmartGlass and is only available with select Xbox LIVE content. See xbox.com/live.'\n",
       " '3'\n",
       " 'Coming Holiday 2012. Broadband internet and compatible devices required. To watch on Windows Phone, sync content from compatible PC. See xbox.com/live.'\n",
       " '4'\n",
       " 'Coming Holiday 2012. Compatible devices and internet required; carrier fees apply. On TV, Xbox Music Pass allows for streaming only and requires an Xbox 360 console and Xbox LIVE Gold subscription (both sold separately). Limited hours of free streaming after 6 months; unlimited with paid subscription. Available Xbox Music features and content may vary over time. See xbox.com/music.']</td>\n",
       "      <td id=\"T_cf8b7_row10_col9\" class=\"data row10 col9\" >[  -1   -1   -1   -1   -1 2285  556 2916 2004 2023]</td>\n",
       "    </tr>\n",
       "    <tr>\n",
       "      <th id=\"T_cf8b7_level0_row11\" class=\"row_heading level0 row11\" >109479</th>\n",
       "      <td id=\"T_cf8b7_row11_col0\" class=\"data row11 col0\" >2021-01-25 21:13:50.043000</td>\n",
       "      <td id=\"T_cf8b7_row11_col1\" class=\"data row11 col1\" >242</td>\n",
       "      <td id=\"T_cf8b7_row11_col2\" class=\"data row11 col2\" >1</td>\n",
       "      <td id=\"T_cf8b7_row11_col3\" class=\"data row11 col3\" >0.919855</td>\n",
       "      <td id=\"T_cf8b7_row11_col4\" class=\"data row11 col4\" >Quest 2 Elite Strap for Enhanced Support and Comfort in VR</td>\n",
       "      <td id=\"T_cf8b7_row11_col5\" class=\"data row11 col5\" >Video Games</td>\n",
       "      <td id=\"T_cf8b7_row11_col6\" class=\"data row11 col6\" >['Video Games' 'Virtual Reality' 'Standalone Hardware' 'Accessories']</td>\n",
       "      <td id=\"T_cf8b7_row11_col7\" class=\"data row11 col7\" >59.0</td>\n",
       "      <td id=\"T_cf8b7_row11_col8\" class=\"data row11 col8\" >['Upgrade your comfort and secure your headset in the perfect position. Custom designed for the Quest 2, the Elite Strap’s rigid support straps keeps your headset firmly in the sweet spot for the clearest visuals, however much you move. A flexible comfort brace cradles the back of the wearer’s head and works with the straps to create a coordinated support system for a lighter headset feel and reduced wearer fatigue. With an easy snap-in connection and simple adjustable fit wheel to find the perfect size, the Elite Strap integrates seamlessly with your Quest 2 headset. Meta Quest packaging will continue to carry the Oculus name and logo during the transition to our new branding.']</td>\n",
       "      <td id=\"T_cf8b7_row11_col9\" class=\"data row11 col9\" >[  -1   -1   -1   -1   -1 2285  556 2916 2004 2023]</td>\n",
       "    </tr>\n",
       "    <tr>\n",
       "      <th id=\"T_cf8b7_level0_row12\" class=\"row_heading level0 row12\" >62507</th>\n",
       "      <td id=\"T_cf8b7_row12_col0\" class=\"data row12 col0\" >2021-01-25 21:24:35.286000</td>\n",
       "      <td id=\"T_cf8b7_row12_col1\" class=\"data row12 col1\" >1611</td>\n",
       "      <td id=\"T_cf8b7_row12_col2\" class=\"data row12 col2\" >0</td>\n",
       "      <td id=\"T_cf8b7_row12_col3\" class=\"data row12 col3\" >0.633641</td>\n",
       "      <td id=\"T_cf8b7_row12_col4\" class=\"data row12 col4\" >Mario Party 5</td>\n",
       "      <td id=\"T_cf8b7_row12_col5\" class=\"data row12 col5\" >Video Games</td>\n",
       "      <td id=\"T_cf8b7_row12_col6\" class=\"data row12 col6\" >['Video Games' 'Legacy Systems' 'Nintendo Systems' 'GameCube' 'Games']</td>\n",
       "      <td id=\"T_cf8b7_row12_col7\" class=\"data row12 col7\" >129.72</td>\n",
       "      <td id=\"T_cf8b7_row12_col8\" class=\"data row12 col8\" >['Help Mario and his friends restore peace to Dream World while racing around all-new game boards and finding new surprises.']</td>\n",
       "      <td id=\"T_cf8b7_row12_col9\" class=\"data row12 col9\" >[  -1   -1   -1   -1 2285  556 2916 2004 2023  242]</td>\n",
       "    </tr>\n",
       "    <tr>\n",
       "      <th id=\"T_cf8b7_level0_row13\" class=\"row_heading level0 row13\" >184590</th>\n",
       "      <td id=\"T_cf8b7_row13_col0\" class=\"data row13 col0\" >2021-01-25 21:24:35.286000</td>\n",
       "      <td id=\"T_cf8b7_row13_col1\" class=\"data row13 col1\" >484</td>\n",
       "      <td id=\"T_cf8b7_row13_col2\" class=\"data row13 col2\" >1</td>\n",
       "      <td id=\"T_cf8b7_row13_col3\" class=\"data row13 col3\" >0.967087</td>\n",
       "      <td id=\"T_cf8b7_row13_col4\" class=\"data row13 col4\" >Nintendo Switch with Neon Blue and Neon Red Joy‑Con</td>\n",
       "      <td id=\"T_cf8b7_row13_col5\" class=\"data row13 col5\" >All Electronics</td>\n",
       "      <td id=\"T_cf8b7_row13_col6\" class=\"data row13 col6\" >['Video Games' 'Nintendo Switch' 'Consoles']</td>\n",
       "      <td id=\"T_cf8b7_row13_col7\" class=\"data row13 col7\" >283.75</td>\n",
       "      <td id=\"T_cf8b7_row13_col8\" class=\"data row13 col8\" >['Get the gaming system that lets you play the games you want, wherever you are, however you like. Includes the Nintendo Switch console and Nintendo Switch dock in black, with contrasting left and right Joy‑Con controllers-one red, one blue. Also includes all the extras you need to get started. Model number: HAC-001(-01) (product serial number begins with “XKW”) This model includes battery life of approximately 4.5 - 9 hours. The battery life will depend on the games you play. For instance, the battery will last approximately 5.5 hours for The Legend of Zelda: Breath of the Wild (games sold separately).'\n",
       " 'Introducing Nintendo Switch, the new home video game system from Nintendo. In addition to providing single and multiplayer thrills at home, the Nintendo Switch system can be taken on the go so players can enjoy a full home console experience anytime, anywhere. The mobility of a handheld is now added to the power of a home gaming system, with unprecedented new play styles brought to life by the two new Joy-Con controllers.'\n",
       " 'PLAY ANYWHERE' 'Home Gaming System'\n",
       " 'At home the main unit rests in the Nintendo Switch dock, which connects the system to the TV and lets you play with family and friends in the comfort of your living room.'\n",
       " 'On-the-Go'\n",
       " 'Lift Nintendo Switch from the dock and instantly transition to handheld mode for on-the-go gaming. By sharing Joy-Con, players can go head-to-head while away from home. You can also enjoy the same great games in tabletop mode by using the included stand to prop the system up.'\n",
       " 'New Play Styles'\n",
       " 'Remove the detachable Joy-Con from either side of Nintendo Switch for more play styles:'\n",
       " 'One player can use a Joy-Con in each hand'\n",
       " 'One player can use a Joy-Con in each hand'\n",
       " 'Two players can each take one' 'Two players can each take one'\n",
       " 'Multiple Joy-Con can be employed by numerous people for a variety of gameplay options (additional Joy-Con sold separately)'\n",
       " 'Multiple Joy-Con can be employed by numerous people for a variety of gameplay options (additional Joy-Con sold separately)'\n",
       " 'Slip a set of Joy-Con into a Joy-Con grip accessory, mirroring a more traditional controller. Or, select an optional Nintendo Switch Pro Controller.'\n",
       " 'Slip a set of Joy-Con into a Joy-Con grip accessory, mirroring a more traditional controller. Or, select an optional Nintendo Switch Pro Controller.'\n",
       " 'Bring together up to 8 Nintendo Switch systems for local face-to-face multiplayer.'\n",
       " 'Are Parental Controls available for the Nintendo Switch console?'\n",
       " 'Yes, a robust set of options is included to help both parents and kids have the best possible gaming experience. Parents can set controls on the system, or use the free Nintendo Switch Parental Controls app to set restrictions on games and purchases, monitor gaming time, and more.']</td>\n",
       "      <td id=\"T_cf8b7_row13_col9\" class=\"data row13 col9\" >[  -1   -1   -1   -1 2285  556 2916 2004 2023  242]</td>\n",
       "    </tr>\n",
       "  </tbody>\n",
       "</table>\n"
      ],
      "text/plain": [
       "<pandas.io.formats.style.Styler at 0x3cc540a50>"
      ]
     },
     "metadata": {},
     "output_type": "display_data"
    }
   ],
   "source": [
    "display_history(train_df)"
   ]
  },
  {
   "cell_type": "code",
   "execution_count": 156,
   "id": "8f785d48-b6be-484b-b767-f9e7dbcd9acf",
   "metadata": {
    "scrolled": true
   },
   "outputs": [
    {
     "data": {
      "text/html": [
       "<style type=\"text/css\">\n",
       "#T_eb4ae_row0_col0, #T_eb4ae_row0_col1, #T_eb4ae_row0_col2, #T_eb4ae_row0_col3, #T_eb4ae_row0_col4, #T_eb4ae_row0_col5, #T_eb4ae_row0_col6, #T_eb4ae_row0_col7, #T_eb4ae_row0_col8, #T_eb4ae_row0_col9 {\n",
       "  color: #cccfcd;\n",
       "}\n",
       "</style>\n",
       "<table id=\"T_eb4ae\">\n",
       "  <thead>\n",
       "    <tr>\n",
       "      <th class=\"blank level0\" >&nbsp;</th>\n",
       "      <th id=\"T_eb4ae_level0_col0\" class=\"col_heading level0 col0\" >timestamp</th>\n",
       "      <th id=\"T_eb4ae_level0_col1\" class=\"col_heading level0 col1\" >item_indice</th>\n",
       "      <th id=\"T_eb4ae_level0_col2\" class=\"col_heading level0 col2\" >label</th>\n",
       "      <th id=\"T_eb4ae_level0_col3\" class=\"col_heading level0 col3\" >prediction</th>\n",
       "      <th id=\"T_eb4ae_level0_col4\" class=\"col_heading level0 col4\" >title</th>\n",
       "      <th id=\"T_eb4ae_level0_col5\" class=\"col_heading level0 col5\" >main_category</th>\n",
       "      <th id=\"T_eb4ae_level0_col6\" class=\"col_heading level0 col6\" >categories</th>\n",
       "      <th id=\"T_eb4ae_level0_col7\" class=\"col_heading level0 col7\" >price</th>\n",
       "      <th id=\"T_eb4ae_level0_col8\" class=\"col_heading level0 col8\" >description</th>\n",
       "      <th id=\"T_eb4ae_level0_col9\" class=\"col_heading level0 col9\" >item_sequence</th>\n",
       "    </tr>\n",
       "  </thead>\n",
       "  <tbody>\n",
       "    <tr>\n",
       "      <th id=\"T_eb4ae_level0_row0\" class=\"row_heading level0 row0\" >1237</th>\n",
       "      <td id=\"T_eb4ae_row0_col0\" class=\"data row0 col0\" >2022-01-13 06:19:05.476000</td>\n",
       "      <td id=\"T_eb4ae_row0_col1\" class=\"data row0 col1\" >2214</td>\n",
       "      <td id=\"T_eb4ae_row0_col2\" class=\"data row0 col2\" >0</td>\n",
       "      <td id=\"T_eb4ae_row0_col3\" class=\"data row0 col3\" >0.936215</td>\n",
       "      <td id=\"T_eb4ae_row0_col4\" class=\"data row0 col4\" >Heavy Rain and Beyond Two Souls Collection HD Remastered (Playstation 4 PS4)</td>\n",
       "      <td id=\"T_eb4ae_row0_col5\" class=\"data row0 col5\" >Video Games</td>\n",
       "      <td id=\"T_eb4ae_row0_col6\" class=\"data row0 col6\" >['Video Games' 'PlayStation 4' 'Games']</td>\n",
       "      <td id=\"T_eb4ae_row0_col7\" class=\"data row0 col7\" >None</td>\n",
       "      <td id=\"T_eb4ae_row0_col8\" class=\"data row0 col8\" >[]</td>\n",
       "      <td id=\"T_eb4ae_row0_col9\" class=\"data row0 col9\" >[  -1   -1   -1 2285  556 2916 2004 2023  242  484]</td>\n",
       "    </tr>\n",
       "    <tr>\n",
       "      <th id=\"T_eb4ae_level0_row1\" class=\"row_heading level0 row1\" >1746</th>\n",
       "      <td id=\"T_eb4ae_row1_col0\" class=\"data row1 col0\" >2022-01-13 06:19:05.476000</td>\n",
       "      <td id=\"T_eb4ae_row1_col1\" class=\"data row1 col1\" >4616</td>\n",
       "      <td id=\"T_eb4ae_row1_col2\" class=\"data row1 col2\" >1</td>\n",
       "      <td id=\"T_eb4ae_row1_col3\" class=\"data row1 col3\" >0.934653</td>\n",
       "      <td id=\"T_eb4ae_row1_col4\" class=\"data row1 col4\" >PDP Universal PS4/PS5 Media Remote Control, Playstation Gaming Remote Compatible with Sony Playstation 4 and Playstation 5, Bluetooth Detection for up to 4 Devices, TV Power/Input/Volume Controls</td>\n",
       "      <td id=\"T_eb4ae_row1_col5\" class=\"data row1 col5\" >Video Games</td>\n",
       "      <td id=\"T_eb4ae_row1_col6\" class=\"data row1 col6\" >['Video Games' 'PlayStation 4' 'Accessories' 'Remotes']</td>\n",
       "      <td id=\"T_eb4ae_row1_col7\" class=\"data row1 col7\" >None</td>\n",
       "      <td id=\"T_eb4ae_row1_col8\" class=\"data row1 col8\" >['Manage your PS4 systems with this convenient, hassle free remote that lets you control your favorite streaming media through the PS4. The sleek and compact design with improved ergonomics allows you to access all essential controls under one thumb. Keep it simple with this effortless remote. Compatible with the following apps on PS4: Netflix, Amazon, NBA GAME TIME, Blu ray Disc Player, PlayStation Vue, PlayStation Video, Crunchyroll, Funimation, and Media Player.']</td>\n",
       "      <td id=\"T_eb4ae_row1_col9\" class=\"data row1 col9\" >[  -1   -1   -1 2285  556 2916 2004 2023  242  484]</td>\n",
       "    </tr>\n",
       "  </tbody>\n",
       "</table>\n"
      ],
      "text/plain": [
       "<pandas.io.formats.style.Styler at 0x3cc596850>"
      ]
     },
     "metadata": {},
     "output_type": "display_data"
    }
   ],
   "source": [
    "display_history(val_df)"
   ]
  },
  {
   "cell_type": "code",
   "execution_count": 157,
   "id": "5afe9077-d4d4-4496-ab3a-7ba1017f0ed0",
   "metadata": {
    "scrolled": true
   },
   "outputs": [
    {
     "data": {
      "application/vnd.jupyter.widget-view+json": {
       "model_id": "4216c7d4988340c6bf5df126c5bb5028",
       "version_major": 2,
       "version_minor": 0
      },
      "text/plain": [
       "Generating recommendations:   0%|          | 0/1 [00:00<?, ?it/s]"
      ]
     },
     "metadata": {},
     "output_type": "display_data"
    },
    {
     "data": {
      "text/html": [
       "<div>\n",
       "<style scoped>\n",
       "    .dataframe tbody tr th:only-of-type {\n",
       "        vertical-align: middle;\n",
       "    }\n",
       "\n",
       "    .dataframe tbody tr th {\n",
       "        vertical-align: top;\n",
       "    }\n",
       "\n",
       "    .dataframe thead th {\n",
       "        text-align: right;\n",
       "    }\n",
       "</style>\n",
       "<table border=\"1\" class=\"dataframe\">\n",
       "  <thead>\n",
       "    <tr style=\"text-align: right;\">\n",
       "      <th></th>\n",
       "      <th>item_indice</th>\n",
       "      <th>score</th>\n",
       "      <th>title</th>\n",
       "      <th>main_category</th>\n",
       "      <th>categories</th>\n",
       "      <th>price</th>\n",
       "      <th>description</th>\n",
       "    </tr>\n",
       "  </thead>\n",
       "  <tbody>\n",
       "    <tr>\n",
       "      <th>0</th>\n",
       "      <td>458</td>\n",
       "      <td>0.980676</td>\n",
       "      <td>HTC Vive Deluxe Audio Strap</td>\n",
       "      <td>Video Games</td>\n",
       "      <td>[Video Games, PC, Virtual Reality, Accessories]</td>\n",
       "      <td>66.64</td>\n",
       "      <td>[The Vive Deluxe Audio Strap provides integrated earphones with great sound quality so you will have a more convenient VR experience. The earphones offer height and angle adjustment to best fit your ears and are easy to put on and take off as well., Designed for the HTC Vive VR Headset, the HTC Vive Deluxe Audio Strap features an adjustment dial in the back to get the proper fit. Comfort padding and improved weight distribution ensure comfort while wearing the headset during immersive VR gameplay., With integrated on-ear headphones, the HTC Vive Deluxe Audio Strap connects to the Vive VR Headset via a 3.5mm headphone jack. The headphones offer height and angle adjustment to make it easy while putting on and taking off the headset.]</td>\n",
       "    </tr>\n",
       "    <tr>\n",
       "      <th>1</th>\n",
       "      <td>896</td>\n",
       "      <td>0.979494</td>\n",
       "      <td>NES Classic Controller Extension Cable 3M / 10ft (2-Pack), i-Kawachi SNES Extension Power Cord for Super Nintendo SNES Classic Edition Controller (2017) and Mini NES Classic Edition (2016)</td>\n",
       "      <td>All Electronics</td>\n",
       "      <td>[Video Games, Legacy Systems, Nintendo Systems, Nintendo NES, Accessories]</td>\n",
       "      <td>12.99</td>\n",
       "      <td>[]</td>\n",
       "    </tr>\n",
       "    <tr>\n",
       "      <th>2</th>\n",
       "      <td>1389</td>\n",
       "      <td>0.978927</td>\n",
       "      <td>Repair Kit for NS Switch, Younik 17 in 1 Switch Screwdriver Set, Screwdriver Game Bit Repair Tool Kit for NS Switch/Switch Lite/J-Con/DS/NES/SNES/DS Lite/GBA</td>\n",
       "      <td>Tools &amp; Home Improvement</td>\n",
       "      <td>[Video Games, Legacy Systems, Nintendo Systems, Game Boy Systems, Game Boy Color, Accessories]</td>\n",
       "      <td>None</td>\n",
       "      <td>[]</td>\n",
       "    </tr>\n",
       "    <tr>\n",
       "      <th>3</th>\n",
       "      <td>3954</td>\n",
       "      <td>0.978782</td>\n",
       "      <td>Microsoft Xbox Wireless Controller - Minecraft Creeper - Xbox One (Discontinued)</td>\n",
       "      <td>Video Games</td>\n",
       "      <td>[Video Games, Xbox One, Accessories, Controllers, Gamepads &amp; Standard Controllers]</td>\n",
       "      <td>None</td>\n",
       "      <td>[Prepare to create, explore, and survive your own Minecraft adventure with the Minecraft Creeper controller, featuring the iconic green Creeper design, textured grip for enhanced comfort, and ABXY buttons with classic Minecraft font. Enjoy custom button mapping and up to twice the wireless range. Plug in any compatible headset with the 3.5mm stereo headset jack. And with Bluetooth technology, play your favorite games on Windows 10 PCs and tablets.]</td>\n",
       "    </tr>\n",
       "    <tr>\n",
       "      <th>4</th>\n",
       "      <td>3053</td>\n",
       "      <td>0.978522</td>\n",
       "      <td>PowerA MOGA Mobile Gaming Clip for Xbox One Wireless Controllers</td>\n",
       "      <td>Video Games</td>\n",
       "      <td>[Video Games, Xbox One, Accessories, Controllers, Gamepads &amp; Standard Controllers]</td>\n",
       "      <td>35.87</td>\n",
       "      <td>[Jump into mobile gaming with this expertly engineered phone clip designed in partnership with the Xbox design studio. Choose from hundreds of games across multiple platforms that are compatible with Bluetooth-enabled Xbox One wireless Controllers. Dual locking articulation points help you reduce fatigue during extended gaming sessions by ergonomically balancing your phone over the controller's center of gravity. The extendable arm secures and protects your phone with rubberized grips and backing pad that fits devices up to 3.12” (79mm) wide. For gaming on the go, the clip easily adjusts down to be compact enough to toss into your bag or pocket. Finally, our 2-year limited warranty reinforces our commitment to quality, ensuring you can trust PowerA products to perform.]</td>\n",
       "    </tr>\n",
       "    <tr>\n",
       "      <th>5</th>\n",
       "      <td>765</td>\n",
       "      <td>0.978166</td>\n",
       "      <td>Nintendo Joy-Con Charging Grip</td>\n",
       "      <td>Video Games</td>\n",
       "      <td>[Video Games, Nintendo Switch, Accessories, Batteries &amp; Chargers]</td>\n",
       "      <td>None</td>\n",
       "      <td>[Combine the left and right Joy-Con into one larger controller with this handy grip. It also lets you keep playing while you're charging your Joy-Con, so you don't have to miss a minute.]</td>\n",
       "    </tr>\n",
       "    <tr>\n",
       "      <th>6</th>\n",
       "      <td>681</td>\n",
       "      <td>0.978135</td>\n",
       "      <td>PowerA Charging Stand for Xbox One - White</td>\n",
       "      <td>Video Games</td>\n",
       "      <td>[Video Games, Xbox One, Accessories, Batteries &amp; Chargers, Chargers]</td>\n",
       "      <td>13.57</td>\n",
       "      <td>[An Xbox wireless Controller looks great on this charging Stand! The Officially Licensed charging Stand eliminates the cost of replacement batteries. Included are a Universal battery door and rechargeable battery pack, equipped with hours of gameplay for your Xbox wireless Controller or Xbox Elite Wireless Controller. To charge, simply click a Controller down on the charging Stand and watch the LED light bar to indicate charging. When fully charged, click up to store. Focus on the game and not on your battery life.]</td>\n",
       "    </tr>\n",
       "    <tr>\n",
       "      <th>7</th>\n",
       "      <td>3471</td>\n",
       "      <td>0.977899</td>\n",
       "      <td>Smatree Controller Battery Compatible for Xbox Series X|S/Xbox One/Xbox One S/Xbox One X/Xbox One Elite Wireless Controller, 2 Pack Rechargeable Batteries with Charger</td>\n",
       "      <td>All Electronics</td>\n",
       "      <td>[Video Games, Xbox One, Accessories, Batteries &amp; Chargers, Battery &amp; Charger Sets]</td>\n",
       "      <td>19.99</td>\n",
       "      <td>[]</td>\n",
       "    </tr>\n",
       "    <tr>\n",
       "      <th>8</th>\n",
       "      <td>4421</td>\n",
       "      <td>0.977636</td>\n",
       "      <td>Hori Nintendo Switch D-Pad Controller (L) (Pokemon: Black &amp; Gold Pikachu) By &amp; PowerA Pokemon Joy-Con Comfort Grip for Nintendo Switch - Pikachu, Works with Nintendo Switch Lite - Nintendo Switch</td>\n",
       "      <td>Video Games</td>\n",
       "      <td>[]</td>\n",
       "      <td>37.98</td>\n",
       "      <td>[Hori Nintendo Switch D-Pad Controller (L) (Pokemon: Black &amp; Gold Pikachu) By - Officially Licensed By Nintendo and the Pokemon Company International - Nintendo SwitchGive your Nintendo Switch that classic feel with the d-pad Controller (L) by Hori. Made for the gamer on the go, The d-pad Controller (L) is great for d-pad intensive titles, where Lightning accuracy counts such as NES and SNES classics on Nintendo Switch Online and your favorite Nintendo Switch platforming, puzzles, and fighting games. For portable mode only. Officially Licensed by Nintendo and Pokemon.PowerA Pokemon Joy-Con Comfort Grip for Nintendo Switch - Pikachu, Works with Nintendo Switch Lite - Nintendo SwitchIf you love Nintendo Switch, you're going to spend a lot of time playing it. The comfort grip brings the left and right Joy-Con Controllers together to make one comfortable controller, so you can play as long as you like. Ergonomic, rubber grips will keep your palms happy and your fingers from cramping at home or on-the-go. Simply slide each Joy-Con Controller down the rails until they click, and view the player indicator lights through the front. Protip: the Comfort grip stands up on its own and looks great next to your Nintendo Switch dock.]</td>\n",
       "    </tr>\n",
       "    <tr>\n",
       "      <th>9</th>\n",
       "      <td>2806</td>\n",
       "      <td>0.977563</td>\n",
       "      <td>Thrustmaster TH8A Shifter (PS5, PS4, XBOX Series X/S, One, PC)</td>\n",
       "      <td>Video Games</td>\n",
       "      <td>[Video Games, PC, Accessories, Controllers, Racing Wheels]</td>\n",
       "      <td>199.99</td>\n",
       "      <td>[The THRUSTMASTER TH8A Add-On Gearbox Shifter for PC, PS3, PS4 and Xbox One adds realism and authenticity to your racing experience. It offers realistic gear-shifting feel with its detachable knob. The gear stick is compatible with real universal (automotive) knobs available at car parts stores and big-box retailers, and the two included shift-plates offer your choice of \"H\"-pattern (7+1) and Sequential (+/-) shifting. The internal mechanism features 100% metal construction with a metal gear stick and clamping system. H.E.A.R.T. “Hall Effect AccuRate Technology” offers precision that won't decrease over time (with its contactless magnetic sensor). There is no tact switch and no potentiometer to wear out (allowing for unlimited product lifespan). The firmware is upgradable, and the internal memory offers adjustable gearshift travel to suit your driving style (software available for download on PC). There is an adjustable resistance when shifting gears and the shift-plate position and rotation is adjustable by 360 degrees. The clamping system position and rotation are also adjustable by 360 degrees. The clamp is optimized for any support surface, including tables or shelves from 1 to 55 mm in thickness (0.04” to 2.17”). The built-in screw threads and removable clamping system allow for cockpit mounting. For PC use, the TH8A Add-On Gearbox Shifter works with all racing wheels on the market. With the PS3 and PS4, the gearbox works with the T500RS, Ferrari F1 Wheel Integral T500, T300RS, and T300 Ferrari GTE racing wheels. On Xbox One, it works with the TX Racing Wheel. Add excitement and realism to your racing experience with the THRUSTMASTER TH8A Add-On Gearbox Shifter for PC, PS3, PS4 and Xbox One.]</td>\n",
       "    </tr>\n",
       "  </tbody>\n",
       "</table>\n",
       "</div>"
      ],
      "text/plain": [
       "   item_indice     score  \\\n",
       "0          458  0.980676   \n",
       "1          896  0.979494   \n",
       "2         1389  0.978927   \n",
       "3         3954  0.978782   \n",
       "4         3053  0.978522   \n",
       "5          765  0.978166   \n",
       "6          681  0.978135   \n",
       "7         3471  0.977899   \n",
       "8         4421  0.977636   \n",
       "9         2806  0.977563   \n",
       "\n",
       "                                                                                                                                                                                                 title  \\\n",
       "0                                                                                                                                                                          HTC Vive Deluxe Audio Strap   \n",
       "1         NES Classic Controller Extension Cable 3M / 10ft (2-Pack), i-Kawachi SNES Extension Power Cord for Super Nintendo SNES Classic Edition Controller (2017) and Mini NES Classic Edition (2016)   \n",
       "2                                        Repair Kit for NS Switch, Younik 17 in 1 Switch Screwdriver Set, Screwdriver Game Bit Repair Tool Kit for NS Switch/Switch Lite/J-Con/DS/NES/SNES/DS Lite/GBA   \n",
       "3                                                                                                                     Microsoft Xbox Wireless Controller - Minecraft Creeper - Xbox One (Discontinued)   \n",
       "4                                                                                                                                     PowerA MOGA Mobile Gaming Clip for Xbox One Wireless Controllers   \n",
       "5                                                                                                                                                                       Nintendo Joy-Con Charging Grip   \n",
       "6                                                                                                                                                           PowerA Charging Stand for Xbox One - White   \n",
       "7                              Smatree Controller Battery Compatible for Xbox Series X|S/Xbox One/Xbox One S/Xbox One X/Xbox One Elite Wireless Controller, 2 Pack Rechargeable Batteries with Charger   \n",
       "8  Hori Nintendo Switch D-Pad Controller (L) (Pokemon: Black & Gold Pikachu) By & PowerA Pokemon Joy-Con Comfort Grip for Nintendo Switch - Pikachu, Works with Nintendo Switch Lite - Nintendo Switch   \n",
       "9                                                                                                                                       Thrustmaster TH8A Shifter (PS5, PS4, XBOX Series X/S, One, PC)   \n",
       "\n",
       "              main_category  \\\n",
       "0               Video Games   \n",
       "1           All Electronics   \n",
       "2  Tools & Home Improvement   \n",
       "3               Video Games   \n",
       "4               Video Games   \n",
       "5               Video Games   \n",
       "6               Video Games   \n",
       "7           All Electronics   \n",
       "8               Video Games   \n",
       "9               Video Games   \n",
       "\n",
       "                                                                                       categories  \\\n",
       "0                                                 [Video Games, PC, Virtual Reality, Accessories]   \n",
       "1                      [Video Games, Legacy Systems, Nintendo Systems, Nintendo NES, Accessories]   \n",
       "2  [Video Games, Legacy Systems, Nintendo Systems, Game Boy Systems, Game Boy Color, Accessories]   \n",
       "3              [Video Games, Xbox One, Accessories, Controllers, Gamepads & Standard Controllers]   \n",
       "4              [Video Games, Xbox One, Accessories, Controllers, Gamepads & Standard Controllers]   \n",
       "5                               [Video Games, Nintendo Switch, Accessories, Batteries & Chargers]   \n",
       "6                            [Video Games, Xbox One, Accessories, Batteries & Chargers, Chargers]   \n",
       "7              [Video Games, Xbox One, Accessories, Batteries & Chargers, Battery & Charger Sets]   \n",
       "8                                                                                              []   \n",
       "9                                      [Video Games, PC, Accessories, Controllers, Racing Wheels]   \n",
       "\n",
       "    price  \\\n",
       "0   66.64   \n",
       "1   12.99   \n",
       "2    None   \n",
       "3    None   \n",
       "4   35.87   \n",
       "5    None   \n",
       "6   13.57   \n",
       "7   19.99   \n",
       "8   37.98   \n",
       "9  199.99   \n",
       "\n",
       "                                                                                                                                                                                                                                                                                                                                                                                                                                                                                                                                                                                                                                                                                                                                                                                                                                                                                                                                                                                                                                                                                                                                                                                                                                                                                                                                                                                                                                                                                                                                                                                                                                                                                                                                                                                      description  \n",
       "0                                                                                                                                                                                                                                                                                                                                                                                                                                                                                                                                                                                                                                                                                                                                                                                                                                                                                                                                                                                                                           [The Vive Deluxe Audio Strap provides integrated earphones with great sound quality so you will have a more convenient VR experience. The earphones offer height and angle adjustment to best fit your ears and are easy to put on and take off as well., Designed for the HTC Vive VR Headset, the HTC Vive Deluxe Audio Strap features an adjustment dial in the back to get the proper fit. Comfort padding and improved weight distribution ensure comfort while wearing the headset during immersive VR gameplay., With integrated on-ear headphones, the HTC Vive Deluxe Audio Strap connects to the Vive VR Headset via a 3.5mm headphone jack. The headphones offer height and angle adjustment to make it easy while putting on and taking off the headset.]  \n",
       "1                                                                                                                                                                                                                                                                                                                                                                                                                                                                                                                                                                                                                                                                                                                                                                                                                                                                                                                                                                                                                                                                                                                                                                                                                                                                                                                                                                                                                                                                                                                                                                                                                                                                                                                                                                                              []  \n",
       "2                                                                                                                                                                                                                                                                                                                                                                                                                                                                                                                                                                                                                                                                                                                                                                                                                                                                                                                                                                                                                                                                                                                                                                                                                                                                                                                                                                                                                                                                                                                                                                                                                                                                                                                                                                                              []  \n",
       "3                                                                                                                                                                                                                                                                                                                                                                                                                                                                                                                                                                                                                                                                                                                                                                                                                                                                                                                                                                                                                                                                                                                                                                                                                                                                                                                            [Prepare to create, explore, and survive your own Minecraft adventure with the Minecraft Creeper controller, featuring the iconic green Creeper design, textured grip for enhanced comfort, and ABXY buttons with classic Minecraft font. Enjoy custom button mapping and up to twice the wireless range. Plug in any compatible headset with the 3.5mm stereo headset jack. And with Bluetooth technology, play your favorite games on Windows 10 PCs and tablets.]  \n",
       "4                                                                                                                                                                                                                                                                                                                                                                                                                                                                                                                                                                                                                                                                                                                                                                                                                                                                                                                                                                                    [Jump into mobile gaming with this expertly engineered phone clip designed in partnership with the Xbox design studio. Choose from hundreds of games across multiple platforms that are compatible with Bluetooth-enabled Xbox One wireless Controllers. Dual locking articulation points help you reduce fatigue during extended gaming sessions by ergonomically balancing your phone over the controller's center of gravity. The extendable arm secures and protects your phone with rubberized grips and backing pad that fits devices up to 3.12” (79mm) wide. For gaming on the go, the clip easily adjusts down to be compact enough to toss into your bag or pocket. Finally, our 2-year limited warranty reinforces our commitment to quality, ensuring you can trust PowerA products to perform.]  \n",
       "5                                                                                                                                                                                                                                                                                                                                                                                                                                                                                                                                                                                                                                                                                                                                                                                                                                                                                                                                                                                                                                                                                                                                                                                                                                                                                                                                                                                                                                                                                                                                                                                                     [Combine the left and right Joy-Con into one larger controller with this handy grip. It also lets you keep playing while you're charging your Joy-Con, so you don't have to miss a minute.]  \n",
       "6                                                                                                                                                                                                                                                                                                                                                                                                                                                                                                                                                                                                                                                                                                                                                                                                                                                                                                                                                                                                                                                                                                                                                                                                                                                       [An Xbox wireless Controller looks great on this charging Stand! The Officially Licensed charging Stand eliminates the cost of replacement batteries. Included are a Universal battery door and rechargeable battery pack, equipped with hours of gameplay for your Xbox wireless Controller or Xbox Elite Wireless Controller. To charge, simply click a Controller down on the charging Stand and watch the LED light bar to indicate charging. When fully charged, click up to store. Focus on the game and not on your battery life.]  \n",
       "7                                                                                                                                                                                                                                                                                                                                                                                                                                                                                                                                                                                                                                                                                                                                                                                                                                                                                                                                                                                                                                                                                                                                                                                                                                                                                                                                                                                                                                                                                                                                                                                                                                                                                                                                                                                              []  \n",
       "8                                                                                                                                                                                                                                                                                                                                                                                                                                                                                                         [Hori Nintendo Switch D-Pad Controller (L) (Pokemon: Black & Gold Pikachu) By - Officially Licensed By Nintendo and the Pokemon Company International - Nintendo SwitchGive your Nintendo Switch that classic feel with the d-pad Controller (L) by Hori. Made for the gamer on the go, The d-pad Controller (L) is great for d-pad intensive titles, where Lightning accuracy counts such as NES and SNES classics on Nintendo Switch Online and your favorite Nintendo Switch platforming, puzzles, and fighting games. For portable mode only. Officially Licensed by Nintendo and Pokemon.PowerA Pokemon Joy-Con Comfort Grip for Nintendo Switch - Pikachu, Works with Nintendo Switch Lite - Nintendo SwitchIf you love Nintendo Switch, you're going to spend a lot of time playing it. The comfort grip brings the left and right Joy-Con Controllers together to make one comfortable controller, so you can play as long as you like. Ergonomic, rubber grips will keep your palms happy and your fingers from cramping at home or on-the-go. Simply slide each Joy-Con Controller down the rails until they click, and view the player indicator lights through the front. Protip: the Comfort grip stands up on its own and looks great next to your Nintendo Switch dock.]  \n",
       "9  [The THRUSTMASTER TH8A Add-On Gearbox Shifter for PC, PS3, PS4 and Xbox One adds realism and authenticity to your racing experience. It offers realistic gear-shifting feel with its detachable knob. The gear stick is compatible with real universal (automotive) knobs available at car parts stores and big-box retailers, and the two included shift-plates offer your choice of \"H\"-pattern (7+1) and Sequential (+/-) shifting. The internal mechanism features 100% metal construction with a metal gear stick and clamping system. H.E.A.R.T. “Hall Effect AccuRate Technology” offers precision that won't decrease over time (with its contactless magnetic sensor). There is no tact switch and no potentiometer to wear out (allowing for unlimited product lifespan). The firmware is upgradable, and the internal memory offers adjustable gearshift travel to suit your driving style (software available for download on PC). There is an adjustable resistance when shifting gears and the shift-plate position and rotation is adjustable by 360 degrees. The clamping system position and rotation are also adjustable by 360 degrees. The clamp is optimized for any support surface, including tables or shelves from 1 to 55 mm in thickness (0.04” to 2.17”). The built-in screw threads and removable clamping system allow for cockpit mounting. For PC use, the TH8A Add-On Gearbox Shifter works with all racing wheels on the market. With the PS3 and PS4, the gearbox works with the T500RS, Ferrari F1 Wheel Integral T500, T300RS, and T300 Ferrari GTE racing wheels. On Xbox One, it works with the TX Racing Wheel. Add excitement and realism to your racing experience with the THRUSTMASTER TH8A Add-On Gearbox Shifter for PC, PS3, PS4 and Xbox One.]  "
      ]
     },
     "metadata": {},
     "output_type": "display_data"
    }
   ],
   "source": [
    "get_recs(user_indice)"
   ]
  },
  {
   "cell_type": "code",
   "execution_count": null,
   "id": "495324c0-fef1-480d-8598-f4127bb91812",
   "metadata": {},
   "outputs": [],
   "source": []
  }
 ],
 "metadata": {
  "kernelspec": {
   "display_name": "Python 3 (ipykernel)",
   "language": "python",
   "name": "python3"
  },
  "language_info": {
   "codemirror_mode": {
    "name": "ipython",
    "version": 3
   },
   "file_extension": ".py",
   "mimetype": "text/x-python",
   "name": "python",
   "nbconvert_exporter": "python",
   "pygments_lexer": "ipython3",
   "version": "3.11.9"
  }
 },
 "nbformat": 4,
 "nbformat_minor": 5
}
