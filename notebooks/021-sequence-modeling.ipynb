{
 "cells": [
  {
   "cell_type": "markdown",
   "id": "3bf1577c-6f3b-4b1c-a848-8f5e45ff8111",
   "metadata": {},
   "source": [
    "# Sequence modeling for ranking task"
   ]
  },
  {
   "cell_type": "markdown",
   "id": "9309e017-0449-46ee-b7ca-4c4bcadeedf6",
   "metadata": {},
   "source": [
    "# Set up"
   ]
  },
  {
   "cell_type": "code",
   "execution_count": 1,
   "id": "3c8f6e8d-f776-4d39-898c-d783c5ae3407",
   "metadata": {},
   "outputs": [],
   "source": [
    "%load_ext autoreload\n",
    "%autoreload 2\n",
    "%load_ext tensorboard"
   ]
  },
  {
   "cell_type": "code",
   "execution_count": null,
   "id": "35b3499d-dc9c-405a-8714-a26341b581e1",
   "metadata": {
    "editable": true,
    "slideshow": {
     "slide_type": ""
    },
    "tags": []
   },
   "outputs": [],
   "source": [
    "import os\n",
    "import sys\n",
    "\n",
    "import lightning as L\n",
    "import numpy as np\n",
    "import pandas as pd\n",
    "import torch\n",
    "from dotenv import load_dotenv\n",
    "from lightning.pytorch.callbacks import ModelCheckpoint\n",
    "from lightning.pytorch.callbacks.early_stopping import EarlyStopping\n",
    "from lightning.pytorch.loggers import MLFlowLogger\n",
    "from loguru import logger\n",
    "from mlflow.models.signature import infer_signature\n",
    "from pydantic import BaseModel\n",
    "from torch.utils.data import DataLoader\n",
    "\n",
    "import mlflow\n",
    "\n",
    "load_dotenv()\n",
    "\n",
    "sys.path.insert(0, \"..\")\n",
    "\n",
    "from src.dataset import UserItemBinaryDFDataset as UserItemRatingDFDataset\n",
    "from src.id_mapper import IDMapper\n",
    "from src.sequence.inference import SequenceRatingPredictionInferenceWrapper\n",
    "from src.sequence.model import SequenceRatingPrediction\n",
    "from src.sequence.trainer import LitSequenceRatingPrediction\n",
    "from src.sequence.utils import generate_item_sequences\n",
    "from src.viz import blueq_colors"
   ]
  },
  {
   "cell_type": "markdown",
   "id": "fd804021-3424-48e0-973a-e662a72db544",
   "metadata": {},
   "source": [
    "# Controller"
   ]
  },
  {
   "cell_type": "code",
   "execution_count": 3,
   "id": "ce522d9e-f35c-4cc5-a71e-68447956b31f",
   "metadata": {
    "editable": true,
    "slideshow": {
     "slide_type": ""
    },
    "tags": [
     "parameters"
    ]
   },
   "outputs": [],
   "source": [
    "max_epochs = 1"
   ]
  },
  {
   "cell_type": "code",
   "execution_count": 4,
   "id": "ea4e9a93-5b6a-4dec-97f0-b9aa3383c64d",
   "metadata": {
    "scrolled": true
   },
   "outputs": [
    {
     "name": "stderr",
     "output_type": "stream",
     "text": [
      "\u001b[32m2024-11-10 16:26:10.314\u001b[0m | \u001b[1mINFO    \u001b[0m | \u001b[36m__main__\u001b[0m:\u001b[36minit\u001b[0m:\u001b[36m46\u001b[0m - \u001b[1mSetting up MLflow experiment RecSys MVP - Sequence Modeling - run 002-try-binary...\u001b[0m\n"
     ]
    },
    {
     "name": "stdout",
     "output_type": "stream",
     "text": [
      "{\n",
      "  \"testing\": false,\n",
      "  \"log_to_mlflow\": true,\n",
      "  \"experiment_name\": \"RecSys MVP - Sequence Modeling\",\n",
      "  \"run_name\": \"002-try-binary\",\n",
      "  \"notebook_persist_dp\": \"/home/dvquys/frostmourne/recsys-mvp/notebooks/data/002-try-binary\",\n",
      "  \"random_seed\": 41,\n",
      "  \"device\": \"cuda\",\n",
      "  \"max_epochs\": 1,\n",
      "  \"batch_size\": 128,\n",
      "  \"user_col\": \"user_id\",\n",
      "  \"item_col\": \"parent_asin\",\n",
      "  \"rating_col\": \"rating\",\n",
      "  \"timestamp_col\": \"timestamp\",\n",
      "  \"top_K\": 100,\n",
      "  \"top_k\": 10,\n",
      "  \"embedding_dim\": 128,\n",
      "  \"dropout\": 0.3,\n",
      "  \"early_stopping_patience\": 5,\n",
      "  \"learning_rate\": 0.001,\n",
      "  \"l2_reg\": 0.0001,\n",
      "  \"mlf_item2vec_model_name\": \"item2vec\",\n",
      "  \"mlf_model_name\": \"sequence_rating_prediction\",\n",
      "  \"min_roc_auc\": 0.7,\n",
      "  \"best_checkpoint_path\": null\n",
      "}\n"
     ]
    }
   ],
   "source": [
    "class Args(BaseModel):\n",
    "    testing: bool = False\n",
    "    log_to_mlflow: bool = True\n",
    "    experiment_name: str = \"RecSys MVP - Sequence Modeling\"\n",
    "    run_name: str = \"002-try-binary\"\n",
    "    notebook_persist_dp: str = None\n",
    "    random_seed: int = 41\n",
    "    device: str = None\n",
    "\n",
    "    max_epochs: int = max_epochs\n",
    "    batch_size: int = 128\n",
    "\n",
    "    user_col: str = \"user_id\"\n",
    "    item_col: str = \"parent_asin\"\n",
    "    rating_col: str = \"rating\"\n",
    "    timestamp_col: str = \"timestamp\"\n",
    "\n",
    "    top_K: int = 100\n",
    "    top_k: int = 10\n",
    "\n",
    "    batch_size: int = 128\n",
    "\n",
    "    embedding_dim: int = 128\n",
    "    dropout: float = 0.3\n",
    "    early_stopping_patience: int = 5\n",
    "    learning_rate: float = 0.001\n",
    "    l2_reg: float = 1e-4\n",
    "\n",
    "    mlf_item2vec_model_name: str = \"item2vec\"\n",
    "    mlf_model_name: str = \"sequence_rating_prediction\"\n",
    "    min_roc_auc: float = 0.7\n",
    "\n",
    "    best_checkpoint_path: str = None\n",
    "\n",
    "    def init(self):\n",
    "        self.notebook_persist_dp = os.path.abspath(f\"data/{self.run_name}\")\n",
    "        os.makedirs(self.notebook_persist_dp, exist_ok=True)\n",
    "\n",
    "        if not (mlflow_uri := os.environ.get(\"MLFLOW_TRACKING_URI\")):\n",
    "            logger.warning(\n",
    "                f\"Environment variable MLFLOW_TRACKING_URI is not set. Setting self.log_to_mlflow to false.\"\n",
    "            )\n",
    "            self.log_to_mlflow = False\n",
    "\n",
    "        if self.log_to_mlflow:\n",
    "            logger.info(\n",
    "                f\"Setting up MLflow experiment {self.experiment_name} - run {self.run_name}...\"\n",
    "            )\n",
    "            self._mlf_logger = MLFlowLogger(\n",
    "                experiment_name=self.experiment_name,\n",
    "                run_name=self.run_name,\n",
    "                tracking_uri=mlflow_uri,\n",
    "                log_model=True,\n",
    "            )\n",
    "\n",
    "        if self.device is None:\n",
    "            self.device = (\n",
    "                \"cuda\"\n",
    "                if torch.cuda.is_available()\n",
    "                else \"mps\" if torch.backends.mps.is_available() else \"cpu\"\n",
    "            )\n",
    "\n",
    "        return self\n",
    "\n",
    "\n",
    "args = Args().init()\n",
    "\n",
    "print(args.model_dump_json(indent=2))"
   ]
  },
  {
   "cell_type": "markdown",
   "id": "a5acedcb-89e6-41c6-8969-bf3437fc7898",
   "metadata": {},
   "source": [
    "# Implement"
   ]
  },
  {
   "cell_type": "code",
   "execution_count": 5,
   "id": "5a34cb5b-c7db-4b95-952b-5f4cb2e1a04d",
   "metadata": {},
   "outputs": [],
   "source": [
    "def init_model(n_users, n_items, embedding_dim, dropout, item_embedding=None):\n",
    "    model = SequenceRatingPrediction(\n",
    "        n_users, n_items, embedding_dim, dropout=dropout, item_embedding=item_embedding\n",
    "    )\n",
    "    return model"
   ]
  },
  {
   "cell_type": "markdown",
   "id": "c49b92fb-3b4c-482f-a584-62288873d8c3",
   "metadata": {},
   "source": [
    "## Load pretrained Item2Vec embeddings"
   ]
  },
  {
   "cell_type": "code",
   "execution_count": 6,
   "id": "35cfc84a-75bb-4973-b619-194cc8698ee2",
   "metadata": {
    "scrolled": true
   },
   "outputs": [
    {
     "data": {
      "application/vnd.jupyter.widget-view+json": {
       "model_id": "c55b8f59ec6c4b95a0cdb51000bf51d2",
       "version_major": 2,
       "version_minor": 0
      },
      "text/plain": [
       "Downloading artifacts:   0%|          | 0/8 [00:00<?, ?it/s]"
      ]
     },
     "metadata": {},
     "output_type": "display_data"
    }
   ],
   "source": [
    "mlf_client = mlflow.MlflowClient()\n",
    "model = mlflow.pyfunc.load_model(\n",
    "    model_uri=f\"models:/{args.mlf_item2vec_model_name}@champion\"\n",
    ")\n",
    "skipgram_model = model.unwrap_python_model().model\n",
    "embedding_0 = skipgram_model.embeddings(torch.tensor(0))\n",
    "embedding_dim = embedding_0.size()[0]\n",
    "id_mapping = model.unwrap_python_model().id_mapping\n",
    "pretrained_item_embedding = skipgram_model.embeddings"
   ]
  },
  {
   "cell_type": "code",
   "execution_count": 7,
   "id": "f3baa82d-859d-4414-8e19-4c7d92750fa3",
   "metadata": {},
   "outputs": [],
   "source": [
    "assert (\n",
    "    pretrained_item_embedding.embedding_dim == args.embedding_dim\n",
    "), \"Mismatch pretrained item_embedding dimension\""
   ]
  },
  {
   "cell_type": "markdown",
   "id": "377a71da-1ee3-474c-b3f4-4488d2a45dd3",
   "metadata": {},
   "source": [
    "# Test implementation"
   ]
  },
  {
   "cell_type": "code",
   "execution_count": 8,
   "id": "ce5326d7-ec9d-422c-bbd8-03c837a23e1e",
   "metadata": {},
   "outputs": [
    {
     "name": "stdout",
     "output_type": "stream",
     "text": [
      "tensor([[0.5199]], grad_fn=<SigmoidBackward0>)\n"
     ]
    },
    {
     "data": {
      "text/plain": [
       "SequenceRatingPrediction(\n",
       "  (item_embedding): Embedding(6, 8, padding_idx=5)\n",
       "  (user_embedding): Embedding(3, 8)\n",
       "  (gru): GRU(8, 8, batch_first=True)\n",
       "  (relu): ReLU()\n",
       "  (dropout): Dropout(p=0.3, inplace=False)\n",
       "  (fc_rating): Sequential(\n",
       "    (0): Linear(in_features=24, out_features=8, bias=True)\n",
       "    (1): BatchNorm1d(8, eps=1e-05, momentum=0.1, affine=True, track_running_stats=True)\n",
       "    (2): ReLU()\n",
       "    (3): Dropout(p=0.3, inplace=False)\n",
       "    (4): Linear(in_features=8, out_features=1, bias=True)\n",
       "    (5): Sigmoid()\n",
       "  )\n",
       ")"
      ]
     },
     "execution_count": 8,
     "metadata": {},
     "output_type": "execute_result"
    }
   ],
   "source": [
    "embedding_dim = 8\n",
    "batch_size = 2\n",
    "\n",
    "# Mock data\n",
    "user_indices = [0, 0, 1, 2, 2]\n",
    "item_indices = [0, 1, 2, 3, 4]\n",
    "timestamps = [0, 1, 2, 3, 4]\n",
    "ratings = [0, 4, 5, 3, 0]\n",
    "item_sequences = [\n",
    "    [-1, -1, 2, 3],\n",
    "    [-1, -1, 2, 3],\n",
    "    [-1, -1, 1, 3],\n",
    "    [-1, -1, 2, 1],\n",
    "    [-1, -1, 2, 1],\n",
    "]\n",
    "\n",
    "n_users = len(set(user_indices))\n",
    "n_items = len(set(item_indices))\n",
    "\n",
    "train_df = pd.DataFrame(\n",
    "    {\n",
    "        \"user_indice\": user_indices,\n",
    "        \"item_indice\": item_indices,\n",
    "        args.timestamp_col: timestamps,\n",
    "        args.rating_col: ratings,\n",
    "        \"item_sequence\": item_sequences,\n",
    "    }\n",
    ")\n",
    "\n",
    "model = init_model(n_users, n_items, embedding_dim, args.dropout)\n",
    "\n",
    "# Example forward pass\n",
    "model.eval()\n",
    "user = torch.tensor([0])\n",
    "item_sequence = torch.tensor([[-1, -1, -1, 0, 1]])\n",
    "target_item = torch.tensor([2])\n",
    "predictions = model.predict(user, item_sequence, target_item)\n",
    "print(predictions)\n",
    "model.train()"
   ]
  },
  {
   "cell_type": "code",
   "execution_count": null,
   "id": "0c0b1fea-0376-4624-ad8a-d000208a97f5",
   "metadata": {
    "scrolled": true
   },
   "outputs": [],
   "source": [
    "rating_dataset = UserItemRatingDFDataset(\n",
    "    train_df, \"user_indice\", \"item_indice\", args.rating_col, args.timestamp_col\n",
    ")\n",
    "\n",
    "train_loader = DataLoader(\n",
    "    rating_dataset, batch_size=batch_size, shuffle=False, drop_last=True\n",
    ")"
   ]
  },
  {
   "cell_type": "code",
   "execution_count": 10,
   "id": "2e82d3d1-826a-409b-8440-46e0bd924269",
   "metadata": {},
   "outputs": [
    {
     "name": "stdout",
     "output_type": "stream",
     "text": [
      "{'user': tensor([0, 0]), 'item': tensor([0, 1]), 'rating': tensor([0., 1.]), 'item_sequence': tensor([[-1, -1,  2,  3],\n",
      "        [-1, -1,  2,  3]]), 'item_sequence_ts_bucket': tensor([], size=(2, 0), dtype=torch.int64), 'item_feature': tensor([], size=(2, 0))}\n",
      "{'user': tensor([1, 2]), 'item': tensor([2, 3]), 'rating': tensor([1., 1.]), 'item_sequence': tensor([[-1, -1,  1,  3],\n",
      "        [-1, -1,  2,  1]]), 'item_sequence_ts_bucket': tensor([], size=(2, 0), dtype=torch.int64), 'item_feature': tensor([], size=(2, 0))}\n"
     ]
    }
   ],
   "source": [
    "for batch_input in train_loader:\n",
    "    print(batch_input)"
   ]
  },
  {
   "cell_type": "code",
   "execution_count": 11,
   "id": "02cb9ca4-11f1-45a8-911b-ed11c8391944",
   "metadata": {
    "scrolled": true
   },
   "outputs": [
    {
     "name": "stderr",
     "output_type": "stream",
     "text": [
      "GPU available: True (cuda), used: True\n",
      "TPU available: False, using: 0 TPU cores\n",
      "HPU available: False, using: 0 HPUs\n",
      "You are using a CUDA device ('NVIDIA GeForce RTX 4060 Ti') that has Tensor Cores. To properly utilize them, you should set `torch.set_float32_matmul_precision('medium' | 'high')` which will trade-off precision for performance. For more details, read https://pytorch.org/docs/stable/generated/torch.set_float32_matmul_precision.html#torch.set_float32_matmul_precision\n",
      "LOCAL_RANK: 0 - CUDA_VISIBLE_DEVICES: [0]\n",
      "\n",
      "  | Name  | Type                     | Params | Mode \n",
      "-----------------------------------------------------------\n",
      "0 | model | SequenceRatingPrediction | 729    | train\n",
      "-----------------------------------------------------------\n",
      "729       Trainable params\n",
      "0         Non-trainable params\n",
      "729       Total params\n",
      "0.003     Total estimated model params size (MB)\n",
      "11        Modules in train mode\n",
      "0         Modules in eval mode\n"
     ]
    },
    {
     "data": {
      "application/vnd.jupyter.widget-view+json": {
       "model_id": "",
       "version_major": 2,
       "version_minor": 0
      },
      "text/plain": [
       "Sanity Checking: |                                                                                            …"
      ]
     },
     "metadata": {},
     "output_type": "display_data"
    },
    {
     "name": "stderr",
     "output_type": "stream",
     "text": [
      "/home/dvquys/frostmourne/recsys-mvp/.venv/lib/python3.11/site-packages/lightning/pytorch/trainer/connectors/data_connector.py:424: The 'val_dataloader' does not have many workers which may be a bottleneck. Consider increasing the value of the `num_workers` argument` to `num_workers=11` in the `DataLoader` to improve performance.\n",
      "/home/dvquys/frostmourne/recsys-mvp/.venv/lib/python3.11/site-packages/lightning/pytorch/trainer/connectors/data_connector.py:424: The 'train_dataloader' does not have many workers which may be a bottleneck. Consider increasing the value of the `num_workers` argument` to `num_workers=11` in the `DataLoader` to improve performance.\n",
      "/home/dvquys/frostmourne/recsys-mvp/.venv/lib/python3.11/site-packages/lightning/pytorch/loops/fit_loop.py:298: The number of training batches (2) is smaller than the logging interval Trainer(log_every_n_steps=50). Set a lower value for log_every_n_steps if you want to see logs for the training epoch.\n"
     ]
    },
    {
     "data": {
      "application/vnd.jupyter.widget-view+json": {
       "model_id": "5dbd4a2f7677439eabc7f034746dc77e",
       "version_major": 2,
       "version_minor": 0
      },
      "text/plain": [
       "Training: |                                                                                                   …"
      ]
     },
     "metadata": {},
     "output_type": "display_data"
    },
    {
     "data": {
      "application/vnd.jupyter.widget-view+json": {
       "model_id": "",
       "version_major": 2,
       "version_minor": 0
      },
      "text/plain": [
       "Validation: |                                                                                                 …"
      ]
     },
     "metadata": {},
     "output_type": "display_data"
    },
    {
     "data": {
      "application/vnd.jupyter.widget-view+json": {
       "model_id": "",
       "version_major": 2,
       "version_minor": 0
      },
      "text/plain": [
       "Validation: |                                                                                                 …"
      ]
     },
     "metadata": {},
     "output_type": "display_data"
    },
    {
     "name": "stderr",
     "output_type": "stream",
     "text": [
      "`Trainer.fit` stopped: `max_epochs=2` reached.\n",
      "\u001b[32m2024-11-10 16:26:11.209\u001b[0m | \u001b[1mINFO    \u001b[0m | \u001b[36msrc.sequence.trainer\u001b[0m:\u001b[36mon_fit_end\u001b[0m:\u001b[36m127\u001b[0m - \u001b[1mLogging classification metrics...\u001b[0m\n"
     ]
    }
   ],
   "source": [
    "# model\n",
    "lit_model = LitSequenceRatingPrediction(model, log_dir=args.notebook_persist_dp)\n",
    "\n",
    "# train model\n",
    "trainer = L.Trainer(\n",
    "    default_root_dir=f\"{args.notebook_persist_dp}/test\",\n",
    "    max_epochs=2,\n",
    "    accelerator=args.device if args.device else \"auto\",\n",
    ")\n",
    "trainer.fit(\n",
    "    model=lit_model, train_dataloaders=train_loader, val_dataloaders=train_loader\n",
    ")"
   ]
  },
  {
   "cell_type": "code",
   "execution_count": 12,
   "id": "6b50c27f-cd41-4cf2-b3b7-087dc0361f22",
   "metadata": {},
   "outputs": [
    {
     "name": "stderr",
     "output_type": "stream",
     "text": [
      "ERROR:root:No traceback has been produced, nothing to debug.\n"
     ]
    },
    {
     "name": "stdout",
     "output_type": "stream",
     "text": [
      "ipdb>  input\n"
     ]
    },
    {
     "name": "stdout",
     "output_type": "stream",
     "text": [
      "tensor([[-0.1289,  0.3273, -0.0985, -0.8232,  0.7046, -0.1893,  0.0574, -0.5758]],\n",
      "       device='cuda:0', grad_fn=<AddmmBackward0>)\n"
     ]
    },
    {
     "name": "stdout",
     "output_type": "stream",
     "text": [
      "ipdb>  exit\n"
     ]
    }
   ],
   "source": [
    "%debug"
   ]
  },
  {
   "cell_type": "code",
   "execution_count": 13,
   "id": "abf019c8-db28-4538-91e8-3904b8800e6d",
   "metadata": {},
   "outputs": [
    {
     "name": "stdout",
     "output_type": "stream",
     "text": [
      "tensor([[0.5487],\n",
      "        [0.5351],\n",
      "        [0.5420],\n",
      "        [0.5283]], grad_fn=<SigmoidBackward0>)\n"
     ]
    }
   ],
   "source": [
    "users = torch.tensor([0, 0, 0, 0])\n",
    "item_sequences = torch.tensor(\n",
    "    [[-1, -1, 2, 3], [-1, -1, 2, 3], [-1, -1, 1, 3], [-1, -1, 2, 1]]\n",
    ")\n",
    "items = torch.tensor([0, 1, 2, 3])\n",
    "predictions = model.predict(users, item_sequences, items)\n",
    "print(predictions)"
   ]
  },
  {
   "cell_type": "code",
   "execution_count": 14,
   "id": "87f02734-1e63-4201-bd34-b3938ae50fbc",
   "metadata": {},
   "outputs": [
    {
     "data": {
      "text/html": [
       "<div>\n",
       "<style scoped>\n",
       "    .dataframe tbody tr th:only-of-type {\n",
       "        vertical-align: middle;\n",
       "    }\n",
       "\n",
       "    .dataframe tbody tr th {\n",
       "        vertical-align: top;\n",
       "    }\n",
       "\n",
       "    .dataframe thead th {\n",
       "        text-align: right;\n",
       "    }\n",
       "</style>\n",
       "<table border=\"1\" class=\"dataframe\">\n",
       "  <thead>\n",
       "    <tr style=\"text-align: right;\">\n",
       "      <th></th>\n",
       "      <th>user_indice</th>\n",
       "      <th>item_indice</th>\n",
       "      <th>timestamp</th>\n",
       "      <th>source</th>\n",
       "      <th>item_sequence</th>\n",
       "    </tr>\n",
       "  </thead>\n",
       "  <tbody>\n",
       "    <tr>\n",
       "      <th>0</th>\n",
       "      <td>0</td>\n",
       "      <td>-1</td>\n",
       "      <td>4</td>\n",
       "      <td>predict</td>\n",
       "      <td>[-1, -1, -1, -1, -1, -1, -1, -1, -1, 1]</td>\n",
       "    </tr>\n",
       "    <tr>\n",
       "      <th>1</th>\n",
       "      <td>0</td>\n",
       "      <td>-1</td>\n",
       "      <td>4</td>\n",
       "      <td>predict</td>\n",
       "      <td>[-1, -1, -1, -1, -1, -1, -1, -1, -1, 1]</td>\n",
       "    </tr>\n",
       "    <tr>\n",
       "      <th>2</th>\n",
       "      <td>1</td>\n",
       "      <td>-1</td>\n",
       "      <td>4</td>\n",
       "      <td>predict</td>\n",
       "      <td>[-1, -1, -1, -1, -1, -1, -1, -1, -1, 2]</td>\n",
       "    </tr>\n",
       "    <tr>\n",
       "      <th>3</th>\n",
       "      <td>2</td>\n",
       "      <td>-1</td>\n",
       "      <td>4</td>\n",
       "      <td>predict</td>\n",
       "      <td>[-1, -1, -1, -1, -1, -1, -1, -1, -1, 3]</td>\n",
       "    </tr>\n",
       "    <tr>\n",
       "      <th>4</th>\n",
       "      <td>2</td>\n",
       "      <td>-1</td>\n",
       "      <td>4</td>\n",
       "      <td>predict</td>\n",
       "      <td>[-1, -1, -1, -1, -1, -1, -1, -1, -1, 3]</td>\n",
       "    </tr>\n",
       "  </tbody>\n",
       "</table>\n",
       "</div>"
      ],
      "text/plain": [
       "   user_indice  item_indice  timestamp   source  \\\n",
       "0            0           -1          4  predict   \n",
       "1            0           -1          4  predict   \n",
       "2            1           -1          4  predict   \n",
       "3            2           -1          4  predict   \n",
       "4            2           -1          4  predict   \n",
       "\n",
       "                             item_sequence  \n",
       "0  [-1, -1, -1, -1, -1, -1, -1, -1, -1, 1]  \n",
       "1  [-1, -1, -1, -1, -1, -1, -1, -1, -1, 1]  \n",
       "2  [-1, -1, -1, -1, -1, -1, -1, -1, -1, 2]  \n",
       "3  [-1, -1, -1, -1, -1, -1, -1, -1, -1, 3]  \n",
       "4  [-1, -1, -1, -1, -1, -1, -1, -1, -1, 3]  "
      ]
     },
     "execution_count": 14,
     "metadata": {},
     "output_type": "execute_result"
    }
   ],
   "source": [
    "def create_predict_df(\n",
    "    train_df,\n",
    "    val_user_indices,\n",
    "    val_timestamp,\n",
    "    rating_col,\n",
    "    timestamp_col,\n",
    "    sequence_length=10,\n",
    "):\n",
    "    predict_df = pd.DataFrame(\n",
    "        {\n",
    "            \"user_indice\": val_user_indices,\n",
    "            \"item_indice\": -1,  # placeholder\n",
    "            \"timestamp\": val_timestamp,\n",
    "            \"source\": \"predict\",\n",
    "        }\n",
    "    )\n",
    "\n",
    "    predict_df = (\n",
    "        pd.concat(\n",
    "            [\n",
    "                train_df.loc[lambda df: df[rating_col].gt(0)][\n",
    "                    [\"user_indice\", \"item_indice\", timestamp_col]\n",
    "                ].assign(source=\"train\"),\n",
    "                predict_df,\n",
    "            ],\n",
    "            axis=0,\n",
    "        )\n",
    "        .pipe(\n",
    "            generate_item_sequences,\n",
    "            \"user_indice\",\n",
    "            \"item_indice\",\n",
    "            timestamp_col,\n",
    "            sequence_length=sequence_length,\n",
    "            padding=True,\n",
    "            padding_value=-1,\n",
    "        )\n",
    "        .loc[lambda df: df[\"source\"].eq(\"predict\")]\n",
    "        .assign(item_sequence=lambda df: df[\"item_sequence\"].apply(np.array))\n",
    "    )\n",
    "\n",
    "    return predict_df\n",
    "\n",
    "\n",
    "predict_df = create_predict_df(\n",
    "    train_df,\n",
    "    user_indices,\n",
    "    timestamps[-1],\n",
    "    args.rating_col,\n",
    "    args.timestamp_col,\n",
    "    sequence_length=10,\n",
    ")\n",
    "\n",
    "predict_df"
   ]
  },
  {
   "cell_type": "code",
   "execution_count": 15,
   "id": "50fdcf97-6271-406d-81b5-7e91a4c42dec",
   "metadata": {},
   "outputs": [
    {
     "name": "stderr",
     "output_type": "stream",
     "text": [
      "/tmp/ipykernel_155054/349226613.py:3: UserWarning:\n",
      "\n",
      "Creating a tensor from a list of numpy.ndarrays is extremely slow. Please consider converting the list to a single numpy.ndarray with numpy.array() before converting to a tensor. (Triggered internally at ../torch/csrc/utils/tensor_new.cpp:278.)\n",
      "\n"
     ]
    },
    {
     "data": {
      "application/vnd.jupyter.widget-view+json": {
       "model_id": "b205b4ea4c514ba5bdb6fe0a692842e0",
       "version_major": 2,
       "version_minor": 0
      },
      "text/plain": [
       "Generating recommendations:   0%|          | 0/2 [00:00<?, ?it/s]"
      ]
     },
     "metadata": {},
     "output_type": "display_data"
    },
    {
     "data": {
      "text/plain": [
       "{'user_indice': [0, 0, 0, 0, 1, 1, 2, 2, 2, 2],\n",
       " 'recommendation': [4, 5, 4, 5, 0, 4, 4, 0, 4, 0],\n",
       " 'score': [0.5549459457397461,\n",
       "  0.5477004647254944,\n",
       "  0.5549459457397461,\n",
       "  0.5477004647254944,\n",
       "  0.6304539442062378,\n",
       "  0.6078678369522095,\n",
       "  0.5229425430297852,\n",
       "  0.5174740552902222,\n",
       "  0.5229425430297852,\n",
       "  0.5174740552902222]}"
      ]
     },
     "execution_count": 15,
     "metadata": {},
     "output_type": "execute_result"
    }
   ],
   "source": [
    "recommendations = model.recommend(\n",
    "    torch.tensor(predict_df[\"user_indice\"].values),\n",
    "    torch.tensor(predict_df[\"item_sequence\"].values.tolist()),\n",
    "    k=2,\n",
    "    batch_size=4,\n",
    ")\n",
    "recommendations"
   ]
  },
  {
   "cell_type": "markdown",
   "id": "170dec89-a874-4dce-8f94-07d978fcc5b8",
   "metadata": {},
   "source": [
    "# Prep data"
   ]
  },
  {
   "cell_type": "code",
   "execution_count": 16,
   "id": "83803362-5eaa-40bb-b28b-878316d5db5d",
   "metadata": {},
   "outputs": [],
   "source": [
    "train_df = pd.read_parquet(\"../data/train_features_neg_df.parquet\")\n",
    "val_df = pd.read_parquet(\"../data/val_features_neg_df.parquet\")\n",
    "idm_fp = \"../data/idm.json\"\n",
    "idm = IDMapper().load(idm_fp)\n",
    "\n",
    "assert (\n",
    "    train_df[args.user_col].map(lambda s: idm.get_user_index(s))\n",
    "    != train_df[\"user_indice\"]\n",
    ").sum() == 0, \"Mismatch IDM\"\n",
    "assert (\n",
    "    val_df[args.user_col].map(lambda s: idm.get_user_index(s)) != val_df[\"user_indice\"]\n",
    ").sum() == 0, \"Mismatch IDM\""
   ]
  },
  {
   "cell_type": "code",
   "execution_count": 17,
   "id": "86f1e6e9-48ba-4f48-b693-ac028845938f",
   "metadata": {},
   "outputs": [
    {
     "name": "stderr",
     "output_type": "stream",
     "text": [
      "\u001b[32m2024-11-10 16:26:13.446\u001b[0m | \u001b[1mINFO    \u001b[0m | \u001b[36m__main__\u001b[0m:\u001b[36m<module>\u001b[0m:\u001b[36m4\u001b[0m - \u001b[1mlen(user_indices)=19,578, len(item_indices)=4,630\u001b[0m\n"
     ]
    }
   ],
   "source": [
    "user_indices = train_df[\"user_indice\"].unique()\n",
    "item_indices = train_df[\"item_indice\"].unique()\n",
    "\n",
    "logger.info(f\"{len(user_indices)=:,.0f}, {len(item_indices)=:,.0f}\")"
   ]
  },
  {
   "cell_type": "code",
   "execution_count": 18,
   "id": "a92a8ea7-928c-4656-b92c-2e137d78404a",
   "metadata": {
    "scrolled": true
   },
   "outputs": [
    {
     "data": {
      "text/html": [
       "<div>\n",
       "<style scoped>\n",
       "    .dataframe tbody tr th:only-of-type {\n",
       "        vertical-align: middle;\n",
       "    }\n",
       "\n",
       "    .dataframe tbody tr th {\n",
       "        vertical-align: top;\n",
       "    }\n",
       "\n",
       "    .dataframe thead th {\n",
       "        text-align: right;\n",
       "    }\n",
       "</style>\n",
       "<table border=\"1\" class=\"dataframe\">\n",
       "  <thead>\n",
       "    <tr style=\"text-align: right;\">\n",
       "      <th></th>\n",
       "      <th>user_id</th>\n",
       "      <th>parent_asin</th>\n",
       "      <th>rating</th>\n",
       "      <th>timestamp</th>\n",
       "      <th>timestamp_unix</th>\n",
       "      <th>parent_asin_rating_cnt_365d</th>\n",
       "      <th>parent_asin_rating_avg_prev_rating_365d</th>\n",
       "      <th>parent_asin_rating_cnt_90d</th>\n",
       "      <th>parent_asin_rating_avg_prev_rating_90d</th>\n",
       "      <th>parent_asin_rating_cnt_30d</th>\n",
       "      <th>...</th>\n",
       "      <th>user_rating_list_10_recent_asin</th>\n",
       "      <th>user_rating_list_10_recent_asin_timestamp</th>\n",
       "      <th>item_sequence</th>\n",
       "      <th>item_sequence_ts</th>\n",
       "      <th>item_sequence_ts_bucket</th>\n",
       "      <th>main_category</th>\n",
       "      <th>title</th>\n",
       "      <th>description</th>\n",
       "      <th>categories</th>\n",
       "      <th>price</th>\n",
       "    </tr>\n",
       "  </thead>\n",
       "  <tbody>\n",
       "    <tr>\n",
       "      <th>0</th>\n",
       "      <td>AG57LGJFCNNQJ6P6ABQAVUKXDUDA</td>\n",
       "      <td>B0015AARJI</td>\n",
       "      <td>0.0</td>\n",
       "      <td>2016-01-12 11:59:11.000</td>\n",
       "      <td>NaN</td>\n",
       "      <td>76.0</td>\n",
       "      <td>4.592105</td>\n",
       "      <td>10.0</td>\n",
       "      <td>4.3</td>\n",
       "      <td>3.0</td>\n",
       "      <td>...</td>\n",
       "      <td>B00J00BLRM</td>\n",
       "      <td>1452599936</td>\n",
       "      <td>[-1.0, -1.0, -1.0, -1.0, -1.0, -1.0, -1.0, -1....</td>\n",
       "      <td>[-1, -1, -1, -1, -1, -1, -1, -1, -1, 1452599936]</td>\n",
       "      <td>[-1, -1, -1, -1, -1, -1, -1, -1, -1, 0]</td>\n",
       "      <td>Video Games</td>\n",
       "      <td>PlayStation 3 Dualshock 3 Wireless Controller ...</td>\n",
       "      <td>[Amazon.com, The Dualshock 3 wireless controll...</td>\n",
       "      <td>[Video Games, Legacy Systems, PlayStation Syst...</td>\n",
       "      <td>49.99</td>\n",
       "    </tr>\n",
       "    <tr>\n",
       "      <th>1</th>\n",
       "      <td>AHWG4EGOV5ZDKPETL56MAYGPLJRQ</td>\n",
       "      <td>B0BMGHMP23</td>\n",
       "      <td>0.0</td>\n",
       "      <td>2016-04-18 19:26:20.000</td>\n",
       "      <td>NaN</td>\n",
       "      <td>NaN</td>\n",
       "      <td>NaN</td>\n",
       "      <td>NaN</td>\n",
       "      <td>NaN</td>\n",
       "      <td>NaN</td>\n",
       "      <td>...</td>\n",
       "      <td>B00YOGZFCO,B00KWFCSB2,B00L3LQ1FI,B0151K6J9Y,B0...</td>\n",
       "      <td>1449254540,1449256005,1449257733,1452715791,14...</td>\n",
       "      <td>[3028.0, 2742.0, 2755.0, 3159.0, 3101.0, 3036....</td>\n",
       "      <td>[1449254540, 1449256005, 1449257733, 145271579...</td>\n",
       "      <td>[5, 5, 5, 5, 5, 5, 5, 5, 5, 5]</td>\n",
       "      <td>Computers</td>\n",
       "      <td>Logitech G502 Lightspeed Wireless Gaming Mouse...</td>\n",
       "      <td>[G502 is the best gaming mouse from Logitech G...</td>\n",
       "      <td>[Video Games, PC, Accessories, Gaming Mice]</td>\n",
       "      <td>87.95</td>\n",
       "    </tr>\n",
       "    <tr>\n",
       "      <th>2</th>\n",
       "      <td>AH5PTZ2U74OZ3HT6QVUWM4CV6OVQ</td>\n",
       "      <td>B009AP23NI</td>\n",
       "      <td>0.0</td>\n",
       "      <td>2016-02-10 18:45:08.000</td>\n",
       "      <td>NaN</td>\n",
       "      <td>9.0</td>\n",
       "      <td>4.666667</td>\n",
       "      <td>0.0</td>\n",
       "      <td>NaN</td>\n",
       "      <td>0.0</td>\n",
       "      <td>...</td>\n",
       "      <td>B0199OXR0W,B00EVPR4FY,B00B7ELWAU,B00UH9DN58,B0...</td>\n",
       "      <td>1443454097,1455129080,1455129186,1455129499,14...</td>\n",
       "      <td>[-1.0, -1.0, 3234.0, 2508.0, 2318.0, 2964.0, 1...</td>\n",
       "      <td>[-1, -1, 1443454097, 1455129080, 1455129186, 1...</td>\n",
       "      <td>[-1, -1, 5, 1, 1, 0, 0, 0, 0, 0]</td>\n",
       "      <td>Video Games</td>\n",
       "      <td>Nintendo Wii U Pro U Controller (Japanese Vers...</td>\n",
       "      <td>[Wii U PRO controller (black) (WUP-A-RSKA)]</td>\n",
       "      <td>[Video Games, Legacy Systems, Nintendo Systems...</td>\n",
       "      <td>43.99</td>\n",
       "    </tr>\n",
       "    <tr>\n",
       "      <th>3</th>\n",
       "      <td>AFC5XTCF5D7J3NSDITB2Z26XWWYA</td>\n",
       "      <td>B001E8WQUY</td>\n",
       "      <td>5.0</td>\n",
       "      <td>2019-05-01 21:22:39.265</td>\n",
       "      <td>1.556746e+09</td>\n",
       "      <td>0.0</td>\n",
       "      <td>NaN</td>\n",
       "      <td>0.0</td>\n",
       "      <td>NaN</td>\n",
       "      <td>0.0</td>\n",
       "      <td>...</td>\n",
       "      <td>B006HZA6VK,B0BN2FNKLM,B0086VPUHI,B0040UAYI4,B0...</td>\n",
       "      <td>1327120514,1377289907,1402605836,1402606396,14...</td>\n",
       "      <td>[1987.0, 4569.0, 2114.0, 1606.0, 2159.0, 2279....</td>\n",
       "      <td>[1327120514, 1377289907, 1402605836, 140260639...</td>\n",
       "      <td>[8, 8, 7, 7, 7, 7, 7, 7, 6, 6]</td>\n",
       "      <td>Video Games</td>\n",
       "      <td>Rock Band 2 - Nintendo Wii (Game only)</td>\n",
       "      <td>[Product description, Rock Band 2 lets you and...</td>\n",
       "      <td>[Video Games, Legacy Systems, Nintendo Systems...</td>\n",
       "      <td>28.49</td>\n",
       "    </tr>\n",
       "    <tr>\n",
       "      <th>4</th>\n",
       "      <td>AF7LJQOIWF3Y3YD7SGOJ34MA5JPA</td>\n",
       "      <td>B001E8WQKY</td>\n",
       "      <td>5.0</td>\n",
       "      <td>2015-01-09 12:53:25.000</td>\n",
       "      <td>1.420808e+09</td>\n",
       "      <td>16.0</td>\n",
       "      <td>4.375000</td>\n",
       "      <td>8.0</td>\n",
       "      <td>4.5</td>\n",
       "      <td>4.0</td>\n",
       "      <td>...</td>\n",
       "      <td>B00A2ML6XG,B003VUO6LU</td>\n",
       "      <td>1420807793,1420807991</td>\n",
       "      <td>[-1.0, -1.0, -1.0, -1.0, -1.0, -1.0, -1.0, -1....</td>\n",
       "      <td>[-1, -1, -1, -1, -1, -1, -1, -1, 1420807793, 1...</td>\n",
       "      <td>[-1, -1, -1, -1, -1, -1, -1, -1, 0, 0]</td>\n",
       "      <td>Video Games</td>\n",
       "      <td>Resident Evil 5 - Xbox 360</td>\n",
       "      <td>[]</td>\n",
       "      <td>[Video Games, Legacy Systems, Xbox Systems, Xb...</td>\n",
       "      <td>29.88</td>\n",
       "    </tr>\n",
       "    <tr>\n",
       "      <th>...</th>\n",
       "      <td>...</td>\n",
       "      <td>...</td>\n",
       "      <td>...</td>\n",
       "      <td>...</td>\n",
       "      <td>...</td>\n",
       "      <td>...</td>\n",
       "      <td>...</td>\n",
       "      <td>...</td>\n",
       "      <td>...</td>\n",
       "      <td>...</td>\n",
       "      <td>...</td>\n",
       "      <td>...</td>\n",
       "      <td>...</td>\n",
       "      <td>...</td>\n",
       "      <td>...</td>\n",
       "      <td>...</td>\n",
       "      <td>...</td>\n",
       "      <td>...</td>\n",
       "      <td>...</td>\n",
       "      <td>...</td>\n",
       "      <td>...</td>\n",
       "    </tr>\n",
       "    <tr>\n",
       "      <th>328591</th>\n",
       "      <td>AG4RATLNVLOKZCPXN67HKOAK65CA</td>\n",
       "      <td>B078FBVJMB</td>\n",
       "      <td>0.0</td>\n",
       "      <td>2015-10-31 18:25:09.000</td>\n",
       "      <td>NaN</td>\n",
       "      <td>NaN</td>\n",
       "      <td>NaN</td>\n",
       "      <td>NaN</td>\n",
       "      <td>NaN</td>\n",
       "      <td>NaN</td>\n",
       "      <td>...</td>\n",
       "      <td>B00TFVD688</td>\n",
       "      <td>1425233294</td>\n",
       "      <td>[-1.0, -1.0, -1.0, -1.0, -1.0, -1.0, -1.0, -1....</td>\n",
       "      <td>[-1, -1, -1, -1, -1, -1, -1, -1, -1, 1425233294]</td>\n",
       "      <td>[-1, -1, -1, -1, -1, -1, -1, -1, -1, 5]</td>\n",
       "      <td>Video Games</td>\n",
       "      <td>A Way Out – PC Origin [Online Game Code]</td>\n",
       "      <td>[From the creators of Brothers - A Tale of Two...</td>\n",
       "      <td>[Video Games, PC, Games]</td>\n",
       "      <td>5.99</td>\n",
       "    </tr>\n",
       "    <tr>\n",
       "      <th>328592</th>\n",
       "      <td>AFBXO3BFWBJX6QS5NW73O37IXF2A</td>\n",
       "      <td>B0771ZXXV6</td>\n",
       "      <td>0.0</td>\n",
       "      <td>2011-03-08 02:06:38.000</td>\n",
       "      <td>NaN</td>\n",
       "      <td>NaN</td>\n",
       "      <td>NaN</td>\n",
       "      <td>NaN</td>\n",
       "      <td>NaN</td>\n",
       "      <td>NaN</td>\n",
       "      <td>...</td>\n",
       "      <td>B003JVCA9Q,B0029NZ4HA</td>\n",
       "      <td>1299549517,1299549928</td>\n",
       "      <td>[-1.0, -1.0, -1.0, -1.0, -1.0, -1.0, -1.0, -1....</td>\n",
       "      <td>[-1, -1, -1, -1, -1, -1, -1, -1, 1299549517, 1...</td>\n",
       "      <td>[-1, -1, -1, -1, -1, -1, -1, -1, 0, 0]</td>\n",
       "      <td>Video Games</td>\n",
       "      <td>Nintendo Joy-Con (R) - Neon Red - Nintendo Switch</td>\n",
       "      <td>[To be determined]</td>\n",
       "      <td>[Video Games, Nintendo Switch, Accessories, Co...</td>\n",
       "      <td>None</td>\n",
       "    </tr>\n",
       "    <tr>\n",
       "      <th>328593</th>\n",
       "      <td>AHVANA5GZNJ45UABPXWZNAF4ECBQ</td>\n",
       "      <td>B00BBF6MO6</td>\n",
       "      <td>0.0</td>\n",
       "      <td>2015-02-15 05:31:04.000</td>\n",
       "      <td>NaN</td>\n",
       "      <td>3.0</td>\n",
       "      <td>4.666667</td>\n",
       "      <td>0.0</td>\n",
       "      <td>NaN</td>\n",
       "      <td>0.0</td>\n",
       "      <td>...</td>\n",
       "      <td>B002L93F0A,B002KJ02ZC,B001H4NMNA</td>\n",
       "      <td>1370414332,1370414707,1370416530</td>\n",
       "      <td>[-1.0, -1.0, -1.0, -1.0, -1.0, -1.0, -1.0, 137...</td>\n",
       "      <td>[-1, -1, -1, -1, -1, -1, -1, 1370414332, 13704...</td>\n",
       "      <td>[-1, -1, -1, -1, -1, -1, -1, 6, 6, 6]</td>\n",
       "      <td>Video Games</td>\n",
       "      <td>Killer is Dead - Xbox 360</td>\n",
       "      <td>[Killer Is Dead is the latest title from the d...</td>\n",
       "      <td>[Video Games, Legacy Systems, Xbox Systems, Xb...</td>\n",
       "      <td>39.82</td>\n",
       "    </tr>\n",
       "    <tr>\n",
       "      <th>328594</th>\n",
       "      <td>AHAVA5VKMJ3OMOLGDZ3W45CKXEWA</td>\n",
       "      <td>B00KTORA0K</td>\n",
       "      <td>5.0</td>\n",
       "      <td>2019-05-25 04:03:51.505</td>\n",
       "      <td>1.558757e+09</td>\n",
       "      <td>3.0</td>\n",
       "      <td>4.666667</td>\n",
       "      <td>1.0</td>\n",
       "      <td>5.0</td>\n",
       "      <td>1.0</td>\n",
       "      <td>...</td>\n",
       "      <td>B004AYCNR0,B007NUQICE,B000TYQL1O,B000SEU92W,B0...</td>\n",
       "      <td>1431150669,1431150834,1432041664,1432041986,15...</td>\n",
       "      <td>[-1.0, -1.0, -1.0, 1657.0, 2074.0, 593.0, 583....</td>\n",
       "      <td>[-1, -1, -1, 1431150669, 1431150834, 143204166...</td>\n",
       "      <td>[-1, -1, -1, 7, 7, 7, 7, 5, 5, 0]</td>\n",
       "      <td>Video Games</td>\n",
       "      <td>Just Dance 2015 - Wii</td>\n",
       "      <td>[With more than 50 million copies of Just Danc...</td>\n",
       "      <td>[Video Games, Legacy Systems, Nintendo Systems...</td>\n",
       "      <td>33.0</td>\n",
       "    </tr>\n",
       "    <tr>\n",
       "      <th>328595</th>\n",
       "      <td>AHAOAIYS3GTCFSVCHOHANFHEVJGA</td>\n",
       "      <td>B07GMV1X1K</td>\n",
       "      <td>0.0</td>\n",
       "      <td>2019-06-27 16:46:01.725</td>\n",
       "      <td>NaN</td>\n",
       "      <td>8.0</td>\n",
       "      <td>4.750000</td>\n",
       "      <td>2.0</td>\n",
       "      <td>4.5</td>\n",
       "      <td>1.0</td>\n",
       "      <td>...</td>\n",
       "      <td>B010QCD9WW,B06XHMPPLH,B01GY35HKE,B01GY35GIM,B0...</td>\n",
       "      <td>1487438369,1488931311,1490136709,1493063905,15...</td>\n",
       "      <td>[3093.0, 3574.0, 3373.0, 3372.0, 3576.0, 3621....</td>\n",
       "      <td>[1487438369, 1488931311, 1490136709, 149306390...</td>\n",
       "      <td>[6, 6, 6, 6, 6, 6, 6, 5, 5, 5]</td>\n",
       "      <td>Video Games</td>\n",
       "      <td>retrogames The C64 Mini USA Version - Not Mach...</td>\n",
       "      <td>[It's 1982 and a new home computer graces the ...</td>\n",
       "      <td>[Video Games, Legacy Systems, Commodore System...</td>\n",
       "      <td>44.99</td>\n",
       "    </tr>\n",
       "  </tbody>\n",
       "</table>\n",
       "<p>328596 rows × 27 columns</p>\n",
       "</div>"
      ],
      "text/plain": [
       "                             user_id parent_asin  rating  \\\n",
       "0       AG57LGJFCNNQJ6P6ABQAVUKXDUDA  B0015AARJI     0.0   \n",
       "1       AHWG4EGOV5ZDKPETL56MAYGPLJRQ  B0BMGHMP23     0.0   \n",
       "2       AH5PTZ2U74OZ3HT6QVUWM4CV6OVQ  B009AP23NI     0.0   \n",
       "3       AFC5XTCF5D7J3NSDITB2Z26XWWYA  B001E8WQUY     5.0   \n",
       "4       AF7LJQOIWF3Y3YD7SGOJ34MA5JPA  B001E8WQKY     5.0   \n",
       "...                              ...         ...     ...   \n",
       "328591  AG4RATLNVLOKZCPXN67HKOAK65CA  B078FBVJMB     0.0   \n",
       "328592  AFBXO3BFWBJX6QS5NW73O37IXF2A  B0771ZXXV6     0.0   \n",
       "328593  AHVANA5GZNJ45UABPXWZNAF4ECBQ  B00BBF6MO6     0.0   \n",
       "328594  AHAVA5VKMJ3OMOLGDZ3W45CKXEWA  B00KTORA0K     5.0   \n",
       "328595  AHAOAIYS3GTCFSVCHOHANFHEVJGA  B07GMV1X1K     0.0   \n",
       "\n",
       "                     timestamp  timestamp_unix  parent_asin_rating_cnt_365d  \\\n",
       "0      2016-01-12 11:59:11.000             NaN                         76.0   \n",
       "1      2016-04-18 19:26:20.000             NaN                          NaN   \n",
       "2      2016-02-10 18:45:08.000             NaN                          9.0   \n",
       "3      2019-05-01 21:22:39.265    1.556746e+09                          0.0   \n",
       "4      2015-01-09 12:53:25.000    1.420808e+09                         16.0   \n",
       "...                        ...             ...                          ...   \n",
       "328591 2015-10-31 18:25:09.000             NaN                          NaN   \n",
       "328592 2011-03-08 02:06:38.000             NaN                          NaN   \n",
       "328593 2015-02-15 05:31:04.000             NaN                          3.0   \n",
       "328594 2019-05-25 04:03:51.505    1.558757e+09                          3.0   \n",
       "328595 2019-06-27 16:46:01.725             NaN                          8.0   \n",
       "\n",
       "        parent_asin_rating_avg_prev_rating_365d  parent_asin_rating_cnt_90d  \\\n",
       "0                                      4.592105                        10.0   \n",
       "1                                           NaN                         NaN   \n",
       "2                                      4.666667                         0.0   \n",
       "3                                           NaN                         0.0   \n",
       "4                                      4.375000                         8.0   \n",
       "...                                         ...                         ...   \n",
       "328591                                      NaN                         NaN   \n",
       "328592                                      NaN                         NaN   \n",
       "328593                                 4.666667                         0.0   \n",
       "328594                                 4.666667                         1.0   \n",
       "328595                                 4.750000                         2.0   \n",
       "\n",
       "        parent_asin_rating_avg_prev_rating_90d  parent_asin_rating_cnt_30d  \\\n",
       "0                                          4.3                         3.0   \n",
       "1                                          NaN                         NaN   \n",
       "2                                          NaN                         0.0   \n",
       "3                                          NaN                         0.0   \n",
       "4                                          4.5                         4.0   \n",
       "...                                        ...                         ...   \n",
       "328591                                     NaN                         NaN   \n",
       "328592                                     NaN                         NaN   \n",
       "328593                                     NaN                         0.0   \n",
       "328594                                     5.0                         1.0   \n",
       "328595                                     4.5                         1.0   \n",
       "\n",
       "        ...                    user_rating_list_10_recent_asin  \\\n",
       "0       ...                                         B00J00BLRM   \n",
       "1       ...  B00YOGZFCO,B00KWFCSB2,B00L3LQ1FI,B0151K6J9Y,B0...   \n",
       "2       ...  B0199OXR0W,B00EVPR4FY,B00B7ELWAU,B00UH9DN58,B0...   \n",
       "3       ...  B006HZA6VK,B0BN2FNKLM,B0086VPUHI,B0040UAYI4,B0...   \n",
       "4       ...                              B00A2ML6XG,B003VUO6LU   \n",
       "...     ...                                                ...   \n",
       "328591  ...                                         B00TFVD688   \n",
       "328592  ...                              B003JVCA9Q,B0029NZ4HA   \n",
       "328593  ...                   B002L93F0A,B002KJ02ZC,B001H4NMNA   \n",
       "328594  ...  B004AYCNR0,B007NUQICE,B000TYQL1O,B000SEU92W,B0...   \n",
       "328595  ...  B010QCD9WW,B06XHMPPLH,B01GY35HKE,B01GY35GIM,B0...   \n",
       "\n",
       "                user_rating_list_10_recent_asin_timestamp  \\\n",
       "0                                              1452599936   \n",
       "1       1449254540,1449256005,1449257733,1452715791,14...   \n",
       "2       1443454097,1455129080,1455129186,1455129499,14...   \n",
       "3       1327120514,1377289907,1402605836,1402606396,14...   \n",
       "4                                   1420807793,1420807991   \n",
       "...                                                   ...   \n",
       "328591                                         1425233294   \n",
       "328592                              1299549517,1299549928   \n",
       "328593                   1370414332,1370414707,1370416530   \n",
       "328594  1431150669,1431150834,1432041664,1432041986,15...   \n",
       "328595  1487438369,1488931311,1490136709,1493063905,15...   \n",
       "\n",
       "                                            item_sequence  \\\n",
       "0       [-1.0, -1.0, -1.0, -1.0, -1.0, -1.0, -1.0, -1....   \n",
       "1       [3028.0, 2742.0, 2755.0, 3159.0, 3101.0, 3036....   \n",
       "2       [-1.0, -1.0, 3234.0, 2508.0, 2318.0, 2964.0, 1...   \n",
       "3       [1987.0, 4569.0, 2114.0, 1606.0, 2159.0, 2279....   \n",
       "4       [-1.0, -1.0, -1.0, -1.0, -1.0, -1.0, -1.0, -1....   \n",
       "...                                                   ...   \n",
       "328591  [-1.0, -1.0, -1.0, -1.0, -1.0, -1.0, -1.0, -1....   \n",
       "328592  [-1.0, -1.0, -1.0, -1.0, -1.0, -1.0, -1.0, -1....   \n",
       "328593  [-1.0, -1.0, -1.0, -1.0, -1.0, -1.0, -1.0, 137...   \n",
       "328594  [-1.0, -1.0, -1.0, 1657.0, 2074.0, 593.0, 583....   \n",
       "328595  [3093.0, 3574.0, 3373.0, 3372.0, 3576.0, 3621....   \n",
       "\n",
       "                                         item_sequence_ts  \\\n",
       "0        [-1, -1, -1, -1, -1, -1, -1, -1, -1, 1452599936]   \n",
       "1       [1449254540, 1449256005, 1449257733, 145271579...   \n",
       "2       [-1, -1, 1443454097, 1455129080, 1455129186, 1...   \n",
       "3       [1327120514, 1377289907, 1402605836, 140260639...   \n",
       "4       [-1, -1, -1, -1, -1, -1, -1, -1, 1420807793, 1...   \n",
       "...                                                   ...   \n",
       "328591   [-1, -1, -1, -1, -1, -1, -1, -1, -1, 1425233294]   \n",
       "328592  [-1, -1, -1, -1, -1, -1, -1, -1, 1299549517, 1...   \n",
       "328593  [-1, -1, -1, -1, -1, -1, -1, 1370414332, 13704...   \n",
       "328594  [-1, -1, -1, 1431150669, 1431150834, 143204166...   \n",
       "328595  [1487438369, 1488931311, 1490136709, 149306390...   \n",
       "\n",
       "                        item_sequence_ts_bucket  main_category  \\\n",
       "0       [-1, -1, -1, -1, -1, -1, -1, -1, -1, 0]    Video Games   \n",
       "1                [5, 5, 5, 5, 5, 5, 5, 5, 5, 5]      Computers   \n",
       "2              [-1, -1, 5, 1, 1, 0, 0, 0, 0, 0]    Video Games   \n",
       "3                [8, 8, 7, 7, 7, 7, 7, 7, 6, 6]    Video Games   \n",
       "4        [-1, -1, -1, -1, -1, -1, -1, -1, 0, 0]    Video Games   \n",
       "...                                         ...            ...   \n",
       "328591  [-1, -1, -1, -1, -1, -1, -1, -1, -1, 5]    Video Games   \n",
       "328592   [-1, -1, -1, -1, -1, -1, -1, -1, 0, 0]    Video Games   \n",
       "328593    [-1, -1, -1, -1, -1, -1, -1, 6, 6, 6]    Video Games   \n",
       "328594        [-1, -1, -1, 7, 7, 7, 7, 5, 5, 0]    Video Games   \n",
       "328595           [6, 6, 6, 6, 6, 6, 6, 5, 5, 5]    Video Games   \n",
       "\n",
       "                                                    title  \\\n",
       "0       PlayStation 3 Dualshock 3 Wireless Controller ...   \n",
       "1       Logitech G502 Lightspeed Wireless Gaming Mouse...   \n",
       "2       Nintendo Wii U Pro U Controller (Japanese Vers...   \n",
       "3                  Rock Band 2 - Nintendo Wii (Game only)   \n",
       "4                              Resident Evil 5 - Xbox 360   \n",
       "...                                                   ...   \n",
       "328591           A Way Out – PC Origin [Online Game Code]   \n",
       "328592  Nintendo Joy-Con (R) - Neon Red - Nintendo Switch   \n",
       "328593                          Killer is Dead - Xbox 360   \n",
       "328594                              Just Dance 2015 - Wii   \n",
       "328595  retrogames The C64 Mini USA Version - Not Mach...   \n",
       "\n",
       "                                              description  \\\n",
       "0       [Amazon.com, The Dualshock 3 wireless controll...   \n",
       "1       [G502 is the best gaming mouse from Logitech G...   \n",
       "2             [Wii U PRO controller (black) (WUP-A-RSKA)]   \n",
       "3       [Product description, Rock Band 2 lets you and...   \n",
       "4                                                      []   \n",
       "...                                                   ...   \n",
       "328591  [From the creators of Brothers - A Tale of Two...   \n",
       "328592                                 [To be determined]   \n",
       "328593  [Killer Is Dead is the latest title from the d...   \n",
       "328594  [With more than 50 million copies of Just Danc...   \n",
       "328595  [It's 1982 and a new home computer graces the ...   \n",
       "\n",
       "                                               categories  price  \n",
       "0       [Video Games, Legacy Systems, PlayStation Syst...  49.99  \n",
       "1             [Video Games, PC, Accessories, Gaming Mice]  87.95  \n",
       "2       [Video Games, Legacy Systems, Nintendo Systems...  43.99  \n",
       "3       [Video Games, Legacy Systems, Nintendo Systems...  28.49  \n",
       "4       [Video Games, Legacy Systems, Xbox Systems, Xb...  29.88  \n",
       "...                                                   ...    ...  \n",
       "328591                           [Video Games, PC, Games]   5.99  \n",
       "328592  [Video Games, Nintendo Switch, Accessories, Co...   None  \n",
       "328593  [Video Games, Legacy Systems, Xbox Systems, Xb...  39.82  \n",
       "328594  [Video Games, Legacy Systems, Nintendo Systems...   33.0  \n",
       "328595  [Video Games, Legacy Systems, Commodore System...  44.99  \n",
       "\n",
       "[328596 rows x 27 columns]"
      ]
     },
     "execution_count": 18,
     "metadata": {},
     "output_type": "execute_result"
    }
   ],
   "source": [
    "train_df"
   ]
  },
  {
   "cell_type": "markdown",
   "id": "5260fbe7-2f90-44a1-be74-ce5db9b511ee",
   "metadata": {},
   "source": [
    "# Train"
   ]
  },
  {
   "cell_type": "code",
   "execution_count": 19,
   "id": "240a04ed-8898-443f-b0f4-7399bfa63810",
   "metadata": {},
   "outputs": [],
   "source": [
    "rating_dataset = UserItemRatingDFDataset(\n",
    "    train_df, \"user_indice\", \"item_indice\", args.rating_col, args.timestamp_col\n",
    ")\n",
    "val_rating_dataset = UserItemRatingDFDataset(\n",
    "    val_df, \"user_indice\", \"item_indice\", args.rating_col, args.timestamp_col\n",
    ")\n",
    "\n",
    "train_loader = DataLoader(\n",
    "    rating_dataset, batch_size=args.batch_size, shuffle=True, drop_last=True\n",
    ")\n",
    "val_loader = DataLoader(\n",
    "    val_rating_dataset, batch_size=args.batch_size, shuffle=False, drop_last=False\n",
    ")"
   ]
  },
  {
   "cell_type": "code",
   "execution_count": 20,
   "id": "22dcf157-425f-4d15-9b53-e1ff93887def",
   "metadata": {
    "scrolled": true
   },
   "outputs": [],
   "source": [
    "n_items = len(item_indices)\n",
    "n_users = len(user_indices)\n",
    "\n",
    "model = init_model(n_users, n_items, args.embedding_dim, args.dropout)"
   ]
  },
  {
   "cell_type": "markdown",
   "id": "b8cbb2a8-a578-4ad2-941e-efd01d930336",
   "metadata": {},
   "source": [
    "#### Predict before train"
   ]
  },
  {
   "cell_type": "code",
   "execution_count": 21,
   "id": "26d95ffc-0aec-4239-aa33-d75dc2f40b3d",
   "metadata": {},
   "outputs": [
    {
     "data": {
      "text/plain": [
       "Embedding(4631, 128, padding_idx=4630)"
      ]
     },
     "execution_count": 21,
     "metadata": {},
     "output_type": "execute_result"
    }
   ],
   "source": [
    "model.item_embedding"
   ]
  },
  {
   "cell_type": "code",
   "execution_count": 22,
   "id": "0112de1e-1dce-4982-9663-a1df91fd0001",
   "metadata": {
    "scrolled": true
   },
   "outputs": [
    {
     "data": {
      "text/html": [
       "<div>\n",
       "<style scoped>\n",
       "    .dataframe tbody tr th:only-of-type {\n",
       "        vertical-align: middle;\n",
       "    }\n",
       "\n",
       "    .dataframe tbody tr th {\n",
       "        vertical-align: top;\n",
       "    }\n",
       "\n",
       "    .dataframe thead th {\n",
       "        text-align: right;\n",
       "    }\n",
       "</style>\n",
       "<table border=\"1\" class=\"dataframe\">\n",
       "  <thead>\n",
       "    <tr style=\"text-align: right;\">\n",
       "      <th></th>\n",
       "      <th>user_id</th>\n",
       "      <th>parent_asin</th>\n",
       "      <th>rating</th>\n",
       "      <th>timestamp</th>\n",
       "      <th>timestamp_unix</th>\n",
       "      <th>parent_asin_rating_cnt_365d</th>\n",
       "      <th>parent_asin_rating_avg_prev_rating_365d</th>\n",
       "      <th>parent_asin_rating_cnt_90d</th>\n",
       "      <th>parent_asin_rating_avg_prev_rating_90d</th>\n",
       "      <th>parent_asin_rating_cnt_30d</th>\n",
       "      <th>...</th>\n",
       "      <th>user_rating_list_10_recent_asin</th>\n",
       "      <th>user_rating_list_10_recent_asin_timestamp</th>\n",
       "      <th>item_sequence</th>\n",
       "      <th>item_sequence_ts</th>\n",
       "      <th>item_sequence_ts_bucket</th>\n",
       "      <th>main_category</th>\n",
       "      <th>title</th>\n",
       "      <th>description</th>\n",
       "      <th>categories</th>\n",
       "      <th>price</th>\n",
       "    </tr>\n",
       "  </thead>\n",
       "  <tbody>\n",
       "    <tr>\n",
       "      <th>1736</th>\n",
       "      <td>AFGNF7LSRDIJDBJ2WOUIINMAKTPQ</td>\n",
       "      <td>B001FRTK4O</td>\n",
       "      <td>0.0</td>\n",
       "      <td>2021-12-31 08:44:58.568</td>\n",
       "      <td>NaN</td>\n",
       "      <td>0.0</td>\n",
       "      <td>NaN</td>\n",
       "      <td>0.0</td>\n",
       "      <td>NaN</td>\n",
       "      <td>0.0</td>\n",
       "      <td>...</td>\n",
       "      <td>B0BJKR3LJJ,B00K0NV5J2,B08VFQ3XJX,B07CB12726,B0...</td>\n",
       "      <td>1595187952,1620593210,1620609469,1620609531,16...</td>\n",
       "      <td>[-1, -1, 4553, 2692, 4436, 3894, 119, 168, 9, 42]</td>\n",
       "      <td>[-1, -1, 1595187952, 1620593210, 1620609469, 1...</td>\n",
       "      <td>[-1, -1, 6, 5, 5, 5, 5, 5, 5, 5]</td>\n",
       "      <td>Video Games</td>\n",
       "      <td>Spore - PC/Mac</td>\n",
       "      <td>[Product description, The creators of The Sims...</td>\n",
       "      <td>[Video Games, PC, Games]</td>\n",
       "      <td>30.0</td>\n",
       "    </tr>\n",
       "    <tr>\n",
       "      <th>138</th>\n",
       "      <td>AGMLADPSZMDXW53UV52EUUDNOLTQ</td>\n",
       "      <td>B09T2QP4WV</td>\n",
       "      <td>1.0</td>\n",
       "      <td>2021-09-16 04:27:30.127</td>\n",
       "      <td>1.631766e+09</td>\n",
       "      <td>7.0</td>\n",
       "      <td>3.428571</td>\n",
       "      <td>1.0</td>\n",
       "      <td>1.0</td>\n",
       "      <td>0.0</td>\n",
       "      <td>...</td>\n",
       "      <td>B003V4AK8E,B00IMVRVC4,B00MNP9PD8,B071H7XCPV,B0...</td>\n",
       "      <td>1371059318,1397947292,1447605322,1460390105,14...</td>\n",
       "      <td>[-1, -1, 1572, 2651, 2802, 3644, 3681, 3372, 3...</td>\n",
       "      <td>[-1, -1, 1371059318, 1397947292, 1447605322, 1...</td>\n",
       "      <td>[-1, -1, 8, 8, 8, 8, 7, 7, 7, 7]</td>\n",
       "      <td>Computers</td>\n",
       "      <td>Redragon M908 Impact RGB LED MMO Mouse with Si...</td>\n",
       "      <td>[]</td>\n",
       "      <td>[Video Games, PC, Accessories, Gaming Mice]</td>\n",
       "      <td>32.89</td>\n",
       "    </tr>\n",
       "    <tr>\n",
       "      <th>1492</th>\n",
       "      <td>AGLQLDOF6JVKQIZY7BU7OCAJFEIA</td>\n",
       "      <td>B01K2O2RSG</td>\n",
       "      <td>1.0</td>\n",
       "      <td>2022-02-06 16:20:19.149</td>\n",
       "      <td>1.644164e+09</td>\n",
       "      <td>1.0</td>\n",
       "      <td>1.000000</td>\n",
       "      <td>0.0</td>\n",
       "      <td>NaN</td>\n",
       "      <td>0.0</td>\n",
       "      <td>...</td>\n",
       "      <td>B01M8GXNJX,B01FUWJAQC,B072JYVYCX,B06XX4D2KY,B0...</td>\n",
       "      <td>1488662110,1498345226,1507389221,1509398438,15...</td>\n",
       "      <td>[3481, 3332, 3694, 3591, 3871, 3942, 3059, 398...</td>\n",
       "      <td>[1488662110, 1498345226, 1507389221, 150939843...</td>\n",
       "      <td>[7, 7, 7, 7, 7, 7, 6, 6, 6, 6]</td>\n",
       "      <td>Video Games</td>\n",
       "      <td>Sniper: Ghost Warrior 3 Season Pass Edition - ...</td>\n",
       "      <td>[Go behind enemy lines with the ultimate moder...</td>\n",
       "      <td>[Video Games, PlayStation 4, Games]</td>\n",
       "      <td>21.69</td>\n",
       "    </tr>\n",
       "    <tr>\n",
       "      <th>613</th>\n",
       "      <td>AEE2GRES5JQA6J5B3N5ALF3V3OPA</td>\n",
       "      <td>B07N8XW8WX</td>\n",
       "      <td>0.0</td>\n",
       "      <td>2022-06-02 18:11:11.861</td>\n",
       "      <td>NaN</td>\n",
       "      <td>1.0</td>\n",
       "      <td>5.000000</td>\n",
       "      <td>0.0</td>\n",
       "      <td>NaN</td>\n",
       "      <td>0.0</td>\n",
       "      <td>...</td>\n",
       "      <td>B004C43FH0,B001EYUXIK,B000EMJA3M,B004APAEL6,B0...</td>\n",
       "      <td>1359870667,1360436187,1361047278,1369028864,13...</td>\n",
       "      <td>[-1, -1, -1, -1, 1664, 1025, 440, 1654, 1656, ...</td>\n",
       "      <td>[-1, -1, -1, -1, 1359870667, 1360436187, 13610...</td>\n",
       "      <td>[-1, -1, -1, -1, 8, 8, 8, 8, 8, 8]</td>\n",
       "      <td>Video Games</td>\n",
       "      <td>Axiom Verge: Standard Edition - Nintendo Switch</td>\n",
       "      <td>[In Axiom Verge , you play as Trace, a scienti...</td>\n",
       "      <td>[Video Games, Prime Member Pre-Orders in Video...</td>\n",
       "      <td>51.17</td>\n",
       "    </tr>\n",
       "    <tr>\n",
       "      <th>905</th>\n",
       "      <td>AHTLGOWRXF4PNX6DEUZXVZWBBVTQ</td>\n",
       "      <td>B0C4KN63KM</td>\n",
       "      <td>0.0</td>\n",
       "      <td>2022-03-11 08:20:00.705</td>\n",
       "      <td>NaN</td>\n",
       "      <td>7.0</td>\n",
       "      <td>4.428571</td>\n",
       "      <td>1.0</td>\n",
       "      <td>5.0</td>\n",
       "      <td>0.0</td>\n",
       "      <td>...</td>\n",
       "      <td>B00DDILSBG,B07YBXFDYK,B00PGLG79G,B01BF9X6LO,B0...</td>\n",
       "      <td>1514194117,1528409448,1528409892,1528410399,15...</td>\n",
       "      <td>[2441, 4281, 2893, 3277, 4282, 4209, 3360, 429...</td>\n",
       "      <td>[1514194117, 1528409448, 1528409892, 152841039...</td>\n",
       "      <td>[7, 7, 7, 7, 6, 6, 6, 6, 6, 0]</td>\n",
       "      <td>Computers</td>\n",
       "      <td>NPET K10V1 Wired Computer Keyboard, Plug and P...</td>\n",
       "      <td>[]</td>\n",
       "      <td>[Video Games, PC, Accessories, Gaming Keyboards]</td>\n",
       "      <td>18.99</td>\n",
       "    </tr>\n",
       "    <tr>\n",
       "      <th>249</th>\n",
       "      <td>AFSDTMNFTR6SW5GKERMS424O22XQ</td>\n",
       "      <td>B00F27JGVA</td>\n",
       "      <td>0.0</td>\n",
       "      <td>2021-08-18 18:48:32.126</td>\n",
       "      <td>NaN</td>\n",
       "      <td>6.0</td>\n",
       "      <td>4.000000</td>\n",
       "      <td>0.0</td>\n",
       "      <td>NaN</td>\n",
       "      <td>0.0</td>\n",
       "      <td>...</td>\n",
       "      <td>B000TLU67W,B001QCWSJC,B07CQXSC7K,B00MOQWBQ4,B0...</td>\n",
       "      <td>1421078256,1421078322,1421078350,1421078392,14...</td>\n",
       "      <td>[589, 1142, 3904, 2803, 439, 770, 1706, 2670, ...</td>\n",
       "      <td>[1421078256, 1421078322, 1421078350, 142107839...</td>\n",
       "      <td>[8, 8, 8, 8, 8, 8, 8, 7, 7, 5]</td>\n",
       "      <td>Computers</td>\n",
       "      <td>PlayStation Vita Memory Card 64GB (PCH-Z641J)</td>\n",
       "      <td>[This is a memory card for Play Station Vita t...</td>\n",
       "      <td>[Video Games, Legacy Systems, PlayStation Syst...</td>\n",
       "      <td>251.7</td>\n",
       "    </tr>\n",
       "    <tr>\n",
       "      <th>881</th>\n",
       "      <td>AGYJI6XSILTABA3ZWALFM6SMEVOQ</td>\n",
       "      <td>B0BFT941YQ</td>\n",
       "      <td>1.0</td>\n",
       "      <td>2022-04-22 22:32:31.047</td>\n",
       "      <td>1.650667e+09</td>\n",
       "      <td>2.0</td>\n",
       "      <td>4.500000</td>\n",
       "      <td>0.0</td>\n",
       "      <td>NaN</td>\n",
       "      <td>0.0</td>\n",
       "      <td>...</td>\n",
       "      <td>B07SM7G9CN,B07G1SC6BW,B07L6MJ6LD,B07J3P1GJM,B0...</td>\n",
       "      <td>1527019952,1538858187,1557937823,1557937962,16...</td>\n",
       "      <td>[-1, 4164, 3970, 4049, 4018, 4388, 3697, 3576,...</td>\n",
       "      <td>[-1, 1527019952, 1538858187, 1557937823, 15579...</td>\n",
       "      <td>[-1, 7, 7, 6, 6, 6, 6, 5, 5, 5]</td>\n",
       "      <td>Video Games</td>\n",
       "      <td>DRAGON BALL Z: Kakarot - PlayStation 5</td>\n",
       "      <td>[Relive the story of Goku and other Z Fighters...</td>\n",
       "      <td>[Video Games, PlayStation 5, Games]</td>\n",
       "      <td>19.99</td>\n",
       "    </tr>\n",
       "    <tr>\n",
       "      <th>1509</th>\n",
       "      <td>AHQJ5UXX647PD77SHSTCPKTSA3XA</td>\n",
       "      <td>B07WZ78VRN</td>\n",
       "      <td>1.0</td>\n",
       "      <td>2021-09-13 14:51:38.718</td>\n",
       "      <td>1.631545e+09</td>\n",
       "      <td>2.0</td>\n",
       "      <td>5.000000</td>\n",
       "      <td>0.0</td>\n",
       "      <td>NaN</td>\n",
       "      <td>0.0</td>\n",
       "      <td>...</td>\n",
       "      <td>B00LE3EAIK,B004RMK5QG,B0BL65X86R,B06XHLM4DX,B0...</td>\n",
       "      <td>1514575134,1576179131,1582813328,1588087497,16...</td>\n",
       "      <td>[-1, -1, -1, -1, 2760, 1767, 4559, 3573, 4043,...</td>\n",
       "      <td>[-1, -1, -1, -1, 1514575134, 1576179131, 15828...</td>\n",
       "      <td>[-1, -1, -1, -1, 7, 6, 6, 6, 5, 5]</td>\n",
       "      <td>Computers</td>\n",
       "      <td>8Bitdo SN30 Pro Wireless Bluetooth Controller ...</td>\n",
       "      <td>[]</td>\n",
       "      <td>[Video Games, Mac, Accessories, Controllers, G...</td>\n",
       "      <td>44.99</td>\n",
       "    </tr>\n",
       "    <tr>\n",
       "      <th>975</th>\n",
       "      <td>AH4LS5HFN2VGSKNKQGNZGENHBVVA</td>\n",
       "      <td>B07624RBWB</td>\n",
       "      <td>0.0</td>\n",
       "      <td>2021-12-19 22:28:25.889</td>\n",
       "      <td>NaN</td>\n",
       "      <td>32.0</td>\n",
       "      <td>4.593750</td>\n",
       "      <td>2.0</td>\n",
       "      <td>5.0</td>\n",
       "      <td>0.0</td>\n",
       "      <td>...</td>\n",
       "      <td>B008FHL56S,B0053B66KE,B00CQ9L1Z6,B017C6OK7S,B0...</td>\n",
       "      <td>1397806962,1399892741,1402389343,1402389660,14...</td>\n",
       "      <td>[2151, 1871, 2404, 3199, 4403, 2682, 1915, 275...</td>\n",
       "      <td>[1397806962, 1399892741, 1402389343, 140238966...</td>\n",
       "      <td>[8, 8, 8, 8, 8, 8, 8, 7, 6, 6]</td>\n",
       "      <td>Video Games</td>\n",
       "      <td>Nintendo Switch Pro Controller</td>\n",
       "      <td>[]</td>\n",
       "      <td>[Video Games, Nintendo Switch, Accessories, Co...</td>\n",
       "      <td>69.0</td>\n",
       "    </tr>\n",
       "    <tr>\n",
       "      <th>1373</th>\n",
       "      <td>AH2FY6PMPRUFGY4CLK4ER356Q2JQ</td>\n",
       "      <td>B0044XU27A</td>\n",
       "      <td>0.0</td>\n",
       "      <td>2021-08-14 21:34:28.025</td>\n",
       "      <td>NaN</td>\n",
       "      <td>2.0</td>\n",
       "      <td>5.000000</td>\n",
       "      <td>1.0</td>\n",
       "      <td>5.0</td>\n",
       "      <td>0.0</td>\n",
       "      <td>...</td>\n",
       "      <td>B00ZO1SUSE,B01CKGI0XA,B007BGUGVO,B08NYV2VLS,B0...</td>\n",
       "      <td>1451833963,1466268353,1468513788,1504289735,15...</td>\n",
       "      <td>[-1, 3079, 3294, 2052, 4421, 3650, 3555, 4372,...</td>\n",
       "      <td>[-1, 1451833963, 1466268353, 1468513788, 15042...</td>\n",
       "      <td>[-1, 8, 8, 8, 7, 7, 6, 6, 6, 6]</td>\n",
       "      <td>Video Games</td>\n",
       "      <td>Kingdoms of Amalur: Reckoning - Xbox 360</td>\n",
       "      <td>[Product Description, The minds of, New York T...</td>\n",
       "      <td>[Video Games, Legacy Systems, Xbox Systems, Xb...</td>\n",
       "      <td>14.99</td>\n",
       "    </tr>\n",
       "  </tbody>\n",
       "</table>\n",
       "<p>10 rows × 27 columns</p>\n",
       "</div>"
      ],
      "text/plain": [
       "                           user_id parent_asin  rating  \\\n",
       "1736  AFGNF7LSRDIJDBJ2WOUIINMAKTPQ  B001FRTK4O     0.0   \n",
       "138   AGMLADPSZMDXW53UV52EUUDNOLTQ  B09T2QP4WV     1.0   \n",
       "1492  AGLQLDOF6JVKQIZY7BU7OCAJFEIA  B01K2O2RSG     1.0   \n",
       "613   AEE2GRES5JQA6J5B3N5ALF3V3OPA  B07N8XW8WX     0.0   \n",
       "905   AHTLGOWRXF4PNX6DEUZXVZWBBVTQ  B0C4KN63KM     0.0   \n",
       "249   AFSDTMNFTR6SW5GKERMS424O22XQ  B00F27JGVA     0.0   \n",
       "881   AGYJI6XSILTABA3ZWALFM6SMEVOQ  B0BFT941YQ     1.0   \n",
       "1509  AHQJ5UXX647PD77SHSTCPKTSA3XA  B07WZ78VRN     1.0   \n",
       "975   AH4LS5HFN2VGSKNKQGNZGENHBVVA  B07624RBWB     0.0   \n",
       "1373  AH2FY6PMPRUFGY4CLK4ER356Q2JQ  B0044XU27A     0.0   \n",
       "\n",
       "                   timestamp  timestamp_unix  parent_asin_rating_cnt_365d  \\\n",
       "1736 2021-12-31 08:44:58.568             NaN                          0.0   \n",
       "138  2021-09-16 04:27:30.127    1.631766e+09                          7.0   \n",
       "1492 2022-02-06 16:20:19.149    1.644164e+09                          1.0   \n",
       "613  2022-06-02 18:11:11.861             NaN                          1.0   \n",
       "905  2022-03-11 08:20:00.705             NaN                          7.0   \n",
       "249  2021-08-18 18:48:32.126             NaN                          6.0   \n",
       "881  2022-04-22 22:32:31.047    1.650667e+09                          2.0   \n",
       "1509 2021-09-13 14:51:38.718    1.631545e+09                          2.0   \n",
       "975  2021-12-19 22:28:25.889             NaN                         32.0   \n",
       "1373 2021-08-14 21:34:28.025             NaN                          2.0   \n",
       "\n",
       "      parent_asin_rating_avg_prev_rating_365d  parent_asin_rating_cnt_90d  \\\n",
       "1736                                      NaN                         0.0   \n",
       "138                                  3.428571                         1.0   \n",
       "1492                                 1.000000                         0.0   \n",
       "613                                  5.000000                         0.0   \n",
       "905                                  4.428571                         1.0   \n",
       "249                                  4.000000                         0.0   \n",
       "881                                  4.500000                         0.0   \n",
       "1509                                 5.000000                         0.0   \n",
       "975                                  4.593750                         2.0   \n",
       "1373                                 5.000000                         1.0   \n",
       "\n",
       "      parent_asin_rating_avg_prev_rating_90d  parent_asin_rating_cnt_30d  ...  \\\n",
       "1736                                     NaN                         0.0  ...   \n",
       "138                                      1.0                         0.0  ...   \n",
       "1492                                     NaN                         0.0  ...   \n",
       "613                                      NaN                         0.0  ...   \n",
       "905                                      5.0                         0.0  ...   \n",
       "249                                      NaN                         0.0  ...   \n",
       "881                                      NaN                         0.0  ...   \n",
       "1509                                     NaN                         0.0  ...   \n",
       "975                                      5.0                         0.0  ...   \n",
       "1373                                     5.0                         0.0  ...   \n",
       "\n",
       "                        user_rating_list_10_recent_asin  \\\n",
       "1736  B0BJKR3LJJ,B00K0NV5J2,B08VFQ3XJX,B07CB12726,B0...   \n",
       "138   B003V4AK8E,B00IMVRVC4,B00MNP9PD8,B071H7XCPV,B0...   \n",
       "1492  B01M8GXNJX,B01FUWJAQC,B072JYVYCX,B06XX4D2KY,B0...   \n",
       "613   B004C43FH0,B001EYUXIK,B000EMJA3M,B004APAEL6,B0...   \n",
       "905   B00DDILSBG,B07YBXFDYK,B00PGLG79G,B01BF9X6LO,B0...   \n",
       "249   B000TLU67W,B001QCWSJC,B07CQXSC7K,B00MOQWBQ4,B0...   \n",
       "881   B07SM7G9CN,B07G1SC6BW,B07L6MJ6LD,B07J3P1GJM,B0...   \n",
       "1509  B00LE3EAIK,B004RMK5QG,B0BL65X86R,B06XHLM4DX,B0...   \n",
       "975   B008FHL56S,B0053B66KE,B00CQ9L1Z6,B017C6OK7S,B0...   \n",
       "1373  B00ZO1SUSE,B01CKGI0XA,B007BGUGVO,B08NYV2VLS,B0...   \n",
       "\n",
       "              user_rating_list_10_recent_asin_timestamp  \\\n",
       "1736  1595187952,1620593210,1620609469,1620609531,16...   \n",
       "138   1371059318,1397947292,1447605322,1460390105,14...   \n",
       "1492  1488662110,1498345226,1507389221,1509398438,15...   \n",
       "613   1359870667,1360436187,1361047278,1369028864,13...   \n",
       "905   1514194117,1528409448,1528409892,1528410399,15...   \n",
       "249   1421078256,1421078322,1421078350,1421078392,14...   \n",
       "881   1527019952,1538858187,1557937823,1557937962,16...   \n",
       "1509  1514575134,1576179131,1582813328,1588087497,16...   \n",
       "975   1397806962,1399892741,1402389343,1402389660,14...   \n",
       "1373  1451833963,1466268353,1468513788,1504289735,15...   \n",
       "\n",
       "                                          item_sequence  \\\n",
       "1736  [-1, -1, 4553, 2692, 4436, 3894, 119, 168, 9, 42]   \n",
       "138   [-1, -1, 1572, 2651, 2802, 3644, 3681, 3372, 3...   \n",
       "1492  [3481, 3332, 3694, 3591, 3871, 3942, 3059, 398...   \n",
       "613   [-1, -1, -1, -1, 1664, 1025, 440, 1654, 1656, ...   \n",
       "905   [2441, 4281, 2893, 3277, 4282, 4209, 3360, 429...   \n",
       "249   [589, 1142, 3904, 2803, 439, 770, 1706, 2670, ...   \n",
       "881   [-1, 4164, 3970, 4049, 4018, 4388, 3697, 3576,...   \n",
       "1509  [-1, -1, -1, -1, 2760, 1767, 4559, 3573, 4043,...   \n",
       "975   [2151, 1871, 2404, 3199, 4403, 2682, 1915, 275...   \n",
       "1373  [-1, 3079, 3294, 2052, 4421, 3650, 3555, 4372,...   \n",
       "\n",
       "                                       item_sequence_ts  \\\n",
       "1736  [-1, -1, 1595187952, 1620593210, 1620609469, 1...   \n",
       "138   [-1, -1, 1371059318, 1397947292, 1447605322, 1...   \n",
       "1492  [1488662110, 1498345226, 1507389221, 150939843...   \n",
       "613   [-1, -1, -1, -1, 1359870667, 1360436187, 13610...   \n",
       "905   [1514194117, 1528409448, 1528409892, 152841039...   \n",
       "249   [1421078256, 1421078322, 1421078350, 142107839...   \n",
       "881   [-1, 1527019952, 1538858187, 1557937823, 15579...   \n",
       "1509  [-1, -1, -1, -1, 1514575134, 1576179131, 15828...   \n",
       "975   [1397806962, 1399892741, 1402389343, 140238966...   \n",
       "1373  [-1, 1451833963, 1466268353, 1468513788, 15042...   \n",
       "\n",
       "                 item_sequence_ts_bucket  main_category  \\\n",
       "1736    [-1, -1, 6, 5, 5, 5, 5, 5, 5, 5]    Video Games   \n",
       "138     [-1, -1, 8, 8, 8, 8, 7, 7, 7, 7]      Computers   \n",
       "1492      [7, 7, 7, 7, 7, 7, 6, 6, 6, 6]    Video Games   \n",
       "613   [-1, -1, -1, -1, 8, 8, 8, 8, 8, 8]    Video Games   \n",
       "905       [7, 7, 7, 7, 6, 6, 6, 6, 6, 0]      Computers   \n",
       "249       [8, 8, 8, 8, 8, 8, 8, 7, 7, 5]      Computers   \n",
       "881      [-1, 7, 7, 6, 6, 6, 6, 5, 5, 5]    Video Games   \n",
       "1509  [-1, -1, -1, -1, 7, 6, 6, 6, 5, 5]      Computers   \n",
       "975       [8, 8, 8, 8, 8, 8, 8, 7, 6, 6]    Video Games   \n",
       "1373     [-1, 8, 8, 8, 7, 7, 6, 6, 6, 6]    Video Games   \n",
       "\n",
       "                                                  title  \\\n",
       "1736                                     Spore - PC/Mac   \n",
       "138   Redragon M908 Impact RGB LED MMO Mouse with Si...   \n",
       "1492  Sniper: Ghost Warrior 3 Season Pass Edition - ...   \n",
       "613     Axiom Verge: Standard Edition - Nintendo Switch   \n",
       "905   NPET K10V1 Wired Computer Keyboard, Plug and P...   \n",
       "249       PlayStation Vita Memory Card 64GB (PCH-Z641J)   \n",
       "881              DRAGON BALL Z: Kakarot - PlayStation 5   \n",
       "1509  8Bitdo SN30 Pro Wireless Bluetooth Controller ...   \n",
       "975                      Nintendo Switch Pro Controller   \n",
       "1373           Kingdoms of Amalur: Reckoning - Xbox 360   \n",
       "\n",
       "                                            description  \\\n",
       "1736  [Product description, The creators of The Sims...   \n",
       "138                                                  []   \n",
       "1492  [Go behind enemy lines with the ultimate moder...   \n",
       "613   [In Axiom Verge , you play as Trace, a scienti...   \n",
       "905                                                  []   \n",
       "249   [This is a memory card for Play Station Vita t...   \n",
       "881   [Relive the story of Goku and other Z Fighters...   \n",
       "1509                                                 []   \n",
       "975                                                  []   \n",
       "1373  [Product Description, The minds of, New York T...   \n",
       "\n",
       "                                             categories  price  \n",
       "1736                           [Video Games, PC, Games]   30.0  \n",
       "138         [Video Games, PC, Accessories, Gaming Mice]  32.89  \n",
       "1492                [Video Games, PlayStation 4, Games]  21.69  \n",
       "613   [Video Games, Prime Member Pre-Orders in Video...  51.17  \n",
       "905    [Video Games, PC, Accessories, Gaming Keyboards]  18.99  \n",
       "249   [Video Games, Legacy Systems, PlayStation Syst...  251.7  \n",
       "881                 [Video Games, PlayStation 5, Games]  19.99  \n",
       "1509  [Video Games, Mac, Accessories, Controllers, G...  44.99  \n",
       "975   [Video Games, Nintendo Switch, Accessories, Co...   69.0  \n",
       "1373  [Video Games, Legacy Systems, Xbox Systems, Xb...  14.99  \n",
       "\n",
       "[10 rows x 27 columns]"
      ]
     },
     "execution_count": 22,
     "metadata": {},
     "output_type": "execute_result"
    }
   ],
   "source": [
    "val_df = val_rating_dataset.df\n",
    "val_df.sample(10)"
   ]
  },
  {
   "cell_type": "code",
   "execution_count": 23,
   "id": "9eb1583b-40f7-4157-a383-5891389ac119",
   "metadata": {
    "scrolled": true
   },
   "outputs": [
    {
     "data": {
      "text/html": [
       "<div>\n",
       "<style scoped>\n",
       "    .dataframe tbody tr th:only-of-type {\n",
       "        vertical-align: middle;\n",
       "    }\n",
       "\n",
       "    .dataframe tbody tr th {\n",
       "        vertical-align: top;\n",
       "    }\n",
       "\n",
       "    .dataframe thead th {\n",
       "        text-align: right;\n",
       "    }\n",
       "</style>\n",
       "<table border=\"1\" class=\"dataframe\">\n",
       "  <thead>\n",
       "    <tr style=\"text-align: right;\">\n",
       "      <th></th>\n",
       "      <th>user_id</th>\n",
       "      <th>parent_asin</th>\n",
       "      <th>rating</th>\n",
       "      <th>timestamp</th>\n",
       "      <th>timestamp_unix</th>\n",
       "      <th>parent_asin_rating_cnt_365d</th>\n",
       "      <th>parent_asin_rating_avg_prev_rating_365d</th>\n",
       "      <th>parent_asin_rating_cnt_90d</th>\n",
       "      <th>parent_asin_rating_avg_prev_rating_90d</th>\n",
       "      <th>parent_asin_rating_cnt_30d</th>\n",
       "      <th>...</th>\n",
       "      <th>user_rating_list_10_recent_asin</th>\n",
       "      <th>user_rating_list_10_recent_asin_timestamp</th>\n",
       "      <th>item_sequence</th>\n",
       "      <th>item_sequence_ts</th>\n",
       "      <th>item_sequence_ts_bucket</th>\n",
       "      <th>main_category</th>\n",
       "      <th>title</th>\n",
       "      <th>description</th>\n",
       "      <th>categories</th>\n",
       "      <th>price</th>\n",
       "    </tr>\n",
       "  </thead>\n",
       "  <tbody>\n",
       "    <tr>\n",
       "      <th>39</th>\n",
       "      <td>AEUA6C3BAGAKZFYIEUQKXB74VNIQ</td>\n",
       "      <td>B003171CEW</td>\n",
       "      <td>0.0</td>\n",
       "      <td>2022-02-15 23:56:18.381</td>\n",
       "      <td>NaN</td>\n",
       "      <td>5.0</td>\n",
       "      <td>4.600000</td>\n",
       "      <td>0.0</td>\n",
       "      <td>NaN</td>\n",
       "      <td>0.0</td>\n",
       "      <td>...</td>\n",
       "      <td>B004QWYV2Q,B002BSH3K4,B07HYW4XMP,B007HUNYE0,B009AGXH64,B00J4Y6L2Y,B00004S9AF,B007RNWUC4,B07K3KHFSY,B09JDJYPD8</td>\n",
       "      <td>1311866699,1315854766,1335816422,1341508406,1353359858,1365386054,1476066169,1502906493,1512074789,1568498076</td>\n",
       "      <td>[1761, 1224, 4013, 2066, 2217, 2669, 85, 2079, 4028, 4478]</td>\n",
       "      <td>[1311866699, 1315854766, 1335816422, 1341508406, 1353359858, 1365386054, 1476066169, 1502906493, 1512074789, 1568498076]</td>\n",
       "      <td>[9, 9, 8, 8, 8, 8, 8, 7, 7, 6]</td>\n",
       "      <td>Video Games</td>\n",
       "      <td>MLB 10: The Show - Playstation 3</td>\n",
       "      <td>[Product description, Welcome to The Show All-Star. The best selling and highest rated baseball franchise is back in MLB 10 The Show throwing you into an unsurpassed baseball experience where big moments come alive. It's all here too; the All New Home Run Derby, MLB All-Star Futures Game, Movie Maker, Catcher Mode, Personalized cheers and yells and Joe Mauer, newly crowned American League MVP, as the new cover athlete., Amazon.com, Welcome to The Show all-star. The best selling and highest rated baseball franchise is back in, MLB 10: The Show, throwing you into an unsurpassed baseball experience where big moments come alive. It’s all here too. In addition to a wealth of improvements to longtime franchise features this newest release includes the return of the Home Run Derby, MLB All-Star Futures Game, Movie Maker, Catcher Mode, Personalized cheers and yells and Joe Mauer, newly crowned American League MVP, as the new cover athlete. So get ready,, The Show, is about to begin and you are leading off. .caption { font-family: Verdana, Helvetica neue, Arial, serif; font-size: 10px; font-weight: bold; font-style: italic; } ul.indent { list-style: inside disc; text-indent: -15px; } table.callout { font-family: verdana; font-size: 11px; line-height: 1. 3em; } td.vgoverview { height: 125px; background: #9DC4D8 url(https://images-na.ssl-images-amazon.com/images/G/01/electronics/detail-page/callout-bg.png) repeat-x; border-left: 1px solid #999999; border-right: 1px solid #999999; padding-left: 20px; padding-right: 20px; padding-bottom: 10px; width: 250px; font-family: verdana; font-size: 12px; }, The return of the Home Run Derby., View larger, ., Game calling from the catcher position., View larger, ., New fielding and pitcher training options., View larger, ., 11 new stadiums and 1,250 new gameplay animations., View larger, ., The Return of Home Run Derby, The arcade style action of the Home Run Derby returns in, MLB 10: The Show, . Available through a variety play options, including season modes and a stand-alone mode that can be selected at any time, Home Run Derby is based on the MLB rules and flow of the actual MLB All-star game. In addition, the MLB All-star Futures Game is also available via season modes in its correct timeframe (just before the HR Derby). Will your Road to The Show player be invited to compete in the Home Run Derby or the Futures Game? Swing for the fences and keep your stats high and you may just get the call as the All-star break approaches., Call the Game as Catcher, The catcher is the brains of any defensive squad on the field, and as such, MLB 10: The Show, lets you test both your baseball IQ and your skills in the crouch as you call the game, one pitch at a time, from behind the plate. Available during Road to The Show, and exhibition game play options, players cultivate their rookie Minor League catcher and bring him up to the Majors where he can lay down signs to your pitcher, offer additional pitch selections if his first pitch call is shaken off and even change signs at will, all via your controller's face buttons. Pitches are called from a unique first-person perspective, after which the camera angle changes to a standard third-person perspective affording a better view of the entire field. This new functionality defines a whole new level of strategy, demanding knowledge of pitches, opposing batters' tendencies and the state of your own pitcher's well-being, as well as the ability to check runners on base and handle and/or block balls that are in the dirt or wild., New Defensive Training Options, No ballplayer becomes a golden glove overnight. With that in mind, MLB 10: The Show, includes new fielding and pitching training modes that augment the existing training functionality built into the game's improved Road to the Show mode. Fielding drills focus both on the basics of player's throwing arm, utilizing the new throw meter, as well as the more advanced combination of throwing and decision-making that players will need during game situations. Pitching training consists of a multi-pronged focus designed to improved control and accuracy. Training in these areas is available in isolated one-on-one battles known as \"Knockout,\" as well as simulated game situations, where goals are clearly defined for each drill., Key Game Features, A Wealth of New Features Including:, A Wealth of New Features Including:, MLB All-star Week consisting of the Home Run Derby and MLB All-star Futures Game.Full online season leagues with better multiplayer functionality.Catcher game calling functionality in certain modes.Movie Maker functionality to create personal highlight reels11 new StadiumsNew fielding and pitching training modesCustom music, fan yells, and chants., MLB All-star Week consisting of the Home Run Derby and MLB All-star Futures Game., MLB All-star Week consisting of the Home Run Derby and MLB All-star Futures Game., Full online season leagues with better multiplayer functionality., Full online season leagues with better multiplayer functionality., Catcher game calling functionality in certain modes., Catcher game calling functionality in certain modes., Movie Maker functionality to create personal highlight reels, Movie Maker functionality to create personal highlight reels, 11 new Stadiums, 11 new Stadiums, New fielding and pitching training modes, New fielding and pitching training modes, Custom music, fan yells, and chants., Custom music, fan yells, and chants., Improved Stadium Realism and Experience - From crowd ambiance to enhanced presentation system, even transitional daylight., Improved Stadium Realism and Experience, - From crowd ambiance to enhanced presentation system, even transitional daylight., Road to the Show v4.0 – Play the way that you want to with multiple new options settings, a rewards/penalty system based on play and a new, more accessible stat tracking system., Road to the Show v4.0, – Play the way that you want to with multiple new options settings, a rewards/penalty system based on play and a new, more accessible stat tracking system., Improved Online Gameplay – This year the online gameplay experience has been vastly improved and will detect and respond better to adverse network conditions along with reduced bandwidth to help the speed and flow of online gameplay., Improved Online Gameplay, – This year the online gameplay experience has been vastly improved and will detect and respond better to adverse network conditions along with reduced bandwidth to help the speed and flow of online gameplay., Full Online Season Leagues – Fully functional online season leagues, save and display MLB Player stats, track player energy, allow for trades/injuries, and offer 40-man roster functionality., Full Online Season Leagues, – Fully functional online season leagues, save and display MLB Player stats, track player energy, allow for trades/injuries, and offer 40-man roster functionality., Real-time Presentations – More than 1,250 new gameplay animations, more than 1,000 new presentation animations, and more than 400 personalized pitcher and batter animations., Real-time Presentations, – More than 1,250 new gameplay animations, more than 1,000 new presentation animations, and more than 400 personalized pitcher and batter animations., New Stadiums Available – The PlayStation 3 version of MLB 10: The Show includes five new Minor League stadiums, as well as classic parks including Forbes Field, Crosley Field, Polo Grounds, Shibe Park, Sportsman Park, and Griffith Stadium., New Stadiums Available, – The PlayStation 3 version of, MLB 10: The Show, includes five new Minor League stadiums, as well as classic parks including Forbes Field, Crosley Field, Polo Grounds, Shibe Park, Sportsman Park, and Griffith Stadium., Additional Features – Additional features include: multiplayer support, in-game messaging, voice chat, custom soundtracks, add-on content and HD support up to 1080p., Additional Features, – Additional features include: multiplayer support, in-game messaging, voice chat, custom soundtracks, add-on content and HD support up to 1080p.]</td>\n",
       "      <td>[Video Games, Legacy Systems, PlayStation Systems, PlayStation 3, Games]</td>\n",
       "      <td>19.71</td>\n",
       "    </tr>\n",
       "    <tr>\n",
       "      <th>1611</th>\n",
       "      <td>AEUA6C3BAGAKZFYIEUQKXB74VNIQ</td>\n",
       "      <td>B08QFPS48J</td>\n",
       "      <td>1.0</td>\n",
       "      <td>2022-02-15 23:56:18.381</td>\n",
       "      <td>1.644969e+09</td>\n",
       "      <td>33.0</td>\n",
       "      <td>3.636364</td>\n",
       "      <td>3.0</td>\n",
       "      <td>2.333333</td>\n",
       "      <td>1.0</td>\n",
       "      <td>...</td>\n",
       "      <td>B004QWYV2Q,B002BSH3K4,B07HYW4XMP,B007HUNYE0,B009AGXH64,B00J4Y6L2Y,B00004S9AF,B007RNWUC4,B07K3KHFSY,B09JDJYPD8</td>\n",
       "      <td>1311866699,1315854766,1335816422,1341508406,1353359858,1365386054,1476066169,1502906493,1512074789,1568498076</td>\n",
       "      <td>[1761, 1224, 4013, 2066, 2217, 2669, 85, 2079, 4028, 4478]</td>\n",
       "      <td>[1311866699, 1315854766, 1335816422, 1341508406, 1353359858, 1365386054, 1476066169, 1502906493, 1512074789, 1568498076]</td>\n",
       "      <td>[9, 9, 8, 8, 8, 8, 8, 7, 7, 6]</td>\n",
       "      <td>Video Games</td>\n",
       "      <td>Returnal - PlayStation 5</td>\n",
       "      <td>[After crash-landing on this shape-shifting world, selene must search through the barren landscape of an ancient civilization for her escape. Isolated and alone, she finds herself fighting tooth and nail for survival. Again and again, she's defeated - forced to restart her journey every time she dies. Through relentless roguelike gameplay, you'll discover that just as the planet changes with every cycle, so do the items at your disposal. Every loop offers new combinations, forcing you to push your boundaries and approach combat with a different strategy each time. Brought to life by stunning visual effects, the dark beauty of the decaying world around you is packed with explosive surprises. From high stakes, Bullet hell-fueled combat, to visceral twists and turns through Stark and contrasting environments. You'll explore, discover and fight your way through an unforgiving journey, where mystery stalks your every move. Designed for extreme playability, the procedural world of returnal invites you to dust yourself off in the face of defeat and take on new, evolving challenges with every Rebirth.]</td>\n",
       "      <td>[Video Games, PlayStation 5, Games]</td>\n",
       "      <td>26.99</td>\n",
       "    </tr>\n",
       "  </tbody>\n",
       "</table>\n",
       "<p>2 rows × 27 columns</p>\n",
       "</div>"
      ],
      "text/plain": [
       "                           user_id parent_asin  rating  \\\n",
       "39    AEUA6C3BAGAKZFYIEUQKXB74VNIQ  B003171CEW     0.0   \n",
       "1611  AEUA6C3BAGAKZFYIEUQKXB74VNIQ  B08QFPS48J     1.0   \n",
       "\n",
       "                   timestamp  timestamp_unix  parent_asin_rating_cnt_365d  \\\n",
       "39   2022-02-15 23:56:18.381             NaN                          5.0   \n",
       "1611 2022-02-15 23:56:18.381    1.644969e+09                         33.0   \n",
       "\n",
       "      parent_asin_rating_avg_prev_rating_365d  parent_asin_rating_cnt_90d  \\\n",
       "39                                   4.600000                         0.0   \n",
       "1611                                 3.636364                         3.0   \n",
       "\n",
       "      parent_asin_rating_avg_prev_rating_90d  parent_asin_rating_cnt_30d  ...  \\\n",
       "39                                       NaN                         0.0  ...   \n",
       "1611                                2.333333                         1.0  ...   \n",
       "\n",
       "                                                                                    user_rating_list_10_recent_asin  \\\n",
       "39    B004QWYV2Q,B002BSH3K4,B07HYW4XMP,B007HUNYE0,B009AGXH64,B00J4Y6L2Y,B00004S9AF,B007RNWUC4,B07K3KHFSY,B09JDJYPD8   \n",
       "1611  B004QWYV2Q,B002BSH3K4,B07HYW4XMP,B007HUNYE0,B009AGXH64,B00J4Y6L2Y,B00004S9AF,B007RNWUC4,B07K3KHFSY,B09JDJYPD8   \n",
       "\n",
       "                                                                          user_rating_list_10_recent_asin_timestamp  \\\n",
       "39    1311866699,1315854766,1335816422,1341508406,1353359858,1365386054,1476066169,1502906493,1512074789,1568498076   \n",
       "1611  1311866699,1315854766,1335816422,1341508406,1353359858,1365386054,1476066169,1502906493,1512074789,1568498076   \n",
       "\n",
       "                                                   item_sequence  \\\n",
       "39    [1761, 1224, 4013, 2066, 2217, 2669, 85, 2079, 4028, 4478]   \n",
       "1611  [1761, 1224, 4013, 2066, 2217, 2669, 85, 2079, 4028, 4478]   \n",
       "\n",
       "                                                                                                              item_sequence_ts  \\\n",
       "39    [1311866699, 1315854766, 1335816422, 1341508406, 1353359858, 1365386054, 1476066169, 1502906493, 1512074789, 1568498076]   \n",
       "1611  [1311866699, 1315854766, 1335816422, 1341508406, 1353359858, 1365386054, 1476066169, 1502906493, 1512074789, 1568498076]   \n",
       "\n",
       "             item_sequence_ts_bucket  main_category  \\\n",
       "39    [9, 9, 8, 8, 8, 8, 8, 7, 7, 6]    Video Games   \n",
       "1611  [9, 9, 8, 8, 8, 8, 8, 7, 7, 6]    Video Games   \n",
       "\n",
       "                                 title  \\\n",
       "39    MLB 10: The Show - Playstation 3   \n",
       "1611          Returnal - PlayStation 5   \n",
       "\n",
       "                                                                                                                                                                                                                                                                                                                                                                                                                                                                                                                                                                                                                                                                                                                                                                                                                                                                                                                                                                                                                                                                                                                                                                                                                                                                                                                                                                                                                                                                                                                                                                                                                                                                                                                                                                                                                                                                                                                                                                                                                                                                                                                                                                                                                                                                                                                                                                                                                                                                                                                                                                                                                                                                                                                                                                                                                                                                                                                                                                                                                                                                                                                                                                                                                                                                                                                                                                                                                                                                                                                                                                                                                                                                                                                                                                                                                                                                                                                                                                                                                                                                                                                                                                                                                                                                                                                                                                                                                                                                                                                                                                                                                                                                                                                                                                                                                                                                                                                                                                                                                                                                                                                                                                                                                                                                                                                                                                                                                                                                                                                                                                                                                                                                                                                                                                                                                                                                                                                                                                                                                                                                                                                                                                                                                                                                                                                                                                                                                                                                                                                                                                                                                                                                                                                                                                                                                                                                                                                                                                                                                                                                                                                                                                                                                                                                                                                                                                                                                                                                                                                                                                                                                                                                                                                                                                                                                                                                                                                                                                                                                                                                                                                                                                                                                                                                                                                                                                                                                                                 description  \\\n",
       "39    [Product description, Welcome to The Show All-Star. The best selling and highest rated baseball franchise is back in MLB 10 The Show throwing you into an unsurpassed baseball experience where big moments come alive. It's all here too; the All New Home Run Derby, MLB All-Star Futures Game, Movie Maker, Catcher Mode, Personalized cheers and yells and Joe Mauer, newly crowned American League MVP, as the new cover athlete., Amazon.com, Welcome to The Show all-star. The best selling and highest rated baseball franchise is back in, MLB 10: The Show, throwing you into an unsurpassed baseball experience where big moments come alive. It’s all here too. In addition to a wealth of improvements to longtime franchise features this newest release includes the return of the Home Run Derby, MLB All-Star Futures Game, Movie Maker, Catcher Mode, Personalized cheers and yells and Joe Mauer, newly crowned American League MVP, as the new cover athlete. So get ready,, The Show, is about to begin and you are leading off. .caption { font-family: Verdana, Helvetica neue, Arial, serif; font-size: 10px; font-weight: bold; font-style: italic; } ul.indent { list-style: inside disc; text-indent: -15px; } table.callout { font-family: verdana; font-size: 11px; line-height: 1. 3em; } td.vgoverview { height: 125px; background: #9DC4D8 url(https://images-na.ssl-images-amazon.com/images/G/01/electronics/detail-page/callout-bg.png) repeat-x; border-left: 1px solid #999999; border-right: 1px solid #999999; padding-left: 20px; padding-right: 20px; padding-bottom: 10px; width: 250px; font-family: verdana; font-size: 12px; }, The return of the Home Run Derby., View larger, ., Game calling from the catcher position., View larger, ., New fielding and pitcher training options., View larger, ., 11 new stadiums and 1,250 new gameplay animations., View larger, ., The Return of Home Run Derby, The arcade style action of the Home Run Derby returns in, MLB 10: The Show, . Available through a variety play options, including season modes and a stand-alone mode that can be selected at any time, Home Run Derby is based on the MLB rules and flow of the actual MLB All-star game. In addition, the MLB All-star Futures Game is also available via season modes in its correct timeframe (just before the HR Derby). Will your Road to The Show player be invited to compete in the Home Run Derby or the Futures Game? Swing for the fences and keep your stats high and you may just get the call as the All-star break approaches., Call the Game as Catcher, The catcher is the brains of any defensive squad on the field, and as such, MLB 10: The Show, lets you test both your baseball IQ and your skills in the crouch as you call the game, one pitch at a time, from behind the plate. Available during Road to The Show, and exhibition game play options, players cultivate their rookie Minor League catcher and bring him up to the Majors where he can lay down signs to your pitcher, offer additional pitch selections if his first pitch call is shaken off and even change signs at will, all via your controller's face buttons. Pitches are called from a unique first-person perspective, after which the camera angle changes to a standard third-person perspective affording a better view of the entire field. This new functionality defines a whole new level of strategy, demanding knowledge of pitches, opposing batters' tendencies and the state of your own pitcher's well-being, as well as the ability to check runners on base and handle and/or block balls that are in the dirt or wild., New Defensive Training Options, No ballplayer becomes a golden glove overnight. With that in mind, MLB 10: The Show, includes new fielding and pitching training modes that augment the existing training functionality built into the game's improved Road to the Show mode. Fielding drills focus both on the basics of player's throwing arm, utilizing the new throw meter, as well as the more advanced combination of throwing and decision-making that players will need during game situations. Pitching training consists of a multi-pronged focus designed to improved control and accuracy. Training in these areas is available in isolated one-on-one battles known as \"Knockout,\" as well as simulated game situations, where goals are clearly defined for each drill., Key Game Features, A Wealth of New Features Including:, A Wealth of New Features Including:, MLB All-star Week consisting of the Home Run Derby and MLB All-star Futures Game.Full online season leagues with better multiplayer functionality.Catcher game calling functionality in certain modes.Movie Maker functionality to create personal highlight reels11 new StadiumsNew fielding and pitching training modesCustom music, fan yells, and chants., MLB All-star Week consisting of the Home Run Derby and MLB All-star Futures Game., MLB All-star Week consisting of the Home Run Derby and MLB All-star Futures Game., Full online season leagues with better multiplayer functionality., Full online season leagues with better multiplayer functionality., Catcher game calling functionality in certain modes., Catcher game calling functionality in certain modes., Movie Maker functionality to create personal highlight reels, Movie Maker functionality to create personal highlight reels, 11 new Stadiums, 11 new Stadiums, New fielding and pitching training modes, New fielding and pitching training modes, Custom music, fan yells, and chants., Custom music, fan yells, and chants., Improved Stadium Realism and Experience - From crowd ambiance to enhanced presentation system, even transitional daylight., Improved Stadium Realism and Experience, - From crowd ambiance to enhanced presentation system, even transitional daylight., Road to the Show v4.0 – Play the way that you want to with multiple new options settings, a rewards/penalty system based on play and a new, more accessible stat tracking system., Road to the Show v4.0, – Play the way that you want to with multiple new options settings, a rewards/penalty system based on play and a new, more accessible stat tracking system., Improved Online Gameplay – This year the online gameplay experience has been vastly improved and will detect and respond better to adverse network conditions along with reduced bandwidth to help the speed and flow of online gameplay., Improved Online Gameplay, – This year the online gameplay experience has been vastly improved and will detect and respond better to adverse network conditions along with reduced bandwidth to help the speed and flow of online gameplay., Full Online Season Leagues – Fully functional online season leagues, save and display MLB Player stats, track player energy, allow for trades/injuries, and offer 40-man roster functionality., Full Online Season Leagues, – Fully functional online season leagues, save and display MLB Player stats, track player energy, allow for trades/injuries, and offer 40-man roster functionality., Real-time Presentations – More than 1,250 new gameplay animations, more than 1,000 new presentation animations, and more than 400 personalized pitcher and batter animations., Real-time Presentations, – More than 1,250 new gameplay animations, more than 1,000 new presentation animations, and more than 400 personalized pitcher and batter animations., New Stadiums Available – The PlayStation 3 version of MLB 10: The Show includes five new Minor League stadiums, as well as classic parks including Forbes Field, Crosley Field, Polo Grounds, Shibe Park, Sportsman Park, and Griffith Stadium., New Stadiums Available, – The PlayStation 3 version of, MLB 10: The Show, includes five new Minor League stadiums, as well as classic parks including Forbes Field, Crosley Field, Polo Grounds, Shibe Park, Sportsman Park, and Griffith Stadium., Additional Features – Additional features include: multiplayer support, in-game messaging, voice chat, custom soundtracks, add-on content and HD support up to 1080p., Additional Features, – Additional features include: multiplayer support, in-game messaging, voice chat, custom soundtracks, add-on content and HD support up to 1080p.]   \n",
       "1611                                                                                                                                                                                                                                                                                                                                                                                                                                                                                                                                                                                                                                                                                                                                                                                                                                                                                                                                                                                                                                                                                                                                                                                                                                                                                                                                                                                                                                                                                                                                                                                                                                                                                                                                                                                                                                                                                                                                                                                                                                                                                                                                                                                                                                                                                                                                                                                                                                                                                                                                                                                                                                                                                                                                                                                                                                                                                                                                                                                                                                                                                                                                                                                                                                                                                                                                                                                                                                                                                                                                                                                                                                                                                                                                                                                                                                                                                                                                                                                                                                                                                                                                                                                                                                                                                                                                                                                                                                                                                                                                                                                                                                                                                                                                                                                                                                                                                                                                                                                                                                                                                                                                                                                                                                                                                                                                                                                                                                                                                                                                                                                                                                                                                                                                                                                                                                                                                                                                                                                                                                                                                                                                                                                                                                                                                                                                                                                                                                                                                                                                                                                                                                                                                                                                                                                                                                                                                                                                                                                                                                                                                                                                                                                                                                                                                                 [After crash-landing on this shape-shifting world, selene must search through the barren landscape of an ancient civilization for her escape. Isolated and alone, she finds herself fighting tooth and nail for survival. Again and again, she's defeated - forced to restart her journey every time she dies. Through relentless roguelike gameplay, you'll discover that just as the planet changes with every cycle, so do the items at your disposal. Every loop offers new combinations, forcing you to push your boundaries and approach combat with a different strategy each time. Brought to life by stunning visual effects, the dark beauty of the decaying world around you is packed with explosive surprises. From high stakes, Bullet hell-fueled combat, to visceral twists and turns through Stark and contrasting environments. You'll explore, discover and fight your way through an unforgiving journey, where mystery stalks your every move. Designed for extreme playability, the procedural world of returnal invites you to dust yourself off in the face of defeat and take on new, evolving challenges with every Rebirth.]   \n",
       "\n",
       "                                                                    categories  \\\n",
       "39    [Video Games, Legacy Systems, PlayStation Systems, PlayStation 3, Games]   \n",
       "1611                                       [Video Games, PlayStation 5, Games]   \n",
       "\n",
       "      price  \n",
       "39    19.71  \n",
       "1611  26.99  \n",
       "\n",
       "[2 rows x 27 columns]"
      ]
     },
     "metadata": {},
     "output_type": "display_data"
    }
   ],
   "source": [
    "user_id = val_df.sample(1)[args.user_col].values[0]\n",
    "# user_id = \"AH4AOFTTDPHPAFAAVFMAF25H2LIQ\"\n",
    "test_df = val_df.loc[lambda df: df[args.user_col].eq(user_id)]\n",
    "with pd.option_context(\"display.max_colwidth\", None):\n",
    "    display(test_df)"
   ]
  },
  {
   "cell_type": "code",
   "execution_count": 24,
   "id": "c48fbc80-eda8-4dff-a246-95f8f2f75082",
   "metadata": {
    "scrolled": true
   },
   "outputs": [
    {
     "name": "stderr",
     "output_type": "stream",
     "text": [
      "\u001b[32m2024-11-10 16:26:14.001\u001b[0m | \u001b[1mINFO    \u001b[0m | \u001b[36m__main__\u001b[0m:\u001b[36m<module>\u001b[0m:\u001b[36m4\u001b[0m - \u001b[1mTest predicting before training with user_id = AEUA6C3BAGAKZFYIEUQKXB74VNIQ and parent_asin = B08QFPS48J\u001b[0m\n"
     ]
    },
    {
     "data": {
      "text/plain": [
       "SequenceRatingPrediction(\n",
       "  (item_embedding): Embedding(4631, 128, padding_idx=4630)\n",
       "  (user_embedding): Embedding(19578, 128)\n",
       "  (gru): GRU(128, 128, batch_first=True)\n",
       "  (relu): ReLU()\n",
       "  (dropout): Dropout(p=0.3, inplace=False)\n",
       "  (fc_rating): Sequential(\n",
       "    (0): Linear(in_features=384, out_features=128, bias=True)\n",
       "    (1): BatchNorm1d(128, eps=1e-05, momentum=0.1, affine=True, track_running_stats=True)\n",
       "    (2): ReLU()\n",
       "    (3): Dropout(p=0.3, inplace=False)\n",
       "    (4): Linear(in_features=128, out_features=1, bias=True)\n",
       "    (5): Sigmoid()\n",
       "  )\n",
       ")"
      ]
     },
     "execution_count": 24,
     "metadata": {},
     "output_type": "execute_result"
    }
   ],
   "source": [
    "test_row = test_df.loc[lambda df: df[args.rating_col].gt(0)].iloc[0]\n",
    "item_id = test_row[args.item_col]\n",
    "item_sequence = test_row[\"item_sequence\"]\n",
    "logger.info(\n",
    "    f\"Test predicting before training with {args.user_col} = {user_id} and {args.item_col} = {item_id}\"\n",
    ")\n",
    "user_indice = idm.get_user_index(user_id)\n",
    "item_indice = idm.get_item_index(item_id)\n",
    "user = torch.tensor([user_indice])\n",
    "item_sequence = torch.tensor([item_sequence])\n",
    "item = torch.tensor([item_indice])\n",
    "\n",
    "model.eval()\n",
    "model.predict(user, item_sequence, item)\n",
    "model.train()"
   ]
  },
  {
   "cell_type": "markdown",
   "id": "c2fd217c-c0c8-4e7c-81fe-6eb36f4729b5",
   "metadata": {},
   "source": [
    "#### Training loop"
   ]
  },
  {
   "cell_type": "markdown",
   "id": "1e9daad4-1365-4e8e-8f73-80ca5513572b",
   "metadata": {},
   "source": [
    "##### Overfit 1 batch"
   ]
  },
  {
   "cell_type": "code",
   "execution_count": null,
   "id": "1a1cd9bd-e2c6-404b-b6ae-b26a7d35a0ba",
   "metadata": {
    "scrolled": true
   },
   "outputs": [
    {
     "name": "stderr",
     "output_type": "stream",
     "text": [
      "GPU available: True (cuda), used: True\n",
      "TPU available: False, using: 0 TPU cores\n",
      "HPU available: False, using: 0 HPUs\n",
      "`Trainer(overfit_batches=1)` was configured so 1 batch will be used.\n",
      "LOCAL_RANK: 0 - CUDA_VISIBLE_DEVICES: [0]\n",
      "\n",
      "  | Name  | Type                     | Params | Mode \n",
      "-----------------------------------------------------------\n",
      "0 | model | SequenceRatingPrediction | 3.2 M  | train\n",
      "-----------------------------------------------------------\n",
      "3.2 M     Trainable params\n",
      "0         Non-trainable params\n",
      "3.2 M     Total params\n",
      "12.990    Total estimated model params size (MB)\n",
      "11        Modules in train mode\n",
      "0         Modules in eval mode\n"
     ]
    },
    {
     "data": {
      "application/vnd.jupyter.widget-view+json": {
       "model_id": "",
       "version_major": 2,
       "version_minor": 0
      },
      "text/plain": [
       "Sanity Checking: |                                                                                            …"
      ]
     },
     "metadata": {},
     "output_type": "display_data"
    },
    {
     "name": "stderr",
     "output_type": "stream",
     "text": [
      "/home/dvquys/frostmourne/recsys-mvp/.venv/lib/python3.11/site-packages/lightning/pytorch/trainer/connectors/data_connector.py:251: UserWarning:\n",
      "\n",
      "You requested to overfit but enabled val dataloader shuffling. We are turning off the val dataloader shuffling for you.\n",
      "\n",
      "/home/dvquys/frostmourne/recsys-mvp/.venv/lib/python3.11/site-packages/lightning/pytorch/trainer/connectors/data_connector.py:424: PossibleUserWarning:\n",
      "\n",
      "The 'val_dataloader' does not have many workers which may be a bottleneck. Consider increasing the value of the `num_workers` argument` to `num_workers=11` in the `DataLoader` to improve performance.\n",
      "\n",
      "/home/dvquys/frostmourne/recsys-mvp/.venv/lib/python3.11/site-packages/lightning/pytorch/trainer/connectors/data_connector.py:251: UserWarning:\n",
      "\n",
      "You requested to overfit but enabled train dataloader shuffling. We are turning off the train dataloader shuffling for you.\n",
      "\n",
      "/home/dvquys/frostmourne/recsys-mvp/.venv/lib/python3.11/site-packages/lightning/pytorch/trainer/connectors/data_connector.py:424: PossibleUserWarning:\n",
      "\n",
      "The 'train_dataloader' does not have many workers which may be a bottleneck. Consider increasing the value of the `num_workers` argument` to `num_workers=11` in the `DataLoader` to improve performance.\n",
      "\n",
      "/home/dvquys/frostmourne/recsys-mvp/.venv/lib/python3.11/site-packages/lightning/pytorch/loops/fit_loop.py:298: PossibleUserWarning:\n",
      "\n",
      "The number of training batches (1) is smaller than the logging interval Trainer(log_every_n_steps=50). Set a lower value for log_every_n_steps if you want to see logs for the training epoch.\n",
      "\n"
     ]
    },
    {
     "data": {
      "application/vnd.jupyter.widget-view+json": {
       "model_id": "180e9b7095154b3783b035f243542be2",
       "version_major": 2,
       "version_minor": 0
      },
      "text/plain": [
       "Training: |                                                                                                   …"
      ]
     },
     "metadata": {},
     "output_type": "display_data"
    },
    {
     "data": {
      "application/vnd.jupyter.widget-view+json": {
       "model_id": "",
       "version_major": 2,
       "version_minor": 0
      },
      "text/plain": [
       "Validation: |                                                                                                 …"
      ]
     },
     "metadata": {},
     "output_type": "display_data"
    },
    {
     "data": {
      "application/vnd.jupyter.widget-view+json": {
       "model_id": "",
       "version_major": 2,
       "version_minor": 0
      },
      "text/plain": [
       "Validation: |                                                                                                 …"
      ]
     },
     "metadata": {},
     "output_type": "display_data"
    },
    {
     "data": {
      "application/vnd.jupyter.widget-view+json": {
       "model_id": "",
       "version_major": 2,
       "version_minor": 0
      },
      "text/plain": [
       "Validation: |                                                                                                 …"
      ]
     },
     "metadata": {},
     "output_type": "display_data"
    },
    {
     "data": {
      "application/vnd.jupyter.widget-view+json": {
       "model_id": "",
       "version_major": 2,
       "version_minor": 0
      },
      "text/plain": [
       "Validation: |                                                                                                 …"
      ]
     },
     "metadata": {},
     "output_type": "display_data"
    },
    {
     "data": {
      "application/vnd.jupyter.widget-view+json": {
       "model_id": "",
       "version_major": 2,
       "version_minor": 0
      },
      "text/plain": [
       "Validation: |                                                                                                 …"
      ]
     },
     "metadata": {},
     "output_type": "display_data"
    },
    {
     "data": {
      "application/vnd.jupyter.widget-view+json": {
       "model_id": "",
       "version_major": 2,
       "version_minor": 0
      },
      "text/plain": [
       "Validation: |                                                                                                 …"
      ]
     },
     "metadata": {},
     "output_type": "display_data"
    },
    {
     "data": {
      "application/vnd.jupyter.widget-view+json": {
       "model_id": "",
       "version_major": 2,
       "version_minor": 0
      },
      "text/plain": [
       "Validation: |                                                                                                 …"
      ]
     },
     "metadata": {},
     "output_type": "display_data"
    },
    {
     "data": {
      "application/vnd.jupyter.widget-view+json": {
       "model_id": "",
       "version_major": 2,
       "version_minor": 0
      },
      "text/plain": [
       "Validation: |                                                                                                 …"
      ]
     },
     "metadata": {},
     "output_type": "display_data"
    },
    {
     "data": {
      "application/vnd.jupyter.widget-view+json": {
       "model_id": "",
       "version_major": 2,
       "version_minor": 0
      },
      "text/plain": [
       "Validation: |                                                                                                 …"
      ]
     },
     "metadata": {},
     "output_type": "display_data"
    },
    {
     "data": {
      "application/vnd.jupyter.widget-view+json": {
       "model_id": "",
       "version_major": 2,
       "version_minor": 0
      },
      "text/plain": [
       "Validation: |                                                                                                 …"
      ]
     },
     "metadata": {},
     "output_type": "display_data"
    },
    {
     "data": {
      "application/vnd.jupyter.widget-view+json": {
       "model_id": "",
       "version_major": 2,
       "version_minor": 0
      },
      "text/plain": [
       "Validation: |                                                                                                 …"
      ]
     },
     "metadata": {},
     "output_type": "display_data"
    },
    {
     "data": {
      "application/vnd.jupyter.widget-view+json": {
       "model_id": "",
       "version_major": 2,
       "version_minor": 0
      },
      "text/plain": [
       "Validation: |                                                                                                 …"
      ]
     },
     "metadata": {},
     "output_type": "display_data"
    },
    {
     "data": {
      "application/vnd.jupyter.widget-view+json": {
       "model_id": "",
       "version_major": 2,
       "version_minor": 0
      },
      "text/plain": [
       "Validation: |                                                                                                 …"
      ]
     },
     "metadata": {},
     "output_type": "display_data"
    },
    {
     "data": {
      "application/vnd.jupyter.widget-view+json": {
       "model_id": "",
       "version_major": 2,
       "version_minor": 0
      },
      "text/plain": [
       "Validation: |                                                                                                 …"
      ]
     },
     "metadata": {},
     "output_type": "display_data"
    },
    {
     "data": {
      "application/vnd.jupyter.widget-view+json": {
       "model_id": "",
       "version_major": 2,
       "version_minor": 0
      },
      "text/plain": [
       "Validation: |                                                                                                 …"
      ]
     },
     "metadata": {},
     "output_type": "display_data"
    },
    {
     "data": {
      "application/vnd.jupyter.widget-view+json": {
       "model_id": "",
       "version_major": 2,
       "version_minor": 0
      },
      "text/plain": [
       "Validation: |                                                                                                 …"
      ]
     },
     "metadata": {},
     "output_type": "display_data"
    },
    {
     "data": {
      "application/vnd.jupyter.widget-view+json": {
       "model_id": "",
       "version_major": 2,
       "version_minor": 0
      },
      "text/plain": [
       "Validation: |                                                                                                 …"
      ]
     },
     "metadata": {},
     "output_type": "display_data"
    },
    {
     "data": {
      "application/vnd.jupyter.widget-view+json": {
       "model_id": "",
       "version_major": 2,
       "version_minor": 0
      },
      "text/plain": [
       "Validation: |                                                                                                 …"
      ]
     },
     "metadata": {},
     "output_type": "display_data"
    },
    {
     "data": {
      "application/vnd.jupyter.widget-view+json": {
       "model_id": "",
       "version_major": 2,
       "version_minor": 0
      },
      "text/plain": [
       "Validation: |                                                                                                 …"
      ]
     },
     "metadata": {},
     "output_type": "display_data"
    },
    {
     "data": {
      "application/vnd.jupyter.widget-view+json": {
       "model_id": "",
       "version_major": 2,
       "version_minor": 0
      },
      "text/plain": [
       "Validation: |                                                                                                 …"
      ]
     },
     "metadata": {},
     "output_type": "display_data"
    },
    {
     "data": {
      "application/vnd.jupyter.widget-view+json": {
       "model_id": "",
       "version_major": 2,
       "version_minor": 0
      },
      "text/plain": [
       "Validation: |                                                                                                 …"
      ]
     },
     "metadata": {},
     "output_type": "display_data"
    },
    {
     "data": {
      "application/vnd.jupyter.widget-view+json": {
       "model_id": "",
       "version_major": 2,
       "version_minor": 0
      },
      "text/plain": [
       "Validation: |                                                                                                 …"
      ]
     },
     "metadata": {},
     "output_type": "display_data"
    },
    {
     "data": {
      "application/vnd.jupyter.widget-view+json": {
       "model_id": "",
       "version_major": 2,
       "version_minor": 0
      },
      "text/plain": [
       "Validation: |                                                                                                 …"
      ]
     },
     "metadata": {},
     "output_type": "display_data"
    },
    {
     "data": {
      "application/vnd.jupyter.widget-view+json": {
       "model_id": "",
       "version_major": 2,
       "version_minor": 0
      },
      "text/plain": [
       "Validation: |                                                                                                 …"
      ]
     },
     "metadata": {},
     "output_type": "display_data"
    },
    {
     "data": {
      "application/vnd.jupyter.widget-view+json": {
       "model_id": "",
       "version_major": 2,
       "version_minor": 0
      },
      "text/plain": [
       "Validation: |                                                                                                 …"
      ]
     },
     "metadata": {},
     "output_type": "display_data"
    },
    {
     "data": {
      "application/vnd.jupyter.widget-view+json": {
       "model_id": "",
       "version_major": 2,
       "version_minor": 0
      },
      "text/plain": [
       "Validation: |                                                                                                 …"
      ]
     },
     "metadata": {},
     "output_type": "display_data"
    },
    {
     "data": {
      "application/vnd.jupyter.widget-view+json": {
       "model_id": "",
       "version_major": 2,
       "version_minor": 0
      },
      "text/plain": [
       "Validation: |                                                                                                 …"
      ]
     },
     "metadata": {},
     "output_type": "display_data"
    },
    {
     "data": {
      "application/vnd.jupyter.widget-view+json": {
       "model_id": "",
       "version_major": 2,
       "version_minor": 0
      },
      "text/plain": [
       "Validation: |                                                                                                 …"
      ]
     },
     "metadata": {},
     "output_type": "display_data"
    },
    {
     "data": {
      "application/vnd.jupyter.widget-view+json": {
       "model_id": "",
       "version_major": 2,
       "version_minor": 0
      },
      "text/plain": [
       "Validation: |                                                                                                 …"
      ]
     },
     "metadata": {},
     "output_type": "display_data"
    },
    {
     "data": {
      "application/vnd.jupyter.widget-view+json": {
       "model_id": "",
       "version_major": 2,
       "version_minor": 0
      },
      "text/plain": [
       "Validation: |                                                                                                 …"
      ]
     },
     "metadata": {},
     "output_type": "display_data"
    },
    {
     "data": {
      "application/vnd.jupyter.widget-view+json": {
       "model_id": "",
       "version_major": 2,
       "version_minor": 0
      },
      "text/plain": [
       "Validation: |                                                                                                 …"
      ]
     },
     "metadata": {},
     "output_type": "display_data"
    },
    {
     "data": {
      "application/vnd.jupyter.widget-view+json": {
       "model_id": "",
       "version_major": 2,
       "version_minor": 0
      },
      "text/plain": [
       "Validation: |                                                                                                 …"
      ]
     },
     "metadata": {},
     "output_type": "display_data"
    },
    {
     "data": {
      "application/vnd.jupyter.widget-view+json": {
       "model_id": "",
       "version_major": 2,
       "version_minor": 0
      },
      "text/plain": [
       "Validation: |                                                                                                 …"
      ]
     },
     "metadata": {},
     "output_type": "display_data"
    },
    {
     "data": {
      "application/vnd.jupyter.widget-view+json": {
       "model_id": "",
       "version_major": 2,
       "version_minor": 0
      },
      "text/plain": [
       "Validation: |                                                                                                 …"
      ]
     },
     "metadata": {},
     "output_type": "display_data"
    },
    {
     "data": {
      "application/vnd.jupyter.widget-view+json": {
       "model_id": "",
       "version_major": 2,
       "version_minor": 0
      },
      "text/plain": [
       "Validation: |                                                                                                 …"
      ]
     },
     "metadata": {},
     "output_type": "display_data"
    },
    {
     "data": {
      "application/vnd.jupyter.widget-view+json": {
       "model_id": "",
       "version_major": 2,
       "version_minor": 0
      },
      "text/plain": [
       "Validation: |                                                                                                 …"
      ]
     },
     "metadata": {},
     "output_type": "display_data"
    },
    {
     "data": {
      "application/vnd.jupyter.widget-view+json": {
       "model_id": "",
       "version_major": 2,
       "version_minor": 0
      },
      "text/plain": [
       "Validation: |                                                                                                 …"
      ]
     },
     "metadata": {},
     "output_type": "display_data"
    },
    {
     "data": {
      "application/vnd.jupyter.widget-view+json": {
       "model_id": "",
       "version_major": 2,
       "version_minor": 0
      },
      "text/plain": [
       "Validation: |                                                                                                 …"
      ]
     },
     "metadata": {},
     "output_type": "display_data"
    },
    {
     "data": {
      "application/vnd.jupyter.widget-view+json": {
       "model_id": "",
       "version_major": 2,
       "version_minor": 0
      },
      "text/plain": [
       "Validation: |                                                                                                 …"
      ]
     },
     "metadata": {},
     "output_type": "display_data"
    },
    {
     "data": {
      "application/vnd.jupyter.widget-view+json": {
       "model_id": "",
       "version_major": 2,
       "version_minor": 0
      },
      "text/plain": [
       "Validation: |                                                                                                 …"
      ]
     },
     "metadata": {},
     "output_type": "display_data"
    },
    {
     "data": {
      "application/vnd.jupyter.widget-view+json": {
       "model_id": "",
       "version_major": 2,
       "version_minor": 0
      },
      "text/plain": [
       "Validation: |                                                                                                 …"
      ]
     },
     "metadata": {},
     "output_type": "display_data"
    },
    {
     "data": {
      "application/vnd.jupyter.widget-view+json": {
       "model_id": "",
       "version_major": 2,
       "version_minor": 0
      },
      "text/plain": [
       "Validation: |                                                                                                 …"
      ]
     },
     "metadata": {},
     "output_type": "display_data"
    },
    {
     "data": {
      "application/vnd.jupyter.widget-view+json": {
       "model_id": "",
       "version_major": 2,
       "version_minor": 0
      },
      "text/plain": [
       "Validation: |                                                                                                 …"
      ]
     },
     "metadata": {},
     "output_type": "display_data"
    },
    {
     "data": {
      "application/vnd.jupyter.widget-view+json": {
       "model_id": "",
       "version_major": 2,
       "version_minor": 0
      },
      "text/plain": [
       "Validation: |                                                                                                 …"
      ]
     },
     "metadata": {},
     "output_type": "display_data"
    },
    {
     "data": {
      "application/vnd.jupyter.widget-view+json": {
       "model_id": "",
       "version_major": 2,
       "version_minor": 0
      },
      "text/plain": [
       "Validation: |                                                                                                 …"
      ]
     },
     "metadata": {},
     "output_type": "display_data"
    },
    {
     "data": {
      "application/vnd.jupyter.widget-view+json": {
       "model_id": "",
       "version_major": 2,
       "version_minor": 0
      },
      "text/plain": [
       "Validation: |                                                                                                 …"
      ]
     },
     "metadata": {},
     "output_type": "display_data"
    },
    {
     "data": {
      "application/vnd.jupyter.widget-view+json": {
       "model_id": "ac57524cd9e44d09b725dcb57e586860",
       "version_major": 2,
       "version_minor": 0
      },
      "text/plain": [
       "Validation: |                                                                                                 …"
      ]
     },
     "metadata": {},
     "output_type": "display_data"
    },
    {
     "data": {
      "application/vnd.jupyter.widget-view+json": {
       "model_id": "a709b0f6add448faba9c717664b69336",
       "version_major": 2,
       "version_minor": 0
      },
      "text/plain": [
       "Validation: |                                                                                                 …"
      ]
     },
     "metadata": {},
     "output_type": "display_data"
    },
    {
     "data": {
      "application/vnd.jupyter.widget-view+json": {
       "model_id": "3f282afad8454786ad53e159236b5c82",
       "version_major": 2,
       "version_minor": 0
      },
      "text/plain": [
       "Validation: |                                                                                                 …"
      ]
     },
     "metadata": {},
     "output_type": "display_data"
    },
    {
     "data": {
      "application/vnd.jupyter.widget-view+json": {
       "model_id": "190489e1095c46519493e3ed7ca77dac",
       "version_major": 2,
       "version_minor": 0
      },
      "text/plain": [
       "Validation: |                                                                                                 …"
      ]
     },
     "metadata": {},
     "output_type": "display_data"
    },
    {
     "data": {
      "application/vnd.jupyter.widget-view+json": {
       "model_id": "e070185e4ec242f48b485fa27778b624",
       "version_major": 2,
       "version_minor": 0
      },
      "text/plain": [
       "Validation: |                                                                                                 …"
      ]
     },
     "metadata": {},
     "output_type": "display_data"
    },
    {
     "data": {
      "application/vnd.jupyter.widget-view+json": {
       "model_id": "14ff129400d84ba0baf548a07c9f6ba3",
       "version_major": 2,
       "version_minor": 0
      },
      "text/plain": [
       "Validation: |                                                                                                 …"
      ]
     },
     "metadata": {},
     "output_type": "display_data"
    },
    {
     "data": {
      "application/vnd.jupyter.widget-view+json": {
       "model_id": "893d8abf813b45dc820e2a1f293da596",
       "version_major": 2,
       "version_minor": 0
      },
      "text/plain": [
       "Validation: |                                                                                                 …"
      ]
     },
     "metadata": {},
     "output_type": "display_data"
    },
    {
     "data": {
      "application/vnd.jupyter.widget-view+json": {
       "model_id": "14b75698fed34f5e88d116415833a63a",
       "version_major": 2,
       "version_minor": 0
      },
      "text/plain": [
       "Validation: |                                                                                                 …"
      ]
     },
     "metadata": {},
     "output_type": "display_data"
    },
    {
     "data": {
      "application/vnd.jupyter.widget-view+json": {
       "model_id": "f278080af3bd4dccb2083c31cb9bce4c",
       "version_major": 2,
       "version_minor": 0
      },
      "text/plain": [
       "Validation: |                                                                                                 …"
      ]
     },
     "metadata": {},
     "output_type": "display_data"
    },
    {
     "data": {
      "application/vnd.jupyter.widget-view+json": {
       "model_id": "cc0f21e59e99480893a49ebaa12cd471",
       "version_major": 2,
       "version_minor": 0
      },
      "text/plain": [
       "Validation: |                                                                                                 …"
      ]
     },
     "metadata": {},
     "output_type": "display_data"
    },
    {
     "data": {
      "application/vnd.jupyter.widget-view+json": {
       "model_id": "ec49f1a32a8042bc8758cbcc4501c706",
       "version_major": 2,
       "version_minor": 0
      },
      "text/plain": [
       "Validation: |                                                                                                 …"
      ]
     },
     "metadata": {},
     "output_type": "display_data"
    },
    {
     "data": {
      "application/vnd.jupyter.widget-view+json": {
       "model_id": "ea61e0e33fb549948e86dd52fa873b0f",
       "version_major": 2,
       "version_minor": 0
      },
      "text/plain": [
       "Validation: |                                                                                                 …"
      ]
     },
     "metadata": {},
     "output_type": "display_data"
    },
    {
     "data": {
      "application/vnd.jupyter.widget-view+json": {
       "model_id": "cdafe9f81f0d4ba9888dfe0dcf9c7931",
       "version_major": 2,
       "version_minor": 0
      },
      "text/plain": [
       "Validation: |                                                                                                 …"
      ]
     },
     "metadata": {},
     "output_type": "display_data"
    },
    {
     "data": {
      "application/vnd.jupyter.widget-view+json": {
       "model_id": "10e566b1fbc04342962794ee1e9c4bf6",
       "version_major": 2,
       "version_minor": 0
      },
      "text/plain": [
       "Validation: |                                                                                                 …"
      ]
     },
     "metadata": {},
     "output_type": "display_data"
    },
    {
     "data": {
      "application/vnd.jupyter.widget-view+json": {
       "model_id": "1b08e0d3df7947bc8b42faa342fa2ecb",
       "version_major": 2,
       "version_minor": 0
      },
      "text/plain": [
       "Validation: |                                                                                                 …"
      ]
     },
     "metadata": {},
     "output_type": "display_data"
    },
    {
     "data": {
      "application/vnd.jupyter.widget-view+json": {
       "model_id": "3acc8a0ae8124ebb9aed22b51a229ab2",
       "version_major": 2,
       "version_minor": 0
      },
      "text/plain": [
       "Validation: |                                                                                                 …"
      ]
     },
     "metadata": {},
     "output_type": "display_data"
    },
    {
     "data": {
      "application/vnd.jupyter.widget-view+json": {
       "model_id": "41f322c6a06f4c65a20d433fac4574e0",
       "version_major": 2,
       "version_minor": 0
      },
      "text/plain": [
       "Validation: |                                                                                                 …"
      ]
     },
     "metadata": {},
     "output_type": "display_data"
    },
    {
     "data": {
      "application/vnd.jupyter.widget-view+json": {
       "model_id": "32b881b6a7b5477d8272adc2ee5047f0",
       "version_major": 2,
       "version_minor": 0
      },
      "text/plain": [
       "Validation: |                                                                                                 …"
      ]
     },
     "metadata": {},
     "output_type": "display_data"
    },
    {
     "data": {
      "application/vnd.jupyter.widget-view+json": {
       "model_id": "702ef5025f5b45c3a5f5e911383db7ae",
       "version_major": 2,
       "version_minor": 0
      },
      "text/plain": [
       "Validation: |                                                                                                 …"
      ]
     },
     "metadata": {},
     "output_type": "display_data"
    },
    {
     "data": {
      "application/vnd.jupyter.widget-view+json": {
       "model_id": "b13c7e6b741845bf8146ddfa8229e277",
       "version_major": 2,
       "version_minor": 0
      },
      "text/plain": [
       "Validation: |                                                                                                 …"
      ]
     },
     "metadata": {},
     "output_type": "display_data"
    },
    {
     "data": {
      "application/vnd.jupyter.widget-view+json": {
       "model_id": "57d0f918ea494189acc67ca523839b6a",
       "version_major": 2,
       "version_minor": 0
      },
      "text/plain": [
       "Validation: |                                                                                                 …"
      ]
     },
     "metadata": {},
     "output_type": "display_data"
    },
    {
     "data": {
      "application/vnd.jupyter.widget-view+json": {
       "model_id": "cb2841858f3c4e84833a1bfa47054531",
       "version_major": 2,
       "version_minor": 0
      },
      "text/plain": [
       "Validation: |                                                                                                 …"
      ]
     },
     "metadata": {},
     "output_type": "display_data"
    },
    {
     "data": {
      "application/vnd.jupyter.widget-view+json": {
       "model_id": "643a3e6dd3e74ab4ba45117b0ef31503",
       "version_major": 2,
       "version_minor": 0
      },
      "text/plain": [
       "Validation: |                                                                                                 …"
      ]
     },
     "metadata": {},
     "output_type": "display_data"
    },
    {
     "data": {
      "application/vnd.jupyter.widget-view+json": {
       "model_id": "bf8e86a09d9f42f5ab71f9c2081a473b",
       "version_major": 2,
       "version_minor": 0
      },
      "text/plain": [
       "Validation: |                                                                                                 …"
      ]
     },
     "metadata": {},
     "output_type": "display_data"
    },
    {
     "data": {
      "application/vnd.jupyter.widget-view+json": {
       "model_id": "89b66e0e01434d7fa7230a163da2da37",
       "version_major": 2,
       "version_minor": 0
      },
      "text/plain": [
       "Validation: |                                                                                                 …"
      ]
     },
     "metadata": {},
     "output_type": "display_data"
    },
    {
     "data": {
      "application/vnd.jupyter.widget-view+json": {
       "model_id": "86d1c5242f404bb1a1c6ee9098a801c1",
       "version_major": 2,
       "version_minor": 0
      },
      "text/plain": [
       "Validation: |                                                                                                 …"
      ]
     },
     "metadata": {},
     "output_type": "display_data"
    },
    {
     "data": {
      "application/vnd.jupyter.widget-view+json": {
       "model_id": "c9300c473a9f43ad8244ebb3e5dd517a",
       "version_major": 2,
       "version_minor": 0
      },
      "text/plain": [
       "Validation: |                                                                                                 …"
      ]
     },
     "metadata": {},
     "output_type": "display_data"
    },
    {
     "data": {
      "application/vnd.jupyter.widget-view+json": {
       "model_id": "501c40fe32664bdea2cfc23219adf055",
       "version_major": 2,
       "version_minor": 0
      },
      "text/plain": [
       "Validation: |                                                                                                 …"
      ]
     },
     "metadata": {},
     "output_type": "display_data"
    },
    {
     "data": {
      "application/vnd.jupyter.widget-view+json": {
       "model_id": "92a0358d9a914e6dbb53bbd00ebd720f",
       "version_major": 2,
       "version_minor": 0
      },
      "text/plain": [
       "Validation: |                                                                                                 …"
      ]
     },
     "metadata": {},
     "output_type": "display_data"
    },
    {
     "data": {
      "application/vnd.jupyter.widget-view+json": {
       "model_id": "5d3a4d2772e4409595dcd3b6ffca268d",
       "version_major": 2,
       "version_minor": 0
      },
      "text/plain": [
       "Validation: |                                                                                                 …"
      ]
     },
     "metadata": {},
     "output_type": "display_data"
    },
    {
     "data": {
      "application/vnd.jupyter.widget-view+json": {
       "model_id": "375aff13cdc843319a74ff3c7b904137",
       "version_major": 2,
       "version_minor": 0
      },
      "text/plain": [
       "Validation: |                                                                                                 …"
      ]
     },
     "metadata": {},
     "output_type": "display_data"
    },
    {
     "data": {
      "application/vnd.jupyter.widget-view+json": {
       "model_id": "fda71568af4a4e6eb01962d9d6b32148",
       "version_major": 2,
       "version_minor": 0
      },
      "text/plain": [
       "Validation: |                                                                                                 …"
      ]
     },
     "metadata": {},
     "output_type": "display_data"
    },
    {
     "data": {
      "application/vnd.jupyter.widget-view+json": {
       "model_id": "c67d7fecacce4254b9c47a1e7a6fd005",
       "version_major": 2,
       "version_minor": 0
      },
      "text/plain": [
       "Validation: |                                                                                                 …"
      ]
     },
     "metadata": {},
     "output_type": "display_data"
    },
    {
     "data": {
      "application/vnd.jupyter.widget-view+json": {
       "model_id": "72260816e7c3418d9f9f849c4c885f39",
       "version_major": 2,
       "version_minor": 0
      },
      "text/plain": [
       "Validation: |                                                                                                 …"
      ]
     },
     "metadata": {},
     "output_type": "display_data"
    },
    {
     "data": {
      "application/vnd.jupyter.widget-view+json": {
       "model_id": "e729e360a0b74980ae622ebc8a898136",
       "version_major": 2,
       "version_minor": 0
      },
      "text/plain": [
       "Validation: |                                                                                                 …"
      ]
     },
     "metadata": {},
     "output_type": "display_data"
    },
    {
     "data": {
      "application/vnd.jupyter.widget-view+json": {
       "model_id": "0ac0d6ae6d6d4af0afba9f7be6a0aa87",
       "version_major": 2,
       "version_minor": 0
      },
      "text/plain": [
       "Validation: |                                                                                                 …"
      ]
     },
     "metadata": {},
     "output_type": "display_data"
    },
    {
     "data": {
      "application/vnd.jupyter.widget-view+json": {
       "model_id": "4ff84dde9aec411f8518f21428aaf4a3",
       "version_major": 2,
       "version_minor": 0
      },
      "text/plain": [
       "Validation: |                                                                                                 …"
      ]
     },
     "metadata": {},
     "output_type": "display_data"
    },
    {
     "data": {
      "application/vnd.jupyter.widget-view+json": {
       "model_id": "6f95324f2b5940bb8d443e1c845cd992",
       "version_major": 2,
       "version_minor": 0
      },
      "text/plain": [
       "Validation: |                                                                                                 …"
      ]
     },
     "metadata": {},
     "output_type": "display_data"
    },
    {
     "data": {
      "application/vnd.jupyter.widget-view+json": {
       "model_id": "750518f2f2e24f06857460a2cbda13f2",
       "version_major": 2,
       "version_minor": 0
      },
      "text/plain": [
       "Validation: |                                                                                                 …"
      ]
     },
     "metadata": {},
     "output_type": "display_data"
    },
    {
     "data": {
      "application/vnd.jupyter.widget-view+json": {
       "model_id": "0c88bec1c3de4cebb67fee6ed1b9aa89",
       "version_major": 2,
       "version_minor": 0
      },
      "text/plain": [
       "Validation: |                                                                                                 …"
      ]
     },
     "metadata": {},
     "output_type": "display_data"
    },
    {
     "data": {
      "application/vnd.jupyter.widget-view+json": {
       "model_id": "cbe5fdf7ff0f4950985cd7c8feb724b5",
       "version_major": 2,
       "version_minor": 0
      },
      "text/plain": [
       "Validation: |                                                                                                 …"
      ]
     },
     "metadata": {},
     "output_type": "display_data"
    },
    {
     "data": {
      "application/vnd.jupyter.widget-view+json": {
       "model_id": "b627ba2ca504421ca42714a69557d07c",
       "version_major": 2,
       "version_minor": 0
      },
      "text/plain": [
       "Validation: |                                                                                                 …"
      ]
     },
     "metadata": {},
     "output_type": "display_data"
    },
    {
     "data": {
      "application/vnd.jupyter.widget-view+json": {
       "model_id": "bf07ea3eeed843c396e11994ea2f646e",
       "version_major": 2,
       "version_minor": 0
      },
      "text/plain": [
       "Validation: |                                                                                                 …"
      ]
     },
     "metadata": {},
     "output_type": "display_data"
    },
    {
     "data": {
      "application/vnd.jupyter.widget-view+json": {
       "model_id": "93250d74a4844a278926aaf2cf111c05",
       "version_major": 2,
       "version_minor": 0
      },
      "text/plain": [
       "Validation: |                                                                                                 …"
      ]
     },
     "metadata": {},
     "output_type": "display_data"
    },
    {
     "data": {
      "application/vnd.jupyter.widget-view+json": {
       "model_id": "aa00ba3e1c3040bd8fea3e3d5f188228",
       "version_major": 2,
       "version_minor": 0
      },
      "text/plain": [
       "Validation: |                                                                                                 …"
      ]
     },
     "metadata": {},
     "output_type": "display_data"
    },
    {
     "data": {
      "application/vnd.jupyter.widget-view+json": {
       "model_id": "dc83c142fe44473bbbb33e3ad3c94a60",
       "version_major": 2,
       "version_minor": 0
      },
      "text/plain": [
       "Validation: |                                                                                                 …"
      ]
     },
     "metadata": {},
     "output_type": "display_data"
    },
    {
     "data": {
      "application/vnd.jupyter.widget-view+json": {
       "model_id": "a923557cb39f492bb830ce5ce3211746",
       "version_major": 2,
       "version_minor": 0
      },
      "text/plain": [
       "Validation: |                                                                                                 …"
      ]
     },
     "metadata": {},
     "output_type": "display_data"
    },
    {
     "data": {
      "application/vnd.jupyter.widget-view+json": {
       "model_id": "953783071f074251a61a7420c05b92d5",
       "version_major": 2,
       "version_minor": 0
      },
      "text/plain": [
       "Validation: |                                                                                                 …"
      ]
     },
     "metadata": {},
     "output_type": "display_data"
    },
    {
     "data": {
      "application/vnd.jupyter.widget-view+json": {
       "model_id": "2590d233f0d448dd9c5e97c50364e7af",
       "version_major": 2,
       "version_minor": 0
      },
      "text/plain": [
       "Validation: |                                                                                                 …"
      ]
     },
     "metadata": {},
     "output_type": "display_data"
    },
    {
     "data": {
      "application/vnd.jupyter.widget-view+json": {
       "model_id": "2e010cb8633e46ef91a2f83ccc88c271",
       "version_major": 2,
       "version_minor": 0
      },
      "text/plain": [
       "Validation: |                                                                                                 …"
      ]
     },
     "metadata": {},
     "output_type": "display_data"
    },
    {
     "data": {
      "application/vnd.jupyter.widget-view+json": {
       "model_id": "9302c82081d84d929bddac9b0d67dae3",
       "version_major": 2,
       "version_minor": 0
      },
      "text/plain": [
       "Validation: |                                                                                                 …"
      ]
     },
     "metadata": {},
     "output_type": "display_data"
    },
    {
     "data": {
      "application/vnd.jupyter.widget-view+json": {
       "model_id": "19158a4e33054098af14316bc2253d15",
       "version_major": 2,
       "version_minor": 0
      },
      "text/plain": [
       "Validation: |                                                                                                 …"
      ]
     },
     "metadata": {},
     "output_type": "display_data"
    },
    {
     "data": {
      "application/vnd.jupyter.widget-view+json": {
       "model_id": "24d6f991b1c24b22a65c26e597cfcfbf",
       "version_major": 2,
       "version_minor": 0
      },
      "text/plain": [
       "Validation: |                                                                                                 …"
      ]
     },
     "metadata": {},
     "output_type": "display_data"
    },
    {
     "data": {
      "application/vnd.jupyter.widget-view+json": {
       "model_id": "eebc04762c2b4867ba914981ca031597",
       "version_major": 2,
       "version_minor": 0
      },
      "text/plain": [
       "Validation: |                                                                                                 …"
      ]
     },
     "metadata": {},
     "output_type": "display_data"
    },
    {
     "name": "stderr",
     "output_type": "stream",
     "text": [
      "`Trainer.fit` stopped: `max_epochs=100` reached.\n",
      "\u001b[32m2024-11-10 16:26:20.998\u001b[0m | \u001b[1mINFO    \u001b[0m | \u001b[36msrc.sequence.trainer\u001b[0m:\u001b[36mon_fit_end\u001b[0m:\u001b[36m127\u001b[0m - \u001b[1mLogging classification metrics...\u001b[0m\n",
      "\u001b[32m2024-11-10 16:26:38.399\u001b[0m | \u001b[1mINFO    \u001b[0m | \u001b[36m__main__\u001b[0m:\u001b[36m<module>\u001b[0m:\u001b[36m29\u001b[0m - \u001b[1mLogs available at /home/dvquys/frostmourne/recsys-mvp/notebooks/data/002-try-binary/logs/overfit/lightning_logs/version_2\u001b[0m\n"
     ]
    }
   ],
   "source": [
    "early_stopping = EarlyStopping(\n",
    "    monitor=\"val_loss\", patience=10, mode=\"min\", verbose=False\n",
    ")\n",
    "\n",
    "model = init_model(n_users, n_items, args.embedding_dim, dropout=0)\n",
    "lit_model = LitSequenceRatingPrediction(\n",
    "    model,\n",
    "    learning_rate=args.learning_rate,\n",
    "    l2_reg=0.0,\n",
    "    log_dir=args.notebook_persist_dp,\n",
    "    accelerator=args.device,\n",
    ")\n",
    "\n",
    "log_dir = f\"{args.notebook_persist_dp}/logs/overfit\"\n",
    "\n",
    "# train model\n",
    "trainer = L.Trainer(\n",
    "    default_root_dir=log_dir,\n",
    "    accelerator=args.device if args.device else \"auto\",\n",
    "    max_epochs=100,\n",
    "    overfit_batches=1,\n",
    "    callbacks=[early_stopping],\n",
    ")\n",
    "trainer.fit(\n",
    "    model=lit_model,\n",
    "    train_dataloaders=train_loader,\n",
    "    val_dataloaders=train_loader,\n",
    ")\n",
    "logger.info(f\"Logs available at {trainer.log_dir}\")"
   ]
  },
  {
   "cell_type": "code",
   "execution_count": 26,
   "id": "b2cc9ae0-a993-4815-bebd-85cc51e68e65",
   "metadata": {},
   "outputs": [
    {
     "data": {
      "text/html": [
       "\n",
       "      <iframe id=\"tensorboard-frame-930c8d2ae7ca53bb\" width=\"100%\" height=\"800\" frameborder=\"0\">\n",
       "      </iframe>\n",
       "      <script>\n",
       "        (function() {\n",
       "          const frame = document.getElementById(\"tensorboard-frame-930c8d2ae7ca53bb\");\n",
       "          const url = new URL(\"/\", window.location);\n",
       "          const port = 6006;\n",
       "          if (port) {\n",
       "            url.port = port;\n",
       "          }\n",
       "          frame.src = url;\n",
       "        })();\n",
       "      </script>\n",
       "    "
      ],
      "text/plain": [
       "<IPython.core.display.HTML object>"
      ]
     },
     "metadata": {},
     "output_type": "display_data"
    }
   ],
   "source": [
    "%tensorboard --logdir $trainer.log_dir"
   ]
  },
  {
   "cell_type": "markdown",
   "id": "65c7e4af-5c66-454e-9e2c-2ca134f4e1cf",
   "metadata": {},
   "source": [
    "##### Fit on all data"
   ]
  },
  {
   "cell_type": "code",
   "execution_count": null,
   "id": "6fef36c3-5263-4d91-8d7f-364d45c20719",
   "metadata": {
    "scrolled": true
   },
   "outputs": [
    {
     "name": "stderr",
     "output_type": "stream",
     "text": [
      "GPU available: True (cuda), used: True\n",
      "TPU available: False, using: 0 TPU cores\n",
      "HPU available: False, using: 0 HPUs\n",
      "/home/dvquys/frostmourne/recsys-mvp/.venv/lib/python3.11/site-packages/lightning/pytorch/callbacks/model_checkpoint.py:654: UserWarning:\n",
      "\n",
      "Checkpoint directory /home/dvquys/frostmourne/recsys-mvp/notebooks/data/002-try-binary/checkpoints exists and is not empty.\n",
      "\n",
      "LOCAL_RANK: 0 - CUDA_VISIBLE_DEVICES: [0]\n",
      "\n",
      "  | Name  | Type                     | Params | Mode \n",
      "-----------------------------------------------------------\n",
      "0 | model | SequenceRatingPrediction | 3.2 M  | train\n",
      "-----------------------------------------------------------\n",
      "3.2 M     Trainable params\n",
      "0         Non-trainable params\n",
      "3.2 M     Total params\n",
      "12.990    Total estimated model params size (MB)\n",
      "11        Modules in train mode\n",
      "0         Modules in eval mode\n"
     ]
    },
    {
     "data": {
      "application/vnd.jupyter.widget-view+json": {
       "model_id": "",
       "version_major": 2,
       "version_minor": 0
      },
      "text/plain": [
       "Sanity Checking: |                                                                                            …"
      ]
     },
     "metadata": {},
     "output_type": "display_data"
    },
    {
     "name": "stderr",
     "output_type": "stream",
     "text": [
      "/home/dvquys/frostmourne/recsys-mvp/.venv/lib/python3.11/site-packages/lightning/pytorch/trainer/connectors/data_connector.py:424: PossibleUserWarning:\n",
      "\n",
      "The 'val_dataloader' does not have many workers which may be a bottleneck. Consider increasing the value of the `num_workers` argument` to `num_workers=11` in the `DataLoader` to improve performance.\n",
      "\n",
      "/home/dvquys/frostmourne/recsys-mvp/.venv/lib/python3.11/site-packages/lightning/pytorch/trainer/connectors/data_connector.py:424: PossibleUserWarning:\n",
      "\n",
      "The 'train_dataloader' does not have many workers which may be a bottleneck. Consider increasing the value of the `num_workers` argument` to `num_workers=11` in the `DataLoader` to improve performance.\n",
      "\n"
     ]
    },
    {
     "data": {
      "application/vnd.jupyter.widget-view+json": {
       "model_id": "df59cc2783914e63afcb90bcce6bd159",
       "version_major": 2,
       "version_minor": 0
      },
      "text/plain": [
       "Training: |                                                                                                   …"
      ]
     },
     "metadata": {},
     "output_type": "display_data"
    },
    {
     "data": {
      "application/vnd.jupyter.widget-view+json": {
       "model_id": "",
       "version_major": 2,
       "version_minor": 0
      },
      "text/plain": [
       "Validation: |                                                                                                 …"
      ]
     },
     "metadata": {},
     "output_type": "display_data"
    },
    {
     "name": "stderr",
     "output_type": "stream",
     "text": [
      "`Trainer.fit` stopped: `max_epochs=1` reached.\n",
      "\u001b[32m2024-11-10 16:26:59.710\u001b[0m | \u001b[1mINFO    \u001b[0m | \u001b[36msrc.sequence.trainer\u001b[0m:\u001b[36mon_fit_end\u001b[0m:\u001b[36m127\u001b[0m - \u001b[1mLogging classification metrics...\u001b[0m\n",
      "\u001b[32m2024-11-10 16:27:00.544\u001b[0m | \u001b[1mINFO    \u001b[0m | \u001b[36msrc.sequence.trainer\u001b[0m:\u001b[36mon_fit_end\u001b[0m:\u001b[36m130\u001b[0m - \u001b[1mLogging ranking metrics...\u001b[0m\n"
     ]
    },
    {
     "data": {
      "application/vnd.jupyter.widget-view+json": {
       "model_id": "0a98efdadb874da990b0284ba4e3fc76",
       "version_major": 2,
       "version_minor": 0
      },
      "text/plain": [
       "Generating recommendations:   0%|          | 0/177 [00:00<?, ?it/s]"
      ]
     },
     "metadata": {},
     "output_type": "display_data"
    },
    {
     "name": "stderr",
     "output_type": "stream",
     "text": [
      "/home/dvquys/frostmourne/recsys-mvp/.venv/lib/python3.11/site-packages/evidently/metrics/recsys/f_beta_top_k.py:64: RuntimeWarning:\n",
      "\n",
      "invalid value encountered in divide\n",
      "\n",
      "2024/11/10 16:27:07 INFO mlflow.tracking._tracking_service.client: 🏃 View run 002-try-binary at: http://localhost:5002/#/experiments/2/runs/36a66aac50dd4c9ba306cc8176bca28e.\n",
      "2024/11/10 16:27:07 INFO mlflow.tracking._tracking_service.client: 🧪 View experiment at: http://localhost:5002/#/experiments/2.\n"
     ]
    }
   ],
   "source": [
    "# papermill_description=fit-model\n",
    "early_stopping = EarlyStopping(\n",
    "    monitor=\"val_loss\", patience=args.early_stopping_patience, mode=\"min\", verbose=False\n",
    ")\n",
    "\n",
    "checkpoint_callback = ModelCheckpoint(\n",
    "    dirpath=f\"{args.notebook_persist_dp}/checkpoints\",\n",
    "    filename=\"best-checkpoint\",\n",
    "    save_top_k=1,\n",
    "    monitor=\"val_loss\",\n",
    "    mode=\"min\",\n",
    ")\n",
    "\n",
    "model = init_model(\n",
    "    n_users,\n",
    "    n_items,\n",
    "    args.embedding_dim,\n",
    "    dropout=args.dropout,\n",
    "    item_embedding=pretrained_item_embedding,\n",
    ")\n",
    "lit_model = LitSequenceRatingPrediction(\n",
    "    model,\n",
    "    learning_rate=args.learning_rate,\n",
    "    l2_reg=args.l2_reg,\n",
    "    log_dir=args.notebook_persist_dp,\n",
    "    evaluate_ranking=True,\n",
    "    idm=idm,\n",
    "    args=args,\n",
    "    accelerator=args.device,\n",
    ")\n",
    "\n",
    "log_dir = f\"{args.notebook_persist_dp}/logs/run\"\n",
    "\n",
    "# train model\n",
    "trainer = L.Trainer(\n",
    "    default_root_dir=log_dir,\n",
    "    max_epochs=args.max_epochs,\n",
    "    callbacks=[early_stopping, checkpoint_callback],\n",
    "    accelerator=args.device if args.device else \"auto\",\n",
    "    logger=args._mlf_logger if args.log_to_mlflow else None,\n",
    ")\n",
    "trainer.fit(\n",
    "    model=lit_model,\n",
    "    train_dataloaders=train_loader,\n",
    "    val_dataloaders=val_loader,\n",
    ")"
   ]
  },
  {
   "cell_type": "code",
   "execution_count": 29,
   "id": "af44bf35-e7c7-4718-97b8-238e89b7f3f0",
   "metadata": {
    "editable": true,
    "scrolled": true,
    "slideshow": {
     "slide_type": ""
    },
    "tags": []
   },
   "outputs": [
    {
     "name": "stderr",
     "output_type": "stream",
     "text": [
      "\u001b[32m2024-11-10 16:27:08.694\u001b[0m | \u001b[1mINFO    \u001b[0m | \u001b[36m__main__\u001b[0m:\u001b[36m<module>\u001b[0m:\u001b[36m1\u001b[0m - \u001b[1mTest predicting after training with user_id = AEUA6C3BAGAKZFYIEUQKXB74VNIQ and parent_asin = B08QFPS48J\u001b[0m\n"
     ]
    },
    {
     "data": {
      "text/plain": [
       "SequenceRatingPrediction(\n",
       "  (item_embedding): Embedding(4631, 128, padding_idx=4630)\n",
       "  (user_embedding): Embedding(19578, 128)\n",
       "  (gru): GRU(128, 128, batch_first=True)\n",
       "  (relu): ReLU()\n",
       "  (dropout): Dropout(p=0.3, inplace=False)\n",
       "  (fc_rating): Sequential(\n",
       "    (0): Linear(in_features=384, out_features=128, bias=True)\n",
       "    (1): BatchNorm1d(128, eps=1e-05, momentum=0.1, affine=True, track_running_stats=True)\n",
       "    (2): ReLU()\n",
       "    (3): Dropout(p=0.3, inplace=False)\n",
       "    (4): Linear(in_features=128, out_features=1, bias=True)\n",
       "    (5): Sigmoid()\n",
       "  )\n",
       ")"
      ]
     },
     "execution_count": 29,
     "metadata": {},
     "output_type": "execute_result"
    }
   ],
   "source": [
    "logger.info(\n",
    "    f\"Test predicting after training with {args.user_col} = {user_id} and {args.item_col} = {item_id}\"\n",
    ")\n",
    "model.eval()\n",
    "model = model.to(user.device)\n",
    "model.predict(user, item_sequence, item)\n",
    "model.train()"
   ]
  },
  {
   "cell_type": "markdown",
   "id": "f8e1dd22-bcb9-4582-96d0-30acc4e8b790",
   "metadata": {
    "editable": true,
    "slideshow": {
     "slide_type": ""
    },
    "tags": []
   },
   "source": [
    "# Load best checkpoint"
   ]
  },
  {
   "cell_type": "code",
   "execution_count": 30,
   "id": "092427a8-ac4e-4752-a0ee-10729b6e563c",
   "metadata": {
    "scrolled": true
   },
   "outputs": [
    {
     "name": "stderr",
     "output_type": "stream",
     "text": [
      "\u001b[32m2024-11-10 16:27:09.502\u001b[0m | \u001b[1mINFO    \u001b[0m | \u001b[36m__main__\u001b[0m:\u001b[36m<module>\u001b[0m:\u001b[36m1\u001b[0m - \u001b[1mLoading best checkpoint from /home/dvquys/frostmourne/recsys-mvp/notebooks/data/002-try-binary/checkpoints/best-checkpoint-v2.ckpt...\u001b[0m\n"
     ]
    }
   ],
   "source": [
    "logger.info(f\"Loading best checkpoint from {checkpoint_callback.best_model_path}...\")\n",
    "args.best_checkpoint_path = checkpoint_callback.best_model_path\n",
    "\n",
    "best_trainer = LitSequenceRatingPrediction.load_from_checkpoint(\n",
    "    checkpoint_callback.best_model_path,\n",
    "    model=init_model(n_users, n_items, args.embedding_dim, dropout=0),\n",
    ")"
   ]
  },
  {
   "cell_type": "code",
   "execution_count": 31,
   "id": "e68989e7-cd28-4cb3-9a28-5bd477bb67c4",
   "metadata": {},
   "outputs": [],
   "source": [
    "best_model = best_trainer.model.to(lit_model.device)"
   ]
  },
  {
   "cell_type": "code",
   "execution_count": 32,
   "id": "72062d94-6ee8-480f-b7c6-9dcae2ceeb8b",
   "metadata": {
    "scrolled": true
   },
   "outputs": [
    {
     "data": {
      "text/plain": [
       "SequenceRatingPrediction(\n",
       "  (item_embedding): Embedding(4631, 128, padding_idx=4630)\n",
       "  (user_embedding): Embedding(19578, 128)\n",
       "  (gru): GRU(128, 128, batch_first=True)\n",
       "  (relu): ReLU()\n",
       "  (dropout): Dropout(p=0, inplace=False)\n",
       "  (fc_rating): Sequential(\n",
       "    (0): Linear(in_features=384, out_features=128, bias=True)\n",
       "    (1): BatchNorm1d(128, eps=1e-05, momentum=0.1, affine=True, track_running_stats=True)\n",
       "    (2): ReLU()\n",
       "    (3): Dropout(p=0, inplace=False)\n",
       "    (4): Linear(in_features=128, out_features=1, bias=True)\n",
       "    (5): Sigmoid()\n",
       "  )\n",
       ")"
      ]
     },
     "execution_count": 32,
     "metadata": {},
     "output_type": "execute_result"
    }
   ],
   "source": [
    "best_model.eval()\n",
    "best_model.predict(user, item_sequence, item)\n",
    "best_model.train()"
   ]
  },
  {
   "cell_type": "markdown",
   "id": "26afc39d-5cbd-4ea4-9484-f6419b460bde",
   "metadata": {
    "scrolled": true
   },
   "source": [
    "### Persist id mapping"
   ]
  },
  {
   "cell_type": "code",
   "execution_count": 33,
   "id": "275bcb81-bf50-4757-9e63-5c7a317b276f",
   "metadata": {},
   "outputs": [],
   "source": [
    "if args.log_to_mlflow:\n",
    "    # Persist id_mapping so that at inference we can predict based on item_ids (string) instead of item_index\n",
    "    run_id = trainer.logger.run_id\n",
    "    mlf_client = trainer.logger.experiment\n",
    "    mlf_client.log_artifact(run_id, idm_fp)"
   ]
  },
  {
   "cell_type": "markdown",
   "id": "73a53735-cada-4b16-b6ec-b958e20d8093",
   "metadata": {},
   "source": [
    "### Wrap inference function and register best checkpoint as MLflow model"
   ]
  },
  {
   "cell_type": "code",
   "execution_count": 34,
   "id": "fc1da4ca-1616-4f57-99fb-cb851c535a57",
   "metadata": {},
   "outputs": [],
   "source": [
    "inferrer = SequenceRatingPredictionInferenceWrapper(best_model)"
   ]
  },
  {
   "cell_type": "code",
   "execution_count": 35,
   "id": "a21791a9-d5fc-4abe-bc3c-820aba9f0759",
   "metadata": {},
   "outputs": [
    {
     "data": {
      "text/plain": [
       "array([0.5575273], dtype=float32)"
      ]
     },
     "execution_count": 35,
     "metadata": {},
     "output_type": "execute_result"
    }
   ],
   "source": [
    "sample_input = {\n",
    "    \"user_ids\": [idm.get_user_id(0)],\n",
    "    \"item_sequences\": [[idm.get_item_id(0), idm.get_item_id(1)]],\n",
    "    \"item_ids\": [idm.get_item_id(0)],\n",
    "}\n",
    "sample_output = inferrer.infer([0], [[0, 1]], [0])\n",
    "sample_output"
   ]
  },
  {
   "cell_type": "code",
   "execution_count": 36,
   "id": "de2c043a-f777-4ade-ab80-cfa4d90aafa8",
   "metadata": {
    "scrolled": true
   },
   "outputs": [
    {
     "name": "stderr",
     "output_type": "stream",
     "text": [
      "/home/dvquys/frostmourne/recsys-mvp/.venv/lib/python3.11/site-packages/mlflow/models/utils.py:523: FutureWarning:\n",
      "\n",
      "Since MLflow 2.16.0, we no longer convert dictionary input example to pandas Dataframe, and directly save it as a json object. If the model expects a pandas DataFrame input instead, please pass the pandas DataFrame as input example directly.\n",
      "\n"
     ]
    },
    {
     "data": {
      "application/vnd.jupyter.widget-view+json": {
       "model_id": "3688c6d63e2340079f7104e2be7fefc6",
       "version_major": 2,
       "version_minor": 0
      },
      "text/plain": [
       "Downloading artifacts:   0%|          | 0/1 [00:00<?, ?it/s]"
      ]
     },
     "metadata": {},
     "output_type": "display_data"
    },
    {
     "name": "stderr",
     "output_type": "stream",
     "text": [
      "Registered model 'sequence_rating_prediction' already exists. Creating a new version of this model...\n",
      "2024/11/10 16:27:13 INFO mlflow.store.model_registry.abstract_store: Waiting up to 300 seconds for model version to finish creation. Model name: sequence_rating_prediction, version 2\n",
      "Created version '2' of model 'sequence_rating_prediction'.\n"
     ]
    },
    {
     "data": {
      "application/vnd.jupyter.widget-view+json": {
       "model_id": "e7cf379b6c984c239bb9710d0f37f792",
       "version_major": 2,
       "version_minor": 0
      },
      "text/plain": [
       "Downloading artifacts:   0%|          | 0/8 [00:00<?, ?it/s]"
      ]
     },
     "metadata": {},
     "output_type": "display_data"
    },
    {
     "name": "stderr",
     "output_type": "stream",
     "text": [
      "2024/11/10 16:27:13 INFO mlflow.tracking._tracking_service.client: 🏃 View run 002-try-binary at: http://localhost:5002/#/experiments/2/runs/36a66aac50dd4c9ba306cc8176bca28e.\n",
      "2024/11/10 16:27:13 INFO mlflow.tracking._tracking_service.client: 🧪 View experiment at: http://localhost:5002/#/experiments/2.\n"
     ]
    }
   ],
   "source": [
    "if args.log_to_mlflow:\n",
    "    run_id = trainer.logger.run_id\n",
    "    sample_output_np = sample_output\n",
    "    signature = infer_signature(sample_input, sample_output_np)\n",
    "    idm_filename = idm_fp.split(\"/\")[-1]\n",
    "    with mlflow.start_run(run_id=run_id):\n",
    "        mlflow.pyfunc.log_model(\n",
    "            python_model=inferrer,\n",
    "            artifact_path=\"inferrer\",\n",
    "            # We log the id_mapping to the predict function so that it can accept item_id and automatically convert ot item_indice for PyTorch model to use\n",
    "            artifacts={\"idm\": mlflow.get_artifact_uri(idm_filename)},\n",
    "            signature=signature,\n",
    "            input_example=sample_input,\n",
    "            registered_model_name=args.mlf_model_name,\n",
    "        )"
   ]
  },
  {
   "cell_type": "markdown",
   "id": "f95d5150-9851-4e61-b1af-8e619abc9ea4",
   "metadata": {},
   "source": [
    "# Set the newly trained model as champion"
   ]
  },
  {
   "cell_type": "code",
   "execution_count": 37,
   "id": "cbf6428a-bc47-400a-99ac-666abfa4ce63",
   "metadata": {},
   "outputs": [
    {
     "name": "stderr",
     "output_type": "stream",
     "text": [
      "\u001b[32m2024-11-10 16:27:13.446\u001b[0m | \u001b[1mINFO    \u001b[0m | \u001b[36m__main__\u001b[0m:\u001b[36m<module>\u001b[0m:\u001b[36m7\u001b[0m - \u001b[1mAliasing the new model as champion...\u001b[0m\n"
     ]
    }
   ],
   "source": [
    "if args.log_to_mlflow:\n",
    "    val_roc_auc = trainer.logger.experiment.get_run(trainer.logger.run_id).data.metrics[\n",
    "        \"val_roc_auc\"\n",
    "    ]\n",
    "\n",
    "    if val_roc_auc > args.min_roc_auc:\n",
    "        logger.info(f\"Aliasing the new model as champion...\")\n",
    "        model_version = (\n",
    "            mlf_client.get_registered_model(args.mlf_model_name)\n",
    "            .latest_versions[0]\n",
    "            .version\n",
    "        )\n",
    "\n",
    "        mlf_client.set_registered_model_alias(\n",
    "            name=args.mlf_model_name, alias=\"champion\", version=model_version\n",
    "        )\n",
    "\n",
    "        mlf_client.set_model_version_tag(\n",
    "            name=args.mlf_model_name,\n",
    "            version=model_version,\n",
    "            key=\"author\",\n",
    "            value=\"quy.dinh\",\n",
    "        )"
   ]
  },
  {
   "cell_type": "markdown",
   "id": "32096360-c26a-42de-9564-30634fb76eeb",
   "metadata": {},
   "source": [
    "# Clean up"
   ]
  },
  {
   "cell_type": "code",
   "execution_count": 38,
   "id": "e98c6850-e4de-43fa-b132-0b97f138a0ed",
   "metadata": {
    "scrolled": true
   },
   "outputs": [
    {
     "name": "stderr",
     "output_type": "stream",
     "text": [
      "2024/11/10 16:27:13 INFO mlflow.tracking._tracking_service.client: 🏃 View run 002-try-binary at: http://localhost:5002/#/experiments/2/runs/36a66aac50dd4c9ba306cc8176bca28e.\n",
      "2024/11/10 16:27:13 INFO mlflow.tracking._tracking_service.client: 🧪 View experiment at: http://localhost:5002/#/experiments/2.\n"
     ]
    }
   ],
   "source": [
    "all_params = [args]\n",
    "\n",
    "if args.log_to_mlflow:\n",
    "    with mlflow.start_run(run_id=run_id):\n",
    "        for params in all_params:\n",
    "            params_dict = params.dict()\n",
    "            params_ = dict()\n",
    "            for k, v in params_dict.items():\n",
    "                if k == \"top_K\":\n",
    "                    k = \"top_big_K\"\n",
    "                if k == \"top_k\":\n",
    "                    k = \"top_small_k\"\n",
    "                params_[f\"{params.__repr_name__()}.{k}\"] = v\n",
    "            mlflow.log_params(params_)"
   ]
  },
  {
   "cell_type": "code",
   "execution_count": null,
   "id": "30cff81a-484e-4919-be8f-0351cce91a75",
   "metadata": {},
   "outputs": [],
   "source": []
  }
 ],
 "metadata": {
  "kernelspec": {
   "display_name": "Python 3 (ipykernel)",
   "language": "python",
   "name": "python3"
  },
  "language_info": {
   "codemirror_mode": {
    "name": "ipython",
    "version": 3
   },
   "file_extension": ".py",
   "mimetype": "text/x-python",
   "name": "python",
   "nbconvert_exporter": "python",
   "pygments_lexer": "ipython3",
   "version": "3.11.9"
  }
 },
 "nbformat": 4,
 "nbformat_minor": 5
}
