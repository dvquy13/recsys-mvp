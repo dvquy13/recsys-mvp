{
 "cells": [
  {
   "cell_type": "markdown",
   "id": "3bf1577c-6f3b-4b1c-a848-8f5e45ff8111",
   "metadata": {},
   "source": [
    "# Sequence modeling for ranking task"
   ]
  },
  {
   "cell_type": "markdown",
   "id": "9309e017-0449-46ee-b7ca-4c4bcadeedf6",
   "metadata": {},
   "source": [
    "# Set up"
   ]
  },
  {
   "cell_type": "code",
   "execution_count": 1,
   "id": "3c8f6e8d-f776-4d39-898c-d783c5ae3407",
   "metadata": {},
   "outputs": [],
   "source": [
    "%load_ext autoreload\n",
    "%autoreload 2\n",
    "%load_ext tensorboard"
   ]
  },
  {
   "cell_type": "code",
   "execution_count": 2,
   "id": "35b3499d-dc9c-405a-8714-a26341b581e1",
   "metadata": {
    "editable": true,
    "slideshow": {
     "slide_type": ""
    },
    "tags": []
   },
   "outputs": [],
   "source": [
    "import os\n",
    "import sys\n",
    "\n",
    "import lightning as L\n",
    "import numpy as np\n",
    "import pandas as pd\n",
    "import torch\n",
    "from dotenv import load_dotenv\n",
    "from lightning.pytorch.callbacks import ModelCheckpoint\n",
    "from lightning.pytorch.callbacks.early_stopping import EarlyStopping\n",
    "from lightning.pytorch.loggers import MLFlowLogger\n",
    "from loguru import logger\n",
    "from mlflow.models.signature import infer_signature\n",
    "from pydantic import BaseModel\n",
    "from torch.utils.data import DataLoader\n",
    "\n",
    "import mlflow\n",
    "\n",
    "load_dotenv()\n",
    "\n",
    "sys.path.insert(0, \"..\")\n",
    "\n",
    "from src.dataset import UserItemBinaryDFDataset as UserItemRatingDFDataset\n",
    "from src.id_mapper import IDMapper\n",
    "from src.sequence.inference import SequenceRatingPredictionInferenceWrapper\n",
    "from src.sequence.model import SequenceRatingPrediction\n",
    "from src.sequence.trainer import LitSequenceRatingPrediction\n",
    "from src.sequence.utils import generate_item_sequences\n",
    "from src.viz import blueq_colors"
   ]
  },
  {
   "cell_type": "markdown",
   "id": "fd804021-3424-48e0-973a-e662a72db544",
   "metadata": {},
   "source": [
    "# Controller"
   ]
  },
  {
   "cell_type": "code",
   "execution_count": 3,
   "id": "ce522d9e-f35c-4cc5-a71e-68447956b31f",
   "metadata": {
    "editable": true,
    "slideshow": {
     "slide_type": ""
    },
    "tags": [
     "parameters"
    ]
   },
   "outputs": [],
   "source": [
    "max_epochs = 100"
   ]
  },
  {
   "cell_type": "code",
   "execution_count": 4,
   "id": "ea4e9a93-5b6a-4dec-97f0-b9aa3383c64d",
   "metadata": {
    "scrolled": true
   },
   "outputs": [
    {
     "name": "stderr",
     "output_type": "stream",
     "text": [
      "\u001b[32m2024-10-26 11:44:56.670\u001b[0m | \u001b[1mINFO    \u001b[0m | \u001b[36m__main__\u001b[0m:\u001b[36minit\u001b[0m:\u001b[36m46\u001b[0m - \u001b[1mSetting up MLflow experiment RecSys MVP - Sequence Modeling - run 002-try-binary...\u001b[0m\n"
     ]
    },
    {
     "name": "stdout",
     "output_type": "stream",
     "text": [
      "{\n",
      "  \"testing\": false,\n",
      "  \"log_to_mlflow\": true,\n",
      "  \"experiment_name\": \"RecSys MVP - Sequence Modeling\",\n",
      "  \"run_name\": \"002-try-binary\",\n",
      "  \"notebook_persist_dp\": \"/Users/dvq/frostmourne/recsys-mvp/notebooks/data/002-try-binary\",\n",
      "  \"random_seed\": 41,\n",
      "  \"device\": null,\n",
      "  \"max_epochs\": 100,\n",
      "  \"batch_size\": 128,\n",
      "  \"user_col\": \"user_id\",\n",
      "  \"item_col\": \"parent_asin\",\n",
      "  \"rating_col\": \"rating\",\n",
      "  \"timestamp_col\": \"timestamp\",\n",
      "  \"top_K\": 100,\n",
      "  \"top_k\": 10,\n",
      "  \"embedding_dim\": 128,\n",
      "  \"dropout\": 0.3,\n",
      "  \"early_stopping_patience\": 5,\n",
      "  \"learning_rate\": 0.001,\n",
      "  \"l2_reg\": 0.0001,\n",
      "  \"mlf_item2vec_model_name\": \"item2vec\",\n",
      "  \"mlf_model_name\": \"sequence_rating_prediction\",\n",
      "  \"min_roc_auc\": 0.7,\n",
      "  \"best_checkpoint_path\": null\n",
      "}\n"
     ]
    }
   ],
   "source": [
    "class Args(BaseModel):\n",
    "    testing: bool = False\n",
    "    log_to_mlflow: bool = True\n",
    "    experiment_name: str = \"RecSys MVP - Sequence Modeling\"\n",
    "    run_name: str = \"002-try-binary\"\n",
    "    notebook_persist_dp: str = None\n",
    "    random_seed: int = 41\n",
    "    device: str = None\n",
    "\n",
    "    max_epochs: int = max_epochs\n",
    "    batch_size: int = 128\n",
    "\n",
    "    user_col: str = \"user_id\"\n",
    "    item_col: str = \"parent_asin\"\n",
    "    rating_col: str = \"rating\"\n",
    "    timestamp_col: str = \"timestamp\"\n",
    "\n",
    "    top_K: int = 100\n",
    "    top_k: int = 10\n",
    "\n",
    "    batch_size: int = 128\n",
    "\n",
    "    embedding_dim: int = 128\n",
    "    dropout: float = 0.3\n",
    "    early_stopping_patience: int = 5\n",
    "    learning_rate: float = 0.001\n",
    "    l2_reg: float = 1e-4\n",
    "\n",
    "    mlf_item2vec_model_name: str = \"item2vec\"\n",
    "    mlf_model_name: str = \"sequence_rating_prediction\"\n",
    "    min_roc_auc: float = 0.7\n",
    "\n",
    "    best_checkpoint_path: str = None\n",
    "\n",
    "    def init(self):\n",
    "        self.notebook_persist_dp = os.path.abspath(f\"data/{self.run_name}\")\n",
    "        os.makedirs(self.notebook_persist_dp, exist_ok=True)\n",
    "\n",
    "        if not (mlflow_uri := os.environ.get(\"MLFLOW_TRACKING_URI\")):\n",
    "            logger.warning(\n",
    "                f\"Environment variable MLFLOW_TRACKING_URI is not set. Setting self.log_to_mlflow to false.\"\n",
    "            )\n",
    "            self.log_to_mlflow = False\n",
    "\n",
    "        if self.log_to_mlflow:\n",
    "            logger.info(\n",
    "                f\"Setting up MLflow experiment {self.experiment_name} - run {self.run_name}...\"\n",
    "            )\n",
    "            self._mlf_logger = MLFlowLogger(\n",
    "                experiment_name=self.experiment_name,\n",
    "                run_name=self.run_name,\n",
    "                tracking_uri=mlflow_uri,\n",
    "                log_model=True,\n",
    "            )\n",
    "\n",
    "        return self\n",
    "\n",
    "\n",
    "args = Args().init()\n",
    "\n",
    "print(args.model_dump_json(indent=2))"
   ]
  },
  {
   "cell_type": "markdown",
   "id": "a5acedcb-89e6-41c6-8969-bf3437fc7898",
   "metadata": {},
   "source": [
    "# Implement"
   ]
  },
  {
   "cell_type": "code",
   "execution_count": 5,
   "id": "5a34cb5b-c7db-4b95-952b-5f4cb2e1a04d",
   "metadata": {},
   "outputs": [],
   "source": [
    "def init_model(n_users, n_items, embedding_dim, dropout, item_embedding=None):\n",
    "    model = SequenceRatingPrediction(\n",
    "        n_users, n_items, embedding_dim, dropout=dropout, item_embedding=item_embedding\n",
    "    )\n",
    "    return model"
   ]
  },
  {
   "cell_type": "markdown",
   "id": "c49b92fb-3b4c-482f-a584-62288873d8c3",
   "metadata": {},
   "source": [
    "## Load pretrained Item2Vec embeddings"
   ]
  },
  {
   "cell_type": "code",
   "execution_count": 6,
   "id": "35cfc84a-75bb-4973-b619-194cc8698ee2",
   "metadata": {
    "scrolled": true
   },
   "outputs": [
    {
     "data": {
      "application/vnd.jupyter.widget-view+json": {
       "model_id": "60d09a6424de462195e72beb56a87201",
       "version_major": 2,
       "version_minor": 0
      },
      "text/plain": [
       "Downloading artifacts:   0%|          | 0/8 [00:00<?, ?it/s]"
      ]
     },
     "metadata": {},
     "output_type": "display_data"
    }
   ],
   "source": [
    "mlf_client = mlflow.MlflowClient()\n",
    "model = mlflow.pyfunc.load_model(\n",
    "    model_uri=f\"models:/{args.mlf_item2vec_model_name}@champion\"\n",
    ")\n",
    "skipgram_model = model.unwrap_python_model().model\n",
    "embedding_0 = skipgram_model.embeddings(torch.tensor(0))\n",
    "embedding_dim = embedding_0.size()[0]\n",
    "id_mapping = model.unwrap_python_model().id_mapping\n",
    "pretrained_item_embedding = skipgram_model.embeddings"
   ]
  },
  {
   "cell_type": "code",
   "execution_count": 7,
   "id": "f3baa82d-859d-4414-8e19-4c7d92750fa3",
   "metadata": {},
   "outputs": [],
   "source": [
    "assert (\n",
    "    pretrained_item_embedding.embedding_dim == args.embedding_dim\n",
    "), \"Mismatch pretrained item_embedding dimension\""
   ]
  },
  {
   "cell_type": "markdown",
   "id": "377a71da-1ee3-474c-b3f4-4488d2a45dd3",
   "metadata": {},
   "source": [
    "# Test implementation"
   ]
  },
  {
   "cell_type": "code",
   "execution_count": 8,
   "id": "ce5326d7-ec9d-422c-bbd8-03c837a23e1e",
   "metadata": {},
   "outputs": [
    {
     "name": "stdout",
     "output_type": "stream",
     "text": [
      "tensor([[0.5778]], grad_fn=<SigmoidBackward0>)\n"
     ]
    }
   ],
   "source": [
    "embedding_dim = 8\n",
    "batch_size = 2\n",
    "\n",
    "# Mock data\n",
    "user_indices = [0, 0, 1, 2, 2]\n",
    "item_indices = [0, 1, 2, 3, 4]\n",
    "timestamps = [0, 1, 2, 3, 4]\n",
    "ratings = [0, 4, 5, 3, 0]\n",
    "item_sequences = [\n",
    "    [-1, -1, 2, 3],\n",
    "    [-1, -1, 2, 3],\n",
    "    [-1, -1, 1, 3],\n",
    "    [-1, -1, 2, 1],\n",
    "    [-1, -1, 2, 1],\n",
    "]\n",
    "\n",
    "n_users = len(set(user_indices))\n",
    "n_items = len(set(item_indices))\n",
    "\n",
    "train_df = pd.DataFrame(\n",
    "    {\n",
    "        \"user_indice\": user_indices,\n",
    "        \"item_indice\": item_indices,\n",
    "        args.timestamp_col: timestamps,\n",
    "        args.rating_col: ratings,\n",
    "        \"item_sequence\": item_sequences,\n",
    "    }\n",
    ")\n",
    "\n",
    "model = init_model(n_users, n_items, embedding_dim, args.dropout)\n",
    "\n",
    "# Example forward pass\n",
    "model.eval()\n",
    "user = torch.tensor([0])\n",
    "item_sequence = torch.tensor([[-1, -1, -1, 0, 1]])\n",
    "target_item = torch.tensor([2])\n",
    "predictions = model.predict(user, item_sequence, target_item)\n",
    "print(predictions)"
   ]
  },
  {
   "cell_type": "code",
   "execution_count": 9,
   "id": "0c0b1fea-0376-4624-ad8a-d000208a97f5",
   "metadata": {
    "scrolled": true
   },
   "outputs": [],
   "source": [
    "rating_dataset = UserItemRatingDFDataset(\n",
    "    train_df, \"user_indice\", \"item_indice\", args.rating_col, args.timestamp_col\n",
    ")\n",
    "\n",
    "train_loader = DataLoader(rating_dataset, batch_size=batch_size, shuffle=False)"
   ]
  },
  {
   "cell_type": "code",
   "execution_count": 10,
   "id": "2e82d3d1-826a-409b-8440-46e0bd924269",
   "metadata": {},
   "outputs": [
    {
     "name": "stdout",
     "output_type": "stream",
     "text": [
      "{'user': tensor([0, 0]), 'item': tensor([0, 1]), 'rating': tensor([0., 1.]), 'item_sequence': tensor([[-1, -1,  2,  3],\n",
      "        [-1, -1,  2,  3]]), 'item_feature': tensor([], size=(2, 0))}\n",
      "{'user': tensor([1, 2]), 'item': tensor([2, 3]), 'rating': tensor([1., 1.]), 'item_sequence': tensor([[-1, -1,  1,  3],\n",
      "        [-1, -1,  2,  1]]), 'item_feature': tensor([], size=(2, 0))}\n",
      "{'user': tensor([2]), 'item': tensor([4]), 'rating': tensor([0.]), 'item_sequence': tensor([[-1, -1,  2,  1]]), 'item_feature': tensor([], size=(1, 0))}\n"
     ]
    }
   ],
   "source": [
    "for batch_input in train_loader:\n",
    "    print(batch_input)"
   ]
  },
  {
   "cell_type": "code",
   "execution_count": 11,
   "id": "02cb9ca4-11f1-45a8-911b-ed11c8391944",
   "metadata": {
    "scrolled": true
   },
   "outputs": [
    {
     "name": "stderr",
     "output_type": "stream",
     "text": [
      "GPU available: True (mps), used: True\n",
      "TPU available: False, using: 0 TPU cores\n",
      "HPU available: False, using: 0 HPUs\n",
      "\n",
      "  | Name  | Type                     | Params | Mode\n",
      "----------------------------------------------------------\n",
      "0 | model | SequenceRatingPrediction | 729    | eval\n",
      "----------------------------------------------------------\n",
      "729       Trainable params\n",
      "0         Non-trainable params\n",
      "729       Total params\n",
      "0.003     Total estimated model params size (MB)\n",
      "0         Modules in train mode\n",
      "11        Modules in eval mode\n"
     ]
    },
    {
     "data": {
      "application/vnd.jupyter.widget-view+json": {
       "model_id": "",
       "version_major": 2,
       "version_minor": 0
      },
      "text/plain": [
       "Sanity Checking: |                                                                                            …"
      ]
     },
     "metadata": {},
     "output_type": "display_data"
    },
    {
     "name": "stderr",
     "output_type": "stream",
     "text": [
      "/Users/dvq/frostmourne/recsys-mvp/.venv/lib/python3.11/site-packages/lightning/pytorch/trainer/connectors/data_connector.py:424: The 'val_dataloader' does not have many workers which may be a bottleneck. Consider increasing the value of the `num_workers` argument` to `num_workers=10` in the `DataLoader` to improve performance.\n",
      "/Users/dvq/frostmourne/recsys-mvp/.venv/lib/python3.11/site-packages/lightning/pytorch/trainer/connectors/data_connector.py:424: The 'train_dataloader' does not have many workers which may be a bottleneck. Consider increasing the value of the `num_workers` argument` to `num_workers=10` in the `DataLoader` to improve performance.\n",
      "/Users/dvq/frostmourne/recsys-mvp/.venv/lib/python3.11/site-packages/lightning/pytorch/loops/fit_loop.py:298: The number of training batches (3) is smaller than the logging interval Trainer(log_every_n_steps=50). Set a lower value for log_every_n_steps if you want to see logs for the training epoch.\n"
     ]
    },
    {
     "data": {
      "application/vnd.jupyter.widget-view+json": {
       "model_id": "75815cb9d49946a6b04b1746b8a1a4ce",
       "version_major": 2,
       "version_minor": 0
      },
      "text/plain": [
       "Training: |                                                                                                   …"
      ]
     },
     "metadata": {},
     "output_type": "display_data"
    },
    {
     "data": {
      "application/vnd.jupyter.widget-view+json": {
       "model_id": "",
       "version_major": 2,
       "version_minor": 0
      },
      "text/plain": [
       "Validation: |                                                                                                 …"
      ]
     },
     "metadata": {},
     "output_type": "display_data"
    },
    {
     "data": {
      "application/vnd.jupyter.widget-view+json": {
       "model_id": "",
       "version_major": 2,
       "version_minor": 0
      },
      "text/plain": [
       "Validation: |                                                                                                 …"
      ]
     },
     "metadata": {},
     "output_type": "display_data"
    },
    {
     "name": "stderr",
     "output_type": "stream",
     "text": [
      "`Trainer.fit` stopped: `max_epochs=2` reached.\n",
      "\u001b[32m2024-10-26 11:44:57.877\u001b[0m | \u001b[1mINFO    \u001b[0m | \u001b[36msrc.sequence.trainer\u001b[0m:\u001b[36mon_fit_end\u001b[0m:\u001b[36m125\u001b[0m - \u001b[1mLogging classification metrics...\u001b[0m\n",
      "/Users/dvq/frostmourne/recsys-mvp/.venv/lib/python3.11/site-packages/sklearn/metrics/_classification.py:1531: UndefinedMetricWarning: Precision is ill-defined and being set to 0.0 in labels with no predicted samples. Use `zero_division` parameter to control this behavior.\n",
      "  _warn_prf(average, modifier, f\"{metric.capitalize()} is\", len(result))\n",
      "/Users/dvq/frostmourne/recsys-mvp/.venv/lib/python3.11/site-packages/sklearn/metrics/_classification.py:1531: UndefinedMetricWarning: Precision is ill-defined and being set to 0.0 in labels with no predicted samples. Use `zero_division` parameter to control this behavior.\n",
      "  _warn_prf(average, modifier, f\"{metric.capitalize()} is\", len(result))\n",
      "/Users/dvq/frostmourne/recsys-mvp/.venv/lib/python3.11/site-packages/sklearn/metrics/_classification.py:1531: UndefinedMetricWarning: Precision is ill-defined and being set to 0.0 in labels with no predicted samples. Use `zero_division` parameter to control this behavior.\n",
      "  _warn_prf(average, modifier, f\"{metric.capitalize()} is\", len(result))\n"
     ]
    }
   ],
   "source": [
    "# model\n",
    "lit_model = LitSequenceRatingPrediction(model, log_dir=args.notebook_persist_dp)\n",
    "\n",
    "# train model\n",
    "trainer = L.Trainer(default_root_dir=f\"{args.notebook_persist_dp}/test\", max_epochs=2, accelerator=args.device if args.device else \"auto\")\n",
    "trainer.fit(\n",
    "    model=lit_model, train_dataloaders=train_loader, val_dataloaders=train_loader\n",
    ")"
   ]
  },
  {
   "cell_type": "code",
   "execution_count": 12,
   "id": "abf019c8-db28-4538-91e8-3904b8800e6d",
   "metadata": {},
   "outputs": [
    {
     "name": "stdout",
     "output_type": "stream",
     "text": [
      "tensor([[0.5703],\n",
      "        [0.5769],\n",
      "        [0.5813],\n",
      "        [0.6149]], grad_fn=<SigmoidBackward0>)\n"
     ]
    }
   ],
   "source": [
    "users = torch.tensor([0, 0, 0, 0])\n",
    "item_sequences = torch.tensor(\n",
    "    [[-1, -1, 2, 3], [-1, -1, 2, 3], [-1, -1, 1, 3], [-1, -1, 2, 1]]\n",
    ")\n",
    "items = torch.tensor([0, 1, 2, 3])\n",
    "predictions = model.predict(users, item_sequences, items)\n",
    "print(predictions)"
   ]
  },
  {
   "cell_type": "code",
   "execution_count": 13,
   "id": "87f02734-1e63-4201-bd34-b3938ae50fbc",
   "metadata": {},
   "outputs": [
    {
     "data": {
      "text/html": [
       "<div>\n",
       "<style scoped>\n",
       "    .dataframe tbody tr th:only-of-type {\n",
       "        vertical-align: middle;\n",
       "    }\n",
       "\n",
       "    .dataframe tbody tr th {\n",
       "        vertical-align: top;\n",
       "    }\n",
       "\n",
       "    .dataframe thead th {\n",
       "        text-align: right;\n",
       "    }\n",
       "</style>\n",
       "<table border=\"1\" class=\"dataframe\">\n",
       "  <thead>\n",
       "    <tr style=\"text-align: right;\">\n",
       "      <th></th>\n",
       "      <th>user_indice</th>\n",
       "      <th>item_indice</th>\n",
       "      <th>timestamp</th>\n",
       "      <th>source</th>\n",
       "      <th>item_sequence</th>\n",
       "    </tr>\n",
       "  </thead>\n",
       "  <tbody>\n",
       "    <tr>\n",
       "      <th>0</th>\n",
       "      <td>0</td>\n",
       "      <td>-1</td>\n",
       "      <td>4</td>\n",
       "      <td>predict</td>\n",
       "      <td>[-1, -1, -1, -1, -1, -1, -1, -1, -1, 1]</td>\n",
       "    </tr>\n",
       "    <tr>\n",
       "      <th>1</th>\n",
       "      <td>0</td>\n",
       "      <td>-1</td>\n",
       "      <td>4</td>\n",
       "      <td>predict</td>\n",
       "      <td>[-1, -1, -1, -1, -1, -1, -1, -1, -1, 1]</td>\n",
       "    </tr>\n",
       "    <tr>\n",
       "      <th>2</th>\n",
       "      <td>1</td>\n",
       "      <td>-1</td>\n",
       "      <td>4</td>\n",
       "      <td>predict</td>\n",
       "      <td>[-1, -1, -1, -1, -1, -1, -1, -1, -1, 2]</td>\n",
       "    </tr>\n",
       "    <tr>\n",
       "      <th>3</th>\n",
       "      <td>2</td>\n",
       "      <td>-1</td>\n",
       "      <td>4</td>\n",
       "      <td>predict</td>\n",
       "      <td>[-1, -1, -1, -1, -1, -1, -1, -1, -1, 3]</td>\n",
       "    </tr>\n",
       "    <tr>\n",
       "      <th>4</th>\n",
       "      <td>2</td>\n",
       "      <td>-1</td>\n",
       "      <td>4</td>\n",
       "      <td>predict</td>\n",
       "      <td>[-1, -1, -1, -1, -1, -1, -1, -1, -1, 3]</td>\n",
       "    </tr>\n",
       "  </tbody>\n",
       "</table>\n",
       "</div>"
      ],
      "text/plain": [
       "   user_indice  item_indice  timestamp   source  \\\n",
       "0            0           -1          4  predict   \n",
       "1            0           -1          4  predict   \n",
       "2            1           -1          4  predict   \n",
       "3            2           -1          4  predict   \n",
       "4            2           -1          4  predict   \n",
       "\n",
       "                             item_sequence  \n",
       "0  [-1, -1, -1, -1, -1, -1, -1, -1, -1, 1]  \n",
       "1  [-1, -1, -1, -1, -1, -1, -1, -1, -1, 1]  \n",
       "2  [-1, -1, -1, -1, -1, -1, -1, -1, -1, 2]  \n",
       "3  [-1, -1, -1, -1, -1, -1, -1, -1, -1, 3]  \n",
       "4  [-1, -1, -1, -1, -1, -1, -1, -1, -1, 3]  "
      ]
     },
     "execution_count": 13,
     "metadata": {},
     "output_type": "execute_result"
    }
   ],
   "source": [
    "def create_predict_df(\n",
    "    train_df,\n",
    "    val_user_indices,\n",
    "    val_timestamp,\n",
    "    rating_col,\n",
    "    timestamp_col,\n",
    "    sequence_length=10,\n",
    "):\n",
    "    predict_df = pd.DataFrame(\n",
    "        {\n",
    "            \"user_indice\": val_user_indices,\n",
    "            \"item_indice\": -1,  # placeholder\n",
    "            \"timestamp\": val_timestamp,\n",
    "            \"source\": \"predict\",\n",
    "        }\n",
    "    )\n",
    "\n",
    "    predict_df = (\n",
    "        pd.concat(\n",
    "            [\n",
    "                train_df.loc[lambda df: df[rating_col].gt(0)][\n",
    "                    [\"user_indice\", \"item_indice\", timestamp_col]\n",
    "                ].assign(source=\"train\"),\n",
    "                predict_df,\n",
    "            ],\n",
    "            axis=0,\n",
    "        )\n",
    "        .pipe(\n",
    "            generate_item_sequences,\n",
    "            \"user_indice\",\n",
    "            \"item_indice\",\n",
    "            timestamp_col,\n",
    "            sequence_length=sequence_length,\n",
    "            padding=True,\n",
    "            padding_value=-1,\n",
    "        )\n",
    "        .loc[lambda df: df[\"source\"].eq(\"predict\")]\n",
    "        .assign(item_sequence=lambda df: df[\"item_sequence\"].apply(np.array))\n",
    "    )\n",
    "\n",
    "    return predict_df\n",
    "\n",
    "\n",
    "predict_df = create_predict_df(\n",
    "    train_df,\n",
    "    user_indices,\n",
    "    timestamps[-1],\n",
    "    args.rating_col,\n",
    "    args.timestamp_col,\n",
    "    sequence_length=10,\n",
    ")\n",
    "\n",
    "predict_df"
   ]
  },
  {
   "cell_type": "code",
   "execution_count": 14,
   "id": "50fdcf97-6271-406d-81b5-7e91a4c42dec",
   "metadata": {},
   "outputs": [
    {
     "name": "stderr",
     "output_type": "stream",
     "text": [
      "/var/folders/mq/xtxzhvlj4m97tb8lgwxcnsb40000gn/T/ipykernel_65115/349226613.py:3: UserWarning:\n",
      "\n",
      "Creating a tensor from a list of numpy.ndarrays is extremely slow. Please consider converting the list to a single numpy.ndarray with numpy.array() before converting to a tensor. (Triggered internally at /Users/runner/work/pytorch/pytorch/pytorch/torch/csrc/utils/tensor_new.cpp:281.)\n",
      "\n"
     ]
    },
    {
     "data": {
      "application/vnd.jupyter.widget-view+json": {
       "model_id": "51f0266f22b144988c4ba65e6772fedf",
       "version_major": 2,
       "version_minor": 0
      },
      "text/plain": [
       "Generating recommendations:   0%|          | 0/2 [00:00<?, ?it/s]"
      ]
     },
     "metadata": {},
     "output_type": "display_data"
    },
    {
     "data": {
      "text/plain": [
       "{'user_indice': [0, 0, 0, 0, 1, 1, 2, 2, 2, 2],\n",
       " 'recommendation': [3, 4, 3, 4, 3, 4, 3, 2, 3, 2],\n",
       " 'score': [0.6181633472442627,\n",
       "  0.6073523163795471,\n",
       "  0.6181633472442627,\n",
       "  0.6073523163795471,\n",
       "  0.5995869636535645,\n",
       "  0.5976166725158691,\n",
       "  0.6558717489242554,\n",
       "  0.6382187008857727,\n",
       "  0.6558717489242554,\n",
       "  0.6382187008857727]}"
      ]
     },
     "execution_count": 14,
     "metadata": {},
     "output_type": "execute_result"
    }
   ],
   "source": [
    "recommendations = model.recommend(\n",
    "    torch.tensor(predict_df[\"user_indice\"].values),\n",
    "    torch.tensor(predict_df[\"item_sequence\"].values.tolist()),\n",
    "    k=2,\n",
    "    batch_size=4,\n",
    ")\n",
    "recommendations"
   ]
  },
  {
   "cell_type": "markdown",
   "id": "170dec89-a874-4dce-8f94-07d978fcc5b8",
   "metadata": {},
   "source": [
    "# Prep data"
   ]
  },
  {
   "cell_type": "code",
   "execution_count": 15,
   "id": "83803362-5eaa-40bb-b28b-878316d5db5d",
   "metadata": {},
   "outputs": [],
   "source": [
    "train_df = pd.read_parquet(\"../data/train_features_neg_df.parquet\")\n",
    "val_df = pd.read_parquet(\"../data/val_features_neg_df.parquet\")\n",
    "idm_fp = \"../data/idm.json\"\n",
    "idm = IDMapper().load(idm_fp)\n",
    "\n",
    "assert (train_df[args.user_col].map(lambda s: idm.get_user_index(s)) != train_df['user_indice']).sum() == 0, \"Mismatch IDM\"\n",
    "assert (val_df[args.user_col].map(lambda s: idm.get_user_index(s)) != val_df['user_indice']).sum() == 0, \"Mismatch IDM\""
   ]
  },
  {
   "cell_type": "code",
   "execution_count": 16,
   "id": "86f1e6e9-48ba-4f48-b693-ac028845938f",
   "metadata": {},
   "outputs": [
    {
     "name": "stderr",
     "output_type": "stream",
     "text": [
      "\u001b[32m2024-10-26 11:44:59.700\u001b[0m | \u001b[1mINFO    \u001b[0m | \u001b[36m__main__\u001b[0m:\u001b[36m<module>\u001b[0m:\u001b[36m4\u001b[0m - \u001b[1mlen(user_indices)=19,578, len(item_indices)=4,630\u001b[0m\n"
     ]
    }
   ],
   "source": [
    "user_indices = train_df[\"user_indice\"].unique()\n",
    "item_indices = train_df[\"item_indice\"].unique()\n",
    "\n",
    "logger.info(f\"{len(user_indices)=:,.0f}, {len(item_indices)=:,.0f}\")"
   ]
  },
  {
   "cell_type": "code",
   "execution_count": 17,
   "id": "a92a8ea7-928c-4656-b92c-2e137d78404a",
   "metadata": {
    "scrolled": true
   },
   "outputs": [
    {
     "data": {
      "text/html": [
       "<div>\n",
       "<style scoped>\n",
       "    .dataframe tbody tr th:only-of-type {\n",
       "        vertical-align: middle;\n",
       "    }\n",
       "\n",
       "    .dataframe tbody tr th {\n",
       "        vertical-align: top;\n",
       "    }\n",
       "\n",
       "    .dataframe thead th {\n",
       "        text-align: right;\n",
       "    }\n",
       "</style>\n",
       "<table border=\"1\" class=\"dataframe\">\n",
       "  <thead>\n",
       "    <tr style=\"text-align: right;\">\n",
       "      <th></th>\n",
       "      <th>user_id</th>\n",
       "      <th>parent_asin</th>\n",
       "      <th>rating</th>\n",
       "      <th>timestamp</th>\n",
       "      <th>user_indice</th>\n",
       "      <th>item_indice</th>\n",
       "      <th>main_category</th>\n",
       "      <th>title</th>\n",
       "      <th>description</th>\n",
       "      <th>categories</th>\n",
       "      <th>price</th>\n",
       "      <th>user_rating_cnt_90d</th>\n",
       "      <th>user_rating_avg_prev_rating_90d</th>\n",
       "      <th>user_rating_list_10_recent_asin</th>\n",
       "      <th>item_sequence</th>\n",
       "    </tr>\n",
       "  </thead>\n",
       "  <tbody>\n",
       "    <tr>\n",
       "      <th>0</th>\n",
       "      <td>AG5MDHR7VXSEQKENQFUIGIFCGAHQ</td>\n",
       "      <td>B00BHRD4BM</td>\n",
       "      <td>0.0</td>\n",
       "      <td>2019-05-28 06:28:22.706</td>\n",
       "      <td>10116</td>\n",
       "      <td>3676</td>\n",
       "      <td>Video Games</td>\n",
       "      <td>Destiny Expansion II: House of Wolves - PS4 [D...</td>\n",
       "      <td>[]</td>\n",
       "      <td>[Video Games, Game Genre of the Month]</td>\n",
       "      <td>None</td>\n",
       "      <td>3</td>\n",
       "      <td>1.5</td>\n",
       "      <td>B071J42387,B072MQNKYV,B087NNPYP3,B07P6MD9B7,B0...</td>\n",
       "      <td>[-1, -1, 3588, 3139, 3860, 1700, 4619, 2365, 8...</td>\n",
       "    </tr>\n",
       "    <tr>\n",
       "      <th>1</th>\n",
       "      <td>AHXA345XC2AXKKGJR4DKW6HHMFWA</td>\n",
       "      <td>B00CD90R7M</td>\n",
       "      <td>0.0</td>\n",
       "      <td>2015-04-02 04:46:11.000</td>\n",
       "      <td>18921</td>\n",
       "      <td>1618</td>\n",
       "      <td>Video Games</td>\n",
       "      <td>FIFA 14 Legacy Edition - PlayStation Vita</td>\n",
       "      <td>[Experience the emotion of scoring great goals...</td>\n",
       "      <td>[Video Games, Legacy Systems, PlayStation Syst...</td>\n",
       "      <td>39.62</td>\n",
       "      <td>2</td>\n",
       "      <td>5.0</td>\n",
       "      <td>B07KRWJCQW</td>\n",
       "      <td>[-1, -1, -1, -1, -1, -1, -1, -1, -1, 903]</td>\n",
       "    </tr>\n",
       "    <tr>\n",
       "      <th>2</th>\n",
       "      <td>AH2EBLRPCUCJSPM7QFBS6OWVGZPA</td>\n",
       "      <td>B07X56RNBY</td>\n",
       "      <td>0.0</td>\n",
       "      <td>2017-07-26 23:49:38.082</td>\n",
       "      <td>15098</td>\n",
       "      <td>2300</td>\n",
       "      <td>Video Games</td>\n",
       "      <td>Batman: Arkham Asylum (Game of The Year Editio...</td>\n",
       "      <td>[Become the Invisible Predator with Batman's f...</td>\n",
       "      <td>[Video Games, Legacy Systems, PlayStation Syst...</td>\n",
       "      <td>25.45</td>\n",
       "      <td>1</td>\n",
       "      <td>NaN</td>\n",
       "      <td>B002I0H79C,B0041CWZEM,B001SEQWXQ,B019WRM1IA,B0...</td>\n",
       "      <td>[-1, -1, -1, -1, -1, 2951, 2992, 3178, 4392, 1...</td>\n",
       "    </tr>\n",
       "    <tr>\n",
       "      <th>3</th>\n",
       "      <td>AFC5XTCF5D7J3NSDITB2Z26XWWYA</td>\n",
       "      <td>B001E8WQUY</td>\n",
       "      <td>5.0</td>\n",
       "      <td>2019-05-01 21:22:39.265</td>\n",
       "      <td>11036</td>\n",
       "      <td>1395</td>\n",
       "      <td>Video Games</td>\n",
       "      <td>Rock Band 2 - Nintendo Wii (Game only)</td>\n",
       "      <td>[Product description, Rock Band 2 lets you and...</td>\n",
       "      <td>[Video Games, Legacy Systems, Nintendo Systems...</td>\n",
       "      <td>28.49</td>\n",
       "      <td>1</td>\n",
       "      <td>NaN</td>\n",
       "      <td>B006HZA6VK,B0BN2FNKLM,B0086VPUHI,B0040UAYI4,B0...</td>\n",
       "      <td>[3150, 1398, 2104, 3393, 4380, 1527, 4285, 156...</td>\n",
       "    </tr>\n",
       "    <tr>\n",
       "      <th>4</th>\n",
       "      <td>AF7LJQOIWF3Y3YD7SGOJ34MA5JPA</td>\n",
       "      <td>B001E8WQKY</td>\n",
       "      <td>5.0</td>\n",
       "      <td>2015-01-09 12:53:25.000</td>\n",
       "      <td>13126</td>\n",
       "      <td>1653</td>\n",
       "      <td>Video Games</td>\n",
       "      <td>Resident Evil 5 - Xbox 360</td>\n",
       "      <td>[]</td>\n",
       "      <td>[Video Games, Legacy Systems, Xbox Systems, Xb...</td>\n",
       "      <td>29.88</td>\n",
       "      <td>3</td>\n",
       "      <td>5.0</td>\n",
       "      <td>B00A2ML6XG,B003VUO6LU</td>\n",
       "      <td>[-1, -1, -1, -1, -1, -1, -1, -1, 597, 1633]</td>\n",
       "    </tr>\n",
       "    <tr>\n",
       "      <th>...</th>\n",
       "      <td>...</td>\n",
       "      <td>...</td>\n",
       "      <td>...</td>\n",
       "      <td>...</td>\n",
       "      <td>...</td>\n",
       "      <td>...</td>\n",
       "      <td>...</td>\n",
       "      <td>...</td>\n",
       "      <td>...</td>\n",
       "      <td>...</td>\n",
       "      <td>...</td>\n",
       "      <td>...</td>\n",
       "      <td>...</td>\n",
       "      <td>...</td>\n",
       "      <td>...</td>\n",
       "    </tr>\n",
       "    <tr>\n",
       "      <th>328591</th>\n",
       "      <td>AEUAL3EJKUSTNB4YY6STLYGTJALA</td>\n",
       "      <td>B005A0MBR0</td>\n",
       "      <td>0.0</td>\n",
       "      <td>2018-12-05 21:24:25.638</td>\n",
       "      <td>10044</td>\n",
       "      <td>3155</td>\n",
       "      <td>None</td>\n",
       "      <td>Forza Motorsport 4 - Xbox 360</td>\n",
       "      <td>[Product Description, Forza Motorsport, the hi...</td>\n",
       "      <td>[Video Games, Legacy Systems, Xbox Systems, Xb...</td>\n",
       "      <td>39.0</td>\n",
       "      <td>2</td>\n",
       "      <td>3.0</td>\n",
       "      <td>B01F7S5NJW,B00BZS9JV2,B006VR689I,B00IRHE892,B0...</td>\n",
       "      <td>[-1, 2216, 6, 2912, 11, 1746, 1637, 3427, 3856...</td>\n",
       "    </tr>\n",
       "    <tr>\n",
       "      <th>328592</th>\n",
       "      <td>AEALHPZXEOAMWWIBOPCNNUTYKYDA</td>\n",
       "      <td>B0072A4JTY</td>\n",
       "      <td>0.0</td>\n",
       "      <td>2018-12-21 18:20:50.687</td>\n",
       "      <td>6135</td>\n",
       "      <td>673</td>\n",
       "      <td>Video Games</td>\n",
       "      <td>PDP PSVita Pull 'N Go Folio</td>\n",
       "      <td>[The ultimate organization and protection solu...</td>\n",
       "      <td>[Video Games, Legacy Systems, PlayStation Syst...</td>\n",
       "      <td>None</td>\n",
       "      <td>2</td>\n",
       "      <td>4.0</td>\n",
       "      <td>B06XSMSL45,B07796MBJ7</td>\n",
       "      <td>[-1, -1, -1, -1, -1, -1, -1, -1, 629, 2587]</td>\n",
       "    </tr>\n",
       "    <tr>\n",
       "      <th>328593</th>\n",
       "      <td>AHLPBRVL6UTVIRKCMJ3MFRBSGG7Q</td>\n",
       "      <td>B004QIY0Y4</td>\n",
       "      <td>0.0</td>\n",
       "      <td>2018-11-04 08:36:05.714</td>\n",
       "      <td>18743</td>\n",
       "      <td>472</td>\n",
       "      <td>Video Games</td>\n",
       "      <td>3 pack - LIMBO, Trials HD, Splosion Man - Xbox...</td>\n",
       "      <td>[Product Description, Three complete and criti...</td>\n",
       "      <td>[Video Games, Legacy Systems, Xbox Systems, Xb...</td>\n",
       "      <td>45.0</td>\n",
       "      <td>3</td>\n",
       "      <td>5.0</td>\n",
       "      <td>B01LW6SS1X,B004RMK57U,B07CV6LH3V,B087SHFL9B</td>\n",
       "      <td>[-1, -1, -1, -1, -1, -1, 3213, 1381, 3958, 2765]</td>\n",
       "    </tr>\n",
       "    <tr>\n",
       "      <th>328594</th>\n",
       "      <td>AHAVA5VKMJ3OMOLGDZ3W45CKXEWA</td>\n",
       "      <td>B00KTORA0K</td>\n",
       "      <td>5.0</td>\n",
       "      <td>2019-05-25 04:03:51.505</td>\n",
       "      <td>4091</td>\n",
       "      <td>3238</td>\n",
       "      <td>Video Games</td>\n",
       "      <td>Just Dance 2015 - Wii</td>\n",
       "      <td>[With more than 50 million copies of Just Danc...</td>\n",
       "      <td>[Video Games, Legacy Systems, Nintendo Systems...</td>\n",
       "      <td>33.0</td>\n",
       "      <td>2</td>\n",
       "      <td>5.0</td>\n",
       "      <td>B004AYCNR0,B007NUQICE,B000TYQL1O,B000SEU92W,B0...</td>\n",
       "      <td>[-1, -1, -1, 4394, 4158, 4013, 869, 2540, 1314...</td>\n",
       "    </tr>\n",
       "    <tr>\n",
       "      <th>328595</th>\n",
       "      <td>AGXOV2SZO77Q2VFODTDNZWRDHVGQ</td>\n",
       "      <td>B00BHRD4BM</td>\n",
       "      <td>0.0</td>\n",
       "      <td>2016-08-06 04:36:15.000</td>\n",
       "      <td>15551</td>\n",
       "      <td>3676</td>\n",
       "      <td>Video Games</td>\n",
       "      <td>Destiny Expansion II: House of Wolves - PS4 [D...</td>\n",
       "      <td>[]</td>\n",
       "      <td>[Video Games, Game Genre of the Month]</td>\n",
       "      <td>None</td>\n",
       "      <td>2</td>\n",
       "      <td>3.0</td>\n",
       "      <td>B09WS2QZXT</td>\n",
       "      <td>[-1, -1, -1, -1, -1, -1, -1, -1, -1, 958]</td>\n",
       "    </tr>\n",
       "  </tbody>\n",
       "</table>\n",
       "<p>328596 rows × 15 columns</p>\n",
       "</div>"
      ],
      "text/plain": [
       "                             user_id parent_asin  rating  \\\n",
       "0       AG5MDHR7VXSEQKENQFUIGIFCGAHQ  B00BHRD4BM     0.0   \n",
       "1       AHXA345XC2AXKKGJR4DKW6HHMFWA  B00CD90R7M     0.0   \n",
       "2       AH2EBLRPCUCJSPM7QFBS6OWVGZPA  B07X56RNBY     0.0   \n",
       "3       AFC5XTCF5D7J3NSDITB2Z26XWWYA  B001E8WQUY     5.0   \n",
       "4       AF7LJQOIWF3Y3YD7SGOJ34MA5JPA  B001E8WQKY     5.0   \n",
       "...                              ...         ...     ...   \n",
       "328591  AEUAL3EJKUSTNB4YY6STLYGTJALA  B005A0MBR0     0.0   \n",
       "328592  AEALHPZXEOAMWWIBOPCNNUTYKYDA  B0072A4JTY     0.0   \n",
       "328593  AHLPBRVL6UTVIRKCMJ3MFRBSGG7Q  B004QIY0Y4     0.0   \n",
       "328594  AHAVA5VKMJ3OMOLGDZ3W45CKXEWA  B00KTORA0K     5.0   \n",
       "328595  AGXOV2SZO77Q2VFODTDNZWRDHVGQ  B00BHRD4BM     0.0   \n",
       "\n",
       "                     timestamp  user_indice  item_indice main_category  \\\n",
       "0      2019-05-28 06:28:22.706        10116         3676   Video Games   \n",
       "1      2015-04-02 04:46:11.000        18921         1618   Video Games   \n",
       "2      2017-07-26 23:49:38.082        15098         2300   Video Games   \n",
       "3      2019-05-01 21:22:39.265        11036         1395   Video Games   \n",
       "4      2015-01-09 12:53:25.000        13126         1653   Video Games   \n",
       "...                        ...          ...          ...           ...   \n",
       "328591 2018-12-05 21:24:25.638        10044         3155          None   \n",
       "328592 2018-12-21 18:20:50.687         6135          673   Video Games   \n",
       "328593 2018-11-04 08:36:05.714        18743          472   Video Games   \n",
       "328594 2019-05-25 04:03:51.505         4091         3238   Video Games   \n",
       "328595 2016-08-06 04:36:15.000        15551         3676   Video Games   \n",
       "\n",
       "                                                    title  \\\n",
       "0       Destiny Expansion II: House of Wolves - PS4 [D...   \n",
       "1               FIFA 14 Legacy Edition - PlayStation Vita   \n",
       "2       Batman: Arkham Asylum (Game of The Year Editio...   \n",
       "3                  Rock Band 2 - Nintendo Wii (Game only)   \n",
       "4                              Resident Evil 5 - Xbox 360   \n",
       "...                                                   ...   \n",
       "328591                      Forza Motorsport 4 - Xbox 360   \n",
       "328592                        PDP PSVita Pull 'N Go Folio   \n",
       "328593  3 pack - LIMBO, Trials HD, Splosion Man - Xbox...   \n",
       "328594                              Just Dance 2015 - Wii   \n",
       "328595  Destiny Expansion II: House of Wolves - PS4 [D...   \n",
       "\n",
       "                                              description  \\\n",
       "0                                                      []   \n",
       "1       [Experience the emotion of scoring great goals...   \n",
       "2       [Become the Invisible Predator with Batman's f...   \n",
       "3       [Product description, Rock Band 2 lets you and...   \n",
       "4                                                      []   \n",
       "...                                                   ...   \n",
       "328591  [Product Description, Forza Motorsport, the hi...   \n",
       "328592  [The ultimate organization and protection solu...   \n",
       "328593  [Product Description, Three complete and criti...   \n",
       "328594  [With more than 50 million copies of Just Danc...   \n",
       "328595                                                 []   \n",
       "\n",
       "                                               categories  price  \\\n",
       "0                  [Video Games, Game Genre of the Month]   None   \n",
       "1       [Video Games, Legacy Systems, PlayStation Syst...  39.62   \n",
       "2       [Video Games, Legacy Systems, PlayStation Syst...  25.45   \n",
       "3       [Video Games, Legacy Systems, Nintendo Systems...  28.49   \n",
       "4       [Video Games, Legacy Systems, Xbox Systems, Xb...  29.88   \n",
       "...                                                   ...    ...   \n",
       "328591  [Video Games, Legacy Systems, Xbox Systems, Xb...   39.0   \n",
       "328592  [Video Games, Legacy Systems, PlayStation Syst...   None   \n",
       "328593  [Video Games, Legacy Systems, Xbox Systems, Xb...   45.0   \n",
       "328594  [Video Games, Legacy Systems, Nintendo Systems...   33.0   \n",
       "328595             [Video Games, Game Genre of the Month]   None   \n",
       "\n",
       "        user_rating_cnt_90d  user_rating_avg_prev_rating_90d  \\\n",
       "0                         3                              1.5   \n",
       "1                         2                              5.0   \n",
       "2                         1                              NaN   \n",
       "3                         1                              NaN   \n",
       "4                         3                              5.0   \n",
       "...                     ...                              ...   \n",
       "328591                    2                              3.0   \n",
       "328592                    2                              4.0   \n",
       "328593                    3                              5.0   \n",
       "328594                    2                              5.0   \n",
       "328595                    2                              3.0   \n",
       "\n",
       "                          user_rating_list_10_recent_asin  \\\n",
       "0       B071J42387,B072MQNKYV,B087NNPYP3,B07P6MD9B7,B0...   \n",
       "1                                              B07KRWJCQW   \n",
       "2       B002I0H79C,B0041CWZEM,B001SEQWXQ,B019WRM1IA,B0...   \n",
       "3       B006HZA6VK,B0BN2FNKLM,B0086VPUHI,B0040UAYI4,B0...   \n",
       "4                                   B00A2ML6XG,B003VUO6LU   \n",
       "...                                                   ...   \n",
       "328591  B01F7S5NJW,B00BZS9JV2,B006VR689I,B00IRHE892,B0...   \n",
       "328592                              B06XSMSL45,B07796MBJ7   \n",
       "328593        B01LW6SS1X,B004RMK57U,B07CV6LH3V,B087SHFL9B   \n",
       "328594  B004AYCNR0,B007NUQICE,B000TYQL1O,B000SEU92W,B0...   \n",
       "328595                                         B09WS2QZXT   \n",
       "\n",
       "                                            item_sequence  \n",
       "0       [-1, -1, 3588, 3139, 3860, 1700, 4619, 2365, 8...  \n",
       "1               [-1, -1, -1, -1, -1, -1, -1, -1, -1, 903]  \n",
       "2       [-1, -1, -1, -1, -1, 2951, 2992, 3178, 4392, 1...  \n",
       "3       [3150, 1398, 2104, 3393, 4380, 1527, 4285, 156...  \n",
       "4             [-1, -1, -1, -1, -1, -1, -1, -1, 597, 1633]  \n",
       "...                                                   ...  \n",
       "328591  [-1, 2216, 6, 2912, 11, 1746, 1637, 3427, 3856...  \n",
       "328592        [-1, -1, -1, -1, -1, -1, -1, -1, 629, 2587]  \n",
       "328593   [-1, -1, -1, -1, -1, -1, 3213, 1381, 3958, 2765]  \n",
       "328594  [-1, -1, -1, 4394, 4158, 4013, 869, 2540, 1314...  \n",
       "328595          [-1, -1, -1, -1, -1, -1, -1, -1, -1, 958]  \n",
       "\n",
       "[328596 rows x 15 columns]"
      ]
     },
     "execution_count": 17,
     "metadata": {},
     "output_type": "execute_result"
    }
   ],
   "source": [
    "train_df"
   ]
  },
  {
   "cell_type": "markdown",
   "id": "5260fbe7-2f90-44a1-be74-ce5db9b511ee",
   "metadata": {},
   "source": [
    "# Train"
   ]
  },
  {
   "cell_type": "code",
   "execution_count": 18,
   "id": "240a04ed-8898-443f-b0f4-7399bfa63810",
   "metadata": {},
   "outputs": [],
   "source": [
    "rating_dataset = UserItemRatingDFDataset(\n",
    "    train_df, \"user_indice\", \"item_indice\", args.rating_col, args.timestamp_col\n",
    ")\n",
    "val_rating_dataset = UserItemRatingDFDataset(\n",
    "    val_df, \"user_indice\", \"item_indice\", args.rating_col, args.timestamp_col\n",
    ")\n",
    "\n",
    "train_loader = DataLoader(\n",
    "    rating_dataset, batch_size=args.batch_size, shuffle=True, drop_last=True\n",
    ")\n",
    "val_loader = DataLoader(\n",
    "    val_rating_dataset, batch_size=args.batch_size, shuffle=False, drop_last=False\n",
    ")"
   ]
  },
  {
   "cell_type": "code",
   "execution_count": 19,
   "id": "22dcf157-425f-4d15-9b53-e1ff93887def",
   "metadata": {
    "scrolled": true
   },
   "outputs": [],
   "source": [
    "n_items = len(item_indices)\n",
    "n_users = len(user_indices)\n",
    "\n",
    "model = init_model(n_users, n_items, args.embedding_dim, args.dropout)"
   ]
  },
  {
   "cell_type": "markdown",
   "id": "b8cbb2a8-a578-4ad2-941e-efd01d930336",
   "metadata": {},
   "source": [
    "#### Predict before train"
   ]
  },
  {
   "cell_type": "code",
   "execution_count": 20,
   "id": "26d95ffc-0aec-4239-aa33-d75dc2f40b3d",
   "metadata": {},
   "outputs": [
    {
     "data": {
      "text/plain": [
       "Embedding(4631, 128, padding_idx=4630)"
      ]
     },
     "execution_count": 20,
     "metadata": {},
     "output_type": "execute_result"
    }
   ],
   "source": [
    "model.item_embedding"
   ]
  },
  {
   "cell_type": "code",
   "execution_count": 21,
   "id": "0112de1e-1dce-4982-9663-a1df91fd0001",
   "metadata": {
    "scrolled": true
   },
   "outputs": [
    {
     "data": {
      "text/html": [
       "<div>\n",
       "<style scoped>\n",
       "    .dataframe tbody tr th:only-of-type {\n",
       "        vertical-align: middle;\n",
       "    }\n",
       "\n",
       "    .dataframe tbody tr th {\n",
       "        vertical-align: top;\n",
       "    }\n",
       "\n",
       "    .dataframe thead th {\n",
       "        text-align: right;\n",
       "    }\n",
       "</style>\n",
       "<table border=\"1\" class=\"dataframe\">\n",
       "  <thead>\n",
       "    <tr style=\"text-align: right;\">\n",
       "      <th></th>\n",
       "      <th>user_id</th>\n",
       "      <th>parent_asin</th>\n",
       "      <th>rating</th>\n",
       "      <th>timestamp</th>\n",
       "      <th>user_indice</th>\n",
       "      <th>item_indice</th>\n",
       "      <th>main_category</th>\n",
       "      <th>title</th>\n",
       "      <th>description</th>\n",
       "      <th>categories</th>\n",
       "      <th>price</th>\n",
       "      <th>user_rating_cnt_90d</th>\n",
       "      <th>user_rating_avg_prev_rating_90d</th>\n",
       "      <th>user_rating_list_10_recent_asin</th>\n",
       "      <th>item_sequence</th>\n",
       "    </tr>\n",
       "  </thead>\n",
       "  <tbody>\n",
       "    <tr>\n",
       "      <th>1245</th>\n",
       "      <td>AEHAFZUQPE7N3KZ7YF5X27HTGA5A</td>\n",
       "      <td>B07R6YZQB8</td>\n",
       "      <td>1.0</td>\n",
       "      <td>2022-01-10 19:38:36.201</td>\n",
       "      <td>16119</td>\n",
       "      <td>1649</td>\n",
       "      <td>All Electronics</td>\n",
       "      <td>Glistco Simple Feet- Horizontal Stand/Feet Com...</td>\n",
       "      <td>[]</td>\n",
       "      <td>[Video Games, PlayStation 4]</td>\n",
       "      <td>12.6</td>\n",
       "      <td>1</td>\n",
       "      <td>NaN</td>\n",
       "      <td>B004R9OVEG,B002JTX5RK,B003S3RFAY,B00341B3LW,B0...</td>\n",
       "      <td>[-1, -1, -1, -1, 4322, 2767, 1719, 3307, 496, ...</td>\n",
       "    </tr>\n",
       "    <tr>\n",
       "      <th>1573</th>\n",
       "      <td>AFBHJIL3UN5EUHHEALANUIXYGEYA</td>\n",
       "      <td>B0B1N7619L</td>\n",
       "      <td>0.0</td>\n",
       "      <td>2021-10-02 02:52:29.606</td>\n",
       "      <td>18994</td>\n",
       "      <td>1248</td>\n",
       "      <td>Video Games</td>\n",
       "      <td>Deruitu Switch Accessories Bundle Compatible w...</td>\n",
       "      <td>[]</td>\n",
       "      <td>[Video Games, Legacy Systems, PlayStation Syst...</td>\n",
       "      <td>39.99</td>\n",
       "      <td>1</td>\n",
       "      <td>NaN</td>\n",
       "      <td>B0C5K4M7WJ,B01N3ASPNV,B005N4I24Y,B07C79LP8M,B0...</td>\n",
       "      <td>[-1, -1, 415, 2487, 4278, 2907, 3157, 2540, 18...</td>\n",
       "    </tr>\n",
       "    <tr>\n",
       "      <th>1576</th>\n",
       "      <td>AEVHKUG4MXISWGQAY6YJROC3O5YQ</td>\n",
       "      <td>B08P1NS2X1</td>\n",
       "      <td>1.0</td>\n",
       "      <td>2022-04-25 18:41:18.626</td>\n",
       "      <td>15558</td>\n",
       "      <td>2998</td>\n",
       "      <td>Video Games</td>\n",
       "      <td>LEGO City Undercover - PlayStation 4</td>\n",
       "      <td>[Join the Chase! In LEGO CITY Undercover, play...</td>\n",
       "      <td>[Video Games, PlayStation 4, Games]</td>\n",
       "      <td>19.74</td>\n",
       "      <td>1</td>\n",
       "      <td>NaN</td>\n",
       "      <td>B00L59D9HG,B00P8EMB5A,B01L1Y0RZQ,B01GW3H3U8,B0...</td>\n",
       "      <td>[-1, -1, 1392, 2978, 1999, 2266, 2672, 1700, 3...</td>\n",
       "    </tr>\n",
       "    <tr>\n",
       "      <th>718</th>\n",
       "      <td>AFVSWUUY2EIM5FVF7LZGCRRKQ2KA</td>\n",
       "      <td>B079Y44LDC</td>\n",
       "      <td>1.0</td>\n",
       "      <td>2022-01-19 01:30:09.733</td>\n",
       "      <td>16979</td>\n",
       "      <td>4383</td>\n",
       "      <td>Video Games</td>\n",
       "      <td>Hello Neighbor - Nintendo Switch</td>\n",
       "      <td>[You move into a brand new suburb and notice y...</td>\n",
       "      <td>[Video Games, Nintendo Switch, Games]</td>\n",
       "      <td>19.99</td>\n",
       "      <td>2</td>\n",
       "      <td>1.0</td>\n",
       "      <td>B00BZS9JV2,B00Z9LUDX4,B07P9VKCF6,B08P1NS2X1,B0...</td>\n",
       "      <td>[6, 1101, 4523, 2998, 2488, 218, 1191, 2777, 1...</td>\n",
       "    </tr>\n",
       "    <tr>\n",
       "      <th>1877</th>\n",
       "      <td>AF3TAMOYZEDTYYEX4ZB23A6CS7ZA</td>\n",
       "      <td>B002I0K6X6</td>\n",
       "      <td>0.0</td>\n",
       "      <td>2022-02-03 23:14:16.202</td>\n",
       "      <td>17110</td>\n",
       "      <td>3970</td>\n",
       "      <td>Video Games</td>\n",
       "      <td>Playstation Move Navigation Controller</td>\n",
       "      <td>[Product Description, The PlayStation Move nav...</td>\n",
       "      <td>[Video Games, Legacy Systems, PlayStation Syst...</td>\n",
       "      <td>39.71</td>\n",
       "      <td>2</td>\n",
       "      <td>5.0</td>\n",
       "      <td>B000FGA1US,B00ZMBLKPG,B016P6KIFY,B01KZUL1CA,B0...</td>\n",
       "      <td>[746, 902, 786, 217, 965, 827, 2388, 2190, 942...</td>\n",
       "    </tr>\n",
       "    <tr>\n",
       "      <th>1540</th>\n",
       "      <td>AE3U66S5YBEMPF36PVYR6QAS5ETA</td>\n",
       "      <td>B002KAS4OW</td>\n",
       "      <td>0.0</td>\n",
       "      <td>2021-09-05 03:56:39.104</td>\n",
       "      <td>1629</td>\n",
       "      <td>1023</td>\n",
       "      <td>Video Games</td>\n",
       "      <td>Demon's Souls - PS3 [Digital Code]</td>\n",
       "      <td>[Deep beneath the Nexus, the Old One has awake...</td>\n",
       "      <td>[Video Games, Legacy Systems, PlayStation Syst...</td>\n",
       "      <td>None</td>\n",
       "      <td>2</td>\n",
       "      <td>5.0</td>\n",
       "      <td>B0B9MJK753,B07H13GWRH,B0C1K1R6HK,B001ELJEJW,B0...</td>\n",
       "      <td>[-1, -1, -1, -1, 1903, 4192, 165, 990, 3873, 4...</td>\n",
       "    </tr>\n",
       "    <tr>\n",
       "      <th>1579</th>\n",
       "      <td>AGD2KE77JSUWQKD5CGYVGCQYJPHQ</td>\n",
       "      <td>B00XBLQCLQ</td>\n",
       "      <td>0.0</td>\n",
       "      <td>2021-12-13 02:24:44.720</td>\n",
       "      <td>14691</td>\n",
       "      <td>2438</td>\n",
       "      <td>Video Games</td>\n",
       "      <td>Assassin’s Creed Syndicate - Gold Edition | PC...</td>\n",
       "      <td>[London, 1868. The Industrial Revolution unlea...</td>\n",
       "      <td>[Video Games, PC, Games]</td>\n",
       "      <td>66.35</td>\n",
       "      <td>1</td>\n",
       "      <td>NaN</td>\n",
       "      <td>B008DBJPLS,B00DWXV1B4,B00PQ1OQ4Y,B008KGN9DG,B0...</td>\n",
       "      <td>[2444, 2194, 2465, 2144, 2725, 3942, 3986, 562...</td>\n",
       "    </tr>\n",
       "    <tr>\n",
       "      <th>359</th>\n",
       "      <td>AFSKM4IMOVT5G3IAFHQ6Y7BI7TIA</td>\n",
       "      <td>B000MFOOLY</td>\n",
       "      <td>0.0</td>\n",
       "      <td>2021-12-31 00:17:17.881</td>\n",
       "      <td>7556</td>\n",
       "      <td>3056</td>\n",
       "      <td>Video Games</td>\n",
       "      <td>Teenage Mutant Ninja Turtles II: The Arcade Game</td>\n",
       "      <td>[The second TMNT game for the NES is based on ...</td>\n",
       "      <td>[Video Games, Legacy Systems, Nintendo Systems...</td>\n",
       "      <td>26.06</td>\n",
       "      <td>1</td>\n",
       "      <td>NaN</td>\n",
       "      <td>B00Z9TJHEC,B00TKLFES8,B017W1771Y,B01LD7MR2C,B0...</td>\n",
       "      <td>[19, 4369, 2011, 2562, 602, 271, 1789, 2487, 1...</td>\n",
       "    </tr>\n",
       "    <tr>\n",
       "      <th>1784</th>\n",
       "      <td>AHPJHWUFX7DFIVS5B3XNEK7JLSAQ</td>\n",
       "      <td>B001E56K5Y</td>\n",
       "      <td>1.0</td>\n",
       "      <td>2021-12-04 04:56:55.945</td>\n",
       "      <td>4637</td>\n",
       "      <td>3020</td>\n",
       "      <td>Video Games</td>\n",
       "      <td>Pure - Xbox 360</td>\n",
       "      <td>[Product Description, PURE, the next gold stan...</td>\n",
       "      <td>[Video Games, Legacy Systems, Xbox Systems, Xb...</td>\n",
       "      <td>25.0</td>\n",
       "      <td>1</td>\n",
       "      <td>NaN</td>\n",
       "      <td>B00DB2BI8M,B016XBGWAQ,B071S8M8TB,B07CZTVHY8,B0...</td>\n",
       "      <td>[431, 1783, 514, 4275, 1710, 4552, 3539, 2020,...</td>\n",
       "    </tr>\n",
       "    <tr>\n",
       "      <th>634</th>\n",
       "      <td>AH3YUGFVELCSHVCFS6WAMA3YLW4A</td>\n",
       "      <td>B005ZBNXMG</td>\n",
       "      <td>0.0</td>\n",
       "      <td>2022-06-16 16:35:49.712</td>\n",
       "      <td>6742</td>\n",
       "      <td>1750</td>\n",
       "      <td>Video Games</td>\n",
       "      <td>Mario &amp; Sonic at the London 2012 Olympic Games...</td>\n",
       "      <td>[Product Description, Arriving on Nintendo’s n...</td>\n",
       "      <td>[Video Games, Legacy Systems, Nintendo Systems...</td>\n",
       "      <td>29.72</td>\n",
       "      <td>1</td>\n",
       "      <td>NaN</td>\n",
       "      <td>B00341B3LW,B07YBXFF99,B00KQHHDZC,B00OBZNI0O,B0...</td>\n",
       "      <td>[-1, -1, -1, -1, 3307, 4217, 728, 2102, 995, 828]</td>\n",
       "    </tr>\n",
       "  </tbody>\n",
       "</table>\n",
       "</div>"
      ],
      "text/plain": [
       "                           user_id parent_asin  rating  \\\n",
       "1245  AEHAFZUQPE7N3KZ7YF5X27HTGA5A  B07R6YZQB8     1.0   \n",
       "1573  AFBHJIL3UN5EUHHEALANUIXYGEYA  B0B1N7619L     0.0   \n",
       "1576  AEVHKUG4MXISWGQAY6YJROC3O5YQ  B08P1NS2X1     1.0   \n",
       "718   AFVSWUUY2EIM5FVF7LZGCRRKQ2KA  B079Y44LDC     1.0   \n",
       "1877  AF3TAMOYZEDTYYEX4ZB23A6CS7ZA  B002I0K6X6     0.0   \n",
       "1540  AE3U66S5YBEMPF36PVYR6QAS5ETA  B002KAS4OW     0.0   \n",
       "1579  AGD2KE77JSUWQKD5CGYVGCQYJPHQ  B00XBLQCLQ     0.0   \n",
       "359   AFSKM4IMOVT5G3IAFHQ6Y7BI7TIA  B000MFOOLY     0.0   \n",
       "1784  AHPJHWUFX7DFIVS5B3XNEK7JLSAQ  B001E56K5Y     1.0   \n",
       "634   AH3YUGFVELCSHVCFS6WAMA3YLW4A  B005ZBNXMG     0.0   \n",
       "\n",
       "                   timestamp  user_indice  item_indice    main_category  \\\n",
       "1245 2022-01-10 19:38:36.201        16119         1649  All Electronics   \n",
       "1573 2021-10-02 02:52:29.606        18994         1248      Video Games   \n",
       "1576 2022-04-25 18:41:18.626        15558         2998      Video Games   \n",
       "718  2022-01-19 01:30:09.733        16979         4383      Video Games   \n",
       "1877 2022-02-03 23:14:16.202        17110         3970      Video Games   \n",
       "1540 2021-09-05 03:56:39.104         1629         1023      Video Games   \n",
       "1579 2021-12-13 02:24:44.720        14691         2438      Video Games   \n",
       "359  2021-12-31 00:17:17.881         7556         3056      Video Games   \n",
       "1784 2021-12-04 04:56:55.945         4637         3020      Video Games   \n",
       "634  2022-06-16 16:35:49.712         6742         1750      Video Games   \n",
       "\n",
       "                                                  title  \\\n",
       "1245  Glistco Simple Feet- Horizontal Stand/Feet Com...   \n",
       "1573  Deruitu Switch Accessories Bundle Compatible w...   \n",
       "1576               LEGO City Undercover - PlayStation 4   \n",
       "718                    Hello Neighbor - Nintendo Switch   \n",
       "1877             Playstation Move Navigation Controller   \n",
       "1540                 Demon's Souls - PS3 [Digital Code]   \n",
       "1579  Assassin’s Creed Syndicate - Gold Edition | PC...   \n",
       "359    Teenage Mutant Ninja Turtles II: The Arcade Game   \n",
       "1784                                    Pure - Xbox 360   \n",
       "634   Mario & Sonic at the London 2012 Olympic Games...   \n",
       "\n",
       "                                            description  \\\n",
       "1245                                                 []   \n",
       "1573                                                 []   \n",
       "1576  [Join the Chase! In LEGO CITY Undercover, play...   \n",
       "718   [You move into a brand new suburb and notice y...   \n",
       "1877  [Product Description, The PlayStation Move nav...   \n",
       "1540  [Deep beneath the Nexus, the Old One has awake...   \n",
       "1579  [London, 1868. The Industrial Revolution unlea...   \n",
       "359   [The second TMNT game for the NES is based on ...   \n",
       "1784  [Product Description, PURE, the next gold stan...   \n",
       "634   [Product Description, Arriving on Nintendo’s n...   \n",
       "\n",
       "                                             categories  price  \\\n",
       "1245                       [Video Games, PlayStation 4]   12.6   \n",
       "1573  [Video Games, Legacy Systems, PlayStation Syst...  39.99   \n",
       "1576                [Video Games, PlayStation 4, Games]  19.74   \n",
       "718               [Video Games, Nintendo Switch, Games]  19.99   \n",
       "1877  [Video Games, Legacy Systems, PlayStation Syst...  39.71   \n",
       "1540  [Video Games, Legacy Systems, PlayStation Syst...   None   \n",
       "1579                           [Video Games, PC, Games]  66.35   \n",
       "359   [Video Games, Legacy Systems, Nintendo Systems...  26.06   \n",
       "1784  [Video Games, Legacy Systems, Xbox Systems, Xb...   25.0   \n",
       "634   [Video Games, Legacy Systems, Nintendo Systems...  29.72   \n",
       "\n",
       "      user_rating_cnt_90d  user_rating_avg_prev_rating_90d  \\\n",
       "1245                    1                              NaN   \n",
       "1573                    1                              NaN   \n",
       "1576                    1                              NaN   \n",
       "718                     2                              1.0   \n",
       "1877                    2                              5.0   \n",
       "1540                    2                              5.0   \n",
       "1579                    1                              NaN   \n",
       "359                     1                              NaN   \n",
       "1784                    1                              NaN   \n",
       "634                     1                              NaN   \n",
       "\n",
       "                        user_rating_list_10_recent_asin  \\\n",
       "1245  B004R9OVEG,B002JTX5RK,B003S3RFAY,B00341B3LW,B0...   \n",
       "1573  B0C5K4M7WJ,B01N3ASPNV,B005N4I24Y,B07C79LP8M,B0...   \n",
       "1576  B00L59D9HG,B00P8EMB5A,B01L1Y0RZQ,B01GW3H3U8,B0...   \n",
       "718   B00BZS9JV2,B00Z9LUDX4,B07P9VKCF6,B08P1NS2X1,B0...   \n",
       "1877  B000FGA1US,B00ZMBLKPG,B016P6KIFY,B01KZUL1CA,B0...   \n",
       "1540  B0B9MJK753,B07H13GWRH,B0C1K1R6HK,B001ELJEJW,B0...   \n",
       "1579  B008DBJPLS,B00DWXV1B4,B00PQ1OQ4Y,B008KGN9DG,B0...   \n",
       "359   B00Z9TJHEC,B00TKLFES8,B017W1771Y,B01LD7MR2C,B0...   \n",
       "1784  B00DB2BI8M,B016XBGWAQ,B071S8M8TB,B07CZTVHY8,B0...   \n",
       "634   B00341B3LW,B07YBXFF99,B00KQHHDZC,B00OBZNI0O,B0...   \n",
       "\n",
       "                                          item_sequence  \n",
       "1245  [-1, -1, -1, -1, 4322, 2767, 1719, 3307, 496, ...  \n",
       "1573  [-1, -1, 415, 2487, 4278, 2907, 3157, 2540, 18...  \n",
       "1576  [-1, -1, 1392, 2978, 1999, 2266, 2672, 1700, 3...  \n",
       "718   [6, 1101, 4523, 2998, 2488, 218, 1191, 2777, 1...  \n",
       "1877  [746, 902, 786, 217, 965, 827, 2388, 2190, 942...  \n",
       "1540  [-1, -1, -1, -1, 1903, 4192, 165, 990, 3873, 4...  \n",
       "1579  [2444, 2194, 2465, 2144, 2725, 3942, 3986, 562...  \n",
       "359   [19, 4369, 2011, 2562, 602, 271, 1789, 2487, 1...  \n",
       "1784  [431, 1783, 514, 4275, 1710, 4552, 3539, 2020,...  \n",
       "634   [-1, -1, -1, -1, 3307, 4217, 728, 2102, 995, 828]  "
      ]
     },
     "execution_count": 21,
     "metadata": {},
     "output_type": "execute_result"
    }
   ],
   "source": [
    "val_df = val_rating_dataset.df\n",
    "val_df.sample(10)"
   ]
  },
  {
   "cell_type": "code",
   "execution_count": 22,
   "id": "51e239c6-03e3-4506-b444-55b8337a518a",
   "metadata": {},
   "outputs": [
    {
     "data": {
      "text/plain": [
       "3450"
      ]
     },
     "execution_count": 22,
     "metadata": {},
     "output_type": "execute_result"
    }
   ],
   "source": [
    "idm.get_item_index(\"B00FA1CIUE\")"
   ]
  },
  {
   "cell_type": "code",
   "execution_count": 23,
   "id": "9eb1583b-40f7-4157-a383-5891389ac119",
   "metadata": {
    "scrolled": true
   },
   "outputs": [
    {
     "data": {
      "text/html": [
       "<div>\n",
       "<style scoped>\n",
       "    .dataframe tbody tr th:only-of-type {\n",
       "        vertical-align: middle;\n",
       "    }\n",
       "\n",
       "    .dataframe tbody tr th {\n",
       "        vertical-align: top;\n",
       "    }\n",
       "\n",
       "    .dataframe thead th {\n",
       "        text-align: right;\n",
       "    }\n",
       "</style>\n",
       "<table border=\"1\" class=\"dataframe\">\n",
       "  <thead>\n",
       "    <tr style=\"text-align: right;\">\n",
       "      <th></th>\n",
       "      <th>user_id</th>\n",
       "      <th>parent_asin</th>\n",
       "      <th>rating</th>\n",
       "      <th>timestamp</th>\n",
       "      <th>user_indice</th>\n",
       "      <th>item_indice</th>\n",
       "      <th>main_category</th>\n",
       "      <th>title</th>\n",
       "      <th>description</th>\n",
       "      <th>categories</th>\n",
       "      <th>price</th>\n",
       "      <th>user_rating_cnt_90d</th>\n",
       "      <th>user_rating_avg_prev_rating_90d</th>\n",
       "      <th>user_rating_list_10_recent_asin</th>\n",
       "      <th>item_sequence</th>\n",
       "    </tr>\n",
       "  </thead>\n",
       "  <tbody>\n",
       "    <tr>\n",
       "      <th>461</th>\n",
       "      <td>AH4AOFTTDPHPAFAAVFMAF25H2LIQ</td>\n",
       "      <td>B07DK1H3H5</td>\n",
       "      <td>1.0</td>\n",
       "      <td>2022-01-09 17:19:07.823</td>\n",
       "      <td>9913</td>\n",
       "      <td>3480</td>\n",
       "      <td>Video Games</td>\n",
       "      <td>Cyberpunk 2077 - PC [Game Download Code in Box]</td>\n",
       "      <td>[Cyberpunk 2077 is an open world, an action adventure story set in Night City, a megalopolis obsessed with power, glamour and body modification. You play at V, a mercenary outlaw going after a one of a kind implant that is the key to immortality. You can customize your character's cyberwar, skill set and playstyle, and explore a vast city where the choices you make shape the story and the world around you.]</td>\n",
       "      <td>[Video Games, PC, Games]</td>\n",
       "      <td>None</td>\n",
       "      <td>2</td>\n",
       "      <td>5.0</td>\n",
       "      <td>B000PS4X9G,B00J5C3Z10,B00DBLBMBQ,B07WS18ZS3,B002XH972U,B0088TN5FM,B00XBLQCLQ,B01GY35W22,B07DKYN13M,B08JDVKWHS</td>\n",
       "      <td>[1090, 2820, 828, 4439, 3090, 2330, 2438, 1289, 1344, 4335]</td>\n",
       "    </tr>\n",
       "    <tr>\n",
       "      <th>709</th>\n",
       "      <td>AH4AOFTTDPHPAFAAVFMAF25H2LIQ</td>\n",
       "      <td>B00IAVDOS6</td>\n",
       "      <td>0.0</td>\n",
       "      <td>2022-01-09 17:19:07.823</td>\n",
       "      <td>9913</td>\n",
       "      <td>1236</td>\n",
       "      <td>Video Games</td>\n",
       "      <td>Xbox One Stereo Headset Adapter</td>\n",
       "      <td>[Plug your favorite compatible headset into the Xbox One Stereo Headset Adapter and hear the action just the way you like it. Easily adjust chat audio without taking your hands off the controller. Add game audio by connecting directly to your console or TV., Non-compatible headsets The following headsets are incompatible with the Xbox One Stereo Headset Adapter: Mad Catz Tritton Warhead headset Mad Catz Tritton Primer headset (Mad Catz offers an adapter for the Primer headset to convert the 2.5-mm audio jack to a 3.5-mm audio jack. Contact Mad Catz for support.) The Xbox 360 Wireless Headset and Xbox 360 Wireless Bluetooth Headset Headsets with this 2.5-mm connector will not work because of the connector format. This connector includes a long, cylindrical pin in the middle of the connecting side that does not fit into the Xbox One Stereo Headset Adapter.]</td>\n",
       "      <td>[Video Games, Xbox One, Accessories, Cables &amp; Adapters, Adapters]</td>\n",
       "      <td>36.97</td>\n",
       "      <td>2</td>\n",
       "      <td>5.0</td>\n",
       "      <td>B000PS4X9G,B00J5C3Z10,B00DBLBMBQ,B07WS18ZS3,B002XH972U,B0088TN5FM,B00XBLQCLQ,B01GY35W22,B07DKYN13M,B08JDVKWHS</td>\n",
       "      <td>[1090, 2820, 828, 4439, 3090, 2330, 2438, 1289, 1344, 4335]</td>\n",
       "    </tr>\n",
       "    <tr>\n",
       "      <th>755</th>\n",
       "      <td>AH4AOFTTDPHPAFAAVFMAF25H2LIQ</td>\n",
       "      <td>B08JDVKWHS</td>\n",
       "      <td>1.0</td>\n",
       "      <td>2022-01-09 17:09:46.436</td>\n",
       "      <td>9913</td>\n",
       "      <td>4335</td>\n",
       "      <td>Video Games</td>\n",
       "      <td>Marvel's Spider-Man: Miles Morales Launch Edition - PlayStation 4</td>\n",
       "      <td>[In the latest adventure in the Marvel's spider-man universe, teenager miles morales is adjusting to his new home while following in the footsteps of his mentor, peter parker, as a new spider-man. But when a fierce power struggle threatens to destroy his new home, the aspiring hero realizes that with great power, there must also come great responsibility. To save all of Marvel's new York, miles must take up the mantle of spider-man and own it.]</td>\n",
       "      <td>[Video Games, PlayStation 4, Games]</td>\n",
       "      <td>57.98</td>\n",
       "      <td>1</td>\n",
       "      <td>NaN</td>\n",
       "      <td>B008PQU3E4,B000PS4X9G,B00J5C3Z10,B00DBLBMBQ,B07WS18ZS3,B002XH972U,B0088TN5FM,B00XBLQCLQ,B01GY35W22,B07DKYN13M</td>\n",
       "      <td>[589, 1090, 2820, 828, 4439, 3090, 2330, 2438, 1289, 1344]</td>\n",
       "    </tr>\n",
       "    <tr>\n",
       "      <th>1467</th>\n",
       "      <td>AH4AOFTTDPHPAFAAVFMAF25H2LIQ</td>\n",
       "      <td>B07HHVF2XG</td>\n",
       "      <td>0.0</td>\n",
       "      <td>2022-01-09 17:09:46.436</td>\n",
       "      <td>9913</td>\n",
       "      <td>2986</td>\n",
       "      <td>All Electronics</td>\n",
       "      <td>PlayStation Classic</td>\n",
       "      <td>[Introducing PlayStation Classic A miniature recreation of the iconic PlayStation console, pre loaded with 20 fan favorite games along with two wired controllers for local multiplayer showdowns and a virtual memory card for vital game saves., PlayStation Classic also features the same famous logo, button layout and outer packaging – but this mini console is approximately 45 percent smaller than the original PlayStation and includes a HDMI cable to connect directly to a TV., PlayStation Classic is the perfect console for retro loving fans – and for a new generation wanting to experience the dawn of PlayStation for the first time.]</td>\n",
       "      <td>[Video Games, Legacy Systems, PlayStation Systems, PlayStation, Consoles]</td>\n",
       "      <td>99.0</td>\n",
       "      <td>1</td>\n",
       "      <td>NaN</td>\n",
       "      <td>B008PQU3E4,B000PS4X9G,B00J5C3Z10,B00DBLBMBQ,B07WS18ZS3,B002XH972U,B0088TN5FM,B00XBLQCLQ,B01GY35W22,B07DKYN13M</td>\n",
       "      <td>[589, 1090, 2820, 828, 4439, 3090, 2330, 2438, 1289, 1344]</td>\n",
       "    </tr>\n",
       "  </tbody>\n",
       "</table>\n",
       "</div>"
      ],
      "text/plain": [
       "                           user_id parent_asin  rating  \\\n",
       "461   AH4AOFTTDPHPAFAAVFMAF25H2LIQ  B07DK1H3H5     1.0   \n",
       "709   AH4AOFTTDPHPAFAAVFMAF25H2LIQ  B00IAVDOS6     0.0   \n",
       "755   AH4AOFTTDPHPAFAAVFMAF25H2LIQ  B08JDVKWHS     1.0   \n",
       "1467  AH4AOFTTDPHPAFAAVFMAF25H2LIQ  B07HHVF2XG     0.0   \n",
       "\n",
       "                   timestamp  user_indice  item_indice    main_category  \\\n",
       "461  2022-01-09 17:19:07.823         9913         3480      Video Games   \n",
       "709  2022-01-09 17:19:07.823         9913         1236      Video Games   \n",
       "755  2022-01-09 17:09:46.436         9913         4335      Video Games   \n",
       "1467 2022-01-09 17:09:46.436         9913         2986  All Electronics   \n",
       "\n",
       "                                                                  title  \\\n",
       "461                     Cyberpunk 2077 - PC [Game Download Code in Box]   \n",
       "709                                     Xbox One Stereo Headset Adapter   \n",
       "755   Marvel's Spider-Man: Miles Morales Launch Edition - PlayStation 4   \n",
       "1467                                                PlayStation Classic   \n",
       "\n",
       "                                                                                                                                                                                                                                                                                                                                                                                                                                                                                                                                                                                                                                                                                                                                                                                                                                                                                              description  \\\n",
       "461                                                                                                                                                                                                                                                                                                                                                                                                                                                                            [Cyberpunk 2077 is an open world, an action adventure story set in Night City, a megalopolis obsessed with power, glamour and body modification. You play at V, a mercenary outlaw going after a one of a kind implant that is the key to immortality. You can customize your character's cyberwar, skill set and playstyle, and explore a vast city where the choices you make shape the story and the world around you.]   \n",
       "709   [Plug your favorite compatible headset into the Xbox One Stereo Headset Adapter and hear the action just the way you like it. Easily adjust chat audio without taking your hands off the controller. Add game audio by connecting directly to your console or TV., Non-compatible headsets The following headsets are incompatible with the Xbox One Stereo Headset Adapter: Mad Catz Tritton Warhead headset Mad Catz Tritton Primer headset (Mad Catz offers an adapter for the Primer headset to convert the 2.5-mm audio jack to a 3.5-mm audio jack. Contact Mad Catz for support.) The Xbox 360 Wireless Headset and Xbox 360 Wireless Bluetooth Headset Headsets with this 2.5-mm connector will not work because of the connector format. This connector includes a long, cylindrical pin in the middle of the connecting side that does not fit into the Xbox One Stereo Headset Adapter.]   \n",
       "755                                                                                                                                                                                                                                                                                                                                                                                                                                      [In the latest adventure in the Marvel's spider-man universe, teenager miles morales is adjusting to his new home while following in the footsteps of his mentor, peter parker, as a new spider-man. But when a fierce power struggle threatens to destroy his new home, the aspiring hero realizes that with great power, there must also come great responsibility. To save all of Marvel's new York, miles must take up the mantle of spider-man and own it.]   \n",
       "1467                                                                                                                                                                                                                                        [Introducing PlayStation Classic A miniature recreation of the iconic PlayStation console, pre loaded with 20 fan favorite games along with two wired controllers for local multiplayer showdowns and a virtual memory card for vital game saves., PlayStation Classic also features the same famous logo, button layout and outer packaging – but this mini console is approximately 45 percent smaller than the original PlayStation and includes a HDMI cable to connect directly to a TV., PlayStation Classic is the perfect console for retro loving fans – and for a new generation wanting to experience the dawn of PlayStation for the first time.]   \n",
       "\n",
       "                                                                     categories  \\\n",
       "461                                                    [Video Games, PC, Games]   \n",
       "709           [Video Games, Xbox One, Accessories, Cables & Adapters, Adapters]   \n",
       "755                                         [Video Games, PlayStation 4, Games]   \n",
       "1467  [Video Games, Legacy Systems, PlayStation Systems, PlayStation, Consoles]   \n",
       "\n",
       "      price  user_rating_cnt_90d  user_rating_avg_prev_rating_90d  \\\n",
       "461    None                    2                              5.0   \n",
       "709   36.97                    2                              5.0   \n",
       "755   57.98                    1                              NaN   \n",
       "1467   99.0                    1                              NaN   \n",
       "\n",
       "                                                                                    user_rating_list_10_recent_asin  \\\n",
       "461   B000PS4X9G,B00J5C3Z10,B00DBLBMBQ,B07WS18ZS3,B002XH972U,B0088TN5FM,B00XBLQCLQ,B01GY35W22,B07DKYN13M,B08JDVKWHS   \n",
       "709   B000PS4X9G,B00J5C3Z10,B00DBLBMBQ,B07WS18ZS3,B002XH972U,B0088TN5FM,B00XBLQCLQ,B01GY35W22,B07DKYN13M,B08JDVKWHS   \n",
       "755   B008PQU3E4,B000PS4X9G,B00J5C3Z10,B00DBLBMBQ,B07WS18ZS3,B002XH972U,B0088TN5FM,B00XBLQCLQ,B01GY35W22,B07DKYN13M   \n",
       "1467  B008PQU3E4,B000PS4X9G,B00J5C3Z10,B00DBLBMBQ,B07WS18ZS3,B002XH972U,B0088TN5FM,B00XBLQCLQ,B01GY35W22,B07DKYN13M   \n",
       "\n",
       "                                                    item_sequence  \n",
       "461   [1090, 2820, 828, 4439, 3090, 2330, 2438, 1289, 1344, 4335]  \n",
       "709   [1090, 2820, 828, 4439, 3090, 2330, 2438, 1289, 1344, 4335]  \n",
       "755    [589, 1090, 2820, 828, 4439, 3090, 2330, 2438, 1289, 1344]  \n",
       "1467   [589, 1090, 2820, 828, 4439, 3090, 2330, 2438, 1289, 1344]  "
      ]
     },
     "metadata": {},
     "output_type": "display_data"
    }
   ],
   "source": [
    "# user_id = val_df.sample(1)[args.user_col].values[0]\n",
    "user_id = \"AH4AOFTTDPHPAFAAVFMAF25H2LIQ\"\n",
    "test_df = val_df.loc[lambda df: df[args.user_col].eq(user_id)]\n",
    "with pd.option_context(\"display.max_colwidth\", None):\n",
    "    display(test_df)"
   ]
  },
  {
   "cell_type": "code",
   "execution_count": 24,
   "id": "c48fbc80-eda8-4dff-a246-95f8f2f75082",
   "metadata": {
    "scrolled": true
   },
   "outputs": [
    {
     "name": "stderr",
     "output_type": "stream",
     "text": [
      "\u001b[32m2024-10-26 11:44:59.929\u001b[0m | \u001b[1mINFO    \u001b[0m | \u001b[36m__main__\u001b[0m:\u001b[36m<module>\u001b[0m:\u001b[36m4\u001b[0m - \u001b[1mTest predicting before training with user_id = AH4AOFTTDPHPAFAAVFMAF25H2LIQ and parent_asin = B07DK1H3H5\u001b[0m\n"
     ]
    },
    {
     "data": {
      "text/plain": [
       "tensor([[0.4554]], grad_fn=<SigmoidBackward0>)"
      ]
     },
     "execution_count": 24,
     "metadata": {},
     "output_type": "execute_result"
    }
   ],
   "source": [
    "test_row = test_df.loc[lambda df: df[args.rating_col].gt(0)].iloc[0]\n",
    "item_id = test_row[args.item_col]\n",
    "item_sequence = test_row[\"item_sequence\"]\n",
    "logger.info(\n",
    "    f\"Test predicting before training with {args.user_col} = {user_id} and {args.item_col} = {item_id}\"\n",
    ")\n",
    "user_indice = idm.get_user_index(user_id)\n",
    "item_indice = idm.get_item_index(item_id)\n",
    "user = torch.tensor([user_indice])\n",
    "item_sequence = torch.tensor([item_sequence])\n",
    "item = torch.tensor([item_indice])\n",
    "\n",
    "model.eval()\n",
    "model.predict(user, item_sequence, item)"
   ]
  },
  {
   "cell_type": "markdown",
   "id": "c2fd217c-c0c8-4e7c-81fe-6eb36f4729b5",
   "metadata": {},
   "source": [
    "#### Training loop"
   ]
  },
  {
   "cell_type": "markdown",
   "id": "1e9daad4-1365-4e8e-8f73-80ca5513572b",
   "metadata": {},
   "source": [
    "##### Overfit 1 batch"
   ]
  },
  {
   "cell_type": "code",
   "execution_count": 25,
   "id": "1a1cd9bd-e2c6-404b-b6ae-b26a7d35a0ba",
   "metadata": {
    "scrolled": true
   },
   "outputs": [
    {
     "name": "stderr",
     "output_type": "stream",
     "text": [
      "GPU available: True (mps), used: True\n",
      "TPU available: False, using: 0 TPU cores\n",
      "HPU available: False, using: 0 HPUs\n",
      "`Trainer(overfit_batches=1)` was configured so 1 batch will be used.\n",
      "\n",
      "  | Name  | Type                     | Params | Mode \n",
      "-----------------------------------------------------------\n",
      "0 | model | SequenceRatingPrediction | 3.2 M  | train\n",
      "-----------------------------------------------------------\n",
      "3.2 M     Trainable params\n",
      "0         Non-trainable params\n",
      "3.2 M     Total params\n",
      "12.990    Total estimated model params size (MB)\n",
      "11        Modules in train mode\n",
      "0         Modules in eval mode\n"
     ]
    },
    {
     "data": {
      "application/vnd.jupyter.widget-view+json": {
       "model_id": "",
       "version_major": 2,
       "version_minor": 0
      },
      "text/plain": [
       "Sanity Checking: |                                                                                            …"
      ]
     },
     "metadata": {},
     "output_type": "display_data"
    },
    {
     "name": "stderr",
     "output_type": "stream",
     "text": [
      "/Users/dvq/frostmourne/recsys-mvp/.venv/lib/python3.11/site-packages/lightning/pytorch/trainer/connectors/data_connector.py:251: UserWarning:\n",
      "\n",
      "You requested to overfit but enabled val dataloader shuffling. We are turning off the val dataloader shuffling for you.\n",
      "\n",
      "/Users/dvq/frostmourne/recsys-mvp/.venv/lib/python3.11/site-packages/lightning/pytorch/trainer/connectors/data_connector.py:424: PossibleUserWarning:\n",
      "\n",
      "The 'val_dataloader' does not have many workers which may be a bottleneck. Consider increasing the value of the `num_workers` argument` to `num_workers=10` in the `DataLoader` to improve performance.\n",
      "\n",
      "/Users/dvq/frostmourne/recsys-mvp/.venv/lib/python3.11/site-packages/lightning/pytorch/trainer/connectors/data_connector.py:251: UserWarning:\n",
      "\n",
      "You requested to overfit but enabled train dataloader shuffling. We are turning off the train dataloader shuffling for you.\n",
      "\n",
      "/Users/dvq/frostmourne/recsys-mvp/.venv/lib/python3.11/site-packages/lightning/pytorch/trainer/connectors/data_connector.py:424: PossibleUserWarning:\n",
      "\n",
      "The 'train_dataloader' does not have many workers which may be a bottleneck. Consider increasing the value of the `num_workers` argument` to `num_workers=10` in the `DataLoader` to improve performance.\n",
      "\n",
      "/Users/dvq/frostmourne/recsys-mvp/.venv/lib/python3.11/site-packages/lightning/pytorch/loops/fit_loop.py:298: PossibleUserWarning:\n",
      "\n",
      "The number of training batches (1) is smaller than the logging interval Trainer(log_every_n_steps=50). Set a lower value for log_every_n_steps if you want to see logs for the training epoch.\n",
      "\n"
     ]
    },
    {
     "data": {
      "application/vnd.jupyter.widget-view+json": {
       "model_id": "2399457a76094d91a51998e2073c6265",
       "version_major": 2,
       "version_minor": 0
      },
      "text/plain": [
       "Training: |                                                                                                   …"
      ]
     },
     "metadata": {},
     "output_type": "display_data"
    },
    {
     "data": {
      "application/vnd.jupyter.widget-view+json": {
       "model_id": "",
       "version_major": 2,
       "version_minor": 0
      },
      "text/plain": [
       "Validation: |                                                                                                 …"
      ]
     },
     "metadata": {},
     "output_type": "display_data"
    },
    {
     "data": {
      "application/vnd.jupyter.widget-view+json": {
       "model_id": "",
       "version_major": 2,
       "version_minor": 0
      },
      "text/plain": [
       "Validation: |                                                                                                 …"
      ]
     },
     "metadata": {},
     "output_type": "display_data"
    },
    {
     "data": {
      "application/vnd.jupyter.widget-view+json": {
       "model_id": "",
       "version_major": 2,
       "version_minor": 0
      },
      "text/plain": [
       "Validation: |                                                                                                 …"
      ]
     },
     "metadata": {},
     "output_type": "display_data"
    },
    {
     "data": {
      "application/vnd.jupyter.widget-view+json": {
       "model_id": "",
       "version_major": 2,
       "version_minor": 0
      },
      "text/plain": [
       "Validation: |                                                                                                 …"
      ]
     },
     "metadata": {},
     "output_type": "display_data"
    },
    {
     "data": {
      "application/vnd.jupyter.widget-view+json": {
       "model_id": "",
       "version_major": 2,
       "version_minor": 0
      },
      "text/plain": [
       "Validation: |                                                                                                 …"
      ]
     },
     "metadata": {},
     "output_type": "display_data"
    },
    {
     "data": {
      "application/vnd.jupyter.widget-view+json": {
       "model_id": "",
       "version_major": 2,
       "version_minor": 0
      },
      "text/plain": [
       "Validation: |                                                                                                 …"
      ]
     },
     "metadata": {},
     "output_type": "display_data"
    },
    {
     "data": {
      "application/vnd.jupyter.widget-view+json": {
       "model_id": "",
       "version_major": 2,
       "version_minor": 0
      },
      "text/plain": [
       "Validation: |                                                                                                 …"
      ]
     },
     "metadata": {},
     "output_type": "display_data"
    },
    {
     "data": {
      "application/vnd.jupyter.widget-view+json": {
       "model_id": "",
       "version_major": 2,
       "version_minor": 0
      },
      "text/plain": [
       "Validation: |                                                                                                 …"
      ]
     },
     "metadata": {},
     "output_type": "display_data"
    },
    {
     "data": {
      "application/vnd.jupyter.widget-view+json": {
       "model_id": "",
       "version_major": 2,
       "version_minor": 0
      },
      "text/plain": [
       "Validation: |                                                                                                 …"
      ]
     },
     "metadata": {},
     "output_type": "display_data"
    },
    {
     "data": {
      "application/vnd.jupyter.widget-view+json": {
       "model_id": "",
       "version_major": 2,
       "version_minor": 0
      },
      "text/plain": [
       "Validation: |                                                                                                 …"
      ]
     },
     "metadata": {},
     "output_type": "display_data"
    },
    {
     "data": {
      "application/vnd.jupyter.widget-view+json": {
       "model_id": "",
       "version_major": 2,
       "version_minor": 0
      },
      "text/plain": [
       "Validation: |                                                                                                 …"
      ]
     },
     "metadata": {},
     "output_type": "display_data"
    },
    {
     "data": {
      "application/vnd.jupyter.widget-view+json": {
       "model_id": "",
       "version_major": 2,
       "version_minor": 0
      },
      "text/plain": [
       "Validation: |                                                                                                 …"
      ]
     },
     "metadata": {},
     "output_type": "display_data"
    },
    {
     "data": {
      "application/vnd.jupyter.widget-view+json": {
       "model_id": "",
       "version_major": 2,
       "version_minor": 0
      },
      "text/plain": [
       "Validation: |                                                                                                 …"
      ]
     },
     "metadata": {},
     "output_type": "display_data"
    },
    {
     "data": {
      "application/vnd.jupyter.widget-view+json": {
       "model_id": "",
       "version_major": 2,
       "version_minor": 0
      },
      "text/plain": [
       "Validation: |                                                                                                 …"
      ]
     },
     "metadata": {},
     "output_type": "display_data"
    },
    {
     "data": {
      "application/vnd.jupyter.widget-view+json": {
       "model_id": "",
       "version_major": 2,
       "version_minor": 0
      },
      "text/plain": [
       "Validation: |                                                                                                 …"
      ]
     },
     "metadata": {},
     "output_type": "display_data"
    },
    {
     "data": {
      "application/vnd.jupyter.widget-view+json": {
       "model_id": "",
       "version_major": 2,
       "version_minor": 0
      },
      "text/plain": [
       "Validation: |                                                                                                 …"
      ]
     },
     "metadata": {},
     "output_type": "display_data"
    },
    {
     "data": {
      "application/vnd.jupyter.widget-view+json": {
       "model_id": "",
       "version_major": 2,
       "version_minor": 0
      },
      "text/plain": [
       "Validation: |                                                                                                 …"
      ]
     },
     "metadata": {},
     "output_type": "display_data"
    },
    {
     "data": {
      "application/vnd.jupyter.widget-view+json": {
       "model_id": "",
       "version_major": 2,
       "version_minor": 0
      },
      "text/plain": [
       "Validation: |                                                                                                 …"
      ]
     },
     "metadata": {},
     "output_type": "display_data"
    },
    {
     "data": {
      "application/vnd.jupyter.widget-view+json": {
       "model_id": "",
       "version_major": 2,
       "version_minor": 0
      },
      "text/plain": [
       "Validation: |                                                                                                 …"
      ]
     },
     "metadata": {},
     "output_type": "display_data"
    },
    {
     "data": {
      "application/vnd.jupyter.widget-view+json": {
       "model_id": "",
       "version_major": 2,
       "version_minor": 0
      },
      "text/plain": [
       "Validation: |                                                                                                 …"
      ]
     },
     "metadata": {},
     "output_type": "display_data"
    },
    {
     "data": {
      "application/vnd.jupyter.widget-view+json": {
       "model_id": "",
       "version_major": 2,
       "version_minor": 0
      },
      "text/plain": [
       "Validation: |                                                                                                 …"
      ]
     },
     "metadata": {},
     "output_type": "display_data"
    },
    {
     "data": {
      "application/vnd.jupyter.widget-view+json": {
       "model_id": "",
       "version_major": 2,
       "version_minor": 0
      },
      "text/plain": [
       "Validation: |                                                                                                 …"
      ]
     },
     "metadata": {},
     "output_type": "display_data"
    },
    {
     "data": {
      "application/vnd.jupyter.widget-view+json": {
       "model_id": "",
       "version_major": 2,
       "version_minor": 0
      },
      "text/plain": [
       "Validation: |                                                                                                 …"
      ]
     },
     "metadata": {},
     "output_type": "display_data"
    },
    {
     "data": {
      "application/vnd.jupyter.widget-view+json": {
       "model_id": "",
       "version_major": 2,
       "version_minor": 0
      },
      "text/plain": [
       "Validation: |                                                                                                 …"
      ]
     },
     "metadata": {},
     "output_type": "display_data"
    },
    {
     "data": {
      "application/vnd.jupyter.widget-view+json": {
       "model_id": "",
       "version_major": 2,
       "version_minor": 0
      },
      "text/plain": [
       "Validation: |                                                                                                 …"
      ]
     },
     "metadata": {},
     "output_type": "display_data"
    },
    {
     "data": {
      "application/vnd.jupyter.widget-view+json": {
       "model_id": "",
       "version_major": 2,
       "version_minor": 0
      },
      "text/plain": [
       "Validation: |                                                                                                 …"
      ]
     },
     "metadata": {},
     "output_type": "display_data"
    },
    {
     "data": {
      "application/vnd.jupyter.widget-view+json": {
       "model_id": "",
       "version_major": 2,
       "version_minor": 0
      },
      "text/plain": [
       "Validation: |                                                                                                 …"
      ]
     },
     "metadata": {},
     "output_type": "display_data"
    },
    {
     "data": {
      "application/vnd.jupyter.widget-view+json": {
       "model_id": "",
       "version_major": 2,
       "version_minor": 0
      },
      "text/plain": [
       "Validation: |                                                                                                 …"
      ]
     },
     "metadata": {},
     "output_type": "display_data"
    },
    {
     "data": {
      "application/vnd.jupyter.widget-view+json": {
       "model_id": "",
       "version_major": 2,
       "version_minor": 0
      },
      "text/plain": [
       "Validation: |                                                                                                 …"
      ]
     },
     "metadata": {},
     "output_type": "display_data"
    },
    {
     "data": {
      "application/vnd.jupyter.widget-view+json": {
       "model_id": "",
       "version_major": 2,
       "version_minor": 0
      },
      "text/plain": [
       "Validation: |                                                                                                 …"
      ]
     },
     "metadata": {},
     "output_type": "display_data"
    },
    {
     "data": {
      "application/vnd.jupyter.widget-view+json": {
       "model_id": "",
       "version_major": 2,
       "version_minor": 0
      },
      "text/plain": [
       "Validation: |                                                                                                 …"
      ]
     },
     "metadata": {},
     "output_type": "display_data"
    },
    {
     "data": {
      "application/vnd.jupyter.widget-view+json": {
       "model_id": "",
       "version_major": 2,
       "version_minor": 0
      },
      "text/plain": [
       "Validation: |                                                                                                 …"
      ]
     },
     "metadata": {},
     "output_type": "display_data"
    },
    {
     "data": {
      "application/vnd.jupyter.widget-view+json": {
       "model_id": "",
       "version_major": 2,
       "version_minor": 0
      },
      "text/plain": [
       "Validation: |                                                                                                 …"
      ]
     },
     "metadata": {},
     "output_type": "display_data"
    },
    {
     "data": {
      "application/vnd.jupyter.widget-view+json": {
       "model_id": "",
       "version_major": 2,
       "version_minor": 0
      },
      "text/plain": [
       "Validation: |                                                                                                 …"
      ]
     },
     "metadata": {},
     "output_type": "display_data"
    },
    {
     "data": {
      "application/vnd.jupyter.widget-view+json": {
       "model_id": "",
       "version_major": 2,
       "version_minor": 0
      },
      "text/plain": [
       "Validation: |                                                                                                 …"
      ]
     },
     "metadata": {},
     "output_type": "display_data"
    },
    {
     "data": {
      "application/vnd.jupyter.widget-view+json": {
       "model_id": "",
       "version_major": 2,
       "version_minor": 0
      },
      "text/plain": [
       "Validation: |                                                                                                 …"
      ]
     },
     "metadata": {},
     "output_type": "display_data"
    },
    {
     "data": {
      "application/vnd.jupyter.widget-view+json": {
       "model_id": "",
       "version_major": 2,
       "version_minor": 0
      },
      "text/plain": [
       "Validation: |                                                                                                 …"
      ]
     },
     "metadata": {},
     "output_type": "display_data"
    },
    {
     "data": {
      "application/vnd.jupyter.widget-view+json": {
       "model_id": "",
       "version_major": 2,
       "version_minor": 0
      },
      "text/plain": [
       "Validation: |                                                                                                 …"
      ]
     },
     "metadata": {},
     "output_type": "display_data"
    },
    {
     "data": {
      "application/vnd.jupyter.widget-view+json": {
       "model_id": "",
       "version_major": 2,
       "version_minor": 0
      },
      "text/plain": [
       "Validation: |                                                                                                 …"
      ]
     },
     "metadata": {},
     "output_type": "display_data"
    },
    {
     "data": {
      "application/vnd.jupyter.widget-view+json": {
       "model_id": "",
       "version_major": 2,
       "version_minor": 0
      },
      "text/plain": [
       "Validation: |                                                                                                 …"
      ]
     },
     "metadata": {},
     "output_type": "display_data"
    },
    {
     "data": {
      "application/vnd.jupyter.widget-view+json": {
       "model_id": "",
       "version_major": 2,
       "version_minor": 0
      },
      "text/plain": [
       "Validation: |                                                                                                 …"
      ]
     },
     "metadata": {},
     "output_type": "display_data"
    },
    {
     "data": {
      "application/vnd.jupyter.widget-view+json": {
       "model_id": "",
       "version_major": 2,
       "version_minor": 0
      },
      "text/plain": [
       "Validation: |                                                                                                 …"
      ]
     },
     "metadata": {},
     "output_type": "display_data"
    },
    {
     "data": {
      "application/vnd.jupyter.widget-view+json": {
       "model_id": "",
       "version_major": 2,
       "version_minor": 0
      },
      "text/plain": [
       "Validation: |                                                                                                 …"
      ]
     },
     "metadata": {},
     "output_type": "display_data"
    },
    {
     "data": {
      "application/vnd.jupyter.widget-view+json": {
       "model_id": "",
       "version_major": 2,
       "version_minor": 0
      },
      "text/plain": [
       "Validation: |                                                                                                 …"
      ]
     },
     "metadata": {},
     "output_type": "display_data"
    },
    {
     "data": {
      "application/vnd.jupyter.widget-view+json": {
       "model_id": "",
       "version_major": 2,
       "version_minor": 0
      },
      "text/plain": [
       "Validation: |                                                                                                 …"
      ]
     },
     "metadata": {},
     "output_type": "display_data"
    },
    {
     "data": {
      "application/vnd.jupyter.widget-view+json": {
       "model_id": "",
       "version_major": 2,
       "version_minor": 0
      },
      "text/plain": [
       "Validation: |                                                                                                 …"
      ]
     },
     "metadata": {},
     "output_type": "display_data"
    },
    {
     "data": {
      "application/vnd.jupyter.widget-view+json": {
       "model_id": "657939973e7747349608e5ea7f2d9682",
       "version_major": 2,
       "version_minor": 0
      },
      "text/plain": [
       "Validation: |                                                                                                 …"
      ]
     },
     "metadata": {},
     "output_type": "display_data"
    },
    {
     "data": {
      "application/vnd.jupyter.widget-view+json": {
       "model_id": "9743d858275e46d59b2a1e4b88b5f704",
       "version_major": 2,
       "version_minor": 0
      },
      "text/plain": [
       "Validation: |                                                                                                 …"
      ]
     },
     "metadata": {},
     "output_type": "display_data"
    },
    {
     "data": {
      "application/vnd.jupyter.widget-view+json": {
       "model_id": "fcf622993f384f9cbd148ae2d72e8004",
       "version_major": 2,
       "version_minor": 0
      },
      "text/plain": [
       "Validation: |                                                                                                 …"
      ]
     },
     "metadata": {},
     "output_type": "display_data"
    },
    {
     "data": {
      "application/vnd.jupyter.widget-view+json": {
       "model_id": "952f9dfd9b9844b0a6f9da333e8a0f27",
       "version_major": 2,
       "version_minor": 0
      },
      "text/plain": [
       "Validation: |                                                                                                 …"
      ]
     },
     "metadata": {},
     "output_type": "display_data"
    },
    {
     "data": {
      "application/vnd.jupyter.widget-view+json": {
       "model_id": "35dc1e34f6154013acca18d9cb108194",
       "version_major": 2,
       "version_minor": 0
      },
      "text/plain": [
       "Validation: |                                                                                                 …"
      ]
     },
     "metadata": {},
     "output_type": "display_data"
    },
    {
     "data": {
      "application/vnd.jupyter.widget-view+json": {
       "model_id": "ceec95035de24fcdba907d3ee28d5e2f",
       "version_major": 2,
       "version_minor": 0
      },
      "text/plain": [
       "Validation: |                                                                                                 …"
      ]
     },
     "metadata": {},
     "output_type": "display_data"
    },
    {
     "data": {
      "application/vnd.jupyter.widget-view+json": {
       "model_id": "8363a2677beb45f1aac5043f6388f938",
       "version_major": 2,
       "version_minor": 0
      },
      "text/plain": [
       "Validation: |                                                                                                 …"
      ]
     },
     "metadata": {},
     "output_type": "display_data"
    },
    {
     "data": {
      "application/vnd.jupyter.widget-view+json": {
       "model_id": "240716bb40394c959bffc34989a5bc2a",
       "version_major": 2,
       "version_minor": 0
      },
      "text/plain": [
       "Validation: |                                                                                                 …"
      ]
     },
     "metadata": {},
     "output_type": "display_data"
    },
    {
     "data": {
      "application/vnd.jupyter.widget-view+json": {
       "model_id": "844fd5823340463492963720e7b0b10a",
       "version_major": 2,
       "version_minor": 0
      },
      "text/plain": [
       "Validation: |                                                                                                 …"
      ]
     },
     "metadata": {},
     "output_type": "display_data"
    },
    {
     "data": {
      "application/vnd.jupyter.widget-view+json": {
       "model_id": "101ac6807c4d42e7aeb11cbfcaa4f3b9",
       "version_major": 2,
       "version_minor": 0
      },
      "text/plain": [
       "Validation: |                                                                                                 …"
      ]
     },
     "metadata": {},
     "output_type": "display_data"
    },
    {
     "data": {
      "application/vnd.jupyter.widget-view+json": {
       "model_id": "a3c50e59f0e7435fbc54ec85a232f1f6",
       "version_major": 2,
       "version_minor": 0
      },
      "text/plain": [
       "Validation: |                                                                                                 …"
      ]
     },
     "metadata": {},
     "output_type": "display_data"
    },
    {
     "data": {
      "application/vnd.jupyter.widget-view+json": {
       "model_id": "dab2ebc1d136406fa069c9dd08df4358",
       "version_major": 2,
       "version_minor": 0
      },
      "text/plain": [
       "Validation: |                                                                                                 …"
      ]
     },
     "metadata": {},
     "output_type": "display_data"
    },
    {
     "data": {
      "application/vnd.jupyter.widget-view+json": {
       "model_id": "df1ba18a94ed41d48df0695ee7be36f0",
       "version_major": 2,
       "version_minor": 0
      },
      "text/plain": [
       "Validation: |                                                                                                 …"
      ]
     },
     "metadata": {},
     "output_type": "display_data"
    },
    {
     "data": {
      "application/vnd.jupyter.widget-view+json": {
       "model_id": "9c5031f096df43fba7633a2b0dd65f07",
       "version_major": 2,
       "version_minor": 0
      },
      "text/plain": [
       "Validation: |                                                                                                 …"
      ]
     },
     "metadata": {},
     "output_type": "display_data"
    },
    {
     "data": {
      "application/vnd.jupyter.widget-view+json": {
       "model_id": "53d008c08bff4782bae4be1031db5f8e",
       "version_major": 2,
       "version_minor": 0
      },
      "text/plain": [
       "Validation: |                                                                                                 …"
      ]
     },
     "metadata": {},
     "output_type": "display_data"
    },
    {
     "data": {
      "application/vnd.jupyter.widget-view+json": {
       "model_id": "e0b986f3ef9d4907aa62c6543397cae7",
       "version_major": 2,
       "version_minor": 0
      },
      "text/plain": [
       "Validation: |                                                                                                 …"
      ]
     },
     "metadata": {},
     "output_type": "display_data"
    },
    {
     "data": {
      "application/vnd.jupyter.widget-view+json": {
       "model_id": "c29b947347bc496082388832e04e312e",
       "version_major": 2,
       "version_minor": 0
      },
      "text/plain": [
       "Validation: |                                                                                                 …"
      ]
     },
     "metadata": {},
     "output_type": "display_data"
    },
    {
     "data": {
      "application/vnd.jupyter.widget-view+json": {
       "model_id": "bf579133bd5c4de4a223196c1dead3e5",
       "version_major": 2,
       "version_minor": 0
      },
      "text/plain": [
       "Validation: |                                                                                                 …"
      ]
     },
     "metadata": {},
     "output_type": "display_data"
    },
    {
     "data": {
      "application/vnd.jupyter.widget-view+json": {
       "model_id": "eac6d65cf13d46799613fbab8ea9078a",
       "version_major": 2,
       "version_minor": 0
      },
      "text/plain": [
       "Validation: |                                                                                                 …"
      ]
     },
     "metadata": {},
     "output_type": "display_data"
    },
    {
     "data": {
      "application/vnd.jupyter.widget-view+json": {
       "model_id": "1d803d2e9f0b4f21bda34389444a2e5e",
       "version_major": 2,
       "version_minor": 0
      },
      "text/plain": [
       "Validation: |                                                                                                 …"
      ]
     },
     "metadata": {},
     "output_type": "display_data"
    },
    {
     "data": {
      "application/vnd.jupyter.widget-view+json": {
       "model_id": "ade9e601a6434d21b78ae9db5fd3f471",
       "version_major": 2,
       "version_minor": 0
      },
      "text/plain": [
       "Validation: |                                                                                                 …"
      ]
     },
     "metadata": {},
     "output_type": "display_data"
    },
    {
     "data": {
      "application/vnd.jupyter.widget-view+json": {
       "model_id": "167c4eebb4f84bebb501c807edb0619e",
       "version_major": 2,
       "version_minor": 0
      },
      "text/plain": [
       "Validation: |                                                                                                 …"
      ]
     },
     "metadata": {},
     "output_type": "display_data"
    },
    {
     "data": {
      "application/vnd.jupyter.widget-view+json": {
       "model_id": "d02169824fc64dd39c80b9dbec11f97e",
       "version_major": 2,
       "version_minor": 0
      },
      "text/plain": [
       "Validation: |                                                                                                 …"
      ]
     },
     "metadata": {},
     "output_type": "display_data"
    },
    {
     "data": {
      "application/vnd.jupyter.widget-view+json": {
       "model_id": "25a4daed838e44029daf23a4fb9c0fec",
       "version_major": 2,
       "version_minor": 0
      },
      "text/plain": [
       "Validation: |                                                                                                 …"
      ]
     },
     "metadata": {},
     "output_type": "display_data"
    },
    {
     "data": {
      "application/vnd.jupyter.widget-view+json": {
       "model_id": "ffdacf72a47a4580b05615f250b56406",
       "version_major": 2,
       "version_minor": 0
      },
      "text/plain": [
       "Validation: |                                                                                                 …"
      ]
     },
     "metadata": {},
     "output_type": "display_data"
    },
    {
     "data": {
      "application/vnd.jupyter.widget-view+json": {
       "model_id": "e85b2d28d93e433ba63b58820a35b1e6",
       "version_major": 2,
       "version_minor": 0
      },
      "text/plain": [
       "Validation: |                                                                                                 …"
      ]
     },
     "metadata": {},
     "output_type": "display_data"
    },
    {
     "data": {
      "application/vnd.jupyter.widget-view+json": {
       "model_id": "45572387f9de47c294dda287227c2e17",
       "version_major": 2,
       "version_minor": 0
      },
      "text/plain": [
       "Validation: |                                                                                                 …"
      ]
     },
     "metadata": {},
     "output_type": "display_data"
    },
    {
     "data": {
      "application/vnd.jupyter.widget-view+json": {
       "model_id": "f669c5a7061d4fcd820db96dfd1244aa",
       "version_major": 2,
       "version_minor": 0
      },
      "text/plain": [
       "Validation: |                                                                                                 …"
      ]
     },
     "metadata": {},
     "output_type": "display_data"
    },
    {
     "data": {
      "application/vnd.jupyter.widget-view+json": {
       "model_id": "28affe3e4738412fa78c4a26d080a314",
       "version_major": 2,
       "version_minor": 0
      },
      "text/plain": [
       "Validation: |                                                                                                 …"
      ]
     },
     "metadata": {},
     "output_type": "display_data"
    },
    {
     "data": {
      "application/vnd.jupyter.widget-view+json": {
       "model_id": "a0187882dde14450ac3c3b518712eb45",
       "version_major": 2,
       "version_minor": 0
      },
      "text/plain": [
       "Validation: |                                                                                                 …"
      ]
     },
     "metadata": {},
     "output_type": "display_data"
    },
    {
     "data": {
      "application/vnd.jupyter.widget-view+json": {
       "model_id": "9199f0a621e24113a2aae43af9214cba",
       "version_major": 2,
       "version_minor": 0
      },
      "text/plain": [
       "Validation: |                                                                                                 …"
      ]
     },
     "metadata": {},
     "output_type": "display_data"
    },
    {
     "data": {
      "application/vnd.jupyter.widget-view+json": {
       "model_id": "218c87ac31f547bdb11cebee6cd532d2",
       "version_major": 2,
       "version_minor": 0
      },
      "text/plain": [
       "Validation: |                                                                                                 …"
      ]
     },
     "metadata": {},
     "output_type": "display_data"
    },
    {
     "data": {
      "application/vnd.jupyter.widget-view+json": {
       "model_id": "a87465a6076545a7ac3fbd751f88d81d",
       "version_major": 2,
       "version_minor": 0
      },
      "text/plain": [
       "Validation: |                                                                                                 …"
      ]
     },
     "metadata": {},
     "output_type": "display_data"
    },
    {
     "data": {
      "application/vnd.jupyter.widget-view+json": {
       "model_id": "7ffffa2e997448c6bcd70ebfd981f73b",
       "version_major": 2,
       "version_minor": 0
      },
      "text/plain": [
       "Validation: |                                                                                                 …"
      ]
     },
     "metadata": {},
     "output_type": "display_data"
    },
    {
     "data": {
      "application/vnd.jupyter.widget-view+json": {
       "model_id": "f7790cfcfb114b20bcc1a32c690aec0b",
       "version_major": 2,
       "version_minor": 0
      },
      "text/plain": [
       "Validation: |                                                                                                 …"
      ]
     },
     "metadata": {},
     "output_type": "display_data"
    },
    {
     "data": {
      "application/vnd.jupyter.widget-view+json": {
       "model_id": "ba5801c0d2ff47b48e4e487908bb2013",
       "version_major": 2,
       "version_minor": 0
      },
      "text/plain": [
       "Validation: |                                                                                                 …"
      ]
     },
     "metadata": {},
     "output_type": "display_data"
    },
    {
     "data": {
      "application/vnd.jupyter.widget-view+json": {
       "model_id": "121c786751374d58a5d221ef90d97c9b",
       "version_major": 2,
       "version_minor": 0
      },
      "text/plain": [
       "Validation: |                                                                                                 …"
      ]
     },
     "metadata": {},
     "output_type": "display_data"
    },
    {
     "data": {
      "application/vnd.jupyter.widget-view+json": {
       "model_id": "2f8c89fd7b4d436eb012309546711828",
       "version_major": 2,
       "version_minor": 0
      },
      "text/plain": [
       "Validation: |                                                                                                 …"
      ]
     },
     "metadata": {},
     "output_type": "display_data"
    },
    {
     "data": {
      "application/vnd.jupyter.widget-view+json": {
       "model_id": "5f0b1553362a419d9f5ea08aced5735b",
       "version_major": 2,
       "version_minor": 0
      },
      "text/plain": [
       "Validation: |                                                                                                 …"
      ]
     },
     "metadata": {},
     "output_type": "display_data"
    },
    {
     "data": {
      "application/vnd.jupyter.widget-view+json": {
       "model_id": "1a62ecf441454f389fe70b88703cf099",
       "version_major": 2,
       "version_minor": 0
      },
      "text/plain": [
       "Validation: |                                                                                                 …"
      ]
     },
     "metadata": {},
     "output_type": "display_data"
    },
    {
     "data": {
      "application/vnd.jupyter.widget-view+json": {
       "model_id": "0f3efa4ae9dd4286a9470f49cc739e6f",
       "version_major": 2,
       "version_minor": 0
      },
      "text/plain": [
       "Validation: |                                                                                                 …"
      ]
     },
     "metadata": {},
     "output_type": "display_data"
    },
    {
     "data": {
      "application/vnd.jupyter.widget-view+json": {
       "model_id": "19075807e82f468e98b66e7c33e4836f",
       "version_major": 2,
       "version_minor": 0
      },
      "text/plain": [
       "Validation: |                                                                                                 …"
      ]
     },
     "metadata": {},
     "output_type": "display_data"
    },
    {
     "data": {
      "application/vnd.jupyter.widget-view+json": {
       "model_id": "6da4202bb8cb445bbac6f415b05a76ee",
       "version_major": 2,
       "version_minor": 0
      },
      "text/plain": [
       "Validation: |                                                                                                 …"
      ]
     },
     "metadata": {},
     "output_type": "display_data"
    },
    {
     "data": {
      "application/vnd.jupyter.widget-view+json": {
       "model_id": "e8803d48462647f98cb06bfacb5cdd46",
       "version_major": 2,
       "version_minor": 0
      },
      "text/plain": [
       "Validation: |                                                                                                 …"
      ]
     },
     "metadata": {},
     "output_type": "display_data"
    },
    {
     "data": {
      "application/vnd.jupyter.widget-view+json": {
       "model_id": "706c5461b82f4a6cbe6362fd6ea14e8a",
       "version_major": 2,
       "version_minor": 0
      },
      "text/plain": [
       "Validation: |                                                                                                 …"
      ]
     },
     "metadata": {},
     "output_type": "display_data"
    },
    {
     "data": {
      "application/vnd.jupyter.widget-view+json": {
       "model_id": "0b4e5023c28044bd9139ab95d0271fb4",
       "version_major": 2,
       "version_minor": 0
      },
      "text/plain": [
       "Validation: |                                                                                                 …"
      ]
     },
     "metadata": {},
     "output_type": "display_data"
    },
    {
     "data": {
      "application/vnd.jupyter.widget-view+json": {
       "model_id": "e27e22e204fd474cada72302c812dbe6",
       "version_major": 2,
       "version_minor": 0
      },
      "text/plain": [
       "Validation: |                                                                                                 …"
      ]
     },
     "metadata": {},
     "output_type": "display_data"
    },
    {
     "data": {
      "application/vnd.jupyter.widget-view+json": {
       "model_id": "4f3a7a3d985f4fd1ab0a45f240674825",
       "version_major": 2,
       "version_minor": 0
      },
      "text/plain": [
       "Validation: |                                                                                                 …"
      ]
     },
     "metadata": {},
     "output_type": "display_data"
    },
    {
     "data": {
      "application/vnd.jupyter.widget-view+json": {
       "model_id": "2a7674f01dd447c39b03b160a6ecef65",
       "version_major": 2,
       "version_minor": 0
      },
      "text/plain": [
       "Validation: |                                                                                                 …"
      ]
     },
     "metadata": {},
     "output_type": "display_data"
    },
    {
     "data": {
      "application/vnd.jupyter.widget-view+json": {
       "model_id": "5480ec665701487c8f6027515e774cf7",
       "version_major": 2,
       "version_minor": 0
      },
      "text/plain": [
       "Validation: |                                                                                                 …"
      ]
     },
     "metadata": {},
     "output_type": "display_data"
    },
    {
     "data": {
      "application/vnd.jupyter.widget-view+json": {
       "model_id": "1fa3c0169dab4245bca70adc97788d2d",
       "version_major": 2,
       "version_minor": 0
      },
      "text/plain": [
       "Validation: |                                                                                                 …"
      ]
     },
     "metadata": {},
     "output_type": "display_data"
    },
    {
     "data": {
      "application/vnd.jupyter.widget-view+json": {
       "model_id": "3e264d073d2e41c5b90166b45ccf3cd2",
       "version_major": 2,
       "version_minor": 0
      },
      "text/plain": [
       "Validation: |                                                                                                 …"
      ]
     },
     "metadata": {},
     "output_type": "display_data"
    },
    {
     "data": {
      "application/vnd.jupyter.widget-view+json": {
       "model_id": "91e2eb714b6d4b5f87b13bc68b72bd60",
       "version_major": 2,
       "version_minor": 0
      },
      "text/plain": [
       "Validation: |                                                                                                 …"
      ]
     },
     "metadata": {},
     "output_type": "display_data"
    },
    {
     "data": {
      "application/vnd.jupyter.widget-view+json": {
       "model_id": "a2a4274764614a9ca07228846de5dedc",
       "version_major": 2,
       "version_minor": 0
      },
      "text/plain": [
       "Validation: |                                                                                                 …"
      ]
     },
     "metadata": {},
     "output_type": "display_data"
    },
    {
     "name": "stderr",
     "output_type": "stream",
     "text": [
      "`Trainer.fit` stopped: `max_epochs=100` reached.\n",
      "\u001b[32m2024-10-26 11:45:07.809\u001b[0m | \u001b[1mINFO    \u001b[0m | \u001b[36msrc.sequence.trainer\u001b[0m:\u001b[36mon_fit_end\u001b[0m:\u001b[36m125\u001b[0m - \u001b[1mLogging classification metrics...\u001b[0m\n",
      "\u001b[32m2024-10-26 11:45:24.514\u001b[0m | \u001b[1mINFO    \u001b[0m | \u001b[36m__main__\u001b[0m:\u001b[36m<module>\u001b[0m:\u001b[36m28\u001b[0m - \u001b[1mLogs available at /Users/dvq/frostmourne/recsys-mvp/notebooks/data/002-try-binary/logs/overfit/lightning_logs/version_3\u001b[0m\n"
     ]
    }
   ],
   "source": [
    "early_stopping = EarlyStopping(\n",
    "    monitor=\"val_loss\", patience=10, mode=\"min\", verbose=False\n",
    ")\n",
    "\n",
    "model = init_model(n_users, n_items, args.embedding_dim, dropout=0)\n",
    "lit_model = LitSequenceRatingPrediction(\n",
    "    model,\n",
    "    learning_rate=args.learning_rate,\n",
    "    l2_reg=0.0,\n",
    "    log_dir=args.notebook_persist_dp,\n",
    ")\n",
    "\n",
    "log_dir = f\"{args.notebook_persist_dp}/logs/overfit\"\n",
    "\n",
    "# train model\n",
    "trainer = L.Trainer(\n",
    "    default_root_dir=log_dir,\n",
    "    accelerator=args.device if args.device else \"auto\",\n",
    "    max_epochs=100,\n",
    "    overfit_batches=1,\n",
    "    callbacks=[early_stopping],\n",
    ")\n",
    "trainer.fit(\n",
    "    model=lit_model,\n",
    "    train_dataloaders=train_loader,\n",
    "    val_dataloaders=train_loader,\n",
    ")\n",
    "logger.info(f\"Logs available at {trainer.log_dir}\")"
   ]
  },
  {
   "cell_type": "code",
   "execution_count": 26,
   "id": "b2cc9ae0-a993-4815-bebd-85cc51e68e65",
   "metadata": {},
   "outputs": [
    {
     "data": {
      "text/html": [
       "\n",
       "      <iframe id=\"tensorboard-frame-b497540cf9c65577\" width=\"100%\" height=\"800\" frameborder=\"0\">\n",
       "      </iframe>\n",
       "      <script>\n",
       "        (function() {\n",
       "          const frame = document.getElementById(\"tensorboard-frame-b497540cf9c65577\");\n",
       "          const url = new URL(\"/\", window.location);\n",
       "          const port = 6006;\n",
       "          if (port) {\n",
       "            url.port = port;\n",
       "          }\n",
       "          frame.src = url;\n",
       "        })();\n",
       "      </script>\n",
       "    "
      ],
      "text/plain": [
       "<IPython.core.display.HTML object>"
      ]
     },
     "metadata": {},
     "output_type": "display_data"
    }
   ],
   "source": [
    "%tensorboard --logdir $trainer.log_dir"
   ]
  },
  {
   "cell_type": "markdown",
   "id": "65c7e4af-5c66-454e-9e2c-2ca134f4e1cf",
   "metadata": {},
   "source": [
    "##### Fit on all data"
   ]
  },
  {
   "cell_type": "code",
   "execution_count": 27,
   "id": "6fef36c3-5263-4d91-8d7f-364d45c20719",
   "metadata": {
    "scrolled": true
   },
   "outputs": [
    {
     "name": "stderr",
     "output_type": "stream",
     "text": [
      "GPU available: True (mps), used: True\n",
      "TPU available: False, using: 0 TPU cores\n",
      "HPU available: False, using: 0 HPUs\n",
      "/Users/dvq/frostmourne/recsys-mvp/.venv/lib/python3.11/site-packages/lightning/pytorch/callbacks/model_checkpoint.py:654: UserWarning:\n",
      "\n",
      "Checkpoint directory /Users/dvq/frostmourne/recsys-mvp/notebooks/data/002-try-binary/checkpoints exists and is not empty.\n",
      "\n",
      "\n",
      "  | Name  | Type                     | Params | Mode \n",
      "-----------------------------------------------------------\n",
      "0 | model | SequenceRatingPrediction | 3.2 M  | train\n",
      "-----------------------------------------------------------\n",
      "3.2 M     Trainable params\n",
      "0         Non-trainable params\n",
      "3.2 M     Total params\n",
      "12.990    Total estimated model params size (MB)\n",
      "11        Modules in train mode\n",
      "0         Modules in eval mode\n"
     ]
    },
    {
     "data": {
      "application/vnd.jupyter.widget-view+json": {
       "model_id": "",
       "version_major": 2,
       "version_minor": 0
      },
      "text/plain": [
       "Sanity Checking: |                                                                                            …"
      ]
     },
     "metadata": {},
     "output_type": "display_data"
    },
    {
     "name": "stderr",
     "output_type": "stream",
     "text": [
      "/Users/dvq/frostmourne/recsys-mvp/.venv/lib/python3.11/site-packages/lightning/pytorch/trainer/connectors/data_connector.py:424: PossibleUserWarning:\n",
      "\n",
      "The 'val_dataloader' does not have many workers which may be a bottleneck. Consider increasing the value of the `num_workers` argument` to `num_workers=10` in the `DataLoader` to improve performance.\n",
      "\n",
      "/Users/dvq/frostmourne/recsys-mvp/.venv/lib/python3.11/site-packages/lightning/pytorch/trainer/connectors/data_connector.py:424: PossibleUserWarning:\n",
      "\n",
      "The 'train_dataloader' does not have many workers which may be a bottleneck. Consider increasing the value of the `num_workers` argument` to `num_workers=10` in the `DataLoader` to improve performance.\n",
      "\n"
     ]
    },
    {
     "data": {
      "application/vnd.jupyter.widget-view+json": {
       "model_id": "8090fc88463b4c46a7168a391f48810d",
       "version_major": 2,
       "version_minor": 0
      },
      "text/plain": [
       "Training: |                                                                                                   …"
      ]
     },
     "metadata": {},
     "output_type": "display_data"
    },
    {
     "data": {
      "application/vnd.jupyter.widget-view+json": {
       "model_id": "",
       "version_major": 2,
       "version_minor": 0
      },
      "text/plain": [
       "Validation: |                                                                                                 …"
      ]
     },
     "metadata": {},
     "output_type": "display_data"
    },
    {
     "data": {
      "application/vnd.jupyter.widget-view+json": {
       "model_id": "",
       "version_major": 2,
       "version_minor": 0
      },
      "text/plain": [
       "Validation: |                                                                                                 …"
      ]
     },
     "metadata": {},
     "output_type": "display_data"
    },
    {
     "data": {
      "application/vnd.jupyter.widget-view+json": {
       "model_id": "",
       "version_major": 2,
       "version_minor": 0
      },
      "text/plain": [
       "Validation: |                                                                                                 …"
      ]
     },
     "metadata": {},
     "output_type": "display_data"
    },
    {
     "data": {
      "application/vnd.jupyter.widget-view+json": {
       "model_id": "",
       "version_major": 2,
       "version_minor": 0
      },
      "text/plain": [
       "Validation: |                                                                                                 …"
      ]
     },
     "metadata": {},
     "output_type": "display_data"
    },
    {
     "data": {
      "application/vnd.jupyter.widget-view+json": {
       "model_id": "",
       "version_major": 2,
       "version_minor": 0
      },
      "text/plain": [
       "Validation: |                                                                                                 …"
      ]
     },
     "metadata": {},
     "output_type": "display_data"
    },
    {
     "data": {
      "application/vnd.jupyter.widget-view+json": {
       "model_id": "",
       "version_major": 2,
       "version_minor": 0
      },
      "text/plain": [
       "Validation: |                                                                                                 …"
      ]
     },
     "metadata": {},
     "output_type": "display_data"
    },
    {
     "data": {
      "application/vnd.jupyter.widget-view+json": {
       "model_id": "",
       "version_major": 2,
       "version_minor": 0
      },
      "text/plain": [
       "Validation: |                                                                                                 …"
      ]
     },
     "metadata": {},
     "output_type": "display_data"
    },
    {
     "data": {
      "application/vnd.jupyter.widget-view+json": {
       "model_id": "",
       "version_major": 2,
       "version_minor": 0
      },
      "text/plain": [
       "Validation: |                                                                                                 …"
      ]
     },
     "metadata": {},
     "output_type": "display_data"
    },
    {
     "data": {
      "application/vnd.jupyter.widget-view+json": {
       "model_id": "",
       "version_major": 2,
       "version_minor": 0
      },
      "text/plain": [
       "Validation: |                                                                                                 …"
      ]
     },
     "metadata": {},
     "output_type": "display_data"
    },
    {
     "name": "stderr",
     "output_type": "stream",
     "text": [
      "\u001b[32m2024-10-26 11:52:38.356\u001b[0m | \u001b[1mINFO    \u001b[0m | \u001b[36msrc.sequence.trainer\u001b[0m:\u001b[36mon_fit_end\u001b[0m:\u001b[36m125\u001b[0m - \u001b[1mLogging classification metrics...\u001b[0m\n",
      "\u001b[32m2024-10-26 11:52:43.874\u001b[0m | \u001b[1mINFO    \u001b[0m | \u001b[36msrc.sequence.trainer\u001b[0m:\u001b[36mon_fit_end\u001b[0m:\u001b[36m128\u001b[0m - \u001b[1mLogging ranking metrics...\u001b[0m\n"
     ]
    },
    {
     "data": {
      "application/vnd.jupyter.widget-view+json": {
       "model_id": "87026d32720c40c187e6c1ae5afdefd0",
       "version_major": 2,
       "version_minor": 0
      },
      "text/plain": [
       "Generating recommendations:   0%|          | 0/177 [00:00<?, ?it/s]"
      ]
     },
     "metadata": {},
     "output_type": "display_data"
    },
    {
     "name": "stderr",
     "output_type": "stream",
     "text": [
      "2024/10/26 11:53:24 INFO mlflow.tracking._tracking_service.client: 🏃 View run 002-try-binary at: http://localhost:5002/#/experiments/2/runs/b1099dfb94094f41be93d54550de42fc.\n",
      "2024/10/26 11:53:24 INFO mlflow.tracking._tracking_service.client: 🧪 View experiment at: http://localhost:5002/#/experiments/2.\n"
     ]
    }
   ],
   "source": [
    "# papermill_description=fit-model\n",
    "early_stopping = EarlyStopping(\n",
    "    monitor=\"val_loss\", patience=args.early_stopping_patience, mode=\"min\", verbose=False\n",
    ")\n",
    "\n",
    "checkpoint_callback = ModelCheckpoint(\n",
    "    dirpath=f\"{args.notebook_persist_dp}/checkpoints\",\n",
    "    filename=\"best-checkpoint\",\n",
    "    save_top_k=1,\n",
    "    monitor=\"val_loss\",\n",
    "    mode=\"min\",\n",
    ")\n",
    "\n",
    "model = init_model(\n",
    "    n_users,\n",
    "    n_items,\n",
    "    args.embedding_dim,\n",
    "    dropout=args.dropout,\n",
    "    item_embedding=pretrained_item_embedding,\n",
    ")\n",
    "lit_model = LitSequenceRatingPrediction(\n",
    "    model,\n",
    "    learning_rate=args.learning_rate,\n",
    "    l2_reg=args.l2_reg,\n",
    "    log_dir=args.notebook_persist_dp,\n",
    "    evaluate_ranking=True,\n",
    "    idm=idm,\n",
    "    args=args,\n",
    ")\n",
    "\n",
    "log_dir = f\"{args.notebook_persist_dp}/logs/run\"\n",
    "\n",
    "# train model\n",
    "trainer = L.Trainer(\n",
    "    default_root_dir=log_dir,\n",
    "    max_epochs=args.max_epochs,\n",
    "    callbacks=[early_stopping, checkpoint_callback],\n",
    "    accelerator=args.device if args.device else \"auto\",\n",
    "    logger=args._mlf_logger if args.log_to_mlflow else None,\n",
    ")\n",
    "trainer.fit(\n",
    "    model=lit_model,\n",
    "    train_dataloaders=train_loader,\n",
    "    val_dataloaders=val_loader,\n",
    ")"
   ]
  },
  {
   "cell_type": "code",
   "execution_count": 28,
   "id": "af44bf35-e7c7-4718-97b8-238e89b7f3f0",
   "metadata": {
    "editable": true,
    "scrolled": true,
    "slideshow": {
     "slide_type": ""
    },
    "tags": []
   },
   "outputs": [
    {
     "name": "stderr",
     "output_type": "stream",
     "text": [
      "\u001b[32m2024-10-26 11:53:24.799\u001b[0m | \u001b[1mINFO    \u001b[0m | \u001b[36m__main__\u001b[0m:\u001b[36m<module>\u001b[0m:\u001b[36m1\u001b[0m - \u001b[1mTest predicting after training with user_id = AH4AOFTTDPHPAFAAVFMAF25H2LIQ and parent_asin = B07DK1H3H5\u001b[0m\n"
     ]
    },
    {
     "data": {
      "text/plain": [
       "tensor([[0.9002]], grad_fn=<SigmoidBackward0>)"
      ]
     },
     "execution_count": 28,
     "metadata": {},
     "output_type": "execute_result"
    }
   ],
   "source": [
    "logger.info(\n",
    "    f\"Test predicting after training with {args.user_col} = {user_id} and {args.item_col} = {item_id}\"\n",
    ")\n",
    "model.eval()\n",
    "model.predict(user, item_sequence, item)"
   ]
  },
  {
   "cell_type": "markdown",
   "id": "f8e1dd22-bcb9-4582-96d0-30acc4e8b790",
   "metadata": {
    "editable": true,
    "slideshow": {
     "slide_type": ""
    },
    "tags": []
   },
   "source": [
    "# Load best checkpoint"
   ]
  },
  {
   "cell_type": "code",
   "execution_count": 29,
   "id": "092427a8-ac4e-4752-a0ee-10729b6e563c",
   "metadata": {
    "scrolled": true
   },
   "outputs": [
    {
     "name": "stderr",
     "output_type": "stream",
     "text": [
      "\u001b[32m2024-10-26 11:53:24.828\u001b[0m | \u001b[1mINFO    \u001b[0m | \u001b[36m__main__\u001b[0m:\u001b[36m<module>\u001b[0m:\u001b[36m1\u001b[0m - \u001b[1mLoading best checkpoint from /Users/dvq/frostmourne/recsys-mvp/notebooks/data/002-try-binary/checkpoints/best-checkpoint-v3.ckpt...\u001b[0m\n"
     ]
    }
   ],
   "source": [
    "logger.info(f\"Loading best checkpoint from {checkpoint_callback.best_model_path}...\")\n",
    "args.best_checkpoint_path = checkpoint_callback.best_model_path\n",
    "\n",
    "best_trainer = LitSequenceRatingPrediction.load_from_checkpoint(\n",
    "    checkpoint_callback.best_model_path,\n",
    "    model=init_model(n_users, n_items, args.embedding_dim, dropout=0),\n",
    ")"
   ]
  },
  {
   "cell_type": "code",
   "execution_count": 30,
   "id": "e68989e7-cd28-4cb3-9a28-5bd477bb67c4",
   "metadata": {},
   "outputs": [],
   "source": [
    "best_model = best_trainer.model.to(lit_model.device)"
   ]
  },
  {
   "cell_type": "code",
   "execution_count": 31,
   "id": "72062d94-6ee8-480f-b7c6-9dcae2ceeb8b",
   "metadata": {
    "scrolled": true
   },
   "outputs": [
    {
     "data": {
      "text/plain": [
       "tensor([[0.8660]], grad_fn=<SigmoidBackward0>)"
      ]
     },
     "execution_count": 31,
     "metadata": {},
     "output_type": "execute_result"
    }
   ],
   "source": [
    "best_model.eval()\n",
    "best_model.predict(user, item_sequence, item)"
   ]
  },
  {
   "cell_type": "markdown",
   "id": "26afc39d-5cbd-4ea4-9484-f6419b460bde",
   "metadata": {
    "scrolled": true
   },
   "source": [
    "### Persist id mapping"
   ]
  },
  {
   "cell_type": "code",
   "execution_count": 32,
   "id": "275bcb81-bf50-4757-9e63-5c7a317b276f",
   "metadata": {},
   "outputs": [],
   "source": [
    "if args.log_to_mlflow:\n",
    "    # Persist id_mapping so that at inference we can predict based on item_ids (string) instead of item_index\n",
    "    run_id = trainer.logger.run_id\n",
    "    mlf_client = trainer.logger.experiment\n",
    "    mlf_client.log_artifact(run_id, idm_fp)"
   ]
  },
  {
   "cell_type": "markdown",
   "id": "73a53735-cada-4b16-b6ec-b958e20d8093",
   "metadata": {},
   "source": [
    "### Wrap inference function and register best checkpoint as MLflow model"
   ]
  },
  {
   "cell_type": "code",
   "execution_count": 33,
   "id": "fc1da4ca-1616-4f57-99fb-cb851c535a57",
   "metadata": {},
   "outputs": [],
   "source": [
    "inferrer = SequenceRatingPredictionInferenceWrapper(best_model)"
   ]
  },
  {
   "cell_type": "code",
   "execution_count": 34,
   "id": "a21791a9-d5fc-4abe-bc3c-820aba9f0759",
   "metadata": {},
   "outputs": [
    {
     "data": {
      "text/plain": [
       "array([0.20323314], dtype=float32)"
      ]
     },
     "execution_count": 34,
     "metadata": {},
     "output_type": "execute_result"
    }
   ],
   "source": [
    "sample_input = {\n",
    "    \"user_ids\": [idm.get_user_id(0)],\n",
    "    \"item_sequences\": [[idm.get_item_id(0), idm.get_item_id(1)]],\n",
    "    \"item_ids\": [idm.get_item_id(0)],\n",
    "}\n",
    "sample_output = inferrer.infer([0], [[0, 1]], [0])\n",
    "sample_output"
   ]
  },
  {
   "cell_type": "code",
   "execution_count": 35,
   "id": "de2c043a-f777-4ade-ab80-cfa4d90aafa8",
   "metadata": {
    "scrolled": true
   },
   "outputs": [
    {
     "name": "stderr",
     "output_type": "stream",
     "text": [
      "/Users/dvq/frostmourne/recsys-mvp/.venv/lib/python3.11/site-packages/mlflow/models/utils.py:523: FutureWarning:\n",
      "\n",
      "Since MLflow 2.16.0, we no longer convert dictionary input example to pandas Dataframe, and directly save it as a json object. If the model expects a pandas DataFrame input instead, please pass the pandas DataFrame as input example directly.\n",
      "\n"
     ]
    },
    {
     "data": {
      "application/vnd.jupyter.widget-view+json": {
       "model_id": "176e1af2c0fa46b68cea11d5d4a03200",
       "version_major": 2,
       "version_minor": 0
      },
      "text/plain": [
       "Downloading artifacts:   0%|          | 0/1 [00:00<?, ?it/s]"
      ]
     },
     "metadata": {},
     "output_type": "display_data"
    },
    {
     "name": "stderr",
     "output_type": "stream",
     "text": [
      "Registered model 'sequence_rating_prediction' already exists. Creating a new version of this model...\n",
      "2024/10/26 11:53:27 INFO mlflow.store.model_registry.abstract_store: Waiting up to 300 seconds for model version to finish creation. Model name: sequence_rating_prediction, version 2\n",
      "Created version '2' of model 'sequence_rating_prediction'.\n"
     ]
    },
    {
     "data": {
      "application/vnd.jupyter.widget-view+json": {
       "model_id": "69b28c00874640baa9cdc5fb57b98388",
       "version_major": 2,
       "version_minor": 0
      },
      "text/plain": [
       "Downloading artifacts:   0%|          | 0/8 [00:00<?, ?it/s]"
      ]
     },
     "metadata": {},
     "output_type": "display_data"
    },
    {
     "name": "stderr",
     "output_type": "stream",
     "text": [
      "2024/10/26 11:53:27 INFO mlflow.tracking._tracking_service.client: 🏃 View run 002-try-binary at: http://localhost:5002/#/experiments/2/runs/b1099dfb94094f41be93d54550de42fc.\n",
      "2024/10/26 11:53:27 INFO mlflow.tracking._tracking_service.client: 🧪 View experiment at: http://localhost:5002/#/experiments/2.\n"
     ]
    }
   ],
   "source": [
    "if args.log_to_mlflow:\n",
    "    run_id = trainer.logger.run_id\n",
    "    sample_output_np = sample_output\n",
    "    signature = infer_signature(sample_input, sample_output_np)\n",
    "    idm_filename = idm_fp.split(\"/\")[-1]\n",
    "    with mlflow.start_run(run_id=run_id):\n",
    "        mlflow.pyfunc.log_model(\n",
    "            python_model=inferrer,\n",
    "            artifact_path=\"inferrer\",\n",
    "            # We log the id_mapping to the predict function so that it can accept item_id and automatically convert ot item_indice for PyTorch model to use\n",
    "            artifacts={\"idm\": mlflow.get_artifact_uri(idm_filename)},\n",
    "            signature=signature,\n",
    "            input_example=sample_input,\n",
    "            registered_model_name=args.mlf_model_name,\n",
    "        )"
   ]
  },
  {
   "cell_type": "markdown",
   "id": "f95d5150-9851-4e61-b1af-8e619abc9ea4",
   "metadata": {},
   "source": [
    "# Set the newly trained model as champion"
   ]
  },
  {
   "cell_type": "code",
   "execution_count": 36,
   "id": "cbf6428a-bc47-400a-99ac-666abfa4ce63",
   "metadata": {},
   "outputs": [
    {
     "name": "stderr",
     "output_type": "stream",
     "text": [
      "\u001b[32m2024-10-26 11:53:27.721\u001b[0m | \u001b[1mINFO    \u001b[0m | \u001b[36m__main__\u001b[0m:\u001b[36m<module>\u001b[0m:\u001b[36m7\u001b[0m - \u001b[1mAliasing the new model as champion...\u001b[0m\n"
     ]
    }
   ],
   "source": [
    "if args.log_to_mlflow:\n",
    "    val_roc_auc = trainer.logger.experiment.get_run(trainer.logger.run_id).data.metrics[\n",
    "        \"val_roc_auc\"\n",
    "    ]\n",
    "\n",
    "    if val_roc_auc > args.min_roc_auc:\n",
    "        logger.info(f\"Aliasing the new model as champion...\")\n",
    "        model_version = (\n",
    "            mlf_client.get_registered_model(args.mlf_model_name)\n",
    "            .latest_versions[0]\n",
    "            .version\n",
    "        )\n",
    "\n",
    "        mlf_client.set_registered_model_alias(\n",
    "            name=args.mlf_model_name, alias=\"champion\", version=model_version\n",
    "        )\n",
    "\n",
    "        mlf_client.set_model_version_tag(\n",
    "            name=args.mlf_model_name,\n",
    "            version=model_version,\n",
    "            key=\"author\",\n",
    "            value=\"quy.dinh\",\n",
    "        )"
   ]
  },
  {
   "cell_type": "markdown",
   "id": "32096360-c26a-42de-9564-30634fb76eeb",
   "metadata": {},
   "source": [
    "# Clean up"
   ]
  },
  {
   "cell_type": "code",
   "execution_count": 37,
   "id": "e98c6850-e4de-43fa-b132-0b97f138a0ed",
   "metadata": {
    "scrolled": true
   },
   "outputs": [
    {
     "name": "stderr",
     "output_type": "stream",
     "text": [
      "2024/10/26 11:53:27 INFO mlflow.tracking._tracking_service.client: 🏃 View run 002-try-binary at: http://localhost:5002/#/experiments/2/runs/b1099dfb94094f41be93d54550de42fc.\n",
      "2024/10/26 11:53:27 INFO mlflow.tracking._tracking_service.client: 🧪 View experiment at: http://localhost:5002/#/experiments/2.\n"
     ]
    }
   ],
   "source": [
    "all_params = [args]\n",
    "\n",
    "if args.log_to_mlflow:\n",
    "    with mlflow.start_run(run_id=run_id):\n",
    "        for params in all_params:\n",
    "            params_dict = params.dict()\n",
    "            params_ = dict()\n",
    "            for k, v in params_dict.items():\n",
    "                if k == \"top_K\":\n",
    "                    k = \"top_big_K\"\n",
    "                if k == \"top_k\":\n",
    "                    k = \"top_small_k\"\n",
    "                params_[f\"{params.__repr_name__()}.{k}\"] = v\n",
    "            mlflow.log_params(params_)"
   ]
  },
  {
   "cell_type": "code",
   "execution_count": null,
   "id": "30cff81a-484e-4919-be8f-0351cce91a75",
   "metadata": {},
   "outputs": [],
   "source": []
  }
 ],
 "metadata": {
  "kernelspec": {
   "display_name": "Python 3 (ipykernel)",
   "language": "python",
   "name": "python3"
  },
  "language_info": {
   "codemirror_mode": {
    "name": "ipython",
    "version": 3
   },
   "file_extension": ".py",
   "mimetype": "text/x-python",
   "name": "python",
   "nbconvert_exporter": "python",
   "pygments_lexer": "ipython3",
   "version": "3.11.9"
  }
 },
 "nbformat": 4,
 "nbformat_minor": 5
}
