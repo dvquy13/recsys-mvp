{
 "cells": [
  {
   "cell_type": "markdown",
   "id": "3bf1577c-6f3b-4b1c-a848-8f5e45ff8111",
   "metadata": {},
   "source": [
    "# Sequence modeling for ranking task"
   ]
  },
  {
   "cell_type": "markdown",
   "id": "9309e017-0449-46ee-b7ca-4c4bcadeedf6",
   "metadata": {},
   "source": [
    "# Set up"
   ]
  },
  {
   "cell_type": "code",
   "execution_count": 1,
   "id": "3c8f6e8d-f776-4d39-898c-d783c5ae3407",
   "metadata": {},
   "outputs": [],
   "source": [
    "%load_ext autoreload\n",
    "%autoreload 2\n",
    "%load_ext tensorboard"
   ]
  },
  {
   "cell_type": "code",
   "execution_count": null,
   "id": "35b3499d-dc9c-405a-8714-a26341b581e1",
   "metadata": {
    "editable": true,
    "slideshow": {
     "slide_type": ""
    },
    "tags": []
   },
   "outputs": [
    {
     "name": "stderr",
     "output_type": "stream",
     "text": [
      "/home/dvq/frostmourne/recsys-mvp/.venv/lib/python3.11/site-packages/mlflow/pyfunc/utils/data_validation.py:166: UserWarning: \u001b[33mAdd type hints to the `predict` method to enable data validation and automatic signature inference during model logging. Check https://mlflow.org/docs/latest/model/python_model.html#type-hint-usage-in-pythonmodel for more details.\u001b[0m\n",
      "  color_warning(\n"
     ]
    }
   ],
   "source": [
    "import os\n",
    "import sys\n",
    "\n",
    "import lightning as L\n",
    "import numpy as np\n",
    "import pandas as pd\n",
    "import torch\n",
    "from dotenv import load_dotenv\n",
    "from lightning.pytorch.callbacks import ModelCheckpoint\n",
    "from lightning.pytorch.callbacks.early_stopping import EarlyStopping\n",
    "from lightning.pytorch.loggers import MLFlowLogger\n",
    "from loguru import logger\n",
    "from mlflow.exceptions import MlflowException\n",
    "from mlflow.models.signature import infer_signature\n",
    "from pydantic import BaseModel\n",
    "from torch.utils.data import DataLoader\n",
    "\n",
    "import mlflow\n",
    "\n",
    "load_dotenv()\n",
    "\n",
    "sys.path.insert(0, \"..\")\n",
    "\n",
    "from src.dataset import UserItemBinaryDFDataset as UserItemRatingDFDataset\n",
    "from src.id_mapper import IDMapper\n",
    "from src.sequence.inference import SequenceRatingPredictionInferenceWrapper\n",
    "from src.sequence.model import SequenceRatingPrediction\n",
    "from src.sequence.trainer import LitSequenceRatingPrediction\n",
    "from src.sequence.utils import generate_item_sequences\n",
    "from src.viz import blueq_colors"
   ]
  },
  {
   "cell_type": "markdown",
   "id": "fd804021-3424-48e0-973a-e662a72db544",
   "metadata": {
    "editable": true,
    "slideshow": {
     "slide_type": ""
    },
    "tags": []
   },
   "source": [
    "# Controller"
   ]
  },
  {
   "cell_type": "code",
   "execution_count": 3,
   "id": "ce522d9e-f35c-4cc5-a71e-68447956b31f",
   "metadata": {
    "editable": true,
    "slideshow": {
     "slide_type": ""
    },
    "tags": [
     "parameters"
    ]
   },
   "outputs": [],
   "source": [
    "# This is a parameter cell used by papermill\n",
    "max_epochs = 100"
   ]
  },
  {
   "cell_type": "code",
   "execution_count": 4,
   "id": "ea4e9a93-5b6a-4dec-97f0-b9aa3383c64d",
   "metadata": {
    "scrolled": true
   },
   "outputs": [
    {
     "name": "stderr",
     "output_type": "stream",
     "text": [
      "\u001b[32m2025-03-01 19:52:24.215\u001b[0m | \u001b[1mINFO    \u001b[0m | \u001b[36m__main__\u001b[0m:\u001b[36minit\u001b[0m:\u001b[36m47\u001b[0m - \u001b[1mSetting up MLflow experiment RecSys MVP - Ranker - run 000-sequence-modeling-baseline...\u001b[0m\n"
     ]
    },
    {
     "name": "stdout",
     "output_type": "stream",
     "text": [
      "{\n",
      "  \"testing\": false,\n",
      "  \"author\": \"quy.dinh\",\n",
      "  \"log_to_mlflow\": true,\n",
      "  \"experiment_name\": \"RecSys MVP - Ranker\",\n",
      "  \"run_name\": \"000-sequence-modeling-baseline\",\n",
      "  \"notebook_persist_dp\": \"/home/dvq/frostmourne/recsys-mvp/notebooks/data/000-sequence-modeling-baseline\",\n",
      "  \"random_seed\": 41,\n",
      "  \"device\": \"cuda\",\n",
      "  \"max_epochs\": 100,\n",
      "  \"batch_size\": 128,\n",
      "  \"user_col\": \"user_id\",\n",
      "  \"item_col\": \"parent_asin\",\n",
      "  \"rating_col\": \"rating\",\n",
      "  \"timestamp_col\": \"timestamp\",\n",
      "  \"top_K\": 100,\n",
      "  \"top_k\": 10,\n",
      "  \"embedding_dim\": 128,\n",
      "  \"dropout\": 0.3,\n",
      "  \"early_stopping_patience\": 5,\n",
      "  \"learning_rate\": 0.001,\n",
      "  \"l2_reg\": 0.00001,\n",
      "  \"mlf_item2vec_model_name\": \"item2vec\",\n",
      "  \"mlf_model_name\": \"sequence_rating_prediction\",\n",
      "  \"min_roc_auc\": 0.7,\n",
      "  \"best_checkpoint_path\": null\n",
      "}\n"
     ]
    }
   ],
   "source": [
    "class Args(BaseModel):\n",
    "    testing: bool = False\n",
    "    author: str = \"quy.dinh\"\n",
    "    log_to_mlflow: bool = True\n",
    "    experiment_name: str = \"RecSys MVP - Ranker\"\n",
    "    run_name: str = \"000-sequence-modeling-baseline\"\n",
    "    notebook_persist_dp: str = None\n",
    "    random_seed: int = 41\n",
    "    device: str = None\n",
    "\n",
    "    max_epochs: int = max_epochs\n",
    "    batch_size: int = 128\n",
    "\n",
    "    user_col: str = \"user_id\"\n",
    "    item_col: str = \"parent_asin\"\n",
    "    rating_col: str = \"rating\"\n",
    "    timestamp_col: str = \"timestamp\"\n",
    "\n",
    "    top_K: int = 100\n",
    "    top_k: int = 10\n",
    "\n",
    "    batch_size: int = 128\n",
    "\n",
    "    embedding_dim: int = 128\n",
    "    dropout: float = 0.3\n",
    "    early_stopping_patience: int = 5\n",
    "    learning_rate: float = 0.001\n",
    "    l2_reg: float = 1e-5\n",
    "\n",
    "    mlf_item2vec_model_name: str = \"item2vec\"\n",
    "    mlf_model_name: str = \"sequence_rating_prediction\"\n",
    "    min_roc_auc: float = 0.7\n",
    "\n",
    "    best_checkpoint_path: str = None\n",
    "\n",
    "    def init(self):\n",
    "        self.notebook_persist_dp = os.path.abspath(f\"data/{self.run_name}\")\n",
    "        os.makedirs(self.notebook_persist_dp, exist_ok=True)\n",
    "\n",
    "        if not (mlflow_uri := os.environ.get(\"MLFLOW_TRACKING_URI\")):\n",
    "            logger.warning(\n",
    "                f\"Environment variable MLFLOW_TRACKING_URI is not set. Setting self.log_to_mlflow to false.\"\n",
    "            )\n",
    "            self.log_to_mlflow = False\n",
    "\n",
    "        if self.log_to_mlflow:\n",
    "            logger.info(\n",
    "                f\"Setting up MLflow experiment {self.experiment_name} - run {self.run_name}...\"\n",
    "            )\n",
    "            self._mlf_logger = MLFlowLogger(\n",
    "                experiment_name=self.experiment_name,\n",
    "                run_name=self.run_name,\n",
    "                tracking_uri=mlflow_uri,\n",
    "                log_model=True,\n",
    "            )\n",
    "\n",
    "        if self.device is None:\n",
    "            self.device = (\n",
    "                \"cuda\"\n",
    "                if torch.cuda.is_available()\n",
    "                else \"mps\" if torch.backends.mps.is_available() else \"cpu\"\n",
    "            )\n",
    "\n",
    "        return self\n",
    "\n",
    "\n",
    "args = Args().init()\n",
    "\n",
    "print(args.model_dump_json(indent=2))"
   ]
  },
  {
   "cell_type": "markdown",
   "id": "a5acedcb-89e6-41c6-8969-bf3437fc7898",
   "metadata": {},
   "source": [
    "# Implement"
   ]
  },
  {
   "cell_type": "code",
   "execution_count": 5,
   "id": "5a34cb5b-c7db-4b95-952b-5f4cb2e1a04d",
   "metadata": {},
   "outputs": [],
   "source": [
    "def init_model(n_users, n_items, embedding_dim, dropout, item_embedding=None):\n",
    "    model = SequenceRatingPrediction(\n",
    "        n_users, n_items, embedding_dim, dropout=dropout, item_embedding=item_embedding\n",
    "    )\n",
    "    return model"
   ]
  },
  {
   "cell_type": "markdown",
   "id": "c49b92fb-3b4c-482f-a584-62288873d8c3",
   "metadata": {},
   "source": [
    "## Load pretrained Item2Vec embeddings"
   ]
  },
  {
   "cell_type": "code",
   "execution_count": 6,
   "id": "35cfc84a-75bb-4973-b619-194cc8698ee2",
   "metadata": {
    "scrolled": true
   },
   "outputs": [
    {
     "data": {
      "application/vnd.jupyter.widget-view+json": {
       "model_id": "d076c089ad54420b939ebccab85a850e",
       "version_major": 2,
       "version_minor": 0
      },
      "text/plain": [
       "Downloading artifacts:   0%|          | 0/8 [00:00<?, ?it/s]"
      ]
     },
     "metadata": {},
     "output_type": "display_data"
    },
    {
     "name": "stderr",
     "output_type": "stream",
     "text": [
      "/home/dvq/frostmourne/recsys-mvp/.venv/lib/python3.11/site-packages/mlflow/pyfunc/utils/data_validation.py:166: UserWarning: \u001b[33mAdd type hints to the `predict` method to enable data validation and automatic signature inference during model logging. Check https://mlflow.org/docs/latest/model/python_model.html#type-hint-usage-in-pythonmodel for more details.\u001b[0m\n",
      "  color_warning(\n"
     ]
    }
   ],
   "source": [
    "mlf_client = mlflow.MlflowClient()\n",
    "model = mlflow.pyfunc.load_model(\n",
    "    model_uri=f\"models:/{args.mlf_item2vec_model_name}@champion\"\n",
    ")\n",
    "skipgram_model = model.unwrap_python_model().model\n",
    "embedding_0 = skipgram_model.embeddings(torch.tensor(0))\n",
    "embedding_dim = embedding_0.size()[0]\n",
    "id_mapping = model.unwrap_python_model().id_mapping\n",
    "pretrained_item_embedding = skipgram_model.embeddings"
   ]
  },
  {
   "cell_type": "code",
   "execution_count": 7,
   "id": "f3baa82d-859d-4414-8e19-4c7d92750fa3",
   "metadata": {},
   "outputs": [],
   "source": [
    "assert (\n",
    "    pretrained_item_embedding.embedding_dim == args.embedding_dim\n",
    "), \"Mismatch pretrained item_embedding dimension\""
   ]
  },
  {
   "cell_type": "markdown",
   "id": "377a71da-1ee3-474c-b3f4-4488d2a45dd3",
   "metadata": {},
   "source": [
    "# Test implementation"
   ]
  },
  {
   "cell_type": "code",
   "execution_count": 8,
   "id": "ce5326d7-ec9d-422c-bbd8-03c837a23e1e",
   "metadata": {},
   "outputs": [
    {
     "name": "stdout",
     "output_type": "stream",
     "text": [
      "tensor([[0.5419]], grad_fn=<SigmoidBackward0>)\n"
     ]
    },
    {
     "data": {
      "text/plain": [
       "SequenceRatingPrediction(\n",
       "  (item_embedding): Embedding(6, 8, padding_idx=5)\n",
       "  (user_embedding): Embedding(3, 8)\n",
       "  (gru): GRU(8, 8, batch_first=True)\n",
       "  (relu): ReLU()\n",
       "  (dropout): Dropout(p=0.3, inplace=False)\n",
       "  (fc_rating): Sequential(\n",
       "    (0): Linear(in_features=24, out_features=8, bias=True)\n",
       "    (1): BatchNorm1d(8, eps=1e-05, momentum=0.1, affine=True, track_running_stats=True)\n",
       "    (2): ReLU()\n",
       "    (3): Dropout(p=0.3, inplace=False)\n",
       "    (4): Linear(in_features=8, out_features=1, bias=True)\n",
       "    (5): Sigmoid()\n",
       "  )\n",
       ")"
      ]
     },
     "execution_count": 8,
     "metadata": {},
     "output_type": "execute_result"
    }
   ],
   "source": [
    "embedding_dim = 8\n",
    "batch_size = 2\n",
    "\n",
    "# Mock data\n",
    "user_indices = [0, 0, 1, 2, 2]\n",
    "item_indices = [0, 1, 2, 3, 4]\n",
    "timestamps = [0, 1, 2, 3, 4]\n",
    "ratings = [0, 4, 5, 3, 0]\n",
    "item_sequences = [\n",
    "    [-1, -1, 2, 3],\n",
    "    [-1, -1, 2, 3],\n",
    "    [-1, -1, 1, 3],\n",
    "    [-1, -1, 2, 1],\n",
    "    [-1, -1, 2, 1],\n",
    "]\n",
    "\n",
    "n_users = len(set(user_indices))\n",
    "n_items = len(set(item_indices))\n",
    "\n",
    "train_df = pd.DataFrame(\n",
    "    {\n",
    "        \"user_indice\": user_indices,\n",
    "        \"item_indice\": item_indices,\n",
    "        args.timestamp_col: timestamps,\n",
    "        args.rating_col: ratings,\n",
    "        \"item_sequence\": item_sequences,\n",
    "    }\n",
    ")\n",
    "\n",
    "model = init_model(n_users, n_items, embedding_dim, args.dropout)\n",
    "\n",
    "# Example forward pass\n",
    "model.eval()\n",
    "user = torch.tensor([0])\n",
    "item_sequence = torch.tensor([[-1, -1, -1, 0, 1]])\n",
    "target_item = torch.tensor([2])\n",
    "predictions = model.predict(user, item_sequence, target_item)\n",
    "print(predictions)\n",
    "model.train()"
   ]
  },
  {
   "cell_type": "code",
   "execution_count": 9,
   "id": "0c0b1fea-0376-4624-ad8a-d000208a97f5",
   "metadata": {
    "scrolled": true
   },
   "outputs": [],
   "source": [
    "rating_dataset = UserItemRatingDFDataset(\n",
    "    train_df, \"user_indice\", \"item_indice\", args.rating_col, args.timestamp_col\n",
    ")\n",
    "\n",
    "train_loader = DataLoader(\n",
    "    rating_dataset, batch_size=batch_size, shuffle=False, drop_last=True\n",
    ")"
   ]
  },
  {
   "cell_type": "code",
   "execution_count": 10,
   "id": "2e82d3d1-826a-409b-8440-46e0bd924269",
   "metadata": {},
   "outputs": [
    {
     "name": "stdout",
     "output_type": "stream",
     "text": [
      "{'user': tensor([0, 0]), 'item': tensor([0, 1]), 'rating': tensor([0., 1.]), 'item_sequence': tensor([[-1, -1,  2,  3],\n",
      "        [-1, -1,  2,  3]]), 'item_sequence_ts_bucket': tensor([], size=(2, 0), dtype=torch.int64), 'item_feature': tensor([], size=(2, 0))}\n",
      "{'user': tensor([1, 2]), 'item': tensor([2, 3]), 'rating': tensor([1., 1.]), 'item_sequence': tensor([[-1, -1,  1,  3],\n",
      "        [-1, -1,  2,  1]]), 'item_sequence_ts_bucket': tensor([], size=(2, 0), dtype=torch.int64), 'item_feature': tensor([], size=(2, 0))}\n"
     ]
    }
   ],
   "source": [
    "for batch_input in train_loader:\n",
    "    print(batch_input)"
   ]
  },
  {
   "cell_type": "code",
   "execution_count": 11,
   "id": "02cb9ca4-11f1-45a8-911b-ed11c8391944",
   "metadata": {
    "editable": true,
    "scrolled": true,
    "slideshow": {
     "slide_type": ""
    },
    "tags": []
   },
   "outputs": [
    {
     "name": "stderr",
     "output_type": "stream",
     "text": [
      "GPU available: True (cuda), used: True\n",
      "TPU available: False, using: 0 TPU cores\n",
      "HPU available: False, using: 0 HPUs\n",
      "You are using a CUDA device ('NVIDIA GeForce RTX 4070 SUPER') that has Tensor Cores. To properly utilize them, you should set `torch.set_float32_matmul_precision('medium' | 'high')` which will trade-off precision for performance. For more details, read https://pytorch.org/docs/stable/generated/torch.set_float32_matmul_precision.html#torch.set_float32_matmul_precision\n",
      "LOCAL_RANK: 0 - CUDA_VISIBLE_DEVICES: [0]\n",
      "\n",
      "  | Name               | Type                     | Params | Mode \n",
      "------------------------------------------------------------------------\n",
      "0 | model              | SequenceRatingPrediction | 729    | train\n",
      "1 | val_roc_auc_metric | BinaryAUROC              | 0      | train\n",
      "2 | val_pr_auc_metric  | BinaryAveragePrecision   | 0      | train\n",
      "------------------------------------------------------------------------\n",
      "729       Trainable params\n",
      "0         Non-trainable params\n",
      "729       Total params\n",
      "0.003     Total estimated model params size (MB)\n",
      "13        Modules in train mode\n",
      "0         Modules in eval mode\n"
     ]
    },
    {
     "data": {
      "application/vnd.jupyter.widget-view+json": {
       "model_id": "75812bae185c41239949c2d92fe7208d",
       "version_major": 2,
       "version_minor": 0
      },
      "text/plain": [
       "Sanity Checking: |                                                                                            …"
      ]
     },
     "metadata": {},
     "output_type": "display_data"
    },
    {
     "name": "stderr",
     "output_type": "stream",
     "text": [
      "/home/dvq/frostmourne/recsys-mvp/.venv/lib/python3.11/site-packages/lightning/pytorch/trainer/connectors/data_connector.py:425: The 'val_dataloader' does not have many workers which may be a bottleneck. Consider increasing the value of the `num_workers` argument` to `num_workers=15` in the `DataLoader` to improve performance.\n",
      "/home/dvq/frostmourne/recsys-mvp/.venv/lib/python3.11/site-packages/lightning/pytorch/trainer/connectors/data_connector.py:425: The 'train_dataloader' does not have many workers which may be a bottleneck. Consider increasing the value of the `num_workers` argument` to `num_workers=15` in the `DataLoader` to improve performance.\n",
      "/home/dvq/frostmourne/recsys-mvp/.venv/lib/python3.11/site-packages/lightning/pytorch/loops/fit_loop.py:310: The number of training batches (2) is smaller than the logging interval Trainer(log_every_n_steps=50). Set a lower value for log_every_n_steps if you want to see logs for the training epoch.\n"
     ]
    },
    {
     "data": {
      "application/vnd.jupyter.widget-view+json": {
       "model_id": "599f03eac8d84c6f8c8acd647c307b9a",
       "version_major": 2,
       "version_minor": 0
      },
      "text/plain": [
       "Training: |                                                                                                   …"
      ]
     },
     "metadata": {},
     "output_type": "display_data"
    },
    {
     "data": {
      "application/vnd.jupyter.widget-view+json": {
       "model_id": "91fd9ada314f4ba6a80e92410d48c327",
       "version_major": 2,
       "version_minor": 0
      },
      "text/plain": [
       "Validation: |                                                                                                 …"
      ]
     },
     "metadata": {},
     "output_type": "display_data"
    },
    {
     "data": {
      "application/vnd.jupyter.widget-view+json": {
       "model_id": "4856bae67c674533aecca98ad2aef52a",
       "version_major": 2,
       "version_minor": 0
      },
      "text/plain": [
       "Validation: |                                                                                                 …"
      ]
     },
     "metadata": {},
     "output_type": "display_data"
    },
    {
     "name": "stderr",
     "output_type": "stream",
     "text": [
      "`Trainer.fit` stopped: `max_epochs=2` reached.\n",
      "\u001b[32m2025-03-01 19:52:25.141\u001b[0m | \u001b[1mINFO    \u001b[0m | \u001b[36msrc.sequence.trainer\u001b[0m:\u001b[36mon_fit_end\u001b[0m:\u001b[36m172\u001b[0m - \u001b[1mLogging classification metrics...\u001b[0m\n"
     ]
    }
   ],
   "source": [
    "# model\n",
    "lit_model = LitSequenceRatingPrediction(model, log_dir=args.notebook_persist_dp)\n",
    "\n",
    "# train model\n",
    "trainer = L.Trainer(\n",
    "    default_root_dir=f\"{args.notebook_persist_dp}/test\",\n",
    "    max_epochs=2,\n",
    "    accelerator=args.device if args.device else \"auto\",\n",
    ")\n",
    "trainer.fit(\n",
    "    model=lit_model, train_dataloaders=train_loader, val_dataloaders=train_loader\n",
    ")"
   ]
  },
  {
   "cell_type": "code",
   "execution_count": 12,
   "id": "abf019c8-db28-4538-91e8-3904b8800e6d",
   "metadata": {},
   "outputs": [
    {
     "name": "stdout",
     "output_type": "stream",
     "text": [
      "tensor([[0.5498],\n",
      "        [0.5998],\n",
      "        [0.5506],\n",
      "        [0.5526]], grad_fn=<SigmoidBackward0>)\n"
     ]
    }
   ],
   "source": [
    "users = torch.tensor([0, 0, 0, 0])\n",
    "item_sequences = torch.tensor(\n",
    "    [[-1, -1, 2, 3], [-1, -1, 2, 3], [-1, -1, 1, 3], [-1, -1, 2, 1]]\n",
    ")\n",
    "items = torch.tensor([0, 1, 2, 3])\n",
    "predictions = model.predict(users, item_sequences, items)\n",
    "print(predictions)"
   ]
  },
  {
   "cell_type": "code",
   "execution_count": 13,
   "id": "87f02734-1e63-4201-bd34-b3938ae50fbc",
   "metadata": {},
   "outputs": [
    {
     "data": {
      "text/html": [
       "<div>\n",
       "<style scoped>\n",
       "    .dataframe tbody tr th:only-of-type {\n",
       "        vertical-align: middle;\n",
       "    }\n",
       "\n",
       "    .dataframe tbody tr th {\n",
       "        vertical-align: top;\n",
       "    }\n",
       "\n",
       "    .dataframe thead th {\n",
       "        text-align: right;\n",
       "    }\n",
       "</style>\n",
       "<table border=\"1\" class=\"dataframe\">\n",
       "  <thead>\n",
       "    <tr style=\"text-align: right;\">\n",
       "      <th></th>\n",
       "      <th>user_indice</th>\n",
       "      <th>item_indice</th>\n",
       "      <th>timestamp</th>\n",
       "      <th>source</th>\n",
       "      <th>item_sequence</th>\n",
       "    </tr>\n",
       "  </thead>\n",
       "  <tbody>\n",
       "    <tr>\n",
       "      <th>0</th>\n",
       "      <td>0</td>\n",
       "      <td>-1</td>\n",
       "      <td>4</td>\n",
       "      <td>predict</td>\n",
       "      <td>[-1, -1, -1, -1, -1, -1, -1, -1, -1, 1]</td>\n",
       "    </tr>\n",
       "    <tr>\n",
       "      <th>1</th>\n",
       "      <td>0</td>\n",
       "      <td>-1</td>\n",
       "      <td>4</td>\n",
       "      <td>predict</td>\n",
       "      <td>[-1, -1, -1, -1, -1, -1, -1, -1, -1, 1]</td>\n",
       "    </tr>\n",
       "    <tr>\n",
       "      <th>2</th>\n",
       "      <td>1</td>\n",
       "      <td>-1</td>\n",
       "      <td>4</td>\n",
       "      <td>predict</td>\n",
       "      <td>[-1, -1, -1, -1, -1, -1, -1, -1, -1, 2]</td>\n",
       "    </tr>\n",
       "    <tr>\n",
       "      <th>3</th>\n",
       "      <td>2</td>\n",
       "      <td>-1</td>\n",
       "      <td>4</td>\n",
       "      <td>predict</td>\n",
       "      <td>[-1, -1, -1, -1, -1, -1, -1, -1, -1, 3]</td>\n",
       "    </tr>\n",
       "    <tr>\n",
       "      <th>4</th>\n",
       "      <td>2</td>\n",
       "      <td>-1</td>\n",
       "      <td>4</td>\n",
       "      <td>predict</td>\n",
       "      <td>[-1, -1, -1, -1, -1, -1, -1, -1, -1, 3]</td>\n",
       "    </tr>\n",
       "  </tbody>\n",
       "</table>\n",
       "</div>"
      ],
      "text/plain": [
       "   user_indice  item_indice  timestamp   source  \\\n",
       "0            0           -1          4  predict   \n",
       "1            0           -1          4  predict   \n",
       "2            1           -1          4  predict   \n",
       "3            2           -1          4  predict   \n",
       "4            2           -1          4  predict   \n",
       "\n",
       "                             item_sequence  \n",
       "0  [-1, -1, -1, -1, -1, -1, -1, -1, -1, 1]  \n",
       "1  [-1, -1, -1, -1, -1, -1, -1, -1, -1, 1]  \n",
       "2  [-1, -1, -1, -1, -1, -1, -1, -1, -1, 2]  \n",
       "3  [-1, -1, -1, -1, -1, -1, -1, -1, -1, 3]  \n",
       "4  [-1, -1, -1, -1, -1, -1, -1, -1, -1, 3]  "
      ]
     },
     "execution_count": 13,
     "metadata": {},
     "output_type": "execute_result"
    }
   ],
   "source": [
    "def create_predict_df(\n",
    "    train_df,\n",
    "    val_user_indices,\n",
    "    val_timestamp,\n",
    "    rating_col,\n",
    "    timestamp_col,\n",
    "    sequence_length=10,\n",
    "):\n",
    "    predict_df = pd.DataFrame(\n",
    "        {\n",
    "            \"user_indice\": val_user_indices,\n",
    "            \"item_indice\": -1,  # placeholder\n",
    "            \"timestamp\": val_timestamp,\n",
    "            \"source\": \"predict\",\n",
    "        }\n",
    "    )\n",
    "\n",
    "    predict_df = (\n",
    "        pd.concat(\n",
    "            [\n",
    "                train_df.loc[lambda df: df[rating_col].gt(0)][\n",
    "                    [\"user_indice\", \"item_indice\", timestamp_col]\n",
    "                ].assign(source=\"train\"),\n",
    "                predict_df,\n",
    "            ],\n",
    "            axis=0,\n",
    "        )\n",
    "        .pipe(\n",
    "            generate_item_sequences,\n",
    "            \"user_indice\",\n",
    "            \"item_indice\",\n",
    "            timestamp_col,\n",
    "            sequence_length=sequence_length,\n",
    "            padding=True,\n",
    "            padding_value=-1,\n",
    "        )\n",
    "        .loc[lambda df: df[\"source\"].eq(\"predict\")]\n",
    "        .assign(item_sequence=lambda df: df[\"item_sequence\"].apply(np.array))\n",
    "    )\n",
    "\n",
    "    return predict_df\n",
    "\n",
    "\n",
    "predict_df = create_predict_df(\n",
    "    train_df,\n",
    "    user_indices,\n",
    "    timestamps[-1],\n",
    "    args.rating_col,\n",
    "    args.timestamp_col,\n",
    "    sequence_length=10,\n",
    ")\n",
    "\n",
    "predict_df"
   ]
  },
  {
   "cell_type": "code",
   "execution_count": 14,
   "id": "50fdcf97-6271-406d-81b5-7e91a4c42dec",
   "metadata": {},
   "outputs": [
    {
     "name": "stderr",
     "output_type": "stream",
     "text": [
      "/tmp/ipykernel_297612/349226613.py:3: UserWarning:\n",
      "\n",
      "Creating a tensor from a list of numpy.ndarrays is extremely slow. Please consider converting the list to a single numpy.ndarray with numpy.array() before converting to a tensor. (Triggered internally at /pytorch/torch/csrc/utils/tensor_new.cpp:254.)\n",
      "\n"
     ]
    },
    {
     "data": {
      "application/vnd.jupyter.widget-view+json": {
       "model_id": "5affea177d00456dab4f9d2e4aafba01",
       "version_major": 2,
       "version_minor": 0
      },
      "text/plain": [
       "Generating recommendations:   0%|          | 0/2 [00:00<?, ?it/s]"
      ]
     },
     "metadata": {},
     "output_type": "display_data"
    },
    {
     "data": {
      "text/plain": [
       "{'user_indice': [0, 0, 0, 0, 1, 1, 2, 2, 2, 2],\n",
       " 'recommendation': [4, 1, 4, 1, 3, 5, 3, 1, 3, 1],\n",
       " 'score': [0.5868487358093262,\n",
       "  0.5797895789146423,\n",
       "  0.5868487358093262,\n",
       "  0.5797895789146423,\n",
       "  0.5909941792488098,\n",
       "  0.5758971571922302,\n",
       "  0.5616493225097656,\n",
       "  0.5495050549507141,\n",
       "  0.5616493225097656,\n",
       "  0.5495050549507141]}"
      ]
     },
     "execution_count": 14,
     "metadata": {},
     "output_type": "execute_result"
    }
   ],
   "source": [
    "recommendations = model.recommend(\n",
    "    torch.tensor(predict_df[\"user_indice\"].values),\n",
    "    torch.tensor(predict_df[\"item_sequence\"].values.tolist()),\n",
    "    k=2,\n",
    "    batch_size=4,\n",
    ")\n",
    "recommendations"
   ]
  },
  {
   "cell_type": "markdown",
   "id": "170dec89-a874-4dce-8f94-07d978fcc5b8",
   "metadata": {},
   "source": [
    "# Prep data"
   ]
  },
  {
   "cell_type": "code",
   "execution_count": 15,
   "id": "83803362-5eaa-40bb-b28b-878316d5db5d",
   "metadata": {},
   "outputs": [],
   "source": [
    "train_df = pd.read_parquet(\"../data/train_features_neg_df.parquet\")\n",
    "val_df = pd.read_parquet(\"../data/val_features_neg_df.parquet\")\n",
    "idm_fp = \"../data/idm.json\"\n",
    "idm = IDMapper().load(idm_fp)\n",
    "\n",
    "assert (\n",
    "    train_df[args.user_col].map(lambda s: idm.get_user_index(s))\n",
    "    != train_df[\"user_indice\"]\n",
    ").sum() == 0, \"Mismatch IDM\"\n",
    "assert (\n",
    "    val_df[args.user_col].map(lambda s: idm.get_user_index(s)) != val_df[\"user_indice\"]\n",
    ").sum() == 0, \"Mismatch IDM\""
   ]
  },
  {
   "cell_type": "code",
   "execution_count": 16,
   "id": "86f1e6e9-48ba-4f48-b693-ac028845938f",
   "metadata": {},
   "outputs": [
    {
     "name": "stderr",
     "output_type": "stream",
     "text": [
      "\u001b[32m2025-03-01 19:52:27.228\u001b[0m | \u001b[1mINFO    \u001b[0m | \u001b[36m__main__\u001b[0m:\u001b[36m<module>\u001b[0m:\u001b[36m4\u001b[0m - \u001b[1mlen(user_indices)=19,578, len(item_indices)=4,630\u001b[0m\n"
     ]
    }
   ],
   "source": [
    "user_indices = train_df[\"user_indice\"].unique()\n",
    "item_indices = train_df[\"item_indice\"].unique()\n",
    "\n",
    "logger.info(f\"{len(user_indices)=:,.0f}, {len(item_indices)=:,.0f}\")"
   ]
  },
  {
   "cell_type": "code",
   "execution_count": 17,
   "id": "a92a8ea7-928c-4656-b92c-2e137d78404a",
   "metadata": {
    "scrolled": true
   },
   "outputs": [
    {
     "data": {
      "text/html": [
       "<div>\n",
       "<style scoped>\n",
       "    .dataframe tbody tr th:only-of-type {\n",
       "        vertical-align: middle;\n",
       "    }\n",
       "\n",
       "    .dataframe tbody tr th {\n",
       "        vertical-align: top;\n",
       "    }\n",
       "\n",
       "    .dataframe thead th {\n",
       "        text-align: right;\n",
       "    }\n",
       "</style>\n",
       "<table border=\"1\" class=\"dataframe\">\n",
       "  <thead>\n",
       "    <tr style=\"text-align: right;\">\n",
       "      <th></th>\n",
       "      <th>user_id</th>\n",
       "      <th>parent_asin</th>\n",
       "      <th>rating</th>\n",
       "      <th>timestamp</th>\n",
       "      <th>timestamp_unix</th>\n",
       "      <th>parent_asin_rating_cnt_365d</th>\n",
       "      <th>parent_asin_rating_avg_prev_rating_365d</th>\n",
       "      <th>parent_asin_rating_cnt_90d</th>\n",
       "      <th>parent_asin_rating_avg_prev_rating_90d</th>\n",
       "      <th>parent_asin_rating_cnt_30d</th>\n",
       "      <th>...</th>\n",
       "      <th>user_rating_list_10_recent_asin</th>\n",
       "      <th>user_rating_list_10_recent_asin_timestamp</th>\n",
       "      <th>item_sequence</th>\n",
       "      <th>item_sequence_ts</th>\n",
       "      <th>item_sequence_ts_bucket</th>\n",
       "      <th>main_category</th>\n",
       "      <th>title</th>\n",
       "      <th>description</th>\n",
       "      <th>categories</th>\n",
       "      <th>price</th>\n",
       "    </tr>\n",
       "  </thead>\n",
       "  <tbody>\n",
       "    <tr>\n",
       "      <th>0</th>\n",
       "      <td>AG57LGJFCNNQJ6P6ABQAVUKXDUDA</td>\n",
       "      <td>B0015AARJI</td>\n",
       "      <td>0.0</td>\n",
       "      <td>2016-01-12 11:59:11.000</td>\n",
       "      <td>NaN</td>\n",
       "      <td>76.0</td>\n",
       "      <td>4.592105</td>\n",
       "      <td>10.0</td>\n",
       "      <td>4.3</td>\n",
       "      <td>3.0</td>\n",
       "      <td>...</td>\n",
       "      <td>B00J00BLRM</td>\n",
       "      <td>1452599936</td>\n",
       "      <td>[-1.0, -1.0, -1.0, -1.0, -1.0, -1.0, -1.0, -1....</td>\n",
       "      <td>[-1, -1, -1, -1, -1, -1, -1, -1, -1, 1452599936]</td>\n",
       "      <td>[-1, -1, -1, -1, -1, -1, -1, -1, -1, 0]</td>\n",
       "      <td>Video Games</td>\n",
       "      <td>PlayStation 3 Dualshock 3 Wireless Controller ...</td>\n",
       "      <td>[Amazon.com, The Dualshock 3 wireless controll...</td>\n",
       "      <td>[Video Games, Legacy Systems, PlayStation Syst...</td>\n",
       "      <td>49.99</td>\n",
       "    </tr>\n",
       "    <tr>\n",
       "      <th>1</th>\n",
       "      <td>AHWG4EGOV5ZDKPETL56MAYGPLJRQ</td>\n",
       "      <td>B0BMGHMP23</td>\n",
       "      <td>0.0</td>\n",
       "      <td>2016-04-18 19:26:20.000</td>\n",
       "      <td>NaN</td>\n",
       "      <td>NaN</td>\n",
       "      <td>NaN</td>\n",
       "      <td>NaN</td>\n",
       "      <td>NaN</td>\n",
       "      <td>NaN</td>\n",
       "      <td>...</td>\n",
       "      <td>B00YOGZFCO,B00KWFCSB2,B00L3LQ1FI,B0151K6J9Y,B0...</td>\n",
       "      <td>1449254540,1449256005,1449257733,1452715791,14...</td>\n",
       "      <td>[3028.0, 2742.0, 2755.0, 3159.0, 3101.0, 3036....</td>\n",
       "      <td>[1449254540, 1449256005, 1449257733, 145271579...</td>\n",
       "      <td>[5, 5, 5, 5, 5, 5, 5, 5, 5, 5]</td>\n",
       "      <td>Computers</td>\n",
       "      <td>Logitech G502 Lightspeed Wireless Gaming Mouse...</td>\n",
       "      <td>[G502 is the best gaming mouse from Logitech G...</td>\n",
       "      <td>[Video Games, PC, Accessories, Gaming Mice]</td>\n",
       "      <td>87.95</td>\n",
       "    </tr>\n",
       "    <tr>\n",
       "      <th>2</th>\n",
       "      <td>AH5PTZ2U74OZ3HT6QVUWM4CV6OVQ</td>\n",
       "      <td>B009AP23NI</td>\n",
       "      <td>0.0</td>\n",
       "      <td>2016-02-10 18:45:08.000</td>\n",
       "      <td>NaN</td>\n",
       "      <td>9.0</td>\n",
       "      <td>4.666667</td>\n",
       "      <td>0.0</td>\n",
       "      <td>NaN</td>\n",
       "      <td>0.0</td>\n",
       "      <td>...</td>\n",
       "      <td>B0199OXR0W,B00EVPR4FY,B00B7ELWAU,B00UH9DN58,B0...</td>\n",
       "      <td>1443454097,1455129080,1455129186,1455129499,14...</td>\n",
       "      <td>[-1.0, -1.0, 3234.0, 2508.0, 2318.0, 2964.0, 1...</td>\n",
       "      <td>[-1, -1, 1443454097, 1455129080, 1455129186, 1...</td>\n",
       "      <td>[-1, -1, 5, 1, 1, 0, 0, 0, 0, 0]</td>\n",
       "      <td>Video Games</td>\n",
       "      <td>Nintendo Wii U Pro U Controller (Japanese Vers...</td>\n",
       "      <td>[Wii U PRO controller (black) (WUP-A-RSKA)]</td>\n",
       "      <td>[Video Games, Legacy Systems, Nintendo Systems...</td>\n",
       "      <td>43.99</td>\n",
       "    </tr>\n",
       "    <tr>\n",
       "      <th>3</th>\n",
       "      <td>AFC5XTCF5D7J3NSDITB2Z26XWWYA</td>\n",
       "      <td>B001E8WQUY</td>\n",
       "      <td>5.0</td>\n",
       "      <td>2019-05-01 21:22:39.265</td>\n",
       "      <td>1.556746e+09</td>\n",
       "      <td>0.0</td>\n",
       "      <td>NaN</td>\n",
       "      <td>0.0</td>\n",
       "      <td>NaN</td>\n",
       "      <td>0.0</td>\n",
       "      <td>...</td>\n",
       "      <td>B006HZA6VK,B0BN2FNKLM,B0086VPUHI,B0040UAYI4,B0...</td>\n",
       "      <td>1327120514,1377289907,1402605836,1402606396,14...</td>\n",
       "      <td>[1987.0, 4569.0, 2114.0, 1606.0, 2159.0, 2279....</td>\n",
       "      <td>[1327120514, 1377289907, 1402605836, 140260639...</td>\n",
       "      <td>[8, 8, 7, 7, 7, 7, 7, 7, 6, 6]</td>\n",
       "      <td>Video Games</td>\n",
       "      <td>Rock Band 2 - Nintendo Wii (Game only)</td>\n",
       "      <td>[Product description, Rock Band 2 lets you and...</td>\n",
       "      <td>[Video Games, Legacy Systems, Nintendo Systems...</td>\n",
       "      <td>28.49</td>\n",
       "    </tr>\n",
       "    <tr>\n",
       "      <th>4</th>\n",
       "      <td>AF7LJQOIWF3Y3YD7SGOJ34MA5JPA</td>\n",
       "      <td>B001E8WQKY</td>\n",
       "      <td>5.0</td>\n",
       "      <td>2015-01-09 12:53:25.000</td>\n",
       "      <td>1.420808e+09</td>\n",
       "      <td>16.0</td>\n",
       "      <td>4.375000</td>\n",
       "      <td>8.0</td>\n",
       "      <td>4.5</td>\n",
       "      <td>4.0</td>\n",
       "      <td>...</td>\n",
       "      <td>B00A2ML6XG,B003VUO6LU</td>\n",
       "      <td>1420807793,1420807991</td>\n",
       "      <td>[-1.0, -1.0, -1.0, -1.0, -1.0, -1.0, -1.0, -1....</td>\n",
       "      <td>[-1, -1, -1, -1, -1, -1, -1, -1, 1420807793, 1...</td>\n",
       "      <td>[-1, -1, -1, -1, -1, -1, -1, -1, 0, 0]</td>\n",
       "      <td>Video Games</td>\n",
       "      <td>Resident Evil 5 - Xbox 360</td>\n",
       "      <td>[]</td>\n",
       "      <td>[Video Games, Legacy Systems, Xbox Systems, Xb...</td>\n",
       "      <td>29.88</td>\n",
       "    </tr>\n",
       "    <tr>\n",
       "      <th>...</th>\n",
       "      <td>...</td>\n",
       "      <td>...</td>\n",
       "      <td>...</td>\n",
       "      <td>...</td>\n",
       "      <td>...</td>\n",
       "      <td>...</td>\n",
       "      <td>...</td>\n",
       "      <td>...</td>\n",
       "      <td>...</td>\n",
       "      <td>...</td>\n",
       "      <td>...</td>\n",
       "      <td>...</td>\n",
       "      <td>...</td>\n",
       "      <td>...</td>\n",
       "      <td>...</td>\n",
       "      <td>...</td>\n",
       "      <td>...</td>\n",
       "      <td>...</td>\n",
       "      <td>...</td>\n",
       "      <td>...</td>\n",
       "      <td>...</td>\n",
       "    </tr>\n",
       "    <tr>\n",
       "      <th>328591</th>\n",
       "      <td>AG4RATLNVLOKZCPXN67HKOAK65CA</td>\n",
       "      <td>B078FBVJMB</td>\n",
       "      <td>0.0</td>\n",
       "      <td>2015-10-31 18:25:09.000</td>\n",
       "      <td>NaN</td>\n",
       "      <td>NaN</td>\n",
       "      <td>NaN</td>\n",
       "      <td>NaN</td>\n",
       "      <td>NaN</td>\n",
       "      <td>NaN</td>\n",
       "      <td>...</td>\n",
       "      <td>B00TFVD688</td>\n",
       "      <td>1425233294</td>\n",
       "      <td>[-1.0, -1.0, -1.0, -1.0, -1.0, -1.0, -1.0, -1....</td>\n",
       "      <td>[-1, -1, -1, -1, -1, -1, -1, -1, -1, 1425233294]</td>\n",
       "      <td>[-1, -1, -1, -1, -1, -1, -1, -1, -1, 5]</td>\n",
       "      <td>Video Games</td>\n",
       "      <td>A Way Out – PC Origin [Online Game Code]</td>\n",
       "      <td>[From the creators of Brothers - A Tale of Two...</td>\n",
       "      <td>[Video Games, PC, Games]</td>\n",
       "      <td>5.99</td>\n",
       "    </tr>\n",
       "    <tr>\n",
       "      <th>328592</th>\n",
       "      <td>AFBXO3BFWBJX6QS5NW73O37IXF2A</td>\n",
       "      <td>B0771ZXXV6</td>\n",
       "      <td>0.0</td>\n",
       "      <td>2011-03-08 02:06:38.000</td>\n",
       "      <td>NaN</td>\n",
       "      <td>NaN</td>\n",
       "      <td>NaN</td>\n",
       "      <td>NaN</td>\n",
       "      <td>NaN</td>\n",
       "      <td>NaN</td>\n",
       "      <td>...</td>\n",
       "      <td>B003JVCA9Q,B0029NZ4HA</td>\n",
       "      <td>1299549517,1299549928</td>\n",
       "      <td>[-1.0, -1.0, -1.0, -1.0, -1.0, -1.0, -1.0, -1....</td>\n",
       "      <td>[-1, -1, -1, -1, -1, -1, -1, -1, 1299549517, 1...</td>\n",
       "      <td>[-1, -1, -1, -1, -1, -1, -1, -1, 0, 0]</td>\n",
       "      <td>Video Games</td>\n",
       "      <td>Nintendo Joy-Con (R) - Neon Red - Nintendo Switch</td>\n",
       "      <td>[To be determined]</td>\n",
       "      <td>[Video Games, Nintendo Switch, Accessories, Co...</td>\n",
       "      <td>None</td>\n",
       "    </tr>\n",
       "    <tr>\n",
       "      <th>328593</th>\n",
       "      <td>AHVANA5GZNJ45UABPXWZNAF4ECBQ</td>\n",
       "      <td>B00BBF6MO6</td>\n",
       "      <td>0.0</td>\n",
       "      <td>2015-02-15 05:31:04.000</td>\n",
       "      <td>NaN</td>\n",
       "      <td>3.0</td>\n",
       "      <td>4.666667</td>\n",
       "      <td>0.0</td>\n",
       "      <td>NaN</td>\n",
       "      <td>0.0</td>\n",
       "      <td>...</td>\n",
       "      <td>B002L93F0A,B002KJ02ZC,B001H4NMNA</td>\n",
       "      <td>1370414332,1370414707,1370416530</td>\n",
       "      <td>[-1.0, -1.0, -1.0, -1.0, -1.0, -1.0, -1.0, 137...</td>\n",
       "      <td>[-1, -1, -1, -1, -1, -1, -1, 1370414332, 13704...</td>\n",
       "      <td>[-1, -1, -1, -1, -1, -1, -1, 6, 6, 6]</td>\n",
       "      <td>Video Games</td>\n",
       "      <td>Killer is Dead - Xbox 360</td>\n",
       "      <td>[Killer Is Dead is the latest title from the d...</td>\n",
       "      <td>[Video Games, Legacy Systems, Xbox Systems, Xb...</td>\n",
       "      <td>39.82</td>\n",
       "    </tr>\n",
       "    <tr>\n",
       "      <th>328594</th>\n",
       "      <td>AHAVA5VKMJ3OMOLGDZ3W45CKXEWA</td>\n",
       "      <td>B00KTORA0K</td>\n",
       "      <td>5.0</td>\n",
       "      <td>2019-05-25 04:03:51.505</td>\n",
       "      <td>1.558757e+09</td>\n",
       "      <td>3.0</td>\n",
       "      <td>4.666667</td>\n",
       "      <td>1.0</td>\n",
       "      <td>5.0</td>\n",
       "      <td>1.0</td>\n",
       "      <td>...</td>\n",
       "      <td>B004AYCNR0,B007NUQICE,B000TYQL1O,B000SEU92W,B0...</td>\n",
       "      <td>1431150669,1431150834,1432041664,1432041986,15...</td>\n",
       "      <td>[-1.0, -1.0, -1.0, 1657.0, 2074.0, 593.0, 583....</td>\n",
       "      <td>[-1, -1, -1, 1431150669, 1431150834, 143204166...</td>\n",
       "      <td>[-1, -1, -1, 7, 7, 7, 7, 5, 5, 0]</td>\n",
       "      <td>Video Games</td>\n",
       "      <td>Just Dance 2015 - Wii</td>\n",
       "      <td>[With more than 50 million copies of Just Danc...</td>\n",
       "      <td>[Video Games, Legacy Systems, Nintendo Systems...</td>\n",
       "      <td>33.0</td>\n",
       "    </tr>\n",
       "    <tr>\n",
       "      <th>328595</th>\n",
       "      <td>AHAOAIYS3GTCFSVCHOHANFHEVJGA</td>\n",
       "      <td>B07GMV1X1K</td>\n",
       "      <td>0.0</td>\n",
       "      <td>2019-06-27 16:46:01.725</td>\n",
       "      <td>NaN</td>\n",
       "      <td>8.0</td>\n",
       "      <td>4.750000</td>\n",
       "      <td>2.0</td>\n",
       "      <td>4.5</td>\n",
       "      <td>1.0</td>\n",
       "      <td>...</td>\n",
       "      <td>B010QCD9WW,B06XHMPPLH,B01GY35HKE,B01GY35GIM,B0...</td>\n",
       "      <td>1487438369,1488931311,1490136709,1493063905,15...</td>\n",
       "      <td>[3093.0, 3574.0, 3373.0, 3372.0, 3576.0, 3621....</td>\n",
       "      <td>[1487438369, 1488931311, 1490136709, 149306390...</td>\n",
       "      <td>[6, 6, 6, 6, 6, 6, 6, 5, 5, 5]</td>\n",
       "      <td>Video Games</td>\n",
       "      <td>retrogames The C64 Mini USA Version - Not Mach...</td>\n",
       "      <td>[It's 1982 and a new home computer graces the ...</td>\n",
       "      <td>[Video Games, Legacy Systems, Commodore System...</td>\n",
       "      <td>44.99</td>\n",
       "    </tr>\n",
       "  </tbody>\n",
       "</table>\n",
       "<p>328596 rows × 27 columns</p>\n",
       "</div>"
      ],
      "text/plain": [
       "                             user_id parent_asin  rating  \\\n",
       "0       AG57LGJFCNNQJ6P6ABQAVUKXDUDA  B0015AARJI     0.0   \n",
       "1       AHWG4EGOV5ZDKPETL56MAYGPLJRQ  B0BMGHMP23     0.0   \n",
       "2       AH5PTZ2U74OZ3HT6QVUWM4CV6OVQ  B009AP23NI     0.0   \n",
       "3       AFC5XTCF5D7J3NSDITB2Z26XWWYA  B001E8WQUY     5.0   \n",
       "4       AF7LJQOIWF3Y3YD7SGOJ34MA5JPA  B001E8WQKY     5.0   \n",
       "...                              ...         ...     ...   \n",
       "328591  AG4RATLNVLOKZCPXN67HKOAK65CA  B078FBVJMB     0.0   \n",
       "328592  AFBXO3BFWBJX6QS5NW73O37IXF2A  B0771ZXXV6     0.0   \n",
       "328593  AHVANA5GZNJ45UABPXWZNAF4ECBQ  B00BBF6MO6     0.0   \n",
       "328594  AHAVA5VKMJ3OMOLGDZ3W45CKXEWA  B00KTORA0K     5.0   \n",
       "328595  AHAOAIYS3GTCFSVCHOHANFHEVJGA  B07GMV1X1K     0.0   \n",
       "\n",
       "                     timestamp  timestamp_unix  parent_asin_rating_cnt_365d  \\\n",
       "0      2016-01-12 11:59:11.000             NaN                         76.0   \n",
       "1      2016-04-18 19:26:20.000             NaN                          NaN   \n",
       "2      2016-02-10 18:45:08.000             NaN                          9.0   \n",
       "3      2019-05-01 21:22:39.265    1.556746e+09                          0.0   \n",
       "4      2015-01-09 12:53:25.000    1.420808e+09                         16.0   \n",
       "...                        ...             ...                          ...   \n",
       "328591 2015-10-31 18:25:09.000             NaN                          NaN   \n",
       "328592 2011-03-08 02:06:38.000             NaN                          NaN   \n",
       "328593 2015-02-15 05:31:04.000             NaN                          3.0   \n",
       "328594 2019-05-25 04:03:51.505    1.558757e+09                          3.0   \n",
       "328595 2019-06-27 16:46:01.725             NaN                          8.0   \n",
       "\n",
       "        parent_asin_rating_avg_prev_rating_365d  parent_asin_rating_cnt_90d  \\\n",
       "0                                      4.592105                        10.0   \n",
       "1                                           NaN                         NaN   \n",
       "2                                      4.666667                         0.0   \n",
       "3                                           NaN                         0.0   \n",
       "4                                      4.375000                         8.0   \n",
       "...                                         ...                         ...   \n",
       "328591                                      NaN                         NaN   \n",
       "328592                                      NaN                         NaN   \n",
       "328593                                 4.666667                         0.0   \n",
       "328594                                 4.666667                         1.0   \n",
       "328595                                 4.750000                         2.0   \n",
       "\n",
       "        parent_asin_rating_avg_prev_rating_90d  parent_asin_rating_cnt_30d  \\\n",
       "0                                          4.3                         3.0   \n",
       "1                                          NaN                         NaN   \n",
       "2                                          NaN                         0.0   \n",
       "3                                          NaN                         0.0   \n",
       "4                                          4.5                         4.0   \n",
       "...                                        ...                         ...   \n",
       "328591                                     NaN                         NaN   \n",
       "328592                                     NaN                         NaN   \n",
       "328593                                     NaN                         0.0   \n",
       "328594                                     5.0                         1.0   \n",
       "328595                                     4.5                         1.0   \n",
       "\n",
       "        ...                    user_rating_list_10_recent_asin  \\\n",
       "0       ...                                         B00J00BLRM   \n",
       "1       ...  B00YOGZFCO,B00KWFCSB2,B00L3LQ1FI,B0151K6J9Y,B0...   \n",
       "2       ...  B0199OXR0W,B00EVPR4FY,B00B7ELWAU,B00UH9DN58,B0...   \n",
       "3       ...  B006HZA6VK,B0BN2FNKLM,B0086VPUHI,B0040UAYI4,B0...   \n",
       "4       ...                              B00A2ML6XG,B003VUO6LU   \n",
       "...     ...                                                ...   \n",
       "328591  ...                                         B00TFVD688   \n",
       "328592  ...                              B003JVCA9Q,B0029NZ4HA   \n",
       "328593  ...                   B002L93F0A,B002KJ02ZC,B001H4NMNA   \n",
       "328594  ...  B004AYCNR0,B007NUQICE,B000TYQL1O,B000SEU92W,B0...   \n",
       "328595  ...  B010QCD9WW,B06XHMPPLH,B01GY35HKE,B01GY35GIM,B0...   \n",
       "\n",
       "                user_rating_list_10_recent_asin_timestamp  \\\n",
       "0                                              1452599936   \n",
       "1       1449254540,1449256005,1449257733,1452715791,14...   \n",
       "2       1443454097,1455129080,1455129186,1455129499,14...   \n",
       "3       1327120514,1377289907,1402605836,1402606396,14...   \n",
       "4                                   1420807793,1420807991   \n",
       "...                                                   ...   \n",
       "328591                                         1425233294   \n",
       "328592                              1299549517,1299549928   \n",
       "328593                   1370414332,1370414707,1370416530   \n",
       "328594  1431150669,1431150834,1432041664,1432041986,15...   \n",
       "328595  1487438369,1488931311,1490136709,1493063905,15...   \n",
       "\n",
       "                                            item_sequence  \\\n",
       "0       [-1.0, -1.0, -1.0, -1.0, -1.0, -1.0, -1.0, -1....   \n",
       "1       [3028.0, 2742.0, 2755.0, 3159.0, 3101.0, 3036....   \n",
       "2       [-1.0, -1.0, 3234.0, 2508.0, 2318.0, 2964.0, 1...   \n",
       "3       [1987.0, 4569.0, 2114.0, 1606.0, 2159.0, 2279....   \n",
       "4       [-1.0, -1.0, -1.0, -1.0, -1.0, -1.0, -1.0, -1....   \n",
       "...                                                   ...   \n",
       "328591  [-1.0, -1.0, -1.0, -1.0, -1.0, -1.0, -1.0, -1....   \n",
       "328592  [-1.0, -1.0, -1.0, -1.0, -1.0, -1.0, -1.0, -1....   \n",
       "328593  [-1.0, -1.0, -1.0, -1.0, -1.0, -1.0, -1.0, 137...   \n",
       "328594  [-1.0, -1.0, -1.0, 1657.0, 2074.0, 593.0, 583....   \n",
       "328595  [3093.0, 3574.0, 3373.0, 3372.0, 3576.0, 3621....   \n",
       "\n",
       "                                         item_sequence_ts  \\\n",
       "0        [-1, -1, -1, -1, -1, -1, -1, -1, -1, 1452599936]   \n",
       "1       [1449254540, 1449256005, 1449257733, 145271579...   \n",
       "2       [-1, -1, 1443454097, 1455129080, 1455129186, 1...   \n",
       "3       [1327120514, 1377289907, 1402605836, 140260639...   \n",
       "4       [-1, -1, -1, -1, -1, -1, -1, -1, 1420807793, 1...   \n",
       "...                                                   ...   \n",
       "328591   [-1, -1, -1, -1, -1, -1, -1, -1, -1, 1425233294]   \n",
       "328592  [-1, -1, -1, -1, -1, -1, -1, -1, 1299549517, 1...   \n",
       "328593  [-1, -1, -1, -1, -1, -1, -1, 1370414332, 13704...   \n",
       "328594  [-1, -1, -1, 1431150669, 1431150834, 143204166...   \n",
       "328595  [1487438369, 1488931311, 1490136709, 149306390...   \n",
       "\n",
       "                        item_sequence_ts_bucket  main_category  \\\n",
       "0       [-1, -1, -1, -1, -1, -1, -1, -1, -1, 0]    Video Games   \n",
       "1                [5, 5, 5, 5, 5, 5, 5, 5, 5, 5]      Computers   \n",
       "2              [-1, -1, 5, 1, 1, 0, 0, 0, 0, 0]    Video Games   \n",
       "3                [8, 8, 7, 7, 7, 7, 7, 7, 6, 6]    Video Games   \n",
       "4        [-1, -1, -1, -1, -1, -1, -1, -1, 0, 0]    Video Games   \n",
       "...                                         ...            ...   \n",
       "328591  [-1, -1, -1, -1, -1, -1, -1, -1, -1, 5]    Video Games   \n",
       "328592   [-1, -1, -1, -1, -1, -1, -1, -1, 0, 0]    Video Games   \n",
       "328593    [-1, -1, -1, -1, -1, -1, -1, 6, 6, 6]    Video Games   \n",
       "328594        [-1, -1, -1, 7, 7, 7, 7, 5, 5, 0]    Video Games   \n",
       "328595           [6, 6, 6, 6, 6, 6, 6, 5, 5, 5]    Video Games   \n",
       "\n",
       "                                                    title  \\\n",
       "0       PlayStation 3 Dualshock 3 Wireless Controller ...   \n",
       "1       Logitech G502 Lightspeed Wireless Gaming Mouse...   \n",
       "2       Nintendo Wii U Pro U Controller (Japanese Vers...   \n",
       "3                  Rock Band 2 - Nintendo Wii (Game only)   \n",
       "4                              Resident Evil 5 - Xbox 360   \n",
       "...                                                   ...   \n",
       "328591           A Way Out – PC Origin [Online Game Code]   \n",
       "328592  Nintendo Joy-Con (R) - Neon Red - Nintendo Switch   \n",
       "328593                          Killer is Dead - Xbox 360   \n",
       "328594                              Just Dance 2015 - Wii   \n",
       "328595  retrogames The C64 Mini USA Version - Not Mach...   \n",
       "\n",
       "                                              description  \\\n",
       "0       [Amazon.com, The Dualshock 3 wireless controll...   \n",
       "1       [G502 is the best gaming mouse from Logitech G...   \n",
       "2             [Wii U PRO controller (black) (WUP-A-RSKA)]   \n",
       "3       [Product description, Rock Band 2 lets you and...   \n",
       "4                                                      []   \n",
       "...                                                   ...   \n",
       "328591  [From the creators of Brothers - A Tale of Two...   \n",
       "328592                                 [To be determined]   \n",
       "328593  [Killer Is Dead is the latest title from the d...   \n",
       "328594  [With more than 50 million copies of Just Danc...   \n",
       "328595  [It's 1982 and a new home computer graces the ...   \n",
       "\n",
       "                                               categories  price  \n",
       "0       [Video Games, Legacy Systems, PlayStation Syst...  49.99  \n",
       "1             [Video Games, PC, Accessories, Gaming Mice]  87.95  \n",
       "2       [Video Games, Legacy Systems, Nintendo Systems...  43.99  \n",
       "3       [Video Games, Legacy Systems, Nintendo Systems...  28.49  \n",
       "4       [Video Games, Legacy Systems, Xbox Systems, Xb...  29.88  \n",
       "...                                                   ...    ...  \n",
       "328591                           [Video Games, PC, Games]   5.99  \n",
       "328592  [Video Games, Nintendo Switch, Accessories, Co...   None  \n",
       "328593  [Video Games, Legacy Systems, Xbox Systems, Xb...  39.82  \n",
       "328594  [Video Games, Legacy Systems, Nintendo Systems...   33.0  \n",
       "328595  [Video Games, Legacy Systems, Commodore System...  44.99  \n",
       "\n",
       "[328596 rows x 27 columns]"
      ]
     },
     "execution_count": 17,
     "metadata": {},
     "output_type": "execute_result"
    }
   ],
   "source": [
    "train_df"
   ]
  },
  {
   "cell_type": "markdown",
   "id": "5260fbe7-2f90-44a1-be74-ce5db9b511ee",
   "metadata": {},
   "source": [
    "# Train"
   ]
  },
  {
   "cell_type": "code",
   "execution_count": 18,
   "id": "240a04ed-8898-443f-b0f4-7399bfa63810",
   "metadata": {},
   "outputs": [],
   "source": [
    "rating_dataset = UserItemRatingDFDataset(\n",
    "    train_df, \"user_indice\", \"item_indice\", args.rating_col, args.timestamp_col\n",
    ")\n",
    "val_rating_dataset = UserItemRatingDFDataset(\n",
    "    val_df, \"user_indice\", \"item_indice\", args.rating_col, args.timestamp_col\n",
    ")\n",
    "\n",
    "train_loader = DataLoader(\n",
    "    rating_dataset, batch_size=args.batch_size, shuffle=True, drop_last=True\n",
    ")\n",
    "val_loader = DataLoader(\n",
    "    val_rating_dataset, batch_size=args.batch_size, shuffle=False, drop_last=False\n",
    ")"
   ]
  },
  {
   "cell_type": "code",
   "execution_count": 19,
   "id": "22dcf157-425f-4d15-9b53-e1ff93887def",
   "metadata": {
    "scrolled": true
   },
   "outputs": [],
   "source": [
    "n_items = len(item_indices)\n",
    "n_users = len(user_indices)\n",
    "\n",
    "model = init_model(n_users, n_items, args.embedding_dim, args.dropout)"
   ]
  },
  {
   "cell_type": "markdown",
   "id": "b8cbb2a8-a578-4ad2-941e-efd01d930336",
   "metadata": {},
   "source": [
    "#### Predict before train"
   ]
  },
  {
   "cell_type": "code",
   "execution_count": 20,
   "id": "26d95ffc-0aec-4239-aa33-d75dc2f40b3d",
   "metadata": {},
   "outputs": [
    {
     "data": {
      "text/plain": [
       "Embedding(4631, 128, padding_idx=4630)"
      ]
     },
     "execution_count": 20,
     "metadata": {},
     "output_type": "execute_result"
    }
   ],
   "source": [
    "model.item_embedding"
   ]
  },
  {
   "cell_type": "code",
   "execution_count": 21,
   "id": "0112de1e-1dce-4982-9663-a1df91fd0001",
   "metadata": {
    "scrolled": true
   },
   "outputs": [
    {
     "data": {
      "text/html": [
       "<div>\n",
       "<style scoped>\n",
       "    .dataframe tbody tr th:only-of-type {\n",
       "        vertical-align: middle;\n",
       "    }\n",
       "\n",
       "    .dataframe tbody tr th {\n",
       "        vertical-align: top;\n",
       "    }\n",
       "\n",
       "    .dataframe thead th {\n",
       "        text-align: right;\n",
       "    }\n",
       "</style>\n",
       "<table border=\"1\" class=\"dataframe\">\n",
       "  <thead>\n",
       "    <tr style=\"text-align: right;\">\n",
       "      <th></th>\n",
       "      <th>user_id</th>\n",
       "      <th>parent_asin</th>\n",
       "      <th>rating</th>\n",
       "      <th>timestamp</th>\n",
       "      <th>timestamp_unix</th>\n",
       "      <th>parent_asin_rating_cnt_365d</th>\n",
       "      <th>parent_asin_rating_avg_prev_rating_365d</th>\n",
       "      <th>parent_asin_rating_cnt_90d</th>\n",
       "      <th>parent_asin_rating_avg_prev_rating_90d</th>\n",
       "      <th>parent_asin_rating_cnt_30d</th>\n",
       "      <th>...</th>\n",
       "      <th>user_rating_list_10_recent_asin</th>\n",
       "      <th>user_rating_list_10_recent_asin_timestamp</th>\n",
       "      <th>item_sequence</th>\n",
       "      <th>item_sequence_ts</th>\n",
       "      <th>item_sequence_ts_bucket</th>\n",
       "      <th>main_category</th>\n",
       "      <th>title</th>\n",
       "      <th>description</th>\n",
       "      <th>categories</th>\n",
       "      <th>price</th>\n",
       "    </tr>\n",
       "  </thead>\n",
       "  <tbody>\n",
       "    <tr>\n",
       "      <th>788</th>\n",
       "      <td>AHAOIPSKT4LEWU47ZEN7LMOKRMTA</td>\n",
       "      <td>B002DZKZ5K</td>\n",
       "      <td>0.0</td>\n",
       "      <td>2022-02-02 08:29:00.447</td>\n",
       "      <td>NaN</td>\n",
       "      <td>2.0</td>\n",
       "      <td>3.000000</td>\n",
       "      <td>0.0</td>\n",
       "      <td>NaN</td>\n",
       "      <td>0.0</td>\n",
       "      <td>...</td>\n",
       "      <td>B00L3LQ1FI,B017QU5G1O,B00A878J5I,B07G4YYZ1M,B0...</td>\n",
       "      <td>1417991979,1434316316,1434318550,1452921402,15...</td>\n",
       "      <td>[2755, 3202, 2267, 3973, 3834, 3698, 4426, 430...</td>\n",
       "      <td>[1417991979, 1434316316, 1434318550, 145292140...</td>\n",
       "      <td>[8, 8, 8, 8, 7, 7, 7, 6, 6, 5]</td>\n",
       "      <td>Video Games</td>\n",
       "      <td>Lego Indiana Jones 2: The Adventure Continues ...</td>\n",
       "      <td>[Product Description, LEGO Indiana Jones 2: Th...</td>\n",
       "      <td>[Video Games, Legacy Systems, Nintendo Systems...</td>\n",
       "      <td>28.53</td>\n",
       "    </tr>\n",
       "    <tr>\n",
       "      <th>1178</th>\n",
       "      <td>AEJDEYIQP7GV6MFFDS4NW5M66YMA</td>\n",
       "      <td>B0BL65X86R</td>\n",
       "      <td>1.0</td>\n",
       "      <td>2022-01-15 23:49:08.812</td>\n",
       "      <td>1.642291e+09</td>\n",
       "      <td>11.0</td>\n",
       "      <td>5.000000</td>\n",
       "      <td>1.0</td>\n",
       "      <td>5.0</td>\n",
       "      <td>0.0</td>\n",
       "      <td>...</td>\n",
       "      <td>B006PP41Q8,B00DBRNQZ0,B0050SX9I2,B00IFF0SIQ,B0...</td>\n",
       "      <td>1440968956,1445379263,1445379365,1445379373,14...</td>\n",
       "      <td>[2012, 2432, 1838, 2645, 2466, 1998, 2050, 359...</td>\n",
       "      <td>[1440968956, 1445379263, 1445379365, 144537937...</td>\n",
       "      <td>[8, 8, 8, 8, 8, 7, 7, 7, 7, 7]</td>\n",
       "      <td>Video Games</td>\n",
       "      <td>$25 PlayStation Store Gift Card [Digital Code]</td>\n",
       "      <td>[Redeem against anything on PlayStation Store....</td>\n",
       "      <td>[Video Games, Online Game Services, PlayStatio...</td>\n",
       "      <td>25.0</td>\n",
       "    </tr>\n",
       "    <tr>\n",
       "      <th>1585</th>\n",
       "      <td>AHTLGOWRXF4PNX6DEUZXVZWBBVTQ</td>\n",
       "      <td>B0C3KYVDWT</td>\n",
       "      <td>1.0</td>\n",
       "      <td>2022-03-15 17:13:55.253</td>\n",
       "      <td>1.647364e+09</td>\n",
       "      <td>25.0</td>\n",
       "      <td>4.920000</td>\n",
       "      <td>3.0</td>\n",
       "      <td>5.0</td>\n",
       "      <td>0.0</td>\n",
       "      <td>...</td>\n",
       "      <td>B00PGLG79G,B01BF9X6LO,B07YBXFDYN,B07VRD1TT1,B0...</td>\n",
       "      <td>1528409892,1528410399,1571267805,1580915819,15...</td>\n",
       "      <td>[2893, 3277, 4282, 4209, 3360, 4299, 3940, 427...</td>\n",
       "      <td>[1528409892, 1528410399, 1571267805, 158091581...</td>\n",
       "      <td>[7, 7, 6, 6, 6, 6, 6, 3, 3, 3]</td>\n",
       "      <td>Computers</td>\n",
       "      <td>SanDisk 128GB microSDXC-Card, Licensed for Nin...</td>\n",
       "      <td>[With incredible speed, the officially license...</td>\n",
       "      <td>[Video Games, Nintendo Switch, Accessories]</td>\n",
       "      <td>14.99</td>\n",
       "    </tr>\n",
       "    <tr>\n",
       "      <th>135</th>\n",
       "      <td>AGSRO7JUOTXSI76KD4A3J5XED5EQ</td>\n",
       "      <td>B00S1LRUVW</td>\n",
       "      <td>0.0</td>\n",
       "      <td>2022-03-16 17:42:47.025</td>\n",
       "      <td>NaN</td>\n",
       "      <td>0.0</td>\n",
       "      <td>NaN</td>\n",
       "      <td>0.0</td>\n",
       "      <td>NaN</td>\n",
       "      <td>0.0</td>\n",
       "      <td>...</td>\n",
       "      <td>B00002STFD,B001KN31ZM,B00503E8S2,B004YV9TSA,B0...</td>\n",
       "      <td>1378780997,1382760104,1399439878,1399440244,14...</td>\n",
       "      <td>[-1, -1, -1, 50, 1107, 1806, 1798, 2391, 4272,...</td>\n",
       "      <td>[-1, -1, -1, 1378780997, 1382760104, 139943987...</td>\n",
       "      <td>[-1, -1, -1, 8, 8, 8, 8, 8, 8, 4]</td>\n",
       "      <td>Video Games</td>\n",
       "      <td>Nintendo New 3DS Xl - Red [Discontinued]</td>\n",
       "      <td>[THE NEXT DIMENSION IN ENTERTAINMENT. The New ...</td>\n",
       "      <td>[Video Games, Legacy Systems, Nintendo Systems...</td>\n",
       "      <td>379.99</td>\n",
       "    </tr>\n",
       "    <tr>\n",
       "      <th>1377</th>\n",
       "      <td>AHCMSGZRS6NBUPM4DPVUAZHLOQ7Q</td>\n",
       "      <td>B00008URUF</td>\n",
       "      <td>0.0</td>\n",
       "      <td>2021-12-12 21:05:53.342</td>\n",
       "      <td>NaN</td>\n",
       "      <td>1.0</td>\n",
       "      <td>4.000000</td>\n",
       "      <td>0.0</td>\n",
       "      <td>NaN</td>\n",
       "      <td>0.0</td>\n",
       "      <td>...</td>\n",
       "      <td>B09918MSTF,B08MBQ51KG,B087T1FS9K,B087NNZZM8,B0...</td>\n",
       "      <td>1595603546,1595603593,1595783045,1597267305,16...</td>\n",
       "      <td>[-1, -1, -1, 4460, 4407, 4349, 4343, 4370, 430...</td>\n",
       "      <td>[-1, -1, -1, 1595603546, 1595603593, 159578304...</td>\n",
       "      <td>[-1, -1, -1, 6, 6, 6, 6, 6, 5, 5]</td>\n",
       "      <td>Video Games</td>\n",
       "      <td>Donkey Kong Country</td>\n",
       "      <td>[Product Description, The arcade classic gets ...</td>\n",
       "      <td>[Video Games, Legacy Systems, Nintendo Systems...</td>\n",
       "      <td>38.66</td>\n",
       "    </tr>\n",
       "    <tr>\n",
       "      <th>1449</th>\n",
       "      <td>AETZPD7JKD42GBVYXBYPGOY4NF6Q</td>\n",
       "      <td>B09B35J159</td>\n",
       "      <td>1.0</td>\n",
       "      <td>2022-07-08 19:10:11.311</td>\n",
       "      <td>1.657307e+09</td>\n",
       "      <td>4.0</td>\n",
       "      <td>2.250000</td>\n",
       "      <td>2.0</td>\n",
       "      <td>3.0</td>\n",
       "      <td>2.0</td>\n",
       "      <td>...</td>\n",
       "      <td>B07N5LL4YW,B00BN5T30E,B00C1TTF86,B00DE2W4PK,B0...</td>\n",
       "      <td>1384463846,1384464555,1384543182,1384543825,15...</td>\n",
       "      <td>[-1, -1, -1, -1, -1, 4074, 2352, 2368, 2444, 3...</td>\n",
       "      <td>[-1, -1, -1, -1, -1, 1384463846, 1384464555, 1...</td>\n",
       "      <td>[-1, -1, -1, -1, -1, 8, 8, 8, 8, 7]</td>\n",
       "      <td>Computers</td>\n",
       "      <td>Razer Basilisk Ultimate HyperSpeed Wireless Ga...</td>\n",
       "      <td>[With a high-speed transmission, extremely low...</td>\n",
       "      <td>[Video Games, PC, Accessories, Gaming Mice]</td>\n",
       "      <td>None</td>\n",
       "    </tr>\n",
       "    <tr>\n",
       "      <th>416</th>\n",
       "      <td>AFJCV5BC3AFKXNLMUSLRGCGXNLFQ</td>\n",
       "      <td>B09WB49MP6</td>\n",
       "      <td>1.0</td>\n",
       "      <td>2022-04-29 18:25:39.335</td>\n",
       "      <td>1.651257e+09</td>\n",
       "      <td>0.0</td>\n",
       "      <td>NaN</td>\n",
       "      <td>0.0</td>\n",
       "      <td>NaN</td>\n",
       "      <td>0.0</td>\n",
       "      <td>...</td>\n",
       "      <td>B00G9X4YRM,B00BN5T30E,B00K32USMU,B00OGNV5HY,B0...</td>\n",
       "      <td>1401869274,1403281337,1422155394,1422155844,14...</td>\n",
       "      <td>[-1, -1, -1, 2556, 2352, 2696, 2872, 4412, 308...</td>\n",
       "      <td>[-1, -1, -1, 1401869274, 1403281337, 142215539...</td>\n",
       "      <td>[-1, -1, -1, 8, 8, 8, 8, 8, 8, 8]</td>\n",
       "      <td>Video Games</td>\n",
       "      <td>OpenWheeler GEN3 Racing Wheel Stand Cockpit Bl...</td>\n",
       "      <td>[]</td>\n",
       "      <td>[Video Games, Legacy Systems, Xbox Systems, Xb...</td>\n",
       "      <td>399.0</td>\n",
       "    </tr>\n",
       "    <tr>\n",
       "      <th>1297</th>\n",
       "      <td>AETZPD7JKD42GBVYXBYPGOY4NF6Q</td>\n",
       "      <td>B07X1HF3V6</td>\n",
       "      <td>0.0</td>\n",
       "      <td>2022-07-08 19:13:28.232</td>\n",
       "      <td>NaN</td>\n",
       "      <td>1.0</td>\n",
       "      <td>5.000000</td>\n",
       "      <td>0.0</td>\n",
       "      <td>NaN</td>\n",
       "      <td>0.0</td>\n",
       "      <td>...</td>\n",
       "      <td>B07N5LL4YW,B00BN5T30E,B00C1TTF86,B00DE2W4PK,B0...</td>\n",
       "      <td>1384463846,1384464555,1384543182,1384543825,15...</td>\n",
       "      <td>[-1, -1, -1, -1, 4074, 2352, 2368, 2444, 3628,...</td>\n",
       "      <td>[-1, -1, -1, -1, 1384463846, 1384464555, 13845...</td>\n",
       "      <td>[-1, -1, -1, -1, 8, 8, 8, 8, 7, 0]</td>\n",
       "      <td>Video Games</td>\n",
       "      <td>WB Games Mortal Kombat: Komplete Edition - Pla...</td>\n",
       "      <td>[Note:The extra downloadable content is a bonu...</td>\n",
       "      <td>[Video Games, Legacy Systems, PlayStation Syst...</td>\n",
       "      <td>34.43</td>\n",
       "    </tr>\n",
       "    <tr>\n",
       "      <th>789</th>\n",
       "      <td>AGLQLDOF6JVKQIZY7BU7OCAJFEIA</td>\n",
       "      <td>B004QEV0MI</td>\n",
       "      <td>0.0</td>\n",
       "      <td>2022-02-06 16:20:19.149</td>\n",
       "      <td>NaN</td>\n",
       "      <td>1.0</td>\n",
       "      <td>1.000000</td>\n",
       "      <td>0.0</td>\n",
       "      <td>NaN</td>\n",
       "      <td>0.0</td>\n",
       "      <td>...</td>\n",
       "      <td>B01M8GXNJX,B01FUWJAQC,B072JYVYCX,B06XX4D2KY,B0...</td>\n",
       "      <td>1488662110,1498345226,1507389221,1509398438,15...</td>\n",
       "      <td>[3481, 3332, 3694, 3591, 3871, 3942, 3059, 398...</td>\n",
       "      <td>[1488662110, 1498345226, 1507389221, 150939843...</td>\n",
       "      <td>[7, 7, 7, 7, 7, 7, 6, 6, 6, 6]</td>\n",
       "      <td>Video Games</td>\n",
       "      <td>Saint's Row: The Third - Xbox 360</td>\n",
       "      <td>[Product Description, Years after taking Stilw...</td>\n",
       "      <td>[Video Games, Legacy Systems, Xbox Systems, Xb...</td>\n",
       "      <td>17.0</td>\n",
       "    </tr>\n",
       "    <tr>\n",
       "      <th>355</th>\n",
       "      <td>AGYJI6XSILTABA3ZWALFM6SMEVOQ</td>\n",
       "      <td>B08XD54VJY</td>\n",
       "      <td>1.0</td>\n",
       "      <td>2021-12-01 01:40:44.191</td>\n",
       "      <td>1.638323e+09</td>\n",
       "      <td>18.0</td>\n",
       "      <td>4.055556</td>\n",
       "      <td>4.0</td>\n",
       "      <td>4.5</td>\n",
       "      <td>0.0</td>\n",
       "      <td>...</td>\n",
       "      <td>B07SM7G9CN,B07G1SC6BW,B07L6MJ6LD,B07J3P1GJM,B0...</td>\n",
       "      <td>1527019952,1538858187,1557937823,1557937962,16...</td>\n",
       "      <td>[-1, -1, -1, 4164, 3970, 4049, 4018, 4388, 369...</td>\n",
       "      <td>[-1, -1, -1, 1527019952, 1538858187, 155793782...</td>\n",
       "      <td>[-1, -1, -1, 7, 7, 6, 6, 6, 6, 4]</td>\n",
       "      <td>Video Games</td>\n",
       "      <td>The Legend of Zelda: Skyward Sword HD - Ninten...</td>\n",
       "      <td>[Solve puzzles, explore dungeons, and soar the...</td>\n",
       "      <td>[Video Games, Nintendo Switch, Games]</td>\n",
       "      <td>48.49</td>\n",
       "    </tr>\n",
       "  </tbody>\n",
       "</table>\n",
       "<p>10 rows × 27 columns</p>\n",
       "</div>"
      ],
      "text/plain": [
       "                           user_id parent_asin  rating  \\\n",
       "788   AHAOIPSKT4LEWU47ZEN7LMOKRMTA  B002DZKZ5K     0.0   \n",
       "1178  AEJDEYIQP7GV6MFFDS4NW5M66YMA  B0BL65X86R     1.0   \n",
       "1585  AHTLGOWRXF4PNX6DEUZXVZWBBVTQ  B0C3KYVDWT     1.0   \n",
       "135   AGSRO7JUOTXSI76KD4A3J5XED5EQ  B00S1LRUVW     0.0   \n",
       "1377  AHCMSGZRS6NBUPM4DPVUAZHLOQ7Q  B00008URUF     0.0   \n",
       "1449  AETZPD7JKD42GBVYXBYPGOY4NF6Q  B09B35J159     1.0   \n",
       "416   AFJCV5BC3AFKXNLMUSLRGCGXNLFQ  B09WB49MP6     1.0   \n",
       "1297  AETZPD7JKD42GBVYXBYPGOY4NF6Q  B07X1HF3V6     0.0   \n",
       "789   AGLQLDOF6JVKQIZY7BU7OCAJFEIA  B004QEV0MI     0.0   \n",
       "355   AGYJI6XSILTABA3ZWALFM6SMEVOQ  B08XD54VJY     1.0   \n",
       "\n",
       "                   timestamp  timestamp_unix  parent_asin_rating_cnt_365d  \\\n",
       "788  2022-02-02 08:29:00.447             NaN                          2.0   \n",
       "1178 2022-01-15 23:49:08.812    1.642291e+09                         11.0   \n",
       "1585 2022-03-15 17:13:55.253    1.647364e+09                         25.0   \n",
       "135  2022-03-16 17:42:47.025             NaN                          0.0   \n",
       "1377 2021-12-12 21:05:53.342             NaN                          1.0   \n",
       "1449 2022-07-08 19:10:11.311    1.657307e+09                          4.0   \n",
       "416  2022-04-29 18:25:39.335    1.651257e+09                          0.0   \n",
       "1297 2022-07-08 19:13:28.232             NaN                          1.0   \n",
       "789  2022-02-06 16:20:19.149             NaN                          1.0   \n",
       "355  2021-12-01 01:40:44.191    1.638323e+09                         18.0   \n",
       "\n",
       "      parent_asin_rating_avg_prev_rating_365d  parent_asin_rating_cnt_90d  \\\n",
       "788                                  3.000000                         0.0   \n",
       "1178                                 5.000000                         1.0   \n",
       "1585                                 4.920000                         3.0   \n",
       "135                                       NaN                         0.0   \n",
       "1377                                 4.000000                         0.0   \n",
       "1449                                 2.250000                         2.0   \n",
       "416                                       NaN                         0.0   \n",
       "1297                                 5.000000                         0.0   \n",
       "789                                  1.000000                         0.0   \n",
       "355                                  4.055556                         4.0   \n",
       "\n",
       "      parent_asin_rating_avg_prev_rating_90d  parent_asin_rating_cnt_30d  ...  \\\n",
       "788                                      NaN                         0.0  ...   \n",
       "1178                                     5.0                         0.0  ...   \n",
       "1585                                     5.0                         0.0  ...   \n",
       "135                                      NaN                         0.0  ...   \n",
       "1377                                     NaN                         0.0  ...   \n",
       "1449                                     3.0                         2.0  ...   \n",
       "416                                      NaN                         0.0  ...   \n",
       "1297                                     NaN                         0.0  ...   \n",
       "789                                      NaN                         0.0  ...   \n",
       "355                                      4.5                         0.0  ...   \n",
       "\n",
       "                        user_rating_list_10_recent_asin  \\\n",
       "788   B00L3LQ1FI,B017QU5G1O,B00A878J5I,B07G4YYZ1M,B0...   \n",
       "1178  B006PP41Q8,B00DBRNQZ0,B0050SX9I2,B00IFF0SIQ,B0...   \n",
       "1585  B00PGLG79G,B01BF9X6LO,B07YBXFDYN,B07VRD1TT1,B0...   \n",
       "135   B00002STFD,B001KN31ZM,B00503E8S2,B004YV9TSA,B0...   \n",
       "1377  B09918MSTF,B08MBQ51KG,B087T1FS9K,B087NNZZM8,B0...   \n",
       "1449  B07N5LL4YW,B00BN5T30E,B00C1TTF86,B00DE2W4PK,B0...   \n",
       "416   B00G9X4YRM,B00BN5T30E,B00K32USMU,B00OGNV5HY,B0...   \n",
       "1297  B07N5LL4YW,B00BN5T30E,B00C1TTF86,B00DE2W4PK,B0...   \n",
       "789   B01M8GXNJX,B01FUWJAQC,B072JYVYCX,B06XX4D2KY,B0...   \n",
       "355   B07SM7G9CN,B07G1SC6BW,B07L6MJ6LD,B07J3P1GJM,B0...   \n",
       "\n",
       "              user_rating_list_10_recent_asin_timestamp  \\\n",
       "788   1417991979,1434316316,1434318550,1452921402,15...   \n",
       "1178  1440968956,1445379263,1445379365,1445379373,14...   \n",
       "1585  1528409892,1528410399,1571267805,1580915819,15...   \n",
       "135   1378780997,1382760104,1399439878,1399440244,14...   \n",
       "1377  1595603546,1595603593,1595783045,1597267305,16...   \n",
       "1449  1384463846,1384464555,1384543182,1384543825,15...   \n",
       "416   1401869274,1403281337,1422155394,1422155844,14...   \n",
       "1297  1384463846,1384464555,1384543182,1384543825,15...   \n",
       "789   1488662110,1498345226,1507389221,1509398438,15...   \n",
       "355   1527019952,1538858187,1557937823,1557937962,16...   \n",
       "\n",
       "                                          item_sequence  \\\n",
       "788   [2755, 3202, 2267, 3973, 3834, 3698, 4426, 430...   \n",
       "1178  [2012, 2432, 1838, 2645, 2466, 1998, 2050, 359...   \n",
       "1585  [2893, 3277, 4282, 4209, 3360, 4299, 3940, 427...   \n",
       "135   [-1, -1, -1, 50, 1107, 1806, 1798, 2391, 4272,...   \n",
       "1377  [-1, -1, -1, 4460, 4407, 4349, 4343, 4370, 430...   \n",
       "1449  [-1, -1, -1, -1, -1, 4074, 2352, 2368, 2444, 3...   \n",
       "416   [-1, -1, -1, 2556, 2352, 2696, 2872, 4412, 308...   \n",
       "1297  [-1, -1, -1, -1, 4074, 2352, 2368, 2444, 3628,...   \n",
       "789   [3481, 3332, 3694, 3591, 3871, 3942, 3059, 398...   \n",
       "355   [-1, -1, -1, 4164, 3970, 4049, 4018, 4388, 369...   \n",
       "\n",
       "                                       item_sequence_ts  \\\n",
       "788   [1417991979, 1434316316, 1434318550, 145292140...   \n",
       "1178  [1440968956, 1445379263, 1445379365, 144537937...   \n",
       "1585  [1528409892, 1528410399, 1571267805, 158091581...   \n",
       "135   [-1, -1, -1, 1378780997, 1382760104, 139943987...   \n",
       "1377  [-1, -1, -1, 1595603546, 1595603593, 159578304...   \n",
       "1449  [-1, -1, -1, -1, -1, 1384463846, 1384464555, 1...   \n",
       "416   [-1, -1, -1, 1401869274, 1403281337, 142215539...   \n",
       "1297  [-1, -1, -1, -1, 1384463846, 1384464555, 13845...   \n",
       "789   [1488662110, 1498345226, 1507389221, 150939843...   \n",
       "355   [-1, -1, -1, 1527019952, 1538858187, 155793782...   \n",
       "\n",
       "                  item_sequence_ts_bucket  main_category  \\\n",
       "788        [8, 8, 8, 8, 7, 7, 7, 6, 6, 5]    Video Games   \n",
       "1178       [8, 8, 8, 8, 8, 7, 7, 7, 7, 7]    Video Games   \n",
       "1585       [7, 7, 6, 6, 6, 6, 6, 3, 3, 3]      Computers   \n",
       "135     [-1, -1, -1, 8, 8, 8, 8, 8, 8, 4]    Video Games   \n",
       "1377    [-1, -1, -1, 6, 6, 6, 6, 6, 5, 5]    Video Games   \n",
       "1449  [-1, -1, -1, -1, -1, 8, 8, 8, 8, 7]      Computers   \n",
       "416     [-1, -1, -1, 8, 8, 8, 8, 8, 8, 8]    Video Games   \n",
       "1297   [-1, -1, -1, -1, 8, 8, 8, 8, 7, 0]    Video Games   \n",
       "789        [7, 7, 7, 7, 7, 7, 6, 6, 6, 6]    Video Games   \n",
       "355     [-1, -1, -1, 7, 7, 6, 6, 6, 6, 4]    Video Games   \n",
       "\n",
       "                                                  title  \\\n",
       "788   Lego Indiana Jones 2: The Adventure Continues ...   \n",
       "1178     $25 PlayStation Store Gift Card [Digital Code]   \n",
       "1585  SanDisk 128GB microSDXC-Card, Licensed for Nin...   \n",
       "135            Nintendo New 3DS Xl - Red [Discontinued]   \n",
       "1377                                Donkey Kong Country   \n",
       "1449  Razer Basilisk Ultimate HyperSpeed Wireless Ga...   \n",
       "416   OpenWheeler GEN3 Racing Wheel Stand Cockpit Bl...   \n",
       "1297  WB Games Mortal Kombat: Komplete Edition - Pla...   \n",
       "789                   Saint's Row: The Third - Xbox 360   \n",
       "355   The Legend of Zelda: Skyward Sword HD - Ninten...   \n",
       "\n",
       "                                            description  \\\n",
       "788   [Product Description, LEGO Indiana Jones 2: Th...   \n",
       "1178  [Redeem against anything on PlayStation Store....   \n",
       "1585  [With incredible speed, the officially license...   \n",
       "135   [THE NEXT DIMENSION IN ENTERTAINMENT. The New ...   \n",
       "1377  [Product Description, The arcade classic gets ...   \n",
       "1449  [With a high-speed transmission, extremely low...   \n",
       "416                                                  []   \n",
       "1297  [Note:The extra downloadable content is a bonu...   \n",
       "789   [Product Description, Years after taking Stilw...   \n",
       "355   [Solve puzzles, explore dungeons, and soar the...   \n",
       "\n",
       "                                             categories   price  \n",
       "788   [Video Games, Legacy Systems, Nintendo Systems...   28.53  \n",
       "1178  [Video Games, Online Game Services, PlayStatio...    25.0  \n",
       "1585        [Video Games, Nintendo Switch, Accessories]   14.99  \n",
       "135   [Video Games, Legacy Systems, Nintendo Systems...  379.99  \n",
       "1377  [Video Games, Legacy Systems, Nintendo Systems...   38.66  \n",
       "1449        [Video Games, PC, Accessories, Gaming Mice]    None  \n",
       "416   [Video Games, Legacy Systems, Xbox Systems, Xb...   399.0  \n",
       "1297  [Video Games, Legacy Systems, PlayStation Syst...   34.43  \n",
       "789   [Video Games, Legacy Systems, Xbox Systems, Xb...    17.0  \n",
       "355               [Video Games, Nintendo Switch, Games]   48.49  \n",
       "\n",
       "[10 rows x 27 columns]"
      ]
     },
     "execution_count": 21,
     "metadata": {},
     "output_type": "execute_result"
    }
   ],
   "source": [
    "val_df = val_rating_dataset.df\n",
    "val_df.sample(10)"
   ]
  },
  {
   "cell_type": "code",
   "execution_count": 22,
   "id": "9eb1583b-40f7-4157-a383-5891389ac119",
   "metadata": {
    "scrolled": true
   },
   "outputs": [
    {
     "data": {
      "text/html": [
       "<div>\n",
       "<style scoped>\n",
       "    .dataframe tbody tr th:only-of-type {\n",
       "        vertical-align: middle;\n",
       "    }\n",
       "\n",
       "    .dataframe tbody tr th {\n",
       "        vertical-align: top;\n",
       "    }\n",
       "\n",
       "    .dataframe thead th {\n",
       "        text-align: right;\n",
       "    }\n",
       "</style>\n",
       "<table border=\"1\" class=\"dataframe\">\n",
       "  <thead>\n",
       "    <tr style=\"text-align: right;\">\n",
       "      <th></th>\n",
       "      <th>user_id</th>\n",
       "      <th>parent_asin</th>\n",
       "      <th>rating</th>\n",
       "      <th>timestamp</th>\n",
       "      <th>timestamp_unix</th>\n",
       "      <th>parent_asin_rating_cnt_365d</th>\n",
       "      <th>parent_asin_rating_avg_prev_rating_365d</th>\n",
       "      <th>parent_asin_rating_cnt_90d</th>\n",
       "      <th>parent_asin_rating_avg_prev_rating_90d</th>\n",
       "      <th>parent_asin_rating_cnt_30d</th>\n",
       "      <th>...</th>\n",
       "      <th>user_rating_list_10_recent_asin</th>\n",
       "      <th>user_rating_list_10_recent_asin_timestamp</th>\n",
       "      <th>item_sequence</th>\n",
       "      <th>item_sequence_ts</th>\n",
       "      <th>item_sequence_ts_bucket</th>\n",
       "      <th>main_category</th>\n",
       "      <th>title</th>\n",
       "      <th>description</th>\n",
       "      <th>categories</th>\n",
       "      <th>price</th>\n",
       "    </tr>\n",
       "  </thead>\n",
       "  <tbody>\n",
       "    <tr>\n",
       "      <th>4</th>\n",
       "      <td>AEBEAZUAX3HMA7EF3BA6L2DK3LPA</td>\n",
       "      <td>B008HPAXZ2</td>\n",
       "      <td>0.0</td>\n",
       "      <td>2022-06-25 22:48:11.729</td>\n",
       "      <td>NaN</td>\n",
       "      <td>0.0</td>\n",
       "      <td>NaN</td>\n",
       "      <td>0.0</td>\n",
       "      <td>NaN</td>\n",
       "      <td>0.0</td>\n",
       "      <td>...</td>\n",
       "      <td>B06XMRQ68B,B0BLXJC8MZ,B0748N6796,B0BS9YCBYY,B0BKRXQ5GL,B07HNW68ZC,B0754LGLFP</td>\n",
       "      <td>1494507012,1542751256,1557368493,1557883885,1558827429,1570495212,1655255201</td>\n",
       "      <td>[-1, -1, -1, 3577, 4566, 3740, 4579, 4554, 4007, 3764]</td>\n",
       "      <td>[-1, -1, -1, 1494507012, 1542751256, 1557368493, 1557883885, 1558827429, 1570495212, 1655255201]</td>\n",
       "      <td>[-1, -1, -1, 8, 7, 7, 7, 7, 6, 4]</td>\n",
       "      <td>Video Games</td>\n",
       "      <td>HORI Nintendo 3DS XL Screen Protective Filter</td>\n",
       "      <td>[Officially licensed by Nintendo. This is the only screen protective filter you'll need to protect your new Nintendo 3DS XL LCD screens from dirt and scratches. Uses the same proven new and improved filter application method as HORI's Nintendo 3DS version. This method will allow anyone to easily and neatly apply the screen filters and get perfect results every time! Also includes a cleaning cloth. Nintendo 3DS XL system not included.]</td>\n",
       "      <td>[Video Games, Legacy Systems, Nintendo Systems, Nintendo 3DS &amp; 2DS, Accessories, Faceplates, Protectors &amp; Skins, Screen Protectors]</td>\n",
       "      <td>None</td>\n",
       "    </tr>\n",
       "    <tr>\n",
       "      <th>27</th>\n",
       "      <td>AEBEAZUAX3HMA7EF3BA6L2DK3LPA</td>\n",
       "      <td>B0754LGLFP</td>\n",
       "      <td>1.0</td>\n",
       "      <td>2022-06-15 01:06:41.380</td>\n",
       "      <td>1.655255e+09</td>\n",
       "      <td>2.0</td>\n",
       "      <td>2.5</td>\n",
       "      <td>1.0</td>\n",
       "      <td>3.0</td>\n",
       "      <td>0.0</td>\n",
       "      <td>...</td>\n",
       "      <td>B06XMRQ68B,B0BLXJC8MZ,B0748N6796,B0BS9YCBYY,B0BKRXQ5GL,B07HNW68ZC</td>\n",
       "      <td>1494507012,1542751256,1557368493,1557883885,1558827429,1570495212</td>\n",
       "      <td>[-1, -1, -1, -1, 3577, 4566, 3740, 4579, 4554, 4007]</td>\n",
       "      <td>[-1, -1, -1, -1, 1494507012, 1542751256, 1557368493, 1557883885, 1558827429, 1570495212]</td>\n",
       "      <td>[-1, -1, -1, -1, 8, 7, 7, 7, 7, 6]</td>\n",
       "      <td>Computers</td>\n",
       "      <td>Redragon K552 Mechanical Gaming Keyboard Rainbow LED Backlit Wired with Anti-Dust Proof Switches for Windows PC (White, 87 Keys Blue Switches)</td>\n",
       "      <td>[Redragon K552 KUMARA 87 Key Rainbow LED Backlit Mechanical Wired illuminated Gaming Keyboard with Anti-Dust Blue Switches  The Redragon K552isn't your average gaming keyboard. Not only is it over-engineered and built to take a beating, it is loaded with pro features including solid metal and ABS construction, precision engineered keycaps, high-end mechanical dust proof switches and crisp, bright adjustable RGB LED backlighting, a gold-plated USB connector, and a splash-resistant design.The Blue Switches are clicky with medium resistance, audible loud click sound, crisp precise tactile feedback, good for gaming and typing Features: * Rainbow LED Backlit, 19 different Backlight, plus 2 user programmable modes * 6 different backlight colors &amp; 6 brightness levels * 8 preset gaming modes * Durable solid Metal-ABS Construction * Dust Proof Tactile Blue Switches * Compact Space Saving Tenkeyless Design with 87 Full Sized Keys * All 87 keys are 100% conflict free, anti-ghosting * 12 Multimedia with FN Keys * WIN Key can Be disabled for Gaming * WASD and arrow keys are interchangeable * Keycaps offering crystal clear lettering that doesn't scratch off * Weight &amp; Dimensions:  30.90oz, 13.93x4.86x1.46 inches* For Windows 11, Windows 10, Windows 8, Windows 7, Windows Vista, and Windows XP  What's in the box * Keyboard (White, Blue Switches) * User guide * Warranty card]</td>\n",
       "      <td>[Video Games, PC, Accessories, Gaming Keyboards]</td>\n",
       "      <td>39.99</td>\n",
       "    </tr>\n",
       "    <tr>\n",
       "      <th>1494</th>\n",
       "      <td>AEBEAZUAX3HMA7EF3BA6L2DK3LPA</td>\n",
       "      <td>B0C6DH316S</td>\n",
       "      <td>1.0</td>\n",
       "      <td>2022-06-25 22:48:11.729</td>\n",
       "      <td>1.656197e+09</td>\n",
       "      <td>1.0</td>\n",
       "      <td>4.0</td>\n",
       "      <td>0.0</td>\n",
       "      <td>NaN</td>\n",
       "      <td>0.0</td>\n",
       "      <td>...</td>\n",
       "      <td>B06XMRQ68B,B0BLXJC8MZ,B0748N6796,B0BS9YCBYY,B0BKRXQ5GL,B07HNW68ZC,B0754LGLFP</td>\n",
       "      <td>1494507012,1542751256,1557368493,1557883885,1558827429,1570495212,1655255201</td>\n",
       "      <td>[-1, -1, -1, 3577, 4566, 3740, 4579, 4554, 4007, 3764]</td>\n",
       "      <td>[-1, -1, -1, 1494507012, 1542751256, 1557368493, 1557883885, 1558827429, 1570495212, 1655255201]</td>\n",
       "      <td>[-1, -1, -1, 8, 7, 7, 7, 7, 6, 4]</td>\n",
       "      <td>Computers</td>\n",
       "      <td>Logitech G PRO X Wireless Lightspeed Gaming Headset - Shroud Edition, Black</td>\n",
       "      <td>[]</td>\n",
       "      <td>[Video Games, PC, Accessories, Headsets]</td>\n",
       "      <td>253.82</td>\n",
       "    </tr>\n",
       "    <tr>\n",
       "      <th>1824</th>\n",
       "      <td>AEBEAZUAX3HMA7EF3BA6L2DK3LPA</td>\n",
       "      <td>B00N2KKSNO</td>\n",
       "      <td>0.0</td>\n",
       "      <td>2022-06-15 01:06:41.380</td>\n",
       "      <td>NaN</td>\n",
       "      <td>0.0</td>\n",
       "      <td>NaN</td>\n",
       "      <td>0.0</td>\n",
       "      <td>NaN</td>\n",
       "      <td>0.0</td>\n",
       "      <td>...</td>\n",
       "      <td>B06XMRQ68B,B0BLXJC8MZ,B0748N6796,B0BS9YCBYY,B0BKRXQ5GL,B07HNW68ZC</td>\n",
       "      <td>1494507012,1542751256,1557368493,1557883885,1558827429,1570495212</td>\n",
       "      <td>[-1, -1, -1, -1, 3577, 4566, 3740, 4579, 4554, 4007]</td>\n",
       "      <td>[-1, -1, -1, -1, 1494507012, 1542751256, 1557368493, 1557883885, 1558827429, 1570495212]</td>\n",
       "      <td>[-1, -1, -1, -1, 8, 7, 7, 7, 7, 6]</td>\n",
       "      <td>Video Games</td>\n",
       "      <td>Sleeping Dogs: Definitive Edition- PlayStation 4</td>\n",
       "      <td>[Sleeping Dogs is an open-world action game set on the exotic island of Hong Kongwith brutal martial arts combat, thrilling street races and a celebrated, grippingstory. Entirely remade for the new generation of consoles and the very latest PCsThe Definitive Edition includes all previously available content and a wealth of newtechnological upgrades. In this open world game, you play the roleof Wei Shen, an undercover cop trying to take down the Triads from the inside out.You’ll have to prove yourself worthy as you fight your way up the organization,taking part in brutal criminal activities without blowing your cover. Torn betweenyour loyalty to the badge and a criminal code of honor, you will risk everything asthe lines between truth, loyalty and justice become permanently blurred.]</td>\n",
       "      <td>[Video Games, PlayStation 4, Games]</td>\n",
       "      <td>22.33</td>\n",
       "    </tr>\n",
       "  </tbody>\n",
       "</table>\n",
       "<p>4 rows × 27 columns</p>\n",
       "</div>"
      ],
      "text/plain": [
       "                           user_id parent_asin  rating  \\\n",
       "4     AEBEAZUAX3HMA7EF3BA6L2DK3LPA  B008HPAXZ2     0.0   \n",
       "27    AEBEAZUAX3HMA7EF3BA6L2DK3LPA  B0754LGLFP     1.0   \n",
       "1494  AEBEAZUAX3HMA7EF3BA6L2DK3LPA  B0C6DH316S     1.0   \n",
       "1824  AEBEAZUAX3HMA7EF3BA6L2DK3LPA  B00N2KKSNO     0.0   \n",
       "\n",
       "                   timestamp  timestamp_unix  parent_asin_rating_cnt_365d  \\\n",
       "4    2022-06-25 22:48:11.729             NaN                          0.0   \n",
       "27   2022-06-15 01:06:41.380    1.655255e+09                          2.0   \n",
       "1494 2022-06-25 22:48:11.729    1.656197e+09                          1.0   \n",
       "1824 2022-06-15 01:06:41.380             NaN                          0.0   \n",
       "\n",
       "      parent_asin_rating_avg_prev_rating_365d  parent_asin_rating_cnt_90d  \\\n",
       "4                                         NaN                         0.0   \n",
       "27                                        2.5                         1.0   \n",
       "1494                                      4.0                         0.0   \n",
       "1824                                      NaN                         0.0   \n",
       "\n",
       "      parent_asin_rating_avg_prev_rating_90d  parent_asin_rating_cnt_30d  ...  \\\n",
       "4                                        NaN                         0.0  ...   \n",
       "27                                       3.0                         0.0  ...   \n",
       "1494                                     NaN                         0.0  ...   \n",
       "1824                                     NaN                         0.0  ...   \n",
       "\n",
       "                                                   user_rating_list_10_recent_asin  \\\n",
       "4     B06XMRQ68B,B0BLXJC8MZ,B0748N6796,B0BS9YCBYY,B0BKRXQ5GL,B07HNW68ZC,B0754LGLFP   \n",
       "27               B06XMRQ68B,B0BLXJC8MZ,B0748N6796,B0BS9YCBYY,B0BKRXQ5GL,B07HNW68ZC   \n",
       "1494  B06XMRQ68B,B0BLXJC8MZ,B0748N6796,B0BS9YCBYY,B0BKRXQ5GL,B07HNW68ZC,B0754LGLFP   \n",
       "1824             B06XMRQ68B,B0BLXJC8MZ,B0748N6796,B0BS9YCBYY,B0BKRXQ5GL,B07HNW68ZC   \n",
       "\n",
       "                                         user_rating_list_10_recent_asin_timestamp  \\\n",
       "4     1494507012,1542751256,1557368493,1557883885,1558827429,1570495212,1655255201   \n",
       "27               1494507012,1542751256,1557368493,1557883885,1558827429,1570495212   \n",
       "1494  1494507012,1542751256,1557368493,1557883885,1558827429,1570495212,1655255201   \n",
       "1824             1494507012,1542751256,1557368493,1557883885,1558827429,1570495212   \n",
       "\n",
       "                                               item_sequence  \\\n",
       "4     [-1, -1, -1, 3577, 4566, 3740, 4579, 4554, 4007, 3764]   \n",
       "27      [-1, -1, -1, -1, 3577, 4566, 3740, 4579, 4554, 4007]   \n",
       "1494  [-1, -1, -1, 3577, 4566, 3740, 4579, 4554, 4007, 3764]   \n",
       "1824    [-1, -1, -1, -1, 3577, 4566, 3740, 4579, 4554, 4007]   \n",
       "\n",
       "                                                                                      item_sequence_ts  \\\n",
       "4     [-1, -1, -1, 1494507012, 1542751256, 1557368493, 1557883885, 1558827429, 1570495212, 1655255201]   \n",
       "27            [-1, -1, -1, -1, 1494507012, 1542751256, 1557368493, 1557883885, 1558827429, 1570495212]   \n",
       "1494  [-1, -1, -1, 1494507012, 1542751256, 1557368493, 1557883885, 1558827429, 1570495212, 1655255201]   \n",
       "1824          [-1, -1, -1, -1, 1494507012, 1542751256, 1557368493, 1557883885, 1558827429, 1570495212]   \n",
       "\n",
       "                 item_sequence_ts_bucket  main_category  \\\n",
       "4      [-1, -1, -1, 8, 7, 7, 7, 7, 6, 4]    Video Games   \n",
       "27    [-1, -1, -1, -1, 8, 7, 7, 7, 7, 6]      Computers   \n",
       "1494   [-1, -1, -1, 8, 7, 7, 7, 7, 6, 4]      Computers   \n",
       "1824  [-1, -1, -1, -1, 8, 7, 7, 7, 7, 6]    Video Games   \n",
       "\n",
       "                                                                                                                                               title  \\\n",
       "4                                                                                                      HORI Nintendo 3DS XL Screen Protective Filter   \n",
       "27    Redragon K552 Mechanical Gaming Keyboard Rainbow LED Backlit Wired with Anti-Dust Proof Switches for Windows PC (White, 87 Keys Blue Switches)   \n",
       "1494                                                                     Logitech G PRO X Wireless Lightspeed Gaming Headset - Shroud Edition, Black   \n",
       "1824                                                                                                Sleeping Dogs: Definitive Edition- PlayStation 4   \n",
       "\n",
       "                                                                                                                                                                                                                                                                                                                                                                                                                                                                                                                                                                                                                                                                                                                                                                                                                                                                                                                                                                                                                                                                                                                                                                                                                                                                                                                                                                                                                                description  \\\n",
       "4                                                                                                                                                                                                                                                                                                                                                                                                                                                                                                                                                                                                                                                                                                                                                                                                                                                                                                                                                                                    [Officially licensed by Nintendo. This is the only screen protective filter you'll need to protect your new Nintendo 3DS XL LCD screens from dirt and scratches. Uses the same proven new and improved filter application method as HORI's Nintendo 3DS version. This method will allow anyone to easily and neatly apply the screen filters and get perfect results every time! Also includes a cleaning cloth. Nintendo 3DS XL system not included.]   \n",
       "27    [Redragon K552 KUMARA 87 Key Rainbow LED Backlit Mechanical Wired illuminated Gaming Keyboard with Anti-Dust Blue Switches  The Redragon K552isn't your average gaming keyboard. Not only is it over-engineered and built to take a beating, it is loaded with pro features including solid metal and ABS construction, precision engineered keycaps, high-end mechanical dust proof switches and crisp, bright adjustable RGB LED backlighting, a gold-plated USB connector, and a splash-resistant design.The Blue Switches are clicky with medium resistance, audible loud click sound, crisp precise tactile feedback, good for gaming and typing Features: * Rainbow LED Backlit, 19 different Backlight, plus 2 user programmable modes * 6 different backlight colors & 6 brightness levels * 8 preset gaming modes * Durable solid Metal-ABS Construction * Dust Proof Tactile Blue Switches * Compact Space Saving Tenkeyless Design with 87 Full Sized Keys * All 87 keys are 100% conflict free, anti-ghosting * 12 Multimedia with FN Keys * WIN Key can Be disabled for Gaming * WASD and arrow keys are interchangeable * Keycaps offering crystal clear lettering that doesn't scratch off * Weight & Dimensions:  30.90oz, 13.93x4.86x1.46 inches* For Windows 11, Windows 10, Windows 8, Windows 7, Windows Vista, and Windows XP  What's in the box * Keyboard (White, Blue Switches) * User guide * Warranty card]   \n",
       "1494                                                                                                                                                                                                                                                                                                                                                                                                                                                                                                                                                                                                                                                                                                                                                                                                                                                                                                                                                                                                                                                                                                                                                                                                                                                                                                                                                                                                                                     []   \n",
       "1824                                                                                                                                                                                                                                                                                                                                                                                                                                                                                                                                                                                                              [Sleeping Dogs is an open-world action game set on the exotic island of Hong Kongwith brutal martial arts combat, thrilling street races and a celebrated, grippingstory. Entirely remade for the new generation of consoles and the very latest PCsThe Definitive Edition includes all previously available content and a wealth of newtechnological upgrades. In this open world game, you play the roleof Wei Shen, an undercover cop trying to take down the Triads from the inside out.You’ll have to prove yourself worthy as you fight your way up the organization,taking part in brutal criminal activities without blowing your cover. Torn betweenyour loyalty to the badge and a criminal code of honor, you will risk everything asthe lines between truth, loyalty and justice become permanently blurred.]   \n",
       "\n",
       "                                                                                                                               categories  \\\n",
       "4     [Video Games, Legacy Systems, Nintendo Systems, Nintendo 3DS & 2DS, Accessories, Faceplates, Protectors & Skins, Screen Protectors]   \n",
       "27                                                                                       [Video Games, PC, Accessories, Gaming Keyboards]   \n",
       "1494                                                                                             [Video Games, PC, Accessories, Headsets]   \n",
       "1824                                                                                                  [Video Games, PlayStation 4, Games]   \n",
       "\n",
       "       price  \n",
       "4       None  \n",
       "27     39.99  \n",
       "1494  253.82  \n",
       "1824   22.33  \n",
       "\n",
       "[4 rows x 27 columns]"
      ]
     },
     "metadata": {},
     "output_type": "display_data"
    }
   ],
   "source": [
    "user_id = val_df.sample(1)[args.user_col].values[0]\n",
    "# user_id = \"AH4AOFTTDPHPAFAAVFMAF25H2LIQ\"\n",
    "test_df = val_df.loc[lambda df: df[args.user_col].eq(user_id)]\n",
    "with pd.option_context(\"display.max_colwidth\", None):\n",
    "    display(test_df)"
   ]
  },
  {
   "cell_type": "code",
   "execution_count": 23,
   "id": "c48fbc80-eda8-4dff-a246-95f8f2f75082",
   "metadata": {
    "scrolled": true
   },
   "outputs": [
    {
     "name": "stderr",
     "output_type": "stream",
     "text": [
      "\u001b[32m2025-03-01 19:52:27.671\u001b[0m | \u001b[1mINFO    \u001b[0m | \u001b[36m__main__\u001b[0m:\u001b[36m<module>\u001b[0m:\u001b[36m4\u001b[0m - \u001b[1mTest predicting before training with user_id = AEBEAZUAX3HMA7EF3BA6L2DK3LPA and parent_asin = B0754LGLFP\u001b[0m\n"
     ]
    },
    {
     "data": {
      "text/plain": [
       "SequenceRatingPrediction(\n",
       "  (item_embedding): Embedding(4631, 128, padding_idx=4630)\n",
       "  (user_embedding): Embedding(19578, 128)\n",
       "  (gru): GRU(128, 128, batch_first=True)\n",
       "  (relu): ReLU()\n",
       "  (dropout): Dropout(p=0.3, inplace=False)\n",
       "  (fc_rating): Sequential(\n",
       "    (0): Linear(in_features=384, out_features=128, bias=True)\n",
       "    (1): BatchNorm1d(128, eps=1e-05, momentum=0.1, affine=True, track_running_stats=True)\n",
       "    (2): ReLU()\n",
       "    (3): Dropout(p=0.3, inplace=False)\n",
       "    (4): Linear(in_features=128, out_features=1, bias=True)\n",
       "    (5): Sigmoid()\n",
       "  )\n",
       ")"
      ]
     },
     "execution_count": 23,
     "metadata": {},
     "output_type": "execute_result"
    }
   ],
   "source": [
    "test_row = test_df.loc[lambda df: df[args.rating_col].gt(0)].iloc[0]\n",
    "item_id = test_row[args.item_col]\n",
    "item_sequence = test_row[\"item_sequence\"]\n",
    "logger.info(\n",
    "    f\"Test predicting before training with {args.user_col} = {user_id} and {args.item_col} = {item_id}\"\n",
    ")\n",
    "user_indice = idm.get_user_index(user_id)\n",
    "item_indice = idm.get_item_index(item_id)\n",
    "user = torch.tensor([user_indice])\n",
    "item_sequence = torch.tensor([item_sequence])\n",
    "item = torch.tensor([item_indice])\n",
    "\n",
    "model.eval()\n",
    "model.predict(user, item_sequence, item)\n",
    "model.train()"
   ]
  },
  {
   "cell_type": "markdown",
   "id": "c2fd217c-c0c8-4e7c-81fe-6eb36f4729b5",
   "metadata": {},
   "source": [
    "#### Training loop"
   ]
  },
  {
   "cell_type": "markdown",
   "id": "1e9daad4-1365-4e8e-8f73-80ca5513572b",
   "metadata": {},
   "source": [
    "##### Overfit 1 batch"
   ]
  },
  {
   "cell_type": "code",
   "execution_count": 24,
   "id": "1a1cd9bd-e2c6-404b-b6ae-b26a7d35a0ba",
   "metadata": {
    "scrolled": true
   },
   "outputs": [
    {
     "name": "stderr",
     "output_type": "stream",
     "text": [
      "GPU available: True (cuda), used: True\n",
      "TPU available: False, using: 0 TPU cores\n",
      "HPU available: False, using: 0 HPUs\n",
      "`Trainer(overfit_batches=1)` was configured so 1 batch will be used.\n",
      "LOCAL_RANK: 0 - CUDA_VISIBLE_DEVICES: [0]\n",
      "\n",
      "  | Name               | Type                     | Params | Mode \n",
      "------------------------------------------------------------------------\n",
      "0 | model              | SequenceRatingPrediction | 3.2 M  | train\n",
      "1 | val_roc_auc_metric | BinaryAUROC              | 0      | train\n",
      "2 | val_pr_auc_metric  | BinaryAveragePrecision   | 0      | train\n",
      "------------------------------------------------------------------------\n",
      "3.2 M     Trainable params\n",
      "0         Non-trainable params\n",
      "3.2 M     Total params\n",
      "12.990    Total estimated model params size (MB)\n",
      "13        Modules in train mode\n",
      "0         Modules in eval mode\n"
     ]
    },
    {
     "data": {
      "application/vnd.jupyter.widget-view+json": {
       "model_id": "52725f1afc4e450fa42b4eb79caac392",
       "version_major": 2,
       "version_minor": 0
      },
      "text/plain": [
       "Sanity Checking: |                                                                                            …"
      ]
     },
     "metadata": {},
     "output_type": "display_data"
    },
    {
     "name": "stderr",
     "output_type": "stream",
     "text": [
      "/home/dvq/frostmourne/recsys-mvp/.venv/lib/python3.11/site-packages/lightning/pytorch/trainer/connectors/data_connector.py:252: UserWarning:\n",
      "\n",
      "You requested to overfit but enabled val dataloader shuffling. We are turning off the val dataloader shuffling for you.\n",
      "\n",
      "/home/dvq/frostmourne/recsys-mvp/.venv/lib/python3.11/site-packages/lightning/pytorch/trainer/connectors/data_connector.py:425: PossibleUserWarning:\n",
      "\n",
      "The 'val_dataloader' does not have many workers which may be a bottleneck. Consider increasing the value of the `num_workers` argument` to `num_workers=15` in the `DataLoader` to improve performance.\n",
      "\n",
      "/home/dvq/frostmourne/recsys-mvp/.venv/lib/python3.11/site-packages/lightning/pytorch/trainer/connectors/data_connector.py:252: UserWarning:\n",
      "\n",
      "You requested to overfit but enabled train dataloader shuffling. We are turning off the train dataloader shuffling for you.\n",
      "\n",
      "/home/dvq/frostmourne/recsys-mvp/.venv/lib/python3.11/site-packages/lightning/pytorch/trainer/connectors/data_connector.py:425: PossibleUserWarning:\n",
      "\n",
      "The 'train_dataloader' does not have many workers which may be a bottleneck. Consider increasing the value of the `num_workers` argument` to `num_workers=15` in the `DataLoader` to improve performance.\n",
      "\n",
      "/home/dvq/frostmourne/recsys-mvp/.venv/lib/python3.11/site-packages/lightning/pytorch/loops/fit_loop.py:310: PossibleUserWarning:\n",
      "\n",
      "The number of training batches (1) is smaller than the logging interval Trainer(log_every_n_steps=50). Set a lower value for log_every_n_steps if you want to see logs for the training epoch.\n",
      "\n"
     ]
    },
    {
     "data": {
      "application/vnd.jupyter.widget-view+json": {
       "model_id": "44ed758da87f4dabacfb8b8c62bd5807",
       "version_major": 2,
       "version_minor": 0
      },
      "text/plain": [
       "Training: |                                                                                                   …"
      ]
     },
     "metadata": {},
     "output_type": "display_data"
    },
    {
     "data": {
      "application/vnd.jupyter.widget-view+json": {
       "model_id": "931b029472314329a415842cf8fd94ee",
       "version_major": 2,
       "version_minor": 0
      },
      "text/plain": [
       "Validation: |                                                                                                 …"
      ]
     },
     "metadata": {},
     "output_type": "display_data"
    },
    {
     "data": {
      "application/vnd.jupyter.widget-view+json": {
       "model_id": "d7e1dd4b5931498da3cb5835f682f05b",
       "version_major": 2,
       "version_minor": 0
      },
      "text/plain": [
       "Validation: |                                                                                                 …"
      ]
     },
     "metadata": {},
     "output_type": "display_data"
    },
    {
     "data": {
      "application/vnd.jupyter.widget-view+json": {
       "model_id": "352ea0bb380844aa90dfb3f99db8464a",
       "version_major": 2,
       "version_minor": 0
      },
      "text/plain": [
       "Validation: |                                                                                                 …"
      ]
     },
     "metadata": {},
     "output_type": "display_data"
    },
    {
     "data": {
      "application/vnd.jupyter.widget-view+json": {
       "model_id": "eeb073c9afdd4ecb9f7b2403f8b4879f",
       "version_major": 2,
       "version_minor": 0
      },
      "text/plain": [
       "Validation: |                                                                                                 …"
      ]
     },
     "metadata": {},
     "output_type": "display_data"
    },
    {
     "data": {
      "application/vnd.jupyter.widget-view+json": {
       "model_id": "252261295599492f94c3c5aecbdf3ae8",
       "version_major": 2,
       "version_minor": 0
      },
      "text/plain": [
       "Validation: |                                                                                                 …"
      ]
     },
     "metadata": {},
     "output_type": "display_data"
    },
    {
     "data": {
      "application/vnd.jupyter.widget-view+json": {
       "model_id": "302cf463679c49e6a18b087fc369eb02",
       "version_major": 2,
       "version_minor": 0
      },
      "text/plain": [
       "Validation: |                                                                                                 …"
      ]
     },
     "metadata": {},
     "output_type": "display_data"
    },
    {
     "data": {
      "application/vnd.jupyter.widget-view+json": {
       "model_id": "ea4647565f884eef9a5a5cfb117b1c7d",
       "version_major": 2,
       "version_minor": 0
      },
      "text/plain": [
       "Validation: |                                                                                                 …"
      ]
     },
     "metadata": {},
     "output_type": "display_data"
    },
    {
     "data": {
      "application/vnd.jupyter.widget-view+json": {
       "model_id": "cb676c5b4ba7427284ab1644879dcc3b",
       "version_major": 2,
       "version_minor": 0
      },
      "text/plain": [
       "Validation: |                                                                                                 …"
      ]
     },
     "metadata": {},
     "output_type": "display_data"
    },
    {
     "data": {
      "application/vnd.jupyter.widget-view+json": {
       "model_id": "e88d0aff04794a04978fc0c764673302",
       "version_major": 2,
       "version_minor": 0
      },
      "text/plain": [
       "Validation: |                                                                                                 …"
      ]
     },
     "metadata": {},
     "output_type": "display_data"
    },
    {
     "data": {
      "application/vnd.jupyter.widget-view+json": {
       "model_id": "4d6c3e6a7d8e47a9a427efd6caf2e898",
       "version_major": 2,
       "version_minor": 0
      },
      "text/plain": [
       "Validation: |                                                                                                 …"
      ]
     },
     "metadata": {},
     "output_type": "display_data"
    },
    {
     "data": {
      "application/vnd.jupyter.widget-view+json": {
       "model_id": "457378c6b0f7441db73900704d67eae1",
       "version_major": 2,
       "version_minor": 0
      },
      "text/plain": [
       "Validation: |                                                                                                 …"
      ]
     },
     "metadata": {},
     "output_type": "display_data"
    },
    {
     "data": {
      "application/vnd.jupyter.widget-view+json": {
       "model_id": "ea685aad8c29449497f5bfae46fcaf44",
       "version_major": 2,
       "version_minor": 0
      },
      "text/plain": [
       "Validation: |                                                                                                 …"
      ]
     },
     "metadata": {},
     "output_type": "display_data"
    },
    {
     "data": {
      "application/vnd.jupyter.widget-view+json": {
       "model_id": "f864c62a07da48ce9e966aa2b878eaa6",
       "version_major": 2,
       "version_minor": 0
      },
      "text/plain": [
       "Validation: |                                                                                                 …"
      ]
     },
     "metadata": {},
     "output_type": "display_data"
    },
    {
     "data": {
      "application/vnd.jupyter.widget-view+json": {
       "model_id": "cedcbaf678da4a17975bebf2d059bf24",
       "version_major": 2,
       "version_minor": 0
      },
      "text/plain": [
       "Validation: |                                                                                                 …"
      ]
     },
     "metadata": {},
     "output_type": "display_data"
    },
    {
     "name": "stderr",
     "output_type": "stream",
     "text": [
      "\u001b[32m2025-03-01 19:52:28.627\u001b[0m | \u001b[1mINFO    \u001b[0m | \u001b[36msrc.sequence.trainer\u001b[0m:\u001b[36mon_fit_end\u001b[0m:\u001b[36m172\u001b[0m - \u001b[1mLogging classification metrics...\u001b[0m\n",
      "\u001b[32m2025-03-01 19:52:43.672\u001b[0m | \u001b[1mINFO    \u001b[0m | \u001b[36m__main__\u001b[0m:\u001b[36m<module>\u001b[0m:\u001b[36m29\u001b[0m - \u001b[1mLogs available at /home/dvq/frostmourne/recsys-mvp/notebooks/data/000-sequence-modeling-baseline/logs/overfit/lightning_logs/version_5\u001b[0m\n"
     ]
    }
   ],
   "source": [
    "early_stopping = EarlyStopping(\n",
    "    monitor=\"val_roc_auc\", patience=10, mode=\"max\", verbose=False\n",
    ")\n",
    "\n",
    "model = init_model(n_users, n_items, args.embedding_dim, dropout=0)\n",
    "lit_model = LitSequenceRatingPrediction(\n",
    "    model,\n",
    "    learning_rate=args.learning_rate,\n",
    "    l2_reg=0.0,\n",
    "    log_dir=args.notebook_persist_dp,\n",
    "    accelerator=args.device,\n",
    ")\n",
    "\n",
    "log_dir = f\"{args.notebook_persist_dp}/logs/overfit\"\n",
    "\n",
    "# train model\n",
    "trainer = L.Trainer(\n",
    "    default_root_dir=log_dir,\n",
    "    accelerator=args.device if args.device else \"auto\",\n",
    "    max_epochs=100,\n",
    "    overfit_batches=1,\n",
    "    callbacks=[early_stopping],\n",
    ")\n",
    "trainer.fit(\n",
    "    model=lit_model,\n",
    "    train_dataloaders=train_loader,\n",
    "    val_dataloaders=train_loader,\n",
    ")\n",
    "logger.info(f\"Logs available at {trainer.log_dir}\")"
   ]
  },
  {
   "cell_type": "code",
   "execution_count": 25,
   "id": "b2cc9ae0-a993-4815-bebd-85cc51e68e65",
   "metadata": {},
   "outputs": [
    {
     "data": {
      "text/html": [
       "\n",
       "      <iframe id=\"tensorboard-frame-825dd783b0b3cf20\" width=\"100%\" height=\"800\" frameborder=\"0\">\n",
       "      </iframe>\n",
       "      <script>\n",
       "        (function() {\n",
       "          const frame = document.getElementById(\"tensorboard-frame-825dd783b0b3cf20\");\n",
       "          const url = new URL(\"/\", window.location);\n",
       "          const port = 6006;\n",
       "          if (port) {\n",
       "            url.port = port;\n",
       "          }\n",
       "          frame.src = url;\n",
       "        })();\n",
       "      </script>\n",
       "    "
      ],
      "text/plain": [
       "<IPython.core.display.HTML object>"
      ]
     },
     "metadata": {},
     "output_type": "display_data"
    }
   ],
   "source": [
    "# Need to make sure port 6006 at local is accessible\n",
    "%tensorboard --logdir $trainer.log_dir"
   ]
  },
  {
   "cell_type": "markdown",
   "id": "65c7e4af-5c66-454e-9e2c-2ca134f4e1cf",
   "metadata": {},
   "source": [
    "##### Fit on all data"
   ]
  },
  {
   "cell_type": "code",
   "execution_count": 26,
   "id": "6fef36c3-5263-4d91-8d7f-364d45c20719",
   "metadata": {
    "editable": true,
    "scrolled": true,
    "slideshow": {
     "slide_type": ""
    },
    "tags": []
   },
   "outputs": [
    {
     "name": "stderr",
     "output_type": "stream",
     "text": [
      "GPU available: True (cuda), used: True\n",
      "TPU available: False, using: 0 TPU cores\n",
      "HPU available: False, using: 0 HPUs\n",
      "/home/dvq/frostmourne/recsys-mvp/.venv/lib/python3.11/site-packages/lightning/pytorch/callbacks/model_checkpoint.py:654: UserWarning:\n",
      "\n",
      "Checkpoint directory /home/dvq/frostmourne/recsys-mvp/notebooks/data/000-sequence-modeling-baseline/checkpoints exists and is not empty.\n",
      "\n",
      "LOCAL_RANK: 0 - CUDA_VISIBLE_DEVICES: [0]\n",
      "\n",
      "  | Name               | Type                     | Params | Mode \n",
      "------------------------------------------------------------------------\n",
      "0 | model              | SequenceRatingPrediction | 3.2 M  | train\n",
      "1 | val_roc_auc_metric | BinaryAUROC              | 0      | train\n",
      "2 | val_pr_auc_metric  | BinaryAveragePrecision   | 0      | train\n",
      "------------------------------------------------------------------------\n",
      "3.2 M     Trainable params\n",
      "0         Non-trainable params\n",
      "3.2 M     Total params\n",
      "12.990    Total estimated model params size (MB)\n",
      "13        Modules in train mode\n",
      "0         Modules in eval mode\n"
     ]
    },
    {
     "data": {
      "application/vnd.jupyter.widget-view+json": {
       "model_id": "d01b79ea0abe4502a42416ffec35b4f1",
       "version_major": 2,
       "version_minor": 0
      },
      "text/plain": [
       "Sanity Checking: |                                                                                            …"
      ]
     },
     "metadata": {},
     "output_type": "display_data"
    },
    {
     "name": "stderr",
     "output_type": "stream",
     "text": [
      "/home/dvq/frostmourne/recsys-mvp/.venv/lib/python3.11/site-packages/lightning/pytorch/trainer/connectors/data_connector.py:425: PossibleUserWarning:\n",
      "\n",
      "The 'val_dataloader' does not have many workers which may be a bottleneck. Consider increasing the value of the `num_workers` argument` to `num_workers=15` in the `DataLoader` to improve performance.\n",
      "\n",
      "/home/dvq/frostmourne/recsys-mvp/.venv/lib/python3.11/site-packages/lightning/pytorch/trainer/connectors/data_connector.py:425: PossibleUserWarning:\n",
      "\n",
      "The 'train_dataloader' does not have many workers which may be a bottleneck. Consider increasing the value of the `num_workers` argument` to `num_workers=15` in the `DataLoader` to improve performance.\n",
      "\n"
     ]
    },
    {
     "data": {
      "application/vnd.jupyter.widget-view+json": {
       "model_id": "650113c061f84f21b36bd952c6a3ac68",
       "version_major": 2,
       "version_minor": 0
      },
      "text/plain": [
       "Training: |                                                                                                   …"
      ]
     },
     "metadata": {},
     "output_type": "display_data"
    },
    {
     "data": {
      "application/vnd.jupyter.widget-view+json": {
       "model_id": "2f16501f48a94fd991a669f5de72b1d8",
       "version_major": 2,
       "version_minor": 0
      },
      "text/plain": [
       "Validation: |                                                                                                 …"
      ]
     },
     "metadata": {},
     "output_type": "display_data"
    },
    {
     "data": {
      "application/vnd.jupyter.widget-view+json": {
       "model_id": "f8e6869ac3554298a35520050a97e4e0",
       "version_major": 2,
       "version_minor": 0
      },
      "text/plain": [
       "Validation: |                                                                                                 …"
      ]
     },
     "metadata": {},
     "output_type": "display_data"
    },
    {
     "data": {
      "application/vnd.jupyter.widget-view+json": {
       "model_id": "8df68cab5a544c608b42b6b2075103da",
       "version_major": 2,
       "version_minor": 0
      },
      "text/plain": [
       "Validation: |                                                                                                 …"
      ]
     },
     "metadata": {},
     "output_type": "display_data"
    },
    {
     "data": {
      "application/vnd.jupyter.widget-view+json": {
       "model_id": "b1fabffcc2b44d218e85a206b412cb0a",
       "version_major": 2,
       "version_minor": 0
      },
      "text/plain": [
       "Validation: |                                                                                                 …"
      ]
     },
     "metadata": {},
     "output_type": "display_data"
    },
    {
     "data": {
      "application/vnd.jupyter.widget-view+json": {
       "model_id": "fc8626237acf4422a9a2688620b97799",
       "version_major": 2,
       "version_minor": 0
      },
      "text/plain": [
       "Validation: |                                                                                                 …"
      ]
     },
     "metadata": {},
     "output_type": "display_data"
    },
    {
     "data": {
      "application/vnd.jupyter.widget-view+json": {
       "model_id": "3a4dbf550ee448b4985c17637ae5d88b",
       "version_major": 2,
       "version_minor": 0
      },
      "text/plain": [
       "Validation: |                                                                                                 …"
      ]
     },
     "metadata": {},
     "output_type": "display_data"
    },
    {
     "data": {
      "application/vnd.jupyter.widget-view+json": {
       "model_id": "816dcb42594f4215a838494f0eb3a5d6",
       "version_major": 2,
       "version_minor": 0
      },
      "text/plain": [
       "Validation: |                                                                                                 …"
      ]
     },
     "metadata": {},
     "output_type": "display_data"
    },
    {
     "data": {
      "application/vnd.jupyter.widget-view+json": {
       "model_id": "05c73031a1474740baf2c8d3e404a01f",
       "version_major": 2,
       "version_minor": 0
      },
      "text/plain": [
       "Validation: |                                                                                                 …"
      ]
     },
     "metadata": {},
     "output_type": "display_data"
    },
    {
     "data": {
      "application/vnd.jupyter.widget-view+json": {
       "model_id": "399e184af6f343c6aed20667cd17d576",
       "version_major": 2,
       "version_minor": 0
      },
      "text/plain": [
       "Validation: |                                                                                                 …"
      ]
     },
     "metadata": {},
     "output_type": "display_data"
    },
    {
     "name": "stderr",
     "output_type": "stream",
     "text": [
      "\u001b[32m2025-03-01 19:55:17.134\u001b[0m | \u001b[1mINFO    \u001b[0m | \u001b[36msrc.sequence.trainer\u001b[0m:\u001b[36mon_fit_end\u001b[0m:\u001b[36m165\u001b[0m - \u001b[1mLoading best model from /home/dvq/frostmourne/recsys-mvp/notebooks/data/000-sequence-modeling-baseline/checkpoints/best-checkpoint-v5.ckpt...\u001b[0m\n",
      "\u001b[32m2025-03-01 19:55:17.301\u001b[0m | \u001b[1mINFO    \u001b[0m | \u001b[36msrc.sequence.trainer\u001b[0m:\u001b[36mon_fit_end\u001b[0m:\u001b[36m172\u001b[0m - \u001b[1mLogging classification metrics...\u001b[0m\n",
      "\u001b[32m2025-03-01 19:55:18.251\u001b[0m | \u001b[1mINFO    \u001b[0m | \u001b[36msrc.sequence.trainer\u001b[0m:\u001b[36mon_fit_end\u001b[0m:\u001b[36m175\u001b[0m - \u001b[1mLogging ranking metrics...\u001b[0m\n"
     ]
    },
    {
     "data": {
      "application/vnd.jupyter.widget-view+json": {
       "model_id": "717d4c098ee64633880d3bc492128bc6",
       "version_major": 2,
       "version_minor": 0
      },
      "text/plain": [
       "Generating recommendations:   0%|          | 0/177 [00:00<?, ?it/s]"
      ]
     },
     "metadata": {},
     "output_type": "display_data"
    },
    {
     "name": "stdout",
     "output_type": "stream",
     "text": [
      "🏃 View run 000-sequence-modeling-baseline at: http://localhost:5002/#/experiments/3/runs/df9df9f3eed64e96acc4934cebab0afb\n",
      "🧪 View experiment at: http://localhost:5002/#/experiments/3\n"
     ]
    }
   ],
   "source": [
    "# papermill_description=fit-model\n",
    "early_stopping = EarlyStopping(\n",
    "    monitor=\"val_roc_auc\", patience=args.early_stopping_patience, mode=\"max\", verbose=False\n",
    ")\n",
    "\n",
    "checkpoint_callback = ModelCheckpoint(\n",
    "    dirpath=f\"{args.notebook_persist_dp}/checkpoints\",\n",
    "    filename=\"best-checkpoint\",\n",
    "    save_top_k=1,\n",
    "    monitor=\"val_roc_auc\",\n",
    "    mode=\"max\",\n",
    ")\n",
    "\n",
    "model = init_model(\n",
    "    n_users,\n",
    "    n_items,\n",
    "    args.embedding_dim,\n",
    "    dropout=args.dropout,\n",
    "    item_embedding=pretrained_item_embedding,\n",
    ")\n",
    "lit_model = LitSequenceRatingPrediction(\n",
    "    model,\n",
    "    learning_rate=args.learning_rate,\n",
    "    l2_reg=args.l2_reg,\n",
    "    log_dir=args.notebook_persist_dp,\n",
    "    evaluate_ranking=True,\n",
    "    idm=idm,\n",
    "    args=args,\n",
    "    accelerator=args.device,\n",
    "    checkpoint_callback=checkpoint_callback,\n",
    ")\n",
    "\n",
    "log_dir = f\"{args.notebook_persist_dp}/logs/run\"\n",
    "\n",
    "# train model\n",
    "trainer = L.Trainer(\n",
    "    default_root_dir=log_dir,\n",
    "    max_epochs=args.max_epochs,\n",
    "    callbacks=[early_stopping, checkpoint_callback],\n",
    "    accelerator=args.device if args.device else \"auto\",\n",
    "    logger=args._mlf_logger if args.log_to_mlflow else None,\n",
    ")\n",
    "trainer.fit(\n",
    "    model=lit_model,\n",
    "    train_dataloaders=train_loader,\n",
    "    val_dataloaders=val_loader,\n",
    ")"
   ]
  },
  {
   "cell_type": "code",
   "execution_count": 27,
   "id": "af44bf35-e7c7-4718-97b8-238e89b7f3f0",
   "metadata": {
    "editable": true,
    "scrolled": true,
    "slideshow": {
     "slide_type": ""
    },
    "tags": []
   },
   "outputs": [
    {
     "name": "stderr",
     "output_type": "stream",
     "text": [
      "\u001b[32m2025-03-01 19:55:23.558\u001b[0m | \u001b[1mINFO    \u001b[0m | \u001b[36m__main__\u001b[0m:\u001b[36m<module>\u001b[0m:\u001b[36m1\u001b[0m - \u001b[1mTest predicting after training with user_id = AEBEAZUAX3HMA7EF3BA6L2DK3LPA and parent_asin = B0754LGLFP\u001b[0m\n"
     ]
    },
    {
     "data": {
      "text/plain": [
       "SequenceRatingPrediction(\n",
       "  (item_embedding): Embedding(4631, 128, padding_idx=4630)\n",
       "  (user_embedding): Embedding(19578, 128)\n",
       "  (gru): GRU(128, 128, batch_first=True)\n",
       "  (relu): ReLU()\n",
       "  (dropout): Dropout(p=0.3, inplace=False)\n",
       "  (fc_rating): Sequential(\n",
       "    (0): Linear(in_features=384, out_features=128, bias=True)\n",
       "    (1): BatchNorm1d(128, eps=1e-05, momentum=0.1, affine=True, track_running_stats=True)\n",
       "    (2): ReLU()\n",
       "    (3): Dropout(p=0.3, inplace=False)\n",
       "    (4): Linear(in_features=128, out_features=1, bias=True)\n",
       "    (5): Sigmoid()\n",
       "  )\n",
       ")"
      ]
     },
     "execution_count": 27,
     "metadata": {},
     "output_type": "execute_result"
    }
   ],
   "source": [
    "logger.info(\n",
    "    f\"Test predicting after training with {args.user_col} = {user_id} and {args.item_col} = {item_id}\"\n",
    ")\n",
    "model.eval()\n",
    "model = model.to(user.device)\n",
    "model.predict(user, item_sequence, item)\n",
    "model.train()"
   ]
  },
  {
   "cell_type": "markdown",
   "id": "f8e1dd22-bcb9-4582-96d0-30acc4e8b790",
   "metadata": {
    "editable": true,
    "slideshow": {
     "slide_type": ""
    },
    "tags": []
   },
   "source": [
    "# Load best checkpoint"
   ]
  },
  {
   "cell_type": "code",
   "execution_count": 28,
   "id": "092427a8-ac4e-4752-a0ee-10729b6e563c",
   "metadata": {
    "scrolled": true
   },
   "outputs": [
    {
     "name": "stderr",
     "output_type": "stream",
     "text": [
      "\u001b[32m2025-03-01 19:55:23.595\u001b[0m | \u001b[1mINFO    \u001b[0m | \u001b[36m__main__\u001b[0m:\u001b[36m<module>\u001b[0m:\u001b[36m1\u001b[0m - \u001b[1mLoading best checkpoint from /home/dvq/frostmourne/recsys-mvp/notebooks/data/000-sequence-modeling-baseline/checkpoints/best-checkpoint-v5.ckpt...\u001b[0m\n"
     ]
    }
   ],
   "source": [
    "logger.info(f\"Loading best checkpoint from {checkpoint_callback.best_model_path}...\")\n",
    "args.best_checkpoint_path = checkpoint_callback.best_model_path\n",
    "\n",
    "best_trainer = LitSequenceRatingPrediction.load_from_checkpoint(\n",
    "    checkpoint_callback.best_model_path,\n",
    "    model=init_model(n_users, n_items, args.embedding_dim, dropout=0),\n",
    ")"
   ]
  },
  {
   "cell_type": "code",
   "execution_count": 29,
   "id": "e68989e7-cd28-4cb3-9a28-5bd477bb67c4",
   "metadata": {},
   "outputs": [],
   "source": [
    "best_model = best_trainer.model.to(lit_model.device)"
   ]
  },
  {
   "cell_type": "code",
   "execution_count": 30,
   "id": "72062d94-6ee8-480f-b7c6-9dcae2ceeb8b",
   "metadata": {
    "scrolled": true
   },
   "outputs": [
    {
     "data": {
      "text/plain": [
       "SequenceRatingPrediction(\n",
       "  (item_embedding): Embedding(4631, 128, padding_idx=4630)\n",
       "  (user_embedding): Embedding(19578, 128)\n",
       "  (gru): GRU(128, 128, batch_first=True)\n",
       "  (relu): ReLU()\n",
       "  (dropout): Dropout(p=0, inplace=False)\n",
       "  (fc_rating): Sequential(\n",
       "    (0): Linear(in_features=384, out_features=128, bias=True)\n",
       "    (1): BatchNorm1d(128, eps=1e-05, momentum=0.1, affine=True, track_running_stats=True)\n",
       "    (2): ReLU()\n",
       "    (3): Dropout(p=0, inplace=False)\n",
       "    (4): Linear(in_features=128, out_features=1, bias=True)\n",
       "    (5): Sigmoid()\n",
       "  )\n",
       ")"
      ]
     },
     "execution_count": 30,
     "metadata": {},
     "output_type": "execute_result"
    }
   ],
   "source": [
    "best_model.eval()\n",
    "best_model.predict(user, item_sequence, item)\n",
    "best_model.train()"
   ]
  },
  {
   "cell_type": "markdown",
   "id": "26afc39d-5cbd-4ea4-9484-f6419b460bde",
   "metadata": {
    "scrolled": true
   },
   "source": [
    "### Persist id mapping"
   ]
  },
  {
   "cell_type": "code",
   "execution_count": 31,
   "id": "275bcb81-bf50-4757-9e63-5c7a317b276f",
   "metadata": {},
   "outputs": [],
   "source": [
    "if args.log_to_mlflow:\n",
    "    # Persist id_mapping so that at inference we can predict based on item_ids (string) instead of item_index\n",
    "    run_id = trainer.logger.run_id\n",
    "    mlf_client = trainer.logger.experiment\n",
    "    mlf_client.log_artifact(run_id, idm_fp)"
   ]
  },
  {
   "cell_type": "markdown",
   "id": "73a53735-cada-4b16-b6ec-b958e20d8093",
   "metadata": {},
   "source": [
    "### Wrap inference function and register best checkpoint as MLflow model"
   ]
  },
  {
   "cell_type": "code",
   "execution_count": 32,
   "id": "fc1da4ca-1616-4f57-99fb-cb851c535a57",
   "metadata": {},
   "outputs": [],
   "source": [
    "inferrer = SequenceRatingPredictionInferenceWrapper(best_model)"
   ]
  },
  {
   "cell_type": "code",
   "execution_count": 33,
   "id": "a21791a9-d5fc-4abe-bc3c-820aba9f0759",
   "metadata": {},
   "outputs": [
    {
     "data": {
      "text/plain": [
       "array([0.7713251], dtype=float32)"
      ]
     },
     "execution_count": 33,
     "metadata": {},
     "output_type": "execute_result"
    }
   ],
   "source": [
    "sample_input = {\n",
    "    \"user_ids\": [idm.get_user_id(0)],\n",
    "    \"item_sequences\": [[idm.get_item_id(0), idm.get_item_id(1)]],\n",
    "    \"item_ids\": [idm.get_item_id(0)],\n",
    "}\n",
    "sample_output = inferrer.infer([0], [[0, 1]], [0])\n",
    "sample_output"
   ]
  },
  {
   "cell_type": "code",
   "execution_count": 34,
   "id": "de2c043a-f777-4ade-ab80-cfa4d90aafa8",
   "metadata": {
    "scrolled": true
   },
   "outputs": [
    {
     "name": "stderr",
     "output_type": "stream",
     "text": [
      "2025/03/01 19:55:23 INFO mlflow.pyfunc: Validating input example against model signature\n"
     ]
    },
    {
     "data": {
      "application/vnd.jupyter.widget-view+json": {
       "model_id": "f8be71f13f7a46398a2ab6e88ece5931",
       "version_major": 2,
       "version_minor": 0
      },
      "text/plain": [
       "Downloading artifacts:   0%|          | 0/1 [00:00<?, ?it/s]"
      ]
     },
     "metadata": {},
     "output_type": "display_data"
    },
    {
     "name": "stderr",
     "output_type": "stream",
     "text": [
      "2025/03/01 19:55:26 WARNING mlflow.utils.environment: Failed to resolve installed pip version. ``pip`` will be added to conda.yaml environment spec without a version specifier.\n",
      "Registered model 'sequence_rating_prediction' already exists. Creating a new version of this model...\n",
      "2025/03/01 19:55:26 INFO mlflow.store.model_registry.abstract_store: Waiting up to 300 seconds for model version to finish creation. Model name: sequence_rating_prediction, version 7\n"
     ]
    },
    {
     "name": "stdout",
     "output_type": "stream",
     "text": [
      "🏃 View run 000-sequence-modeling-baseline at: http://localhost:5002/#/experiments/3/runs/df9df9f3eed64e96acc4934cebab0afb\n",
      "🧪 View experiment at: http://localhost:5002/#/experiments/3\n"
     ]
    },
    {
     "name": "stderr",
     "output_type": "stream",
     "text": [
      "Created version '7' of model 'sequence_rating_prediction'.\n"
     ]
    }
   ],
   "source": [
    "if args.log_to_mlflow:\n",
    "    run_id = trainer.logger.run_id\n",
    "    sample_output_np = sample_output\n",
    "    signature = infer_signature(sample_input, sample_output_np)\n",
    "    idm_filename = idm_fp.split(\"/\")[-1]\n",
    "    with mlflow.start_run(run_id=run_id):\n",
    "        mlflow.pyfunc.log_model(\n",
    "            python_model=inferrer,\n",
    "            artifact_path=\"inferrer\",\n",
    "            # We log the id_mapping to the predict function so that it can accept item_id and automatically convert ot item_indice for PyTorch model to use\n",
    "            artifacts={\"idm\": mlflow.get_artifact_uri(idm_filename)},\n",
    "            signature=signature,\n",
    "            input_example=sample_input,\n",
    "            registered_model_name=args.mlf_model_name,\n",
    "        )"
   ]
  },
  {
   "cell_type": "markdown",
   "id": "f95d5150-9851-4e61-b1af-8e619abc9ea4",
   "metadata": {},
   "source": [
    "# Set the newly trained model as champion"
   ]
  },
  {
   "cell_type": "code",
   "execution_count": 35,
   "id": "cbf6428a-bc47-400a-99ac-666abfa4ce63",
   "metadata": {},
   "outputs": [
    {
     "name": "stderr",
     "output_type": "stream",
     "text": [
      "\u001b[32m2025-03-01 19:55:26.749\u001b[0m | \u001b[1mINFO    \u001b[0m | \u001b[36m__main__\u001b[0m:\u001b[36m<module>\u001b[0m:\u001b[36m15\u001b[0m - \u001b[1mThere is no champion alias for model sequence_rating_prediction\u001b[0m\n",
      "\u001b[32m2025-03-01 19:55:26.754\u001b[0m | \u001b[1mINFO    \u001b[0m | \u001b[36m__main__\u001b[0m:\u001b[36m<module>\u001b[0m:\u001b[36m45\u001b[0m - \u001b[1mAliasing the new model as champion...\u001b[0m\n"
     ]
    }
   ],
   "source": [
    "if args.log_to_mlflow:\n",
    "    # Get current champion\n",
    "    deploy_alias = \"champion\"\n",
    "    curr_model_run_id = None\n",
    "\n",
    "    min_roc_auc = args.min_roc_auc\n",
    "\n",
    "    try:\n",
    "        curr_champion_model = mlf_client.get_model_version_by_alias(\n",
    "            args.mlf_model_name, deploy_alias\n",
    "        )\n",
    "        curr_model_run_id = curr_champion_model.run_id\n",
    "    except MlflowException as e:\n",
    "        if \"not found\" in str(e).lower():\n",
    "            logger.info(\n",
    "                f\"There is no {deploy_alias} alias for model {args.mlf_model_name}\"\n",
    "            )\n",
    "\n",
    "    # Compare new vs curr models\n",
    "    new_mlf_run = trainer.logger.experiment.get_run(trainer.logger.run_id)\n",
    "    new_metrics = new_mlf_run.data.metrics\n",
    "    roc_auc = new_metrics[\"roc_auc\"]\n",
    "    if curr_model_run_id:\n",
    "        curr_model_run_info = mlf_client.get_run(curr_model_run_id)\n",
    "        curr_metrics = curr_model_run_info.data.metrics\n",
    "        if (curr_roc_auc := curr_metrics[\"roc_auc\"]) > min_roc_auc:\n",
    "            logger.info(\n",
    "                f\"Current {deploy_alias} model has {curr_roc_auc:,.4f} ROC-AUC. Setting it to the deploy baseline...\"\n",
    "            )\n",
    "            min_roc_auc = curr_roc_auc\n",
    "\n",
    "        top_metrics = [\"roc_auc\"]\n",
    "        vizer = ModelMetricsComparisonVisualizer(curr_metrics, new_metrics, top_metrics)\n",
    "        print(f\"Comparing metrics between new run and current champion:\")\n",
    "        display(vizer.compare_metrics_df())\n",
    "        vizer.create_metrics_comparison_plot(n_cols=5)\n",
    "        vizer.plot_diff()\n",
    "\n",
    "    # Register new champion\n",
    "    if roc_auc < min_roc_auc:\n",
    "        logger.info(\n",
    "            f\"Current run has ROC-AUC = {roc_auc:,.4f}, smaller than {min_roc_auc:,.4f}. Skip aliasing this model as the new {deploy_alias}..\"\n",
    "        )\n",
    "    else:\n",
    "        logger.info(f\"Aliasing the new model as champion...\")\n",
    "        # Get the model version for current run by assuming it's the most recent registered version\n",
    "        model_version = (\n",
    "            mlf_client.get_registered_model(args.mlf_model_name)\n",
    "            .latest_versions[0]\n",
    "            .version\n",
    "        )\n",
    "\n",
    "        mlf_client.set_registered_model_alias(\n",
    "            name=args.mlf_model_name, alias=\"champion\", version=model_version\n",
    "        )\n",
    "\n",
    "        mlf_client.set_model_version_tag(\n",
    "            name=args.mlf_model_name,\n",
    "            version=model_version,\n",
    "            key=\"author\",\n",
    "            value=args.author,\n",
    "        )"
   ]
  },
  {
   "cell_type": "markdown",
   "id": "32096360-c26a-42de-9564-30634fb76eeb",
   "metadata": {},
   "source": [
    "# Clean up"
   ]
  },
  {
   "cell_type": "code",
   "execution_count": 36,
   "id": "e98c6850-e4de-43fa-b132-0b97f138a0ed",
   "metadata": {
    "editable": true,
    "scrolled": true,
    "slideshow": {
     "slide_type": ""
    },
    "tags": []
   },
   "outputs": [
    {
     "name": "stdout",
     "output_type": "stream",
     "text": [
      "🏃 View run 000-sequence-modeling-baseline at: http://localhost:5002/#/experiments/3/runs/df9df9f3eed64e96acc4934cebab0afb\n",
      "🧪 View experiment at: http://localhost:5002/#/experiments/3\n"
     ]
    },
    {
     "name": "stderr",
     "output_type": "stream",
     "text": [
      "/tmp/ipykernel_297612/747004171.py:6: PydanticDeprecatedSince20:\n",
      "\n",
      "The `dict` method is deprecated; use `model_dump` instead. Deprecated in Pydantic V2.0 to be removed in V3.0. See Pydantic V2 Migration Guide at https://errors.pydantic.dev/2.10/migration/\n",
      "\n"
     ]
    }
   ],
   "source": [
    "all_params = [args]\n",
    "\n",
    "if args.log_to_mlflow:\n",
    "    with mlflow.start_run(run_id=run_id):\n",
    "        for params in all_params:\n",
    "            params_dict = params.dict()\n",
    "            params_ = dict()\n",
    "            for k, v in params_dict.items():\n",
    "                if k == \"top_K\":\n",
    "                    k = \"top_big_K\"\n",
    "                if k == \"top_k\":\n",
    "                    k = \"top_small_k\"\n",
    "                params_[f\"{params.__repr_name__()}.{k}\"] = v\n",
    "            mlflow.log_params(params_)"
   ]
  },
  {
   "cell_type": "code",
   "execution_count": null,
   "id": "30cff81a-484e-4919-be8f-0351cce91a75",
   "metadata": {},
   "outputs": [],
   "source": []
  }
 ],
 "metadata": {
  "kernelspec": {
   "display_name": "Python 3 (ipykernel)",
   "language": "python",
   "name": "python3"
  },
  "language_info": {
   "codemirror_mode": {
    "name": "ipython",
    "version": 3
   },
   "file_extension": ".py",
   "mimetype": "text/x-python",
   "name": "python",
   "nbconvert_exporter": "python",
   "pygments_lexer": "ipython3",
   "version": "3.11.9"
  }
 },
 "nbformat": 4,
 "nbformat_minor": 5
}
