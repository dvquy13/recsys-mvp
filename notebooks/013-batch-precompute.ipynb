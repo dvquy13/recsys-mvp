{
 "cells": [
  {
   "cell_type": "markdown",
   "id": "bfd48465-69da-444e-88e5-1a6e5b2ab7ba",
   "metadata": {
    "editable": true,
    "slideshow": {
     "slide_type": ""
    },
    "tags": []
   },
   "source": [
    "# Batch pre-computed recommendations based on ANN search"
   ]
  },
  {
   "cell_type": "markdown",
   "id": "c33ddf23-fa66-4dec-ba18-5fed4da95ac3",
   "metadata": {},
   "source": [
    "# Set up"
   ]
  },
  {
   "cell_type": "code",
   "execution_count": 1,
   "id": "1b5115a4-412c-4b98-90ed-7897bb7faea2",
   "metadata": {},
   "outputs": [],
   "source": [
    "%load_ext autoreload\n",
    "%autoreload 2"
   ]
  },
  {
   "cell_type": "code",
   "execution_count": 2,
   "id": "a2514682-a204-4c73-9080-9c754000c58e",
   "metadata": {
    "editable": true,
    "scrolled": true,
    "slideshow": {
     "slide_type": ""
    },
    "tags": []
   },
   "outputs": [],
   "source": [
    "import json\n",
    "import os\n",
    "import sys\n",
    "import time\n",
    "\n",
    "import torch\n",
    "from dotenv import load_dotenv\n",
    "from loguru import logger\n",
    "from pydantic import BaseModel\n",
    "from qdrant_client import QdrantClient\n",
    "from tqdm.auto import tqdm\n",
    "\n",
    "import mlflow\n",
    "\n",
    "load_dotenv()\n",
    "\n",
    "sys.path.insert(0, \"..\")"
   ]
  },
  {
   "cell_type": "markdown",
   "id": "b8c55119-43d0-43b1-9959-83d6cb1f7c83",
   "metadata": {},
   "source": [
    "# Controller"
   ]
  },
  {
   "cell_type": "code",
   "execution_count": 3,
   "id": "88d96f2c-b77a-4187-9702-abfc5414dc21",
   "metadata": {
    "editable": true,
    "scrolled": true,
    "slideshow": {
     "slide_type": ""
    },
    "tags": []
   },
   "outputs": [
    {
     "name": "stdout",
     "output_type": "stream",
     "text": [
      "{\n",
      "  \"testing\": false,\n",
      "  \"run_name\": \"000-first-attempt\",\n",
      "  \"notebook_persist_dp\": \"/Users/dvq/frostmourne/recsys-mvp/notebooks/data/000-first-attempt\",\n",
      "  \"random_seed\": 41,\n",
      "  \"device\": null,\n",
      "  \"top_K\": 100,\n",
      "  \"top_k\": 10,\n",
      "  \"mlf_model_name\": \"item2vec\",\n",
      "  \"batch_recs_fp\": \"/Users/dvq/frostmourne/recsys-mvp/notebooks/data/000-first-attempt/batch_recs.jsonl\",\n",
      "  \"qdrant_url\": \"localhost:6333\",\n",
      "  \"qdrant_collection_name\": \"item2vec\"\n",
      "}\n"
     ]
    }
   ],
   "source": [
    "class Args(BaseModel):\n",
    "    testing: bool = False\n",
    "    run_name: str = \"000-first-attempt\"\n",
    "    notebook_persist_dp: str = None\n",
    "    random_seed: int = 41\n",
    "    device: str = None\n",
    "\n",
    "    top_K: int = 100\n",
    "    top_k: int = 10\n",
    "\n",
    "    mlf_model_name: str = \"item2vec\"\n",
    "\n",
    "    batch_recs_fp: str = None\n",
    "\n",
    "    qdrant_url: str = None\n",
    "    qdrant_collection_name: str = None\n",
    "\n",
    "    def init(self):\n",
    "        self.notebook_persist_dp = os.path.abspath(f\"data/{self.run_name}\")\n",
    "        os.makedirs(self.notebook_persist_dp, exist_ok=True)\n",
    "        self.batch_recs_fp = f\"{self.notebook_persist_dp}/batch_recs.jsonl\"\n",
    "\n",
    "        if not (qdrant_host := os.getenv(\"QDRANT_HOST\")):\n",
    "            raise Exception(f\"Environment variable QDRANT_HOST is not set.\")\n",
    "\n",
    "        qdrant_port = os.getenv(\"QDRANT_PORT\")\n",
    "        self.qdrant_url = f\"{qdrant_host}:{qdrant_port}\"\n",
    "        self.qdrant_collection_name = os.getenv(\"QDRANT_COLLECTION_NAME\")\n",
    "\n",
    "        return self\n",
    "\n",
    "\n",
    "args = Args().init()\n",
    "\n",
    "print(args.model_dump_json(indent=2))"
   ]
  },
  {
   "cell_type": "markdown",
   "id": "0c8c1d40-d1ad-4150-83d1-a5e4927b96f3",
   "metadata": {},
   "source": [
    "# Load ANN Index"
   ]
  },
  {
   "cell_type": "code",
   "execution_count": 4,
   "id": "41c3dbc4-47fe-4240-84b5-aad4c4a572fb",
   "metadata": {},
   "outputs": [],
   "source": [
    "ann_index = QdrantClient(url=args.qdrant_url)\n",
    "if not ann_index.collection_exists(args.qdrant_collection_name):\n",
    "    raise Exception(\n",
    "        f\"Required Qdrant collection {args.qdrant_collection_name} does not exist\"\n",
    "    )"
   ]
  },
  {
   "cell_type": "code",
   "execution_count": 5,
   "id": "1ba14aa4-18c4-4f0f-b3ea-ad3541bdfe4e",
   "metadata": {},
   "outputs": [],
   "source": [
    "def get_vector_by_id(id_: int):\n",
    "    record = ann_index.retrieve(\n",
    "        collection_name=args.qdrant_collection_name, ids=[id_], with_vectors=True\n",
    "    )[0]\n",
    "    return record.vector"
   ]
  },
  {
   "cell_type": "code",
   "execution_count": 6,
   "id": "9b1b249d-524c-4657-ad06-900a5816c333",
   "metadata": {
    "scrolled": true
   },
   "outputs": [],
   "source": [
    "vector = get_vector_by_id(0)\n",
    "neighbors = ann_index.search(\n",
    "    collection_name=args.qdrant_collection_name, query_vector=vector, limit=5\n",
    ")"
   ]
  },
  {
   "cell_type": "code",
   "execution_count": 7,
   "id": "e469191e-b3a9-4873-b1aa-d7a597bb9876",
   "metadata": {
    "scrolled": true
   },
   "outputs": [
    {
     "data": {
      "text/plain": [
       "[ScoredPoint(id=0, version=0, score=1.0, payload={}, vector=None, shard_key=None, order_value=None),\n",
       " ScoredPoint(id=3668, version=0, score=0.57748246, payload={}, vector=None, shard_key=None, order_value=None),\n",
       " ScoredPoint(id=2115, version=0, score=0.56080717, payload={}, vector=None, shard_key=None, order_value=None),\n",
       " ScoredPoint(id=1005, version=0, score=0.5573507, payload={}, vector=None, shard_key=None, order_value=None),\n",
       " ScoredPoint(id=691, version=0, score=0.54987663, payload={}, vector=None, shard_key=None, order_value=None)]"
      ]
     },
     "execution_count": 7,
     "metadata": {},
     "output_type": "execute_result"
    }
   ],
   "source": [
    "neighbors"
   ]
  },
  {
   "cell_type": "markdown",
   "id": "48c95096-50f8-4f27-8fa6-e9893d543c32",
   "metadata": {},
   "source": [
    "# Load model"
   ]
  },
  {
   "cell_type": "code",
   "execution_count": 8,
   "id": "8c863ef0-c0d6-40ea-bbca-21145a4fa819",
   "metadata": {},
   "outputs": [],
   "source": [
    "mlf_client = mlflow.MlflowClient()"
   ]
  },
  {
   "cell_type": "code",
   "execution_count": 9,
   "id": "46ecc1c5-3451-4f48-9042-83937ea3995b",
   "metadata": {
    "scrolled": true
   },
   "outputs": [
    {
     "data": {
      "application/vnd.jupyter.widget-view+json": {
       "model_id": "66c42fdfb1604f7da71a881bf99eb8bf",
       "version_major": 2,
       "version_minor": 0
      },
      "text/plain": [
       "Downloading artifacts:   0%|          | 0/8 [00:00<?, ?it/s]"
      ]
     },
     "metadata": {},
     "output_type": "display_data"
    }
   ],
   "source": [
    "model = mlflow.pyfunc.load_model(model_uri=f\"models:/{args.mlf_model_name}@champion\")"
   ]
  },
  {
   "cell_type": "code",
   "execution_count": 10,
   "id": "1dab3997-6b9a-41df-9839-871be9b00db1",
   "metadata": {
    "scrolled": true
   },
   "outputs": [],
   "source": [
    "run_id = model.metadata.run_id\n",
    "run_info = mlf_client.get_run(run_id).info\n",
    "artifact_uri = run_info.artifact_uri"
   ]
  },
  {
   "cell_type": "code",
   "execution_count": 11,
   "id": "ff434b81-2120-42f7-afd4-0b8e4acf746c",
   "metadata": {
    "scrolled": true
   },
   "outputs": [
    {
     "data": {
      "application/vnd.jupyter.widget-view+json": {
       "model_id": "ba102a7e5a174255817bfc71046b7623",
       "version_major": 2,
       "version_minor": 0
      },
      "text/plain": [
       "Downloading artifacts:   0%|          | 0/1 [00:00<?, ?it/s]"
      ]
     },
     "metadata": {},
     "output_type": "display_data"
    },
    {
     "data": {
      "text/plain": [
       "{'item_1_ids': ['B00CMQTUSS'], 'item_2_ids': ['B001EYURK4']}"
      ]
     },
     "execution_count": 11,
     "metadata": {},
     "output_type": "execute_result"
    }
   ],
   "source": [
    "sample_input = mlflow.artifacts.load_dict(f\"{artifact_uri}/inferrer/input_example.json\")\n",
    "sample_input"
   ]
  },
  {
   "cell_type": "code",
   "execution_count": 12,
   "id": "875c5fd5-ef22-49db-8c7d-6e51c0717bf9",
   "metadata": {},
   "outputs": [
    {
     "data": {
      "text/plain": [
       "{'item_1_ids': ['B00CMQTUSS'],\n",
       " 'item_2_ids': ['B001EYURK4'],\n",
       " 'scores': [0.42891860008239746]}"
      ]
     },
     "execution_count": 12,
     "metadata": {},
     "output_type": "execute_result"
    }
   ],
   "source": [
    "prediction = model.predict(sample_input)\n",
    "prediction"
   ]
  },
  {
   "cell_type": "markdown",
   "id": "eb07aada-ae45-4f06-a82f-fd07b3279d52",
   "metadata": {},
   "source": [
    "## Batch recommend for all items"
   ]
  },
  {
   "cell_type": "code",
   "execution_count": 13,
   "id": "194fff45-94a2-48eb-95d2-57913d3f4a57",
   "metadata": {},
   "outputs": [
    {
     "data": {
      "text/plain": [
       "[0, 1, 2, 3, 4]"
      ]
     },
     "execution_count": 13,
     "metadata": {},
     "output_type": "execute_result"
    }
   ],
   "source": [
    "skipgram_model = model.unwrap_python_model().model\n",
    "id_mapping = model.unwrap_python_model().id_mapping\n",
    "all_items = list(id_mapping[\"id_to_idx\"].values())\n",
    "all_items[:5]"
   ]
  },
  {
   "cell_type": "code",
   "execution_count": 15,
   "id": "f2357958-afb5-4de7-85f0-cbca9567c15f",
   "metadata": {
    "scrolled": true
   },
   "outputs": [
    {
     "data": {
      "application/vnd.jupyter.widget-view+json": {
       "model_id": "9bf6c457980d45fdaa3cf93b1d5560e1",
       "version_major": 2,
       "version_minor": 0
      },
      "text/plain": [
       "0it [00:00, ?it/s]"
      ]
     },
     "metadata": {},
     "output_type": "display_data"
    }
   ],
   "source": [
    "# papermill_description=batch-precompute\n",
    "recs = []\n",
    "records = ann_index.retrieve(\n",
    "    collection_name=args.qdrant_collection_name, ids=all_items, with_vectors=True\n",
    ")\n",
    "vectors = [record.vector for record in records]\n",
    "model_pred_times = []\n",
    "# TODO: Optimize this loop being run inside Docker. Running on MacOS host it can runs with 350it/s but inside Docker it runs with only 20it/s.\n",
    "# I have identify that the skipgram_model call runs 10 times longer in Docker (MacOS with Apple Silicon).\n",
    "# This problem applies in both MacOS and Ubuntu base machine 🤔\n",
    "for indice, query_embedding in tqdm(zip(all_items, vectors)):\n",
    "    neighbor_records = ann_index.search(\n",
    "        collection_name=args.qdrant_collection_name,\n",
    "        query_vector=query_embedding,\n",
    "        limit=args.top_K + 1,\n",
    "    )\n",
    "    neighbors = [neighbor.id for neighbor in neighbor_records]\n",
    "    # Remove self-recommendation\n",
    "    neighbors = [neighbor for neighbor in neighbors if neighbor != indice]\n",
    "    # Recalculate prediction scores for all neighbors\n",
    "    t0 = time.time()\n",
    "    scores = (\n",
    "        skipgram_model(torch.tensor([indice] * len(neighbors)), torch.tensor(neighbors))\n",
    "        .detach()\n",
    "        .numpy()\n",
    "        .astype(float)\n",
    "    )\n",
    "    t1 = time.time()\n",
    "    model_pred_times.append(t1 - t0)\n",
    "    # Rerank scores based on model output predictions\n",
    "    neighbors, scores = zip(\n",
    "        *sorted(zip(neighbors, scores), key=lambda x: x[1], reverse=True)\n",
    "    )\n",
    "    neighbor_ids = [id_mapping[\"idx_to_id\"][str(idx)] for idx in neighbors]\n",
    "    id_ = id_mapping[\"idx_to_id\"][str(indice)]\n",
    "    recs.append(\n",
    "        {\"target_item\": id_, \"rec_item_ids\": neighbor_ids, \"rec_scores\": list(scores)}\n",
    "    )"
   ]
  },
  {
   "cell_type": "code",
   "execution_count": 16,
   "id": "e65e0199-ecff-4f75-b1b3-0ca40d0eb1a3",
   "metadata": {},
   "outputs": [
    {
     "data": {
      "text/plain": [
       "0.00010992105784735464"
      ]
     },
     "execution_count": 16,
     "metadata": {},
     "output_type": "execute_result"
    }
   ],
   "source": [
    "avg_model_inference_seconds = sum(model_pred_times) / len(model_pred_times)\n",
    "logger.info(\n",
    "    f\"Average model inference time: {avg_model_inference_seconds * 1000} milliseconds\"\n",
    ")"
   ]
  },
  {
   "cell_type": "code",
   "execution_count": 17,
   "id": "d4560dd9-2858-4a67-a1d3-1d7ff6e3268a",
   "metadata": {
    "scrolled": true
   },
   "outputs": [
    {
     "data": {
      "text/plain": [
       "{'target_item': 'B00CMQTUSS',\n",
       " 'rec_item_ids': ['B00W9DHUBS',\n",
       "  'B00BN5T30E',\n",
       "  'B00KSQHX1K',\n",
       "  'B00DTY9B0O',\n",
       "  'B09V5R5LSZ',\n",
       "  'B00BHRD4BM',\n",
       "  'B00CMQTVK0',\n",
       "  'B00C1TTF86',\n",
       "  'B00BGA9X9W',\n",
       "  'B00DJRLDMU',\n",
       "  'B005GISQX4',\n",
       "  'B00CJ9OTNE',\n",
       "  'B00D5SZ04K',\n",
       "  'B00HM1XPN4',\n",
       "  'B00DJRLAZ0',\n",
       "  'B00CMQTVUA',\n",
       "  'B00GN67PJ4',\n",
       "  'B00IAVDOS6',\n",
       "  'B007CM0K86',\n",
       "  'B00K5HTPR2',\n",
       "  'B00BQVXUOA',\n",
       "  'B00BZS9JV2',\n",
       "  'B00DTWEOZ8',\n",
       "  'B07WZS4CTC',\n",
       "  'B07BLRF329',\n",
       "  'B00DBDPOZ4',\n",
       "  'B00J48C36S',\n",
       "  'B00KIFM28A',\n",
       "  'B07KXFB1P8',\n",
       "  'B003NSLGW2',\n",
       "  'B00EN9Q8G4',\n",
       "  'B00CEGCN76',\n",
       "  'B0088TN5FM',\n",
       "  'B00IAVDPSA',\n",
       "  'B00KSRV19E',\n",
       "  'B00YJJ0OQS',\n",
       "  'B00DBLBMBQ',\n",
       "  'B07YBX4VQN',\n",
       "  'B00FM5IY0Q',\n",
       "  'B00TY9KYKE',\n",
       "  'B00CMQTUY2',\n",
       "  'B00WNO6YKG',\n",
       "  'B00CISMP8M',\n",
       "  'B00CES8EFY',\n",
       "  'B00YM7AKLG',\n",
       "  'B0088MVPFQ',\n",
       "  'B00G2EVF3E',\n",
       "  'B00IIHU44E',\n",
       "  'B00EQNP8F4',\n",
       "  'B00KR2C0RC',\n",
       "  'B00LV416KC',\n",
       "  'B07WPFV4ZW',\n",
       "  'B00IAVDQCK',\n",
       "  'B00DB2BI00',\n",
       "  'B00KPZKS8E',\n",
       "  'B00BAQXJMO',\n",
       "  'B00DYJGDYQ',\n",
       "  'B017QU5G1O',\n",
       "  'B00HRH79H6',\n",
       "  'B00BIXYIU6',\n",
       "  'B003XF2SYK',\n",
       "  'B00ZMBLKPG',\n",
       "  'B00N1V12D4',\n",
       "  'B008M502H6',\n",
       "  'B07TXKYR1H',\n",
       "  'B00Z9TL6KA',\n",
       "  'B00VPW0DYU',\n",
       "  'B00KMPLXH2',\n",
       "  'B00DB90AHA',\n",
       "  'B00NFXOQW2',\n",
       "  'B00HN9LS48',\n",
       "  'B00CMQTTZ2',\n",
       "  'B00EADTVL2',\n",
       "  'B00XZQ58AI',\n",
       "  'B07N5LL4YW',\n",
       "  'B09WS2QZXT',\n",
       "  'B00N3NSUIK',\n",
       "  'B009JLQI5M',\n",
       "  'B00CY58LMS',\n",
       "  'B0051D8QCA',\n",
       "  'B00BRQN2EM',\n",
       "  'B00DUARDFC',\n",
       "  'B07MPSFJG3',\n",
       "  'B0041HXR80',\n",
       "  'B00OVBVME2',\n",
       "  'B01CJNHEEK',\n",
       "  'B00BQVXSSS',\n",
       "  'B00RN7QTF8',\n",
       "  'B00H89IBFM',\n",
       "  'B00EN1IF7C',\n",
       "  'B00DQNF3PU',\n",
       "  'B01953Z0G6',\n",
       "  'B00B3PDH5G',\n",
       "  'B00MMPB4RE',\n",
       "  'B00FUC6SZO',\n",
       "  'B015NHBBOS',\n",
       "  'B00ENRTB10',\n",
       "  'B00PGLG79G',\n",
       "  'B00DBCAS7E',\n",
       "  'B015PIIHL0'],\n",
       " 'rec_scores': [0.999016284942627,\n",
       "  0.9989185333251953,\n",
       "  0.9985186457633972,\n",
       "  0.9984459280967712,\n",
       "  0.9977906942367554,\n",
       "  0.9976836442947388,\n",
       "  0.9974834322929382,\n",
       "  0.9969863295555115,\n",
       "  0.9968627691268921,\n",
       "  0.9964250922203064,\n",
       "  0.9960207343101501,\n",
       "  0.9949395656585693,\n",
       "  0.9948070645332336,\n",
       "  0.9942129254341125,\n",
       "  0.993826687335968,\n",
       "  0.9933493733406067,\n",
       "  0.9924278855323792,\n",
       "  0.9921090006828308,\n",
       "  0.9913333058357239,\n",
       "  0.9912014007568359,\n",
       "  0.9909583330154419,\n",
       "  0.9909377098083496,\n",
       "  0.9907454252243042,\n",
       "  0.9905850291252136,\n",
       "  0.9905836582183838,\n",
       "  0.9904492497444153,\n",
       "  0.9890317320823669,\n",
       "  0.988824188709259,\n",
       "  0.9887109398841858,\n",
       "  0.9886699914932251,\n",
       "  0.9886687397956848,\n",
       "  0.9876794815063477,\n",
       "  0.9876766204833984,\n",
       "  0.9870911836624146,\n",
       "  0.9863072037696838,\n",
       "  0.985737681388855,\n",
       "  0.9853799939155579,\n",
       "  0.9832451343536377,\n",
       "  0.9826257228851318,\n",
       "  0.9813848733901978,\n",
       "  0.9797981977462769,\n",
       "  0.979706883430481,\n",
       "  0.979413628578186,\n",
       "  0.9787217974662781,\n",
       "  0.9783188700675964,\n",
       "  0.9781897664070129,\n",
       "  0.9779496788978577,\n",
       "  0.976992130279541,\n",
       "  0.9762019515037537,\n",
       "  0.9760798811912537,\n",
       "  0.9759269952774048,\n",
       "  0.9758815765380859,\n",
       "  0.975562334060669,\n",
       "  0.9735450148582458,\n",
       "  0.9729570746421814,\n",
       "  0.9726396203041077,\n",
       "  0.9719868302345276,\n",
       "  0.9717786312103271,\n",
       "  0.9717299938201904,\n",
       "  0.9712064266204834,\n",
       "  0.9709484577178955,\n",
       "  0.9706723690032959,\n",
       "  0.9692510366439819,\n",
       "  0.9686258435249329,\n",
       "  0.9678795337677002,\n",
       "  0.9657120108604431,\n",
       "  0.965076744556427,\n",
       "  0.9634961485862732,\n",
       "  0.963090181350708,\n",
       "  0.9624772667884827,\n",
       "  0.961562991142273,\n",
       "  0.9602206945419312,\n",
       "  0.958297848701477,\n",
       "  0.9575831890106201,\n",
       "  0.95576012134552,\n",
       "  0.9557141661643982,\n",
       "  0.9554554224014282,\n",
       "  0.9502231478691101,\n",
       "  0.9479544162750244,\n",
       "  0.947234570980072,\n",
       "  0.9459471106529236,\n",
       "  0.943065881729126,\n",
       "  0.9385945200920105,\n",
       "  0.9369017481803894,\n",
       "  0.9368463158607483,\n",
       "  0.9367002844810486,\n",
       "  0.9353030920028687,\n",
       "  0.9348741769790649,\n",
       "  0.9344457387924194,\n",
       "  0.9320375323295593,\n",
       "  0.9260182976722717,\n",
       "  0.9241771101951599,\n",
       "  0.9211440086364746,\n",
       "  0.9209239482879639,\n",
       "  0.9154271483421326,\n",
       "  0.9148039817810059,\n",
       "  0.9098772406578064,\n",
       "  0.9017486572265625,\n",
       "  0.8974527716636658,\n",
       "  0.8593275547027588]}"
      ]
     },
     "execution_count": 17,
     "metadata": {},
     "output_type": "execute_result"
    }
   ],
   "source": [
    "recs[0]"
   ]
  },
  {
   "cell_type": "markdown",
   "id": "71a9a2fb-a4a9-4cc2-9ba4-d6776c533e71",
   "metadata": {},
   "source": [
    "# Persist"
   ]
  },
  {
   "cell_type": "code",
   "execution_count": 18,
   "id": "80a0def9-2790-4518-b622-8df3c4d5cbe6",
   "metadata": {},
   "outputs": [
    {
     "name": "stderr",
     "output_type": "stream",
     "text": [
      "\u001b[32m2024-10-12 11:16:34.489\u001b[0m | \u001b[1mINFO    \u001b[0m | \u001b[36m__main__\u001b[0m:\u001b[36m<module>\u001b[0m:\u001b[36m1\u001b[0m - \u001b[1mSaving batch recs output to /Users/dvq/frostmourne/recsys-mvp/notebooks/data/000-first-attempt/batch_recs.jsonl...\u001b[0m\n"
     ]
    }
   ],
   "source": [
    "logger.info(f\"Saving batch recs output to {args.batch_recs_fp}...\")\n",
    "with open(args.batch_recs_fp, \"w\") as f:\n",
    "    for rec in recs:\n",
    "        f.write(json.dumps(rec) + \"\\n\")"
   ]
  },
  {
   "cell_type": "code",
   "execution_count": null,
   "id": "868695d4-0cd5-4af8-bad2-21b341c9f929",
   "metadata": {
    "editable": true,
    "slideshow": {
     "slide_type": ""
    },
    "tags": []
   },
   "outputs": [],
   "source": []
  }
 ],
 "metadata": {
  "kernelspec": {
   "display_name": "Python 3",
   "language": "python",
   "name": "python3"
  },
  "language_info": {
   "codemirror_mode": {
    "name": "ipython",
    "version": 3
   },
   "file_extension": ".py",
   "mimetype": "text/x-python",
   "name": "python",
   "nbconvert_exporter": "python",
   "pygments_lexer": "ipython3",
   "version": "3.11.9"
  }
 },
 "nbformat": 4,
 "nbformat_minor": 5
}
