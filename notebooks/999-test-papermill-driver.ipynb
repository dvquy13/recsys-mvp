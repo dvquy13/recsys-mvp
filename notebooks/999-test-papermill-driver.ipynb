{
 "cells": [
  {
   "cell_type": "code",
   "execution_count": 1,
   "id": "b2c21e70-6e8f-42e8-8ae9-61431f2e12a2",
   "metadata": {
    "editable": true,
    "slideshow": {
     "slide_type": ""
    },
    "tags": [
     "parameters"
    ]
   },
   "outputs": [],
   "source": [
    "import os\n",
    "import papermill as pm"
   ]
  },
  {
   "cell_type": "code",
   "execution_count": 2,
   "id": "75717d74-0bb0-423c-a6b3-c5ef6be2ff55",
   "metadata": {
    "editable": true,
    "scrolled": true,
    "slideshow": {
     "slide_type": ""
    },
    "tags": []
   },
   "outputs": [
    {
     "data": {
      "application/vnd.jupyter.widget-view+json": {
       "model_id": "0fbf2034c3e94de5ae811b1790e38eca",
       "version_major": 2,
       "version_minor": 0
      },
      "text/plain": [
       "Executing:   0%|          | 0/4 [00:00<?, ?cell/s]"
      ]
     },
     "metadata": {},
     "output_type": "display_data"
    },
    {
     "name": "stderr",
     "output_type": "stream",
     "text": [
      "Passed unknown parameter: b\n"
     ]
    },
    {
     "data": {
      "application/vnd.jupyter.widget-view+json": {
       "model_id": "fbf100ea730e4eb7b84f93ab2fda94fd",
       "version_major": 2,
       "version_minor": 0
      },
      "text/plain": [
       "Executing:   0%|          | 0/4 [00:00<?, ?cell/s]"
      ]
     },
     "metadata": {},
     "output_type": "display_data"
    },
    {
     "data": {
      "text/plain": [
       "{'cells': [{'cell_type': 'code',\n",
       "   'execution_count': 1,\n",
       "   'id': 'b2c21e70-6e8f-42e8-8ae9-61431f2e12a2',\n",
       "   'metadata': {'editable': True,\n",
       "    'slideshow': {'slide_type': ''},\n",
       "    'tags': ['parameters'],\n",
       "    'papermill': {'exception': False,\n",
       "     'start_time': '2024-10-10T02:38:54.935739',\n",
       "     'end_time': '2024-10-10T02:38:54.947711',\n",
       "     'duration': 0.011972,\n",
       "     'status': 'completed'},\n",
       "    'execution': {'iopub.status.busy': '2024-10-10T02:38:54.939367Z',\n",
       "     'iopub.execute_input': '2024-10-10T02:38:54.939699Z',\n",
       "     'shell.execute_reply': '2024-10-10T02:38:54.946439Z',\n",
       "     'iopub.status.idle': '2024-10-10T02:38:54.946753Z'}},\n",
       "   'outputs': [],\n",
       "   'source': 'c: float = 0.2\\nd: int = 3'},\n",
       "  {'id': 'bf64b432',\n",
       "   'cell_type': 'code',\n",
       "   'metadata': {'tags': ['injected-parameters'],\n",
       "    'papermill': {'exception': False,\n",
       "     'start_time': '2024-10-10T02:38:54.948996',\n",
       "     'end_time': '2024-10-10T02:38:54.952860',\n",
       "     'duration': 0.003864,\n",
       "     'status': 'completed'},\n",
       "    'execution': {'iopub.status.busy': '2024-10-10T02:38:54.950270Z',\n",
       "     'iopub.execute_input': '2024-10-10T02:38:54.950453Z',\n",
       "     'iopub.status.idle': '2024-10-10T02:38:54.952169Z',\n",
       "     'shell.execute_reply': '2024-10-10T02:38:54.951896Z'}},\n",
       "   'execution_count': 2,\n",
       "   'source': '# Parameters\\nc = 0.5\\nb = 5\\n',\n",
       "   'outputs': []},\n",
       "  {'cell_type': 'code',\n",
       "   'execution_count': 3,\n",
       "   'id': '75717d74-0bb0-423c-a6b3-c5ef6be2ff55',\n",
       "   'metadata': {'editable': True,\n",
       "    'slideshow': {'slide_type': ''},\n",
       "    'tags': [],\n",
       "    'papermill': {'exception': False,\n",
       "     'start_time': '2024-10-10T02:38:54.953631',\n",
       "     'end_time': '2024-10-10T02:38:54.958114',\n",
       "     'duration': 0.004483,\n",
       "     'status': 'completed'},\n",
       "    'execution': {'iopub.status.busy': '2024-10-10T02:38:54.955344Z',\n",
       "     'iopub.execute_input': '2024-10-10T02:38:54.955676Z',\n",
       "     'iopub.status.idle': '2024-10-10T02:38:54.957407Z',\n",
       "     'shell.execute_reply': '2024-10-10T02:38:54.957174Z'}},\n",
       "   'outputs': [{'output_type': 'stream',\n",
       "     'name': 'stdout',\n",
       "     'text': 'Hello world! c=0.5 d=3\\n'}],\n",
       "   'source': '#papermill_description=print-hello-world\\nprint(f\"Hello world! {c=} {d=}\")'},\n",
       "  {'cell_type': 'code',\n",
       "   'execution_count': None,\n",
       "   'id': 'eed2f55d-c8bc-4455-8e11-0ad3d44d6e4f',\n",
       "   'metadata': {'editable': True,\n",
       "    'slideshow': {'slide_type': ''},\n",
       "    'tags': [],\n",
       "    'papermill': {'exception': False,\n",
       "     'start_time': '2024-10-10T02:38:54.958957',\n",
       "     'end_time': '2024-10-10T02:38:54.959603',\n",
       "     'duration': 0.000646,\n",
       "     'status': 'completed'}},\n",
       "   'outputs': [],\n",
       "   'source': ''}],\n",
       " 'metadata': {'kernelspec': {'display_name': 'Python 3 (ipykernel)',\n",
       "   'language': 'python',\n",
       "   'name': 'python3'},\n",
       "  'language_info': {'name': 'python',\n",
       "   'version': '3.11.9',\n",
       "   'mimetype': 'text/x-python',\n",
       "   'codemirror_mode': {'name': 'ipython', 'version': 3},\n",
       "   'pygments_lexer': 'ipython3',\n",
       "   'nbconvert_exporter': 'python',\n",
       "   'file_extension': '.py'},\n",
       "  'papermill': {'default_parameters': {},\n",
       "   'parameters': {'c': 0.5, 'b': 5},\n",
       "   'environment_variables': {},\n",
       "   'version': '2.6.0',\n",
       "   'input_path': '999-test-papermill-second-notebook.ipynb',\n",
       "   'output_path': './output/999-test-papermill-second-notebook-output.ipynb',\n",
       "   'start_time': '2024-10-10T02:38:54.359183',\n",
       "   'end_time': '2024-10-10T02:38:55.076334',\n",
       "   'duration': 0.717151,\n",
       "   'exception': None}},\n",
       " 'nbformat': 4,\n",
       " 'nbformat_minor': 5}"
      ]
     },
     "execution_count": 2,
     "metadata": {},
     "output_type": "execute_result"
    }
   ],
   "source": [
    "os.makedirs('output', exist_ok=True)\n",
    "pm.execute_notebook('999-test-papermill.ipynb', './output/999-test-papermill-output.ipynb', parameters={'a': 0.3, 'b': 4})\n",
    "pm.execute_notebook('999-test-papermill-second-notebook.ipynb', './output/999-test-papermill-second-notebook-output.ipynb', parameters={'c': 0.5, 'b': 5})"
   ]
  },
  {
   "cell_type": "code",
   "execution_count": null,
   "id": "eed2f55d-c8bc-4455-8e11-0ad3d44d6e4f",
   "metadata": {
    "editable": true,
    "slideshow": {
     "slide_type": ""
    },
    "tags": []
   },
   "outputs": [],
   "source": []
  }
 ],
 "metadata": {
  "kernelspec": {
   "display_name": "Python 3 (ipykernel)",
   "language": "python",
   "name": "python3"
  },
  "language_info": {
   "codemirror_mode": {
    "name": "ipython",
    "version": 3
   },
   "file_extension": ".py",
   "mimetype": "text/x-python",
   "name": "python",
   "nbconvert_exporter": "python",
   "pygments_lexer": "ipython3",
   "version": "3.11.9"
  }
 },
 "nbformat": 4,
 "nbformat_minor": 5
}
