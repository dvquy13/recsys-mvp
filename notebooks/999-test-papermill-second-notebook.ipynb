{
 "cells": [
  {
   "cell_type": "code",
   "execution_count": null,
   "id": "b2c21e70-6e8f-42e8-8ae9-61431f2e12a2",
   "metadata": {
    "editable": true,
    "slideshow": {
     "slide_type": ""
    },
    "tags": [
     "parameters"
    ]
   },
   "outputs": [],
   "source": [
    "c: float = 0.2\n",
    "d: int = 3"
   ]
  },
  {
   "cell_type": "code",
   "execution_count": null,
   "id": "75717d74-0bb0-423c-a6b3-c5ef6be2ff55",
   "metadata": {
    "editable": true,
    "slideshow": {
     "slide_type": ""
    },
    "tags": []
   },
   "outputs": [],
   "source": [
    "#papermill_description=print-hello-world\n",
    "print(f\"Hello world! {c=} {d=}\")"
   ]
  },
  {
   "cell_type": "code",
   "execution_count": null,
   "id": "eed2f55d-c8bc-4455-8e11-0ad3d44d6e4f",
   "metadata": {
    "editable": true,
    "slideshow": {
     "slide_type": ""
    },
    "tags": []
   },
   "outputs": [],
   "source": []
  }
 ],
 "metadata": {
  "kernelspec": {
   "display_name": "Python 3 (ipykernel)",
   "language": "python",
   "name": "python3"
  },
  "language_info": {
   "codemirror_mode": {
    "name": "ipython",
    "version": 3
   },
   "file_extension": ".py",
   "mimetype": "text/x-python",
   "name": "python",
   "nbconvert_exporter": "python",
   "pygments_lexer": "ipython3",
   "version": "3.11.9"
  }
 },
 "nbformat": 4,
 "nbformat_minor": 5
}
