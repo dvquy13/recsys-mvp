{
 "cells": [
  {
   "cell_type": "markdown",
   "id": "9327920e-f1b7-4dc6-9378-9b009eccd9c2",
   "metadata": {
    "editable": true,
    "slideshow": {
     "slide_type": ""
    },
    "tags": []
   },
   "source": [
    "# Build sequence data loaders for Skip Gram"
   ]
  },
  {
   "cell_type": "markdown",
   "id": "32a6ffed-14dc-4c14-9758-000201389036",
   "metadata": {},
   "source": [
    "# Set up"
   ]
  },
  {
   "cell_type": "code",
   "execution_count": 1,
   "id": "8e7b8b86-b92f-4c06-92eb-718be5a66d85",
   "metadata": {},
   "outputs": [],
   "source": [
    "%load_ext autoreload\n",
    "%autoreload 2"
   ]
  },
  {
   "cell_type": "code",
   "execution_count": 2,
   "id": "1e9436e1-1542-452e-9f0c-d621591ed7cc",
   "metadata": {},
   "outputs": [],
   "source": [
    "import json\n",
    "import string\n",
    "import sys\n",
    "\n",
    "import pandas as pd\n",
    "from loguru import logger\n",
    "from pydantic import BaseModel\n",
    "from torch.utils.data import DataLoader\n",
    "from tqdm.auto import tqdm\n",
    "\n",
    "sys.path.insert(0, \"..\")\n",
    "\n",
    "from src.id_mapper import IDMapper\n",
    "from src.skipgram.dataset import SkipGramDataset"
   ]
  },
  {
   "cell_type": "markdown",
   "id": "3719ad7c-84b1-4c85-bf35-4cb016a923e3",
   "metadata": {},
   "source": [
    "# Controller"
   ]
  },
  {
   "cell_type": "code",
   "execution_count": 3,
   "id": "14a7f8d7-cdbe-4e1e-809f-adfbcb3cd3f1",
   "metadata": {},
   "outputs": [
    {
     "name": "stdout",
     "output_type": "stream",
     "text": [
      "{\n",
      "  \"num_negative_samples\": 5,\n",
      "  \"window_size\": 1,\n",
      "  \"batch_size\": 16,\n",
      "  \"user_col\": \"user_id\",\n",
      "  \"item_col\": \"parent_asin\"\n",
      "}\n"
     ]
    }
   ],
   "source": [
    "class Args(BaseModel):\n",
    "    num_negative_samples: int = 5\n",
    "    window_size: int = 1\n",
    "    batch_size: int = 16\n",
    "\n",
    "    user_col: str = \"user_id\"\n",
    "    item_col: str = \"parent_asin\"\n",
    "\n",
    "\n",
    "args = Args()\n",
    "print(args.model_dump_json(indent=2))"
   ]
  },
  {
   "cell_type": "markdown",
   "id": "03ff335f-42ef-4364-987c-06536f275f1e",
   "metadata": {},
   "source": [
    "# Test implementation"
   ]
  },
  {
   "cell_type": "code",
   "execution_count": 4,
   "id": "58b1b7b3-89d8-41c1-a3f7-ad5bb386168a",
   "metadata": {},
   "outputs": [],
   "source": [
    "sequences = [\n",
    "    [\"b\", \"c\", \"d\", \"e\", \"a\"],\n",
    "    [\"f\", \"b\", \"b\", \"b\", \"k\"],\n",
    "    [\"g\", \"m\", \"k\", \"l\", \"h\"],\n",
    "    [\"b\", \"c\", \"k\"],\n",
    "    [\"j\", \"i\", \"c\"],\n",
    "]\n",
    "\n",
    "val_sequences = [[\"f\", \"l\", \"m\"], [\"i\", \"h\"], [\"j\", \"e\", \"a\"]]\n",
    "\n",
    "sequences_fp = \"../data/sequences.jsonl\"\n",
    "val_sequences_fp = \"../data/val_sequences.jsonl\"\n",
    "\n",
    "with open(sequences_fp, \"w\") as f:\n",
    "    for sequence in sequences:\n",
    "        f.write(json.dumps(sequence) + \"\\n\")\n",
    "with open(val_sequences_fp, \"w\") as f:\n",
    "    for sequence in val_sequences:\n",
    "        f.write(json.dumps(sequence) + \"\\n\")"
   ]
  },
  {
   "cell_type": "code",
   "execution_count": 5,
   "id": "b7b41cb9-bcdb-492b-a0b4-6ff53c9736f1",
   "metadata": {},
   "outputs": [
    {
     "name": "stderr",
     "output_type": "stream",
     "text": [
      "\u001b[32m2024-10-10 11:18:42.863\u001b[0m | \u001b[1mINFO    \u001b[0m | \u001b[36msrc.skipgram.dataset\u001b[0m:\u001b[36m__init__\u001b[0m:\u001b[36m62\u001b[0m - \u001b[1mProcessing sequences to build interaction data...\u001b[0m\n"
     ]
    },
    {
     "data": {
      "application/vnd.jupyter.widget-view+json": {
       "model_id": "d4cf65fc673549b184613b7608e0fae0",
       "version_major": 2,
       "version_minor": 0
      },
      "text/plain": [
       "Building interactions: 0it [00:00, ?it/s]"
      ]
     },
     "metadata": {},
     "output_type": "display_data"
    },
    {
     "name": "stderr",
     "output_type": "stream",
     "text": [
      "\u001b[32m2024-10-10 11:18:42.881\u001b[0m | \u001b[1mINFO    \u001b[0m | \u001b[36msrc.skipgram.dataset\u001b[0m:\u001b[36m__init__\u001b[0m:\u001b[36m62\u001b[0m - \u001b[1mProcessing sequences to build interaction data...\u001b[0m\n"
     ]
    },
    {
     "data": {
      "application/vnd.jupyter.widget-view+json": {
       "model_id": "7d8af32e00bf44a6a65d2597f5cd7485",
       "version_major": 2,
       "version_minor": 0
      },
      "text/plain": [
       "Building interactions: 0it [00:00, ?it/s]"
      ]
     },
     "metadata": {},
     "output_type": "display_data"
    },
    {
     "name": "stdout",
     "output_type": "stream",
     "text": [
      "tensor([0, 0, 0]) tensor([2, 7, 9]) tensor([1., 0., 0.])\n"
     ]
    }
   ],
   "source": [
    "# Simulate pre-configured id_to_idx mapper\n",
    "id_to_idx = {\n",
    "    id_: idx for id_, idx in zip(list(string.ascii_letters[:13]), list(range(13)))\n",
    "}\n",
    "id_to_idx[\"a\"] = 1\n",
    "id_to_idx[\"b\"] = 0\n",
    "\n",
    "# Create dataset with frequency-based negative sampling\n",
    "dataset = SkipGramDataset(\n",
    "    sequences_fp, window_size=1, negative_samples=2, id_to_idx=id_to_idx\n",
    ")\n",
    "val_dataset = SkipGramDataset(\n",
    "    val_sequences_fp,\n",
    "    interacted=dataset.interacted,\n",
    "    item_freq=dataset.item_freq,\n",
    "    window_size=1,\n",
    "    negative_samples=2,\n",
    "    id_to_idx=id_to_idx,\n",
    ")\n",
    "\n",
    "# Example of getting an item\n",
    "for inp in dataset:\n",
    "    target_items = inp[\"target_items\"]\n",
    "    context_items = inp[\"context_items\"]\n",
    "    labels = inp[\"labels\"]\n",
    "    print(target_items, context_items, labels)\n",
    "    break"
   ]
  },
  {
   "cell_type": "code",
   "execution_count": 6,
   "id": "5762d1bd-3fa6-4834-9c84-cd510b9b7966",
   "metadata": {},
   "outputs": [
    {
     "data": {
      "text/plain": [
       "{'a': 1,\n",
       " 'b': 0,\n",
       " 'c': 2,\n",
       " 'd': 3,\n",
       " 'e': 4,\n",
       " 'f': 5,\n",
       " 'g': 6,\n",
       " 'h': 7,\n",
       " 'i': 8,\n",
       " 'j': 9,\n",
       " 'k': 10,\n",
       " 'l': 11,\n",
       " 'm': 12}"
      ]
     },
     "execution_count": 6,
     "metadata": {},
     "output_type": "execute_result"
    }
   ],
   "source": [
    "dataset.id_to_idx"
   ]
  },
  {
   "cell_type": "code",
   "execution_count": 7,
   "id": "b0672310-b7f1-4585-b104-ba93c3cc6d44",
   "metadata": {
    "scrolled": true
   },
   "outputs": [
    {
     "data": {
      "text/plain": [
       "array([0.13537454, 0.05938764, 0.13537454, 0.05938764, 0.05938764,\n",
       "       0.05938764, 0.05938764, 0.05938764, 0.05938764, 0.05938764,\n",
       "       0.13537454, 0.05938764, 0.05938764])"
      ]
     },
     "execution_count": 7,
     "metadata": {},
     "output_type": "execute_result"
    }
   ],
   "source": [
    "dataset.sampling_probs"
   ]
  },
  {
   "cell_type": "code",
   "execution_count": 8,
   "id": "2bd363b7-c544-47b8-8c7b-2b17968567f9",
   "metadata": {},
   "outputs": [
    {
     "data": {
      "text/plain": [
       "defaultdict(set,\n",
       "            {0: {0, 1, 2, 3, 4, 5, 10},\n",
       "             1: {0, 1, 2, 3, 4},\n",
       "             2: {0, 1, 2, 3, 4, 8, 9, 10},\n",
       "             3: {0, 1, 2, 3, 4},\n",
       "             4: {0, 1, 2, 3, 4},\n",
       "             10: {0, 2, 5, 6, 7, 10, 11, 12},\n",
       "             5: {0, 5, 10},\n",
       "             6: {6, 7, 10, 11, 12},\n",
       "             7: {6, 7, 10, 11, 12},\n",
       "             11: {6, 7, 10, 11, 12},\n",
       "             12: {6, 7, 10, 11, 12},\n",
       "             8: {2, 8, 9},\n",
       "             9: {2, 8, 9}})"
      ]
     },
     "execution_count": 8,
     "metadata": {},
     "output_type": "execute_result"
    }
   ],
   "source": [
    "dataset.interacted"
   ]
  },
  {
   "cell_type": "code",
   "execution_count": 9,
   "id": "26b4120d-61e5-42df-917e-1cc4ef22e815",
   "metadata": {},
   "outputs": [
    {
     "name": "stdout",
     "output_type": "stream",
     "text": [
      "(tensor(0), tensor(2))\n",
      "(tensor(0), tensor(7))\n",
      "(tensor(0), tensor(9))\n"
     ]
    }
   ],
   "source": [
    "for i in zip(target_items, context_items):\n",
    "    print(i)"
   ]
  },
  {
   "cell_type": "code",
   "execution_count": 10,
   "id": "01a5c23c-bd60-4ed1-8f95-ff82ddf1875b",
   "metadata": {},
   "outputs": [
    {
     "data": {
      "text/plain": [
       "array([0.10225277, 0.07544086, 0.10225277, 0.0448574 , 0.07544086,\n",
       "       0.07544086, 0.0448574 , 0.07544086, 0.07544086, 0.07544086,\n",
       "       0.10225277, 0.07544086, 0.07544086])"
      ]
     },
     "execution_count": 10,
     "metadata": {},
     "output_type": "execute_result"
    }
   ],
   "source": [
    "val_dataset.sampling_probs"
   ]
  },
  {
   "cell_type": "code",
   "execution_count": 11,
   "id": "13c3144f-d88f-44bf-b3ab-64aedd5657bc",
   "metadata": {},
   "outputs": [
    {
     "data": {
      "text/plain": [
       "defaultdict(set,\n",
       "            {0: {0, 1, 2, 3, 4, 5, 10},\n",
       "             1: {0, 1, 2, 3, 4, 9},\n",
       "             2: {0, 1, 2, 3, 4, 8, 9, 10},\n",
       "             3: {0, 1, 2, 3, 4},\n",
       "             4: {0, 1, 2, 3, 4, 9},\n",
       "             10: {0, 2, 5, 6, 7, 10, 11, 12},\n",
       "             5: {0, 5, 10, 11, 12},\n",
       "             6: {6, 7, 10, 11, 12},\n",
       "             7: {6, 7, 8, 10, 11, 12},\n",
       "             11: {5, 6, 7, 10, 11, 12},\n",
       "             12: {5, 6, 7, 10, 11, 12},\n",
       "             8: {2, 7, 8, 9},\n",
       "             9: {1, 2, 4, 8, 9}})"
      ]
     },
     "execution_count": 11,
     "metadata": {},
     "output_type": "execute_result"
    }
   ],
   "source": [
    "val_dataset.interacted"
   ]
  },
  {
   "cell_type": "markdown",
   "id": "c1c908ef-d593-46e3-af40-836cb54bd2fe",
   "metadata": {},
   "source": [
    "## Test no conflicting labels"
   ]
  },
  {
   "cell_type": "code",
   "execution_count": 12,
   "id": "9b50a1df-1ee8-4534-bfd1-c7f17cfcc2ed",
   "metadata": {},
   "outputs": [],
   "source": [
    "dataloader = DataLoader(\n",
    "    dataset,\n",
    "    batch_size=args.batch_size,\n",
    "    drop_last=True,\n",
    "    collate_fn=dataset.collate_fn,\n",
    ")"
   ]
  },
  {
   "cell_type": "code",
   "execution_count": 13,
   "id": "de8a9e89-7bcb-4d8b-b7c4-63061e4a9877",
   "metadata": {
    "scrolled": true
   },
   "outputs": [
    {
     "data": {
      "application/vnd.jupyter.widget-view+json": {
       "model_id": "ae4d116debc9449db3ef14ac3255a86d",
       "version_major": 2,
       "version_minor": 0
      },
      "text/plain": [
       "0it [00:00, ?it/s]"
      ]
     },
     "metadata": {},
     "output_type": "display_data"
    }
   ],
   "source": [
    "target_items = []\n",
    "context_items = []\n",
    "labels = []\n",
    "\n",
    "for i, batch_input in tqdm(enumerate(dataloader)):\n",
    "    _target_items = batch_input[\"target_items\"].cpu().detach().numpy()\n",
    "    _context_items = batch_input[\"context_items\"].cpu().detach().numpy()\n",
    "    _labels = batch_input[\"labels\"].cpu().detach().numpy()\n",
    "\n",
    "    target_items.extend(_target_items)\n",
    "    context_items.extend(_context_items)\n",
    "    labels.extend(_labels)\n",
    "\n",
    "test_df = pd.DataFrame(\n",
    "    {\"target_items\": target_items, \"context_items\": context_items, \"labels\": labels}\n",
    ")\n",
    "assert (\n",
    "    test_df.groupby([\"target_items\", \"context_items\"])[\"labels\"]\n",
    "    .nunique()\n",
    "    .loc[lambda s: s > 1]\n",
    "    .shape[0]\n",
    "    == 0\n",
    "), \"Conflicting labels!\""
   ]
  },
  {
   "cell_type": "markdown",
   "id": "8795ca93-372d-43ca-9cea-bb76c67aabba",
   "metadata": {},
   "source": [
    "# Load data"
   ]
  },
  {
   "cell_type": "code",
   "execution_count": 14,
   "id": "494e14aa-03c1-47d8-8720-e82c12d3cc13",
   "metadata": {},
   "outputs": [],
   "source": [
    "train_df = pd.read_parquet(\"../data/train_features.parquet\")\n",
    "val_df = pd.read_parquet(\"../data/val_features.parquet\")\n",
    "idm = IDMapper().load(\"../data/idm.json\")"
   ]
  },
  {
   "cell_type": "code",
   "execution_count": 15,
   "id": "20a6ebd8-2da5-4647-8773-b1362ad29315",
   "metadata": {
    "scrolled": true
   },
   "outputs": [
    {
     "data": {
      "text/html": [
       "<div>\n",
       "<style scoped>\n",
       "    .dataframe tbody tr th:only-of-type {\n",
       "        vertical-align: middle;\n",
       "    }\n",
       "\n",
       "    .dataframe tbody tr th {\n",
       "        vertical-align: top;\n",
       "    }\n",
       "\n",
       "    .dataframe thead th {\n",
       "        text-align: right;\n",
       "    }\n",
       "</style>\n",
       "<table border=\"1\" class=\"dataframe\">\n",
       "  <thead>\n",
       "    <tr style=\"text-align: right;\">\n",
       "      <th></th>\n",
       "      <th>user_id</th>\n",
       "      <th>parent_asin</th>\n",
       "      <th>rating</th>\n",
       "      <th>timestamp</th>\n",
       "      <th>user_indice</th>\n",
       "      <th>item_indice</th>\n",
       "      <th>main_category</th>\n",
       "      <th>title</th>\n",
       "      <th>description</th>\n",
       "      <th>categories</th>\n",
       "      <th>price</th>\n",
       "      <th>item_sequence</th>\n",
       "    </tr>\n",
       "  </thead>\n",
       "  <tbody>\n",
       "    <tr>\n",
       "      <th>0</th>\n",
       "      <td>AGD4QHNPSC45XTUPSUE6TYQOF3WQ</td>\n",
       "      <td>B0BN5DC36N</td>\n",
       "      <td>5.0</td>\n",
       "      <td>1628679010802</td>\n",
       "      <td>8301</td>\n",
       "      <td>2189</td>\n",
       "      <td>Computers</td>\n",
       "      <td>Seagate Horizon Forbidden West Limited Edition...</td>\n",
       "      <td>[Discover new worlds with the officially-licen...</td>\n",
       "      <td>[Video Games, Legacy Systems, PlayStation Syst...</td>\n",
       "      <td>89.99</td>\n",
       "      <td>[1855, 4190, 2358, 4136, 2954, 802, 2776, 2147...</td>\n",
       "    </tr>\n",
       "    <tr>\n",
       "      <th>1</th>\n",
       "      <td>AGK34QNFABMBLRESDKG2VRC3VIIQ</td>\n",
       "      <td>B0BL65X86R</td>\n",
       "      <td>5.0</td>\n",
       "      <td>1628702768435</td>\n",
       "      <td>18134</td>\n",
       "      <td>98</td>\n",
       "      <td>Video Games</td>\n",
       "      <td>$25 PlayStation Store Gift Card [Digital Code]</td>\n",
       "      <td>[Redeem against anything on PlayStation Store....</td>\n",
       "      <td>[Video Games, Online Game Services, PlayStatio...</td>\n",
       "      <td>25.0</td>\n",
       "      <td>[3039, 3175, 1599, 1609, 1490, 2307, 1888, 323...</td>\n",
       "    </tr>\n",
       "    <tr>\n",
       "      <th>2</th>\n",
       "      <td>AHRIM42WD5BZX6T37TUR3Z73DUXQ</td>\n",
       "      <td>B07VHHPJBV</td>\n",
       "      <td>4.0</td>\n",
       "      <td>1628711687953</td>\n",
       "      <td>1912</td>\n",
       "      <td>1979</td>\n",
       "      <td>Computers</td>\n",
       "      <td>Redragon M602 Griffin RGB Gaming Mouse, RGB Sp...</td>\n",
       "      <td>[Redragon M602 (White) GRIFFIN High-Precision ...</td>\n",
       "      <td>[Video Games, PC, Accessories, Gaming Mice]</td>\n",
       "      <td>19.99</td>\n",
       "      <td>[-1, -1, 3095, 1325, 936, 380, 3628, 270, 3487...</td>\n",
       "    </tr>\n",
       "    <tr>\n",
       "      <th>3</th>\n",
       "      <td>AFZDMJ2J5XHVZDKUWFKF346LA7WA</td>\n",
       "      <td>B07R6YZQB8</td>\n",
       "      <td>3.0</td>\n",
       "      <td>1628718971833</td>\n",
       "      <td>12732</td>\n",
       "      <td>3113</td>\n",
       "      <td>All Electronics</td>\n",
       "      <td>Glistco Simple Feet- Horizontal Stand/Feet Com...</td>\n",
       "      <td>[]</td>\n",
       "      <td>[Video Games, PlayStation 4]</td>\n",
       "      <td>12.6</td>\n",
       "      <td>[-1, -1, -1, -1, 624, 2620, 2252, 3122, 1737, ...</td>\n",
       "    </tr>\n",
       "    <tr>\n",
       "      <th>4</th>\n",
       "      <td>AE5OKUZ7Y5RVG6WUBTHJPECSU6ZA</td>\n",
       "      <td>B094Y1G4F4</td>\n",
       "      <td>4.0</td>\n",
       "      <td>1628744762627</td>\n",
       "      <td>14142</td>\n",
       "      <td>4404</td>\n",
       "      <td>Video Games</td>\n",
       "      <td>PowerA Enhanced - Seafoam Fade, Gamepad, Wired...</td>\n",
       "      <td>[This PowerA Enhanced Wired Controller is offi...</td>\n",
       "      <td>[Video Games, Xbox One, Accessories, Controlle...</td>\n",
       "      <td>37.99</td>\n",
       "      <td>[1680, 3356, 1142, 4549, 1393, 2937, 1839, 393...</td>\n",
       "    </tr>\n",
       "    <tr>\n",
       "      <th>...</th>\n",
       "      <td>...</td>\n",
       "      <td>...</td>\n",
       "      <td>...</td>\n",
       "      <td>...</td>\n",
       "      <td>...</td>\n",
       "      <td>...</td>\n",
       "      <td>...</td>\n",
       "      <td>...</td>\n",
       "      <td>...</td>\n",
       "      <td>...</td>\n",
       "      <td>...</td>\n",
       "      <td>...</td>\n",
       "    </tr>\n",
       "    <tr>\n",
       "      <th>957</th>\n",
       "      <td>AHJUZFMUESAEQBPC2QQMBDVUBYFQ</td>\n",
       "      <td>B0B1PB5L93</td>\n",
       "      <td>4.0</td>\n",
       "      <td>1657883331431</td>\n",
       "      <td>6294</td>\n",
       "      <td>3694</td>\n",
       "      <td>Computers</td>\n",
       "      <td>Razer Viper Ultimate Lightweight Wireless Gami...</td>\n",
       "      <td>[Forget about average and claim the unfair adv...</td>\n",
       "      <td>[Video Games, PC, Accessories, Gaming Mice]</td>\n",
       "      <td>89.99</td>\n",
       "      <td>[-1, -1, -1, 4336, 4609, 3873, 2245, 2869, 320...</td>\n",
       "    </tr>\n",
       "    <tr>\n",
       "      <th>958</th>\n",
       "      <td>AFIXV7CY3OC6WI5DXCS3JAGP5SQA</td>\n",
       "      <td>B0C37RBK2R</td>\n",
       "      <td>5.0</td>\n",
       "      <td>1657887021161</td>\n",
       "      <td>9028</td>\n",
       "      <td>4103</td>\n",
       "      <td>Video Games</td>\n",
       "      <td>Xbox Series S</td>\n",
       "      <td>[Introducing the Xbox Series S, the smallest, ...</td>\n",
       "      <td>[]</td>\n",
       "      <td>279.0</td>\n",
       "      <td>[639, 1294, 627, 3644, 4468, 3016, 2610, 2932,...</td>\n",
       "    </tr>\n",
       "    <tr>\n",
       "      <th>959</th>\n",
       "      <td>AFDL3ZQE4ARYEEBBH2KAPMP4NSHQ</td>\n",
       "      <td>B0795GHTBC</td>\n",
       "      <td>5.0</td>\n",
       "      <td>1657910674213</td>\n",
       "      <td>8973</td>\n",
       "      <td>3116</td>\n",
       "      <td>All Electronics</td>\n",
       "      <td>ivoler [3 Pack Screen Protector Tempered Glass...</td>\n",
       "      <td>[]</td>\n",
       "      <td>[Video Games, Nintendo Switch, Accessories, Fa...</td>\n",
       "      <td>9.39</td>\n",
       "      <td>[-1, -1, -1, 1259, 1366, 2240, 3784, 1073, 570...</td>\n",
       "    </tr>\n",
       "    <tr>\n",
       "      <th>960</th>\n",
       "      <td>AEE72HLCWIZT2GKD7UZRXN36T27A</td>\n",
       "      <td>B0CB8LZT7K</td>\n",
       "      <td>5.0</td>\n",
       "      <td>1657928730786</td>\n",
       "      <td>18414</td>\n",
       "      <td>424</td>\n",
       "      <td>Video Games</td>\n",
       "      <td>Daydayup Switch Carrying Case Compatible with ...</td>\n",
       "      <td>[]</td>\n",
       "      <td>[Video Games, Legacy Systems, Nintendo Systems...</td>\n",
       "      <td>21.99</td>\n",
       "      <td>[-1, 2370, 1236, 2881, 4266, 3449, 131, 2739, ...</td>\n",
       "    </tr>\n",
       "    <tr>\n",
       "      <th>961</th>\n",
       "      <td>AF54JR3WONKVAUZUYDLOOPZN7NFQ</td>\n",
       "      <td>B0C37RBK2R</td>\n",
       "      <td>5.0</td>\n",
       "      <td>1657950291114</td>\n",
       "      <td>10296</td>\n",
       "      <td>4103</td>\n",
       "      <td>Video Games</td>\n",
       "      <td>Xbox Series S</td>\n",
       "      <td>[Introducing the Xbox Series S, the smallest, ...</td>\n",
       "      <td>[]</td>\n",
       "      <td>279.0</td>\n",
       "      <td>[-1, -1, 3883, 2743, 1085, 2036, 14, 1436, 417...</td>\n",
       "    </tr>\n",
       "  </tbody>\n",
       "</table>\n",
       "<p>962 rows × 12 columns</p>\n",
       "</div>"
      ],
      "text/plain": [
       "                          user_id parent_asin  rating      timestamp  \\\n",
       "0    AGD4QHNPSC45XTUPSUE6TYQOF3WQ  B0BN5DC36N     5.0  1628679010802   \n",
       "1    AGK34QNFABMBLRESDKG2VRC3VIIQ  B0BL65X86R     5.0  1628702768435   \n",
       "2    AHRIM42WD5BZX6T37TUR3Z73DUXQ  B07VHHPJBV     4.0  1628711687953   \n",
       "3    AFZDMJ2J5XHVZDKUWFKF346LA7WA  B07R6YZQB8     3.0  1628718971833   \n",
       "4    AE5OKUZ7Y5RVG6WUBTHJPECSU6ZA  B094Y1G4F4     4.0  1628744762627   \n",
       "..                            ...         ...     ...            ...   \n",
       "957  AHJUZFMUESAEQBPC2QQMBDVUBYFQ  B0B1PB5L93     4.0  1657883331431   \n",
       "958  AFIXV7CY3OC6WI5DXCS3JAGP5SQA  B0C37RBK2R     5.0  1657887021161   \n",
       "959  AFDL3ZQE4ARYEEBBH2KAPMP4NSHQ  B0795GHTBC     5.0  1657910674213   \n",
       "960  AEE72HLCWIZT2GKD7UZRXN36T27A  B0CB8LZT7K     5.0  1657928730786   \n",
       "961  AF54JR3WONKVAUZUYDLOOPZN7NFQ  B0C37RBK2R     5.0  1657950291114   \n",
       "\n",
       "     user_indice  item_indice    main_category  \\\n",
       "0           8301         2189        Computers   \n",
       "1          18134           98      Video Games   \n",
       "2           1912         1979        Computers   \n",
       "3          12732         3113  All Electronics   \n",
       "4          14142         4404      Video Games   \n",
       "..           ...          ...              ...   \n",
       "957         6294         3694        Computers   \n",
       "958         9028         4103      Video Games   \n",
       "959         8973         3116  All Electronics   \n",
       "960        18414          424      Video Games   \n",
       "961        10296         4103      Video Games   \n",
       "\n",
       "                                                 title  \\\n",
       "0    Seagate Horizon Forbidden West Limited Edition...   \n",
       "1       $25 PlayStation Store Gift Card [Digital Code]   \n",
       "2    Redragon M602 Griffin RGB Gaming Mouse, RGB Sp...   \n",
       "3    Glistco Simple Feet- Horizontal Stand/Feet Com...   \n",
       "4    PowerA Enhanced - Seafoam Fade, Gamepad, Wired...   \n",
       "..                                                 ...   \n",
       "957  Razer Viper Ultimate Lightweight Wireless Gami...   \n",
       "958                                      Xbox Series S   \n",
       "959  ivoler [3 Pack Screen Protector Tempered Glass...   \n",
       "960  Daydayup Switch Carrying Case Compatible with ...   \n",
       "961                                      Xbox Series S   \n",
       "\n",
       "                                           description  \\\n",
       "0    [Discover new worlds with the officially-licen...   \n",
       "1    [Redeem against anything on PlayStation Store....   \n",
       "2    [Redragon M602 (White) GRIFFIN High-Precision ...   \n",
       "3                                                   []   \n",
       "4    [This PowerA Enhanced Wired Controller is offi...   \n",
       "..                                                 ...   \n",
       "957  [Forget about average and claim the unfair adv...   \n",
       "958  [Introducing the Xbox Series S, the smallest, ...   \n",
       "959                                                 []   \n",
       "960                                                 []   \n",
       "961  [Introducing the Xbox Series S, the smallest, ...   \n",
       "\n",
       "                                            categories  price  \\\n",
       "0    [Video Games, Legacy Systems, PlayStation Syst...  89.99   \n",
       "1    [Video Games, Online Game Services, PlayStatio...   25.0   \n",
       "2          [Video Games, PC, Accessories, Gaming Mice]  19.99   \n",
       "3                         [Video Games, PlayStation 4]   12.6   \n",
       "4    [Video Games, Xbox One, Accessories, Controlle...  37.99   \n",
       "..                                                 ...    ...   \n",
       "957        [Video Games, PC, Accessories, Gaming Mice]  89.99   \n",
       "958                                                 []  279.0   \n",
       "959  [Video Games, Nintendo Switch, Accessories, Fa...   9.39   \n",
       "960  [Video Games, Legacy Systems, Nintendo Systems...  21.99   \n",
       "961                                                 []  279.0   \n",
       "\n",
       "                                         item_sequence  \n",
       "0    [1855, 4190, 2358, 4136, 2954, 802, 2776, 2147...  \n",
       "1    [3039, 3175, 1599, 1609, 1490, 2307, 1888, 323...  \n",
       "2    [-1, -1, 3095, 1325, 936, 380, 3628, 270, 3487...  \n",
       "3    [-1, -1, -1, -1, 624, 2620, 2252, 3122, 1737, ...  \n",
       "4    [1680, 3356, 1142, 4549, 1393, 2937, 1839, 393...  \n",
       "..                                                 ...  \n",
       "957  [-1, -1, -1, 4336, 4609, 3873, 2245, 2869, 320...  \n",
       "958  [639, 1294, 627, 3644, 4468, 3016, 2610, 2932,...  \n",
       "959  [-1, -1, -1, 1259, 1366, 2240, 3784, 1073, 570...  \n",
       "960  [-1, 2370, 1236, 2881, 4266, 3449, 131, 2739, ...  \n",
       "961  [-1, -1, 3883, 2743, 1085, 2036, 14, 1436, 417...  \n",
       "\n",
       "[962 rows x 12 columns]"
      ]
     },
     "execution_count": 15,
     "metadata": {},
     "output_type": "execute_result"
    }
   ],
   "source": [
    "val_df"
   ]
  },
  {
   "cell_type": "code",
   "execution_count": 16,
   "id": "a7fe194e-94a7-4f2b-bef4-22db0a223149",
   "metadata": {},
   "outputs": [],
   "source": [
    "def get_sequence(df, user_col=args.user_col, item_col=args.item_col):\n",
    "    return (\n",
    "        df.groupby(user_col)[item_col]\n",
    "        .agg(list)\n",
    "        .loc[lambda s: s.apply(len) > 1]  # Remove sequence with only one item\n",
    "    ).values.tolist()"
   ]
  },
  {
   "cell_type": "code",
   "execution_count": 17,
   "id": "27ce7e75-4903-4d75-9c70-2da337864c26",
   "metadata": {
    "scrolled": true
   },
   "outputs": [
    {
     "data": {
      "text/plain": [
       "19578"
      ]
     },
     "execution_count": 17,
     "metadata": {},
     "output_type": "execute_result"
    }
   ],
   "source": [
    "item_sequence = train_df.pipe(get_sequence)\n",
    "len(item_sequence)"
   ]
  },
  {
   "cell_type": "code",
   "execution_count": 18,
   "id": "b23939a8-ee72-4b93-82d2-a83423a3ff01",
   "metadata": {
    "scrolled": true
   },
   "outputs": [
    {
     "data": {
      "text/plain": [
       "157"
      ]
     },
     "execution_count": 18,
     "metadata": {},
     "output_type": "execute_result"
    }
   ],
   "source": [
    "val_item_sequence = val_df.pipe(get_sequence)\n",
    "len(val_item_sequence)"
   ]
  },
  {
   "cell_type": "markdown",
   "id": "832beb3a-e6dd-46a0-9d88-579862bc2be5",
   "metadata": {},
   "source": [
    "## Persist"
   ]
  },
  {
   "cell_type": "code",
   "execution_count": 19,
   "id": "a30d14cf-c33b-40b3-a981-380a483dd837",
   "metadata": {
    "scrolled": true
   },
   "outputs": [
    {
     "name": "stderr",
     "output_type": "stream",
     "text": [
      "\u001b[32m2024-10-10 11:18:44.002\u001b[0m | \u001b[1mINFO    \u001b[0m | \u001b[36m__main__\u001b[0m:\u001b[36m<module>\u001b[0m:\u001b[36m11\u001b[0m - \u001b[1mlen(item_sequence)=19,578 len(val_item_sequence)=157\u001b[0m\n"
     ]
    }
   ],
   "source": [
    "sequences_fp = \"../data/item_sequence.jsonl\"\n",
    "val_sequences_fp = \"../data/val_item_sequence.jsonl\"\n",
    "\n",
    "with open(sequences_fp, \"w\") as f:\n",
    "    for sequence in item_sequence:\n",
    "        f.write(json.dumps(sequence) + \"\\n\")\n",
    "with open(val_sequences_fp, \"w\") as f:\n",
    "    for sequence in val_item_sequence:\n",
    "        f.write(json.dumps(sequence) + \"\\n\")\n",
    "\n",
    "logger.info(f\"{len(item_sequence)=:,.0f} {len(val_item_sequence)=:,.0f}\")"
   ]
  },
  {
   "cell_type": "markdown",
   "id": "4660d298-1bd0-4437-a55b-1130718795c1",
   "metadata": {},
   "source": [
    "## Persist a small data for overfitting"
   ]
  },
  {
   "cell_type": "code",
   "execution_count": 20,
   "id": "6bc58200-aa9e-4965-9944-22fdce6e130d",
   "metadata": {},
   "outputs": [],
   "source": [
    "num_sequences = 2\n",
    "batch_item_sequence = item_sequence[:num_sequences]\n",
    "batch_sequences_fp = \"../data/batch_item_sequence.jsonl\"\n",
    "\n",
    "with open(batch_sequences_fp, \"w\") as f:\n",
    "    for sequence in batch_item_sequence:\n",
    "        f.write(json.dumps(sequence) + \"\\n\")"
   ]
  },
  {
   "cell_type": "markdown",
   "id": "3b0ec31a-4a48-49c8-af9d-9d23c98a7d90",
   "metadata": {},
   "source": [
    "# Run with all data"
   ]
  },
  {
   "cell_type": "code",
   "execution_count": 21,
   "id": "b5523eb7-e47e-4ca2-9cba-efe0e7ad7499",
   "metadata": {},
   "outputs": [
    {
     "name": "stderr",
     "output_type": "stream",
     "text": [
      "\u001b[32m2024-10-10 11:18:44.025\u001b[0m | \u001b[1mINFO    \u001b[0m | \u001b[36msrc.skipgram.dataset\u001b[0m:\u001b[36m__init__\u001b[0m:\u001b[36m62\u001b[0m - \u001b[1mProcessing sequences to build interaction data...\u001b[0m\n"
     ]
    },
    {
     "data": {
      "application/vnd.jupyter.widget-view+json": {
       "model_id": "6260c71df0ec4cc897e8411e5b9a3c72",
       "version_major": 2,
       "version_minor": 0
      },
      "text/plain": [
       "Building interactions: 0it [00:00, ?it/s]"
      ]
     },
     "metadata": {},
     "output_type": "display_data"
    },
    {
     "name": "stdout",
     "output_type": "stream",
     "text": [
      "tensor([1712, 1712, 1712, 1712, 1712, 1712]) tensor([4219, 4424, 1022, 4557, 3810, 3951]) tensor([1., 0., 0., 0., 0., 0.])\n"
     ]
    }
   ],
   "source": [
    "# Create dataset with frequency-based negative sampling\n",
    "dataset = SkipGramDataset(\n",
    "    sequences_fp,\n",
    "    window_size=args.window_size,\n",
    "    negative_samples=args.num_negative_samples,\n",
    "    id_to_idx=idm.item_to_index,\n",
    ")\n",
    "\n",
    "for inp in dataset:\n",
    "    target_items = inp[\"target_items\"]\n",
    "    context_items = inp[\"context_items\"]\n",
    "    labels = inp[\"labels\"]\n",
    "    print(target_items, context_items, labels)\n",
    "    break"
   ]
  },
  {
   "cell_type": "code",
   "execution_count": 22,
   "id": "159cc17e-7b60-491f-8f30-8e941f9c6929",
   "metadata": {},
   "outputs": [],
   "source": [
    "batch_size = len(item_sequence[0])  # for easier testing\n",
    "\n",
    "dataloader = DataLoader(\n",
    "    dataset,\n",
    "    batch_size=batch_size,\n",
    "    drop_last=True,\n",
    "    collate_fn=dataset.collate_fn,\n",
    ")"
   ]
  },
  {
   "cell_type": "code",
   "execution_count": 23,
   "id": "2be4725c-f513-4655-9803-932ccc200ebc",
   "metadata": {
    "scrolled": true
   },
   "outputs": [],
   "source": [
    "# Test index mapping matches input id_mapper\n",
    "target_items_idx_dataloader = set()\n",
    "for batch_input in dataloader:\n",
    "    target_items_idx_dataloader.update(batch_input[\"target_items\"].detach().numpy())\n",
    "    break\n",
    "\n",
    "targets_items_idx_item_sequence = set()\n",
    "for item_id in item_sequence[0]:\n",
    "    idx = idm.item_to_index[item_id]\n",
    "    targets_items_idx_item_sequence.add(idx)\n",
    "\n",
    "assert target_items_idx_dataloader == targets_items_idx_item_sequence"
   ]
  },
  {
   "cell_type": "code",
   "execution_count": 24,
   "id": "6333ab2c-14f9-4d44-bdaa-20f00c9d8c6c",
   "metadata": {},
   "outputs": [
    {
     "name": "stderr",
     "output_type": "stream",
     "text": [
      "\u001b[32m2024-10-10 11:18:44.661\u001b[0m | \u001b[1mINFO    \u001b[0m | \u001b[36msrc.skipgram.dataset\u001b[0m:\u001b[36m__init__\u001b[0m:\u001b[36m62\u001b[0m - \u001b[1mProcessing sequences to build interaction data...\u001b[0m\n"
     ]
    },
    {
     "data": {
      "application/vnd.jupyter.widget-view+json": {
       "model_id": "beeef9b91bb54e0392fb26adc7afaf7c",
       "version_major": 2,
       "version_minor": 0
      },
      "text/plain": [
       "Building interactions: 0it [00:00, ?it/s]"
      ]
     },
     "metadata": {},
     "output_type": "display_data"
    }
   ],
   "source": [
    "val_dataset = SkipGramDataset(\n",
    "    val_sequences_fp,\n",
    "    interacted=dataset.interacted,\n",
    "    item_freq=dataset.item_freq,\n",
    "    window_size=args.window_size,\n",
    "    negative_samples=args.num_negative_samples,\n",
    "    id_to_idx=idm.item_to_index,\n",
    ")\n",
    "val_dataloader = DataLoader(\n",
    "    val_dataset,\n",
    "    batch_size=args.batch_size,\n",
    "    shuffle=False,\n",
    "    drop_last=True,\n",
    "    collate_fn=val_dataset.collate_fn,\n",
    ")"
   ]
  },
  {
   "cell_type": "code",
   "execution_count": 25,
   "id": "b3f32e26-bb25-4f53-a932-c5aa169fa496",
   "metadata": {},
   "outputs": [
    {
     "name": "stdout",
     "output_type": "stream",
     "text": [
      "{'target_items': tensor([1462, 1462, 1462, 1462, 1462, 1462, 4525, 4525, 4525, 4525, 4525, 4525,\n",
      "        1010, 1010, 1010, 1010, 1010, 1010, 1137, 1137, 1137, 1137, 1137, 1137,\n",
      "        1137, 1137, 1137, 1137, 1137, 1137, 4422, 4422, 4422, 4422, 4422, 4422,\n",
      "        4422, 4422, 4422, 4422, 4422, 4422, 1910, 1910, 1910, 1910, 1910, 1910,\n",
      "        1910, 1910, 1910, 1910, 1910, 1910, 2243, 2243, 2243, 2243, 2243, 2243,\n",
      "        2243, 2243, 2243, 2243, 2243, 2243, 1762, 1762, 1762, 1762, 1762, 1762,\n",
      "        3840, 3840, 3840, 3840, 3840, 3840, 1526, 1526, 1526, 1526, 1526, 1526,\n",
      "        1526, 1526, 1526, 1526, 1526, 1526,  917,  917,  917,  917,  917,  917,\n",
      "        3248, 3248, 3248, 3248, 3248, 3248, 2348, 2348, 2348, 2348, 2348, 2348,\n",
      "        2843, 2843, 2843, 2843, 2843, 2843, 2023, 2023, 2023, 2023, 2023, 2023,\n",
      "        1110, 1110, 1110, 1110, 1110, 1110]), 'context_items': tensor([4525, 1804, 3125, 1189, 2529,  103, 1462,  100, 4390, 1324, 3347, 3203,\n",
      "        1137, 1090, 2446, 2723, 3484, 1673, 1010, 4422, 4127, 4052, 1652, 4100,\n",
      "        2149,  389, 2599, 4033, 1237, 1916, 1137, 1910, 1489, 1317,  135, 3864,\n",
      "        2796, 2319,  411,   20, 3397, 3459, 4422, 2243,  547, 3768, 2200,  181,\n",
      "        2613, 2815,  502, 2638, 2886, 2896, 1910, 1762, 3502, 3922, 2065, 1743,\n",
      "        3236, 2714, 1983, 1779, 4426, 3420, 2243, 2170,  221, 3747,  788, 2348,\n",
      "        1526, 1243, 3047, 4589, 3245,  980, 3840,  917, 1059,  256, 2293, 3741,\n",
      "        2894, 3824, 4629, 2622,  201, 2603, 1526, 2381, 3504,  176, 4525, 1994,\n",
      "        2348,  850,  985,  114, 3507, 2271, 3248, 2868, 3097, 2814,  618, 2553,\n",
      "        2023, 4267,  382, 3183,  850, 2642, 2843, 3903, 3093,  293,  248, 2847,\n",
      "        4603,  809, 3163, 3309, 4529, 4572]), 'labels': tensor([1., 0., 0., 0., 0., 0., 1., 0., 0., 0., 0., 0., 1., 0., 0., 0., 0., 0.,\n",
      "        1., 1., 0., 0., 0., 0., 0., 0., 0., 0., 0., 0., 1., 1., 0., 0., 0., 0.,\n",
      "        0., 0., 0., 0., 0., 0., 1., 1., 0., 0., 0., 0., 0., 0., 0., 0., 0., 0.,\n",
      "        1., 1., 0., 0., 0., 0., 0., 0., 0., 0., 0., 0., 1., 0., 0., 0., 0., 0.,\n",
      "        1., 0., 0., 0., 0., 0., 1., 1., 0., 0., 0., 0., 0., 0., 0., 0., 0., 0.,\n",
      "        1., 0., 0., 0., 0., 0., 1., 0., 0., 0., 0., 0., 1., 0., 0., 0., 0., 0.,\n",
      "        1., 0., 0., 0., 0., 0., 1., 0., 0., 0., 0., 0., 1., 0., 0., 0., 0., 0.])}\n"
     ]
    }
   ],
   "source": [
    "for batch_input in val_dataloader:\n",
    "    print(batch_input)\n",
    "    break"
   ]
  },
  {
   "cell_type": "code",
   "execution_count": null,
   "id": "86f8a882-dea1-4bef-b923-023661118d31",
   "metadata": {},
   "outputs": [],
   "source": []
  }
 ],
 "metadata": {
  "kernelspec": {
   "display_name": "Python 3 (ipykernel)",
   "language": "python",
   "name": "python3"
  },
  "language_info": {
   "codemirror_mode": {
    "name": "ipython",
    "version": 3
   },
   "file_extension": ".py",
   "mimetype": "text/x-python",
   "name": "python",
   "nbconvert_exporter": "python",
   "pygments_lexer": "ipython3",
   "version": "3.11.9"
  }
 },
 "nbformat": 4,
 "nbformat_minor": 5
}
