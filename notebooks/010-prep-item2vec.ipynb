{
 "cells": [
  {
   "cell_type": "markdown",
   "id": "9327920e-f1b7-4dc6-9378-9b009eccd9c2",
   "metadata": {
    "editable": true,
    "slideshow": {
     "slide_type": ""
    },
    "tags": []
   },
   "source": [
    "# Build sequence data loaders for Skip Gram"
   ]
  },
  {
   "cell_type": "markdown",
   "id": "32a6ffed-14dc-4c14-9758-000201389036",
   "metadata": {},
   "source": [
    "# Set up"
   ]
  },
  {
   "cell_type": "code",
   "execution_count": 1,
   "id": "8e7b8b86-b92f-4c06-92eb-718be5a66d85",
   "metadata": {},
   "outputs": [],
   "source": [
    "%load_ext autoreload\n",
    "%autoreload 2"
   ]
  },
  {
   "cell_type": "code",
   "execution_count": 2,
   "id": "1e9436e1-1542-452e-9f0c-d621591ed7cc",
   "metadata": {},
   "outputs": [],
   "source": [
    "import json\n",
    "import string\n",
    "import sys\n",
    "\n",
    "import pandas as pd\n",
    "from loguru import logger\n",
    "from pydantic import BaseModel\n",
    "from torch.utils.data import DataLoader\n",
    "from tqdm.auto import tqdm\n",
    "\n",
    "sys.path.insert(0, \"..\")\n",
    "\n",
    "from src.id_mapper import IDMapper\n",
    "from src.skipgram.dataset import SkipGramDataset"
   ]
  },
  {
   "cell_type": "markdown",
   "id": "3719ad7c-84b1-4c85-bf35-4cb016a923e3",
   "metadata": {},
   "source": [
    "# Controller"
   ]
  },
  {
   "cell_type": "code",
   "execution_count": 3,
   "id": "14a7f8d7-cdbe-4e1e-809f-adfbcb3cd3f1",
   "metadata": {},
   "outputs": [
    {
     "name": "stdout",
     "output_type": "stream",
     "text": [
      "{\n",
      "  \"num_negative_samples\": 5,\n",
      "  \"window_size\": 1,\n",
      "  \"batch_size\": 16,\n",
      "  \"user_col\": \"user_id\",\n",
      "  \"item_col\": \"parent_asin\"\n",
      "}\n"
     ]
    }
   ],
   "source": [
    "class Args(BaseModel):\n",
    "    num_negative_samples: int = 5\n",
    "    window_size: int = 1\n",
    "    batch_size: int = 16\n",
    "\n",
    "    user_col: str = \"user_id\"\n",
    "    item_col: str = \"parent_asin\"\n",
    "\n",
    "\n",
    "args = Args()\n",
    "print(args.model_dump_json(indent=2))"
   ]
  },
  {
   "cell_type": "markdown",
   "id": "03ff335f-42ef-4364-987c-06536f275f1e",
   "metadata": {},
   "source": [
    "# Test implementation"
   ]
  },
  {
   "cell_type": "code",
   "execution_count": 4,
   "id": "58b1b7b3-89d8-41c1-a3f7-ad5bb386168a",
   "metadata": {},
   "outputs": [],
   "source": [
    "sequences = [\n",
    "    [\"b\", \"c\", \"d\", \"e\", \"a\"],\n",
    "    [\"f\", \"b\", \"b\", \"b\", \"k\"],\n",
    "    [\"g\", \"m\", \"k\", \"l\", \"h\"],\n",
    "    [\"b\", \"c\", \"k\"],\n",
    "    [\"j\", \"i\", \"c\"],\n",
    "]\n",
    "\n",
    "val_sequences = [[\"f\", \"l\", \"m\"], [\"i\", \"h\"], [\"j\", \"e\", \"a\"]]\n",
    "\n",
    "sequences_fp = \"../data/sequences.jsonl\"\n",
    "val_sequences_fp = \"../data/val_sequences.jsonl\"\n",
    "\n",
    "with open(sequences_fp, \"w\") as f:\n",
    "    for sequence in sequences:\n",
    "        f.write(json.dumps(sequence) + \"\\n\")\n",
    "with open(val_sequences_fp, \"w\") as f:\n",
    "    for sequence in val_sequences:\n",
    "        f.write(json.dumps(sequence) + \"\\n\")"
   ]
  },
  {
   "cell_type": "code",
   "execution_count": 5,
   "id": "b7b41cb9-bcdb-492b-a0b4-6ff53c9736f1",
   "metadata": {},
   "outputs": [
    {
     "name": "stderr",
     "output_type": "stream",
     "text": [
      "\u001b[32m2024-10-20 00:45:12.407\u001b[0m | \u001b[1mINFO    \u001b[0m | \u001b[36msrc.skipgram.dataset\u001b[0m:\u001b[36m__init__\u001b[0m:\u001b[36m62\u001b[0m - \u001b[1mProcessing sequences to build interaction data...\u001b[0m\n"
     ]
    },
    {
     "data": {
      "application/vnd.jupyter.widget-view+json": {
       "model_id": "ec4fe41ac0704776ab0173d6f88c606f",
       "version_major": 2,
       "version_minor": 0
      },
      "text/plain": [
       "Building interactions: 0it [00:00, ?it/s]"
      ]
     },
     "metadata": {},
     "output_type": "display_data"
    },
    {
     "name": "stderr",
     "output_type": "stream",
     "text": [
      "\u001b[32m2024-10-20 00:45:12.421\u001b[0m | \u001b[1mINFO    \u001b[0m | \u001b[36msrc.skipgram.dataset\u001b[0m:\u001b[36m__init__\u001b[0m:\u001b[36m62\u001b[0m - \u001b[1mProcessing sequences to build interaction data...\u001b[0m\n"
     ]
    },
    {
     "data": {
      "application/vnd.jupyter.widget-view+json": {
       "model_id": "af0afd10ff8d492884be1fb346b28247",
       "version_major": 2,
       "version_minor": 0
      },
      "text/plain": [
       "Building interactions: 0it [00:00, ?it/s]"
      ]
     },
     "metadata": {},
     "output_type": "display_data"
    },
    {
     "name": "stdout",
     "output_type": "stream",
     "text": [
      "tensor([0, 0, 0]) tensor([ 2,  7, 11]) tensor([1., 0., 0.])\n"
     ]
    }
   ],
   "source": [
    "# Simulate pre-configured id_to_idx mapper\n",
    "id_to_idx = {\n",
    "    id_: idx for id_, idx in zip(list(string.ascii_letters[:13]), list(range(13)))\n",
    "}\n",
    "id_to_idx[\"a\"] = 1\n",
    "id_to_idx[\"b\"] = 0\n",
    "\n",
    "# Create dataset with frequency-based negative sampling\n",
    "dataset = SkipGramDataset(\n",
    "    sequences_fp, window_size=1, negative_samples=2, id_to_idx=id_to_idx\n",
    ")\n",
    "val_dataset = SkipGramDataset(\n",
    "    val_sequences_fp,\n",
    "    interacted=dataset.interacted,\n",
    "    item_freq=dataset.item_freq,\n",
    "    window_size=1,\n",
    "    negative_samples=2,\n",
    "    id_to_idx=id_to_idx,\n",
    ")\n",
    "\n",
    "# Example of getting an item\n",
    "for inp in dataset:\n",
    "    target_items = inp[\"target_items\"]\n",
    "    context_items = inp[\"context_items\"]\n",
    "    labels = inp[\"labels\"]\n",
    "    print(target_items, context_items, labels)\n",
    "    break"
   ]
  },
  {
   "cell_type": "code",
   "execution_count": 6,
   "id": "5762d1bd-3fa6-4834-9c84-cd510b9b7966",
   "metadata": {},
   "outputs": [
    {
     "data": {
      "text/plain": [
       "{'a': 1,\n",
       " 'b': 0,\n",
       " 'c': 2,\n",
       " 'd': 3,\n",
       " 'e': 4,\n",
       " 'f': 5,\n",
       " 'g': 6,\n",
       " 'h': 7,\n",
       " 'i': 8,\n",
       " 'j': 9,\n",
       " 'k': 10,\n",
       " 'l': 11,\n",
       " 'm': 12}"
      ]
     },
     "execution_count": 6,
     "metadata": {},
     "output_type": "execute_result"
    }
   ],
   "source": [
    "dataset.id_to_idx"
   ]
  },
  {
   "cell_type": "code",
   "execution_count": 7,
   "id": "b0672310-b7f1-4585-b104-ba93c3cc6d44",
   "metadata": {
    "scrolled": true
   },
   "outputs": [
    {
     "data": {
      "text/plain": [
       "array([0.13537454, 0.05938764, 0.13537454, 0.05938764, 0.05938764,\n",
       "       0.05938764, 0.05938764, 0.05938764, 0.05938764, 0.05938764,\n",
       "       0.13537454, 0.05938764, 0.05938764])"
      ]
     },
     "execution_count": 7,
     "metadata": {},
     "output_type": "execute_result"
    }
   ],
   "source": [
    "dataset.sampling_probs"
   ]
  },
  {
   "cell_type": "code",
   "execution_count": 8,
   "id": "2bd363b7-c544-47b8-8c7b-2b17968567f9",
   "metadata": {},
   "outputs": [
    {
     "data": {
      "text/plain": [
       "defaultdict(set,\n",
       "            {0: {0, 1, 2, 3, 4, 5, 10},\n",
       "             1: {0, 1, 2, 3, 4},\n",
       "             2: {0, 1, 2, 3, 4, 8, 9, 10},\n",
       "             3: {0, 1, 2, 3, 4},\n",
       "             4: {0, 1, 2, 3, 4},\n",
       "             10: {0, 2, 5, 6, 7, 10, 11, 12},\n",
       "             5: {0, 5, 10},\n",
       "             6: {6, 7, 10, 11, 12},\n",
       "             7: {6, 7, 10, 11, 12},\n",
       "             11: {6, 7, 10, 11, 12},\n",
       "             12: {6, 7, 10, 11, 12},\n",
       "             8: {2, 8, 9},\n",
       "             9: {2, 8, 9}})"
      ]
     },
     "execution_count": 8,
     "metadata": {},
     "output_type": "execute_result"
    }
   ],
   "source": [
    "dataset.interacted"
   ]
  },
  {
   "cell_type": "code",
   "execution_count": 9,
   "id": "26b4120d-61e5-42df-917e-1cc4ef22e815",
   "metadata": {},
   "outputs": [
    {
     "name": "stdout",
     "output_type": "stream",
     "text": [
      "(tensor(0), tensor(2))\n",
      "(tensor(0), tensor(7))\n",
      "(tensor(0), tensor(11))\n"
     ]
    }
   ],
   "source": [
    "for i in zip(target_items, context_items):\n",
    "    print(i)"
   ]
  },
  {
   "cell_type": "code",
   "execution_count": 10,
   "id": "01a5c23c-bd60-4ed1-8f95-ff82ddf1875b",
   "metadata": {},
   "outputs": [
    {
     "data": {
      "text/plain": [
       "array([0.10225277, 0.07544086, 0.10225277, 0.0448574 , 0.07544086,\n",
       "       0.07544086, 0.0448574 , 0.07544086, 0.07544086, 0.07544086,\n",
       "       0.10225277, 0.07544086, 0.07544086])"
      ]
     },
     "execution_count": 10,
     "metadata": {},
     "output_type": "execute_result"
    }
   ],
   "source": [
    "val_dataset.sampling_probs"
   ]
  },
  {
   "cell_type": "code",
   "execution_count": 11,
   "id": "13c3144f-d88f-44bf-b3ab-64aedd5657bc",
   "metadata": {},
   "outputs": [
    {
     "data": {
      "text/plain": [
       "defaultdict(set,\n",
       "            {0: {0, 1, 2, 3, 4, 5, 10},\n",
       "             1: {0, 1, 2, 3, 4, 9},\n",
       "             2: {0, 1, 2, 3, 4, 8, 9, 10},\n",
       "             3: {0, 1, 2, 3, 4},\n",
       "             4: {0, 1, 2, 3, 4, 9},\n",
       "             10: {0, 2, 5, 6, 7, 10, 11, 12},\n",
       "             5: {0, 5, 10, 11, 12},\n",
       "             6: {6, 7, 10, 11, 12},\n",
       "             7: {6, 7, 8, 10, 11, 12},\n",
       "             11: {5, 6, 7, 10, 11, 12},\n",
       "             12: {5, 6, 7, 10, 11, 12},\n",
       "             8: {2, 7, 8, 9},\n",
       "             9: {1, 2, 4, 8, 9}})"
      ]
     },
     "execution_count": 11,
     "metadata": {},
     "output_type": "execute_result"
    }
   ],
   "source": [
    "val_dataset.interacted"
   ]
  },
  {
   "cell_type": "markdown",
   "id": "c1c908ef-d593-46e3-af40-836cb54bd2fe",
   "metadata": {},
   "source": [
    "## Test no conflicting labels"
   ]
  },
  {
   "cell_type": "code",
   "execution_count": 12,
   "id": "9b50a1df-1ee8-4534-bfd1-c7f17cfcc2ed",
   "metadata": {},
   "outputs": [],
   "source": [
    "dataloader = DataLoader(\n",
    "    dataset,\n",
    "    batch_size=args.batch_size,\n",
    "    drop_last=True,\n",
    "    collate_fn=dataset.collate_fn,\n",
    ")"
   ]
  },
  {
   "cell_type": "code",
   "execution_count": 13,
   "id": "de8a9e89-7bcb-4d8b-b7c4-63061e4a9877",
   "metadata": {
    "scrolled": true
   },
   "outputs": [
    {
     "data": {
      "application/vnd.jupyter.widget-view+json": {
       "model_id": "c8726dcd94cf444bb450e356ad8204a2",
       "version_major": 2,
       "version_minor": 0
      },
      "text/plain": [
       "0it [00:00, ?it/s]"
      ]
     },
     "metadata": {},
     "output_type": "display_data"
    }
   ],
   "source": [
    "target_items = []\n",
    "context_items = []\n",
    "labels = []\n",
    "\n",
    "for i, batch_input in tqdm(enumerate(dataloader)):\n",
    "    _target_items = batch_input[\"target_items\"].cpu().detach().numpy()\n",
    "    _context_items = batch_input[\"context_items\"].cpu().detach().numpy()\n",
    "    _labels = batch_input[\"labels\"].cpu().detach().numpy()\n",
    "\n",
    "    target_items.extend(_target_items)\n",
    "    context_items.extend(_context_items)\n",
    "    labels.extend(_labels)\n",
    "\n",
    "test_df = pd.DataFrame(\n",
    "    {\"target_items\": target_items, \"context_items\": context_items, \"labels\": labels}\n",
    ")\n",
    "assert (\n",
    "    test_df.groupby([\"target_items\", \"context_items\"])[\"labels\"]\n",
    "    .nunique()\n",
    "    .loc[lambda s: s > 1]\n",
    "    .shape[0]\n",
    "    == 0\n",
    "), \"Conflicting labels!\""
   ]
  },
  {
   "cell_type": "markdown",
   "id": "8795ca93-372d-43ca-9cea-bb76c67aabba",
   "metadata": {},
   "source": [
    "# Load data"
   ]
  },
  {
   "cell_type": "code",
   "execution_count": 14,
   "id": "494e14aa-03c1-47d8-8720-e82c12d3cc13",
   "metadata": {},
   "outputs": [],
   "source": [
    "train_df = pd.read_parquet(\"../data/train_features.parquet\")\n",
    "val_df = pd.read_parquet(\"../data/val_features.parquet\")\n",
    "idm = IDMapper().load(\"../data/idm.json\")"
   ]
  },
  {
   "cell_type": "code",
   "execution_count": 15,
   "id": "20a6ebd8-2da5-4647-8773-b1362ad29315",
   "metadata": {
    "scrolled": true
   },
   "outputs": [
    {
     "data": {
      "text/html": [
       "<div>\n",
       "<style scoped>\n",
       "    .dataframe tbody tr th:only-of-type {\n",
       "        vertical-align: middle;\n",
       "    }\n",
       "\n",
       "    .dataframe tbody tr th {\n",
       "        vertical-align: top;\n",
       "    }\n",
       "\n",
       "    .dataframe thead th {\n",
       "        text-align: right;\n",
       "    }\n",
       "</style>\n",
       "<table border=\"1\" class=\"dataframe\">\n",
       "  <thead>\n",
       "    <tr style=\"text-align: right;\">\n",
       "      <th></th>\n",
       "      <th>user_id</th>\n",
       "      <th>parent_asin</th>\n",
       "      <th>rating</th>\n",
       "      <th>timestamp</th>\n",
       "      <th>user_indice</th>\n",
       "      <th>item_indice</th>\n",
       "      <th>main_category</th>\n",
       "      <th>title</th>\n",
       "      <th>description</th>\n",
       "      <th>categories</th>\n",
       "      <th>price</th>\n",
       "      <th>item_sequence</th>\n",
       "    </tr>\n",
       "  </thead>\n",
       "  <tbody>\n",
       "    <tr>\n",
       "      <th>0</th>\n",
       "      <td>AE2AB5V6OZNXHFVEOHBKYPUVQBAA</td>\n",
       "      <td>B0BKSLJMS7</td>\n",
       "      <td>5.0</td>\n",
       "      <td>1635137091196</td>\n",
       "      <td>13808</td>\n",
       "      <td>318</td>\n",
       "      <td>Computers</td>\n",
       "      <td>Logitech G29 Driving Force Racing Wheel and Fl...</td>\n",
       "      <td>[]</td>\n",
       "      <td>[Video Games, PC, Accessories, Controllers, Ra...</td>\n",
       "      <td>352.1</td>\n",
       "      <td>[-1, -1, -1, 3010, 2852, 892, 206, 1298, 3070,...</td>\n",
       "    </tr>\n",
       "    <tr>\n",
       "      <th>1</th>\n",
       "      <td>AE2B3KJWAXWZKZRZX6LIXYAMF5MA</td>\n",
       "      <td>B09CG15F86</td>\n",
       "      <td>2.0</td>\n",
       "      <td>1652370727452</td>\n",
       "      <td>8584</td>\n",
       "      <td>1316</td>\n",
       "      <td>Computers</td>\n",
       "      <td>Razer Doubleshot PBT Keycap Upgrade Set for Me...</td>\n",
       "      <td>[Enjoy durability without cramping your style....</td>\n",
       "      <td>[Video Games, PC, Accessories, Gaming Keyboards]</td>\n",
       "      <td>None</td>\n",
       "      <td>[-1, -1, -1, -1, -1, 3673, 839, 46, 1292, 269]</td>\n",
       "    </tr>\n",
       "    <tr>\n",
       "      <th>2</th>\n",
       "      <td>AE2FHQDFEPXKMKIZG2T3RDQIOOUA</td>\n",
       "      <td>B08DF248LD</td>\n",
       "      <td>4.0</td>\n",
       "      <td>1650551522850</td>\n",
       "      <td>3462</td>\n",
       "      <td>63</td>\n",
       "      <td>Video Games</td>\n",
       "      <td>Xbox Core Wireless Controller – Carbon Black</td>\n",
       "      <td>[Experience the modernized design of the Xbox ...</td>\n",
       "      <td>[]</td>\n",
       "      <td>45.5</td>\n",
       "      <td>[-1, -1, -1, -1, 2309, 2088, 1121, 3826, 1796,...</td>\n",
       "    </tr>\n",
       "    <tr>\n",
       "      <th>3</th>\n",
       "      <td>AE2KSKDHIBIBGNZNOUPVPZI4DEOQ</td>\n",
       "      <td>B0C1K1R6HK</td>\n",
       "      <td>2.0</td>\n",
       "      <td>1652300179778</td>\n",
       "      <td>13459</td>\n",
       "      <td>3183</td>\n",
       "      <td>Video Games</td>\n",
       "      <td>Xbox Series X</td>\n",
       "      <td>[Xbox Series X, the fastest, most powerful Xbo...</td>\n",
       "      <td>[Video Games, Legacy Systems, Xbox Systems, Xb...</td>\n",
       "      <td>499.99</td>\n",
       "      <td>[-1, 2981, 45, 2935, 2654, 3337, 4201, 575, 28...</td>\n",
       "    </tr>\n",
       "    <tr>\n",
       "      <th>4</th>\n",
       "      <td>AE2MZXV6MN7FGQAWXW3QRCVLTOEQ</td>\n",
       "      <td>B0BL65X86R</td>\n",
       "      <td>5.0</td>\n",
       "      <td>1655492544369</td>\n",
       "      <td>1990</td>\n",
       "      <td>4142</td>\n",
       "      <td>Video Games</td>\n",
       "      <td>$25 PlayStation Store Gift Card [Digital Code]</td>\n",
       "      <td>[Redeem against anything on PlayStation Store....</td>\n",
       "      <td>[Video Games, Online Game Services, PlayStatio...</td>\n",
       "      <td>25.0</td>\n",
       "      <td>[-1, -1, -1, 1332, 1709, 1068, 2293, 4250, 290...</td>\n",
       "    </tr>\n",
       "    <tr>\n",
       "      <th>...</th>\n",
       "      <td>...</td>\n",
       "      <td>...</td>\n",
       "      <td>...</td>\n",
       "      <td>...</td>\n",
       "      <td>...</td>\n",
       "      <td>...</td>\n",
       "      <td>...</td>\n",
       "      <td>...</td>\n",
       "      <td>...</td>\n",
       "      <td>...</td>\n",
       "      <td>...</td>\n",
       "      <td>...</td>\n",
       "    </tr>\n",
       "    <tr>\n",
       "      <th>957</th>\n",
       "      <td>AHZKTZHKO3Z6UYWEYMH4YL52K3LA</td>\n",
       "      <td>B0716CXJ1R</td>\n",
       "      <td>5.0</td>\n",
       "      <td>1636865685568</td>\n",
       "      <td>9989</td>\n",
       "      <td>853</td>\n",
       "      <td>Video Games</td>\n",
       "      <td>Darksiders III - Collector's Edition - Xbox One</td>\n",
       "      <td>[]</td>\n",
       "      <td>[Video Games, Xbox One, Games]</td>\n",
       "      <td>149.99</td>\n",
       "      <td>[741, 4427, 664, 2712, 2086, 2299, 949, 611, 4...</td>\n",
       "    </tr>\n",
       "    <tr>\n",
       "      <th>958</th>\n",
       "      <td>AHZKTZHKO3Z6UYWEYMH4YL52K3LA</td>\n",
       "      <td>B07SM7G9CN</td>\n",
       "      <td>5.0</td>\n",
       "      <td>1636865734529</td>\n",
       "      <td>9989</td>\n",
       "      <td>4431</td>\n",
       "      <td>Video Games</td>\n",
       "      <td>Donkey Kong Country: Tropical Freeze - Nintend...</td>\n",
       "      <td>[Barrel-blast into a critically acclaimed Donk...</td>\n",
       "      <td>[Video Games, Nintendo Switch, Games]</td>\n",
       "      <td>52.49</td>\n",
       "      <td>[4427, 664, 2712, 2086, 2299, 949, 611, 4352, ...</td>\n",
       "    </tr>\n",
       "    <tr>\n",
       "      <th>959</th>\n",
       "      <td>AHZKTZHKO3Z6UYWEYMH4YL52K3LA</td>\n",
       "      <td>B081W1VBKN</td>\n",
       "      <td>5.0</td>\n",
       "      <td>1644053506803</td>\n",
       "      <td>9989</td>\n",
       "      <td>3222</td>\n",
       "      <td>Video Games</td>\n",
       "      <td>Darksiders 2: Deathinitive Edition - Xbox One ...</td>\n",
       "      <td>[What starts with War, ends in Death. Awakened...</td>\n",
       "      <td>[Video Games, Xbox One, Games]</td>\n",
       "      <td>14.99</td>\n",
       "      <td>[664, 2712, 2086, 2299, 949, 611, 4352, 1900, ...</td>\n",
       "    </tr>\n",
       "    <tr>\n",
       "      <th>960</th>\n",
       "      <td>AHZLVBGFP4FNOJGC33CZQSHUQXWA</td>\n",
       "      <td>B07H53PZY8</td>\n",
       "      <td>4.0</td>\n",
       "      <td>1634514696799</td>\n",
       "      <td>4179</td>\n",
       "      <td>1645</td>\n",
       "      <td>Video Games</td>\n",
       "      <td>Mudrunner - American Wilds Edition - PlayStati...</td>\n",
       "      <td>[Mud Runner - American Wilds is the ultimate v...</td>\n",
       "      <td>[Video Games, PlayStation 4, Games]</td>\n",
       "      <td>23.98</td>\n",
       "      <td>[4317, 2926, 4329, 4188, 1203, 4197, 4447, 154...</td>\n",
       "    </tr>\n",
       "    <tr>\n",
       "      <th>961</th>\n",
       "      <td>AHZWAGBHK2AMRPHLLXA4EBPSFCZA</td>\n",
       "      <td>B07VHHPJBV</td>\n",
       "      <td>1.0</td>\n",
       "      <td>1650335578396</td>\n",
       "      <td>18406</td>\n",
       "      <td>200</td>\n",
       "      <td>Computers</td>\n",
       "      <td>Redragon M602 Griffin RGB Gaming Mouse, RGB Sp...</td>\n",
       "      <td>[Redragon M602 (White) GRIFFIN High-Precision ...</td>\n",
       "      <td>[Video Games, PC, Accessories, Gaming Mice]</td>\n",
       "      <td>19.99</td>\n",
       "      <td>[-1, -1, 3422, 3457, 4377, 736, 309, 587, 846,...</td>\n",
       "    </tr>\n",
       "  </tbody>\n",
       "</table>\n",
       "<p>962 rows × 12 columns</p>\n",
       "</div>"
      ],
      "text/plain": [
       "                          user_id parent_asin  rating      timestamp  \\\n",
       "0    AE2AB5V6OZNXHFVEOHBKYPUVQBAA  B0BKSLJMS7     5.0  1635137091196   \n",
       "1    AE2B3KJWAXWZKZRZX6LIXYAMF5MA  B09CG15F86     2.0  1652370727452   \n",
       "2    AE2FHQDFEPXKMKIZG2T3RDQIOOUA  B08DF248LD     4.0  1650551522850   \n",
       "3    AE2KSKDHIBIBGNZNOUPVPZI4DEOQ  B0C1K1R6HK     2.0  1652300179778   \n",
       "4    AE2MZXV6MN7FGQAWXW3QRCVLTOEQ  B0BL65X86R     5.0  1655492544369   \n",
       "..                            ...         ...     ...            ...   \n",
       "957  AHZKTZHKO3Z6UYWEYMH4YL52K3LA  B0716CXJ1R     5.0  1636865685568   \n",
       "958  AHZKTZHKO3Z6UYWEYMH4YL52K3LA  B07SM7G9CN     5.0  1636865734529   \n",
       "959  AHZKTZHKO3Z6UYWEYMH4YL52K3LA  B081W1VBKN     5.0  1644053506803   \n",
       "960  AHZLVBGFP4FNOJGC33CZQSHUQXWA  B07H53PZY8     4.0  1634514696799   \n",
       "961  AHZWAGBHK2AMRPHLLXA4EBPSFCZA  B07VHHPJBV     1.0  1650335578396   \n",
       "\n",
       "     user_indice  item_indice main_category  \\\n",
       "0          13808          318     Computers   \n",
       "1           8584         1316     Computers   \n",
       "2           3462           63   Video Games   \n",
       "3          13459         3183   Video Games   \n",
       "4           1990         4142   Video Games   \n",
       "..           ...          ...           ...   \n",
       "957         9989          853   Video Games   \n",
       "958         9989         4431   Video Games   \n",
       "959         9989         3222   Video Games   \n",
       "960         4179         1645   Video Games   \n",
       "961        18406          200     Computers   \n",
       "\n",
       "                                                 title  \\\n",
       "0    Logitech G29 Driving Force Racing Wheel and Fl...   \n",
       "1    Razer Doubleshot PBT Keycap Upgrade Set for Me...   \n",
       "2         Xbox Core Wireless Controller – Carbon Black   \n",
       "3                                        Xbox Series X   \n",
       "4       $25 PlayStation Store Gift Card [Digital Code]   \n",
       "..                                                 ...   \n",
       "957    Darksiders III - Collector's Edition - Xbox One   \n",
       "958  Donkey Kong Country: Tropical Freeze - Nintend...   \n",
       "959  Darksiders 2: Deathinitive Edition - Xbox One ...   \n",
       "960  Mudrunner - American Wilds Edition - PlayStati...   \n",
       "961  Redragon M602 Griffin RGB Gaming Mouse, RGB Sp...   \n",
       "\n",
       "                                           description  \\\n",
       "0                                                   []   \n",
       "1    [Enjoy durability without cramping your style....   \n",
       "2    [Experience the modernized design of the Xbox ...   \n",
       "3    [Xbox Series X, the fastest, most powerful Xbo...   \n",
       "4    [Redeem against anything on PlayStation Store....   \n",
       "..                                                 ...   \n",
       "957                                                 []   \n",
       "958  [Barrel-blast into a critically acclaimed Donk...   \n",
       "959  [What starts with War, ends in Death. Awakened...   \n",
       "960  [Mud Runner - American Wilds is the ultimate v...   \n",
       "961  [Redragon M602 (White) GRIFFIN High-Precision ...   \n",
       "\n",
       "                                            categories   price  \\\n",
       "0    [Video Games, PC, Accessories, Controllers, Ra...   352.1   \n",
       "1     [Video Games, PC, Accessories, Gaming Keyboards]    None   \n",
       "2                                                   []    45.5   \n",
       "3    [Video Games, Legacy Systems, Xbox Systems, Xb...  499.99   \n",
       "4    [Video Games, Online Game Services, PlayStatio...    25.0   \n",
       "..                                                 ...     ...   \n",
       "957                     [Video Games, Xbox One, Games]  149.99   \n",
       "958              [Video Games, Nintendo Switch, Games]   52.49   \n",
       "959                     [Video Games, Xbox One, Games]   14.99   \n",
       "960                [Video Games, PlayStation 4, Games]   23.98   \n",
       "961        [Video Games, PC, Accessories, Gaming Mice]   19.99   \n",
       "\n",
       "                                         item_sequence  \n",
       "0    [-1, -1, -1, 3010, 2852, 892, 206, 1298, 3070,...  \n",
       "1       [-1, -1, -1, -1, -1, 3673, 839, 46, 1292, 269]  \n",
       "2    [-1, -1, -1, -1, 2309, 2088, 1121, 3826, 1796,...  \n",
       "3    [-1, 2981, 45, 2935, 2654, 3337, 4201, 575, 28...  \n",
       "4    [-1, -1, -1, 1332, 1709, 1068, 2293, 4250, 290...  \n",
       "..                                                 ...  \n",
       "957  [741, 4427, 664, 2712, 2086, 2299, 949, 611, 4...  \n",
       "958  [4427, 664, 2712, 2086, 2299, 949, 611, 4352, ...  \n",
       "959  [664, 2712, 2086, 2299, 949, 611, 4352, 1900, ...  \n",
       "960  [4317, 2926, 4329, 4188, 1203, 4197, 4447, 154...  \n",
       "961  [-1, -1, 3422, 3457, 4377, 736, 309, 587, 846,...  \n",
       "\n",
       "[962 rows x 12 columns]"
      ]
     },
     "execution_count": 15,
     "metadata": {},
     "output_type": "execute_result"
    }
   ],
   "source": [
    "val_df"
   ]
  },
  {
   "cell_type": "code",
   "execution_count": 16,
   "id": "a7fe194e-94a7-4f2b-bef4-22db0a223149",
   "metadata": {},
   "outputs": [],
   "source": [
    "def get_sequence(df, user_col=args.user_col, item_col=args.item_col):\n",
    "    return (\n",
    "        df.groupby(user_col)[item_col]\n",
    "        .agg(list)\n",
    "        .loc[lambda s: s.apply(len) > 1]  # Remove sequence with only one item\n",
    "    ).values.tolist()"
   ]
  },
  {
   "cell_type": "code",
   "execution_count": 17,
   "id": "27ce7e75-4903-4d75-9c70-2da337864c26",
   "metadata": {
    "scrolled": true
   },
   "outputs": [
    {
     "data": {
      "text/plain": [
       "19578"
      ]
     },
     "execution_count": 17,
     "metadata": {},
     "output_type": "execute_result"
    }
   ],
   "source": [
    "item_sequence = train_df.pipe(get_sequence)\n",
    "len(item_sequence)"
   ]
  },
  {
   "cell_type": "code",
   "execution_count": 18,
   "id": "b23939a8-ee72-4b93-82d2-a83423a3ff01",
   "metadata": {
    "scrolled": true
   },
   "outputs": [
    {
     "data": {
      "text/plain": [
       "157"
      ]
     },
     "execution_count": 18,
     "metadata": {},
     "output_type": "execute_result"
    }
   ],
   "source": [
    "val_item_sequence = val_df.pipe(get_sequence)\n",
    "len(val_item_sequence)"
   ]
  },
  {
   "cell_type": "markdown",
   "id": "832beb3a-e6dd-46a0-9d88-579862bc2be5",
   "metadata": {},
   "source": [
    "## Persist"
   ]
  },
  {
   "cell_type": "code",
   "execution_count": 19,
   "id": "a30d14cf-c33b-40b3-a981-380a483dd837",
   "metadata": {
    "scrolled": true
   },
   "outputs": [
    {
     "name": "stderr",
     "output_type": "stream",
     "text": [
      "\u001b[32m2024-10-20 00:45:13.244\u001b[0m | \u001b[1mINFO    \u001b[0m | \u001b[36m__main__\u001b[0m:\u001b[36m<module>\u001b[0m:\u001b[36m11\u001b[0m - \u001b[1mlen(item_sequence)=19,578 len(val_item_sequence)=157\u001b[0m\n"
     ]
    }
   ],
   "source": [
    "sequences_fp = \"../data/item_sequence.jsonl\"\n",
    "val_sequences_fp = \"../data/val_item_sequence.jsonl\"\n",
    "\n",
    "with open(sequences_fp, \"w\") as f:\n",
    "    for sequence in item_sequence:\n",
    "        f.write(json.dumps(sequence) + \"\\n\")\n",
    "with open(val_sequences_fp, \"w\") as f:\n",
    "    for sequence in val_item_sequence:\n",
    "        f.write(json.dumps(sequence) + \"\\n\")\n",
    "\n",
    "logger.info(f\"{len(item_sequence)=:,.0f} {len(val_item_sequence)=:,.0f}\")"
   ]
  },
  {
   "cell_type": "markdown",
   "id": "4660d298-1bd0-4437-a55b-1130718795c1",
   "metadata": {},
   "source": [
    "## Persist a small data for overfitting"
   ]
  },
  {
   "cell_type": "code",
   "execution_count": 20,
   "id": "6bc58200-aa9e-4965-9944-22fdce6e130d",
   "metadata": {},
   "outputs": [],
   "source": [
    "num_sequences = 2\n",
    "batch_item_sequence = item_sequence[:num_sequences]\n",
    "batch_sequences_fp = \"../data/batch_item_sequence.jsonl\"\n",
    "\n",
    "with open(batch_sequences_fp, \"w\") as f:\n",
    "    for sequence in batch_item_sequence:\n",
    "        f.write(json.dumps(sequence) + \"\\n\")"
   ]
  },
  {
   "cell_type": "markdown",
   "id": "3b0ec31a-4a48-49c8-af9d-9d23c98a7d90",
   "metadata": {},
   "source": [
    "# Run with all data"
   ]
  },
  {
   "cell_type": "code",
   "execution_count": 21,
   "id": "b5523eb7-e47e-4ca2-9cba-efe0e7ad7499",
   "metadata": {},
   "outputs": [
    {
     "name": "stderr",
     "output_type": "stream",
     "text": [
      "\u001b[32m2024-10-20 00:45:13.265\u001b[0m | \u001b[1mINFO    \u001b[0m | \u001b[36msrc.skipgram.dataset\u001b[0m:\u001b[36m__init__\u001b[0m:\u001b[36m62\u001b[0m - \u001b[1mProcessing sequences to build interaction data...\u001b[0m\n"
     ]
    },
    {
     "data": {
      "application/vnd.jupyter.widget-view+json": {
       "model_id": "406b7a53d7d043b4965bee862767e613",
       "version_major": 2,
       "version_minor": 0
      },
      "text/plain": [
       "Building interactions: 0it [00:00, ?it/s]"
      ]
     },
     "metadata": {},
     "output_type": "display_data"
    },
    {
     "name": "stdout",
     "output_type": "stream",
     "text": [
      "tensor([394, 394, 394, 394, 394, 394]) tensor([3760,  547,  524, 2360, 3228, 2516]) tensor([1., 0., 0., 0., 0., 0.])\n"
     ]
    }
   ],
   "source": [
    "# Create dataset with frequency-based negative sampling\n",
    "dataset = SkipGramDataset(\n",
    "    sequences_fp,\n",
    "    window_size=args.window_size,\n",
    "    negative_samples=args.num_negative_samples,\n",
    "    id_to_idx=idm.item_to_index,\n",
    ")\n",
    "\n",
    "for inp in dataset:\n",
    "    target_items = inp[\"target_items\"]\n",
    "    context_items = inp[\"context_items\"]\n",
    "    labels = inp[\"labels\"]\n",
    "    print(target_items, context_items, labels)\n",
    "    break"
   ]
  },
  {
   "cell_type": "code",
   "execution_count": 22,
   "id": "159cc17e-7b60-491f-8f30-8e941f9c6929",
   "metadata": {},
   "outputs": [],
   "source": [
    "batch_size = len(item_sequence[0])  # for easier testing\n",
    "\n",
    "dataloader = DataLoader(\n",
    "    dataset,\n",
    "    batch_size=batch_size,\n",
    "    drop_last=True,\n",
    "    collate_fn=dataset.collate_fn,\n",
    ")"
   ]
  },
  {
   "cell_type": "code",
   "execution_count": 23,
   "id": "2be4725c-f513-4655-9803-932ccc200ebc",
   "metadata": {
    "scrolled": true
   },
   "outputs": [],
   "source": [
    "# Test index mapping matches input id_mapper\n",
    "target_items_idx_dataloader = set()\n",
    "for batch_input in dataloader:\n",
    "    target_items_idx_dataloader.update(batch_input[\"target_items\"].detach().numpy())\n",
    "    break\n",
    "\n",
    "targets_items_idx_item_sequence = set()\n",
    "for item_id in item_sequence[0]:\n",
    "    idx = idm.item_to_index[item_id]\n",
    "    targets_items_idx_item_sequence.add(idx)\n",
    "\n",
    "assert target_items_idx_dataloader == targets_items_idx_item_sequence"
   ]
  },
  {
   "cell_type": "code",
   "execution_count": 24,
   "id": "6333ab2c-14f9-4d44-bdaa-20f00c9d8c6c",
   "metadata": {},
   "outputs": [
    {
     "name": "stderr",
     "output_type": "stream",
     "text": [
      "\u001b[32m2024-10-20 00:45:13.779\u001b[0m | \u001b[1mINFO    \u001b[0m | \u001b[36msrc.skipgram.dataset\u001b[0m:\u001b[36m__init__\u001b[0m:\u001b[36m62\u001b[0m - \u001b[1mProcessing sequences to build interaction data...\u001b[0m\n"
     ]
    },
    {
     "data": {
      "application/vnd.jupyter.widget-view+json": {
       "model_id": "abafe3f370b647efba96f68906065c6a",
       "version_major": 2,
       "version_minor": 0
      },
      "text/plain": [
       "Building interactions: 0it [00:00, ?it/s]"
      ]
     },
     "metadata": {},
     "output_type": "display_data"
    }
   ],
   "source": [
    "val_dataset = SkipGramDataset(\n",
    "    val_sequences_fp,\n",
    "    interacted=dataset.interacted,\n",
    "    item_freq=dataset.item_freq,\n",
    "    window_size=args.window_size,\n",
    "    negative_samples=args.num_negative_samples,\n",
    "    id_to_idx=idm.item_to_index,\n",
    ")\n",
    "val_dataloader = DataLoader(\n",
    "    val_dataset,\n",
    "    batch_size=args.batch_size,\n",
    "    shuffle=False,\n",
    "    drop_last=True,\n",
    "    collate_fn=val_dataset.collate_fn,\n",
    ")"
   ]
  },
  {
   "cell_type": "code",
   "execution_count": 25,
   "id": "b3f32e26-bb25-4f53-a932-c5aa169fa496",
   "metadata": {},
   "outputs": [
    {
     "name": "stdout",
     "output_type": "stream",
     "text": [
      "{'target_items': tensor([3070, 3070, 3070, 3070, 3070, 3070,  892,  892,  892,  892,  892,  892,\n",
      "        3266, 3266, 3266, 3266, 3266, 3266,  483,  483,  483,  483,  483,  483,\n",
      "         483,  483,  483,  483,  483,  483,  611,  611,  611,  611,  611,  611,\n",
      "         611,  611,  611,  611,  611,  611,  556,  556,  556,  556,  556,  556,\n",
      "         556,  556,  556,  556,  556,  556, 1589, 1589, 1589, 1589, 1589, 1589,\n",
      "        1589, 1589, 1589, 1589, 1589, 1589, 1515, 1515, 1515, 1515, 1515, 1515,\n",
      "        3032, 3032, 3032, 3032, 3032, 3032,  142,  142,  142,  142,  142,  142,\n",
      "         142,  142,  142,  142,  142,  142, 2067, 2067, 2067, 2067, 2067, 2067,\n",
      "        2136, 2136, 2136, 2136, 2136, 2136, 2075, 2075, 2075, 2075, 2075, 2075,\n",
      "        3955, 3955, 3955, 3955, 3955, 3955,  756,  756,  756,  756,  756,  756,\n",
      "        2689, 2689, 2689, 2689, 2689, 2689]), 'context_items': tensor([ 892,  749, 4522, 3117, 1689, 1817, 3070, 4198, 4432, 2420, 4284, 2509,\n",
      "         483,  341, 2867, 1117, 3903,  607, 3266,  611, 3313, 1409,    9, 3917,\n",
      "        4627, 3766, 1270, 1231, 2046, 3764,  483,  556, 3552, 1686, 1620, 2876,\n",
      "        3254, 1614, 1147, 4241, 2150, 4621,  611, 1589,  179, 3552,  402,  815,\n",
      "        2953, 3995,  294, 2031, 3610, 4476,  556, 1515, 1898, 1498, 3119, 2480,\n",
      "        2989,  621, 3598, 3186,  713, 1757, 1589, 3869, 2741, 2222, 1798, 3407,\n",
      "         142, 1713, 2466,  508,  351, 1010, 3032, 2067, 3596, 1840, 2343,  754,\n",
      "        1402, 3563,  548, 2804, 1814, 2668,  142, 2153, 1579, 4383, 2228, 3597,\n",
      "        2075,  221,  165, 2014, 3842, 3687, 2136, 1703, 1167, 1999, 3486, 2388,\n",
      "         756,   81, 4377, 3760, 2754, 1241, 3955, 1943,   56, 2479, 3220, 1276,\n",
      "        1166, 2149,   77,  378, 1912,   59]), 'labels': tensor([1., 0., 0., 0., 0., 0., 1., 0., 0., 0., 0., 0., 1., 0., 0., 0., 0., 0.,\n",
      "        1., 1., 0., 0., 0., 0., 0., 0., 0., 0., 0., 0., 1., 1., 0., 0., 0., 0.,\n",
      "        0., 0., 0., 0., 0., 0., 1., 1., 0., 0., 0., 0., 0., 0., 0., 0., 0., 0.,\n",
      "        1., 1., 0., 0., 0., 0., 0., 0., 0., 0., 0., 0., 1., 0., 0., 0., 0., 0.,\n",
      "        1., 0., 0., 0., 0., 0., 1., 1., 0., 0., 0., 0., 0., 0., 0., 0., 0., 0.,\n",
      "        1., 0., 0., 0., 0., 0., 1., 0., 0., 0., 0., 0., 1., 0., 0., 0., 0., 0.,\n",
      "        1., 0., 0., 0., 0., 0., 1., 0., 0., 0., 0., 0., 1., 0., 0., 0., 0., 0.])}\n"
     ]
    }
   ],
   "source": [
    "for batch_input in val_dataloader:\n",
    "    print(batch_input)\n",
    "    break"
   ]
  },
  {
   "cell_type": "code",
   "execution_count": null,
   "id": "86f8a882-dea1-4bef-b923-023661118d31",
   "metadata": {},
   "outputs": [],
   "source": []
  }
 ],
 "metadata": {
  "kernelspec": {
   "display_name": "Python 3 (ipykernel)",
   "language": "python",
   "name": "python3"
  },
  "language_info": {
   "codemirror_mode": {
    "name": "ipython",
    "version": 3
   },
   "file_extension": ".py",
   "mimetype": "text/x-python",
   "name": "python",
   "nbconvert_exporter": "python",
   "pygments_lexer": "ipython3",
   "version": "3.11.9"
  }
 },
 "nbformat": 4,
 "nbformat_minor": 5
}
