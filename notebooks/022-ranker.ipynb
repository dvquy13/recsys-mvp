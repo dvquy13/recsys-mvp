{
 "cells": [
  {
   "cell_type": "markdown",
   "id": "3bf1577c-6f3b-4b1c-a848-8f5e45ff8111",
   "metadata": {},
   "source": [
    "# Ranker that can takes into accound different features"
   ]
  },
  {
   "cell_type": "markdown",
   "id": "9309e017-0449-46ee-b7ca-4c4bcadeedf6",
   "metadata": {},
   "source": [
    "# Set up"
   ]
  },
  {
   "cell_type": "code",
   "execution_count": 1,
   "id": "3c8f6e8d-f776-4d39-898c-d783c5ae3407",
   "metadata": {},
   "outputs": [],
   "source": [
    "%load_ext autoreload\n",
    "%autoreload 2\n",
    "%load_ext tensorboard"
   ]
  },
  {
   "cell_type": "code",
   "execution_count": 2,
   "id": "35b3499d-dc9c-405a-8714-a26341b581e1",
   "metadata": {
    "editable": true,
    "slideshow": {
     "slide_type": ""
    },
    "tags": []
   },
   "outputs": [],
   "source": [
    "import os\n",
    "import sys\n",
    "from typing import List\n",
    "\n",
    "import dill\n",
    "import lightning as L\n",
    "import numpy as np\n",
    "import pandas as pd\n",
    "import torch\n",
    "from tqdm.auto import tqdm\n",
    "from dotenv import load_dotenv\n",
    "from lightning.pytorch.callbacks import ModelCheckpoint\n",
    "from lightning.pytorch.callbacks.early_stopping import EarlyStopping\n",
    "from lightning.pytorch.loggers import MLFlowLogger\n",
    "from loguru import logger\n",
    "from mlflow.models.signature import infer_signature\n",
    "from pydantic import BaseModel\n",
    "from torch.utils.data import DataLoader\n",
    "from qdrant_client import QdrantClient\n",
    "\n",
    "import mlflow\n",
    "\n",
    "load_dotenv()\n",
    "\n",
    "sys.path.insert(0, \"..\")\n",
    "\n",
    "from src.data_prep_utils import chunk_transform\n",
    "from src.dataset import UserItemBinaryDFDataset\n",
    "from src.id_mapper import IDMapper\n",
    "from src.ranker.inference import RankerInferenceWrapper\n",
    "from src.ranker.model import Ranker\n",
    "from src.ranker.trainer import LitRanker\n",
    "from src.ann import AnnIndex\n",
    "from src.viz import blueq_colors"
   ]
  },
  {
   "cell_type": "markdown",
   "id": "fd804021-3424-48e0-973a-e662a72db544",
   "metadata": {},
   "source": [
    "# Controller"
   ]
  },
  {
   "cell_type": "code",
   "execution_count": 3,
   "id": "ce522d9e-f35c-4cc5-a71e-68447956b31f",
   "metadata": {
    "editable": true,
    "slideshow": {
     "slide_type": ""
    },
    "tags": [
     "parameters"
    ]
   },
   "outputs": [],
   "source": [
    "max_epochs = 100"
   ]
  },
  {
   "cell_type": "code",
   "execution_count": 46,
   "id": "ea4e9a93-5b6a-4dec-97f0-b9aa3383c64d",
   "metadata": {
    "scrolled": true
   },
   "outputs": [
    {
     "name": "stderr",
     "output_type": "stream",
     "text": [
      "\u001b[32m2024-10-27 23:18:09.018\u001b[0m | \u001b[1mINFO    \u001b[0m | \u001b[36m__main__\u001b[0m:\u001b[36minit\u001b[0m:\u001b[36m69\u001b[0m - \u001b[1mSetting up MLflow experiment RecSys MVP - Ranker - run 017-item-popularity...\u001b[0m\n"
     ]
    },
    {
     "name": "stdout",
     "output_type": "stream",
     "text": [
      "{\n",
      "  \"testing\": false,\n",
      "  \"log_to_mlflow\": true,\n",
      "  \"experiment_name\": \"RecSys MVP - Ranker\",\n",
      "  \"run_name\": \"017-item-popularity\",\n",
      "  \"notebook_persist_dp\": \"/Users/dvq/frostmourne/recsys-mvp/notebooks/data/017-item-popularity\",\n",
      "  \"random_seed\": 41,\n",
      "  \"device\": null,\n",
      "  \"item_metadata_pipeline_fp\": \"../data/item_metadata_pipeline.dill\",\n",
      "  \"qdrant_url\": \"localhost:6333\",\n",
      "  \"qdrant_collection_name\": \"item_desc_sbert\",\n",
      "  \"max_epochs\": 100,\n",
      "  \"batch_size\": 128,\n",
      "  \"tfm_chunk_size\": 10000,\n",
      "  \"neg_to_pos_ratio\": 3,\n",
      "  \"user_col\": \"user_id\",\n",
      "  \"item_col\": \"parent_asin\",\n",
      "  \"rating_col\": \"rating\",\n",
      "  \"timestamp_col\": \"timestamp\",\n",
      "  \"item_feature_cols\": [\n",
      "    \"main_category\",\n",
      "    \"categories\",\n",
      "    \"price\",\n",
      "    \"parent_asin_rating_cnt_365d\",\n",
      "    \"parent_asin_rating_avg_prev_rating_365d\",\n",
      "    \"parent_asin_rating_cnt_90d\",\n",
      "    \"parent_asin_rating_avg_prev_rating_90d\",\n",
      "    \"parent_asin_rating_cnt_30d\",\n",
      "    \"parent_asin_rating_avg_prev_rating_30d\",\n",
      "    \"parent_asin_rating_cnt_7d\",\n",
      "    \"parent_asin_rating_avg_prev_rating_7d\"\n",
      "  ],\n",
      "  \"top_K\": 100,\n",
      "  \"top_k\": 10,\n",
      "  \"embedding_dim\": 128,\n",
      "  \"dropout\": 0.3,\n",
      "  \"early_stopping_patience\": 5,\n",
      "  \"learning_rate\": 0.0003,\n",
      "  \"l2_reg\": 0.0001,\n",
      "  \"mlf_item2vec_model_name\": \"item2vec\",\n",
      "  \"mlf_model_name\": \"ranker\",\n",
      "  \"min_roc_auc\": 0.7,\n",
      "  \"best_checkpoint_path\": null\n",
      "}\n"
     ]
    }
   ],
   "source": [
    "class Args(BaseModel):\n",
    "    testing: bool = False\n",
    "    log_to_mlflow: bool = True\n",
    "    experiment_name: str = \"RecSys MVP - Ranker\"\n",
    "    run_name: str = \"017-item-popularity\"\n",
    "    notebook_persist_dp: str = None\n",
    "    random_seed: int = 41\n",
    "    device: str = None\n",
    "\n",
    "    item_metadata_pipeline_fp: str = \"../data/item_metadata_pipeline.dill\"\n",
    "    qdrant_url: str = None\n",
    "    qdrant_collection_name: str = \"item_desc_sbert\"\n",
    "\n",
    "    max_epochs: int = max_epochs\n",
    "    batch_size: int = 128\n",
    "    tfm_chunk_size: int = 10000\n",
    "    neg_to_pos_ratio: int = 3\n",
    "\n",
    "    user_col: str = \"user_id\"\n",
    "    item_col: str = \"parent_asin\"\n",
    "    rating_col: str = \"rating\"\n",
    "    timestamp_col: str = \"timestamp\"\n",
    "    item_feature_cols: List[str] = [\n",
    "        \"main_category\",\n",
    "        \"categories\",\n",
    "        \"price\",\n",
    "        \"parent_asin_rating_cnt_365d\",\n",
    "        \"parent_asin_rating_avg_prev_rating_365d\",\n",
    "        \"parent_asin_rating_cnt_90d\",\n",
    "        \"parent_asin_rating_avg_prev_rating_90d\",\n",
    "        \"parent_asin_rating_cnt_30d\",\n",
    "        \"parent_asin_rating_avg_prev_rating_30d\",\n",
    "        \"parent_asin_rating_cnt_7d\",\n",
    "        \"parent_asin_rating_avg_prev_rating_7d\",\n",
    "    ]\n",
    "\n",
    "    top_K: int = 100\n",
    "    top_k: int = 10\n",
    "\n",
    "    embedding_dim: int = 128\n",
    "    dropout: float = 0.3\n",
    "    early_stopping_patience: int = 5\n",
    "    learning_rate: float = 0.0003\n",
    "    l2_reg: float = 1e-4\n",
    "\n",
    "    mlf_item2vec_model_name: str = \"item2vec\"\n",
    "    mlf_model_name: str = \"ranker\"\n",
    "    min_roc_auc: float = 0.7\n",
    "\n",
    "    best_checkpoint_path: str = None\n",
    "\n",
    "    def init(self):\n",
    "        self.notebook_persist_dp = os.path.abspath(f\"data/{self.run_name}\")\n",
    "        os.makedirs(self.notebook_persist_dp, exist_ok=True)\n",
    "\n",
    "        if not (qdrant_host := os.getenv(\"QDRANT_HOST\")):\n",
    "            raise Exception(f\"Environment variable QDRANT_HOST is not set.\")\n",
    "\n",
    "        qdrant_port = os.getenv(\"QDRANT_PORT\")\n",
    "        self.qdrant_url = f\"{qdrant_host}:{qdrant_port}\"\n",
    "        \n",
    "        if not (mlflow_uri := os.environ.get(\"MLFLOW_TRACKING_URI\")):\n",
    "            logger.warning(\n",
    "                f\"Environment variable MLFLOW_TRACKING_URI is not set. Setting self.log_to_mlflow to false.\"\n",
    "            )\n",
    "            self.log_to_mlflow = False\n",
    "\n",
    "        if self.log_to_mlflow:\n",
    "            logger.info(\n",
    "                f\"Setting up MLflow experiment {self.experiment_name} - run {self.run_name}...\"\n",
    "            )\n",
    "            self._mlf_logger = MLFlowLogger(\n",
    "                experiment_name=self.experiment_name,\n",
    "                run_name=self.run_name,\n",
    "                tracking_uri=mlflow_uri,\n",
    "                log_model=True,\n",
    "            )\n",
    "\n",
    "        return self\n",
    "\n",
    "\n",
    "args = Args().init()\n",
    "\n",
    "print(args.model_dump_json(indent=2))"
   ]
  },
  {
   "cell_type": "markdown",
   "id": "a5acedcb-89e6-41c6-8969-bf3437fc7898",
   "metadata": {},
   "source": [
    "# Implement"
   ]
  },
  {
   "cell_type": "code",
   "execution_count": 5,
   "id": "5a34cb5b-c7db-4b95-952b-5f4cb2e1a04d",
   "metadata": {},
   "outputs": [],
   "source": [
    "def init_model(\n",
    "    n_users, n_items, embedding_dim, item_feature_size, dropout, item_embedding=None\n",
    "):\n",
    "    model = Ranker(\n",
    "        n_users,\n",
    "        n_items,\n",
    "        embedding_dim,\n",
    "        item_feature_size=item_feature_size,\n",
    "        dropout=dropout,\n",
    "        item_embedding=item_embedding,\n",
    "    )\n",
    "    return model"
   ]
  },
  {
   "cell_type": "markdown",
   "id": "c49b92fb-3b4c-482f-a584-62288873d8c3",
   "metadata": {},
   "source": [
    "## Load pretrained Item2Vec embeddings"
   ]
  },
  {
   "cell_type": "code",
   "execution_count": 6,
   "id": "35cfc84a-75bb-4973-b619-194cc8698ee2",
   "metadata": {
    "scrolled": true
   },
   "outputs": [
    {
     "data": {
      "application/vnd.jupyter.widget-view+json": {
       "model_id": "4a194437616c446697c7442f77fe5f84",
       "version_major": 2,
       "version_minor": 0
      },
      "text/plain": [
       "Downloading artifacts:   0%|          | 0/8 [00:00<?, ?it/s]"
      ]
     },
     "metadata": {},
     "output_type": "display_data"
    }
   ],
   "source": [
    "mlf_client = mlflow.MlflowClient()\n",
    "model = mlflow.pyfunc.load_model(\n",
    "    model_uri=f\"models:/{args.mlf_item2vec_model_name}@champion\"\n",
    ")\n",
    "skipgram_model = model.unwrap_python_model().model\n",
    "embedding_0 = skipgram_model.embeddings(torch.tensor(0))\n",
    "embedding_dim = embedding_0.size()[0]\n",
    "id_mapping = model.unwrap_python_model().id_mapping\n",
    "pretrained_item_embedding = skipgram_model.embeddings"
   ]
  },
  {
   "cell_type": "code",
   "execution_count": 7,
   "id": "f3baa82d-859d-4414-8e19-4c7d92750fa3",
   "metadata": {},
   "outputs": [],
   "source": [
    "assert (\n",
    "    pretrained_item_embedding.embedding_dim == args.embedding_dim\n",
    "), \"Mismatch pretrained item_embedding dimension\""
   ]
  },
  {
   "cell_type": "markdown",
   "id": "a43bc0b9-9d56-4cb2-b821-61dd9b9858b1",
   "metadata": {},
   "source": [
    "## Load vectorized item features"
   ]
  },
  {
   "cell_type": "code",
   "execution_count": 8,
   "id": "8ff750e3-fa06-42b4-a5c3-9b93d3c2b536",
   "metadata": {},
   "outputs": [],
   "source": [
    "with open(args.item_metadata_pipeline_fp, \"rb\") as f:\n",
    "    item_metadata_pipeline = dill.load(f)"
   ]
  },
  {
   "cell_type": "markdown",
   "id": "58607871-619d-46a0-9f7d-405e8f500462",
   "metadata": {},
   "source": [
    "## Load ANN Index"
   ]
  },
  {
   "cell_type": "code",
   "execution_count": 9,
   "id": "6e3a82c4-247e-4402-a87b-198c698be866",
   "metadata": {},
   "outputs": [],
   "source": [
    "ann_index = AnnIndex(args.qdrant_url, args.qdrant_collection_name)"
   ]
  },
  {
   "cell_type": "code",
   "execution_count": 10,
   "id": "e1da3414-17d8-4ee9-9c33-93f8c2a0d478",
   "metadata": {},
   "outputs": [
    {
     "data": {
      "application/vnd.jupyter.widget-view+json": {
       "model_id": "c0ff4332d9ce417db958ee39c663a6e3",
       "version_major": 2,
       "version_minor": 0
      },
      "text/plain": [
       "  0%|          | 0/1 [00:00<?, ?it/s]"
      ]
     },
     "metadata": {},
     "output_type": "display_data"
    }
   ],
   "source": [
    "vector = ann_index.get_vector_by_ids([0])[0]\n",
    "embedding_dim = vector.shape[0]"
   ]
  },
  {
   "cell_type": "code",
   "execution_count": 11,
   "id": "830d8094-ca35-4662-88b8-ee9a9aa7530a",
   "metadata": {
    "scrolled": true
   },
   "outputs": [
    {
     "data": {
      "application/vnd.jupyter.widget-view+json": {
       "model_id": "9a1b534536e74f0485bf1161f7b30e00",
       "version_major": 2,
       "version_minor": 0
      },
      "text/plain": [
       "  0%|          | 0/1 [00:00<?, ?it/s]"
      ]
     },
     "metadata": {},
     "output_type": "display_data"
    },
    {
     "data": {
      "text/plain": [
       "[ScoredPoint(id=0, version=0, score=1.0, payload={'parent_asin': '0375869026', 'title': 'Wonder'}, vector=None, shard_key=None, order_value=None),\n",
       " ScoredPoint(id=1916, version=59, score=0.9272537, payload={'parent_asin': 'B005GFPZYK', 'title': 'American Sniper: The Autobiography of the Most Lethal Sniper in U.S. Military History'}, vector=None, shard_key=None, order_value=None),\n",
       " ScoredPoint(id=1968, version=61, score=0.9080587, payload={'parent_asin': 'B005ZBO4VA', 'title': 'Tekken Hybrid - Playstation 3'}, vector=None, shard_key=None, order_value=None),\n",
       " ScoredPoint(id=166, version=5, score=0.899632, payload={'parent_asin': 'B00005OARM', 'title': 'Golden Sun'}, vector=None, shard_key=None, order_value=None),\n",
       " ScoredPoint(id=3896, version=121, score=0.89472985, payload={'parent_asin': 'B07CD6F5PX', 'title': 'Dragon Quest Xi: Echoes of An Elusive Age - PlayStation 4'}, vector=None, shard_key=None, order_value=None)]"
      ]
     },
     "execution_count": 11,
     "metadata": {},
     "output_type": "execute_result"
    }
   ],
   "source": [
    "sbert_embedding_dim = vector.shape[0]\n",
    "neighbors = ann_index.get_neighbors_by_ids([0])\n",
    "neighbors"
   ]
  },
  {
   "cell_type": "markdown",
   "id": "377a71da-1ee3-474c-b3f4-4488d2a45dd3",
   "metadata": {},
   "source": [
    "# Test implementation"
   ]
  },
  {
   "cell_type": "code",
   "execution_count": 12,
   "id": "2806284e-20cd-4e8f-a1b9-34483ca094a2",
   "metadata": {
    "scrolled": true
   },
   "outputs": [
    {
     "data": {
      "application/vnd.jupyter.widget-view+json": {
       "model_id": "ca379825313f4edf9a7f1dcbc9721e17",
       "version_major": 2,
       "version_minor": 0
      },
      "text/plain": [
       "  0%|          | 0/1 [00:00<?, ?it/s]"
      ]
     },
     "metadata": {},
     "output_type": "display_data"
    },
    {
     "name": "stdout",
     "output_type": "stream",
     "text": [
      "tensor([[0.4374],\n",
      "        [0.4554],\n",
      "        [0.3982],\n",
      "        [0.4192],\n",
      "        [0.4361]], grad_fn=<SigmoidBackward0>)\n"
     ]
    }
   ],
   "source": [
    "embedding_dim = 8\n",
    "batch_size = 2\n",
    "\n",
    "# Mock data\n",
    "user_indices = [0, 0, 1, 2, 2]\n",
    "item_indices = [0, 1, 2, 3, 4]\n",
    "timestamps = [0, 1, 2, 3, 4]\n",
    "ratings = [0, 4, 5, 3, 0]\n",
    "item_sequences = [\n",
    "    [-1, -1, 2, 3],\n",
    "    [-1, -1, 2, 3],\n",
    "    [-1, -1, 1, 3],\n",
    "    [-1, -1, 2, 1],\n",
    "    [-1, -1, 2, 1],\n",
    "]\n",
    "main_category = [\n",
    "    \"All Electronics\",\n",
    "    \"Video Games\",\n",
    "    \"All Electronics\",\n",
    "    \"Video Games\",\n",
    "    \"Unknown\",\n",
    "]\n",
    "categories = [[], [\"Headsets\"], [\"Video Games\"], [], [\"blah blah\"]]\n",
    "title = [\"World of Warcraft\", \"DotA 2\", \"Diablo IV\", \"Football Manager 2024\", \"Unknown\"]\n",
    "description = [[], [], [\"Video games blah blah\"], [], [\"blah blah\"]]\n",
    "price = [\"from 14.99\", \"14.99\", \"price: 9.99\", \"20 dollars\", \"None\"]\n",
    "parent_asin_rating_cnt_365d = [0,1,2,3,4]\n",
    "parent_asin_rating_avg_prev_rating_365d = [4.0,3.5,4.5,5.0,2.0]\n",
    "parent_asin_rating_cnt_90d = [0,1,2,3,4]\n",
    "parent_asin_rating_avg_prev_rating_90d = [4.0,3.5,4.5,5.0,2.0]\n",
    "parent_asin_rating_cnt_30d = [0,1,2,3,4]\n",
    "parent_asin_rating_avg_prev_rating_30d = [4.0,3.5,4.5,5.0,2.0]\n",
    "parent_asin_rating_cnt_7d = [0,1,2,3,4]\n",
    "parent_asin_rating_avg_prev_rating_7d = [4.0,3.5,4.5,5.0,2.0]\n",
    "\n",
    "train_df = pd.DataFrame(\n",
    "    {\n",
    "        \"user_indice\": user_indices,\n",
    "        \"item_indice\": item_indices,\n",
    "        args.timestamp_col: timestamps,\n",
    "        args.rating_col: ratings,\n",
    "        \"item_sequence\": item_sequences,\n",
    "        \"main_category\": main_category,\n",
    "        \"title\": title,\n",
    "        \"description\": description,\n",
    "        \"categories\": categories,\n",
    "        \"price\": price,\n",
    "        \"parent_asin_rating_cnt_365d\": parent_asin_rating_cnt_365d,\n",
    "        \"parent_asin_rating_avg_prev_rating_365d\": parent_asin_rating_avg_prev_rating_365d,\n",
    "        \"parent_asin_rating_cnt_90d\": parent_asin_rating_cnt_90d,\n",
    "        \"parent_asin_rating_avg_prev_rating_90d\": parent_asin_rating_avg_prev_rating_90d,\n",
    "        \"parent_asin_rating_cnt_30d\": parent_asin_rating_cnt_30d,\n",
    "        \"parent_asin_rating_avg_prev_rating_30d\": parent_asin_rating_avg_prev_rating_30d,\n",
    "        \"parent_asin_rating_cnt_7d\": parent_asin_rating_cnt_7d,\n",
    "        \"parent_asin_rating_avg_prev_rating_7d\": parent_asin_rating_avg_prev_rating_7d,\n",
    "    }\n",
    ")\n",
    "train_item_features = item_metadata_pipeline.transform(train_df).astype(np.float32)\n",
    "sbert_vectors = ann_index.get_vector_by_ids(train_df['item_indice'].values.tolist()).astype(np.float32)\n",
    "train_item_features = np.hstack([train_item_features, sbert_vectors])\n",
    "\n",
    "n_users = len(set(user_indices))\n",
    "n_items = len(set(item_indices))\n",
    "item_feature_size = train_item_features.shape[1]\n",
    "\n",
    "model = init_model(n_users, n_items, embedding_dim, item_feature_size, args.dropout)\n",
    "\n",
    "# Example forward pass\n",
    "model.eval()\n",
    "users = torch.tensor(user_indices)\n",
    "items = torch.tensor(item_indices)\n",
    "item_sequences = torch.tensor(item_sequences)\n",
    "item_features = torch.tensor(train_item_features)\n",
    "predictions = model.predict(users, item_sequences, item_features, items)\n",
    "print(predictions)"
   ]
  },
  {
   "cell_type": "code",
   "execution_count": 13,
   "id": "0c0b1fea-0376-4624-ad8a-d000208a97f5",
   "metadata": {
    "scrolled": true
   },
   "outputs": [],
   "source": [
    "rating_dataset = UserItemBinaryDFDataset(\n",
    "    train_df,\n",
    "    \"user_indice\",\n",
    "    \"item_indice\",\n",
    "    args.rating_col,\n",
    "    args.timestamp_col,\n",
    "    item_feature=train_item_features,\n",
    ")\n",
    "\n",
    "train_loader = DataLoader(rating_dataset, batch_size=batch_size, shuffle=False)"
   ]
  },
  {
   "cell_type": "code",
   "execution_count": 14,
   "id": "2e82d3d1-826a-409b-8440-46e0bd924269",
   "metadata": {
    "scrolled": true
   },
   "outputs": [
    {
     "name": "stdout",
     "output_type": "stream",
     "text": [
      "{'user': tensor([0, 0]), 'item': tensor([0, 1]), 'rating': tensor([0., 1.]), 'item_sequence': tensor([[-1, -1,  2,  3],\n",
      "        [-1, -1,  2,  3]]), 'item_feature': tensor([[-1.4698e-02,  5.6424e+00, -1.4698e-02,  ...,  2.9136e-02,\n",
      "         -3.0617e-02,  1.4856e-03],\n",
      "        [-1.4698e-02, -1.7723e-01, -1.4698e-02,  ..., -2.6627e-03,\n",
      "         -3.4459e-02,  1.1402e-02]])}\n",
      "{'user': tensor([1, 2]), 'item': tensor([2, 3]), 'rating': tensor([1., 1.]), 'item_sequence': tensor([[-1, -1,  1,  3],\n",
      "        [-1, -1,  2,  1]]), 'item_feature': tensor([[-1.4698e-02,  5.6424e+00, -1.4698e-02,  ...,  2.4071e-03,\n",
      "         -4.1083e-02,  4.6736e-04],\n",
      "        [-1.4698e-02, -1.7723e-01, -1.4698e-02,  ..., -5.8320e-03,\n",
      "         -6.7804e-02,  4.7192e-03]])}\n",
      "{'user': tensor([2]), 'item': tensor([4]), 'rating': tensor([0.]), 'item_sequence': tensor([[-1, -1,  2,  1]]), 'item_feature': tensor([[-1.4698e-02, -1.7723e-01, -1.4698e-02, -2.5463e-02, -1.4698e-02,\n",
      "         -1.4698e-02, -2.0788e-02, -8.2101e-02, -2.8729e-01, -1.4698e-02,\n",
      "         -3.8912e-02, -2.9405e-02, -2.5463e-02, -1.4698e-02, -1.4698e-02,\n",
      "         -3.8912e-02, -2.0788e-02, -3.8912e-02, -5.0976e-02, -2.4504e+00,\n",
      "         -1.3428e-01, -1.4000e-01, -6.1013e-01, -8.2101e-02, -7.9391e-02,\n",
      "         -2.0788e-02, -1.4698e-02, -1.4698e-02, -5.0976e-02, -1.3260e-01,\n",
      "         -2.5463e-02, -1.4698e-02, -9.0968e-02, -1.3593e-01, -1.4698e-02,\n",
      "         -1.4858e-01, -1.0448e-01, -1.4698e-02, -1.4698e-02, -2.0573e-01,\n",
      "         -2.2601e-01, -2.9405e-02, -2.0788e-02, -1.4698e-02, -2.0788e-02,\n",
      "         -1.4698e-02, -2.9405e-02, -7.3681e-02, -2.0788e-02, -2.0788e-02,\n",
      "         -1.4698e-02, -1.0342e-01, -2.0788e-02, -2.0788e-02, -3.8912e-02,\n",
      "         -1.0342e-01, -5.5072e-02, -1.2479e-01, -6.7500e-02, -1.2390e-01,\n",
      "         -1.6381e-01, -1.1327e+00, -2.0788e-02, -2.0788e-02, -1.3005e-01,\n",
      "         -1.3593e-01, -3.2880e-02, -1.4698e-02, -1.4698e-02, -2.0788e-02,\n",
      "         -1.4698e-02, -2.0788e-02, -4.6524e-02, -1.8361e-01, -9.0968e-02,\n",
      "         -2.5463e-02, -2.0788e-02, -3.8912e-02, -1.1646e+00, -6.9096e-02,\n",
      "         -5.5072e-02, -1.4698e-02, -4.1604e-02, -2.0788e-02, -6.4192e-02,\n",
      "         -3.2880e-02, -2.4392e-01, -8.2101e-02, -1.8298e-01, -2.0788e-02,\n",
      "         -9.2168e-02, -2.4342e-01, -5.5123e-01, -2.0788e-02, -7.0657e-02,\n",
      "         -4.0989e-01, -2.0788e-02, -1.2025e-01, -2.2495e-01, -3.4599e-01,\n",
      "         -3.2243e-01, -5.0976e-02, -6.7500e-02, -3.6022e-02, -5.1850e-01,\n",
      "         -1.5454e-01, -3.6022e-02, -2.5463e-02, -3.6022e-02, -1.4698e-02,\n",
      "         -5.3063e-02, -6.2473e-02, -2.0788e-02, -6.9096e-02, -5.0976e-02,\n",
      "         -6.0706e-02, -2.5463e-02, -8.3424e-02, -2.5463e-02, -1.4698e-02,\n",
      "         -2.9405e-02, -1.2025e-01, -1.4698e-02, -1.4698e-02, -5.5072e-02,\n",
      "         -3.2880e-02, -2.0788e-02, -4.1604e-02, -7.8002e-02, -1.4698e-02,\n",
      "         -2.9405e-02, -2.9405e-02, -5.0976e-02, -1.4698e-02, -1.4698e-02,\n",
      "         -3.8912e-02, -3.2880e-02, -7.1024e+00, -2.0788e-02, -2.5463e-02,\n",
      "         -2.5463e-02, -4.6524e-02, -2.5226e-01, -1.7064e-01, -1.3260e-01,\n",
      "         -3.3652e-01, -2.0788e-02, -2.0788e-02, -5.7011e-02, -2.8861e-01,\n",
      "         -2.0788e-02, -3.7131e-01, -5.4576e-01, -2.5171e-01, -1.0098e+00,\n",
      "          1.0291e-01, -3.4294e-01,  6.0107e-01,  1.1057e-01,  2.1350e+00,\n",
      "          6.9604e-01,  7.5715e-02, -4.6161e-03, -1.5269e-02,  3.8053e-02,\n",
      "         -2.3299e-02,  5.7419e-02,  2.5593e-02,  2.1740e-02, -6.4849e-02,\n",
      "         -1.7549e-02,  6.8395e-02,  2.0439e-02,  4.0812e-02,  4.7897e-02,\n",
      "         -3.6109e-02, -2.6392e-02, -4.0185e-03,  3.9914e-02,  2.4084e-02,\n",
      "          1.2538e-02,  5.7376e-03,  1.9585e-02,  8.4433e-03, -2.4690e-03,\n",
      "         -5.7521e-02, -1.5012e-02,  4.2342e-02, -1.4003e-02,  2.0713e-02,\n",
      "         -7.1049e-02,  1.1656e-01, -1.3337e-03,  1.6859e-02, -6.7175e-02,\n",
      "          2.0744e-06, -1.4271e-02, -1.4323e-02, -5.6075e-02,  4.9546e-02,\n",
      "          2.2933e-02,  9.9544e-02,  4.5003e-02,  1.5461e-03,  5.0704e-02,\n",
      "          1.3058e-03,  3.1526e-03,  1.1272e-02,  9.4165e-02, -2.2274e-02,\n",
      "          3.5424e-02, -3.0866e-03, -5.0897e-02, -1.8888e-02, -1.6887e-02,\n",
      "          5.4440e-02, -1.6536e-04, -2.2146e-02,  8.5262e-03,  3.6558e-02,\n",
      "          9.6281e-03,  3.0743e-02,  4.3088e-02, -1.5789e-02,  3.4581e-02,\n",
      "          3.2910e-02,  5.1553e-03,  8.2479e-03, -3.0601e-02, -3.0029e-02,\n",
      "          5.8143e-03,  6.6892e-02,  2.4034e-03,  5.3373e-02,  4.0460e-02,\n",
      "         -1.0390e-03,  1.2609e-02, -1.0694e-02,  2.5048e-02, -4.7949e-02,\n",
      "         -5.8694e-02, -5.5110e-03,  3.3986e-02, -5.5934e-02, -2.0900e-02,\n",
      "         -1.3253e-02,  3.4936e-02, -1.2412e-02,  6.6091e-03, -5.0719e-02,\n",
      "         -4.3078e-02,  3.6049e-02, -2.6913e-02,  5.2341e-03,  2.6643e-03,\n",
      "          1.4760e-02, -6.3985e-03,  5.6047e-03, -1.9785e-02,  4.5963e-02,\n",
      "         -7.7106e-02,  4.5244e-02,  2.2026e-02,  3.6781e-02,  1.1312e-02,\n",
      "          3.3661e-02, -1.2496e-02,  1.7572e-02, -6.2375e-02, -9.9547e-02,\n",
      "          8.4594e-02, -1.7330e-02, -2.4848e-02, -4.3452e-02,  5.5755e-02,\n",
      "          5.5508e-03, -4.4299e-02,  3.7485e-02, -1.5096e-02,  9.7620e-03,\n",
      "          4.9287e-02, -6.5761e-02,  3.2940e-02, -1.2531e-03, -4.4056e-03,\n",
      "         -1.9769e-03, -1.7478e-02, -7.9565e-02, -1.5276e-03,  7.2608e-03,\n",
      "         -2.6265e-03, -2.8016e-03,  4.1893e-02,  1.3515e-02, -1.7897e-02,\n",
      "          2.0836e-02,  8.0222e-03,  6.3291e-03, -1.3731e-02, -2.2514e-02,\n",
      "          1.3009e-02, -3.3059e-03, -7.9497e-04,  2.0801e-03, -1.4717e-02,\n",
      "         -4.8473e-02,  9.9016e-03,  6.1061e-02,  1.3917e-02,  5.1762e-04,\n",
      "          4.7886e-02, -8.3232e-03,  5.4284e-03,  2.7991e-02,  1.7424e-02,\n",
      "          9.6380e-03,  2.7342e-02,  7.8520e-02, -1.7814e-02, -4.1979e-02,\n",
      "          3.4136e-02,  3.7147e-02,  2.6723e-02,  1.5409e-02,  1.9929e-02,\n",
      "         -4.3947e-02, -2.1015e-02,  2.3780e-02,  8.2941e-03,  6.9720e-03,\n",
      "          3.2066e-02, -6.1773e-02,  8.3986e-03, -1.5622e-03,  8.0626e-02,\n",
      "          4.1115e-02,  1.2461e-01, -7.7894e-02,  3.6751e-02, -6.1610e-02,\n",
      "          4.7277e-02, -7.2630e-02, -5.2448e-02,  1.1594e-02, -2.4043e-02,\n",
      "         -2.3606e-02,  1.1522e-02, -3.1967e-04, -9.2529e-03, -5.2625e-02,\n",
      "         -2.1969e-02, -3.2771e-02, -2.3471e-02,  7.5352e-03, -7.9524e-03,\n",
      "         -7.2963e-03,  5.7087e-03, -3.8683e-02, -4.5094e-02, -1.4574e-02,\n",
      "         -2.8933e-02, -3.1188e-02,  6.1013e-03,  1.2048e-01,  2.8896e-02,\n",
      "          8.5511e-03,  1.1537e-02, -7.6888e-03, -1.4524e-02, -2.2125e-02,\n",
      "          6.7003e-02, -3.7697e-02,  1.6171e-02, -4.0855e-02, -2.1793e-02,\n",
      "         -3.1703e-02, -5.9162e-02,  3.9408e-02,  5.2716e-02, -7.4654e-02,\n",
      "          3.9511e-02,  2.4511e-02,  8.4605e-02,  4.9272e-03,  3.9826e-03,\n",
      "          2.4931e-02, -2.1383e-02, -6.1369e-03, -6.8717e-03,  1.8248e-02,\n",
      "          1.0065e-03,  8.8258e-03, -1.2214e-02, -1.0665e-02, -3.5196e-02,\n",
      "         -4.2511e-02,  3.8686e-02, -2.1275e-02,  3.8772e-02,  1.7231e-02,\n",
      "         -9.8903e-02, -4.4786e-02,  1.6568e-02, -6.1911e-03,  3.6589e-02,\n",
      "          1.3175e-02, -3.0903e-02, -2.4281e-02, -4.5093e-03, -1.5745e-02,\n",
      "          1.5035e-02, -2.9338e-02,  1.3482e-02,  3.2382e-02,  3.1845e-02,\n",
      "         -7.7426e-03, -1.3478e-02, -9.2945e-02,  9.2460e-02, -5.7930e-02,\n",
      "          4.6581e-02,  1.8488e-02, -4.2096e-02, -4.6806e-03, -1.4264e-04,\n",
      "         -9.5069e-03, -2.6629e-02,  5.5462e-02, -1.1594e-03, -2.6292e-02,\n",
      "         -4.4903e-02, -2.7719e-02,  8.7153e-03, -6.9664e-03, -2.6706e-02,\n",
      "          3.1312e-02, -1.6897e-02, -2.1880e-02,  1.6658e-02, -1.3453e-03,\n",
      "          1.9304e-02,  1.5657e-02,  2.6067e-02,  7.5686e-03,  2.4592e-02,\n",
      "         -9.5058e-03,  4.3887e-02,  4.2317e-02, -4.7794e-02, -1.0315e-01,\n",
      "          1.0656e-02, -2.6518e-02, -2.9969e-02,  3.7830e-02, -2.5686e-02,\n",
      "         -2.2566e-02, -1.1897e-02,  4.3808e-02,  6.3308e-02,  3.0515e-02,\n",
      "         -1.3322e-02,  1.2377e-03, -4.3084e-02, -5.0095e-03, -1.8045e-03,\n",
      "         -2.9295e-02, -1.4755e-02, -1.8366e-03, -1.9179e-02,  4.7919e-02,\n",
      "          2.2350e-02,  1.8053e-02,  1.5569e-02,  4.9606e-03, -1.5814e-02,\n",
      "         -1.3711e-02,  2.6647e-02, -6.1272e-02, -8.0708e-02,  7.1945e-03,\n",
      "          5.6973e-02,  1.0905e-02,  1.3342e-02,  2.6163e-02,  5.3175e-02,\n",
      "          1.4680e-02, -8.2224e-02, -2.9190e-02,  2.3323e-02,  5.3939e-02,\n",
      "         -2.3870e-02, -1.6934e-04,  4.9466e-02, -3.1782e-02,  3.9752e-02,\n",
      "          2.1350e-02,  5.4134e-02, -1.1413e-03, -8.7196e-03, -4.9597e-02,\n",
      "          3.1963e-02,  5.5016e-03, -6.2774e-02,  1.4248e-03, -3.9061e-02,\n",
      "          5.2819e-03, -6.6604e-02,  1.9314e-02,  2.1509e-02, -9.7290e-02,\n",
      "         -2.4174e-02,  1.6930e-03,  2.5058e-02, -4.5586e-03,  1.0194e-02,\n",
      "         -2.4247e-03,  3.0942e-02,  3.3571e-02, -5.6624e-02, -3.9844e-02,\n",
      "         -2.9383e-02, -2.9831e-02, -9.2675e-03, -2.6769e-02,  3.8028e-04,\n",
      "         -5.3381e-03,  5.6800e-02,  2.1475e-02,  1.8217e-02, -5.5606e-03,\n",
      "         -1.5390e-02, -5.7592e-03,  4.3166e-02, -1.7414e-02,  3.8463e-02,\n",
      "          1.0190e-02,  2.0197e-02,  1.1563e-02, -1.1332e-02,  5.6282e-03,\n",
      "         -3.9181e-02,  2.1738e-02, -1.4587e-02,  5.7970e-02,  9.7581e-03,\n",
      "          1.1963e-02,  1.9198e-02, -7.2442e-03, -3.5462e-02, -3.5950e-02,\n",
      "         -1.3574e-02,  3.8570e-03,  5.2438e-03, -5.7766e-02,  2.0866e-02,\n",
      "         -4.6500e-02, -1.5478e-02,  5.6302e-03, -7.0128e-03, -3.9635e-02,\n",
      "          2.0551e-02,  5.3734e-03, -2.0971e-03,  1.1445e-02,  3.0348e-03,\n",
      "          1.6971e-02, -1.4268e-02,  1.9317e-02, -3.8290e-03, -1.5153e-02,\n",
      "          8.9714e-03,  1.7493e-03, -8.2504e-02, -5.2352e-03,  2.3974e-02,\n",
      "          5.1225e-02, -7.3400e-02, -1.0920e-02,  3.8125e-02,  1.8714e-02,\n",
      "          4.3260e-03,  2.2281e-02,  6.7504e-02, -5.1080e-03,  3.6047e-02,\n",
      "          2.7759e-02,  4.4004e-03,  4.0511e-02,  2.3323e-02,  2.4594e-02,\n",
      "         -3.3403e-02, -4.5130e-03,  2.9866e-02, -3.8404e-02,  3.3209e-02,\n",
      "         -2.3859e-03, -1.7533e-02, -7.2437e-02, -5.5872e-02,  2.4078e-02,\n",
      "         -4.7535e-02, -1.8038e-02, -1.8778e-03,  3.1606e-02,  6.1154e-02,\n",
      "          6.7131e-03, -3.4797e-02,  3.2595e-02, -6.5233e-02,  1.9048e-02,\n",
      "         -1.9273e-03, -2.9737e-02,  1.5266e-02,  2.3787e-02,  2.5987e-02,\n",
      "         -7.4944e-03, -3.1730e-02,  2.4182e-02, -1.8789e-02, -2.3583e-02,\n",
      "         -5.6364e-03,  2.0067e-02,  2.3196e-02, -2.0090e-02,  1.1153e-02,\n",
      "          1.0417e-02,  8.5703e-05,  5.7704e-02, -4.8729e-02,  6.6392e-03,\n",
      "         -1.3908e-02,  4.8094e-02,  4.2859e-03, -4.9307e-03,  2.9741e-02,\n",
      "          3.6225e-02, -3.5582e-02, -2.7963e-02, -7.6976e-02,  3.0130e-02,\n",
      "          2.0099e-02, -9.9119e-04,  9.0620e-03, -3.9946e-04, -3.4694e-02,\n",
      "         -2.6614e-02,  3.2547e-03,  4.4917e-02, -2.8609e-02, -2.3389e-02,\n",
      "          1.2721e-02,  5.4141e-03, -7.9543e-02, -3.7312e-02, -1.5906e-02,\n",
      "         -4.0992e-02,  6.5320e-02, -1.7026e-02, -1.3720e-02, -1.6174e-02,\n",
      "          3.7946e-05, -4.5999e-02, -1.9081e-02,  2.0729e-02,  3.2781e-02,\n",
      "         -2.6120e-03,  4.4678e-02,  1.8846e-02, -7.0091e-03,  4.7943e-02,\n",
      "         -4.6618e-02,  2.4981e-03,  1.0206e-02,  5.3008e-03, -2.3189e-02,\n",
      "          1.2869e-02,  1.6621e-02, -3.3212e-02, -1.0581e-01, -1.4324e-02,\n",
      "          3.3236e-02, -4.9439e-04, -1.6647e-02,  1.0262e-03, -3.5107e-02,\n",
      "         -4.1481e-02,  3.0293e-02,  1.0877e-02,  4.4518e-03,  4.3299e-03,\n",
      "          7.9249e-04, -4.7994e-02, -9.9684e-04,  5.0401e-02,  2.4706e-02,\n",
      "         -5.3808e-02,  5.4390e-02,  6.9895e-02, -4.5015e-02, -6.7011e-03,\n",
      "         -1.6134e-02, -4.4041e-02, -6.2139e-03,  4.2641e-02,  1.5649e-02,\n",
      "          9.6276e-02,  3.8065e-02,  1.2537e-02,  7.7806e-03,  7.3429e-03,\n",
      "         -3.6767e-02,  9.8656e-03,  1.3896e-02, -9.3714e-02,  4.3539e-02,\n",
      "         -2.0612e-03, -7.5520e-33, -1.1978e-02, -5.8178e-02, -2.5336e-02,\n",
      "          2.7700e-02, -4.1885e-02,  2.6305e-02, -2.6163e-02,  3.3707e-02,\n",
      "          2.3010e-03,  2.5629e-03, -1.5603e-02,  2.9035e-02,  2.6207e-02,\n",
      "          3.2126e-02,  4.2085e-02, -3.9038e-02,  9.8261e-03,  1.5445e-03,\n",
      "          2.1822e-02, -2.6830e-02,  1.1930e-02,  1.3803e-02,  3.9251e-02,\n",
      "         -8.7148e-02,  1.0123e-02, -7.4839e-02, -2.4491e-02, -2.6371e-02,\n",
      "          2.8130e-02, -2.4629e-02, -2.6075e-02, -6.4380e-02,  3.6584e-03,\n",
      "          3.1643e-03,  2.9097e-02,  4.1849e-02, -6.2409e-03, -4.1914e-02,\n",
      "          2.8924e-02, -4.7718e-02,  7.2123e-03, -6.0438e-02, -3.5265e-02,\n",
      "         -4.3284e-03, -4.3099e-04,  3.8677e-03,  5.8487e-02, -3.8299e-02,\n",
      "         -3.0302e-02, -1.2317e-03, -3.6445e-02, -5.5346e-03, -2.3371e-02,\n",
      "         -8.8850e-03,  3.6532e-02,  5.2143e-02,  1.7758e-02,  7.6965e-02,\n",
      "          5.6379e-02,  6.3465e-02,  9.5784e-03,  5.3648e-02, -2.5520e-02,\n",
      "         -2.2664e-02,  3.5103e-02,  2.4412e-02, -6.0384e-02, -1.9484e-03,\n",
      "         -8.9552e-02, -9.6481e-03, -6.7100e-02,  1.8274e-02,  5.8857e-02,\n",
      "          1.6388e-02,  5.7376e-03, -2.9731e-02, -3.3687e-02,  1.3895e-02,\n",
      "          8.0687e-02,  3.3403e-02, -3.3428e-03, -2.7242e-02, -4.1903e-02,\n",
      "         -8.3320e-03, -2.6463e-02,  1.5150e-02, -3.2906e-02, -2.6113e-02,\n",
      "          2.9648e-02,  1.6790e-02,  1.3004e-02,  3.3629e-02, -1.3361e-02,\n",
      "          2.4499e-02,  3.2559e-02,  2.3554e-03,  7.0045e-02,  8.3594e-03,\n",
      "         -1.1397e-02, -3.8321e-02, -2.0195e-02, -2.0834e-02, -2.2367e-02,\n",
      "          3.6660e-02,  1.6156e-02, -2.8885e-02, -1.1080e-02, -3.3967e-02,\n",
      "         -5.8187e-02,  2.3092e-03,  2.0873e-02, -5.1112e-02,  1.0786e-02,\n",
      "         -5.6978e-02, -4.3140e-02,  3.0544e-02,  9.9164e-03,  6.7844e-02,\n",
      "          3.1995e-02, -9.4154e-03,  5.0423e-02, -1.7068e-02, -3.8975e-02,\n",
      "          2.6325e-02, -6.3431e-03, -1.7504e-03, -1.2304e-02,  5.8942e-02,\n",
      "          7.9951e-03, -1.7998e-02, -7.2530e-03, -2.3300e-03,  3.1115e-07,\n",
      "         -3.4213e-02,  4.4842e-02, -1.3164e-03,  1.5459e-02, -1.8137e-02,\n",
      "         -6.9413e-03, -7.5862e-03,  1.9364e-02, -4.9369e-03,  7.0875e-03,\n",
      "          1.0144e-01, -1.4651e-02,  2.2599e-02, -4.6972e-02, -5.4040e-02,\n",
      "          3.5862e-02, -5.1928e-02, -5.6975e-02, -3.9960e-02,  1.3329e-02,\n",
      "          1.0430e-01, -6.1508e-03,  2.3553e-02,  1.9600e-02,  2.4507e-02,\n",
      "         -3.5093e-02, -4.4941e-03, -7.3623e-02, -2.8711e-02,  1.5154e-03,\n",
      "         -1.6772e-02, -6.3765e-03, -5.3524e-02, -3.0779e-02,  2.0170e-02,\n",
      "         -6.9578e-02,  3.1647e-02,  1.0612e-02,  6.5319e-02,  2.2047e-02,\n",
      "         -5.5436e-02,  5.3382e-02, -2.0870e-02, -5.9247e-02,  1.9836e-02,\n",
      "         -6.7212e-04,  1.7218e-02,  1.4637e-02, -7.0584e-02,  1.5400e-02,\n",
      "          4.4348e-02, -1.4173e-02, -1.8887e-02, -1.5145e-02,  2.2321e-03,\n",
      "          1.9138e-02,  3.3422e-02,  6.0030e-03,  7.7994e-02,  6.9610e-02,\n",
      "         -2.2265e-02,  1.2945e-02,  7.6830e-03,  2.6167e-02,  6.7903e-03,\n",
      "         -8.8627e-02, -1.1146e-02,  2.1675e-34,  3.9392e-02, -9.0457e-02,\n",
      "         -6.4739e-02, -2.7347e-02, -2.7583e-02,  3.0312e-03, -2.0743e-02,\n",
      "         -2.2759e-02,  1.0543e-02, -4.4960e-02, -5.5271e-03]])}\n"
     ]
    }
   ],
   "source": [
    "for batch_input in train_loader:\n",
    "    print(batch_input)"
   ]
  },
  {
   "cell_type": "code",
   "execution_count": 15,
   "id": "02cb9ca4-11f1-45a8-911b-ed11c8391944",
   "metadata": {
    "scrolled": true
   },
   "outputs": [
    {
     "data": {
      "application/vnd.jupyter.widget-view+json": {
       "model_id": "0bf850134e294d968576a172fcb96343",
       "version_major": 2,
       "version_minor": 0
      },
      "text/plain": [
       "  0%|          | 0/1 [00:00<?, ?it/s]"
      ]
     },
     "metadata": {},
     "output_type": "display_data"
    },
    {
     "name": "stderr",
     "output_type": "stream",
     "text": [
      "GPU available: True (mps), used: True\n",
      "TPU available: False, using: 0 TPU cores\n",
      "HPU available: False, using: 0 HPUs\n",
      "\n",
      "  | Name  | Type   | Params | Mode\n",
      "----------------------------------------\n",
      "0 | model | Ranker | 8.2 K  | eval\n",
      "----------------------------------------\n",
      "8.2 K     Trainable params\n",
      "0         Non-trainable params\n",
      "8.2 K     Total params\n",
      "0.033     Total estimated model params size (MB)\n",
      "0         Modules in train mode\n",
      "14        Modules in eval mode\n"
     ]
    },
    {
     "data": {
      "application/vnd.jupyter.widget-view+json": {
       "model_id": "",
       "version_major": 2,
       "version_minor": 0
      },
      "text/plain": [
       "Sanity Checking: |                                                                                            …"
      ]
     },
     "metadata": {},
     "output_type": "display_data"
    },
    {
     "name": "stderr",
     "output_type": "stream",
     "text": [
      "/Users/dvq/frostmourne/recsys-mvp/.venv/lib/python3.11/site-packages/lightning/pytorch/trainer/connectors/data_connector.py:424: The 'val_dataloader' does not have many workers which may be a bottleneck. Consider increasing the value of the `num_workers` argument` to `num_workers=10` in the `DataLoader` to improve performance.\n",
      "/Users/dvq/frostmourne/recsys-mvp/.venv/lib/python3.11/site-packages/lightning/pytorch/trainer/connectors/data_connector.py:424: The 'train_dataloader' does not have many workers which may be a bottleneck. Consider increasing the value of the `num_workers` argument` to `num_workers=10` in the `DataLoader` to improve performance.\n",
      "/Users/dvq/frostmourne/recsys-mvp/.venv/lib/python3.11/site-packages/lightning/pytorch/loops/fit_loop.py:298: The number of training batches (3) is smaller than the logging interval Trainer(log_every_n_steps=50). Set a lower value for log_every_n_steps if you want to see logs for the training epoch.\n"
     ]
    },
    {
     "data": {
      "application/vnd.jupyter.widget-view+json": {
       "model_id": "d2dae040b1ad4e4b91659ed3b361c18c",
       "version_major": 2,
       "version_minor": 0
      },
      "text/plain": [
       "Training: |                                                                                                   …"
      ]
     },
     "metadata": {},
     "output_type": "display_data"
    },
    {
     "data": {
      "application/vnd.jupyter.widget-view+json": {
       "model_id": "",
       "version_major": 2,
       "version_minor": 0
      },
      "text/plain": [
       "Validation: |                                                                                                 …"
      ]
     },
     "metadata": {},
     "output_type": "display_data"
    },
    {
     "data": {
      "application/vnd.jupyter.widget-view+json": {
       "model_id": "",
       "version_major": 2,
       "version_minor": 0
      },
      "text/plain": [
       "Validation: |                                                                                                 …"
      ]
     },
     "metadata": {},
     "output_type": "display_data"
    },
    {
     "name": "stderr",
     "output_type": "stream",
     "text": [
      "`Trainer.fit` stopped: `max_epochs=2` reached.\n",
      "\u001b[32m2024-10-27 22:42:39.368\u001b[0m | \u001b[1mINFO    \u001b[0m | \u001b[36msrc.ranker.trainer\u001b[0m:\u001b[36mon_fit_end\u001b[0m:\u001b[36m134\u001b[0m - \u001b[1mLogging classification metrics...\u001b[0m\n",
      "/Users/dvq/frostmourne/recsys-mvp/.venv/lib/python3.11/site-packages/sklearn/metrics/_classification.py:1531: UndefinedMetricWarning: Precision is ill-defined and being set to 0.0 due to no predicted samples. Use `zero_division` parameter to control this behavior.\n",
      "  _warn_prf(average, modifier, f\"{metric.capitalize()} is\", len(result))\n",
      "/Users/dvq/frostmourne/recsys-mvp/.venv/lib/python3.11/site-packages/sklearn/metrics/_classification.py:1531: UndefinedMetricWarning: Precision is ill-defined and being set to 0.0 in labels with no predicted samples. Use `zero_division` parameter to control this behavior.\n",
      "  _warn_prf(average, modifier, f\"{metric.capitalize()} is\", len(result))\n",
      "/Users/dvq/frostmourne/recsys-mvp/.venv/lib/python3.11/site-packages/sklearn/metrics/_classification.py:1531: UndefinedMetricWarning: Precision is ill-defined and being set to 0.0 in labels with no predicted samples. Use `zero_division` parameter to control this behavior.\n",
      "  _warn_prf(average, modifier, f\"{metric.capitalize()} is\", len(result))\n",
      "/Users/dvq/frostmourne/recsys-mvp/.venv/lib/python3.11/site-packages/sklearn/metrics/_classification.py:1531: UndefinedMetricWarning: Precision is ill-defined and being set to 0.0 in labels with no predicted samples. Use `zero_division` parameter to control this behavior.\n",
      "  _warn_prf(average, modifier, f\"{metric.capitalize()} is\", len(result))\n"
     ]
    }
   ],
   "source": [
    "# Prepare all item features for recommendation\n",
    "all_items_df = train_df.drop_duplicates(subset=[\"item_indice\"])\n",
    "all_items_indices = all_items_df[\"item_indice\"].values\n",
    "all_items_features = item_metadata_pipeline.transform(all_items_df).astype(np.float32)\n",
    "all_sbert_vectors = ann_index.get_vector_by_ids(all_items_indices.tolist()).astype(np.float32)\n",
    "all_items_features = np.hstack([all_items_features, all_sbert_vectors])\n",
    "\n",
    "lit_model = LitRanker(\n",
    "    model,\n",
    "    log_dir=args.notebook_persist_dp,\n",
    "    all_items_indices=all_items_indices,\n",
    "    all_items_features=all_items_features\n",
    ")\n",
    "\n",
    "# train model\n",
    "trainer = L.Trainer(\n",
    "    default_root_dir=f\"{args.notebook_persist_dp}/test\",\n",
    "    max_epochs=2,\n",
    "    accelerator=args.device if args.device else \"auto\",\n",
    ")\n",
    "trainer.fit(\n",
    "    model=lit_model, train_dataloaders=train_loader, val_dataloaders=train_loader\n",
    ")"
   ]
  },
  {
   "cell_type": "code",
   "execution_count": 16,
   "id": "36778ab4-b228-4bb0-bb0d-801ae7c28cd8",
   "metadata": {},
   "outputs": [
    {
     "name": "stdout",
     "output_type": "stream",
     "text": [
      "tensor([[0.4297],\n",
      "        [0.4749],\n",
      "        [0.4110],\n",
      "        [0.4287],\n",
      "        [0.4394]], grad_fn=<SigmoidBackward0>)\n"
     ]
    }
   ],
   "source": [
    "# After fitting\n",
    "model.eval()\n",
    "predictions = model.predict(users, item_sequences, item_features, items)\n",
    "print(predictions)"
   ]
  },
  {
   "cell_type": "code",
   "execution_count": 17,
   "id": "50fdcf97-6271-406d-81b5-7e91a4c42dec",
   "metadata": {
    "scrolled": true
   },
   "outputs": [
    {
     "data": {
      "application/vnd.jupyter.widget-view+json": {
       "model_id": "1143e4bd1c0e49c99983b19a7434e4df",
       "version_major": 2,
       "version_minor": 0
      },
      "text/plain": [
       "Generating recommendations:   0%|          | 0/1 [00:00<?, ?it/s]"
      ]
     },
     "metadata": {},
     "output_type": "display_data"
    },
    {
     "data": {
      "text/plain": [
       "{'user_indice': [2, 2, 1, 1, 0, 0],\n",
       " 'recommendation': [2, 4, 0, 2, 1, 4],\n",
       " 'score': [0.44280707836151123,\n",
       "  0.43935778737068176,\n",
       "  0.4133801758289337,\n",
       "  0.41103968024253845,\n",
       "  0.47488585114479065,\n",
       "  0.474662721157074]}"
      ]
     },
     "execution_count": 17,
     "metadata": {},
     "output_type": "execute_result"
    }
   ],
   "source": [
    "# Get the last row of each item as input for recommendations (containing the most updated item_sequence)\n",
    "to_rec_df = train_df.sort_values(args.timestamp_col, ascending=False).drop_duplicates(\n",
    "    subset=[\"user_indice\"]\n",
    ")\n",
    "recommendations = model.recommend(\n",
    "    torch.tensor(to_rec_df[\"user_indice\"].values.tolist()),\n",
    "    torch.tensor(to_rec_df[\"item_sequence\"].values.tolist()),\n",
    "    torch.tensor(lit_model.all_items_features),\n",
    "    torch.tensor(lit_model.all_items_indices),\n",
    "    k=2,\n",
    "    batch_size=4,\n",
    ")\n",
    "recommendations"
   ]
  },
  {
   "cell_type": "markdown",
   "id": "170dec89-a874-4dce-8f94-07d978fcc5b8",
   "metadata": {},
   "source": [
    "# Prep data"
   ]
  },
  {
   "cell_type": "code",
   "execution_count": 18,
   "id": "83803362-5eaa-40bb-b28b-878316d5db5d",
   "metadata": {},
   "outputs": [],
   "source": [
    "train_df = pd.read_parquet(\"../data/train_features_neg_df.parquet\")\n",
    "val_df = pd.read_parquet(\"../data/val_features_neg_df.parquet\")\n",
    "idm_fp = \"../data/idm.json\"\n",
    "idm = IDMapper().load(idm_fp)\n",
    "\n",
    "assert (\n",
    "    train_df[args.user_col].map(lambda s: idm.get_user_index(s))\n",
    "    != train_df[\"user_indice\"]\n",
    ").sum() == 0, \"Mismatch IDM\"\n",
    "assert (\n",
    "    val_df[args.user_col].map(lambda s: idm.get_user_index(s)) != val_df[\"user_indice\"]\n",
    ").sum() == 0, \"Mismatch IDM\""
   ]
  },
  {
   "cell_type": "code",
   "execution_count": 19,
   "id": "a92a8ea7-928c-4656-b92c-2e137d78404a",
   "metadata": {
    "scrolled": true
   },
   "outputs": [
    {
     "data": {
      "text/html": [
       "<div>\n",
       "<style scoped>\n",
       "    .dataframe tbody tr th:only-of-type {\n",
       "        vertical-align: middle;\n",
       "    }\n",
       "\n",
       "    .dataframe tbody tr th {\n",
       "        vertical-align: top;\n",
       "    }\n",
       "\n",
       "    .dataframe thead th {\n",
       "        text-align: right;\n",
       "    }\n",
       "</style>\n",
       "<table border=\"1\" class=\"dataframe\">\n",
       "  <thead>\n",
       "    <tr style=\"text-align: right;\">\n",
       "      <th></th>\n",
       "      <th>user_id</th>\n",
       "      <th>parent_asin</th>\n",
       "      <th>rating</th>\n",
       "      <th>timestamp</th>\n",
       "      <th>parent_asin_rating_cnt_365d</th>\n",
       "      <th>parent_asin_rating_avg_prev_rating_365d</th>\n",
       "      <th>parent_asin_rating_cnt_90d</th>\n",
       "      <th>parent_asin_rating_avg_prev_rating_90d</th>\n",
       "      <th>parent_asin_rating_cnt_30d</th>\n",
       "      <th>parent_asin_rating_avg_prev_rating_30d</th>\n",
       "      <th>...</th>\n",
       "      <th>item_indice</th>\n",
       "      <th>main_category</th>\n",
       "      <th>title</th>\n",
       "      <th>description</th>\n",
       "      <th>categories</th>\n",
       "      <th>price</th>\n",
       "      <th>user_rating_cnt_90d</th>\n",
       "      <th>user_rating_avg_prev_rating_90d</th>\n",
       "      <th>user_rating_list_10_recent_asin</th>\n",
       "      <th>item_sequence</th>\n",
       "    </tr>\n",
       "  </thead>\n",
       "  <tbody>\n",
       "    <tr>\n",
       "      <th>0</th>\n",
       "      <td>AEKSUPM7CH53J3G5PA3JLWLJXUMQ</td>\n",
       "      <td>B00QXJFDZO</td>\n",
       "      <td>0.0</td>\n",
       "      <td>2017-10-30 14:23:22.389</td>\n",
       "      <td>6.0</td>\n",
       "      <td>3.666667</td>\n",
       "      <td>0.0</td>\n",
       "      <td>NaN</td>\n",
       "      <td>0.0</td>\n",
       "      <td>NaN</td>\n",
       "      <td>...</td>\n",
       "      <td>2919</td>\n",
       "      <td>Video Games</td>\n",
       "      <td>Godzilla - PlayStation 4</td>\n",
       "      <td>[Godzilla, the King of the Monsters, first app...</td>\n",
       "      <td>[Video Games, PlayStation 4, Games]</td>\n",
       "      <td>None</td>\n",
       "      <td>2</td>\n",
       "      <td>5.000000</td>\n",
       "      <td>B005FVBYV8,B003FMTZSI,B01MS6WG9S,B073W2T5F6</td>\n",
       "      <td>[-1, -1, -1, -1, -1, -1, 1912, 1470, 3498, 3723]</td>\n",
       "    </tr>\n",
       "    <tr>\n",
       "      <th>1</th>\n",
       "      <td>AHSNMFN6DUFTNEZAXBVPIYMXWIFQ</td>\n",
       "      <td>B075MYT126</td>\n",
       "      <td>0.0</td>\n",
       "      <td>2017-11-27 22:01:33.258</td>\n",
       "      <td>NaN</td>\n",
       "      <td>NaN</td>\n",
       "      <td>NaN</td>\n",
       "      <td>NaN</td>\n",
       "      <td>NaN</td>\n",
       "      <td>NaN</td>\n",
       "      <td>...</td>\n",
       "      <td>3777</td>\n",
       "      <td>Video Games</td>\n",
       "      <td>Nintendo Switch Pro Controller - Xenoblade Chr...</td>\n",
       "      <td>[Kick your game sessions up a notch with the N...</td>\n",
       "      <td>[Video Games, Nintendo Switch, Accessories, Co...</td>\n",
       "      <td>94.98</td>\n",
       "      <td>2</td>\n",
       "      <td>4.000000</td>\n",
       "      <td>B00CJ9OTNE,B0118YZG0A,B008M502H6,B003Y70W4U,B0...</td>\n",
       "      <td>[2391, 3100, 2176, 1588, 3161, 2133, 2906, 166...</td>\n",
       "    </tr>\n",
       "    <tr>\n",
       "      <th>2</th>\n",
       "      <td>AFE47G5MX35LSHZHZXRYEJFMYPUA</td>\n",
       "      <td>B007VYW5K6</td>\n",
       "      <td>0.0</td>\n",
       "      <td>2017-03-23 21:41:18.000</td>\n",
       "      <td>12.0</td>\n",
       "      <td>4.166667</td>\n",
       "      <td>2.0</td>\n",
       "      <td>4.000000</td>\n",
       "      <td>0.0</td>\n",
       "      <td>NaN</td>\n",
       "      <td>...</td>\n",
       "      <td>2086</td>\n",
       "      <td>Video Games</td>\n",
       "      <td>Crysis 3 [Instant Access]</td>\n",
       "      <td>[The award-winning developer crytek is back wi...</td>\n",
       "      <td>[Video Games, PC]</td>\n",
       "      <td>None</td>\n",
       "      <td>1</td>\n",
       "      <td>NaN</td>\n",
       "      <td>B07YBX8RNF,B0166QDJDQ,B01CHU4IY4,B00Z9LUDX4,B0...</td>\n",
       "      <td>[4278, 3183, 3288, 3038, 4508, 3391, 3403, 368...</td>\n",
       "    </tr>\n",
       "    <tr>\n",
       "      <th>3</th>\n",
       "      <td>AFJDWGBE3MGULXTO3FUZ5YB6FKDA</td>\n",
       "      <td>B07L5FKGQH</td>\n",
       "      <td>0.0</td>\n",
       "      <td>2017-01-18 15:50:12.000</td>\n",
       "      <td>NaN</td>\n",
       "      <td>NaN</td>\n",
       "      <td>NaN</td>\n",
       "      <td>NaN</td>\n",
       "      <td>NaN</td>\n",
       "      <td>NaN</td>\n",
       "      <td>...</td>\n",
       "      <td>4048</td>\n",
       "      <td>Video Games</td>\n",
       "      <td>Far Cry New Dawn - Deluxe Edition - Xbox [Digi...</td>\n",
       "      <td>[Dive into a transformed, post-apocalyptic Hop...</td>\n",
       "      <td>[Video Games, Xbox One, Games]</td>\n",
       "      <td>49.88</td>\n",
       "      <td>25</td>\n",
       "      <td>4.416667</td>\n",
       "      <td>B00I6E6SH6,B00O65I2VY,B005GISQQG,B00008KTNW,B0...</td>\n",
       "      <td>[2632, 2859, 1920, 253, 1428, 1053, 584, 732, ...</td>\n",
       "    </tr>\n",
       "    <tr>\n",
       "      <th>4</th>\n",
       "      <td>AHFDYGJR3SM2D463ZWKGHJPNBKDA</td>\n",
       "      <td>B002BSA2LQ</td>\n",
       "      <td>0.0</td>\n",
       "      <td>2014-01-29 22:50:20.000</td>\n",
       "      <td>2.0</td>\n",
       "      <td>4.500000</td>\n",
       "      <td>1.0</td>\n",
       "      <td>5.000000</td>\n",
       "      <td>0.0</td>\n",
       "      <td>NaN</td>\n",
       "      <td>...</td>\n",
       "      <td>1215</td>\n",
       "      <td>Video Games</td>\n",
       "      <td>Forza Motorsport 3 - Xbox 360</td>\n",
       "      <td>[Product Description, Whether it’s an exotic s...</td>\n",
       "      <td>[Video Games, Legacy Systems, Xbox Systems, Xb...</td>\n",
       "      <td>31.49</td>\n",
       "      <td>4</td>\n",
       "      <td>5.000000</td>\n",
       "      <td>B002I0K956,B008CZN458,B0050SXVK8</td>\n",
       "      <td>[-1, -1, -1, -1, -1, -1, -1, 1328, 2146, 1843]</td>\n",
       "    </tr>\n",
       "    <tr>\n",
       "      <th>...</th>\n",
       "      <td>...</td>\n",
       "      <td>...</td>\n",
       "      <td>...</td>\n",
       "      <td>...</td>\n",
       "      <td>...</td>\n",
       "      <td>...</td>\n",
       "      <td>...</td>\n",
       "      <td>...</td>\n",
       "      <td>...</td>\n",
       "      <td>...</td>\n",
       "      <td>...</td>\n",
       "      <td>...</td>\n",
       "      <td>...</td>\n",
       "      <td>...</td>\n",
       "      <td>...</td>\n",
       "      <td>...</td>\n",
       "      <td>...</td>\n",
       "      <td>...</td>\n",
       "      <td>...</td>\n",
       "      <td>...</td>\n",
       "      <td>...</td>\n",
       "    </tr>\n",
       "    <tr>\n",
       "      <th>657187</th>\n",
       "      <td>AE5TQ7DBEX2L5T665M6ZDPGYZ32Q</td>\n",
       "      <td>B01LDUYTYS</td>\n",
       "      <td>0.0</td>\n",
       "      <td>2013-10-05 20:20:52.000</td>\n",
       "      <td>NaN</td>\n",
       "      <td>NaN</td>\n",
       "      <td>NaN</td>\n",
       "      <td>NaN</td>\n",
       "      <td>NaN</td>\n",
       "      <td>NaN</td>\n",
       "      <td>...</td>\n",
       "      <td>3442</td>\n",
       "      <td>Video Games</td>\n",
       "      <td>Poochy &amp; Yoshi's Woolly World + Yarn Poochy am...</td>\n",
       "      <td>[Discover a handicraft world bursting at the s...</td>\n",
       "      <td>[Video Games, Legacy Systems, Nintendo Systems...</td>\n",
       "      <td>249.99</td>\n",
       "      <td>1</td>\n",
       "      <td>NaN</td>\n",
       "      <td>B07X1HF3V6</td>\n",
       "      <td>[-1, -1, -1, -1, -1, -1, -1, -1, -1, 4237]</td>\n",
       "    </tr>\n",
       "    <tr>\n",
       "      <th>657188</th>\n",
       "      <td>AFDG3CXM4DP7X436YNOKTJHVKJQA</td>\n",
       "      <td>B087NNPYP3</td>\n",
       "      <td>5.0</td>\n",
       "      <td>2018-07-10 21:22:10.594</td>\n",
       "      <td>127.0</td>\n",
       "      <td>4.708661</td>\n",
       "      <td>20.0</td>\n",
       "      <td>4.350000</td>\n",
       "      <td>9.0</td>\n",
       "      <td>4.0</td>\n",
       "      <td>...</td>\n",
       "      <td>4342</td>\n",
       "      <td>Video Games</td>\n",
       "      <td>The Legend of Zelda: Breath of the Wild Master...</td>\n",
       "      <td>[Woken from a 100-year slumber, Link must expl...</td>\n",
       "      <td>[Video Games, Nintendo Switch, Consoles]</td>\n",
       "      <td>None</td>\n",
       "      <td>3</td>\n",
       "      <td>5.000000</td>\n",
       "      <td>B002I0H79C,B00503E9FY,B00KVOVBGM,B00SHXKC8M,B0...</td>\n",
       "      <td>[1292, 1807, 2734, 2940, 3402, 2759, 2702, 104...</td>\n",
       "    </tr>\n",
       "    <tr>\n",
       "      <th>657189</th>\n",
       "      <td>AFOUC3S3RH7AXMPZBZHLO4WMLLVA</td>\n",
       "      <td>B004AM65C6</td>\n",
       "      <td>0.0</td>\n",
       "      <td>2018-12-16 13:39:37.174</td>\n",
       "      <td>1.0</td>\n",
       "      <td>5.000000</td>\n",
       "      <td>0.0</td>\n",
       "      <td>NaN</td>\n",
       "      <td>0.0</td>\n",
       "      <td>NaN</td>\n",
       "      <td>...</td>\n",
       "      <td>1651</td>\n",
       "      <td>Video Games</td>\n",
       "      <td>Minute to Win It (Kinect) - Xbox 360</td>\n",
       "      <td>[Product Description, Tackle unique challenges...</td>\n",
       "      <td>[Video Games, Legacy Systems, Xbox Systems, Xb...</td>\n",
       "      <td>12.48</td>\n",
       "      <td>2</td>\n",
       "      <td>5.000000</td>\n",
       "      <td>B002BSA388,B00PIEI1DG,B08MBHYJP4,B071GPJVTQ,B0...</td>\n",
       "      <td>[1216, 2898, 4397, 3643, 3642, 3527, 3423, 367...</td>\n",
       "    </tr>\n",
       "    <tr>\n",
       "      <th>657190</th>\n",
       "      <td>AEPOGF2QMAXO4W3TYP27DCQRITGA</td>\n",
       "      <td>B07X1HF3V6</td>\n",
       "      <td>0.0</td>\n",
       "      <td>2013-05-30 22:53:17.000</td>\n",
       "      <td>24.0</td>\n",
       "      <td>4.875000</td>\n",
       "      <td>12.0</td>\n",
       "      <td>4.833333</td>\n",
       "      <td>1.0</td>\n",
       "      <td>5.0</td>\n",
       "      <td>...</td>\n",
       "      <td>4237</td>\n",
       "      <td>Video Games</td>\n",
       "      <td>WB Games Mortal Kombat: Komplete Edition - Pla...</td>\n",
       "      <td>[Note:The extra downloadable content is a bonu...</td>\n",
       "      <td>[Video Games, Legacy Systems, PlayStation Syst...</td>\n",
       "      <td>34.43</td>\n",
       "      <td>4</td>\n",
       "      <td>3.666667</td>\n",
       "      <td>B0013OL0BK,B002D2Y3IS,B0044R8X9U,B07VLCRZ21,B0...</td>\n",
       "      <td>[-1, -1, -1, -1, -1, 652, 1240, 1629, 4207, 1707]</td>\n",
       "    </tr>\n",
       "    <tr>\n",
       "      <th>657191</th>\n",
       "      <td>AHZOHLRLN6MKO22GMSPC3A4S5A7Q</td>\n",
       "      <td>B004D1Z3UO</td>\n",
       "      <td>0.0</td>\n",
       "      <td>2014-09-11 21:15:29.000</td>\n",
       "      <td>8.0</td>\n",
       "      <td>4.250000</td>\n",
       "      <td>2.0</td>\n",
       "      <td>5.000000</td>\n",
       "      <td>2.0</td>\n",
       "      <td>5.0</td>\n",
       "      <td>...</td>\n",
       "      <td>1672</td>\n",
       "      <td>Video Games</td>\n",
       "      <td>Fight Night Champion - Playstation 3</td>\n",
       "      <td>[Product Description, More than just a change ...</td>\n",
       "      <td>[Video Games, Legacy Systems, PlayStation Syst...</td>\n",
       "      <td>17.87</td>\n",
       "      <td>10</td>\n",
       "      <td>4.666667</td>\n",
       "      <td>B00IAVDQCK,B00GOZSR96,B00DBDPOZ4,B00EI4V3FU,B0...</td>\n",
       "      <td>[-1, 2641, 2581, 2428, 2491, 2024, 2187, 2123,...</td>\n",
       "    </tr>\n",
       "  </tbody>\n",
       "</table>\n",
       "<p>657192 rows × 23 columns</p>\n",
       "</div>"
      ],
      "text/plain": [
       "                             user_id parent_asin  rating  \\\n",
       "0       AEKSUPM7CH53J3G5PA3JLWLJXUMQ  B00QXJFDZO     0.0   \n",
       "1       AHSNMFN6DUFTNEZAXBVPIYMXWIFQ  B075MYT126     0.0   \n",
       "2       AFE47G5MX35LSHZHZXRYEJFMYPUA  B007VYW5K6     0.0   \n",
       "3       AFJDWGBE3MGULXTO3FUZ5YB6FKDA  B07L5FKGQH     0.0   \n",
       "4       AHFDYGJR3SM2D463ZWKGHJPNBKDA  B002BSA2LQ     0.0   \n",
       "...                              ...         ...     ...   \n",
       "657187  AE5TQ7DBEX2L5T665M6ZDPGYZ32Q  B01LDUYTYS     0.0   \n",
       "657188  AFDG3CXM4DP7X436YNOKTJHVKJQA  B087NNPYP3     5.0   \n",
       "657189  AFOUC3S3RH7AXMPZBZHLO4WMLLVA  B004AM65C6     0.0   \n",
       "657190  AEPOGF2QMAXO4W3TYP27DCQRITGA  B07X1HF3V6     0.0   \n",
       "657191  AHZOHLRLN6MKO22GMSPC3A4S5A7Q  B004D1Z3UO     0.0   \n",
       "\n",
       "                     timestamp  parent_asin_rating_cnt_365d  \\\n",
       "0      2017-10-30 14:23:22.389                          6.0   \n",
       "1      2017-11-27 22:01:33.258                          NaN   \n",
       "2      2017-03-23 21:41:18.000                         12.0   \n",
       "3      2017-01-18 15:50:12.000                          NaN   \n",
       "4      2014-01-29 22:50:20.000                          2.0   \n",
       "...                        ...                          ...   \n",
       "657187 2013-10-05 20:20:52.000                          NaN   \n",
       "657188 2018-07-10 21:22:10.594                        127.0   \n",
       "657189 2018-12-16 13:39:37.174                          1.0   \n",
       "657190 2013-05-30 22:53:17.000                         24.0   \n",
       "657191 2014-09-11 21:15:29.000                          8.0   \n",
       "\n",
       "        parent_asin_rating_avg_prev_rating_365d  parent_asin_rating_cnt_90d  \\\n",
       "0                                      3.666667                         0.0   \n",
       "1                                           NaN                         NaN   \n",
       "2                                      4.166667                         2.0   \n",
       "3                                           NaN                         NaN   \n",
       "4                                      4.500000                         1.0   \n",
       "...                                         ...                         ...   \n",
       "657187                                      NaN                         NaN   \n",
       "657188                                 4.708661                        20.0   \n",
       "657189                                 5.000000                         0.0   \n",
       "657190                                 4.875000                        12.0   \n",
       "657191                                 4.250000                         2.0   \n",
       "\n",
       "        parent_asin_rating_avg_prev_rating_90d  parent_asin_rating_cnt_30d  \\\n",
       "0                                          NaN                         0.0   \n",
       "1                                          NaN                         NaN   \n",
       "2                                     4.000000                         0.0   \n",
       "3                                          NaN                         NaN   \n",
       "4                                     5.000000                         0.0   \n",
       "...                                        ...                         ...   \n",
       "657187                                     NaN                         NaN   \n",
       "657188                                4.350000                         9.0   \n",
       "657189                                     NaN                         0.0   \n",
       "657190                                4.833333                         1.0   \n",
       "657191                                5.000000                         2.0   \n",
       "\n",
       "        parent_asin_rating_avg_prev_rating_30d  ...  item_indice  \\\n",
       "0                                          NaN  ...         2919   \n",
       "1                                          NaN  ...         3777   \n",
       "2                                          NaN  ...         2086   \n",
       "3                                          NaN  ...         4048   \n",
       "4                                          NaN  ...         1215   \n",
       "...                                        ...  ...          ...   \n",
       "657187                                     NaN  ...         3442   \n",
       "657188                                     4.0  ...         4342   \n",
       "657189                                     NaN  ...         1651   \n",
       "657190                                     5.0  ...         4237   \n",
       "657191                                     5.0  ...         1672   \n",
       "\n",
       "        main_category                                              title  \\\n",
       "0         Video Games                           Godzilla - PlayStation 4   \n",
       "1         Video Games  Nintendo Switch Pro Controller - Xenoblade Chr...   \n",
       "2         Video Games                          Crysis 3 [Instant Access]   \n",
       "3         Video Games  Far Cry New Dawn - Deluxe Edition - Xbox [Digi...   \n",
       "4         Video Games                      Forza Motorsport 3 - Xbox 360   \n",
       "...               ...                                                ...   \n",
       "657187    Video Games  Poochy & Yoshi's Woolly World + Yarn Poochy am...   \n",
       "657188    Video Games  The Legend of Zelda: Breath of the Wild Master...   \n",
       "657189    Video Games               Minute to Win It (Kinect) - Xbox 360   \n",
       "657190    Video Games  WB Games Mortal Kombat: Komplete Edition - Pla...   \n",
       "657191    Video Games               Fight Night Champion - Playstation 3   \n",
       "\n",
       "                                              description  \\\n",
       "0       [Godzilla, the King of the Monsters, first app...   \n",
       "1       [Kick your game sessions up a notch with the N...   \n",
       "2       [The award-winning developer crytek is back wi...   \n",
       "3       [Dive into a transformed, post-apocalyptic Hop...   \n",
       "4       [Product Description, Whether it’s an exotic s...   \n",
       "...                                                   ...   \n",
       "657187  [Discover a handicraft world bursting at the s...   \n",
       "657188  [Woken from a 100-year slumber, Link must expl...   \n",
       "657189  [Product Description, Tackle unique challenges...   \n",
       "657190  [Note:The extra downloadable content is a bonu...   \n",
       "657191  [Product Description, More than just a change ...   \n",
       "\n",
       "                                               categories   price  \\\n",
       "0                     [Video Games, PlayStation 4, Games]    None   \n",
       "1       [Video Games, Nintendo Switch, Accessories, Co...   94.98   \n",
       "2                                       [Video Games, PC]    None   \n",
       "3                          [Video Games, Xbox One, Games]   49.88   \n",
       "4       [Video Games, Legacy Systems, Xbox Systems, Xb...   31.49   \n",
       "...                                                   ...     ...   \n",
       "657187  [Video Games, Legacy Systems, Nintendo Systems...  249.99   \n",
       "657188           [Video Games, Nintendo Switch, Consoles]    None   \n",
       "657189  [Video Games, Legacy Systems, Xbox Systems, Xb...   12.48   \n",
       "657190  [Video Games, Legacy Systems, PlayStation Syst...   34.43   \n",
       "657191  [Video Games, Legacy Systems, PlayStation Syst...   17.87   \n",
       "\n",
       "       user_rating_cnt_90d user_rating_avg_prev_rating_90d  \\\n",
       "0                        2                        5.000000   \n",
       "1                        2                        4.000000   \n",
       "2                        1                             NaN   \n",
       "3                       25                        4.416667   \n",
       "4                        4                        5.000000   \n",
       "...                    ...                             ...   \n",
       "657187                   1                             NaN   \n",
       "657188                   3                        5.000000   \n",
       "657189                   2                        5.000000   \n",
       "657190                   4                        3.666667   \n",
       "657191                  10                        4.666667   \n",
       "\n",
       "                          user_rating_list_10_recent_asin  \\\n",
       "0             B005FVBYV8,B003FMTZSI,B01MS6WG9S,B073W2T5F6   \n",
       "1       B00CJ9OTNE,B0118YZG0A,B008M502H6,B003Y70W4U,B0...   \n",
       "2       B07YBX8RNF,B0166QDJDQ,B01CHU4IY4,B00Z9LUDX4,B0...   \n",
       "3       B00I6E6SH6,B00O65I2VY,B005GISQQG,B00008KTNW,B0...   \n",
       "4                        B002I0K956,B008CZN458,B0050SXVK8   \n",
       "...                                                   ...   \n",
       "657187                                         B07X1HF3V6   \n",
       "657188  B002I0H79C,B00503E9FY,B00KVOVBGM,B00SHXKC8M,B0...   \n",
       "657189  B002BSA388,B00PIEI1DG,B08MBHYJP4,B071GPJVTQ,B0...   \n",
       "657190  B0013OL0BK,B002D2Y3IS,B0044R8X9U,B07VLCRZ21,B0...   \n",
       "657191  B00IAVDQCK,B00GOZSR96,B00DBDPOZ4,B00EI4V3FU,B0...   \n",
       "\n",
       "                                            item_sequence  \n",
       "0        [-1, -1, -1, -1, -1, -1, 1912, 1470, 3498, 3723]  \n",
       "1       [2391, 3100, 2176, 1588, 3161, 2133, 2906, 166...  \n",
       "2       [4278, 3183, 3288, 3038, 4508, 3391, 3403, 368...  \n",
       "3       [2632, 2859, 1920, 253, 1428, 1053, 584, 732, ...  \n",
       "4          [-1, -1, -1, -1, -1, -1, -1, 1328, 2146, 1843]  \n",
       "...                                                   ...  \n",
       "657187         [-1, -1, -1, -1, -1, -1, -1, -1, -1, 4237]  \n",
       "657188  [1292, 1807, 2734, 2940, 3402, 2759, 2702, 104...  \n",
       "657189  [1216, 2898, 4397, 3643, 3642, 3527, 3423, 367...  \n",
       "657190  [-1, -1, -1, -1, -1, 652, 1240, 1629, 4207, 1707]  \n",
       "657191  [-1, 2641, 2581, 2428, 2491, 2024, 2187, 2123,...  \n",
       "\n",
       "[657192 rows x 23 columns]"
      ]
     },
     "execution_count": 19,
     "metadata": {},
     "output_type": "execute_result"
    }
   ],
   "source": [
    "train_df"
   ]
  },
  {
   "cell_type": "code",
   "execution_count": 20,
   "id": "bd469969-aaa6-4763-a0fc-d432961cf4dc",
   "metadata": {
    "scrolled": true
   },
   "outputs": [
    {
     "data": {
      "application/vnd.jupyter.widget-view+json": {
       "model_id": "a60d1ef14f4a49f789a8fca7278b0222",
       "version_major": 2,
       "version_minor": 0
      },
      "text/plain": [
       "  0%|          | 0/5 [00:00<?, ?it/s]"
      ]
     },
     "metadata": {},
     "output_type": "display_data"
    },
    {
     "data": {
      "application/vnd.jupyter.widget-view+json": {
       "model_id": "0741eec94e1f4748b19366ea45994647",
       "version_major": 2,
       "version_minor": 0
      },
      "text/plain": [
       "Transforming chunks:   0%|          | 0/66 [00:00<?, ?it/s]"
      ]
     },
     "metadata": {},
     "output_type": "display_data"
    },
    {
     "data": {
      "application/vnd.jupyter.widget-view+json": {
       "model_id": "eb6b82bec509414ca5f36cfc2c58fcce",
       "version_major": 2,
       "version_minor": 0
      },
      "text/plain": [
       "Transforming chunks:   0%|          | 0/1 [00:00<?, ?it/s]"
      ]
     },
     "metadata": {},
     "output_type": "display_data"
    },
    {
     "name": "stderr",
     "output_type": "stream",
     "text": [
      "\u001b[32m2024-10-27 22:42:50.271\u001b[0m | \u001b[1mINFO    \u001b[0m | \u001b[36m__main__\u001b[0m:\u001b[36m<module>\u001b[0m:\u001b[36m19\u001b[0m - \u001b[1mlen(user_indices)=19,578, len(item_indices)=4,630\u001b[0m\n"
     ]
    }
   ],
   "source": [
    "user_indices = train_df[\"user_indice\"].unique()\n",
    "item_indices = train_df[\"item_indice\"].unique()\n",
    "all_sbert_vectors = ann_index.get_vector_by_ids(item_indices.tolist(), chunk_size=1000).astype(np.float32)\n",
    "\n",
    "train_item_features = chunk_transform(\n",
    "    train_df, item_metadata_pipeline, chunk_size=args.tfm_chunk_size\n",
    ")\n",
    "train_item_features = train_item_features.astype(np.float32)\n",
    "train_sbert_vectors = all_sbert_vectors[train_df['item_indice'].values]\n",
    "train_item_features = np.hstack([train_item_features, train_sbert_vectors])\n",
    "\n",
    "val_item_features = chunk_transform(\n",
    "    val_df, item_metadata_pipeline, chunk_size=args.tfm_chunk_size\n",
    ")\n",
    "val_item_features = val_item_features.astype(np.float32)\n",
    "val_sbert_vectors = all_sbert_vectors[val_df['item_indice'].values]\n",
    "val_item_features = np.hstack([val_item_features, val_sbert_vectors])\n",
    "\n",
    "logger.info(f\"{len(user_indices)=:,.0f}, {len(item_indices)=:,.0f}\")"
   ]
  },
  {
   "cell_type": "markdown",
   "id": "5260fbe7-2f90-44a1-be74-ce5db9b511ee",
   "metadata": {},
   "source": [
    "# Train"
   ]
  },
  {
   "cell_type": "code",
   "execution_count": 21,
   "id": "240a04ed-8898-443f-b0f4-7399bfa63810",
   "metadata": {},
   "outputs": [],
   "source": [
    "rating_dataset = UserItemBinaryDFDataset(\n",
    "    train_df,\n",
    "    \"user_indice\",\n",
    "    \"item_indice\",\n",
    "    args.rating_col,\n",
    "    args.timestamp_col,\n",
    "    item_feature=train_item_features,\n",
    ")\n",
    "val_rating_dataset = UserItemBinaryDFDataset(\n",
    "    val_df,\n",
    "    \"user_indice\",\n",
    "    \"item_indice\",\n",
    "    args.rating_col,\n",
    "    args.timestamp_col,\n",
    "    item_feature=val_item_features,\n",
    ")\n",
    "\n",
    "train_loader = DataLoader(\n",
    "    rating_dataset, batch_size=args.batch_size, shuffle=True, drop_last=True\n",
    ")\n",
    "val_loader = DataLoader(\n",
    "    val_rating_dataset, batch_size=args.batch_size, shuffle=False, drop_last=False\n",
    ")"
   ]
  },
  {
   "cell_type": "code",
   "execution_count": 22,
   "id": "22dcf157-425f-4d15-9b53-e1ff93887def",
   "metadata": {
    "scrolled": true
   },
   "outputs": [
    {
     "data": {
      "text/plain": [
       "Ranker(\n",
       "  (item_embedding): Embedding(4631, 128, padding_idx=4630)\n",
       "  (user_embedding): Embedding(19578, 128)\n",
       "  (gru): GRU(128, 128, batch_first=True)\n",
       "  (relu): ReLU()\n",
       "  (dropout): Dropout(p=0.3, inplace=False)\n",
       "  (item_feature_tower): Sequential(\n",
       "    (0): Linear(in_features=929, out_features=128, bias=True)\n",
       "    (1): BatchNorm1d(128, eps=1e-05, momentum=0.1, affine=True, track_running_stats=True)\n",
       "    (2): ReLU()\n",
       "    (3): Dropout(p=0.3, inplace=False)\n",
       "  )\n",
       "  (fc_rating): Sequential(\n",
       "    (0): Linear(in_features=512, out_features=128, bias=True)\n",
       "    (1): BatchNorm1d(128, eps=1e-05, momentum=0.1, affine=True, track_running_stats=True)\n",
       "    (2): ReLU()\n",
       "    (3): Dropout(p=0.3, inplace=False)\n",
       "    (4): Linear(in_features=128, out_features=1, bias=True)\n",
       "    (5): Sigmoid()\n",
       "  )\n",
       ")"
      ]
     },
     "execution_count": 22,
     "metadata": {},
     "output_type": "execute_result"
    }
   ],
   "source": [
    "n_items = len(item_indices)\n",
    "n_users = len(user_indices)\n",
    "\n",
    "model = init_model(\n",
    "    n_users, n_items, args.embedding_dim, item_feature_size, args.dropout\n",
    ")\n",
    "model"
   ]
  },
  {
   "cell_type": "markdown",
   "id": "b8cbb2a8-a578-4ad2-941e-efd01d930336",
   "metadata": {},
   "source": [
    "#### Predict before train"
   ]
  },
  {
   "cell_type": "code",
   "execution_count": 23,
   "id": "0112de1e-1dce-4982-9663-a1df91fd0001",
   "metadata": {
    "scrolled": true
   },
   "outputs": [
    {
     "data": {
      "text/html": [
       "<div>\n",
       "<style scoped>\n",
       "    .dataframe tbody tr th:only-of-type {\n",
       "        vertical-align: middle;\n",
       "    }\n",
       "\n",
       "    .dataframe tbody tr th {\n",
       "        vertical-align: top;\n",
       "    }\n",
       "\n",
       "    .dataframe thead th {\n",
       "        text-align: right;\n",
       "    }\n",
       "</style>\n",
       "<table border=\"1\" class=\"dataframe\">\n",
       "  <thead>\n",
       "    <tr style=\"text-align: right;\">\n",
       "      <th></th>\n",
       "      <th>user_id</th>\n",
       "      <th>parent_asin</th>\n",
       "      <th>rating</th>\n",
       "      <th>timestamp</th>\n",
       "      <th>parent_asin_rating_cnt_365d</th>\n",
       "      <th>parent_asin_rating_avg_prev_rating_365d</th>\n",
       "      <th>parent_asin_rating_cnt_90d</th>\n",
       "      <th>parent_asin_rating_avg_prev_rating_90d</th>\n",
       "      <th>parent_asin_rating_cnt_30d</th>\n",
       "      <th>parent_asin_rating_avg_prev_rating_30d</th>\n",
       "      <th>...</th>\n",
       "      <th>item_indice</th>\n",
       "      <th>main_category</th>\n",
       "      <th>title</th>\n",
       "      <th>description</th>\n",
       "      <th>categories</th>\n",
       "      <th>price</th>\n",
       "      <th>user_rating_cnt_90d</th>\n",
       "      <th>user_rating_avg_prev_rating_90d</th>\n",
       "      <th>user_rating_list_10_recent_asin</th>\n",
       "      <th>item_sequence</th>\n",
       "    </tr>\n",
       "  </thead>\n",
       "  <tbody>\n",
       "    <tr>\n",
       "      <th>3503</th>\n",
       "      <td>AF3GQJW534GEP3I4WKRGKXHBKE3Q</td>\n",
       "      <td>B00DJRLDMU</td>\n",
       "      <td>0.0</td>\n",
       "      <td>2021-12-27 03:58:04.746</td>\n",
       "      <td>0.0</td>\n",
       "      <td>NaN</td>\n",
       "      <td>0.0</td>\n",
       "      <td>NaN</td>\n",
       "      <td>0.0</td>\n",
       "      <td>NaN</td>\n",
       "      <td>...</td>\n",
       "      <td>2448</td>\n",
       "      <td>Video Games</td>\n",
       "      <td>Tom Clancy’s The Division Underground - Xbox O...</td>\n",
       "      <td>[In Expansion I, Underground, the factions of ...</td>\n",
       "      <td>[Video Games, Xbox One, Downloadable Content]</td>\n",
       "      <td>None</td>\n",
       "      <td>1</td>\n",
       "      <td>NaN</td>\n",
       "      <td>B00DDILSBG,B01GY35HKE,B072C3VM5F,B01M6C7YE8,B0...</td>\n",
       "      <td>[-1, -1, -1, -1, -1, 2441, 3373, 3691, 3479, 4...</td>\n",
       "    </tr>\n",
       "    <tr>\n",
       "      <th>777</th>\n",
       "      <td>AH2NODYUKDSKO36GWENCKJCA26CQ</td>\n",
       "      <td>B0002XL3BA</td>\n",
       "      <td>0.0</td>\n",
       "      <td>2022-04-05 18:58:50.338</td>\n",
       "      <td>1.0</td>\n",
       "      <td>5.000000</td>\n",
       "      <td>1.0</td>\n",
       "      <td>5.000000</td>\n",
       "      <td>0.0</td>\n",
       "      <td>NaN</td>\n",
       "      <td>...</td>\n",
       "      <td>342</td>\n",
       "      <td>Video Games</td>\n",
       "      <td>God of War - PlayStation 2</td>\n",
       "      <td>[Unleash the power of the Gods and embark on a...</td>\n",
       "      <td>[Video Games, Legacy Systems, PlayStation Syst...</td>\n",
       "      <td>17.98</td>\n",
       "      <td>1</td>\n",
       "      <td>NaN</td>\n",
       "      <td>B003DOSRSW,B002JTX78M,B01GY35YXO,B01GKFPFZS,B0...</td>\n",
       "      <td>[-1, -1, -1, -1, 1459, 1346, 3378, 3345, 2581,...</td>\n",
       "    </tr>\n",
       "    <tr>\n",
       "      <th>2429</th>\n",
       "      <td>AGIUOPGPDP4YXZFQPSUPH4WDSP2A</td>\n",
       "      <td>B08SBWDBDB</td>\n",
       "      <td>1.0</td>\n",
       "      <td>2021-10-29 18:03:04.248</td>\n",
       "      <td>1.0</td>\n",
       "      <td>5.000000</td>\n",
       "      <td>0.0</td>\n",
       "      <td>NaN</td>\n",
       "      <td>0.0</td>\n",
       "      <td>NaN</td>\n",
       "      <td>...</td>\n",
       "      <td>4431</td>\n",
       "      <td>Video Games</td>\n",
       "      <td>eXtremeRate Green Purple Chameleon Replacement...</td>\n",
       "      <td>[]</td>\n",
       "      <td>[Video Games, Nintendo Switch, Accessories]</td>\n",
       "      <td>13.99</td>\n",
       "      <td>1</td>\n",
       "      <td>NaN</td>\n",
       "      <td>B07L3D7C21,B08D3XL1KF,B0719W8QL3,B07CV6LH3V,B0...</td>\n",
       "      <td>[-1, -1, -1, 4043, 4368, 3632, 3908, 3729, 417...</td>\n",
       "    </tr>\n",
       "    <tr>\n",
       "      <th>3558</th>\n",
       "      <td>AHEAWXZ7P75OLPT25RKZYPW4HKSQ</td>\n",
       "      <td>B001EYUSJ4</td>\n",
       "      <td>0.0</td>\n",
       "      <td>2021-12-07 16:23:39.578</td>\n",
       "      <td>1.0</td>\n",
       "      <td>4.000000</td>\n",
       "      <td>0.0</td>\n",
       "      <td>NaN</td>\n",
       "      <td>0.0</td>\n",
       "      <td>NaN</td>\n",
       "      <td>...</td>\n",
       "      <td>955</td>\n",
       "      <td>Video Games</td>\n",
       "      <td>Final Fantasy XIII - Playstation 3</td>\n",
       "      <td>[Product Description, Final Fantasy XIII is th...</td>\n",
       "      <td>[Video Games, Legacy Systems, PlayStation Syst...</td>\n",
       "      <td>17.97</td>\n",
       "      <td>1</td>\n",
       "      <td>NaN</td>\n",
       "      <td>B001EYUS7G,B00BQVXUOA,B00KIFM28A,B001SGZL2W,B0...</td>\n",
       "      <td>[949, 2356, 2705, 1149, 2721, 2448, 4284, 3357...</td>\n",
       "    </tr>\n",
       "    <tr>\n",
       "      <th>3013</th>\n",
       "      <td>AGULGCFB6EZHH6LDKKEYR4QQ477Q</td>\n",
       "      <td>B08XD54VJY</td>\n",
       "      <td>1.0</td>\n",
       "      <td>2021-08-16 01:54:55.683</td>\n",
       "      <td>12.0</td>\n",
       "      <td>4.083333</td>\n",
       "      <td>12.0</td>\n",
       "      <td>4.083333</td>\n",
       "      <td>11.0</td>\n",
       "      <td>4.181818</td>\n",
       "      <td>...</td>\n",
       "      <td>4440</td>\n",
       "      <td>Video Games</td>\n",
       "      <td>The Legend of Zelda: Skyward Sword HD - Ninten...</td>\n",
       "      <td>[Solve puzzles, explore dungeons, and soar the...</td>\n",
       "      <td>[Video Games, Nintendo Switch, Games]</td>\n",
       "      <td>48.49</td>\n",
       "      <td>1</td>\n",
       "      <td>NaN</td>\n",
       "      <td>B002BSH3K4,B0BWD2QV4N,B001ELJF8M,B07J2KVXY3,B0...</td>\n",
       "      <td>[-1, -1, -1, -1, -1, 1224, 4586, 796, 4016, 531]</td>\n",
       "    </tr>\n",
       "    <tr>\n",
       "      <th>3774</th>\n",
       "      <td>AF5SJBTOYDT5LR7HPQ6OZ77CO3NA</td>\n",
       "      <td>B008HPAXZ2</td>\n",
       "      <td>0.0</td>\n",
       "      <td>2022-03-28 21:57:29.641</td>\n",
       "      <td>0.0</td>\n",
       "      <td>NaN</td>\n",
       "      <td>0.0</td>\n",
       "      <td>NaN</td>\n",
       "      <td>0.0</td>\n",
       "      <td>NaN</td>\n",
       "      <td>...</td>\n",
       "      <td>2157</td>\n",
       "      <td>Video Games</td>\n",
       "      <td>HORI Nintendo 3DS XL Screen Protective Filter</td>\n",
       "      <td>[Officially licensed by Nintendo. This is the ...</td>\n",
       "      <td>[Video Games, Legacy Systems, Nintendo Systems...</td>\n",
       "      <td>None</td>\n",
       "      <td>1</td>\n",
       "      <td>NaN</td>\n",
       "      <td>B00000K1VA,B00001XDUB,B00004WMVL,B00000K1VE,B0...</td>\n",
       "      <td>[27, 37, 113, 28, 231, 427, 551, 2321, 4013, 4...</td>\n",
       "    </tr>\n",
       "    <tr>\n",
       "      <th>487</th>\n",
       "      <td>AHCFZPQLIV7236UBXSGU3I5SMXBQ</td>\n",
       "      <td>B00QO4NAOO</td>\n",
       "      <td>1.0</td>\n",
       "      <td>2021-12-07 21:14:02.259</td>\n",
       "      <td>2.0</td>\n",
       "      <td>5.000000</td>\n",
       "      <td>0.0</td>\n",
       "      <td>NaN</td>\n",
       "      <td>0.0</td>\n",
       "      <td>NaN</td>\n",
       "      <td>...</td>\n",
       "      <td>2916</td>\n",
       "      <td>Video Games</td>\n",
       "      <td>MLB 15: The Show (10th Anniversary Edition)</td>\n",
       "      <td>[The 10th edition of “The Show” and the best w...</td>\n",
       "      <td>[Video Games, PlayStation 4]</td>\n",
       "      <td>41.99</td>\n",
       "      <td>3</td>\n",
       "      <td>4.5</td>\n",
       "      <td>B072V478NR,B076GXJNDZ,B0C5HQ6L7F,B072C3VM5F,B0...</td>\n",
       "      <td>[3705, 3798, 4612, 3691, 3087, 3479, 3723, 391...</td>\n",
       "    </tr>\n",
       "    <tr>\n",
       "      <th>3834</th>\n",
       "      <td>AGEWEMFAC5HSC2DQF4PRJU3UISVA</td>\n",
       "      <td>B00K308KF4</td>\n",
       "      <td>0.0</td>\n",
       "      <td>2022-01-16 20:31:55.061</td>\n",
       "      <td>4.0</td>\n",
       "      <td>3.500000</td>\n",
       "      <td>0.0</td>\n",
       "      <td>NaN</td>\n",
       "      <td>0.0</td>\n",
       "      <td>NaN</td>\n",
       "      <td>...</td>\n",
       "      <td>2694</td>\n",
       "      <td>Video Games</td>\n",
       "      <td>Call of Duty Advanced Warfare - Day Zero Edition</td>\n",
       "      <td>[Order and get access to the Call of Duty: Adv...</td>\n",
       "      <td>[Video Games, Xbox One, Games]</td>\n",
       "      <td>29.47</td>\n",
       "      <td>1</td>\n",
       "      <td>NaN</td>\n",
       "      <td>B001EYUU2O,B00K5HTPR2,B07K3KHFSY,B00GN67PJ4,B0...</td>\n",
       "      <td>[-1, 977, 2697, 4028, 2578, 2391, 3007, 3077, ...</td>\n",
       "    </tr>\n",
       "    <tr>\n",
       "      <th>2401</th>\n",
       "      <td>AGJFKYY6UEHVJNRG2IBKLWYHOMUQ</td>\n",
       "      <td>B0080CAO9C</td>\n",
       "      <td>0.0</td>\n",
       "      <td>2022-06-06 03:26:47.178</td>\n",
       "      <td>0.0</td>\n",
       "      <td>NaN</td>\n",
       "      <td>0.0</td>\n",
       "      <td>NaN</td>\n",
       "      <td>0.0</td>\n",
       "      <td>NaN</td>\n",
       "      <td>...</td>\n",
       "      <td>2101</td>\n",
       "      <td>Video Games</td>\n",
       "      <td>Pro Evolution Soccer 2013 - Xbox 360</td>\n",
       "      <td>[Product Description, This fall Pro Evolution ...</td>\n",
       "      <td>[Video Games, Legacy Systems, Xbox Systems, Xb...</td>\n",
       "      <td>20.25</td>\n",
       "      <td>1</td>\n",
       "      <td>NaN</td>\n",
       "      <td>B00267S2A0,B001G7PRLS,B003O6E620,B078FBVJMB,B0...</td>\n",
       "      <td>[-1, -1, -1, -1, -1, 1178, 1070, 1511, 3829, 3...</td>\n",
       "    </tr>\n",
       "    <tr>\n",
       "      <th>1059</th>\n",
       "      <td>AEEFFIJ2GOSCLNBGCIDOF7HKXB7Q</td>\n",
       "      <td>B000E36ONK</td>\n",
       "      <td>0.0</td>\n",
       "      <td>2022-06-22 10:20:48.475</td>\n",
       "      <td>0.0</td>\n",
       "      <td>NaN</td>\n",
       "      <td>0.0</td>\n",
       "      <td>NaN</td>\n",
       "      <td>0.0</td>\n",
       "      <td>NaN</td>\n",
       "      <td>...</td>\n",
       "      <td>434</td>\n",
       "      <td>Video Games</td>\n",
       "      <td>Harvest Moon Magical Melody - Gamecube</td>\n",
       "      <td>[Harvest Moon: Magical Melody is a unique new ...</td>\n",
       "      <td>[Video Games, Legacy Systems, Nintendo Systems...</td>\n",
       "      <td>59.95</td>\n",
       "      <td>1</td>\n",
       "      <td>NaN</td>\n",
       "      <td>B00HM3QQVK,B0072A4GQK,B0144K8KQW,B0BN2FNKLM,B0...</td>\n",
       "      <td>[2609, 2033, 3138, 4569, 3527, 3687, 3729, 366...</td>\n",
       "    </tr>\n",
       "  </tbody>\n",
       "</table>\n",
       "<p>10 rows × 23 columns</p>\n",
       "</div>"
      ],
      "text/plain": [
       "                           user_id parent_asin  rating  \\\n",
       "3503  AF3GQJW534GEP3I4WKRGKXHBKE3Q  B00DJRLDMU     0.0   \n",
       "777   AH2NODYUKDSKO36GWENCKJCA26CQ  B0002XL3BA     0.0   \n",
       "2429  AGIUOPGPDP4YXZFQPSUPH4WDSP2A  B08SBWDBDB     1.0   \n",
       "3558  AHEAWXZ7P75OLPT25RKZYPW4HKSQ  B001EYUSJ4     0.0   \n",
       "3013  AGULGCFB6EZHH6LDKKEYR4QQ477Q  B08XD54VJY     1.0   \n",
       "3774  AF5SJBTOYDT5LR7HPQ6OZ77CO3NA  B008HPAXZ2     0.0   \n",
       "487   AHCFZPQLIV7236UBXSGU3I5SMXBQ  B00QO4NAOO     1.0   \n",
       "3834  AGEWEMFAC5HSC2DQF4PRJU3UISVA  B00K308KF4     0.0   \n",
       "2401  AGJFKYY6UEHVJNRG2IBKLWYHOMUQ  B0080CAO9C     0.0   \n",
       "1059  AEEFFIJ2GOSCLNBGCIDOF7HKXB7Q  B000E36ONK     0.0   \n",
       "\n",
       "                   timestamp  parent_asin_rating_cnt_365d  \\\n",
       "3503 2021-12-27 03:58:04.746                          0.0   \n",
       "777  2022-04-05 18:58:50.338                          1.0   \n",
       "2429 2021-10-29 18:03:04.248                          1.0   \n",
       "3558 2021-12-07 16:23:39.578                          1.0   \n",
       "3013 2021-08-16 01:54:55.683                         12.0   \n",
       "3774 2022-03-28 21:57:29.641                          0.0   \n",
       "487  2021-12-07 21:14:02.259                          2.0   \n",
       "3834 2022-01-16 20:31:55.061                          4.0   \n",
       "2401 2022-06-06 03:26:47.178                          0.0   \n",
       "1059 2022-06-22 10:20:48.475                          0.0   \n",
       "\n",
       "      parent_asin_rating_avg_prev_rating_365d  parent_asin_rating_cnt_90d  \\\n",
       "3503                                      NaN                         0.0   \n",
       "777                                  5.000000                         1.0   \n",
       "2429                                 5.000000                         0.0   \n",
       "3558                                 4.000000                         0.0   \n",
       "3013                                 4.083333                        12.0   \n",
       "3774                                      NaN                         0.0   \n",
       "487                                  5.000000                         0.0   \n",
       "3834                                 3.500000                         0.0   \n",
       "2401                                      NaN                         0.0   \n",
       "1059                                      NaN                         0.0   \n",
       "\n",
       "      parent_asin_rating_avg_prev_rating_90d  parent_asin_rating_cnt_30d  \\\n",
       "3503                                     NaN                         0.0   \n",
       "777                                 5.000000                         0.0   \n",
       "2429                                     NaN                         0.0   \n",
       "3558                                     NaN                         0.0   \n",
       "3013                                4.083333                        11.0   \n",
       "3774                                     NaN                         0.0   \n",
       "487                                      NaN                         0.0   \n",
       "3834                                     NaN                         0.0   \n",
       "2401                                     NaN                         0.0   \n",
       "1059                                     NaN                         0.0   \n",
       "\n",
       "      parent_asin_rating_avg_prev_rating_30d  ...  item_indice  main_category  \\\n",
       "3503                                     NaN  ...         2448    Video Games   \n",
       "777                                      NaN  ...          342    Video Games   \n",
       "2429                                     NaN  ...         4431    Video Games   \n",
       "3558                                     NaN  ...          955    Video Games   \n",
       "3013                                4.181818  ...         4440    Video Games   \n",
       "3774                                     NaN  ...         2157    Video Games   \n",
       "487                                      NaN  ...         2916    Video Games   \n",
       "3834                                     NaN  ...         2694    Video Games   \n",
       "2401                                     NaN  ...         2101    Video Games   \n",
       "1059                                     NaN  ...          434    Video Games   \n",
       "\n",
       "                                                  title  \\\n",
       "3503  Tom Clancy’s The Division Underground - Xbox O...   \n",
       "777                          God of War - PlayStation 2   \n",
       "2429  eXtremeRate Green Purple Chameleon Replacement...   \n",
       "3558                 Final Fantasy XIII - Playstation 3   \n",
       "3013  The Legend of Zelda: Skyward Sword HD - Ninten...   \n",
       "3774      HORI Nintendo 3DS XL Screen Protective Filter   \n",
       "487         MLB 15: The Show (10th Anniversary Edition)   \n",
       "3834   Call of Duty Advanced Warfare - Day Zero Edition   \n",
       "2401               Pro Evolution Soccer 2013 - Xbox 360   \n",
       "1059             Harvest Moon Magical Melody - Gamecube   \n",
       "\n",
       "                                            description  \\\n",
       "3503  [In Expansion I, Underground, the factions of ...   \n",
       "777   [Unleash the power of the Gods and embark on a...   \n",
       "2429                                                 []   \n",
       "3558  [Product Description, Final Fantasy XIII is th...   \n",
       "3013  [Solve puzzles, explore dungeons, and soar the...   \n",
       "3774  [Officially licensed by Nintendo. This is the ...   \n",
       "487   [The 10th edition of “The Show” and the best w...   \n",
       "3834  [Order and get access to the Call of Duty: Adv...   \n",
       "2401  [Product Description, This fall Pro Evolution ...   \n",
       "1059  [Harvest Moon: Magical Melody is a unique new ...   \n",
       "\n",
       "                                             categories  price  \\\n",
       "3503      [Video Games, Xbox One, Downloadable Content]   None   \n",
       "777   [Video Games, Legacy Systems, PlayStation Syst...  17.98   \n",
       "2429        [Video Games, Nintendo Switch, Accessories]  13.99   \n",
       "3558  [Video Games, Legacy Systems, PlayStation Syst...  17.97   \n",
       "3013              [Video Games, Nintendo Switch, Games]  48.49   \n",
       "3774  [Video Games, Legacy Systems, Nintendo Systems...   None   \n",
       "487                        [Video Games, PlayStation 4]  41.99   \n",
       "3834                     [Video Games, Xbox One, Games]  29.47   \n",
       "2401  [Video Games, Legacy Systems, Xbox Systems, Xb...  20.25   \n",
       "1059  [Video Games, Legacy Systems, Nintendo Systems...  59.95   \n",
       "\n",
       "     user_rating_cnt_90d user_rating_avg_prev_rating_90d  \\\n",
       "3503                   1                             NaN   \n",
       "777                    1                             NaN   \n",
       "2429                   1                             NaN   \n",
       "3558                   1                             NaN   \n",
       "3013                   1                             NaN   \n",
       "3774                   1                             NaN   \n",
       "487                    3                             4.5   \n",
       "3834                   1                             NaN   \n",
       "2401                   1                             NaN   \n",
       "1059                   1                             NaN   \n",
       "\n",
       "                        user_rating_list_10_recent_asin  \\\n",
       "3503  B00DDILSBG,B01GY35HKE,B072C3VM5F,B01M6C7YE8,B0...   \n",
       "777   B003DOSRSW,B002JTX78M,B01GY35YXO,B01GKFPFZS,B0...   \n",
       "2429  B07L3D7C21,B08D3XL1KF,B0719W8QL3,B07CV6LH3V,B0...   \n",
       "3558  B001EYUS7G,B00BQVXUOA,B00KIFM28A,B001SGZL2W,B0...   \n",
       "3013  B002BSH3K4,B0BWD2QV4N,B001ELJF8M,B07J2KVXY3,B0...   \n",
       "3774  B00000K1VA,B00001XDUB,B00004WMVL,B00000K1VE,B0...   \n",
       "487   B072V478NR,B076GXJNDZ,B0C5HQ6L7F,B072C3VM5F,B0...   \n",
       "3834  B001EYUU2O,B00K5HTPR2,B07K3KHFSY,B00GN67PJ4,B0...   \n",
       "2401  B00267S2A0,B001G7PRLS,B003O6E620,B078FBVJMB,B0...   \n",
       "1059  B00HM3QQVK,B0072A4GQK,B0144K8KQW,B0BN2FNKLM,B0...   \n",
       "\n",
       "                                          item_sequence  \n",
       "3503  [-1, -1, -1, -1, -1, 2441, 3373, 3691, 3479, 4...  \n",
       "777   [-1, -1, -1, -1, 1459, 1346, 3378, 3345, 2581,...  \n",
       "2429  [-1, -1, -1, 4043, 4368, 3632, 3908, 3729, 417...  \n",
       "3558  [949, 2356, 2705, 1149, 2721, 2448, 4284, 3357...  \n",
       "3013   [-1, -1, -1, -1, -1, 1224, 4586, 796, 4016, 531]  \n",
       "3774  [27, 37, 113, 28, 231, 427, 551, 2321, 4013, 4...  \n",
       "487   [3705, 3798, 4612, 3691, 3087, 3479, 3723, 391...  \n",
       "3834  [-1, 977, 2697, 4028, 2578, 2391, 3007, 3077, ...  \n",
       "2401  [-1, -1, -1, -1, -1, 1178, 1070, 1511, 3829, 3...  \n",
       "1059  [2609, 2033, 3138, 4569, 3527, 3687, 3729, 366...  \n",
       "\n",
       "[10 rows x 23 columns]"
      ]
     },
     "execution_count": 23,
     "metadata": {},
     "output_type": "execute_result"
    }
   ],
   "source": [
    "val_df = val_rating_dataset.df\n",
    "val_df.sample(10)"
   ]
  },
  {
   "cell_type": "code",
   "execution_count": 24,
   "id": "9eb1583b-40f7-4157-a383-5891389ac119",
   "metadata": {
    "scrolled": true
   },
   "outputs": [
    {
     "data": {
      "text/html": [
       "<div>\n",
       "<style scoped>\n",
       "    .dataframe tbody tr th:only-of-type {\n",
       "        vertical-align: middle;\n",
       "    }\n",
       "\n",
       "    .dataframe tbody tr th {\n",
       "        vertical-align: top;\n",
       "    }\n",
       "\n",
       "    .dataframe thead th {\n",
       "        text-align: right;\n",
       "    }\n",
       "</style>\n",
       "<table border=\"1\" class=\"dataframe\">\n",
       "  <thead>\n",
       "    <tr style=\"text-align: right;\">\n",
       "      <th></th>\n",
       "      <th>user_id</th>\n",
       "      <th>parent_asin</th>\n",
       "      <th>rating</th>\n",
       "      <th>timestamp</th>\n",
       "      <th>parent_asin_rating_cnt_365d</th>\n",
       "      <th>parent_asin_rating_avg_prev_rating_365d</th>\n",
       "      <th>parent_asin_rating_cnt_90d</th>\n",
       "      <th>parent_asin_rating_avg_prev_rating_90d</th>\n",
       "      <th>parent_asin_rating_cnt_30d</th>\n",
       "      <th>parent_asin_rating_avg_prev_rating_30d</th>\n",
       "      <th>...</th>\n",
       "      <th>item_indice</th>\n",
       "      <th>main_category</th>\n",
       "      <th>title</th>\n",
       "      <th>description</th>\n",
       "      <th>categories</th>\n",
       "      <th>price</th>\n",
       "      <th>user_rating_cnt_90d</th>\n",
       "      <th>user_rating_avg_prev_rating_90d</th>\n",
       "      <th>user_rating_list_10_recent_asin</th>\n",
       "      <th>item_sequence</th>\n",
       "    </tr>\n",
       "  </thead>\n",
       "  <tbody>\n",
       "    <tr>\n",
       "      <th>1883</th>\n",
       "      <td>AFNGUKYWUWCH6HAANP4DCND6FETA</td>\n",
       "      <td>B001EYUQ8M</td>\n",
       "      <td>0.0</td>\n",
       "      <td>2022-03-09 13:29:26.011</td>\n",
       "      <td>1.0</td>\n",
       "      <td>5.000000</td>\n",
       "      <td>1.0</td>\n",
       "      <td>5.0</td>\n",
       "      <td>0.0</td>\n",
       "      <td>NaN</td>\n",
       "      <td>...</td>\n",
       "      <td>902</td>\n",
       "      <td>Video Games</td>\n",
       "      <td>BioShock 2 Special Edition -Xbox 360</td>\n",
       "      <td>[Product Description, The BioShock 2 Special Edition will celebrate the game’s unique music and art with contents inspired by the time period and the fantastic undersea world of Rapture., Amazon.com, Follow-up to, BioShock, , 2K Games' critically acclaimed and commercially successful 2007 release,, BioShock 2, is a first-person shooter set in the fictional underwater city of Rapture. As in the original game,, BioShock 2, features a blend of fast-paced action, exploration and puzzle-solving as players follow varying paths through the overarching storyline based on the decisions that they are forced to make at points in the game. In addition to a further fleshing out of the franchise's popular storyline, players can look forward to new characters, game mechanics, weapons, locations and a series first, multiplayer game options. Finally, bonus items included with the, BioShock 2, Special Edition (see contents list below), provide the most complete, BioShock 2, experience available and are destined to become collectors items. .caption { font-family: Verdana, Helvetica neue, Arial, serif; font-size: 10px; font-weight: bold; font-style: italic; } ul.indent { list-style: inside disc; text-indent: -15px; } table.callout { font-family: verdana; font-size: 11px; line-height: 1. 3em; } td.vgoverview { height: 125px; background: #9DC4D8 url(https://images-na.ssl-images-amazon.com/images/G/01/electronics/detail-page/callout-bg.png) repeat-x; border-left: 1px solid #999999; border-right: 1px solid #999999; padding-left: 20px; padding-right: 20px; padding-bottom: 10px; width: 250px; font-family: verdana; font-size: 12px; }, The new power in Rapture., View larger, ., Duel wield plasmids &amp; weapons., View larger, ., New choices as Mr. B., View larger, ., Franchise first multiplayer options., View larger, ., Dig into the crazed history of Rapture., View larger, ., The Story, Set approximately 10 years after the events of the original, BioShock, , the halls of Rapture once again echo with sins of the past. Along the Atlantic coastline, a monster — somehow familiar, yet still quite different from anything ever seen — has been snatching little girls and bringing them back to the undersea city. It is a Big Sister, new denizens of Rapture who were once one of the forgotten little girls known as Little Sisters, known to inhabit the city's dank halls. No longer a pawn used to harvest ADAM, the dangerously powerful gene-altering lifeblood of Rapture, from the bodies of others and in turn run the risk of being harvested herself, the Big Sister is now the fastest and most powerful thing in Rapture. You, on the other hand are the very first Big Daddy, in fact the prototype, that for some reason has reactivated. You are similar to the Big Daddies familiar from the original, BioShock, , but also very different in that you possess free will and no memory of the events of the past ten years. The question is, as you travel through the decrepit and beautiful fallen city beneath the waves, hunting for answers and the solution to your own survival, are you really the hunter, or the hunted?, Gameplay and Multiplayer, In, BioShock 2, players will take on the role of the original Big Daddy, not that of game one protagonist, Jack. As a Big Daddy you will have access to all the strengths and weapons of a standard Big Daddy, including the drill and rivet gun. More importantly you also possess free will and the ability to use plasmids and gene tonics — genetic modifications allowed for through ADAM, a stem cell harvested from conquered enemies, or sea slugs outside the Rapture air lock, and powered by the in-game injectable serum known as EVE, which can be found, captured or purchased. Plasmids and gene tonics provide a wide range of aggressive and passive abilities which can be upgraded and arranged for quick use. The ability to use plasmids and tonics gives you a decided edge over other Big Daddies and most other denizens of Rapture, excluding the powerful Big Sisters. In addition, due to their role as a Big Daddy, players will experience a new relation to the Little Sisters. Upon defeating standard Big Daddys you are given the familiar choice as to whether to harvest or adopt them. Harvesting gains you ADAM immediately, but could alter your path through the game, while adopting makes you responsible for Little Sisters, who then accompany you through Rapture, but also provide aid and warning in times of danger. Additional gameplay features include: new plasmids, weapons and the ability to combine these two., The game also features the anticipated multiplayer modes. Several of these are team-based, allowing up to 10 players. Within these players are provided with a rich prequel experience that expands the origins of the, BioShock, fiction, and allows you to play as one of several characters pulled from Rapture's history before the events of the first game., Key Features, The Big Sister - No longer just something to be harvested or not, the Big Sister is the most powerful resident in Rapture., The Big Sister, - No longer just something to be harvested or not, the Big Sister is the most powerful resident in Rapture., You Are the Big Daddy - Take control with the original prototype Big Daddy, and experience the power and raw strength of Rapture’s most feared denizens as you battle powerful new enemies., You Are the Big Daddy, - Take control with the original prototype Big Daddy, and experience the power and raw strength of Rapture’s most feared denizens as you battle powerful new enemies., New Plasmids - New plasmids such as \"Aero Dash\" allowing for bursts of speed over short distances, and \"Geyser Trap\" a stream of water used as a jump pad and electrical conductor, join the ample list of Plasmids from the original game., New Plasmids, - New plasmids such as \"Aero Dash\" allowing for bursts of speed over short distances, and \"Geyser Trap\" a stream of water used as a jump pad and electrical conductor, join the ample list of Plasmids from the original game., New Game Mechanics - BioShock 2 contains many new gameplay mechanics. Just a few of these are: the ability to wield plasmids and weapons simultaneously; flashback missions detailing how you became the Big Daddy; the ability to walk outside the airlocks of Rapture to discover new play areas, and many more., New Game Mechanics, -, BioShock 2, contains many new gameplay mechanics. Just a few of these are: the ability to wield plasmids and weapons simultaneously; flashback missions detailing how you became the Big Daddy; the ability to walk outside the airlocks of Rapture to discover new play areas, and many more., New Locations - Just a few of the locations and environments debuting in BioShock 2 are Fontaine Futuristics, headquarters of Fontaine's business empire and the Kashmir Restaurant., New Locations, - Just a few of the locations and environments debuting in, BioShock 2, are Fontaine Futuristics, headquarters of Fontaine's business empire and the Kashmir Restaurant., Evolution of the Genetically Enhanced Shooter - Innovative advances bring new depth and dimension to each encounter, allowing players to create exciting combinations to fit their style of gameplay., Evolution of the Genetically Enhanced Shooter, - Innovative advances bring new depth and dimension to each encounter, allowing players to create exciting combinations to fit their style of gameplay., Return to Rapture - Set approximately 10 years after the events of the original BioShock, the story continues with an epic, more intense journey through one of the most captivating and terrifying fictional worlds ever created., Return to Rapture, - Set approximately 10 years after the events of the original BioShock, the story continues with an epic, more intense journey through one of the most captivating and terrifying fictional worlds ever created., Genetically Enhanced Multiplayer - Earn experience points during gameplay to earn access to new weapons, plasmids and tonics that can be used to create hundreds of different combinations., Genetically Enhanced Multiplayer, - Earn experience points during gameplay to earn access to new weapons, plasmids and tonics that can be used to create hundreds of different combinations., Experience Rapture’s Civil War - Players will step into the shoes of Rapture's citizens and take direct part in the civil war that tore Rapture apart., Experience Rapture’s Civil War, - Players will step into the shoes of Rapture's citizens and take direct part in the civil war that tore Rapture apart., See Rapture Before the Fall - Experience Rapture before it was reclaimed by the ocean and engage in combat over iconic environments in locations such as Kashmir Restaurant and Mercury Suites, all of which have been reworked from the ground up for multiplayer., See Rapture Before the Fall, - Experience Rapture before it was reclaimed by the ocean and engage in combat over iconic environments in locations such as Kashmir Restaurant and Mercury Suites, all of which have been reworked from the ground up for multiplayer., The, BioShock 2, Special Edition for Xbox 360 Includes:, View larger, ., BioShock 2 for Xbox 360, BioShock 2, for Xbox 360, Vinyl 180g LP with BioShock orchestral score, Vinyl 180g LP with, BioShock, orchestral score, Audio CD with BioShock 2 orchestral score, Audio CD with, BioShock 2, orchestral score, Three vintage Rapture advertisement posters (rolled), Three vintage Rapture advertisement posters (rolled), BioShock 2 Art Book, 164 pages and hardcover, BioShock 2 Art Book, 164 pages and hardcover]</td>\n",
       "      <td>[Video Games, Legacy Systems, Xbox Systems, Xbox 360, Games]</td>\n",
       "      <td>184.91</td>\n",
       "      <td>1</td>\n",
       "      <td>NaN</td>\n",
       "      <td>B0B2RQXT92,B08Y5DN2FX,B087SHFL9B,B087NNPYP3,B01GH9MVWW,B07P6MD9B7,B094WQR3H3</td>\n",
       "      <td>[-1, -1, -1, 4523, 4445, 4344, 4342, 3341, 4124, 4453]</td>\n",
       "    </tr>\n",
       "    <tr>\n",
       "      <th>2965</th>\n",
       "      <td>AFNGUKYWUWCH6HAANP4DCND6FETA</td>\n",
       "      <td>B001E27DLM</td>\n",
       "      <td>0.0</td>\n",
       "      <td>2022-03-09 13:29:26.011</td>\n",
       "      <td>4.0</td>\n",
       "      <td>5.000000</td>\n",
       "      <td>0.0</td>\n",
       "      <td>NaN</td>\n",
       "      <td>0.0</td>\n",
       "      <td>NaN</td>\n",
       "      <td>...</td>\n",
       "      <td>714</td>\n",
       "      <td>None</td>\n",
       "      <td>Chrono Trigger</td>\n",
       "      <td>[Product Description, Error, Amazon.com, After 13 long years, the role playing game of the ages finally returns with Chrono Trigger for the Nintendo DS. This chapter begins when a newly developed teleportation device malfunctions, and young Crono must journey through time to rescue a mysterious girl from an intricate web of past and present perils. Enhanced with Nintendo DS's dual-screen presentation, stylus controls, and a host of great new features, this classic tale returns to a modern, portable platform., And so the Story Goes. . ., Through a chance encounter amid the festivities of Guardia's Millenial Fair in Leene Square, the young hero, Crono, meets an adventurous girl named Marle. The two decide to explore the fair together and soon find themselves at an exhibition of the Telepod -- the latest invention by Crono's long-time friend, Lucca., Marle, fearless and brimming with curiosity, volunteers to assist in a demo. However, an unanticipated malfunction sends her hurtling through a rift in the dimensions. Taking hold of the girls pendant just before she's whisked away,, Crono bravely follows in pursuit, but the world into which he emerges is one of four centuries ago. In Chrono Trigger prepare yourself to journey into the forgotten past, distant future, and even to the very End of Time., The Worlds of Past, Present and Future, In Chrono Trigger you'll journey back to Prehistory (65,000,000 B.C.) where humans and reptiles battle to wipe each other from existence. Antiquity (12,000 B.C.) is an age where the world is divided between people whose continent is buried in snow, and the magical kingdom of Zeal, a highly advanced civilization. The Middle Ages (600 A.D.) is an era of swords and sorcery, a dark time when the armies of Fiendlord rule over the land., The Present (1000 A.D.) is the time period in which Crono, Lucca and Marle live. It is a bright and peaceful age. However, in the Future (2300 A.D.), an era of despair has taken hold with rogue machines ruling the world. After the day of the apocalypse in 1999 A.D., the prosperous civilization of humanity crumbled and the remaining people struggle to stay alive. And, finally, there remains the End of Time -- a place with no era to call its own. This confluence of time's streams transcends spatiotemporal boundaries. It is here at the gravitational center for all temporal flotsam that Spekkio -- the Master of War -- serves as your guide on time's treacherous roads., Battle Systems and gameplay, This game utilizes a revised version of the groundbreaking Active Time Battle (ATB) System. Chrono Trigger features exhilarating combat in which the clock is constantly ticking. Characters must first wait as the ATB gauges charge, and then perform an action. This makes strategic timing a crucial element in your battle plan. In addition to standard attacks, each character has an array of special Tech skills and powerful combos known as Dual and Triple Techs. Cooperate with other characters to unleash over 50 unique and devastating moves!, Chrono Trigger utilizes great story-telling, interesting characters, action-packed gameplay, and the unique controls of the Nintendo DS to deliver a fun and well-rounded role-playing game on a portable platform.]</td>\n",
       "      <td>[Video Games, Legacy Systems, Nintendo Systems, Nintendo DS]</td>\n",
       "      <td>264.7</td>\n",
       "      <td>1</td>\n",
       "      <td>NaN</td>\n",
       "      <td>B0B2RQXT92,B08Y5DN2FX,B087SHFL9B,B087NNPYP3,B01GH9MVWW,B07P6MD9B7,B094WQR3H3</td>\n",
       "      <td>[-1, -1, -1, 4523, 4445, 4344, 4342, 3341, 4124, 4453]</td>\n",
       "    </tr>\n",
       "    <tr>\n",
       "      <th>3420</th>\n",
       "      <td>AFNGUKYWUWCH6HAANP4DCND6FETA</td>\n",
       "      <td>B004WMM2NA</td>\n",
       "      <td>0.0</td>\n",
       "      <td>2022-03-09 13:29:26.011</td>\n",
       "      <td>1.0</td>\n",
       "      <td>5.000000</td>\n",
       "      <td>1.0</td>\n",
       "      <td>5.0</td>\n",
       "      <td>1.0</td>\n",
       "      <td>5.0</td>\n",
       "      <td>...</td>\n",
       "      <td>1792</td>\n",
       "      <td>Video Games</td>\n",
       "      <td>Animal Crossing: City Folk (Nintendo Selects)</td>\n",
       "      <td>[Product Description, If life were an endless vacation, what would you do? Go fishing, collect shells, or watch fireworks with friends? Build a snowman, exchange presents with family, or decorate your house for the holidays? Take a trip to the city, go on a shopping spree, or visit friends from all over the globe? In Animal Crossing, life moves at a relaxed pace, but the world brims with endless possibilities. There's always something new to do! In the living, breathing world of Animal Crossing, days and seasons pass in real time, so there's always something to discover. Catch fireflies in the summer, go trick-or-treating on Halloween, or hunt for eggs on Bunny Day. If you're in the mood for something a little faster paced, take a trip into the all-new city and catch a show at the theater, check out the sales at Gracie's boutique, or change up your look at the salon! But if you don't show your face for too long, your neighbors will miss you! The perfect place to hang out with friends! The heart of Animal Crossing is building relationships with other players as well as the animals in your town. Live with up to three other people from your household and build the perfect town together! Design clothes and patterns, write letters, and post messages on the bulletin board for each other, or invite up to three friends to visit your town using Nintendo Wi-Fi Connection-with the new Wii Speak, it's like you're all in the same room! Get to know your neighbors! Befriend your animal neighbors by exchanging letters, gifts, and favors. Animals can also move from town to town, and when they do, they bring their memories of life in your friends' towns with them. And since animals are notoriously loose-lipped, they spill all the juicy details! Express your personal style! Customize your town, your house, and yourself by collecting bugs, fish, fossils, art, furniture, clothes, and accessories., Amazon.com, If you were given the keys to your own community, what would you do? Go fishing, collect shells or watch fireworks with friends? Build a snowman, exchange presents with family or decorate your house for the holidays? Take a trip to the city, go on a shopping spree or visit friends from all over the globe? In, Animal Crossing: City Folk, , life moves at a relaxed pace, but the world brims with endless possibilities., Gameplay, You make the whole story, as you and up to three other players move into a town and just live life. Befriend your animal neighbors, decorate your house with cool furnishings, fill up your wardrobe, get to know the local wildlife, hop on a bus to visit the new city and just explore the world. There are a million different ways to play. Every charming animal character has a personality: some are grouches while others are chatterboxes. And there's no final goal or high score to hit. The game keeps going for as long as you want to play, and your town will always be there when you return. Move into town, buy a house and then do whatever you want. Time and seasons pass as they do in the real world, so there's always something different happening. Collect more than 2,400 items, go fishing for rare and interesting fish, catch all kind of cool bugs, dig up dinosaur fossils and buried treasure, hang out with other players or spend the day in the city. There's so much to do, and you have all the time in the world to explore it all., DS Suitcase Mode, The DS Suitcase lets you carry your character from your Wii console to a friend's, thus giving people without an Internet connection the ability to experience multiplayer modes. Additionally, you can move your character from, Animal Crossing: Wild World, on Nintendo DS and play as him/her in, Animal Crossing: City Folk, ., Key Game Features, There's Always Something New To Do: In the living, breathing world of Animal Crossing: City Folk, days and seasons pass in real time, so there's always something to discover. Catch fireflies in the summer, go trick-or-treating on Halloween or hunt for eggs on Bunny Day. If you're in the mood for something a little faster paced, take a bus to a new urban city area that's unique to Animal Crossing: City Folk. There you can catch a show at the theater or check out the sales at Gracie's boutique. But if you don't show your face back home for too long, your neighbors will miss you., There's Always Something New To Do, : In the living, breathing world of, Animal Crossing: City Folk, , days and seasons pass in real time, so there's always something to discover. Catch fireflies in the summer, go trick-or-treating on Halloween or hunt for eggs on Bunny Day. If you're in the mood for something a little faster paced, take a bus to a new urban city area that's unique to, Animal Crossing: City Folk, . There you can catch a show at the theater or check out the sales at Gracie's boutique. But if you don't show your face back home for too long, your neighbors will miss you., Play With and Hear Up to Four Friends: Up to four people from your household can live and work together to build the perfect town. Design clothes and patterns, write letters and post messages on the bulletin board for each other, or play online using your broadband connection and invite up to three friends to visit your town using Nintendo Wi-Fi Connection. With the new optional Wii Speak microphone (sold separately), it's like you're all in the same room. The microphone sits atop the sensor bar and picks up the conversation of everyone in the room to encourage a more inclusive experience., Play With and Hear Up to Four Friends, : Up to four people from your household can live and work together to build the perfect town. Design clothes and patterns, write letters and post messages on the bulletin board for each other, or play online using your broadband connection and invite up to three friends to visit your town using Nintendo Wi-Fi Connection. With the new optional Wii Speak microphone (sold separately), it's like you're all in the same room. The microphone sits atop the sensor bar and picks up the conversation of everyone in the room to encourage a more inclusive experience., Get to Know Your Neighbors: The heart of Animal Crossing: City Folk is building relationships with the animals in your town as well as with other players. Befriend your animal neighbors by exchanging letters, gifts and favors. Animals can also move from town to town, bringing their memories and stories from their old towns with them. And since animals are notoriously loose-lipped, they spill all the juicy details., Get to Know Your Neighbors, : The heart of, Animal Crossing: City Folk, is building relationships with the animals in your town as well as with other players. Befriend your animal neighbors by exchanging letters, gifts and favors. Animals can also move from town to town, bringing their memories and stories from their old towns with them. And since animals are notoriously loose-lipped, they spill all the juicy details., Express Your Personal Style: Customize your town, your house and yourself by collecting bugs, fish, fossils, art, furniture, clothes and accessories. You can also go to the salon in the city to change your hairstyle and get a Mii makeover. Plus, if you design clothes in the tailor's shop, animals will wear them and maybe even bring them to other towns., Express Your Personal Style, : Customize your town, your house and yourself by collecting bugs, fish, fossils, art, furniture, clothes and accessories. You can also go to the salon in the city to change your hairstyle and get a Mii makeover. Plus, if you design clothes in the tailor's shop, animals will wear them and maybe even bring them to other towns., Your Neighbors, Familiar faces such as K.K. Slider, Tom Nook, Blathers and Mr. Resetti all appear, as well as a bunch of new characters like Festivale host Pavé and Bug-Off judge Bud. Many characters who occasionally visited your town in previous Animal Crossing games have now set up permanent shop in the city, so you can see them anytime., Special Powers, Weapons, Moves &amp; Features, : Use the Wii Remote pointer to type letters, use items, draw designs for clothing or wallpaper, drag clothing or items onto your characters, interact with animals or objects, or lead your character around the world. Use Nintendo Wi-Fi Connection to hang out in real time with up to three of your friends. You can also send them e-mails and text messages from the game. Play at different times of the year to experience different activities, holidays and seasons. And when visiting a friend in another country, experience the holidays native to their culture., Nintendo Wi-Fi Connection, Up to four people can play together in real time via Nintendo Wi-Fi Connection. The host opens his or her gate to allow friends into the town, where they can perform all sorts of activities: fish, write letters to townsfolk, shop at the store, swap items, play hide-and-seek ... anything. Up to four players can interact in real-time, communicating via text chat, mic chat and emoticons., WiiConnect24, : Using WiiConnect24, you can buy and sell items to friends by participating in silent auctions, view actual players' homes in the Happy Room Academy office or send letters to other players' towns.]</td>\n",
       "      <td>[Video Games, Legacy Systems, Nintendo Systems, Wii, Games]</td>\n",
       "      <td>87.79</td>\n",
       "      <td>1</td>\n",
       "      <td>NaN</td>\n",
       "      <td>B0B2RQXT92,B08Y5DN2FX,B087SHFL9B,B087NNPYP3,B01GH9MVWW,B07P6MD9B7,B094WQR3H3</td>\n",
       "      <td>[-1, -1, -1, 4523, 4445, 4344, 4342, 3341, 4124, 4453]</td>\n",
       "    </tr>\n",
       "    <tr>\n",
       "      <th>3638</th>\n",
       "      <td>AFNGUKYWUWCH6HAANP4DCND6FETA</td>\n",
       "      <td>B079FPFV3X</td>\n",
       "      <td>1.0</td>\n",
       "      <td>2022-03-09 13:29:26.011</td>\n",
       "      <td>7.0</td>\n",
       "      <td>4.285714</td>\n",
       "      <td>1.0</td>\n",
       "      <td>5.0</td>\n",
       "      <td>1.0</td>\n",
       "      <td>5.0</td>\n",
       "      <td>...</td>\n",
       "      <td>3851</td>\n",
       "      <td>All Electronics</td>\n",
       "      <td>OIVO PS4 Stand Cooling Fan Station for Playstation 4/PS4 Slim/PS4 Pro, PS4 Pro Vertical Stand with Dual Controller EXT Port Charger Dock Station and 12 Game Slots</td>\n",
       "      <td>[]</td>\n",
       "      <td>[Video Games, PlayStation 4, Accessories, Cooling Systems]</td>\n",
       "      <td>29.99</td>\n",
       "      <td>1</td>\n",
       "      <td>NaN</td>\n",
       "      <td>B0B2RQXT92,B08Y5DN2FX,B087SHFL9B,B087NNPYP3,B01GH9MVWW,B07P6MD9B7,B094WQR3H3</td>\n",
       "      <td>[-1, -1, -1, 4523, 4445, 4344, 4342, 3341, 4124, 4453]</td>\n",
       "    </tr>\n",
       "  </tbody>\n",
       "</table>\n",
       "<p>4 rows × 23 columns</p>\n",
       "</div>"
      ],
      "text/plain": [
       "                           user_id parent_asin  rating  \\\n",
       "1883  AFNGUKYWUWCH6HAANP4DCND6FETA  B001EYUQ8M     0.0   \n",
       "2965  AFNGUKYWUWCH6HAANP4DCND6FETA  B001E27DLM     0.0   \n",
       "3420  AFNGUKYWUWCH6HAANP4DCND6FETA  B004WMM2NA     0.0   \n",
       "3638  AFNGUKYWUWCH6HAANP4DCND6FETA  B079FPFV3X     1.0   \n",
       "\n",
       "                   timestamp  parent_asin_rating_cnt_365d  \\\n",
       "1883 2022-03-09 13:29:26.011                          1.0   \n",
       "2965 2022-03-09 13:29:26.011                          4.0   \n",
       "3420 2022-03-09 13:29:26.011                          1.0   \n",
       "3638 2022-03-09 13:29:26.011                          7.0   \n",
       "\n",
       "      parent_asin_rating_avg_prev_rating_365d  parent_asin_rating_cnt_90d  \\\n",
       "1883                                 5.000000                         1.0   \n",
       "2965                                 5.000000                         0.0   \n",
       "3420                                 5.000000                         1.0   \n",
       "3638                                 4.285714                         1.0   \n",
       "\n",
       "      parent_asin_rating_avg_prev_rating_90d  parent_asin_rating_cnt_30d  \\\n",
       "1883                                     5.0                         0.0   \n",
       "2965                                     NaN                         0.0   \n",
       "3420                                     5.0                         1.0   \n",
       "3638                                     5.0                         1.0   \n",
       "\n",
       "      parent_asin_rating_avg_prev_rating_30d  ...  item_indice  \\\n",
       "1883                                     NaN  ...          902   \n",
       "2965                                     NaN  ...          714   \n",
       "3420                                     5.0  ...         1792   \n",
       "3638                                     5.0  ...         3851   \n",
       "\n",
       "        main_category  \\\n",
       "1883      Video Games   \n",
       "2965             None   \n",
       "3420      Video Games   \n",
       "3638  All Electronics   \n",
       "\n",
       "                                                                                                                                                                   title  \\\n",
       "1883                                                                                                                                BioShock 2 Special Edition -Xbox 360   \n",
       "2965                                                                                                                                                      Chrono Trigger   \n",
       "3420                                                                                                                       Animal Crossing: City Folk (Nintendo Selects)   \n",
       "3638  OIVO PS4 Stand Cooling Fan Station for Playstation 4/PS4 Slim/PS4 Pro, PS4 Pro Vertical Stand with Dual Controller EXT Port Charger Dock Station and 12 Game Slots   \n",
       "\n",
       "                                                                                                                                                                                                                                                                                                                                                                                                                                                                                                                                                                                                                                                                                                                                                                                                                                                                                                                                                                                                                                                                                                                                                                                                                                                                                                                                                                                                                                                                                                                                                                                                                                                                                                                                                                                                                                                                                                                                                                                                                                                                                                                                                                                                                                                                                                                                                                                                                                                                                                                                                                                                                                                                                                                                                                                                                                                                                                                                                                                                                                                                                                                                                                                                                                                                                                                                                                                                                                                                                                                                                                                                                                                                                                                                                                                                                                                                                                                                                                                                                                                                                                                                                                                                                                                                                                                                                                                                                                                                                                                                                                                                                                                                                                                                                                                                                                                                                                                                                                                                                                                                                                                                                                                                                                                                                                                                                                                                                                                                                                                                                                                                                                                                                                                                                                                                                                                                                                                                                                                                                                                                                                                                                                                                                                                                                                                                                                                                                                                                                                                                                                                                                                                                                                                                                                                                                                                                                                                                                                                                                                                                                                                                                                                                                                                                                                                                                                                                                                                                                                                                                                                                                                                                                                                                                                                                                                                                                                                                                                                                                                                                                                                                                                                                                                                                                                                                                                                                                                                                                                                                                                                                                                                                                                                                                                                                                                                                                                                                                                                                                                                                                                                                                                                                                                                                                                                                                                                                                                                                                                                                                                                                                                                                                                                                                                                                                                                                                                                                                                   description  \\\n",
       "1883  [Product Description, The BioShock 2 Special Edition will celebrate the game’s unique music and art with contents inspired by the time period and the fantastic undersea world of Rapture., Amazon.com, Follow-up to, BioShock, , 2K Games' critically acclaimed and commercially successful 2007 release,, BioShock 2, is a first-person shooter set in the fictional underwater city of Rapture. As in the original game,, BioShock 2, features a blend of fast-paced action, exploration and puzzle-solving as players follow varying paths through the overarching storyline based on the decisions that they are forced to make at points in the game. In addition to a further fleshing out of the franchise's popular storyline, players can look forward to new characters, game mechanics, weapons, locations and a series first, multiplayer game options. Finally, bonus items included with the, BioShock 2, Special Edition (see contents list below), provide the most complete, BioShock 2, experience available and are destined to become collectors items. .caption { font-family: Verdana, Helvetica neue, Arial, serif; font-size: 10px; font-weight: bold; font-style: italic; } ul.indent { list-style: inside disc; text-indent: -15px; } table.callout { font-family: verdana; font-size: 11px; line-height: 1. 3em; } td.vgoverview { height: 125px; background: #9DC4D8 url(https://images-na.ssl-images-amazon.com/images/G/01/electronics/detail-page/callout-bg.png) repeat-x; border-left: 1px solid #999999; border-right: 1px solid #999999; padding-left: 20px; padding-right: 20px; padding-bottom: 10px; width: 250px; font-family: verdana; font-size: 12px; }, The new power in Rapture., View larger, ., Duel wield plasmids & weapons., View larger, ., New choices as Mr. B., View larger, ., Franchise first multiplayer options., View larger, ., Dig into the crazed history of Rapture., View larger, ., The Story, Set approximately 10 years after the events of the original, BioShock, , the halls of Rapture once again echo with sins of the past. Along the Atlantic coastline, a monster — somehow familiar, yet still quite different from anything ever seen — has been snatching little girls and bringing them back to the undersea city. It is a Big Sister, new denizens of Rapture who were once one of the forgotten little girls known as Little Sisters, known to inhabit the city's dank halls. No longer a pawn used to harvest ADAM, the dangerously powerful gene-altering lifeblood of Rapture, from the bodies of others and in turn run the risk of being harvested herself, the Big Sister is now the fastest and most powerful thing in Rapture. You, on the other hand are the very first Big Daddy, in fact the prototype, that for some reason has reactivated. You are similar to the Big Daddies familiar from the original, BioShock, , but also very different in that you possess free will and no memory of the events of the past ten years. The question is, as you travel through the decrepit and beautiful fallen city beneath the waves, hunting for answers and the solution to your own survival, are you really the hunter, or the hunted?, Gameplay and Multiplayer, In, BioShock 2, players will take on the role of the original Big Daddy, not that of game one protagonist, Jack. As a Big Daddy you will have access to all the strengths and weapons of a standard Big Daddy, including the drill and rivet gun. More importantly you also possess free will and the ability to use plasmids and gene tonics — genetic modifications allowed for through ADAM, a stem cell harvested from conquered enemies, or sea slugs outside the Rapture air lock, and powered by the in-game injectable serum known as EVE, which can be found, captured or purchased. Plasmids and gene tonics provide a wide range of aggressive and passive abilities which can be upgraded and arranged for quick use. The ability to use plasmids and tonics gives you a decided edge over other Big Daddies and most other denizens of Rapture, excluding the powerful Big Sisters. In addition, due to their role as a Big Daddy, players will experience a new relation to the Little Sisters. Upon defeating standard Big Daddys you are given the familiar choice as to whether to harvest or adopt them. Harvesting gains you ADAM immediately, but could alter your path through the game, while adopting makes you responsible for Little Sisters, who then accompany you through Rapture, but also provide aid and warning in times of danger. Additional gameplay features include: new plasmids, weapons and the ability to combine these two., The game also features the anticipated multiplayer modes. Several of these are team-based, allowing up to 10 players. Within these players are provided with a rich prequel experience that expands the origins of the, BioShock, fiction, and allows you to play as one of several characters pulled from Rapture's history before the events of the first game., Key Features, The Big Sister - No longer just something to be harvested or not, the Big Sister is the most powerful resident in Rapture., The Big Sister, - No longer just something to be harvested or not, the Big Sister is the most powerful resident in Rapture., You Are the Big Daddy - Take control with the original prototype Big Daddy, and experience the power and raw strength of Rapture’s most feared denizens as you battle powerful new enemies., You Are the Big Daddy, - Take control with the original prototype Big Daddy, and experience the power and raw strength of Rapture’s most feared denizens as you battle powerful new enemies., New Plasmids - New plasmids such as \"Aero Dash\" allowing for bursts of speed over short distances, and \"Geyser Trap\" a stream of water used as a jump pad and electrical conductor, join the ample list of Plasmids from the original game., New Plasmids, - New plasmids such as \"Aero Dash\" allowing for bursts of speed over short distances, and \"Geyser Trap\" a stream of water used as a jump pad and electrical conductor, join the ample list of Plasmids from the original game., New Game Mechanics - BioShock 2 contains many new gameplay mechanics. Just a few of these are: the ability to wield plasmids and weapons simultaneously; flashback missions detailing how you became the Big Daddy; the ability to walk outside the airlocks of Rapture to discover new play areas, and many more., New Game Mechanics, -, BioShock 2, contains many new gameplay mechanics. Just a few of these are: the ability to wield plasmids and weapons simultaneously; flashback missions detailing how you became the Big Daddy; the ability to walk outside the airlocks of Rapture to discover new play areas, and many more., New Locations - Just a few of the locations and environments debuting in BioShock 2 are Fontaine Futuristics, headquarters of Fontaine's business empire and the Kashmir Restaurant., New Locations, - Just a few of the locations and environments debuting in, BioShock 2, are Fontaine Futuristics, headquarters of Fontaine's business empire and the Kashmir Restaurant., Evolution of the Genetically Enhanced Shooter - Innovative advances bring new depth and dimension to each encounter, allowing players to create exciting combinations to fit their style of gameplay., Evolution of the Genetically Enhanced Shooter, - Innovative advances bring new depth and dimension to each encounter, allowing players to create exciting combinations to fit their style of gameplay., Return to Rapture - Set approximately 10 years after the events of the original BioShock, the story continues with an epic, more intense journey through one of the most captivating and terrifying fictional worlds ever created., Return to Rapture, - Set approximately 10 years after the events of the original BioShock, the story continues with an epic, more intense journey through one of the most captivating and terrifying fictional worlds ever created., Genetically Enhanced Multiplayer - Earn experience points during gameplay to earn access to new weapons, plasmids and tonics that can be used to create hundreds of different combinations., Genetically Enhanced Multiplayer, - Earn experience points during gameplay to earn access to new weapons, plasmids and tonics that can be used to create hundreds of different combinations., Experience Rapture’s Civil War - Players will step into the shoes of Rapture's citizens and take direct part in the civil war that tore Rapture apart., Experience Rapture’s Civil War, - Players will step into the shoes of Rapture's citizens and take direct part in the civil war that tore Rapture apart., See Rapture Before the Fall - Experience Rapture before it was reclaimed by the ocean and engage in combat over iconic environments in locations such as Kashmir Restaurant and Mercury Suites, all of which have been reworked from the ground up for multiplayer., See Rapture Before the Fall, - Experience Rapture before it was reclaimed by the ocean and engage in combat over iconic environments in locations such as Kashmir Restaurant and Mercury Suites, all of which have been reworked from the ground up for multiplayer., The, BioShock 2, Special Edition for Xbox 360 Includes:, View larger, ., BioShock 2 for Xbox 360, BioShock 2, for Xbox 360, Vinyl 180g LP with BioShock orchestral score, Vinyl 180g LP with, BioShock, orchestral score, Audio CD with BioShock 2 orchestral score, Audio CD with, BioShock 2, orchestral score, Three vintage Rapture advertisement posters (rolled), Three vintage Rapture advertisement posters (rolled), BioShock 2 Art Book, 164 pages and hardcover, BioShock 2 Art Book, 164 pages and hardcover]   \n",
       "2965                                                                                                                                                                                                                                                                                                                                                                                                                                                                                                                                                                                                                                                                                                                                                                                                                                                                                                                                                                                                                                                                                                                                                                                                                                                                                                                                                                                                                                                                                                                                                                                                                                                                                                                                                                                                                                                                                                                                                                                                                                                                                                                                                                                                                                                                                                                                                                                                                                                                                                                                                                                                                                                                                                                                                                                                                                                                                                                                                                                                                                                                                                                                                                                                                                                                                                                                                                                                                                                                                                                                                                                                                                                                                                                                                                                                                                                                                                                                                                                                                                                                                                                                                                                                                                                                                                                                                                                                                                                                                                                                                                                                                                                                                                                                                                                                                                                                                                                                                                                                                                                                                                                                                                                                                                                                                                                                                                                                                                                                                                                                                                                                                                                                                                                                                                                                                                                                                                                                                                                                                                                                                                                                                                                                                                                                                                                                                                                                                                                                                                                                                                                        [Product Description, Error, Amazon.com, After 13 long years, the role playing game of the ages finally returns with Chrono Trigger for the Nintendo DS. This chapter begins when a newly developed teleportation device malfunctions, and young Crono must journey through time to rescue a mysterious girl from an intricate web of past and present perils. Enhanced with Nintendo DS's dual-screen presentation, stylus controls, and a host of great new features, this classic tale returns to a modern, portable platform., And so the Story Goes. . ., Through a chance encounter amid the festivities of Guardia's Millenial Fair in Leene Square, the young hero, Crono, meets an adventurous girl named Marle. The two decide to explore the fair together and soon find themselves at an exhibition of the Telepod -- the latest invention by Crono's long-time friend, Lucca., Marle, fearless and brimming with curiosity, volunteers to assist in a demo. However, an unanticipated malfunction sends her hurtling through a rift in the dimensions. Taking hold of the girls pendant just before she's whisked away,, Crono bravely follows in pursuit, but the world into which he emerges is one of four centuries ago. In Chrono Trigger prepare yourself to journey into the forgotten past, distant future, and even to the very End of Time., The Worlds of Past, Present and Future, In Chrono Trigger you'll journey back to Prehistory (65,000,000 B.C.) where humans and reptiles battle to wipe each other from existence. Antiquity (12,000 B.C.) is an age where the world is divided between people whose continent is buried in snow, and the magical kingdom of Zeal, a highly advanced civilization. The Middle Ages (600 A.D.) is an era of swords and sorcery, a dark time when the armies of Fiendlord rule over the land., The Present (1000 A.D.) is the time period in which Crono, Lucca and Marle live. It is a bright and peaceful age. However, in the Future (2300 A.D.), an era of despair has taken hold with rogue machines ruling the world. After the day of the apocalypse in 1999 A.D., the prosperous civilization of humanity crumbled and the remaining people struggle to stay alive. And, finally, there remains the End of Time -- a place with no era to call its own. This confluence of time's streams transcends spatiotemporal boundaries. It is here at the gravitational center for all temporal flotsam that Spekkio -- the Master of War -- serves as your guide on time's treacherous roads., Battle Systems and gameplay, This game utilizes a revised version of the groundbreaking Active Time Battle (ATB) System. Chrono Trigger features exhilarating combat in which the clock is constantly ticking. Characters must first wait as the ATB gauges charge, and then perform an action. This makes strategic timing a crucial element in your battle plan. In addition to standard attacks, each character has an array of special Tech skills and powerful combos known as Dual and Triple Techs. Cooperate with other characters to unleash over 50 unique and devastating moves!, Chrono Trigger utilizes great story-telling, interesting characters, action-packed gameplay, and the unique controls of the Nintendo DS to deliver a fun and well-rounded role-playing game on a portable platform.]   \n",
       "3420                                                                                                                                                                                                                                                                                                                               [Product Description, If life were an endless vacation, what would you do? Go fishing, collect shells, or watch fireworks with friends? Build a snowman, exchange presents with family, or decorate your house for the holidays? Take a trip to the city, go on a shopping spree, or visit friends from all over the globe? In Animal Crossing, life moves at a relaxed pace, but the world brims with endless possibilities. There's always something new to do! In the living, breathing world of Animal Crossing, days and seasons pass in real time, so there's always something to discover. Catch fireflies in the summer, go trick-or-treating on Halloween, or hunt for eggs on Bunny Day. If you're in the mood for something a little faster paced, take a trip into the all-new city and catch a show at the theater, check out the sales at Gracie's boutique, or change up your look at the salon! But if you don't show your face for too long, your neighbors will miss you! The perfect place to hang out with friends! The heart of Animal Crossing is building relationships with other players as well as the animals in your town. Live with up to three other people from your household and build the perfect town together! Design clothes and patterns, write letters, and post messages on the bulletin board for each other, or invite up to three friends to visit your town using Nintendo Wi-Fi Connection-with the new Wii Speak, it's like you're all in the same room! Get to know your neighbors! Befriend your animal neighbors by exchanging letters, gifts, and favors. Animals can also move from town to town, and when they do, they bring their memories of life in your friends' towns with them. And since animals are notoriously loose-lipped, they spill all the juicy details! Express your personal style! Customize your town, your house, and yourself by collecting bugs, fish, fossils, art, furniture, clothes, and accessories., Amazon.com, If you were given the keys to your own community, what would you do? Go fishing, collect shells or watch fireworks with friends? Build a snowman, exchange presents with family or decorate your house for the holidays? Take a trip to the city, go on a shopping spree or visit friends from all over the globe? In, Animal Crossing: City Folk, , life moves at a relaxed pace, but the world brims with endless possibilities., Gameplay, You make the whole story, as you and up to three other players move into a town and just live life. Befriend your animal neighbors, decorate your house with cool furnishings, fill up your wardrobe, get to know the local wildlife, hop on a bus to visit the new city and just explore the world. There are a million different ways to play. Every charming animal character has a personality: some are grouches while others are chatterboxes. And there's no final goal or high score to hit. The game keeps going for as long as you want to play, and your town will always be there when you return. Move into town, buy a house and then do whatever you want. Time and seasons pass as they do in the real world, so there's always something different happening. Collect more than 2,400 items, go fishing for rare and interesting fish, catch all kind of cool bugs, dig up dinosaur fossils and buried treasure, hang out with other players or spend the day in the city. There's so much to do, and you have all the time in the world to explore it all., DS Suitcase Mode, The DS Suitcase lets you carry your character from your Wii console to a friend's, thus giving people without an Internet connection the ability to experience multiplayer modes. Additionally, you can move your character from, Animal Crossing: Wild World, on Nintendo DS and play as him/her in, Animal Crossing: City Folk, ., Key Game Features, There's Always Something New To Do: In the living, breathing world of Animal Crossing: City Folk, days and seasons pass in real time, so there's always something to discover. Catch fireflies in the summer, go trick-or-treating on Halloween or hunt for eggs on Bunny Day. If you're in the mood for something a little faster paced, take a bus to a new urban city area that's unique to Animal Crossing: City Folk. There you can catch a show at the theater or check out the sales at Gracie's boutique. But if you don't show your face back home for too long, your neighbors will miss you., There's Always Something New To Do, : In the living, breathing world of, Animal Crossing: City Folk, , days and seasons pass in real time, so there's always something to discover. Catch fireflies in the summer, go trick-or-treating on Halloween or hunt for eggs on Bunny Day. If you're in the mood for something a little faster paced, take a bus to a new urban city area that's unique to, Animal Crossing: City Folk, . There you can catch a show at the theater or check out the sales at Gracie's boutique. But if you don't show your face back home for too long, your neighbors will miss you., Play With and Hear Up to Four Friends: Up to four people from your household can live and work together to build the perfect town. Design clothes and patterns, write letters and post messages on the bulletin board for each other, or play online using your broadband connection and invite up to three friends to visit your town using Nintendo Wi-Fi Connection. With the new optional Wii Speak microphone (sold separately), it's like you're all in the same room. The microphone sits atop the sensor bar and picks up the conversation of everyone in the room to encourage a more inclusive experience., Play With and Hear Up to Four Friends, : Up to four people from your household can live and work together to build the perfect town. Design clothes and patterns, write letters and post messages on the bulletin board for each other, or play online using your broadband connection and invite up to three friends to visit your town using Nintendo Wi-Fi Connection. With the new optional Wii Speak microphone (sold separately), it's like you're all in the same room. The microphone sits atop the sensor bar and picks up the conversation of everyone in the room to encourage a more inclusive experience., Get to Know Your Neighbors: The heart of Animal Crossing: City Folk is building relationships with the animals in your town as well as with other players. Befriend your animal neighbors by exchanging letters, gifts and favors. Animals can also move from town to town, bringing their memories and stories from their old towns with them. And since animals are notoriously loose-lipped, they spill all the juicy details., Get to Know Your Neighbors, : The heart of, Animal Crossing: City Folk, is building relationships with the animals in your town as well as with other players. Befriend your animal neighbors by exchanging letters, gifts and favors. Animals can also move from town to town, bringing their memories and stories from their old towns with them. And since animals are notoriously loose-lipped, they spill all the juicy details., Express Your Personal Style: Customize your town, your house and yourself by collecting bugs, fish, fossils, art, furniture, clothes and accessories. You can also go to the salon in the city to change your hairstyle and get a Mii makeover. Plus, if you design clothes in the tailor's shop, animals will wear them and maybe even bring them to other towns., Express Your Personal Style, : Customize your town, your house and yourself by collecting bugs, fish, fossils, art, furniture, clothes and accessories. You can also go to the salon in the city to change your hairstyle and get a Mii makeover. Plus, if you design clothes in the tailor's shop, animals will wear them and maybe even bring them to other towns., Your Neighbors, Familiar faces such as K.K. Slider, Tom Nook, Blathers and Mr. Resetti all appear, as well as a bunch of new characters like Festivale host Pavé and Bug-Off judge Bud. Many characters who occasionally visited your town in previous Animal Crossing games have now set up permanent shop in the city, so you can see them anytime., Special Powers, Weapons, Moves & Features, : Use the Wii Remote pointer to type letters, use items, draw designs for clothing or wallpaper, drag clothing or items onto your characters, interact with animals or objects, or lead your character around the world. Use Nintendo Wi-Fi Connection to hang out in real time with up to three of your friends. You can also send them e-mails and text messages from the game. Play at different times of the year to experience different activities, holidays and seasons. And when visiting a friend in another country, experience the holidays native to their culture., Nintendo Wi-Fi Connection, Up to four people can play together in real time via Nintendo Wi-Fi Connection. The host opens his or her gate to allow friends into the town, where they can perform all sorts of activities: fish, write letters to townsfolk, shop at the store, swap items, play hide-and-seek ... anything. Up to four players can interact in real-time, communicating via text chat, mic chat and emoticons., WiiConnect24, : Using WiiConnect24, you can buy and sell items to friends by participating in silent auctions, view actual players' homes in the Happy Room Academy office or send letters to other players' towns.]   \n",
       "3638                                                                                                                                                                                                                                                                                                                                                                                                                                                                                                                                                                                                                                                                                                                                                                                                                                                                                                                                                                                                                                                                                                                                                                                                                                                                                                                                                                                                                                                                                                                                                                                                                                                                                                                                                                                                                                                                                                                                                                                                                                                                                                                                                                                                                                                                                                                                                                                                                                                                                                                                                                                                                                                                                                                                                                                                                                                                                                                                                                                                                                                                                                                                                                                                                                                                                                                                                                                                                                                                                                                                                                                                                                                                                                                                                                                                                                                                                                                                                                                                                                                                                                                                                                                                                                                                                                                                                                                                                                                                                                                                                                                                                                                                                                                                                                                                                                                                                                                                                                                                                                                                                                                                                                                                                                                                                                                                                                                                                                                                                                                                                                                                                                                                                                                                                                                                                                                                                                                                                                                                                                                                                                                                                                                                                                                                                                                                                                                                                                                                                                                                                                                                                                                                                                                                                                                                                                                                                                                                                                                                                                                                                                                                                                                                                                                                                                                                                                                                                                                                                                                                                                                                                                                                                                                                                                                                                                                                                                                                                                                                                                                                                                                                                                                                                                                                                                                                                                                                                                                                                                                                                                                                                                                                                                                                                                                                                                                                                                                                                                                                                                                                                                                                                                                                                                                                                                                                                                                                                                                                                                                                                                                                                                                                                                                                                                                                                                                                                                                                                                        []   \n",
       "\n",
       "                                                        categories   price  \\\n",
       "1883  [Video Games, Legacy Systems, Xbox Systems, Xbox 360, Games]  184.91   \n",
       "2965  [Video Games, Legacy Systems, Nintendo Systems, Nintendo DS]   264.7   \n",
       "3420   [Video Games, Legacy Systems, Nintendo Systems, Wii, Games]   87.79   \n",
       "3638    [Video Games, PlayStation 4, Accessories, Cooling Systems]   29.99   \n",
       "\n",
       "     user_rating_cnt_90d user_rating_avg_prev_rating_90d  \\\n",
       "1883                   1                             NaN   \n",
       "2965                   1                             NaN   \n",
       "3420                   1                             NaN   \n",
       "3638                   1                             NaN   \n",
       "\n",
       "                                                   user_rating_list_10_recent_asin  \\\n",
       "1883  B0B2RQXT92,B08Y5DN2FX,B087SHFL9B,B087NNPYP3,B01GH9MVWW,B07P6MD9B7,B094WQR3H3   \n",
       "2965  B0B2RQXT92,B08Y5DN2FX,B087SHFL9B,B087NNPYP3,B01GH9MVWW,B07P6MD9B7,B094WQR3H3   \n",
       "3420  B0B2RQXT92,B08Y5DN2FX,B087SHFL9B,B087NNPYP3,B01GH9MVWW,B07P6MD9B7,B094WQR3H3   \n",
       "3638  B0B2RQXT92,B08Y5DN2FX,B087SHFL9B,B087NNPYP3,B01GH9MVWW,B07P6MD9B7,B094WQR3H3   \n",
       "\n",
       "                                               item_sequence  \n",
       "1883  [-1, -1, -1, 4523, 4445, 4344, 4342, 3341, 4124, 4453]  \n",
       "2965  [-1, -1, -1, 4523, 4445, 4344, 4342, 3341, 4124, 4453]  \n",
       "3420  [-1, -1, -1, 4523, 4445, 4344, 4342, 3341, 4124, 4453]  \n",
       "3638  [-1, -1, -1, 4523, 4445, 4344, 4342, 3341, 4124, 4453]  \n",
       "\n",
       "[4 rows x 23 columns]"
      ]
     },
     "metadata": {},
     "output_type": "display_data"
    }
   ],
   "source": [
    "user_id = val_df.sample(1)[args.user_col].values[0]\n",
    "# user_id = \"AH4AOFTTDPHPAFAAVFMAF25H2LIQ\"\n",
    "test_df = val_df.loc[lambda df: df[args.user_col].eq(user_id)]\n",
    "with pd.option_context(\"display.max_colwidth\", None):\n",
    "    display(test_df)"
   ]
  },
  {
   "cell_type": "code",
   "execution_count": 25,
   "id": "c48fbc80-eda8-4dff-a246-95f8f2f75082",
   "metadata": {
    "scrolled": true
   },
   "outputs": [
    {
     "name": "stderr",
     "output_type": "stream",
     "text": [
      "\u001b[32m2024-10-27 22:42:52.873\u001b[0m | \u001b[1mINFO    \u001b[0m | \u001b[36m__main__\u001b[0m:\u001b[36m<module>\u001b[0m:\u001b[36m6\u001b[0m - \u001b[1mTest predicting before training with user_id = AFNGUKYWUWCH6HAANP4DCND6FETA and parent_asin = B079FPFV3X\u001b[0m\n",
      "/var/folders/mq/xtxzhvlj4m97tb8lgwxcnsb40000gn/T/ipykernel_77639/2733117192.py:12: UserWarning:\n",
      "\n",
      "Creating a tensor from a list of numpy.ndarrays is extremely slow. Please consider converting the list to a single numpy.ndarray with numpy.array() before converting to a tensor. (Triggered internally at /Users/runner/work/pytorch/pytorch/pytorch/torch/csrc/utils/tensor_new.cpp:281.)\n",
      "\n"
     ]
    },
    {
     "data": {
      "text/plain": [
       "tensor([[0.4902]], grad_fn=<SigmoidBackward0>)"
      ]
     },
     "execution_count": 25,
     "metadata": {},
     "output_type": "execute_result"
    }
   ],
   "source": [
    "test_row = test_df.loc[lambda df: df[args.rating_col].gt(0)].iloc[0]\n",
    "item_id = test_row[args.item_col]\n",
    "item_sequence = test_row[\"item_sequence\"]\n",
    "row_idx = test_row.name\n",
    "item_feature = val_item_features[row_idx]\n",
    "logger.info(\n",
    "    f\"Test predicting before training with {args.user_col} = {user_id} and {args.item_col} = {item_id}\"\n",
    ")\n",
    "user_indice = idm.get_user_index(user_id)\n",
    "item_indice = idm.get_item_index(item_id)\n",
    "user = torch.tensor([user_indice])\n",
    "item_sequence = torch.tensor([item_sequence])\n",
    "item_feature = torch.tensor([item_feature])\n",
    "item = torch.tensor([item_indice])\n",
    "\n",
    "model.eval()\n",
    "model.predict(user, item_sequence, item_feature, item)"
   ]
  },
  {
   "cell_type": "markdown",
   "id": "c2fd217c-c0c8-4e7c-81fe-6eb36f4729b5",
   "metadata": {},
   "source": [
    "#### Training loop"
   ]
  },
  {
   "cell_type": "markdown",
   "id": "1e9daad4-1365-4e8e-8f73-80ca5513572b",
   "metadata": {},
   "source": [
    "##### Overfit 1 batch"
   ]
  },
  {
   "cell_type": "code",
   "execution_count": 26,
   "id": "1a1cd9bd-e2c6-404b-b6ae-b26a7d35a0ba",
   "metadata": {
    "scrolled": true
   },
   "outputs": [
    {
     "name": "stderr",
     "output_type": "stream",
     "text": [
      "GPU available: True (mps), used: True\n",
      "TPU available: False, using: 0 TPU cores\n",
      "HPU available: False, using: 0 HPUs\n",
      "`Trainer(overfit_batches=1)` was configured so 1 batch will be used.\n",
      "\n",
      "  | Name  | Type   | Params | Mode \n",
      "-----------------------------------------\n",
      "0 | model | Ranker | 3.4 M  | train\n",
      "-----------------------------------------\n",
      "3.4 M     Trainable params\n",
      "0         Non-trainable params\n",
      "3.4 M     Total params\n",
      "13.533    Total estimated model params size (MB)\n",
      "14        Modules in train mode\n",
      "0         Modules in eval mode\n"
     ]
    },
    {
     "data": {
      "application/vnd.jupyter.widget-view+json": {
       "model_id": "",
       "version_major": 2,
       "version_minor": 0
      },
      "text/plain": [
       "Sanity Checking: |                                                                                            …"
      ]
     },
     "metadata": {},
     "output_type": "display_data"
    },
    {
     "name": "stderr",
     "output_type": "stream",
     "text": [
      "/Users/dvq/frostmourne/recsys-mvp/.venv/lib/python3.11/site-packages/lightning/pytorch/trainer/connectors/data_connector.py:251: UserWarning:\n",
      "\n",
      "You requested to overfit but enabled val dataloader shuffling. We are turning off the val dataloader shuffling for you.\n",
      "\n",
      "/Users/dvq/frostmourne/recsys-mvp/.venv/lib/python3.11/site-packages/lightning/pytorch/trainer/connectors/data_connector.py:424: PossibleUserWarning:\n",
      "\n",
      "The 'val_dataloader' does not have many workers which may be a bottleneck. Consider increasing the value of the `num_workers` argument` to `num_workers=10` in the `DataLoader` to improve performance.\n",
      "\n",
      "/Users/dvq/frostmourne/recsys-mvp/.venv/lib/python3.11/site-packages/lightning/pytorch/trainer/connectors/data_connector.py:251: UserWarning:\n",
      "\n",
      "You requested to overfit but enabled train dataloader shuffling. We are turning off the train dataloader shuffling for you.\n",
      "\n",
      "/Users/dvq/frostmourne/recsys-mvp/.venv/lib/python3.11/site-packages/lightning/pytorch/trainer/connectors/data_connector.py:424: PossibleUserWarning:\n",
      "\n",
      "The 'train_dataloader' does not have many workers which may be a bottleneck. Consider increasing the value of the `num_workers` argument` to `num_workers=10` in the `DataLoader` to improve performance.\n",
      "\n",
      "/Users/dvq/frostmourne/recsys-mvp/.venv/lib/python3.11/site-packages/lightning/pytorch/loops/fit_loop.py:298: PossibleUserWarning:\n",
      "\n",
      "The number of training batches (1) is smaller than the logging interval Trainer(log_every_n_steps=50). Set a lower value for log_every_n_steps if you want to see logs for the training epoch.\n",
      "\n"
     ]
    },
    {
     "data": {
      "application/vnd.jupyter.widget-view+json": {
       "model_id": "3b36d42c2fa248babff4f84f51d16b9b",
       "version_major": 2,
       "version_minor": 0
      },
      "text/plain": [
       "Training: |                                                                                                   …"
      ]
     },
     "metadata": {},
     "output_type": "display_data"
    },
    {
     "data": {
      "application/vnd.jupyter.widget-view+json": {
       "model_id": "",
       "version_major": 2,
       "version_minor": 0
      },
      "text/plain": [
       "Validation: |                                                                                                 …"
      ]
     },
     "metadata": {},
     "output_type": "display_data"
    },
    {
     "data": {
      "application/vnd.jupyter.widget-view+json": {
       "model_id": "",
       "version_major": 2,
       "version_minor": 0
      },
      "text/plain": [
       "Validation: |                                                                                                 …"
      ]
     },
     "metadata": {},
     "output_type": "display_data"
    },
    {
     "data": {
      "application/vnd.jupyter.widget-view+json": {
       "model_id": "",
       "version_major": 2,
       "version_minor": 0
      },
      "text/plain": [
       "Validation: |                                                                                                 …"
      ]
     },
     "metadata": {},
     "output_type": "display_data"
    },
    {
     "data": {
      "application/vnd.jupyter.widget-view+json": {
       "model_id": "",
       "version_major": 2,
       "version_minor": 0
      },
      "text/plain": [
       "Validation: |                                                                                                 …"
      ]
     },
     "metadata": {},
     "output_type": "display_data"
    },
    {
     "data": {
      "application/vnd.jupyter.widget-view+json": {
       "model_id": "",
       "version_major": 2,
       "version_minor": 0
      },
      "text/plain": [
       "Validation: |                                                                                                 …"
      ]
     },
     "metadata": {},
     "output_type": "display_data"
    },
    {
     "data": {
      "application/vnd.jupyter.widget-view+json": {
       "model_id": "",
       "version_major": 2,
       "version_minor": 0
      },
      "text/plain": [
       "Validation: |                                                                                                 …"
      ]
     },
     "metadata": {},
     "output_type": "display_data"
    },
    {
     "data": {
      "application/vnd.jupyter.widget-view+json": {
       "model_id": "",
       "version_major": 2,
       "version_minor": 0
      },
      "text/plain": [
       "Validation: |                                                                                                 …"
      ]
     },
     "metadata": {},
     "output_type": "display_data"
    },
    {
     "data": {
      "application/vnd.jupyter.widget-view+json": {
       "model_id": "",
       "version_major": 2,
       "version_minor": 0
      },
      "text/plain": [
       "Validation: |                                                                                                 …"
      ]
     },
     "metadata": {},
     "output_type": "display_data"
    },
    {
     "data": {
      "application/vnd.jupyter.widget-view+json": {
       "model_id": "",
       "version_major": 2,
       "version_minor": 0
      },
      "text/plain": [
       "Validation: |                                                                                                 …"
      ]
     },
     "metadata": {},
     "output_type": "display_data"
    },
    {
     "data": {
      "application/vnd.jupyter.widget-view+json": {
       "model_id": "",
       "version_major": 2,
       "version_minor": 0
      },
      "text/plain": [
       "Validation: |                                                                                                 …"
      ]
     },
     "metadata": {},
     "output_type": "display_data"
    },
    {
     "data": {
      "application/vnd.jupyter.widget-view+json": {
       "model_id": "",
       "version_major": 2,
       "version_minor": 0
      },
      "text/plain": [
       "Validation: |                                                                                                 …"
      ]
     },
     "metadata": {},
     "output_type": "display_data"
    },
    {
     "data": {
      "application/vnd.jupyter.widget-view+json": {
       "model_id": "",
       "version_major": 2,
       "version_minor": 0
      },
      "text/plain": [
       "Validation: |                                                                                                 …"
      ]
     },
     "metadata": {},
     "output_type": "display_data"
    },
    {
     "data": {
      "application/vnd.jupyter.widget-view+json": {
       "model_id": "",
       "version_major": 2,
       "version_minor": 0
      },
      "text/plain": [
       "Validation: |                                                                                                 …"
      ]
     },
     "metadata": {},
     "output_type": "display_data"
    },
    {
     "data": {
      "application/vnd.jupyter.widget-view+json": {
       "model_id": "",
       "version_major": 2,
       "version_minor": 0
      },
      "text/plain": [
       "Validation: |                                                                                                 …"
      ]
     },
     "metadata": {},
     "output_type": "display_data"
    },
    {
     "data": {
      "application/vnd.jupyter.widget-view+json": {
       "model_id": "",
       "version_major": 2,
       "version_minor": 0
      },
      "text/plain": [
       "Validation: |                                                                                                 …"
      ]
     },
     "metadata": {},
     "output_type": "display_data"
    },
    {
     "data": {
      "application/vnd.jupyter.widget-view+json": {
       "model_id": "",
       "version_major": 2,
       "version_minor": 0
      },
      "text/plain": [
       "Validation: |                                                                                                 …"
      ]
     },
     "metadata": {},
     "output_type": "display_data"
    },
    {
     "data": {
      "application/vnd.jupyter.widget-view+json": {
       "model_id": "",
       "version_major": 2,
       "version_minor": 0
      },
      "text/plain": [
       "Validation: |                                                                                                 …"
      ]
     },
     "metadata": {},
     "output_type": "display_data"
    },
    {
     "data": {
      "application/vnd.jupyter.widget-view+json": {
       "model_id": "",
       "version_major": 2,
       "version_minor": 0
      },
      "text/plain": [
       "Validation: |                                                                                                 …"
      ]
     },
     "metadata": {},
     "output_type": "display_data"
    },
    {
     "data": {
      "application/vnd.jupyter.widget-view+json": {
       "model_id": "",
       "version_major": 2,
       "version_minor": 0
      },
      "text/plain": [
       "Validation: |                                                                                                 …"
      ]
     },
     "metadata": {},
     "output_type": "display_data"
    },
    {
     "data": {
      "application/vnd.jupyter.widget-view+json": {
       "model_id": "",
       "version_major": 2,
       "version_minor": 0
      },
      "text/plain": [
       "Validation: |                                                                                                 …"
      ]
     },
     "metadata": {},
     "output_type": "display_data"
    },
    {
     "data": {
      "application/vnd.jupyter.widget-view+json": {
       "model_id": "",
       "version_major": 2,
       "version_minor": 0
      },
      "text/plain": [
       "Validation: |                                                                                                 …"
      ]
     },
     "metadata": {},
     "output_type": "display_data"
    },
    {
     "data": {
      "application/vnd.jupyter.widget-view+json": {
       "model_id": "",
       "version_major": 2,
       "version_minor": 0
      },
      "text/plain": [
       "Validation: |                                                                                                 …"
      ]
     },
     "metadata": {},
     "output_type": "display_data"
    },
    {
     "data": {
      "application/vnd.jupyter.widget-view+json": {
       "model_id": "",
       "version_major": 2,
       "version_minor": 0
      },
      "text/plain": [
       "Validation: |                                                                                                 …"
      ]
     },
     "metadata": {},
     "output_type": "display_data"
    },
    {
     "data": {
      "application/vnd.jupyter.widget-view+json": {
       "model_id": "",
       "version_major": 2,
       "version_minor": 0
      },
      "text/plain": [
       "Validation: |                                                                                                 …"
      ]
     },
     "metadata": {},
     "output_type": "display_data"
    },
    {
     "data": {
      "application/vnd.jupyter.widget-view+json": {
       "model_id": "",
       "version_major": 2,
       "version_minor": 0
      },
      "text/plain": [
       "Validation: |                                                                                                 …"
      ]
     },
     "metadata": {},
     "output_type": "display_data"
    },
    {
     "data": {
      "application/vnd.jupyter.widget-view+json": {
       "model_id": "",
       "version_major": 2,
       "version_minor": 0
      },
      "text/plain": [
       "Validation: |                                                                                                 …"
      ]
     },
     "metadata": {},
     "output_type": "display_data"
    },
    {
     "data": {
      "application/vnd.jupyter.widget-view+json": {
       "model_id": "",
       "version_major": 2,
       "version_minor": 0
      },
      "text/plain": [
       "Validation: |                                                                                                 …"
      ]
     },
     "metadata": {},
     "output_type": "display_data"
    },
    {
     "data": {
      "application/vnd.jupyter.widget-view+json": {
       "model_id": "",
       "version_major": 2,
       "version_minor": 0
      },
      "text/plain": [
       "Validation: |                                                                                                 …"
      ]
     },
     "metadata": {},
     "output_type": "display_data"
    },
    {
     "data": {
      "application/vnd.jupyter.widget-view+json": {
       "model_id": "",
       "version_major": 2,
       "version_minor": 0
      },
      "text/plain": [
       "Validation: |                                                                                                 …"
      ]
     },
     "metadata": {},
     "output_type": "display_data"
    },
    {
     "data": {
      "application/vnd.jupyter.widget-view+json": {
       "model_id": "",
       "version_major": 2,
       "version_minor": 0
      },
      "text/plain": [
       "Validation: |                                                                                                 …"
      ]
     },
     "metadata": {},
     "output_type": "display_data"
    },
    {
     "data": {
      "application/vnd.jupyter.widget-view+json": {
       "model_id": "",
       "version_major": 2,
       "version_minor": 0
      },
      "text/plain": [
       "Validation: |                                                                                                 …"
      ]
     },
     "metadata": {},
     "output_type": "display_data"
    },
    {
     "data": {
      "application/vnd.jupyter.widget-view+json": {
       "model_id": "",
       "version_major": 2,
       "version_minor": 0
      },
      "text/plain": [
       "Validation: |                                                                                                 …"
      ]
     },
     "metadata": {},
     "output_type": "display_data"
    },
    {
     "data": {
      "application/vnd.jupyter.widget-view+json": {
       "model_id": "",
       "version_major": 2,
       "version_minor": 0
      },
      "text/plain": [
       "Validation: |                                                                                                 …"
      ]
     },
     "metadata": {},
     "output_type": "display_data"
    },
    {
     "data": {
      "application/vnd.jupyter.widget-view+json": {
       "model_id": "",
       "version_major": 2,
       "version_minor": 0
      },
      "text/plain": [
       "Validation: |                                                                                                 …"
      ]
     },
     "metadata": {},
     "output_type": "display_data"
    },
    {
     "data": {
      "application/vnd.jupyter.widget-view+json": {
       "model_id": "",
       "version_major": 2,
       "version_minor": 0
      },
      "text/plain": [
       "Validation: |                                                                                                 …"
      ]
     },
     "metadata": {},
     "output_type": "display_data"
    },
    {
     "data": {
      "application/vnd.jupyter.widget-view+json": {
       "model_id": "",
       "version_major": 2,
       "version_minor": 0
      },
      "text/plain": [
       "Validation: |                                                                                                 …"
      ]
     },
     "metadata": {},
     "output_type": "display_data"
    },
    {
     "data": {
      "application/vnd.jupyter.widget-view+json": {
       "model_id": "",
       "version_major": 2,
       "version_minor": 0
      },
      "text/plain": [
       "Validation: |                                                                                                 …"
      ]
     },
     "metadata": {},
     "output_type": "display_data"
    },
    {
     "data": {
      "application/vnd.jupyter.widget-view+json": {
       "model_id": "",
       "version_major": 2,
       "version_minor": 0
      },
      "text/plain": [
       "Validation: |                                                                                                 …"
      ]
     },
     "metadata": {},
     "output_type": "display_data"
    },
    {
     "data": {
      "application/vnd.jupyter.widget-view+json": {
       "model_id": "",
       "version_major": 2,
       "version_minor": 0
      },
      "text/plain": [
       "Validation: |                                                                                                 …"
      ]
     },
     "metadata": {},
     "output_type": "display_data"
    },
    {
     "data": {
      "application/vnd.jupyter.widget-view+json": {
       "model_id": "",
       "version_major": 2,
       "version_minor": 0
      },
      "text/plain": [
       "Validation: |                                                                                                 …"
      ]
     },
     "metadata": {},
     "output_type": "display_data"
    },
    {
     "data": {
      "application/vnd.jupyter.widget-view+json": {
       "model_id": "",
       "version_major": 2,
       "version_minor": 0
      },
      "text/plain": [
       "Validation: |                                                                                                 …"
      ]
     },
     "metadata": {},
     "output_type": "display_data"
    },
    {
     "data": {
      "application/vnd.jupyter.widget-view+json": {
       "model_id": "",
       "version_major": 2,
       "version_minor": 0
      },
      "text/plain": [
       "Validation: |                                                                                                 …"
      ]
     },
     "metadata": {},
     "output_type": "display_data"
    },
    {
     "data": {
      "application/vnd.jupyter.widget-view+json": {
       "model_id": "",
       "version_major": 2,
       "version_minor": 0
      },
      "text/plain": [
       "Validation: |                                                                                                 …"
      ]
     },
     "metadata": {},
     "output_type": "display_data"
    },
    {
     "data": {
      "application/vnd.jupyter.widget-view+json": {
       "model_id": "",
       "version_major": 2,
       "version_minor": 0
      },
      "text/plain": [
       "Validation: |                                                                                                 …"
      ]
     },
     "metadata": {},
     "output_type": "display_data"
    },
    {
     "data": {
      "application/vnd.jupyter.widget-view+json": {
       "model_id": "",
       "version_major": 2,
       "version_minor": 0
      },
      "text/plain": [
       "Validation: |                                                                                                 …"
      ]
     },
     "metadata": {},
     "output_type": "display_data"
    },
    {
     "data": {
      "application/vnd.jupyter.widget-view+json": {
       "model_id": "",
       "version_major": 2,
       "version_minor": 0
      },
      "text/plain": [
       "Validation: |                                                                                                 …"
      ]
     },
     "metadata": {},
     "output_type": "display_data"
    },
    {
     "data": {
      "application/vnd.jupyter.widget-view+json": {
       "model_id": "",
       "version_major": 2,
       "version_minor": 0
      },
      "text/plain": [
       "Validation: |                                                                                                 …"
      ]
     },
     "metadata": {},
     "output_type": "display_data"
    },
    {
     "data": {
      "application/vnd.jupyter.widget-view+json": {
       "model_id": "",
       "version_major": 2,
       "version_minor": 0
      },
      "text/plain": [
       "Validation: |                                                                                                 …"
      ]
     },
     "metadata": {},
     "output_type": "display_data"
    },
    {
     "data": {
      "application/vnd.jupyter.widget-view+json": {
       "model_id": "",
       "version_major": 2,
       "version_minor": 0
      },
      "text/plain": [
       "Validation: |                                                                                                 …"
      ]
     },
     "metadata": {},
     "output_type": "display_data"
    },
    {
     "data": {
      "application/vnd.jupyter.widget-view+json": {
       "model_id": "",
       "version_major": 2,
       "version_minor": 0
      },
      "text/plain": [
       "Validation: |                                                                                                 …"
      ]
     },
     "metadata": {},
     "output_type": "display_data"
    },
    {
     "data": {
      "application/vnd.jupyter.widget-view+json": {
       "model_id": "",
       "version_major": 2,
       "version_minor": 0
      },
      "text/plain": [
       "Validation: |                                                                                                 …"
      ]
     },
     "metadata": {},
     "output_type": "display_data"
    },
    {
     "data": {
      "application/vnd.jupyter.widget-view+json": {
       "model_id": "",
       "version_major": 2,
       "version_minor": 0
      },
      "text/plain": [
       "Validation: |                                                                                                 …"
      ]
     },
     "metadata": {},
     "output_type": "display_data"
    },
    {
     "data": {
      "application/vnd.jupyter.widget-view+json": {
       "model_id": "",
       "version_major": 2,
       "version_minor": 0
      },
      "text/plain": [
       "Validation: |                                                                                                 …"
      ]
     },
     "metadata": {},
     "output_type": "display_data"
    },
    {
     "data": {
      "application/vnd.jupyter.widget-view+json": {
       "model_id": "",
       "version_major": 2,
       "version_minor": 0
      },
      "text/plain": [
       "Validation: |                                                                                                 …"
      ]
     },
     "metadata": {},
     "output_type": "display_data"
    },
    {
     "data": {
      "application/vnd.jupyter.widget-view+json": {
       "model_id": "",
       "version_major": 2,
       "version_minor": 0
      },
      "text/plain": [
       "Validation: |                                                                                                 …"
      ]
     },
     "metadata": {},
     "output_type": "display_data"
    },
    {
     "data": {
      "application/vnd.jupyter.widget-view+json": {
       "model_id": "",
       "version_major": 2,
       "version_minor": 0
      },
      "text/plain": [
       "Validation: |                                                                                                 …"
      ]
     },
     "metadata": {},
     "output_type": "display_data"
    },
    {
     "data": {
      "application/vnd.jupyter.widget-view+json": {
       "model_id": "",
       "version_major": 2,
       "version_minor": 0
      },
      "text/plain": [
       "Validation: |                                                                                                 …"
      ]
     },
     "metadata": {},
     "output_type": "display_data"
    },
    {
     "data": {
      "application/vnd.jupyter.widget-view+json": {
       "model_id": "",
       "version_major": 2,
       "version_minor": 0
      },
      "text/plain": [
       "Validation: |                                                                                                 …"
      ]
     },
     "metadata": {},
     "output_type": "display_data"
    },
    {
     "data": {
      "application/vnd.jupyter.widget-view+json": {
       "model_id": "",
       "version_major": 2,
       "version_minor": 0
      },
      "text/plain": [
       "Validation: |                                                                                                 …"
      ]
     },
     "metadata": {},
     "output_type": "display_data"
    },
    {
     "data": {
      "application/vnd.jupyter.widget-view+json": {
       "model_id": "",
       "version_major": 2,
       "version_minor": 0
      },
      "text/plain": [
       "Validation: |                                                                                                 …"
      ]
     },
     "metadata": {},
     "output_type": "display_data"
    },
    {
     "data": {
      "application/vnd.jupyter.widget-view+json": {
       "model_id": "",
       "version_major": 2,
       "version_minor": 0
      },
      "text/plain": [
       "Validation: |                                                                                                 …"
      ]
     },
     "metadata": {},
     "output_type": "display_data"
    },
    {
     "data": {
      "application/vnd.jupyter.widget-view+json": {
       "model_id": "",
       "version_major": 2,
       "version_minor": 0
      },
      "text/plain": [
       "Validation: |                                                                                                 …"
      ]
     },
     "metadata": {},
     "output_type": "display_data"
    },
    {
     "data": {
      "application/vnd.jupyter.widget-view+json": {
       "model_id": "",
       "version_major": 2,
       "version_minor": 0
      },
      "text/plain": [
       "Validation: |                                                                                                 …"
      ]
     },
     "metadata": {},
     "output_type": "display_data"
    },
    {
     "data": {
      "application/vnd.jupyter.widget-view+json": {
       "model_id": "",
       "version_major": 2,
       "version_minor": 0
      },
      "text/plain": [
       "Validation: |                                                                                                 …"
      ]
     },
     "metadata": {},
     "output_type": "display_data"
    },
    {
     "data": {
      "application/vnd.jupyter.widget-view+json": {
       "model_id": "",
       "version_major": 2,
       "version_minor": 0
      },
      "text/plain": [
       "Validation: |                                                                                                 …"
      ]
     },
     "metadata": {},
     "output_type": "display_data"
    },
    {
     "data": {
      "application/vnd.jupyter.widget-view+json": {
       "model_id": "",
       "version_major": 2,
       "version_minor": 0
      },
      "text/plain": [
       "Validation: |                                                                                                 …"
      ]
     },
     "metadata": {},
     "output_type": "display_data"
    },
    {
     "data": {
      "application/vnd.jupyter.widget-view+json": {
       "model_id": "",
       "version_major": 2,
       "version_minor": 0
      },
      "text/plain": [
       "Validation: |                                                                                                 …"
      ]
     },
     "metadata": {},
     "output_type": "display_data"
    },
    {
     "data": {
      "application/vnd.jupyter.widget-view+json": {
       "model_id": "",
       "version_major": 2,
       "version_minor": 0
      },
      "text/plain": [
       "Validation: |                                                                                                 …"
      ]
     },
     "metadata": {},
     "output_type": "display_data"
    },
    {
     "data": {
      "application/vnd.jupyter.widget-view+json": {
       "model_id": "",
       "version_major": 2,
       "version_minor": 0
      },
      "text/plain": [
       "Validation: |                                                                                                 …"
      ]
     },
     "metadata": {},
     "output_type": "display_data"
    },
    {
     "data": {
      "application/vnd.jupyter.widget-view+json": {
       "model_id": "",
       "version_major": 2,
       "version_minor": 0
      },
      "text/plain": [
       "Validation: |                                                                                                 …"
      ]
     },
     "metadata": {},
     "output_type": "display_data"
    },
    {
     "data": {
      "application/vnd.jupyter.widget-view+json": {
       "model_id": "",
       "version_major": 2,
       "version_minor": 0
      },
      "text/plain": [
       "Validation: |                                                                                                 …"
      ]
     },
     "metadata": {},
     "output_type": "display_data"
    },
    {
     "data": {
      "application/vnd.jupyter.widget-view+json": {
       "model_id": "",
       "version_major": 2,
       "version_minor": 0
      },
      "text/plain": [
       "Validation: |                                                                                                 …"
      ]
     },
     "metadata": {},
     "output_type": "display_data"
    },
    {
     "data": {
      "application/vnd.jupyter.widget-view+json": {
       "model_id": "",
       "version_major": 2,
       "version_minor": 0
      },
      "text/plain": [
       "Validation: |                                                                                                 …"
      ]
     },
     "metadata": {},
     "output_type": "display_data"
    },
    {
     "data": {
      "application/vnd.jupyter.widget-view+json": {
       "model_id": "",
       "version_major": 2,
       "version_minor": 0
      },
      "text/plain": [
       "Validation: |                                                                                                 …"
      ]
     },
     "metadata": {},
     "output_type": "display_data"
    },
    {
     "data": {
      "application/vnd.jupyter.widget-view+json": {
       "model_id": "",
       "version_major": 2,
       "version_minor": 0
      },
      "text/plain": [
       "Validation: |                                                                                                 …"
      ]
     },
     "metadata": {},
     "output_type": "display_data"
    },
    {
     "data": {
      "application/vnd.jupyter.widget-view+json": {
       "model_id": "",
       "version_major": 2,
       "version_minor": 0
      },
      "text/plain": [
       "Validation: |                                                                                                 …"
      ]
     },
     "metadata": {},
     "output_type": "display_data"
    },
    {
     "data": {
      "application/vnd.jupyter.widget-view+json": {
       "model_id": "",
       "version_major": 2,
       "version_minor": 0
      },
      "text/plain": [
       "Validation: |                                                                                                 …"
      ]
     },
     "metadata": {},
     "output_type": "display_data"
    },
    {
     "data": {
      "application/vnd.jupyter.widget-view+json": {
       "model_id": "",
       "version_major": 2,
       "version_minor": 0
      },
      "text/plain": [
       "Validation: |                                                                                                 …"
      ]
     },
     "metadata": {},
     "output_type": "display_data"
    },
    {
     "data": {
      "application/vnd.jupyter.widget-view+json": {
       "model_id": "",
       "version_major": 2,
       "version_minor": 0
      },
      "text/plain": [
       "Validation: |                                                                                                 …"
      ]
     },
     "metadata": {},
     "output_type": "display_data"
    },
    {
     "data": {
      "application/vnd.jupyter.widget-view+json": {
       "model_id": "",
       "version_major": 2,
       "version_minor": 0
      },
      "text/plain": [
       "Validation: |                                                                                                 …"
      ]
     },
     "metadata": {},
     "output_type": "display_data"
    },
    {
     "data": {
      "application/vnd.jupyter.widget-view+json": {
       "model_id": "",
       "version_major": 2,
       "version_minor": 0
      },
      "text/plain": [
       "Validation: |                                                                                                 …"
      ]
     },
     "metadata": {},
     "output_type": "display_data"
    },
    {
     "data": {
      "application/vnd.jupyter.widget-view+json": {
       "model_id": "",
       "version_major": 2,
       "version_minor": 0
      },
      "text/plain": [
       "Validation: |                                                                                                 …"
      ]
     },
     "metadata": {},
     "output_type": "display_data"
    },
    {
     "data": {
      "application/vnd.jupyter.widget-view+json": {
       "model_id": "",
       "version_major": 2,
       "version_minor": 0
      },
      "text/plain": [
       "Validation: |                                                                                                 …"
      ]
     },
     "metadata": {},
     "output_type": "display_data"
    },
    {
     "data": {
      "application/vnd.jupyter.widget-view+json": {
       "model_id": "",
       "version_major": 2,
       "version_minor": 0
      },
      "text/plain": [
       "Validation: |                                                                                                 …"
      ]
     },
     "metadata": {},
     "output_type": "display_data"
    },
    {
     "data": {
      "application/vnd.jupyter.widget-view+json": {
       "model_id": "",
       "version_major": 2,
       "version_minor": 0
      },
      "text/plain": [
       "Validation: |                                                                                                 …"
      ]
     },
     "metadata": {},
     "output_type": "display_data"
    },
    {
     "data": {
      "application/vnd.jupyter.widget-view+json": {
       "model_id": "",
       "version_major": 2,
       "version_minor": 0
      },
      "text/plain": [
       "Validation: |                                                                                                 …"
      ]
     },
     "metadata": {},
     "output_type": "display_data"
    },
    {
     "data": {
      "application/vnd.jupyter.widget-view+json": {
       "model_id": "",
       "version_major": 2,
       "version_minor": 0
      },
      "text/plain": [
       "Validation: |                                                                                                 …"
      ]
     },
     "metadata": {},
     "output_type": "display_data"
    },
    {
     "data": {
      "application/vnd.jupyter.widget-view+json": {
       "model_id": "",
       "version_major": 2,
       "version_minor": 0
      },
      "text/plain": [
       "Validation: |                                                                                                 …"
      ]
     },
     "metadata": {},
     "output_type": "display_data"
    },
    {
     "data": {
      "application/vnd.jupyter.widget-view+json": {
       "model_id": "",
       "version_major": 2,
       "version_minor": 0
      },
      "text/plain": [
       "Validation: |                                                                                                 …"
      ]
     },
     "metadata": {},
     "output_type": "display_data"
    },
    {
     "data": {
      "application/vnd.jupyter.widget-view+json": {
       "model_id": "",
       "version_major": 2,
       "version_minor": 0
      },
      "text/plain": [
       "Validation: |                                                                                                 …"
      ]
     },
     "metadata": {},
     "output_type": "display_data"
    },
    {
     "data": {
      "application/vnd.jupyter.widget-view+json": {
       "model_id": "",
       "version_major": 2,
       "version_minor": 0
      },
      "text/plain": [
       "Validation: |                                                                                                 …"
      ]
     },
     "metadata": {},
     "output_type": "display_data"
    },
    {
     "data": {
      "application/vnd.jupyter.widget-view+json": {
       "model_id": "",
       "version_major": 2,
       "version_minor": 0
      },
      "text/plain": [
       "Validation: |                                                                                                 …"
      ]
     },
     "metadata": {},
     "output_type": "display_data"
    },
    {
     "data": {
      "application/vnd.jupyter.widget-view+json": {
       "model_id": "",
       "version_major": 2,
       "version_minor": 0
      },
      "text/plain": [
       "Validation: |                                                                                                 …"
      ]
     },
     "metadata": {},
     "output_type": "display_data"
    },
    {
     "data": {
      "application/vnd.jupyter.widget-view+json": {
       "model_id": "",
       "version_major": 2,
       "version_minor": 0
      },
      "text/plain": [
       "Validation: |                                                                                                 …"
      ]
     },
     "metadata": {},
     "output_type": "display_data"
    },
    {
     "data": {
      "application/vnd.jupyter.widget-view+json": {
       "model_id": "",
       "version_major": 2,
       "version_minor": 0
      },
      "text/plain": [
       "Validation: |                                                                                                 …"
      ]
     },
     "metadata": {},
     "output_type": "display_data"
    },
    {
     "data": {
      "application/vnd.jupyter.widget-view+json": {
       "model_id": "",
       "version_major": 2,
       "version_minor": 0
      },
      "text/plain": [
       "Validation: |                                                                                                 …"
      ]
     },
     "metadata": {},
     "output_type": "display_data"
    },
    {
     "data": {
      "application/vnd.jupyter.widget-view+json": {
       "model_id": "",
       "version_major": 2,
       "version_minor": 0
      },
      "text/plain": [
       "Validation: |                                                                                                 …"
      ]
     },
     "metadata": {},
     "output_type": "display_data"
    },
    {
     "data": {
      "application/vnd.jupyter.widget-view+json": {
       "model_id": "",
       "version_major": 2,
       "version_minor": 0
      },
      "text/plain": [
       "Validation: |                                                                                                 …"
      ]
     },
     "metadata": {},
     "output_type": "display_data"
    },
    {
     "data": {
      "application/vnd.jupyter.widget-view+json": {
       "model_id": "",
       "version_major": 2,
       "version_minor": 0
      },
      "text/plain": [
       "Validation: |                                                                                                 …"
      ]
     },
     "metadata": {},
     "output_type": "display_data"
    },
    {
     "data": {
      "application/vnd.jupyter.widget-view+json": {
       "model_id": "",
       "version_major": 2,
       "version_minor": 0
      },
      "text/plain": [
       "Validation: |                                                                                                 …"
      ]
     },
     "metadata": {},
     "output_type": "display_data"
    },
    {
     "name": "stderr",
     "output_type": "stream",
     "text": [
      "`Trainer.fit` stopped: `max_epochs=100` reached.\n",
      "\u001b[32m2024-10-27 22:43:10.183\u001b[0m | \u001b[1mINFO    \u001b[0m | \u001b[36msrc.ranker.trainer\u001b[0m:\u001b[36mon_fit_end\u001b[0m:\u001b[36m134\u001b[0m - \u001b[1mLogging classification metrics...\u001b[0m\n",
      "\u001b[32m2024-10-27 22:44:00.625\u001b[0m | \u001b[1mINFO    \u001b[0m | \u001b[36m__main__\u001b[0m:\u001b[36m<module>\u001b[0m:\u001b[36m28\u001b[0m - \u001b[1mLogs available at /Users/dvq/frostmourne/recsys-mvp/notebooks/data/017-item-popularity/logs/overfit/lightning_logs/version_5\u001b[0m\n"
     ]
    }
   ],
   "source": [
    "early_stopping = EarlyStopping(\n",
    "    monitor=\"val_loss\", patience=10, mode=\"min\", verbose=False\n",
    ")\n",
    "\n",
    "model = init_model(n_users, n_items, args.embedding_dim, item_feature_size, dropout=0)\n",
    "lit_model = LitRanker(\n",
    "    model,\n",
    "    learning_rate=args.learning_rate,\n",
    "    l2_reg=0.0,\n",
    "    log_dir=args.notebook_persist_dp,\n",
    ")\n",
    "\n",
    "log_dir = f\"{args.notebook_persist_dp}/logs/overfit\"\n",
    "\n",
    "# train model\n",
    "trainer = L.Trainer(\n",
    "    default_root_dir=log_dir,\n",
    "    accelerator=args.device if args.device else \"auto\",\n",
    "    max_epochs=100,\n",
    "    overfit_batches=1,\n",
    "    callbacks=[early_stopping],\n",
    ")\n",
    "trainer.fit(\n",
    "    model=lit_model,\n",
    "    train_dataloaders=train_loader,\n",
    "    val_dataloaders=train_loader,\n",
    ")\n",
    "logger.info(f\"Logs available at {trainer.log_dir}\")"
   ]
  },
  {
   "cell_type": "code",
   "execution_count": 27,
   "id": "b2cc9ae0-a993-4815-bebd-85cc51e68e65",
   "metadata": {},
   "outputs": [
    {
     "data": {
      "text/html": [
       "\n",
       "      <iframe id=\"tensorboard-frame-2264b9ade1de14b2\" width=\"100%\" height=\"800\" frameborder=\"0\">\n",
       "      </iframe>\n",
       "      <script>\n",
       "        (function() {\n",
       "          const frame = document.getElementById(\"tensorboard-frame-2264b9ade1de14b2\");\n",
       "          const url = new URL(\"/\", window.location);\n",
       "          const port = 6006;\n",
       "          if (port) {\n",
       "            url.port = port;\n",
       "          }\n",
       "          frame.src = url;\n",
       "        })();\n",
       "      </script>\n",
       "    "
      ],
      "text/plain": [
       "<IPython.core.display.HTML object>"
      ]
     },
     "metadata": {},
     "output_type": "display_data"
    }
   ],
   "source": [
    "%tensorboard --logdir $trainer.log_dir"
   ]
  },
  {
   "cell_type": "markdown",
   "id": "65c7e4af-5c66-454e-9e2c-2ca134f4e1cf",
   "metadata": {},
   "source": [
    "##### Fit on all data"
   ]
  },
  {
   "cell_type": "code",
   "execution_count": 28,
   "id": "65d821e0-3255-4947-b720-81a2f83a4911",
   "metadata": {},
   "outputs": [
    {
     "data": {
      "application/vnd.jupyter.widget-view+json": {
       "model_id": "2aa9b861fa5c4140b5a098c9a49f6e41",
       "version_major": 2,
       "version_minor": 0
      },
      "text/plain": [
       "  0%|          | 0/47 [00:00<?, ?it/s]"
      ]
     },
     "metadata": {},
     "output_type": "display_data"
    }
   ],
   "source": [
    "all_items_df = train_df.drop_duplicates(subset=[\"item_indice\"])\n",
    "all_items_indices = all_items_df[\"item_indice\"].values\n",
    "all_items_features = item_metadata_pipeline.transform(all_items_df).astype(np.float32)\n",
    "all_sbert_vectors = ann_index.get_vector_by_ids(all_items_indices.tolist()).astype(np.float32)\n",
    "all_items_features = np.hstack([all_items_features, all_sbert_vectors])"
   ]
  },
  {
   "cell_type": "code",
   "execution_count": 29,
   "id": "23dc78c1-952d-466f-a2b3-3cdf02fd1f59",
   "metadata": {},
   "outputs": [
    {
     "data": {
      "text/plain": [
       "4630"
      ]
     },
     "execution_count": 29,
     "metadata": {},
     "output_type": "execute_result"
    }
   ],
   "source": [
    "len(all_items_indices)"
   ]
  },
  {
   "cell_type": "code",
   "execution_count": 30,
   "id": "d0e7d5ae-ca82-4c28-92e9-b4e5e057f1f9",
   "metadata": {},
   "outputs": [
    {
     "data": {
      "text/plain": [
       "(4630, 929)"
      ]
     },
     "execution_count": 30,
     "metadata": {},
     "output_type": "execute_result"
    }
   ],
   "source": [
    "all_items_features.shape"
   ]
  },
  {
   "cell_type": "code",
   "execution_count": 31,
   "id": "6fef36c3-5263-4d91-8d7f-364d45c20719",
   "metadata": {
    "scrolled": true
   },
   "outputs": [
    {
     "name": "stderr",
     "output_type": "stream",
     "text": [
      "GPU available: True (mps), used: True\n",
      "TPU available: False, using: 0 TPU cores\n",
      "HPU available: False, using: 0 HPUs\n",
      "/Users/dvq/frostmourne/recsys-mvp/.venv/lib/python3.11/site-packages/lightning/pytorch/callbacks/model_checkpoint.py:654: UserWarning:\n",
      "\n",
      "Checkpoint directory /Users/dvq/frostmourne/recsys-mvp/notebooks/data/017-item-popularity/checkpoints exists and is not empty.\n",
      "\n",
      "\n",
      "  | Name  | Type   | Params | Mode \n",
      "-----------------------------------------\n",
      "0 | model | Ranker | 3.4 M  | train\n",
      "-----------------------------------------\n",
      "3.4 M     Trainable params\n",
      "0         Non-trainable params\n",
      "3.4 M     Total params\n",
      "13.533    Total estimated model params size (MB)\n",
      "14        Modules in train mode\n",
      "0         Modules in eval mode\n"
     ]
    },
    {
     "data": {
      "application/vnd.jupyter.widget-view+json": {
       "model_id": "",
       "version_major": 2,
       "version_minor": 0
      },
      "text/plain": [
       "Sanity Checking: |                                                                                            …"
      ]
     },
     "metadata": {},
     "output_type": "display_data"
    },
    {
     "name": "stderr",
     "output_type": "stream",
     "text": [
      "/Users/dvq/frostmourne/recsys-mvp/.venv/lib/python3.11/site-packages/lightning/pytorch/trainer/connectors/data_connector.py:424: PossibleUserWarning:\n",
      "\n",
      "The 'val_dataloader' does not have many workers which may be a bottleneck. Consider increasing the value of the `num_workers` argument` to `num_workers=10` in the `DataLoader` to improve performance.\n",
      "\n",
      "/Users/dvq/frostmourne/recsys-mvp/.venv/lib/python3.11/site-packages/lightning/pytorch/trainer/connectors/data_connector.py:424: PossibleUserWarning:\n",
      "\n",
      "The 'train_dataloader' does not have many workers which may be a bottleneck. Consider increasing the value of the `num_workers` argument` to `num_workers=10` in the `DataLoader` to improve performance.\n",
      "\n"
     ]
    },
    {
     "data": {
      "application/vnd.jupyter.widget-view+json": {
       "model_id": "c34e8d29d0024490ad8599805114e435",
       "version_major": 2,
       "version_minor": 0
      },
      "text/plain": [
       "Training: |                                                                                                   …"
      ]
     },
     "metadata": {},
     "output_type": "display_data"
    },
    {
     "data": {
      "application/vnd.jupyter.widget-view+json": {
       "model_id": "",
       "version_major": 2,
       "version_minor": 0
      },
      "text/plain": [
       "Validation: |                                                                                                 …"
      ]
     },
     "metadata": {},
     "output_type": "display_data"
    },
    {
     "data": {
      "application/vnd.jupyter.widget-view+json": {
       "model_id": "",
       "version_major": 2,
       "version_minor": 0
      },
      "text/plain": [
       "Validation: |                                                                                                 …"
      ]
     },
     "metadata": {},
     "output_type": "display_data"
    },
    {
     "data": {
      "application/vnd.jupyter.widget-view+json": {
       "model_id": "",
       "version_major": 2,
       "version_minor": 0
      },
      "text/plain": [
       "Validation: |                                                                                                 …"
      ]
     },
     "metadata": {},
     "output_type": "display_data"
    },
    {
     "data": {
      "application/vnd.jupyter.widget-view+json": {
       "model_id": "",
       "version_major": 2,
       "version_minor": 0
      },
      "text/plain": [
       "Validation: |                                                                                                 …"
      ]
     },
     "metadata": {},
     "output_type": "display_data"
    },
    {
     "data": {
      "application/vnd.jupyter.widget-view+json": {
       "model_id": "",
       "version_major": 2,
       "version_minor": 0
      },
      "text/plain": [
       "Validation: |                                                                                                 …"
      ]
     },
     "metadata": {},
     "output_type": "display_data"
    },
    {
     "data": {
      "application/vnd.jupyter.widget-view+json": {
       "model_id": "",
       "version_major": 2,
       "version_minor": 0
      },
      "text/plain": [
       "Validation: |                                                                                                 …"
      ]
     },
     "metadata": {},
     "output_type": "display_data"
    },
    {
     "data": {
      "application/vnd.jupyter.widget-view+json": {
       "model_id": "",
       "version_major": 2,
       "version_minor": 0
      },
      "text/plain": [
       "Validation: |                                                                                                 …"
      ]
     },
     "metadata": {},
     "output_type": "display_data"
    },
    {
     "data": {
      "application/vnd.jupyter.widget-view+json": {
       "model_id": "",
       "version_major": 2,
       "version_minor": 0
      },
      "text/plain": [
       "Validation: |                                                                                                 …"
      ]
     },
     "metadata": {},
     "output_type": "display_data"
    },
    {
     "data": {
      "application/vnd.jupyter.widget-view+json": {
       "model_id": "",
       "version_major": 2,
       "version_minor": 0
      },
      "text/plain": [
       "Validation: |                                                                                                 …"
      ]
     },
     "metadata": {},
     "output_type": "display_data"
    },
    {
     "data": {
      "application/vnd.jupyter.widget-view+json": {
       "model_id": "",
       "version_major": 2,
       "version_minor": 0
      },
      "text/plain": [
       "Validation: |                                                                                                 …"
      ]
     },
     "metadata": {},
     "output_type": "display_data"
    },
    {
     "data": {
      "application/vnd.jupyter.widget-view+json": {
       "model_id": "",
       "version_major": 2,
       "version_minor": 0
      },
      "text/plain": [
       "Validation: |                                                                                                 …"
      ]
     },
     "metadata": {},
     "output_type": "display_data"
    },
    {
     "data": {
      "application/vnd.jupyter.widget-view+json": {
       "model_id": "",
       "version_major": 2,
       "version_minor": 0
      },
      "text/plain": [
       "Validation: |                                                                                                 …"
      ]
     },
     "metadata": {},
     "output_type": "display_data"
    },
    {
     "name": "stderr",
     "output_type": "stream",
     "text": [
      "\u001b[32m2024-10-27 23:08:39.430\u001b[0m | \u001b[1mINFO    \u001b[0m | \u001b[36msrc.ranker.trainer\u001b[0m:\u001b[36mon_fit_end\u001b[0m:\u001b[36m134\u001b[0m - \u001b[1mLogging classification metrics...\u001b[0m\n",
      "\u001b[32m2024-10-27 23:08:40.540\u001b[0m | \u001b[1mINFO    \u001b[0m | \u001b[36msrc.ranker.trainer\u001b[0m:\u001b[36mon_fit_end\u001b[0m:\u001b[36m137\u001b[0m - \u001b[1mLogging ranking metrics...\u001b[0m\n"
     ]
    },
    {
     "data": {
      "application/vnd.jupyter.widget-view+json": {
       "model_id": "5495ce5063f543db88d077177598abb8",
       "version_major": 2,
       "version_minor": 0
      },
      "text/plain": [
       "Generating recommendations:   0%|          | 0/177 [00:00<?, ?it/s]"
      ]
     },
     "metadata": {},
     "output_type": "display_data"
    },
    {
     "name": "stderr",
     "output_type": "stream",
     "text": [
      "2024/10/27 23:09:23 INFO mlflow.tracking._tracking_service.client: 🏃 View run 017-item-popularity at: http://localhost:5002/#/experiments/3/runs/c5a5c02ddd594693b90788abae264d36.\n",
      "2024/10/27 23:09:23 INFO mlflow.tracking._tracking_service.client: 🧪 View experiment at: http://localhost:5002/#/experiments/3.\n"
     ]
    }
   ],
   "source": [
    "# papermill_description=fit-model\n",
    "early_stopping = EarlyStopping(\n",
    "    monitor=\"val_loss\", patience=args.early_stopping_patience, mode=\"min\", verbose=False\n",
    ")\n",
    "\n",
    "checkpoint_callback = ModelCheckpoint(\n",
    "    dirpath=f\"{args.notebook_persist_dp}/checkpoints\",\n",
    "    filename=\"best-checkpoint\",\n",
    "    save_top_k=1,\n",
    "    monitor=\"val_loss\",\n",
    "    mode=\"min\",\n",
    ")\n",
    "\n",
    "model = init_model(\n",
    "    n_users,\n",
    "    n_items,\n",
    "    args.embedding_dim,\n",
    "    item_feature_size,\n",
    "    dropout=args.dropout,\n",
    "    item_embedding=pretrained_item_embedding,\n",
    ")\n",
    "lit_model = LitRanker(\n",
    "    model,\n",
    "    learning_rate=args.learning_rate,\n",
    "    l2_reg=args.l2_reg,\n",
    "    log_dir=args.notebook_persist_dp,\n",
    "    evaluate_ranking=True,\n",
    "    idm=idm,\n",
    "    all_items_indices=all_items_indices,\n",
    "    all_items_features=all_items_features,\n",
    "    args=args,\n",
    "    neg_to_pos_ratio=args.neg_to_pos_ratio,\n",
    ")\n",
    "\n",
    "log_dir = f\"{args.notebook_persist_dp}/logs/run\"\n",
    "\n",
    "# train model\n",
    "trainer = L.Trainer(\n",
    "    default_root_dir=log_dir,\n",
    "    max_epochs=args.max_epochs,\n",
    "    callbacks=[early_stopping, checkpoint_callback],\n",
    "    accelerator=args.device if args.device else \"auto\",\n",
    "    logger=args._mlf_logger if args.log_to_mlflow else None,\n",
    ")\n",
    "trainer.fit(\n",
    "    model=lit_model,\n",
    "    train_dataloaders=train_loader,\n",
    "    val_dataloaders=val_loader,\n",
    ")"
   ]
  },
  {
   "cell_type": "code",
   "execution_count": 32,
   "id": "af44bf35-e7c7-4718-97b8-238e89b7f3f0",
   "metadata": {
    "editable": true,
    "scrolled": true,
    "slideshow": {
     "slide_type": ""
    },
    "tags": []
   },
   "outputs": [
    {
     "name": "stderr",
     "output_type": "stream",
     "text": [
      "\u001b[32m2024-10-27 23:09:24.361\u001b[0m | \u001b[1mINFO    \u001b[0m | \u001b[36m__main__\u001b[0m:\u001b[36m<module>\u001b[0m:\u001b[36m1\u001b[0m - \u001b[1mTest predicting after training with user_id = AFNGUKYWUWCH6HAANP4DCND6FETA and parent_asin = B079FPFV3X\u001b[0m\n"
     ]
    },
    {
     "data": {
      "text/plain": [
       "tensor([[0.8907]], grad_fn=<SigmoidBackward0>)"
      ]
     },
     "execution_count": 32,
     "metadata": {},
     "output_type": "execute_result"
    }
   ],
   "source": [
    "logger.info(\n",
    "    f\"Test predicting after training with {args.user_col} = {user_id} and {args.item_col} = {item_id}\"\n",
    ")\n",
    "model.eval()\n",
    "model.predict(user, item_sequence, item_feature, item)"
   ]
  },
  {
   "cell_type": "markdown",
   "id": "f8e1dd22-bcb9-4582-96d0-30acc4e8b790",
   "metadata": {
    "editable": true,
    "slideshow": {
     "slide_type": ""
    },
    "tags": []
   },
   "source": [
    "# Load best checkpoint"
   ]
  },
  {
   "cell_type": "code",
   "execution_count": 33,
   "id": "092427a8-ac4e-4752-a0ee-10729b6e563c",
   "metadata": {
    "scrolled": true
   },
   "outputs": [
    {
     "name": "stderr",
     "output_type": "stream",
     "text": [
      "\u001b[32m2024-10-27 23:09:24.421\u001b[0m | \u001b[1mINFO    \u001b[0m | \u001b[36m__main__\u001b[0m:\u001b[36m<module>\u001b[0m:\u001b[36m1\u001b[0m - \u001b[1mLoading best checkpoint from /Users/dvq/frostmourne/recsys-mvp/notebooks/data/017-item-popularity/checkpoints/best-checkpoint-v5.ckpt...\u001b[0m\n"
     ]
    }
   ],
   "source": [
    "logger.info(f\"Loading best checkpoint from {checkpoint_callback.best_model_path}...\")\n",
    "args.best_checkpoint_path = checkpoint_callback.best_model_path\n",
    "\n",
    "best_trainer = LitRanker.load_from_checkpoint(\n",
    "    checkpoint_callback.best_model_path,\n",
    "    model=init_model(\n",
    "        n_users, n_items, args.embedding_dim, item_feature_size, dropout=0\n",
    "    ),\n",
    ")"
   ]
  },
  {
   "cell_type": "code",
   "execution_count": 34,
   "id": "e68989e7-cd28-4cb3-9a28-5bd477bb67c4",
   "metadata": {},
   "outputs": [],
   "source": [
    "best_model = best_trainer.model.to(lit_model.device)"
   ]
  },
  {
   "cell_type": "code",
   "execution_count": 35,
   "id": "72062d94-6ee8-480f-b7c6-9dcae2ceeb8b",
   "metadata": {
    "scrolled": true
   },
   "outputs": [
    {
     "data": {
      "text/plain": [
       "tensor([[0.7696]], grad_fn=<SigmoidBackward0>)"
      ]
     },
     "execution_count": 35,
     "metadata": {},
     "output_type": "execute_result"
    }
   ],
   "source": [
    "best_model.eval()\n",
    "best_model.predict(user, item_sequence, item_feature, item)"
   ]
  },
  {
   "cell_type": "markdown",
   "id": "26afc39d-5cbd-4ea4-9484-f6419b460bde",
   "metadata": {
    "scrolled": true
   },
   "source": [
    "### Persist id mapping"
   ]
  },
  {
   "cell_type": "code",
   "execution_count": 36,
   "id": "275bcb81-bf50-4757-9e63-5c7a317b276f",
   "metadata": {},
   "outputs": [],
   "source": [
    "if args.log_to_mlflow:\n",
    "    # Persist id_mapping so that at inference we can predict based on item_ids (string) instead of item_index\n",
    "    run_id = trainer.logger.run_id\n",
    "    mlf_client = trainer.logger.experiment\n",
    "    mlf_client.log_artifact(run_id, idm_fp)\n",
    "    # Persist item_feature_metadata pipeline\n",
    "    mlf_client.log_artifact(run_id, args.item_metadata_pipeline_fp)"
   ]
  },
  {
   "cell_type": "markdown",
   "id": "73a53735-cada-4b16-b6ec-b958e20d8093",
   "metadata": {},
   "source": [
    "### Wrap inference function and register best checkpoint as MLflow model"
   ]
  },
  {
   "cell_type": "code",
   "execution_count": 37,
   "id": "fc1da4ca-1616-4f57-99fb-cb851c535a57",
   "metadata": {},
   "outputs": [],
   "source": [
    "inferrer = RankerInferenceWrapper(best_model)"
   ]
  },
  {
   "cell_type": "code",
   "execution_count": 47,
   "id": "a21791a9-d5fc-4abe-bc3c-820aba9f0759",
   "metadata": {},
   "outputs": [
    {
     "data": {
      "text/plain": [
       "array([0.63961154], dtype=float32)"
      ]
     },
     "execution_count": 47,
     "metadata": {},
     "output_type": "execute_result"
    }
   ],
   "source": [
    "sample_input = {\n",
    "    \"user_ids\": [idm.get_user_id(0)],\n",
    "    \"item_sequences\": [[idm.get_item_id(0), idm.get_item_id(1)]],\n",
    "    **{col: [train_df.iloc[0].fillna(0)[col]] for col in args.item_feature_cols},\n",
    "    \"item_ids\": [idm.get_item_id(0)],\n",
    "}\n",
    "sample_output = inferrer.infer([0], [[0, 1]], [train_item_features[0]], [0])\n",
    "sample_output"
   ]
  },
  {
   "cell_type": "code",
   "execution_count": 48,
   "id": "b24b5cf4-5e51-4641-bdfe-6ce289344bf6",
   "metadata": {},
   "outputs": [
    {
     "data": {
      "text/plain": [
       "{'user_ids': ['AE225O22SA7DLBOGOEIFL7FT5VYQ'],\n",
       " 'item_sequences': [['0375869026', '9625990674']],\n",
       " 'main_category': ['Video Games'],\n",
       " 'categories': [array(['Video Games', 'PlayStation 4', 'Games'], dtype=object)],\n",
       " 'price': ['None'],\n",
       " 'parent_asin_rating_cnt_365d': [6.0],\n",
       " 'parent_asin_rating_avg_prev_rating_365d': [3.6666666666666665],\n",
       " 'parent_asin_rating_cnt_90d': [0.0],\n",
       " 'parent_asin_rating_avg_prev_rating_90d': [0],\n",
       " 'parent_asin_rating_cnt_30d': [0.0],\n",
       " 'parent_asin_rating_avg_prev_rating_30d': [0],\n",
       " 'parent_asin_rating_cnt_7d': [0.0],\n",
       " 'parent_asin_rating_avg_prev_rating_7d': [0],\n",
       " 'item_ids': ['0375869026']}"
      ]
     },
     "execution_count": 48,
     "metadata": {},
     "output_type": "execute_result"
    }
   ],
   "source": [
    "sample_input"
   ]
  },
  {
   "cell_type": "code",
   "execution_count": 49,
   "id": "de2c043a-f777-4ade-ab80-cfa4d90aafa8",
   "metadata": {
    "scrolled": true
   },
   "outputs": [
    {
     "name": "stderr",
     "output_type": "stream",
     "text": [
      "/Users/dvq/frostmourne/recsys-mvp/.venv/lib/python3.11/site-packages/mlflow/models/utils.py:523: FutureWarning:\n",
      "\n",
      "Since MLflow 2.16.0, we no longer convert dictionary input example to pandas Dataframe, and directly save it as a json object. If the model expects a pandas DataFrame input instead, please pass the pandas DataFrame as input example directly.\n",
      "\n"
     ]
    },
    {
     "data": {
      "application/vnd.jupyter.widget-view+json": {
       "model_id": "6cb7586413ec4617b178e09eecdc8ae3",
       "version_major": 2,
       "version_minor": 0
      },
      "text/plain": [
       "Downloading artifacts:   0%|          | 0/1 [00:00<?, ?it/s]"
      ]
     },
     "metadata": {},
     "output_type": "display_data"
    },
    {
     "data": {
      "application/vnd.jupyter.widget-view+json": {
       "model_id": "4e93bf7734f94675b9a65c63ac9f54b5",
       "version_major": 2,
       "version_minor": 0
      },
      "text/plain": [
       "Downloading artifacts:   0%|          | 0/1 [00:00<?, ?it/s]"
      ]
     },
     "metadata": {},
     "output_type": "display_data"
    },
    {
     "name": "stderr",
     "output_type": "stream",
     "text": [
      "Registered model 'ranker' already exists. Creating a new version of this model...\n",
      "2024/10/27 23:18:21 INFO mlflow.store.model_registry.abstract_store: Waiting up to 300 seconds for model version to finish creation. Model name: ranker, version 15\n",
      "Created version '15' of model 'ranker'.\n"
     ]
    },
    {
     "data": {
      "application/vnd.jupyter.widget-view+json": {
       "model_id": "5240b8772aa548bdab48a587346cd3c7",
       "version_major": 2,
       "version_minor": 0
      },
      "text/plain": [
       "Downloading artifacts:   0%|          | 0/9 [00:00<?, ?it/s]"
      ]
     },
     "metadata": {},
     "output_type": "display_data"
    },
    {
     "name": "stderr",
     "output_type": "stream",
     "text": [
      "2024/10/27 23:18:22 WARNING mlflow.models.model: Failed to validate serving input example {\n",
      "  \"inputs\": {\n",
      "    \"user_ids\": [\n",
      "      \"AE225O22SA7DLBOGOEIFL7FT5VYQ\"\n",
      "    ],\n",
      "    \"item_sequences\": [\n",
      "      [\n",
      "        \"0375869026\",\n",
      "        \"9625990674\"\n",
      "      ]\n",
      "    ],\n",
      "    \"main_category\": [\n",
      "      \"Video Games\"\n",
      "    ],\n",
      "    \"categories\": [\n",
      "      [\n",
      "        \"Video Games\",\n",
      "        \"PlayStation 4\",\n",
      "        \"Games\"\n",
      "      ]\n",
      "    ],\n",
      "    \"price\": [\n",
      "      \"None\"\n",
      "    ],\n",
      "    \"parent_asin_rating_cnt_365d\": [\n",
      "      6.0\n",
      "    ],\n",
      "    \"parent_asin_rating_avg_prev_rating_365d\": [\n",
      "      3.6666666666666665\n",
      "    ],\n",
      "    \"parent_asin_rating_cnt_90d\": [\n",
      "      0.0\n",
      "    ],\n",
      "    \"parent_asin_rating_avg_prev_rating_90d\": [\n",
      "      0\n",
      "    ],\n",
      "    \"parent_asin_rating_cnt_30d\": [\n",
      "      0.0\n",
      "    ],\n",
      "    \"parent_asin_rating_avg_prev_rating_30d\": [\n",
      "      0\n",
      "    ],\n",
      "    \"parent_asin_rating_cnt_7d\": [\n",
      "      0.0\n",
      "    ],\n",
      "    \"parent_asin_rating_avg_prev_rating_7d\": [\n",
      "      0\n",
      "    ],\n",
      "    \"item_ids\": [\n",
      "      \"0375869026\"\n",
      "    ]\n",
      "  }\n",
      "}. Alternatively, you can avoid passing input example and pass model signature instead when logging the model. To ensure the input example is valid prior to serving, please try calling `mlflow.models.validate_serving_input` on the model uri and serving input example. A serving input example can be generated from model input example using `mlflow.models.convert_input_example_to_serving_input` function.\n",
      "Got error: Per-column arrays must each be 1-dimensional\n",
      "2024/10/27 23:18:22 INFO mlflow.tracking._tracking_service.client: 🏃 View run 017-item-popularity at: http://localhost:5002/#/experiments/3/runs/c5a5c02ddd594693b90788abae264d36.\n",
      "2024/10/27 23:18:22 INFO mlflow.tracking._tracking_service.client: 🧪 View experiment at: http://localhost:5002/#/experiments/3.\n"
     ]
    }
   ],
   "source": [
    "if args.log_to_mlflow:\n",
    "    run_id = trainer.logger.run_id\n",
    "    sample_output_np = sample_output\n",
    "    signature = infer_signature(sample_input, sample_output_np)\n",
    "    idm_filename = idm_fp.split(\"/\")[-1]\n",
    "    item_metadata_pipeline_filename = args.item_metadata_pipeline_fp.split(\"/\")[-1]\n",
    "    with mlflow.start_run(run_id=run_id):\n",
    "        mlflow.pyfunc.log_model(\n",
    "            python_model=inferrer,\n",
    "            artifact_path=\"inferrer\",\n",
    "            # We log the id_mapping to the predict function so that it can accept item_id and automatically convert ot item_indice for PyTorch model to use\n",
    "            artifacts={\n",
    "                \"idm\": mlflow.get_artifact_uri(idm_filename),\n",
    "                \"item_metadata_pipeline\": mlflow.get_artifact_uri(\n",
    "                    item_metadata_pipeline_filename\n",
    "                ),\n",
    "            },\n",
    "            signature=signature,\n",
    "            input_example=sample_input,\n",
    "            registered_model_name=args.mlf_model_name,\n",
    "        )"
   ]
  },
  {
   "cell_type": "markdown",
   "id": "f95d5150-9851-4e61-b1af-8e619abc9ea4",
   "metadata": {},
   "source": [
    "# Set the newly trained model as champion"
   ]
  },
  {
   "cell_type": "code",
   "execution_count": 50,
   "id": "cbf6428a-bc47-400a-99ac-666abfa4ce63",
   "metadata": {},
   "outputs": [
    {
     "name": "stderr",
     "output_type": "stream",
     "text": [
      "\u001b[32m2024-10-27 23:18:27.661\u001b[0m | \u001b[1mINFO    \u001b[0m | \u001b[36m__main__\u001b[0m:\u001b[36m<module>\u001b[0m:\u001b[36m7\u001b[0m - \u001b[1mAliasing the new model as champion...\u001b[0m\n"
     ]
    }
   ],
   "source": [
    "if args.log_to_mlflow:\n",
    "    val_roc_auc = trainer.logger.experiment.get_run(trainer.logger.run_id).data.metrics[\n",
    "        \"val_roc_auc\"\n",
    "    ]\n",
    "\n",
    "    if val_roc_auc > args.min_roc_auc:\n",
    "        logger.info(f\"Aliasing the new model as champion...\")\n",
    "        model_version = (\n",
    "            mlf_client.get_registered_model(args.mlf_model_name)\n",
    "            .latest_versions[0]\n",
    "            .version\n",
    "        )\n",
    "\n",
    "        mlf_client.set_registered_model_alias(\n",
    "            name=args.mlf_model_name, alias=\"champion\", version=model_version\n",
    "        )\n",
    "\n",
    "        mlf_client.set_model_version_tag(\n",
    "            name=args.mlf_model_name,\n",
    "            version=model_version,\n",
    "            key=\"author\",\n",
    "            value=\"quy.dinh\",\n",
    "        )"
   ]
  },
  {
   "cell_type": "markdown",
   "id": "32096360-c26a-42de-9564-30634fb76eeb",
   "metadata": {},
   "source": [
    "# Clean up"
   ]
  },
  {
   "cell_type": "code",
   "execution_count": 51,
   "id": "e98c6850-e4de-43fa-b132-0b97f138a0ed",
   "metadata": {
    "scrolled": true
   },
   "outputs": [
    {
     "name": "stderr",
     "output_type": "stream",
     "text": [
      "2024/10/27 23:18:29 INFO mlflow.tracking._tracking_service.client: 🏃 View run 017-item-popularity at: http://localhost:5002/#/experiments/3/runs/c5a5c02ddd594693b90788abae264d36.\n",
      "2024/10/27 23:18:29 INFO mlflow.tracking._tracking_service.client: 🧪 View experiment at: http://localhost:5002/#/experiments/3.\n"
     ]
    }
   ],
   "source": [
    "all_params = [args]\n",
    "\n",
    "if args.log_to_mlflow:\n",
    "    with mlflow.start_run(run_id=run_id):\n",
    "        for params in all_params:\n",
    "            params_dict = params.dict()\n",
    "            params_ = dict()\n",
    "            for k, v in params_dict.items():\n",
    "                if k == \"top_K\":\n",
    "                    k = \"top_big_K\"\n",
    "                if k == \"top_k\":\n",
    "                    k = \"top_small_k\"\n",
    "                params_[f\"{params.__repr_name__()}.{k}\"] = v\n",
    "            mlflow.log_params(params_)"
   ]
  },
  {
   "cell_type": "code",
   "execution_count": null,
   "id": "30cff81a-484e-4919-be8f-0351cce91a75",
   "metadata": {},
   "outputs": [],
   "source": []
  }
 ],
 "metadata": {
  "kernelspec": {
   "display_name": "Python 3 (ipykernel)",
   "language": "python",
   "name": "python3"
  },
  "language_info": {
   "codemirror_mode": {
    "name": "ipython",
    "version": 3
   },
   "file_extension": ".py",
   "mimetype": "text/x-python",
   "name": "python",
   "nbconvert_exporter": "python",
   "pygments_lexer": "ipython3",
   "version": "3.11.9"
  }
 },
 "nbformat": 4,
 "nbformat_minor": 5
}
