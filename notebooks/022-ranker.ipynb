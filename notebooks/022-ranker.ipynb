{
 "cells": [
  {
   "cell_type": "markdown",
   "id": "3bf1577c-6f3b-4b1c-a848-8f5e45ff8111",
   "metadata": {},
   "source": [
    "# Ranker that can takes into accound different features"
   ]
  },
  {
   "cell_type": "markdown",
   "id": "9309e017-0449-46ee-b7ca-4c4bcadeedf6",
   "metadata": {},
   "source": [
    "# Set up"
   ]
  },
  {
   "cell_type": "code",
   "execution_count": 1,
   "id": "3c8f6e8d-f776-4d39-898c-d783c5ae3407",
   "metadata": {},
   "outputs": [],
   "source": [
    "%load_ext autoreload\n",
    "%autoreload 2\n",
    "%load_ext tensorboard"
   ]
  },
  {
   "cell_type": "code",
   "execution_count": null,
   "id": "35b3499d-dc9c-405a-8714-a26341b581e1",
   "metadata": {
    "editable": true,
    "slideshow": {
     "slide_type": ""
    },
    "tags": []
   },
   "outputs": [],
   "source": [
    "import os\n",
    "import sys\n",
    "\n",
    "import dill\n",
    "import lightning as L\n",
    "import numpy as np\n",
    "import pandas as pd\n",
    "import torch\n",
    "from dotenv import load_dotenv\n",
    "from lightning.pytorch.callbacks import ModelCheckpoint\n",
    "from lightning.pytorch.callbacks.early_stopping import EarlyStopping\n",
    "from lightning.pytorch.loggers import MLFlowLogger\n",
    "from loguru import logger\n",
    "from mlflow.models.signature import infer_signature\n",
    "from pydantic import BaseModel\n",
    "from torch.utils.data import DataLoader\n",
    "\n",
    "import mlflow\n",
    "\n",
    "load_dotenv()\n",
    "\n",
    "sys.path.insert(0, \"..\")\n",
    "\n",
    "from cfg.run_cfg import RunCfg\n",
    "from src.ann import AnnIndex\n",
    "from src.data_prep_utils import chunk_transform\n",
    "from src.dataset import UserItemBinaryDFDataset\n",
    "from src.id_mapper import IDMapper\n",
    "from src.ranker.inference import RankerInferenceWrapper\n",
    "from src.ranker.model import Ranker\n",
    "from src.ranker.trainer import LitRanker\n",
    "from src.viz import blueq_colors"
   ]
  },
  {
   "cell_type": "markdown",
   "id": "fd804021-3424-48e0-973a-e662a72db544",
   "metadata": {},
   "source": [
    "# Controller"
   ]
  },
  {
   "cell_type": "code",
   "execution_count": 3,
   "id": "ce522d9e-f35c-4cc5-a71e-68447956b31f",
   "metadata": {
    "editable": true,
    "slideshow": {
     "slide_type": ""
    },
    "tags": [
     "parameters"
    ]
   },
   "outputs": [],
   "source": [
    "max_epochs = 1"
   ]
  },
  {
   "cell_type": "code",
   "execution_count": 4,
   "id": "ea4e9a93-5b6a-4dec-97f0-b9aa3383c64d",
   "metadata": {
    "scrolled": true
   },
   "outputs": [
    {
     "name": "stderr",
     "output_type": "stream",
     "text": [
      "\u001b[32m2024-11-09 11:25:17.978\u001b[0m | \u001b[34m\u001b[1mDEBUG   \u001b[0m | \u001b[36mcfg.run_cfg\u001b[0m:\u001b[36minit\u001b[0m:\u001b[36m40\u001b[0m - \u001b[34m\u001b[1mSetting use_item_tags_from_llm=True requires running notebook 040-retrieve-item-tags-from-llm\u001b[0m\n",
      "\u001b[32m2024-11-09 11:25:17.978\u001b[0m | \u001b[34m\u001b[1mDEBUG   \u001b[0m | \u001b[36mcfg.run_cfg\u001b[0m:\u001b[36minit\u001b[0m:\u001b[36m43\u001b[0m - \u001b[34m\u001b[1mChanging use_item_tags_from_llm requires re-running notebook 002-features-v2 to get the new item_metadata_pipeline.dill file\u001b[0m\n",
      "\u001b[32m2024-11-09 11:25:17.981\u001b[0m | \u001b[1mINFO    \u001b[0m | \u001b[36m__main__\u001b[0m:\u001b[36minit\u001b[0m:\u001b[36m61\u001b[0m - \u001b[1mSetting up MLflow experiment RecSys MVP - Ranker - run 034-rerun-enable-llm-item-tags...\u001b[0m\n"
     ]
    },
    {
     "name": "stdout",
     "output_type": "stream",
     "text": [
      "{\n",
      "  \"testing\": false,\n",
      "  \"author\": \"quy.dinh\",\n",
      "  \"log_to_mlflow\": true,\n",
      "  \"experiment_name\": \"RecSys MVP - Ranker\",\n",
      "  \"run_name\": \"034-rerun-enable-llm-item-tags\",\n",
      "  \"notebook_persist_dp\": \"/Users/dvq/frostmourne/recsys-mvp/notebooks/data/034-rerun-enable-llm-item-tags\",\n",
      "  \"random_seed\": 41,\n",
      "  \"device\": null,\n",
      "  \"rc\": {\n",
      "    \"use_sbert_features\": false,\n",
      "    \"use_item_tags_from_llm\": true,\n",
      "    \"item_feature_cols\": [\n",
      "      \"main_category\",\n",
      "      \"categories\",\n",
      "      \"price\",\n",
      "      \"parent_asin_rating_cnt_365d\",\n",
      "      \"parent_asin_rating_avg_prev_rating_365d\",\n",
      "      \"parent_asin_rating_cnt_90d\",\n",
      "      \"parent_asin_rating_avg_prev_rating_90d\",\n",
      "      \"parent_asin_rating_cnt_30d\",\n",
      "      \"parent_asin_rating_avg_prev_rating_30d\",\n",
      "      \"parent_asin_rating_cnt_7d\",\n",
      "      \"parent_asin_rating_avg_prev_rating_7d\",\n",
      "      \"tags\"\n",
      "    ],\n",
      "    \"item_tags_from_llm_fp\": \"../data/item_tags_from_llm.parquet\"\n",
      "  },\n",
      "  \"item_metadata_pipeline_fp\": \"../data/item_metadata_pipeline.dill\",\n",
      "  \"qdrant_url\": \"localhost:6333\",\n",
      "  \"qdrant_collection_name\": \"item_desc_sbert\",\n",
      "  \"max_epochs\": 1,\n",
      "  \"batch_size\": 128,\n",
      "  \"tfm_chunk_size\": 10000,\n",
      "  \"neg_to_pos_ratio\": 1,\n",
      "  \"user_col\": \"user_id\",\n",
      "  \"item_col\": \"parent_asin\",\n",
      "  \"rating_col\": \"rating\",\n",
      "  \"timestamp_col\": \"timestamp\",\n",
      "  \"top_K\": 100,\n",
      "  \"top_k\": 10,\n",
      "  \"embedding_dim\": 128,\n",
      "  \"item_sequence_ts_bucket_size\": 10,\n",
      "  \"bucket_embedding_dim\": 16,\n",
      "  \"dropout\": 0.3,\n",
      "  \"early_stopping_patience\": 5,\n",
      "  \"learning_rate\": 0.0003,\n",
      "  \"l2_reg\": 0.0001,\n",
      "  \"mlf_item2vec_model_name\": \"item2vec\",\n",
      "  \"mlf_model_name\": \"ranker\",\n",
      "  \"min_roc_auc\": 0.7,\n",
      "  \"best_checkpoint_path\": null\n",
      "}\n"
     ]
    }
   ],
   "source": [
    "class Args(BaseModel):\n",
    "    testing: bool = False\n",
    "    author: str = \"quy.dinh\"\n",
    "    log_to_mlflow: bool = True\n",
    "    experiment_name: str = \"RecSys MVP - Ranker\"\n",
    "    run_name: str = \"034-rerun-enable-llm-item-tags\"\n",
    "    notebook_persist_dp: str = None\n",
    "    random_seed: int = 41\n",
    "    device: str = None\n",
    "\n",
    "    rc: RunCfg = RunCfg().init()\n",
    "\n",
    "    item_metadata_pipeline_fp: str = \"../data/item_metadata_pipeline.dill\"\n",
    "    qdrant_url: str = None\n",
    "    qdrant_collection_name: str = \"item_desc_sbert\"\n",
    "\n",
    "    max_epochs: int = max_epochs\n",
    "    batch_size: int = 128\n",
    "    tfm_chunk_size: int = 10000\n",
    "    neg_to_pos_ratio: int = 1\n",
    "\n",
    "    user_col: str = \"user_id\"\n",
    "    item_col: str = \"parent_asin\"\n",
    "    rating_col: str = \"rating\"\n",
    "    timestamp_col: str = \"timestamp\"\n",
    "\n",
    "    top_K: int = 100\n",
    "    top_k: int = 10\n",
    "\n",
    "    embedding_dim: int = 128\n",
    "    item_sequence_ts_bucket_size: int = 10\n",
    "    bucket_embedding_dim: int = 16\n",
    "    dropout: float = 0.3\n",
    "    early_stopping_patience: int = 5\n",
    "    learning_rate: float = 0.0003\n",
    "    l2_reg: float = 1e-4\n",
    "\n",
    "    mlf_item2vec_model_name: str = \"item2vec\"\n",
    "    mlf_model_name: str = \"ranker\"\n",
    "    min_roc_auc: float = 0.7\n",
    "\n",
    "    best_checkpoint_path: str = None\n",
    "\n",
    "    def init(self):\n",
    "        self.notebook_persist_dp = os.path.abspath(f\"data/{self.run_name}\")\n",
    "        os.makedirs(self.notebook_persist_dp, exist_ok=True)\n",
    "\n",
    "        if not (qdrant_host := os.getenv(\"QDRANT_HOST\")):\n",
    "            raise Exception(f\"Environment variable QDRANT_HOST is not set.\")\n",
    "\n",
    "        qdrant_port = os.getenv(\"QDRANT_PORT\")\n",
    "        self.qdrant_url = f\"{qdrant_host}:{qdrant_port}\"\n",
    "\n",
    "        if not (mlflow_uri := os.environ.get(\"MLFLOW_TRACKING_URI\")):\n",
    "            logger.warning(\n",
    "                f\"Environment variable MLFLOW_TRACKING_URI is not set. Setting self.log_to_mlflow to false.\"\n",
    "            )\n",
    "            self.log_to_mlflow = False\n",
    "\n",
    "        if self.log_to_mlflow:\n",
    "            logger.info(\n",
    "                f\"Setting up MLflow experiment {self.experiment_name} - run {self.run_name}...\"\n",
    "            )\n",
    "            self._mlf_logger = MLFlowLogger(\n",
    "                experiment_name=self.experiment_name,\n",
    "                run_name=self.run_name,\n",
    "                tracking_uri=mlflow_uri,\n",
    "                log_model=True,\n",
    "            )\n",
    "\n",
    "        return self\n",
    "\n",
    "\n",
    "args = Args().init()\n",
    "\n",
    "print(args.model_dump_json(indent=2))"
   ]
  },
  {
   "cell_type": "markdown",
   "id": "a5acedcb-89e6-41c6-8969-bf3437fc7898",
   "metadata": {},
   "source": [
    "# Implement"
   ]
  },
  {
   "cell_type": "code",
   "execution_count": 5,
   "id": "5a34cb5b-c7db-4b95-952b-5f4cb2e1a04d",
   "metadata": {},
   "outputs": [],
   "source": [
    "def init_model(\n",
    "    n_users,\n",
    "    n_items,\n",
    "    embedding_dim,\n",
    "    item_sequence_ts_bucket_size,\n",
    "    bucket_embedding_dim,\n",
    "    item_feature_size,\n",
    "    dropout,\n",
    "    item_embedding=None,\n",
    "):\n",
    "    model = Ranker(\n",
    "        n_users,\n",
    "        n_items,\n",
    "        embedding_dim,\n",
    "        item_sequence_ts_bucket_size=item_sequence_ts_bucket_size,\n",
    "        bucket_embedding_dim=bucket_embedding_dim,\n",
    "        item_feature_size=item_feature_size,\n",
    "        dropout=dropout,\n",
    "        item_embedding=item_embedding,\n",
    "    )\n",
    "    return model"
   ]
  },
  {
   "cell_type": "markdown",
   "id": "c49b92fb-3b4c-482f-a584-62288873d8c3",
   "metadata": {},
   "source": [
    "## Load pretrained Item2Vec embeddings"
   ]
  },
  {
   "cell_type": "code",
   "execution_count": 6,
   "id": "35cfc84a-75bb-4973-b619-194cc8698ee2",
   "metadata": {
    "scrolled": true
   },
   "outputs": [
    {
     "data": {
      "application/vnd.jupyter.widget-view+json": {
       "model_id": "632898f103f8427dbfc40686bdca7261",
       "version_major": 2,
       "version_minor": 0
      },
      "text/plain": [
       "Downloading artifacts:   0%|          | 0/8 [00:00<?, ?it/s]"
      ]
     },
     "metadata": {},
     "output_type": "display_data"
    }
   ],
   "source": [
    "mlf_client = mlflow.MlflowClient()\n",
    "model = mlflow.pyfunc.load_model(\n",
    "    model_uri=f\"models:/{args.mlf_item2vec_model_name}@champion\"\n",
    ")\n",
    "skipgram_model = model.unwrap_python_model().model\n",
    "embedding_0 = skipgram_model.embeddings(torch.tensor(0))\n",
    "embedding_dim = embedding_0.size()[0]\n",
    "id_mapping = model.unwrap_python_model().id_mapping\n",
    "pretrained_item_embedding = skipgram_model.embeddings"
   ]
  },
  {
   "cell_type": "code",
   "execution_count": 7,
   "id": "f3baa82d-859d-4414-8e19-4c7d92750fa3",
   "metadata": {},
   "outputs": [],
   "source": [
    "assert (\n",
    "    pretrained_item_embedding.embedding_dim == args.embedding_dim\n",
    "), \"Mismatch pretrained item_embedding dimension\""
   ]
  },
  {
   "cell_type": "markdown",
   "id": "a43bc0b9-9d56-4cb2-b821-61dd9b9858b1",
   "metadata": {},
   "source": [
    "## Load vectorized item features"
   ]
  },
  {
   "cell_type": "code",
   "execution_count": 8,
   "id": "8ff750e3-fa06-42b4-a5c3-9b93d3c2b536",
   "metadata": {},
   "outputs": [],
   "source": [
    "with open(args.item_metadata_pipeline_fp, \"rb\") as f:\n",
    "    item_metadata_pipeline = dill.load(f)"
   ]
  },
  {
   "cell_type": "markdown",
   "id": "58607871-619d-46a0-9f7d-405e8f500462",
   "metadata": {},
   "source": [
    "## Load ANN Index"
   ]
  },
  {
   "cell_type": "code",
   "execution_count": 9,
   "id": "6e3a82c4-247e-4402-a87b-198c698be866",
   "metadata": {},
   "outputs": [],
   "source": [
    "if args.rc.use_sbert_features:\n",
    "    ann_index = AnnIndex(args.qdrant_url, args.qdrant_collection_name)\n",
    "    vector = ann_index.get_vector_by_ids([0])[0]\n",
    "    sbert_embedding_dim = vector.shape[0]\n",
    "    logger.info(f\"{sbert_embedding_dim=}\")\n",
    "    neighbors = ann_index.get_neighbors_by_ids([0])\n",
    "    display(neighbors)"
   ]
  },
  {
   "cell_type": "markdown",
   "id": "377a71da-1ee3-474c-b3f4-4488d2a45dd3",
   "metadata": {},
   "source": [
    "# Test implementation"
   ]
  },
  {
   "cell_type": "code",
   "execution_count": null,
   "id": "2806284e-20cd-4e8f-a1b9-34483ca094a2",
   "metadata": {
    "scrolled": true
   },
   "outputs": [
    {
     "name": "stdout",
     "output_type": "stream",
     "text": [
      "tensor([[0.4670],\n",
      "        [0.4379],\n",
      "        [0.5346],\n",
      "        [0.5054],\n",
      "        [0.4637]], grad_fn=<SigmoidBackward0>)\n"
     ]
    },
    {
     "data": {
      "text/plain": [
       "Ranker(\n",
       "  (item_embedding): Embedding(6, 8, padding_idx=5)\n",
       "  (user_embedding): Embedding(3, 8)\n",
       "  (item_sequence_ts_bucket_embedding): Embedding(11, 16, padding_idx=10)\n",
       "  (gru): GRU(24, 8, batch_first=True)\n",
       "  (relu): ReLU()\n",
       "  (dropout): Dropout(p=0.3, inplace=False)\n",
       "  (item_feature_tower): Sequential(\n",
       "    (0): Linear(in_features=461, out_features=8, bias=True)\n",
       "    (1): BatchNorm1d(8, eps=1e-05, momentum=0.1, affine=True, track_running_stats=True)\n",
       "    (2): ReLU()\n",
       "    (3): Dropout(p=0.3, inplace=False)\n",
       "  )\n",
       "  (fc_rating): Sequential(\n",
       "    (0): Linear(in_features=32, out_features=8, bias=True)\n",
       "    (1): BatchNorm1d(8, eps=1e-05, momentum=0.1, affine=True, track_running_stats=True)\n",
       "    (2): ReLU()\n",
       "    (3): Dropout(p=0.3, inplace=False)\n",
       "    (4): Linear(in_features=8, out_features=1, bias=True)\n",
       "    (5): Sigmoid()\n",
       "  )\n",
       ")"
      ]
     },
     "execution_count": 10,
     "metadata": {},
     "output_type": "execute_result"
    }
   ],
   "source": [
    "embedding_dim = 8\n",
    "batch_size = 2\n",
    "\n",
    "# Mock data\n",
    "user_indices = [0, 0, 1, 2, 2]\n",
    "item_indices = [0, 1, 2, 3, 4]\n",
    "timestamps = [0, 1, 2, 3, 4]\n",
    "ratings = [0, 4, 5, 3, 0]\n",
    "item_sequences = [\n",
    "    [-1, -1, 2, 3],\n",
    "    [-1, -1, 2, 3],\n",
    "    [-1, -1, 1, 3],\n",
    "    [-1, -1, 2, 1],\n",
    "    [-1, -1, 2, 1],\n",
    "]\n",
    "item_sequences_ts_buckets = [\n",
    "    [-1, -1, 2, 3],\n",
    "    [-1, -1, 2, 3],\n",
    "    [-1, -1, 1, 3],\n",
    "    [-1, -1, 2, 1],\n",
    "    [-1, -1, 2, 1],\n",
    "]\n",
    "main_category = [\n",
    "    \"All Electronics\",\n",
    "    \"Video Games\",\n",
    "    \"All Electronics\",\n",
    "    \"Video Games\",\n",
    "    \"Unknown\",\n",
    "]\n",
    "categories = [[], [\"Headsets\"], [\"Video Games\"], [], [\"blah blah\"]]\n",
    "tags = categories  # Mock data not important\n",
    "title = [\"World of Warcraft\", \"DotA 2\", \"Diablo IV\", \"Football Manager 2024\", \"Unknown\"]\n",
    "description = [[], [], [\"Video games blah blah\"], [], [\"blah blah\"]]\n",
    "price = [\"from 14.99\", \"14.99\", \"price: 9.99\", \"20 dollars\", \"None\"]\n",
    "parent_asin_rating_cnt_365d = [0, 1, 2, 3, 4]\n",
    "parent_asin_rating_avg_prev_rating_365d = [4.0, 3.5, 4.5, 5.0, 2.0]\n",
    "parent_asin_rating_cnt_90d = [0, 1, 2, 3, 4]\n",
    "parent_asin_rating_avg_prev_rating_90d = [4.0, 3.5, 4.5, 5.0, 2.0]\n",
    "parent_asin_rating_cnt_30d = [0, 1, 2, 3, 4]\n",
    "parent_asin_rating_avg_prev_rating_30d = [4.0, 3.5, 4.5, 5.0, 2.0]\n",
    "parent_asin_rating_cnt_7d = [0, 1, 2, 3, 4]\n",
    "parent_asin_rating_avg_prev_rating_7d = [4.0, 3.5, 4.5, 5.0, 2.0]\n",
    "\n",
    "train_data = {\n",
    "    \"user_indice\": user_indices,\n",
    "    \"item_indice\": item_indices,\n",
    "    args.timestamp_col: timestamps,\n",
    "    args.rating_col: ratings,\n",
    "    \"item_sequence\": item_sequences,\n",
    "    \"item_sequence_ts_bucket\": item_sequences_ts_buckets,\n",
    "    \"main_category\": main_category,\n",
    "    \"title\": title,\n",
    "    \"description\": description,\n",
    "    \"categories\": categories,\n",
    "    \"price\": price,\n",
    "    \"parent_asin_rating_cnt_365d\": parent_asin_rating_cnt_365d,\n",
    "    \"parent_asin_rating_avg_prev_rating_365d\": parent_asin_rating_avg_prev_rating_365d,\n",
    "    \"parent_asin_rating_cnt_90d\": parent_asin_rating_cnt_90d,\n",
    "    \"parent_asin_rating_avg_prev_rating_90d\": parent_asin_rating_avg_prev_rating_90d,\n",
    "    \"parent_asin_rating_cnt_30d\": parent_asin_rating_cnt_30d,\n",
    "    \"parent_asin_rating_avg_prev_rating_30d\": parent_asin_rating_avg_prev_rating_30d,\n",
    "    \"parent_asin_rating_cnt_7d\": parent_asin_rating_cnt_7d,\n",
    "    \"parent_asin_rating_avg_prev_rating_7d\": parent_asin_rating_avg_prev_rating_7d,\n",
    "}\n",
    "\n",
    "if args.rc.use_item_tags_from_llm:\n",
    "    train_data[\"tags\"] = tags\n",
    "\n",
    "train_df = pd.DataFrame(train_data)\n",
    "train_item_features = item_metadata_pipeline.transform(train_df).astype(np.float32)\n",
    "if args.rc.use_sbert_features:\n",
    "    sbert_vectors = ann_index.get_vector_by_ids(\n",
    "        train_df[\"item_indice\"].values.tolist()\n",
    "    ).astype(np.float32)\n",
    "    train_item_features = np.hstack([train_item_features, sbert_vectors])\n",
    "\n",
    "n_users = len(set(user_indices))\n",
    "n_items = len(set(item_indices))\n",
    "item_feature_size = train_item_features.shape[1]\n",
    "\n",
    "model = init_model(\n",
    "    n_users,\n",
    "    n_items,\n",
    "    embedding_dim,\n",
    "    args.item_sequence_ts_bucket_size,\n",
    "    args.bucket_embedding_dim,\n",
    "    item_feature_size,\n",
    "    args.dropout,\n",
    ")\n",
    "\n",
    "# Example forward pass\n",
    "model.eval()\n",
    "users = torch.tensor(user_indices)\n",
    "items = torch.tensor(item_indices)\n",
    "item_sequences = torch.tensor(item_sequences)\n",
    "item_sequences_ts_buckets = torch.tensor(item_sequences_ts_buckets)\n",
    "item_features = torch.tensor(train_item_features)\n",
    "predictions = model.predict(\n",
    "    users, item_sequences, item_sequences_ts_buckets, item_features, items\n",
    ")\n",
    "print(predictions)\n",
    "model.train()"
   ]
  },
  {
   "cell_type": "code",
   "execution_count": 11,
   "id": "0c0b1fea-0376-4624-ad8a-d000208a97f5",
   "metadata": {
    "scrolled": true
   },
   "outputs": [],
   "source": [
    "rating_dataset = UserItemBinaryDFDataset(\n",
    "    train_df,\n",
    "    \"user_indice\",\n",
    "    \"item_indice\",\n",
    "    args.rating_col,\n",
    "    args.timestamp_col,\n",
    "    item_feature=train_item_features,\n",
    ")\n",
    "\n",
    "train_loader = DataLoader(\n",
    "    rating_dataset, batch_size=batch_size, shuffle=False, drop_last=True\n",
    ")"
   ]
  },
  {
   "cell_type": "code",
   "execution_count": 12,
   "id": "2e82d3d1-826a-409b-8440-46e0bd924269",
   "metadata": {
    "scrolled": true
   },
   "outputs": [
    {
     "name": "stdout",
     "output_type": "stream",
     "text": [
      "{'user': tensor([0, 0]), 'item': tensor([0, 1]), 'rating': tensor([0., 1.]), 'item_sequence': tensor([[-1, -1,  2,  3],\n",
      "        [-1, -1,  2,  3]]), 'item_sequence_ts_bucket': tensor([[-1, -1,  2,  3],\n",
      "        [-1, -1,  2,  3]]), 'item_feature': tensor([[-0.0147,  5.6424, -0.0147, -0.0255, -0.0147, -0.0147, -0.0208, -0.0821,\n",
      "         -0.2873, -0.0147, -0.0389, -0.0294, -0.0255, -0.0147, -0.0147, -0.0389,\n",
      "         -0.0208, -0.0389, -0.0510, -2.4504, -0.1343,  7.1430, -0.6101, -0.0821,\n",
      "         -0.0794, -0.0208, -0.0147, -0.0147, -0.0510, -0.1326, -0.0255, -0.0147,\n",
      "         -0.0910, -0.1359, -0.0147, -0.1486, -0.1045, -0.0147, -0.0147, -0.2057,\n",
      "         -0.2260, -0.0294, -0.0208, -0.0147, -0.0208, -0.0147, -0.0294, -0.0737,\n",
      "         -0.0208, -0.0208, -0.0147, -0.1034, -0.0208, -0.0208, -0.0389, -0.1034,\n",
      "         -0.0551, -0.1248, -0.0675, -0.1239, -0.1638, -1.1327, -0.0208, -0.0208,\n",
      "         -0.1300, -0.1359, -0.0329, -0.0147, -0.0147, -0.0208, -0.0147, -0.0208,\n",
      "         -0.0465, -0.1836, -0.0910, -0.0255, -0.0208, -0.0389, -1.1646, -0.0691,\n",
      "         -0.0551, -0.0147, -0.0416, -0.0208, -0.0642, -0.0329, -0.2439, -0.0821,\n",
      "         -0.1830, -0.0208, -0.0922, -0.2434, -0.5512, -0.0208, -0.0707, -0.4099,\n",
      "         -0.0208, -0.1203, -0.2249, -0.3460, -0.3224, -0.0510, -0.0675, -0.0360,\n",
      "         -0.5185, -0.1545, -0.0360, -0.0255, -0.0360, -0.0147, -0.0531, -0.0625,\n",
      "         -0.0208, -0.0691, -0.0510, -0.0607, -0.0255, -0.0834, -0.0255, -0.0147,\n",
      "         -0.0294, -0.1203, -0.0147, -0.0147, -0.0551, -0.0329, -0.0208, -0.0416,\n",
      "         -0.0780, -0.0147, -0.0294, -0.0294, -0.0510, -0.0147, -0.0147, -0.0389,\n",
      "         -0.0329, -7.1024, -0.0208, -0.0255, -0.0255, -0.0465, -0.2523, -0.1706,\n",
      "         -0.1326, -0.3365, -0.0208, -0.0208, -0.0570, -0.2886, -0.0208, -0.3713,\n",
      "         -0.3813, -0.5132,  0.2043, -0.3825,  0.5731, -0.3052,  1.0211, -0.2525,\n",
      "          1.8559, -0.0691, -0.0766, -0.2244, -0.3514, -0.1416, -0.0607, -0.0691,\n",
      "         -0.2130, -0.0551, -0.3058, -0.3033, -0.0737, -0.1155, -0.0551, -0.1013,\n",
      "         -0.1055, -0.0766, -0.0780, -0.0531, -0.0589, -0.0659, -0.0551, -0.0751,\n",
      "         -0.0589, -0.0570, -0.0934, -0.0675, -0.0659, -0.0945, -0.0691, -0.0860,\n",
      "         -0.0847, -0.0551, -0.0934, -0.2348, -0.0625, -0.1155, -0.0780, -0.0531,\n",
      "         -0.1126, -0.1239, -0.0751, -0.1432, -0.0607, -0.0659, -0.1155, -0.0885,\n",
      "         -0.0691, -0.0751, -0.0910, -0.0910, -0.0625, -0.0898, -0.0570, -0.0570,\n",
      "         -0.0957, -0.0707, -0.0625, -0.0898, -0.0847, -0.1603, -0.1274, -0.0589,\n",
      "         -0.1096, -0.0625, -0.0642, -0.0737, -0.0766, -0.0751, -0.0642, -0.0607,\n",
      "         -0.0860, -0.1034, -0.1002, -0.0659, -0.0570, -0.0737, -0.0551, -0.0691,\n",
      "         -0.1248, -0.0737, -0.0691, -0.0860, -0.0570, -0.0737, -0.1066, -0.0589,\n",
      "         -0.0531, -0.1309, -0.1631, -0.0707, -0.1283, -0.1283, -0.2207, -0.0551,\n",
      "         -0.0531, -0.2307, -0.2333, -0.0531, -0.0722, -0.1203, -0.1359, -0.0531,\n",
      "         -0.0570, -0.1964, -0.0834, -0.0642, -0.0722, -0.0737, -0.0642, -0.0589,\n",
      "         -0.0589, -0.0589, -0.1024, -0.0625, -0.2046, -0.0675, -0.0808, -0.0531,\n",
      "         -0.0707, -0.1440, -0.0847, -0.1257, -0.0766, -0.1257, -0.0898, -0.0570,\n",
      "         -0.0570, -0.0659, -0.0737, -0.0625, -0.0922, -0.0898, -0.0607, -0.1096,\n",
      "         -0.0737, -0.0531, -0.0885, -0.0722, -0.0589, -0.1248, -0.0589, -0.0531,\n",
      "         -0.1116, -0.0780, -0.0737, -0.1486, -0.0607, -0.0531, -0.1257, -0.0766,\n",
      "         -0.1659, -0.0551, -0.0910, -0.1221, -0.1392, -0.0531, -0.0551, -0.0808,\n",
      "         -0.0625, -0.0531, -0.0531, -0.0945, -0.0847, -0.0821, -0.0531, -0.1002,\n",
      "         -0.0570, -0.0821, -0.0675, -0.4362, -0.0675, -0.0751, -0.0589, -0.0691,\n",
      "         -0.0659, -0.0957, -0.1193, -0.1624, -0.0885, -0.0625, -0.0808, -0.0808,\n",
      "         -0.0607, -0.0991, -0.0691, -0.0922, -0.1045, -0.0691, -0.0551, -0.0794,\n",
      "         -0.2618, -0.1574, -0.0737, -0.0691, -0.0885, -0.1486, -0.2364, -0.0659,\n",
      "         -0.0691, -0.0780, -0.0968, -0.0766, -0.0570, -0.0980, -0.0847, -0.1230,\n",
      "         -0.1376, -0.0922, -0.0885, -0.0607, -0.0625, -0.0934, -0.0898, -0.0551,\n",
      "         -0.0551, -0.1589, -0.0625, -0.0589, -0.0570, -0.1589, -0.0707, -0.0707,\n",
      "         -0.0834, -0.0751, -0.0860, -0.0551, -0.0570, -0.0751, -0.1400, -0.1493,\n",
      "         -0.1343, -0.0531, -0.0707, -0.0821, -0.0910, -0.1946, -0.0957, -0.1538,\n",
      "         -0.0794, -0.0834, -0.1946, -0.4085, -0.0751, -0.1652, -0.0707, -0.0531,\n",
      "         -0.1766, -0.0980, -0.1096, -0.0531, -0.0570, -0.0675, -0.1463, -0.0551,\n",
      "         -0.1045, -0.0780, -0.0659, -0.0589, -0.1830, -0.0531, -0.1508, -0.1076,\n",
      "         -0.1034, -0.1045, -0.1440, -0.0821, -0.0607, -0.0722, -0.0968, -0.0659,\n",
      "         -0.0570, -0.0531, -0.0531, -0.0873, -0.0780, -0.1239, -0.0531, -0.0625,\n",
      "         -0.0551, -0.0607, -0.0570, -0.0551, -0.0722, -0.0751, -0.0642, -0.0570,\n",
      "         -0.1424, -0.0957, -0.0945, -0.0675, -0.1300, -0.0551, -0.0551, -0.0642,\n",
      "         -0.0910, -0.0570, -0.0625, -0.0531, -0.0551],\n",
      "        [-0.0147, -0.1772, -0.0147, -0.0255, -0.0147, -0.0147, -0.0208, -0.0821,\n",
      "         -0.2873, -0.0147, -0.0389, -0.0294, -0.0255, -0.0147, -0.0147, -0.0389,\n",
      "         -0.0208, -0.0389, -0.0510,  0.4081, -0.1343, -0.1400, -0.6101, -0.0821,\n",
      "         -0.0794, -0.0208, -0.0147, -0.0147, -0.0510, -0.1326, -0.0255, -0.0147,\n",
      "         -0.0910, -0.1359, -0.0147, -0.1486, -0.1045, -0.0147, -0.0147, -0.2057,\n",
      "         -0.2260, -0.0294, -0.0208, -0.0147, -0.0208, -0.0147, -0.0294, -0.0737,\n",
      "         -0.0208, -0.0208, -0.0147, -0.1034, -0.0208, -0.0208, -0.0389, -0.1034,\n",
      "         -0.0551, -0.1248, -0.0675, -0.1239, -0.1638, -1.1327, -0.0208, -0.0208,\n",
      "         -0.1300, -0.1359, -0.0329, -0.0147, -0.0147, -0.0208, -0.0147, -0.0208,\n",
      "         -0.0465,  5.4463, -0.0910, -0.0255, -0.0208, -0.0389, -1.1646, -0.0691,\n",
      "         -0.0551, -0.0147, -0.0416, -0.0208, -0.0642, -0.0329, -0.2439, -0.0821,\n",
      "         -0.1830, -0.0208, -0.0922, -0.2434, -0.5512, -0.0208, -0.0707, -0.4099,\n",
      "         -0.0208, -0.1203, -0.2249, -0.3460, -0.3224, -0.0510, -0.0675, -0.0360,\n",
      "         -0.5185, -0.1545, -0.0360, -0.0255, -0.0360, -0.0147, -0.0531, -0.0625,\n",
      "         -0.0208, -0.0691, -0.0510, -0.0607, -0.0255, -0.0834, -0.0255, -0.0147,\n",
      "         -0.0294, -0.1203, -0.0147, -0.0147, -0.0551, -0.0329, -0.0208, -0.0416,\n",
      "         -0.0780, -0.0147, -0.0294, -0.0294, -0.0510, -0.0147, -0.0147, -0.0389,\n",
      "         -0.0329, -7.1024, -0.0208, -0.0255, -0.0255, -0.0465, -0.2523, -0.1706,\n",
      "         -0.1326, -0.3365, -0.0208, -0.0208, -0.0570, -0.2886, -0.0208, -0.3713,\n",
      "         -0.3813, -0.4478, -0.0992, -0.2612,  0.3441, -0.0786,  0.7935,  0.3443,\n",
      "          1.5659, -0.0691, -0.0766, -0.2244, -0.3514, -0.1416, -0.0607, -0.0691,\n",
      "         -0.2130, -0.0551, -0.3058, -0.3033, -0.0737, -0.1155, -0.0551, -0.1013,\n",
      "         -0.1055, -0.0766, -0.0780, -0.0531, -0.0589, -0.0659, -0.0551, -0.0751,\n",
      "         -0.0589, -0.0570, -0.0934, -0.0675, -0.0659, -0.0945, -0.0691, -0.0860,\n",
      "         -0.0847, -0.0551, -0.0934, -0.2348, -0.0625, -0.1155, -0.0780, -0.0531,\n",
      "         -0.1126, -0.1239, -0.0751, -0.1432, -0.0607, -0.0659, -0.1155, -0.0885,\n",
      "         -0.0691, -0.0751, -0.0910, -0.0910, -0.0625, -0.0898, -0.0570, -0.0570,\n",
      "         -0.0957, -0.0707, -0.0625, -0.0898, -0.0847, -0.1603, -0.1274, -0.0589,\n",
      "         -0.1096, -0.0625, -0.0642, -0.0737, -0.0766, -0.0751, -0.0642, -0.0607,\n",
      "         -0.0860, -0.1034, -0.1002, -0.0659, -0.0570, -0.0737, -0.0551, -0.0691,\n",
      "         -0.1248, -0.0737, -0.0691, -0.0860, -0.0570, -0.0737, -0.1066, -0.0589,\n",
      "         -0.0531, -0.1309, -0.1631, -0.0707, -0.1283, -0.1283, -0.2207, -0.0551,\n",
      "         -0.0531, -0.2307, -0.2333, -0.0531, -0.0722, -0.1203, -0.1359, -0.0531,\n",
      "         -0.0570, -0.1964, -0.0834, -0.0642, -0.0722, -0.0737, -0.0642, -0.0589,\n",
      "         -0.0589, -0.0589, -0.1024, -0.0625, -0.2046, -0.0675, -0.0808, -0.0531,\n",
      "         -0.0707, -0.1440, -0.0847, -0.1257, -0.0766, -0.1257, -0.0898, -0.0570,\n",
      "         -0.0570, -0.0659, -0.0737, -0.0625, -0.0922, -0.0898, -0.0607, -0.1096,\n",
      "         -0.0737, -0.0531, -0.0885, -0.0722, -0.0589, -0.1248, -0.0589, -0.0531,\n",
      "         -0.1116, -0.0780, -0.0737, -0.1486, -0.0607, -0.0531, -0.1257, -0.0766,\n",
      "         -0.1659, -0.0551, -0.0910, -0.1221, -0.1392, -0.0531, -0.0551, -0.0808,\n",
      "         -0.0625, -0.0531, -0.0531, -0.0945, -0.0847, -0.0821, -0.0531, -0.1002,\n",
      "         -0.0570, -0.0821, -0.0675, -0.4362, -0.0675, -0.0751, -0.0589, -0.0691,\n",
      "         -0.0659, -0.0957, -0.1193, -0.1624, -0.0885, -0.0625, -0.0808, -0.0808,\n",
      "         -0.0607, -0.0991, -0.0691, -0.0922, -0.1045, -0.0691, -0.0551, -0.0794,\n",
      "         -0.2618, -0.1574, -0.0737, -0.0691, -0.0885, -0.1486, -0.2364, -0.0659,\n",
      "         -0.0691, -0.0780, -0.0968, -0.0766, -0.0570, -0.0980, -0.0847, -0.1230,\n",
      "         -0.1376, -0.0922, -0.0885, -0.0607, -0.0625, -0.0934, -0.0898, -0.0551,\n",
      "         -0.0551, -0.1589, -0.0625, -0.0589, -0.0570, -0.1589, -0.0707, -0.0707,\n",
      "         -0.0834, -0.0751, -0.0860, -0.0551, -0.0570, -0.0751, -0.1400, -0.1493,\n",
      "         -0.1343, -0.0531, -0.0707, -0.0821, -0.0910, -0.1946, -0.0957, -0.1538,\n",
      "         -0.0794, -0.0834, -0.1946, -0.4085, -0.0751, -0.1652, -0.0707, -0.0531,\n",
      "         -0.1766, -0.0980, -0.1096, -0.0531, -0.0570, -0.0675, -0.1463, -0.0551,\n",
      "         -0.1045, -0.0780, -0.0659, -0.0589, -0.1830, -0.0531, -0.1508, -0.1076,\n",
      "         -0.1034, -0.1045, -0.1440, -0.0821, -0.0607, -0.0722, -0.0968, -0.0659,\n",
      "         -0.0570, -0.0531, -0.0531, -0.0873, -0.0780, -0.1239, -0.0531, -0.0625,\n",
      "         -0.0551, -0.0607, -0.0570, -0.0551, -0.0722, -0.0751, -0.0642, -0.0570,\n",
      "         -0.1424, -0.0957, -0.0945, -0.0675, -0.1300, -0.0551, -0.0551, -0.0642,\n",
      "         -0.0910, -0.0570, -0.0625, -0.0531, -0.0551]])}\n",
      "{'user': tensor([1, 2]), 'item': tensor([2, 3]), 'rating': tensor([1., 1.]), 'item_sequence': tensor([[-1, -1,  1,  3],\n",
      "        [-1, -1,  2,  1]]), 'item_sequence_ts_bucket': tensor([[-1, -1,  1,  3],\n",
      "        [-1, -1,  2,  1]]), 'item_feature': tensor([[-0.0147,  5.6424, -0.0147, -0.0255, -0.0147, -0.0147, -0.0208, -0.0821,\n",
      "         -0.2873, -0.0147, -0.0389, -0.0294, -0.0255, -0.0147, -0.0147, -0.0389,\n",
      "         -0.0208, -0.0389, -0.0510, -2.4504, -0.1343, -0.1400, -0.6101, -0.0821,\n",
      "         -0.0794, -0.0208, -0.0147, -0.0147, -0.0510, -0.1326, -0.0255, -0.0147,\n",
      "         -0.0910, -0.1359, -0.0147, -0.1486, -0.1045, -0.0147, -0.0147, -0.2057,\n",
      "         -0.2260, -0.0294, -0.0208, -0.0147, -0.0208, -0.0147, -0.0294, -0.0737,\n",
      "         -0.0208, -0.0208, -0.0147, -0.1034, -0.0208, -0.0208, -0.0389, -0.1034,\n",
      "         -0.0551, -0.1248, -0.0675, -0.1239, -0.1638, -1.1327, -0.0208, -0.0208,\n",
      "         -0.1300, -0.1359, -0.0329, -0.0147, -0.0147, -0.0208, -0.0147, -0.0208,\n",
      "         -0.0465, -0.1836, -0.0910, -0.0255, -0.0208, -0.0389, -1.1646, -0.0691,\n",
      "         -0.0551, -0.0147, -0.0416, -0.0208, -0.0642, -0.0329, -0.2439, -0.0821,\n",
      "         -0.1830, -0.0208, -0.0922, -0.2434, -0.5512, -0.0208, -0.0707, -0.4099,\n",
      "         -0.0208, -0.1203, -0.2249, -0.3460, -0.3224, -0.0510, -0.0675, -0.0360,\n",
      "         -0.5185, -0.1545, -0.0360, -0.0255, -0.0360, -0.0147, -0.0531, -0.0625,\n",
      "         -0.0208, -0.0691, -0.0510, -0.0607, -0.0255, -0.0834, -0.0255, -0.0147,\n",
      "         -0.0294, -0.1203, -0.0147, -0.0147, -0.0551, -0.0329, -0.0208, -0.0416,\n",
      "         -0.0780, -0.0147, -0.0294, -0.0294, -0.0510, -0.0147, -0.0147, -0.0389,\n",
      "         -0.0329,  0.1408, -0.0208, -0.0255, -0.0255, -0.0465, -0.2523, -0.1706,\n",
      "         -0.1326, -0.3365, -0.0208, -0.0208, -0.0570, -0.2886, -0.0208, -0.3713,\n",
      "         -0.4361, -0.3825,  0.5078, -0.1398,  0.8021,  0.1479,  1.2487,  0.9412,\n",
      "          2.1458, -0.0691, -0.0766, -0.2244, -0.3514, -0.1416, -0.0607, -0.0691,\n",
      "         -0.2130, -0.0551, -0.3058, -0.3033, -0.0737, -0.1155, -0.0551, -0.1013,\n",
      "         -0.1055, -0.0766, -0.0780, -0.0531, -0.0589, -0.0659, -0.0551, -0.0751,\n",
      "         -0.0589, -0.0570, -0.0934, -0.0675, -0.0659, -0.0945, -0.0691, -0.0860,\n",
      "         -0.0847, -0.0551, -0.0934, -0.2348, -0.0625, -0.1155, -0.0780, -0.0531,\n",
      "         -0.1126, -0.1239, -0.0751, -0.1432, -0.0607, -0.0659, -0.1155, -0.0885,\n",
      "         -0.0691, -0.0751, -0.0910, -0.0910, -0.0625, -0.0898, -0.0570, -0.0570,\n",
      "         -0.0957, -0.0707, -0.0625, -0.0898, -0.0847, -0.1603, -0.1274, -0.0589,\n",
      "         -0.1096, -0.0625, -0.0642, -0.0737, -0.0766, -0.0751, -0.0642, -0.0607,\n",
      "         -0.0860, -0.1034, -0.1002, -0.0659, -0.0570, -0.0737, -0.0551, -0.0691,\n",
      "         -0.1248, -0.0737, -0.0691, -0.0860, -0.0570, -0.0737, -0.1066, -0.0589,\n",
      "         -0.0531, -0.1309, -0.1631, -0.0707, -0.1283, -0.1283, -0.2207, -0.0551,\n",
      "         -0.0531, -0.2307, -0.2333, -0.0531, -0.0722, -0.1203, -0.1359, -0.0531,\n",
      "         -0.0570, -0.1964, -0.0834, -0.0642, -0.0722, -0.0737, -0.0642, -0.0589,\n",
      "         -0.0589, -0.0589, -0.1024, -0.0625, -0.2046, -0.0675, -0.0808, -0.0531,\n",
      "         -0.0707, -0.1440, -0.0847, -0.1257, -0.0766, -0.1257, -0.0898, -0.0570,\n",
      "         -0.0570, -0.0659, -0.0737, -0.0625, -0.0922, -0.0898, -0.0607, -0.1096,\n",
      "         -0.0737, -0.0531, -0.0885, -0.0722, -0.0589, -0.1248, -0.0589, -0.0531,\n",
      "         -0.1116, -0.0780, -0.0737, -0.1486, -0.0607, -0.0531, -0.1257, -0.0766,\n",
      "         -0.1659, -0.0551, -0.0910, -0.1221, -0.1392, -0.0531, -0.0551, -0.0808,\n",
      "         -0.0625, -0.0531, -0.0531, -0.0945, -0.0847, -0.0821, -0.0531, -0.1002,\n",
      "         -0.0570, -0.0821, -0.0675, -0.4362, -0.0675, -0.0751, -0.0589, -0.0691,\n",
      "         -0.0659, -0.0957, -0.1193, -0.1624, -0.0885, -0.0625, -0.0808, -0.0808,\n",
      "         -0.0607, -0.0991, -0.0691, -0.0922, -0.1045, -0.0691, -0.0551, -0.0794,\n",
      "         -0.2618, -0.1574, -0.0737, -0.0691, -0.0885, -0.1486, -0.2364, -0.0659,\n",
      "         -0.0691, -0.0780, -0.0968, -0.0766, -0.0570, -0.0980, -0.0847, -0.1230,\n",
      "         -0.1376, -0.0922, -0.0885, -0.0607, -0.0625, -0.0934, -0.0898, -0.0551,\n",
      "         -0.0551, -0.1589, -0.0625, -0.0589, -0.0570, -0.1589, -0.0707, -0.0707,\n",
      "         -0.0834, -0.0751, -0.0860, -0.0551, -0.0570, -0.0751, -0.1400, -0.1493,\n",
      "         -0.1343, -0.0531, -0.0707, -0.0821, -0.0910, -0.1946, -0.0957, -0.1538,\n",
      "         -0.0794, -0.0834, -0.1946, -0.4085, -0.0751, -0.1652, -0.0707, -0.0531,\n",
      "         -0.1766, -0.0980, -0.1096, -0.0531, -0.0570, -0.0675, -0.1463, -0.0551,\n",
      "         -0.1045, -0.0780, -0.0659, -0.0589, -0.1830, -0.0531, -0.1508, -0.1076,\n",
      "         -0.1034, -0.1045, -0.1440, -0.0821, -0.0607, -0.0722, -0.0968, -0.0659,\n",
      "         -0.0570, -0.0531, -0.0531, -0.0873, -0.0780, -0.1239, -0.0531, -0.0625,\n",
      "         -0.0551, -0.0607, -0.0570, -0.0551, -0.0722, -0.0751, -0.0642, -0.0570,\n",
      "         -0.1424, -0.0957, -0.0945, -0.0675, -0.1300, -0.0551, -0.0551, -0.0642,\n",
      "         -0.0910, -0.0570, -0.0625, -0.0531, -0.0551],\n",
      "        [-0.0147, -0.1772, -0.0147, -0.0255, -0.0147, -0.0147, -0.0208, -0.0821,\n",
      "         -0.2873, -0.0147, -0.0389, -0.0294, -0.0255, -0.0147, -0.0147, -0.0389,\n",
      "         -0.0208, -0.0389, -0.0510,  0.4081, -0.1343,  7.1430, -0.6101, -0.0821,\n",
      "         -0.0794, -0.0208, -0.0147, -0.0147, -0.0510, -0.1326, -0.0255, -0.0147,\n",
      "         -0.0910, -0.1359, -0.0147, -0.1486, -0.1045, -0.0147, -0.0147, -0.2057,\n",
      "         -0.2260, -0.0294, -0.0208, -0.0147, -0.0208, -0.0147, -0.0294, -0.0737,\n",
      "         -0.0208, -0.0208, -0.0147, -0.1034, -0.0208, -0.0208, -0.0389, -0.1034,\n",
      "         -0.0551, -0.1248, -0.0675, -0.1239, -0.1638, -1.1327, -0.0208, -0.0208,\n",
      "         -0.1300, -0.1359, -0.0329, -0.0147, -0.0147, -0.0208, -0.0147, -0.0208,\n",
      "         -0.0465, -0.1836, -0.0910, -0.0255, -0.0208, -0.0389, -1.1646, -0.0691,\n",
      "         -0.0551, -0.0147, -0.0416, -0.0208, -0.0642, -0.0329, -0.2439, -0.0821,\n",
      "         -0.1830, -0.0208, -0.0922, -0.2434, -0.5512, -0.0208, -0.0707, -0.4099,\n",
      "         -0.0208, -0.1203, -0.2249, -0.3460, -0.3224, -0.0510, -0.0675, -0.0360,\n",
      "         -0.5185, -0.1545, -0.0360, -0.0255, -0.0360, -0.0147, -0.0531, -0.0625,\n",
      "         -0.0208, -0.0691, -0.0510, -0.0607, -0.0255, -0.0834, -0.0255, -0.0147,\n",
      "         -0.0294, -0.1203, -0.0147, -0.0147, -0.0551, -0.0329, -0.0208, -0.0416,\n",
      "         -0.0780, -0.0147, -0.0294, -0.0294, -0.0510, -0.0147, -0.0147, -0.0389,\n",
      "         -0.0329, -7.1024, -0.0208, -0.0255, -0.0255, -0.0465, -0.2523, -0.1706,\n",
      "         -0.1326, -0.3365, -0.0208, -0.0208, -0.0570, -0.2886, -0.0208, -0.3713,\n",
      "         -0.3263, -0.3171,  0.8113, -0.0185,  1.0311,  0.3745,  1.4763,  1.5381,\n",
      "          2.4358, -0.0691, -0.0766, -0.2244, -0.3514, -0.1416, -0.0607, -0.0691,\n",
      "         -0.2130, -0.0551, -0.3058, -0.3033, -0.0737, -0.1155, -0.0551, -0.1013,\n",
      "         -0.1055, -0.0766, -0.0780, -0.0531, -0.0589, -0.0659, -0.0551, -0.0751,\n",
      "         -0.0589, -0.0570, -0.0934, -0.0675, -0.0659, -0.0945, -0.0691, -0.0860,\n",
      "         -0.0847, -0.0551, -0.0934, -0.2348, -0.0625, -0.1155, -0.0780, -0.0531,\n",
      "         -0.1126, -0.1239, -0.0751, -0.1432, -0.0607, -0.0659, -0.1155, -0.0885,\n",
      "         -0.0691, -0.0751, -0.0910, -0.0910, -0.0625, -0.0898, -0.0570, -0.0570,\n",
      "         -0.0957, -0.0707, -0.0625, -0.0898, -0.0847, -0.1603, -0.1274, -0.0589,\n",
      "         -0.1096, -0.0625, -0.0642, -0.0737, -0.0766, -0.0751, -0.0642, -0.0607,\n",
      "         -0.0860, -0.1034, -0.1002, -0.0659, -0.0570, -0.0737, -0.0551, -0.0691,\n",
      "         -0.1248, -0.0737, -0.0691, -0.0860, -0.0570, -0.0737, -0.1066, -0.0589,\n",
      "         -0.0531, -0.1309, -0.1631, -0.0707, -0.1283, -0.1283, -0.2207, -0.0551,\n",
      "         -0.0531, -0.2307, -0.2333, -0.0531, -0.0722, -0.1203, -0.1359, -0.0531,\n",
      "         -0.0570, -0.1964, -0.0834, -0.0642, -0.0722, -0.0737, -0.0642, -0.0589,\n",
      "         -0.0589, -0.0589, -0.1024, -0.0625, -0.2046, -0.0675, -0.0808, -0.0531,\n",
      "         -0.0707, -0.1440, -0.0847, -0.1257, -0.0766, -0.1257, -0.0898, -0.0570,\n",
      "         -0.0570, -0.0659, -0.0737, -0.0625, -0.0922, -0.0898, -0.0607, -0.1096,\n",
      "         -0.0737, -0.0531, -0.0885, -0.0722, -0.0589, -0.1248, -0.0589, -0.0531,\n",
      "         -0.1116, -0.0780, -0.0737, -0.1486, -0.0607, -0.0531, -0.1257, -0.0766,\n",
      "         -0.1659, -0.0551, -0.0910, -0.1221, -0.1392, -0.0531, -0.0551, -0.0808,\n",
      "         -0.0625, -0.0531, -0.0531, -0.0945, -0.0847, -0.0821, -0.0531, -0.1002,\n",
      "         -0.0570, -0.0821, -0.0675, -0.4362, -0.0675, -0.0751, -0.0589, -0.0691,\n",
      "         -0.0659, -0.0957, -0.1193, -0.1624, -0.0885, -0.0625, -0.0808, -0.0808,\n",
      "         -0.0607, -0.0991, -0.0691, -0.0922, -0.1045, -0.0691, -0.0551, -0.0794,\n",
      "         -0.2618, -0.1574, -0.0737, -0.0691, -0.0885, -0.1486, -0.2364, -0.0659,\n",
      "         -0.0691, -0.0780, -0.0968, -0.0766, -0.0570, -0.0980, -0.0847, -0.1230,\n",
      "         -0.1376, -0.0922, -0.0885, -0.0607, -0.0625, -0.0934, -0.0898, -0.0551,\n",
      "         -0.0551, -0.1589, -0.0625, -0.0589, -0.0570, -0.1589, -0.0707, -0.0707,\n",
      "         -0.0834, -0.0751, -0.0860, -0.0551, -0.0570, -0.0751, -0.1400, -0.1493,\n",
      "         -0.1343, -0.0531, -0.0707, -0.0821, -0.0910, -0.1946, -0.0957, -0.1538,\n",
      "         -0.0794, -0.0834, -0.1946, -0.4085, -0.0751, -0.1652, -0.0707, -0.0531,\n",
      "         -0.1766, -0.0980, -0.1096, -0.0531, -0.0570, -0.0675, -0.1463, -0.0551,\n",
      "         -0.1045, -0.0780, -0.0659, -0.0589, -0.1830, -0.0531, -0.1508, -0.1076,\n",
      "         -0.1034, -0.1045, -0.1440, -0.0821, -0.0607, -0.0722, -0.0968, -0.0659,\n",
      "         -0.0570, -0.0531, -0.0531, -0.0873, -0.0780, -0.1239, -0.0531, -0.0625,\n",
      "         -0.0551, -0.0607, -0.0570, -0.0551, -0.0722, -0.0751, -0.0642, -0.0570,\n",
      "         -0.1424, -0.0957, -0.0945, -0.0675, -0.1300, -0.0551, -0.0551, -0.0642,\n",
      "         -0.0910, -0.0570, -0.0625, -0.0531, -0.0551]])}\n"
     ]
    }
   ],
   "source": [
    "for batch_input in train_loader:\n",
    "    print(batch_input)"
   ]
  },
  {
   "cell_type": "code",
   "execution_count": 13,
   "id": "02cb9ca4-11f1-45a8-911b-ed11c8391944",
   "metadata": {
    "scrolled": true
   },
   "outputs": [
    {
     "name": "stderr",
     "output_type": "stream",
     "text": [
      "GPU available: True (mps), used: True\n",
      "TPU available: False, using: 0 TPU cores\n",
      "HPU available: False, using: 0 HPUs\n",
      "\n",
      "  | Name  | Type   | Params | Mode \n",
      "-----------------------------------------\n",
      "0 | model | Ranker | 5.1 K  | train\n",
      "-----------------------------------------\n",
      "5.1 K     Trainable params\n",
      "0         Non-trainable params\n",
      "5.1 K     Total params\n",
      "0.020     Total estimated model params size (MB)\n",
      "15        Modules in train mode\n",
      "0         Modules in eval mode\n"
     ]
    },
    {
     "data": {
      "application/vnd.jupyter.widget-view+json": {
       "model_id": "",
       "version_major": 2,
       "version_minor": 0
      },
      "text/plain": [
       "Sanity Checking: |                                                                                            …"
      ]
     },
     "metadata": {},
     "output_type": "display_data"
    },
    {
     "name": "stderr",
     "output_type": "stream",
     "text": [
      "/Users/dvq/frostmourne/recsys-mvp/.venv/lib/python3.11/site-packages/lightning/pytorch/trainer/connectors/data_connector.py:424: The 'val_dataloader' does not have many workers which may be a bottleneck. Consider increasing the value of the `num_workers` argument` to `num_workers=10` in the `DataLoader` to improve performance.\n",
      "/Users/dvq/frostmourne/recsys-mvp/.venv/lib/python3.11/site-packages/lightning/pytorch/trainer/connectors/data_connector.py:424: The 'train_dataloader' does not have many workers which may be a bottleneck. Consider increasing the value of the `num_workers` argument` to `num_workers=10` in the `DataLoader` to improve performance.\n",
      "/Users/dvq/frostmourne/recsys-mvp/.venv/lib/python3.11/site-packages/lightning/pytorch/loops/fit_loop.py:298: The number of training batches (2) is smaller than the logging interval Trainer(log_every_n_steps=50). Set a lower value for log_every_n_steps if you want to see logs for the training epoch.\n"
     ]
    },
    {
     "data": {
      "application/vnd.jupyter.widget-view+json": {
       "model_id": "c27164a57bda4f409f3e4e397aee4517",
       "version_major": 2,
       "version_minor": 0
      },
      "text/plain": [
       "Training: |                                                                                                   …"
      ]
     },
     "metadata": {},
     "output_type": "display_data"
    },
    {
     "data": {
      "application/vnd.jupyter.widget-view+json": {
       "model_id": "",
       "version_major": 2,
       "version_minor": 0
      },
      "text/plain": [
       "Validation: |                                                                                                 …"
      ]
     },
     "metadata": {},
     "output_type": "display_data"
    },
    {
     "data": {
      "application/vnd.jupyter.widget-view+json": {
       "model_id": "",
       "version_major": 2,
       "version_minor": 0
      },
      "text/plain": [
       "Validation: |                                                                                                 …"
      ]
     },
     "metadata": {},
     "output_type": "display_data"
    },
    {
     "name": "stderr",
     "output_type": "stream",
     "text": [
      "`Trainer.fit` stopped: `max_epochs=2` reached.\n",
      "\u001b[32m2024-11-09 11:25:20.538\u001b[0m | \u001b[1mINFO    \u001b[0m | \u001b[36msrc.ranker.trainer\u001b[0m:\u001b[36mon_fit_end\u001b[0m:\u001b[36m168\u001b[0m - \u001b[1mLogging classification metrics...\u001b[0m\n"
     ]
    }
   ],
   "source": [
    "# Prepare all item features for recommendation\n",
    "all_items_df = train_df.drop_duplicates(subset=[\"item_indice\"])\n",
    "all_items_indices = all_items_df[\"item_indice\"].values\n",
    "all_items_features = item_metadata_pipeline.transform(all_items_df).astype(np.float32)\n",
    "if args.rc.use_sbert_features:\n",
    "    all_sbert_vectors = ann_index.get_vector_by_ids(all_items_indices.tolist()).astype(\n",
    "        np.float32\n",
    "    )\n",
    "    all_items_features = np.hstack([all_items_features, all_sbert_vectors])\n",
    "\n",
    "lit_model = LitRanker(\n",
    "    model,\n",
    "    log_dir=args.notebook_persist_dp,\n",
    "    all_items_indices=all_items_indices,\n",
    "    all_items_features=all_items_features,\n",
    ")\n",
    "\n",
    "# train model\n",
    "trainer = L.Trainer(\n",
    "    default_root_dir=f\"{args.notebook_persist_dp}/test\",\n",
    "    max_epochs=2,\n",
    "    accelerator=args.device if args.device else \"auto\",\n",
    ")\n",
    "trainer.fit(\n",
    "    model=lit_model, train_dataloaders=train_loader, val_dataloaders=train_loader\n",
    ")"
   ]
  },
  {
   "cell_type": "code",
   "execution_count": 14,
   "id": "36778ab4-b228-4bb0-bb0d-801ae7c28cd8",
   "metadata": {},
   "outputs": [
    {
     "name": "stdout",
     "output_type": "stream",
     "text": [
      "tensor([[0.4596],\n",
      "        [0.4435],\n",
      "        [0.5312],\n",
      "        [0.5030],\n",
      "        [0.4710]], grad_fn=<SigmoidBackward0>)\n"
     ]
    },
    {
     "data": {
      "text/plain": [
       "Ranker(\n",
       "  (item_embedding): Embedding(6, 8, padding_idx=5)\n",
       "  (user_embedding): Embedding(3, 8)\n",
       "  (item_sequence_ts_bucket_embedding): Embedding(11, 16, padding_idx=10)\n",
       "  (gru): GRU(24, 8, batch_first=True)\n",
       "  (relu): ReLU()\n",
       "  (dropout): Dropout(p=0.3, inplace=False)\n",
       "  (item_feature_tower): Sequential(\n",
       "    (0): Linear(in_features=461, out_features=8, bias=True)\n",
       "    (1): BatchNorm1d(8, eps=1e-05, momentum=0.1, affine=True, track_running_stats=True)\n",
       "    (2): ReLU()\n",
       "    (3): Dropout(p=0.3, inplace=False)\n",
       "  )\n",
       "  (fc_rating): Sequential(\n",
       "    (0): Linear(in_features=32, out_features=8, bias=True)\n",
       "    (1): BatchNorm1d(8, eps=1e-05, momentum=0.1, affine=True, track_running_stats=True)\n",
       "    (2): ReLU()\n",
       "    (3): Dropout(p=0.3, inplace=False)\n",
       "    (4): Linear(in_features=8, out_features=1, bias=True)\n",
       "    (5): Sigmoid()\n",
       "  )\n",
       ")"
      ]
     },
     "execution_count": 14,
     "metadata": {},
     "output_type": "execute_result"
    }
   ],
   "source": [
    "# After fitting\n",
    "model.eval()\n",
    "predictions = model.predict(\n",
    "    users, item_sequences, item_sequences_ts_buckets, item_features, items\n",
    ")\n",
    "print(predictions)\n",
    "model.train()"
   ]
  },
  {
   "cell_type": "code",
   "execution_count": 15,
   "id": "50fdcf97-6271-406d-81b5-7e91a4c42dec",
   "metadata": {
    "scrolled": true
   },
   "outputs": [
    {
     "data": {
      "application/vnd.jupyter.widget-view+json": {
       "model_id": "ee3334111d3d48a8a056fa1b9d123eaf",
       "version_major": 2,
       "version_minor": 0
      },
      "text/plain": [
       "Generating recommendations:   0%|          | 0/1 [00:00<?, ?it/s]"
      ]
     },
     "metadata": {},
     "output_type": "display_data"
    },
    {
     "data": {
      "text/plain": [
       "{'user_indice': [2, 2, 1, 1, 0, 0],\n",
       " 'recommendation': [3, 2, 2, 3, 3, 2],\n",
       " 'score': [0.5030343532562256,\n",
       "  0.4989425837993622,\n",
       "  0.5312315821647644,\n",
       "  0.5289207696914673,\n",
       "  0.4869174361228943,\n",
       "  0.4733857810497284]}"
      ]
     },
     "execution_count": 15,
     "metadata": {},
     "output_type": "execute_result"
    }
   ],
   "source": [
    "# Get the last row of each item as input for recommendations (containing the most updated item_sequence)\n",
    "to_rec_df = train_df.sort_values(args.timestamp_col, ascending=False).drop_duplicates(\n",
    "    subset=[\"user_indice\"]\n",
    ")\n",
    "recommendations = model.recommend(\n",
    "    torch.tensor(to_rec_df[\"user_indice\"].values.tolist()),\n",
    "    torch.tensor(to_rec_df[\"item_sequence\"].values.tolist()),\n",
    "    torch.tensor(to_rec_df[\"item_sequence_ts_bucket\"].values.tolist()),\n",
    "    torch.tensor(lit_model.all_items_features),\n",
    "    torch.tensor(lit_model.all_items_indices),\n",
    "    k=2,\n",
    "    batch_size=4,\n",
    ")\n",
    "recommendations"
   ]
  },
  {
   "cell_type": "markdown",
   "id": "170dec89-a874-4dce-8f94-07d978fcc5b8",
   "metadata": {},
   "source": [
    "# Prep data"
   ]
  },
  {
   "cell_type": "code",
   "execution_count": null,
   "id": "83803362-5eaa-40bb-b28b-878316d5db5d",
   "metadata": {},
   "outputs": [],
   "source": [
    "train_df = pd.read_parquet(\"../data/train_features_neg_df.parquet\")\n",
    "val_df = pd.read_parquet(\"../data/val_features_neg_df.parquet\")\n",
    "idm_fp = \"../data/idm.json\"\n",
    "idm = IDMapper().load(idm_fp)\n",
    "\n",
    "assert (\n",
    "    train_df[args.user_col].map(lambda s: idm.get_user_index(s))\n",
    "    != train_df[\"user_indice\"]\n",
    ").sum() == 0, \"Mismatch IDM\"\n",
    "assert (\n",
    "    val_df[args.user_col].map(lambda s: idm.get_user_index(s)) != val_df[\"user_indice\"]\n",
    ").sum() == 0, \"Mismatch IDM\"\n",
    "\n",
    "if args.rc.use_item_tags_from_llm:\n",
    "    assert (\n",
    "        \"tags\" in train_df.columns\n",
    "    ), \"There is no column `tags` in train_df, please make sure you have run notebook 002, 020 with RunCfg.use_item_tags_from_llm=True\""
   ]
  },
  {
   "cell_type": "code",
   "execution_count": 17,
   "id": "a92a8ea7-928c-4656-b92c-2e137d78404a",
   "metadata": {
    "scrolled": true
   },
   "outputs": [
    {
     "data": {
      "text/html": [
       "<div>\n",
       "<style scoped>\n",
       "    .dataframe tbody tr th:only-of-type {\n",
       "        vertical-align: middle;\n",
       "    }\n",
       "\n",
       "    .dataframe tbody tr th {\n",
       "        vertical-align: top;\n",
       "    }\n",
       "\n",
       "    .dataframe thead th {\n",
       "        text-align: right;\n",
       "    }\n",
       "</style>\n",
       "<table border=\"1\" class=\"dataframe\">\n",
       "  <thead>\n",
       "    <tr style=\"text-align: right;\">\n",
       "      <th></th>\n",
       "      <th>user_id</th>\n",
       "      <th>parent_asin</th>\n",
       "      <th>rating</th>\n",
       "      <th>timestamp</th>\n",
       "      <th>timestamp_unix</th>\n",
       "      <th>parent_asin_rating_cnt_365d</th>\n",
       "      <th>parent_asin_rating_avg_prev_rating_365d</th>\n",
       "      <th>parent_asin_rating_cnt_90d</th>\n",
       "      <th>parent_asin_rating_avg_prev_rating_90d</th>\n",
       "      <th>parent_asin_rating_cnt_30d</th>\n",
       "      <th>...</th>\n",
       "      <th>user_rating_list_10_recent_asin_timestamp</th>\n",
       "      <th>item_sequence</th>\n",
       "      <th>item_sequence_ts</th>\n",
       "      <th>item_sequence_ts_bucket</th>\n",
       "      <th>tags</th>\n",
       "      <th>main_category</th>\n",
       "      <th>title</th>\n",
       "      <th>description</th>\n",
       "      <th>categories</th>\n",
       "      <th>price</th>\n",
       "    </tr>\n",
       "  </thead>\n",
       "  <tbody>\n",
       "    <tr>\n",
       "      <th>0</th>\n",
       "      <td>AG57LGJFCNNQJ6P6ABQAVUKXDUDA</td>\n",
       "      <td>B0015AARJI</td>\n",
       "      <td>0.0</td>\n",
       "      <td>2016-01-12 11:59:11.000</td>\n",
       "      <td>NaN</td>\n",
       "      <td>76.0</td>\n",
       "      <td>4.592105</td>\n",
       "      <td>10.0</td>\n",
       "      <td>4.3</td>\n",
       "      <td>3.0</td>\n",
       "      <td>...</td>\n",
       "      <td>1452599936</td>\n",
       "      <td>[-1.0, -1.0, -1.0, -1.0, -1.0, -1.0, -1.0, -1....</td>\n",
       "      <td>[-1, -1, -1, -1, -1, -1, -1, -1, -1, 1452599936]</td>\n",
       "      <td>[-1, -1, -1, -1, -1, -1, -1, -1, -1, 0]</td>\n",
       "      <td>[Wireless Controller, PlayStation 3, Multimedi...</td>\n",
       "      <td>Video Games</td>\n",
       "      <td>PlayStation 3 Dualshock 3 Wireless Controller ...</td>\n",
       "      <td>[Amazon.com, The Dualshock 3 wireless controll...</td>\n",
       "      <td>[Video Games, Legacy Systems, PlayStation Syst...</td>\n",
       "      <td>49.99</td>\n",
       "    </tr>\n",
       "    <tr>\n",
       "      <th>1</th>\n",
       "      <td>AHWG4EGOV5ZDKPETL56MAYGPLJRQ</td>\n",
       "      <td>B0BMGHMP23</td>\n",
       "      <td>0.0</td>\n",
       "      <td>2016-04-18 19:26:20.000</td>\n",
       "      <td>NaN</td>\n",
       "      <td>NaN</td>\n",
       "      <td>NaN</td>\n",
       "      <td>NaN</td>\n",
       "      <td>NaN</td>\n",
       "      <td>NaN</td>\n",
       "      <td>...</td>\n",
       "      <td>1449254540,1449256005,1449257733,1452715791,14...</td>\n",
       "      <td>[3028.0, 2742.0, 2755.0, 3159.0, 3101.0, 3036....</td>\n",
       "      <td>[1449254540, 1449256005, 1449257733, 145271579...</td>\n",
       "      <td>[5, 5, 5, 5, 5, 5, 5, 5, 5, 5]</td>\n",
       "      <td>[Wireless Mouse, Gaming Peripheral, High Preci...</td>\n",
       "      <td>Computers</td>\n",
       "      <td>Logitech G502 Lightspeed Wireless Gaming Mouse...</td>\n",
       "      <td>[G502 is the best gaming mouse from Logitech G...</td>\n",
       "      <td>[Video Games, PC, Accessories, Gaming Mice]</td>\n",
       "      <td>87.95</td>\n",
       "    </tr>\n",
       "    <tr>\n",
       "      <th>2</th>\n",
       "      <td>AH5PTZ2U74OZ3HT6QVUWM4CV6OVQ</td>\n",
       "      <td>B009AP23NI</td>\n",
       "      <td>0.0</td>\n",
       "      <td>2016-02-10 18:45:08.000</td>\n",
       "      <td>NaN</td>\n",
       "      <td>9.0</td>\n",
       "      <td>4.666667</td>\n",
       "      <td>0.0</td>\n",
       "      <td>NaN</td>\n",
       "      <td>0.0</td>\n",
       "      <td>...</td>\n",
       "      <td>1443454097,1455129080,1455129186,1455129499,14...</td>\n",
       "      <td>[-1.0, -1.0, 3234.0, 2508.0, 2318.0, 2964.0, 1...</td>\n",
       "      <td>[-1, -1, 1443454097, 1455129080, 1455129186, 1...</td>\n",
       "      <td>[-1, -1, 5, 1, 1, 0, 0, 0, 0, 0]</td>\n",
       "      <td>[Game Controller, Wireless, Nintendo, Ergonomi...</td>\n",
       "      <td>Video Games</td>\n",
       "      <td>Nintendo Wii U Pro U Controller (Japanese Vers...</td>\n",
       "      <td>[Wii U PRO controller (black) (WUP-A-RSKA)]</td>\n",
       "      <td>[Video Games, Legacy Systems, Nintendo Systems...</td>\n",
       "      <td>43.99</td>\n",
       "    </tr>\n",
       "    <tr>\n",
       "      <th>3</th>\n",
       "      <td>AFC5XTCF5D7J3NSDITB2Z26XWWYA</td>\n",
       "      <td>B001E8WQUY</td>\n",
       "      <td>5.0</td>\n",
       "      <td>2019-05-01 21:22:39.265</td>\n",
       "      <td>1.556746e+09</td>\n",
       "      <td>0.0</td>\n",
       "      <td>NaN</td>\n",
       "      <td>0.0</td>\n",
       "      <td>NaN</td>\n",
       "      <td>0.0</td>\n",
       "      <td>...</td>\n",
       "      <td>1327120514,1377289907,1402605836,1402606396,14...</td>\n",
       "      <td>[1987.0, 4569.0, 2114.0, 1606.0, 2159.0, 2279....</td>\n",
       "      <td>[1327120514, 1377289907, 1402605836, 140260639...</td>\n",
       "      <td>[8, 8, 7, 7, 7, 7, 7, 7, 6, 6]</td>\n",
       "      <td>[Music Game, Party Game, Band Simulation, Mult...</td>\n",
       "      <td>Video Games</td>\n",
       "      <td>Rock Band 2 - Nintendo Wii (Game only)</td>\n",
       "      <td>[Product description, Rock Band 2 lets you and...</td>\n",
       "      <td>[Video Games, Legacy Systems, Nintendo Systems...</td>\n",
       "      <td>28.49</td>\n",
       "    </tr>\n",
       "    <tr>\n",
       "      <th>4</th>\n",
       "      <td>AF7LJQOIWF3Y3YD7SGOJ34MA5JPA</td>\n",
       "      <td>B001E8WQKY</td>\n",
       "      <td>5.0</td>\n",
       "      <td>2015-01-09 12:53:25.000</td>\n",
       "      <td>1.420808e+09</td>\n",
       "      <td>16.0</td>\n",
       "      <td>4.375000</td>\n",
       "      <td>8.0</td>\n",
       "      <td>4.5</td>\n",
       "      <td>4.0</td>\n",
       "      <td>...</td>\n",
       "      <td>1420807793,1420807991</td>\n",
       "      <td>[-1.0, -1.0, -1.0, -1.0, -1.0, -1.0, -1.0, -1....</td>\n",
       "      <td>[-1, -1, -1, -1, -1, -1, -1, -1, 1420807793, 1...</td>\n",
       "      <td>[-1, -1, -1, -1, -1, -1, -1, -1, 0, 0]</td>\n",
       "      <td>[Survival Horror, Co-op Gameplay, Action, Zomb...</td>\n",
       "      <td>Video Games</td>\n",
       "      <td>Resident Evil 5 - Xbox 360</td>\n",
       "      <td>[]</td>\n",
       "      <td>[Video Games, Legacy Systems, Xbox Systems, Xb...</td>\n",
       "      <td>29.88</td>\n",
       "    </tr>\n",
       "    <tr>\n",
       "      <th>...</th>\n",
       "      <td>...</td>\n",
       "      <td>...</td>\n",
       "      <td>...</td>\n",
       "      <td>...</td>\n",
       "      <td>...</td>\n",
       "      <td>...</td>\n",
       "      <td>...</td>\n",
       "      <td>...</td>\n",
       "      <td>...</td>\n",
       "      <td>...</td>\n",
       "      <td>...</td>\n",
       "      <td>...</td>\n",
       "      <td>...</td>\n",
       "      <td>...</td>\n",
       "      <td>...</td>\n",
       "      <td>...</td>\n",
       "      <td>...</td>\n",
       "      <td>...</td>\n",
       "      <td>...</td>\n",
       "      <td>...</td>\n",
       "      <td>...</td>\n",
       "    </tr>\n",
       "    <tr>\n",
       "      <th>328591</th>\n",
       "      <td>AG4RATLNVLOKZCPXN67HKOAK65CA</td>\n",
       "      <td>B078FBVJMB</td>\n",
       "      <td>0.0</td>\n",
       "      <td>2015-10-31 18:25:09.000</td>\n",
       "      <td>NaN</td>\n",
       "      <td>NaN</td>\n",
       "      <td>NaN</td>\n",
       "      <td>NaN</td>\n",
       "      <td>NaN</td>\n",
       "      <td>NaN</td>\n",
       "      <td>...</td>\n",
       "      <td>1425233294</td>\n",
       "      <td>[-1.0, -1.0, -1.0, -1.0, -1.0, -1.0, -1.0, -1....</td>\n",
       "      <td>[-1, -1, -1, -1, -1, -1, -1, -1, -1, 1425233294]</td>\n",
       "      <td>[-1, -1, -1, -1, -1, -1, -1, -1, -1, 5]</td>\n",
       "      <td>[Co-op, Action-Adventure, Narrative, Online Co...</td>\n",
       "      <td>Video Games</td>\n",
       "      <td>A Way Out – PC Origin [Online Game Code]</td>\n",
       "      <td>[From the creators of Brothers - A Tale of Two...</td>\n",
       "      <td>[Video Games, PC, Games]</td>\n",
       "      <td>5.99</td>\n",
       "    </tr>\n",
       "    <tr>\n",
       "      <th>328592</th>\n",
       "      <td>AFBXO3BFWBJX6QS5NW73O37IXF2A</td>\n",
       "      <td>B0771ZXXV6</td>\n",
       "      <td>0.0</td>\n",
       "      <td>2011-03-08 02:06:38.000</td>\n",
       "      <td>NaN</td>\n",
       "      <td>NaN</td>\n",
       "      <td>NaN</td>\n",
       "      <td>NaN</td>\n",
       "      <td>NaN</td>\n",
       "      <td>NaN</td>\n",
       "      <td>...</td>\n",
       "      <td>1299549517,1299549928</td>\n",
       "      <td>[-1.0, -1.0, -1.0, -1.0, -1.0, -1.0, -1.0, -1....</td>\n",
       "      <td>[-1, -1, -1, -1, -1, -1, -1, -1, 1299549517, 1...</td>\n",
       "      <td>[-1, -1, -1, -1, -1, -1, -1, -1, 0, 0]</td>\n",
       "      <td>[Controller, Ergonomic Design, Multiplayer Acc...</td>\n",
       "      <td>Video Games</td>\n",
       "      <td>Nintendo Joy-Con (R) - Neon Red - Nintendo Switch</td>\n",
       "      <td>[To be determined]</td>\n",
       "      <td>[Video Games, Nintendo Switch, Accessories, Co...</td>\n",
       "      <td>None</td>\n",
       "    </tr>\n",
       "    <tr>\n",
       "      <th>328593</th>\n",
       "      <td>AHVANA5GZNJ45UABPXWZNAF4ECBQ</td>\n",
       "      <td>B00BBF6MO6</td>\n",
       "      <td>0.0</td>\n",
       "      <td>2015-02-15 05:31:04.000</td>\n",
       "      <td>NaN</td>\n",
       "      <td>3.0</td>\n",
       "      <td>4.666667</td>\n",
       "      <td>0.0</td>\n",
       "      <td>NaN</td>\n",
       "      <td>0.0</td>\n",
       "      <td>...</td>\n",
       "      <td>1370414332,1370414707,1370416530</td>\n",
       "      <td>[-1.0, -1.0, -1.0, -1.0, -1.0, -1.0, -1.0, 137...</td>\n",
       "      <td>[-1, -1, -1, -1, -1, -1, -1, 1370414332, 13704...</td>\n",
       "      <td>[-1, -1, -1, -1, -1, -1, -1, 6, 6, 6]</td>\n",
       "      <td>[Action, Hack and Slash, Stylized, Single Play...</td>\n",
       "      <td>Video Games</td>\n",
       "      <td>Killer is Dead - Xbox 360</td>\n",
       "      <td>[Killer Is Dead is the latest title from the d...</td>\n",
       "      <td>[Video Games, Legacy Systems, Xbox Systems, Xb...</td>\n",
       "      <td>39.82</td>\n",
       "    </tr>\n",
       "    <tr>\n",
       "      <th>328594</th>\n",
       "      <td>AHAVA5VKMJ3OMOLGDZ3W45CKXEWA</td>\n",
       "      <td>B00KTORA0K</td>\n",
       "      <td>5.0</td>\n",
       "      <td>2019-05-25 04:03:51.505</td>\n",
       "      <td>1.558757e+09</td>\n",
       "      <td>3.0</td>\n",
       "      <td>4.666667</td>\n",
       "      <td>1.0</td>\n",
       "      <td>5.0</td>\n",
       "      <td>1.0</td>\n",
       "      <td>...</td>\n",
       "      <td>1431150669,1431150834,1432041664,1432041986,15...</td>\n",
       "      <td>[-1.0, -1.0, -1.0, 1657.0, 2074.0, 593.0, 583....</td>\n",
       "      <td>[-1, -1, -1, 1431150669, 1431150834, 143204166...</td>\n",
       "      <td>[-1, -1, -1, 7, 7, 7, 7, 5, 5, 0]</td>\n",
       "      <td>[Music, Dance, Party, Family-Friendly, Motion ...</td>\n",
       "      <td>Video Games</td>\n",
       "      <td>Just Dance 2015 - Wii</td>\n",
       "      <td>[With more than 50 million copies of Just Danc...</td>\n",
       "      <td>[Video Games, Legacy Systems, Nintendo Systems...</td>\n",
       "      <td>33.0</td>\n",
       "    </tr>\n",
       "    <tr>\n",
       "      <th>328595</th>\n",
       "      <td>AHAOAIYS3GTCFSVCHOHANFHEVJGA</td>\n",
       "      <td>B07GMV1X1K</td>\n",
       "      <td>0.0</td>\n",
       "      <td>2019-06-27 16:46:01.725</td>\n",
       "      <td>NaN</td>\n",
       "      <td>8.0</td>\n",
       "      <td>4.750000</td>\n",
       "      <td>2.0</td>\n",
       "      <td>4.5</td>\n",
       "      <td>1.0</td>\n",
       "      <td>...</td>\n",
       "      <td>1487438369,1488931311,1490136709,1493063905,15...</td>\n",
       "      <td>[3093.0, 3574.0, 3373.0, 3372.0, 3576.0, 3621....</td>\n",
       "      <td>[1487438369, 1488931311, 1490136709, 149306390...</td>\n",
       "      <td>[6, 6, 6, 6, 6, 6, 6, 5, 5, 5]</td>\n",
       "      <td>[Retro Gaming, Commodore 64, Mini Console, Cla...</td>\n",
       "      <td>Video Games</td>\n",
       "      <td>retrogames The C64 Mini USA Version - Not Mach...</td>\n",
       "      <td>[It's 1982 and a new home computer graces the ...</td>\n",
       "      <td>[Video Games, Legacy Systems, Commodore System...</td>\n",
       "      <td>44.99</td>\n",
       "    </tr>\n",
       "  </tbody>\n",
       "</table>\n",
       "<p>328596 rows × 28 columns</p>\n",
       "</div>"
      ],
      "text/plain": [
       "                             user_id parent_asin  rating  \\\n",
       "0       AG57LGJFCNNQJ6P6ABQAVUKXDUDA  B0015AARJI     0.0   \n",
       "1       AHWG4EGOV5ZDKPETL56MAYGPLJRQ  B0BMGHMP23     0.0   \n",
       "2       AH5PTZ2U74OZ3HT6QVUWM4CV6OVQ  B009AP23NI     0.0   \n",
       "3       AFC5XTCF5D7J3NSDITB2Z26XWWYA  B001E8WQUY     5.0   \n",
       "4       AF7LJQOIWF3Y3YD7SGOJ34MA5JPA  B001E8WQKY     5.0   \n",
       "...                              ...         ...     ...   \n",
       "328591  AG4RATLNVLOKZCPXN67HKOAK65CA  B078FBVJMB     0.0   \n",
       "328592  AFBXO3BFWBJX6QS5NW73O37IXF2A  B0771ZXXV6     0.0   \n",
       "328593  AHVANA5GZNJ45UABPXWZNAF4ECBQ  B00BBF6MO6     0.0   \n",
       "328594  AHAVA5VKMJ3OMOLGDZ3W45CKXEWA  B00KTORA0K     5.0   \n",
       "328595  AHAOAIYS3GTCFSVCHOHANFHEVJGA  B07GMV1X1K     0.0   \n",
       "\n",
       "                     timestamp  timestamp_unix  parent_asin_rating_cnt_365d  \\\n",
       "0      2016-01-12 11:59:11.000             NaN                         76.0   \n",
       "1      2016-04-18 19:26:20.000             NaN                          NaN   \n",
       "2      2016-02-10 18:45:08.000             NaN                          9.0   \n",
       "3      2019-05-01 21:22:39.265    1.556746e+09                          0.0   \n",
       "4      2015-01-09 12:53:25.000    1.420808e+09                         16.0   \n",
       "...                        ...             ...                          ...   \n",
       "328591 2015-10-31 18:25:09.000             NaN                          NaN   \n",
       "328592 2011-03-08 02:06:38.000             NaN                          NaN   \n",
       "328593 2015-02-15 05:31:04.000             NaN                          3.0   \n",
       "328594 2019-05-25 04:03:51.505    1.558757e+09                          3.0   \n",
       "328595 2019-06-27 16:46:01.725             NaN                          8.0   \n",
       "\n",
       "        parent_asin_rating_avg_prev_rating_365d  parent_asin_rating_cnt_90d  \\\n",
       "0                                      4.592105                        10.0   \n",
       "1                                           NaN                         NaN   \n",
       "2                                      4.666667                         0.0   \n",
       "3                                           NaN                         0.0   \n",
       "4                                      4.375000                         8.0   \n",
       "...                                         ...                         ...   \n",
       "328591                                      NaN                         NaN   \n",
       "328592                                      NaN                         NaN   \n",
       "328593                                 4.666667                         0.0   \n",
       "328594                                 4.666667                         1.0   \n",
       "328595                                 4.750000                         2.0   \n",
       "\n",
       "        parent_asin_rating_avg_prev_rating_90d  parent_asin_rating_cnt_30d  \\\n",
       "0                                          4.3                         3.0   \n",
       "1                                          NaN                         NaN   \n",
       "2                                          NaN                         0.0   \n",
       "3                                          NaN                         0.0   \n",
       "4                                          4.5                         4.0   \n",
       "...                                        ...                         ...   \n",
       "328591                                     NaN                         NaN   \n",
       "328592                                     NaN                         NaN   \n",
       "328593                                     NaN                         0.0   \n",
       "328594                                     5.0                         1.0   \n",
       "328595                                     4.5                         1.0   \n",
       "\n",
       "        ...          user_rating_list_10_recent_asin_timestamp  \\\n",
       "0       ...                                         1452599936   \n",
       "1       ...  1449254540,1449256005,1449257733,1452715791,14...   \n",
       "2       ...  1443454097,1455129080,1455129186,1455129499,14...   \n",
       "3       ...  1327120514,1377289907,1402605836,1402606396,14...   \n",
       "4       ...                              1420807793,1420807991   \n",
       "...     ...                                                ...   \n",
       "328591  ...                                         1425233294   \n",
       "328592  ...                              1299549517,1299549928   \n",
       "328593  ...                   1370414332,1370414707,1370416530   \n",
       "328594  ...  1431150669,1431150834,1432041664,1432041986,15...   \n",
       "328595  ...  1487438369,1488931311,1490136709,1493063905,15...   \n",
       "\n",
       "                                            item_sequence  \\\n",
       "0       [-1.0, -1.0, -1.0, -1.0, -1.0, -1.0, -1.0, -1....   \n",
       "1       [3028.0, 2742.0, 2755.0, 3159.0, 3101.0, 3036....   \n",
       "2       [-1.0, -1.0, 3234.0, 2508.0, 2318.0, 2964.0, 1...   \n",
       "3       [1987.0, 4569.0, 2114.0, 1606.0, 2159.0, 2279....   \n",
       "4       [-1.0, -1.0, -1.0, -1.0, -1.0, -1.0, -1.0, -1....   \n",
       "...                                                   ...   \n",
       "328591  [-1.0, -1.0, -1.0, -1.0, -1.0, -1.0, -1.0, -1....   \n",
       "328592  [-1.0, -1.0, -1.0, -1.0, -1.0, -1.0, -1.0, -1....   \n",
       "328593  [-1.0, -1.0, -1.0, -1.0, -1.0, -1.0, -1.0, 137...   \n",
       "328594  [-1.0, -1.0, -1.0, 1657.0, 2074.0, 593.0, 583....   \n",
       "328595  [3093.0, 3574.0, 3373.0, 3372.0, 3576.0, 3621....   \n",
       "\n",
       "                                         item_sequence_ts  \\\n",
       "0        [-1, -1, -1, -1, -1, -1, -1, -1, -1, 1452599936]   \n",
       "1       [1449254540, 1449256005, 1449257733, 145271579...   \n",
       "2       [-1, -1, 1443454097, 1455129080, 1455129186, 1...   \n",
       "3       [1327120514, 1377289907, 1402605836, 140260639...   \n",
       "4       [-1, -1, -1, -1, -1, -1, -1, -1, 1420807793, 1...   \n",
       "...                                                   ...   \n",
       "328591   [-1, -1, -1, -1, -1, -1, -1, -1, -1, 1425233294]   \n",
       "328592  [-1, -1, -1, -1, -1, -1, -1, -1, 1299549517, 1...   \n",
       "328593  [-1, -1, -1, -1, -1, -1, -1, 1370414332, 13704...   \n",
       "328594  [-1, -1, -1, 1431150669, 1431150834, 143204166...   \n",
       "328595  [1487438369, 1488931311, 1490136709, 149306390...   \n",
       "\n",
       "                        item_sequence_ts_bucket  \\\n",
       "0       [-1, -1, -1, -1, -1, -1, -1, -1, -1, 0]   \n",
       "1                [5, 5, 5, 5, 5, 5, 5, 5, 5, 5]   \n",
       "2              [-1, -1, 5, 1, 1, 0, 0, 0, 0, 0]   \n",
       "3                [8, 8, 7, 7, 7, 7, 7, 7, 6, 6]   \n",
       "4        [-1, -1, -1, -1, -1, -1, -1, -1, 0, 0]   \n",
       "...                                         ...   \n",
       "328591  [-1, -1, -1, -1, -1, -1, -1, -1, -1, 5]   \n",
       "328592   [-1, -1, -1, -1, -1, -1, -1, -1, 0, 0]   \n",
       "328593    [-1, -1, -1, -1, -1, -1, -1, 6, 6, 6]   \n",
       "328594        [-1, -1, -1, 7, 7, 7, 7, 5, 5, 0]   \n",
       "328595           [6, 6, 6, 6, 6, 6, 6, 5, 5, 5]   \n",
       "\n",
       "                                                     tags  main_category  \\\n",
       "0       [Wireless Controller, PlayStation 3, Multimedi...    Video Games   \n",
       "1       [Wireless Mouse, Gaming Peripheral, High Preci...      Computers   \n",
       "2       [Game Controller, Wireless, Nintendo, Ergonomi...    Video Games   \n",
       "3       [Music Game, Party Game, Band Simulation, Mult...    Video Games   \n",
       "4       [Survival Horror, Co-op Gameplay, Action, Zomb...    Video Games   \n",
       "...                                                   ...            ...   \n",
       "328591  [Co-op, Action-Adventure, Narrative, Online Co...    Video Games   \n",
       "328592  [Controller, Ergonomic Design, Multiplayer Acc...    Video Games   \n",
       "328593  [Action, Hack and Slash, Stylized, Single Play...    Video Games   \n",
       "328594  [Music, Dance, Party, Family-Friendly, Motion ...    Video Games   \n",
       "328595  [Retro Gaming, Commodore 64, Mini Console, Cla...    Video Games   \n",
       "\n",
       "                                                    title  \\\n",
       "0       PlayStation 3 Dualshock 3 Wireless Controller ...   \n",
       "1       Logitech G502 Lightspeed Wireless Gaming Mouse...   \n",
       "2       Nintendo Wii U Pro U Controller (Japanese Vers...   \n",
       "3                  Rock Band 2 - Nintendo Wii (Game only)   \n",
       "4                              Resident Evil 5 - Xbox 360   \n",
       "...                                                   ...   \n",
       "328591           A Way Out – PC Origin [Online Game Code]   \n",
       "328592  Nintendo Joy-Con (R) - Neon Red - Nintendo Switch   \n",
       "328593                          Killer is Dead - Xbox 360   \n",
       "328594                              Just Dance 2015 - Wii   \n",
       "328595  retrogames The C64 Mini USA Version - Not Mach...   \n",
       "\n",
       "                                              description  \\\n",
       "0       [Amazon.com, The Dualshock 3 wireless controll...   \n",
       "1       [G502 is the best gaming mouse from Logitech G...   \n",
       "2             [Wii U PRO controller (black) (WUP-A-RSKA)]   \n",
       "3       [Product description, Rock Band 2 lets you and...   \n",
       "4                                                      []   \n",
       "...                                                   ...   \n",
       "328591  [From the creators of Brothers - A Tale of Two...   \n",
       "328592                                 [To be determined]   \n",
       "328593  [Killer Is Dead is the latest title from the d...   \n",
       "328594  [With more than 50 million copies of Just Danc...   \n",
       "328595  [It's 1982 and a new home computer graces the ...   \n",
       "\n",
       "                                               categories  price  \n",
       "0       [Video Games, Legacy Systems, PlayStation Syst...  49.99  \n",
       "1             [Video Games, PC, Accessories, Gaming Mice]  87.95  \n",
       "2       [Video Games, Legacy Systems, Nintendo Systems...  43.99  \n",
       "3       [Video Games, Legacy Systems, Nintendo Systems...  28.49  \n",
       "4       [Video Games, Legacy Systems, Xbox Systems, Xb...  29.88  \n",
       "...                                                   ...    ...  \n",
       "328591                           [Video Games, PC, Games]   5.99  \n",
       "328592  [Video Games, Nintendo Switch, Accessories, Co...   None  \n",
       "328593  [Video Games, Legacy Systems, Xbox Systems, Xb...  39.82  \n",
       "328594  [Video Games, Legacy Systems, Nintendo Systems...   33.0  \n",
       "328595  [Video Games, Legacy Systems, Commodore System...  44.99  \n",
       "\n",
       "[328596 rows x 28 columns]"
      ]
     },
     "execution_count": 17,
     "metadata": {},
     "output_type": "execute_result"
    }
   ],
   "source": [
    "train_df"
   ]
  },
  {
   "cell_type": "code",
   "execution_count": 18,
   "id": "bd469969-aaa6-4763-a0fc-d432961cf4dc",
   "metadata": {
    "scrolled": true
   },
   "outputs": [
    {
     "data": {
      "application/vnd.jupyter.widget-view+json": {
       "model_id": "3b0619613630415cb06b3922e98d2a17",
       "version_major": 2,
       "version_minor": 0
      },
      "text/plain": [
       "Transforming chunks:   0%|          | 0/33 [00:00<?, ?it/s]"
      ]
     },
     "metadata": {},
     "output_type": "display_data"
    },
    {
     "data": {
      "application/vnd.jupyter.widget-view+json": {
       "model_id": "5462a8d66e48442786ed52bedbe0fbaf",
       "version_major": 2,
       "version_minor": 0
      },
      "text/plain": [
       "Transforming chunks:   0%|          | 0/1 [00:00<?, ?it/s]"
      ]
     },
     "metadata": {},
     "output_type": "display_data"
    },
    {
     "name": "stderr",
     "output_type": "stream",
     "text": [
      "\u001b[32m2024-11-09 11:25:25.170\u001b[0m | \u001b[1mINFO    \u001b[0m | \u001b[36m__main__\u001b[0m:\u001b[36m<module>\u001b[0m:\u001b[36m24\u001b[0m - \u001b[1mlen(user_indices)=19,578, len(item_indices)=4,630\u001b[0m\n"
     ]
    }
   ],
   "source": [
    "user_indices = train_df[\"user_indice\"].unique()\n",
    "item_indices = train_df[\"item_indice\"].unique()\n",
    "if args.rc.use_sbert_features:\n",
    "    all_sbert_vectors = ann_index.get_vector_by_ids(\n",
    "        item_indices.tolist(), chunk_size=1000\n",
    "    ).astype(np.float32)\n",
    "\n",
    "train_item_features = chunk_transform(\n",
    "    train_df, item_metadata_pipeline, chunk_size=args.tfm_chunk_size\n",
    ")\n",
    "train_item_features = train_item_features.astype(np.float32)\n",
    "\n",
    "val_item_features = chunk_transform(\n",
    "    val_df, item_metadata_pipeline, chunk_size=args.tfm_chunk_size\n",
    ")\n",
    "val_item_features = val_item_features.astype(np.float32)\n",
    "\n",
    "if args.rc.use_sbert_features:\n",
    "    train_sbert_vectors = all_sbert_vectors[train_df[\"item_indice\"].values]\n",
    "    train_item_features = np.hstack([train_item_features, train_sbert_vectors])\n",
    "    val_sbert_vectors = all_sbert_vectors[val_df[\"item_indice\"].values]\n",
    "    val_item_features = np.hstack([val_item_features, val_sbert_vectors])\n",
    "\n",
    "logger.info(f\"{len(user_indices)=:,.0f}, {len(item_indices)=:,.0f}\")"
   ]
  },
  {
   "cell_type": "markdown",
   "id": "5260fbe7-2f90-44a1-be74-ce5db9b511ee",
   "metadata": {},
   "source": [
    "# Train"
   ]
  },
  {
   "cell_type": "code",
   "execution_count": 19,
   "id": "240a04ed-8898-443f-b0f4-7399bfa63810",
   "metadata": {},
   "outputs": [],
   "source": [
    "rating_dataset = UserItemBinaryDFDataset(\n",
    "    train_df,\n",
    "    \"user_indice\",\n",
    "    \"item_indice\",\n",
    "    args.rating_col,\n",
    "    args.timestamp_col,\n",
    "    item_feature=train_item_features,\n",
    ")\n",
    "val_rating_dataset = UserItemBinaryDFDataset(\n",
    "    val_df,\n",
    "    \"user_indice\",\n",
    "    \"item_indice\",\n",
    "    args.rating_col,\n",
    "    args.timestamp_col,\n",
    "    item_feature=val_item_features,\n",
    ")\n",
    "\n",
    "train_loader = DataLoader(\n",
    "    rating_dataset, batch_size=args.batch_size, shuffle=True, drop_last=True\n",
    ")\n",
    "val_loader = DataLoader(\n",
    "    val_rating_dataset, batch_size=args.batch_size, shuffle=False, drop_last=False\n",
    ")"
   ]
  },
  {
   "cell_type": "code",
   "execution_count": 20,
   "id": "22dcf157-425f-4d15-9b53-e1ff93887def",
   "metadata": {
    "scrolled": true
   },
   "outputs": [
    {
     "data": {
      "text/plain": [
       "Ranker(\n",
       "  (item_embedding): Embedding(4631, 128, padding_idx=4630)\n",
       "  (user_embedding): Embedding(19578, 128)\n",
       "  (item_sequence_ts_bucket_embedding): Embedding(11, 16, padding_idx=10)\n",
       "  (gru): GRU(144, 128, batch_first=True)\n",
       "  (relu): ReLU()\n",
       "  (dropout): Dropout(p=0.3, inplace=False)\n",
       "  (item_feature_tower): Sequential(\n",
       "    (0): Linear(in_features=461, out_features=128, bias=True)\n",
       "    (1): BatchNorm1d(128, eps=1e-05, momentum=0.1, affine=True, track_running_stats=True)\n",
       "    (2): ReLU()\n",
       "    (3): Dropout(p=0.3, inplace=False)\n",
       "  )\n",
       "  (fc_rating): Sequential(\n",
       "    (0): Linear(in_features=512, out_features=128, bias=True)\n",
       "    (1): BatchNorm1d(128, eps=1e-05, momentum=0.1, affine=True, track_running_stats=True)\n",
       "    (2): ReLU()\n",
       "    (3): Dropout(p=0.3, inplace=False)\n",
       "    (4): Linear(in_features=128, out_features=1, bias=True)\n",
       "    (5): Sigmoid()\n",
       "  )\n",
       ")"
      ]
     },
     "execution_count": 20,
     "metadata": {},
     "output_type": "execute_result"
    }
   ],
   "source": [
    "n_items = len(item_indices)\n",
    "n_users = len(user_indices)\n",
    "\n",
    "model = init_model(\n",
    "    n_users,\n",
    "    n_items,\n",
    "    args.embedding_dim,\n",
    "    args.item_sequence_ts_bucket_size,\n",
    "    args.bucket_embedding_dim,\n",
    "    item_feature_size,\n",
    "    args.dropout,\n",
    ")\n",
    "model"
   ]
  },
  {
   "cell_type": "markdown",
   "id": "b8cbb2a8-a578-4ad2-941e-efd01d930336",
   "metadata": {},
   "source": [
    "#### Predict before train"
   ]
  },
  {
   "cell_type": "code",
   "execution_count": 21,
   "id": "0112de1e-1dce-4982-9663-a1df91fd0001",
   "metadata": {
    "scrolled": true
   },
   "outputs": [
    {
     "data": {
      "text/html": [
       "<div>\n",
       "<style scoped>\n",
       "    .dataframe tbody tr th:only-of-type {\n",
       "        vertical-align: middle;\n",
       "    }\n",
       "\n",
       "    .dataframe tbody tr th {\n",
       "        vertical-align: top;\n",
       "    }\n",
       "\n",
       "    .dataframe thead th {\n",
       "        text-align: right;\n",
       "    }\n",
       "</style>\n",
       "<table border=\"1\" class=\"dataframe\">\n",
       "  <thead>\n",
       "    <tr style=\"text-align: right;\">\n",
       "      <th></th>\n",
       "      <th>user_id</th>\n",
       "      <th>parent_asin</th>\n",
       "      <th>rating</th>\n",
       "      <th>timestamp</th>\n",
       "      <th>timestamp_unix</th>\n",
       "      <th>parent_asin_rating_cnt_365d</th>\n",
       "      <th>parent_asin_rating_avg_prev_rating_365d</th>\n",
       "      <th>parent_asin_rating_cnt_90d</th>\n",
       "      <th>parent_asin_rating_avg_prev_rating_90d</th>\n",
       "      <th>parent_asin_rating_cnt_30d</th>\n",
       "      <th>...</th>\n",
       "      <th>user_rating_list_10_recent_asin_timestamp</th>\n",
       "      <th>item_sequence</th>\n",
       "      <th>item_sequence_ts</th>\n",
       "      <th>item_sequence_ts_bucket</th>\n",
       "      <th>tags</th>\n",
       "      <th>main_category</th>\n",
       "      <th>title</th>\n",
       "      <th>description</th>\n",
       "      <th>categories</th>\n",
       "      <th>price</th>\n",
       "    </tr>\n",
       "  </thead>\n",
       "  <tbody>\n",
       "    <tr>\n",
       "      <th>429</th>\n",
       "      <td>AFO2PEY26QWNIT6QTSOUNFD6642Q</td>\n",
       "      <td>B0BVVTQ5JP</td>\n",
       "      <td>1.0</td>\n",
       "      <td>2021-12-24 18:46:29.135</td>\n",
       "      <td>1.640372e+09</td>\n",
       "      <td>24.0</td>\n",
       "      <td>4.333333</td>\n",
       "      <td>3.0</td>\n",
       "      <td>4.333333</td>\n",
       "      <td>1.0</td>\n",
       "      <td>...</td>\n",
       "      <td>1457741397,1477528470,1477528668,1488590053,14...</td>\n",
       "      <td>[-1, -1, -1, -1, -1, 4025, 3114, 3247, 3502, 3...</td>\n",
       "      <td>[-1, -1, -1, -1, -1, 1457741397, 1477528470, 1...</td>\n",
       "      <td>[-1, -1, -1, -1, -1, 8, 8, 8, 7, 7]</td>\n",
       "      <td>[Gaming Mouse, High Precision, Customizable, E...</td>\n",
       "      <td>Computers</td>\n",
       "      <td>Logitech G502 HERO High Performance Wired Gami...</td>\n",
       "      <td>[Logitech updated its iconic G502 gaming mouse...</td>\n",
       "      <td>[Video Games, PC, Accessories, Gaming Mice]</td>\n",
       "      <td>45.87</td>\n",
       "    </tr>\n",
       "    <tr>\n",
       "      <th>1143</th>\n",
       "      <td>AH5OA6TQ75U526NZX6HX44WGJJPQ</td>\n",
       "      <td>B0721BX7DQ</td>\n",
       "      <td>1.0</td>\n",
       "      <td>2021-09-02 06:32:04.639</td>\n",
       "      <td>1.630564e+09</td>\n",
       "      <td>0.0</td>\n",
       "      <td>NaN</td>\n",
       "      <td>0.0</td>\n",
       "      <td>NaN</td>\n",
       "      <td>0.0</td>\n",
       "      <td>...</td>\n",
       "      <td>1432869687,1481135372,1499916449,1502560465,15...</td>\n",
       "      <td>[-1, -1, -1, 2659, 2736, 3529, 3634, 4344, 436...</td>\n",
       "      <td>[-1, -1, -1, 1432869687, 1481135372, 149991644...</td>\n",
       "      <td>[-1, -1, -1, 8, 7, 7, 7, 7, 6, 6]</td>\n",
       "      <td>[Platformer, Collector's Item, Retro, Single P...</td>\n",
       "      <td>Video Games</td>\n",
       "      <td>Sonic Mania: Collector's Edition - Nintendo Sw...</td>\n",
       "      <td>[2D Sonic is back in an all-new adventure! The...</td>\n",
       "      <td>[Video Games, Nintendo Switch, Accessories]</td>\n",
       "      <td>None</td>\n",
       "    </tr>\n",
       "    <tr>\n",
       "      <th>1149</th>\n",
       "      <td>AHMKDXEUMTNYFEZLLQFYPU54RYPA</td>\n",
       "      <td>B07D36WX84</td>\n",
       "      <td>1.0</td>\n",
       "      <td>2022-04-14 19:37:43.723</td>\n",
       "      <td>1.649965e+09</td>\n",
       "      <td>2.0</td>\n",
       "      <td>4.500000</td>\n",
       "      <td>0.0</td>\n",
       "      <td>NaN</td>\n",
       "      <td>0.0</td>\n",
       "      <td>...</td>\n",
       "      <td>1572392551,1572392678,1572393031,1572393253,15...</td>\n",
       "      <td>[3113, 4365, 3527, 3811, 2512, 3010, 2021, 452...</td>\n",
       "      <td>[1572392551, 1572392678, 1572393031, 157239325...</td>\n",
       "      <td>[6, 6, 6, 6, 6, 6, 6, 6, 6, 5]</td>\n",
       "      <td>[Charging Station, Controller Accessory, Conve...</td>\n",
       "      <td>All Electronics</td>\n",
       "      <td>FastSnail Controller Charger Compatible with N...</td>\n",
       "      <td>[]</td>\n",
       "      <td>[Video Games, Legacy Systems, Nintendo Systems...</td>\n",
       "      <td>19.99</td>\n",
       "    </tr>\n",
       "    <tr>\n",
       "      <th>917</th>\n",
       "      <td>AFIPUNEUTBUI32UOZ4L6LHFTIZMQ</td>\n",
       "      <td>B001EYURFO</td>\n",
       "      <td>0.0</td>\n",
       "      <td>2021-10-13 23:27:13.214</td>\n",
       "      <td>NaN</td>\n",
       "      <td>0.0</td>\n",
       "      <td>NaN</td>\n",
       "      <td>0.0</td>\n",
       "      <td>NaN</td>\n",
       "      <td>0.0</td>\n",
       "      <td>...</td>\n",
       "      <td>1419619006,1419619131,1419619167,1419619239,14...</td>\n",
       "      <td>[-1, -1, -1, 2796, 2894, 2787, 2715, 4257, 269...</td>\n",
       "      <td>[-1, -1, -1, 1419619006, 1419619131, 141961916...</td>\n",
       "      <td>[-1, -1, -1, 8, 8, 8, 8, 8, 8, 5]</td>\n",
       "      <td>[Open World, Fantasy RPG, Story Rich, Explorat...</td>\n",
       "      <td>Video Games</td>\n",
       "      <td>The Elder Scrolls III: Morrowind (Game of the ...</td>\n",
       "      <td>[Product Description, This edition includes th...</td>\n",
       "      <td>[Video Games, Legacy Systems, Xbox Systems, Xbox]</td>\n",
       "      <td>43.0</td>\n",
       "    </tr>\n",
       "    <tr>\n",
       "      <th>3</th>\n",
       "      <td>AH4TWYG3FCAEPNJXS6E7KR247YMQ</td>\n",
       "      <td>B000034DC6</td>\n",
       "      <td>0.0</td>\n",
       "      <td>2021-11-25 20:51:44.194</td>\n",
       "      <td>NaN</td>\n",
       "      <td>1.0</td>\n",
       "      <td>5.000000</td>\n",
       "      <td>1.0</td>\n",
       "      <td>5.000000</td>\n",
       "      <td>1.0</td>\n",
       "      <td>...</td>\n",
       "      <td>1427912467,1427912522,1427912554,1467916594,14...</td>\n",
       "      <td>[-1, -1, 117, 215, 589, 404, 2849, 981, 2718, ...</td>\n",
       "      <td>[-1, -1, 1427912467, 1427912522, 1427912554, 1...</td>\n",
       "      <td>[-1, -1, 8, 8, 8, 8, 8, 8, 7, 7]</td>\n",
       "      <td>[Vehicular Combat, Action, Multiplayer, PlaySt...</td>\n",
       "      <td>Video Games</td>\n",
       "      <td>Twisted Metal 4</td>\n",
       "      <td>[Product description, Sweet Tooth and his pump...</td>\n",
       "      <td>[Video Games, Legacy Systems, PlayStation Syst...</td>\n",
       "      <td>69.98</td>\n",
       "    </tr>\n",
       "    <tr>\n",
       "      <th>923</th>\n",
       "      <td>AHK5KW3XZS4JLTF47E44SPFU5PVA</td>\n",
       "      <td>B004CVKGSY</td>\n",
       "      <td>1.0</td>\n",
       "      <td>2021-11-12 19:15:21.625</td>\n",
       "      <td>1.636745e+09</td>\n",
       "      <td>1.0</td>\n",
       "      <td>5.000000</td>\n",
       "      <td>0.0</td>\n",
       "      <td>NaN</td>\n",
       "      <td>0.0</td>\n",
       "      <td>...</td>\n",
       "      <td>1408211835,1408211965,1408211984,1408212054,14...</td>\n",
       "      <td>[-1, -1, 1863, 2370, 2120, 2138, 2145, 2178, 5...</td>\n",
       "      <td>[-1, -1, 1408211835, 1408211965, 1408211984, 1...</td>\n",
       "      <td>[-1, -1, 8, 8, 8, 8, 8, 8, 8, 8]</td>\n",
       "      <td>[Action-Adventure, LEGO Game, Family Friendly,...</td>\n",
       "      <td>Video Games</td>\n",
       "      <td>LEGO Pirates of the Caribbean - Xbox 360</td>\n",
       "      <td>[Product Description, Lego Pirates Of The Cari...</td>\n",
       "      <td>[Video Games, Legacy Systems, Xbox Systems, Xb...</td>\n",
       "      <td>39.99</td>\n",
       "    </tr>\n",
       "    <tr>\n",
       "      <th>1669</th>\n",
       "      <td>AGOQPSFINAD6ZDKRVJQQC4Q377GQ</td>\n",
       "      <td>B0088MVPFQ</td>\n",
       "      <td>0.0</td>\n",
       "      <td>2022-06-17 19:37:19.282</td>\n",
       "      <td>NaN</td>\n",
       "      <td>1.0</td>\n",
       "      <td>5.000000</td>\n",
       "      <td>0.0</td>\n",
       "      <td>NaN</td>\n",
       "      <td>0.0</td>\n",
       "      <td>...</td>\n",
       "      <td>1542314220,1542345661,1542345703,1542345828,15...</td>\n",
       "      <td>[3045, 3193, 3491, 3391, 3397, 3472, 3376, 346...</td>\n",
       "      <td>[1542314220, 1542345661, 1542345703, 154234582...</td>\n",
       "      <td>[7, 7, 7, 7, 7, 7, 7, 7, 7, 6]</td>\n",
       "      <td>[Platformer, Family Friendly, Classic, Multipl...</td>\n",
       "      <td>Video Games</td>\n",
       "      <td>New Super Mario Bros. 2</td>\n",
       "      <td>[Product Description, New Super Mario Bros. 2 ...</td>\n",
       "      <td>[Video Games, Legacy Systems, Nintendo Systems...</td>\n",
       "      <td>34.99</td>\n",
       "    </tr>\n",
       "    <tr>\n",
       "      <th>1861</th>\n",
       "      <td>AG4RCXKPTC6QRORJLUSBY4SO2IAA</td>\n",
       "      <td>B0000663TT</td>\n",
       "      <td>0.0</td>\n",
       "      <td>2021-12-31 20:05:52.142</td>\n",
       "      <td>NaN</td>\n",
       "      <td>0.0</td>\n",
       "      <td>NaN</td>\n",
       "      <td>0.0</td>\n",
       "      <td>NaN</td>\n",
       "      <td>0.0</td>\n",
       "      <td>...</td>\n",
       "      <td>1551303032,1551303167,1551303197,1578542946,15...</td>\n",
       "      <td>[-1, -1, 3795, 3010, 2903, 4140, 4545, 4350, 3...</td>\n",
       "      <td>[-1, -1, 1551303032, 1551303167, 1551303197, 1...</td>\n",
       "      <td>[-1, -1, 6, 6, 6, 6, 6, 5, 1, 0]</td>\n",
       "      <td>[First-Person Shooter, Stealth, Comedy, Single...</td>\n",
       "      <td>Video Games</td>\n",
       "      <td>No One Lives Forever 2: A Spy In H.A.R.M.'s Way</td>\n",
       "      <td>[From the Manufacturer, No One Lives Forever 2...</td>\n",
       "      <td>[Video Games, PC, Games]</td>\n",
       "      <td>None</td>\n",
       "    </tr>\n",
       "    <tr>\n",
       "      <th>1874</th>\n",
       "      <td>AHLBT2RDWYQWN5O2XNBNX2JPWVZA</td>\n",
       "      <td>B08NYV2VLS</td>\n",
       "      <td>1.0</td>\n",
       "      <td>2022-07-08 18:26:28.360</td>\n",
       "      <td>1.657305e+09</td>\n",
       "      <td>0.0</td>\n",
       "      <td>NaN</td>\n",
       "      <td>0.0</td>\n",
       "      <td>NaN</td>\n",
       "      <td>0.0</td>\n",
       "      <td>...</td>\n",
       "      <td>1514645011,1521898613,1531502794,1554862924,15...</td>\n",
       "      <td>[4404, 1360, 3078, 3330, 2901, 3678, 3759, 219...</td>\n",
       "      <td>[1514645011, 1521898613, 1531502794, 155486292...</td>\n",
       "      <td>[7, 7, 7, 7, 7, 7, 7, 7, 6, 6]</td>\n",
       "      <td>[Farming Simulation, Life Simulation, Casual G...</td>\n",
       "      <td>Video Games</td>\n",
       "      <td>Story of Seasons: Trio of Towns - Nintendo 3DS</td>\n",
       "      <td>[STORY OF SEASONS: Trio of Towns is a fresh ne...</td>\n",
       "      <td>[Video Games, Legacy Systems, Nintendo Systems...</td>\n",
       "      <td>None</td>\n",
       "    </tr>\n",
       "    <tr>\n",
       "      <th>235</th>\n",
       "      <td>AEUJVDMV3A6T35PHJIERHUFDOAPQ</td>\n",
       "      <td>B00YJJ0OQS</td>\n",
       "      <td>0.0</td>\n",
       "      <td>2022-02-21 02:36:28.286</td>\n",
       "      <td>NaN</td>\n",
       "      <td>1.0</td>\n",
       "      <td>4.000000</td>\n",
       "      <td>1.0</td>\n",
       "      <td>4.000000</td>\n",
       "      <td>0.0</td>\n",
       "      <td>...</td>\n",
       "      <td>1542784827,1543035270,1549187299,1550284116,15...</td>\n",
       "      <td>[4276, 1827, 2442, 4496, 3100, 3479, 4100, 337...</td>\n",
       "      <td>[1542784827, 1543035270, 1549187299, 155028411...</td>\n",
       "      <td>[7, 7, 7, 7, 6, 6, 6, 6, 5, 5]</td>\n",
       "      <td>[Controller, Wireless, Gaming Accessory, Xbox ...</td>\n",
       "      <td>Video Games</td>\n",
       "      <td>Xbox One Wireless Controller [Without Bluetooth]</td>\n",
       "      <td>[Experience the unique intensity, precision an...</td>\n",
       "      <td>[Video Games, Xbox One, Accessories, Controlle...</td>\n",
       "      <td>71.77</td>\n",
       "    </tr>\n",
       "  </tbody>\n",
       "</table>\n",
       "<p>10 rows × 28 columns</p>\n",
       "</div>"
      ],
      "text/plain": [
       "                           user_id parent_asin  rating  \\\n",
       "429   AFO2PEY26QWNIT6QTSOUNFD6642Q  B0BVVTQ5JP     1.0   \n",
       "1143  AH5OA6TQ75U526NZX6HX44WGJJPQ  B0721BX7DQ     1.0   \n",
       "1149  AHMKDXEUMTNYFEZLLQFYPU54RYPA  B07D36WX84     1.0   \n",
       "917   AFIPUNEUTBUI32UOZ4L6LHFTIZMQ  B001EYURFO     0.0   \n",
       "3     AH4TWYG3FCAEPNJXS6E7KR247YMQ  B000034DC6     0.0   \n",
       "923   AHK5KW3XZS4JLTF47E44SPFU5PVA  B004CVKGSY     1.0   \n",
       "1669  AGOQPSFINAD6ZDKRVJQQC4Q377GQ  B0088MVPFQ     0.0   \n",
       "1861  AG4RCXKPTC6QRORJLUSBY4SO2IAA  B0000663TT     0.0   \n",
       "1874  AHLBT2RDWYQWN5O2XNBNX2JPWVZA  B08NYV2VLS     1.0   \n",
       "235   AEUJVDMV3A6T35PHJIERHUFDOAPQ  B00YJJ0OQS     0.0   \n",
       "\n",
       "                   timestamp  timestamp_unix  parent_asin_rating_cnt_365d  \\\n",
       "429  2021-12-24 18:46:29.135    1.640372e+09                         24.0   \n",
       "1143 2021-09-02 06:32:04.639    1.630564e+09                          0.0   \n",
       "1149 2022-04-14 19:37:43.723    1.649965e+09                          2.0   \n",
       "917  2021-10-13 23:27:13.214             NaN                          0.0   \n",
       "3    2021-11-25 20:51:44.194             NaN                          1.0   \n",
       "923  2021-11-12 19:15:21.625    1.636745e+09                          1.0   \n",
       "1669 2022-06-17 19:37:19.282             NaN                          1.0   \n",
       "1861 2021-12-31 20:05:52.142             NaN                          0.0   \n",
       "1874 2022-07-08 18:26:28.360    1.657305e+09                          0.0   \n",
       "235  2022-02-21 02:36:28.286             NaN                          1.0   \n",
       "\n",
       "      parent_asin_rating_avg_prev_rating_365d  parent_asin_rating_cnt_90d  \\\n",
       "429                                  4.333333                         3.0   \n",
       "1143                                      NaN                         0.0   \n",
       "1149                                 4.500000                         0.0   \n",
       "917                                       NaN                         0.0   \n",
       "3                                    5.000000                         1.0   \n",
       "923                                  5.000000                         0.0   \n",
       "1669                                 5.000000                         0.0   \n",
       "1861                                      NaN                         0.0   \n",
       "1874                                      NaN                         0.0   \n",
       "235                                  4.000000                         1.0   \n",
       "\n",
       "      parent_asin_rating_avg_prev_rating_90d  parent_asin_rating_cnt_30d  ...  \\\n",
       "429                                 4.333333                         1.0  ...   \n",
       "1143                                     NaN                         0.0  ...   \n",
       "1149                                     NaN                         0.0  ...   \n",
       "917                                      NaN                         0.0  ...   \n",
       "3                                   5.000000                         1.0  ...   \n",
       "923                                      NaN                         0.0  ...   \n",
       "1669                                     NaN                         0.0  ...   \n",
       "1861                                     NaN                         0.0  ...   \n",
       "1874                                     NaN                         0.0  ...   \n",
       "235                                 4.000000                         0.0  ...   \n",
       "\n",
       "              user_rating_list_10_recent_asin_timestamp  \\\n",
       "429   1457741397,1477528470,1477528668,1488590053,14...   \n",
       "1143  1432869687,1481135372,1499916449,1502560465,15...   \n",
       "1149  1572392551,1572392678,1572393031,1572393253,15...   \n",
       "917   1419619006,1419619131,1419619167,1419619239,14...   \n",
       "3     1427912467,1427912522,1427912554,1467916594,14...   \n",
       "923   1408211835,1408211965,1408211984,1408212054,14...   \n",
       "1669  1542314220,1542345661,1542345703,1542345828,15...   \n",
       "1861  1551303032,1551303167,1551303197,1578542946,15...   \n",
       "1874  1514645011,1521898613,1531502794,1554862924,15...   \n",
       "235   1542784827,1543035270,1549187299,1550284116,15...   \n",
       "\n",
       "                                          item_sequence  \\\n",
       "429   [-1, -1, -1, -1, -1, 4025, 3114, 3247, 3502, 3...   \n",
       "1143  [-1, -1, -1, 2659, 2736, 3529, 3634, 4344, 436...   \n",
       "1149  [3113, 4365, 3527, 3811, 2512, 3010, 2021, 452...   \n",
       "917   [-1, -1, -1, 2796, 2894, 2787, 2715, 4257, 269...   \n",
       "3     [-1, -1, 117, 215, 589, 404, 2849, 981, 2718, ...   \n",
       "923   [-1, -1, 1863, 2370, 2120, 2138, 2145, 2178, 5...   \n",
       "1669  [3045, 3193, 3491, 3391, 3397, 3472, 3376, 346...   \n",
       "1861  [-1, -1, 3795, 3010, 2903, 4140, 4545, 4350, 3...   \n",
       "1874  [4404, 1360, 3078, 3330, 2901, 3678, 3759, 219...   \n",
       "235   [4276, 1827, 2442, 4496, 3100, 3479, 4100, 337...   \n",
       "\n",
       "                                       item_sequence_ts  \\\n",
       "429   [-1, -1, -1, -1, -1, 1457741397, 1477528470, 1...   \n",
       "1143  [-1, -1, -1, 1432869687, 1481135372, 149991644...   \n",
       "1149  [1572392551, 1572392678, 1572393031, 157239325...   \n",
       "917   [-1, -1, -1, 1419619006, 1419619131, 141961916...   \n",
       "3     [-1, -1, 1427912467, 1427912522, 1427912554, 1...   \n",
       "923   [-1, -1, 1408211835, 1408211965, 1408211984, 1...   \n",
       "1669  [1542314220, 1542345661, 1542345703, 154234582...   \n",
       "1861  [-1, -1, 1551303032, 1551303167, 1551303197, 1...   \n",
       "1874  [1514645011, 1521898613, 1531502794, 155486292...   \n",
       "235   [1542784827, 1543035270, 1549187299, 155028411...   \n",
       "\n",
       "                  item_sequence_ts_bucket  \\\n",
       "429   [-1, -1, -1, -1, -1, 8, 8, 8, 7, 7]   \n",
       "1143    [-1, -1, -1, 8, 7, 7, 7, 7, 6, 6]   \n",
       "1149       [6, 6, 6, 6, 6, 6, 6, 6, 6, 5]   \n",
       "917     [-1, -1, -1, 8, 8, 8, 8, 8, 8, 5]   \n",
       "3        [-1, -1, 8, 8, 8, 8, 8, 8, 7, 7]   \n",
       "923      [-1, -1, 8, 8, 8, 8, 8, 8, 8, 8]   \n",
       "1669       [7, 7, 7, 7, 7, 7, 7, 7, 7, 6]   \n",
       "1861     [-1, -1, 6, 6, 6, 6, 6, 5, 1, 0]   \n",
       "1874       [7, 7, 7, 7, 7, 7, 7, 7, 6, 6]   \n",
       "235        [7, 7, 7, 7, 6, 6, 6, 6, 5, 5]   \n",
       "\n",
       "                                                   tags    main_category  \\\n",
       "429   [Gaming Mouse, High Precision, Customizable, E...        Computers   \n",
       "1143  [Platformer, Collector's Item, Retro, Single P...      Video Games   \n",
       "1149  [Charging Station, Controller Accessory, Conve...  All Electronics   \n",
       "917   [Open World, Fantasy RPG, Story Rich, Explorat...      Video Games   \n",
       "3     [Vehicular Combat, Action, Multiplayer, PlaySt...      Video Games   \n",
       "923   [Action-Adventure, LEGO Game, Family Friendly,...      Video Games   \n",
       "1669  [Platformer, Family Friendly, Classic, Multipl...      Video Games   \n",
       "1861  [First-Person Shooter, Stealth, Comedy, Single...      Video Games   \n",
       "1874  [Farming Simulation, Life Simulation, Casual G...      Video Games   \n",
       "235   [Controller, Wireless, Gaming Accessory, Xbox ...      Video Games   \n",
       "\n",
       "                                                  title  \\\n",
       "429   Logitech G502 HERO High Performance Wired Gami...   \n",
       "1143  Sonic Mania: Collector's Edition - Nintendo Sw...   \n",
       "1149  FastSnail Controller Charger Compatible with N...   \n",
       "917   The Elder Scrolls III: Morrowind (Game of the ...   \n",
       "3                                       Twisted Metal 4   \n",
       "923            LEGO Pirates of the Caribbean - Xbox 360   \n",
       "1669                            New Super Mario Bros. 2   \n",
       "1861    No One Lives Forever 2: A Spy In H.A.R.M.'s Way   \n",
       "1874     Story of Seasons: Trio of Towns - Nintendo 3DS   \n",
       "235    Xbox One Wireless Controller [Without Bluetooth]   \n",
       "\n",
       "                                            description  \\\n",
       "429   [Logitech updated its iconic G502 gaming mouse...   \n",
       "1143  [2D Sonic is back in an all-new adventure! The...   \n",
       "1149                                                 []   \n",
       "917   [Product Description, This edition includes th...   \n",
       "3     [Product description, Sweet Tooth and his pump...   \n",
       "923   [Product Description, Lego Pirates Of The Cari...   \n",
       "1669  [Product Description, New Super Mario Bros. 2 ...   \n",
       "1861  [From the Manufacturer, No One Lives Forever 2...   \n",
       "1874  [STORY OF SEASONS: Trio of Towns is a fresh ne...   \n",
       "235   [Experience the unique intensity, precision an...   \n",
       "\n",
       "                                             categories  price  \n",
       "429         [Video Games, PC, Accessories, Gaming Mice]  45.87  \n",
       "1143        [Video Games, Nintendo Switch, Accessories]   None  \n",
       "1149  [Video Games, Legacy Systems, Nintendo Systems...  19.99  \n",
       "917   [Video Games, Legacy Systems, Xbox Systems, Xbox]   43.0  \n",
       "3     [Video Games, Legacy Systems, PlayStation Syst...  69.98  \n",
       "923   [Video Games, Legacy Systems, Xbox Systems, Xb...  39.99  \n",
       "1669  [Video Games, Legacy Systems, Nintendo Systems...  34.99  \n",
       "1861                           [Video Games, PC, Games]   None  \n",
       "1874  [Video Games, Legacy Systems, Nintendo Systems...   None  \n",
       "235   [Video Games, Xbox One, Accessories, Controlle...  71.77  \n",
       "\n",
       "[10 rows x 28 columns]"
      ]
     },
     "execution_count": 21,
     "metadata": {},
     "output_type": "execute_result"
    }
   ],
   "source": [
    "val_df = val_rating_dataset.df\n",
    "val_df.sample(10)"
   ]
  },
  {
   "cell_type": "code",
   "execution_count": 22,
   "id": "9eb1583b-40f7-4157-a383-5891389ac119",
   "metadata": {
    "scrolled": true
   },
   "outputs": [
    {
     "data": {
      "text/html": [
       "<div>\n",
       "<style scoped>\n",
       "    .dataframe tbody tr th:only-of-type {\n",
       "        vertical-align: middle;\n",
       "    }\n",
       "\n",
       "    .dataframe tbody tr th {\n",
       "        vertical-align: top;\n",
       "    }\n",
       "\n",
       "    .dataframe thead th {\n",
       "        text-align: right;\n",
       "    }\n",
       "</style>\n",
       "<table border=\"1\" class=\"dataframe\">\n",
       "  <thead>\n",
       "    <tr style=\"text-align: right;\">\n",
       "      <th></th>\n",
       "      <th>user_id</th>\n",
       "      <th>parent_asin</th>\n",
       "      <th>rating</th>\n",
       "      <th>timestamp</th>\n",
       "      <th>timestamp_unix</th>\n",
       "      <th>parent_asin_rating_cnt_365d</th>\n",
       "      <th>parent_asin_rating_avg_prev_rating_365d</th>\n",
       "      <th>parent_asin_rating_cnt_90d</th>\n",
       "      <th>parent_asin_rating_avg_prev_rating_90d</th>\n",
       "      <th>parent_asin_rating_cnt_30d</th>\n",
       "      <th>...</th>\n",
       "      <th>user_rating_list_10_recent_asin_timestamp</th>\n",
       "      <th>item_sequence</th>\n",
       "      <th>item_sequence_ts</th>\n",
       "      <th>item_sequence_ts_bucket</th>\n",
       "      <th>tags</th>\n",
       "      <th>main_category</th>\n",
       "      <th>title</th>\n",
       "      <th>description</th>\n",
       "      <th>categories</th>\n",
       "      <th>price</th>\n",
       "    </tr>\n",
       "  </thead>\n",
       "  <tbody>\n",
       "    <tr>\n",
       "      <th>862</th>\n",
       "      <td>AEYFXFWIRBR7NZXIO3MQKGQVBRAA</td>\n",
       "      <td>B07HVPZP1Q</td>\n",
       "      <td>1.0</td>\n",
       "      <td>2022-01-04 03:56:44.934</td>\n",
       "      <td>1.641269e+09</td>\n",
       "      <td>2.0</td>\n",
       "      <td>5.000000</td>\n",
       "      <td>0.0</td>\n",
       "      <td>NaN</td>\n",
       "      <td>0.0</td>\n",
       "      <td>...</td>\n",
       "      <td>1445020453,1451249382,1451249962,1451250114,1455498751,1455498977,1457302187,1485474951,1547242209,1625801351</td>\n",
       "      <td>[2438, 685, 2863, 3946, 2864, 582, 3211, 1202, 3527, 3795]</td>\n",
       "      <td>[1445020453, 1451249382, 1451249962, 1451250114, 1455498751, 1455498977, 1457302187, 1485474951, 1547242209, 1625801351]</td>\n",
       "      <td>[8, 8, 8, 8, 8, 8, 8, 7, 6, 5]</td>\n",
       "      <td>[HDMI Adapter, Wii Compatibility, Video Adapter, Full HD, Legacy Systems]</td>\n",
       "      <td>Computers</td>\n",
       "      <td>PORTHOLIC Wii to HDMI Converter 1080P for Full HD Device, Wii HDMI Adapter with 3,5mm Audio Jack&amp;HDMI Output Compatible with Nintendo Wii, Wii U, HDTV, Monitor-Supports All Wii Display Modes 720P, NTS</td>\n",
       "      <td>[]</td>\n",
       "      <td>[Video Games, Legacy Systems, Nintendo Systems, Wii, Accessories, Cables &amp; Adapters, Adapters]</td>\n",
       "      <td>10.97</td>\n",
       "    </tr>\n",
       "    <tr>\n",
       "      <th>898</th>\n",
       "      <td>AEYFXFWIRBR7NZXIO3MQKGQVBRAA</td>\n",
       "      <td>B00IAVDOS6</td>\n",
       "      <td>0.0</td>\n",
       "      <td>2022-01-04 03:56:44.934</td>\n",
       "      <td>NaN</td>\n",
       "      <td>0.0</td>\n",
       "      <td>NaN</td>\n",
       "      <td>0.0</td>\n",
       "      <td>NaN</td>\n",
       "      <td>0.0</td>\n",
       "      <td>...</td>\n",
       "      <td>1445020453,1451249382,1451249962,1451250114,1455498751,1455498977,1457302187,1485474951,1547242209,1625801351</td>\n",
       "      <td>[2438, 685, 2863, 3946, 2864, 582, 3211, 1202, 3527, 3795]</td>\n",
       "      <td>[1445020453, 1451249382, 1451249962, 1451250114, 1455498751, 1455498977, 1457302187, 1485474951, 1547242209, 1625801351]</td>\n",
       "      <td>[8, 8, 8, 8, 8, 8, 8, 7, 6, 5]</td>\n",
       "      <td>[Audio Accessory, Headset Adapter, Communication, Gaming Accessory]</td>\n",
       "      <td>Video Games</td>\n",
       "      <td>Xbox One Stereo Headset Adapter</td>\n",
       "      <td>[Plug your favorite compatible headset into the Xbox One Stereo Headset Adapter and hear the action just the way you like it. Easily adjust chat audio without taking your hands off the controller. Add game audio by connecting directly to your console or TV., Non-compatible headsets The following headsets are incompatible with the Xbox One Stereo Headset Adapter: Mad Catz Tritton Warhead headset Mad Catz Tritton Primer headset (Mad Catz offers an adapter for the Primer headset to convert the 2.5-mm audio jack to a 3.5-mm audio jack. Contact Mad Catz for support.) The Xbox 360 Wireless Headset and Xbox 360 Wireless Bluetooth Headset Headsets with this 2.5-mm connector will not work because of the connector format. This connector includes a long, cylindrical pin in the middle of the connecting side that does not fit into the Xbox One Stereo Headset Adapter.]</td>\n",
       "      <td>[Video Games, Xbox One, Accessories, Cables &amp; Adapters, Adapters]</td>\n",
       "      <td>36.97</td>\n",
       "    </tr>\n",
       "    <tr>\n",
       "      <th>1122</th>\n",
       "      <td>AEYFXFWIRBR7NZXIO3MQKGQVBRAA</td>\n",
       "      <td>B0B9MJK753</td>\n",
       "      <td>1.0</td>\n",
       "      <td>2022-04-18 22:22:40.314</td>\n",
       "      <td>1.650321e+09</td>\n",
       "      <td>3.0</td>\n",
       "      <td>4.666667</td>\n",
       "      <td>0.0</td>\n",
       "      <td>NaN</td>\n",
       "      <td>0.0</td>\n",
       "      <td>...</td>\n",
       "      <td>1451249382,1451249962,1451250114,1455498751,1455498977,1457302187,1485474951,1547242209,1625801351,1641268605</td>\n",
       "      <td>[685, 2863, 3946, 2864, 582, 3211, 1202, 3527, 3795, 4011]</td>\n",
       "      <td>[1451249382, 1451249962, 1451250114, 1455498751, 1455498977, 1457302187, 1485474951, 1547242209, 1625801351, 1641268605]</td>\n",
       "      <td>[8, 8, 8, 8, 8, 8, 8, 7, 5, 5]</td>\n",
       "      <td>[Wireless Adapter, Universal Compatibility, Bluetooth, Gaming Accessory, Controller Adapter, Retro Gaming]</td>\n",
       "      <td>Computers</td>\n",
       "      <td>8Bitdo Wireless USB Adapter 2 for Switch/Switch OLED, Windows, Mac &amp; Raspberry Pi Compatible with Xbox Series X &amp; S Controller, Xbox One Bluetooth Controller, Switch Pro and PS5 Controller</td>\n",
       "      <td>[]</td>\n",
       "      <td>[Video Games, Nintendo Switch, Accessories, Cables &amp; Adapters]</td>\n",
       "      <td>19.99</td>\n",
       "    </tr>\n",
       "    <tr>\n",
       "      <th>1916</th>\n",
       "      <td>AEYFXFWIRBR7NZXIO3MQKGQVBRAA</td>\n",
       "      <td>B003171CEW</td>\n",
       "      <td>0.0</td>\n",
       "      <td>2022-04-18 22:22:40.314</td>\n",
       "      <td>NaN</td>\n",
       "      <td>5.0</td>\n",
       "      <td>4.600000</td>\n",
       "      <td>0.0</td>\n",
       "      <td>NaN</td>\n",
       "      <td>0.0</td>\n",
       "      <td>...</td>\n",
       "      <td>1451249382,1451249962,1451250114,1455498751,1455498977,1457302187,1485474951,1547242209,1625801351,1641268605</td>\n",
       "      <td>[685, 2863, 3946, 2864, 582, 3211, 1202, 3527, 3795, 4011]</td>\n",
       "      <td>[1451249382, 1451249962, 1451250114, 1455498751, 1455498977, 1457302187, 1485474951, 1547242209, 1625801351, 1641268605]</td>\n",
       "      <td>[8, 8, 8, 8, 8, 8, 8, 7, 5, 5]</td>\n",
       "      <td>[Sports, Baseball, Simulation, Single Player, Multiplayer]</td>\n",
       "      <td>Video Games</td>\n",
       "      <td>MLB 10: The Show - Playstation 3</td>\n",
       "      <td>[Product description, Welcome to The Show All-Star. The best selling and highest rated baseball franchise is back in MLB 10 The Show throwing you into an unsurpassed baseball experience where big moments come alive. It's all here too; the All New Home Run Derby, MLB All-Star Futures Game, Movie Maker, Catcher Mode, Personalized cheers and yells and Joe Mauer, newly crowned American League MVP, as the new cover athlete., Amazon.com, Welcome to The Show all-star. The best selling and highest rated baseball franchise is back in, MLB 10: The Show, throwing you into an unsurpassed baseball experience where big moments come alive. It’s all here too. In addition to a wealth of improvements to longtime franchise features this newest release includes the return of the Home Run Derby, MLB All-Star Futures Game, Movie Maker, Catcher Mode, Personalized cheers and yells and Joe Mauer, newly crowned American League MVP, as the new cover athlete. So get ready,, The Show, is about to begin and you are leading off. .caption { font-family: Verdana, Helvetica neue, Arial, serif; font-size: 10px; font-weight: bold; font-style: italic; } ul.indent { list-style: inside disc; text-indent: -15px; } table.callout { font-family: verdana; font-size: 11px; line-height: 1. 3em; } td.vgoverview { height: 125px; background: #9DC4D8 url(https://images-na.ssl-images-amazon.com/images/G/01/electronics/detail-page/callout-bg.png) repeat-x; border-left: 1px solid #999999; border-right: 1px solid #999999; padding-left: 20px; padding-right: 20px; padding-bottom: 10px; width: 250px; font-family: verdana; font-size: 12px; }, The return of the Home Run Derby., View larger, ., Game calling from the catcher position., View larger, ., New fielding and pitcher training options., View larger, ., 11 new stadiums and 1,250 new gameplay animations., View larger, ., The Return of Home Run Derby, The arcade style action of the Home Run Derby returns in, MLB 10: The Show, . Available through a variety play options, including season modes and a stand-alone mode that can be selected at any time, Home Run Derby is based on the MLB rules and flow of the actual MLB All-star game. In addition, the MLB All-star Futures Game is also available via season modes in its correct timeframe (just before the HR Derby). Will your Road to The Show player be invited to compete in the Home Run Derby or the Futures Game? Swing for the fences and keep your stats high and you may just get the call as the All-star break approaches., Call the Game as Catcher, The catcher is the brains of any defensive squad on the field, and as such, MLB 10: The Show, lets you test both your baseball IQ and your skills in the crouch as you call the game, one pitch at a time, from behind the plate. Available during Road to The Show, and exhibition game play options, players cultivate their rookie Minor League catcher and bring him up to the Majors where he can lay down signs to your pitcher, offer additional pitch selections if his first pitch call is shaken off and even change signs at will, all via your controller's face buttons. Pitches are called from a unique first-person perspective, after which the camera angle changes to a standard third-person perspective affording a better view of the entire field. This new functionality defines a whole new level of strategy, demanding knowledge of pitches, opposing batters' tendencies and the state of your own pitcher's well-being, as well as the ability to check runners on base and handle and/or block balls that are in the dirt or wild., New Defensive Training Options, No ballplayer becomes a golden glove overnight. With that in mind, MLB 10: The Show, includes new fielding and pitching training modes that augment the existing training functionality built into the game's improved Road to the Show mode. Fielding drills focus both on the basics of player's throwing arm, utilizing the new throw meter, as well as the more advanced combination of throwing and decision-making that players will need during game situations. Pitching training consists of a multi-pronged focus designed to improved control and accuracy. Training in these areas is available in isolated one-on-one battles known as \"Knockout,\" as well as simulated game situations, where goals are clearly defined for each drill., Key Game Features, A Wealth of New Features Including:, A Wealth of New Features Including:, MLB All-star Week consisting of the Home Run Derby and MLB All-star Futures Game.Full online season leagues with better multiplayer functionality.Catcher game calling functionality in certain modes.Movie Maker functionality to create personal highlight reels11 new StadiumsNew fielding and pitching training modesCustom music, fan yells, and chants., MLB All-star Week consisting of the Home Run Derby and MLB All-star Futures Game., MLB All-star Week consisting of the Home Run Derby and MLB All-star Futures Game., Full online season leagues with better multiplayer functionality., Full online season leagues with better multiplayer functionality., Catcher game calling functionality in certain modes., Catcher game calling functionality in certain modes., Movie Maker functionality to create personal highlight reels, Movie Maker functionality to create personal highlight reels, 11 new Stadiums, 11 new Stadiums, New fielding and pitching training modes, New fielding and pitching training modes, Custom music, fan yells, and chants., Custom music, fan yells, and chants., Improved Stadium Realism and Experience - From crowd ambiance to enhanced presentation system, even transitional daylight., Improved Stadium Realism and Experience, - From crowd ambiance to enhanced presentation system, even transitional daylight., Road to the Show v4.0 – Play the way that you want to with multiple new options settings, a rewards/penalty system based on play and a new, more accessible stat tracking system., Road to the Show v4.0, – Play the way that you want to with multiple new options settings, a rewards/penalty system based on play and a new, more accessible stat tracking system., Improved Online Gameplay – This year the online gameplay experience has been vastly improved and will detect and respond better to adverse network conditions along with reduced bandwidth to help the speed and flow of online gameplay., Improved Online Gameplay, – This year the online gameplay experience has been vastly improved and will detect and respond better to adverse network conditions along with reduced bandwidth to help the speed and flow of online gameplay., Full Online Season Leagues – Fully functional online season leagues, save and display MLB Player stats, track player energy, allow for trades/injuries, and offer 40-man roster functionality., Full Online Season Leagues, – Fully functional online season leagues, save and display MLB Player stats, track player energy, allow for trades/injuries, and offer 40-man roster functionality., Real-time Presentations – More than 1,250 new gameplay animations, more than 1,000 new presentation animations, and more than 400 personalized pitcher and batter animations., Real-time Presentations, – More than 1,250 new gameplay animations, more than 1,000 new presentation animations, and more than 400 personalized pitcher and batter animations., New Stadiums Available – The PlayStation 3 version of MLB 10: The Show includes five new Minor League stadiums, as well as classic parks including Forbes Field, Crosley Field, Polo Grounds, Shibe Park, Sportsman Park, and Griffith Stadium., New Stadiums Available, – The PlayStation 3 version of, MLB 10: The Show, includes five new Minor League stadiums, as well as classic parks including Forbes Field, Crosley Field, Polo Grounds, Shibe Park, Sportsman Park, and Griffith Stadium., Additional Features – Additional features include: multiplayer support, in-game messaging, voice chat, custom soundtracks, add-on content and HD support up to 1080p., Additional Features, – Additional features include: multiplayer support, in-game messaging, voice chat, custom soundtracks, add-on content and HD support up to 1080p.]</td>\n",
       "      <td>[Video Games, Legacy Systems, PlayStation Systems, PlayStation 3, Games]</td>\n",
       "      <td>19.71</td>\n",
       "    </tr>\n",
       "  </tbody>\n",
       "</table>\n",
       "<p>4 rows × 28 columns</p>\n",
       "</div>"
      ],
      "text/plain": [
       "                           user_id parent_asin  rating  \\\n",
       "862   AEYFXFWIRBR7NZXIO3MQKGQVBRAA  B07HVPZP1Q     1.0   \n",
       "898   AEYFXFWIRBR7NZXIO3MQKGQVBRAA  B00IAVDOS6     0.0   \n",
       "1122  AEYFXFWIRBR7NZXIO3MQKGQVBRAA  B0B9MJK753     1.0   \n",
       "1916  AEYFXFWIRBR7NZXIO3MQKGQVBRAA  B003171CEW     0.0   \n",
       "\n",
       "                   timestamp  timestamp_unix  parent_asin_rating_cnt_365d  \\\n",
       "862  2022-01-04 03:56:44.934    1.641269e+09                          2.0   \n",
       "898  2022-01-04 03:56:44.934             NaN                          0.0   \n",
       "1122 2022-04-18 22:22:40.314    1.650321e+09                          3.0   \n",
       "1916 2022-04-18 22:22:40.314             NaN                          5.0   \n",
       "\n",
       "      parent_asin_rating_avg_prev_rating_365d  parent_asin_rating_cnt_90d  \\\n",
       "862                                  5.000000                         0.0   \n",
       "898                                       NaN                         0.0   \n",
       "1122                                 4.666667                         0.0   \n",
       "1916                                 4.600000                         0.0   \n",
       "\n",
       "      parent_asin_rating_avg_prev_rating_90d  parent_asin_rating_cnt_30d  ...  \\\n",
       "862                                      NaN                         0.0  ...   \n",
       "898                                      NaN                         0.0  ...   \n",
       "1122                                     NaN                         0.0  ...   \n",
       "1916                                     NaN                         0.0  ...   \n",
       "\n",
       "                                                                          user_rating_list_10_recent_asin_timestamp  \\\n",
       "862   1445020453,1451249382,1451249962,1451250114,1455498751,1455498977,1457302187,1485474951,1547242209,1625801351   \n",
       "898   1445020453,1451249382,1451249962,1451250114,1455498751,1455498977,1457302187,1485474951,1547242209,1625801351   \n",
       "1122  1451249382,1451249962,1451250114,1455498751,1455498977,1457302187,1485474951,1547242209,1625801351,1641268605   \n",
       "1916  1451249382,1451249962,1451250114,1455498751,1455498977,1457302187,1485474951,1547242209,1625801351,1641268605   \n",
       "\n",
       "                                                   item_sequence  \\\n",
       "862   [2438, 685, 2863, 3946, 2864, 582, 3211, 1202, 3527, 3795]   \n",
       "898   [2438, 685, 2863, 3946, 2864, 582, 3211, 1202, 3527, 3795]   \n",
       "1122  [685, 2863, 3946, 2864, 582, 3211, 1202, 3527, 3795, 4011]   \n",
       "1916  [685, 2863, 3946, 2864, 582, 3211, 1202, 3527, 3795, 4011]   \n",
       "\n",
       "                                                                                                              item_sequence_ts  \\\n",
       "862   [1445020453, 1451249382, 1451249962, 1451250114, 1455498751, 1455498977, 1457302187, 1485474951, 1547242209, 1625801351]   \n",
       "898   [1445020453, 1451249382, 1451249962, 1451250114, 1455498751, 1455498977, 1457302187, 1485474951, 1547242209, 1625801351]   \n",
       "1122  [1451249382, 1451249962, 1451250114, 1455498751, 1455498977, 1457302187, 1485474951, 1547242209, 1625801351, 1641268605]   \n",
       "1916  [1451249382, 1451249962, 1451250114, 1455498751, 1455498977, 1457302187, 1485474951, 1547242209, 1625801351, 1641268605]   \n",
       "\n",
       "             item_sequence_ts_bucket  \\\n",
       "862   [8, 8, 8, 8, 8, 8, 8, 7, 6, 5]   \n",
       "898   [8, 8, 8, 8, 8, 8, 8, 7, 6, 5]   \n",
       "1122  [8, 8, 8, 8, 8, 8, 8, 7, 5, 5]   \n",
       "1916  [8, 8, 8, 8, 8, 8, 8, 7, 5, 5]   \n",
       "\n",
       "                                                                                                            tags  \\\n",
       "862                                    [HDMI Adapter, Wii Compatibility, Video Adapter, Full HD, Legacy Systems]   \n",
       "898                                          [Audio Accessory, Headset Adapter, Communication, Gaming Accessory]   \n",
       "1122  [Wireless Adapter, Universal Compatibility, Bluetooth, Gaming Accessory, Controller Adapter, Retro Gaming]   \n",
       "1916                                                  [Sports, Baseball, Simulation, Single Player, Multiplayer]   \n",
       "\n",
       "      main_category  \\\n",
       "862       Computers   \n",
       "898     Video Games   \n",
       "1122      Computers   \n",
       "1916    Video Games   \n",
       "\n",
       "                                                                                                                                                                                                         title  \\\n",
       "862   PORTHOLIC Wii to HDMI Converter 1080P for Full HD Device, Wii HDMI Adapter with 3,5mm Audio Jack&HDMI Output Compatible with Nintendo Wii, Wii U, HDTV, Monitor-Supports All Wii Display Modes 720P, NTS   \n",
       "898                                                                                                                                                                            Xbox One Stereo Headset Adapter   \n",
       "1122              8Bitdo Wireless USB Adapter 2 for Switch/Switch OLED, Windows, Mac & Raspberry Pi Compatible with Xbox Series X & S Controller, Xbox One Bluetooth Controller, Switch Pro and PS5 Controller   \n",
       "1916                                                                                                                                                                          MLB 10: The Show - Playstation 3   \n",
       "\n",
       "                                                                                                                                                                                                                                                                                                                                                                                                                                                                                                                                                                                                                                                                                                                                                                                                                                                                                                                                                                                                                                                                                                                                                                                                                                                                                                                                                                                                                                                                                                                                                                                                                                                                                                                                                                                                                                                                                                                                                                                                                                                                                                                                                                                                                                                                                                                                                                                                                                                                                                                                                                                                                                                                                                                                                                                                                                                                                                                                                                                                                                                                                                                                                                                                                                                                                                                                                                                                                                                                                                                                                                                                                                                                                                                                                                                                                                                                                                                                                                                                                                                                                                                                                                                                                                                                                                                                                                                                                                                                                                                                                                                                                                                                                                                                                                                                                                                                                                                                                                                                                                                                                                                                                                                                                                                                                                                                                                                                                                                                                                                                                                                                                                                                                                                                                                                                                                                                                                                                                                                                                                                                                                                                                                                                                                                                                                                                                                                                                                                                                                                                                                                                                                                                                                                                                                                                                                                                                                                                                                                                                                                                                                                                                                                                                                                                                                                                                                                                                                                                                                                                                                                                                                                                                                                                                                                                                                                                                                                                                                                                                                                                                                                                                                                                                                                                                                                                                                                                                                                 description  \\\n",
       "862                                                                                                                                                                                                                                                                                                                                                                                                                                                                                                                                                                                                                                                                                                                                                                                                                                                                                                                                                                                                                                                                                                                                                                                                                                                                                                                                                                                                                                                                                                                                                                                                                                                                                                                                                                                                                                                                                                                                                                                                                                                                                                                                                                                                                                                                                                                                                                                                                                                                                                                                                                                                                                                                                                                                                                                                                                                                                                                                                                                                                                                                                                                                                                                                                                                                                                                                                                                                                                                                                                                                                                                                                                                                                                                                                                                                                                                                                                                                                                                                                                                                                                                                                                                                                                                                                                                                                                                                                                                                                                                                                                                                                                                                                                                                                                                                                                                                                                                                                                                                                                                                                                                                                                                                                                                                                                                                                                                                                                                                                                                                                                                                                                                                                                                                                                                                                                                                                                                                                                                                                                                                                                                                                                                                                                                                                                                                                                                                                                                                                                                                                                                                                                                                                                                                                                                                                                                                                                                                                                                                                                                                                                                                                                                                                                                                                                                                                                                                                                                                                                                                                                                                                                                                                                                                                                                                                                                                                                                                                                                                                                                                                                                                                                                                                                                                                                                                                                                                                                                       []   \n",
       "898                                                                                                                                                                                                                                                                                                                                                                                                                                                                                                                                                                                                                                                                                                                                                                                                                                                                                                                                                                                                                                                                                                                                                                                                                                                                                                                                                                                                                                                                                                                                                                                                                                                                                                                                                                                                                                                                                                                                                                                                                                                                                                                                                                                                                                                                                                                                                                                                                                                                                                                                                                                                                                                                                                                                                                                                                                                                                                                                                                                                                                                                                                                                                                                                                                                                                                                                                                                                                                                                                                                                                                                                                                                                                                                                                                                                                                                                                                                                                                                                                                                                                                                                                                                                                                                                                                                                                                                                                                                                                                                                                                                                                                                                                                                                                                                                                                                                                                                                                                                                                                                                                                                                                                                                                                                                                                                                                                                                                                                                                                                                                                                                                                                                                                                                                                                                                                                                                                                                                                                                                                                                                                                                                                                                                                                                                                                                                                                                                                                                                                                                                                                                                                                                                                                                                                                                                                                                                                                                                                                                                                                                                                                                                                                                                                                                                                                                                                                                                                                                                                                                                      [Plug your favorite compatible headset into the Xbox One Stereo Headset Adapter and hear the action just the way you like it. Easily adjust chat audio without taking your hands off the controller. Add game audio by connecting directly to your console or TV., Non-compatible headsets The following headsets are incompatible with the Xbox One Stereo Headset Adapter: Mad Catz Tritton Warhead headset Mad Catz Tritton Primer headset (Mad Catz offers an adapter for the Primer headset to convert the 2.5-mm audio jack to a 3.5-mm audio jack. Contact Mad Catz for support.) The Xbox 360 Wireless Headset and Xbox 360 Wireless Bluetooth Headset Headsets with this 2.5-mm connector will not work because of the connector format. This connector includes a long, cylindrical pin in the middle of the connecting side that does not fit into the Xbox One Stereo Headset Adapter.]   \n",
       "1122                                                                                                                                                                                                                                                                                                                                                                                                                                                                                                                                                                                                                                                                                                                                                                                                                                                                                                                                                                                                                                                                                                                                                                                                                                                                                                                                                                                                                                                                                                                                                                                                                                                                                                                                                                                                                                                                                                                                                                                                                                                                                                                                                                                                                                                                                                                                                                                                                                                                                                                                                                                                                                                                                                                                                                                                                                                                                                                                                                                                                                                                                                                                                                                                                                                                                                                                                                                                                                                                                                                                                                                                                                                                                                                                                                                                                                                                                                                                                                                                                                                                                                                                                                                                                                                                                                                                                                                                                                                                                                                                                                                                                                                                                                                                                                                                                                                                                                                                                                                                                                                                                                                                                                                                                                                                                                                                                                                                                                                                                                                                                                                                                                                                                                                                                                                                                                                                                                                                                                                                                                                                                                                                                                                                                                                                                                                                                                                                                                                                                                                                                                                                                                                                                                                                                                                                                                                                                                                                                                                                                                                                                                                                                                                                                                                                                                                                                                                                                                                                                                                                                                                                                                                                                                                                                                                                                                                                                                                                                                                                                                                                                                                                                                                                                                                                                                                                                                                                                                                      []   \n",
       "1916  [Product description, Welcome to The Show All-Star. The best selling and highest rated baseball franchise is back in MLB 10 The Show throwing you into an unsurpassed baseball experience where big moments come alive. It's all here too; the All New Home Run Derby, MLB All-Star Futures Game, Movie Maker, Catcher Mode, Personalized cheers and yells and Joe Mauer, newly crowned American League MVP, as the new cover athlete., Amazon.com, Welcome to The Show all-star. The best selling and highest rated baseball franchise is back in, MLB 10: The Show, throwing you into an unsurpassed baseball experience where big moments come alive. It’s all here too. In addition to a wealth of improvements to longtime franchise features this newest release includes the return of the Home Run Derby, MLB All-Star Futures Game, Movie Maker, Catcher Mode, Personalized cheers and yells and Joe Mauer, newly crowned American League MVP, as the new cover athlete. So get ready,, The Show, is about to begin and you are leading off. .caption { font-family: Verdana, Helvetica neue, Arial, serif; font-size: 10px; font-weight: bold; font-style: italic; } ul.indent { list-style: inside disc; text-indent: -15px; } table.callout { font-family: verdana; font-size: 11px; line-height: 1. 3em; } td.vgoverview { height: 125px; background: #9DC4D8 url(https://images-na.ssl-images-amazon.com/images/G/01/electronics/detail-page/callout-bg.png) repeat-x; border-left: 1px solid #999999; border-right: 1px solid #999999; padding-left: 20px; padding-right: 20px; padding-bottom: 10px; width: 250px; font-family: verdana; font-size: 12px; }, The return of the Home Run Derby., View larger, ., Game calling from the catcher position., View larger, ., New fielding and pitcher training options., View larger, ., 11 new stadiums and 1,250 new gameplay animations., View larger, ., The Return of Home Run Derby, The arcade style action of the Home Run Derby returns in, MLB 10: The Show, . Available through a variety play options, including season modes and a stand-alone mode that can be selected at any time, Home Run Derby is based on the MLB rules and flow of the actual MLB All-star game. In addition, the MLB All-star Futures Game is also available via season modes in its correct timeframe (just before the HR Derby). Will your Road to The Show player be invited to compete in the Home Run Derby or the Futures Game? Swing for the fences and keep your stats high and you may just get the call as the All-star break approaches., Call the Game as Catcher, The catcher is the brains of any defensive squad on the field, and as such, MLB 10: The Show, lets you test both your baseball IQ and your skills in the crouch as you call the game, one pitch at a time, from behind the plate. Available during Road to The Show, and exhibition game play options, players cultivate their rookie Minor League catcher and bring him up to the Majors where he can lay down signs to your pitcher, offer additional pitch selections if his first pitch call is shaken off and even change signs at will, all via your controller's face buttons. Pitches are called from a unique first-person perspective, after which the camera angle changes to a standard third-person perspective affording a better view of the entire field. This new functionality defines a whole new level of strategy, demanding knowledge of pitches, opposing batters' tendencies and the state of your own pitcher's well-being, as well as the ability to check runners on base and handle and/or block balls that are in the dirt or wild., New Defensive Training Options, No ballplayer becomes a golden glove overnight. With that in mind, MLB 10: The Show, includes new fielding and pitching training modes that augment the existing training functionality built into the game's improved Road to the Show mode. Fielding drills focus both on the basics of player's throwing arm, utilizing the new throw meter, as well as the more advanced combination of throwing and decision-making that players will need during game situations. Pitching training consists of a multi-pronged focus designed to improved control and accuracy. Training in these areas is available in isolated one-on-one battles known as \"Knockout,\" as well as simulated game situations, where goals are clearly defined for each drill., Key Game Features, A Wealth of New Features Including:, A Wealth of New Features Including:, MLB All-star Week consisting of the Home Run Derby and MLB All-star Futures Game.Full online season leagues with better multiplayer functionality.Catcher game calling functionality in certain modes.Movie Maker functionality to create personal highlight reels11 new StadiumsNew fielding and pitching training modesCustom music, fan yells, and chants., MLB All-star Week consisting of the Home Run Derby and MLB All-star Futures Game., MLB All-star Week consisting of the Home Run Derby and MLB All-star Futures Game., Full online season leagues with better multiplayer functionality., Full online season leagues with better multiplayer functionality., Catcher game calling functionality in certain modes., Catcher game calling functionality in certain modes., Movie Maker functionality to create personal highlight reels, Movie Maker functionality to create personal highlight reels, 11 new Stadiums, 11 new Stadiums, New fielding and pitching training modes, New fielding and pitching training modes, Custom music, fan yells, and chants., Custom music, fan yells, and chants., Improved Stadium Realism and Experience - From crowd ambiance to enhanced presentation system, even transitional daylight., Improved Stadium Realism and Experience, - From crowd ambiance to enhanced presentation system, even transitional daylight., Road to the Show v4.0 – Play the way that you want to with multiple new options settings, a rewards/penalty system based on play and a new, more accessible stat tracking system., Road to the Show v4.0, – Play the way that you want to with multiple new options settings, a rewards/penalty system based on play and a new, more accessible stat tracking system., Improved Online Gameplay – This year the online gameplay experience has been vastly improved and will detect and respond better to adverse network conditions along with reduced bandwidth to help the speed and flow of online gameplay., Improved Online Gameplay, – This year the online gameplay experience has been vastly improved and will detect and respond better to adverse network conditions along with reduced bandwidth to help the speed and flow of online gameplay., Full Online Season Leagues – Fully functional online season leagues, save and display MLB Player stats, track player energy, allow for trades/injuries, and offer 40-man roster functionality., Full Online Season Leagues, – Fully functional online season leagues, save and display MLB Player stats, track player energy, allow for trades/injuries, and offer 40-man roster functionality., Real-time Presentations – More than 1,250 new gameplay animations, more than 1,000 new presentation animations, and more than 400 personalized pitcher and batter animations., Real-time Presentations, – More than 1,250 new gameplay animations, more than 1,000 new presentation animations, and more than 400 personalized pitcher and batter animations., New Stadiums Available – The PlayStation 3 version of MLB 10: The Show includes five new Minor League stadiums, as well as classic parks including Forbes Field, Crosley Field, Polo Grounds, Shibe Park, Sportsman Park, and Griffith Stadium., New Stadiums Available, – The PlayStation 3 version of, MLB 10: The Show, includes five new Minor League stadiums, as well as classic parks including Forbes Field, Crosley Field, Polo Grounds, Shibe Park, Sportsman Park, and Griffith Stadium., Additional Features – Additional features include: multiplayer support, in-game messaging, voice chat, custom soundtracks, add-on content and HD support up to 1080p., Additional Features, – Additional features include: multiplayer support, in-game messaging, voice chat, custom soundtracks, add-on content and HD support up to 1080p.]   \n",
       "\n",
       "                                                                                          categories  \\\n",
       "862   [Video Games, Legacy Systems, Nintendo Systems, Wii, Accessories, Cables & Adapters, Adapters]   \n",
       "898                                [Video Games, Xbox One, Accessories, Cables & Adapters, Adapters]   \n",
       "1122                                  [Video Games, Nintendo Switch, Accessories, Cables & Adapters]   \n",
       "1916                        [Video Games, Legacy Systems, PlayStation Systems, PlayStation 3, Games]   \n",
       "\n",
       "      price  \n",
       "862   10.97  \n",
       "898   36.97  \n",
       "1122  19.99  \n",
       "1916  19.71  \n",
       "\n",
       "[4 rows x 28 columns]"
      ]
     },
     "metadata": {},
     "output_type": "display_data"
    }
   ],
   "source": [
    "user_id = val_df.sample(1)[args.user_col].values[0]\n",
    "test_df = val_df.loc[lambda df: df[args.user_col].eq(user_id)]\n",
    "with pd.option_context(\"display.max_colwidth\", None):\n",
    "    display(test_df)"
   ]
  },
  {
   "cell_type": "code",
   "execution_count": 23,
   "id": "c48fbc80-eda8-4dff-a246-95f8f2f75082",
   "metadata": {
    "scrolled": true
   },
   "outputs": [
    {
     "name": "stderr",
     "output_type": "stream",
     "text": [
      "\u001b[32m2024-11-09 11:25:25.441\u001b[0m | \u001b[1mINFO    \u001b[0m | \u001b[36m__main__\u001b[0m:\u001b[36m<module>\u001b[0m:\u001b[36m7\u001b[0m - \u001b[1mTest predicting before training with user_id = AEYFXFWIRBR7NZXIO3MQKGQVBRAA and parent_asin = B07HVPZP1Q\u001b[0m\n",
      "/var/folders/mq/xtxzhvlj4m97tb8lgwxcnsb40000gn/T/ipykernel_80314/1344924415.py:13: UserWarning:\n",
      "\n",
      "Creating a tensor from a list of numpy.ndarrays is extremely slow. Please consider converting the list to a single numpy.ndarray with numpy.array() before converting to a tensor. (Triggered internally at /Users/runner/work/pytorch/pytorch/pytorch/torch/csrc/utils/tensor_new.cpp:281.)\n",
      "\n"
     ]
    },
    {
     "data": {
      "text/plain": [
       "Ranker(\n",
       "  (item_embedding): Embedding(4631, 128, padding_idx=4630)\n",
       "  (user_embedding): Embedding(19578, 128)\n",
       "  (item_sequence_ts_bucket_embedding): Embedding(11, 16, padding_idx=10)\n",
       "  (gru): GRU(144, 128, batch_first=True)\n",
       "  (relu): ReLU()\n",
       "  (dropout): Dropout(p=0.3, inplace=False)\n",
       "  (item_feature_tower): Sequential(\n",
       "    (0): Linear(in_features=461, out_features=128, bias=True)\n",
       "    (1): BatchNorm1d(128, eps=1e-05, momentum=0.1, affine=True, track_running_stats=True)\n",
       "    (2): ReLU()\n",
       "    (3): Dropout(p=0.3, inplace=False)\n",
       "  )\n",
       "  (fc_rating): Sequential(\n",
       "    (0): Linear(in_features=512, out_features=128, bias=True)\n",
       "    (1): BatchNorm1d(128, eps=1e-05, momentum=0.1, affine=True, track_running_stats=True)\n",
       "    (2): ReLU()\n",
       "    (3): Dropout(p=0.3, inplace=False)\n",
       "    (4): Linear(in_features=128, out_features=1, bias=True)\n",
       "    (5): Sigmoid()\n",
       "  )\n",
       ")"
      ]
     },
     "execution_count": 23,
     "metadata": {},
     "output_type": "execute_result"
    }
   ],
   "source": [
    "test_row = test_df.loc[lambda df: df[args.rating_col].gt(0)].iloc[0]\n",
    "item_id = test_row[args.item_col]\n",
    "item_sequence = test_row[\"item_sequence\"]\n",
    "item_sequence_ts_bucket = test_row[\"item_sequence_ts_bucket\"]\n",
    "row_idx = test_row.name\n",
    "item_feature = val_item_features[row_idx]\n",
    "logger.info(\n",
    "    f\"Test predicting before training with {args.user_col} = {user_id} and {args.item_col} = {item_id}\"\n",
    ")\n",
    "user_indice = idm.get_user_index(user_id)\n",
    "item_indice = idm.get_item_index(item_id)\n",
    "user = torch.tensor([user_indice])\n",
    "item_sequence = torch.tensor([item_sequence])\n",
    "item_sequence_ts_bucket = torch.tensor([item_sequence_ts_bucket])\n",
    "item_feature = torch.tensor([item_feature])\n",
    "item = torch.tensor([item_indice])\n",
    "\n",
    "model.eval()\n",
    "model.predict(user, item_sequence, item_sequence_ts_bucket, item_feature, item)\n",
    "model.train()"
   ]
  },
  {
   "cell_type": "markdown",
   "id": "c2fd217c-c0c8-4e7c-81fe-6eb36f4729b5",
   "metadata": {},
   "source": [
    "#### Training loop"
   ]
  },
  {
   "cell_type": "markdown",
   "id": "1e9daad4-1365-4e8e-8f73-80ca5513572b",
   "metadata": {},
   "source": [
    "##### Overfit 1 batch"
   ]
  },
  {
   "cell_type": "code",
   "execution_count": 24,
   "id": "1a1cd9bd-e2c6-404b-b6ae-b26a7d35a0ba",
   "metadata": {
    "scrolled": true
   },
   "outputs": [
    {
     "name": "stderr",
     "output_type": "stream",
     "text": [
      "GPU available: True (mps), used: True\n",
      "TPU available: False, using: 0 TPU cores\n",
      "HPU available: False, using: 0 HPUs\n",
      "`Trainer(overfit_batches=1)` was configured so 1 batch will be used.\n",
      "\n",
      "  | Name  | Type   | Params | Mode \n",
      "-----------------------------------------\n",
      "0 | model | Ranker | 3.3 M  | train\n",
      "-----------------------------------------\n",
      "3.3 M     Trainable params\n",
      "0         Non-trainable params\n",
      "3.3 M     Total params\n",
      "13.318    Total estimated model params size (MB)\n",
      "15        Modules in train mode\n",
      "0         Modules in eval mode\n"
     ]
    },
    {
     "data": {
      "application/vnd.jupyter.widget-view+json": {
       "model_id": "",
       "version_major": 2,
       "version_minor": 0
      },
      "text/plain": [
       "Sanity Checking: |                                                                                            …"
      ]
     },
     "metadata": {},
     "output_type": "display_data"
    },
    {
     "name": "stderr",
     "output_type": "stream",
     "text": [
      "/Users/dvq/frostmourne/recsys-mvp/.venv/lib/python3.11/site-packages/lightning/pytorch/trainer/connectors/data_connector.py:251: UserWarning:\n",
      "\n",
      "You requested to overfit but enabled val dataloader shuffling. We are turning off the val dataloader shuffling for you.\n",
      "\n",
      "/Users/dvq/frostmourne/recsys-mvp/.venv/lib/python3.11/site-packages/lightning/pytorch/trainer/connectors/data_connector.py:424: PossibleUserWarning:\n",
      "\n",
      "The 'val_dataloader' does not have many workers which may be a bottleneck. Consider increasing the value of the `num_workers` argument` to `num_workers=10` in the `DataLoader` to improve performance.\n",
      "\n",
      "/Users/dvq/frostmourne/recsys-mvp/.venv/lib/python3.11/site-packages/lightning/pytorch/trainer/connectors/data_connector.py:251: UserWarning:\n",
      "\n",
      "You requested to overfit but enabled train dataloader shuffling. We are turning off the train dataloader shuffling for you.\n",
      "\n",
      "/Users/dvq/frostmourne/recsys-mvp/.venv/lib/python3.11/site-packages/lightning/pytorch/trainer/connectors/data_connector.py:424: PossibleUserWarning:\n",
      "\n",
      "The 'train_dataloader' does not have many workers which may be a bottleneck. Consider increasing the value of the `num_workers` argument` to `num_workers=10` in the `DataLoader` to improve performance.\n",
      "\n",
      "/Users/dvq/frostmourne/recsys-mvp/.venv/lib/python3.11/site-packages/lightning/pytorch/loops/fit_loop.py:298: PossibleUserWarning:\n",
      "\n",
      "The number of training batches (1) is smaller than the logging interval Trainer(log_every_n_steps=50). Set a lower value for log_every_n_steps if you want to see logs for the training epoch.\n",
      "\n"
     ]
    },
    {
     "data": {
      "application/vnd.jupyter.widget-view+json": {
       "model_id": "da51d843c92d483db768c13c70ece024",
       "version_major": 2,
       "version_minor": 0
      },
      "text/plain": [
       "Training: |                                                                                                   …"
      ]
     },
     "metadata": {},
     "output_type": "display_data"
    },
    {
     "data": {
      "application/vnd.jupyter.widget-view+json": {
       "model_id": "",
       "version_major": 2,
       "version_minor": 0
      },
      "text/plain": [
       "Validation: |                                                                                                 …"
      ]
     },
     "metadata": {},
     "output_type": "display_data"
    },
    {
     "data": {
      "application/vnd.jupyter.widget-view+json": {
       "model_id": "",
       "version_major": 2,
       "version_minor": 0
      },
      "text/plain": [
       "Validation: |                                                                                                 …"
      ]
     },
     "metadata": {},
     "output_type": "display_data"
    },
    {
     "data": {
      "application/vnd.jupyter.widget-view+json": {
       "model_id": "",
       "version_major": 2,
       "version_minor": 0
      },
      "text/plain": [
       "Validation: |                                                                                                 …"
      ]
     },
     "metadata": {},
     "output_type": "display_data"
    },
    {
     "data": {
      "application/vnd.jupyter.widget-view+json": {
       "model_id": "",
       "version_major": 2,
       "version_minor": 0
      },
      "text/plain": [
       "Validation: |                                                                                                 …"
      ]
     },
     "metadata": {},
     "output_type": "display_data"
    },
    {
     "data": {
      "application/vnd.jupyter.widget-view+json": {
       "model_id": "",
       "version_major": 2,
       "version_minor": 0
      },
      "text/plain": [
       "Validation: |                                                                                                 …"
      ]
     },
     "metadata": {},
     "output_type": "display_data"
    },
    {
     "data": {
      "application/vnd.jupyter.widget-view+json": {
       "model_id": "",
       "version_major": 2,
       "version_minor": 0
      },
      "text/plain": [
       "Validation: |                                                                                                 …"
      ]
     },
     "metadata": {},
     "output_type": "display_data"
    },
    {
     "data": {
      "application/vnd.jupyter.widget-view+json": {
       "model_id": "",
       "version_major": 2,
       "version_minor": 0
      },
      "text/plain": [
       "Validation: |                                                                                                 …"
      ]
     },
     "metadata": {},
     "output_type": "display_data"
    },
    {
     "data": {
      "application/vnd.jupyter.widget-view+json": {
       "model_id": "",
       "version_major": 2,
       "version_minor": 0
      },
      "text/plain": [
       "Validation: |                                                                                                 …"
      ]
     },
     "metadata": {},
     "output_type": "display_data"
    },
    {
     "data": {
      "application/vnd.jupyter.widget-view+json": {
       "model_id": "",
       "version_major": 2,
       "version_minor": 0
      },
      "text/plain": [
       "Validation: |                                                                                                 …"
      ]
     },
     "metadata": {},
     "output_type": "display_data"
    },
    {
     "data": {
      "application/vnd.jupyter.widget-view+json": {
       "model_id": "",
       "version_major": 2,
       "version_minor": 0
      },
      "text/plain": [
       "Validation: |                                                                                                 …"
      ]
     },
     "metadata": {},
     "output_type": "display_data"
    },
    {
     "data": {
      "application/vnd.jupyter.widget-view+json": {
       "model_id": "",
       "version_major": 2,
       "version_minor": 0
      },
      "text/plain": [
       "Validation: |                                                                                                 …"
      ]
     },
     "metadata": {},
     "output_type": "display_data"
    },
    {
     "data": {
      "application/vnd.jupyter.widget-view+json": {
       "model_id": "",
       "version_major": 2,
       "version_minor": 0
      },
      "text/plain": [
       "Validation: |                                                                                                 …"
      ]
     },
     "metadata": {},
     "output_type": "display_data"
    },
    {
     "data": {
      "application/vnd.jupyter.widget-view+json": {
       "model_id": "",
       "version_major": 2,
       "version_minor": 0
      },
      "text/plain": [
       "Validation: |                                                                                                 …"
      ]
     },
     "metadata": {},
     "output_type": "display_data"
    },
    {
     "data": {
      "application/vnd.jupyter.widget-view+json": {
       "model_id": "",
       "version_major": 2,
       "version_minor": 0
      },
      "text/plain": [
       "Validation: |                                                                                                 …"
      ]
     },
     "metadata": {},
     "output_type": "display_data"
    },
    {
     "data": {
      "application/vnd.jupyter.widget-view+json": {
       "model_id": "",
       "version_major": 2,
       "version_minor": 0
      },
      "text/plain": [
       "Validation: |                                                                                                 …"
      ]
     },
     "metadata": {},
     "output_type": "display_data"
    },
    {
     "data": {
      "application/vnd.jupyter.widget-view+json": {
       "model_id": "",
       "version_major": 2,
       "version_minor": 0
      },
      "text/plain": [
       "Validation: |                                                                                                 …"
      ]
     },
     "metadata": {},
     "output_type": "display_data"
    },
    {
     "data": {
      "application/vnd.jupyter.widget-view+json": {
       "model_id": "",
       "version_major": 2,
       "version_minor": 0
      },
      "text/plain": [
       "Validation: |                                                                                                 …"
      ]
     },
     "metadata": {},
     "output_type": "display_data"
    },
    {
     "data": {
      "application/vnd.jupyter.widget-view+json": {
       "model_id": "",
       "version_major": 2,
       "version_minor": 0
      },
      "text/plain": [
       "Validation: |                                                                                                 …"
      ]
     },
     "metadata": {},
     "output_type": "display_data"
    },
    {
     "data": {
      "application/vnd.jupyter.widget-view+json": {
       "model_id": "",
       "version_major": 2,
       "version_minor": 0
      },
      "text/plain": [
       "Validation: |                                                                                                 …"
      ]
     },
     "metadata": {},
     "output_type": "display_data"
    },
    {
     "data": {
      "application/vnd.jupyter.widget-view+json": {
       "model_id": "",
       "version_major": 2,
       "version_minor": 0
      },
      "text/plain": [
       "Validation: |                                                                                                 …"
      ]
     },
     "metadata": {},
     "output_type": "display_data"
    },
    {
     "data": {
      "application/vnd.jupyter.widget-view+json": {
       "model_id": "",
       "version_major": 2,
       "version_minor": 0
      },
      "text/plain": [
       "Validation: |                                                                                                 …"
      ]
     },
     "metadata": {},
     "output_type": "display_data"
    },
    {
     "data": {
      "application/vnd.jupyter.widget-view+json": {
       "model_id": "",
       "version_major": 2,
       "version_minor": 0
      },
      "text/plain": [
       "Validation: |                                                                                                 …"
      ]
     },
     "metadata": {},
     "output_type": "display_data"
    },
    {
     "data": {
      "application/vnd.jupyter.widget-view+json": {
       "model_id": "",
       "version_major": 2,
       "version_minor": 0
      },
      "text/plain": [
       "Validation: |                                                                                                 …"
      ]
     },
     "metadata": {},
     "output_type": "display_data"
    },
    {
     "data": {
      "application/vnd.jupyter.widget-view+json": {
       "model_id": "",
       "version_major": 2,
       "version_minor": 0
      },
      "text/plain": [
       "Validation: |                                                                                                 …"
      ]
     },
     "metadata": {},
     "output_type": "display_data"
    },
    {
     "data": {
      "application/vnd.jupyter.widget-view+json": {
       "model_id": "",
       "version_major": 2,
       "version_minor": 0
      },
      "text/plain": [
       "Validation: |                                                                                                 …"
      ]
     },
     "metadata": {},
     "output_type": "display_data"
    },
    {
     "data": {
      "application/vnd.jupyter.widget-view+json": {
       "model_id": "",
       "version_major": 2,
       "version_minor": 0
      },
      "text/plain": [
       "Validation: |                                                                                                 …"
      ]
     },
     "metadata": {},
     "output_type": "display_data"
    },
    {
     "data": {
      "application/vnd.jupyter.widget-view+json": {
       "model_id": "",
       "version_major": 2,
       "version_minor": 0
      },
      "text/plain": [
       "Validation: |                                                                                                 …"
      ]
     },
     "metadata": {},
     "output_type": "display_data"
    },
    {
     "data": {
      "application/vnd.jupyter.widget-view+json": {
       "model_id": "",
       "version_major": 2,
       "version_minor": 0
      },
      "text/plain": [
       "Validation: |                                                                                                 …"
      ]
     },
     "metadata": {},
     "output_type": "display_data"
    },
    {
     "data": {
      "application/vnd.jupyter.widget-view+json": {
       "model_id": "",
       "version_major": 2,
       "version_minor": 0
      },
      "text/plain": [
       "Validation: |                                                                                                 …"
      ]
     },
     "metadata": {},
     "output_type": "display_data"
    },
    {
     "data": {
      "application/vnd.jupyter.widget-view+json": {
       "model_id": "",
       "version_major": 2,
       "version_minor": 0
      },
      "text/plain": [
       "Validation: |                                                                                                 …"
      ]
     },
     "metadata": {},
     "output_type": "display_data"
    },
    {
     "data": {
      "application/vnd.jupyter.widget-view+json": {
       "model_id": "",
       "version_major": 2,
       "version_minor": 0
      },
      "text/plain": [
       "Validation: |                                                                                                 …"
      ]
     },
     "metadata": {},
     "output_type": "display_data"
    },
    {
     "data": {
      "application/vnd.jupyter.widget-view+json": {
       "model_id": "",
       "version_major": 2,
       "version_minor": 0
      },
      "text/plain": [
       "Validation: |                                                                                                 …"
      ]
     },
     "metadata": {},
     "output_type": "display_data"
    },
    {
     "data": {
      "application/vnd.jupyter.widget-view+json": {
       "model_id": "",
       "version_major": 2,
       "version_minor": 0
      },
      "text/plain": [
       "Validation: |                                                                                                 …"
      ]
     },
     "metadata": {},
     "output_type": "display_data"
    },
    {
     "data": {
      "application/vnd.jupyter.widget-view+json": {
       "model_id": "",
       "version_major": 2,
       "version_minor": 0
      },
      "text/plain": [
       "Validation: |                                                                                                 …"
      ]
     },
     "metadata": {},
     "output_type": "display_data"
    },
    {
     "data": {
      "application/vnd.jupyter.widget-view+json": {
       "model_id": "",
       "version_major": 2,
       "version_minor": 0
      },
      "text/plain": [
       "Validation: |                                                                                                 …"
      ]
     },
     "metadata": {},
     "output_type": "display_data"
    },
    {
     "data": {
      "application/vnd.jupyter.widget-view+json": {
       "model_id": "",
       "version_major": 2,
       "version_minor": 0
      },
      "text/plain": [
       "Validation: |                                                                                                 …"
      ]
     },
     "metadata": {},
     "output_type": "display_data"
    },
    {
     "data": {
      "application/vnd.jupyter.widget-view+json": {
       "model_id": "",
       "version_major": 2,
       "version_minor": 0
      },
      "text/plain": [
       "Validation: |                                                                                                 …"
      ]
     },
     "metadata": {},
     "output_type": "display_data"
    },
    {
     "data": {
      "application/vnd.jupyter.widget-view+json": {
       "model_id": "",
       "version_major": 2,
       "version_minor": 0
      },
      "text/plain": [
       "Validation: |                                                                                                 …"
      ]
     },
     "metadata": {},
     "output_type": "display_data"
    },
    {
     "data": {
      "application/vnd.jupyter.widget-view+json": {
       "model_id": "",
       "version_major": 2,
       "version_minor": 0
      },
      "text/plain": [
       "Validation: |                                                                                                 …"
      ]
     },
     "metadata": {},
     "output_type": "display_data"
    },
    {
     "data": {
      "application/vnd.jupyter.widget-view+json": {
       "model_id": "",
       "version_major": 2,
       "version_minor": 0
      },
      "text/plain": [
       "Validation: |                                                                                                 …"
      ]
     },
     "metadata": {},
     "output_type": "display_data"
    },
    {
     "data": {
      "application/vnd.jupyter.widget-view+json": {
       "model_id": "",
       "version_major": 2,
       "version_minor": 0
      },
      "text/plain": [
       "Validation: |                                                                                                 …"
      ]
     },
     "metadata": {},
     "output_type": "display_data"
    },
    {
     "data": {
      "application/vnd.jupyter.widget-view+json": {
       "model_id": "",
       "version_major": 2,
       "version_minor": 0
      },
      "text/plain": [
       "Validation: |                                                                                                 …"
      ]
     },
     "metadata": {},
     "output_type": "display_data"
    },
    {
     "data": {
      "application/vnd.jupyter.widget-view+json": {
       "model_id": "",
       "version_major": 2,
       "version_minor": 0
      },
      "text/plain": [
       "Validation: |                                                                                                 …"
      ]
     },
     "metadata": {},
     "output_type": "display_data"
    },
    {
     "data": {
      "application/vnd.jupyter.widget-view+json": {
       "model_id": "",
       "version_major": 2,
       "version_minor": 0
      },
      "text/plain": [
       "Validation: |                                                                                                 …"
      ]
     },
     "metadata": {},
     "output_type": "display_data"
    },
    {
     "data": {
      "application/vnd.jupyter.widget-view+json": {
       "model_id": "",
       "version_major": 2,
       "version_minor": 0
      },
      "text/plain": [
       "Validation: |                                                                                                 …"
      ]
     },
     "metadata": {},
     "output_type": "display_data"
    },
    {
     "data": {
      "application/vnd.jupyter.widget-view+json": {
       "model_id": "",
       "version_major": 2,
       "version_minor": 0
      },
      "text/plain": [
       "Validation: |                                                                                                 …"
      ]
     },
     "metadata": {},
     "output_type": "display_data"
    },
    {
     "data": {
      "application/vnd.jupyter.widget-view+json": {
       "model_id": "8b74ed4964a242f4b57958f12c61e674",
       "version_major": 2,
       "version_minor": 0
      },
      "text/plain": [
       "Validation: |                                                                                                 …"
      ]
     },
     "metadata": {},
     "output_type": "display_data"
    },
    {
     "data": {
      "application/vnd.jupyter.widget-view+json": {
       "model_id": "1a32a6af85404301a6afba13c50f4717",
       "version_major": 2,
       "version_minor": 0
      },
      "text/plain": [
       "Validation: |                                                                                                 …"
      ]
     },
     "metadata": {},
     "output_type": "display_data"
    },
    {
     "data": {
      "application/vnd.jupyter.widget-view+json": {
       "model_id": "75f638ae407a4c36baef1f9efe385741",
       "version_major": 2,
       "version_minor": 0
      },
      "text/plain": [
       "Validation: |                                                                                                 …"
      ]
     },
     "metadata": {},
     "output_type": "display_data"
    },
    {
     "data": {
      "application/vnd.jupyter.widget-view+json": {
       "model_id": "8a45f29b6d11434689b307d63d548c72",
       "version_major": 2,
       "version_minor": 0
      },
      "text/plain": [
       "Validation: |                                                                                                 …"
      ]
     },
     "metadata": {},
     "output_type": "display_data"
    },
    {
     "data": {
      "application/vnd.jupyter.widget-view+json": {
       "model_id": "b604b232af20434aa41a59c629a99868",
       "version_major": 2,
       "version_minor": 0
      },
      "text/plain": [
       "Validation: |                                                                                                 …"
      ]
     },
     "metadata": {},
     "output_type": "display_data"
    },
    {
     "data": {
      "application/vnd.jupyter.widget-view+json": {
       "model_id": "b79fdff9b56742bfa62edf3bb5091438",
       "version_major": 2,
       "version_minor": 0
      },
      "text/plain": [
       "Validation: |                                                                                                 …"
      ]
     },
     "metadata": {},
     "output_type": "display_data"
    },
    {
     "data": {
      "application/vnd.jupyter.widget-view+json": {
       "model_id": "9c6ae22057fa411cb1f27de4a0a196a1",
       "version_major": 2,
       "version_minor": 0
      },
      "text/plain": [
       "Validation: |                                                                                                 …"
      ]
     },
     "metadata": {},
     "output_type": "display_data"
    },
    {
     "data": {
      "application/vnd.jupyter.widget-view+json": {
       "model_id": "90fc0eb93aa2410899f572c2a8e50a58",
       "version_major": 2,
       "version_minor": 0
      },
      "text/plain": [
       "Validation: |                                                                                                 …"
      ]
     },
     "metadata": {},
     "output_type": "display_data"
    },
    {
     "data": {
      "application/vnd.jupyter.widget-view+json": {
       "model_id": "03f9fca5c3274921802c34250103389b",
       "version_major": 2,
       "version_minor": 0
      },
      "text/plain": [
       "Validation: |                                                                                                 …"
      ]
     },
     "metadata": {},
     "output_type": "display_data"
    },
    {
     "data": {
      "application/vnd.jupyter.widget-view+json": {
       "model_id": "bbb8f82826524c46a474234f8f9e42db",
       "version_major": 2,
       "version_minor": 0
      },
      "text/plain": [
       "Validation: |                                                                                                 …"
      ]
     },
     "metadata": {},
     "output_type": "display_data"
    },
    {
     "data": {
      "application/vnd.jupyter.widget-view+json": {
       "model_id": "7bd833e3604b4b1db493e49ba6bb78e6",
       "version_major": 2,
       "version_minor": 0
      },
      "text/plain": [
       "Validation: |                                                                                                 …"
      ]
     },
     "metadata": {},
     "output_type": "display_data"
    },
    {
     "data": {
      "application/vnd.jupyter.widget-view+json": {
       "model_id": "df73a33e11c44381845b01d580d3e9ab",
       "version_major": 2,
       "version_minor": 0
      },
      "text/plain": [
       "Validation: |                                                                                                 …"
      ]
     },
     "metadata": {},
     "output_type": "display_data"
    },
    {
     "data": {
      "application/vnd.jupyter.widget-view+json": {
       "model_id": "489a486fc20d41479da100c4b5a68423",
       "version_major": 2,
       "version_minor": 0
      },
      "text/plain": [
       "Validation: |                                                                                                 …"
      ]
     },
     "metadata": {},
     "output_type": "display_data"
    },
    {
     "data": {
      "application/vnd.jupyter.widget-view+json": {
       "model_id": "20195fd7bd8440f49b71d0e220ec81b1",
       "version_major": 2,
       "version_minor": 0
      },
      "text/plain": [
       "Validation: |                                                                                                 …"
      ]
     },
     "metadata": {},
     "output_type": "display_data"
    },
    {
     "data": {
      "application/vnd.jupyter.widget-view+json": {
       "model_id": "52c589ddcfec49bc86269661da14cc65",
       "version_major": 2,
       "version_minor": 0
      },
      "text/plain": [
       "Validation: |                                                                                                 …"
      ]
     },
     "metadata": {},
     "output_type": "display_data"
    },
    {
     "data": {
      "application/vnd.jupyter.widget-view+json": {
       "model_id": "cc093184bb844500a2fda4b8f91734c9",
       "version_major": 2,
       "version_minor": 0
      },
      "text/plain": [
       "Validation: |                                                                                                 …"
      ]
     },
     "metadata": {},
     "output_type": "display_data"
    },
    {
     "data": {
      "application/vnd.jupyter.widget-view+json": {
       "model_id": "026842f5e2384e9186db6a682bc04efa",
       "version_major": 2,
       "version_minor": 0
      },
      "text/plain": [
       "Validation: |                                                                                                 …"
      ]
     },
     "metadata": {},
     "output_type": "display_data"
    },
    {
     "data": {
      "application/vnd.jupyter.widget-view+json": {
       "model_id": "89be392319bc4328a4427d98c88642c1",
       "version_major": 2,
       "version_minor": 0
      },
      "text/plain": [
       "Validation: |                                                                                                 …"
      ]
     },
     "metadata": {},
     "output_type": "display_data"
    },
    {
     "data": {
      "application/vnd.jupyter.widget-view+json": {
       "model_id": "1ebfcee30a7545c1b754ae169a3ad962",
       "version_major": 2,
       "version_minor": 0
      },
      "text/plain": [
       "Validation: |                                                                                                 …"
      ]
     },
     "metadata": {},
     "output_type": "display_data"
    },
    {
     "data": {
      "application/vnd.jupyter.widget-view+json": {
       "model_id": "0817aec92d994df994c954737b3e3138",
       "version_major": 2,
       "version_minor": 0
      },
      "text/plain": [
       "Validation: |                                                                                                 …"
      ]
     },
     "metadata": {},
     "output_type": "display_data"
    },
    {
     "data": {
      "application/vnd.jupyter.widget-view+json": {
       "model_id": "e764f087fc2841949074860d248c1dd5",
       "version_major": 2,
       "version_minor": 0
      },
      "text/plain": [
       "Validation: |                                                                                                 …"
      ]
     },
     "metadata": {},
     "output_type": "display_data"
    },
    {
     "data": {
      "application/vnd.jupyter.widget-view+json": {
       "model_id": "7d792261f09f40efa012af07fb0fd0bb",
       "version_major": 2,
       "version_minor": 0
      },
      "text/plain": [
       "Validation: |                                                                                                 …"
      ]
     },
     "metadata": {},
     "output_type": "display_data"
    },
    {
     "data": {
      "application/vnd.jupyter.widget-view+json": {
       "model_id": "1fa7187d44e245d4a5538ac105631edc",
       "version_major": 2,
       "version_minor": 0
      },
      "text/plain": [
       "Validation: |                                                                                                 …"
      ]
     },
     "metadata": {},
     "output_type": "display_data"
    },
    {
     "data": {
      "application/vnd.jupyter.widget-view+json": {
       "model_id": "0c432e8865da4cc39d5c1c2c0e7c6538",
       "version_major": 2,
       "version_minor": 0
      },
      "text/plain": [
       "Validation: |                                                                                                 …"
      ]
     },
     "metadata": {},
     "output_type": "display_data"
    },
    {
     "data": {
      "application/vnd.jupyter.widget-view+json": {
       "model_id": "a5e8f32339844789801441c02090dc54",
       "version_major": 2,
       "version_minor": 0
      },
      "text/plain": [
       "Validation: |                                                                                                 …"
      ]
     },
     "metadata": {},
     "output_type": "display_data"
    },
    {
     "data": {
      "application/vnd.jupyter.widget-view+json": {
       "model_id": "ee995a8cced34d1380880102d2cdb894",
       "version_major": 2,
       "version_minor": 0
      },
      "text/plain": [
       "Validation: |                                                                                                 …"
      ]
     },
     "metadata": {},
     "output_type": "display_data"
    },
    {
     "data": {
      "application/vnd.jupyter.widget-view+json": {
       "model_id": "27047b221dc24558b59c55215fe76492",
       "version_major": 2,
       "version_minor": 0
      },
      "text/plain": [
       "Validation: |                                                                                                 …"
      ]
     },
     "metadata": {},
     "output_type": "display_data"
    },
    {
     "data": {
      "application/vnd.jupyter.widget-view+json": {
       "model_id": "f0c33d3a788d4b94a2f0111893dbf9ef",
       "version_major": 2,
       "version_minor": 0
      },
      "text/plain": [
       "Validation: |                                                                                                 …"
      ]
     },
     "metadata": {},
     "output_type": "display_data"
    },
    {
     "data": {
      "application/vnd.jupyter.widget-view+json": {
       "model_id": "8b82946efc32455cb4b17aa18a12ff33",
       "version_major": 2,
       "version_minor": 0
      },
      "text/plain": [
       "Validation: |                                                                                                 …"
      ]
     },
     "metadata": {},
     "output_type": "display_data"
    },
    {
     "data": {
      "application/vnd.jupyter.widget-view+json": {
       "model_id": "a39b6a3e393d4fabb97863ce7d464f4c",
       "version_major": 2,
       "version_minor": 0
      },
      "text/plain": [
       "Validation: |                                                                                                 …"
      ]
     },
     "metadata": {},
     "output_type": "display_data"
    },
    {
     "data": {
      "application/vnd.jupyter.widget-view+json": {
       "model_id": "39212ee73ddb44828df3ce96a108431d",
       "version_major": 2,
       "version_minor": 0
      },
      "text/plain": [
       "Validation: |                                                                                                 …"
      ]
     },
     "metadata": {},
     "output_type": "display_data"
    },
    {
     "data": {
      "application/vnd.jupyter.widget-view+json": {
       "model_id": "bca37c65f631409db5601885f2a79735",
       "version_major": 2,
       "version_minor": 0
      },
      "text/plain": [
       "Validation: |                                                                                                 …"
      ]
     },
     "metadata": {},
     "output_type": "display_data"
    },
    {
     "data": {
      "application/vnd.jupyter.widget-view+json": {
       "model_id": "fd5331d8b91246bca816b5c939e85d7a",
       "version_major": 2,
       "version_minor": 0
      },
      "text/plain": [
       "Validation: |                                                                                                 …"
      ]
     },
     "metadata": {},
     "output_type": "display_data"
    },
    {
     "data": {
      "application/vnd.jupyter.widget-view+json": {
       "model_id": "86d3b1f3c5a14cf1a573b56e570e7e1d",
       "version_major": 2,
       "version_minor": 0
      },
      "text/plain": [
       "Validation: |                                                                                                 …"
      ]
     },
     "metadata": {},
     "output_type": "display_data"
    },
    {
     "data": {
      "application/vnd.jupyter.widget-view+json": {
       "model_id": "ccc8e2fec40341ecbab464114ba8a5ed",
       "version_major": 2,
       "version_minor": 0
      },
      "text/plain": [
       "Validation: |                                                                                                 …"
      ]
     },
     "metadata": {},
     "output_type": "display_data"
    },
    {
     "data": {
      "application/vnd.jupyter.widget-view+json": {
       "model_id": "55d86e86cc8040bfbe02c659cbe290c2",
       "version_major": 2,
       "version_minor": 0
      },
      "text/plain": [
       "Validation: |                                                                                                 …"
      ]
     },
     "metadata": {},
     "output_type": "display_data"
    },
    {
     "data": {
      "application/vnd.jupyter.widget-view+json": {
       "model_id": "ccdeeabe9f104836a260a416de95bc0b",
       "version_major": 2,
       "version_minor": 0
      },
      "text/plain": [
       "Validation: |                                                                                                 …"
      ]
     },
     "metadata": {},
     "output_type": "display_data"
    },
    {
     "data": {
      "application/vnd.jupyter.widget-view+json": {
       "model_id": "a33e8c9ff6454ed391777651b3e08861",
       "version_major": 2,
       "version_minor": 0
      },
      "text/plain": [
       "Validation: |                                                                                                 …"
      ]
     },
     "metadata": {},
     "output_type": "display_data"
    },
    {
     "data": {
      "application/vnd.jupyter.widget-view+json": {
       "model_id": "45c65d6841bc41c0897b576c814f8154",
       "version_major": 2,
       "version_minor": 0
      },
      "text/plain": [
       "Validation: |                                                                                                 …"
      ]
     },
     "metadata": {},
     "output_type": "display_data"
    },
    {
     "data": {
      "application/vnd.jupyter.widget-view+json": {
       "model_id": "8215627672194364b23a01a06f2e92aa",
       "version_major": 2,
       "version_minor": 0
      },
      "text/plain": [
       "Validation: |                                                                                                 …"
      ]
     },
     "metadata": {},
     "output_type": "display_data"
    },
    {
     "data": {
      "application/vnd.jupyter.widget-view+json": {
       "model_id": "081f65d560e041fd8a8a4447d8409cd6",
       "version_major": 2,
       "version_minor": 0
      },
      "text/plain": [
       "Validation: |                                                                                                 …"
      ]
     },
     "metadata": {},
     "output_type": "display_data"
    },
    {
     "data": {
      "application/vnd.jupyter.widget-view+json": {
       "model_id": "bcc60dc03ec54db1b785342992850c9b",
       "version_major": 2,
       "version_minor": 0
      },
      "text/plain": [
       "Validation: |                                                                                                 …"
      ]
     },
     "metadata": {},
     "output_type": "display_data"
    },
    {
     "data": {
      "application/vnd.jupyter.widget-view+json": {
       "model_id": "4ee48dd29a184f56803e1271538bb054",
       "version_major": 2,
       "version_minor": 0
      },
      "text/plain": [
       "Validation: |                                                                                                 …"
      ]
     },
     "metadata": {},
     "output_type": "display_data"
    },
    {
     "data": {
      "application/vnd.jupyter.widget-view+json": {
       "model_id": "0cb5c70090814745ae2c2f4fdc94e3d5",
       "version_major": 2,
       "version_minor": 0
      },
      "text/plain": [
       "Validation: |                                                                                                 …"
      ]
     },
     "metadata": {},
     "output_type": "display_data"
    },
    {
     "data": {
      "application/vnd.jupyter.widget-view+json": {
       "model_id": "141d1c3ab1dd4b56afdc025bfdb38d0e",
       "version_major": 2,
       "version_minor": 0
      },
      "text/plain": [
       "Validation: |                                                                                                 …"
      ]
     },
     "metadata": {},
     "output_type": "display_data"
    },
    {
     "data": {
      "application/vnd.jupyter.widget-view+json": {
       "model_id": "182d7a3042b8449b8275cf75ab05e8de",
       "version_major": 2,
       "version_minor": 0
      },
      "text/plain": [
       "Validation: |                                                                                                 …"
      ]
     },
     "metadata": {},
     "output_type": "display_data"
    },
    {
     "data": {
      "application/vnd.jupyter.widget-view+json": {
       "model_id": "9f31700f9e934c80be787e256f5c0b29",
       "version_major": 2,
       "version_minor": 0
      },
      "text/plain": [
       "Validation: |                                                                                                 …"
      ]
     },
     "metadata": {},
     "output_type": "display_data"
    },
    {
     "data": {
      "application/vnd.jupyter.widget-view+json": {
       "model_id": "66b7e47ec3bc481b83babf5ccc0c6b2e",
       "version_major": 2,
       "version_minor": 0
      },
      "text/plain": [
       "Validation: |                                                                                                 …"
      ]
     },
     "metadata": {},
     "output_type": "display_data"
    },
    {
     "data": {
      "application/vnd.jupyter.widget-view+json": {
       "model_id": "a0cf7e9806554b44afcf79ccd099b548",
       "version_major": 2,
       "version_minor": 0
      },
      "text/plain": [
       "Validation: |                                                                                                 …"
      ]
     },
     "metadata": {},
     "output_type": "display_data"
    },
    {
     "data": {
      "application/vnd.jupyter.widget-view+json": {
       "model_id": "5a76c66fc6c84265a0c5486244e9fa3e",
       "version_major": 2,
       "version_minor": 0
      },
      "text/plain": [
       "Validation: |                                                                                                 …"
      ]
     },
     "metadata": {},
     "output_type": "display_data"
    },
    {
     "data": {
      "application/vnd.jupyter.widget-view+json": {
       "model_id": "54ce3444283b4c74b0440bce963f307f",
       "version_major": 2,
       "version_minor": 0
      },
      "text/plain": [
       "Validation: |                                                                                                 …"
      ]
     },
     "metadata": {},
     "output_type": "display_data"
    },
    {
     "data": {
      "application/vnd.jupyter.widget-view+json": {
       "model_id": "0e47422420994eeb8721afbac391ea6d",
       "version_major": 2,
       "version_minor": 0
      },
      "text/plain": [
       "Validation: |                                                                                                 …"
      ]
     },
     "metadata": {},
     "output_type": "display_data"
    },
    {
     "data": {
      "application/vnd.jupyter.widget-view+json": {
       "model_id": "a927660290c040e1bac303f4e7884599",
       "version_major": 2,
       "version_minor": 0
      },
      "text/plain": [
       "Validation: |                                                                                                 …"
      ]
     },
     "metadata": {},
     "output_type": "display_data"
    },
    {
     "data": {
      "application/vnd.jupyter.widget-view+json": {
       "model_id": "1554e28bdd2f4744bd4f30677da19fb3",
       "version_major": 2,
       "version_minor": 0
      },
      "text/plain": [
       "Validation: |                                                                                                 …"
      ]
     },
     "metadata": {},
     "output_type": "display_data"
    },
    {
     "name": "stderr",
     "output_type": "stream",
     "text": [
      "`Trainer.fit` stopped: `max_epochs=100` reached.\n",
      "\u001b[32m2024-11-09 11:25:35.451\u001b[0m | \u001b[1mINFO    \u001b[0m | \u001b[36msrc.ranker.trainer\u001b[0m:\u001b[36mon_fit_end\u001b[0m:\u001b[36m168\u001b[0m - \u001b[1mLogging classification metrics...\u001b[0m\n",
      "\u001b[32m2024-11-09 11:25:54.976\u001b[0m | \u001b[1mINFO    \u001b[0m | \u001b[36m__main__\u001b[0m:\u001b[36m<module>\u001b[0m:\u001b[36m36\u001b[0m - \u001b[1mLogs available at /Users/dvq/frostmourne/recsys-mvp/notebooks/data/034-rerun-enable-llm-item-tags/logs/overfit/lightning_logs/version_0\u001b[0m\n"
     ]
    }
   ],
   "source": [
    "early_stopping = EarlyStopping(\n",
    "    monitor=\"val_loss\", patience=10, mode=\"min\", verbose=False\n",
    ")\n",
    "\n",
    "model = init_model(\n",
    "    n_users,\n",
    "    n_items,\n",
    "    args.embedding_dim,\n",
    "    args.item_sequence_ts_bucket_size,\n",
    "    args.bucket_embedding_dim,\n",
    "    item_feature_size,\n",
    "    dropout=0,\n",
    ")\n",
    "lit_model = LitRanker(\n",
    "    model,\n",
    "    learning_rate=args.learning_rate,\n",
    "    l2_reg=0.0,\n",
    "    log_dir=args.notebook_persist_dp,\n",
    ")\n",
    "\n",
    "log_dir = f\"{args.notebook_persist_dp}/logs/overfit\"\n",
    "\n",
    "# train model\n",
    "trainer = L.Trainer(\n",
    "    default_root_dir=log_dir,\n",
    "    accelerator=args.device if args.device else \"auto\",\n",
    "    max_epochs=100,\n",
    "    overfit_batches=1,\n",
    "    callbacks=[early_stopping],\n",
    ")\n",
    "trainer.fit(\n",
    "    model=lit_model,\n",
    "    train_dataloaders=train_loader,\n",
    "    val_dataloaders=train_loader,\n",
    ")\n",
    "logger.info(f\"Logs available at {trainer.log_dir}\")"
   ]
  },
  {
   "cell_type": "code",
   "execution_count": 25,
   "id": "b2cc9ae0-a993-4815-bebd-85cc51e68e65",
   "metadata": {},
   "outputs": [
    {
     "data": {
      "text/html": [
       "\n",
       "      <iframe id=\"tensorboard-frame-5301532f034ade8f\" width=\"100%\" height=\"800\" frameborder=\"0\">\n",
       "      </iframe>\n",
       "      <script>\n",
       "        (function() {\n",
       "          const frame = document.getElementById(\"tensorboard-frame-5301532f034ade8f\");\n",
       "          const url = new URL(\"/\", window.location);\n",
       "          const port = 6006;\n",
       "          if (port) {\n",
       "            url.port = port;\n",
       "          }\n",
       "          frame.src = url;\n",
       "        })();\n",
       "      </script>\n",
       "    "
      ],
      "text/plain": [
       "<IPython.core.display.HTML object>"
      ]
     },
     "metadata": {},
     "output_type": "display_data"
    }
   ],
   "source": [
    "%tensorboard --logdir $trainer.log_dir"
   ]
  },
  {
   "cell_type": "markdown",
   "id": "65c7e4af-5c66-454e-9e2c-2ca134f4e1cf",
   "metadata": {},
   "source": [
    "##### Fit on all data"
   ]
  },
  {
   "cell_type": "code",
   "execution_count": 26,
   "id": "65d821e0-3255-4947-b720-81a2f83a4911",
   "metadata": {},
   "outputs": [
    {
     "name": "stderr",
     "output_type": "stream",
     "text": [
      "\u001b[32m2024-11-09 11:25:56.275\u001b[0m | \u001b[1mINFO    \u001b[0m | \u001b[36m__main__\u001b[0m:\u001b[36m<module>\u001b[0m:\u001b[36m4\u001b[0m - \u001b[1mMean std over categorical and numerical features: 0.9988587498664856\u001b[0m\n"
     ]
    }
   ],
   "source": [
    "all_items_df = train_df.drop_duplicates(subset=[\"item_indice\"])\n",
    "all_items_indices = all_items_df[\"item_indice\"].values\n",
    "all_items_features = item_metadata_pipeline.transform(all_items_df).astype(np.float32)\n",
    "logger.info(\n",
    "    f\"Mean std over categorical and numerical features: {all_items_features.std(axis=0).mean()}\"\n",
    ")\n",
    "if args.rc.use_sbert_features:\n",
    "    all_sbert_vectors = ann_index.get_vector_by_ids(all_items_indices.tolist()).astype(\n",
    "        np.float32\n",
    "    )\n",
    "    logger.info(f\"Mean std over text features: {all_sbert_vectors.std(axis=0).mean()}\")\n",
    "    all_items_features = np.hstack([all_items_features, all_sbert_vectors])"
   ]
  },
  {
   "cell_type": "code",
   "execution_count": 27,
   "id": "6fef36c3-5263-4d91-8d7f-364d45c20719",
   "metadata": {
    "scrolled": true
   },
   "outputs": [
    {
     "name": "stderr",
     "output_type": "stream",
     "text": [
      "GPU available: True (mps), used: True\n",
      "TPU available: False, using: 0 TPU cores\n",
      "HPU available: False, using: 0 HPUs\n",
      "\n",
      "  | Name  | Type   | Params | Mode \n",
      "-----------------------------------------\n",
      "0 | model | Ranker | 3.3 M  | train\n",
      "-----------------------------------------\n",
      "3.3 M     Trainable params\n",
      "0         Non-trainable params\n",
      "3.3 M     Total params\n",
      "13.318    Total estimated model params size (MB)\n",
      "15        Modules in train mode\n",
      "0         Modules in eval mode\n"
     ]
    },
    {
     "data": {
      "application/vnd.jupyter.widget-view+json": {
       "model_id": "",
       "version_major": 2,
       "version_minor": 0
      },
      "text/plain": [
       "Sanity Checking: |                                                                                            …"
      ]
     },
     "metadata": {},
     "output_type": "display_data"
    },
    {
     "name": "stderr",
     "output_type": "stream",
     "text": [
      "/Users/dvq/frostmourne/recsys-mvp/.venv/lib/python3.11/site-packages/lightning/pytorch/trainer/connectors/data_connector.py:424: PossibleUserWarning:\n",
      "\n",
      "The 'val_dataloader' does not have many workers which may be a bottleneck. Consider increasing the value of the `num_workers` argument` to `num_workers=10` in the `DataLoader` to improve performance.\n",
      "\n",
      "/Users/dvq/frostmourne/recsys-mvp/.venv/lib/python3.11/site-packages/lightning/pytorch/trainer/connectors/data_connector.py:424: PossibleUserWarning:\n",
      "\n",
      "The 'train_dataloader' does not have many workers which may be a bottleneck. Consider increasing the value of the `num_workers` argument` to `num_workers=10` in the `DataLoader` to improve performance.\n",
      "\n"
     ]
    },
    {
     "data": {
      "application/vnd.jupyter.widget-view+json": {
       "model_id": "2680e8c17162440bb0a6c00dd64f7ce0",
       "version_major": 2,
       "version_minor": 0
      },
      "text/plain": [
       "Training: |                                                                                                   …"
      ]
     },
     "metadata": {},
     "output_type": "display_data"
    },
    {
     "data": {
      "application/vnd.jupyter.widget-view+json": {
       "model_id": "",
       "version_major": 2,
       "version_minor": 0
      },
      "text/plain": [
       "Validation: |                                                                                                 …"
      ]
     },
     "metadata": {},
     "output_type": "display_data"
    },
    {
     "name": "stderr",
     "output_type": "stream",
     "text": [
      "`Trainer.fit` stopped: `max_epochs=1` reached.\n",
      "\u001b[32m2024-11-09 11:26:57.881\u001b[0m | \u001b[1mINFO    \u001b[0m | \u001b[36msrc.ranker.trainer\u001b[0m:\u001b[36mon_fit_end\u001b[0m:\u001b[36m162\u001b[0m - \u001b[1mLoading best model from /Users/dvq/frostmourne/recsys-mvp/notebooks/data/034-rerun-enable-llm-item-tags/checkpoints/best-checkpoint.ckpt...\u001b[0m\n",
      "\u001b[32m2024-11-09 11:26:58.128\u001b[0m | \u001b[1mINFO    \u001b[0m | \u001b[36msrc.ranker.trainer\u001b[0m:\u001b[36mon_fit_end\u001b[0m:\u001b[36m168\u001b[0m - \u001b[1mLogging classification metrics...\u001b[0m\n",
      "\u001b[32m2024-11-09 11:26:59.048\u001b[0m | \u001b[1mINFO    \u001b[0m | \u001b[36msrc.ranker.trainer\u001b[0m:\u001b[36mon_fit_end\u001b[0m:\u001b[36m171\u001b[0m - \u001b[1mLogging ranking metrics...\u001b[0m\n"
     ]
    },
    {
     "data": {
      "application/vnd.jupyter.widget-view+json": {
       "model_id": "6b7ef91141954317b8617cf3f85bd16b",
       "version_major": 2,
       "version_minor": 0
      },
      "text/plain": [
       "Generating recommendations:   0%|          | 0/177 [00:00<?, ?it/s]"
      ]
     },
     "metadata": {},
     "output_type": "display_data"
    },
    {
     "name": "stderr",
     "output_type": "stream",
     "text": [
      "2024/11/09 11:27:40 INFO mlflow.tracking._tracking_service.client: 🏃 View run 034-rerun-enable-llm-item-tags at: http://localhost:5002/#/experiments/3/runs/b28c5c69090b4c09a422264aa4e755d4.\n",
      "2024/11/09 11:27:40 INFO mlflow.tracking._tracking_service.client: 🧪 View experiment at: http://localhost:5002/#/experiments/3.\n"
     ]
    }
   ],
   "source": [
    "# papermill_description=fit-model\n",
    "early_stopping = EarlyStopping(\n",
    "    monitor=\"val_loss\", patience=args.early_stopping_patience, mode=\"min\", verbose=False\n",
    ")\n",
    "\n",
    "checkpoint_callback = ModelCheckpoint(\n",
    "    dirpath=f\"{args.notebook_persist_dp}/checkpoints\",\n",
    "    filename=\"best-checkpoint\",\n",
    "    save_top_k=1,\n",
    "    monitor=\"val_loss\",\n",
    "    mode=\"min\",\n",
    ")\n",
    "\n",
    "model = init_model(\n",
    "    n_users,\n",
    "    n_items,\n",
    "    args.embedding_dim,\n",
    "    args.item_sequence_ts_bucket_size,\n",
    "    args.bucket_embedding_dim,\n",
    "    item_feature_size,\n",
    "    dropout=args.dropout,\n",
    "    item_embedding=pretrained_item_embedding,\n",
    ")\n",
    "lit_model = LitRanker(\n",
    "    model,\n",
    "    learning_rate=args.learning_rate,\n",
    "    l2_reg=args.l2_reg,\n",
    "    log_dir=args.notebook_persist_dp,\n",
    "    evaluate_ranking=True,\n",
    "    idm=idm,\n",
    "    all_items_indices=all_items_indices,\n",
    "    all_items_features=all_items_features,\n",
    "    args=args,\n",
    "    neg_to_pos_ratio=args.neg_to_pos_ratio,\n",
    "    checkpoint_callback=checkpoint_callback,\n",
    ")\n",
    "\n",
    "log_dir = f\"{args.notebook_persist_dp}/logs/run\"\n",
    "\n",
    "# train model\n",
    "trainer = L.Trainer(\n",
    "    default_root_dir=log_dir,\n",
    "    max_epochs=args.max_epochs,\n",
    "    callbacks=[early_stopping, checkpoint_callback],\n",
    "    accelerator=args.device if args.device else \"auto\",\n",
    "    logger=args._mlf_logger if args.log_to_mlflow else None,\n",
    ")\n",
    "trainer.fit(\n",
    "    model=lit_model,\n",
    "    train_dataloaders=train_loader,\n",
    "    val_dataloaders=val_loader,\n",
    ")"
   ]
  },
  {
   "cell_type": "code",
   "execution_count": 28,
   "id": "af44bf35-e7c7-4718-97b8-238e89b7f3f0",
   "metadata": {
    "editable": true,
    "scrolled": true,
    "slideshow": {
     "slide_type": ""
    },
    "tags": []
   },
   "outputs": [
    {
     "name": "stderr",
     "output_type": "stream",
     "text": [
      "\u001b[32m2024-11-09 11:27:40.873\u001b[0m | \u001b[1mINFO    \u001b[0m | \u001b[36m__main__\u001b[0m:\u001b[36m<module>\u001b[0m:\u001b[36m1\u001b[0m - \u001b[1mTest predicting after training with user_id = AEYFXFWIRBR7NZXIO3MQKGQVBRAA and parent_asin = B07HVPZP1Q\u001b[0m\n"
     ]
    },
    {
     "data": {
      "text/plain": [
       "Ranker(\n",
       "  (item_embedding): Embedding(4631, 128, padding_idx=4630)\n",
       "  (user_embedding): Embedding(19578, 128)\n",
       "  (item_sequence_ts_bucket_embedding): Embedding(11, 16, padding_idx=10)\n",
       "  (gru): GRU(144, 128, batch_first=True)\n",
       "  (relu): ReLU()\n",
       "  (dropout): Dropout(p=0.3, inplace=False)\n",
       "  (item_feature_tower): Sequential(\n",
       "    (0): Linear(in_features=461, out_features=128, bias=True)\n",
       "    (1): BatchNorm1d(128, eps=1e-05, momentum=0.1, affine=True, track_running_stats=True)\n",
       "    (2): ReLU()\n",
       "    (3): Dropout(p=0.3, inplace=False)\n",
       "  )\n",
       "  (fc_rating): Sequential(\n",
       "    (0): Linear(in_features=512, out_features=128, bias=True)\n",
       "    (1): BatchNorm1d(128, eps=1e-05, momentum=0.1, affine=True, track_running_stats=True)\n",
       "    (2): ReLU()\n",
       "    (3): Dropout(p=0.3, inplace=False)\n",
       "    (4): Linear(in_features=128, out_features=1, bias=True)\n",
       "    (5): Sigmoid()\n",
       "  )\n",
       ")"
      ]
     },
     "execution_count": 28,
     "metadata": {},
     "output_type": "execute_result"
    }
   ],
   "source": [
    "logger.info(\n",
    "    f\"Test predicting after training with {args.user_col} = {user_id} and {args.item_col} = {item_id}\"\n",
    ")\n",
    "model.eval()\n",
    "model.predict(user, item_sequence, item_sequence_ts_bucket, item_feature, item)\n",
    "model.train()"
   ]
  },
  {
   "cell_type": "markdown",
   "id": "f8e1dd22-bcb9-4582-96d0-30acc4e8b790",
   "metadata": {
    "editable": true,
    "slideshow": {
     "slide_type": ""
    },
    "tags": []
   },
   "source": [
    "# Load best checkpoint"
   ]
  },
  {
   "cell_type": "code",
   "execution_count": 29,
   "id": "092427a8-ac4e-4752-a0ee-10729b6e563c",
   "metadata": {
    "scrolled": true
   },
   "outputs": [
    {
     "name": "stderr",
     "output_type": "stream",
     "text": [
      "\u001b[32m2024-11-09 11:27:40.909\u001b[0m | \u001b[1mINFO    \u001b[0m | \u001b[36m__main__\u001b[0m:\u001b[36m<module>\u001b[0m:\u001b[36m1\u001b[0m - \u001b[1mLoading best checkpoint from /Users/dvq/frostmourne/recsys-mvp/notebooks/data/034-rerun-enable-llm-item-tags/checkpoints/best-checkpoint.ckpt...\u001b[0m\n"
     ]
    }
   ],
   "source": [
    "logger.info(f\"Loading best checkpoint from {checkpoint_callback.best_model_path}...\")\n",
    "args.best_checkpoint_path = checkpoint_callback.best_model_path\n",
    "\n",
    "best_trainer = LitRanker.load_from_checkpoint(\n",
    "    checkpoint_callback.best_model_path,\n",
    "    model=init_model(\n",
    "        n_users,\n",
    "        n_items,\n",
    "        args.embedding_dim,\n",
    "        args.item_sequence_ts_bucket_size,\n",
    "        args.bucket_embedding_dim,\n",
    "        item_feature_size,\n",
    "        dropout=0,\n",
    "        item_embedding=pretrained_item_embedding,\n",
    "    ),\n",
    ")"
   ]
  },
  {
   "cell_type": "code",
   "execution_count": 30,
   "id": "e68989e7-cd28-4cb3-9a28-5bd477bb67c4",
   "metadata": {},
   "outputs": [],
   "source": [
    "best_model = best_trainer.model.to(lit_model.device)"
   ]
  },
  {
   "cell_type": "code",
   "execution_count": 31,
   "id": "72062d94-6ee8-480f-b7c6-9dcae2ceeb8b",
   "metadata": {
    "scrolled": true
   },
   "outputs": [
    {
     "data": {
      "text/plain": [
       "Ranker(\n",
       "  (item_embedding): Embedding(4631, 128, padding_idx=4630)\n",
       "  (user_embedding): Embedding(19578, 128)\n",
       "  (item_sequence_ts_bucket_embedding): Embedding(11, 16, padding_idx=10)\n",
       "  (gru): GRU(144, 128, batch_first=True)\n",
       "  (relu): ReLU()\n",
       "  (dropout): Dropout(p=0, inplace=False)\n",
       "  (item_feature_tower): Sequential(\n",
       "    (0): Linear(in_features=461, out_features=128, bias=True)\n",
       "    (1): BatchNorm1d(128, eps=1e-05, momentum=0.1, affine=True, track_running_stats=True)\n",
       "    (2): ReLU()\n",
       "    (3): Dropout(p=0, inplace=False)\n",
       "  )\n",
       "  (fc_rating): Sequential(\n",
       "    (0): Linear(in_features=512, out_features=128, bias=True)\n",
       "    (1): BatchNorm1d(128, eps=1e-05, momentum=0.1, affine=True, track_running_stats=True)\n",
       "    (2): ReLU()\n",
       "    (3): Dropout(p=0, inplace=False)\n",
       "    (4): Linear(in_features=128, out_features=1, bias=True)\n",
       "    (5): Sigmoid()\n",
       "  )\n",
       ")"
      ]
     },
     "execution_count": 31,
     "metadata": {},
     "output_type": "execute_result"
    }
   ],
   "source": [
    "best_model.eval()\n",
    "best_model.predict(user, item_sequence, item_sequence_ts_bucket, item_feature, item)\n",
    "best_model.train()"
   ]
  },
  {
   "cell_type": "markdown",
   "id": "26afc39d-5cbd-4ea4-9484-f6419b460bde",
   "metadata": {
    "scrolled": true
   },
   "source": [
    "### Persist artifacts"
   ]
  },
  {
   "cell_type": "code",
   "execution_count": null,
   "id": "275bcb81-bf50-4757-9e63-5c7a317b276f",
   "metadata": {},
   "outputs": [],
   "source": [
    "if args.log_to_mlflow:\n",
    "    # Persist id_mapping so that at inference we can predict based on item_ids (string) instead of item_index\n",
    "    run_id = trainer.logger.run_id\n",
    "    mlf_client = trainer.logger.experiment\n",
    "    mlf_client.log_artifact(run_id, idm_fp)\n",
    "    # Persist item_feature_metadata pipeline\n",
    "    mlf_client.log_artifact(run_id, args.item_metadata_pipeline_fp)\n",
    "\n",
    "    # Persist model architecture\n",
    "    model_architecture_fp = f\"{args.notebook_persist_dp}/model_architecture.txt\"\n",
    "    with open(model_architecture_fp, \"w\") as f:\n",
    "        f.write(repr(model))\n",
    "    mlf_client.log_artifact(run_id, model_architecture_fp)"
   ]
  },
  {
   "cell_type": "markdown",
   "id": "73a53735-cada-4b16-b6ec-b958e20d8093",
   "metadata": {},
   "source": [
    "### Wrap inference function and register best checkpoint as MLflow model"
   ]
  },
  {
   "cell_type": "code",
   "execution_count": 33,
   "id": "fc1da4ca-1616-4f57-99fb-cb851c535a57",
   "metadata": {},
   "outputs": [],
   "source": [
    "inferrer = RankerInferenceWrapper(best_model)"
   ]
  },
  {
   "cell_type": "code",
   "execution_count": 34,
   "id": "f91c26a5-d86e-4d3a-b3a2-87e6a5e88427",
   "metadata": {},
   "outputs": [],
   "source": [
    "def generate_sample_item_features():\n",
    "    sample_row = train_df.iloc[0].fillna(0)\n",
    "    output = dict()\n",
    "    for col in args.rc.item_feature_cols:\n",
    "        v = sample_row[col]\n",
    "        if isinstance(v, np.ndarray):\n",
    "            v = \"__\".join(\n",
    "                sample_row[col].tolist()\n",
    "            )  # Workaround to avoid MLflow Got error: Per-column arrays must each be 1-dimensional\n",
    "        output[col] = [v]\n",
    "    return output"
   ]
  },
  {
   "cell_type": "code",
   "execution_count": 35,
   "id": "a21791a9-d5fc-4abe-bc3c-820aba9f0759",
   "metadata": {},
   "outputs": [
    {
     "data": {
      "text/plain": [
       "array([0.7180169], dtype=float32)"
      ]
     },
     "execution_count": 35,
     "metadata": {},
     "output_type": "execute_result"
    }
   ],
   "source": [
    "sample_input = {\n",
    "    args.user_col: [idm.get_user_id(0)],\n",
    "    \"item_sequence\": [\",\".join([idm.get_item_id(0), idm.get_item_id(1)])],\n",
    "    \"item_sequence_ts\": [\n",
    "        \"1095133116,109770848\"\n",
    "    ],  # Here we input unix timestamp seconds instead of timestamp bucket because we need to calculate the bucket\n",
    "    # **{col: [train_df.iloc[0].fillna(0)[col]] for col in args.item_feature_cols},\n",
    "    **generate_sample_item_features(),\n",
    "    args.item_col: [idm.get_item_id(0)],\n",
    "}\n",
    "sample_output = inferrer.infer([0], [[0, 1]], [[2, 0]], [train_item_features[0]], [0])\n",
    "sample_output"
   ]
  },
  {
   "cell_type": "code",
   "execution_count": 36,
   "id": "b24b5cf4-5e51-4641-bdfe-6ce289344bf6",
   "metadata": {},
   "outputs": [
    {
     "data": {
      "text/plain": [
       "{'user_id': ['AE225O22SA7DLBOGOEIFL7FT5VYQ'],\n",
       " 'item_sequence': ['0375869026,9625990674'],\n",
       " 'item_sequence_ts': ['1095133116,109770848'],\n",
       " 'main_category': ['Video Games'],\n",
       " 'categories': ['Video Games__Legacy Systems__PlayStation Systems__PlayStation 3__Accessories__Controllers'],\n",
       " 'price': ['49.99'],\n",
       " 'parent_asin_rating_cnt_365d': [76.0],\n",
       " 'parent_asin_rating_avg_prev_rating_365d': [4.592105263157895],\n",
       " 'parent_asin_rating_cnt_90d': [10.0],\n",
       " 'parent_asin_rating_avg_prev_rating_90d': [4.3],\n",
       " 'parent_asin_rating_cnt_30d': [3.0],\n",
       " 'parent_asin_rating_avg_prev_rating_30d': [5.0],\n",
       " 'parent_asin_rating_cnt_7d': [1.0],\n",
       " 'parent_asin_rating_avg_prev_rating_7d': [5.0],\n",
       " 'tags': ['Wireless Controller__PlayStation 3__Multimedia Control__Gaming Accessory__Comfort Grip'],\n",
       " 'parent_asin': ['0375869026']}"
      ]
     },
     "execution_count": 36,
     "metadata": {},
     "output_type": "execute_result"
    }
   ],
   "source": [
    "sample_input"
   ]
  },
  {
   "cell_type": "code",
   "execution_count": 37,
   "id": "de2c043a-f777-4ade-ab80-cfa4d90aafa8",
   "metadata": {
    "scrolled": true
   },
   "outputs": [
    {
     "name": "stderr",
     "output_type": "stream",
     "text": [
      "/Users/dvq/frostmourne/recsys-mvp/.venv/lib/python3.11/site-packages/mlflow/models/utils.py:523: FutureWarning:\n",
      "\n",
      "Since MLflow 2.16.0, we no longer convert dictionary input example to pandas Dataframe, and directly save it as a json object. If the model expects a pandas DataFrame input instead, please pass the pandas DataFrame as input example directly.\n",
      "\n"
     ]
    },
    {
     "data": {
      "application/vnd.jupyter.widget-view+json": {
       "model_id": "d25bb9f26213460d9853ef62c9823ca9",
       "version_major": 2,
       "version_minor": 0
      },
      "text/plain": [
       "Downloading artifacts:   0%|          | 0/1 [00:00<?, ?it/s]"
      ]
     },
     "metadata": {},
     "output_type": "display_data"
    },
    {
     "data": {
      "application/vnd.jupyter.widget-view+json": {
       "model_id": "a9278e50c89249a69f7080154bf91602",
       "version_major": 2,
       "version_minor": 0
      },
      "text/plain": [
       "Downloading artifacts:   0%|          | 0/1 [00:00<?, ?it/s]"
      ]
     },
     "metadata": {},
     "output_type": "display_data"
    },
    {
     "name": "stderr",
     "output_type": "stream",
     "text": [
      "Registered model 'ranker' already exists. Creating a new version of this model...\n",
      "2024/11/09 11:27:44 INFO mlflow.store.model_registry.abstract_store: Waiting up to 300 seconds for model version to finish creation. Model name: ranker, version 44\n",
      "Created version '44' of model 'ranker'.\n"
     ]
    },
    {
     "data": {
      "application/vnd.jupyter.widget-view+json": {
       "model_id": "b9b35f07369d40f0bff899b16e4b21f5",
       "version_major": 2,
       "version_minor": 0
      },
      "text/plain": [
       "Downloading artifacts:   0%|          | 0/9 [00:00<?, ?it/s]"
      ]
     },
     "metadata": {},
     "output_type": "display_data"
    },
    {
     "name": "stderr",
     "output_type": "stream",
     "text": [
      "2024/11/09 11:27:45 INFO mlflow.tracking._tracking_service.client: 🏃 View run 034-rerun-enable-llm-item-tags at: http://localhost:5002/#/experiments/3/runs/b28c5c69090b4c09a422264aa4e755d4.\n",
      "2024/11/09 11:27:45 INFO mlflow.tracking._tracking_service.client: 🧪 View experiment at: http://localhost:5002/#/experiments/3.\n"
     ]
    }
   ],
   "source": [
    "if args.log_to_mlflow:\n",
    "    run_id = trainer.logger.run_id\n",
    "    sample_output_np = sample_output\n",
    "    signature = infer_signature(sample_input, sample_output_np)\n",
    "    idm_filename = idm_fp.split(\"/\")[-1]\n",
    "    item_metadata_pipeline_filename = args.item_metadata_pipeline_fp.split(\"/\")[-1]\n",
    "    with mlflow.start_run(run_id=run_id):\n",
    "        mlflow.pyfunc.log_model(\n",
    "            python_model=inferrer,\n",
    "            artifact_path=\"inferrer\",\n",
    "            artifacts={\n",
    "                # We log the id_mapping to the predict function so that it can accept item_id and automatically convert ot item_indice for PyTorch model to use\n",
    "                \"idm\": mlflow.get_artifact_uri(idm_filename),\n",
    "                \"item_metadata_pipeline\": mlflow.get_artifact_uri(\n",
    "                    item_metadata_pipeline_filename\n",
    "                ),\n",
    "            },\n",
    "            model_config={\"use_sbert_features\": args.rc.use_sbert_features},\n",
    "            signature=signature,\n",
    "            input_example=sample_input,\n",
    "            registered_model_name=args.mlf_model_name,\n",
    "        )"
   ]
  },
  {
   "cell_type": "markdown",
   "id": "f95d5150-9851-4e61-b1af-8e619abc9ea4",
   "metadata": {},
   "source": [
    "# Set the newly trained model as champion"
   ]
  },
  {
   "cell_type": "code",
   "execution_count": 38,
   "id": "cbf6428a-bc47-400a-99ac-666abfa4ce63",
   "metadata": {},
   "outputs": [
    {
     "name": "stderr",
     "output_type": "stream",
     "text": [
      "\u001b[32m2024-11-09 11:27:45.198\u001b[0m | \u001b[1mINFO    \u001b[0m | \u001b[36m__main__\u001b[0m:\u001b[36m<module>\u001b[0m:\u001b[36m7\u001b[0m - \u001b[1mAliasing the new model as champion...\u001b[0m\n"
     ]
    }
   ],
   "source": [
    "if args.log_to_mlflow:\n",
    "    val_roc_auc = trainer.logger.experiment.get_run(trainer.logger.run_id).data.metrics[\n",
    "        \"val_roc_auc\"\n",
    "    ]\n",
    "\n",
    "    if val_roc_auc > args.min_roc_auc:\n",
    "        logger.info(f\"Aliasing the new model as champion...\")\n",
    "        model_version = (\n",
    "            mlf_client.get_registered_model(args.mlf_model_name)\n",
    "            .latest_versions[0]\n",
    "            .version\n",
    "        )\n",
    "\n",
    "        mlf_client.set_registered_model_alias(\n",
    "            name=args.mlf_model_name, alias=\"champion\", version=model_version\n",
    "        )\n",
    "\n",
    "        mlf_client.set_model_version_tag(\n",
    "            name=args.mlf_model_name,\n",
    "            version=model_version,\n",
    "            key=\"author\",\n",
    "            value=args.author,\n",
    "        )"
   ]
  },
  {
   "cell_type": "markdown",
   "id": "32096360-c26a-42de-9564-30634fb76eeb",
   "metadata": {},
   "source": [
    "# Clean up"
   ]
  },
  {
   "cell_type": "code",
   "execution_count": 39,
   "id": "e98c6850-e4de-43fa-b132-0b97f138a0ed",
   "metadata": {
    "scrolled": true
   },
   "outputs": [
    {
     "name": "stderr",
     "output_type": "stream",
     "text": [
      "2024/11/09 11:27:45 INFO mlflow.tracking._tracking_service.client: 🏃 View run 034-rerun-enable-llm-item-tags at: http://localhost:5002/#/experiments/3/runs/b28c5c69090b4c09a422264aa4e755d4.\n",
      "2024/11/09 11:27:45 INFO mlflow.tracking._tracking_service.client: 🧪 View experiment at: http://localhost:5002/#/experiments/3.\n"
     ]
    }
   ],
   "source": [
    "all_params = [args]\n",
    "\n",
    "if args.log_to_mlflow:\n",
    "    with mlflow.start_run(run_id=run_id):\n",
    "        for params in all_params:\n",
    "            params_dict = params.dict()\n",
    "            params_ = dict()\n",
    "            for k, v in params_dict.items():\n",
    "                if k == \"top_K\":\n",
    "                    k = \"top_big_K\"\n",
    "                if k == \"top_k\":\n",
    "                    k = \"top_small_k\"\n",
    "                params_[f\"{params.__repr_name__()}.{k}\"] = v\n",
    "            mlflow.log_params(params_)"
   ]
  },
  {
   "cell_type": "code",
   "execution_count": null,
   "id": "30cff81a-484e-4919-be8f-0351cce91a75",
   "metadata": {},
   "outputs": [],
   "source": []
  }
 ],
 "metadata": {
  "kernelspec": {
   "display_name": "Python 3 (ipykernel)",
   "language": "python",
   "name": "python3"
  },
  "language_info": {
   "codemirror_mode": {
    "name": "ipython",
    "version": 3
   },
   "file_extension": ".py",
   "mimetype": "text/x-python",
   "name": "python",
   "nbconvert_exporter": "python",
   "pygments_lexer": "ipython3",
   "version": "3.11.9"
  }
 },
 "nbformat": 4,
 "nbformat_minor": 5
}
