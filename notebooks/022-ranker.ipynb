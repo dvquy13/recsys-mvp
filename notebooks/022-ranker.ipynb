{
 "cells": [
  {
   "cell_type": "markdown",
   "id": "3bf1577c-6f3b-4b1c-a848-8f5e45ff8111",
   "metadata": {},
   "source": [
    "# Ranker that can takes into accound different features"
   ]
  },
  {
   "cell_type": "markdown",
   "id": "9309e017-0449-46ee-b7ca-4c4bcadeedf6",
   "metadata": {},
   "source": [
    "# Set up"
   ]
  },
  {
   "cell_type": "code",
   "execution_count": 1,
   "id": "3c8f6e8d-f776-4d39-898c-d783c5ae3407",
   "metadata": {},
   "outputs": [],
   "source": [
    "%load_ext autoreload\n",
    "%autoreload 2\n",
    "%load_ext tensorboard"
   ]
  },
  {
   "cell_type": "code",
   "execution_count": 2,
   "id": "35b3499d-dc9c-405a-8714-a26341b581e1",
   "metadata": {
    "editable": true,
    "slideshow": {
     "slide_type": ""
    },
    "tags": []
   },
   "outputs": [],
   "source": [
    "import os\n",
    "import sys\n",
    "from typing import List\n",
    "\n",
    "import dill\n",
    "import lightning as L\n",
    "import numpy as np\n",
    "import pandas as pd\n",
    "import torch\n",
    "from tqdm.auto import tqdm\n",
    "from dotenv import load_dotenv\n",
    "from lightning.pytorch.callbacks import ModelCheckpoint\n",
    "from lightning.pytorch.callbacks.early_stopping import EarlyStopping\n",
    "from lightning.pytorch.loggers import MLFlowLogger\n",
    "from loguru import logger\n",
    "from mlflow.models.signature import infer_signature\n",
    "from pydantic import BaseModel\n",
    "from torch.utils.data import DataLoader\n",
    "from qdrant_client import QdrantClient\n",
    "\n",
    "import mlflow\n",
    "\n",
    "load_dotenv()\n",
    "\n",
    "sys.path.insert(0, \"..\")\n",
    "\n",
    "from src.data_prep_utils import chunk_transform\n",
    "from src.dataset import UserItemBinaryDFDataset\n",
    "from src.id_mapper import IDMapper\n",
    "from src.ranker.inference import RankerInferenceWrapper\n",
    "from src.ranker.model import Ranker\n",
    "from src.ranker.trainer import LitRanker\n",
    "from src.viz import blueq_colors"
   ]
  },
  {
   "cell_type": "markdown",
   "id": "fd804021-3424-48e0-973a-e662a72db544",
   "metadata": {},
   "source": [
    "# Controller"
   ]
  },
  {
   "cell_type": "code",
   "execution_count": 3,
   "id": "ce522d9e-f35c-4cc5-a71e-68447956b31f",
   "metadata": {
    "editable": true,
    "slideshow": {
     "slide_type": ""
    },
    "tags": [
     "parameters"
    ]
   },
   "outputs": [],
   "source": [
    "max_epochs = 100"
   ]
  },
  {
   "cell_type": "code",
   "execution_count": 4,
   "id": "ea4e9a93-5b6a-4dec-97f0-b9aa3383c64d",
   "metadata": {
    "scrolled": true
   },
   "outputs": [
    {
     "name": "stderr",
     "output_type": "stream",
     "text": [
      "\u001b[32m2024-10-27 18:01:21.535\u001b[0m | \u001b[1mINFO    \u001b[0m | \u001b[36m__main__\u001b[0m:\u001b[36minit\u001b[0m:\u001b[36m57\u001b[0m - \u001b[1mSetting up MLflow experiment RecSys MVP - Ranker - run 016-reduce-dim-and-no-pretrained-item-embeddings...\u001b[0m\n"
     ]
    },
    {
     "name": "stdout",
     "output_type": "stream",
     "text": [
      "{\n",
      "  \"testing\": false,\n",
      "  \"log_to_mlflow\": true,\n",
      "  \"experiment_name\": \"RecSys MVP - Ranker\",\n",
      "  \"run_name\": \"016-reduce-dim-and-no-pretrained-item-embeddings\",\n",
      "  \"notebook_persist_dp\": \"/Users/dvq/frostmourne/recsys-mvp/notebooks/data/016-reduce-dim-and-no-pretrained-item-embeddings\",\n",
      "  \"random_seed\": 41,\n",
      "  \"device\": null,\n",
      "  \"item_metadata_pipeline_fp\": \"../data/item_metadata_pipeline.dill\",\n",
      "  \"qdrant_url\": \"localhost:6333\",\n",
      "  \"qdrant_collection_name\": \"item_desc_sbert\",\n",
      "  \"max_epochs\": 100,\n",
      "  \"batch_size\": 128,\n",
      "  \"tfm_chunk_size\": 10000,\n",
      "  \"neg_to_pos_ratio\": 3,\n",
      "  \"user_col\": \"user_id\",\n",
      "  \"item_col\": \"parent_asin\",\n",
      "  \"rating_col\": \"rating\",\n",
      "  \"timestamp_col\": \"timestamp\",\n",
      "  \"item_feature_cols\": [\n",
      "    \"main_category\",\n",
      "    \"categories\"\n",
      "  ],\n",
      "  \"top_K\": 100,\n",
      "  \"top_k\": 10,\n",
      "  \"embedding_dim\": 64,\n",
      "  \"dropout\": 0.3,\n",
      "  \"early_stopping_patience\": 5,\n",
      "  \"learning_rate\": 0.0003,\n",
      "  \"l2_reg\": 0.0001,\n",
      "  \"mlf_item2vec_model_name\": \"item2vec\",\n",
      "  \"mlf_model_name\": \"ranker\",\n",
      "  \"min_roc_auc\": 0.7,\n",
      "  \"best_checkpoint_path\": null\n",
      "}\n"
     ]
    }
   ],
   "source": [
    "class Args(BaseModel):\n",
    "    testing: bool = False\n",
    "    log_to_mlflow: bool = True\n",
    "    experiment_name: str = \"RecSys MVP - Ranker\"\n",
    "    run_name: str = \"016-reduce-dim-and-no-pretrained-item-embeddings\"\n",
    "    notebook_persist_dp: str = None\n",
    "    random_seed: int = 41\n",
    "    device: str = None\n",
    "\n",
    "    item_metadata_pipeline_fp: str = \"../data/item_metadata_pipeline.dill\"\n",
    "    qdrant_url: str = None\n",
    "    qdrant_collection_name: str = \"item_desc_sbert\"\n",
    "\n",
    "    max_epochs: int = max_epochs\n",
    "    batch_size: int = 128\n",
    "    tfm_chunk_size: int = 10000\n",
    "    neg_to_pos_ratio: int = 3\n",
    "\n",
    "    user_col: str = \"user_id\"\n",
    "    item_col: str = \"parent_asin\"\n",
    "    rating_col: str = \"rating\"\n",
    "    timestamp_col: str = \"timestamp\"\n",
    "    item_feature_cols: List[str] = [\"main_category\", \"categories\"]\n",
    "\n",
    "    top_K: int = 100\n",
    "    top_k: int = 10\n",
    "\n",
    "    embedding_dim: int = 128\n",
    "    dropout: float = 0.3\n",
    "    early_stopping_patience: int = 5\n",
    "    learning_rate: float = 0.0003\n",
    "    l2_reg: float = 1e-4\n",
    "\n",
    "    mlf_item2vec_model_name: str = \"item2vec\"\n",
    "    mlf_model_name: str = \"ranker\"\n",
    "    min_roc_auc: float = 0.7\n",
    "\n",
    "    best_checkpoint_path: str = None\n",
    "\n",
    "    def init(self):\n",
    "        self.notebook_persist_dp = os.path.abspath(f\"data/{self.run_name}\")\n",
    "        os.makedirs(self.notebook_persist_dp, exist_ok=True)\n",
    "\n",
    "        if not (qdrant_host := os.getenv(\"QDRANT_HOST\")):\n",
    "            raise Exception(f\"Environment variable QDRANT_HOST is not set.\")\n",
    "\n",
    "        qdrant_port = os.getenv(\"QDRANT_PORT\")\n",
    "        self.qdrant_url = f\"{qdrant_host}:{qdrant_port}\"\n",
    "        \n",
    "        if not (mlflow_uri := os.environ.get(\"MLFLOW_TRACKING_URI\")):\n",
    "            logger.warning(\n",
    "                f\"Environment variable MLFLOW_TRACKING_URI is not set. Setting self.log_to_mlflow to false.\"\n",
    "            )\n",
    "            self.log_to_mlflow = False\n",
    "\n",
    "        if self.log_to_mlflow:\n",
    "            logger.info(\n",
    "                f\"Setting up MLflow experiment {self.experiment_name} - run {self.run_name}...\"\n",
    "            )\n",
    "            self._mlf_logger = MLFlowLogger(\n",
    "                experiment_name=self.experiment_name,\n",
    "                run_name=self.run_name,\n",
    "                tracking_uri=mlflow_uri,\n",
    "                log_model=True,\n",
    "            )\n",
    "\n",
    "        return self\n",
    "\n",
    "\n",
    "args = Args().init()\n",
    "\n",
    "print(args.model_dump_json(indent=2))"
   ]
  },
  {
   "cell_type": "markdown",
   "id": "a5acedcb-89e6-41c6-8969-bf3437fc7898",
   "metadata": {},
   "source": [
    "# Implement"
   ]
  },
  {
   "cell_type": "code",
   "execution_count": 5,
   "id": "5a34cb5b-c7db-4b95-952b-5f4cb2e1a04d",
   "metadata": {},
   "outputs": [],
   "source": [
    "def init_model(\n",
    "    n_users, n_items, embedding_dim, item_feature_size, dropout, item_embedding=None\n",
    "):\n",
    "    model = Ranker(\n",
    "        n_users,\n",
    "        n_items,\n",
    "        embedding_dim,\n",
    "        item_feature_size=item_feature_size,\n",
    "        dropout=dropout,\n",
    "        item_embedding=item_embedding,\n",
    "    )\n",
    "    return model"
   ]
  },
  {
   "cell_type": "markdown",
   "id": "c49b92fb-3b4c-482f-a584-62288873d8c3",
   "metadata": {},
   "source": [
    "## Load pretrained Item2Vec embeddings"
   ]
  },
  {
   "cell_type": "code",
   "execution_count": 6,
   "id": "35cfc84a-75bb-4973-b619-194cc8698ee2",
   "metadata": {
    "scrolled": true
   },
   "outputs": [
    {
     "data": {
      "application/vnd.jupyter.widget-view+json": {
       "model_id": "eed94f975de741228cc977476e59b984",
       "version_major": 2,
       "version_minor": 0
      },
      "text/plain": [
       "Downloading artifacts:   0%|          | 0/8 [00:00<?, ?it/s]"
      ]
     },
     "metadata": {},
     "output_type": "display_data"
    }
   ],
   "source": [
    "mlf_client = mlflow.MlflowClient()\n",
    "model = mlflow.pyfunc.load_model(\n",
    "    model_uri=f\"models:/{args.mlf_item2vec_model_name}@champion\"\n",
    ")\n",
    "skipgram_model = model.unwrap_python_model().model\n",
    "embedding_0 = skipgram_model.embeddings(torch.tensor(0))\n",
    "embedding_dim = embedding_0.size()[0]\n",
    "id_mapping = model.unwrap_python_model().id_mapping\n",
    "pretrained_item_embedding = skipgram_model.embeddings"
   ]
  },
  {
   "cell_type": "code",
   "execution_count": 7,
   "id": "f3baa82d-859d-4414-8e19-4c7d92750fa3",
   "metadata": {},
   "outputs": [],
   "source": [
    "# assert (\n",
    "#     pretrained_item_embedding.embedding_dim == args.embedding_dim\n",
    "# ), \"Mismatch pretrained item_embedding dimension\""
   ]
  },
  {
   "cell_type": "markdown",
   "id": "a43bc0b9-9d56-4cb2-b821-61dd9b9858b1",
   "metadata": {},
   "source": [
    "## Load vectorized item features"
   ]
  },
  {
   "cell_type": "code",
   "execution_count": 8,
   "id": "8ff750e3-fa06-42b4-a5c3-9b93d3c2b536",
   "metadata": {},
   "outputs": [],
   "source": [
    "with open(args.item_metadata_pipeline_fp, \"rb\") as f:\n",
    "    item_metadata_pipeline = dill.load(f)"
   ]
  },
  {
   "cell_type": "markdown",
   "id": "58607871-619d-46a0-9f7d-405e8f500462",
   "metadata": {},
   "source": [
    "## Load ANN Index"
   ]
  },
  {
   "cell_type": "code",
   "execution_count": 9,
   "id": "6e3a82c4-247e-4402-a87b-198c698be866",
   "metadata": {},
   "outputs": [],
   "source": [
    "ann_index = QdrantClient(url=args.qdrant_url)\n",
    "if not ann_index.collection_exists(args.qdrant_collection_name):\n",
    "    raise Exception(\n",
    "        f\"Required Qdrant collection {args.qdrant_collection_name} does not exist\"\n",
    "    )"
   ]
  },
  {
   "cell_type": "code",
   "execution_count": 10,
   "id": "c4e24bed-4e12-4ea8-9635-03359b8b0818",
   "metadata": {},
   "outputs": [],
   "source": [
    "def get_vector_by_ids(ids: List[int], chunk_size=100):\n",
    "    records = []\n",
    "    for i in tqdm(range(0, len(ids), chunk_size)):\n",
    "        _ids = ids[i:i+chunk_size]\n",
    "        _records = ann_index.retrieve(\n",
    "            collection_name=args.qdrant_collection_name, ids=_ids, with_vectors=True\n",
    "        )\n",
    "        records.extend(_records)\n",
    "    return np.array([record.vector for record in records])"
   ]
  },
  {
   "cell_type": "code",
   "execution_count": 11,
   "id": "830d8094-ca35-4662-88b8-ee9a9aa7530a",
   "metadata": {
    "scrolled": true
   },
   "outputs": [
    {
     "data": {
      "application/vnd.jupyter.widget-view+json": {
       "model_id": "3b6a52d61f8b4606a85403769ed65f2c",
       "version_major": 2,
       "version_minor": 0
      },
      "text/plain": [
       "  0%|          | 0/1 [00:00<?, ?it/s]"
      ]
     },
     "metadata": {},
     "output_type": "display_data"
    }
   ],
   "source": [
    "vector = get_vector_by_ids([0])[0]\n",
    "sbert_embedding_dim = vector.shape[0]\n",
    "neighbors = ann_index.search(\n",
    "    collection_name=args.qdrant_collection_name, query_vector=vector, limit=5\n",
    ")"
   ]
  },
  {
   "cell_type": "code",
   "execution_count": 12,
   "id": "45498169-b114-4ac6-8315-7c094a43785c",
   "metadata": {
    "scrolled": true
   },
   "outputs": [
    {
     "data": {
      "text/plain": [
       "[ScoredPoint(id=0, version=0, score=1.0, payload={'parent_asin': '0375869026', 'title': 'Wonder'}, vector=None, shard_key=None, order_value=None),\n",
       " ScoredPoint(id=1916, version=59, score=0.9272537, payload={'parent_asin': 'B005GFPZYK', 'title': 'American Sniper: The Autobiography of the Most Lethal Sniper in U.S. Military History'}, vector=None, shard_key=None, order_value=None),\n",
       " ScoredPoint(id=1968, version=61, score=0.9080587, payload={'parent_asin': 'B005ZBO4VA', 'title': 'Tekken Hybrid - Playstation 3'}, vector=None, shard_key=None, order_value=None),\n",
       " ScoredPoint(id=166, version=5, score=0.899632, payload={'parent_asin': 'B00005OARM', 'title': 'Golden Sun'}, vector=None, shard_key=None, order_value=None),\n",
       " ScoredPoint(id=3896, version=121, score=0.89472985, payload={'parent_asin': 'B07CD6F5PX', 'title': 'Dragon Quest Xi: Echoes of An Elusive Age - PlayStation 4'}, vector=None, shard_key=None, order_value=None)]"
      ]
     },
     "execution_count": 12,
     "metadata": {},
     "output_type": "execute_result"
    }
   ],
   "source": [
    "neighbors"
   ]
  },
  {
   "cell_type": "markdown",
   "id": "377a71da-1ee3-474c-b3f4-4488d2a45dd3",
   "metadata": {},
   "source": [
    "# Test implementation"
   ]
  },
  {
   "cell_type": "code",
   "execution_count": 13,
   "id": "2806284e-20cd-4e8f-a1b9-34483ca094a2",
   "metadata": {
    "scrolled": true
   },
   "outputs": [
    {
     "data": {
      "application/vnd.jupyter.widget-view+json": {
       "model_id": "156521a7f9d049a2b40768358bfb7991",
       "version_major": 2,
       "version_minor": 0
      },
      "text/plain": [
       "  0%|          | 0/1 [00:00<?, ?it/s]"
      ]
     },
     "metadata": {},
     "output_type": "display_data"
    },
    {
     "name": "stdout",
     "output_type": "stream",
     "text": [
      "tensor([[0.6009],\n",
      "        [0.6075],\n",
      "        [0.6160],\n",
      "        [0.6107],\n",
      "        [0.5799]], grad_fn=<SigmoidBackward0>)\n"
     ]
    }
   ],
   "source": [
    "embedding_dim = 8\n",
    "batch_size = 2\n",
    "\n",
    "# Mock data\n",
    "user_indices = [0, 0, 1, 2, 2]\n",
    "item_indices = [0, 1, 2, 3, 4]\n",
    "timestamps = [0, 1, 2, 3, 4]\n",
    "ratings = [0, 4, 5, 3, 0]\n",
    "item_sequences = [\n",
    "    [-1, -1, 2, 3],\n",
    "    [-1, -1, 2, 3],\n",
    "    [-1, -1, 1, 3],\n",
    "    [-1, -1, 2, 1],\n",
    "    [-1, -1, 2, 1],\n",
    "]\n",
    "main_category = [\n",
    "    \"All Electronics\",\n",
    "    \"Video Games\",\n",
    "    \"All Electronics\",\n",
    "    \"Video Games\",\n",
    "    \"Unknown\",\n",
    "]\n",
    "categories = [[], [\"Headsets\"], [\"Video Games\"], [], [\"blah blah\"]]\n",
    "title = [\"World of Warcraft\", \"DotA 2\", \"Diablo IV\", \"Football Manager 2024\", \"Unknown\"]\n",
    "description = [[], [], [\"Video games blah blah\"], [], [\"blah blah\"]]\n",
    "price = [\"from 14.99\", \"14.99\", \"price: 9.99\", \"20 dollars\", \"None\"]\n",
    "\n",
    "train_df = pd.DataFrame(\n",
    "    {\n",
    "        \"user_indice\": user_indices,\n",
    "        \"item_indice\": item_indices,\n",
    "        args.timestamp_col: timestamps,\n",
    "        args.rating_col: ratings,\n",
    "        \"item_sequence\": item_sequences,\n",
    "        \"main_category\": main_category,\n",
    "        \"title\": title,\n",
    "        \"description\": description,\n",
    "        \"categories\": categories,\n",
    "        \"price\": price,\n",
    "    }\n",
    ")\n",
    "train_item_features = item_metadata_pipeline.transform(train_df).astype(np.float32)\n",
    "sbert_vectors = get_vector_by_ids(train_df['item_indice'].values.tolist()).astype(np.float32)\n",
    "train_item_features = np.hstack([train_item_features, sbert_vectors])\n",
    "\n",
    "n_users = len(set(user_indices))\n",
    "n_items = len(set(item_indices))\n",
    "item_feature_size = train_item_features.shape[1]\n",
    "\n",
    "model = init_model(n_users, n_items, embedding_dim, item_feature_size, args.dropout)\n",
    "\n",
    "# Example forward pass\n",
    "model.eval()\n",
    "users = torch.tensor(user_indices)\n",
    "items = torch.tensor(item_indices)\n",
    "item_sequences = torch.tensor(item_sequences)\n",
    "item_features = torch.tensor(train_item_features)\n",
    "predictions = model.predict(users, item_sequences, item_features, items)\n",
    "print(predictions)"
   ]
  },
  {
   "cell_type": "code",
   "execution_count": 14,
   "id": "0c0b1fea-0376-4624-ad8a-d000208a97f5",
   "metadata": {
    "scrolled": true
   },
   "outputs": [],
   "source": [
    "rating_dataset = UserItemBinaryDFDataset(\n",
    "    train_df,\n",
    "    \"user_indice\",\n",
    "    \"item_indice\",\n",
    "    args.rating_col,\n",
    "    args.timestamp_col,\n",
    "    item_feature=train_item_features,\n",
    ")\n",
    "\n",
    "train_loader = DataLoader(rating_dataset, batch_size=batch_size, shuffle=False)"
   ]
  },
  {
   "cell_type": "code",
   "execution_count": 15,
   "id": "2e82d3d1-826a-409b-8440-46e0bd924269",
   "metadata": {
    "scrolled": true
   },
   "outputs": [
    {
     "name": "stdout",
     "output_type": "stream",
     "text": [
      "{'user': tensor([0, 0]), 'item': tensor([0, 1]), 'rating': tensor([0., 1.]), 'item_sequence': tensor([[-1, -1,  2,  3],\n",
      "        [-1, -1,  2,  3]]), 'item_feature': tensor([[-1.4698e-02,  5.6424e+00, -1.4698e-02,  ...,  2.9136e-02,\n",
      "         -3.0617e-02,  1.4856e-03],\n",
      "        [-1.4698e-02, -1.7723e-01, -1.4698e-02,  ..., -2.6627e-03,\n",
      "         -3.4459e-02,  1.1402e-02]])}\n",
      "{'user': tensor([1, 2]), 'item': tensor([2, 3]), 'rating': tensor([1., 1.]), 'item_sequence': tensor([[-1, -1,  1,  3],\n",
      "        [-1, -1,  2,  1]]), 'item_feature': tensor([[-1.4698e-02,  5.6424e+00, -1.4698e-02,  ...,  2.4071e-03,\n",
      "         -4.1083e-02,  4.6736e-04],\n",
      "        [-1.4698e-02, -1.7723e-01, -1.4698e-02,  ..., -5.8320e-03,\n",
      "         -6.7804e-02,  4.7192e-03]])}\n",
      "{'user': tensor([2]), 'item': tensor([4]), 'rating': tensor([0.]), 'item_sequence': tensor([[-1, -1,  2,  1]]), 'item_feature': tensor([[-1.4698e-02, -1.7723e-01, -1.4698e-02, -2.5463e-02, -1.4698e-02,\n",
      "         -1.4698e-02, -2.0788e-02, -8.2101e-02, -2.8729e-01, -1.4698e-02,\n",
      "         -3.8912e-02, -2.9405e-02, -2.5463e-02, -1.4698e-02, -1.4698e-02,\n",
      "         -3.8912e-02, -2.0788e-02, -3.8912e-02, -5.0976e-02, -2.4504e+00,\n",
      "         -1.3428e-01, -1.4000e-01, -6.1013e-01, -8.2101e-02, -7.9391e-02,\n",
      "         -2.0788e-02, -1.4698e-02, -1.4698e-02, -5.0976e-02, -1.3260e-01,\n",
      "         -2.5463e-02, -1.4698e-02, -9.0968e-02, -1.3593e-01, -1.4698e-02,\n",
      "         -1.4858e-01, -1.0448e-01, -1.4698e-02, -1.4698e-02, -2.0573e-01,\n",
      "         -2.2601e-01, -2.9405e-02, -2.0788e-02, -1.4698e-02, -2.0788e-02,\n",
      "         -1.4698e-02, -2.9405e-02, -7.3681e-02, -2.0788e-02, -2.0788e-02,\n",
      "         -1.4698e-02, -1.0342e-01, -2.0788e-02, -2.0788e-02, -3.8912e-02,\n",
      "         -1.0342e-01, -5.5072e-02, -1.2479e-01, -6.7500e-02, -1.2390e-01,\n",
      "         -1.6381e-01, -1.1327e+00, -2.0788e-02, -2.0788e-02, -1.3005e-01,\n",
      "         -1.3593e-01, -3.2880e-02, -1.4698e-02, -1.4698e-02, -2.0788e-02,\n",
      "         -1.4698e-02, -2.0788e-02, -4.6524e-02, -1.8361e-01, -9.0968e-02,\n",
      "         -2.5463e-02, -2.0788e-02, -3.8912e-02, -1.1646e+00, -6.9096e-02,\n",
      "         -5.5072e-02, -1.4698e-02, -4.1604e-02, -2.0788e-02, -6.4192e-02,\n",
      "         -3.2880e-02, -2.4392e-01, -8.2101e-02, -1.8298e-01, -2.0788e-02,\n",
      "         -9.2168e-02, -2.4342e-01, -5.5123e-01, -2.0788e-02, -7.0657e-02,\n",
      "         -4.0989e-01, -2.0788e-02, -1.2025e-01, -2.2495e-01, -3.4599e-01,\n",
      "         -3.2243e-01, -5.0976e-02, -6.7500e-02, -3.6022e-02, -5.1850e-01,\n",
      "         -1.5454e-01, -3.6022e-02, -2.5463e-02, -3.6022e-02, -1.4698e-02,\n",
      "         -5.3063e-02, -6.2473e-02, -2.0788e-02, -6.9096e-02, -5.0976e-02,\n",
      "         -6.0706e-02, -2.5463e-02, -8.3424e-02, -2.5463e-02, -1.4698e-02,\n",
      "         -2.9405e-02, -1.2025e-01, -1.4698e-02, -1.4698e-02, -5.5072e-02,\n",
      "         -3.2880e-02, -2.0788e-02, -4.1604e-02, -7.8002e-02, -1.4698e-02,\n",
      "         -2.9405e-02, -2.9405e-02, -5.0976e-02, -1.4698e-02, -1.4698e-02,\n",
      "         -3.8912e-02, -3.2880e-02, -7.1024e+00, -2.0788e-02, -2.5463e-02,\n",
      "         -2.5463e-02, -4.6524e-02, -2.5226e-01, -1.7064e-01, -1.3260e-01,\n",
      "         -3.3652e-01, -2.0788e-02, -2.0788e-02, -5.7011e-02, -2.8861e-01,\n",
      "         -2.0788e-02, -3.7131e-01, -5.4576e-01,  7.5715e-02, -4.6161e-03,\n",
      "         -1.5269e-02,  3.8053e-02, -2.3299e-02,  5.7419e-02,  2.5593e-02,\n",
      "          2.1740e-02, -6.4849e-02, -1.7549e-02,  6.8395e-02,  2.0439e-02,\n",
      "          4.0812e-02,  4.7897e-02, -3.6109e-02, -2.6392e-02, -4.0185e-03,\n",
      "          3.9914e-02,  2.4084e-02,  1.2538e-02,  5.7376e-03,  1.9585e-02,\n",
      "          8.4433e-03, -2.4690e-03, -5.7521e-02, -1.5012e-02,  4.2342e-02,\n",
      "         -1.4003e-02,  2.0713e-02, -7.1049e-02,  1.1656e-01, -1.3337e-03,\n",
      "          1.6859e-02, -6.7175e-02,  2.0744e-06, -1.4271e-02, -1.4323e-02,\n",
      "         -5.6075e-02,  4.9546e-02,  2.2933e-02,  9.9544e-02,  4.5003e-02,\n",
      "          1.5461e-03,  5.0704e-02,  1.3058e-03,  3.1526e-03,  1.1272e-02,\n",
      "          9.4165e-02, -2.2274e-02,  3.5424e-02, -3.0866e-03, -5.0897e-02,\n",
      "         -1.8888e-02, -1.6887e-02,  5.4440e-02, -1.6536e-04, -2.2146e-02,\n",
      "          8.5262e-03,  3.6558e-02,  9.6281e-03,  3.0743e-02,  4.3088e-02,\n",
      "         -1.5789e-02,  3.4581e-02,  3.2910e-02,  5.1553e-03,  8.2479e-03,\n",
      "         -3.0601e-02, -3.0029e-02,  5.8143e-03,  6.6892e-02,  2.4034e-03,\n",
      "          5.3373e-02,  4.0460e-02, -1.0390e-03,  1.2609e-02, -1.0694e-02,\n",
      "          2.5048e-02, -4.7949e-02, -5.8694e-02, -5.5110e-03,  3.3986e-02,\n",
      "         -5.5934e-02, -2.0900e-02, -1.3253e-02,  3.4936e-02, -1.2412e-02,\n",
      "          6.6091e-03, -5.0719e-02, -4.3078e-02,  3.6049e-02, -2.6913e-02,\n",
      "          5.2341e-03,  2.6643e-03,  1.4760e-02, -6.3985e-03,  5.6047e-03,\n",
      "         -1.9785e-02,  4.5963e-02, -7.7106e-02,  4.5244e-02,  2.2026e-02,\n",
      "          3.6781e-02,  1.1312e-02,  3.3661e-02, -1.2496e-02,  1.7572e-02,\n",
      "         -6.2375e-02, -9.9547e-02,  8.4594e-02, -1.7330e-02, -2.4848e-02,\n",
      "         -4.3452e-02,  5.5755e-02,  5.5508e-03, -4.4299e-02,  3.7485e-02,\n",
      "         -1.5096e-02,  9.7620e-03,  4.9287e-02, -6.5761e-02,  3.2940e-02,\n",
      "         -1.2531e-03, -4.4056e-03, -1.9769e-03, -1.7478e-02, -7.9565e-02,\n",
      "         -1.5276e-03,  7.2608e-03, -2.6265e-03, -2.8016e-03,  4.1893e-02,\n",
      "          1.3515e-02, -1.7897e-02,  2.0836e-02,  8.0222e-03,  6.3291e-03,\n",
      "         -1.3731e-02, -2.2514e-02,  1.3009e-02, -3.3059e-03, -7.9497e-04,\n",
      "          2.0801e-03, -1.4717e-02, -4.8473e-02,  9.9016e-03,  6.1061e-02,\n",
      "          1.3917e-02,  5.1762e-04,  4.7886e-02, -8.3232e-03,  5.4284e-03,\n",
      "          2.7991e-02,  1.7424e-02,  9.6380e-03,  2.7342e-02,  7.8520e-02,\n",
      "         -1.7814e-02, -4.1979e-02,  3.4136e-02,  3.7147e-02,  2.6723e-02,\n",
      "          1.5409e-02,  1.9929e-02, -4.3947e-02, -2.1015e-02,  2.3780e-02,\n",
      "          8.2941e-03,  6.9720e-03,  3.2066e-02, -6.1773e-02,  8.3986e-03,\n",
      "         -1.5622e-03,  8.0626e-02,  4.1115e-02,  1.2461e-01, -7.7894e-02,\n",
      "          3.6751e-02, -6.1610e-02,  4.7277e-02, -7.2630e-02, -5.2448e-02,\n",
      "          1.1594e-02, -2.4043e-02, -2.3606e-02,  1.1522e-02, -3.1967e-04,\n",
      "         -9.2529e-03, -5.2625e-02, -2.1969e-02, -3.2771e-02, -2.3471e-02,\n",
      "          7.5352e-03, -7.9524e-03, -7.2963e-03,  5.7087e-03, -3.8683e-02,\n",
      "         -4.5094e-02, -1.4574e-02, -2.8933e-02, -3.1188e-02,  6.1013e-03,\n",
      "          1.2048e-01,  2.8896e-02,  8.5511e-03,  1.1537e-02, -7.6888e-03,\n",
      "         -1.4524e-02, -2.2125e-02,  6.7003e-02, -3.7697e-02,  1.6171e-02,\n",
      "         -4.0855e-02, -2.1793e-02, -3.1703e-02, -5.9162e-02,  3.9408e-02,\n",
      "          5.2716e-02, -7.4654e-02,  3.9511e-02,  2.4511e-02,  8.4605e-02,\n",
      "          4.9272e-03,  3.9826e-03,  2.4931e-02, -2.1383e-02, -6.1369e-03,\n",
      "         -6.8717e-03,  1.8248e-02,  1.0065e-03,  8.8258e-03, -1.2214e-02,\n",
      "         -1.0665e-02, -3.5196e-02, -4.2511e-02,  3.8686e-02, -2.1275e-02,\n",
      "          3.8772e-02,  1.7231e-02, -9.8903e-02, -4.4786e-02,  1.6568e-02,\n",
      "         -6.1911e-03,  3.6589e-02,  1.3175e-02, -3.0903e-02, -2.4281e-02,\n",
      "         -4.5093e-03, -1.5745e-02,  1.5035e-02, -2.9338e-02,  1.3482e-02,\n",
      "          3.2382e-02,  3.1845e-02, -7.7426e-03, -1.3478e-02, -9.2945e-02,\n",
      "          9.2460e-02, -5.7930e-02,  4.6581e-02,  1.8488e-02, -4.2096e-02,\n",
      "         -4.6806e-03, -1.4264e-04, -9.5069e-03, -2.6629e-02,  5.5462e-02,\n",
      "         -1.1594e-03, -2.6292e-02, -4.4903e-02, -2.7719e-02,  8.7153e-03,\n",
      "         -6.9664e-03, -2.6706e-02,  3.1312e-02, -1.6897e-02, -2.1880e-02,\n",
      "          1.6658e-02, -1.3453e-03,  1.9304e-02,  1.5657e-02,  2.6067e-02,\n",
      "          7.5686e-03,  2.4592e-02, -9.5058e-03,  4.3887e-02,  4.2317e-02,\n",
      "         -4.7794e-02, -1.0315e-01,  1.0656e-02, -2.6518e-02, -2.9969e-02,\n",
      "          3.7830e-02, -2.5686e-02, -2.2566e-02, -1.1897e-02,  4.3808e-02,\n",
      "          6.3308e-02,  3.0515e-02, -1.3322e-02,  1.2377e-03, -4.3084e-02,\n",
      "         -5.0095e-03, -1.8045e-03, -2.9295e-02, -1.4755e-02, -1.8366e-03,\n",
      "         -1.9179e-02,  4.7919e-02,  2.2350e-02,  1.8053e-02,  1.5569e-02,\n",
      "          4.9606e-03, -1.5814e-02, -1.3711e-02,  2.6647e-02, -6.1272e-02,\n",
      "         -8.0708e-02,  7.1945e-03,  5.6973e-02,  1.0905e-02,  1.3342e-02,\n",
      "          2.6163e-02,  5.3175e-02,  1.4680e-02, -8.2224e-02, -2.9190e-02,\n",
      "          2.3323e-02,  5.3939e-02, -2.3870e-02, -1.6934e-04,  4.9466e-02,\n",
      "         -3.1782e-02,  3.9752e-02,  2.1350e-02,  5.4134e-02, -1.1413e-03,\n",
      "         -8.7196e-03, -4.9597e-02,  3.1963e-02,  5.5016e-03, -6.2774e-02,\n",
      "          1.4248e-03, -3.9061e-02,  5.2819e-03, -6.6604e-02,  1.9314e-02,\n",
      "          2.1509e-02, -9.7290e-02, -2.4174e-02,  1.6930e-03,  2.5058e-02,\n",
      "         -4.5586e-03,  1.0194e-02, -2.4247e-03,  3.0942e-02,  3.3571e-02,\n",
      "         -5.6624e-02, -3.9844e-02, -2.9383e-02, -2.9831e-02, -9.2675e-03,\n",
      "         -2.6769e-02,  3.8028e-04, -5.3381e-03,  5.6800e-02,  2.1475e-02,\n",
      "          1.8217e-02, -5.5606e-03, -1.5390e-02, -5.7592e-03,  4.3166e-02,\n",
      "         -1.7414e-02,  3.8463e-02,  1.0190e-02,  2.0197e-02,  1.1563e-02,\n",
      "         -1.1332e-02,  5.6282e-03, -3.9181e-02,  2.1738e-02, -1.4587e-02,\n",
      "          5.7970e-02,  9.7581e-03,  1.1963e-02,  1.9198e-02, -7.2442e-03,\n",
      "         -3.5462e-02, -3.5950e-02, -1.3574e-02,  3.8570e-03,  5.2438e-03,\n",
      "         -5.7766e-02,  2.0866e-02, -4.6500e-02, -1.5478e-02,  5.6302e-03,\n",
      "         -7.0128e-03, -3.9635e-02,  2.0551e-02,  5.3734e-03, -2.0971e-03,\n",
      "          1.1445e-02,  3.0348e-03,  1.6971e-02, -1.4268e-02,  1.9317e-02,\n",
      "         -3.8290e-03, -1.5153e-02,  8.9714e-03,  1.7493e-03, -8.2504e-02,\n",
      "         -5.2352e-03,  2.3974e-02,  5.1225e-02, -7.3400e-02, -1.0920e-02,\n",
      "          3.8125e-02,  1.8714e-02,  4.3260e-03,  2.2281e-02,  6.7504e-02,\n",
      "         -5.1080e-03,  3.6047e-02,  2.7759e-02,  4.4004e-03,  4.0511e-02,\n",
      "          2.3323e-02,  2.4594e-02, -3.3403e-02, -4.5130e-03,  2.9866e-02,\n",
      "         -3.8404e-02,  3.3209e-02, -2.3859e-03, -1.7533e-02, -7.2437e-02,\n",
      "         -5.5872e-02,  2.4078e-02, -4.7535e-02, -1.8038e-02, -1.8778e-03,\n",
      "          3.1606e-02,  6.1154e-02,  6.7131e-03, -3.4797e-02,  3.2595e-02,\n",
      "         -6.5233e-02,  1.9048e-02, -1.9273e-03, -2.9737e-02,  1.5266e-02,\n",
      "          2.3787e-02,  2.5987e-02, -7.4944e-03, -3.1730e-02,  2.4182e-02,\n",
      "         -1.8789e-02, -2.3583e-02, -5.6364e-03,  2.0067e-02,  2.3196e-02,\n",
      "         -2.0090e-02,  1.1153e-02,  1.0417e-02,  8.5703e-05,  5.7704e-02,\n",
      "         -4.8729e-02,  6.6392e-03, -1.3908e-02,  4.8094e-02,  4.2859e-03,\n",
      "         -4.9307e-03,  2.9741e-02,  3.6225e-02, -3.5582e-02, -2.7963e-02,\n",
      "         -7.6976e-02,  3.0130e-02,  2.0099e-02, -9.9119e-04,  9.0620e-03,\n",
      "         -3.9946e-04, -3.4694e-02, -2.6614e-02,  3.2547e-03,  4.4917e-02,\n",
      "         -2.8609e-02, -2.3389e-02,  1.2721e-02,  5.4141e-03, -7.9543e-02,\n",
      "         -3.7312e-02, -1.5906e-02, -4.0992e-02,  6.5320e-02, -1.7026e-02,\n",
      "         -1.3720e-02, -1.6174e-02,  3.7946e-05, -4.5999e-02, -1.9081e-02,\n",
      "          2.0729e-02,  3.2781e-02, -2.6120e-03,  4.4678e-02,  1.8846e-02,\n",
      "         -7.0091e-03,  4.7943e-02, -4.6618e-02,  2.4981e-03,  1.0206e-02,\n",
      "          5.3008e-03, -2.3189e-02,  1.2869e-02,  1.6621e-02, -3.3212e-02,\n",
      "         -1.0581e-01, -1.4324e-02,  3.3236e-02, -4.9439e-04, -1.6647e-02,\n",
      "          1.0262e-03, -3.5107e-02, -4.1481e-02,  3.0293e-02,  1.0877e-02,\n",
      "          4.4518e-03,  4.3299e-03,  7.9249e-04, -4.7994e-02, -9.9684e-04,\n",
      "          5.0401e-02,  2.4706e-02, -5.3808e-02,  5.4390e-02,  6.9895e-02,\n",
      "         -4.5015e-02, -6.7011e-03, -1.6134e-02, -4.4041e-02, -6.2139e-03,\n",
      "          4.2641e-02,  1.5649e-02,  9.6276e-02,  3.8065e-02,  1.2537e-02,\n",
      "          7.7806e-03,  7.3429e-03, -3.6767e-02,  9.8656e-03,  1.3896e-02,\n",
      "         -9.3714e-02,  4.3539e-02, -2.0612e-03, -7.5520e-33, -1.1978e-02,\n",
      "         -5.8178e-02, -2.5336e-02,  2.7700e-02, -4.1885e-02,  2.6305e-02,\n",
      "         -2.6163e-02,  3.3707e-02,  2.3010e-03,  2.5629e-03, -1.5603e-02,\n",
      "          2.9035e-02,  2.6207e-02,  3.2126e-02,  4.2085e-02, -3.9038e-02,\n",
      "          9.8261e-03,  1.5445e-03,  2.1822e-02, -2.6830e-02,  1.1930e-02,\n",
      "          1.3803e-02,  3.9251e-02, -8.7148e-02,  1.0123e-02, -7.4839e-02,\n",
      "         -2.4491e-02, -2.6371e-02,  2.8130e-02, -2.4629e-02, -2.6075e-02,\n",
      "         -6.4380e-02,  3.6584e-03,  3.1643e-03,  2.9097e-02,  4.1849e-02,\n",
      "         -6.2409e-03, -4.1914e-02,  2.8924e-02, -4.7718e-02,  7.2123e-03,\n",
      "         -6.0438e-02, -3.5265e-02, -4.3284e-03, -4.3099e-04,  3.8677e-03,\n",
      "          5.8487e-02, -3.8299e-02, -3.0302e-02, -1.2317e-03, -3.6445e-02,\n",
      "         -5.5346e-03, -2.3371e-02, -8.8850e-03,  3.6532e-02,  5.2143e-02,\n",
      "          1.7758e-02,  7.6965e-02,  5.6379e-02,  6.3465e-02,  9.5784e-03,\n",
      "          5.3648e-02, -2.5520e-02, -2.2664e-02,  3.5103e-02,  2.4412e-02,\n",
      "         -6.0384e-02, -1.9484e-03, -8.9552e-02, -9.6481e-03, -6.7100e-02,\n",
      "          1.8274e-02,  5.8857e-02,  1.6388e-02,  5.7376e-03, -2.9731e-02,\n",
      "         -3.3687e-02,  1.3895e-02,  8.0687e-02,  3.3403e-02, -3.3428e-03,\n",
      "         -2.7242e-02, -4.1903e-02, -8.3320e-03, -2.6463e-02,  1.5150e-02,\n",
      "         -3.2906e-02, -2.6113e-02,  2.9648e-02,  1.6790e-02,  1.3004e-02,\n",
      "          3.3629e-02, -1.3361e-02,  2.4499e-02,  3.2559e-02,  2.3554e-03,\n",
      "          7.0045e-02,  8.3594e-03, -1.1397e-02, -3.8321e-02, -2.0195e-02,\n",
      "         -2.0834e-02, -2.2367e-02,  3.6660e-02,  1.6156e-02, -2.8885e-02,\n",
      "         -1.1080e-02, -3.3967e-02, -5.8187e-02,  2.3092e-03,  2.0873e-02,\n",
      "         -5.1112e-02,  1.0786e-02, -5.6978e-02, -4.3140e-02,  3.0544e-02,\n",
      "          9.9164e-03,  6.7844e-02,  3.1995e-02, -9.4154e-03,  5.0423e-02,\n",
      "         -1.7068e-02, -3.8975e-02,  2.6325e-02, -6.3431e-03, -1.7504e-03,\n",
      "         -1.2304e-02,  5.8942e-02,  7.9951e-03, -1.7998e-02, -7.2530e-03,\n",
      "         -2.3300e-03,  3.1115e-07, -3.4213e-02,  4.4842e-02, -1.3164e-03,\n",
      "          1.5459e-02, -1.8137e-02, -6.9413e-03, -7.5862e-03,  1.9364e-02,\n",
      "         -4.9369e-03,  7.0875e-03,  1.0144e-01, -1.4651e-02,  2.2599e-02,\n",
      "         -4.6972e-02, -5.4040e-02,  3.5862e-02, -5.1928e-02, -5.6975e-02,\n",
      "         -3.9960e-02,  1.3329e-02,  1.0430e-01, -6.1508e-03,  2.3553e-02,\n",
      "          1.9600e-02,  2.4507e-02, -3.5093e-02, -4.4941e-03, -7.3623e-02,\n",
      "         -2.8711e-02,  1.5154e-03, -1.6772e-02, -6.3765e-03, -5.3524e-02,\n",
      "         -3.0779e-02,  2.0170e-02, -6.9578e-02,  3.1647e-02,  1.0612e-02,\n",
      "          6.5319e-02,  2.2047e-02, -5.5436e-02,  5.3382e-02, -2.0870e-02,\n",
      "         -5.9247e-02,  1.9836e-02, -6.7212e-04,  1.7218e-02,  1.4637e-02,\n",
      "         -7.0584e-02,  1.5400e-02,  4.4348e-02, -1.4173e-02, -1.8887e-02,\n",
      "         -1.5145e-02,  2.2321e-03,  1.9138e-02,  3.3422e-02,  6.0030e-03,\n",
      "          7.7994e-02,  6.9610e-02, -2.2265e-02,  1.2945e-02,  7.6830e-03,\n",
      "          2.6167e-02,  6.7903e-03, -8.8627e-02, -1.1146e-02,  2.1675e-34,\n",
      "          3.9392e-02, -9.0457e-02, -6.4739e-02, -2.7347e-02, -2.7583e-02,\n",
      "          3.0312e-03, -2.0743e-02, -2.2759e-02,  1.0543e-02, -4.4960e-02,\n",
      "         -5.5271e-03]])}\n"
     ]
    }
   ],
   "source": [
    "for batch_input in train_loader:\n",
    "    print(batch_input)"
   ]
  },
  {
   "cell_type": "code",
   "execution_count": 16,
   "id": "02cb9ca4-11f1-45a8-911b-ed11c8391944",
   "metadata": {
    "scrolled": true
   },
   "outputs": [
    {
     "name": "stderr",
     "output_type": "stream",
     "text": [
      "GPU available: True (mps), used: True\n",
      "TPU available: False, using: 0 TPU cores\n",
      "HPU available: False, using: 0 HPUs\n",
      "\n",
      "  | Name  | Type   | Params | Mode\n",
      "----------------------------------------\n",
      "0 | model | Ranker | 8.4 K  | eval\n",
      "----------------------------------------\n",
      "8.4 K     Trainable params\n",
      "0         Non-trainable params\n",
      "8.4 K     Total params\n",
      "0.034     Total estimated model params size (MB)\n",
      "0         Modules in train mode\n",
      "14        Modules in eval mode\n"
     ]
    },
    {
     "data": {
      "application/vnd.jupyter.widget-view+json": {
       "model_id": "",
       "version_major": 2,
       "version_minor": 0
      },
      "text/plain": [
       "Sanity Checking: |                                                                                            …"
      ]
     },
     "metadata": {},
     "output_type": "display_data"
    },
    {
     "name": "stderr",
     "output_type": "stream",
     "text": [
      "/Users/dvq/frostmourne/recsys-mvp/.venv/lib/python3.11/site-packages/lightning/pytorch/trainer/connectors/data_connector.py:424: The 'val_dataloader' does not have many workers which may be a bottleneck. Consider increasing the value of the `num_workers` argument` to `num_workers=10` in the `DataLoader` to improve performance.\n",
      "/Users/dvq/frostmourne/recsys-mvp/.venv/lib/python3.11/site-packages/lightning/pytorch/trainer/connectors/data_connector.py:424: The 'train_dataloader' does not have many workers which may be a bottleneck. Consider increasing the value of the `num_workers` argument` to `num_workers=10` in the `DataLoader` to improve performance.\n",
      "/Users/dvq/frostmourne/recsys-mvp/.venv/lib/python3.11/site-packages/lightning/pytorch/loops/fit_loop.py:298: The number of training batches (3) is smaller than the logging interval Trainer(log_every_n_steps=50). Set a lower value for log_every_n_steps if you want to see logs for the training epoch.\n"
     ]
    },
    {
     "data": {
      "application/vnd.jupyter.widget-view+json": {
       "model_id": "4845d74a7157497dbadc00d280b81000",
       "version_major": 2,
       "version_minor": 0
      },
      "text/plain": [
       "Training: |                                                                                                   …"
      ]
     },
     "metadata": {},
     "output_type": "display_data"
    },
    {
     "data": {
      "application/vnd.jupyter.widget-view+json": {
       "model_id": "",
       "version_major": 2,
       "version_minor": 0
      },
      "text/plain": [
       "Validation: |                                                                                                 …"
      ]
     },
     "metadata": {},
     "output_type": "display_data"
    },
    {
     "data": {
      "application/vnd.jupyter.widget-view+json": {
       "model_id": "",
       "version_major": 2,
       "version_minor": 0
      },
      "text/plain": [
       "Validation: |                                                                                                 …"
      ]
     },
     "metadata": {},
     "output_type": "display_data"
    },
    {
     "name": "stderr",
     "output_type": "stream",
     "text": [
      "`Trainer.fit` stopped: `max_epochs=2` reached.\n",
      "\u001b[32m2024-10-27 18:01:23.216\u001b[0m | \u001b[1mINFO    \u001b[0m | \u001b[36msrc.ranker.trainer\u001b[0m:\u001b[36mon_fit_end\u001b[0m:\u001b[36m133\u001b[0m - \u001b[1mLogging classification metrics...\u001b[0m\n",
      "/Users/dvq/frostmourne/recsys-mvp/.venv/lib/python3.11/site-packages/sklearn/metrics/_classification.py:1531: UndefinedMetricWarning: Precision is ill-defined and being set to 0.0 in labels with no predicted samples. Use `zero_division` parameter to control this behavior.\n",
      "  _warn_prf(average, modifier, f\"{metric.capitalize()} is\", len(result))\n",
      "/Users/dvq/frostmourne/recsys-mvp/.venv/lib/python3.11/site-packages/sklearn/metrics/_classification.py:1531: UndefinedMetricWarning: Precision is ill-defined and being set to 0.0 in labels with no predicted samples. Use `zero_division` parameter to control this behavior.\n",
      "  _warn_prf(average, modifier, f\"{metric.capitalize()} is\", len(result))\n",
      "/Users/dvq/frostmourne/recsys-mvp/.venv/lib/python3.11/site-packages/sklearn/metrics/_classification.py:1531: UndefinedMetricWarning: Precision is ill-defined and being set to 0.0 in labels with no predicted samples. Use `zero_division` parameter to control this behavior.\n",
      "  _warn_prf(average, modifier, f\"{metric.capitalize()} is\", len(result))\n"
     ]
    }
   ],
   "source": [
    "# model\n",
    "lit_model = LitRanker(model, log_dir=args.notebook_persist_dp)\n",
    "\n",
    "# train model\n",
    "trainer = L.Trainer(\n",
    "    default_root_dir=f\"{args.notebook_persist_dp}/test\",\n",
    "    max_epochs=2,\n",
    "    accelerator=args.device if args.device else \"auto\",\n",
    ")\n",
    "trainer.fit(\n",
    "    model=lit_model, train_dataloaders=train_loader, val_dataloaders=train_loader\n",
    ")"
   ]
  },
  {
   "cell_type": "code",
   "execution_count": 17,
   "id": "36778ab4-b228-4bb0-bb0d-801ae7c28cd8",
   "metadata": {},
   "outputs": [
    {
     "name": "stdout",
     "output_type": "stream",
     "text": [
      "tensor([[0.5814],\n",
      "        [0.6179],\n",
      "        [0.6267],\n",
      "        [0.6108],\n",
      "        [0.5697]], grad_fn=<SigmoidBackward0>)\n"
     ]
    }
   ],
   "source": [
    "# After fitting\n",
    "model.eval()\n",
    "predictions = model.predict(users, item_sequences, item_features, items)\n",
    "print(predictions)"
   ]
  },
  {
   "cell_type": "code",
   "execution_count": 18,
   "id": "50fdcf97-6271-406d-81b5-7e91a4c42dec",
   "metadata": {
    "scrolled": true
   },
   "outputs": [
    {
     "data": {
      "application/vnd.jupyter.widget-view+json": {
       "model_id": "a55883d33be149518fef94122832c128",
       "version_major": 2,
       "version_minor": 0
      },
      "text/plain": [
       "  0%|          | 0/1 [00:00<?, ?it/s]"
      ]
     },
     "metadata": {},
     "output_type": "display_data"
    },
    {
     "data": {
      "application/vnd.jupyter.widget-view+json": {
       "model_id": "8e2304c96a924be882ed6099a265b5ba",
       "version_major": 2,
       "version_minor": 0
      },
      "text/plain": [
       "Generating recommendations:   0%|          | 0/1 [00:00<?, ?it/s]"
      ]
     },
     "metadata": {},
     "output_type": "display_data"
    },
    {
     "data": {
      "text/plain": [
       "{'user_indice': [2, 2, 1, 1, 0, 0],\n",
       " 'recommendation': [3, 1, 1, 3, 1, 3],\n",
       " 'score': [0.6108070015907288,\n",
       "  0.6010299324989319,\n",
       "  0.6547285318374634,\n",
       "  0.6444249749183655,\n",
       "  0.6178779602050781,\n",
       "  0.6057987809181213]}"
      ]
     },
     "execution_count": 18,
     "metadata": {},
     "output_type": "execute_result"
    }
   ],
   "source": [
    "all_items_df = train_df.drop_duplicates(subset=[\"item_indice\"])\n",
    "all_items_indices = all_items_df[\"item_indice\"].values\n",
    "all_items_features = item_metadata_pipeline.transform(all_items_df).astype(np.float32)\n",
    "all_sbert_vectors = get_vector_by_ids(all_items_indices.tolist()).astype(np.float32)\n",
    "all_items_features = np.hstack([all_items_features, all_sbert_vectors])\n",
    "\n",
    "# Get the last row of each item as input for recommendations (containing the most updated item_sequence)\n",
    "to_rec_df = train_df.sort_values(args.timestamp_col, ascending=False).drop_duplicates(\n",
    "    subset=[\"user_indice\"]\n",
    ")\n",
    "recommendations = model.recommend(\n",
    "    torch.tensor(to_rec_df[\"user_indice\"].values.tolist()),\n",
    "    torch.tensor(to_rec_df[\"item_sequence\"].values.tolist()),\n",
    "    torch.tensor(all_items_features),\n",
    "    torch.tensor(all_items_indices),\n",
    "    k=2,\n",
    "    batch_size=4,\n",
    ")\n",
    "recommendations"
   ]
  },
  {
   "cell_type": "markdown",
   "id": "170dec89-a874-4dce-8f94-07d978fcc5b8",
   "metadata": {},
   "source": [
    "# Prep data"
   ]
  },
  {
   "cell_type": "code",
   "execution_count": 19,
   "id": "83803362-5eaa-40bb-b28b-878316d5db5d",
   "metadata": {},
   "outputs": [],
   "source": [
    "train_df = pd.read_parquet(\"../data/train_features_neg_df.parquet\")\n",
    "val_df = pd.read_parquet(\"../data/val_features_neg_df.parquet\")\n",
    "idm_fp = \"../data/idm.json\"\n",
    "idm = IDMapper().load(idm_fp)\n",
    "\n",
    "assert (\n",
    "    train_df[args.user_col].map(lambda s: idm.get_user_index(s))\n",
    "    != train_df[\"user_indice\"]\n",
    ").sum() == 0, \"Mismatch IDM\"\n",
    "assert (\n",
    "    val_df[args.user_col].map(lambda s: idm.get_user_index(s)) != val_df[\"user_indice\"]\n",
    ").sum() == 0, \"Mismatch IDM\""
   ]
  },
  {
   "cell_type": "code",
   "execution_count": 20,
   "id": "a92a8ea7-928c-4656-b92c-2e137d78404a",
   "metadata": {
    "scrolled": true
   },
   "outputs": [
    {
     "data": {
      "text/html": [
       "<div>\n",
       "<style scoped>\n",
       "    .dataframe tbody tr th:only-of-type {\n",
       "        vertical-align: middle;\n",
       "    }\n",
       "\n",
       "    .dataframe tbody tr th {\n",
       "        vertical-align: top;\n",
       "    }\n",
       "\n",
       "    .dataframe thead th {\n",
       "        text-align: right;\n",
       "    }\n",
       "</style>\n",
       "<table border=\"1\" class=\"dataframe\">\n",
       "  <thead>\n",
       "    <tr style=\"text-align: right;\">\n",
       "      <th></th>\n",
       "      <th>user_id</th>\n",
       "      <th>parent_asin</th>\n",
       "      <th>rating</th>\n",
       "      <th>timestamp</th>\n",
       "      <th>user_indice</th>\n",
       "      <th>item_indice</th>\n",
       "      <th>main_category</th>\n",
       "      <th>categories</th>\n",
       "      <th>price</th>\n",
       "      <th>user_rating_cnt_90d</th>\n",
       "      <th>user_rating_avg_prev_rating_90d</th>\n",
       "      <th>user_rating_list_10_recent_asin</th>\n",
       "      <th>item_sequence</th>\n",
       "    </tr>\n",
       "  </thead>\n",
       "  <tbody>\n",
       "    <tr>\n",
       "      <th>0</th>\n",
       "      <td>AEKSUPM7CH53J3G5PA3JLWLJXUMQ</td>\n",
       "      <td>B00QXJFDZO</td>\n",
       "      <td>0.0</td>\n",
       "      <td>2017-10-30 14:23:22.389</td>\n",
       "      <td>2561</td>\n",
       "      <td>2919</td>\n",
       "      <td>Video Games</td>\n",
       "      <td>[Video Games, PlayStation 4, Games]</td>\n",
       "      <td>None</td>\n",
       "      <td>2</td>\n",
       "      <td>5.000000</td>\n",
       "      <td>B005FVBYV8,B003FMTZSI,B01MS6WG9S,B073W2T5F6</td>\n",
       "      <td>[-1, -1, -1, -1, -1, -1, 1912, 1470, 3498, 3723]</td>\n",
       "    </tr>\n",
       "    <tr>\n",
       "      <th>1</th>\n",
       "      <td>AHSNMFN6DUFTNEZAXBVPIYMXWIFQ</td>\n",
       "      <td>B075MYT126</td>\n",
       "      <td>0.0</td>\n",
       "      <td>2017-11-27 22:01:33.258</td>\n",
       "      <td>18413</td>\n",
       "      <td>3777</td>\n",
       "      <td>Video Games</td>\n",
       "      <td>[Video Games, Nintendo Switch, Accessories, Co...</td>\n",
       "      <td>94.98</td>\n",
       "      <td>2</td>\n",
       "      <td>4.000000</td>\n",
       "      <td>B00CJ9OTNE,B0118YZG0A,B008M502H6,B003Y70W4U,B0...</td>\n",
       "      <td>[2391, 3100, 2176, 1588, 3161, 2133, 2906, 166...</td>\n",
       "    </tr>\n",
       "    <tr>\n",
       "      <th>2</th>\n",
       "      <td>AFE47G5MX35LSHZHZXRYEJFMYPUA</td>\n",
       "      <td>B007VYW5K6</td>\n",
       "      <td>0.0</td>\n",
       "      <td>2017-03-23 21:41:18.000</td>\n",
       "      <td>6463</td>\n",
       "      <td>2086</td>\n",
       "      <td>Video Games</td>\n",
       "      <td>[Video Games, PC]</td>\n",
       "      <td>None</td>\n",
       "      <td>1</td>\n",
       "      <td>NaN</td>\n",
       "      <td>B07YBX8RNF,B0166QDJDQ,B01CHU4IY4,B00Z9LUDX4,B0...</td>\n",
       "      <td>[4278, 3183, 3288, 3038, 4508, 3391, 3403, 368...</td>\n",
       "    </tr>\n",
       "    <tr>\n",
       "      <th>3</th>\n",
       "      <td>AFJDWGBE3MGULXTO3FUZ5YB6FKDA</td>\n",
       "      <td>B07L5FKGQH</td>\n",
       "      <td>0.0</td>\n",
       "      <td>2017-01-18 15:50:12.000</td>\n",
       "      <td>7246</td>\n",
       "      <td>4048</td>\n",
       "      <td>Video Games</td>\n",
       "      <td>[Video Games, Xbox One, Games]</td>\n",
       "      <td>49.88</td>\n",
       "      <td>25</td>\n",
       "      <td>4.416667</td>\n",
       "      <td>B00I6E6SH6,B00O65I2VY,B005GISQQG,B00008KTNW,B0...</td>\n",
       "      <td>[2632, 2859, 1920, 253, 1428, 1053, 584, 732, ...</td>\n",
       "    </tr>\n",
       "    <tr>\n",
       "      <th>4</th>\n",
       "      <td>AHFDYGJR3SM2D463ZWKGHJPNBKDA</td>\n",
       "      <td>B002BSA2LQ</td>\n",
       "      <td>0.0</td>\n",
       "      <td>2014-01-29 22:50:20.000</td>\n",
       "      <td>16376</td>\n",
       "      <td>1215</td>\n",
       "      <td>Video Games</td>\n",
       "      <td>[Video Games, Legacy Systems, Xbox Systems, Xb...</td>\n",
       "      <td>31.49</td>\n",
       "      <td>4</td>\n",
       "      <td>5.000000</td>\n",
       "      <td>B002I0K956,B008CZN458,B0050SXVK8</td>\n",
       "      <td>[-1, -1, -1, -1, -1, -1, -1, 1328, 2146, 1843]</td>\n",
       "    </tr>\n",
       "    <tr>\n",
       "      <th>...</th>\n",
       "      <td>...</td>\n",
       "      <td>...</td>\n",
       "      <td>...</td>\n",
       "      <td>...</td>\n",
       "      <td>...</td>\n",
       "      <td>...</td>\n",
       "      <td>...</td>\n",
       "      <td>...</td>\n",
       "      <td>...</td>\n",
       "      <td>...</td>\n",
       "      <td>...</td>\n",
       "      <td>...</td>\n",
       "      <td>...</td>\n",
       "    </tr>\n",
       "    <tr>\n",
       "      <th>657187</th>\n",
       "      <td>AE5TQ7DBEX2L5T665M6ZDPGYZ32Q</td>\n",
       "      <td>B01LDUYTYS</td>\n",
       "      <td>0.0</td>\n",
       "      <td>2013-10-05 20:20:52.000</td>\n",
       "      <td>592</td>\n",
       "      <td>3442</td>\n",
       "      <td>Video Games</td>\n",
       "      <td>[Video Games, Legacy Systems, Nintendo Systems...</td>\n",
       "      <td>249.99</td>\n",
       "      <td>1</td>\n",
       "      <td>NaN</td>\n",
       "      <td>B07X1HF3V6</td>\n",
       "      <td>[-1, -1, -1, -1, -1, -1, -1, -1, -1, 4237]</td>\n",
       "    </tr>\n",
       "    <tr>\n",
       "      <th>657188</th>\n",
       "      <td>AFDG3CXM4DP7X436YNOKTJHVKJQA</td>\n",
       "      <td>B087NNPYP3</td>\n",
       "      <td>5.0</td>\n",
       "      <td>2018-07-10 21:22:10.594</td>\n",
       "      <td>6351</td>\n",
       "      <td>4342</td>\n",
       "      <td>Video Games</td>\n",
       "      <td>[Video Games, Nintendo Switch, Consoles]</td>\n",
       "      <td>None</td>\n",
       "      <td>3</td>\n",
       "      <td>5.000000</td>\n",
       "      <td>B002I0H79C,B00503E9FY,B00KVOVBGM,B00SHXKC8M,B0...</td>\n",
       "      <td>[1292, 1807, 2734, 2940, 3402, 2759, 2702, 104...</td>\n",
       "    </tr>\n",
       "    <tr>\n",
       "      <th>657189</th>\n",
       "      <td>AFOUC3S3RH7AXMPZBZHLO4WMLLVA</td>\n",
       "      <td>B004AM65C6</td>\n",
       "      <td>0.0</td>\n",
       "      <td>2018-12-16 13:39:37.174</td>\n",
       "      <td>8062</td>\n",
       "      <td>1651</td>\n",
       "      <td>Video Games</td>\n",
       "      <td>[Video Games, Legacy Systems, Xbox Systems, Xb...</td>\n",
       "      <td>12.48</td>\n",
       "      <td>2</td>\n",
       "      <td>5.000000</td>\n",
       "      <td>B002BSA388,B00PIEI1DG,B08MBHYJP4,B071GPJVTQ,B0...</td>\n",
       "      <td>[1216, 2898, 4397, 3643, 3642, 3527, 3423, 367...</td>\n",
       "    </tr>\n",
       "    <tr>\n",
       "      <th>657190</th>\n",
       "      <td>AEPOGF2QMAXO4W3TYP27DCQRITGA</td>\n",
       "      <td>B07X1HF3V6</td>\n",
       "      <td>0.0</td>\n",
       "      <td>2013-05-30 22:53:17.000</td>\n",
       "      <td>3373</td>\n",
       "      <td>4237</td>\n",
       "      <td>Video Games</td>\n",
       "      <td>[Video Games, Legacy Systems, PlayStation Syst...</td>\n",
       "      <td>34.43</td>\n",
       "      <td>4</td>\n",
       "      <td>3.666667</td>\n",
       "      <td>B0013OL0BK,B002D2Y3IS,B0044R8X9U,B07VLCRZ21,B0...</td>\n",
       "      <td>[-1, -1, -1, -1, -1, 652, 1240, 1629, 4207, 1707]</td>\n",
       "    </tr>\n",
       "    <tr>\n",
       "      <th>657191</th>\n",
       "      <td>AHZOHLRLN6MKO22GMSPC3A4S5A7Q</td>\n",
       "      <td>B004D1Z3UO</td>\n",
       "      <td>0.0</td>\n",
       "      <td>2014-09-11 21:15:29.000</td>\n",
       "      <td>19506</td>\n",
       "      <td>1672</td>\n",
       "      <td>Video Games</td>\n",
       "      <td>[Video Games, Legacy Systems, PlayStation Syst...</td>\n",
       "      <td>17.87</td>\n",
       "      <td>10</td>\n",
       "      <td>4.666667</td>\n",
       "      <td>B00IAVDQCK,B00GOZSR96,B00DBDPOZ4,B00EI4V3FU,B0...</td>\n",
       "      <td>[-1, 2641, 2581, 2428, 2491, 2024, 2187, 2123,...</td>\n",
       "    </tr>\n",
       "  </tbody>\n",
       "</table>\n",
       "<p>657192 rows × 13 columns</p>\n",
       "</div>"
      ],
      "text/plain": [
       "                             user_id parent_asin  rating  \\\n",
       "0       AEKSUPM7CH53J3G5PA3JLWLJXUMQ  B00QXJFDZO     0.0   \n",
       "1       AHSNMFN6DUFTNEZAXBVPIYMXWIFQ  B075MYT126     0.0   \n",
       "2       AFE47G5MX35LSHZHZXRYEJFMYPUA  B007VYW5K6     0.0   \n",
       "3       AFJDWGBE3MGULXTO3FUZ5YB6FKDA  B07L5FKGQH     0.0   \n",
       "4       AHFDYGJR3SM2D463ZWKGHJPNBKDA  B002BSA2LQ     0.0   \n",
       "...                              ...         ...     ...   \n",
       "657187  AE5TQ7DBEX2L5T665M6ZDPGYZ32Q  B01LDUYTYS     0.0   \n",
       "657188  AFDG3CXM4DP7X436YNOKTJHVKJQA  B087NNPYP3     5.0   \n",
       "657189  AFOUC3S3RH7AXMPZBZHLO4WMLLVA  B004AM65C6     0.0   \n",
       "657190  AEPOGF2QMAXO4W3TYP27DCQRITGA  B07X1HF3V6     0.0   \n",
       "657191  AHZOHLRLN6MKO22GMSPC3A4S5A7Q  B004D1Z3UO     0.0   \n",
       "\n",
       "                     timestamp  user_indice  item_indice main_category  \\\n",
       "0      2017-10-30 14:23:22.389         2561         2919   Video Games   \n",
       "1      2017-11-27 22:01:33.258        18413         3777   Video Games   \n",
       "2      2017-03-23 21:41:18.000         6463         2086   Video Games   \n",
       "3      2017-01-18 15:50:12.000         7246         4048   Video Games   \n",
       "4      2014-01-29 22:50:20.000        16376         1215   Video Games   \n",
       "...                        ...          ...          ...           ...   \n",
       "657187 2013-10-05 20:20:52.000          592         3442   Video Games   \n",
       "657188 2018-07-10 21:22:10.594         6351         4342   Video Games   \n",
       "657189 2018-12-16 13:39:37.174         8062         1651   Video Games   \n",
       "657190 2013-05-30 22:53:17.000         3373         4237   Video Games   \n",
       "657191 2014-09-11 21:15:29.000        19506         1672   Video Games   \n",
       "\n",
       "                                               categories   price  \\\n",
       "0                     [Video Games, PlayStation 4, Games]    None   \n",
       "1       [Video Games, Nintendo Switch, Accessories, Co...   94.98   \n",
       "2                                       [Video Games, PC]    None   \n",
       "3                          [Video Games, Xbox One, Games]   49.88   \n",
       "4       [Video Games, Legacy Systems, Xbox Systems, Xb...   31.49   \n",
       "...                                                   ...     ...   \n",
       "657187  [Video Games, Legacy Systems, Nintendo Systems...  249.99   \n",
       "657188           [Video Games, Nintendo Switch, Consoles]    None   \n",
       "657189  [Video Games, Legacy Systems, Xbox Systems, Xb...   12.48   \n",
       "657190  [Video Games, Legacy Systems, PlayStation Syst...   34.43   \n",
       "657191  [Video Games, Legacy Systems, PlayStation Syst...   17.87   \n",
       "\n",
       "        user_rating_cnt_90d  user_rating_avg_prev_rating_90d  \\\n",
       "0                         2                         5.000000   \n",
       "1                         2                         4.000000   \n",
       "2                         1                              NaN   \n",
       "3                        25                         4.416667   \n",
       "4                         4                         5.000000   \n",
       "...                     ...                              ...   \n",
       "657187                    1                              NaN   \n",
       "657188                    3                         5.000000   \n",
       "657189                    2                         5.000000   \n",
       "657190                    4                         3.666667   \n",
       "657191                   10                         4.666667   \n",
       "\n",
       "                          user_rating_list_10_recent_asin  \\\n",
       "0             B005FVBYV8,B003FMTZSI,B01MS6WG9S,B073W2T5F6   \n",
       "1       B00CJ9OTNE,B0118YZG0A,B008M502H6,B003Y70W4U,B0...   \n",
       "2       B07YBX8RNF,B0166QDJDQ,B01CHU4IY4,B00Z9LUDX4,B0...   \n",
       "3       B00I6E6SH6,B00O65I2VY,B005GISQQG,B00008KTNW,B0...   \n",
       "4                        B002I0K956,B008CZN458,B0050SXVK8   \n",
       "...                                                   ...   \n",
       "657187                                         B07X1HF3V6   \n",
       "657188  B002I0H79C,B00503E9FY,B00KVOVBGM,B00SHXKC8M,B0...   \n",
       "657189  B002BSA388,B00PIEI1DG,B08MBHYJP4,B071GPJVTQ,B0...   \n",
       "657190  B0013OL0BK,B002D2Y3IS,B0044R8X9U,B07VLCRZ21,B0...   \n",
       "657191  B00IAVDQCK,B00GOZSR96,B00DBDPOZ4,B00EI4V3FU,B0...   \n",
       "\n",
       "                                            item_sequence  \n",
       "0        [-1, -1, -1, -1, -1, -1, 1912, 1470, 3498, 3723]  \n",
       "1       [2391, 3100, 2176, 1588, 3161, 2133, 2906, 166...  \n",
       "2       [4278, 3183, 3288, 3038, 4508, 3391, 3403, 368...  \n",
       "3       [2632, 2859, 1920, 253, 1428, 1053, 584, 732, ...  \n",
       "4          [-1, -1, -1, -1, -1, -1, -1, 1328, 2146, 1843]  \n",
       "...                                                   ...  \n",
       "657187         [-1, -1, -1, -1, -1, -1, -1, -1, -1, 4237]  \n",
       "657188  [1292, 1807, 2734, 2940, 3402, 2759, 2702, 104...  \n",
       "657189  [1216, 2898, 4397, 3643, 3642, 3527, 3423, 367...  \n",
       "657190  [-1, -1, -1, -1, -1, 652, 1240, 1629, 4207, 1707]  \n",
       "657191  [-1, 2641, 2581, 2428, 2491, 2024, 2187, 2123,...  \n",
       "\n",
       "[657192 rows x 13 columns]"
      ]
     },
     "execution_count": 20,
     "metadata": {},
     "output_type": "execute_result"
    }
   ],
   "source": [
    "train_df"
   ]
  },
  {
   "cell_type": "code",
   "execution_count": 21,
   "id": "bd469969-aaa6-4763-a0fc-d432961cf4dc",
   "metadata": {
    "scrolled": true
   },
   "outputs": [
    {
     "data": {
      "application/vnd.jupyter.widget-view+json": {
       "model_id": "097d44e2491a41028a4eab1ed1fd440a",
       "version_major": 2,
       "version_minor": 0
      },
      "text/plain": [
       "  0%|          | 0/5 [00:00<?, ?it/s]"
      ]
     },
     "metadata": {},
     "output_type": "display_data"
    },
    {
     "data": {
      "application/vnd.jupyter.widget-view+json": {
       "model_id": "d4018438c7764a6a9c704124931cea3e",
       "version_major": 2,
       "version_minor": 0
      },
      "text/plain": [
       "Transforming chunks:   0%|          | 0/66 [00:00<?, ?it/s]"
      ]
     },
     "metadata": {},
     "output_type": "display_data"
    },
    {
     "data": {
      "application/vnd.jupyter.widget-view+json": {
       "model_id": "ad19f3601aa347eb8a3647998ae3f258",
       "version_major": 2,
       "version_minor": 0
      },
      "text/plain": [
       "Transforming chunks:   0%|          | 0/1 [00:00<?, ?it/s]"
      ]
     },
     "metadata": {},
     "output_type": "display_data"
    },
    {
     "name": "stderr",
     "output_type": "stream",
     "text": [
      "\u001b[32m2024-10-27 18:01:30.252\u001b[0m | \u001b[1mINFO    \u001b[0m | \u001b[36m__main__\u001b[0m:\u001b[36m<module>\u001b[0m:\u001b[36m19\u001b[0m - \u001b[1mlen(user_indices)=19,578, len(item_indices)=4,630\u001b[0m\n"
     ]
    }
   ],
   "source": [
    "user_indices = train_df[\"user_indice\"].unique()\n",
    "item_indices = train_df[\"item_indice\"].unique()\n",
    "all_sbert_vectors = get_vector_by_ids(item_indices.tolist(), chunk_size=1000).astype(np.float32)\n",
    "\n",
    "train_item_features = chunk_transform(\n",
    "    train_df, item_metadata_pipeline, chunk_size=args.tfm_chunk_size\n",
    ")\n",
    "train_item_features = train_item_features.astype(np.float32)\n",
    "train_sbert_vectors = all_sbert_vectors[train_df['item_indice'].values]\n",
    "train_item_features = np.hstack([train_item_features, train_sbert_vectors])\n",
    "\n",
    "val_item_features = chunk_transform(\n",
    "    val_df, item_metadata_pipeline, chunk_size=args.tfm_chunk_size\n",
    ")\n",
    "val_item_features = val_item_features.astype(np.float32)\n",
    "val_sbert_vectors = all_sbert_vectors[val_df['item_indice'].values]\n",
    "val_item_features = np.hstack([val_item_features, val_sbert_vectors])\n",
    "\n",
    "logger.info(f\"{len(user_indices)=:,.0f}, {len(item_indices)=:,.0f}\")"
   ]
  },
  {
   "cell_type": "markdown",
   "id": "5260fbe7-2f90-44a1-be74-ce5db9b511ee",
   "metadata": {},
   "source": [
    "# Train"
   ]
  },
  {
   "cell_type": "code",
   "execution_count": 22,
   "id": "240a04ed-8898-443f-b0f4-7399bfa63810",
   "metadata": {},
   "outputs": [],
   "source": [
    "rating_dataset = UserItemBinaryDFDataset(\n",
    "    train_df,\n",
    "    \"user_indice\",\n",
    "    \"item_indice\",\n",
    "    args.rating_col,\n",
    "    args.timestamp_col,\n",
    "    item_feature=train_item_features,\n",
    ")\n",
    "val_rating_dataset = UserItemBinaryDFDataset(\n",
    "    val_df,\n",
    "    \"user_indice\",\n",
    "    \"item_indice\",\n",
    "    args.rating_col,\n",
    "    args.timestamp_col,\n",
    "    item_feature=val_item_features,\n",
    ")\n",
    "\n",
    "train_loader = DataLoader(\n",
    "    rating_dataset, batch_size=args.batch_size, shuffle=True, drop_last=True\n",
    ")\n",
    "val_loader = DataLoader(\n",
    "    val_rating_dataset, batch_size=args.batch_size, shuffle=False, drop_last=False\n",
    ")"
   ]
  },
  {
   "cell_type": "code",
   "execution_count": 23,
   "id": "22dcf157-425f-4d15-9b53-e1ff93887def",
   "metadata": {
    "scrolled": true
   },
   "outputs": [
    {
     "data": {
      "text/plain": [
       "Ranker(\n",
       "  (item_embedding): Embedding(4631, 64, padding_idx=4630)\n",
       "  (user_embedding): Embedding(19578, 64)\n",
       "  (gru): GRU(128, 64, batch_first=True)\n",
       "  (relu): ReLU()\n",
       "  (dropout): Dropout(p=0.3, inplace=False)\n",
       "  (item_feature_tower): Sequential(\n",
       "    (0): Linear(in_features=921, out_features=64, bias=True)\n",
       "    (1): BatchNorm1d(64, eps=1e-05, momentum=0.1, affine=True, track_running_stats=True)\n",
       "    (2): ReLU()\n",
       "    (3): Dropout(p=0.3, inplace=False)\n",
       "  )\n",
       "  (fc_rating): Sequential(\n",
       "    (0): Linear(in_features=256, out_features=64, bias=True)\n",
       "    (1): BatchNorm1d(64, eps=1e-05, momentum=0.1, affine=True, track_running_stats=True)\n",
       "    (2): ReLU()\n",
       "    (3): Dropout(p=0.3, inplace=False)\n",
       "    (4): Linear(in_features=64, out_features=1, bias=True)\n",
       "    (5): Sigmoid()\n",
       "  )\n",
       ")"
      ]
     },
     "execution_count": 23,
     "metadata": {},
     "output_type": "execute_result"
    }
   ],
   "source": [
    "n_items = len(item_indices)\n",
    "n_users = len(user_indices)\n",
    "\n",
    "model = init_model(\n",
    "    n_users, n_items, args.embedding_dim, item_feature_size, args.dropout\n",
    ")\n",
    "model"
   ]
  },
  {
   "cell_type": "markdown",
   "id": "b8cbb2a8-a578-4ad2-941e-efd01d930336",
   "metadata": {},
   "source": [
    "#### Predict before train"
   ]
  },
  {
   "cell_type": "code",
   "execution_count": 24,
   "id": "0112de1e-1dce-4982-9663-a1df91fd0001",
   "metadata": {
    "scrolled": true
   },
   "outputs": [
    {
     "data": {
      "text/html": [
       "<div>\n",
       "<style scoped>\n",
       "    .dataframe tbody tr th:only-of-type {\n",
       "        vertical-align: middle;\n",
       "    }\n",
       "\n",
       "    .dataframe tbody tr th {\n",
       "        vertical-align: top;\n",
       "    }\n",
       "\n",
       "    .dataframe thead th {\n",
       "        text-align: right;\n",
       "    }\n",
       "</style>\n",
       "<table border=\"1\" class=\"dataframe\">\n",
       "  <thead>\n",
       "    <tr style=\"text-align: right;\">\n",
       "      <th></th>\n",
       "      <th>user_id</th>\n",
       "      <th>parent_asin</th>\n",
       "      <th>rating</th>\n",
       "      <th>timestamp</th>\n",
       "      <th>user_indice</th>\n",
       "      <th>item_indice</th>\n",
       "      <th>main_category</th>\n",
       "      <th>categories</th>\n",
       "      <th>price</th>\n",
       "      <th>user_rating_cnt_90d</th>\n",
       "      <th>user_rating_avg_prev_rating_90d</th>\n",
       "      <th>user_rating_list_10_recent_asin</th>\n",
       "      <th>item_sequence</th>\n",
       "    </tr>\n",
       "  </thead>\n",
       "  <tbody>\n",
       "    <tr>\n",
       "      <th>364</th>\n",
       "      <td>AGFNYWOFY5N6MWIDLMEROWT5Z2IA</td>\n",
       "      <td>B09KL8P6DP</td>\n",
       "      <td>1.0</td>\n",
       "      <td>2022-03-08 18:42:41.757</td>\n",
       "      <td>11525</td>\n",
       "      <td>4484</td>\n",
       "      <td>All Electronics</td>\n",
       "      <td>[Video Games, Legacy Systems, Xbox Systems, Xb...</td>\n",
       "      <td>16.99</td>\n",
       "      <td>1</td>\n",
       "      <td>NaN</td>\n",
       "      <td>B001EYUQKU,B001QCWRWK,B001EYUY3Y,B00HX1UXD8,B0...</td>\n",
       "      <td>[-1, -1, 917, 1123, 1035, 2626, 4457, 1228, 28...</td>\n",
       "    </tr>\n",
       "    <tr>\n",
       "      <th>221</th>\n",
       "      <td>AGKBFG5VF5ZBTL5BUYVVZ2PCB5GA</td>\n",
       "      <td>B0764BLMJL</td>\n",
       "      <td>0.0</td>\n",
       "      <td>2021-09-06 01:55:57.087</td>\n",
       "      <td>12224</td>\n",
       "      <td>3789</td>\n",
       "      <td>Video Games</td>\n",
       "      <td>[Video Games, PlayStation 4, Games]</td>\n",
       "      <td>39.99</td>\n",
       "      <td>1</td>\n",
       "      <td>NaN</td>\n",
       "      <td>B00J7N6C26,B07BW77M9V,B00BZS9JV2,B00DC7O77A,B0...</td>\n",
       "      <td>[-1, -1, -1, -1, -1, 2673, 3882, 2367, 2438, 4...</td>\n",
       "    </tr>\n",
       "    <tr>\n",
       "      <th>1134</th>\n",
       "      <td>AHMRBNO7J7WSCIPKFIT743QO55XA</td>\n",
       "      <td>B0C5K4M7WJ</td>\n",
       "      <td>1.0</td>\n",
       "      <td>2022-04-28 23:36:09.433</td>\n",
       "      <td>17534</td>\n",
       "      <td>4614</td>\n",
       "      <td>Computers</td>\n",
       "      <td>[Video Games, PC, Accessories, Headsets]</td>\n",
       "      <td>119.99</td>\n",
       "      <td>1</td>\n",
       "      <td>NaN</td>\n",
       "      <td>B006PP404Q,B00R0ZS9YW,B009MRZAUC,B00L59D9HG,B0...</td>\n",
       "      <td>[2010, 2920, 2244, 2759, 2281, 3199, 2778, 287...</td>\n",
       "    </tr>\n",
       "    <tr>\n",
       "      <th>2218</th>\n",
       "      <td>AHCFZPQLIV7236UBXSGU3I5SMXBQ</td>\n",
       "      <td>B007WPGT2Y</td>\n",
       "      <td>0.0</td>\n",
       "      <td>2021-11-01 01:28:20.415</td>\n",
       "      <td>15933</td>\n",
       "      <td>2092</td>\n",
       "      <td>Video Games</td>\n",
       "      <td>[Video Games, Legacy Systems, PlayStation Syst...</td>\n",
       "      <td>22.5</td>\n",
       "      <td>3</td>\n",
       "      <td>5.0</td>\n",
       "      <td>B004LLHFAW,B07STWQ38X,B072V478NR,B076GXJNDZ,B0...</td>\n",
       "      <td>[1733, 4170, 3705, 3798, 4612, 3691, 3087, 347...</td>\n",
       "    </tr>\n",
       "    <tr>\n",
       "      <th>3105</th>\n",
       "      <td>AF3TAMOYZEDTYYEX4ZB23A6CS7ZA</td>\n",
       "      <td>B001EYUPJ2</td>\n",
       "      <td>0.0</td>\n",
       "      <td>2021-12-18 23:14:30.970</td>\n",
       "      <td>5197</td>\n",
       "      <td>874</td>\n",
       "      <td>Video Games</td>\n",
       "      <td>[Video Games, Legacy Systems, Xbox Systems, Xb...</td>\n",
       "      <td>33.02</td>\n",
       "      <td>1</td>\n",
       "      <td>NaN</td>\n",
       "      <td>B000HZFCT2,B000FGA1US,B00ZMBLKPG,B016P6KIFY,B0...</td>\n",
       "      <td>[496, 450, 3077, 3190, 3434, 1869, 4284, 2152,...</td>\n",
       "    </tr>\n",
       "    <tr>\n",
       "      <th>3422</th>\n",
       "      <td>AFIXV7CY3OC6WI5DXCS3JAGP5SQA</td>\n",
       "      <td>B001EYUQTQ</td>\n",
       "      <td>0.0</td>\n",
       "      <td>2022-07-15 12:10:21.161</td>\n",
       "      <td>7189</td>\n",
       "      <td>923</td>\n",
       "      <td>None</td>\n",
       "      <td>[Video Games, Legacy Systems, PlayStation Syst...</td>\n",
       "      <td>15.0</td>\n",
       "      <td>1</td>\n",
       "      <td>NaN</td>\n",
       "      <td>B009CYJ8SA,B019WRM1IA,B015IX3X3E,B011ALF4XK,B0...</td>\n",
       "      <td>[2225, 3242, 3168, 3103, 2931, 2759, 1820, 367...</td>\n",
       "    </tr>\n",
       "    <tr>\n",
       "      <th>1781</th>\n",
       "      <td>AFW22P67ZJR422WXAPZDLFQSTCAQ</td>\n",
       "      <td>B0053B5RGI</td>\n",
       "      <td>0.0</td>\n",
       "      <td>2022-07-13 01:03:37.935</td>\n",
       "      <td>9188</td>\n",
       "      <td>1869</td>\n",
       "      <td>Video Games</td>\n",
       "      <td>[Video Games, Legacy Systems, Nintendo Systems...</td>\n",
       "      <td>49.99</td>\n",
       "      <td>1</td>\n",
       "      <td>NaN</td>\n",
       "      <td>B0CB8LZT7K,B0795GHTBC,B087NMYQYG,B07D13QGXM,B0...</td>\n",
       "      <td>[-1, -1, -1, -1, 4626, 3846, 4339, 3913, 4533,...</td>\n",
       "    </tr>\n",
       "    <tr>\n",
       "      <th>776</th>\n",
       "      <td>AHSENHOIWSXPI2JWYX3RJXDYFRVA</td>\n",
       "      <td>B08GCGZ221</td>\n",
       "      <td>1.0</td>\n",
       "      <td>2021-10-29 14:57:32.907</td>\n",
       "      <td>18368</td>\n",
       "      <td>4380</td>\n",
       "      <td>All Electronics</td>\n",
       "      <td>[Video Games, Nintendo Switch, Accessories, Ca...</td>\n",
       "      <td>9.99</td>\n",
       "      <td>2</td>\n",
       "      <td>5.0</td>\n",
       "      <td>B07V3G4SNR,B07TCPVHTM,B07ST7LY8F,B087NNZZM8,B0...</td>\n",
       "      <td>[4193, 4181, 4169, 4343, 4477, 4603, 4195, 444...</td>\n",
       "    </tr>\n",
       "    <tr>\n",
       "      <th>1601</th>\n",
       "      <td>AFWMPFOSPMWMIJUMWAPCWBTTAHJQ</td>\n",
       "      <td>B0714FFZD8</td>\n",
       "      <td>0.0</td>\n",
       "      <td>2021-11-18 04:25:17.644</td>\n",
       "      <td>9277</td>\n",
       "      <td>3625</td>\n",
       "      <td>Video Games</td>\n",
       "      <td>[Video Games, Nintendo Switch, Games]</td>\n",
       "      <td>44.99</td>\n",
       "      <td>1</td>\n",
       "      <td>NaN</td>\n",
       "      <td>B0036EWMIK,B07HHVF2XG,B07YBXFF5C,B00MAM0ALA,B0...</td>\n",
       "      <td>[1426, 4003, 4284, 2791, 3504, 2804, 1875, 395...</td>\n",
       "    </tr>\n",
       "    <tr>\n",
       "      <th>826</th>\n",
       "      <td>AHQXEAJC5ZNBESCNQNJDSU63AJTQ</td>\n",
       "      <td>B000N5Z2L4</td>\n",
       "      <td>0.0</td>\n",
       "      <td>2022-02-17 06:14:34.666</td>\n",
       "      <td>18163</td>\n",
       "      <td>526</td>\n",
       "      <td>Video Games</td>\n",
       "      <td>[Video Games, Xbox Digital Content, Subscripti...</td>\n",
       "      <td>9.99</td>\n",
       "      <td>1</td>\n",
       "      <td>NaN</td>\n",
       "      <td>B0088TN7BO,B0084A97Y8,B00KWIYPZG,B0053BCML6,B0...</td>\n",
       "      <td>[2124, 2110, 2745, 1874, 1947, 2582, 2905, 314...</td>\n",
       "    </tr>\n",
       "  </tbody>\n",
       "</table>\n",
       "</div>"
      ],
      "text/plain": [
       "                           user_id parent_asin  rating  \\\n",
       "364   AGFNYWOFY5N6MWIDLMEROWT5Z2IA  B09KL8P6DP     1.0   \n",
       "221   AGKBFG5VF5ZBTL5BUYVVZ2PCB5GA  B0764BLMJL     0.0   \n",
       "1134  AHMRBNO7J7WSCIPKFIT743QO55XA  B0C5K4M7WJ     1.0   \n",
       "2218  AHCFZPQLIV7236UBXSGU3I5SMXBQ  B007WPGT2Y     0.0   \n",
       "3105  AF3TAMOYZEDTYYEX4ZB23A6CS7ZA  B001EYUPJ2     0.0   \n",
       "3422  AFIXV7CY3OC6WI5DXCS3JAGP5SQA  B001EYUQTQ     0.0   \n",
       "1781  AFW22P67ZJR422WXAPZDLFQSTCAQ  B0053B5RGI     0.0   \n",
       "776   AHSENHOIWSXPI2JWYX3RJXDYFRVA  B08GCGZ221     1.0   \n",
       "1601  AFWMPFOSPMWMIJUMWAPCWBTTAHJQ  B0714FFZD8     0.0   \n",
       "826   AHQXEAJC5ZNBESCNQNJDSU63AJTQ  B000N5Z2L4     0.0   \n",
       "\n",
       "                   timestamp  user_indice  item_indice    main_category  \\\n",
       "364  2022-03-08 18:42:41.757        11525         4484  All Electronics   \n",
       "221  2021-09-06 01:55:57.087        12224         3789      Video Games   \n",
       "1134 2022-04-28 23:36:09.433        17534         4614        Computers   \n",
       "2218 2021-11-01 01:28:20.415        15933         2092      Video Games   \n",
       "3105 2021-12-18 23:14:30.970         5197          874      Video Games   \n",
       "3422 2022-07-15 12:10:21.161         7189          923             None   \n",
       "1781 2022-07-13 01:03:37.935         9188         1869      Video Games   \n",
       "776  2021-10-29 14:57:32.907        18368         4380  All Electronics   \n",
       "1601 2021-11-18 04:25:17.644         9277         3625      Video Games   \n",
       "826  2022-02-17 06:14:34.666        18163          526      Video Games   \n",
       "\n",
       "                                             categories   price  \\\n",
       "364   [Video Games, Legacy Systems, Xbox Systems, Xb...   16.99   \n",
       "221                 [Video Games, PlayStation 4, Games]   39.99   \n",
       "1134           [Video Games, PC, Accessories, Headsets]  119.99   \n",
       "2218  [Video Games, Legacy Systems, PlayStation Syst...    22.5   \n",
       "3105  [Video Games, Legacy Systems, Xbox Systems, Xb...   33.02   \n",
       "3422  [Video Games, Legacy Systems, PlayStation Syst...    15.0   \n",
       "1781  [Video Games, Legacy Systems, Nintendo Systems...   49.99   \n",
       "776   [Video Games, Nintendo Switch, Accessories, Ca...    9.99   \n",
       "1601              [Video Games, Nintendo Switch, Games]   44.99   \n",
       "826   [Video Games, Xbox Digital Content, Subscripti...    9.99   \n",
       "\n",
       "      user_rating_cnt_90d  user_rating_avg_prev_rating_90d  \\\n",
       "364                     1                              NaN   \n",
       "221                     1                              NaN   \n",
       "1134                    1                              NaN   \n",
       "2218                    3                              5.0   \n",
       "3105                    1                              NaN   \n",
       "3422                    1                              NaN   \n",
       "1781                    1                              NaN   \n",
       "776                     2                              5.0   \n",
       "1601                    1                              NaN   \n",
       "826                     1                              NaN   \n",
       "\n",
       "                        user_rating_list_10_recent_asin  \\\n",
       "364   B001EYUQKU,B001QCWRWK,B001EYUY3Y,B00HX1UXD8,B0...   \n",
       "221   B00J7N6C26,B07BW77M9V,B00BZS9JV2,B00DC7O77A,B0...   \n",
       "1134  B006PP404Q,B00R0ZS9YW,B009MRZAUC,B00L59D9HG,B0...   \n",
       "2218  B004LLHFAW,B07STWQ38X,B072V478NR,B076GXJNDZ,B0...   \n",
       "3105  B000HZFCT2,B000FGA1US,B00ZMBLKPG,B016P6KIFY,B0...   \n",
       "3422  B009CYJ8SA,B019WRM1IA,B015IX3X3E,B011ALF4XK,B0...   \n",
       "1781  B0CB8LZT7K,B0795GHTBC,B087NMYQYG,B07D13QGXM,B0...   \n",
       "776   B07V3G4SNR,B07TCPVHTM,B07ST7LY8F,B087NNZZM8,B0...   \n",
       "1601  B0036EWMIK,B07HHVF2XG,B07YBXFF5C,B00MAM0ALA,B0...   \n",
       "826   B0088TN7BO,B0084A97Y8,B00KWIYPZG,B0053BCML6,B0...   \n",
       "\n",
       "                                          item_sequence  \n",
       "364   [-1, -1, 917, 1123, 1035, 2626, 4457, 1228, 28...  \n",
       "221   [-1, -1, -1, -1, -1, 2673, 3882, 2367, 2438, 4...  \n",
       "1134  [2010, 2920, 2244, 2759, 2281, 3199, 2778, 287...  \n",
       "2218  [1733, 4170, 3705, 3798, 4612, 3691, 3087, 347...  \n",
       "3105  [496, 450, 3077, 3190, 3434, 1869, 4284, 2152,...  \n",
       "3422  [2225, 3242, 3168, 3103, 2931, 2759, 1820, 367...  \n",
       "1781  [-1, -1, -1, -1, 4626, 3846, 4339, 3913, 4533,...  \n",
       "776   [4193, 4181, 4169, 4343, 4477, 4603, 4195, 444...  \n",
       "1601  [1426, 4003, 4284, 2791, 3504, 2804, 1875, 395...  \n",
       "826   [2124, 2110, 2745, 1874, 1947, 2582, 2905, 314...  "
      ]
     },
     "execution_count": 24,
     "metadata": {},
     "output_type": "execute_result"
    }
   ],
   "source": [
    "val_df = val_rating_dataset.df\n",
    "val_df.sample(10)"
   ]
  },
  {
   "cell_type": "code",
   "execution_count": 25,
   "id": "9eb1583b-40f7-4157-a383-5891389ac119",
   "metadata": {
    "scrolled": true
   },
   "outputs": [
    {
     "data": {
      "text/html": [
       "<div>\n",
       "<style scoped>\n",
       "    .dataframe tbody tr th:only-of-type {\n",
       "        vertical-align: middle;\n",
       "    }\n",
       "\n",
       "    .dataframe tbody tr th {\n",
       "        vertical-align: top;\n",
       "    }\n",
       "\n",
       "    .dataframe thead th {\n",
       "        text-align: right;\n",
       "    }\n",
       "</style>\n",
       "<table border=\"1\" class=\"dataframe\">\n",
       "  <thead>\n",
       "    <tr style=\"text-align: right;\">\n",
       "      <th></th>\n",
       "      <th>user_id</th>\n",
       "      <th>parent_asin</th>\n",
       "      <th>rating</th>\n",
       "      <th>timestamp</th>\n",
       "      <th>user_indice</th>\n",
       "      <th>item_indice</th>\n",
       "      <th>main_category</th>\n",
       "      <th>categories</th>\n",
       "      <th>price</th>\n",
       "      <th>user_rating_cnt_90d</th>\n",
       "      <th>user_rating_avg_prev_rating_90d</th>\n",
       "      <th>user_rating_list_10_recent_asin</th>\n",
       "      <th>item_sequence</th>\n",
       "    </tr>\n",
       "  </thead>\n",
       "  <tbody>\n",
       "    <tr>\n",
       "      <th>1391</th>\n",
       "      <td>AECCEXRYXAFKLBRLXSLG434XB2LQ</td>\n",
       "      <td>B07YBX7Y3P</td>\n",
       "      <td>0.0</td>\n",
       "      <td>2022-03-20 20:30:20.825</td>\n",
       "      <td>1258</td>\n",
       "      <td>4276</td>\n",
       "      <td>Video Games</td>\n",
       "      <td>[Video Games, Xbox One, Games]</td>\n",
       "      <td>14.98</td>\n",
       "      <td>1</td>\n",
       "      <td>NaN</td>\n",
       "      <td>B07NPYW85T,B07D13QGXM,B01N3ASPNV,B06XHLM4DX,B0771ZXXV6,B07N8T1K97,B017W17G1U,B07V3T7WF1,B00Z9TKWQO</td>\n",
       "      <td>[-1, 4089, 3913, 3527, 3573, 3806, 4075, 3213, 4195, 3053]</td>\n",
       "    </tr>\n",
       "    <tr>\n",
       "      <th>1568</th>\n",
       "      <td>AECCEXRYXAFKLBRLXSLG434XB2LQ</td>\n",
       "      <td>B001EYUQNM</td>\n",
       "      <td>0.0</td>\n",
       "      <td>2022-03-20 20:30:20.825</td>\n",
       "      <td>1258</td>\n",
       "      <td>920</td>\n",
       "      <td>Video Games</td>\n",
       "      <td>[Video Games, Legacy Systems, Xbox Systems, Xbox, Games]</td>\n",
       "      <td>6.97</td>\n",
       "      <td>1</td>\n",
       "      <td>NaN</td>\n",
       "      <td>B07NPYW85T,B07D13QGXM,B01N3ASPNV,B06XHLM4DX,B0771ZXXV6,B07N8T1K97,B017W17G1U,B07V3T7WF1,B00Z9TKWQO</td>\n",
       "      <td>[-1, 4089, 3913, 3527, 3573, 3806, 4075, 3213, 4195, 3053]</td>\n",
       "    </tr>\n",
       "    <tr>\n",
       "      <th>2255</th>\n",
       "      <td>AECCEXRYXAFKLBRLXSLG434XB2LQ</td>\n",
       "      <td>B00L3LQ1FI</td>\n",
       "      <td>0.0</td>\n",
       "      <td>2022-03-20 20:30:20.825</td>\n",
       "      <td>1258</td>\n",
       "      <td>2755</td>\n",
       "      <td>Video Games</td>\n",
       "      <td>[Video Games, Legacy Systems, Nintendo Systems, Wii U, Accessories]</td>\n",
       "      <td>69.98</td>\n",
       "      <td>1</td>\n",
       "      <td>NaN</td>\n",
       "      <td>B07NPYW85T,B07D13QGXM,B01N3ASPNV,B06XHLM4DX,B0771ZXXV6,B07N8T1K97,B017W17G1U,B07V3T7WF1,B00Z9TKWQO</td>\n",
       "      <td>[-1, 4089, 3913, 3527, 3573, 3806, 4075, 3213, 4195, 3053]</td>\n",
       "    </tr>\n",
       "    <tr>\n",
       "      <th>2934</th>\n",
       "      <td>AECCEXRYXAFKLBRLXSLG434XB2LQ</td>\n",
       "      <td>B00HBUOVIO</td>\n",
       "      <td>1.0</td>\n",
       "      <td>2022-03-20 20:30:20.825</td>\n",
       "      <td>1258</td>\n",
       "      <td>2596</td>\n",
       "      <td>Grocery</td>\n",
       "      <td>[Video Games, PlayStation 4, Games]</td>\n",
       "      <td>10.49</td>\n",
       "      <td>1</td>\n",
       "      <td>NaN</td>\n",
       "      <td>B07NPYW85T,B07D13QGXM,B01N3ASPNV,B06XHLM4DX,B0771ZXXV6,B07N8T1K97,B017W17G1U,B07V3T7WF1,B00Z9TKWQO</td>\n",
       "      <td>[-1, 4089, 3913, 3527, 3573, 3806, 4075, 3213, 4195, 3053]</td>\n",
       "    </tr>\n",
       "  </tbody>\n",
       "</table>\n",
       "</div>"
      ],
      "text/plain": [
       "                           user_id parent_asin  rating  \\\n",
       "1391  AECCEXRYXAFKLBRLXSLG434XB2LQ  B07YBX7Y3P     0.0   \n",
       "1568  AECCEXRYXAFKLBRLXSLG434XB2LQ  B001EYUQNM     0.0   \n",
       "2255  AECCEXRYXAFKLBRLXSLG434XB2LQ  B00L3LQ1FI     0.0   \n",
       "2934  AECCEXRYXAFKLBRLXSLG434XB2LQ  B00HBUOVIO     1.0   \n",
       "\n",
       "                   timestamp  user_indice  item_indice main_category  \\\n",
       "1391 2022-03-20 20:30:20.825         1258         4276   Video Games   \n",
       "1568 2022-03-20 20:30:20.825         1258          920   Video Games   \n",
       "2255 2022-03-20 20:30:20.825         1258         2755   Video Games   \n",
       "2934 2022-03-20 20:30:20.825         1258         2596       Grocery   \n",
       "\n",
       "                                                               categories  \\\n",
       "1391                                       [Video Games, Xbox One, Games]   \n",
       "1568             [Video Games, Legacy Systems, Xbox Systems, Xbox, Games]   \n",
       "2255  [Video Games, Legacy Systems, Nintendo Systems, Wii U, Accessories]   \n",
       "2934                                  [Video Games, PlayStation 4, Games]   \n",
       "\n",
       "      price  user_rating_cnt_90d  user_rating_avg_prev_rating_90d  \\\n",
       "1391  14.98                    1                              NaN   \n",
       "1568   6.97                    1                              NaN   \n",
       "2255  69.98                    1                              NaN   \n",
       "2934  10.49                    1                              NaN   \n",
       "\n",
       "                                                                         user_rating_list_10_recent_asin  \\\n",
       "1391  B07NPYW85T,B07D13QGXM,B01N3ASPNV,B06XHLM4DX,B0771ZXXV6,B07N8T1K97,B017W17G1U,B07V3T7WF1,B00Z9TKWQO   \n",
       "1568  B07NPYW85T,B07D13QGXM,B01N3ASPNV,B06XHLM4DX,B0771ZXXV6,B07N8T1K97,B017W17G1U,B07V3T7WF1,B00Z9TKWQO   \n",
       "2255  B07NPYW85T,B07D13QGXM,B01N3ASPNV,B06XHLM4DX,B0771ZXXV6,B07N8T1K97,B017W17G1U,B07V3T7WF1,B00Z9TKWQO   \n",
       "2934  B07NPYW85T,B07D13QGXM,B01N3ASPNV,B06XHLM4DX,B0771ZXXV6,B07N8T1K97,B017W17G1U,B07V3T7WF1,B00Z9TKWQO   \n",
       "\n",
       "                                                   item_sequence  \n",
       "1391  [-1, 4089, 3913, 3527, 3573, 3806, 4075, 3213, 4195, 3053]  \n",
       "1568  [-1, 4089, 3913, 3527, 3573, 3806, 4075, 3213, 4195, 3053]  \n",
       "2255  [-1, 4089, 3913, 3527, 3573, 3806, 4075, 3213, 4195, 3053]  \n",
       "2934  [-1, 4089, 3913, 3527, 3573, 3806, 4075, 3213, 4195, 3053]  "
      ]
     },
     "metadata": {},
     "output_type": "display_data"
    }
   ],
   "source": [
    "user_id = val_df.sample(1)[args.user_col].values[0]\n",
    "# user_id = \"AH4AOFTTDPHPAFAAVFMAF25H2LIQ\"\n",
    "test_df = val_df.loc[lambda df: df[args.user_col].eq(user_id)]\n",
    "with pd.option_context(\"display.max_colwidth\", None):\n",
    "    display(test_df)"
   ]
  },
  {
   "cell_type": "code",
   "execution_count": 26,
   "id": "c48fbc80-eda8-4dff-a246-95f8f2f75082",
   "metadata": {
    "scrolled": true
   },
   "outputs": [
    {
     "name": "stderr",
     "output_type": "stream",
     "text": [
      "\u001b[32m2024-10-27 18:01:30.685\u001b[0m | \u001b[1mINFO    \u001b[0m | \u001b[36m__main__\u001b[0m:\u001b[36m<module>\u001b[0m:\u001b[36m6\u001b[0m - \u001b[1mTest predicting before training with user_id = AECCEXRYXAFKLBRLXSLG434XB2LQ and parent_asin = B00HBUOVIO\u001b[0m\n",
      "/var/folders/mq/xtxzhvlj4m97tb8lgwxcnsb40000gn/T/ipykernel_27725/2733117192.py:12: UserWarning:\n",
      "\n",
      "Creating a tensor from a list of numpy.ndarrays is extremely slow. Please consider converting the list to a single numpy.ndarray with numpy.array() before converting to a tensor. (Triggered internally at /Users/runner/work/pytorch/pytorch/pytorch/torch/csrc/utils/tensor_new.cpp:281.)\n",
      "\n"
     ]
    },
    {
     "data": {
      "text/plain": [
       "tensor([[0.5514]], grad_fn=<SigmoidBackward0>)"
      ]
     },
     "execution_count": 26,
     "metadata": {},
     "output_type": "execute_result"
    }
   ],
   "source": [
    "test_row = test_df.loc[lambda df: df[args.rating_col].gt(0)].iloc[0]\n",
    "item_id = test_row[args.item_col]\n",
    "item_sequence = test_row[\"item_sequence\"]\n",
    "row_idx = test_row.name\n",
    "item_feature = val_item_features[row_idx]\n",
    "logger.info(\n",
    "    f\"Test predicting before training with {args.user_col} = {user_id} and {args.item_col} = {item_id}\"\n",
    ")\n",
    "user_indice = idm.get_user_index(user_id)\n",
    "item_indice = idm.get_item_index(item_id)\n",
    "user = torch.tensor([user_indice])\n",
    "item_sequence = torch.tensor([item_sequence])\n",
    "item_feature = torch.tensor([item_feature])\n",
    "item = torch.tensor([item_indice])\n",
    "\n",
    "model.eval()\n",
    "model.predict(user, item_sequence, item_feature, item)"
   ]
  },
  {
   "cell_type": "markdown",
   "id": "c2fd217c-c0c8-4e7c-81fe-6eb36f4729b5",
   "metadata": {},
   "source": [
    "#### Training loop"
   ]
  },
  {
   "cell_type": "markdown",
   "id": "1e9daad4-1365-4e8e-8f73-80ca5513572b",
   "metadata": {},
   "source": [
    "##### Overfit 1 batch"
   ]
  },
  {
   "cell_type": "code",
   "execution_count": 27,
   "id": "1a1cd9bd-e2c6-404b-b6ae-b26a7d35a0ba",
   "metadata": {
    "scrolled": true
   },
   "outputs": [
    {
     "name": "stderr",
     "output_type": "stream",
     "text": [
      "GPU available: True (mps), used: True\n",
      "TPU available: False, using: 0 TPU cores\n",
      "HPU available: False, using: 0 HPUs\n",
      "`Trainer(overfit_batches=1)` was configured so 1 batch will be used.\n",
      "\n",
      "  | Name  | Type   | Params | Mode \n",
      "-----------------------------------------\n",
      "0 | model | Ranker | 1.7 M  | train\n",
      "-----------------------------------------\n",
      "1.7 M     Trainable params\n",
      "0         Non-trainable params\n",
      "1.7 M     Total params\n",
      "6.650     Total estimated model params size (MB)\n",
      "14        Modules in train mode\n",
      "0         Modules in eval mode\n"
     ]
    },
    {
     "data": {
      "application/vnd.jupyter.widget-view+json": {
       "model_id": "",
       "version_major": 2,
       "version_minor": 0
      },
      "text/plain": [
       "Sanity Checking: |                                                                                            …"
      ]
     },
     "metadata": {},
     "output_type": "display_data"
    },
    {
     "name": "stderr",
     "output_type": "stream",
     "text": [
      "/Users/dvq/frostmourne/recsys-mvp/.venv/lib/python3.11/site-packages/lightning/pytorch/trainer/connectors/data_connector.py:251: UserWarning:\n",
      "\n",
      "You requested to overfit but enabled val dataloader shuffling. We are turning off the val dataloader shuffling for you.\n",
      "\n",
      "/Users/dvq/frostmourne/recsys-mvp/.venv/lib/python3.11/site-packages/lightning/pytorch/trainer/connectors/data_connector.py:424: PossibleUserWarning:\n",
      "\n",
      "The 'val_dataloader' does not have many workers which may be a bottleneck. Consider increasing the value of the `num_workers` argument` to `num_workers=10` in the `DataLoader` to improve performance.\n",
      "\n",
      "/Users/dvq/frostmourne/recsys-mvp/.venv/lib/python3.11/site-packages/lightning/pytorch/trainer/connectors/data_connector.py:251: UserWarning:\n",
      "\n",
      "You requested to overfit but enabled train dataloader shuffling. We are turning off the train dataloader shuffling for you.\n",
      "\n",
      "/Users/dvq/frostmourne/recsys-mvp/.venv/lib/python3.11/site-packages/lightning/pytorch/trainer/connectors/data_connector.py:424: PossibleUserWarning:\n",
      "\n",
      "The 'train_dataloader' does not have many workers which may be a bottleneck. Consider increasing the value of the `num_workers` argument` to `num_workers=10` in the `DataLoader` to improve performance.\n",
      "\n",
      "/Users/dvq/frostmourne/recsys-mvp/.venv/lib/python3.11/site-packages/lightning/pytorch/loops/fit_loop.py:298: PossibleUserWarning:\n",
      "\n",
      "The number of training batches (1) is smaller than the logging interval Trainer(log_every_n_steps=50). Set a lower value for log_every_n_steps if you want to see logs for the training epoch.\n",
      "\n"
     ]
    },
    {
     "data": {
      "application/vnd.jupyter.widget-view+json": {
       "model_id": "86765dbe5bd346ec904cbe27fc8edec1",
       "version_major": 2,
       "version_minor": 0
      },
      "text/plain": [
       "Training: |                                                                                                   …"
      ]
     },
     "metadata": {},
     "output_type": "display_data"
    },
    {
     "data": {
      "application/vnd.jupyter.widget-view+json": {
       "model_id": "",
       "version_major": 2,
       "version_minor": 0
      },
      "text/plain": [
       "Validation: |                                                                                                 …"
      ]
     },
     "metadata": {},
     "output_type": "display_data"
    },
    {
     "data": {
      "application/vnd.jupyter.widget-view+json": {
       "model_id": "",
       "version_major": 2,
       "version_minor": 0
      },
      "text/plain": [
       "Validation: |                                                                                                 …"
      ]
     },
     "metadata": {},
     "output_type": "display_data"
    },
    {
     "data": {
      "application/vnd.jupyter.widget-view+json": {
       "model_id": "",
       "version_major": 2,
       "version_minor": 0
      },
      "text/plain": [
       "Validation: |                                                                                                 …"
      ]
     },
     "metadata": {},
     "output_type": "display_data"
    },
    {
     "data": {
      "application/vnd.jupyter.widget-view+json": {
       "model_id": "",
       "version_major": 2,
       "version_minor": 0
      },
      "text/plain": [
       "Validation: |                                                                                                 …"
      ]
     },
     "metadata": {},
     "output_type": "display_data"
    },
    {
     "data": {
      "application/vnd.jupyter.widget-view+json": {
       "model_id": "",
       "version_major": 2,
       "version_minor": 0
      },
      "text/plain": [
       "Validation: |                                                                                                 …"
      ]
     },
     "metadata": {},
     "output_type": "display_data"
    },
    {
     "data": {
      "application/vnd.jupyter.widget-view+json": {
       "model_id": "",
       "version_major": 2,
       "version_minor": 0
      },
      "text/plain": [
       "Validation: |                                                                                                 …"
      ]
     },
     "metadata": {},
     "output_type": "display_data"
    },
    {
     "data": {
      "application/vnd.jupyter.widget-view+json": {
       "model_id": "",
       "version_major": 2,
       "version_minor": 0
      },
      "text/plain": [
       "Validation: |                                                                                                 …"
      ]
     },
     "metadata": {},
     "output_type": "display_data"
    },
    {
     "data": {
      "application/vnd.jupyter.widget-view+json": {
       "model_id": "",
       "version_major": 2,
       "version_minor": 0
      },
      "text/plain": [
       "Validation: |                                                                                                 …"
      ]
     },
     "metadata": {},
     "output_type": "display_data"
    },
    {
     "data": {
      "application/vnd.jupyter.widget-view+json": {
       "model_id": "",
       "version_major": 2,
       "version_minor": 0
      },
      "text/plain": [
       "Validation: |                                                                                                 …"
      ]
     },
     "metadata": {},
     "output_type": "display_data"
    },
    {
     "data": {
      "application/vnd.jupyter.widget-view+json": {
       "model_id": "",
       "version_major": 2,
       "version_minor": 0
      },
      "text/plain": [
       "Validation: |                                                                                                 …"
      ]
     },
     "metadata": {},
     "output_type": "display_data"
    },
    {
     "data": {
      "application/vnd.jupyter.widget-view+json": {
       "model_id": "",
       "version_major": 2,
       "version_minor": 0
      },
      "text/plain": [
       "Validation: |                                                                                                 …"
      ]
     },
     "metadata": {},
     "output_type": "display_data"
    },
    {
     "data": {
      "application/vnd.jupyter.widget-view+json": {
       "model_id": "",
       "version_major": 2,
       "version_minor": 0
      },
      "text/plain": [
       "Validation: |                                                                                                 …"
      ]
     },
     "metadata": {},
     "output_type": "display_data"
    },
    {
     "data": {
      "application/vnd.jupyter.widget-view+json": {
       "model_id": "",
       "version_major": 2,
       "version_minor": 0
      },
      "text/plain": [
       "Validation: |                                                                                                 …"
      ]
     },
     "metadata": {},
     "output_type": "display_data"
    },
    {
     "data": {
      "application/vnd.jupyter.widget-view+json": {
       "model_id": "",
       "version_major": 2,
       "version_minor": 0
      },
      "text/plain": [
       "Validation: |                                                                                                 …"
      ]
     },
     "metadata": {},
     "output_type": "display_data"
    },
    {
     "data": {
      "application/vnd.jupyter.widget-view+json": {
       "model_id": "",
       "version_major": 2,
       "version_minor": 0
      },
      "text/plain": [
       "Validation: |                                                                                                 …"
      ]
     },
     "metadata": {},
     "output_type": "display_data"
    },
    {
     "data": {
      "application/vnd.jupyter.widget-view+json": {
       "model_id": "",
       "version_major": 2,
       "version_minor": 0
      },
      "text/plain": [
       "Validation: |                                                                                                 …"
      ]
     },
     "metadata": {},
     "output_type": "display_data"
    },
    {
     "data": {
      "application/vnd.jupyter.widget-view+json": {
       "model_id": "",
       "version_major": 2,
       "version_minor": 0
      },
      "text/plain": [
       "Validation: |                                                                                                 …"
      ]
     },
     "metadata": {},
     "output_type": "display_data"
    },
    {
     "data": {
      "application/vnd.jupyter.widget-view+json": {
       "model_id": "",
       "version_major": 2,
       "version_minor": 0
      },
      "text/plain": [
       "Validation: |                                                                                                 …"
      ]
     },
     "metadata": {},
     "output_type": "display_data"
    },
    {
     "data": {
      "application/vnd.jupyter.widget-view+json": {
       "model_id": "",
       "version_major": 2,
       "version_minor": 0
      },
      "text/plain": [
       "Validation: |                                                                                                 …"
      ]
     },
     "metadata": {},
     "output_type": "display_data"
    },
    {
     "data": {
      "application/vnd.jupyter.widget-view+json": {
       "model_id": "",
       "version_major": 2,
       "version_minor": 0
      },
      "text/plain": [
       "Validation: |                                                                                                 …"
      ]
     },
     "metadata": {},
     "output_type": "display_data"
    },
    {
     "data": {
      "application/vnd.jupyter.widget-view+json": {
       "model_id": "",
       "version_major": 2,
       "version_minor": 0
      },
      "text/plain": [
       "Validation: |                                                                                                 …"
      ]
     },
     "metadata": {},
     "output_type": "display_data"
    },
    {
     "data": {
      "application/vnd.jupyter.widget-view+json": {
       "model_id": "",
       "version_major": 2,
       "version_minor": 0
      },
      "text/plain": [
       "Validation: |                                                                                                 …"
      ]
     },
     "metadata": {},
     "output_type": "display_data"
    },
    {
     "data": {
      "application/vnd.jupyter.widget-view+json": {
       "model_id": "",
       "version_major": 2,
       "version_minor": 0
      },
      "text/plain": [
       "Validation: |                                                                                                 …"
      ]
     },
     "metadata": {},
     "output_type": "display_data"
    },
    {
     "data": {
      "application/vnd.jupyter.widget-view+json": {
       "model_id": "",
       "version_major": 2,
       "version_minor": 0
      },
      "text/plain": [
       "Validation: |                                                                                                 …"
      ]
     },
     "metadata": {},
     "output_type": "display_data"
    },
    {
     "data": {
      "application/vnd.jupyter.widget-view+json": {
       "model_id": "",
       "version_major": 2,
       "version_minor": 0
      },
      "text/plain": [
       "Validation: |                                                                                                 …"
      ]
     },
     "metadata": {},
     "output_type": "display_data"
    },
    {
     "data": {
      "application/vnd.jupyter.widget-view+json": {
       "model_id": "",
       "version_major": 2,
       "version_minor": 0
      },
      "text/plain": [
       "Validation: |                                                                                                 …"
      ]
     },
     "metadata": {},
     "output_type": "display_data"
    },
    {
     "data": {
      "application/vnd.jupyter.widget-view+json": {
       "model_id": "",
       "version_major": 2,
       "version_minor": 0
      },
      "text/plain": [
       "Validation: |                                                                                                 …"
      ]
     },
     "metadata": {},
     "output_type": "display_data"
    },
    {
     "data": {
      "application/vnd.jupyter.widget-view+json": {
       "model_id": "",
       "version_major": 2,
       "version_minor": 0
      },
      "text/plain": [
       "Validation: |                                                                                                 …"
      ]
     },
     "metadata": {},
     "output_type": "display_data"
    },
    {
     "data": {
      "application/vnd.jupyter.widget-view+json": {
       "model_id": "",
       "version_major": 2,
       "version_minor": 0
      },
      "text/plain": [
       "Validation: |                                                                                                 …"
      ]
     },
     "metadata": {},
     "output_type": "display_data"
    },
    {
     "data": {
      "application/vnd.jupyter.widget-view+json": {
       "model_id": "",
       "version_major": 2,
       "version_minor": 0
      },
      "text/plain": [
       "Validation: |                                                                                                 …"
      ]
     },
     "metadata": {},
     "output_type": "display_data"
    },
    {
     "data": {
      "application/vnd.jupyter.widget-view+json": {
       "model_id": "",
       "version_major": 2,
       "version_minor": 0
      },
      "text/plain": [
       "Validation: |                                                                                                 …"
      ]
     },
     "metadata": {},
     "output_type": "display_data"
    },
    {
     "data": {
      "application/vnd.jupyter.widget-view+json": {
       "model_id": "",
       "version_major": 2,
       "version_minor": 0
      },
      "text/plain": [
       "Validation: |                                                                                                 …"
      ]
     },
     "metadata": {},
     "output_type": "display_data"
    },
    {
     "data": {
      "application/vnd.jupyter.widget-view+json": {
       "model_id": "",
       "version_major": 2,
       "version_minor": 0
      },
      "text/plain": [
       "Validation: |                                                                                                 …"
      ]
     },
     "metadata": {},
     "output_type": "display_data"
    },
    {
     "data": {
      "application/vnd.jupyter.widget-view+json": {
       "model_id": "",
       "version_major": 2,
       "version_minor": 0
      },
      "text/plain": [
       "Validation: |                                                                                                 …"
      ]
     },
     "metadata": {},
     "output_type": "display_data"
    },
    {
     "data": {
      "application/vnd.jupyter.widget-view+json": {
       "model_id": "",
       "version_major": 2,
       "version_minor": 0
      },
      "text/plain": [
       "Validation: |                                                                                                 …"
      ]
     },
     "metadata": {},
     "output_type": "display_data"
    },
    {
     "data": {
      "application/vnd.jupyter.widget-view+json": {
       "model_id": "",
       "version_major": 2,
       "version_minor": 0
      },
      "text/plain": [
       "Validation: |                                                                                                 …"
      ]
     },
     "metadata": {},
     "output_type": "display_data"
    },
    {
     "data": {
      "application/vnd.jupyter.widget-view+json": {
       "model_id": "",
       "version_major": 2,
       "version_minor": 0
      },
      "text/plain": [
       "Validation: |                                                                                                 …"
      ]
     },
     "metadata": {},
     "output_type": "display_data"
    },
    {
     "data": {
      "application/vnd.jupyter.widget-view+json": {
       "model_id": "",
       "version_major": 2,
       "version_minor": 0
      },
      "text/plain": [
       "Validation: |                                                                                                 …"
      ]
     },
     "metadata": {},
     "output_type": "display_data"
    },
    {
     "data": {
      "application/vnd.jupyter.widget-view+json": {
       "model_id": "",
       "version_major": 2,
       "version_minor": 0
      },
      "text/plain": [
       "Validation: |                                                                                                 …"
      ]
     },
     "metadata": {},
     "output_type": "display_data"
    },
    {
     "data": {
      "application/vnd.jupyter.widget-view+json": {
       "model_id": "",
       "version_major": 2,
       "version_minor": 0
      },
      "text/plain": [
       "Validation: |                                                                                                 …"
      ]
     },
     "metadata": {},
     "output_type": "display_data"
    },
    {
     "data": {
      "application/vnd.jupyter.widget-view+json": {
       "model_id": "",
       "version_major": 2,
       "version_minor": 0
      },
      "text/plain": [
       "Validation: |                                                                                                 …"
      ]
     },
     "metadata": {},
     "output_type": "display_data"
    },
    {
     "data": {
      "application/vnd.jupyter.widget-view+json": {
       "model_id": "",
       "version_major": 2,
       "version_minor": 0
      },
      "text/plain": [
       "Validation: |                                                                                                 …"
      ]
     },
     "metadata": {},
     "output_type": "display_data"
    },
    {
     "data": {
      "application/vnd.jupyter.widget-view+json": {
       "model_id": "",
       "version_major": 2,
       "version_minor": 0
      },
      "text/plain": [
       "Validation: |                                                                                                 …"
      ]
     },
     "metadata": {},
     "output_type": "display_data"
    },
    {
     "data": {
      "application/vnd.jupyter.widget-view+json": {
       "model_id": "",
       "version_major": 2,
       "version_minor": 0
      },
      "text/plain": [
       "Validation: |                                                                                                 …"
      ]
     },
     "metadata": {},
     "output_type": "display_data"
    },
    {
     "data": {
      "application/vnd.jupyter.widget-view+json": {
       "model_id": "",
       "version_major": 2,
       "version_minor": 0
      },
      "text/plain": [
       "Validation: |                                                                                                 …"
      ]
     },
     "metadata": {},
     "output_type": "display_data"
    },
    {
     "data": {
      "application/vnd.jupyter.widget-view+json": {
       "model_id": "",
       "version_major": 2,
       "version_minor": 0
      },
      "text/plain": [
       "Validation: |                                                                                                 …"
      ]
     },
     "metadata": {},
     "output_type": "display_data"
    },
    {
     "data": {
      "application/vnd.jupyter.widget-view+json": {
       "model_id": "fee33ad57fc3422baca13951d86bc25e",
       "version_major": 2,
       "version_minor": 0
      },
      "text/plain": [
       "Validation: |                                                                                                 …"
      ]
     },
     "metadata": {},
     "output_type": "display_data"
    },
    {
     "data": {
      "application/vnd.jupyter.widget-view+json": {
       "model_id": "9390b6b758f94e27b585acfd72099404",
       "version_major": 2,
       "version_minor": 0
      },
      "text/plain": [
       "Validation: |                                                                                                 …"
      ]
     },
     "metadata": {},
     "output_type": "display_data"
    },
    {
     "data": {
      "application/vnd.jupyter.widget-view+json": {
       "model_id": "63f5f89461b44c4489fb4938eb43c232",
       "version_major": 2,
       "version_minor": 0
      },
      "text/plain": [
       "Validation: |                                                                                                 …"
      ]
     },
     "metadata": {},
     "output_type": "display_data"
    },
    {
     "data": {
      "application/vnd.jupyter.widget-view+json": {
       "model_id": "852c9b7dafbf44c5980e4042323f67d5",
       "version_major": 2,
       "version_minor": 0
      },
      "text/plain": [
       "Validation: |                                                                                                 …"
      ]
     },
     "metadata": {},
     "output_type": "display_data"
    },
    {
     "data": {
      "application/vnd.jupyter.widget-view+json": {
       "model_id": "167daced6d044f96875e1dfe12636824",
       "version_major": 2,
       "version_minor": 0
      },
      "text/plain": [
       "Validation: |                                                                                                 …"
      ]
     },
     "metadata": {},
     "output_type": "display_data"
    },
    {
     "data": {
      "application/vnd.jupyter.widget-view+json": {
       "model_id": "dabe115b25f0483c957fd81670e8150e",
       "version_major": 2,
       "version_minor": 0
      },
      "text/plain": [
       "Validation: |                                                                                                 …"
      ]
     },
     "metadata": {},
     "output_type": "display_data"
    },
    {
     "data": {
      "application/vnd.jupyter.widget-view+json": {
       "model_id": "d1d43c0be2014d5883ef2b45dc4e65c5",
       "version_major": 2,
       "version_minor": 0
      },
      "text/plain": [
       "Validation: |                                                                                                 …"
      ]
     },
     "metadata": {},
     "output_type": "display_data"
    },
    {
     "data": {
      "application/vnd.jupyter.widget-view+json": {
       "model_id": "2f08132e6bf642c5aa906b2a884aa8d6",
       "version_major": 2,
       "version_minor": 0
      },
      "text/plain": [
       "Validation: |                                                                                                 …"
      ]
     },
     "metadata": {},
     "output_type": "display_data"
    },
    {
     "data": {
      "application/vnd.jupyter.widget-view+json": {
       "model_id": "8f79340639004b40848e39612c271c27",
       "version_major": 2,
       "version_minor": 0
      },
      "text/plain": [
       "Validation: |                                                                                                 …"
      ]
     },
     "metadata": {},
     "output_type": "display_data"
    },
    {
     "data": {
      "application/vnd.jupyter.widget-view+json": {
       "model_id": "c2fb3cd497c645f79eeccaa8325ac282",
       "version_major": 2,
       "version_minor": 0
      },
      "text/plain": [
       "Validation: |                                                                                                 …"
      ]
     },
     "metadata": {},
     "output_type": "display_data"
    },
    {
     "data": {
      "application/vnd.jupyter.widget-view+json": {
       "model_id": "5eba03117b5f472794f31b853cdc2646",
       "version_major": 2,
       "version_minor": 0
      },
      "text/plain": [
       "Validation: |                                                                                                 …"
      ]
     },
     "metadata": {},
     "output_type": "display_data"
    },
    {
     "data": {
      "application/vnd.jupyter.widget-view+json": {
       "model_id": "6df9870fbe8c46fab517fbd575b2c04d",
       "version_major": 2,
       "version_minor": 0
      },
      "text/plain": [
       "Validation: |                                                                                                 …"
      ]
     },
     "metadata": {},
     "output_type": "display_data"
    },
    {
     "data": {
      "application/vnd.jupyter.widget-view+json": {
       "model_id": "27ed3c7cec984ace9e345bcdbf30f520",
       "version_major": 2,
       "version_minor": 0
      },
      "text/plain": [
       "Validation: |                                                                                                 …"
      ]
     },
     "metadata": {},
     "output_type": "display_data"
    },
    {
     "data": {
      "application/vnd.jupyter.widget-view+json": {
       "model_id": "21a41d937ab54a9f92ffde3da0427975",
       "version_major": 2,
       "version_minor": 0
      },
      "text/plain": [
       "Validation: |                                                                                                 …"
      ]
     },
     "metadata": {},
     "output_type": "display_data"
    },
    {
     "data": {
      "application/vnd.jupyter.widget-view+json": {
       "model_id": "71a0191a5c354edca60ffe8f04694e78",
       "version_major": 2,
       "version_minor": 0
      },
      "text/plain": [
       "Validation: |                                                                                                 …"
      ]
     },
     "metadata": {},
     "output_type": "display_data"
    },
    {
     "data": {
      "application/vnd.jupyter.widget-view+json": {
       "model_id": "0278955fcce64015ba575d4802c7dd8d",
       "version_major": 2,
       "version_minor": 0
      },
      "text/plain": [
       "Validation: |                                                                                                 …"
      ]
     },
     "metadata": {},
     "output_type": "display_data"
    },
    {
     "data": {
      "application/vnd.jupyter.widget-view+json": {
       "model_id": "ff20b2268826438fa069bdb007bcaaa3",
       "version_major": 2,
       "version_minor": 0
      },
      "text/plain": [
       "Validation: |                                                                                                 …"
      ]
     },
     "metadata": {},
     "output_type": "display_data"
    },
    {
     "data": {
      "application/vnd.jupyter.widget-view+json": {
       "model_id": "eb31fe74ade644bb9ea7a0af10a3e16b",
       "version_major": 2,
       "version_minor": 0
      },
      "text/plain": [
       "Validation: |                                                                                                 …"
      ]
     },
     "metadata": {},
     "output_type": "display_data"
    },
    {
     "data": {
      "application/vnd.jupyter.widget-view+json": {
       "model_id": "7754f13594ed4c86b8c81114c3264e1b",
       "version_major": 2,
       "version_minor": 0
      },
      "text/plain": [
       "Validation: |                                                                                                 …"
      ]
     },
     "metadata": {},
     "output_type": "display_data"
    },
    {
     "data": {
      "application/vnd.jupyter.widget-view+json": {
       "model_id": "eeea420e644040fe9dcf1ac315b341a3",
       "version_major": 2,
       "version_minor": 0
      },
      "text/plain": [
       "Validation: |                                                                                                 …"
      ]
     },
     "metadata": {},
     "output_type": "display_data"
    },
    {
     "data": {
      "application/vnd.jupyter.widget-view+json": {
       "model_id": "b160c9590f9d407bb25a80f6adcdd2ca",
       "version_major": 2,
       "version_minor": 0
      },
      "text/plain": [
       "Validation: |                                                                                                 …"
      ]
     },
     "metadata": {},
     "output_type": "display_data"
    },
    {
     "data": {
      "application/vnd.jupyter.widget-view+json": {
       "model_id": "c1f8895c3b1e434fa2a89c950d0f040c",
       "version_major": 2,
       "version_minor": 0
      },
      "text/plain": [
       "Validation: |                                                                                                 …"
      ]
     },
     "metadata": {},
     "output_type": "display_data"
    },
    {
     "data": {
      "application/vnd.jupyter.widget-view+json": {
       "model_id": "61fad8ddbdb745e0b6024a6577313491",
       "version_major": 2,
       "version_minor": 0
      },
      "text/plain": [
       "Validation: |                                                                                                 …"
      ]
     },
     "metadata": {},
     "output_type": "display_data"
    },
    {
     "data": {
      "application/vnd.jupyter.widget-view+json": {
       "model_id": "81e9736ef82d47baaccaee0f4aeb08d5",
       "version_major": 2,
       "version_minor": 0
      },
      "text/plain": [
       "Validation: |                                                                                                 …"
      ]
     },
     "metadata": {},
     "output_type": "display_data"
    },
    {
     "data": {
      "application/vnd.jupyter.widget-view+json": {
       "model_id": "3165e2dcdf86406283d7178eec4ae3a3",
       "version_major": 2,
       "version_minor": 0
      },
      "text/plain": [
       "Validation: |                                                                                                 …"
      ]
     },
     "metadata": {},
     "output_type": "display_data"
    },
    {
     "data": {
      "application/vnd.jupyter.widget-view+json": {
       "model_id": "f1badb45e6a14b91b7b720c8051a98ff",
       "version_major": 2,
       "version_minor": 0
      },
      "text/plain": [
       "Validation: |                                                                                                 …"
      ]
     },
     "metadata": {},
     "output_type": "display_data"
    },
    {
     "data": {
      "application/vnd.jupyter.widget-view+json": {
       "model_id": "6ab2864773644956a0bf3ea3f6298430",
       "version_major": 2,
       "version_minor": 0
      },
      "text/plain": [
       "Validation: |                                                                                                 …"
      ]
     },
     "metadata": {},
     "output_type": "display_data"
    },
    {
     "data": {
      "application/vnd.jupyter.widget-view+json": {
       "model_id": "a1e7eb0844534a34bba6acafca7dd1b0",
       "version_major": 2,
       "version_minor": 0
      },
      "text/plain": [
       "Validation: |                                                                                                 …"
      ]
     },
     "metadata": {},
     "output_type": "display_data"
    },
    {
     "data": {
      "application/vnd.jupyter.widget-view+json": {
       "model_id": "909ca781de1149fd9ccf182a81436d32",
       "version_major": 2,
       "version_minor": 0
      },
      "text/plain": [
       "Validation: |                                                                                                 …"
      ]
     },
     "metadata": {},
     "output_type": "display_data"
    },
    {
     "data": {
      "application/vnd.jupyter.widget-view+json": {
       "model_id": "a210dcc3be3f4539b4f7790c052d769b",
       "version_major": 2,
       "version_minor": 0
      },
      "text/plain": [
       "Validation: |                                                                                                 …"
      ]
     },
     "metadata": {},
     "output_type": "display_data"
    },
    {
     "data": {
      "application/vnd.jupyter.widget-view+json": {
       "model_id": "d74d34e7eba341ca97839b25cc73c19a",
       "version_major": 2,
       "version_minor": 0
      },
      "text/plain": [
       "Validation: |                                                                                                 …"
      ]
     },
     "metadata": {},
     "output_type": "display_data"
    },
    {
     "data": {
      "application/vnd.jupyter.widget-view+json": {
       "model_id": "913a9c826cf14d5aa2ef75aa966cda3a",
       "version_major": 2,
       "version_minor": 0
      },
      "text/plain": [
       "Validation: |                                                                                                 …"
      ]
     },
     "metadata": {},
     "output_type": "display_data"
    },
    {
     "data": {
      "application/vnd.jupyter.widget-view+json": {
       "model_id": "763a6f023404435ebf90743037b9a4e9",
       "version_major": 2,
       "version_minor": 0
      },
      "text/plain": [
       "Validation: |                                                                                                 …"
      ]
     },
     "metadata": {},
     "output_type": "display_data"
    },
    {
     "data": {
      "application/vnd.jupyter.widget-view+json": {
       "model_id": "a438396c901b4cef92afc64d632c78ad",
       "version_major": 2,
       "version_minor": 0
      },
      "text/plain": [
       "Validation: |                                                                                                 …"
      ]
     },
     "metadata": {},
     "output_type": "display_data"
    },
    {
     "data": {
      "application/vnd.jupyter.widget-view+json": {
       "model_id": "9c6a98f30ffc42f7a08180cf5a0f6f92",
       "version_major": 2,
       "version_minor": 0
      },
      "text/plain": [
       "Validation: |                                                                                                 …"
      ]
     },
     "metadata": {},
     "output_type": "display_data"
    },
    {
     "data": {
      "application/vnd.jupyter.widget-view+json": {
       "model_id": "3dae1565d5144a7d9a039107c4fe49a8",
       "version_major": 2,
       "version_minor": 0
      },
      "text/plain": [
       "Validation: |                                                                                                 …"
      ]
     },
     "metadata": {},
     "output_type": "display_data"
    },
    {
     "data": {
      "application/vnd.jupyter.widget-view+json": {
       "model_id": "fd144d3e285f41d88e4ecfb070717dd3",
       "version_major": 2,
       "version_minor": 0
      },
      "text/plain": [
       "Validation: |                                                                                                 …"
      ]
     },
     "metadata": {},
     "output_type": "display_data"
    },
    {
     "data": {
      "application/vnd.jupyter.widget-view+json": {
       "model_id": "24bf73ad65f142fcbff2e73798b9de45",
       "version_major": 2,
       "version_minor": 0
      },
      "text/plain": [
       "Validation: |                                                                                                 …"
      ]
     },
     "metadata": {},
     "output_type": "display_data"
    },
    {
     "data": {
      "application/vnd.jupyter.widget-view+json": {
       "model_id": "92da2e5cfbfe4cccbfdd30223e348ca1",
       "version_major": 2,
       "version_minor": 0
      },
      "text/plain": [
       "Validation: |                                                                                                 …"
      ]
     },
     "metadata": {},
     "output_type": "display_data"
    },
    {
     "data": {
      "application/vnd.jupyter.widget-view+json": {
       "model_id": "47698c70fab04a35a4cc5e4a72200bde",
       "version_major": 2,
       "version_minor": 0
      },
      "text/plain": [
       "Validation: |                                                                                                 …"
      ]
     },
     "metadata": {},
     "output_type": "display_data"
    },
    {
     "data": {
      "application/vnd.jupyter.widget-view+json": {
       "model_id": "4f2ef56709fd4fa6868575a952bcc997",
       "version_major": 2,
       "version_minor": 0
      },
      "text/plain": [
       "Validation: |                                                                                                 …"
      ]
     },
     "metadata": {},
     "output_type": "display_data"
    },
    {
     "data": {
      "application/vnd.jupyter.widget-view+json": {
       "model_id": "de17da56bff34600a3b17f4f4d6867e2",
       "version_major": 2,
       "version_minor": 0
      },
      "text/plain": [
       "Validation: |                                                                                                 …"
      ]
     },
     "metadata": {},
     "output_type": "display_data"
    },
    {
     "data": {
      "application/vnd.jupyter.widget-view+json": {
       "model_id": "dcc7bbfab68a44ca9b0480034cb98ff7",
       "version_major": 2,
       "version_minor": 0
      },
      "text/plain": [
       "Validation: |                                                                                                 …"
      ]
     },
     "metadata": {},
     "output_type": "display_data"
    },
    {
     "data": {
      "application/vnd.jupyter.widget-view+json": {
       "model_id": "5f6c91a16c93437b96d406c0fb4e7b26",
       "version_major": 2,
       "version_minor": 0
      },
      "text/plain": [
       "Validation: |                                                                                                 …"
      ]
     },
     "metadata": {},
     "output_type": "display_data"
    },
    {
     "data": {
      "application/vnd.jupyter.widget-view+json": {
       "model_id": "8cc07bb2142546619542c46beb12b49d",
       "version_major": 2,
       "version_minor": 0
      },
      "text/plain": [
       "Validation: |                                                                                                 …"
      ]
     },
     "metadata": {},
     "output_type": "display_data"
    },
    {
     "data": {
      "application/vnd.jupyter.widget-view+json": {
       "model_id": "b588e787d4be414f99c9dd2ba5c5f07a",
       "version_major": 2,
       "version_minor": 0
      },
      "text/plain": [
       "Validation: |                                                                                                 …"
      ]
     },
     "metadata": {},
     "output_type": "display_data"
    },
    {
     "data": {
      "application/vnd.jupyter.widget-view+json": {
       "model_id": "925c4db1a62d4c22aa5fd92ac1f5d6e3",
       "version_major": 2,
       "version_minor": 0
      },
      "text/plain": [
       "Validation: |                                                                                                 …"
      ]
     },
     "metadata": {},
     "output_type": "display_data"
    },
    {
     "data": {
      "application/vnd.jupyter.widget-view+json": {
       "model_id": "f1dc3725dfdc49ac94240ece68110b78",
       "version_major": 2,
       "version_minor": 0
      },
      "text/plain": [
       "Validation: |                                                                                                 …"
      ]
     },
     "metadata": {},
     "output_type": "display_data"
    },
    {
     "data": {
      "application/vnd.jupyter.widget-view+json": {
       "model_id": "f6c6a48a33054e62a632ac0f6933f7e3",
       "version_major": 2,
       "version_minor": 0
      },
      "text/plain": [
       "Validation: |                                                                                                 …"
      ]
     },
     "metadata": {},
     "output_type": "display_data"
    },
    {
     "data": {
      "application/vnd.jupyter.widget-view+json": {
       "model_id": "c547da1e389542d58ff410edbc55197f",
       "version_major": 2,
       "version_minor": 0
      },
      "text/plain": [
       "Validation: |                                                                                                 …"
      ]
     },
     "metadata": {},
     "output_type": "display_data"
    },
    {
     "data": {
      "application/vnd.jupyter.widget-view+json": {
       "model_id": "c76baca7f63a44829f8d0d4f4336522f",
       "version_major": 2,
       "version_minor": 0
      },
      "text/plain": [
       "Validation: |                                                                                                 …"
      ]
     },
     "metadata": {},
     "output_type": "display_data"
    },
    {
     "data": {
      "application/vnd.jupyter.widget-view+json": {
       "model_id": "a6f2fdc124dc4486808d340070ad3edb",
       "version_major": 2,
       "version_minor": 0
      },
      "text/plain": [
       "Validation: |                                                                                                 …"
      ]
     },
     "metadata": {},
     "output_type": "display_data"
    },
    {
     "data": {
      "application/vnd.jupyter.widget-view+json": {
       "model_id": "235878f3fd444caab14cd1f78df4e434",
       "version_major": 2,
       "version_minor": 0
      },
      "text/plain": [
       "Validation: |                                                                                                 …"
      ]
     },
     "metadata": {},
     "output_type": "display_data"
    },
    {
     "data": {
      "application/vnd.jupyter.widget-view+json": {
       "model_id": "44e048db59cd45fb9c2438f290ae045c",
       "version_major": 2,
       "version_minor": 0
      },
      "text/plain": [
       "Validation: |                                                                                                 …"
      ]
     },
     "metadata": {},
     "output_type": "display_data"
    },
    {
     "name": "stderr",
     "output_type": "stream",
     "text": [
      "`Trainer.fit` stopped: `max_epochs=100` reached.\n",
      "\u001b[32m2024-10-27 18:01:37.981\u001b[0m | \u001b[1mINFO    \u001b[0m | \u001b[36msrc.ranker.trainer\u001b[0m:\u001b[36mon_fit_end\u001b[0m:\u001b[36m133\u001b[0m - \u001b[1mLogging classification metrics...\u001b[0m\n",
      "\u001b[32m2024-10-27 18:02:10.301\u001b[0m | \u001b[1mINFO    \u001b[0m | \u001b[36m__main__\u001b[0m:\u001b[36m<module>\u001b[0m:\u001b[36m28\u001b[0m - \u001b[1mLogs available at /Users/dvq/frostmourne/recsys-mvp/notebooks/data/016-reduce-dim-and-no-pretrained-item-embeddings/logs/overfit/lightning_logs/version_0\u001b[0m\n"
     ]
    }
   ],
   "source": [
    "early_stopping = EarlyStopping(\n",
    "    monitor=\"val_loss\", patience=10, mode=\"min\", verbose=False\n",
    ")\n",
    "\n",
    "model = init_model(n_users, n_items, args.embedding_dim, item_feature_size, dropout=0)\n",
    "lit_model = LitRanker(\n",
    "    model,\n",
    "    learning_rate=args.learning_rate,\n",
    "    l2_reg=0.0,\n",
    "    log_dir=args.notebook_persist_dp,\n",
    ")\n",
    "\n",
    "log_dir = f\"{args.notebook_persist_dp}/logs/overfit\"\n",
    "\n",
    "# train model\n",
    "trainer = L.Trainer(\n",
    "    default_root_dir=log_dir,\n",
    "    accelerator=args.device if args.device else \"auto\",\n",
    "    max_epochs=100,\n",
    "    overfit_batches=1,\n",
    "    callbacks=[early_stopping],\n",
    ")\n",
    "trainer.fit(\n",
    "    model=lit_model,\n",
    "    train_dataloaders=train_loader,\n",
    "    val_dataloaders=train_loader,\n",
    ")\n",
    "logger.info(f\"Logs available at {trainer.log_dir}\")"
   ]
  },
  {
   "cell_type": "code",
   "execution_count": 28,
   "id": "b2cc9ae0-a993-4815-bebd-85cc51e68e65",
   "metadata": {},
   "outputs": [
    {
     "data": {
      "text/html": [
       "\n",
       "      <iframe id=\"tensorboard-frame-37dc1e1204fe8678\" width=\"100%\" height=\"800\" frameborder=\"0\">\n",
       "      </iframe>\n",
       "      <script>\n",
       "        (function() {\n",
       "          const frame = document.getElementById(\"tensorboard-frame-37dc1e1204fe8678\");\n",
       "          const url = new URL(\"/\", window.location);\n",
       "          const port = 6006;\n",
       "          if (port) {\n",
       "            url.port = port;\n",
       "          }\n",
       "          frame.src = url;\n",
       "        })();\n",
       "      </script>\n",
       "    "
      ],
      "text/plain": [
       "<IPython.core.display.HTML object>"
      ]
     },
     "metadata": {},
     "output_type": "display_data"
    }
   ],
   "source": [
    "%tensorboard --logdir $trainer.log_dir"
   ]
  },
  {
   "cell_type": "markdown",
   "id": "65c7e4af-5c66-454e-9e2c-2ca134f4e1cf",
   "metadata": {},
   "source": [
    "##### Fit on all data"
   ]
  },
  {
   "cell_type": "code",
   "execution_count": 29,
   "id": "6fef36c3-5263-4d91-8d7f-364d45c20719",
   "metadata": {
    "scrolled": true
   },
   "outputs": [
    {
     "name": "stderr",
     "output_type": "stream",
     "text": [
      "GPU available: True (mps), used: True\n",
      "TPU available: False, using: 0 TPU cores\n",
      "HPU available: False, using: 0 HPUs\n",
      "\n",
      "  | Name  | Type   | Params | Mode \n",
      "-----------------------------------------\n",
      "0 | model | Ranker | 1.7 M  | train\n",
      "-----------------------------------------\n",
      "1.7 M     Trainable params\n",
      "0         Non-trainable params\n",
      "1.7 M     Total params\n",
      "6.650     Total estimated model params size (MB)\n",
      "14        Modules in train mode\n",
      "0         Modules in eval mode\n"
     ]
    },
    {
     "data": {
      "application/vnd.jupyter.widget-view+json": {
       "model_id": "",
       "version_major": 2,
       "version_minor": 0
      },
      "text/plain": [
       "Sanity Checking: |                                                                                            …"
      ]
     },
     "metadata": {},
     "output_type": "display_data"
    },
    {
     "name": "stderr",
     "output_type": "stream",
     "text": [
      "/Users/dvq/frostmourne/recsys-mvp/.venv/lib/python3.11/site-packages/lightning/pytorch/trainer/connectors/data_connector.py:424: PossibleUserWarning:\n",
      "\n",
      "The 'val_dataloader' does not have many workers which may be a bottleneck. Consider increasing the value of the `num_workers` argument` to `num_workers=10` in the `DataLoader` to improve performance.\n",
      "\n",
      "/Users/dvq/frostmourne/recsys-mvp/.venv/lib/python3.11/site-packages/lightning/pytorch/trainer/connectors/data_connector.py:424: PossibleUserWarning:\n",
      "\n",
      "The 'train_dataloader' does not have many workers which may be a bottleneck. Consider increasing the value of the `num_workers` argument` to `num_workers=10` in the `DataLoader` to improve performance.\n",
      "\n"
     ]
    },
    {
     "data": {
      "application/vnd.jupyter.widget-view+json": {
       "model_id": "9999ba5099d640899081054d7e0780ba",
       "version_major": 2,
       "version_minor": 0
      },
      "text/plain": [
       "Training: |                                                                                                   …"
      ]
     },
     "metadata": {},
     "output_type": "display_data"
    },
    {
     "data": {
      "application/vnd.jupyter.widget-view+json": {
       "model_id": "",
       "version_major": 2,
       "version_minor": 0
      },
      "text/plain": [
       "Validation: |                                                                                                 …"
      ]
     },
     "metadata": {},
     "output_type": "display_data"
    },
    {
     "data": {
      "application/vnd.jupyter.widget-view+json": {
       "model_id": "",
       "version_major": 2,
       "version_minor": 0
      },
      "text/plain": [
       "Validation: |                                                                                                 …"
      ]
     },
     "metadata": {},
     "output_type": "display_data"
    },
    {
     "data": {
      "application/vnd.jupyter.widget-view+json": {
       "model_id": "",
       "version_major": 2,
       "version_minor": 0
      },
      "text/plain": [
       "Validation: |                                                                                                 …"
      ]
     },
     "metadata": {},
     "output_type": "display_data"
    },
    {
     "data": {
      "application/vnd.jupyter.widget-view+json": {
       "model_id": "",
       "version_major": 2,
       "version_minor": 0
      },
      "text/plain": [
       "Validation: |                                                                                                 …"
      ]
     },
     "metadata": {},
     "output_type": "display_data"
    },
    {
     "data": {
      "application/vnd.jupyter.widget-view+json": {
       "model_id": "",
       "version_major": 2,
       "version_minor": 0
      },
      "text/plain": [
       "Validation: |                                                                                                 …"
      ]
     },
     "metadata": {},
     "output_type": "display_data"
    },
    {
     "data": {
      "application/vnd.jupyter.widget-view+json": {
       "model_id": "",
       "version_major": 2,
       "version_minor": 0
      },
      "text/plain": [
       "Validation: |                                                                                                 …"
      ]
     },
     "metadata": {},
     "output_type": "display_data"
    },
    {
     "data": {
      "application/vnd.jupyter.widget-view+json": {
       "model_id": "",
       "version_major": 2,
       "version_minor": 0
      },
      "text/plain": [
       "Validation: |                                                                                                 …"
      ]
     },
     "metadata": {},
     "output_type": "display_data"
    },
    {
     "data": {
      "application/vnd.jupyter.widget-view+json": {
       "model_id": "",
       "version_major": 2,
       "version_minor": 0
      },
      "text/plain": [
       "Validation: |                                                                                                 …"
      ]
     },
     "metadata": {},
     "output_type": "display_data"
    },
    {
     "data": {
      "application/vnd.jupyter.widget-view+json": {
       "model_id": "",
       "version_major": 2,
       "version_minor": 0
      },
      "text/plain": [
       "Validation: |                                                                                                 …"
      ]
     },
     "metadata": {},
     "output_type": "display_data"
    },
    {
     "data": {
      "application/vnd.jupyter.widget-view+json": {
       "model_id": "",
       "version_major": 2,
       "version_minor": 0
      },
      "text/plain": [
       "Validation: |                                                                                                 …"
      ]
     },
     "metadata": {},
     "output_type": "display_data"
    },
    {
     "data": {
      "application/vnd.jupyter.widget-view+json": {
       "model_id": "",
       "version_major": 2,
       "version_minor": 0
      },
      "text/plain": [
       "Validation: |                                                                                                 …"
      ]
     },
     "metadata": {},
     "output_type": "display_data"
    },
    {
     "name": "stderr",
     "output_type": "stream",
     "text": [
      "\u001b[32m2024-10-27 18:21:51.777\u001b[0m | \u001b[1mINFO    \u001b[0m | \u001b[36msrc.ranker.trainer\u001b[0m:\u001b[36mon_fit_end\u001b[0m:\u001b[36m133\u001b[0m - \u001b[1mLogging classification metrics...\u001b[0m\n",
      "\u001b[32m2024-10-27 18:21:57.593\u001b[0m | \u001b[1mINFO    \u001b[0m | \u001b[36msrc.ranker.trainer\u001b[0m:\u001b[36mon_fit_end\u001b[0m:\u001b[36m136\u001b[0m - \u001b[1mLogging ranking metrics...\u001b[0m\n"
     ]
    },
    {
     "data": {
      "application/vnd.jupyter.widget-view+json": {
       "model_id": "574f716f61384a5db435a78c8bb78206",
       "version_major": 2,
       "version_minor": 0
      },
      "text/plain": [
       "Generating recommendations:   0%|          | 0/177 [00:00<?, ?it/s]"
      ]
     },
     "metadata": {},
     "output_type": "display_data"
    },
    {
     "name": "stderr",
     "output_type": "stream",
     "text": [
      "2024/10/27 18:22:03 INFO mlflow.tracking._tracking_service.client: 🏃 View run 016-reduce-dim-and-no-pretrained-item-embeddings at: http://localhost:5002/#/experiments/3/runs/19ebdbea212b40acacf3e2c351e36dee.\n",
      "2024/10/27 18:22:03 INFO mlflow.tracking._tracking_service.client: 🧪 View experiment at: http://localhost:5002/#/experiments/3.\n"
     ]
    },
    {
     "ename": "RuntimeError",
     "evalue": "mat1 and mat2 shapes cannot be multiplied (18520x153 and 921x64)",
     "output_type": "error",
     "traceback": [
      "\u001b[0;31m---------------------------------------------------------------------------\u001b[0m",
      "\u001b[0;31mRuntimeError\u001b[0m                              Traceback (most recent call last)",
      "Cell \u001b[0;32mIn[29], line 44\u001b[0m\n\u001b[1;32m     36\u001b[0m \u001b[38;5;66;03m# train model\u001b[39;00m\n\u001b[1;32m     37\u001b[0m trainer \u001b[38;5;241m=\u001b[39m L\u001b[38;5;241m.\u001b[39mTrainer(\n\u001b[1;32m     38\u001b[0m     default_root_dir\u001b[38;5;241m=\u001b[39mlog_dir,\n\u001b[1;32m     39\u001b[0m     max_epochs\u001b[38;5;241m=\u001b[39margs\u001b[38;5;241m.\u001b[39mmax_epochs,\n\u001b[0;32m   (...)\u001b[0m\n\u001b[1;32m     42\u001b[0m     logger\u001b[38;5;241m=\u001b[39margs\u001b[38;5;241m.\u001b[39m_mlf_logger \u001b[38;5;28;01mif\u001b[39;00m args\u001b[38;5;241m.\u001b[39mlog_to_mlflow \u001b[38;5;28;01melse\u001b[39;00m \u001b[38;5;28;01mNone\u001b[39;00m,\n\u001b[1;32m     43\u001b[0m )\n\u001b[0;32m---> 44\u001b[0m \u001b[43mtrainer\u001b[49m\u001b[38;5;241;43m.\u001b[39;49m\u001b[43mfit\u001b[49m\u001b[43m(\u001b[49m\n\u001b[1;32m     45\u001b[0m \u001b[43m    \u001b[49m\u001b[43mmodel\u001b[49m\u001b[38;5;241;43m=\u001b[39;49m\u001b[43mlit_model\u001b[49m\u001b[43m,\u001b[49m\n\u001b[1;32m     46\u001b[0m \u001b[43m    \u001b[49m\u001b[43mtrain_dataloaders\u001b[49m\u001b[38;5;241;43m=\u001b[39;49m\u001b[43mtrain_loader\u001b[49m\u001b[43m,\u001b[49m\n\u001b[1;32m     47\u001b[0m \u001b[43m    \u001b[49m\u001b[43mval_dataloaders\u001b[49m\u001b[38;5;241;43m=\u001b[39;49m\u001b[43mval_loader\u001b[49m\u001b[43m,\u001b[49m\n\u001b[1;32m     48\u001b[0m \u001b[43m)\u001b[49m\n",
      "File \u001b[0;32m~/frostmourne/recsys-mvp/.venv/lib/python3.11/site-packages/lightning/pytorch/trainer/trainer.py:538\u001b[0m, in \u001b[0;36mTrainer.fit\u001b[0;34m(self, model, train_dataloaders, val_dataloaders, datamodule, ckpt_path)\u001b[0m\n\u001b[1;32m    536\u001b[0m \u001b[38;5;28mself\u001b[39m\u001b[38;5;241m.\u001b[39mstate\u001b[38;5;241m.\u001b[39mstatus \u001b[38;5;241m=\u001b[39m TrainerStatus\u001b[38;5;241m.\u001b[39mRUNNING\n\u001b[1;32m    537\u001b[0m \u001b[38;5;28mself\u001b[39m\u001b[38;5;241m.\u001b[39mtraining \u001b[38;5;241m=\u001b[39m \u001b[38;5;28;01mTrue\u001b[39;00m\n\u001b[0;32m--> 538\u001b[0m \u001b[43mcall\u001b[49m\u001b[38;5;241;43m.\u001b[39;49m\u001b[43m_call_and_handle_interrupt\u001b[49m\u001b[43m(\u001b[49m\n\u001b[1;32m    539\u001b[0m \u001b[43m    \u001b[49m\u001b[38;5;28;43mself\u001b[39;49m\u001b[43m,\u001b[49m\u001b[43m \u001b[49m\u001b[38;5;28;43mself\u001b[39;49m\u001b[38;5;241;43m.\u001b[39;49m\u001b[43m_fit_impl\u001b[49m\u001b[43m,\u001b[49m\u001b[43m \u001b[49m\u001b[43mmodel\u001b[49m\u001b[43m,\u001b[49m\u001b[43m \u001b[49m\u001b[43mtrain_dataloaders\u001b[49m\u001b[43m,\u001b[49m\u001b[43m \u001b[49m\u001b[43mval_dataloaders\u001b[49m\u001b[43m,\u001b[49m\u001b[43m \u001b[49m\u001b[43mdatamodule\u001b[49m\u001b[43m,\u001b[49m\u001b[43m \u001b[49m\u001b[43mckpt_path\u001b[49m\n\u001b[1;32m    540\u001b[0m \u001b[43m\u001b[49m\u001b[43m)\u001b[49m\n",
      "File \u001b[0;32m~/frostmourne/recsys-mvp/.venv/lib/python3.11/site-packages/lightning/pytorch/trainer/call.py:47\u001b[0m, in \u001b[0;36m_call_and_handle_interrupt\u001b[0;34m(trainer, trainer_fn, *args, **kwargs)\u001b[0m\n\u001b[1;32m     45\u001b[0m     \u001b[38;5;28;01mif\u001b[39;00m trainer\u001b[38;5;241m.\u001b[39mstrategy\u001b[38;5;241m.\u001b[39mlauncher \u001b[38;5;129;01mis\u001b[39;00m \u001b[38;5;129;01mnot\u001b[39;00m \u001b[38;5;28;01mNone\u001b[39;00m:\n\u001b[1;32m     46\u001b[0m         \u001b[38;5;28;01mreturn\u001b[39;00m trainer\u001b[38;5;241m.\u001b[39mstrategy\u001b[38;5;241m.\u001b[39mlauncher\u001b[38;5;241m.\u001b[39mlaunch(trainer_fn, \u001b[38;5;241m*\u001b[39margs, trainer\u001b[38;5;241m=\u001b[39mtrainer, \u001b[38;5;241m*\u001b[39m\u001b[38;5;241m*\u001b[39mkwargs)\n\u001b[0;32m---> 47\u001b[0m     \u001b[38;5;28;01mreturn\u001b[39;00m \u001b[43mtrainer_fn\u001b[49m\u001b[43m(\u001b[49m\u001b[38;5;241;43m*\u001b[39;49m\u001b[43margs\u001b[49m\u001b[43m,\u001b[49m\u001b[43m \u001b[49m\u001b[38;5;241;43m*\u001b[39;49m\u001b[38;5;241;43m*\u001b[39;49m\u001b[43mkwargs\u001b[49m\u001b[43m)\u001b[49m\n\u001b[1;32m     49\u001b[0m \u001b[38;5;28;01mexcept\u001b[39;00m _TunerExitException:\n\u001b[1;32m     50\u001b[0m     _call_teardown_hook(trainer)\n",
      "File \u001b[0;32m~/frostmourne/recsys-mvp/.venv/lib/python3.11/site-packages/lightning/pytorch/trainer/trainer.py:574\u001b[0m, in \u001b[0;36mTrainer._fit_impl\u001b[0;34m(self, model, train_dataloaders, val_dataloaders, datamodule, ckpt_path)\u001b[0m\n\u001b[1;32m    567\u001b[0m \u001b[38;5;28;01massert\u001b[39;00m \u001b[38;5;28mself\u001b[39m\u001b[38;5;241m.\u001b[39mstate\u001b[38;5;241m.\u001b[39mfn \u001b[38;5;129;01mis\u001b[39;00m \u001b[38;5;129;01mnot\u001b[39;00m \u001b[38;5;28;01mNone\u001b[39;00m\n\u001b[1;32m    568\u001b[0m ckpt_path \u001b[38;5;241m=\u001b[39m \u001b[38;5;28mself\u001b[39m\u001b[38;5;241m.\u001b[39m_checkpoint_connector\u001b[38;5;241m.\u001b[39m_select_ckpt_path(\n\u001b[1;32m    569\u001b[0m     \u001b[38;5;28mself\u001b[39m\u001b[38;5;241m.\u001b[39mstate\u001b[38;5;241m.\u001b[39mfn,\n\u001b[1;32m    570\u001b[0m     ckpt_path,\n\u001b[1;32m    571\u001b[0m     model_provided\u001b[38;5;241m=\u001b[39m\u001b[38;5;28;01mTrue\u001b[39;00m,\n\u001b[1;32m    572\u001b[0m     model_connected\u001b[38;5;241m=\u001b[39m\u001b[38;5;28mself\u001b[39m\u001b[38;5;241m.\u001b[39mlightning_module \u001b[38;5;129;01mis\u001b[39;00m \u001b[38;5;129;01mnot\u001b[39;00m \u001b[38;5;28;01mNone\u001b[39;00m,\n\u001b[1;32m    573\u001b[0m )\n\u001b[0;32m--> 574\u001b[0m \u001b[38;5;28;43mself\u001b[39;49m\u001b[38;5;241;43m.\u001b[39;49m\u001b[43m_run\u001b[49m\u001b[43m(\u001b[49m\u001b[43mmodel\u001b[49m\u001b[43m,\u001b[49m\u001b[43m \u001b[49m\u001b[43mckpt_path\u001b[49m\u001b[38;5;241;43m=\u001b[39;49m\u001b[43mckpt_path\u001b[49m\u001b[43m)\u001b[49m\n\u001b[1;32m    576\u001b[0m \u001b[38;5;28;01massert\u001b[39;00m \u001b[38;5;28mself\u001b[39m\u001b[38;5;241m.\u001b[39mstate\u001b[38;5;241m.\u001b[39mstopped\n\u001b[1;32m    577\u001b[0m \u001b[38;5;28mself\u001b[39m\u001b[38;5;241m.\u001b[39mtraining \u001b[38;5;241m=\u001b[39m \u001b[38;5;28;01mFalse\u001b[39;00m\n",
      "File \u001b[0;32m~/frostmourne/recsys-mvp/.venv/lib/python3.11/site-packages/lightning/pytorch/trainer/trainer.py:991\u001b[0m, in \u001b[0;36mTrainer._run\u001b[0;34m(self, model, ckpt_path)\u001b[0m\n\u001b[1;32m    989\u001b[0m \u001b[38;5;28;01mif\u001b[39;00m \u001b[38;5;28mself\u001b[39m\u001b[38;5;241m.\u001b[39mstate\u001b[38;5;241m.\u001b[39mfn \u001b[38;5;241m==\u001b[39m TrainerFn\u001b[38;5;241m.\u001b[39mFITTING:\n\u001b[1;32m    990\u001b[0m     call\u001b[38;5;241m.\u001b[39m_call_callback_hooks(\u001b[38;5;28mself\u001b[39m, \u001b[38;5;124m\"\u001b[39m\u001b[38;5;124mon_fit_end\u001b[39m\u001b[38;5;124m\"\u001b[39m)\n\u001b[0;32m--> 991\u001b[0m     \u001b[43mcall\u001b[49m\u001b[38;5;241;43m.\u001b[39;49m\u001b[43m_call_lightning_module_hook\u001b[49m\u001b[43m(\u001b[49m\u001b[38;5;28;43mself\u001b[39;49m\u001b[43m,\u001b[49m\u001b[43m \u001b[49m\u001b[38;5;124;43m\"\u001b[39;49m\u001b[38;5;124;43mon_fit_end\u001b[39;49m\u001b[38;5;124;43m\"\u001b[39;49m\u001b[43m)\u001b[49m\n\u001b[1;32m    993\u001b[0m log\u001b[38;5;241m.\u001b[39mdebug(\u001b[38;5;124mf\u001b[39m\u001b[38;5;124m\"\u001b[39m\u001b[38;5;132;01m{\u001b[39;00m\u001b[38;5;28mself\u001b[39m\u001b[38;5;241m.\u001b[39m\u001b[38;5;18m__class__\u001b[39m\u001b[38;5;241m.\u001b[39m\u001b[38;5;18m__name__\u001b[39m\u001b[38;5;132;01m}\u001b[39;00m\u001b[38;5;124m: calling teardown hooks\u001b[39m\u001b[38;5;124m\"\u001b[39m)\n\u001b[1;32m    994\u001b[0m call\u001b[38;5;241m.\u001b[39m_call_teardown_hook(\u001b[38;5;28mself\u001b[39m)\n",
      "File \u001b[0;32m~/frostmourne/recsys-mvp/.venv/lib/python3.11/site-packages/lightning/pytorch/trainer/call.py:167\u001b[0m, in \u001b[0;36m_call_lightning_module_hook\u001b[0;34m(trainer, hook_name, pl_module, *args, **kwargs)\u001b[0m\n\u001b[1;32m    164\u001b[0m pl_module\u001b[38;5;241m.\u001b[39m_current_fx_name \u001b[38;5;241m=\u001b[39m hook_name\n\u001b[1;32m    166\u001b[0m \u001b[38;5;28;01mwith\u001b[39;00m trainer\u001b[38;5;241m.\u001b[39mprofiler\u001b[38;5;241m.\u001b[39mprofile(\u001b[38;5;124mf\u001b[39m\u001b[38;5;124m\"\u001b[39m\u001b[38;5;124m[LightningModule]\u001b[39m\u001b[38;5;132;01m{\u001b[39;00mpl_module\u001b[38;5;241m.\u001b[39m\u001b[38;5;18m__class__\u001b[39m\u001b[38;5;241m.\u001b[39m\u001b[38;5;18m__name__\u001b[39m\u001b[38;5;132;01m}\u001b[39;00m\u001b[38;5;124m.\u001b[39m\u001b[38;5;132;01m{\u001b[39;00mhook_name\u001b[38;5;132;01m}\u001b[39;00m\u001b[38;5;124m\"\u001b[39m):\n\u001b[0;32m--> 167\u001b[0m     output \u001b[38;5;241m=\u001b[39m \u001b[43mfn\u001b[49m\u001b[43m(\u001b[49m\u001b[38;5;241;43m*\u001b[39;49m\u001b[43margs\u001b[49m\u001b[43m,\u001b[49m\u001b[43m \u001b[49m\u001b[38;5;241;43m*\u001b[39;49m\u001b[38;5;241;43m*\u001b[39;49m\u001b[43mkwargs\u001b[49m\u001b[43m)\u001b[49m\n\u001b[1;32m    169\u001b[0m \u001b[38;5;66;03m# restore current_fx when nested context\u001b[39;00m\n\u001b[1;32m    170\u001b[0m pl_module\u001b[38;5;241m.\u001b[39m_current_fx_name \u001b[38;5;241m=\u001b[39m prev_fx_name\n",
      "File \u001b[0;32m~/frostmourne/recsys-mvp/notebooks/../src/ranker/trainer.py:137\u001b[0m, in \u001b[0;36mLitRanker.on_fit_end\u001b[0;34m(self)\u001b[0m\n\u001b[1;32m    135\u001b[0m \u001b[38;5;28;01mif\u001b[39;00m \u001b[38;5;28mself\u001b[39m\u001b[38;5;241m.\u001b[39mevaluate_ranking:\n\u001b[1;32m    136\u001b[0m     logger\u001b[38;5;241m.\u001b[39minfo(\u001b[38;5;124mf\u001b[39m\u001b[38;5;124m\"\u001b[39m\u001b[38;5;124mLogging ranking metrics...\u001b[39m\u001b[38;5;124m\"\u001b[39m)\n\u001b[0;32m--> 137\u001b[0m     \u001b[38;5;28;43mself\u001b[39;49m\u001b[38;5;241;43m.\u001b[39;49m\u001b[43m_log_ranking_metrics\u001b[49m\u001b[43m(\u001b[49m\u001b[43m)\u001b[49m\n",
      "File \u001b[0;32m~/frostmourne/recsys-mvp/notebooks/../src/ranker/trainer.py:262\u001b[0m, in \u001b[0;36mLitRanker._log_ranking_metrics\u001b[0;34m(self)\u001b[0m\n\u001b[1;32m    256\u001b[0m \u001b[38;5;66;03m# Prepare input dataframe for prediction where user_indice is unique and item_sequence contains the last interaction in training data\u001b[39;00m\n\u001b[1;32m    257\u001b[0m \u001b[38;5;66;03m# Retain the first row of each user and use that as input for recommendations\u001b[39;00m\n\u001b[1;32m    258\u001b[0m \u001b[38;5;66;03m# We would compare that predictions with all the items this customer rates in val set\u001b[39;00m\n\u001b[1;32m    259\u001b[0m to_rec_df \u001b[38;5;241m=\u001b[39m val_df\u001b[38;5;241m.\u001b[39msort_values(timestamp_col, ascending\u001b[38;5;241m=\u001b[39m\u001b[38;5;28;01mTrue\u001b[39;00m)\u001b[38;5;241m.\u001b[39mdrop_duplicates(\n\u001b[1;32m    260\u001b[0m     subset\u001b[38;5;241m=\u001b[39m[user_col]\n\u001b[1;32m    261\u001b[0m )\n\u001b[0;32m--> 262\u001b[0m recommendations \u001b[38;5;241m=\u001b[39m \u001b[38;5;28;43mself\u001b[39;49m\u001b[38;5;241;43m.\u001b[39;49m\u001b[43mmodel\u001b[49m\u001b[38;5;241;43m.\u001b[39;49m\u001b[43mrecommend\u001b[49m\u001b[43m(\u001b[49m\n\u001b[1;32m    263\u001b[0m \u001b[43m    \u001b[49m\u001b[43mtorch\u001b[49m\u001b[38;5;241;43m.\u001b[39;49m\u001b[43mtensor\u001b[49m\u001b[43m(\u001b[49m\u001b[43mto_rec_df\u001b[49m\u001b[43m[\u001b[49m\u001b[38;5;124;43m\"\u001b[39;49m\u001b[38;5;124;43muser_indice\u001b[39;49m\u001b[38;5;124;43m\"\u001b[39;49m\u001b[43m]\u001b[49m\u001b[38;5;241;43m.\u001b[39;49m\u001b[43mvalues\u001b[49m\u001b[43m,\u001b[49m\u001b[43m \u001b[49m\u001b[43mdevice\u001b[49m\u001b[38;5;241;43m=\u001b[39;49m\u001b[38;5;28;43mself\u001b[39;49m\u001b[38;5;241;43m.\u001b[39;49m\u001b[43mdevice\u001b[49m\u001b[43m)\u001b[49m\u001b[43m,\u001b[49m\n\u001b[1;32m    264\u001b[0m \u001b[43m    \u001b[49m\u001b[43mtorch\u001b[49m\u001b[38;5;241;43m.\u001b[39;49m\u001b[43mtensor\u001b[49m\u001b[43m(\u001b[49m\n\u001b[1;32m    265\u001b[0m \u001b[43m        \u001b[49m\u001b[43mto_rec_df\u001b[49m\u001b[43m[\u001b[49m\u001b[38;5;124;43m\"\u001b[39;49m\u001b[38;5;124;43mitem_sequence\u001b[39;49m\u001b[38;5;124;43m\"\u001b[39;49m\u001b[43m]\u001b[49m\u001b[38;5;241;43m.\u001b[39;49m\u001b[43mvalues\u001b[49m\u001b[38;5;241;43m.\u001b[39;49m\u001b[43mtolist\u001b[49m\u001b[43m(\u001b[49m\u001b[43m)\u001b[49m\u001b[43m,\u001b[49m\u001b[43m \u001b[49m\u001b[43mdevice\u001b[49m\u001b[38;5;241;43m=\u001b[39;49m\u001b[38;5;28;43mself\u001b[39;49m\u001b[38;5;241;43m.\u001b[39;49m\u001b[43mdevice\u001b[49m\n\u001b[1;32m    266\u001b[0m \u001b[43m    \u001b[49m\u001b[43m)\u001b[49m\u001b[43m,\u001b[49m\n\u001b[1;32m    267\u001b[0m \u001b[43m    \u001b[49m\u001b[43mtorch\u001b[49m\u001b[38;5;241;43m.\u001b[39;49m\u001b[43mtensor\u001b[49m\u001b[43m(\u001b[49m\u001b[43mall_items_features\u001b[49m\u001b[43m,\u001b[49m\u001b[43m \u001b[49m\u001b[43mdevice\u001b[49m\u001b[38;5;241;43m=\u001b[39;49m\u001b[38;5;28;43mself\u001b[39;49m\u001b[38;5;241;43m.\u001b[39;49m\u001b[43mdevice\u001b[49m\u001b[43m)\u001b[49m\u001b[43m,\u001b[49m\n\u001b[1;32m    268\u001b[0m \u001b[43m    \u001b[49m\u001b[43mtorch\u001b[49m\u001b[38;5;241;43m.\u001b[39;49m\u001b[43mtensor\u001b[49m\u001b[43m(\u001b[49m\u001b[43mall_items_indices\u001b[49m\u001b[43m,\u001b[49m\u001b[43m \u001b[49m\u001b[43mdevice\u001b[49m\u001b[38;5;241;43m=\u001b[39;49m\u001b[38;5;28;43mself\u001b[39;49m\u001b[38;5;241;43m.\u001b[39;49m\u001b[43mdevice\u001b[49m\u001b[43m)\u001b[49m\u001b[43m,\u001b[49m\n\u001b[1;32m    269\u001b[0m \u001b[43m    \u001b[49m\u001b[43mk\u001b[49m\u001b[38;5;241;43m=\u001b[39;49m\u001b[43mtop_K\u001b[49m\u001b[43m,\u001b[49m\n\u001b[1;32m    270\u001b[0m \u001b[43m    \u001b[49m\u001b[43mbatch_size\u001b[49m\u001b[38;5;241;43m=\u001b[39;49m\u001b[38;5;241;43m4\u001b[39;49m\u001b[43m,\u001b[49m\n\u001b[1;32m    271\u001b[0m \u001b[43m\u001b[49m\u001b[43m)\u001b[49m\n\u001b[1;32m    273\u001b[0m recommendations_df \u001b[38;5;241m=\u001b[39m pd\u001b[38;5;241m.\u001b[39mDataFrame(recommendations)\u001b[38;5;241m.\u001b[39mpipe(\n\u001b[1;32m    274\u001b[0m     create_rec_df, idm, user_col, item_col\n\u001b[1;32m    275\u001b[0m )\n\u001b[1;32m    277\u001b[0m label_df \u001b[38;5;241m=\u001b[39m create_label_df(\n\u001b[1;32m    278\u001b[0m     val_df,\n\u001b[1;32m    279\u001b[0m     user_col\u001b[38;5;241m=\u001b[39muser_col,\n\u001b[0;32m   (...)\u001b[0m\n\u001b[1;32m    282\u001b[0m     timestamp_col\u001b[38;5;241m=\u001b[39mtimestamp_col,\n\u001b[1;32m    283\u001b[0m )\n",
      "File \u001b[0;32m~/frostmourne/recsys-mvp/notebooks/../src/ranker/model.py:232\u001b[0m, in \u001b[0;36mRanker.recommend\u001b[0;34m(self, users, item_sequences, item_features, item_indices, k, batch_size)\u001b[0m\n\u001b[1;32m    227\u001b[0m items_feature_batch \u001b[38;5;241m=\u001b[39m items_feature_batch\u001b[38;5;241m.\u001b[39mview(\n\u001b[1;32m    228\u001b[0m     \u001b[38;5;241m-\u001b[39m\u001b[38;5;241m1\u001b[39m, items_feature_batch\u001b[38;5;241m.\u001b[39msize(\u001b[38;5;241m-\u001b[39m\u001b[38;5;241m1\u001b[39m)\n\u001b[1;32m    229\u001b[0m )\n\u001b[1;32m    231\u001b[0m \u001b[38;5;66;03m# Predict scores for the batch\u001b[39;00m\n\u001b[0;32m--> 232\u001b[0m batch_scores \u001b[38;5;241m=\u001b[39m \u001b[38;5;28;43mself\u001b[39;49m\u001b[38;5;241;43m.\u001b[39;49m\u001b[43mpredict\u001b[49m\u001b[43m(\u001b[49m\n\u001b[1;32m    233\u001b[0m \u001b[43m    \u001b[49m\u001b[43muser_batch_expanded\u001b[49m\u001b[43m,\u001b[49m\n\u001b[1;32m    234\u001b[0m \u001b[43m    \u001b[49m\u001b[43mitem_sequences_batch\u001b[49m\u001b[43m,\u001b[49m\n\u001b[1;32m    235\u001b[0m \u001b[43m    \u001b[49m\u001b[43mitems_feature_batch\u001b[49m\u001b[43m,\u001b[49m\n\u001b[1;32m    236\u001b[0m \u001b[43m    \u001b[49m\u001b[43mitems_batch\u001b[49m\u001b[43m,\u001b[49m\n\u001b[1;32m    237\u001b[0m \u001b[43m\u001b[49m\u001b[43m)\u001b[49m\u001b[38;5;241m.\u001b[39mview(\u001b[38;5;28mlen\u001b[39m(user_batch), \u001b[38;5;241m-\u001b[39m\u001b[38;5;241m1\u001b[39m)\n\u001b[1;32m    239\u001b[0m \u001b[38;5;66;03m# Get top k items for each user in the batch\u001b[39;00m\n\u001b[1;32m    240\u001b[0m topk_scores, topk_indices \u001b[38;5;241m=\u001b[39m torch\u001b[38;5;241m.\u001b[39mtopk(batch_scores, k, dim\u001b[38;5;241m=\u001b[39m\u001b[38;5;241m1\u001b[39m)\n",
      "File \u001b[0;32m~/frostmourne/recsys-mvp/notebooks/../src/ranker/model.py:167\u001b[0m, in \u001b[0;36mRanker.predict\u001b[0;34m(self, user, item_sequence, item_features, target_item)\u001b[0m\n\u001b[1;32m    153\u001b[0m \u001b[38;5;28;01mdef\u001b[39;00m \u001b[38;5;21mpredict\u001b[39m(\u001b[38;5;28mself\u001b[39m, user, item_sequence, item_features, target_item):\n\u001b[1;32m    154\u001b[0m \u001b[38;5;250m    \u001b[39m\u001b[38;5;124;03m\"\"\"\u001b[39;00m\n\u001b[1;32m    155\u001b[0m \u001b[38;5;124;03m    Predict the rating for a specific user and item sequence using the forward method\u001b[39;00m\n\u001b[1;32m    156\u001b[0m \u001b[38;5;124;03m    and applying a Sigmoid function to the output.\u001b[39;00m\n\u001b[0;32m   (...)\u001b[0m\n\u001b[1;32m    165\u001b[0m \u001b[38;5;124;03m        torch.Tensor: Predicted rating after applying Sigmoid activation.\u001b[39;00m\n\u001b[1;32m    166\u001b[0m \u001b[38;5;124;03m    \"\"\"\u001b[39;00m\n\u001b[0;32m--> 167\u001b[0m     output_rating \u001b[38;5;241m=\u001b[39m \u001b[38;5;28;43mself\u001b[39;49m\u001b[38;5;241;43m.\u001b[39;49m\u001b[43mforward\u001b[49m\u001b[43m(\u001b[49m\u001b[43muser\u001b[49m\u001b[43m,\u001b[49m\u001b[43m \u001b[49m\u001b[43mitem_sequence\u001b[49m\u001b[43m,\u001b[49m\u001b[43m \u001b[49m\u001b[43mitem_features\u001b[49m\u001b[43m,\u001b[49m\u001b[43m \u001b[49m\u001b[43mtarget_item\u001b[49m\u001b[43m)\u001b[49m\n\u001b[1;32m    168\u001b[0m     \u001b[38;5;28;01mreturn\u001b[39;00m output_rating\n",
      "File \u001b[0;32m~/frostmourne/recsys-mvp/notebooks/../src/ranker/model.py:110\u001b[0m, in \u001b[0;36mRanker.forward\u001b[0;34m(self, user_ids, input_seq, item_features, target_item)\u001b[0m\n\u001b[1;32m    105\u001b[0m \u001b[38;5;66;03m# Embed input sequence\u001b[39;00m\n\u001b[1;32m    106\u001b[0m embedded_seq \u001b[38;5;241m=\u001b[39m \u001b[38;5;28mself\u001b[39m\u001b[38;5;241m.\u001b[39mitem_embedding(\n\u001b[1;32m    107\u001b[0m     input_seq\n\u001b[1;32m    108\u001b[0m )  \u001b[38;5;66;03m# Shape: [batch_size, seq_len, embedding_dim]\u001b[39;00m\n\u001b[0;32m--> 110\u001b[0m item_features_tower_output \u001b[38;5;241m=\u001b[39m \u001b[38;5;28;43mself\u001b[39;49m\u001b[38;5;241;43m.\u001b[39;49m\u001b[43mitem_feature_tower\u001b[49m\u001b[43m(\u001b[49m\u001b[43mitem_features\u001b[49m\u001b[43m)\u001b[49m\n\u001b[1;32m    111\u001b[0m item_features_tower_output_seq \u001b[38;5;241m=\u001b[39m item_features_tower_output\u001b[38;5;241m.\u001b[39munsqueeze(\n\u001b[1;32m    112\u001b[0m     \u001b[38;5;241m1\u001b[39m\n\u001b[1;32m    113\u001b[0m )  \u001b[38;5;66;03m# Shape: [batch_size, 1, embedding_dim]\u001b[39;00m\n\u001b[1;32m    115\u001b[0m \u001b[38;5;66;03m# Compute out product between each item in the sequence and the item metadata features\u001b[39;00m\n",
      "File \u001b[0;32m~/frostmourne/recsys-mvp/.venv/lib/python3.11/site-packages/torch/nn/modules/module.py:1553\u001b[0m, in \u001b[0;36mModule._wrapped_call_impl\u001b[0;34m(self, *args, **kwargs)\u001b[0m\n\u001b[1;32m   1551\u001b[0m     \u001b[38;5;28;01mreturn\u001b[39;00m \u001b[38;5;28mself\u001b[39m\u001b[38;5;241m.\u001b[39m_compiled_call_impl(\u001b[38;5;241m*\u001b[39margs, \u001b[38;5;241m*\u001b[39m\u001b[38;5;241m*\u001b[39mkwargs)  \u001b[38;5;66;03m# type: ignore[misc]\u001b[39;00m\n\u001b[1;32m   1552\u001b[0m \u001b[38;5;28;01melse\u001b[39;00m:\n\u001b[0;32m-> 1553\u001b[0m     \u001b[38;5;28;01mreturn\u001b[39;00m \u001b[38;5;28;43mself\u001b[39;49m\u001b[38;5;241;43m.\u001b[39;49m\u001b[43m_call_impl\u001b[49m\u001b[43m(\u001b[49m\u001b[38;5;241;43m*\u001b[39;49m\u001b[43margs\u001b[49m\u001b[43m,\u001b[49m\u001b[43m \u001b[49m\u001b[38;5;241;43m*\u001b[39;49m\u001b[38;5;241;43m*\u001b[39;49m\u001b[43mkwargs\u001b[49m\u001b[43m)\u001b[49m\n",
      "File \u001b[0;32m~/frostmourne/recsys-mvp/.venv/lib/python3.11/site-packages/torch/nn/modules/module.py:1562\u001b[0m, in \u001b[0;36mModule._call_impl\u001b[0;34m(self, *args, **kwargs)\u001b[0m\n\u001b[1;32m   1557\u001b[0m \u001b[38;5;66;03m# If we don't have any hooks, we want to skip the rest of the logic in\u001b[39;00m\n\u001b[1;32m   1558\u001b[0m \u001b[38;5;66;03m# this function, and just call forward.\u001b[39;00m\n\u001b[1;32m   1559\u001b[0m \u001b[38;5;28;01mif\u001b[39;00m \u001b[38;5;129;01mnot\u001b[39;00m (\u001b[38;5;28mself\u001b[39m\u001b[38;5;241m.\u001b[39m_backward_hooks \u001b[38;5;129;01mor\u001b[39;00m \u001b[38;5;28mself\u001b[39m\u001b[38;5;241m.\u001b[39m_backward_pre_hooks \u001b[38;5;129;01mor\u001b[39;00m \u001b[38;5;28mself\u001b[39m\u001b[38;5;241m.\u001b[39m_forward_hooks \u001b[38;5;129;01mor\u001b[39;00m \u001b[38;5;28mself\u001b[39m\u001b[38;5;241m.\u001b[39m_forward_pre_hooks\n\u001b[1;32m   1560\u001b[0m         \u001b[38;5;129;01mor\u001b[39;00m _global_backward_pre_hooks \u001b[38;5;129;01mor\u001b[39;00m _global_backward_hooks\n\u001b[1;32m   1561\u001b[0m         \u001b[38;5;129;01mor\u001b[39;00m _global_forward_hooks \u001b[38;5;129;01mor\u001b[39;00m _global_forward_pre_hooks):\n\u001b[0;32m-> 1562\u001b[0m     \u001b[38;5;28;01mreturn\u001b[39;00m \u001b[43mforward_call\u001b[49m\u001b[43m(\u001b[49m\u001b[38;5;241;43m*\u001b[39;49m\u001b[43margs\u001b[49m\u001b[43m,\u001b[49m\u001b[43m \u001b[49m\u001b[38;5;241;43m*\u001b[39;49m\u001b[38;5;241;43m*\u001b[39;49m\u001b[43mkwargs\u001b[49m\u001b[43m)\u001b[49m\n\u001b[1;32m   1564\u001b[0m \u001b[38;5;28;01mtry\u001b[39;00m:\n\u001b[1;32m   1565\u001b[0m     result \u001b[38;5;241m=\u001b[39m \u001b[38;5;28;01mNone\u001b[39;00m\n",
      "File \u001b[0;32m~/frostmourne/recsys-mvp/.venv/lib/python3.11/site-packages/torch/nn/modules/container.py:219\u001b[0m, in \u001b[0;36mSequential.forward\u001b[0;34m(self, input)\u001b[0m\n\u001b[1;32m    217\u001b[0m \u001b[38;5;28;01mdef\u001b[39;00m \u001b[38;5;21mforward\u001b[39m(\u001b[38;5;28mself\u001b[39m, \u001b[38;5;28minput\u001b[39m):\n\u001b[1;32m    218\u001b[0m     \u001b[38;5;28;01mfor\u001b[39;00m module \u001b[38;5;129;01min\u001b[39;00m \u001b[38;5;28mself\u001b[39m:\n\u001b[0;32m--> 219\u001b[0m         \u001b[38;5;28minput\u001b[39m \u001b[38;5;241m=\u001b[39m \u001b[43mmodule\u001b[49m\u001b[43m(\u001b[49m\u001b[38;5;28;43minput\u001b[39;49m\u001b[43m)\u001b[49m\n\u001b[1;32m    220\u001b[0m     \u001b[38;5;28;01mreturn\u001b[39;00m \u001b[38;5;28minput\u001b[39m\n",
      "File \u001b[0;32m~/frostmourne/recsys-mvp/.venv/lib/python3.11/site-packages/torch/nn/modules/module.py:1553\u001b[0m, in \u001b[0;36mModule._wrapped_call_impl\u001b[0;34m(self, *args, **kwargs)\u001b[0m\n\u001b[1;32m   1551\u001b[0m     \u001b[38;5;28;01mreturn\u001b[39;00m \u001b[38;5;28mself\u001b[39m\u001b[38;5;241m.\u001b[39m_compiled_call_impl(\u001b[38;5;241m*\u001b[39margs, \u001b[38;5;241m*\u001b[39m\u001b[38;5;241m*\u001b[39mkwargs)  \u001b[38;5;66;03m# type: ignore[misc]\u001b[39;00m\n\u001b[1;32m   1552\u001b[0m \u001b[38;5;28;01melse\u001b[39;00m:\n\u001b[0;32m-> 1553\u001b[0m     \u001b[38;5;28;01mreturn\u001b[39;00m \u001b[38;5;28;43mself\u001b[39;49m\u001b[38;5;241;43m.\u001b[39;49m\u001b[43m_call_impl\u001b[49m\u001b[43m(\u001b[49m\u001b[38;5;241;43m*\u001b[39;49m\u001b[43margs\u001b[49m\u001b[43m,\u001b[49m\u001b[43m \u001b[49m\u001b[38;5;241;43m*\u001b[39;49m\u001b[38;5;241;43m*\u001b[39;49m\u001b[43mkwargs\u001b[49m\u001b[43m)\u001b[49m\n",
      "File \u001b[0;32m~/frostmourne/recsys-mvp/.venv/lib/python3.11/site-packages/torch/nn/modules/module.py:1562\u001b[0m, in \u001b[0;36mModule._call_impl\u001b[0;34m(self, *args, **kwargs)\u001b[0m\n\u001b[1;32m   1557\u001b[0m \u001b[38;5;66;03m# If we don't have any hooks, we want to skip the rest of the logic in\u001b[39;00m\n\u001b[1;32m   1558\u001b[0m \u001b[38;5;66;03m# this function, and just call forward.\u001b[39;00m\n\u001b[1;32m   1559\u001b[0m \u001b[38;5;28;01mif\u001b[39;00m \u001b[38;5;129;01mnot\u001b[39;00m (\u001b[38;5;28mself\u001b[39m\u001b[38;5;241m.\u001b[39m_backward_hooks \u001b[38;5;129;01mor\u001b[39;00m \u001b[38;5;28mself\u001b[39m\u001b[38;5;241m.\u001b[39m_backward_pre_hooks \u001b[38;5;129;01mor\u001b[39;00m \u001b[38;5;28mself\u001b[39m\u001b[38;5;241m.\u001b[39m_forward_hooks \u001b[38;5;129;01mor\u001b[39;00m \u001b[38;5;28mself\u001b[39m\u001b[38;5;241m.\u001b[39m_forward_pre_hooks\n\u001b[1;32m   1560\u001b[0m         \u001b[38;5;129;01mor\u001b[39;00m _global_backward_pre_hooks \u001b[38;5;129;01mor\u001b[39;00m _global_backward_hooks\n\u001b[1;32m   1561\u001b[0m         \u001b[38;5;129;01mor\u001b[39;00m _global_forward_hooks \u001b[38;5;129;01mor\u001b[39;00m _global_forward_pre_hooks):\n\u001b[0;32m-> 1562\u001b[0m     \u001b[38;5;28;01mreturn\u001b[39;00m \u001b[43mforward_call\u001b[49m\u001b[43m(\u001b[49m\u001b[38;5;241;43m*\u001b[39;49m\u001b[43margs\u001b[49m\u001b[43m,\u001b[49m\u001b[43m \u001b[49m\u001b[38;5;241;43m*\u001b[39;49m\u001b[38;5;241;43m*\u001b[39;49m\u001b[43mkwargs\u001b[49m\u001b[43m)\u001b[49m\n\u001b[1;32m   1564\u001b[0m \u001b[38;5;28;01mtry\u001b[39;00m:\n\u001b[1;32m   1565\u001b[0m     result \u001b[38;5;241m=\u001b[39m \u001b[38;5;28;01mNone\u001b[39;00m\n",
      "File \u001b[0;32m~/frostmourne/recsys-mvp/.venv/lib/python3.11/site-packages/torch/nn/modules/linear.py:117\u001b[0m, in \u001b[0;36mLinear.forward\u001b[0;34m(self, input)\u001b[0m\n\u001b[1;32m    116\u001b[0m \u001b[38;5;28;01mdef\u001b[39;00m \u001b[38;5;21mforward\u001b[39m(\u001b[38;5;28mself\u001b[39m, \u001b[38;5;28minput\u001b[39m: Tensor) \u001b[38;5;241m-\u001b[39m\u001b[38;5;241m>\u001b[39m Tensor:\n\u001b[0;32m--> 117\u001b[0m     \u001b[38;5;28;01mreturn\u001b[39;00m \u001b[43mF\u001b[49m\u001b[38;5;241;43m.\u001b[39;49m\u001b[43mlinear\u001b[49m\u001b[43m(\u001b[49m\u001b[38;5;28;43minput\u001b[39;49m\u001b[43m,\u001b[49m\u001b[43m \u001b[49m\u001b[38;5;28;43mself\u001b[39;49m\u001b[38;5;241;43m.\u001b[39;49m\u001b[43mweight\u001b[49m\u001b[43m,\u001b[49m\u001b[43m \u001b[49m\u001b[38;5;28;43mself\u001b[39;49m\u001b[38;5;241;43m.\u001b[39;49m\u001b[43mbias\u001b[49m\u001b[43m)\u001b[49m\n",
      "\u001b[0;31mRuntimeError\u001b[0m: mat1 and mat2 shapes cannot be multiplied (18520x153 and 921x64)"
     ]
    }
   ],
   "source": [
    "# papermill_description=fit-model\n",
    "early_stopping = EarlyStopping(\n",
    "    monitor=\"val_loss\", patience=args.early_stopping_patience, mode=\"min\", verbose=False\n",
    ")\n",
    "\n",
    "checkpoint_callback = ModelCheckpoint(\n",
    "    dirpath=f\"{args.notebook_persist_dp}/checkpoints\",\n",
    "    filename=\"best-checkpoint\",\n",
    "    save_top_k=1,\n",
    "    monitor=\"val_loss\",\n",
    "    mode=\"min\",\n",
    ")\n",
    "\n",
    "model = init_model(\n",
    "    n_users,\n",
    "    n_items,\n",
    "    args.embedding_dim,\n",
    "    item_feature_size,\n",
    "    dropout=args.dropout,\n",
    "    item_embedding=pretrained_item_embedding,\n",
    ")\n",
    "lit_model = LitRanker(\n",
    "    model,\n",
    "    learning_rate=args.learning_rate,\n",
    "    l2_reg=args.l2_reg,\n",
    "    log_dir=args.notebook_persist_dp,\n",
    "    evaluate_ranking=True,\n",
    "    idm=idm,\n",
    "    item_metadata_pipeline=item_metadata_pipeline,\n",
    "    args=args,\n",
    "    neg_to_pos_ratio=args.neg_to_pos_ratio,\n",
    ")\n",
    "\n",
    "log_dir = f\"{args.notebook_persist_dp}/logs/run\"\n",
    "\n",
    "# train model\n",
    "trainer = L.Trainer(\n",
    "    default_root_dir=log_dir,\n",
    "    max_epochs=args.max_epochs,\n",
    "    callbacks=[early_stopping, checkpoint_callback],\n",
    "    accelerator=args.device if args.device else \"auto\",\n",
    "    logger=args._mlf_logger if args.log_to_mlflow else None,\n",
    ")\n",
    "trainer.fit(\n",
    "    model=lit_model,\n",
    "    train_dataloaders=train_loader,\n",
    "    val_dataloaders=val_loader,\n",
    ")"
   ]
  },
  {
   "cell_type": "code",
   "execution_count": null,
   "id": "af44bf35-e7c7-4718-97b8-238e89b7f3f0",
   "metadata": {
    "editable": true,
    "scrolled": true,
    "slideshow": {
     "slide_type": ""
    },
    "tags": []
   },
   "outputs": [],
   "source": [
    "logger.info(\n",
    "    f\"Test predicting after training with {args.user_col} = {user_id} and {args.item_col} = {item_id}\"\n",
    ")\n",
    "model.eval()\n",
    "model.predict(user, item_sequence, item_feature, item)"
   ]
  },
  {
   "cell_type": "markdown",
   "id": "f8e1dd22-bcb9-4582-96d0-30acc4e8b790",
   "metadata": {
    "editable": true,
    "slideshow": {
     "slide_type": ""
    },
    "tags": []
   },
   "source": [
    "# Load best checkpoint"
   ]
  },
  {
   "cell_type": "code",
   "execution_count": null,
   "id": "092427a8-ac4e-4752-a0ee-10729b6e563c",
   "metadata": {
    "scrolled": true
   },
   "outputs": [],
   "source": [
    "logger.info(f\"Loading best checkpoint from {checkpoint_callback.best_model_path}...\")\n",
    "args.best_checkpoint_path = checkpoint_callback.best_model_path\n",
    "\n",
    "best_trainer = LitRanker.load_from_checkpoint(\n",
    "    checkpoint_callback.best_model_path,\n",
    "    model=init_model(\n",
    "        n_users, n_items, args.embedding_dim, item_feature_size, dropout=0\n",
    "    ),\n",
    ")"
   ]
  },
  {
   "cell_type": "code",
   "execution_count": null,
   "id": "e68989e7-cd28-4cb3-9a28-5bd477bb67c4",
   "metadata": {},
   "outputs": [],
   "source": [
    "best_model = best_trainer.model.to(lit_model.device)"
   ]
  },
  {
   "cell_type": "code",
   "execution_count": null,
   "id": "72062d94-6ee8-480f-b7c6-9dcae2ceeb8b",
   "metadata": {
    "scrolled": true
   },
   "outputs": [],
   "source": [
    "best_model.eval()\n",
    "best_model.predict(user, item_sequence, item_feature, item)"
   ]
  },
  {
   "cell_type": "markdown",
   "id": "26afc39d-5cbd-4ea4-9484-f6419b460bde",
   "metadata": {
    "scrolled": true
   },
   "source": [
    "### Persist id mapping"
   ]
  },
  {
   "cell_type": "code",
   "execution_count": null,
   "id": "275bcb81-bf50-4757-9e63-5c7a317b276f",
   "metadata": {},
   "outputs": [],
   "source": [
    "if args.log_to_mlflow:\n",
    "    # Persist id_mapping so that at inference we can predict based on item_ids (string) instead of item_index\n",
    "    run_id = trainer.logger.run_id\n",
    "    mlf_client = trainer.logger.experiment\n",
    "    mlf_client.log_artifact(run_id, idm_fp)\n",
    "    # Persist item_feature_metadata pipeline\n",
    "    mlf_client.log_artifact(run_id, args.item_metadata_pipeline_fp)"
   ]
  },
  {
   "cell_type": "markdown",
   "id": "73a53735-cada-4b16-b6ec-b958e20d8093",
   "metadata": {},
   "source": [
    "### Wrap inference function and register best checkpoint as MLflow model"
   ]
  },
  {
   "cell_type": "code",
   "execution_count": null,
   "id": "fc1da4ca-1616-4f57-99fb-cb851c535a57",
   "metadata": {},
   "outputs": [],
   "source": [
    "inferrer = RankerInferenceWrapper(best_model)"
   ]
  },
  {
   "cell_type": "code",
   "execution_count": null,
   "id": "a21791a9-d5fc-4abe-bc3c-820aba9f0759",
   "metadata": {},
   "outputs": [],
   "source": [
    "sample_input = {\n",
    "    \"user_ids\": [idm.get_user_id(0)],\n",
    "    \"item_sequences\": [[idm.get_item_id(0), idm.get_item_id(1)]],\n",
    "    **{col: [train_df[col].iloc[0]] for col in args.item_feature_cols},\n",
    "    \"item_ids\": [idm.get_item_id(0)],\n",
    "}\n",
    "sample_output = inferrer.infer([0], [[0, 1]], [train_item_features[0]], [0])\n",
    "sample_output"
   ]
  },
  {
   "cell_type": "code",
   "execution_count": null,
   "id": "b24b5cf4-5e51-4641-bdfe-6ce289344bf6",
   "metadata": {},
   "outputs": [],
   "source": [
    "sample_input"
   ]
  },
  {
   "cell_type": "code",
   "execution_count": null,
   "id": "de2c043a-f777-4ade-ab80-cfa4d90aafa8",
   "metadata": {
    "scrolled": true
   },
   "outputs": [],
   "source": [
    "if args.log_to_mlflow:\n",
    "    run_id = trainer.logger.run_id\n",
    "    sample_output_np = sample_output\n",
    "    signature = infer_signature(sample_input, sample_output_np)\n",
    "    idm_filename = idm_fp.split(\"/\")[-1]\n",
    "    item_metadata_pipeline_filename = args.item_metadata_pipeline_fp.split(\"/\")[-1]\n",
    "    with mlflow.start_run(run_id=run_id):\n",
    "        mlflow.pyfunc.log_model(\n",
    "            python_model=inferrer,\n",
    "            artifact_path=\"inferrer\",\n",
    "            # We log the id_mapping to the predict function so that it can accept item_id and automatically convert ot item_indice for PyTorch model to use\n",
    "            artifacts={\n",
    "                \"idm\": mlflow.get_artifact_uri(idm_filename),\n",
    "                \"item_metadata_pipeline\": mlflow.get_artifact_uri(\n",
    "                    item_metadata_pipeline_filename\n",
    "                ),\n",
    "            },\n",
    "            signature=signature,\n",
    "            input_example=sample_input,\n",
    "            registered_model_name=args.mlf_model_name,\n",
    "        )"
   ]
  },
  {
   "cell_type": "markdown",
   "id": "f95d5150-9851-4e61-b1af-8e619abc9ea4",
   "metadata": {},
   "source": [
    "# Set the newly trained model as champion"
   ]
  },
  {
   "cell_type": "code",
   "execution_count": null,
   "id": "cbf6428a-bc47-400a-99ac-666abfa4ce63",
   "metadata": {},
   "outputs": [],
   "source": [
    "if args.log_to_mlflow:\n",
    "    val_roc_auc = trainer.logger.experiment.get_run(trainer.logger.run_id).data.metrics[\n",
    "        \"val_roc_auc\"\n",
    "    ]\n",
    "\n",
    "    if val_roc_auc > args.min_roc_auc:\n",
    "        logger.info(f\"Aliasing the new model as champion...\")\n",
    "        model_version = (\n",
    "            mlf_client.get_registered_model(args.mlf_model_name)\n",
    "            .latest_versions[0]\n",
    "            .version\n",
    "        )\n",
    "\n",
    "        mlf_client.set_registered_model_alias(\n",
    "            name=args.mlf_model_name, alias=\"champion\", version=model_version\n",
    "        )\n",
    "\n",
    "        mlf_client.set_model_version_tag(\n",
    "            name=args.mlf_model_name,\n",
    "            version=model_version,\n",
    "            key=\"author\",\n",
    "            value=\"quy.dinh\",\n",
    "        )"
   ]
  },
  {
   "cell_type": "markdown",
   "id": "32096360-c26a-42de-9564-30634fb76eeb",
   "metadata": {},
   "source": [
    "# Clean up"
   ]
  },
  {
   "cell_type": "code",
   "execution_count": null,
   "id": "e98c6850-e4de-43fa-b132-0b97f138a0ed",
   "metadata": {
    "scrolled": true
   },
   "outputs": [],
   "source": [
    "all_params = [args]\n",
    "\n",
    "if args.log_to_mlflow:\n",
    "    with mlflow.start_run(run_id=run_id):\n",
    "        for params in all_params:\n",
    "            params_dict = params.dict()\n",
    "            params_ = dict()\n",
    "            for k, v in params_dict.items():\n",
    "                if k == \"top_K\":\n",
    "                    k = \"top_big_K\"\n",
    "                if k == \"top_k\":\n",
    "                    k = \"top_small_k\"\n",
    "                params_[f\"{params.__repr_name__()}.{k}\"] = v\n",
    "            mlflow.log_params(params_)"
   ]
  },
  {
   "cell_type": "code",
   "execution_count": null,
   "id": "30cff81a-484e-4919-be8f-0351cce91a75",
   "metadata": {},
   "outputs": [],
   "source": []
  }
 ],
 "metadata": {
  "kernelspec": {
   "display_name": "Python 3 (ipykernel)",
   "language": "python",
   "name": "python3"
  },
  "language_info": {
   "codemirror_mode": {
    "name": "ipython",
    "version": 3
   },
   "file_extension": ".py",
   "mimetype": "text/x-python",
   "name": "python",
   "nbconvert_exporter": "python",
   "pygments_lexer": "ipython3",
   "version": "3.11.9"
  }
 },
 "nbformat": 4,
 "nbformat_minor": 5
}
