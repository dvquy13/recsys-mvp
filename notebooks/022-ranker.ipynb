{
 "cells": [
  {
   "cell_type": "markdown",
   "id": "3bf1577c-6f3b-4b1c-a848-8f5e45ff8111",
   "metadata": {},
   "source": [
    "# Ranker that can takes into accound different features"
   ]
  },
  {
   "cell_type": "markdown",
   "id": "9309e017-0449-46ee-b7ca-4c4bcadeedf6",
   "metadata": {},
   "source": [
    "# Set up"
   ]
  },
  {
   "cell_type": "code",
   "execution_count": 1,
   "id": "3c8f6e8d-f776-4d39-898c-d783c5ae3407",
   "metadata": {},
   "outputs": [],
   "source": [
    "%load_ext autoreload\n",
    "%autoreload 2\n",
    "%load_ext tensorboard"
   ]
  },
  {
   "cell_type": "code",
   "execution_count": 2,
   "id": "35b3499d-dc9c-405a-8714-a26341b581e1",
   "metadata": {
    "editable": true,
    "slideshow": {
     "slide_type": ""
    },
    "tags": []
   },
   "outputs": [],
   "source": [
    "import os\n",
    "import sys\n",
    "\n",
    "import dill\n",
    "import lightning as L\n",
    "import numpy as np\n",
    "import pandas as pd\n",
    "import torch\n",
    "from dotenv import load_dotenv\n",
    "from lightning.pytorch.callbacks import ModelCheckpoint\n",
    "from lightning.pytorch.callbacks.early_stopping import EarlyStopping\n",
    "from lightning.pytorch.loggers import MLFlowLogger\n",
    "from loguru import logger\n",
    "from mlflow.models.signature import infer_signature\n",
    "from pydantic import BaseModel\n",
    "from torch.utils.data import DataLoader\n",
    "\n",
    "import mlflow\n",
    "\n",
    "load_dotenv()\n",
    "\n",
    "sys.path.insert(0, \"..\")\n",
    "\n",
    "from cfg.run_cfg import RunCfg\n",
    "from src.ann import AnnIndex\n",
    "from src.data_prep_utils import chunk_transform\n",
    "from src.dataset import UserItemBinaryDFDataset\n",
    "from src.id_mapper import IDMapper\n",
    "from src.ranker.inference import RankerInferenceWrapper\n",
    "from src.ranker.model import Ranker\n",
    "from src.ranker.trainer import LitRanker\n",
    "from src.viz import blueq_colors"
   ]
  },
  {
   "cell_type": "markdown",
   "id": "fd804021-3424-48e0-973a-e662a72db544",
   "metadata": {},
   "source": [
    "# Controller"
   ]
  },
  {
   "cell_type": "code",
   "execution_count": 3,
   "id": "ce522d9e-f35c-4cc5-a71e-68447956b31f",
   "metadata": {
    "editable": true,
    "slideshow": {
     "slide_type": ""
    },
    "tags": [
     "parameters"
    ]
   },
   "outputs": [],
   "source": [
    "max_epochs = 1"
   ]
  },
  {
   "cell_type": "code",
   "execution_count": 4,
   "id": "ea4e9a93-5b6a-4dec-97f0-b9aa3383c64d",
   "metadata": {
    "scrolled": true
   },
   "outputs": [
    {
     "name": "stderr",
     "output_type": "stream",
     "text": [
      "\u001b[32m2024-11-10 16:33:56.874\u001b[0m | \u001b[34m\u001b[1mDEBUG   \u001b[0m | \u001b[36mcfg.run_cfg\u001b[0m:\u001b[36minit\u001b[0m:\u001b[36m43\u001b[0m - \u001b[34m\u001b[1mChanging use_item_tags_from_llm requires re-running notebook 002-features-v2 to get the new item_metadata_pipeline.dill file\u001b[0m\n",
      "\u001b[32m2024-11-10 16:33:56.877\u001b[0m | \u001b[1mINFO    \u001b[0m | \u001b[36m__main__\u001b[0m:\u001b[36minit\u001b[0m:\u001b[36m61\u001b[0m - \u001b[1mSetting up MLflow experiment RecSys MVP - Ranker - run 035-rerun-add-features-l9...\u001b[0m\n"
     ]
    },
    {
     "name": "stdout",
     "output_type": "stream",
     "text": [
      "{\n",
      "  \"testing\": false,\n",
      "  \"author\": \"quy.dinh\",\n",
      "  \"log_to_mlflow\": true,\n",
      "  \"experiment_name\": \"RecSys MVP - Ranker\",\n",
      "  \"run_name\": \"035-rerun-add-features-l9\",\n",
      "  \"notebook_persist_dp\": \"/home/dvquys/frostmourne/recsys-mvp/notebooks/data/035-rerun-add-features-l9\",\n",
      "  \"random_seed\": 41,\n",
      "  \"device\": \"cuda\",\n",
      "  \"rc\": {\n",
      "    \"use_sbert_features\": false,\n",
      "    \"use_item_tags_from_llm\": false,\n",
      "    \"item_feature_cols\": [\n",
      "      \"main_category\",\n",
      "      \"categories\",\n",
      "      \"price\",\n",
      "      \"parent_asin_rating_cnt_365d\",\n",
      "      \"parent_asin_rating_avg_prev_rating_365d\",\n",
      "      \"parent_asin_rating_cnt_90d\",\n",
      "      \"parent_asin_rating_avg_prev_rating_90d\",\n",
      "      \"parent_asin_rating_cnt_30d\",\n",
      "      \"parent_asin_rating_avg_prev_rating_30d\",\n",
      "      \"parent_asin_rating_cnt_7d\",\n",
      "      \"parent_asin_rating_avg_prev_rating_7d\"\n",
      "    ],\n",
      "    \"item_tags_from_llm_fp\": \"../data/item_tags_from_llm.parquet\"\n",
      "  },\n",
      "  \"item_metadata_pipeline_fp\": \"../data/item_metadata_pipeline.dill\",\n",
      "  \"qdrant_url\": \"localhost:6333\",\n",
      "  \"qdrant_collection_name\": \"item_desc_sbert\",\n",
      "  \"max_epochs\": 1,\n",
      "  \"batch_size\": 128,\n",
      "  \"tfm_chunk_size\": 10000,\n",
      "  \"neg_to_pos_ratio\": 1,\n",
      "  \"user_col\": \"user_id\",\n",
      "  \"item_col\": \"parent_asin\",\n",
      "  \"rating_col\": \"rating\",\n",
      "  \"timestamp_col\": \"timestamp\",\n",
      "  \"top_K\": 100,\n",
      "  \"top_k\": 10,\n",
      "  \"embedding_dim\": 128,\n",
      "  \"item_sequence_ts_bucket_size\": 10,\n",
      "  \"bucket_embedding_dim\": 16,\n",
      "  \"dropout\": 0.3,\n",
      "  \"early_stopping_patience\": 5,\n",
      "  \"learning_rate\": 0.0003,\n",
      "  \"l2_reg\": 0.0001,\n",
      "  \"mlf_item2vec_model_name\": \"item2vec\",\n",
      "  \"mlf_model_name\": \"ranker\",\n",
      "  \"min_roc_auc\": 0.7,\n",
      "  \"best_checkpoint_path\": null\n",
      "}\n"
     ]
    }
   ],
   "source": [
    "class Args(BaseModel):\n",
    "    testing: bool = False\n",
    "    author: str = \"quy.dinh\"\n",
    "    log_to_mlflow: bool = True\n",
    "    experiment_name: str = \"RecSys MVP - Ranker\"\n",
    "    run_name: str = \"035-rerun-add-features-l9\"\n",
    "    notebook_persist_dp: str = None\n",
    "    random_seed: int = 41\n",
    "    device: str = None\n",
    "\n",
    "    rc: RunCfg = RunCfg().init()\n",
    "\n",
    "    item_metadata_pipeline_fp: str = \"../data/item_metadata_pipeline.dill\"\n",
    "    qdrant_url: str = None\n",
    "    qdrant_collection_name: str = \"item_desc_sbert\"\n",
    "\n",
    "    max_epochs: int = max_epochs\n",
    "    batch_size: int = 128\n",
    "    tfm_chunk_size: int = 10000\n",
    "    neg_to_pos_ratio: int = 1\n",
    "\n",
    "    user_col: str = \"user_id\"\n",
    "    item_col: str = \"parent_asin\"\n",
    "    rating_col: str = \"rating\"\n",
    "    timestamp_col: str = \"timestamp\"\n",
    "\n",
    "    top_K: int = 100\n",
    "    top_k: int = 10\n",
    "\n",
    "    embedding_dim: int = 128\n",
    "    item_sequence_ts_bucket_size: int = 10\n",
    "    bucket_embedding_dim: int = 16\n",
    "    dropout: float = 0.3\n",
    "    early_stopping_patience: int = 5\n",
    "    learning_rate: float = 0.0003\n",
    "    l2_reg: float = 1e-4\n",
    "\n",
    "    mlf_item2vec_model_name: str = \"item2vec\"\n",
    "    mlf_model_name: str = \"ranker\"\n",
    "    min_roc_auc: float = 0.7\n",
    "\n",
    "    best_checkpoint_path: str = None\n",
    "\n",
    "    def init(self):\n",
    "        self.notebook_persist_dp = os.path.abspath(f\"data/{self.run_name}\")\n",
    "        os.makedirs(self.notebook_persist_dp, exist_ok=True)\n",
    "\n",
    "        if not (qdrant_host := os.getenv(\"QDRANT_HOST\")):\n",
    "            raise Exception(f\"Environment variable QDRANT_HOST is not set.\")\n",
    "\n",
    "        qdrant_port = os.getenv(\"QDRANT_PORT\")\n",
    "        self.qdrant_url = f\"{qdrant_host}:{qdrant_port}\"\n",
    "\n",
    "        if not (mlflow_uri := os.environ.get(\"MLFLOW_TRACKING_URI\")):\n",
    "            logger.warning(\n",
    "                f\"Environment variable MLFLOW_TRACKING_URI is not set. Setting self.log_to_mlflow to false.\"\n",
    "            )\n",
    "            self.log_to_mlflow = False\n",
    "\n",
    "        if self.log_to_mlflow:\n",
    "            logger.info(\n",
    "                f\"Setting up MLflow experiment {self.experiment_name} - run {self.run_name}...\"\n",
    "            )\n",
    "            self._mlf_logger = MLFlowLogger(\n",
    "                experiment_name=self.experiment_name,\n",
    "                run_name=self.run_name,\n",
    "                tracking_uri=mlflow_uri,\n",
    "                log_model=True,\n",
    "            )\n",
    "\n",
    "        if self.device is None:\n",
    "            self.device = (\n",
    "                \"cuda\"\n",
    "                if torch.cuda.is_available()\n",
    "                else \"mps\" if torch.backends.mps.is_available() else \"cpu\"\n",
    "            )\n",
    "\n",
    "        return self\n",
    "\n",
    "\n",
    "args = Args().init()\n",
    "\n",
    "print(args.model_dump_json(indent=2))"
   ]
  },
  {
   "cell_type": "markdown",
   "id": "a5acedcb-89e6-41c6-8969-bf3437fc7898",
   "metadata": {},
   "source": [
    "# Implement"
   ]
  },
  {
   "cell_type": "code",
   "execution_count": 5,
   "id": "5a34cb5b-c7db-4b95-952b-5f4cb2e1a04d",
   "metadata": {},
   "outputs": [],
   "source": [
    "def init_model(\n",
    "    n_users,\n",
    "    n_items,\n",
    "    embedding_dim,\n",
    "    item_sequence_ts_bucket_size,\n",
    "    bucket_embedding_dim,\n",
    "    item_feature_size,\n",
    "    dropout,\n",
    "    item_embedding=None,\n",
    "):\n",
    "    model = Ranker(\n",
    "        n_users,\n",
    "        n_items,\n",
    "        embedding_dim,\n",
    "        item_sequence_ts_bucket_size=item_sequence_ts_bucket_size,\n",
    "        bucket_embedding_dim=bucket_embedding_dim,\n",
    "        item_feature_size=item_feature_size,\n",
    "        dropout=dropout,\n",
    "        item_embedding=item_embedding,\n",
    "    )\n",
    "    return model"
   ]
  },
  {
   "cell_type": "markdown",
   "id": "c49b92fb-3b4c-482f-a584-62288873d8c3",
   "metadata": {},
   "source": [
    "## Load pretrained Item2Vec embeddings"
   ]
  },
  {
   "cell_type": "code",
   "execution_count": 6,
   "id": "35cfc84a-75bb-4973-b619-194cc8698ee2",
   "metadata": {
    "scrolled": true
   },
   "outputs": [
    {
     "data": {
      "application/vnd.jupyter.widget-view+json": {
       "model_id": "5452c4a92bf745e1addd4bceaba9ec73",
       "version_major": 2,
       "version_minor": 0
      },
      "text/plain": [
       "Downloading artifacts:   0%|          | 0/8 [00:00<?, ?it/s]"
      ]
     },
     "metadata": {},
     "output_type": "display_data"
    }
   ],
   "source": [
    "mlf_client = mlflow.MlflowClient()\n",
    "model = mlflow.pyfunc.load_model(\n",
    "    model_uri=f\"models:/{args.mlf_item2vec_model_name}@champion\"\n",
    ")\n",
    "skipgram_model = model.unwrap_python_model().model\n",
    "embedding_0 = skipgram_model.embeddings(torch.tensor(0))\n",
    "embedding_dim = embedding_0.size()[0]\n",
    "id_mapping = model.unwrap_python_model().id_mapping\n",
    "pretrained_item_embedding = skipgram_model.embeddings"
   ]
  },
  {
   "cell_type": "code",
   "execution_count": 7,
   "id": "f3baa82d-859d-4414-8e19-4c7d92750fa3",
   "metadata": {},
   "outputs": [],
   "source": [
    "assert (\n",
    "    pretrained_item_embedding.embedding_dim == args.embedding_dim\n",
    "), \"Mismatch pretrained item_embedding dimension\""
   ]
  },
  {
   "cell_type": "markdown",
   "id": "a43bc0b9-9d56-4cb2-b821-61dd9b9858b1",
   "metadata": {},
   "source": [
    "## Load vectorized item features"
   ]
  },
  {
   "cell_type": "code",
   "execution_count": 8,
   "id": "8ff750e3-fa06-42b4-a5c3-9b93d3c2b536",
   "metadata": {},
   "outputs": [],
   "source": [
    "with open(args.item_metadata_pipeline_fp, \"rb\") as f:\n",
    "    item_metadata_pipeline = dill.load(f)"
   ]
  },
  {
   "cell_type": "markdown",
   "id": "58607871-619d-46a0-9f7d-405e8f500462",
   "metadata": {},
   "source": [
    "## Load ANN Index"
   ]
  },
  {
   "cell_type": "code",
   "execution_count": 9,
   "id": "6e3a82c4-247e-4402-a87b-198c698be866",
   "metadata": {},
   "outputs": [],
   "source": [
    "if args.rc.use_sbert_features:\n",
    "    ann_index = AnnIndex(args.qdrant_url, args.qdrant_collection_name)\n",
    "    vector = ann_index.get_vector_by_ids([0])[0]\n",
    "    sbert_embedding_dim = vector.shape[0]\n",
    "    logger.info(f\"{sbert_embedding_dim=}\")\n",
    "    neighbors = ann_index.get_neighbors_by_ids([0])\n",
    "    display(neighbors)"
   ]
  },
  {
   "cell_type": "markdown",
   "id": "377a71da-1ee3-474c-b3f4-4488d2a45dd3",
   "metadata": {},
   "source": [
    "# Test implementation"
   ]
  },
  {
   "cell_type": "code",
   "execution_count": 10,
   "id": "2806284e-20cd-4e8f-a1b9-34483ca094a2",
   "metadata": {
    "scrolled": true
   },
   "outputs": [
    {
     "name": "stdout",
     "output_type": "stream",
     "text": [
      "tensor([[0.3810],\n",
      "        [0.4688],\n",
      "        [0.4127],\n",
      "        [0.4198],\n",
      "        [0.4208]], grad_fn=<SigmoidBackward0>)\n"
     ]
    },
    {
     "data": {
      "text/plain": [
       "Ranker(\n",
       "  (item_embedding): Embedding(6, 8, padding_idx=5)\n",
       "  (user_embedding): Embedding(3, 8)\n",
       "  (item_sequence_ts_bucket_embedding): Embedding(11, 16, padding_idx=10)\n",
       "  (gru): GRU(24, 8, batch_first=True)\n",
       "  (relu): ReLU()\n",
       "  (dropout): Dropout(p=0.3, inplace=False)\n",
       "  (item_feature_tower): Sequential(\n",
       "    (0): Linear(in_features=161, out_features=8, bias=True)\n",
       "    (1): BatchNorm1d(8, eps=1e-05, momentum=0.1, affine=True, track_running_stats=True)\n",
       "    (2): ReLU()\n",
       "    (3): Dropout(p=0.3, inplace=False)\n",
       "  )\n",
       "  (fc_rating): Sequential(\n",
       "    (0): Linear(in_features=32, out_features=8, bias=True)\n",
       "    (1): BatchNorm1d(8, eps=1e-05, momentum=0.1, affine=True, track_running_stats=True)\n",
       "    (2): ReLU()\n",
       "    (3): Dropout(p=0.3, inplace=False)\n",
       "    (4): Linear(in_features=8, out_features=1, bias=True)\n",
       "    (5): Sigmoid()\n",
       "  )\n",
       ")"
      ]
     },
     "execution_count": 10,
     "metadata": {},
     "output_type": "execute_result"
    }
   ],
   "source": [
    "embedding_dim = 8\n",
    "batch_size = 2\n",
    "\n",
    "# Mock data\n",
    "user_indices = [0, 0, 1, 2, 2]\n",
    "item_indices = [0, 1, 2, 3, 4]\n",
    "timestamps = [0, 1, 2, 3, 4]\n",
    "ratings = [0, 4, 5, 3, 0]\n",
    "item_sequences = [\n",
    "    [-1, -1, 2, 3],\n",
    "    [-1, -1, 2, 3],\n",
    "    [-1, -1, 1, 3],\n",
    "    [-1, -1, 2, 1],\n",
    "    [-1, -1, 2, 1],\n",
    "]\n",
    "item_sequences_ts_buckets = [\n",
    "    [-1, -1, 2, 3],\n",
    "    [-1, -1, 2, 3],\n",
    "    [-1, -1, 1, 3],\n",
    "    [-1, -1, 2, 1],\n",
    "    [-1, -1, 2, 1],\n",
    "]\n",
    "main_category = [\n",
    "    \"All Electronics\",\n",
    "    \"Video Games\",\n",
    "    \"All Electronics\",\n",
    "    \"Video Games\",\n",
    "    \"Unknown\",\n",
    "]\n",
    "categories = [[], [\"Headsets\"], [\"Video Games\"], [], [\"blah blah\"]]\n",
    "tags = categories  # Mock data not important\n",
    "title = [\"World of Warcraft\", \"DotA 2\", \"Diablo IV\", \"Football Manager 2024\", \"Unknown\"]\n",
    "description = [[], [], [\"Video games blah blah\"], [], [\"blah blah\"]]\n",
    "price = [\"from 14.99\", \"14.99\", \"price: 9.99\", \"20 dollars\", \"None\"]\n",
    "parent_asin_rating_cnt_365d = [0, 1, 2, 3, 4]\n",
    "parent_asin_rating_avg_prev_rating_365d = [4.0, 3.5, 4.5, 5.0, 2.0]\n",
    "parent_asin_rating_cnt_90d = [0, 1, 2, 3, 4]\n",
    "parent_asin_rating_avg_prev_rating_90d = [4.0, 3.5, 4.5, 5.0, 2.0]\n",
    "parent_asin_rating_cnt_30d = [0, 1, 2, 3, 4]\n",
    "parent_asin_rating_avg_prev_rating_30d = [4.0, 3.5, 4.5, 5.0, 2.0]\n",
    "parent_asin_rating_cnt_7d = [0, 1, 2, 3, 4]\n",
    "parent_asin_rating_avg_prev_rating_7d = [4.0, 3.5, 4.5, 5.0, 2.0]\n",
    "\n",
    "train_data = {\n",
    "    \"user_indice\": user_indices,\n",
    "    \"item_indice\": item_indices,\n",
    "    args.timestamp_col: timestamps,\n",
    "    args.rating_col: ratings,\n",
    "    \"item_sequence\": item_sequences,\n",
    "    \"item_sequence_ts_bucket\": item_sequences_ts_buckets,\n",
    "    \"main_category\": main_category,\n",
    "    \"title\": title,\n",
    "    \"description\": description,\n",
    "    \"categories\": categories,\n",
    "    \"price\": price,\n",
    "    \"parent_asin_rating_cnt_365d\": parent_asin_rating_cnt_365d,\n",
    "    \"parent_asin_rating_avg_prev_rating_365d\": parent_asin_rating_avg_prev_rating_365d,\n",
    "    \"parent_asin_rating_cnt_90d\": parent_asin_rating_cnt_90d,\n",
    "    \"parent_asin_rating_avg_prev_rating_90d\": parent_asin_rating_avg_prev_rating_90d,\n",
    "    \"parent_asin_rating_cnt_30d\": parent_asin_rating_cnt_30d,\n",
    "    \"parent_asin_rating_avg_prev_rating_30d\": parent_asin_rating_avg_prev_rating_30d,\n",
    "    \"parent_asin_rating_cnt_7d\": parent_asin_rating_cnt_7d,\n",
    "    \"parent_asin_rating_avg_prev_rating_7d\": parent_asin_rating_avg_prev_rating_7d,\n",
    "}\n",
    "\n",
    "if args.rc.use_item_tags_from_llm:\n",
    "    train_data[\"tags\"] = tags\n",
    "\n",
    "train_df = pd.DataFrame(train_data)\n",
    "train_item_features = item_metadata_pipeline.transform(train_df).astype(np.float32)\n",
    "if args.rc.use_sbert_features:\n",
    "    sbert_vectors = ann_index.get_vector_by_ids(\n",
    "        train_df[\"item_indice\"].values.tolist()\n",
    "    ).astype(np.float32)\n",
    "    train_item_features = np.hstack([train_item_features, sbert_vectors])\n",
    "\n",
    "n_users = len(set(user_indices))\n",
    "n_items = len(set(item_indices))\n",
    "item_feature_size = train_item_features.shape[1]\n",
    "\n",
    "model = init_model(\n",
    "    n_users,\n",
    "    n_items,\n",
    "    embedding_dim,\n",
    "    args.item_sequence_ts_bucket_size,\n",
    "    args.bucket_embedding_dim,\n",
    "    item_feature_size,\n",
    "    args.dropout,\n",
    ")\n",
    "\n",
    "# Example forward pass\n",
    "model.eval()\n",
    "users = torch.tensor(user_indices)\n",
    "items = torch.tensor(item_indices)\n",
    "item_sequences = torch.tensor(item_sequences)\n",
    "item_sequences_ts_buckets = torch.tensor(item_sequences_ts_buckets)\n",
    "item_features = torch.tensor(train_item_features)\n",
    "predictions = model.predict(\n",
    "    users, item_sequences, item_sequences_ts_buckets, item_features, items\n",
    ")\n",
    "print(predictions)\n",
    "model.train()"
   ]
  },
  {
   "cell_type": "code",
   "execution_count": 11,
   "id": "0c0b1fea-0376-4624-ad8a-d000208a97f5",
   "metadata": {
    "scrolled": true
   },
   "outputs": [],
   "source": [
    "rating_dataset = UserItemBinaryDFDataset(\n",
    "    train_df,\n",
    "    \"user_indice\",\n",
    "    \"item_indice\",\n",
    "    args.rating_col,\n",
    "    args.timestamp_col,\n",
    "    item_feature=train_item_features,\n",
    ")\n",
    "\n",
    "train_loader = DataLoader(\n",
    "    rating_dataset, batch_size=batch_size, shuffle=False, drop_last=True\n",
    ")"
   ]
  },
  {
   "cell_type": "code",
   "execution_count": 12,
   "id": "2e82d3d1-826a-409b-8440-46e0bd924269",
   "metadata": {
    "scrolled": true
   },
   "outputs": [
    {
     "name": "stdout",
     "output_type": "stream",
     "text": [
      "{'user': tensor([0, 0]), 'item': tensor([0, 1]), 'rating': tensor([0., 1.]), 'item_sequence': tensor([[-1, -1,  2,  3],\n",
      "        [-1, -1,  2,  3]]), 'item_sequence_ts_bucket': tensor([[-1, -1,  2,  3],\n",
      "        [-1, -1,  2,  3]]), 'item_feature': tensor([[-0.0147,  5.6424, -0.0147, -0.0255, -0.0147, -0.0147, -0.0208, -0.0821,\n",
      "         -0.2873, -0.0147, -0.0389, -0.0294, -0.0255, -0.0147, -0.0147, -0.0389,\n",
      "         -0.0208, -0.0389, -0.0510, -2.4504, -0.1343,  7.1430, -0.6101, -0.0821,\n",
      "         -0.0794, -0.0208, -0.0147, -0.0147, -0.0510, -0.1326, -0.0255, -0.0147,\n",
      "         -0.0910, -0.1359, -0.0147, -0.1486, -0.1045, -0.0147, -0.0147, -0.2057,\n",
      "         -0.2260, -0.0294, -0.0208, -0.0147, -0.0208, -0.0147, -0.0294, -0.0737,\n",
      "         -0.0208, -0.0208, -0.0147, -0.1034, -0.0208, -0.0208, -0.0389, -0.1034,\n",
      "         -0.0551, -0.1248, -0.0675, -0.1239, -0.1638, -1.1327, -0.0208, -0.0208,\n",
      "         -0.1300, -0.1359, -0.0329, -0.0147, -0.0147, -0.0208, -0.0147, -0.0208,\n",
      "         -0.0465, -0.1836, -0.0910, -0.0255, -0.0208, -0.0389, -1.1646, -0.0691,\n",
      "         -0.0551, -0.0147, -0.0416, -0.0208, -0.0642, -0.0329, -0.2439, -0.0821,\n",
      "         -0.1830, -0.0208, -0.0922, -0.2434, -0.5512, -0.0208, -0.0707, -0.4099,\n",
      "         -0.0208, -0.1203, -0.2249, -0.3460, -0.3224, -0.0510, -0.0675, -0.0360,\n",
      "         -0.5185, -0.1545, -0.0360, -0.0255, -0.0360, -0.0147, -0.0531, -0.0625,\n",
      "         -0.0208, -0.0691, -0.0510, -0.0607, -0.0255, -0.0834, -0.0255, -0.0147,\n",
      "         -0.0294, -0.1203, -0.0147, -0.0147, -0.0551, -0.0329, -0.0208, -0.0416,\n",
      "         -0.0780, -0.0147, -0.0294, -0.0294, -0.0510, -0.0147, -0.0147, -0.0389,\n",
      "         -0.0329, -7.1024, -0.0208, -0.0255, -0.0255, -0.0465, -0.2523, -0.1706,\n",
      "         -0.1326, -0.3365, -0.0208, -0.0208, -0.0570, -0.2886, -0.0208, -0.3713,\n",
      "         -0.3813, -0.5132,  0.2043, -0.3825,  0.5731, -0.3052,  1.0211, -0.2525,\n",
      "          1.8559],\n",
      "        [-0.0147, -0.1772, -0.0147, -0.0255, -0.0147, -0.0147, -0.0208, -0.0821,\n",
      "         -0.2873, -0.0147, -0.0389, -0.0294, -0.0255, -0.0147, -0.0147, -0.0389,\n",
      "         -0.0208, -0.0389, -0.0510,  0.4081, -0.1343, -0.1400, -0.6101, -0.0821,\n",
      "         -0.0794, -0.0208, -0.0147, -0.0147, -0.0510, -0.1326, -0.0255, -0.0147,\n",
      "         -0.0910, -0.1359, -0.0147, -0.1486, -0.1045, -0.0147, -0.0147, -0.2057,\n",
      "         -0.2260, -0.0294, -0.0208, -0.0147, -0.0208, -0.0147, -0.0294, -0.0737,\n",
      "         -0.0208, -0.0208, -0.0147, -0.1034, -0.0208, -0.0208, -0.0389, -0.1034,\n",
      "         -0.0551, -0.1248, -0.0675, -0.1239, -0.1638, -1.1327, -0.0208, -0.0208,\n",
      "         -0.1300, -0.1359, -0.0329, -0.0147, -0.0147, -0.0208, -0.0147, -0.0208,\n",
      "         -0.0465,  5.4463, -0.0910, -0.0255, -0.0208, -0.0389, -1.1646, -0.0691,\n",
      "         -0.0551, -0.0147, -0.0416, -0.0208, -0.0642, -0.0329, -0.2439, -0.0821,\n",
      "         -0.1830, -0.0208, -0.0922, -0.2434, -0.5512, -0.0208, -0.0707, -0.4099,\n",
      "         -0.0208, -0.1203, -0.2249, -0.3460, -0.3224, -0.0510, -0.0675, -0.0360,\n",
      "         -0.5185, -0.1545, -0.0360, -0.0255, -0.0360, -0.0147, -0.0531, -0.0625,\n",
      "         -0.0208, -0.0691, -0.0510, -0.0607, -0.0255, -0.0834, -0.0255, -0.0147,\n",
      "         -0.0294, -0.1203, -0.0147, -0.0147, -0.0551, -0.0329, -0.0208, -0.0416,\n",
      "         -0.0780, -0.0147, -0.0294, -0.0294, -0.0510, -0.0147, -0.0147, -0.0389,\n",
      "         -0.0329, -7.1024, -0.0208, -0.0255, -0.0255, -0.0465, -0.2523, -0.1706,\n",
      "         -0.1326, -0.3365, -0.0208, -0.0208, -0.0570, -0.2886, -0.0208, -0.3713,\n",
      "         -0.3813, -0.4478, -0.0992, -0.2612,  0.3441, -0.0786,  0.7935,  0.3443,\n",
      "          1.5659]])}\n",
      "{'user': tensor([1, 2]), 'item': tensor([2, 3]), 'rating': tensor([1., 1.]), 'item_sequence': tensor([[-1, -1,  1,  3],\n",
      "        [-1, -1,  2,  1]]), 'item_sequence_ts_bucket': tensor([[-1, -1,  1,  3],\n",
      "        [-1, -1,  2,  1]]), 'item_feature': tensor([[-0.0147,  5.6424, -0.0147, -0.0255, -0.0147, -0.0147, -0.0208, -0.0821,\n",
      "         -0.2873, -0.0147, -0.0389, -0.0294, -0.0255, -0.0147, -0.0147, -0.0389,\n",
      "         -0.0208, -0.0389, -0.0510, -2.4504, -0.1343, -0.1400, -0.6101, -0.0821,\n",
      "         -0.0794, -0.0208, -0.0147, -0.0147, -0.0510, -0.1326, -0.0255, -0.0147,\n",
      "         -0.0910, -0.1359, -0.0147, -0.1486, -0.1045, -0.0147, -0.0147, -0.2057,\n",
      "         -0.2260, -0.0294, -0.0208, -0.0147, -0.0208, -0.0147, -0.0294, -0.0737,\n",
      "         -0.0208, -0.0208, -0.0147, -0.1034, -0.0208, -0.0208, -0.0389, -0.1034,\n",
      "         -0.0551, -0.1248, -0.0675, -0.1239, -0.1638, -1.1327, -0.0208, -0.0208,\n",
      "         -0.1300, -0.1359, -0.0329, -0.0147, -0.0147, -0.0208, -0.0147, -0.0208,\n",
      "         -0.0465, -0.1836, -0.0910, -0.0255, -0.0208, -0.0389, -1.1646, -0.0691,\n",
      "         -0.0551, -0.0147, -0.0416, -0.0208, -0.0642, -0.0329, -0.2439, -0.0821,\n",
      "         -0.1830, -0.0208, -0.0922, -0.2434, -0.5512, -0.0208, -0.0707, -0.4099,\n",
      "         -0.0208, -0.1203, -0.2249, -0.3460, -0.3224, -0.0510, -0.0675, -0.0360,\n",
      "         -0.5185, -0.1545, -0.0360, -0.0255, -0.0360, -0.0147, -0.0531, -0.0625,\n",
      "         -0.0208, -0.0691, -0.0510, -0.0607, -0.0255, -0.0834, -0.0255, -0.0147,\n",
      "         -0.0294, -0.1203, -0.0147, -0.0147, -0.0551, -0.0329, -0.0208, -0.0416,\n",
      "         -0.0780, -0.0147, -0.0294, -0.0294, -0.0510, -0.0147, -0.0147, -0.0389,\n",
      "         -0.0329,  0.1408, -0.0208, -0.0255, -0.0255, -0.0465, -0.2523, -0.1706,\n",
      "         -0.1326, -0.3365, -0.0208, -0.0208, -0.0570, -0.2886, -0.0208, -0.3713,\n",
      "         -0.4361, -0.3825,  0.5078, -0.1398,  0.8021,  0.1479,  1.2487,  0.9412,\n",
      "          2.1458],\n",
      "        [-0.0147, -0.1772, -0.0147, -0.0255, -0.0147, -0.0147, -0.0208, -0.0821,\n",
      "         -0.2873, -0.0147, -0.0389, -0.0294, -0.0255, -0.0147, -0.0147, -0.0389,\n",
      "         -0.0208, -0.0389, -0.0510,  0.4081, -0.1343,  7.1430, -0.6101, -0.0821,\n",
      "         -0.0794, -0.0208, -0.0147, -0.0147, -0.0510, -0.1326, -0.0255, -0.0147,\n",
      "         -0.0910, -0.1359, -0.0147, -0.1486, -0.1045, -0.0147, -0.0147, -0.2057,\n",
      "         -0.2260, -0.0294, -0.0208, -0.0147, -0.0208, -0.0147, -0.0294, -0.0737,\n",
      "         -0.0208, -0.0208, -0.0147, -0.1034, -0.0208, -0.0208, -0.0389, -0.1034,\n",
      "         -0.0551, -0.1248, -0.0675, -0.1239, -0.1638, -1.1327, -0.0208, -0.0208,\n",
      "         -0.1300, -0.1359, -0.0329, -0.0147, -0.0147, -0.0208, -0.0147, -0.0208,\n",
      "         -0.0465, -0.1836, -0.0910, -0.0255, -0.0208, -0.0389, -1.1646, -0.0691,\n",
      "         -0.0551, -0.0147, -0.0416, -0.0208, -0.0642, -0.0329, -0.2439, -0.0821,\n",
      "         -0.1830, -0.0208, -0.0922, -0.2434, -0.5512, -0.0208, -0.0707, -0.4099,\n",
      "         -0.0208, -0.1203, -0.2249, -0.3460, -0.3224, -0.0510, -0.0675, -0.0360,\n",
      "         -0.5185, -0.1545, -0.0360, -0.0255, -0.0360, -0.0147, -0.0531, -0.0625,\n",
      "         -0.0208, -0.0691, -0.0510, -0.0607, -0.0255, -0.0834, -0.0255, -0.0147,\n",
      "         -0.0294, -0.1203, -0.0147, -0.0147, -0.0551, -0.0329, -0.0208, -0.0416,\n",
      "         -0.0780, -0.0147, -0.0294, -0.0294, -0.0510, -0.0147, -0.0147, -0.0389,\n",
      "         -0.0329, -7.1024, -0.0208, -0.0255, -0.0255, -0.0465, -0.2523, -0.1706,\n",
      "         -0.1326, -0.3365, -0.0208, -0.0208, -0.0570, -0.2886, -0.0208, -0.3713,\n",
      "         -0.3263, -0.3171,  0.8113, -0.0185,  1.0311,  0.3745,  1.4763,  1.5381,\n",
      "          2.4358]])}\n"
     ]
    }
   ],
   "source": [
    "for batch_input in train_loader:\n",
    "    print(batch_input)"
   ]
  },
  {
   "cell_type": "code",
   "execution_count": 13,
   "id": "02cb9ca4-11f1-45a8-911b-ed11c8391944",
   "metadata": {
    "scrolled": true
   },
   "outputs": [
    {
     "name": "stderr",
     "output_type": "stream",
     "text": [
      "GPU available: True (cuda), used: True\n",
      "TPU available: False, using: 0 TPU cores\n",
      "HPU available: False, using: 0 HPUs\n",
      "You are using a CUDA device ('NVIDIA GeForce RTX 4060 Ti') that has Tensor Cores. To properly utilize them, you should set `torch.set_float32_matmul_precision('medium' | 'high')` which will trade-off precision for performance. For more details, read https://pytorch.org/docs/stable/generated/torch.set_float32_matmul_precision.html#torch.set_float32_matmul_precision\n",
      "LOCAL_RANK: 0 - CUDA_VISIBLE_DEVICES: [0]\n",
      "\n",
      "  | Name  | Type   | Params | Mode \n",
      "-----------------------------------------\n",
      "0 | model | Ranker | 2.7 K  | train\n",
      "-----------------------------------------\n",
      "2.7 K     Trainable params\n",
      "0         Non-trainable params\n",
      "2.7 K     Total params\n",
      "0.011     Total estimated model params size (MB)\n",
      "15        Modules in train mode\n",
      "0         Modules in eval mode\n"
     ]
    },
    {
     "data": {
      "application/vnd.jupyter.widget-view+json": {
       "model_id": "",
       "version_major": 2,
       "version_minor": 0
      },
      "text/plain": [
       "Sanity Checking: |                                                                                            …"
      ]
     },
     "metadata": {},
     "output_type": "display_data"
    },
    {
     "name": "stderr",
     "output_type": "stream",
     "text": [
      "/home/dvquys/frostmourne/recsys-mvp/.venv/lib/python3.11/site-packages/lightning/pytorch/trainer/connectors/data_connector.py:424: The 'val_dataloader' does not have many workers which may be a bottleneck. Consider increasing the value of the `num_workers` argument` to `num_workers=11` in the `DataLoader` to improve performance.\n",
      "/home/dvquys/frostmourne/recsys-mvp/.venv/lib/python3.11/site-packages/lightning/pytorch/trainer/connectors/data_connector.py:424: The 'train_dataloader' does not have many workers which may be a bottleneck. Consider increasing the value of the `num_workers` argument` to `num_workers=11` in the `DataLoader` to improve performance.\n",
      "/home/dvquys/frostmourne/recsys-mvp/.venv/lib/python3.11/site-packages/lightning/pytorch/loops/fit_loop.py:298: The number of training batches (2) is smaller than the logging interval Trainer(log_every_n_steps=50). Set a lower value for log_every_n_steps if you want to see logs for the training epoch.\n"
     ]
    },
    {
     "data": {
      "application/vnd.jupyter.widget-view+json": {
       "model_id": "f42b161c7b374436aeb5eeeb1ff876e8",
       "version_major": 2,
       "version_minor": 0
      },
      "text/plain": [
       "Training: |                                                                                                   …"
      ]
     },
     "metadata": {},
     "output_type": "display_data"
    },
    {
     "data": {
      "application/vnd.jupyter.widget-view+json": {
       "model_id": "",
       "version_major": 2,
       "version_minor": 0
      },
      "text/plain": [
       "Validation: |                                                                                                 …"
      ]
     },
     "metadata": {},
     "output_type": "display_data"
    },
    {
     "data": {
      "application/vnd.jupyter.widget-view+json": {
       "model_id": "",
       "version_major": 2,
       "version_minor": 0
      },
      "text/plain": [
       "Validation: |                                                                                                 …"
      ]
     },
     "metadata": {},
     "output_type": "display_data"
    },
    {
     "name": "stderr",
     "output_type": "stream",
     "text": [
      "`Trainer.fit` stopped: `max_epochs=2` reached.\n",
      "\u001b[32m2024-11-10 16:33:57.846\u001b[0m | \u001b[1mINFO    \u001b[0m | \u001b[36msrc.ranker.trainer\u001b[0m:\u001b[36mon_fit_end\u001b[0m:\u001b[36m171\u001b[0m - \u001b[1mLogging classification metrics...\u001b[0m\n",
      "/home/dvquys/frostmourne/recsys-mvp/.venv/lib/python3.11/site-packages/sklearn/metrics/_classification.py:1531: UndefinedMetricWarning: Precision is ill-defined and being set to 0.0 due to no predicted samples. Use `zero_division` parameter to control this behavior.\n",
      "  _warn_prf(average, modifier, f\"{metric.capitalize()} is\", len(result))\n",
      "/home/dvquys/frostmourne/recsys-mvp/.venv/lib/python3.11/site-packages/sklearn/metrics/_classification.py:1531: UndefinedMetricWarning: Precision is ill-defined and being set to 0.0 in labels with no predicted samples. Use `zero_division` parameter to control this behavior.\n",
      "  _warn_prf(average, modifier, f\"{metric.capitalize()} is\", len(result))\n",
      "/home/dvquys/frostmourne/recsys-mvp/.venv/lib/python3.11/site-packages/sklearn/metrics/_classification.py:1531: UndefinedMetricWarning: Precision is ill-defined and being set to 0.0 in labels with no predicted samples. Use `zero_division` parameter to control this behavior.\n",
      "  _warn_prf(average, modifier, f\"{metric.capitalize()} is\", len(result))\n",
      "/home/dvquys/frostmourne/recsys-mvp/.venv/lib/python3.11/site-packages/sklearn/metrics/_classification.py:1531: UndefinedMetricWarning: Precision is ill-defined and being set to 0.0 in labels with no predicted samples. Use `zero_division` parameter to control this behavior.\n",
      "  _warn_prf(average, modifier, f\"{metric.capitalize()} is\", len(result))\n"
     ]
    }
   ],
   "source": [
    "# Prepare all item features for recommendation\n",
    "all_items_df = train_df.drop_duplicates(subset=[\"item_indice\"])\n",
    "all_items_indices = all_items_df[\"item_indice\"].values\n",
    "all_items_features = item_metadata_pipeline.transform(all_items_df).astype(np.float32)\n",
    "if args.rc.use_sbert_features:\n",
    "    all_sbert_vectors = ann_index.get_vector_by_ids(all_items_indices.tolist()).astype(\n",
    "        np.float32\n",
    "    )\n",
    "    all_items_features = np.hstack([all_items_features, all_sbert_vectors])\n",
    "\n",
    "lit_model = LitRanker(\n",
    "    model,\n",
    "    log_dir=args.notebook_persist_dp,\n",
    "    all_items_indices=all_items_indices,\n",
    "    all_items_features=all_items_features,\n",
    ")\n",
    "\n",
    "# train model\n",
    "trainer = L.Trainer(\n",
    "    default_root_dir=f\"{args.notebook_persist_dp}/test\",\n",
    "    max_epochs=2,\n",
    "    accelerator=args.device if args.device else \"auto\",\n",
    ")\n",
    "trainer.fit(\n",
    "    model=lit_model, train_dataloaders=train_loader, val_dataloaders=train_loader\n",
    ")"
   ]
  },
  {
   "cell_type": "code",
   "execution_count": 14,
   "id": "36778ab4-b228-4bb0-bb0d-801ae7c28cd8",
   "metadata": {},
   "outputs": [
    {
     "name": "stdout",
     "output_type": "stream",
     "text": [
      "tensor([[0.3702],\n",
      "        [0.4686],\n",
      "        [0.4217],\n",
      "        [0.4018],\n",
      "        [0.4010]], grad_fn=<SigmoidBackward0>)\n"
     ]
    },
    {
     "data": {
      "text/plain": [
       "Ranker(\n",
       "  (item_embedding): Embedding(6, 8, padding_idx=5)\n",
       "  (user_embedding): Embedding(3, 8)\n",
       "  (item_sequence_ts_bucket_embedding): Embedding(11, 16, padding_idx=10)\n",
       "  (gru): GRU(24, 8, batch_first=True)\n",
       "  (relu): ReLU()\n",
       "  (dropout): Dropout(p=0.3, inplace=False)\n",
       "  (item_feature_tower): Sequential(\n",
       "    (0): Linear(in_features=161, out_features=8, bias=True)\n",
       "    (1): BatchNorm1d(8, eps=1e-05, momentum=0.1, affine=True, track_running_stats=True)\n",
       "    (2): ReLU()\n",
       "    (3): Dropout(p=0.3, inplace=False)\n",
       "  )\n",
       "  (fc_rating): Sequential(\n",
       "    (0): Linear(in_features=32, out_features=8, bias=True)\n",
       "    (1): BatchNorm1d(8, eps=1e-05, momentum=0.1, affine=True, track_running_stats=True)\n",
       "    (2): ReLU()\n",
       "    (3): Dropout(p=0.3, inplace=False)\n",
       "    (4): Linear(in_features=8, out_features=1, bias=True)\n",
       "    (5): Sigmoid()\n",
       "  )\n",
       ")"
      ]
     },
     "execution_count": 14,
     "metadata": {},
     "output_type": "execute_result"
    }
   ],
   "source": [
    "# After fitting\n",
    "model.eval()\n",
    "predictions = model.predict(\n",
    "    users, item_sequences, item_sequences_ts_buckets, item_features, items\n",
    ")\n",
    "print(predictions)\n",
    "model.train()"
   ]
  },
  {
   "cell_type": "code",
   "execution_count": 15,
   "id": "50fdcf97-6271-406d-81b5-7e91a4c42dec",
   "metadata": {
    "scrolled": true
   },
   "outputs": [
    {
     "data": {
      "application/vnd.jupyter.widget-view+json": {
       "model_id": "0ad1bca98de44f85b1e5557f9b828080",
       "version_major": 2,
       "version_minor": 0
      },
      "text/plain": [
       "Generating recommendations:   0%|          | 0/1 [00:00<?, ?it/s]"
      ]
     },
     "metadata": {},
     "output_type": "display_data"
    },
    {
     "data": {
      "text/plain": [
       "{'user_indice': [2, 2, 1, 1, 0, 0],\n",
       " 'recommendation': [1, 3, 4, 1, 4, 1],\n",
       " 'score': [0.4282514750957489,\n",
       "  0.40176281332969666,\n",
       "  0.4904431998729706,\n",
       "  0.4629577696323395,\n",
       "  0.4821385443210602,\n",
       "  0.46864748001098633]}"
      ]
     },
     "execution_count": 15,
     "metadata": {},
     "output_type": "execute_result"
    }
   ],
   "source": [
    "# Get the last row of each item as input for recommendations (containing the most updated item_sequence)\n",
    "to_rec_df = train_df.sort_values(args.timestamp_col, ascending=False).drop_duplicates(\n",
    "    subset=[\"user_indice\"]\n",
    ")\n",
    "recommendations = model.recommend(\n",
    "    torch.tensor(to_rec_df[\"user_indice\"].values.tolist()),\n",
    "    torch.tensor(to_rec_df[\"item_sequence\"].values.tolist()),\n",
    "    torch.tensor(to_rec_df[\"item_sequence_ts_bucket\"].values.tolist()),\n",
    "    torch.tensor(lit_model.all_items_features),\n",
    "    torch.tensor(lit_model.all_items_indices),\n",
    "    k=2,\n",
    "    batch_size=4,\n",
    ")\n",
    "recommendations"
   ]
  },
  {
   "cell_type": "markdown",
   "id": "170dec89-a874-4dce-8f94-07d978fcc5b8",
   "metadata": {},
   "source": [
    "# Prep data"
   ]
  },
  {
   "cell_type": "code",
   "execution_count": 16,
   "id": "83803362-5eaa-40bb-b28b-878316d5db5d",
   "metadata": {},
   "outputs": [],
   "source": [
    "train_df = pd.read_parquet(\"../data/train_features_neg_df.parquet\")\n",
    "val_df = pd.read_parquet(\"../data/val_features_neg_df.parquet\")\n",
    "idm_fp = \"../data/idm.json\"\n",
    "idm = IDMapper().load(idm_fp)\n",
    "\n",
    "assert (\n",
    "    train_df[args.user_col].map(lambda s: idm.get_user_index(s))\n",
    "    != train_df[\"user_indice\"]\n",
    ").sum() == 0, \"Mismatch IDM\"\n",
    "assert (\n",
    "    val_df[args.user_col].map(lambda s: idm.get_user_index(s)) != val_df[\"user_indice\"]\n",
    ").sum() == 0, \"Mismatch IDM\"\n",
    "\n",
    "if args.rc.use_item_tags_from_llm:\n",
    "    assert (\n",
    "        \"tags\" in train_df.columns\n",
    "    ), \"There is no column `tags` in train_df, please make sure you have run notebook 002, 020 with RunCfg.use_item_tags_from_llm=True\""
   ]
  },
  {
   "cell_type": "code",
   "execution_count": 17,
   "id": "a92a8ea7-928c-4656-b92c-2e137d78404a",
   "metadata": {
    "scrolled": true
   },
   "outputs": [
    {
     "data": {
      "text/html": [
       "<div>\n",
       "<style scoped>\n",
       "    .dataframe tbody tr th:only-of-type {\n",
       "        vertical-align: middle;\n",
       "    }\n",
       "\n",
       "    .dataframe tbody tr th {\n",
       "        vertical-align: top;\n",
       "    }\n",
       "\n",
       "    .dataframe thead th {\n",
       "        text-align: right;\n",
       "    }\n",
       "</style>\n",
       "<table border=\"1\" class=\"dataframe\">\n",
       "  <thead>\n",
       "    <tr style=\"text-align: right;\">\n",
       "      <th></th>\n",
       "      <th>user_id</th>\n",
       "      <th>parent_asin</th>\n",
       "      <th>rating</th>\n",
       "      <th>timestamp</th>\n",
       "      <th>timestamp_unix</th>\n",
       "      <th>parent_asin_rating_cnt_365d</th>\n",
       "      <th>parent_asin_rating_avg_prev_rating_365d</th>\n",
       "      <th>parent_asin_rating_cnt_90d</th>\n",
       "      <th>parent_asin_rating_avg_prev_rating_90d</th>\n",
       "      <th>parent_asin_rating_cnt_30d</th>\n",
       "      <th>...</th>\n",
       "      <th>user_rating_list_10_recent_asin</th>\n",
       "      <th>user_rating_list_10_recent_asin_timestamp</th>\n",
       "      <th>item_sequence</th>\n",
       "      <th>item_sequence_ts</th>\n",
       "      <th>item_sequence_ts_bucket</th>\n",
       "      <th>main_category</th>\n",
       "      <th>title</th>\n",
       "      <th>description</th>\n",
       "      <th>categories</th>\n",
       "      <th>price</th>\n",
       "    </tr>\n",
       "  </thead>\n",
       "  <tbody>\n",
       "    <tr>\n",
       "      <th>0</th>\n",
       "      <td>AG57LGJFCNNQJ6P6ABQAVUKXDUDA</td>\n",
       "      <td>B0015AARJI</td>\n",
       "      <td>0.0</td>\n",
       "      <td>2016-01-12 11:59:11.000</td>\n",
       "      <td>NaN</td>\n",
       "      <td>76.0</td>\n",
       "      <td>4.592105</td>\n",
       "      <td>10.0</td>\n",
       "      <td>4.3</td>\n",
       "      <td>3.0</td>\n",
       "      <td>...</td>\n",
       "      <td>B00J00BLRM</td>\n",
       "      <td>1452599936</td>\n",
       "      <td>[-1.0, -1.0, -1.0, -1.0, -1.0, -1.0, -1.0, -1....</td>\n",
       "      <td>[-1, -1, -1, -1, -1, -1, -1, -1, -1, 1452599936]</td>\n",
       "      <td>[-1, -1, -1, -1, -1, -1, -1, -1, -1, 0]</td>\n",
       "      <td>Video Games</td>\n",
       "      <td>PlayStation 3 Dualshock 3 Wireless Controller ...</td>\n",
       "      <td>[Amazon.com, The Dualshock 3 wireless controll...</td>\n",
       "      <td>[Video Games, Legacy Systems, PlayStation Syst...</td>\n",
       "      <td>49.99</td>\n",
       "    </tr>\n",
       "    <tr>\n",
       "      <th>1</th>\n",
       "      <td>AHWG4EGOV5ZDKPETL56MAYGPLJRQ</td>\n",
       "      <td>B0BMGHMP23</td>\n",
       "      <td>0.0</td>\n",
       "      <td>2016-04-18 19:26:20.000</td>\n",
       "      <td>NaN</td>\n",
       "      <td>NaN</td>\n",
       "      <td>NaN</td>\n",
       "      <td>NaN</td>\n",
       "      <td>NaN</td>\n",
       "      <td>NaN</td>\n",
       "      <td>...</td>\n",
       "      <td>B00YOGZFCO,B00KWFCSB2,B00L3LQ1FI,B0151K6J9Y,B0...</td>\n",
       "      <td>1449254540,1449256005,1449257733,1452715791,14...</td>\n",
       "      <td>[3028.0, 2742.0, 2755.0, 3159.0, 3101.0, 3036....</td>\n",
       "      <td>[1449254540, 1449256005, 1449257733, 145271579...</td>\n",
       "      <td>[5, 5, 5, 5, 5, 5, 5, 5, 5, 5]</td>\n",
       "      <td>Computers</td>\n",
       "      <td>Logitech G502 Lightspeed Wireless Gaming Mouse...</td>\n",
       "      <td>[G502 is the best gaming mouse from Logitech G...</td>\n",
       "      <td>[Video Games, PC, Accessories, Gaming Mice]</td>\n",
       "      <td>87.95</td>\n",
       "    </tr>\n",
       "    <tr>\n",
       "      <th>2</th>\n",
       "      <td>AH5PTZ2U74OZ3HT6QVUWM4CV6OVQ</td>\n",
       "      <td>B009AP23NI</td>\n",
       "      <td>0.0</td>\n",
       "      <td>2016-02-10 18:45:08.000</td>\n",
       "      <td>NaN</td>\n",
       "      <td>9.0</td>\n",
       "      <td>4.666667</td>\n",
       "      <td>0.0</td>\n",
       "      <td>NaN</td>\n",
       "      <td>0.0</td>\n",
       "      <td>...</td>\n",
       "      <td>B0199OXR0W,B00EVPR4FY,B00B7ELWAU,B00UH9DN58,B0...</td>\n",
       "      <td>1443454097,1455129080,1455129186,1455129499,14...</td>\n",
       "      <td>[-1.0, -1.0, 3234.0, 2508.0, 2318.0, 2964.0, 1...</td>\n",
       "      <td>[-1, -1, 1443454097, 1455129080, 1455129186, 1...</td>\n",
       "      <td>[-1, -1, 5, 1, 1, 0, 0, 0, 0, 0]</td>\n",
       "      <td>Video Games</td>\n",
       "      <td>Nintendo Wii U Pro U Controller (Japanese Vers...</td>\n",
       "      <td>[Wii U PRO controller (black) (WUP-A-RSKA)]</td>\n",
       "      <td>[Video Games, Legacy Systems, Nintendo Systems...</td>\n",
       "      <td>43.99</td>\n",
       "    </tr>\n",
       "    <tr>\n",
       "      <th>3</th>\n",
       "      <td>AFC5XTCF5D7J3NSDITB2Z26XWWYA</td>\n",
       "      <td>B001E8WQUY</td>\n",
       "      <td>5.0</td>\n",
       "      <td>2019-05-01 21:22:39.265</td>\n",
       "      <td>1.556746e+09</td>\n",
       "      <td>0.0</td>\n",
       "      <td>NaN</td>\n",
       "      <td>0.0</td>\n",
       "      <td>NaN</td>\n",
       "      <td>0.0</td>\n",
       "      <td>...</td>\n",
       "      <td>B006HZA6VK,B0BN2FNKLM,B0086VPUHI,B0040UAYI4,B0...</td>\n",
       "      <td>1327120514,1377289907,1402605836,1402606396,14...</td>\n",
       "      <td>[1987.0, 4569.0, 2114.0, 1606.0, 2159.0, 2279....</td>\n",
       "      <td>[1327120514, 1377289907, 1402605836, 140260639...</td>\n",
       "      <td>[8, 8, 7, 7, 7, 7, 7, 7, 6, 6]</td>\n",
       "      <td>Video Games</td>\n",
       "      <td>Rock Band 2 - Nintendo Wii (Game only)</td>\n",
       "      <td>[Product description, Rock Band 2 lets you and...</td>\n",
       "      <td>[Video Games, Legacy Systems, Nintendo Systems...</td>\n",
       "      <td>28.49</td>\n",
       "    </tr>\n",
       "    <tr>\n",
       "      <th>4</th>\n",
       "      <td>AF7LJQOIWF3Y3YD7SGOJ34MA5JPA</td>\n",
       "      <td>B001E8WQKY</td>\n",
       "      <td>5.0</td>\n",
       "      <td>2015-01-09 12:53:25.000</td>\n",
       "      <td>1.420808e+09</td>\n",
       "      <td>16.0</td>\n",
       "      <td>4.375000</td>\n",
       "      <td>8.0</td>\n",
       "      <td>4.5</td>\n",
       "      <td>4.0</td>\n",
       "      <td>...</td>\n",
       "      <td>B00A2ML6XG,B003VUO6LU</td>\n",
       "      <td>1420807793,1420807991</td>\n",
       "      <td>[-1.0, -1.0, -1.0, -1.0, -1.0, -1.0, -1.0, -1....</td>\n",
       "      <td>[-1, -1, -1, -1, -1, -1, -1, -1, 1420807793, 1...</td>\n",
       "      <td>[-1, -1, -1, -1, -1, -1, -1, -1, 0, 0]</td>\n",
       "      <td>Video Games</td>\n",
       "      <td>Resident Evil 5 - Xbox 360</td>\n",
       "      <td>[]</td>\n",
       "      <td>[Video Games, Legacy Systems, Xbox Systems, Xb...</td>\n",
       "      <td>29.88</td>\n",
       "    </tr>\n",
       "    <tr>\n",
       "      <th>...</th>\n",
       "      <td>...</td>\n",
       "      <td>...</td>\n",
       "      <td>...</td>\n",
       "      <td>...</td>\n",
       "      <td>...</td>\n",
       "      <td>...</td>\n",
       "      <td>...</td>\n",
       "      <td>...</td>\n",
       "      <td>...</td>\n",
       "      <td>...</td>\n",
       "      <td>...</td>\n",
       "      <td>...</td>\n",
       "      <td>...</td>\n",
       "      <td>...</td>\n",
       "      <td>...</td>\n",
       "      <td>...</td>\n",
       "      <td>...</td>\n",
       "      <td>...</td>\n",
       "      <td>...</td>\n",
       "      <td>...</td>\n",
       "      <td>...</td>\n",
       "    </tr>\n",
       "    <tr>\n",
       "      <th>328591</th>\n",
       "      <td>AG4RATLNVLOKZCPXN67HKOAK65CA</td>\n",
       "      <td>B078FBVJMB</td>\n",
       "      <td>0.0</td>\n",
       "      <td>2015-10-31 18:25:09.000</td>\n",
       "      <td>NaN</td>\n",
       "      <td>NaN</td>\n",
       "      <td>NaN</td>\n",
       "      <td>NaN</td>\n",
       "      <td>NaN</td>\n",
       "      <td>NaN</td>\n",
       "      <td>...</td>\n",
       "      <td>B00TFVD688</td>\n",
       "      <td>1425233294</td>\n",
       "      <td>[-1.0, -1.0, -1.0, -1.0, -1.0, -1.0, -1.0, -1....</td>\n",
       "      <td>[-1, -1, -1, -1, -1, -1, -1, -1, -1, 1425233294]</td>\n",
       "      <td>[-1, -1, -1, -1, -1, -1, -1, -1, -1, 5]</td>\n",
       "      <td>Video Games</td>\n",
       "      <td>A Way Out – PC Origin [Online Game Code]</td>\n",
       "      <td>[From the creators of Brothers - A Tale of Two...</td>\n",
       "      <td>[Video Games, PC, Games]</td>\n",
       "      <td>5.99</td>\n",
       "    </tr>\n",
       "    <tr>\n",
       "      <th>328592</th>\n",
       "      <td>AFBXO3BFWBJX6QS5NW73O37IXF2A</td>\n",
       "      <td>B0771ZXXV6</td>\n",
       "      <td>0.0</td>\n",
       "      <td>2011-03-08 02:06:38.000</td>\n",
       "      <td>NaN</td>\n",
       "      <td>NaN</td>\n",
       "      <td>NaN</td>\n",
       "      <td>NaN</td>\n",
       "      <td>NaN</td>\n",
       "      <td>NaN</td>\n",
       "      <td>...</td>\n",
       "      <td>B003JVCA9Q,B0029NZ4HA</td>\n",
       "      <td>1299549517,1299549928</td>\n",
       "      <td>[-1.0, -1.0, -1.0, -1.0, -1.0, -1.0, -1.0, -1....</td>\n",
       "      <td>[-1, -1, -1, -1, -1, -1, -1, -1, 1299549517, 1...</td>\n",
       "      <td>[-1, -1, -1, -1, -1, -1, -1, -1, 0, 0]</td>\n",
       "      <td>Video Games</td>\n",
       "      <td>Nintendo Joy-Con (R) - Neon Red - Nintendo Switch</td>\n",
       "      <td>[To be determined]</td>\n",
       "      <td>[Video Games, Nintendo Switch, Accessories, Co...</td>\n",
       "      <td>None</td>\n",
       "    </tr>\n",
       "    <tr>\n",
       "      <th>328593</th>\n",
       "      <td>AHVANA5GZNJ45UABPXWZNAF4ECBQ</td>\n",
       "      <td>B00BBF6MO6</td>\n",
       "      <td>0.0</td>\n",
       "      <td>2015-02-15 05:31:04.000</td>\n",
       "      <td>NaN</td>\n",
       "      <td>3.0</td>\n",
       "      <td>4.666667</td>\n",
       "      <td>0.0</td>\n",
       "      <td>NaN</td>\n",
       "      <td>0.0</td>\n",
       "      <td>...</td>\n",
       "      <td>B002L93F0A,B002KJ02ZC,B001H4NMNA</td>\n",
       "      <td>1370414332,1370414707,1370416530</td>\n",
       "      <td>[-1.0, -1.0, -1.0, -1.0, -1.0, -1.0, -1.0, 137...</td>\n",
       "      <td>[-1, -1, -1, -1, -1, -1, -1, 1370414332, 13704...</td>\n",
       "      <td>[-1, -1, -1, -1, -1, -1, -1, 6, 6, 6]</td>\n",
       "      <td>Video Games</td>\n",
       "      <td>Killer is Dead - Xbox 360</td>\n",
       "      <td>[Killer Is Dead is the latest title from the d...</td>\n",
       "      <td>[Video Games, Legacy Systems, Xbox Systems, Xb...</td>\n",
       "      <td>39.82</td>\n",
       "    </tr>\n",
       "    <tr>\n",
       "      <th>328594</th>\n",
       "      <td>AHAVA5VKMJ3OMOLGDZ3W45CKXEWA</td>\n",
       "      <td>B00KTORA0K</td>\n",
       "      <td>5.0</td>\n",
       "      <td>2019-05-25 04:03:51.505</td>\n",
       "      <td>1.558757e+09</td>\n",
       "      <td>3.0</td>\n",
       "      <td>4.666667</td>\n",
       "      <td>1.0</td>\n",
       "      <td>5.0</td>\n",
       "      <td>1.0</td>\n",
       "      <td>...</td>\n",
       "      <td>B004AYCNR0,B007NUQICE,B000TYQL1O,B000SEU92W,B0...</td>\n",
       "      <td>1431150669,1431150834,1432041664,1432041986,15...</td>\n",
       "      <td>[-1.0, -1.0, -1.0, 1657.0, 2074.0, 593.0, 583....</td>\n",
       "      <td>[-1, -1, -1, 1431150669, 1431150834, 143204166...</td>\n",
       "      <td>[-1, -1, -1, 7, 7, 7, 7, 5, 5, 0]</td>\n",
       "      <td>Video Games</td>\n",
       "      <td>Just Dance 2015 - Wii</td>\n",
       "      <td>[With more than 50 million copies of Just Danc...</td>\n",
       "      <td>[Video Games, Legacy Systems, Nintendo Systems...</td>\n",
       "      <td>33.0</td>\n",
       "    </tr>\n",
       "    <tr>\n",
       "      <th>328595</th>\n",
       "      <td>AHAOAIYS3GTCFSVCHOHANFHEVJGA</td>\n",
       "      <td>B07GMV1X1K</td>\n",
       "      <td>0.0</td>\n",
       "      <td>2019-06-27 16:46:01.725</td>\n",
       "      <td>NaN</td>\n",
       "      <td>8.0</td>\n",
       "      <td>4.750000</td>\n",
       "      <td>2.0</td>\n",
       "      <td>4.5</td>\n",
       "      <td>1.0</td>\n",
       "      <td>...</td>\n",
       "      <td>B010QCD9WW,B06XHMPPLH,B01GY35HKE,B01GY35GIM,B0...</td>\n",
       "      <td>1487438369,1488931311,1490136709,1493063905,15...</td>\n",
       "      <td>[3093.0, 3574.0, 3373.0, 3372.0, 3576.0, 3621....</td>\n",
       "      <td>[1487438369, 1488931311, 1490136709, 149306390...</td>\n",
       "      <td>[6, 6, 6, 6, 6, 6, 6, 5, 5, 5]</td>\n",
       "      <td>Video Games</td>\n",
       "      <td>retrogames The C64 Mini USA Version - Not Mach...</td>\n",
       "      <td>[It's 1982 and a new home computer graces the ...</td>\n",
       "      <td>[Video Games, Legacy Systems, Commodore System...</td>\n",
       "      <td>44.99</td>\n",
       "    </tr>\n",
       "  </tbody>\n",
       "</table>\n",
       "<p>328596 rows × 27 columns</p>\n",
       "</div>"
      ],
      "text/plain": [
       "                             user_id parent_asin  rating  \\\n",
       "0       AG57LGJFCNNQJ6P6ABQAVUKXDUDA  B0015AARJI     0.0   \n",
       "1       AHWG4EGOV5ZDKPETL56MAYGPLJRQ  B0BMGHMP23     0.0   \n",
       "2       AH5PTZ2U74OZ3HT6QVUWM4CV6OVQ  B009AP23NI     0.0   \n",
       "3       AFC5XTCF5D7J3NSDITB2Z26XWWYA  B001E8WQUY     5.0   \n",
       "4       AF7LJQOIWF3Y3YD7SGOJ34MA5JPA  B001E8WQKY     5.0   \n",
       "...                              ...         ...     ...   \n",
       "328591  AG4RATLNVLOKZCPXN67HKOAK65CA  B078FBVJMB     0.0   \n",
       "328592  AFBXO3BFWBJX6QS5NW73O37IXF2A  B0771ZXXV6     0.0   \n",
       "328593  AHVANA5GZNJ45UABPXWZNAF4ECBQ  B00BBF6MO6     0.0   \n",
       "328594  AHAVA5VKMJ3OMOLGDZ3W45CKXEWA  B00KTORA0K     5.0   \n",
       "328595  AHAOAIYS3GTCFSVCHOHANFHEVJGA  B07GMV1X1K     0.0   \n",
       "\n",
       "                     timestamp  timestamp_unix  parent_asin_rating_cnt_365d  \\\n",
       "0      2016-01-12 11:59:11.000             NaN                         76.0   \n",
       "1      2016-04-18 19:26:20.000             NaN                          NaN   \n",
       "2      2016-02-10 18:45:08.000             NaN                          9.0   \n",
       "3      2019-05-01 21:22:39.265    1.556746e+09                          0.0   \n",
       "4      2015-01-09 12:53:25.000    1.420808e+09                         16.0   \n",
       "...                        ...             ...                          ...   \n",
       "328591 2015-10-31 18:25:09.000             NaN                          NaN   \n",
       "328592 2011-03-08 02:06:38.000             NaN                          NaN   \n",
       "328593 2015-02-15 05:31:04.000             NaN                          3.0   \n",
       "328594 2019-05-25 04:03:51.505    1.558757e+09                          3.0   \n",
       "328595 2019-06-27 16:46:01.725             NaN                          8.0   \n",
       "\n",
       "        parent_asin_rating_avg_prev_rating_365d  parent_asin_rating_cnt_90d  \\\n",
       "0                                      4.592105                        10.0   \n",
       "1                                           NaN                         NaN   \n",
       "2                                      4.666667                         0.0   \n",
       "3                                           NaN                         0.0   \n",
       "4                                      4.375000                         8.0   \n",
       "...                                         ...                         ...   \n",
       "328591                                      NaN                         NaN   \n",
       "328592                                      NaN                         NaN   \n",
       "328593                                 4.666667                         0.0   \n",
       "328594                                 4.666667                         1.0   \n",
       "328595                                 4.750000                         2.0   \n",
       "\n",
       "        parent_asin_rating_avg_prev_rating_90d  parent_asin_rating_cnt_30d  \\\n",
       "0                                          4.3                         3.0   \n",
       "1                                          NaN                         NaN   \n",
       "2                                          NaN                         0.0   \n",
       "3                                          NaN                         0.0   \n",
       "4                                          4.5                         4.0   \n",
       "...                                        ...                         ...   \n",
       "328591                                     NaN                         NaN   \n",
       "328592                                     NaN                         NaN   \n",
       "328593                                     NaN                         0.0   \n",
       "328594                                     5.0                         1.0   \n",
       "328595                                     4.5                         1.0   \n",
       "\n",
       "        ...                    user_rating_list_10_recent_asin  \\\n",
       "0       ...                                         B00J00BLRM   \n",
       "1       ...  B00YOGZFCO,B00KWFCSB2,B00L3LQ1FI,B0151K6J9Y,B0...   \n",
       "2       ...  B0199OXR0W,B00EVPR4FY,B00B7ELWAU,B00UH9DN58,B0...   \n",
       "3       ...  B006HZA6VK,B0BN2FNKLM,B0086VPUHI,B0040UAYI4,B0...   \n",
       "4       ...                              B00A2ML6XG,B003VUO6LU   \n",
       "...     ...                                                ...   \n",
       "328591  ...                                         B00TFVD688   \n",
       "328592  ...                              B003JVCA9Q,B0029NZ4HA   \n",
       "328593  ...                   B002L93F0A,B002KJ02ZC,B001H4NMNA   \n",
       "328594  ...  B004AYCNR0,B007NUQICE,B000TYQL1O,B000SEU92W,B0...   \n",
       "328595  ...  B010QCD9WW,B06XHMPPLH,B01GY35HKE,B01GY35GIM,B0...   \n",
       "\n",
       "                user_rating_list_10_recent_asin_timestamp  \\\n",
       "0                                              1452599936   \n",
       "1       1449254540,1449256005,1449257733,1452715791,14...   \n",
       "2       1443454097,1455129080,1455129186,1455129499,14...   \n",
       "3       1327120514,1377289907,1402605836,1402606396,14...   \n",
       "4                                   1420807793,1420807991   \n",
       "...                                                   ...   \n",
       "328591                                         1425233294   \n",
       "328592                              1299549517,1299549928   \n",
       "328593                   1370414332,1370414707,1370416530   \n",
       "328594  1431150669,1431150834,1432041664,1432041986,15...   \n",
       "328595  1487438369,1488931311,1490136709,1493063905,15...   \n",
       "\n",
       "                                            item_sequence  \\\n",
       "0       [-1.0, -1.0, -1.0, -1.0, -1.0, -1.0, -1.0, -1....   \n",
       "1       [3028.0, 2742.0, 2755.0, 3159.0, 3101.0, 3036....   \n",
       "2       [-1.0, -1.0, 3234.0, 2508.0, 2318.0, 2964.0, 1...   \n",
       "3       [1987.0, 4569.0, 2114.0, 1606.0, 2159.0, 2279....   \n",
       "4       [-1.0, -1.0, -1.0, -1.0, -1.0, -1.0, -1.0, -1....   \n",
       "...                                                   ...   \n",
       "328591  [-1.0, -1.0, -1.0, -1.0, -1.0, -1.0, -1.0, -1....   \n",
       "328592  [-1.0, -1.0, -1.0, -1.0, -1.0, -1.0, -1.0, -1....   \n",
       "328593  [-1.0, -1.0, -1.0, -1.0, -1.0, -1.0, -1.0, 137...   \n",
       "328594  [-1.0, -1.0, -1.0, 1657.0, 2074.0, 593.0, 583....   \n",
       "328595  [3093.0, 3574.0, 3373.0, 3372.0, 3576.0, 3621....   \n",
       "\n",
       "                                         item_sequence_ts  \\\n",
       "0        [-1, -1, -1, -1, -1, -1, -1, -1, -1, 1452599936]   \n",
       "1       [1449254540, 1449256005, 1449257733, 145271579...   \n",
       "2       [-1, -1, 1443454097, 1455129080, 1455129186, 1...   \n",
       "3       [1327120514, 1377289907, 1402605836, 140260639...   \n",
       "4       [-1, -1, -1, -1, -1, -1, -1, -1, 1420807793, 1...   \n",
       "...                                                   ...   \n",
       "328591   [-1, -1, -1, -1, -1, -1, -1, -1, -1, 1425233294]   \n",
       "328592  [-1, -1, -1, -1, -1, -1, -1, -1, 1299549517, 1...   \n",
       "328593  [-1, -1, -1, -1, -1, -1, -1, 1370414332, 13704...   \n",
       "328594  [-1, -1, -1, 1431150669, 1431150834, 143204166...   \n",
       "328595  [1487438369, 1488931311, 1490136709, 149306390...   \n",
       "\n",
       "                        item_sequence_ts_bucket  main_category  \\\n",
       "0       [-1, -1, -1, -1, -1, -1, -1, -1, -1, 0]    Video Games   \n",
       "1                [5, 5, 5, 5, 5, 5, 5, 5, 5, 5]      Computers   \n",
       "2              [-1, -1, 5, 1, 1, 0, 0, 0, 0, 0]    Video Games   \n",
       "3                [8, 8, 7, 7, 7, 7, 7, 7, 6, 6]    Video Games   \n",
       "4        [-1, -1, -1, -1, -1, -1, -1, -1, 0, 0]    Video Games   \n",
       "...                                         ...            ...   \n",
       "328591  [-1, -1, -1, -1, -1, -1, -1, -1, -1, 5]    Video Games   \n",
       "328592   [-1, -1, -1, -1, -1, -1, -1, -1, 0, 0]    Video Games   \n",
       "328593    [-1, -1, -1, -1, -1, -1, -1, 6, 6, 6]    Video Games   \n",
       "328594        [-1, -1, -1, 7, 7, 7, 7, 5, 5, 0]    Video Games   \n",
       "328595           [6, 6, 6, 6, 6, 6, 6, 5, 5, 5]    Video Games   \n",
       "\n",
       "                                                    title  \\\n",
       "0       PlayStation 3 Dualshock 3 Wireless Controller ...   \n",
       "1       Logitech G502 Lightspeed Wireless Gaming Mouse...   \n",
       "2       Nintendo Wii U Pro U Controller (Japanese Vers...   \n",
       "3                  Rock Band 2 - Nintendo Wii (Game only)   \n",
       "4                              Resident Evil 5 - Xbox 360   \n",
       "...                                                   ...   \n",
       "328591           A Way Out – PC Origin [Online Game Code]   \n",
       "328592  Nintendo Joy-Con (R) - Neon Red - Nintendo Switch   \n",
       "328593                          Killer is Dead - Xbox 360   \n",
       "328594                              Just Dance 2015 - Wii   \n",
       "328595  retrogames The C64 Mini USA Version - Not Mach...   \n",
       "\n",
       "                                              description  \\\n",
       "0       [Amazon.com, The Dualshock 3 wireless controll...   \n",
       "1       [G502 is the best gaming mouse from Logitech G...   \n",
       "2             [Wii U PRO controller (black) (WUP-A-RSKA)]   \n",
       "3       [Product description, Rock Band 2 lets you and...   \n",
       "4                                                      []   \n",
       "...                                                   ...   \n",
       "328591  [From the creators of Brothers - A Tale of Two...   \n",
       "328592                                 [To be determined]   \n",
       "328593  [Killer Is Dead is the latest title from the d...   \n",
       "328594  [With more than 50 million copies of Just Danc...   \n",
       "328595  [It's 1982 and a new home computer graces the ...   \n",
       "\n",
       "                                               categories  price  \n",
       "0       [Video Games, Legacy Systems, PlayStation Syst...  49.99  \n",
       "1             [Video Games, PC, Accessories, Gaming Mice]  87.95  \n",
       "2       [Video Games, Legacy Systems, Nintendo Systems...  43.99  \n",
       "3       [Video Games, Legacy Systems, Nintendo Systems...  28.49  \n",
       "4       [Video Games, Legacy Systems, Xbox Systems, Xb...  29.88  \n",
       "...                                                   ...    ...  \n",
       "328591                           [Video Games, PC, Games]   5.99  \n",
       "328592  [Video Games, Nintendo Switch, Accessories, Co...   None  \n",
       "328593  [Video Games, Legacy Systems, Xbox Systems, Xb...  39.82  \n",
       "328594  [Video Games, Legacy Systems, Nintendo Systems...   33.0  \n",
       "328595  [Video Games, Legacy Systems, Commodore System...  44.99  \n",
       "\n",
       "[328596 rows x 27 columns]"
      ]
     },
     "execution_count": 17,
     "metadata": {},
     "output_type": "execute_result"
    }
   ],
   "source": [
    "train_df"
   ]
  },
  {
   "cell_type": "code",
   "execution_count": 18,
   "id": "bd469969-aaa6-4763-a0fc-d432961cf4dc",
   "metadata": {
    "scrolled": true
   },
   "outputs": [
    {
     "data": {
      "application/vnd.jupyter.widget-view+json": {
       "model_id": "5ba41acd20ef4c348c5a2f9d1a8a1e0d",
       "version_major": 2,
       "version_minor": 0
      },
      "text/plain": [
       "Transforming chunks:   0%|          | 0/33 [00:00<?, ?it/s]"
      ]
     },
     "metadata": {},
     "output_type": "display_data"
    },
    {
     "data": {
      "application/vnd.jupyter.widget-view+json": {
       "model_id": "642920bfd59247f2855b2facd75da093",
       "version_major": 2,
       "version_minor": 0
      },
      "text/plain": [
       "Transforming chunks:   0%|          | 0/1 [00:00<?, ?it/s]"
      ]
     },
     "metadata": {},
     "output_type": "display_data"
    },
    {
     "name": "stderr",
     "output_type": "stream",
     "text": [
      "\u001b[32m2024-11-10 16:34:01.699\u001b[0m | \u001b[1mINFO    \u001b[0m | \u001b[36m__main__\u001b[0m:\u001b[36m<module>\u001b[0m:\u001b[36m24\u001b[0m - \u001b[1mlen(user_indices)=19,578, len(item_indices)=4,630\u001b[0m\n"
     ]
    }
   ],
   "source": [
    "user_indices = train_df[\"user_indice\"].unique()\n",
    "item_indices = train_df[\"item_indice\"].unique()\n",
    "if args.rc.use_sbert_features:\n",
    "    all_sbert_vectors = ann_index.get_vector_by_ids(\n",
    "        item_indices.tolist(), chunk_size=1000\n",
    "    ).astype(np.float32)\n",
    "\n",
    "train_item_features = chunk_transform(\n",
    "    train_df, item_metadata_pipeline, chunk_size=args.tfm_chunk_size\n",
    ")\n",
    "train_item_features = train_item_features.astype(np.float32)\n",
    "\n",
    "val_item_features = chunk_transform(\n",
    "    val_df, item_metadata_pipeline, chunk_size=args.tfm_chunk_size\n",
    ")\n",
    "val_item_features = val_item_features.astype(np.float32)\n",
    "\n",
    "if args.rc.use_sbert_features:\n",
    "    train_sbert_vectors = all_sbert_vectors[train_df[\"item_indice\"].values]\n",
    "    train_item_features = np.hstack([train_item_features, train_sbert_vectors])\n",
    "    val_sbert_vectors = all_sbert_vectors[val_df[\"item_indice\"].values]\n",
    "    val_item_features = np.hstack([val_item_features, val_sbert_vectors])\n",
    "\n",
    "logger.info(f\"{len(user_indices)=:,.0f}, {len(item_indices)=:,.0f}\")"
   ]
  },
  {
   "cell_type": "markdown",
   "id": "5260fbe7-2f90-44a1-be74-ce5db9b511ee",
   "metadata": {},
   "source": [
    "# Train"
   ]
  },
  {
   "cell_type": "code",
   "execution_count": 19,
   "id": "240a04ed-8898-443f-b0f4-7399bfa63810",
   "metadata": {},
   "outputs": [],
   "source": [
    "rating_dataset = UserItemBinaryDFDataset(\n",
    "    train_df,\n",
    "    \"user_indice\",\n",
    "    \"item_indice\",\n",
    "    args.rating_col,\n",
    "    args.timestamp_col,\n",
    "    item_feature=train_item_features,\n",
    ")\n",
    "val_rating_dataset = UserItemBinaryDFDataset(\n",
    "    val_df,\n",
    "    \"user_indice\",\n",
    "    \"item_indice\",\n",
    "    args.rating_col,\n",
    "    args.timestamp_col,\n",
    "    item_feature=val_item_features,\n",
    ")\n",
    "\n",
    "train_loader = DataLoader(\n",
    "    rating_dataset, batch_size=args.batch_size, shuffle=True, drop_last=True\n",
    ")\n",
    "val_loader = DataLoader(\n",
    "    val_rating_dataset, batch_size=args.batch_size, shuffle=False, drop_last=False\n",
    ")"
   ]
  },
  {
   "cell_type": "code",
   "execution_count": 20,
   "id": "22dcf157-425f-4d15-9b53-e1ff93887def",
   "metadata": {
    "scrolled": true
   },
   "outputs": [
    {
     "data": {
      "text/plain": [
       "Ranker(\n",
       "  (item_embedding): Embedding(4631, 128, padding_idx=4630)\n",
       "  (user_embedding): Embedding(19578, 128)\n",
       "  (item_sequence_ts_bucket_embedding): Embedding(11, 16, padding_idx=10)\n",
       "  (gru): GRU(144, 128, batch_first=True)\n",
       "  (relu): ReLU()\n",
       "  (dropout): Dropout(p=0.3, inplace=False)\n",
       "  (item_feature_tower): Sequential(\n",
       "    (0): Linear(in_features=161, out_features=128, bias=True)\n",
       "    (1): BatchNorm1d(128, eps=1e-05, momentum=0.1, affine=True, track_running_stats=True)\n",
       "    (2): ReLU()\n",
       "    (3): Dropout(p=0.3, inplace=False)\n",
       "  )\n",
       "  (fc_rating): Sequential(\n",
       "    (0): Linear(in_features=512, out_features=128, bias=True)\n",
       "    (1): BatchNorm1d(128, eps=1e-05, momentum=0.1, affine=True, track_running_stats=True)\n",
       "    (2): ReLU()\n",
       "    (3): Dropout(p=0.3, inplace=False)\n",
       "    (4): Linear(in_features=128, out_features=1, bias=True)\n",
       "    (5): Sigmoid()\n",
       "  )\n",
       ")"
      ]
     },
     "execution_count": 20,
     "metadata": {},
     "output_type": "execute_result"
    }
   ],
   "source": [
    "n_items = len(item_indices)\n",
    "n_users = len(user_indices)\n",
    "\n",
    "model = init_model(\n",
    "    n_users,\n",
    "    n_items,\n",
    "    args.embedding_dim,\n",
    "    args.item_sequence_ts_bucket_size,\n",
    "    args.bucket_embedding_dim,\n",
    "    item_feature_size,\n",
    "    args.dropout,\n",
    ")\n",
    "model"
   ]
  },
  {
   "cell_type": "markdown",
   "id": "b8cbb2a8-a578-4ad2-941e-efd01d930336",
   "metadata": {},
   "source": [
    "#### Predict before train"
   ]
  },
  {
   "cell_type": "code",
   "execution_count": 21,
   "id": "0112de1e-1dce-4982-9663-a1df91fd0001",
   "metadata": {
    "scrolled": true
   },
   "outputs": [
    {
     "data": {
      "text/html": [
       "<div>\n",
       "<style scoped>\n",
       "    .dataframe tbody tr th:only-of-type {\n",
       "        vertical-align: middle;\n",
       "    }\n",
       "\n",
       "    .dataframe tbody tr th {\n",
       "        vertical-align: top;\n",
       "    }\n",
       "\n",
       "    .dataframe thead th {\n",
       "        text-align: right;\n",
       "    }\n",
       "</style>\n",
       "<table border=\"1\" class=\"dataframe\">\n",
       "  <thead>\n",
       "    <tr style=\"text-align: right;\">\n",
       "      <th></th>\n",
       "      <th>user_id</th>\n",
       "      <th>parent_asin</th>\n",
       "      <th>rating</th>\n",
       "      <th>timestamp</th>\n",
       "      <th>timestamp_unix</th>\n",
       "      <th>parent_asin_rating_cnt_365d</th>\n",
       "      <th>parent_asin_rating_avg_prev_rating_365d</th>\n",
       "      <th>parent_asin_rating_cnt_90d</th>\n",
       "      <th>parent_asin_rating_avg_prev_rating_90d</th>\n",
       "      <th>parent_asin_rating_cnt_30d</th>\n",
       "      <th>...</th>\n",
       "      <th>user_rating_list_10_recent_asin</th>\n",
       "      <th>user_rating_list_10_recent_asin_timestamp</th>\n",
       "      <th>item_sequence</th>\n",
       "      <th>item_sequence_ts</th>\n",
       "      <th>item_sequence_ts_bucket</th>\n",
       "      <th>main_category</th>\n",
       "      <th>title</th>\n",
       "      <th>description</th>\n",
       "      <th>categories</th>\n",
       "      <th>price</th>\n",
       "    </tr>\n",
       "  </thead>\n",
       "  <tbody>\n",
       "    <tr>\n",
       "      <th>305</th>\n",
       "      <td>AH4LS5HFN2VGSKNKQGNZGENHBVVA</td>\n",
       "      <td>B0BL65X86R</td>\n",
       "      <td>0.0</td>\n",
       "      <td>2021-12-20 05:58:28.874</td>\n",
       "      <td>NaN</td>\n",
       "      <td>12.0</td>\n",
       "      <td>5.000000</td>\n",
       "      <td>0.0</td>\n",
       "      <td>NaN</td>\n",
       "      <td>0.0</td>\n",
       "      <td>...</td>\n",
       "      <td>B00CQ9L1Z6,B017C6OK7S,B08MBMV3VG,B00JM3R6M6,B0...</td>\n",
       "      <td>1402389343,1402389660,1405159126,1405159214,14...</td>\n",
       "      <td>[2404, 3199, 4403, 2682, 1915, 2759, 2428, 430...</td>\n",
       "      <td>[1402389343, 1402389660, 1405159126, 140515921...</td>\n",
       "      <td>[8, 8, 8, 8, 8, 7, 6, 6, 2, 0]</td>\n",
       "      <td>Video Games</td>\n",
       "      <td>$25 PlayStation Store Gift Card [Digital Code]</td>\n",
       "      <td>[Redeem against anything on PlayStation Store....</td>\n",
       "      <td>[Video Games, Online Game Services, PlayStatio...</td>\n",
       "      <td>25.0</td>\n",
       "    </tr>\n",
       "    <tr>\n",
       "      <th>179</th>\n",
       "      <td>AG7A42N537XQMGC5URJ6VZ2JO2FA</td>\n",
       "      <td>B0823F9NB8</td>\n",
       "      <td>1.0</td>\n",
       "      <td>2021-10-19 04:50:46.379</td>\n",
       "      <td>1.634619e+09</td>\n",
       "      <td>3.0</td>\n",
       "      <td>4.000000</td>\n",
       "      <td>0.0</td>\n",
       "      <td>NaN</td>\n",
       "      <td>0.0</td>\n",
       "      <td>...</td>\n",
       "      <td>B07HGT7JC8,B087NM8BB6,B07L73KHYH,B08DFB488B,B0...</td>\n",
       "      <td>1566358144,1577074836,1577075033,1607700519,16...</td>\n",
       "      <td>[-1, -1, -1, 4002, 4338, 4050, 4370, 4387, 438...</td>\n",
       "      <td>[-1, -1, -1, 1566358144, 1577074836, 157707503...</td>\n",
       "      <td>[-1, -1, -1, 6, 6, 6, 5, 5, 5, 5]</td>\n",
       "      <td>Video Games</td>\n",
       "      <td>Hori Nintendo Switch D-Pad Controller (L) (Pok...</td>\n",
       "      <td>[Hori Nintendo Switch D-Pad Controller (L) (Po...</td>\n",
       "      <td>[]</td>\n",
       "      <td>37.98</td>\n",
       "    </tr>\n",
       "    <tr>\n",
       "      <th>993</th>\n",
       "      <td>AG4RCXKPTC6QRORJLUSBY4SO2IAA</td>\n",
       "      <td>B009DL2TBA</td>\n",
       "      <td>0.0</td>\n",
       "      <td>2022-06-09 23:25:32.480</td>\n",
       "      <td>NaN</td>\n",
       "      <td>4.0</td>\n",
       "      <td>3.500000</td>\n",
       "      <td>0.0</td>\n",
       "      <td>NaN</td>\n",
       "      <td>0.0</td>\n",
       "      <td>...</td>\n",
       "      <td>B00PV515DU,B07QQ8N7LL,B0BFT941YQ,B087XRWHHL,B0...</td>\n",
       "      <td>1551303197,1578542946,1582164927,1612064838,16...</td>\n",
       "      <td>[2903, 4140, 4545, 4350, 3908, 3527, 3788, 421...</td>\n",
       "      <td>[1551303197, 1578542946, 1582164927, 161206483...</td>\n",
       "      <td>[7, 6, 6, 6, 5, 5, 5, 5, 5, 5]</td>\n",
       "      <td>Video Games</td>\n",
       "      <td>PlayStation 3 500 GB System</td>\n",
       "      <td>[Play, Stream, and Watch your favorite games, ...</td>\n",
       "      <td>[Video Games, Legacy Systems, PlayStation Syst...</td>\n",
       "      <td>233.98</td>\n",
       "    </tr>\n",
       "    <tr>\n",
       "      <th>414</th>\n",
       "      <td>AEL2FTDUA5KWOWBLN2HXG3CJRFRA</td>\n",
       "      <td>B08DHTZNNF</td>\n",
       "      <td>1.0</td>\n",
       "      <td>2021-09-02 13:28:34.010</td>\n",
       "      <td>1.630589e+09</td>\n",
       "      <td>13.0</td>\n",
       "      <td>3.769231</td>\n",
       "      <td>1.0</td>\n",
       "      <td>5.000000</td>\n",
       "      <td>0.0</td>\n",
       "      <td>...</td>\n",
       "      <td>B00RJNE3TK,B018K6KV68,B09JDLC31H,B087NN2K41,B0...</td>\n",
       "      <td>1462572545,1471776059,1491916082,1493417579,14...</td>\n",
       "      <td>[-1, -1, -1, -1, 2922, 3223, 4479, 4341, 4497,...</td>\n",
       "      <td>[-1, -1, -1, -1, 1462572545, 1471776059, 14919...</td>\n",
       "      <td>[-1, -1, -1, -1, 8, 8, 7, 7, 7, 5]</td>\n",
       "      <td>Computers</td>\n",
       "      <td>Razer Mamba Elite Wired Gaming Mouse: 16,000 D...</td>\n",
       "      <td>[The Razer Mamba Elite features our acclaimed ...</td>\n",
       "      <td>[Video Games, Legacy Systems, PlayStation Syst...</td>\n",
       "      <td>36.95</td>\n",
       "    </tr>\n",
       "    <tr>\n",
       "      <th>1654</th>\n",
       "      <td>AEFTCHDMQEMR77C5VMPO7OH5CDQA</td>\n",
       "      <td>B00XBLQCLQ</td>\n",
       "      <td>1.0</td>\n",
       "      <td>2022-02-05 03:59:17.229</td>\n",
       "      <td>1.644034e+09</td>\n",
       "      <td>0.0</td>\n",
       "      <td>NaN</td>\n",
       "      <td>0.0</td>\n",
       "      <td>NaN</td>\n",
       "      <td>0.0</td>\n",
       "      <td>...</td>\n",
       "      <td>B00503E8S2,B005GISQX4,B00BHRD4BM,B00ZQB28XK,B0...</td>\n",
       "      <td>1321458588,1350061407,1418486090,1471894225,14...</td>\n",
       "      <td>[-1, -1, 1806, 1921, 2343, 3081, 3058, 2207, 1...</td>\n",
       "      <td>[-1, -1, 1321458588, 1350061407, 1418486090, 1...</td>\n",
       "      <td>[-1, -1, 9, 8, 8, 8, 8, 7, 7, 6]</td>\n",
       "      <td>Video Games</td>\n",
       "      <td>Assassin’s Creed Syndicate - Gold Edition | PC...</td>\n",
       "      <td>[London, 1868. The Industrial Revolution unlea...</td>\n",
       "      <td>[Video Games, PC, Games]</td>\n",
       "      <td>66.35</td>\n",
       "    </tr>\n",
       "    <tr>\n",
       "      <th>730</th>\n",
       "      <td>AHMB2TBSRX4E5LG5A4BBYRXTFSLA</td>\n",
       "      <td>B0BVPBPLZL</td>\n",
       "      <td>1.0</td>\n",
       "      <td>2022-05-20 19:28:55.185</td>\n",
       "      <td>1.653075e+09</td>\n",
       "      <td>0.0</td>\n",
       "      <td>NaN</td>\n",
       "      <td>0.0</td>\n",
       "      <td>NaN</td>\n",
       "      <td>0.0</td>\n",
       "      <td>...</td>\n",
       "      <td>B0154OZU4M,B01N4JYY1H,B01D63UU52,B06X9898LZ,B0...</td>\n",
       "      <td>1518371361,1545676142,1554156978,1564847685,15...</td>\n",
       "      <td>[-1, -1, -1, -1, -1, 3161, 3528, 3303, 3563, 3...</td>\n",
       "      <td>[-1, -1, -1, -1, -1, 1518371361, 1545676142, 1...</td>\n",
       "      <td>[-1, -1, -1, -1, -1, 7, 7, 7, 6, 6]</td>\n",
       "      <td>Cell Phones &amp; Accessories</td>\n",
       "      <td>TotalMount for Nintendo Switch – Mounts Ninten...</td>\n",
       "      <td>[]</td>\n",
       "      <td>[Video Games, Nintendo Switch, Accessories, Mo...</td>\n",
       "      <td>24.99</td>\n",
       "    </tr>\n",
       "    <tr>\n",
       "      <th>94</th>\n",
       "      <td>AGKLFWGDSETQCTZ62LHABEGT3YTQ</td>\n",
       "      <td>B087NN2K41</td>\n",
       "      <td>1.0</td>\n",
       "      <td>2021-10-01 18:42:53.063</td>\n",
       "      <td>1.633114e+09</td>\n",
       "      <td>22.0</td>\n",
       "      <td>4.909091</td>\n",
       "      <td>3.0</td>\n",
       "      <td>4.666667</td>\n",
       "      <td>0.0</td>\n",
       "      <td>...</td>\n",
       "      <td>B07R4C3ZVH,B07DJ6D4ZY,B01GY3601E,B01N4X95QL,B0...</td>\n",
       "      <td>1527729322,1546119187,1546216617,1557103543,15...</td>\n",
       "      <td>[4145, 3931, 3379, 3531, 2402, 4016, 4440, 420...</td>\n",
       "      <td>[1527729322, 1546119187, 1546216617, 155710354...</td>\n",
       "      <td>[7, 6, 6, 6, 6, 6, 5, 5, 5, 5]</td>\n",
       "      <td>Video Games</td>\n",
       "      <td>Mario Kart 8 Deluxe – Booster Course Pass - Ni...</td>\n",
       "      <td>[​Double your course options with the Mario Ka...</td>\n",
       "      <td>[Video Games, Game Genre of the Month]</td>\n",
       "      <td>24.88</td>\n",
       "    </tr>\n",
       "    <tr>\n",
       "      <th>824</th>\n",
       "      <td>AF7SKKZS25RBMFPGXRTX5DWLPKZA</td>\n",
       "      <td>B000VIUNZI</td>\n",
       "      <td>1.0</td>\n",
       "      <td>2021-12-22 02:18:29.668</td>\n",
       "      <td>1.640140e+09</td>\n",
       "      <td>0.0</td>\n",
       "      <td>NaN</td>\n",
       "      <td>0.0</td>\n",
       "      <td>NaN</td>\n",
       "      <td>0.0</td>\n",
       "      <td>...</td>\n",
       "      <td>B00ATNFLDY,B0080CAOYM,B002JTX5RK,B00503E9FY,B0...</td>\n",
       "      <td>1452372758,1452372877,1452372928,1452373043,14...</td>\n",
       "      <td>[-1, -1, -1, -1, 2295, 2102, 1337, 1807, 1178,...</td>\n",
       "      <td>[-1, -1, -1, -1, 1452372758, 1452372877, 14523...</td>\n",
       "      <td>[-1, -1, -1, -1, 8, 8, 8, 8, 8, 8]</td>\n",
       "      <td>Video Games</td>\n",
       "      <td>PSP AV Cable</td>\n",
       "      <td>[Analog Audio and Video Connection Cable for u...</td>\n",
       "      <td>[Video Games, Legacy Systems, PlayStation Syst...</td>\n",
       "      <td>15.99</td>\n",
       "    </tr>\n",
       "    <tr>\n",
       "      <th>61</th>\n",
       "      <td>AH6LKVRXW6JNSFAAGCUTDPZAZQ5Q</td>\n",
       "      <td>B0C3KYVDWT</td>\n",
       "      <td>1.0</td>\n",
       "      <td>2021-12-21 21:29:06.336</td>\n",
       "      <td>1.640122e+09</td>\n",
       "      <td>37.0</td>\n",
       "      <td>4.945946</td>\n",
       "      <td>2.0</td>\n",
       "      <td>5.000000</td>\n",
       "      <td>0.0</td>\n",
       "      <td>...</td>\n",
       "      <td>B002I0J5JW,B002BRZ712,B005OGL766,B001EHD9N8,B0...</td>\n",
       "      <td>1402002580,1404595385,1415317246,1436474670,14...</td>\n",
       "      <td>[1304, 1207, 1947, 758, 575, 3453, 1579, 3135,...</td>\n",
       "      <td>[1402002580, 1404595385, 1415317246, 143647467...</td>\n",
       "      <td>[8, 8, 8, 8, 8, 7, 7, 6, 6, 6]</td>\n",
       "      <td>Computers</td>\n",
       "      <td>SanDisk 128GB microSDXC-Card, Licensed for Nin...</td>\n",
       "      <td>[With incredible speed, the officially license...</td>\n",
       "      <td>[Video Games, Nintendo Switch, Accessories]</td>\n",
       "      <td>14.99</td>\n",
       "    </tr>\n",
       "    <tr>\n",
       "      <th>1704</th>\n",
       "      <td>AHJUN2GLK4WZ6C4QOZFMC7VXE6HA</td>\n",
       "      <td>B000FQBF1M</td>\n",
       "      <td>0.0</td>\n",
       "      <td>2021-08-16 13:23:17.734</td>\n",
       "      <td>NaN</td>\n",
       "      <td>0.0</td>\n",
       "      <td>NaN</td>\n",
       "      <td>0.0</td>\n",
       "      <td>NaN</td>\n",
       "      <td>0.0</td>\n",
       "      <td>...</td>\n",
       "      <td>B07WXKQWTV,B07DK1H3H5,B094YHB1QK,B08FC5L3RG,B0...</td>\n",
       "      <td>1602018186,1607967431,1610282831,1614692333,16...</td>\n",
       "      <td>[4231, 3936, 4455, 4376, 1765, 4318, 3385, 437...</td>\n",
       "      <td>[1602018186, 1607967431, 1610282831, 161469233...</td>\n",
       "      <td>[5, 5, 5, 5, 5, 5, 5, 5, 5, 5]</td>\n",
       "      <td>Video Games</td>\n",
       "      <td>Killzone 2 - Playstation 3</td>\n",
       "      <td>[Product Description, In and out within a mont...</td>\n",
       "      <td>[Video Games, Legacy Systems, PlayStation Syst...</td>\n",
       "      <td>9.85</td>\n",
       "    </tr>\n",
       "  </tbody>\n",
       "</table>\n",
       "<p>10 rows × 27 columns</p>\n",
       "</div>"
      ],
      "text/plain": [
       "                           user_id parent_asin  rating  \\\n",
       "305   AH4LS5HFN2VGSKNKQGNZGENHBVVA  B0BL65X86R     0.0   \n",
       "179   AG7A42N537XQMGC5URJ6VZ2JO2FA  B0823F9NB8     1.0   \n",
       "993   AG4RCXKPTC6QRORJLUSBY4SO2IAA  B009DL2TBA     0.0   \n",
       "414   AEL2FTDUA5KWOWBLN2HXG3CJRFRA  B08DHTZNNF     1.0   \n",
       "1654  AEFTCHDMQEMR77C5VMPO7OH5CDQA  B00XBLQCLQ     1.0   \n",
       "730   AHMB2TBSRX4E5LG5A4BBYRXTFSLA  B0BVPBPLZL     1.0   \n",
       "94    AGKLFWGDSETQCTZ62LHABEGT3YTQ  B087NN2K41     1.0   \n",
       "824   AF7SKKZS25RBMFPGXRTX5DWLPKZA  B000VIUNZI     1.0   \n",
       "61    AH6LKVRXW6JNSFAAGCUTDPZAZQ5Q  B0C3KYVDWT     1.0   \n",
       "1704  AHJUN2GLK4WZ6C4QOZFMC7VXE6HA  B000FQBF1M     0.0   \n",
       "\n",
       "                   timestamp  timestamp_unix  parent_asin_rating_cnt_365d  \\\n",
       "305  2021-12-20 05:58:28.874             NaN                         12.0   \n",
       "179  2021-10-19 04:50:46.379    1.634619e+09                          3.0   \n",
       "993  2022-06-09 23:25:32.480             NaN                          4.0   \n",
       "414  2021-09-02 13:28:34.010    1.630589e+09                         13.0   \n",
       "1654 2022-02-05 03:59:17.229    1.644034e+09                          0.0   \n",
       "730  2022-05-20 19:28:55.185    1.653075e+09                          0.0   \n",
       "94   2021-10-01 18:42:53.063    1.633114e+09                         22.0   \n",
       "824  2021-12-22 02:18:29.668    1.640140e+09                          0.0   \n",
       "61   2021-12-21 21:29:06.336    1.640122e+09                         37.0   \n",
       "1704 2021-08-16 13:23:17.734             NaN                          0.0   \n",
       "\n",
       "      parent_asin_rating_avg_prev_rating_365d  parent_asin_rating_cnt_90d  \\\n",
       "305                                  5.000000                         0.0   \n",
       "179                                  4.000000                         0.0   \n",
       "993                                  3.500000                         0.0   \n",
       "414                                  3.769231                         1.0   \n",
       "1654                                      NaN                         0.0   \n",
       "730                                       NaN                         0.0   \n",
       "94                                   4.909091                         3.0   \n",
       "824                                       NaN                         0.0   \n",
       "61                                   4.945946                         2.0   \n",
       "1704                                      NaN                         0.0   \n",
       "\n",
       "      parent_asin_rating_avg_prev_rating_90d  parent_asin_rating_cnt_30d  ...  \\\n",
       "305                                      NaN                         0.0  ...   \n",
       "179                                      NaN                         0.0  ...   \n",
       "993                                      NaN                         0.0  ...   \n",
       "414                                 5.000000                         0.0  ...   \n",
       "1654                                     NaN                         0.0  ...   \n",
       "730                                      NaN                         0.0  ...   \n",
       "94                                  4.666667                         0.0  ...   \n",
       "824                                      NaN                         0.0  ...   \n",
       "61                                  5.000000                         0.0  ...   \n",
       "1704                                     NaN                         0.0  ...   \n",
       "\n",
       "                        user_rating_list_10_recent_asin  \\\n",
       "305   B00CQ9L1Z6,B017C6OK7S,B08MBMV3VG,B00JM3R6M6,B0...   \n",
       "179   B07HGT7JC8,B087NM8BB6,B07L73KHYH,B08DFB488B,B0...   \n",
       "993   B00PV515DU,B07QQ8N7LL,B0BFT941YQ,B087XRWHHL,B0...   \n",
       "414   B00RJNE3TK,B018K6KV68,B09JDLC31H,B087NN2K41,B0...   \n",
       "1654  B00503E8S2,B005GISQX4,B00BHRD4BM,B00ZQB28XK,B0...   \n",
       "730   B0154OZU4M,B01N4JYY1H,B01D63UU52,B06X9898LZ,B0...   \n",
       "94    B07R4C3ZVH,B07DJ6D4ZY,B01GY3601E,B01N4X95QL,B0...   \n",
       "824   B00ATNFLDY,B0080CAOYM,B002JTX5RK,B00503E9FY,B0...   \n",
       "61    B002I0J5JW,B002BRZ712,B005OGL766,B001EHD9N8,B0...   \n",
       "1704  B07WXKQWTV,B07DK1H3H5,B094YHB1QK,B08FC5L3RG,B0...   \n",
       "\n",
       "              user_rating_list_10_recent_asin_timestamp  \\\n",
       "305   1402389343,1402389660,1405159126,1405159214,14...   \n",
       "179   1566358144,1577074836,1577075033,1607700519,16...   \n",
       "993   1551303197,1578542946,1582164927,1612064838,16...   \n",
       "414   1462572545,1471776059,1491916082,1493417579,14...   \n",
       "1654  1321458588,1350061407,1418486090,1471894225,14...   \n",
       "730   1518371361,1545676142,1554156978,1564847685,15...   \n",
       "94    1527729322,1546119187,1546216617,1557103543,15...   \n",
       "824   1452372758,1452372877,1452372928,1452373043,14...   \n",
       "61    1402002580,1404595385,1415317246,1436474670,14...   \n",
       "1704  1602018186,1607967431,1610282831,1614692333,16...   \n",
       "\n",
       "                                          item_sequence  \\\n",
       "305   [2404, 3199, 4403, 2682, 1915, 2759, 2428, 430...   \n",
       "179   [-1, -1, -1, 4002, 4338, 4050, 4370, 4387, 438...   \n",
       "993   [2903, 4140, 4545, 4350, 3908, 3527, 3788, 421...   \n",
       "414   [-1, -1, -1, -1, 2922, 3223, 4479, 4341, 4497,...   \n",
       "1654  [-1, -1, 1806, 1921, 2343, 3081, 3058, 2207, 1...   \n",
       "730   [-1, -1, -1, -1, -1, 3161, 3528, 3303, 3563, 3...   \n",
       "94    [4145, 3931, 3379, 3531, 2402, 4016, 4440, 420...   \n",
       "824   [-1, -1, -1, -1, 2295, 2102, 1337, 1807, 1178,...   \n",
       "61    [1304, 1207, 1947, 758, 575, 3453, 1579, 3135,...   \n",
       "1704  [4231, 3936, 4455, 4376, 1765, 4318, 3385, 437...   \n",
       "\n",
       "                                       item_sequence_ts  \\\n",
       "305   [1402389343, 1402389660, 1405159126, 140515921...   \n",
       "179   [-1, -1, -1, 1566358144, 1577074836, 157707503...   \n",
       "993   [1551303197, 1578542946, 1582164927, 161206483...   \n",
       "414   [-1, -1, -1, -1, 1462572545, 1471776059, 14919...   \n",
       "1654  [-1, -1, 1321458588, 1350061407, 1418486090, 1...   \n",
       "730   [-1, -1, -1, -1, -1, 1518371361, 1545676142, 1...   \n",
       "94    [1527729322, 1546119187, 1546216617, 155710354...   \n",
       "824   [-1, -1, -1, -1, 1452372758, 1452372877, 14523...   \n",
       "61    [1402002580, 1404595385, 1415317246, 143647467...   \n",
       "1704  [1602018186, 1607967431, 1610282831, 161469233...   \n",
       "\n",
       "                  item_sequence_ts_bucket              main_category  \\\n",
       "305        [8, 8, 8, 8, 8, 7, 6, 6, 2, 0]                Video Games   \n",
       "179     [-1, -1, -1, 6, 6, 6, 5, 5, 5, 5]                Video Games   \n",
       "993        [7, 6, 6, 6, 5, 5, 5, 5, 5, 5]                Video Games   \n",
       "414    [-1, -1, -1, -1, 8, 8, 7, 7, 7, 5]                  Computers   \n",
       "1654     [-1, -1, 9, 8, 8, 8, 8, 7, 7, 6]                Video Games   \n",
       "730   [-1, -1, -1, -1, -1, 7, 7, 7, 6, 6]  Cell Phones & Accessories   \n",
       "94         [7, 6, 6, 6, 6, 6, 5, 5, 5, 5]                Video Games   \n",
       "824    [-1, -1, -1, -1, 8, 8, 8, 8, 8, 8]                Video Games   \n",
       "61         [8, 8, 8, 8, 8, 7, 7, 6, 6, 6]                  Computers   \n",
       "1704       [5, 5, 5, 5, 5, 5, 5, 5, 5, 5]                Video Games   \n",
       "\n",
       "                                                  title  \\\n",
       "305      $25 PlayStation Store Gift Card [Digital Code]   \n",
       "179   Hori Nintendo Switch D-Pad Controller (L) (Pok...   \n",
       "993                         PlayStation 3 500 GB System   \n",
       "414   Razer Mamba Elite Wired Gaming Mouse: 16,000 D...   \n",
       "1654  Assassin’s Creed Syndicate - Gold Edition | PC...   \n",
       "730   TotalMount for Nintendo Switch – Mounts Ninten...   \n",
       "94    Mario Kart 8 Deluxe – Booster Course Pass - Ni...   \n",
       "824                                        PSP AV Cable   \n",
       "61    SanDisk 128GB microSDXC-Card, Licensed for Nin...   \n",
       "1704                         Killzone 2 - Playstation 3   \n",
       "\n",
       "                                            description  \\\n",
       "305   [Redeem against anything on PlayStation Store....   \n",
       "179   [Hori Nintendo Switch D-Pad Controller (L) (Po...   \n",
       "993   [Play, Stream, and Watch your favorite games, ...   \n",
       "414   [The Razer Mamba Elite features our acclaimed ...   \n",
       "1654  [London, 1868. The Industrial Revolution unlea...   \n",
       "730                                                  []   \n",
       "94    [​Double your course options with the Mario Ka...   \n",
       "824   [Analog Audio and Video Connection Cable for u...   \n",
       "61    [With incredible speed, the officially license...   \n",
       "1704  [Product Description, In and out within a mont...   \n",
       "\n",
       "                                             categories   price  \n",
       "305   [Video Games, Online Game Services, PlayStatio...    25.0  \n",
       "179                                                  []   37.98  \n",
       "993   [Video Games, Legacy Systems, PlayStation Syst...  233.98  \n",
       "414   [Video Games, Legacy Systems, PlayStation Syst...   36.95  \n",
       "1654                           [Video Games, PC, Games]   66.35  \n",
       "730   [Video Games, Nintendo Switch, Accessories, Mo...   24.99  \n",
       "94               [Video Games, Game Genre of the Month]   24.88  \n",
       "824   [Video Games, Legacy Systems, PlayStation Syst...   15.99  \n",
       "61          [Video Games, Nintendo Switch, Accessories]   14.99  \n",
       "1704  [Video Games, Legacy Systems, PlayStation Syst...    9.85  \n",
       "\n",
       "[10 rows x 27 columns]"
      ]
     },
     "execution_count": 21,
     "metadata": {},
     "output_type": "execute_result"
    }
   ],
   "source": [
    "val_df = val_rating_dataset.df\n",
    "val_df.sample(10)"
   ]
  },
  {
   "cell_type": "code",
   "execution_count": 22,
   "id": "9eb1583b-40f7-4157-a383-5891389ac119",
   "metadata": {
    "scrolled": true
   },
   "outputs": [
    {
     "data": {
      "text/html": [
       "<div>\n",
       "<style scoped>\n",
       "    .dataframe tbody tr th:only-of-type {\n",
       "        vertical-align: middle;\n",
       "    }\n",
       "\n",
       "    .dataframe tbody tr th {\n",
       "        vertical-align: top;\n",
       "    }\n",
       "\n",
       "    .dataframe thead th {\n",
       "        text-align: right;\n",
       "    }\n",
       "</style>\n",
       "<table border=\"1\" class=\"dataframe\">\n",
       "  <thead>\n",
       "    <tr style=\"text-align: right;\">\n",
       "      <th></th>\n",
       "      <th>user_id</th>\n",
       "      <th>parent_asin</th>\n",
       "      <th>rating</th>\n",
       "      <th>timestamp</th>\n",
       "      <th>timestamp_unix</th>\n",
       "      <th>parent_asin_rating_cnt_365d</th>\n",
       "      <th>parent_asin_rating_avg_prev_rating_365d</th>\n",
       "      <th>parent_asin_rating_cnt_90d</th>\n",
       "      <th>parent_asin_rating_avg_prev_rating_90d</th>\n",
       "      <th>parent_asin_rating_cnt_30d</th>\n",
       "      <th>...</th>\n",
       "      <th>user_rating_list_10_recent_asin</th>\n",
       "      <th>user_rating_list_10_recent_asin_timestamp</th>\n",
       "      <th>item_sequence</th>\n",
       "      <th>item_sequence_ts</th>\n",
       "      <th>item_sequence_ts_bucket</th>\n",
       "      <th>main_category</th>\n",
       "      <th>title</th>\n",
       "      <th>description</th>\n",
       "      <th>categories</th>\n",
       "      <th>price</th>\n",
       "    </tr>\n",
       "  </thead>\n",
       "  <tbody>\n",
       "    <tr>\n",
       "      <th>1457</th>\n",
       "      <td>AHALPVQPNWXDAXMQ4DGOKASLXMZA</td>\n",
       "      <td>B002B9XB0E</td>\n",
       "      <td>0.0</td>\n",
       "      <td>2021-12-10 02:10:57.888</td>\n",
       "      <td>NaN</td>\n",
       "      <td>1.0</td>\n",
       "      <td>5.0</td>\n",
       "      <td>0.0</td>\n",
       "      <td>NaN</td>\n",
       "      <td>0.0</td>\n",
       "      <td>...</td>\n",
       "      <td>B0029LJIFG,B0050SYEYK,B005OGKYVK,B001EYUQTQ,B0086VPUHI</td>\n",
       "      <td>1467265316,1467265322,1467265325,1467265331,1467265337</td>\n",
       "      <td>[-1, -1, -1, -1, -1, 1197, 1846, 1944, 923, 2114]</td>\n",
       "      <td>[-1, -1, -1, -1, -1, 1467265316, 1467265322, 1467265325, 1467265331, 1467265337]</td>\n",
       "      <td>[-1, -1, -1, -1, -1, 8, 8, 8, 8, 8]</td>\n",
       "      <td>Computers</td>\n",
       "      <td>Buffalo iBuffalo Classic USB Gamepad for PC</td>\n",
       "      <td>[Buffalo super Nintendo famicom snes, USB gamepad for pc. 8 buttons product. USB connection. Support windows 7/ME/2000/XP/Vista.]</td>\n",
       "      <td>[Video Games, PC, Accessories, Controllers, Gamepads &amp; Standard Controllers]</td>\n",
       "      <td>None</td>\n",
       "    </tr>\n",
       "    <tr>\n",
       "      <th>1549</th>\n",
       "      <td>AHALPVQPNWXDAXMQ4DGOKASLXMZA</td>\n",
       "      <td>B08N7PX4WX</td>\n",
       "      <td>1.0</td>\n",
       "      <td>2021-12-10 02:10:57.888</td>\n",
       "      <td>1.639102e+09</td>\n",
       "      <td>10.0</td>\n",
       "      <td>4.7</td>\n",
       "      <td>1.0</td>\n",
       "      <td>5.0</td>\n",
       "      <td>0.0</td>\n",
       "      <td>...</td>\n",
       "      <td>B0029LJIFG,B0050SYEYK,B005OGKYVK,B001EYUQTQ,B0086VPUHI</td>\n",
       "      <td>1467265316,1467265322,1467265325,1467265331,1467265337</td>\n",
       "      <td>[-1, -1, -1, -1, -1, 1197, 1846, 1944, 923, 2114]</td>\n",
       "      <td>[-1, -1, -1, -1, -1, 1467265316, 1467265322, 1467265325, 1467265331, 1467265337]</td>\n",
       "      <td>[-1, -1, -1, -1, -1, 8, 8, 8, 8, 8]</td>\n",
       "      <td>Video Games</td>\n",
       "      <td>PowerA Joy Con Comfort Grips for Nintendo Switch - Black</td>\n",
       "      <td>[How to setup: Align the left Joy-Con controllers with the left rail of the Joy-Con Comfort Grip making sure the Minus symbol is at the top. Slide the Joy-Con controller all the way down until you see the player indicator light turn on. Repeat for the right Joy-Con controller.]</td>\n",
       "      <td>[Video Games, Nintendo Switch, Accessories, Hand Grips]</td>\n",
       "      <td>9.88</td>\n",
       "    </tr>\n",
       "  </tbody>\n",
       "</table>\n",
       "<p>2 rows × 27 columns</p>\n",
       "</div>"
      ],
      "text/plain": [
       "                           user_id parent_asin  rating  \\\n",
       "1457  AHALPVQPNWXDAXMQ4DGOKASLXMZA  B002B9XB0E     0.0   \n",
       "1549  AHALPVQPNWXDAXMQ4DGOKASLXMZA  B08N7PX4WX     1.0   \n",
       "\n",
       "                   timestamp  timestamp_unix  parent_asin_rating_cnt_365d  \\\n",
       "1457 2021-12-10 02:10:57.888             NaN                          1.0   \n",
       "1549 2021-12-10 02:10:57.888    1.639102e+09                         10.0   \n",
       "\n",
       "      parent_asin_rating_avg_prev_rating_365d  parent_asin_rating_cnt_90d  \\\n",
       "1457                                      5.0                         0.0   \n",
       "1549                                      4.7                         1.0   \n",
       "\n",
       "      parent_asin_rating_avg_prev_rating_90d  parent_asin_rating_cnt_30d  ...  \\\n",
       "1457                                     NaN                         0.0  ...   \n",
       "1549                                     5.0                         0.0  ...   \n",
       "\n",
       "                             user_rating_list_10_recent_asin  \\\n",
       "1457  B0029LJIFG,B0050SYEYK,B005OGKYVK,B001EYUQTQ,B0086VPUHI   \n",
       "1549  B0029LJIFG,B0050SYEYK,B005OGKYVK,B001EYUQTQ,B0086VPUHI   \n",
       "\n",
       "                   user_rating_list_10_recent_asin_timestamp  \\\n",
       "1457  1467265316,1467265322,1467265325,1467265331,1467265337   \n",
       "1549  1467265316,1467265322,1467265325,1467265331,1467265337   \n",
       "\n",
       "                                          item_sequence  \\\n",
       "1457  [-1, -1, -1, -1, -1, 1197, 1846, 1944, 923, 2114]   \n",
       "1549  [-1, -1, -1, -1, -1, 1197, 1846, 1944, 923, 2114]   \n",
       "\n",
       "                                                                      item_sequence_ts  \\\n",
       "1457  [-1, -1, -1, -1, -1, 1467265316, 1467265322, 1467265325, 1467265331, 1467265337]   \n",
       "1549  [-1, -1, -1, -1, -1, 1467265316, 1467265322, 1467265325, 1467265331, 1467265337]   \n",
       "\n",
       "                  item_sequence_ts_bucket  main_category  \\\n",
       "1457  [-1, -1, -1, -1, -1, 8, 8, 8, 8, 8]      Computers   \n",
       "1549  [-1, -1, -1, -1, -1, 8, 8, 8, 8, 8]    Video Games   \n",
       "\n",
       "                                                         title  \\\n",
       "1457               Buffalo iBuffalo Classic USB Gamepad for PC   \n",
       "1549  PowerA Joy Con Comfort Grips for Nintendo Switch - Black   \n",
       "\n",
       "                                                                                                                                                                                                                                                                                 description  \\\n",
       "1457                                                                                                                                                       [Buffalo super Nintendo famicom snes, USB gamepad for pc. 8 buttons product. USB connection. Support windows 7/ME/2000/XP/Vista.]   \n",
       "1549  [How to setup: Align the left Joy-Con controllers with the left rail of the Joy-Con Comfort Grip making sure the Minus symbol is at the top. Slide the Joy-Con controller all the way down until you see the player indicator light turn on. Repeat for the right Joy-Con controller.]   \n",
       "\n",
       "                                                                        categories  \\\n",
       "1457  [Video Games, PC, Accessories, Controllers, Gamepads & Standard Controllers]   \n",
       "1549                       [Video Games, Nintendo Switch, Accessories, Hand Grips]   \n",
       "\n",
       "     price  \n",
       "1457  None  \n",
       "1549  9.88  \n",
       "\n",
       "[2 rows x 27 columns]"
      ]
     },
     "metadata": {},
     "output_type": "display_data"
    }
   ],
   "source": [
    "user_id = val_df.sample(1)[args.user_col].values[0]\n",
    "test_df = val_df.loc[lambda df: df[args.user_col].eq(user_id)]\n",
    "with pd.option_context(\"display.max_colwidth\", None):\n",
    "    display(test_df)"
   ]
  },
  {
   "cell_type": "code",
   "execution_count": 23,
   "id": "c48fbc80-eda8-4dff-a246-95f8f2f75082",
   "metadata": {
    "scrolled": true
   },
   "outputs": [
    {
     "name": "stderr",
     "output_type": "stream",
     "text": [
      "\u001b[32m2024-11-10 16:34:01.895\u001b[0m | \u001b[1mINFO    \u001b[0m | \u001b[36m__main__\u001b[0m:\u001b[36m<module>\u001b[0m:\u001b[36m7\u001b[0m - \u001b[1mTest predicting before training with user_id = AHALPVQPNWXDAXMQ4DGOKASLXMZA and parent_asin = B08N7PX4WX\u001b[0m\n",
      "/tmp/ipykernel_159166/1344924415.py:13: UserWarning:\n",
      "\n",
      "Creating a tensor from a list of numpy.ndarrays is extremely slow. Please consider converting the list to a single numpy.ndarray with numpy.array() before converting to a tensor. (Triggered internally at ../torch/csrc/utils/tensor_new.cpp:278.)\n",
      "\n"
     ]
    },
    {
     "data": {
      "text/plain": [
       "Ranker(\n",
       "  (item_embedding): Embedding(4631, 128, padding_idx=4630)\n",
       "  (user_embedding): Embedding(19578, 128)\n",
       "  (item_sequence_ts_bucket_embedding): Embedding(11, 16, padding_idx=10)\n",
       "  (gru): GRU(144, 128, batch_first=True)\n",
       "  (relu): ReLU()\n",
       "  (dropout): Dropout(p=0.3, inplace=False)\n",
       "  (item_feature_tower): Sequential(\n",
       "    (0): Linear(in_features=161, out_features=128, bias=True)\n",
       "    (1): BatchNorm1d(128, eps=1e-05, momentum=0.1, affine=True, track_running_stats=True)\n",
       "    (2): ReLU()\n",
       "    (3): Dropout(p=0.3, inplace=False)\n",
       "  )\n",
       "  (fc_rating): Sequential(\n",
       "    (0): Linear(in_features=512, out_features=128, bias=True)\n",
       "    (1): BatchNorm1d(128, eps=1e-05, momentum=0.1, affine=True, track_running_stats=True)\n",
       "    (2): ReLU()\n",
       "    (3): Dropout(p=0.3, inplace=False)\n",
       "    (4): Linear(in_features=128, out_features=1, bias=True)\n",
       "    (5): Sigmoid()\n",
       "  )\n",
       ")"
      ]
     },
     "execution_count": 23,
     "metadata": {},
     "output_type": "execute_result"
    }
   ],
   "source": [
    "test_row = test_df.loc[lambda df: df[args.rating_col].gt(0)].iloc[0]\n",
    "item_id = test_row[args.item_col]\n",
    "item_sequence = test_row[\"item_sequence\"]\n",
    "item_sequence_ts_bucket = test_row[\"item_sequence_ts_bucket\"]\n",
    "row_idx = test_row.name\n",
    "item_feature = val_item_features[row_idx]\n",
    "logger.info(\n",
    "    f\"Test predicting before training with {args.user_col} = {user_id} and {args.item_col} = {item_id}\"\n",
    ")\n",
    "user_indice = idm.get_user_index(user_id)\n",
    "item_indice = idm.get_item_index(item_id)\n",
    "user = torch.tensor([user_indice])\n",
    "item_sequence = torch.tensor([item_sequence])\n",
    "item_sequence_ts_bucket = torch.tensor([item_sequence_ts_bucket])\n",
    "item_feature = torch.tensor([item_feature])\n",
    "item = torch.tensor([item_indice])\n",
    "\n",
    "model.eval()\n",
    "model.predict(user, item_sequence, item_sequence_ts_bucket, item_feature, item)\n",
    "model.train()"
   ]
  },
  {
   "cell_type": "markdown",
   "id": "c2fd217c-c0c8-4e7c-81fe-6eb36f4729b5",
   "metadata": {},
   "source": [
    "#### Training loop"
   ]
  },
  {
   "cell_type": "markdown",
   "id": "1e9daad4-1365-4e8e-8f73-80ca5513572b",
   "metadata": {},
   "source": [
    "##### Overfit 1 batch"
   ]
  },
  {
   "cell_type": "code",
   "execution_count": null,
   "id": "1a1cd9bd-e2c6-404b-b6ae-b26a7d35a0ba",
   "metadata": {
    "scrolled": true
   },
   "outputs": [
    {
     "name": "stderr",
     "output_type": "stream",
     "text": [
      "GPU available: True (cuda), used: True\n",
      "TPU available: False, using: 0 TPU cores\n",
      "HPU available: False, using: 0 HPUs\n",
      "`Trainer(overfit_batches=1)` was configured so 1 batch will be used.\n",
      "LOCAL_RANK: 0 - CUDA_VISIBLE_DEVICES: [0]\n",
      "\n",
      "  | Name  | Type   | Params | Mode \n",
      "-----------------------------------------\n",
      "0 | model | Ranker | 3.3 M  | train\n",
      "-----------------------------------------\n",
      "3.3 M     Trainable params\n",
      "0         Non-trainable params\n",
      "3.3 M     Total params\n",
      "13.165    Total estimated model params size (MB)\n",
      "15        Modules in train mode\n",
      "0         Modules in eval mode\n"
     ]
    },
    {
     "data": {
      "application/vnd.jupyter.widget-view+json": {
       "model_id": "",
       "version_major": 2,
       "version_minor": 0
      },
      "text/plain": [
       "Sanity Checking: |                                                                                            …"
      ]
     },
     "metadata": {},
     "output_type": "display_data"
    },
    {
     "name": "stderr",
     "output_type": "stream",
     "text": [
      "/home/dvquys/frostmourne/recsys-mvp/.venv/lib/python3.11/site-packages/lightning/pytorch/trainer/connectors/data_connector.py:251: UserWarning:\n",
      "\n",
      "You requested to overfit but enabled val dataloader shuffling. We are turning off the val dataloader shuffling for you.\n",
      "\n",
      "/home/dvquys/frostmourne/recsys-mvp/.venv/lib/python3.11/site-packages/lightning/pytorch/trainer/connectors/data_connector.py:424: PossibleUserWarning:\n",
      "\n",
      "The 'val_dataloader' does not have many workers which may be a bottleneck. Consider increasing the value of the `num_workers` argument` to `num_workers=11` in the `DataLoader` to improve performance.\n",
      "\n",
      "/home/dvquys/frostmourne/recsys-mvp/.venv/lib/python3.11/site-packages/lightning/pytorch/trainer/connectors/data_connector.py:251: UserWarning:\n",
      "\n",
      "You requested to overfit but enabled train dataloader shuffling. We are turning off the train dataloader shuffling for you.\n",
      "\n",
      "/home/dvquys/frostmourne/recsys-mvp/.venv/lib/python3.11/site-packages/lightning/pytorch/trainer/connectors/data_connector.py:424: PossibleUserWarning:\n",
      "\n",
      "The 'train_dataloader' does not have many workers which may be a bottleneck. Consider increasing the value of the `num_workers` argument` to `num_workers=11` in the `DataLoader` to improve performance.\n",
      "\n",
      "/home/dvquys/frostmourne/recsys-mvp/.venv/lib/python3.11/site-packages/lightning/pytorch/loops/fit_loop.py:298: PossibleUserWarning:\n",
      "\n",
      "The number of training batches (1) is smaller than the logging interval Trainer(log_every_n_steps=50). Set a lower value for log_every_n_steps if you want to see logs for the training epoch.\n",
      "\n"
     ]
    },
    {
     "data": {
      "application/vnd.jupyter.widget-view+json": {
       "model_id": "e4e7c926ecdc4596bf07967980b8ce3f",
       "version_major": 2,
       "version_minor": 0
      },
      "text/plain": [
       "Training: |                                                                                                   …"
      ]
     },
     "metadata": {},
     "output_type": "display_data"
    },
    {
     "data": {
      "application/vnd.jupyter.widget-view+json": {
       "model_id": "",
       "version_major": 2,
       "version_minor": 0
      },
      "text/plain": [
       "Validation: |                                                                                                 …"
      ]
     },
     "metadata": {},
     "output_type": "display_data"
    },
    {
     "data": {
      "application/vnd.jupyter.widget-view+json": {
       "model_id": "",
       "version_major": 2,
       "version_minor": 0
      },
      "text/plain": [
       "Validation: |                                                                                                 …"
      ]
     },
     "metadata": {},
     "output_type": "display_data"
    },
    {
     "data": {
      "application/vnd.jupyter.widget-view+json": {
       "model_id": "",
       "version_major": 2,
       "version_minor": 0
      },
      "text/plain": [
       "Validation: |                                                                                                 …"
      ]
     },
     "metadata": {},
     "output_type": "display_data"
    },
    {
     "data": {
      "application/vnd.jupyter.widget-view+json": {
       "model_id": "",
       "version_major": 2,
       "version_minor": 0
      },
      "text/plain": [
       "Validation: |                                                                                                 …"
      ]
     },
     "metadata": {},
     "output_type": "display_data"
    },
    {
     "data": {
      "application/vnd.jupyter.widget-view+json": {
       "model_id": "",
       "version_major": 2,
       "version_minor": 0
      },
      "text/plain": [
       "Validation: |                                                                                                 …"
      ]
     },
     "metadata": {},
     "output_type": "display_data"
    },
    {
     "data": {
      "application/vnd.jupyter.widget-view+json": {
       "model_id": "",
       "version_major": 2,
       "version_minor": 0
      },
      "text/plain": [
       "Validation: |                                                                                                 …"
      ]
     },
     "metadata": {},
     "output_type": "display_data"
    },
    {
     "data": {
      "application/vnd.jupyter.widget-view+json": {
       "model_id": "",
       "version_major": 2,
       "version_minor": 0
      },
      "text/plain": [
       "Validation: |                                                                                                 …"
      ]
     },
     "metadata": {},
     "output_type": "display_data"
    },
    {
     "data": {
      "application/vnd.jupyter.widget-view+json": {
       "model_id": "",
       "version_major": 2,
       "version_minor": 0
      },
      "text/plain": [
       "Validation: |                                                                                                 …"
      ]
     },
     "metadata": {},
     "output_type": "display_data"
    },
    {
     "data": {
      "application/vnd.jupyter.widget-view+json": {
       "model_id": "",
       "version_major": 2,
       "version_minor": 0
      },
      "text/plain": [
       "Validation: |                                                                                                 …"
      ]
     },
     "metadata": {},
     "output_type": "display_data"
    },
    {
     "data": {
      "application/vnd.jupyter.widget-view+json": {
       "model_id": "",
       "version_major": 2,
       "version_minor": 0
      },
      "text/plain": [
       "Validation: |                                                                                                 …"
      ]
     },
     "metadata": {},
     "output_type": "display_data"
    },
    {
     "data": {
      "application/vnd.jupyter.widget-view+json": {
       "model_id": "",
       "version_major": 2,
       "version_minor": 0
      },
      "text/plain": [
       "Validation: |                                                                                                 …"
      ]
     },
     "metadata": {},
     "output_type": "display_data"
    },
    {
     "data": {
      "application/vnd.jupyter.widget-view+json": {
       "model_id": "",
       "version_major": 2,
       "version_minor": 0
      },
      "text/plain": [
       "Validation: |                                                                                                 …"
      ]
     },
     "metadata": {},
     "output_type": "display_data"
    },
    {
     "data": {
      "application/vnd.jupyter.widget-view+json": {
       "model_id": "",
       "version_major": 2,
       "version_minor": 0
      },
      "text/plain": [
       "Validation: |                                                                                                 …"
      ]
     },
     "metadata": {},
     "output_type": "display_data"
    },
    {
     "data": {
      "application/vnd.jupyter.widget-view+json": {
       "model_id": "",
       "version_major": 2,
       "version_minor": 0
      },
      "text/plain": [
       "Validation: |                                                                                                 …"
      ]
     },
     "metadata": {},
     "output_type": "display_data"
    },
    {
     "data": {
      "application/vnd.jupyter.widget-view+json": {
       "model_id": "",
       "version_major": 2,
       "version_minor": 0
      },
      "text/plain": [
       "Validation: |                                                                                                 …"
      ]
     },
     "metadata": {},
     "output_type": "display_data"
    },
    {
     "data": {
      "application/vnd.jupyter.widget-view+json": {
       "model_id": "",
       "version_major": 2,
       "version_minor": 0
      },
      "text/plain": [
       "Validation: |                                                                                                 …"
      ]
     },
     "metadata": {},
     "output_type": "display_data"
    },
    {
     "data": {
      "application/vnd.jupyter.widget-view+json": {
       "model_id": "",
       "version_major": 2,
       "version_minor": 0
      },
      "text/plain": [
       "Validation: |                                                                                                 …"
      ]
     },
     "metadata": {},
     "output_type": "display_data"
    },
    {
     "data": {
      "application/vnd.jupyter.widget-view+json": {
       "model_id": "",
       "version_major": 2,
       "version_minor": 0
      },
      "text/plain": [
       "Validation: |                                                                                                 …"
      ]
     },
     "metadata": {},
     "output_type": "display_data"
    },
    {
     "data": {
      "application/vnd.jupyter.widget-view+json": {
       "model_id": "",
       "version_major": 2,
       "version_minor": 0
      },
      "text/plain": [
       "Validation: |                                                                                                 …"
      ]
     },
     "metadata": {},
     "output_type": "display_data"
    },
    {
     "data": {
      "application/vnd.jupyter.widget-view+json": {
       "model_id": "",
       "version_major": 2,
       "version_minor": 0
      },
      "text/plain": [
       "Validation: |                                                                                                 …"
      ]
     },
     "metadata": {},
     "output_type": "display_data"
    },
    {
     "data": {
      "application/vnd.jupyter.widget-view+json": {
       "model_id": "",
       "version_major": 2,
       "version_minor": 0
      },
      "text/plain": [
       "Validation: |                                                                                                 …"
      ]
     },
     "metadata": {},
     "output_type": "display_data"
    },
    {
     "data": {
      "application/vnd.jupyter.widget-view+json": {
       "model_id": "",
       "version_major": 2,
       "version_minor": 0
      },
      "text/plain": [
       "Validation: |                                                                                                 …"
      ]
     },
     "metadata": {},
     "output_type": "display_data"
    },
    {
     "data": {
      "application/vnd.jupyter.widget-view+json": {
       "model_id": "",
       "version_major": 2,
       "version_minor": 0
      },
      "text/plain": [
       "Validation: |                                                                                                 …"
      ]
     },
     "metadata": {},
     "output_type": "display_data"
    },
    {
     "data": {
      "application/vnd.jupyter.widget-view+json": {
       "model_id": "",
       "version_major": 2,
       "version_minor": 0
      },
      "text/plain": [
       "Validation: |                                                                                                 …"
      ]
     },
     "metadata": {},
     "output_type": "display_data"
    },
    {
     "data": {
      "application/vnd.jupyter.widget-view+json": {
       "model_id": "",
       "version_major": 2,
       "version_minor": 0
      },
      "text/plain": [
       "Validation: |                                                                                                 …"
      ]
     },
     "metadata": {},
     "output_type": "display_data"
    },
    {
     "data": {
      "application/vnd.jupyter.widget-view+json": {
       "model_id": "",
       "version_major": 2,
       "version_minor": 0
      },
      "text/plain": [
       "Validation: |                                                                                                 …"
      ]
     },
     "metadata": {},
     "output_type": "display_data"
    },
    {
     "data": {
      "application/vnd.jupyter.widget-view+json": {
       "model_id": "",
       "version_major": 2,
       "version_minor": 0
      },
      "text/plain": [
       "Validation: |                                                                                                 …"
      ]
     },
     "metadata": {},
     "output_type": "display_data"
    },
    {
     "data": {
      "application/vnd.jupyter.widget-view+json": {
       "model_id": "",
       "version_major": 2,
       "version_minor": 0
      },
      "text/plain": [
       "Validation: |                                                                                                 …"
      ]
     },
     "metadata": {},
     "output_type": "display_data"
    },
    {
     "data": {
      "application/vnd.jupyter.widget-view+json": {
       "model_id": "",
       "version_major": 2,
       "version_minor": 0
      },
      "text/plain": [
       "Validation: |                                                                                                 …"
      ]
     },
     "metadata": {},
     "output_type": "display_data"
    },
    {
     "data": {
      "application/vnd.jupyter.widget-view+json": {
       "model_id": "",
       "version_major": 2,
       "version_minor": 0
      },
      "text/plain": [
       "Validation: |                                                                                                 …"
      ]
     },
     "metadata": {},
     "output_type": "display_data"
    },
    {
     "data": {
      "application/vnd.jupyter.widget-view+json": {
       "model_id": "",
       "version_major": 2,
       "version_minor": 0
      },
      "text/plain": [
       "Validation: |                                                                                                 …"
      ]
     },
     "metadata": {},
     "output_type": "display_data"
    },
    {
     "data": {
      "application/vnd.jupyter.widget-view+json": {
       "model_id": "",
       "version_major": 2,
       "version_minor": 0
      },
      "text/plain": [
       "Validation: |                                                                                                 …"
      ]
     },
     "metadata": {},
     "output_type": "display_data"
    },
    {
     "data": {
      "application/vnd.jupyter.widget-view+json": {
       "model_id": "",
       "version_major": 2,
       "version_minor": 0
      },
      "text/plain": [
       "Validation: |                                                                                                 …"
      ]
     },
     "metadata": {},
     "output_type": "display_data"
    },
    {
     "data": {
      "application/vnd.jupyter.widget-view+json": {
       "model_id": "",
       "version_major": 2,
       "version_minor": 0
      },
      "text/plain": [
       "Validation: |                                                                                                 …"
      ]
     },
     "metadata": {},
     "output_type": "display_data"
    },
    {
     "data": {
      "application/vnd.jupyter.widget-view+json": {
       "model_id": "",
       "version_major": 2,
       "version_minor": 0
      },
      "text/plain": [
       "Validation: |                                                                                                 …"
      ]
     },
     "metadata": {},
     "output_type": "display_data"
    },
    {
     "data": {
      "application/vnd.jupyter.widget-view+json": {
       "model_id": "",
       "version_major": 2,
       "version_minor": 0
      },
      "text/plain": [
       "Validation: |                                                                                                 …"
      ]
     },
     "metadata": {},
     "output_type": "display_data"
    },
    {
     "data": {
      "application/vnd.jupyter.widget-view+json": {
       "model_id": "",
       "version_major": 2,
       "version_minor": 0
      },
      "text/plain": [
       "Validation: |                                                                                                 …"
      ]
     },
     "metadata": {},
     "output_type": "display_data"
    },
    {
     "data": {
      "application/vnd.jupyter.widget-view+json": {
       "model_id": "",
       "version_major": 2,
       "version_minor": 0
      },
      "text/plain": [
       "Validation: |                                                                                                 …"
      ]
     },
     "metadata": {},
     "output_type": "display_data"
    },
    {
     "data": {
      "application/vnd.jupyter.widget-view+json": {
       "model_id": "",
       "version_major": 2,
       "version_minor": 0
      },
      "text/plain": [
       "Validation: |                                                                                                 …"
      ]
     },
     "metadata": {},
     "output_type": "display_data"
    },
    {
     "data": {
      "application/vnd.jupyter.widget-view+json": {
       "model_id": "",
       "version_major": 2,
       "version_minor": 0
      },
      "text/plain": [
       "Validation: |                                                                                                 …"
      ]
     },
     "metadata": {},
     "output_type": "display_data"
    },
    {
     "data": {
      "application/vnd.jupyter.widget-view+json": {
       "model_id": "",
       "version_major": 2,
       "version_minor": 0
      },
      "text/plain": [
       "Validation: |                                                                                                 …"
      ]
     },
     "metadata": {},
     "output_type": "display_data"
    },
    {
     "data": {
      "application/vnd.jupyter.widget-view+json": {
       "model_id": "",
       "version_major": 2,
       "version_minor": 0
      },
      "text/plain": [
       "Validation: |                                                                                                 …"
      ]
     },
     "metadata": {},
     "output_type": "display_data"
    },
    {
     "data": {
      "application/vnd.jupyter.widget-view+json": {
       "model_id": "",
       "version_major": 2,
       "version_minor": 0
      },
      "text/plain": [
       "Validation: |                                                                                                 …"
      ]
     },
     "metadata": {},
     "output_type": "display_data"
    },
    {
     "data": {
      "application/vnd.jupyter.widget-view+json": {
       "model_id": "",
       "version_major": 2,
       "version_minor": 0
      },
      "text/plain": [
       "Validation: |                                                                                                 …"
      ]
     },
     "metadata": {},
     "output_type": "display_data"
    },
    {
     "data": {
      "application/vnd.jupyter.widget-view+json": {
       "model_id": "",
       "version_major": 2,
       "version_minor": 0
      },
      "text/plain": [
       "Validation: |                                                                                                 …"
      ]
     },
     "metadata": {},
     "output_type": "display_data"
    },
    {
     "data": {
      "application/vnd.jupyter.widget-view+json": {
       "model_id": "",
       "version_major": 2,
       "version_minor": 0
      },
      "text/plain": [
       "Validation: |                                                                                                 …"
      ]
     },
     "metadata": {},
     "output_type": "display_data"
    },
    {
     "data": {
      "application/vnd.jupyter.widget-view+json": {
       "model_id": "53adf2e550d04ab09853576b49103c2e",
       "version_major": 2,
       "version_minor": 0
      },
      "text/plain": [
       "Validation: |                                                                                                 …"
      ]
     },
     "metadata": {},
     "output_type": "display_data"
    },
    {
     "data": {
      "application/vnd.jupyter.widget-view+json": {
       "model_id": "94b1bf53919749c8b4e6420d0d30fe46",
       "version_major": 2,
       "version_minor": 0
      },
      "text/plain": [
       "Validation: |                                                                                                 …"
      ]
     },
     "metadata": {},
     "output_type": "display_data"
    },
    {
     "data": {
      "application/vnd.jupyter.widget-view+json": {
       "model_id": "c1a4357cd0b34c2198e01d6c3512e96b",
       "version_major": 2,
       "version_minor": 0
      },
      "text/plain": [
       "Validation: |                                                                                                 …"
      ]
     },
     "metadata": {},
     "output_type": "display_data"
    },
    {
     "data": {
      "application/vnd.jupyter.widget-view+json": {
       "model_id": "f19f006eb12540879a0ff5ec8d6f55ef",
       "version_major": 2,
       "version_minor": 0
      },
      "text/plain": [
       "Validation: |                                                                                                 …"
      ]
     },
     "metadata": {},
     "output_type": "display_data"
    },
    {
     "data": {
      "application/vnd.jupyter.widget-view+json": {
       "model_id": "2ca5e118ae90485c92ecdac87e5cbd65",
       "version_major": 2,
       "version_minor": 0
      },
      "text/plain": [
       "Validation: |                                                                                                 …"
      ]
     },
     "metadata": {},
     "output_type": "display_data"
    },
    {
     "data": {
      "application/vnd.jupyter.widget-view+json": {
       "model_id": "4a019472a0ff4bc1beb8188410462855",
       "version_major": 2,
       "version_minor": 0
      },
      "text/plain": [
       "Validation: |                                                                                                 …"
      ]
     },
     "metadata": {},
     "output_type": "display_data"
    },
    {
     "data": {
      "application/vnd.jupyter.widget-view+json": {
       "model_id": "1c0ef7e9d38e4c8b9c7b7795e892ff71",
       "version_major": 2,
       "version_minor": 0
      },
      "text/plain": [
       "Validation: |                                                                                                 …"
      ]
     },
     "metadata": {},
     "output_type": "display_data"
    },
    {
     "data": {
      "application/vnd.jupyter.widget-view+json": {
       "model_id": "6ad2718623404a9cac09866b8091f04f",
       "version_major": 2,
       "version_minor": 0
      },
      "text/plain": [
       "Validation: |                                                                                                 …"
      ]
     },
     "metadata": {},
     "output_type": "display_data"
    },
    {
     "data": {
      "application/vnd.jupyter.widget-view+json": {
       "model_id": "c5aefb3d1db44af9a4b386193fb55d89",
       "version_major": 2,
       "version_minor": 0
      },
      "text/plain": [
       "Validation: |                                                                                                 …"
      ]
     },
     "metadata": {},
     "output_type": "display_data"
    },
    {
     "data": {
      "application/vnd.jupyter.widget-view+json": {
       "model_id": "be61ee5ef74b43dfaf0c64db77757682",
       "version_major": 2,
       "version_minor": 0
      },
      "text/plain": [
       "Validation: |                                                                                                 …"
      ]
     },
     "metadata": {},
     "output_type": "display_data"
    },
    {
     "data": {
      "application/vnd.jupyter.widget-view+json": {
       "model_id": "94390ae569d64c1cbc22b1539a83d672",
       "version_major": 2,
       "version_minor": 0
      },
      "text/plain": [
       "Validation: |                                                                                                 …"
      ]
     },
     "metadata": {},
     "output_type": "display_data"
    },
    {
     "data": {
      "application/vnd.jupyter.widget-view+json": {
       "model_id": "df906899557a427b94ed822266203a33",
       "version_major": 2,
       "version_minor": 0
      },
      "text/plain": [
       "Validation: |                                                                                                 …"
      ]
     },
     "metadata": {},
     "output_type": "display_data"
    },
    {
     "data": {
      "application/vnd.jupyter.widget-view+json": {
       "model_id": "3b50779c97e340e4ae1467612eba0cf8",
       "version_major": 2,
       "version_minor": 0
      },
      "text/plain": [
       "Validation: |                                                                                                 …"
      ]
     },
     "metadata": {},
     "output_type": "display_data"
    },
    {
     "data": {
      "application/vnd.jupyter.widget-view+json": {
       "model_id": "40637789ea564f71bc96294b82c7fa3e",
       "version_major": 2,
       "version_minor": 0
      },
      "text/plain": [
       "Validation: |                                                                                                 …"
      ]
     },
     "metadata": {},
     "output_type": "display_data"
    },
    {
     "data": {
      "application/vnd.jupyter.widget-view+json": {
       "model_id": "235f26b6ddaf4d338bd3f299aac414e9",
       "version_major": 2,
       "version_minor": 0
      },
      "text/plain": [
       "Validation: |                                                                                                 …"
      ]
     },
     "metadata": {},
     "output_type": "display_data"
    },
    {
     "data": {
      "application/vnd.jupyter.widget-view+json": {
       "model_id": "7b3fa5bb49ae40c5aec9ec36c2ae8015",
       "version_major": 2,
       "version_minor": 0
      },
      "text/plain": [
       "Validation: |                                                                                                 …"
      ]
     },
     "metadata": {},
     "output_type": "display_data"
    },
    {
     "data": {
      "application/vnd.jupyter.widget-view+json": {
       "model_id": "1a60a85022f04d218c72eea4188a66f9",
       "version_major": 2,
       "version_minor": 0
      },
      "text/plain": [
       "Validation: |                                                                                                 …"
      ]
     },
     "metadata": {},
     "output_type": "display_data"
    },
    {
     "data": {
      "application/vnd.jupyter.widget-view+json": {
       "model_id": "c6ebb67eae2547c68fb24544009aecf4",
       "version_major": 2,
       "version_minor": 0
      },
      "text/plain": [
       "Validation: |                                                                                                 …"
      ]
     },
     "metadata": {},
     "output_type": "display_data"
    },
    {
     "data": {
      "application/vnd.jupyter.widget-view+json": {
       "model_id": "aacd348927044107bb00d5e534567a70",
       "version_major": 2,
       "version_minor": 0
      },
      "text/plain": [
       "Validation: |                                                                                                 …"
      ]
     },
     "metadata": {},
     "output_type": "display_data"
    },
    {
     "data": {
      "application/vnd.jupyter.widget-view+json": {
       "model_id": "f7c0dd692e6a486883575438fc5adfbb",
       "version_major": 2,
       "version_minor": 0
      },
      "text/plain": [
       "Validation: |                                                                                                 …"
      ]
     },
     "metadata": {},
     "output_type": "display_data"
    },
    {
     "data": {
      "application/vnd.jupyter.widget-view+json": {
       "model_id": "0336889f14fb4b13a14a03bb962c620d",
       "version_major": 2,
       "version_minor": 0
      },
      "text/plain": [
       "Validation: |                                                                                                 …"
      ]
     },
     "metadata": {},
     "output_type": "display_data"
    },
    {
     "data": {
      "application/vnd.jupyter.widget-view+json": {
       "model_id": "9fc062cee4744899be4009f8ed011140",
       "version_major": 2,
       "version_minor": 0
      },
      "text/plain": [
       "Validation: |                                                                                                 …"
      ]
     },
     "metadata": {},
     "output_type": "display_data"
    },
    {
     "data": {
      "application/vnd.jupyter.widget-view+json": {
       "model_id": "b18456fa69ff42b581cb869471ae3429",
       "version_major": 2,
       "version_minor": 0
      },
      "text/plain": [
       "Validation: |                                                                                                 …"
      ]
     },
     "metadata": {},
     "output_type": "display_data"
    },
    {
     "data": {
      "application/vnd.jupyter.widget-view+json": {
       "model_id": "21d096b5f70943ffab473cd869f40852",
       "version_major": 2,
       "version_minor": 0
      },
      "text/plain": [
       "Validation: |                                                                                                 …"
      ]
     },
     "metadata": {},
     "output_type": "display_data"
    },
    {
     "data": {
      "application/vnd.jupyter.widget-view+json": {
       "model_id": "31087d1d5d0a4ff1aa81c4a166af2905",
       "version_major": 2,
       "version_minor": 0
      },
      "text/plain": [
       "Validation: |                                                                                                 …"
      ]
     },
     "metadata": {},
     "output_type": "display_data"
    },
    {
     "data": {
      "application/vnd.jupyter.widget-view+json": {
       "model_id": "cb04d287b30f431cb7b5a01180691f5f",
       "version_major": 2,
       "version_minor": 0
      },
      "text/plain": [
       "Validation: |                                                                                                 …"
      ]
     },
     "metadata": {},
     "output_type": "display_data"
    },
    {
     "data": {
      "application/vnd.jupyter.widget-view+json": {
       "model_id": "6effc21ee7974153959d711c7b7c3017",
       "version_major": 2,
       "version_minor": 0
      },
      "text/plain": [
       "Validation: |                                                                                                 …"
      ]
     },
     "metadata": {},
     "output_type": "display_data"
    },
    {
     "data": {
      "application/vnd.jupyter.widget-view+json": {
       "model_id": "4d027bc5e1c74ada983e51efb59bcddd",
       "version_major": 2,
       "version_minor": 0
      },
      "text/plain": [
       "Validation: |                                                                                                 …"
      ]
     },
     "metadata": {},
     "output_type": "display_data"
    },
    {
     "data": {
      "application/vnd.jupyter.widget-view+json": {
       "model_id": "026cce9778e04a15821f845ec8efeda8",
       "version_major": 2,
       "version_minor": 0
      },
      "text/plain": [
       "Validation: |                                                                                                 …"
      ]
     },
     "metadata": {},
     "output_type": "display_data"
    },
    {
     "data": {
      "application/vnd.jupyter.widget-view+json": {
       "model_id": "bad324f2db624e09a650647c5eb4c6be",
       "version_major": 2,
       "version_minor": 0
      },
      "text/plain": [
       "Validation: |                                                                                                 …"
      ]
     },
     "metadata": {},
     "output_type": "display_data"
    },
    {
     "data": {
      "application/vnd.jupyter.widget-view+json": {
       "model_id": "21effc3db34f467d980156197a912613",
       "version_major": 2,
       "version_minor": 0
      },
      "text/plain": [
       "Validation: |                                                                                                 …"
      ]
     },
     "metadata": {},
     "output_type": "display_data"
    },
    {
     "data": {
      "application/vnd.jupyter.widget-view+json": {
       "model_id": "0ca216227edb40daa2927507572db1db",
       "version_major": 2,
       "version_minor": 0
      },
      "text/plain": [
       "Validation: |                                                                                                 …"
      ]
     },
     "metadata": {},
     "output_type": "display_data"
    },
    {
     "data": {
      "application/vnd.jupyter.widget-view+json": {
       "model_id": "d7881a96838e4f239d99282afceabc87",
       "version_major": 2,
       "version_minor": 0
      },
      "text/plain": [
       "Validation: |                                                                                                 …"
      ]
     },
     "metadata": {},
     "output_type": "display_data"
    },
    {
     "data": {
      "application/vnd.jupyter.widget-view+json": {
       "model_id": "f7e00a22112246c2a43d9b115b4733a7",
       "version_major": 2,
       "version_minor": 0
      },
      "text/plain": [
       "Validation: |                                                                                                 …"
      ]
     },
     "metadata": {},
     "output_type": "display_data"
    },
    {
     "data": {
      "application/vnd.jupyter.widget-view+json": {
       "model_id": "7c02160e3f1c47939fb0bbd5d1b133ea",
       "version_major": 2,
       "version_minor": 0
      },
      "text/plain": [
       "Validation: |                                                                                                 …"
      ]
     },
     "metadata": {},
     "output_type": "display_data"
    },
    {
     "data": {
      "application/vnd.jupyter.widget-view+json": {
       "model_id": "cc2ecd774dce431ea55cd918d3af02a1",
       "version_major": 2,
       "version_minor": 0
      },
      "text/plain": [
       "Validation: |                                                                                                 …"
      ]
     },
     "metadata": {},
     "output_type": "display_data"
    },
    {
     "data": {
      "application/vnd.jupyter.widget-view+json": {
       "model_id": "117841cf99774d45af32060648bc72b2",
       "version_major": 2,
       "version_minor": 0
      },
      "text/plain": [
       "Validation: |                                                                                                 …"
      ]
     },
     "metadata": {},
     "output_type": "display_data"
    },
    {
     "data": {
      "application/vnd.jupyter.widget-view+json": {
       "model_id": "ce3ae34d8af843b1b530cb59197491e1",
       "version_major": 2,
       "version_minor": 0
      },
      "text/plain": [
       "Validation: |                                                                                                 …"
      ]
     },
     "metadata": {},
     "output_type": "display_data"
    },
    {
     "data": {
      "application/vnd.jupyter.widget-view+json": {
       "model_id": "b0935da390b74ac091f252fef0f298f2",
       "version_major": 2,
       "version_minor": 0
      },
      "text/plain": [
       "Validation: |                                                                                                 …"
      ]
     },
     "metadata": {},
     "output_type": "display_data"
    },
    {
     "data": {
      "application/vnd.jupyter.widget-view+json": {
       "model_id": "b771d1b6b1c74eba9f698b857c196871",
       "version_major": 2,
       "version_minor": 0
      },
      "text/plain": [
       "Validation: |                                                                                                 …"
      ]
     },
     "metadata": {},
     "output_type": "display_data"
    },
    {
     "data": {
      "application/vnd.jupyter.widget-view+json": {
       "model_id": "c6158b011ee5448e9b349d0a22e1007f",
       "version_major": 2,
       "version_minor": 0
      },
      "text/plain": [
       "Validation: |                                                                                                 …"
      ]
     },
     "metadata": {},
     "output_type": "display_data"
    },
    {
     "data": {
      "application/vnd.jupyter.widget-view+json": {
       "model_id": "fa08330e2d864dfdabd6b9f2cbba5c09",
       "version_major": 2,
       "version_minor": 0
      },
      "text/plain": [
       "Validation: |                                                                                                 …"
      ]
     },
     "metadata": {},
     "output_type": "display_data"
    },
    {
     "data": {
      "application/vnd.jupyter.widget-view+json": {
       "model_id": "7bb339f354bd4c5b90a59dd8b6045a86",
       "version_major": 2,
       "version_minor": 0
      },
      "text/plain": [
       "Validation: |                                                                                                 …"
      ]
     },
     "metadata": {},
     "output_type": "display_data"
    },
    {
     "data": {
      "application/vnd.jupyter.widget-view+json": {
       "model_id": "37ea472c78bd447c8d585089916a68f1",
       "version_major": 2,
       "version_minor": 0
      },
      "text/plain": [
       "Validation: |                                                                                                 …"
      ]
     },
     "metadata": {},
     "output_type": "display_data"
    },
    {
     "data": {
      "application/vnd.jupyter.widget-view+json": {
       "model_id": "48ec28adc49843f9ba695cef19f2bcfe",
       "version_major": 2,
       "version_minor": 0
      },
      "text/plain": [
       "Validation: |                                                                                                 …"
      ]
     },
     "metadata": {},
     "output_type": "display_data"
    },
    {
     "data": {
      "application/vnd.jupyter.widget-view+json": {
       "model_id": "3cfa68ac213e4e72a37d83b4b79f9146",
       "version_major": 2,
       "version_minor": 0
      },
      "text/plain": [
       "Validation: |                                                                                                 …"
      ]
     },
     "metadata": {},
     "output_type": "display_data"
    },
    {
     "data": {
      "application/vnd.jupyter.widget-view+json": {
       "model_id": "78a7c91b53df4a5c8f4b2c77c574ce5e",
       "version_major": 2,
       "version_minor": 0
      },
      "text/plain": [
       "Validation: |                                                                                                 …"
      ]
     },
     "metadata": {},
     "output_type": "display_data"
    },
    {
     "data": {
      "application/vnd.jupyter.widget-view+json": {
       "model_id": "1c717b8f39c346e38b67bf35959dc463",
       "version_major": 2,
       "version_minor": 0
      },
      "text/plain": [
       "Validation: |                                                                                                 …"
      ]
     },
     "metadata": {},
     "output_type": "display_data"
    },
    {
     "data": {
      "application/vnd.jupyter.widget-view+json": {
       "model_id": "24cb75929dac46f6a620fa6bcebfb6c8",
       "version_major": 2,
       "version_minor": 0
      },
      "text/plain": [
       "Validation: |                                                                                                 …"
      ]
     },
     "metadata": {},
     "output_type": "display_data"
    },
    {
     "data": {
      "application/vnd.jupyter.widget-view+json": {
       "model_id": "340358d302ba41cf9deb9cf474698efc",
       "version_major": 2,
       "version_minor": 0
      },
      "text/plain": [
       "Validation: |                                                                                                 …"
      ]
     },
     "metadata": {},
     "output_type": "display_data"
    },
    {
     "data": {
      "application/vnd.jupyter.widget-view+json": {
       "model_id": "ef0ebb10020a45a9b8e542b1e39d9f79",
       "version_major": 2,
       "version_minor": 0
      },
      "text/plain": [
       "Validation: |                                                                                                 …"
      ]
     },
     "metadata": {},
     "output_type": "display_data"
    },
    {
     "data": {
      "application/vnd.jupyter.widget-view+json": {
       "model_id": "f1d6024157814186bd549cc4ad60186b",
       "version_major": 2,
       "version_minor": 0
      },
      "text/plain": [
       "Validation: |                                                                                                 …"
      ]
     },
     "metadata": {},
     "output_type": "display_data"
    },
    {
     "data": {
      "application/vnd.jupyter.widget-view+json": {
       "model_id": "89d53b27b74642fdaf804ec3873a59f5",
       "version_major": 2,
       "version_minor": 0
      },
      "text/plain": [
       "Validation: |                                                                                                 …"
      ]
     },
     "metadata": {},
     "output_type": "display_data"
    },
    {
     "data": {
      "application/vnd.jupyter.widget-view+json": {
       "model_id": "b117593aa97447ef90a174ab406678ae",
       "version_major": 2,
       "version_minor": 0
      },
      "text/plain": [
       "Validation: |                                                                                                 …"
      ]
     },
     "metadata": {},
     "output_type": "display_data"
    },
    {
     "name": "stderr",
     "output_type": "stream",
     "text": [
      "`Trainer.fit` stopped: `max_epochs=100` reached.\n",
      "\u001b[32m2024-11-10 16:34:09.924\u001b[0m | \u001b[1mINFO    \u001b[0m | \u001b[36msrc.ranker.trainer\u001b[0m:\u001b[36mon_fit_end\u001b[0m:\u001b[36m171\u001b[0m - \u001b[1mLogging classification metrics...\u001b[0m\n",
      "\u001b[32m2024-11-10 16:34:27.759\u001b[0m | \u001b[1mINFO    \u001b[0m | \u001b[36m__main__\u001b[0m:\u001b[36m<module>\u001b[0m:\u001b[36m37\u001b[0m - \u001b[1mLogs available at /home/dvquys/frostmourne/recsys-mvp/notebooks/data/035-rerun-add-features-l9/logs/overfit/lightning_logs/version_6\u001b[0m\n"
     ]
    }
   ],
   "source": [
    "early_stopping = EarlyStopping(\n",
    "    monitor=\"val_loss\", patience=10, mode=\"min\", verbose=False\n",
    ")\n",
    "\n",
    "model = init_model(\n",
    "    n_users,\n",
    "    n_items,\n",
    "    args.embedding_dim,\n",
    "    args.item_sequence_ts_bucket_size,\n",
    "    args.bucket_embedding_dim,\n",
    "    item_feature_size,\n",
    "    dropout=0,\n",
    ")\n",
    "lit_model = LitRanker(\n",
    "    model,\n",
    "    learning_rate=args.learning_rate,\n",
    "    l2_reg=0.0,\n",
    "    log_dir=args.notebook_persist_dp,\n",
    "    accelerator=args.device,\n",
    ")\n",
    "\n",
    "log_dir = f\"{args.notebook_persist_dp}/logs/overfit\"\n",
    "\n",
    "# train model\n",
    "trainer = L.Trainer(\n",
    "    default_root_dir=log_dir,\n",
    "    accelerator=args.device if args.device else \"auto\",\n",
    "    max_epochs=100,\n",
    "    overfit_batches=1,\n",
    "    callbacks=[early_stopping],\n",
    ")\n",
    "trainer.fit(\n",
    "    model=lit_model,\n",
    "    train_dataloaders=train_loader,\n",
    "    val_dataloaders=train_loader,\n",
    ")\n",
    "logger.info(f\"Logs available at {trainer.log_dir}\")"
   ]
  },
  {
   "cell_type": "code",
   "execution_count": 41,
   "id": "b2cc9ae0-a993-4815-bebd-85cc51e68e65",
   "metadata": {},
   "outputs": [
    {
     "data": {
      "text/html": [
       "\n",
       "      <iframe id=\"tensorboard-frame-105123bd116135d4\" width=\"100%\" height=\"800\" frameborder=\"0\">\n",
       "      </iframe>\n",
       "      <script>\n",
       "        (function() {\n",
       "          const frame = document.getElementById(\"tensorboard-frame-105123bd116135d4\");\n",
       "          const url = new URL(\"/\", window.location);\n",
       "          const port = 6008;\n",
       "          if (port) {\n",
       "            url.port = port;\n",
       "          }\n",
       "          frame.src = url;\n",
       "        })();\n",
       "      </script>\n",
       "    "
      ],
      "text/plain": [
       "<IPython.core.display.HTML object>"
      ]
     },
     "metadata": {},
     "output_type": "display_data"
    }
   ],
   "source": [
    "%tensorboard --logdir $trainer.log_dir --host localhost"
   ]
  },
  {
   "cell_type": "markdown",
   "id": "65c7e4af-5c66-454e-9e2c-2ca134f4e1cf",
   "metadata": {},
   "source": [
    "##### Fit on all data"
   ]
  },
  {
   "cell_type": "code",
   "execution_count": 26,
   "id": "65d821e0-3255-4947-b720-81a2f83a4911",
   "metadata": {},
   "outputs": [
    {
     "name": "stderr",
     "output_type": "stream",
     "text": [
      "\u001b[32m2024-11-10 16:34:28.859\u001b[0m | \u001b[1mINFO    \u001b[0m | \u001b[36m__main__\u001b[0m:\u001b[36m<module>\u001b[0m:\u001b[36m4\u001b[0m - \u001b[1mMean std over categorical and numerical features: 0.996731698513031\u001b[0m\n"
     ]
    }
   ],
   "source": [
    "all_items_df = train_df.drop_duplicates(subset=[\"item_indice\"])\n",
    "all_items_indices = all_items_df[\"item_indice\"].values\n",
    "all_items_features = item_metadata_pipeline.transform(all_items_df).astype(np.float32)\n",
    "logger.info(\n",
    "    f\"Mean std over categorical and numerical features: {all_items_features.std(axis=0).mean()}\"\n",
    ")\n",
    "if args.rc.use_sbert_features:\n",
    "    all_sbert_vectors = ann_index.get_vector_by_ids(all_items_indices.tolist()).astype(\n",
    "        np.float32\n",
    "    )\n",
    "    logger.info(f\"Mean std over text features: {all_sbert_vectors.std(axis=0).mean()}\")\n",
    "    all_items_features = np.hstack([all_items_features, all_sbert_vectors])"
   ]
  },
  {
   "cell_type": "code",
   "execution_count": null,
   "id": "9b3e950d-008b-4564-845e-a68d3c96ef5d",
   "metadata": {
    "scrolled": true
   },
   "outputs": [],
   "source": [
    "# papermill_description=fit-model\n",
    "early_stopping = EarlyStopping(\n",
    "    monitor=\"val_loss\", patience=args.early_stopping_patience, mode=\"min\", verbose=False\n",
    ")\n",
    "\n",
    "checkpoint_callback = ModelCheckpoint(\n",
    "    dirpath=f\"{args.notebook_persist_dp}/checkpoints\",\n",
    "    filename=\"best-checkpoint\",\n",
    "    save_top_k=1,\n",
    "    monitor=\"val_loss\",\n",
    "    mode=\"min\",\n",
    ")\n",
    "\n",
    "model = init_model(\n",
    "    n_users,\n",
    "    n_items,\n",
    "    args.embedding_dim,\n",
    "    args.item_sequence_ts_bucket_size,\n",
    "    args.bucket_embedding_dim,\n",
    "    item_feature_size,\n",
    "    dropout=args.dropout,\n",
    "    item_embedding=pretrained_item_embedding,\n",
    ")\n",
    "lit_model = LitRanker(\n",
    "    model,\n",
    "    learning_rate=args.learning_rate,\n",
    "    l2_reg=args.l2_reg,\n",
    "    log_dir=args.notebook_persist_dp,\n",
    "    evaluate_ranking=True,\n",
    "    idm=idm,\n",
    "    all_items_indices=all_items_indices,\n",
    "    all_items_features=all_items_features,\n",
    "    args=args,\n",
    "    neg_to_pos_ratio=args.neg_to_pos_ratio,\n",
    "    checkpoint_callback=checkpoint_callback,\n",
    "    accelerator=args.device,\n",
    ")"
   ]
  },
  {
   "cell_type": "code",
   "execution_count": 28,
   "id": "2f9142d9-2c1c-47e0-890b-2104f6726ff0",
   "metadata": {
    "scrolled": true
   },
   "outputs": [
    {
     "name": "stderr",
     "output_type": "stream",
     "text": [
      "GPU available: True (cuda), used: True\n",
      "TPU available: False, using: 0 TPU cores\n",
      "HPU available: False, using: 0 HPUs\n",
      "/home/dvquys/frostmourne/recsys-mvp/.venv/lib/python3.11/site-packages/lightning/pytorch/callbacks/model_checkpoint.py:654: UserWarning:\n",
      "\n",
      "Checkpoint directory /home/dvquys/frostmourne/recsys-mvp/notebooks/data/035-rerun-add-features-l9/checkpoints exists and is not empty.\n",
      "\n",
      "LOCAL_RANK: 0 - CUDA_VISIBLE_DEVICES: [0]\n",
      "\n",
      "  | Name  | Type   | Params | Mode \n",
      "-----------------------------------------\n",
      "0 | model | Ranker | 3.3 M  | train\n",
      "-----------------------------------------\n",
      "3.3 M     Trainable params\n",
      "0         Non-trainable params\n",
      "3.3 M     Total params\n",
      "13.165    Total estimated model params size (MB)\n",
      "15        Modules in train mode\n",
      "0         Modules in eval mode\n"
     ]
    },
    {
     "data": {
      "application/vnd.jupyter.widget-view+json": {
       "model_id": "",
       "version_major": 2,
       "version_minor": 0
      },
      "text/plain": [
       "Sanity Checking: |                                                                                            …"
      ]
     },
     "metadata": {},
     "output_type": "display_data"
    },
    {
     "name": "stderr",
     "output_type": "stream",
     "text": [
      "/home/dvquys/frostmourne/recsys-mvp/.venv/lib/python3.11/site-packages/lightning/pytorch/trainer/connectors/data_connector.py:424: PossibleUserWarning:\n",
      "\n",
      "The 'val_dataloader' does not have many workers which may be a bottleneck. Consider increasing the value of the `num_workers` argument` to `num_workers=11` in the `DataLoader` to improve performance.\n",
      "\n",
      "/home/dvquys/frostmourne/recsys-mvp/.venv/lib/python3.11/site-packages/lightning/pytorch/trainer/connectors/data_connector.py:424: PossibleUserWarning:\n",
      "\n",
      "The 'train_dataloader' does not have many workers which may be a bottleneck. Consider increasing the value of the `num_workers` argument` to `num_workers=11` in the `DataLoader` to improve performance.\n",
      "\n"
     ]
    },
    {
     "data": {
      "application/vnd.jupyter.widget-view+json": {
       "model_id": "e0808321d3134c4f82cc0492837e5af5",
       "version_major": 2,
       "version_minor": 0
      },
      "text/plain": [
       "Training: |                                                                                                   …"
      ]
     },
     "metadata": {},
     "output_type": "display_data"
    },
    {
     "data": {
      "application/vnd.jupyter.widget-view+json": {
       "model_id": "",
       "version_major": 2,
       "version_minor": 0
      },
      "text/plain": [
       "Validation: |                                                                                                 …"
      ]
     },
     "metadata": {},
     "output_type": "display_data"
    },
    {
     "name": "stderr",
     "output_type": "stream",
     "text": [
      "`Trainer.fit` stopped: `max_epochs=1` reached.\n",
      "\u001b[32m2024-11-10 16:34:50.111\u001b[0m | \u001b[1mINFO    \u001b[0m | \u001b[36msrc.ranker.trainer\u001b[0m:\u001b[36mon_fit_end\u001b[0m:\u001b[36m164\u001b[0m - \u001b[1mLoading best model from /home/dvquys/frostmourne/recsys-mvp/notebooks/data/035-rerun-add-features-l9/checkpoints/best-checkpoint-v6.ckpt...\u001b[0m\n",
      "\u001b[32m2024-11-10 16:34:50.274\u001b[0m | \u001b[1mINFO    \u001b[0m | \u001b[36msrc.ranker.trainer\u001b[0m:\u001b[36mon_fit_end\u001b[0m:\u001b[36m171\u001b[0m - \u001b[1mLogging classification metrics...\u001b[0m\n",
      "\u001b[32m2024-11-10 16:34:50.946\u001b[0m | \u001b[1mINFO    \u001b[0m | \u001b[36msrc.ranker.trainer\u001b[0m:\u001b[36mon_fit_end\u001b[0m:\u001b[36m174\u001b[0m - \u001b[1mLogging ranking metrics...\u001b[0m\n"
     ]
    },
    {
     "data": {
      "application/vnd.jupyter.widget-view+json": {
       "model_id": "9040135bd2814bec99e0032183333254",
       "version_major": 2,
       "version_minor": 0
      },
      "text/plain": [
       "Generating recommendations:   0%|          | 0/177 [00:00<?, ?it/s]"
      ]
     },
     "metadata": {},
     "output_type": "display_data"
    },
    {
     "name": "stderr",
     "output_type": "stream",
     "text": [
      "2024/11/10 16:34:57 INFO mlflow.tracking._tracking_service.client: 🏃 View run 035-rerun-add-features-l9 at: http://localhost:5002/#/experiments/3/runs/53672526046b44969cae410b490d2857.\n",
      "2024/11/10 16:34:57 INFO mlflow.tracking._tracking_service.client: 🧪 View experiment at: http://localhost:5002/#/experiments/3.\n"
     ]
    }
   ],
   "source": [
    "log_dir = f\"{args.notebook_persist_dp}/logs/run\"\n",
    "\n",
    "# train model\n",
    "trainer = L.Trainer(\n",
    "    default_root_dir=log_dir,\n",
    "    max_epochs=args.max_epochs,\n",
    "    callbacks=[early_stopping, checkpoint_callback],\n",
    "    accelerator=args.device if args.device else \"auto\",\n",
    "    logger=args._mlf_logger if args.log_to_mlflow else None,\n",
    ")\n",
    "trainer.fit(\n",
    "    model=lit_model,\n",
    "    train_dataloaders=train_loader,\n",
    "    val_dataloaders=val_loader,\n",
    ")"
   ]
  },
  {
   "cell_type": "code",
   "execution_count": 29,
   "id": "af44bf35-e7c7-4718-97b8-238e89b7f3f0",
   "metadata": {
    "editable": true,
    "scrolled": true,
    "slideshow": {
     "slide_type": ""
    },
    "tags": []
   },
   "outputs": [
    {
     "name": "stderr",
     "output_type": "stream",
     "text": [
      "\u001b[32m2024-11-10 16:34:57.094\u001b[0m | \u001b[1mINFO    \u001b[0m | \u001b[36m__main__\u001b[0m:\u001b[36m<module>\u001b[0m:\u001b[36m1\u001b[0m - \u001b[1mTest predicting after training with user_id = AHALPVQPNWXDAXMQ4DGOKASLXMZA and parent_asin = B08N7PX4WX\u001b[0m\n"
     ]
    },
    {
     "data": {
      "text/plain": [
       "Ranker(\n",
       "  (item_embedding): Embedding(4631, 128, padding_idx=4630)\n",
       "  (user_embedding): Embedding(19578, 128)\n",
       "  (item_sequence_ts_bucket_embedding): Embedding(11, 16, padding_idx=10)\n",
       "  (gru): GRU(144, 128, batch_first=True)\n",
       "  (relu): ReLU()\n",
       "  (dropout): Dropout(p=0.3, inplace=False)\n",
       "  (item_feature_tower): Sequential(\n",
       "    (0): Linear(in_features=161, out_features=128, bias=True)\n",
       "    (1): BatchNorm1d(128, eps=1e-05, momentum=0.1, affine=True, track_running_stats=True)\n",
       "    (2): ReLU()\n",
       "    (3): Dropout(p=0.3, inplace=False)\n",
       "  )\n",
       "  (fc_rating): Sequential(\n",
       "    (0): Linear(in_features=512, out_features=128, bias=True)\n",
       "    (1): BatchNorm1d(128, eps=1e-05, momentum=0.1, affine=True, track_running_stats=True)\n",
       "    (2): ReLU()\n",
       "    (3): Dropout(p=0.3, inplace=False)\n",
       "    (4): Linear(in_features=128, out_features=1, bias=True)\n",
       "    (5): Sigmoid()\n",
       "  )\n",
       ")"
      ]
     },
     "execution_count": 29,
     "metadata": {},
     "output_type": "execute_result"
    }
   ],
   "source": [
    "logger.info(\n",
    "    f\"Test predicting after training with {args.user_col} = {user_id} and {args.item_col} = {item_id}\"\n",
    ")\n",
    "model.eval()\n",
    "model = model.to(user.device)  # Move model back to align with data device\n",
    "model.predict(user, item_sequence, item_sequence_ts_bucket, item_feature, item)\n",
    "model.train()"
   ]
  },
  {
   "cell_type": "markdown",
   "id": "f8e1dd22-bcb9-4582-96d0-30acc4e8b790",
   "metadata": {
    "editable": true,
    "slideshow": {
     "slide_type": ""
    },
    "tags": []
   },
   "source": [
    "# Load best checkpoint"
   ]
  },
  {
   "cell_type": "code",
   "execution_count": 30,
   "id": "092427a8-ac4e-4752-a0ee-10729b6e563c",
   "metadata": {
    "scrolled": true
   },
   "outputs": [
    {
     "name": "stderr",
     "output_type": "stream",
     "text": [
      "\u001b[32m2024-11-10 16:34:57.120\u001b[0m | \u001b[1mINFO    \u001b[0m | \u001b[36m__main__\u001b[0m:\u001b[36m<module>\u001b[0m:\u001b[36m1\u001b[0m - \u001b[1mLoading best checkpoint from /home/dvquys/frostmourne/recsys-mvp/notebooks/data/035-rerun-add-features-l9/checkpoints/best-checkpoint-v6.ckpt...\u001b[0m\n"
     ]
    }
   ],
   "source": [
    "logger.info(f\"Loading best checkpoint from {checkpoint_callback.best_model_path}...\")\n",
    "args.best_checkpoint_path = checkpoint_callback.best_model_path\n",
    "\n",
    "best_trainer = LitRanker.load_from_checkpoint(\n",
    "    checkpoint_callback.best_model_path,\n",
    "    model=init_model(\n",
    "        n_users,\n",
    "        n_items,\n",
    "        args.embedding_dim,\n",
    "        args.item_sequence_ts_bucket_size,\n",
    "        args.bucket_embedding_dim,\n",
    "        item_feature_size,\n",
    "        dropout=0,\n",
    "        item_embedding=pretrained_item_embedding,\n",
    "    ),\n",
    ")"
   ]
  },
  {
   "cell_type": "code",
   "execution_count": 31,
   "id": "e68989e7-cd28-4cb3-9a28-5bd477bb67c4",
   "metadata": {},
   "outputs": [],
   "source": [
    "best_model = best_trainer.model.to(lit_model.device)"
   ]
  },
  {
   "cell_type": "code",
   "execution_count": 32,
   "id": "72062d94-6ee8-480f-b7c6-9dcae2ceeb8b",
   "metadata": {
    "scrolled": true
   },
   "outputs": [
    {
     "data": {
      "text/plain": [
       "Ranker(\n",
       "  (item_embedding): Embedding(4631, 128, padding_idx=4630)\n",
       "  (user_embedding): Embedding(19578, 128)\n",
       "  (item_sequence_ts_bucket_embedding): Embedding(11, 16, padding_idx=10)\n",
       "  (gru): GRU(144, 128, batch_first=True)\n",
       "  (relu): ReLU()\n",
       "  (dropout): Dropout(p=0, inplace=False)\n",
       "  (item_feature_tower): Sequential(\n",
       "    (0): Linear(in_features=161, out_features=128, bias=True)\n",
       "    (1): BatchNorm1d(128, eps=1e-05, momentum=0.1, affine=True, track_running_stats=True)\n",
       "    (2): ReLU()\n",
       "    (3): Dropout(p=0, inplace=False)\n",
       "  )\n",
       "  (fc_rating): Sequential(\n",
       "    (0): Linear(in_features=512, out_features=128, bias=True)\n",
       "    (1): BatchNorm1d(128, eps=1e-05, momentum=0.1, affine=True, track_running_stats=True)\n",
       "    (2): ReLU()\n",
       "    (3): Dropout(p=0, inplace=False)\n",
       "    (4): Linear(in_features=128, out_features=1, bias=True)\n",
       "    (5): Sigmoid()\n",
       "  )\n",
       ")"
      ]
     },
     "execution_count": 32,
     "metadata": {},
     "output_type": "execute_result"
    }
   ],
   "source": [
    "best_model.eval()\n",
    "best_model.predict(user, item_sequence, item_sequence_ts_bucket, item_feature, item)\n",
    "best_model.train()"
   ]
  },
  {
   "cell_type": "markdown",
   "id": "26afc39d-5cbd-4ea4-9484-f6419b460bde",
   "metadata": {
    "scrolled": true
   },
   "source": [
    "### Persist artifacts"
   ]
  },
  {
   "cell_type": "code",
   "execution_count": 33,
   "id": "275bcb81-bf50-4757-9e63-5c7a317b276f",
   "metadata": {},
   "outputs": [],
   "source": [
    "if args.log_to_mlflow:\n",
    "    # Persist id_mapping so that at inference we can predict based on item_ids (string) instead of item_index\n",
    "    run_id = trainer.logger.run_id\n",
    "    mlf_client = trainer.logger.experiment\n",
    "    mlf_client.log_artifact(run_id, idm_fp)\n",
    "    # Persist item_feature_metadata pipeline\n",
    "    mlf_client.log_artifact(run_id, args.item_metadata_pipeline_fp)\n",
    "\n",
    "    # Persist model architecture\n",
    "    model_architecture_fp = f\"{args.notebook_persist_dp}/model_architecture.txt\"\n",
    "    with open(model_architecture_fp, \"w\") as f:\n",
    "        f.write(repr(model))\n",
    "    mlf_client.log_artifact(run_id, model_architecture_fp)"
   ]
  },
  {
   "cell_type": "markdown",
   "id": "73a53735-cada-4b16-b6ec-b958e20d8093",
   "metadata": {},
   "source": [
    "### Wrap inference function and register best checkpoint as MLflow model"
   ]
  },
  {
   "cell_type": "code",
   "execution_count": 34,
   "id": "fc1da4ca-1616-4f57-99fb-cb851c535a57",
   "metadata": {},
   "outputs": [],
   "source": [
    "inferrer = RankerInferenceWrapper(best_model)"
   ]
  },
  {
   "cell_type": "code",
   "execution_count": 35,
   "id": "f91c26a5-d86e-4d3a-b3a2-87e6a5e88427",
   "metadata": {},
   "outputs": [],
   "source": [
    "def generate_sample_item_features():\n",
    "    sample_row = train_df.iloc[0].fillna(0)\n",
    "    output = dict()\n",
    "    for col in args.rc.item_feature_cols:\n",
    "        v = sample_row[col]\n",
    "        if isinstance(v, np.ndarray):\n",
    "            v = \"__\".join(\n",
    "                sample_row[col].tolist()\n",
    "            )  # Workaround to avoid MLflow Got error: Per-column arrays must each be 1-dimensional\n",
    "        output[col] = [v]\n",
    "    return output"
   ]
  },
  {
   "cell_type": "code",
   "execution_count": 36,
   "id": "a21791a9-d5fc-4abe-bc3c-820aba9f0759",
   "metadata": {},
   "outputs": [
    {
     "data": {
      "text/plain": [
       "array([0.72171295], dtype=float32)"
      ]
     },
     "execution_count": 36,
     "metadata": {},
     "output_type": "execute_result"
    }
   ],
   "source": [
    "sample_input = {\n",
    "    args.user_col: [idm.get_user_id(0)],\n",
    "    \"item_sequence\": [\",\".join([idm.get_item_id(0), idm.get_item_id(1)])],\n",
    "    \"item_sequence_ts\": [\n",
    "        \"1095133116,109770848\"\n",
    "    ],  # Here we input unix timestamp seconds instead of timestamp bucket because we need to calculate the bucket\n",
    "    # **{col: [train_df.iloc[0].fillna(0)[col]] for col in args.item_feature_cols},\n",
    "    **generate_sample_item_features(),\n",
    "    args.item_col: [idm.get_item_id(0)],\n",
    "}\n",
    "sample_output = inferrer.infer([0], [[0, 1]], [[2, 0]], [train_item_features[0]], [0])\n",
    "sample_output"
   ]
  },
  {
   "cell_type": "code",
   "execution_count": 37,
   "id": "b24b5cf4-5e51-4641-bdfe-6ce289344bf6",
   "metadata": {},
   "outputs": [
    {
     "data": {
      "text/plain": [
       "{'user_id': ['AE225O22SA7DLBOGOEIFL7FT5VYQ'],\n",
       " 'item_sequence': ['0375869026,9625990674'],\n",
       " 'item_sequence_ts': ['1095133116,109770848'],\n",
       " 'main_category': ['Video Games'],\n",
       " 'categories': ['Video Games__Legacy Systems__PlayStation Systems__PlayStation 3__Accessories__Controllers'],\n",
       " 'price': ['49.99'],\n",
       " 'parent_asin_rating_cnt_365d': [76.0],\n",
       " 'parent_asin_rating_avg_prev_rating_365d': [4.592105263157895],\n",
       " 'parent_asin_rating_cnt_90d': [10.0],\n",
       " 'parent_asin_rating_avg_prev_rating_90d': [4.3],\n",
       " 'parent_asin_rating_cnt_30d': [3.0],\n",
       " 'parent_asin_rating_avg_prev_rating_30d': [5.0],\n",
       " 'parent_asin_rating_cnt_7d': [1.0],\n",
       " 'parent_asin_rating_avg_prev_rating_7d': [5.0],\n",
       " 'parent_asin': ['0375869026']}"
      ]
     },
     "execution_count": 37,
     "metadata": {},
     "output_type": "execute_result"
    }
   ],
   "source": [
    "sample_input"
   ]
  },
  {
   "cell_type": "code",
   "execution_count": 38,
   "id": "de2c043a-f777-4ade-ab80-cfa4d90aafa8",
   "metadata": {
    "scrolled": true
   },
   "outputs": [
    {
     "name": "stderr",
     "output_type": "stream",
     "text": [
      "/home/dvquys/frostmourne/recsys-mvp/.venv/lib/python3.11/site-packages/mlflow/models/utils.py:523: FutureWarning:\n",
      "\n",
      "Since MLflow 2.16.0, we no longer convert dictionary input example to pandas Dataframe, and directly save it as a json object. If the model expects a pandas DataFrame input instead, please pass the pandas DataFrame as input example directly.\n",
      "\n"
     ]
    },
    {
     "data": {
      "application/vnd.jupyter.widget-view+json": {
       "model_id": "c2e0495fad5d47f38c32f8873f26b7d8",
       "version_major": 2,
       "version_minor": 0
      },
      "text/plain": [
       "Downloading artifacts:   0%|          | 0/1 [00:00<?, ?it/s]"
      ]
     },
     "metadata": {},
     "output_type": "display_data"
    },
    {
     "data": {
      "application/vnd.jupyter.widget-view+json": {
       "model_id": "57353586cd654145a21dd70bf53b69d8",
       "version_major": 2,
       "version_minor": 0
      },
      "text/plain": [
       "Downloading artifacts:   0%|          | 0/1 [00:00<?, ?it/s]"
      ]
     },
     "metadata": {},
     "output_type": "display_data"
    },
    {
     "name": "stderr",
     "output_type": "stream",
     "text": [
      "Registered model 'ranker' already exists. Creating a new version of this model...\n",
      "2024/11/10 16:35:00 INFO mlflow.store.model_registry.abstract_store: Waiting up to 300 seconds for model version to finish creation. Model name: ranker, version 3\n",
      "Created version '3' of model 'ranker'.\n"
     ]
    },
    {
     "data": {
      "application/vnd.jupyter.widget-view+json": {
       "model_id": "263c97eacdf74637b4f03d52ce195f64",
       "version_major": 2,
       "version_minor": 0
      },
      "text/plain": [
       "Downloading artifacts:   0%|          | 0/9 [00:00<?, ?it/s]"
      ]
     },
     "metadata": {},
     "output_type": "display_data"
    },
    {
     "name": "stderr",
     "output_type": "stream",
     "text": [
      "2024/11/10 16:35:00 INFO mlflow.tracking._tracking_service.client: 🏃 View run 035-rerun-add-features-l9 at: http://localhost:5002/#/experiments/3/runs/53672526046b44969cae410b490d2857.\n",
      "2024/11/10 16:35:00 INFO mlflow.tracking._tracking_service.client: 🧪 View experiment at: http://localhost:5002/#/experiments/3.\n"
     ]
    }
   ],
   "source": [
    "if args.log_to_mlflow:\n",
    "    run_id = trainer.logger.run_id\n",
    "    sample_output_np = sample_output\n",
    "    signature = infer_signature(sample_input, sample_output_np)\n",
    "    idm_filename = idm_fp.split(\"/\")[-1]\n",
    "    item_metadata_pipeline_filename = args.item_metadata_pipeline_fp.split(\"/\")[-1]\n",
    "    with mlflow.start_run(run_id=run_id):\n",
    "        mlflow.pyfunc.log_model(\n",
    "            python_model=inferrer,\n",
    "            artifact_path=\"inferrer\",\n",
    "            artifacts={\n",
    "                # We log the id_mapping to the predict function so that it can accept item_id and automatically convert ot item_indice for PyTorch model to use\n",
    "                \"idm\": mlflow.get_artifact_uri(idm_filename),\n",
    "                \"item_metadata_pipeline\": mlflow.get_artifact_uri(\n",
    "                    item_metadata_pipeline_filename\n",
    "                ),\n",
    "            },\n",
    "            model_config={\"use_sbert_features\": args.rc.use_sbert_features},\n",
    "            signature=signature,\n",
    "            input_example=sample_input,\n",
    "            registered_model_name=args.mlf_model_name,\n",
    "        )"
   ]
  },
  {
   "cell_type": "markdown",
   "id": "f95d5150-9851-4e61-b1af-8e619abc9ea4",
   "metadata": {},
   "source": [
    "# Set the newly trained model as champion"
   ]
  },
  {
   "cell_type": "code",
   "execution_count": 39,
   "id": "cbf6428a-bc47-400a-99ac-666abfa4ce63",
   "metadata": {},
   "outputs": [
    {
     "name": "stderr",
     "output_type": "stream",
     "text": [
      "\u001b[32m2024-11-10 16:35:00.872\u001b[0m | \u001b[1mINFO    \u001b[0m | \u001b[36m__main__\u001b[0m:\u001b[36m<module>\u001b[0m:\u001b[36m7\u001b[0m - \u001b[1mAliasing the new model as champion...\u001b[0m\n"
     ]
    }
   ],
   "source": [
    "if args.log_to_mlflow:\n",
    "    val_roc_auc = trainer.logger.experiment.get_run(trainer.logger.run_id).data.metrics[\n",
    "        \"val_roc_auc\"\n",
    "    ]\n",
    "\n",
    "    if val_roc_auc > args.min_roc_auc:\n",
    "        logger.info(f\"Aliasing the new model as champion...\")\n",
    "        model_version = (\n",
    "            mlf_client.get_registered_model(args.mlf_model_name)\n",
    "            .latest_versions[0]\n",
    "            .version\n",
    "        )\n",
    "\n",
    "        mlf_client.set_registered_model_alias(\n",
    "            name=args.mlf_model_name, alias=\"champion\", version=model_version\n",
    "        )\n",
    "\n",
    "        mlf_client.set_model_version_tag(\n",
    "            name=args.mlf_model_name,\n",
    "            version=model_version,\n",
    "            key=\"author\",\n",
    "            value=args.author,\n",
    "        )"
   ]
  },
  {
   "cell_type": "markdown",
   "id": "32096360-c26a-42de-9564-30634fb76eeb",
   "metadata": {},
   "source": [
    "# Clean up"
   ]
  },
  {
   "cell_type": "code",
   "execution_count": 40,
   "id": "e98c6850-e4de-43fa-b132-0b97f138a0ed",
   "metadata": {
    "scrolled": true
   },
   "outputs": [
    {
     "name": "stderr",
     "output_type": "stream",
     "text": [
      "2024/11/10 16:35:00 INFO mlflow.tracking._tracking_service.client: 🏃 View run 035-rerun-add-features-l9 at: http://localhost:5002/#/experiments/3/runs/53672526046b44969cae410b490d2857.\n",
      "2024/11/10 16:35:00 INFO mlflow.tracking._tracking_service.client: 🧪 View experiment at: http://localhost:5002/#/experiments/3.\n"
     ]
    }
   ],
   "source": [
    "all_params = [args]\n",
    "\n",
    "if args.log_to_mlflow:\n",
    "    with mlflow.start_run(run_id=run_id):\n",
    "        for params in all_params:\n",
    "            params_dict = params.dict()\n",
    "            params_ = dict()\n",
    "            for k, v in params_dict.items():\n",
    "                if k == \"top_K\":\n",
    "                    k = \"top_big_K\"\n",
    "                if k == \"top_k\":\n",
    "                    k = \"top_small_k\"\n",
    "                params_[f\"{params.__repr_name__()}.{k}\"] = v\n",
    "            mlflow.log_params(params_)"
   ]
  },
  {
   "cell_type": "code",
   "execution_count": null,
   "id": "30cff81a-484e-4919-be8f-0351cce91a75",
   "metadata": {},
   "outputs": [],
   "source": []
  }
 ],
 "metadata": {
  "kernelspec": {
   "display_name": "Python 3 (ipykernel)",
   "language": "python",
   "name": "python3"
  },
  "language_info": {
   "codemirror_mode": {
    "name": "ipython",
    "version": 3
   },
   "file_extension": ".py",
   "mimetype": "text/x-python",
   "name": "python",
   "nbconvert_exporter": "python",
   "pygments_lexer": "ipython3",
   "version": "3.11.9"
  }
 },
 "nbformat": 4,
 "nbformat_minor": 5
}
