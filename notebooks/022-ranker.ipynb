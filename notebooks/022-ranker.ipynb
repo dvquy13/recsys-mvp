{
 "cells": [
  {
   "cell_type": "markdown",
   "id": "3bf1577c-6f3b-4b1c-a848-8f5e45ff8111",
   "metadata": {},
   "source": [
    "# Ranker that can takes into accound different features"
   ]
  },
  {
   "cell_type": "markdown",
   "id": "9309e017-0449-46ee-b7ca-4c4bcadeedf6",
   "metadata": {},
   "source": [
    "# Set up"
   ]
  },
  {
   "cell_type": "code",
   "execution_count": 1,
   "id": "3c8f6e8d-f776-4d39-898c-d783c5ae3407",
   "metadata": {},
   "outputs": [],
   "source": [
    "%load_ext autoreload\n",
    "%autoreload 2\n",
    "%load_ext tensorboard"
   ]
  },
  {
   "cell_type": "code",
   "execution_count": 2,
   "id": "35b3499d-dc9c-405a-8714-a26341b581e1",
   "metadata": {
    "editable": true,
    "slideshow": {
     "slide_type": ""
    },
    "tags": []
   },
   "outputs": [],
   "source": [
    "import os\n",
    "import sys\n",
    "from typing import List\n",
    "\n",
    "import dill\n",
    "import lightning as L\n",
    "import numpy as np\n",
    "import pandas as pd\n",
    "import torch\n",
    "from dotenv import load_dotenv\n",
    "from lightning.pytorch.callbacks import ModelCheckpoint\n",
    "from lightning.pytorch.callbacks.early_stopping import EarlyStopping\n",
    "from lightning.pytorch.loggers import MLFlowLogger\n",
    "from loguru import logger\n",
    "from mlflow.models.signature import infer_signature\n",
    "from pydantic import BaseModel\n",
    "from torch.utils.data import DataLoader\n",
    "\n",
    "import mlflow\n",
    "\n",
    "load_dotenv()\n",
    "\n",
    "sys.path.insert(0, \"..\")\n",
    "\n",
    "from src.ann import AnnIndex\n",
    "from src.data_prep_utils import chunk_transform\n",
    "from src.dataset import UserItemBinaryDFDataset\n",
    "from src.id_mapper import IDMapper\n",
    "from src.ranker.inference import RankerInferenceWrapper\n",
    "from src.ranker.model import Ranker\n",
    "from src.ranker.trainer import LitRanker\n",
    "from src.viz import blueq_colors"
   ]
  },
  {
   "cell_type": "markdown",
   "id": "fd804021-3424-48e0-973a-e662a72db544",
   "metadata": {},
   "source": [
    "# Controller"
   ]
  },
  {
   "cell_type": "code",
   "execution_count": 3,
   "id": "ce522d9e-f35c-4cc5-a71e-68447956b31f",
   "metadata": {
    "editable": true,
    "slideshow": {
     "slide_type": ""
    },
    "tags": [
     "parameters"
    ]
   },
   "outputs": [],
   "source": [
    "max_epochs = 100"
   ]
  },
  {
   "cell_type": "code",
   "execution_count": 4,
   "id": "ea4e9a93-5b6a-4dec-97f0-b9aa3383c64d",
   "metadata": {
    "scrolled": true
   },
   "outputs": [
    {
     "name": "stderr",
     "output_type": "stream",
     "text": [
      "\u001b[32m2024-10-28 02:35:28.873\u001b[0m | \u001b[1mINFO    \u001b[0m | \u001b[36m__main__\u001b[0m:\u001b[36minit\u001b[0m:\u001b[36m72\u001b[0m - \u001b[1mSetting up MLflow experiment RecSys MVP - Ranker - run 023-dropout-to-0.4...\u001b[0m\n"
     ]
    },
    {
     "name": "stdout",
     "output_type": "stream",
     "text": [
      "{\n",
      "  \"testing\": false,\n",
      "  \"log_to_mlflow\": true,\n",
      "  \"experiment_name\": \"RecSys MVP - Ranker\",\n",
      "  \"run_name\": \"023-dropout-to-0.4\",\n",
      "  \"notebook_persist_dp\": \"/Users/dvq/frostmourne/recsys-mvp/notebooks/data/023-dropout-to-0.4\",\n",
      "  \"random_seed\": 41,\n",
      "  \"device\": null,\n",
      "  \"use_sbert_features\": true,\n",
      "  \"item_metadata_pipeline_fp\": \"../data/item_metadata_pipeline.dill\",\n",
      "  \"qdrant_url\": \"localhost:6333\",\n",
      "  \"qdrant_collection_name\": \"item_desc_sbert\",\n",
      "  \"max_epochs\": 100,\n",
      "  \"batch_size\": 128,\n",
      "  \"tfm_chunk_size\": 10000,\n",
      "  \"neg_to_pos_ratio\": 1,\n",
      "  \"user_col\": \"user_id\",\n",
      "  \"item_col\": \"parent_asin\",\n",
      "  \"rating_col\": \"rating\",\n",
      "  \"timestamp_col\": \"timestamp\",\n",
      "  \"item_feature_cols\": [\n",
      "    \"main_category\",\n",
      "    \"categories\",\n",
      "    \"price\",\n",
      "    \"parent_asin_rating_cnt_365d\",\n",
      "    \"parent_asin_rating_avg_prev_rating_365d\",\n",
      "    \"parent_asin_rating_cnt_90d\",\n",
      "    \"parent_asin_rating_avg_prev_rating_90d\",\n",
      "    \"parent_asin_rating_cnt_30d\",\n",
      "    \"parent_asin_rating_avg_prev_rating_30d\",\n",
      "    \"parent_asin_rating_cnt_7d\",\n",
      "    \"parent_asin_rating_avg_prev_rating_7d\"\n",
      "  ],\n",
      "  \"top_K\": 100,\n",
      "  \"top_k\": 10,\n",
      "  \"embedding_dim\": 128,\n",
      "  \"dropout\": 0.3,\n",
      "  \"early_stopping_patience\": 5,\n",
      "  \"learning_rate\": 0.0003,\n",
      "  \"l2_reg\": 0.0003,\n",
      "  \"mlf_item2vec_model_name\": \"item2vec\",\n",
      "  \"mlf_model_name\": \"ranker\",\n",
      "  \"min_roc_auc\": 0.7,\n",
      "  \"best_checkpoint_path\": null\n",
      "}\n"
     ]
    }
   ],
   "source": [
    "class Args(BaseModel):\n",
    "    testing: bool = False\n",
    "    log_to_mlflow: bool = True\n",
    "    experiment_name: str = \"RecSys MVP - Ranker\"\n",
    "    run_name: str = \"024-l2-reg-to-0.0003\"\n",
    "    notebook_persist_dp: str = None\n",
    "    random_seed: int = 41\n",
    "    device: str = None\n",
    "\n",
    "    # Feature flagS\n",
    "    use_sbert_features: bool = True\n",
    "\n",
    "    item_metadata_pipeline_fp: str = \"../data/item_metadata_pipeline.dill\"\n",
    "    qdrant_url: str = None\n",
    "    qdrant_collection_name: str = \"item_desc_sbert\"\n",
    "\n",
    "    max_epochs: int = max_epochs\n",
    "    batch_size: int = 128\n",
    "    tfm_chunk_size: int = 10000\n",
    "    neg_to_pos_ratio: int = 1\n",
    "\n",
    "    user_col: str = \"user_id\"\n",
    "    item_col: str = \"parent_asin\"\n",
    "    rating_col: str = \"rating\"\n",
    "    timestamp_col: str = \"timestamp\"\n",
    "    item_feature_cols: List[str] = [\n",
    "        \"main_category\",\n",
    "        \"categories\",\n",
    "        \"price\",\n",
    "        \"parent_asin_rating_cnt_365d\",\n",
    "        \"parent_asin_rating_avg_prev_rating_365d\",\n",
    "        \"parent_asin_rating_cnt_90d\",\n",
    "        \"parent_asin_rating_avg_prev_rating_90d\",\n",
    "        \"parent_asin_rating_cnt_30d\",\n",
    "        \"parent_asin_rating_avg_prev_rating_30d\",\n",
    "        \"parent_asin_rating_cnt_7d\",\n",
    "        \"parent_asin_rating_avg_prev_rating_7d\",\n",
    "    ]\n",
    "\n",
    "    top_K: int = 100\n",
    "    top_k: int = 10\n",
    "\n",
    "    embedding_dim: int = 128\n",
    "    dropout: float = 0.3\n",
    "    early_stopping_patience: int = 5\n",
    "    learning_rate: float = 0.0003\n",
    "    l2_reg: float = 3e-4\n",
    "\n",
    "    mlf_item2vec_model_name: str = \"item2vec\"\n",
    "    mlf_model_name: str = \"ranker\"\n",
    "    min_roc_auc: float = 0.7\n",
    "\n",
    "    best_checkpoint_path: str = None\n",
    "\n",
    "    def init(self):\n",
    "        self.notebook_persist_dp = os.path.abspath(f\"data/{self.run_name}\")\n",
    "        os.makedirs(self.notebook_persist_dp, exist_ok=True)\n",
    "\n",
    "        if not (qdrant_host := os.getenv(\"QDRANT_HOST\")):\n",
    "            raise Exception(f\"Environment variable QDRANT_HOST is not set.\")\n",
    "\n",
    "        qdrant_port = os.getenv(\"QDRANT_PORT\")\n",
    "        self.qdrant_url = f\"{qdrant_host}:{qdrant_port}\"\n",
    "\n",
    "        if not (mlflow_uri := os.environ.get(\"MLFLOW_TRACKING_URI\")):\n",
    "            logger.warning(\n",
    "                f\"Environment variable MLFLOW_TRACKING_URI is not set. Setting self.log_to_mlflow to false.\"\n",
    "            )\n",
    "            self.log_to_mlflow = False\n",
    "\n",
    "        if self.log_to_mlflow:\n",
    "            logger.info(\n",
    "                f\"Setting up MLflow experiment {self.experiment_name} - run {self.run_name}...\"\n",
    "            )\n",
    "            self._mlf_logger = MLFlowLogger(\n",
    "                experiment_name=self.experiment_name,\n",
    "                run_name=self.run_name,\n",
    "                tracking_uri=mlflow_uri,\n",
    "                log_model=True,\n",
    "            )\n",
    "\n",
    "        return self\n",
    "\n",
    "\n",
    "args = Args().init()\n",
    "\n",
    "print(args.model_dump_json(indent=2))"
   ]
  },
  {
   "cell_type": "markdown",
   "id": "a5acedcb-89e6-41c6-8969-bf3437fc7898",
   "metadata": {},
   "source": [
    "# Implement"
   ]
  },
  {
   "cell_type": "code",
   "execution_count": 5,
   "id": "5a34cb5b-c7db-4b95-952b-5f4cb2e1a04d",
   "metadata": {},
   "outputs": [],
   "source": [
    "def init_model(\n",
    "    n_users, n_items, embedding_dim, item_feature_size, dropout, item_embedding=None\n",
    "):\n",
    "    model = Ranker(\n",
    "        n_users,\n",
    "        n_items,\n",
    "        embedding_dim,\n",
    "        item_feature_size=item_feature_size,\n",
    "        dropout=dropout,\n",
    "        item_embedding=item_embedding,\n",
    "    )\n",
    "    return model"
   ]
  },
  {
   "cell_type": "markdown",
   "id": "c49b92fb-3b4c-482f-a584-62288873d8c3",
   "metadata": {},
   "source": [
    "## Load pretrained Item2Vec embeddings"
   ]
  },
  {
   "cell_type": "code",
   "execution_count": 6,
   "id": "35cfc84a-75bb-4973-b619-194cc8698ee2",
   "metadata": {
    "scrolled": true
   },
   "outputs": [
    {
     "data": {
      "application/vnd.jupyter.widget-view+json": {
       "model_id": "ce920f6cee9a4864a43c8c6721a354fc",
       "version_major": 2,
       "version_minor": 0
      },
      "text/plain": [
       "Downloading artifacts:   0%|          | 0/8 [00:00<?, ?it/s]"
      ]
     },
     "metadata": {},
     "output_type": "display_data"
    }
   ],
   "source": [
    "mlf_client = mlflow.MlflowClient()\n",
    "model = mlflow.pyfunc.load_model(\n",
    "    model_uri=f\"models:/{args.mlf_item2vec_model_name}@champion\"\n",
    ")\n",
    "skipgram_model = model.unwrap_python_model().model\n",
    "embedding_0 = skipgram_model.embeddings(torch.tensor(0))\n",
    "embedding_dim = embedding_0.size()[0]\n",
    "id_mapping = model.unwrap_python_model().id_mapping\n",
    "pretrained_item_embedding = skipgram_model.embeddings"
   ]
  },
  {
   "cell_type": "code",
   "execution_count": 7,
   "id": "f3baa82d-859d-4414-8e19-4c7d92750fa3",
   "metadata": {},
   "outputs": [],
   "source": [
    "assert (\n",
    "    pretrained_item_embedding.embedding_dim == args.embedding_dim\n",
    "), \"Mismatch pretrained item_embedding dimension\""
   ]
  },
  {
   "cell_type": "markdown",
   "id": "a43bc0b9-9d56-4cb2-b821-61dd9b9858b1",
   "metadata": {},
   "source": [
    "## Load vectorized item features"
   ]
  },
  {
   "cell_type": "code",
   "execution_count": 8,
   "id": "8ff750e3-fa06-42b4-a5c3-9b93d3c2b536",
   "metadata": {},
   "outputs": [],
   "source": [
    "with open(args.item_metadata_pipeline_fp, \"rb\") as f:\n",
    "    item_metadata_pipeline = dill.load(f)"
   ]
  },
  {
   "cell_type": "markdown",
   "id": "58607871-619d-46a0-9f7d-405e8f500462",
   "metadata": {},
   "source": [
    "## Load ANN Index"
   ]
  },
  {
   "cell_type": "code",
   "execution_count": 9,
   "id": "6e3a82c4-247e-4402-a87b-198c698be866",
   "metadata": {},
   "outputs": [],
   "source": [
    "ann_index = AnnIndex(args.qdrant_url, args.qdrant_collection_name)"
   ]
  },
  {
   "cell_type": "code",
   "execution_count": 10,
   "id": "e1da3414-17d8-4ee9-9c33-93f8c2a0d478",
   "metadata": {},
   "outputs": [
    {
     "data": {
      "application/vnd.jupyter.widget-view+json": {
       "model_id": "3235b980f1344a4ab52985001d17e78d",
       "version_major": 2,
       "version_minor": 0
      },
      "text/plain": [
       "  0%|          | 0/1 [00:00<?, ?it/s]"
      ]
     },
     "metadata": {},
     "output_type": "display_data"
    }
   ],
   "source": [
    "vector = ann_index.get_vector_by_ids([0])[0]\n",
    "embedding_dim = vector.shape[0]"
   ]
  },
  {
   "cell_type": "code",
   "execution_count": 11,
   "id": "830d8094-ca35-4662-88b8-ee9a9aa7530a",
   "metadata": {
    "scrolled": true
   },
   "outputs": [
    {
     "data": {
      "application/vnd.jupyter.widget-view+json": {
       "model_id": "73bd284ff24243c0b50bb3251c92d258",
       "version_major": 2,
       "version_minor": 0
      },
      "text/plain": [
       "  0%|          | 0/1 [00:00<?, ?it/s]"
      ]
     },
     "metadata": {},
     "output_type": "display_data"
    },
    {
     "data": {
      "text/plain": [
       "[ScoredPoint(id=0, version=0, score=1.0, payload={'parent_asin': '0375869026', 'title': 'Wonder'}, vector=None, shard_key=None, order_value=None),\n",
       " ScoredPoint(id=1916, version=59, score=0.9272537, payload={'parent_asin': 'B005GFPZYK', 'title': 'American Sniper: The Autobiography of the Most Lethal Sniper in U.S. Military History'}, vector=None, shard_key=None, order_value=None),\n",
       " ScoredPoint(id=1968, version=61, score=0.9080587, payload={'parent_asin': 'B005ZBO4VA', 'title': 'Tekken Hybrid - Playstation 3'}, vector=None, shard_key=None, order_value=None),\n",
       " ScoredPoint(id=166, version=5, score=0.899632, payload={'parent_asin': 'B00005OARM', 'title': 'Golden Sun'}, vector=None, shard_key=None, order_value=None),\n",
       " ScoredPoint(id=3896, version=121, score=0.89472985, payload={'parent_asin': 'B07CD6F5PX', 'title': 'Dragon Quest Xi: Echoes of An Elusive Age - PlayStation 4'}, vector=None, shard_key=None, order_value=None)]"
      ]
     },
     "execution_count": 11,
     "metadata": {},
     "output_type": "execute_result"
    }
   ],
   "source": [
    "sbert_embedding_dim = vector.shape[0]\n",
    "neighbors = ann_index.get_neighbors_by_ids([0])\n",
    "neighbors"
   ]
  },
  {
   "cell_type": "markdown",
   "id": "377a71da-1ee3-474c-b3f4-4488d2a45dd3",
   "metadata": {},
   "source": [
    "# Test implementation"
   ]
  },
  {
   "cell_type": "code",
   "execution_count": 12,
   "id": "2806284e-20cd-4e8f-a1b9-34483ca094a2",
   "metadata": {
    "scrolled": true
   },
   "outputs": [
    {
     "data": {
      "application/vnd.jupyter.widget-view+json": {
       "model_id": "29369f86c0f446b093084fa3f469a764",
       "version_major": 2,
       "version_minor": 0
      },
      "text/plain": [
       "  0%|          | 0/1 [00:00<?, ?it/s]"
      ]
     },
     "metadata": {},
     "output_type": "display_data"
    },
    {
     "name": "stdout",
     "output_type": "stream",
     "text": [
      "tensor([[0.5879],\n",
      "        [0.5949],\n",
      "        [0.5327],\n",
      "        [0.5072],\n",
      "        [0.5267]], grad_fn=<SigmoidBackward0>)\n"
     ]
    }
   ],
   "source": [
    "embedding_dim = 8\n",
    "batch_size = 2\n",
    "\n",
    "# Mock data\n",
    "user_indices = [0, 0, 1, 2, 2]\n",
    "item_indices = [0, 1, 2, 3, 4]\n",
    "timestamps = [0, 1, 2, 3, 4]\n",
    "ratings = [0, 4, 5, 3, 0]\n",
    "item_sequences = [\n",
    "    [-1, -1, 2, 3],\n",
    "    [-1, -1, 2, 3],\n",
    "    [-1, -1, 1, 3],\n",
    "    [-1, -1, 2, 1],\n",
    "    [-1, -1, 2, 1],\n",
    "]\n",
    "main_category = [\n",
    "    \"All Electronics\",\n",
    "    \"Video Games\",\n",
    "    \"All Electronics\",\n",
    "    \"Video Games\",\n",
    "    \"Unknown\",\n",
    "]\n",
    "categories = [[], [\"Headsets\"], [\"Video Games\"], [], [\"blah blah\"]]\n",
    "title = [\"World of Warcraft\", \"DotA 2\", \"Diablo IV\", \"Football Manager 2024\", \"Unknown\"]\n",
    "description = [[], [], [\"Video games blah blah\"], [], [\"blah blah\"]]\n",
    "price = [\"from 14.99\", \"14.99\", \"price: 9.99\", \"20 dollars\", \"None\"]\n",
    "parent_asin_rating_cnt_365d = [0, 1, 2, 3, 4]\n",
    "parent_asin_rating_avg_prev_rating_365d = [4.0, 3.5, 4.5, 5.0, 2.0]\n",
    "parent_asin_rating_cnt_90d = [0, 1, 2, 3, 4]\n",
    "parent_asin_rating_avg_prev_rating_90d = [4.0, 3.5, 4.5, 5.0, 2.0]\n",
    "parent_asin_rating_cnt_30d = [0, 1, 2, 3, 4]\n",
    "parent_asin_rating_avg_prev_rating_30d = [4.0, 3.5, 4.5, 5.0, 2.0]\n",
    "parent_asin_rating_cnt_7d = [0, 1, 2, 3, 4]\n",
    "parent_asin_rating_avg_prev_rating_7d = [4.0, 3.5, 4.5, 5.0, 2.0]\n",
    "\n",
    "train_df = pd.DataFrame(\n",
    "    {\n",
    "        \"user_indice\": user_indices,\n",
    "        \"item_indice\": item_indices,\n",
    "        args.timestamp_col: timestamps,\n",
    "        args.rating_col: ratings,\n",
    "        \"item_sequence\": item_sequences,\n",
    "        \"main_category\": main_category,\n",
    "        \"title\": title,\n",
    "        \"description\": description,\n",
    "        \"categories\": categories,\n",
    "        \"price\": price,\n",
    "        \"parent_asin_rating_cnt_365d\": parent_asin_rating_cnt_365d,\n",
    "        \"parent_asin_rating_avg_prev_rating_365d\": parent_asin_rating_avg_prev_rating_365d,\n",
    "        \"parent_asin_rating_cnt_90d\": parent_asin_rating_cnt_90d,\n",
    "        \"parent_asin_rating_avg_prev_rating_90d\": parent_asin_rating_avg_prev_rating_90d,\n",
    "        \"parent_asin_rating_cnt_30d\": parent_asin_rating_cnt_30d,\n",
    "        \"parent_asin_rating_avg_prev_rating_30d\": parent_asin_rating_avg_prev_rating_30d,\n",
    "        \"parent_asin_rating_cnt_7d\": parent_asin_rating_cnt_7d,\n",
    "        \"parent_asin_rating_avg_prev_rating_7d\": parent_asin_rating_avg_prev_rating_7d,\n",
    "    }\n",
    ")\n",
    "train_item_features = item_metadata_pipeline.transform(train_df).astype(np.float32)\n",
    "if args.use_sbert_features:\n",
    "    sbert_vectors = ann_index.get_vector_by_ids(\n",
    "        train_df[\"item_indice\"].values.tolist()\n",
    "    ).astype(np.float32)\n",
    "    train_item_features = np.hstack([train_item_features, sbert_vectors])\n",
    "\n",
    "n_users = len(set(user_indices))\n",
    "n_items = len(set(item_indices))\n",
    "item_feature_size = train_item_features.shape[1]\n",
    "\n",
    "model = init_model(n_users, n_items, embedding_dim, item_feature_size, args.dropout)\n",
    "\n",
    "# Example forward pass\n",
    "model.eval()\n",
    "users = torch.tensor(user_indices)\n",
    "items = torch.tensor(item_indices)\n",
    "item_sequences = torch.tensor(item_sequences)\n",
    "item_features = torch.tensor(train_item_features)\n",
    "predictions = model.predict(users, item_sequences, item_features, items)\n",
    "print(predictions)"
   ]
  },
  {
   "cell_type": "code",
   "execution_count": 13,
   "id": "0c0b1fea-0376-4624-ad8a-d000208a97f5",
   "metadata": {
    "scrolled": true
   },
   "outputs": [],
   "source": [
    "rating_dataset = UserItemBinaryDFDataset(\n",
    "    train_df,\n",
    "    \"user_indice\",\n",
    "    \"item_indice\",\n",
    "    args.rating_col,\n",
    "    args.timestamp_col,\n",
    "    item_feature=train_item_features,\n",
    ")\n",
    "\n",
    "train_loader = DataLoader(rating_dataset, batch_size=batch_size, shuffle=False)"
   ]
  },
  {
   "cell_type": "code",
   "execution_count": 14,
   "id": "2e82d3d1-826a-409b-8440-46e0bd924269",
   "metadata": {
    "scrolled": true
   },
   "outputs": [
    {
     "name": "stdout",
     "output_type": "stream",
     "text": [
      "{'user': tensor([0, 0]), 'item': tensor([0, 1]), 'rating': tensor([0., 1.]), 'item_sequence': tensor([[-1, -1,  2,  3],\n",
      "        [-1, -1,  2,  3]]), 'item_feature': tensor([[-1.4698e-02,  5.6424e+00, -1.4698e-02,  ...,  2.9136e-02,\n",
      "         -3.0617e-02,  1.4856e-03],\n",
      "        [-1.4698e-02, -1.7723e-01, -1.4698e-02,  ..., -2.6627e-03,\n",
      "         -3.4459e-02,  1.1402e-02]])}\n",
      "{'user': tensor([1, 2]), 'item': tensor([2, 3]), 'rating': tensor([1., 1.]), 'item_sequence': tensor([[-1, -1,  1,  3],\n",
      "        [-1, -1,  2,  1]]), 'item_feature': tensor([[-1.4698e-02,  5.6424e+00, -1.4698e-02,  ...,  2.4071e-03,\n",
      "         -4.1083e-02,  4.6736e-04],\n",
      "        [-1.4698e-02, -1.7723e-01, -1.4698e-02,  ..., -5.8320e-03,\n",
      "         -6.7804e-02,  4.7192e-03]])}\n",
      "{'user': tensor([2]), 'item': tensor([4]), 'rating': tensor([0.]), 'item_sequence': tensor([[-1, -1,  2,  1]]), 'item_feature': tensor([[-1.4698e-02, -1.7723e-01, -1.4698e-02, -2.5463e-02, -1.4698e-02,\n",
      "         -1.4698e-02, -2.0788e-02, -8.2101e-02, -2.8729e-01, -1.4698e-02,\n",
      "         -3.8912e-02, -2.9405e-02, -2.5463e-02, -1.4698e-02, -1.4698e-02,\n",
      "         -3.8912e-02, -2.0788e-02, -3.8912e-02, -5.0976e-02, -2.4504e+00,\n",
      "         -1.3428e-01, -1.4000e-01, -6.1013e-01, -8.2101e-02, -7.9391e-02,\n",
      "         -2.0788e-02, -1.4698e-02, -1.4698e-02, -5.0976e-02, -1.3260e-01,\n",
      "         -2.5463e-02, -1.4698e-02, -9.0968e-02, -1.3593e-01, -1.4698e-02,\n",
      "         -1.4858e-01, -1.0448e-01, -1.4698e-02, -1.4698e-02, -2.0573e-01,\n",
      "         -2.2601e-01, -2.9405e-02, -2.0788e-02, -1.4698e-02, -2.0788e-02,\n",
      "         -1.4698e-02, -2.9405e-02, -7.3681e-02, -2.0788e-02, -2.0788e-02,\n",
      "         -1.4698e-02, -1.0342e-01, -2.0788e-02, -2.0788e-02, -3.8912e-02,\n",
      "         -1.0342e-01, -5.5072e-02, -1.2479e-01, -6.7500e-02, -1.2390e-01,\n",
      "         -1.6381e-01, -1.1327e+00, -2.0788e-02, -2.0788e-02, -1.3005e-01,\n",
      "         -1.3593e-01, -3.2880e-02, -1.4698e-02, -1.4698e-02, -2.0788e-02,\n",
      "         -1.4698e-02, -2.0788e-02, -4.6524e-02, -1.8361e-01, -9.0968e-02,\n",
      "         -2.5463e-02, -2.0788e-02, -3.8912e-02, -1.1646e+00, -6.9096e-02,\n",
      "         -5.5072e-02, -1.4698e-02, -4.1604e-02, -2.0788e-02, -6.4192e-02,\n",
      "         -3.2880e-02, -2.4392e-01, -8.2101e-02, -1.8298e-01, -2.0788e-02,\n",
      "         -9.2168e-02, -2.4342e-01, -5.5123e-01, -2.0788e-02, -7.0657e-02,\n",
      "         -4.0989e-01, -2.0788e-02, -1.2025e-01, -2.2495e-01, -3.4599e-01,\n",
      "         -3.2243e-01, -5.0976e-02, -6.7500e-02, -3.6022e-02, -5.1850e-01,\n",
      "         -1.5454e-01, -3.6022e-02, -2.5463e-02, -3.6022e-02, -1.4698e-02,\n",
      "         -5.3063e-02, -6.2473e-02, -2.0788e-02, -6.9096e-02, -5.0976e-02,\n",
      "         -6.0706e-02, -2.5463e-02, -8.3424e-02, -2.5463e-02, -1.4698e-02,\n",
      "         -2.9405e-02, -1.2025e-01, -1.4698e-02, -1.4698e-02, -5.5072e-02,\n",
      "         -3.2880e-02, -2.0788e-02, -4.1604e-02, -7.8002e-02, -1.4698e-02,\n",
      "         -2.9405e-02, -2.9405e-02, -5.0976e-02, -1.4698e-02, -1.4698e-02,\n",
      "         -3.8912e-02, -3.2880e-02, -7.1024e+00, -2.0788e-02, -2.5463e-02,\n",
      "         -2.5463e-02, -4.6524e-02, -2.5226e-01, -1.7064e-01, -1.3260e-01,\n",
      "         -3.3652e-01, -2.0788e-02, -2.0788e-02, -5.7011e-02, -2.8861e-01,\n",
      "         -2.0788e-02, -3.7131e-01, -5.4576e-01, -2.5171e-01, -1.0098e+00,\n",
      "          1.0291e-01, -3.4294e-01,  6.0107e-01,  1.1057e-01,  2.1350e+00,\n",
      "          6.9604e-01,  7.5715e-02, -4.6161e-03, -1.5269e-02,  3.8053e-02,\n",
      "         -2.3299e-02,  5.7419e-02,  2.5593e-02,  2.1740e-02, -6.4849e-02,\n",
      "         -1.7549e-02,  6.8395e-02,  2.0439e-02,  4.0812e-02,  4.7897e-02,\n",
      "         -3.6109e-02, -2.6392e-02, -4.0185e-03,  3.9914e-02,  2.4084e-02,\n",
      "          1.2538e-02,  5.7376e-03,  1.9585e-02,  8.4433e-03, -2.4690e-03,\n",
      "         -5.7521e-02, -1.5012e-02,  4.2342e-02, -1.4003e-02,  2.0713e-02,\n",
      "         -7.1049e-02,  1.1656e-01, -1.3337e-03,  1.6859e-02, -6.7175e-02,\n",
      "          2.0744e-06, -1.4271e-02, -1.4323e-02, -5.6075e-02,  4.9546e-02,\n",
      "          2.2933e-02,  9.9544e-02,  4.5003e-02,  1.5461e-03,  5.0704e-02,\n",
      "          1.3058e-03,  3.1526e-03,  1.1272e-02,  9.4165e-02, -2.2274e-02,\n",
      "          3.5424e-02, -3.0866e-03, -5.0897e-02, -1.8888e-02, -1.6887e-02,\n",
      "          5.4440e-02, -1.6536e-04, -2.2146e-02,  8.5262e-03,  3.6558e-02,\n",
      "          9.6281e-03,  3.0743e-02,  4.3088e-02, -1.5789e-02,  3.4581e-02,\n",
      "          3.2910e-02,  5.1553e-03,  8.2479e-03, -3.0601e-02, -3.0029e-02,\n",
      "          5.8143e-03,  6.6892e-02,  2.4034e-03,  5.3373e-02,  4.0460e-02,\n",
      "         -1.0390e-03,  1.2609e-02, -1.0694e-02,  2.5048e-02, -4.7949e-02,\n",
      "         -5.8694e-02, -5.5110e-03,  3.3986e-02, -5.5934e-02, -2.0900e-02,\n",
      "         -1.3253e-02,  3.4936e-02, -1.2412e-02,  6.6091e-03, -5.0719e-02,\n",
      "         -4.3078e-02,  3.6049e-02, -2.6913e-02,  5.2341e-03,  2.6643e-03,\n",
      "          1.4760e-02, -6.3985e-03,  5.6047e-03, -1.9785e-02,  4.5963e-02,\n",
      "         -7.7106e-02,  4.5244e-02,  2.2026e-02,  3.6781e-02,  1.1312e-02,\n",
      "          3.3661e-02, -1.2496e-02,  1.7572e-02, -6.2375e-02, -9.9547e-02,\n",
      "          8.4594e-02, -1.7330e-02, -2.4848e-02, -4.3452e-02,  5.5755e-02,\n",
      "          5.5508e-03, -4.4299e-02,  3.7485e-02, -1.5096e-02,  9.7620e-03,\n",
      "          4.9287e-02, -6.5761e-02,  3.2940e-02, -1.2531e-03, -4.4056e-03,\n",
      "         -1.9769e-03, -1.7478e-02, -7.9565e-02, -1.5276e-03,  7.2608e-03,\n",
      "         -2.6265e-03, -2.8016e-03,  4.1893e-02,  1.3515e-02, -1.7897e-02,\n",
      "          2.0836e-02,  8.0222e-03,  6.3291e-03, -1.3731e-02, -2.2514e-02,\n",
      "          1.3009e-02, -3.3059e-03, -7.9497e-04,  2.0801e-03, -1.4717e-02,\n",
      "         -4.8473e-02,  9.9016e-03,  6.1061e-02,  1.3917e-02,  5.1762e-04,\n",
      "          4.7886e-02, -8.3232e-03,  5.4284e-03,  2.7991e-02,  1.7424e-02,\n",
      "          9.6380e-03,  2.7342e-02,  7.8520e-02, -1.7814e-02, -4.1979e-02,\n",
      "          3.4136e-02,  3.7147e-02,  2.6723e-02,  1.5409e-02,  1.9929e-02,\n",
      "         -4.3947e-02, -2.1015e-02,  2.3780e-02,  8.2941e-03,  6.9720e-03,\n",
      "          3.2066e-02, -6.1773e-02,  8.3986e-03, -1.5622e-03,  8.0626e-02,\n",
      "          4.1115e-02,  1.2461e-01, -7.7894e-02,  3.6751e-02, -6.1610e-02,\n",
      "          4.7277e-02, -7.2630e-02, -5.2448e-02,  1.1594e-02, -2.4043e-02,\n",
      "         -2.3606e-02,  1.1522e-02, -3.1967e-04, -9.2529e-03, -5.2625e-02,\n",
      "         -2.1969e-02, -3.2771e-02, -2.3471e-02,  7.5352e-03, -7.9524e-03,\n",
      "         -7.2963e-03,  5.7087e-03, -3.8683e-02, -4.5094e-02, -1.4574e-02,\n",
      "         -2.8933e-02, -3.1188e-02,  6.1013e-03,  1.2048e-01,  2.8896e-02,\n",
      "          8.5511e-03,  1.1537e-02, -7.6888e-03, -1.4524e-02, -2.2125e-02,\n",
      "          6.7003e-02, -3.7697e-02,  1.6171e-02, -4.0855e-02, -2.1793e-02,\n",
      "         -3.1703e-02, -5.9162e-02,  3.9408e-02,  5.2716e-02, -7.4654e-02,\n",
      "          3.9511e-02,  2.4511e-02,  8.4605e-02,  4.9272e-03,  3.9826e-03,\n",
      "          2.4931e-02, -2.1383e-02, -6.1369e-03, -6.8717e-03,  1.8248e-02,\n",
      "          1.0065e-03,  8.8258e-03, -1.2214e-02, -1.0665e-02, -3.5196e-02,\n",
      "         -4.2511e-02,  3.8686e-02, -2.1275e-02,  3.8772e-02,  1.7231e-02,\n",
      "         -9.8903e-02, -4.4786e-02,  1.6568e-02, -6.1911e-03,  3.6589e-02,\n",
      "          1.3175e-02, -3.0903e-02, -2.4281e-02, -4.5093e-03, -1.5745e-02,\n",
      "          1.5035e-02, -2.9338e-02,  1.3482e-02,  3.2382e-02,  3.1845e-02,\n",
      "         -7.7426e-03, -1.3478e-02, -9.2945e-02,  9.2460e-02, -5.7930e-02,\n",
      "          4.6581e-02,  1.8488e-02, -4.2096e-02, -4.6806e-03, -1.4264e-04,\n",
      "         -9.5069e-03, -2.6629e-02,  5.5462e-02, -1.1594e-03, -2.6292e-02,\n",
      "         -4.4903e-02, -2.7719e-02,  8.7153e-03, -6.9664e-03, -2.6706e-02,\n",
      "          3.1312e-02, -1.6897e-02, -2.1880e-02,  1.6658e-02, -1.3453e-03,\n",
      "          1.9304e-02,  1.5657e-02,  2.6067e-02,  7.5686e-03,  2.4592e-02,\n",
      "         -9.5058e-03,  4.3887e-02,  4.2317e-02, -4.7794e-02, -1.0315e-01,\n",
      "          1.0656e-02, -2.6518e-02, -2.9969e-02,  3.7830e-02, -2.5686e-02,\n",
      "         -2.2566e-02, -1.1897e-02,  4.3808e-02,  6.3308e-02,  3.0515e-02,\n",
      "         -1.3322e-02,  1.2377e-03, -4.3084e-02, -5.0095e-03, -1.8045e-03,\n",
      "         -2.9295e-02, -1.4755e-02, -1.8366e-03, -1.9179e-02,  4.7919e-02,\n",
      "          2.2350e-02,  1.8053e-02,  1.5569e-02,  4.9606e-03, -1.5814e-02,\n",
      "         -1.3711e-02,  2.6647e-02, -6.1272e-02, -8.0708e-02,  7.1945e-03,\n",
      "          5.6973e-02,  1.0905e-02,  1.3342e-02,  2.6163e-02,  5.3175e-02,\n",
      "          1.4680e-02, -8.2224e-02, -2.9190e-02,  2.3323e-02,  5.3939e-02,\n",
      "         -2.3870e-02, -1.6934e-04,  4.9466e-02, -3.1782e-02,  3.9752e-02,\n",
      "          2.1350e-02,  5.4134e-02, -1.1413e-03, -8.7196e-03, -4.9597e-02,\n",
      "          3.1963e-02,  5.5016e-03, -6.2774e-02,  1.4248e-03, -3.9061e-02,\n",
      "          5.2819e-03, -6.6604e-02,  1.9314e-02,  2.1509e-02, -9.7290e-02,\n",
      "         -2.4174e-02,  1.6930e-03,  2.5058e-02, -4.5586e-03,  1.0194e-02,\n",
      "         -2.4247e-03,  3.0942e-02,  3.3571e-02, -5.6624e-02, -3.9844e-02,\n",
      "         -2.9383e-02, -2.9831e-02, -9.2675e-03, -2.6769e-02,  3.8028e-04,\n",
      "         -5.3381e-03,  5.6800e-02,  2.1475e-02,  1.8217e-02, -5.5606e-03,\n",
      "         -1.5390e-02, -5.7592e-03,  4.3166e-02, -1.7414e-02,  3.8463e-02,\n",
      "          1.0190e-02,  2.0197e-02,  1.1563e-02, -1.1332e-02,  5.6282e-03,\n",
      "         -3.9181e-02,  2.1738e-02, -1.4587e-02,  5.7970e-02,  9.7581e-03,\n",
      "          1.1963e-02,  1.9198e-02, -7.2442e-03, -3.5462e-02, -3.5950e-02,\n",
      "         -1.3574e-02,  3.8570e-03,  5.2438e-03, -5.7766e-02,  2.0866e-02,\n",
      "         -4.6500e-02, -1.5478e-02,  5.6302e-03, -7.0128e-03, -3.9635e-02,\n",
      "          2.0551e-02,  5.3734e-03, -2.0971e-03,  1.1445e-02,  3.0348e-03,\n",
      "          1.6971e-02, -1.4268e-02,  1.9317e-02, -3.8290e-03, -1.5153e-02,\n",
      "          8.9714e-03,  1.7493e-03, -8.2504e-02, -5.2352e-03,  2.3974e-02,\n",
      "          5.1225e-02, -7.3400e-02, -1.0920e-02,  3.8125e-02,  1.8714e-02,\n",
      "          4.3260e-03,  2.2281e-02,  6.7504e-02, -5.1080e-03,  3.6047e-02,\n",
      "          2.7759e-02,  4.4004e-03,  4.0511e-02,  2.3323e-02,  2.4594e-02,\n",
      "         -3.3403e-02, -4.5130e-03,  2.9866e-02, -3.8404e-02,  3.3209e-02,\n",
      "         -2.3859e-03, -1.7533e-02, -7.2437e-02, -5.5872e-02,  2.4078e-02,\n",
      "         -4.7535e-02, -1.8038e-02, -1.8778e-03,  3.1606e-02,  6.1154e-02,\n",
      "          6.7131e-03, -3.4797e-02,  3.2595e-02, -6.5233e-02,  1.9048e-02,\n",
      "         -1.9273e-03, -2.9737e-02,  1.5266e-02,  2.3787e-02,  2.5987e-02,\n",
      "         -7.4944e-03, -3.1730e-02,  2.4182e-02, -1.8789e-02, -2.3583e-02,\n",
      "         -5.6364e-03,  2.0067e-02,  2.3196e-02, -2.0090e-02,  1.1153e-02,\n",
      "          1.0417e-02,  8.5703e-05,  5.7704e-02, -4.8729e-02,  6.6392e-03,\n",
      "         -1.3908e-02,  4.8094e-02,  4.2859e-03, -4.9307e-03,  2.9741e-02,\n",
      "          3.6225e-02, -3.5582e-02, -2.7963e-02, -7.6976e-02,  3.0130e-02,\n",
      "          2.0099e-02, -9.9119e-04,  9.0620e-03, -3.9946e-04, -3.4694e-02,\n",
      "         -2.6614e-02,  3.2547e-03,  4.4917e-02, -2.8609e-02, -2.3389e-02,\n",
      "          1.2721e-02,  5.4141e-03, -7.9543e-02, -3.7312e-02, -1.5906e-02,\n",
      "         -4.0992e-02,  6.5320e-02, -1.7026e-02, -1.3720e-02, -1.6174e-02,\n",
      "          3.7946e-05, -4.5999e-02, -1.9081e-02,  2.0729e-02,  3.2781e-02,\n",
      "         -2.6120e-03,  4.4678e-02,  1.8846e-02, -7.0091e-03,  4.7943e-02,\n",
      "         -4.6618e-02,  2.4981e-03,  1.0206e-02,  5.3008e-03, -2.3189e-02,\n",
      "          1.2869e-02,  1.6621e-02, -3.3212e-02, -1.0581e-01, -1.4324e-02,\n",
      "          3.3236e-02, -4.9439e-04, -1.6647e-02,  1.0262e-03, -3.5107e-02,\n",
      "         -4.1481e-02,  3.0293e-02,  1.0877e-02,  4.4518e-03,  4.3299e-03,\n",
      "          7.9249e-04, -4.7994e-02, -9.9684e-04,  5.0401e-02,  2.4706e-02,\n",
      "         -5.3808e-02,  5.4390e-02,  6.9895e-02, -4.5015e-02, -6.7011e-03,\n",
      "         -1.6134e-02, -4.4041e-02, -6.2139e-03,  4.2641e-02,  1.5649e-02,\n",
      "          9.6276e-02,  3.8065e-02,  1.2537e-02,  7.7806e-03,  7.3429e-03,\n",
      "         -3.6767e-02,  9.8656e-03,  1.3896e-02, -9.3714e-02,  4.3539e-02,\n",
      "         -2.0612e-03, -7.5520e-33, -1.1978e-02, -5.8178e-02, -2.5336e-02,\n",
      "          2.7700e-02, -4.1885e-02,  2.6305e-02, -2.6163e-02,  3.3707e-02,\n",
      "          2.3010e-03,  2.5629e-03, -1.5603e-02,  2.9035e-02,  2.6207e-02,\n",
      "          3.2126e-02,  4.2085e-02, -3.9038e-02,  9.8261e-03,  1.5445e-03,\n",
      "          2.1822e-02, -2.6830e-02,  1.1930e-02,  1.3803e-02,  3.9251e-02,\n",
      "         -8.7148e-02,  1.0123e-02, -7.4839e-02, -2.4491e-02, -2.6371e-02,\n",
      "          2.8130e-02, -2.4629e-02, -2.6075e-02, -6.4380e-02,  3.6584e-03,\n",
      "          3.1643e-03,  2.9097e-02,  4.1849e-02, -6.2409e-03, -4.1914e-02,\n",
      "          2.8924e-02, -4.7718e-02,  7.2123e-03, -6.0438e-02, -3.5265e-02,\n",
      "         -4.3284e-03, -4.3099e-04,  3.8677e-03,  5.8487e-02, -3.8299e-02,\n",
      "         -3.0302e-02, -1.2317e-03, -3.6445e-02, -5.5346e-03, -2.3371e-02,\n",
      "         -8.8850e-03,  3.6532e-02,  5.2143e-02,  1.7758e-02,  7.6965e-02,\n",
      "          5.6379e-02,  6.3465e-02,  9.5784e-03,  5.3648e-02, -2.5520e-02,\n",
      "         -2.2664e-02,  3.5103e-02,  2.4412e-02, -6.0384e-02, -1.9484e-03,\n",
      "         -8.9552e-02, -9.6481e-03, -6.7100e-02,  1.8274e-02,  5.8857e-02,\n",
      "          1.6388e-02,  5.7376e-03, -2.9731e-02, -3.3687e-02,  1.3895e-02,\n",
      "          8.0687e-02,  3.3403e-02, -3.3428e-03, -2.7242e-02, -4.1903e-02,\n",
      "         -8.3320e-03, -2.6463e-02,  1.5150e-02, -3.2906e-02, -2.6113e-02,\n",
      "          2.9648e-02,  1.6790e-02,  1.3004e-02,  3.3629e-02, -1.3361e-02,\n",
      "          2.4499e-02,  3.2559e-02,  2.3554e-03,  7.0045e-02,  8.3594e-03,\n",
      "         -1.1397e-02, -3.8321e-02, -2.0195e-02, -2.0834e-02, -2.2367e-02,\n",
      "          3.6660e-02,  1.6156e-02, -2.8885e-02, -1.1080e-02, -3.3967e-02,\n",
      "         -5.8187e-02,  2.3092e-03,  2.0873e-02, -5.1112e-02,  1.0786e-02,\n",
      "         -5.6978e-02, -4.3140e-02,  3.0544e-02,  9.9164e-03,  6.7844e-02,\n",
      "          3.1995e-02, -9.4154e-03,  5.0423e-02, -1.7068e-02, -3.8975e-02,\n",
      "          2.6325e-02, -6.3431e-03, -1.7504e-03, -1.2304e-02,  5.8942e-02,\n",
      "          7.9951e-03, -1.7998e-02, -7.2530e-03, -2.3300e-03,  3.1115e-07,\n",
      "         -3.4213e-02,  4.4842e-02, -1.3164e-03,  1.5459e-02, -1.8137e-02,\n",
      "         -6.9413e-03, -7.5862e-03,  1.9364e-02, -4.9369e-03,  7.0875e-03,\n",
      "          1.0144e-01, -1.4651e-02,  2.2599e-02, -4.6972e-02, -5.4040e-02,\n",
      "          3.5862e-02, -5.1928e-02, -5.6975e-02, -3.9960e-02,  1.3329e-02,\n",
      "          1.0430e-01, -6.1508e-03,  2.3553e-02,  1.9600e-02,  2.4507e-02,\n",
      "         -3.5093e-02, -4.4941e-03, -7.3623e-02, -2.8711e-02,  1.5154e-03,\n",
      "         -1.6772e-02, -6.3765e-03, -5.3524e-02, -3.0779e-02,  2.0170e-02,\n",
      "         -6.9578e-02,  3.1647e-02,  1.0612e-02,  6.5319e-02,  2.2047e-02,\n",
      "         -5.5436e-02,  5.3382e-02, -2.0870e-02, -5.9247e-02,  1.9836e-02,\n",
      "         -6.7212e-04,  1.7218e-02,  1.4637e-02, -7.0584e-02,  1.5400e-02,\n",
      "          4.4348e-02, -1.4173e-02, -1.8887e-02, -1.5145e-02,  2.2321e-03,\n",
      "          1.9138e-02,  3.3422e-02,  6.0030e-03,  7.7994e-02,  6.9610e-02,\n",
      "         -2.2265e-02,  1.2945e-02,  7.6830e-03,  2.6167e-02,  6.7903e-03,\n",
      "         -8.8627e-02, -1.1146e-02,  2.1675e-34,  3.9392e-02, -9.0457e-02,\n",
      "         -6.4739e-02, -2.7347e-02, -2.7583e-02,  3.0312e-03, -2.0743e-02,\n",
      "         -2.2759e-02,  1.0543e-02, -4.4960e-02, -5.5271e-03]])}\n"
     ]
    }
   ],
   "source": [
    "for batch_input in train_loader:\n",
    "    print(batch_input)"
   ]
  },
  {
   "cell_type": "code",
   "execution_count": 15,
   "id": "02cb9ca4-11f1-45a8-911b-ed11c8391944",
   "metadata": {
    "scrolled": true
   },
   "outputs": [
    {
     "data": {
      "application/vnd.jupyter.widget-view+json": {
       "model_id": "20853f3bd10046e3ac55be0df0aedf3f",
       "version_major": 2,
       "version_minor": 0
      },
      "text/plain": [
       "  0%|          | 0/1 [00:00<?, ?it/s]"
      ]
     },
     "metadata": {},
     "output_type": "display_data"
    },
    {
     "name": "stderr",
     "output_type": "stream",
     "text": [
      "GPU available: True (mps), used: True\n",
      "TPU available: False, using: 0 TPU cores\n",
      "HPU available: False, using: 0 HPUs\n",
      "\n",
      "  | Name  | Type   | Params | Mode\n",
      "----------------------------------------\n",
      "0 | model | Ranker | 8.2 K  | eval\n",
      "----------------------------------------\n",
      "8.2 K     Trainable params\n",
      "0         Non-trainable params\n",
      "8.2 K     Total params\n",
      "0.033     Total estimated model params size (MB)\n",
      "0         Modules in train mode\n",
      "14        Modules in eval mode\n"
     ]
    },
    {
     "data": {
      "application/vnd.jupyter.widget-view+json": {
       "model_id": "",
       "version_major": 2,
       "version_minor": 0
      },
      "text/plain": [
       "Sanity Checking: |                                                                                            …"
      ]
     },
     "metadata": {},
     "output_type": "display_data"
    },
    {
     "name": "stderr",
     "output_type": "stream",
     "text": [
      "/Users/dvq/frostmourne/recsys-mvp/.venv/lib/python3.11/site-packages/lightning/pytorch/trainer/connectors/data_connector.py:424: The 'val_dataloader' does not have many workers which may be a bottleneck. Consider increasing the value of the `num_workers` argument` to `num_workers=10` in the `DataLoader` to improve performance.\n",
      "/Users/dvq/frostmourne/recsys-mvp/.venv/lib/python3.11/site-packages/lightning/pytorch/trainer/connectors/data_connector.py:424: The 'train_dataloader' does not have many workers which may be a bottleneck. Consider increasing the value of the `num_workers` argument` to `num_workers=10` in the `DataLoader` to improve performance.\n",
      "/Users/dvq/frostmourne/recsys-mvp/.venv/lib/python3.11/site-packages/lightning/pytorch/loops/fit_loop.py:298: The number of training batches (3) is smaller than the logging interval Trainer(log_every_n_steps=50). Set a lower value for log_every_n_steps if you want to see logs for the training epoch.\n"
     ]
    },
    {
     "data": {
      "application/vnd.jupyter.widget-view+json": {
       "model_id": "41767f4d00a143c9b7a5534c0f9572e4",
       "version_major": 2,
       "version_minor": 0
      },
      "text/plain": [
       "Training: |                                                                                                   …"
      ]
     },
     "metadata": {},
     "output_type": "display_data"
    },
    {
     "data": {
      "application/vnd.jupyter.widget-view+json": {
       "model_id": "",
       "version_major": 2,
       "version_minor": 0
      },
      "text/plain": [
       "Validation: |                                                                                                 …"
      ]
     },
     "metadata": {},
     "output_type": "display_data"
    },
    {
     "data": {
      "application/vnd.jupyter.widget-view+json": {
       "model_id": "",
       "version_major": 2,
       "version_minor": 0
      },
      "text/plain": [
       "Validation: |                                                                                                 …"
      ]
     },
     "metadata": {},
     "output_type": "display_data"
    },
    {
     "name": "stderr",
     "output_type": "stream",
     "text": [
      "`Trainer.fit` stopped: `max_epochs=2` reached.\n",
      "\u001b[32m2024-10-28 02:35:30.609\u001b[0m | \u001b[1mINFO    \u001b[0m | \u001b[36msrc.ranker.trainer\u001b[0m:\u001b[36mon_fit_end\u001b[0m:\u001b[36m158\u001b[0m - \u001b[1mLogging classification metrics...\u001b[0m\n",
      "/Users/dvq/frostmourne/recsys-mvp/.venv/lib/python3.11/site-packages/sklearn/metrics/_classification.py:1531: UndefinedMetricWarning: Precision is ill-defined and being set to 0.0 in labels with no predicted samples. Use `zero_division` parameter to control this behavior.\n",
      "  _warn_prf(average, modifier, f\"{metric.capitalize()} is\", len(result))\n",
      "/Users/dvq/frostmourne/recsys-mvp/.venv/lib/python3.11/site-packages/sklearn/metrics/_classification.py:1531: UndefinedMetricWarning: Precision is ill-defined and being set to 0.0 in labels with no predicted samples. Use `zero_division` parameter to control this behavior.\n",
      "  _warn_prf(average, modifier, f\"{metric.capitalize()} is\", len(result))\n",
      "/Users/dvq/frostmourne/recsys-mvp/.venv/lib/python3.11/site-packages/sklearn/metrics/_classification.py:1531: UndefinedMetricWarning: Precision is ill-defined and being set to 0.0 in labels with no predicted samples. Use `zero_division` parameter to control this behavior.\n",
      "  _warn_prf(average, modifier, f\"{metric.capitalize()} is\", len(result))\n"
     ]
    }
   ],
   "source": [
    "# Prepare all item features for recommendation\n",
    "all_items_df = train_df.drop_duplicates(subset=[\"item_indice\"])\n",
    "all_items_indices = all_items_df[\"item_indice\"].values\n",
    "all_items_features = item_metadata_pipeline.transform(all_items_df).astype(np.float32)\n",
    "if args.use_sbert_features:\n",
    "    all_sbert_vectors = ann_index.get_vector_by_ids(all_items_indices.tolist()).astype(\n",
    "        np.float32\n",
    "    )\n",
    "    all_items_features = np.hstack([all_items_features, all_sbert_vectors])\n",
    "\n",
    "lit_model = LitRanker(\n",
    "    model,\n",
    "    log_dir=args.notebook_persist_dp,\n",
    "    all_items_indices=all_items_indices,\n",
    "    all_items_features=all_items_features,\n",
    ")\n",
    "\n",
    "# train model\n",
    "trainer = L.Trainer(\n",
    "    default_root_dir=f\"{args.notebook_persist_dp}/test\",\n",
    "    max_epochs=2,\n",
    "    accelerator=args.device if args.device else \"auto\",\n",
    ")\n",
    "trainer.fit(\n",
    "    model=lit_model, train_dataloaders=train_loader, val_dataloaders=train_loader\n",
    ")"
   ]
  },
  {
   "cell_type": "code",
   "execution_count": 16,
   "id": "36778ab4-b228-4bb0-bb0d-801ae7c28cd8",
   "metadata": {},
   "outputs": [
    {
     "name": "stdout",
     "output_type": "stream",
     "text": [
      "tensor([[0.5808],\n",
      "        [0.5949],\n",
      "        [0.5346],\n",
      "        [0.5208],\n",
      "        [0.5225]], grad_fn=<SigmoidBackward0>)\n"
     ]
    }
   ],
   "source": [
    "# After fitting\n",
    "model.eval()\n",
    "predictions = model.predict(users, item_sequences, item_features, items)\n",
    "print(predictions)"
   ]
  },
  {
   "cell_type": "code",
   "execution_count": 17,
   "id": "50fdcf97-6271-406d-81b5-7e91a4c42dec",
   "metadata": {
    "scrolled": true
   },
   "outputs": [
    {
     "data": {
      "application/vnd.jupyter.widget-view+json": {
       "model_id": "cece3b8e3b8f4cb58cb8b7059af6be25",
       "version_major": 2,
       "version_minor": 0
      },
      "text/plain": [
       "Generating recommendations:   0%|          | 0/1 [00:00<?, ?it/s]"
      ]
     },
     "metadata": {},
     "output_type": "display_data"
    },
    {
     "data": {
      "text/plain": [
       "{'user_indice': [2, 2, 1, 1, 0, 0],\n",
       " 'recommendation': [1, 0, 1, 0, 1, 0],\n",
       " 'score': [0.5539135932922363,\n",
       "  0.5513929128646851,\n",
       "  0.5725988149642944,\n",
       "  0.5582187175750732,\n",
       "  0.5949248671531677,\n",
       "  0.5808430910110474]}"
      ]
     },
     "execution_count": 17,
     "metadata": {},
     "output_type": "execute_result"
    }
   ],
   "source": [
    "# Get the last row of each item as input for recommendations (containing the most updated item_sequence)\n",
    "to_rec_df = train_df.sort_values(args.timestamp_col, ascending=False).drop_duplicates(\n",
    "    subset=[\"user_indice\"]\n",
    ")\n",
    "recommendations = model.recommend(\n",
    "    torch.tensor(to_rec_df[\"user_indice\"].values.tolist()),\n",
    "    torch.tensor(to_rec_df[\"item_sequence\"].values.tolist()),\n",
    "    torch.tensor(lit_model.all_items_features),\n",
    "    torch.tensor(lit_model.all_items_indices),\n",
    "    k=2,\n",
    "    batch_size=4,\n",
    ")\n",
    "recommendations"
   ]
  },
  {
   "cell_type": "markdown",
   "id": "170dec89-a874-4dce-8f94-07d978fcc5b8",
   "metadata": {},
   "source": [
    "# Prep data"
   ]
  },
  {
   "cell_type": "code",
   "execution_count": 18,
   "id": "83803362-5eaa-40bb-b28b-878316d5db5d",
   "metadata": {},
   "outputs": [],
   "source": [
    "train_df = pd.read_parquet(\"../data/train_features_neg_df.parquet\")\n",
    "val_df = pd.read_parquet(\"../data/val_features_neg_df.parquet\")\n",
    "idm_fp = \"../data/idm.json\"\n",
    "idm = IDMapper().load(idm_fp)\n",
    "\n",
    "assert (\n",
    "    train_df[args.user_col].map(lambda s: idm.get_user_index(s))\n",
    "    != train_df[\"user_indice\"]\n",
    ").sum() == 0, \"Mismatch IDM\"\n",
    "assert (\n",
    "    val_df[args.user_col].map(lambda s: idm.get_user_index(s)) != val_df[\"user_indice\"]\n",
    ").sum() == 0, \"Mismatch IDM\""
   ]
  },
  {
   "cell_type": "code",
   "execution_count": 19,
   "id": "a92a8ea7-928c-4656-b92c-2e137d78404a",
   "metadata": {
    "scrolled": true
   },
   "outputs": [
    {
     "data": {
      "text/html": [
       "<div>\n",
       "<style scoped>\n",
       "    .dataframe tbody tr th:only-of-type {\n",
       "        vertical-align: middle;\n",
       "    }\n",
       "\n",
       "    .dataframe tbody tr th {\n",
       "        vertical-align: top;\n",
       "    }\n",
       "\n",
       "    .dataframe thead th {\n",
       "        text-align: right;\n",
       "    }\n",
       "</style>\n",
       "<table border=\"1\" class=\"dataframe\">\n",
       "  <thead>\n",
       "    <tr style=\"text-align: right;\">\n",
       "      <th></th>\n",
       "      <th>user_id</th>\n",
       "      <th>parent_asin</th>\n",
       "      <th>rating</th>\n",
       "      <th>timestamp</th>\n",
       "      <th>parent_asin_rating_cnt_365d</th>\n",
       "      <th>parent_asin_rating_avg_prev_rating_365d</th>\n",
       "      <th>parent_asin_rating_cnt_90d</th>\n",
       "      <th>parent_asin_rating_avg_prev_rating_90d</th>\n",
       "      <th>parent_asin_rating_cnt_30d</th>\n",
       "      <th>parent_asin_rating_avg_prev_rating_30d</th>\n",
       "      <th>...</th>\n",
       "      <th>item_indice</th>\n",
       "      <th>main_category</th>\n",
       "      <th>title</th>\n",
       "      <th>description</th>\n",
       "      <th>categories</th>\n",
       "      <th>price</th>\n",
       "      <th>user_rating_cnt_90d</th>\n",
       "      <th>user_rating_avg_prev_rating_90d</th>\n",
       "      <th>user_rating_list_10_recent_asin</th>\n",
       "      <th>item_sequence</th>\n",
       "    </tr>\n",
       "  </thead>\n",
       "  <tbody>\n",
       "    <tr>\n",
       "      <th>0</th>\n",
       "      <td>AG57LGJFCNNQJ6P6ABQAVUKXDUDA</td>\n",
       "      <td>B0015AARJI</td>\n",
       "      <td>0.0</td>\n",
       "      <td>2016-01-12 11:59:11.000</td>\n",
       "      <td>76.0</td>\n",
       "      <td>4.592105</td>\n",
       "      <td>10.0</td>\n",
       "      <td>4.3</td>\n",
       "      <td>3.0</td>\n",
       "      <td>5.0</td>\n",
       "      <td>...</td>\n",
       "      <td>660</td>\n",
       "      <td>Video Games</td>\n",
       "      <td>PlayStation 3 Dualshock 3 Wireless Controller ...</td>\n",
       "      <td>[Amazon.com, The Dualshock 3 wireless controll...</td>\n",
       "      <td>[Video Games, Legacy Systems, PlayStation Syst...</td>\n",
       "      <td>49.99</td>\n",
       "      <td>2</td>\n",
       "      <td>5.000000</td>\n",
       "      <td>B00J00BLRM</td>\n",
       "      <td>[-1, -1, -1, -1, -1, -1, -1, -1, -1, 2662]</td>\n",
       "    </tr>\n",
       "    <tr>\n",
       "      <th>1</th>\n",
       "      <td>AHWG4EGOV5ZDKPETL56MAYGPLJRQ</td>\n",
       "      <td>B0BMGHMP23</td>\n",
       "      <td>0.0</td>\n",
       "      <td>2016-04-18 19:26:20.000</td>\n",
       "      <td>NaN</td>\n",
       "      <td>NaN</td>\n",
       "      <td>NaN</td>\n",
       "      <td>NaN</td>\n",
       "      <td>NaN</td>\n",
       "      <td>NaN</td>\n",
       "      <td>...</td>\n",
       "      <td>4568</td>\n",
       "      <td>Computers</td>\n",
       "      <td>Logitech G502 Lightspeed Wireless Gaming Mouse...</td>\n",
       "      <td>[G502 is the best gaming mouse from Logitech G...</td>\n",
       "      <td>[Video Games, PC, Accessories, Gaming Mice]</td>\n",
       "      <td>87.95</td>\n",
       "      <td>3</td>\n",
       "      <td>5.000000</td>\n",
       "      <td>B00YOGZFCO,B00KWFCSB2,B00L3LQ1FI,B0151K6J9Y,B0...</td>\n",
       "      <td>[3028, 2742, 2755, 3159, 3101, 3036, 3051, 313...</td>\n",
       "    </tr>\n",
       "    <tr>\n",
       "      <th>2</th>\n",
       "      <td>AH5PTZ2U74OZ3HT6QVUWM4CV6OVQ</td>\n",
       "      <td>B009AP23NI</td>\n",
       "      <td>0.0</td>\n",
       "      <td>2016-02-10 18:45:08.000</td>\n",
       "      <td>9.0</td>\n",
       "      <td>4.666667</td>\n",
       "      <td>0.0</td>\n",
       "      <td>NaN</td>\n",
       "      <td>0.0</td>\n",
       "      <td>NaN</td>\n",
       "      <td>...</td>\n",
       "      <td>2219</td>\n",
       "      <td>Video Games</td>\n",
       "      <td>Nintendo Wii U Pro U Controller (Japanese Vers...</td>\n",
       "      <td>[Wii U PRO controller (black) (WUP-A-RSKA)]</td>\n",
       "      <td>[Video Games, Legacy Systems, Nintendo Systems...</td>\n",
       "      <td>43.99</td>\n",
       "      <td>8</td>\n",
       "      <td>4.428571</td>\n",
       "      <td>B0199OXR0W,B00EVPR4FY,B00B7ELWAU,B00UH9DN58,B0...</td>\n",
       "      <td>[-1, -1, 3234, 2508, 2318, 2964, 1258, 2439, 4...</td>\n",
       "    </tr>\n",
       "    <tr>\n",
       "      <th>3</th>\n",
       "      <td>AFC5XTCF5D7J3NSDITB2Z26XWWYA</td>\n",
       "      <td>B001E8WQUY</td>\n",
       "      <td>5.0</td>\n",
       "      <td>2019-05-01 21:22:39.265</td>\n",
       "      <td>0.0</td>\n",
       "      <td>NaN</td>\n",
       "      <td>0.0</td>\n",
       "      <td>NaN</td>\n",
       "      <td>0.0</td>\n",
       "      <td>NaN</td>\n",
       "      <td>...</td>\n",
       "      <td>724</td>\n",
       "      <td>Video Games</td>\n",
       "      <td>Rock Band 2 - Nintendo Wii (Game only)</td>\n",
       "      <td>[Product description, Rock Band 2 lets you and...</td>\n",
       "      <td>[Video Games, Legacy Systems, Nintendo Systems...</td>\n",
       "      <td>28.49</td>\n",
       "      <td>1</td>\n",
       "      <td>NaN</td>\n",
       "      <td>B006HZA6VK,B0BN2FNKLM,B0086VPUHI,B0040UAYI4,B0...</td>\n",
       "      <td>[1987, 4569, 2114, 1606, 2159, 2279, 2447, 441...</td>\n",
       "    </tr>\n",
       "    <tr>\n",
       "      <th>4</th>\n",
       "      <td>AF7LJQOIWF3Y3YD7SGOJ34MA5JPA</td>\n",
       "      <td>B001E8WQKY</td>\n",
       "      <td>5.0</td>\n",
       "      <td>2015-01-09 12:53:25.000</td>\n",
       "      <td>16.0</td>\n",
       "      <td>4.375000</td>\n",
       "      <td>8.0</td>\n",
       "      <td>4.5</td>\n",
       "      <td>4.0</td>\n",
       "      <td>4.5</td>\n",
       "      <td>...</td>\n",
       "      <td>722</td>\n",
       "      <td>Video Games</td>\n",
       "      <td>Resident Evil 5 - Xbox 360</td>\n",
       "      <td>[]</td>\n",
       "      <td>[Video Games, Legacy Systems, Xbox Systems, Xb...</td>\n",
       "      <td>29.88</td>\n",
       "      <td>3</td>\n",
       "      <td>5.000000</td>\n",
       "      <td>B00A2ML6XG,B003VUO6LU</td>\n",
       "      <td>[-1, -1, -1, -1, -1, -1, -1, -1, 2261, 1579]</td>\n",
       "    </tr>\n",
       "    <tr>\n",
       "      <th>...</th>\n",
       "      <td>...</td>\n",
       "      <td>...</td>\n",
       "      <td>...</td>\n",
       "      <td>...</td>\n",
       "      <td>...</td>\n",
       "      <td>...</td>\n",
       "      <td>...</td>\n",
       "      <td>...</td>\n",
       "      <td>...</td>\n",
       "      <td>...</td>\n",
       "      <td>...</td>\n",
       "      <td>...</td>\n",
       "      <td>...</td>\n",
       "      <td>...</td>\n",
       "      <td>...</td>\n",
       "      <td>...</td>\n",
       "      <td>...</td>\n",
       "      <td>...</td>\n",
       "      <td>...</td>\n",
       "      <td>...</td>\n",
       "      <td>...</td>\n",
       "    </tr>\n",
       "    <tr>\n",
       "      <th>328591</th>\n",
       "      <td>AG4RATLNVLOKZCPXN67HKOAK65CA</td>\n",
       "      <td>B078FBVJMB</td>\n",
       "      <td>0.0</td>\n",
       "      <td>2015-10-31 18:25:09.000</td>\n",
       "      <td>NaN</td>\n",
       "      <td>NaN</td>\n",
       "      <td>NaN</td>\n",
       "      <td>NaN</td>\n",
       "      <td>NaN</td>\n",
       "      <td>NaN</td>\n",
       "      <td>...</td>\n",
       "      <td>3829</td>\n",
       "      <td>Video Games</td>\n",
       "      <td>A Way Out – PC Origin [Online Game Code]</td>\n",
       "      <td>[From the creators of Brothers - A Tale of Two...</td>\n",
       "      <td>[Video Games, PC, Games]</td>\n",
       "      <td>5.99</td>\n",
       "      <td>1</td>\n",
       "      <td>NaN</td>\n",
       "      <td>B00TFVD688</td>\n",
       "      <td>[-1, -1, -1, -1, -1, -1, -1, -1, -1, 2951]</td>\n",
       "    </tr>\n",
       "    <tr>\n",
       "      <th>328592</th>\n",
       "      <td>AFBXO3BFWBJX6QS5NW73O37IXF2A</td>\n",
       "      <td>B0771ZXXV6</td>\n",
       "      <td>0.0</td>\n",
       "      <td>2011-03-08 02:06:38.000</td>\n",
       "      <td>NaN</td>\n",
       "      <td>NaN</td>\n",
       "      <td>NaN</td>\n",
       "      <td>NaN</td>\n",
       "      <td>NaN</td>\n",
       "      <td>NaN</td>\n",
       "      <td>...</td>\n",
       "      <td>3806</td>\n",
       "      <td>Video Games</td>\n",
       "      <td>Nintendo Joy-Con (R) - Neon Red - Nintendo Switch</td>\n",
       "      <td>[To be determined]</td>\n",
       "      <td>[Video Games, Nintendo Switch, Accessories, Co...</td>\n",
       "      <td>None</td>\n",
       "      <td>3</td>\n",
       "      <td>4.000000</td>\n",
       "      <td>B003JVCA9Q,B0029NZ4HA</td>\n",
       "      <td>[-1, -1, -1, -1, -1, -1, -1, -1, 1488, 1199]</td>\n",
       "    </tr>\n",
       "    <tr>\n",
       "      <th>328593</th>\n",
       "      <td>AHVANA5GZNJ45UABPXWZNAF4ECBQ</td>\n",
       "      <td>B00BBF6MO6</td>\n",
       "      <td>0.0</td>\n",
       "      <td>2015-02-15 05:31:04.000</td>\n",
       "      <td>3.0</td>\n",
       "      <td>4.666667</td>\n",
       "      <td>0.0</td>\n",
       "      <td>NaN</td>\n",
       "      <td>0.0</td>\n",
       "      <td>NaN</td>\n",
       "      <td>...</td>\n",
       "      <td>2327</td>\n",
       "      <td>Video Games</td>\n",
       "      <td>Killer is Dead - Xbox 360</td>\n",
       "      <td>[Killer Is Dead is the latest title from the d...</td>\n",
       "      <td>[Video Games, Legacy Systems, Xbox Systems, Xb...</td>\n",
       "      <td>39.82</td>\n",
       "      <td>1</td>\n",
       "      <td>NaN</td>\n",
       "      <td>B002L93F0A,B002KJ02ZC,B001H4NMNA</td>\n",
       "      <td>[-1, -1, -1, -1, -1, -1, -1, 1377, 1374, 1092]</td>\n",
       "    </tr>\n",
       "    <tr>\n",
       "      <th>328594</th>\n",
       "      <td>AHAVA5VKMJ3OMOLGDZ3W45CKXEWA</td>\n",
       "      <td>B00KTORA0K</td>\n",
       "      <td>5.0</td>\n",
       "      <td>2019-05-25 04:03:51.505</td>\n",
       "      <td>3.0</td>\n",
       "      <td>4.666667</td>\n",
       "      <td>1.0</td>\n",
       "      <td>5.0</td>\n",
       "      <td>1.0</td>\n",
       "      <td>5.0</td>\n",
       "      <td>...</td>\n",
       "      <td>2726</td>\n",
       "      <td>Video Games</td>\n",
       "      <td>Just Dance 2015 - Wii</td>\n",
       "      <td>[With more than 50 million copies of Just Danc...</td>\n",
       "      <td>[Video Games, Legacy Systems, Nintendo Systems...</td>\n",
       "      <td>33.0</td>\n",
       "      <td>2</td>\n",
       "      <td>5.000000</td>\n",
       "      <td>B004AYCNR0,B007NUQICE,B000TYQL1O,B000SEU92W,B0...</td>\n",
       "      <td>[-1, -1, -1, 1657, 2074, 593, 583, 3715, 3448,...</td>\n",
       "    </tr>\n",
       "    <tr>\n",
       "      <th>328595</th>\n",
       "      <td>AHAOAIYS3GTCFSVCHOHANFHEVJGA</td>\n",
       "      <td>B07GMV1X1K</td>\n",
       "      <td>0.0</td>\n",
       "      <td>2019-06-27 16:46:01.725</td>\n",
       "      <td>8.0</td>\n",
       "      <td>4.750000</td>\n",
       "      <td>2.0</td>\n",
       "      <td>4.5</td>\n",
       "      <td>1.0</td>\n",
       "      <td>5.0</td>\n",
       "      <td>...</td>\n",
       "      <td>3980</td>\n",
       "      <td>Video Games</td>\n",
       "      <td>retrogames The C64 Mini USA Version - Not Mach...</td>\n",
       "      <td>[It's 1982 and a new home computer graces the ...</td>\n",
       "      <td>[Video Games, Legacy Systems, Commodore System...</td>\n",
       "      <td>44.99</td>\n",
       "      <td>2</td>\n",
       "      <td>4.000000</td>\n",
       "      <td>B010QCD9WW,B06XHMPPLH,B01GY35HKE,B01GY35GIM,B0...</td>\n",
       "      <td>[3093, 3574, 3373, 3372, 3576, 3621, 3514, 394...</td>\n",
       "    </tr>\n",
       "  </tbody>\n",
       "</table>\n",
       "<p>328596 rows × 23 columns</p>\n",
       "</div>"
      ],
      "text/plain": [
       "                             user_id parent_asin  rating  \\\n",
       "0       AG57LGJFCNNQJ6P6ABQAVUKXDUDA  B0015AARJI     0.0   \n",
       "1       AHWG4EGOV5ZDKPETL56MAYGPLJRQ  B0BMGHMP23     0.0   \n",
       "2       AH5PTZ2U74OZ3HT6QVUWM4CV6OVQ  B009AP23NI     0.0   \n",
       "3       AFC5XTCF5D7J3NSDITB2Z26XWWYA  B001E8WQUY     5.0   \n",
       "4       AF7LJQOIWF3Y3YD7SGOJ34MA5JPA  B001E8WQKY     5.0   \n",
       "...                              ...         ...     ...   \n",
       "328591  AG4RATLNVLOKZCPXN67HKOAK65CA  B078FBVJMB     0.0   \n",
       "328592  AFBXO3BFWBJX6QS5NW73O37IXF2A  B0771ZXXV6     0.0   \n",
       "328593  AHVANA5GZNJ45UABPXWZNAF4ECBQ  B00BBF6MO6     0.0   \n",
       "328594  AHAVA5VKMJ3OMOLGDZ3W45CKXEWA  B00KTORA0K     5.0   \n",
       "328595  AHAOAIYS3GTCFSVCHOHANFHEVJGA  B07GMV1X1K     0.0   \n",
       "\n",
       "                     timestamp  parent_asin_rating_cnt_365d  \\\n",
       "0      2016-01-12 11:59:11.000                         76.0   \n",
       "1      2016-04-18 19:26:20.000                          NaN   \n",
       "2      2016-02-10 18:45:08.000                          9.0   \n",
       "3      2019-05-01 21:22:39.265                          0.0   \n",
       "4      2015-01-09 12:53:25.000                         16.0   \n",
       "...                        ...                          ...   \n",
       "328591 2015-10-31 18:25:09.000                          NaN   \n",
       "328592 2011-03-08 02:06:38.000                          NaN   \n",
       "328593 2015-02-15 05:31:04.000                          3.0   \n",
       "328594 2019-05-25 04:03:51.505                          3.0   \n",
       "328595 2019-06-27 16:46:01.725                          8.0   \n",
       "\n",
       "        parent_asin_rating_avg_prev_rating_365d  parent_asin_rating_cnt_90d  \\\n",
       "0                                      4.592105                        10.0   \n",
       "1                                           NaN                         NaN   \n",
       "2                                      4.666667                         0.0   \n",
       "3                                           NaN                         0.0   \n",
       "4                                      4.375000                         8.0   \n",
       "...                                         ...                         ...   \n",
       "328591                                      NaN                         NaN   \n",
       "328592                                      NaN                         NaN   \n",
       "328593                                 4.666667                         0.0   \n",
       "328594                                 4.666667                         1.0   \n",
       "328595                                 4.750000                         2.0   \n",
       "\n",
       "        parent_asin_rating_avg_prev_rating_90d  parent_asin_rating_cnt_30d  \\\n",
       "0                                          4.3                         3.0   \n",
       "1                                          NaN                         NaN   \n",
       "2                                          NaN                         0.0   \n",
       "3                                          NaN                         0.0   \n",
       "4                                          4.5                         4.0   \n",
       "...                                        ...                         ...   \n",
       "328591                                     NaN                         NaN   \n",
       "328592                                     NaN                         NaN   \n",
       "328593                                     NaN                         0.0   \n",
       "328594                                     5.0                         1.0   \n",
       "328595                                     4.5                         1.0   \n",
       "\n",
       "        parent_asin_rating_avg_prev_rating_30d  ...  item_indice  \\\n",
       "0                                          5.0  ...          660   \n",
       "1                                          NaN  ...         4568   \n",
       "2                                          NaN  ...         2219   \n",
       "3                                          NaN  ...          724   \n",
       "4                                          4.5  ...          722   \n",
       "...                                        ...  ...          ...   \n",
       "328591                                     NaN  ...         3829   \n",
       "328592                                     NaN  ...         3806   \n",
       "328593                                     NaN  ...         2327   \n",
       "328594                                     5.0  ...         2726   \n",
       "328595                                     5.0  ...         3980   \n",
       "\n",
       "        main_category                                              title  \\\n",
       "0         Video Games  PlayStation 3 Dualshock 3 Wireless Controller ...   \n",
       "1           Computers  Logitech G502 Lightspeed Wireless Gaming Mouse...   \n",
       "2         Video Games  Nintendo Wii U Pro U Controller (Japanese Vers...   \n",
       "3         Video Games             Rock Band 2 - Nintendo Wii (Game only)   \n",
       "4         Video Games                         Resident Evil 5 - Xbox 360   \n",
       "...               ...                                                ...   \n",
       "328591    Video Games           A Way Out – PC Origin [Online Game Code]   \n",
       "328592    Video Games  Nintendo Joy-Con (R) - Neon Red - Nintendo Switch   \n",
       "328593    Video Games                          Killer is Dead - Xbox 360   \n",
       "328594    Video Games                              Just Dance 2015 - Wii   \n",
       "328595    Video Games  retrogames The C64 Mini USA Version - Not Mach...   \n",
       "\n",
       "                                              description  \\\n",
       "0       [Amazon.com, The Dualshock 3 wireless controll...   \n",
       "1       [G502 is the best gaming mouse from Logitech G...   \n",
       "2             [Wii U PRO controller (black) (WUP-A-RSKA)]   \n",
       "3       [Product description, Rock Band 2 lets you and...   \n",
       "4                                                      []   \n",
       "...                                                   ...   \n",
       "328591  [From the creators of Brothers - A Tale of Two...   \n",
       "328592                                 [To be determined]   \n",
       "328593  [Killer Is Dead is the latest title from the d...   \n",
       "328594  [With more than 50 million copies of Just Danc...   \n",
       "328595  [It's 1982 and a new home computer graces the ...   \n",
       "\n",
       "                                               categories  price  \\\n",
       "0       [Video Games, Legacy Systems, PlayStation Syst...  49.99   \n",
       "1             [Video Games, PC, Accessories, Gaming Mice]  87.95   \n",
       "2       [Video Games, Legacy Systems, Nintendo Systems...  43.99   \n",
       "3       [Video Games, Legacy Systems, Nintendo Systems...  28.49   \n",
       "4       [Video Games, Legacy Systems, Xbox Systems, Xb...  29.88   \n",
       "...                                                   ...    ...   \n",
       "328591                           [Video Games, PC, Games]   5.99   \n",
       "328592  [Video Games, Nintendo Switch, Accessories, Co...   None   \n",
       "328593  [Video Games, Legacy Systems, Xbox Systems, Xb...  39.82   \n",
       "328594  [Video Games, Legacy Systems, Nintendo Systems...   33.0   \n",
       "328595  [Video Games, Legacy Systems, Commodore System...  44.99   \n",
       "\n",
       "       user_rating_cnt_90d user_rating_avg_prev_rating_90d  \\\n",
       "0                        2                        5.000000   \n",
       "1                        3                        5.000000   \n",
       "2                        8                        4.428571   \n",
       "3                        1                             NaN   \n",
       "4                        3                        5.000000   \n",
       "...                    ...                             ...   \n",
       "328591                   1                             NaN   \n",
       "328592                   3                        4.000000   \n",
       "328593                   1                             NaN   \n",
       "328594                   2                        5.000000   \n",
       "328595                   2                        4.000000   \n",
       "\n",
       "                          user_rating_list_10_recent_asin  \\\n",
       "0                                              B00J00BLRM   \n",
       "1       B00YOGZFCO,B00KWFCSB2,B00L3LQ1FI,B0151K6J9Y,B0...   \n",
       "2       B0199OXR0W,B00EVPR4FY,B00B7ELWAU,B00UH9DN58,B0...   \n",
       "3       B006HZA6VK,B0BN2FNKLM,B0086VPUHI,B0040UAYI4,B0...   \n",
       "4                                   B00A2ML6XG,B003VUO6LU   \n",
       "...                                                   ...   \n",
       "328591                                         B00TFVD688   \n",
       "328592                              B003JVCA9Q,B0029NZ4HA   \n",
       "328593                   B002L93F0A,B002KJ02ZC,B001H4NMNA   \n",
       "328594  B004AYCNR0,B007NUQICE,B000TYQL1O,B000SEU92W,B0...   \n",
       "328595  B010QCD9WW,B06XHMPPLH,B01GY35HKE,B01GY35GIM,B0...   \n",
       "\n",
       "                                            item_sequence  \n",
       "0              [-1, -1, -1, -1, -1, -1, -1, -1, -1, 2662]  \n",
       "1       [3028, 2742, 2755, 3159, 3101, 3036, 3051, 313...  \n",
       "2       [-1, -1, 3234, 2508, 2318, 2964, 1258, 2439, 4...  \n",
       "3       [1987, 4569, 2114, 1606, 2159, 2279, 2447, 441...  \n",
       "4            [-1, -1, -1, -1, -1, -1, -1, -1, 2261, 1579]  \n",
       "...                                                   ...  \n",
       "328591         [-1, -1, -1, -1, -1, -1, -1, -1, -1, 2951]  \n",
       "328592       [-1, -1, -1, -1, -1, -1, -1, -1, 1488, 1199]  \n",
       "328593     [-1, -1, -1, -1, -1, -1, -1, 1377, 1374, 1092]  \n",
       "328594  [-1, -1, -1, 1657, 2074, 593, 583, 3715, 3448,...  \n",
       "328595  [3093, 3574, 3373, 3372, 3576, 3621, 3514, 394...  \n",
       "\n",
       "[328596 rows x 23 columns]"
      ]
     },
     "execution_count": 19,
     "metadata": {},
     "output_type": "execute_result"
    }
   ],
   "source": [
    "train_df"
   ]
  },
  {
   "cell_type": "code",
   "execution_count": 20,
   "id": "bd469969-aaa6-4763-a0fc-d432961cf4dc",
   "metadata": {
    "scrolled": true
   },
   "outputs": [
    {
     "data": {
      "application/vnd.jupyter.widget-view+json": {
       "model_id": "b61fa6301ffe4712965461e362f0b170",
       "version_major": 2,
       "version_minor": 0
      },
      "text/plain": [
       "  0%|          | 0/5 [00:00<?, ?it/s]"
      ]
     },
     "metadata": {},
     "output_type": "display_data"
    },
    {
     "data": {
      "application/vnd.jupyter.widget-view+json": {
       "model_id": "0cc9b2c2e3e741dd81f544afd4ac90e1",
       "version_major": 2,
       "version_minor": 0
      },
      "text/plain": [
       "Transforming chunks:   0%|          | 0/33 [00:00<?, ?it/s]"
      ]
     },
     "metadata": {},
     "output_type": "display_data"
    },
    {
     "data": {
      "application/vnd.jupyter.widget-view+json": {
       "model_id": "6ee790a05ddb40d5a7f6036ba8e5ce2c",
       "version_major": 2,
       "version_minor": 0
      },
      "text/plain": [
       "Transforming chunks:   0%|          | 0/1 [00:00<?, ?it/s]"
      ]
     },
     "metadata": {},
     "output_type": "display_data"
    },
    {
     "name": "stderr",
     "output_type": "stream",
     "text": [
      "\u001b[32m2024-10-28 02:35:36.682\u001b[0m | \u001b[1mINFO    \u001b[0m | \u001b[36m__main__\u001b[0m:\u001b[36m<module>\u001b[0m:\u001b[36m22\u001b[0m - \u001b[1mlen(user_indices)=19,578, len(item_indices)=4,630\u001b[0m\n"
     ]
    }
   ],
   "source": [
    "user_indices = train_df[\"user_indice\"].unique()\n",
    "item_indices = train_df[\"item_indice\"].unique()\n",
    "if args.use_sbert_features:\n",
    "    all_sbert_vectors = ann_index.get_vector_by_ids(\n",
    "        item_indices.tolist(), chunk_size=1000\n",
    "    ).astype(np.float32)\n",
    "\n",
    "train_item_features = chunk_transform(\n",
    "    train_df, item_metadata_pipeline, chunk_size=args.tfm_chunk_size\n",
    ")\n",
    "train_item_features = train_item_features.astype(np.float32)\n",
    "\n",
    "val_item_features = chunk_transform(\n",
    "    val_df, item_metadata_pipeline, chunk_size=args.tfm_chunk_size\n",
    ")\n",
    "val_item_features = val_item_features.astype(np.float32)\n",
    "\n",
    "if args.use_sbert_features:\n",
    "    train_sbert_vectors = all_sbert_vectors[train_df[\"item_indice\"].values]\n",
    "    train_item_features = np.hstack([train_item_features, train_sbert_vectors])\n",
    "    val_sbert_vectors = all_sbert_vectors[val_df[\"item_indice\"].values]\n",
    "    val_item_features = np.hstack([val_item_features, val_sbert_vectors])\n",
    "\n",
    "logger.info(f\"{len(user_indices)=:,.0f}, {len(item_indices)=:,.0f}\")"
   ]
  },
  {
   "cell_type": "markdown",
   "id": "5260fbe7-2f90-44a1-be74-ce5db9b511ee",
   "metadata": {},
   "source": [
    "# Train"
   ]
  },
  {
   "cell_type": "code",
   "execution_count": 21,
   "id": "240a04ed-8898-443f-b0f4-7399bfa63810",
   "metadata": {},
   "outputs": [],
   "source": [
    "rating_dataset = UserItemBinaryDFDataset(\n",
    "    train_df,\n",
    "    \"user_indice\",\n",
    "    \"item_indice\",\n",
    "    args.rating_col,\n",
    "    args.timestamp_col,\n",
    "    item_feature=train_item_features,\n",
    ")\n",
    "val_rating_dataset = UserItemBinaryDFDataset(\n",
    "    val_df,\n",
    "    \"user_indice\",\n",
    "    \"item_indice\",\n",
    "    args.rating_col,\n",
    "    args.timestamp_col,\n",
    "    item_feature=val_item_features,\n",
    ")\n",
    "\n",
    "train_loader = DataLoader(\n",
    "    rating_dataset, batch_size=args.batch_size, shuffle=True, drop_last=True\n",
    ")\n",
    "val_loader = DataLoader(\n",
    "    val_rating_dataset, batch_size=args.batch_size, shuffle=False, drop_last=False\n",
    ")"
   ]
  },
  {
   "cell_type": "code",
   "execution_count": 22,
   "id": "22dcf157-425f-4d15-9b53-e1ff93887def",
   "metadata": {
    "scrolled": true
   },
   "outputs": [
    {
     "data": {
      "text/plain": [
       "Ranker(\n",
       "  (item_embedding): Embedding(4631, 128, padding_idx=4630)\n",
       "  (user_embedding): Embedding(19578, 128)\n",
       "  (gru): GRU(128, 128, batch_first=True)\n",
       "  (relu): ReLU()\n",
       "  (dropout): Dropout(p=0.3, inplace=False)\n",
       "  (item_feature_tower): Sequential(\n",
       "    (0): Linear(in_features=929, out_features=128, bias=True)\n",
       "    (1): BatchNorm1d(128, eps=1e-05, momentum=0.1, affine=True, track_running_stats=True)\n",
       "    (2): ReLU()\n",
       "    (3): Dropout(p=0.3, inplace=False)\n",
       "  )\n",
       "  (fc_rating): Sequential(\n",
       "    (0): Linear(in_features=512, out_features=128, bias=True)\n",
       "    (1): BatchNorm1d(128, eps=1e-05, momentum=0.1, affine=True, track_running_stats=True)\n",
       "    (2): ReLU()\n",
       "    (3): Dropout(p=0.3, inplace=False)\n",
       "    (4): Linear(in_features=128, out_features=1, bias=True)\n",
       "    (5): Sigmoid()\n",
       "  )\n",
       ")"
      ]
     },
     "execution_count": 22,
     "metadata": {},
     "output_type": "execute_result"
    }
   ],
   "source": [
    "n_items = len(item_indices)\n",
    "n_users = len(user_indices)\n",
    "\n",
    "model = init_model(\n",
    "    n_users, n_items, args.embedding_dim, item_feature_size, args.dropout\n",
    ")\n",
    "model"
   ]
  },
  {
   "cell_type": "markdown",
   "id": "b8cbb2a8-a578-4ad2-941e-efd01d930336",
   "metadata": {},
   "source": [
    "#### Predict before train"
   ]
  },
  {
   "cell_type": "code",
   "execution_count": 23,
   "id": "0112de1e-1dce-4982-9663-a1df91fd0001",
   "metadata": {
    "scrolled": true
   },
   "outputs": [
    {
     "data": {
      "text/html": [
       "<div>\n",
       "<style scoped>\n",
       "    .dataframe tbody tr th:only-of-type {\n",
       "        vertical-align: middle;\n",
       "    }\n",
       "\n",
       "    .dataframe tbody tr th {\n",
       "        vertical-align: top;\n",
       "    }\n",
       "\n",
       "    .dataframe thead th {\n",
       "        text-align: right;\n",
       "    }\n",
       "</style>\n",
       "<table border=\"1\" class=\"dataframe\">\n",
       "  <thead>\n",
       "    <tr style=\"text-align: right;\">\n",
       "      <th></th>\n",
       "      <th>user_id</th>\n",
       "      <th>parent_asin</th>\n",
       "      <th>rating</th>\n",
       "      <th>timestamp</th>\n",
       "      <th>parent_asin_rating_cnt_365d</th>\n",
       "      <th>parent_asin_rating_avg_prev_rating_365d</th>\n",
       "      <th>parent_asin_rating_cnt_90d</th>\n",
       "      <th>parent_asin_rating_avg_prev_rating_90d</th>\n",
       "      <th>parent_asin_rating_cnt_30d</th>\n",
       "      <th>parent_asin_rating_avg_prev_rating_30d</th>\n",
       "      <th>...</th>\n",
       "      <th>item_indice</th>\n",
       "      <th>main_category</th>\n",
       "      <th>title</th>\n",
       "      <th>description</th>\n",
       "      <th>categories</th>\n",
       "      <th>price</th>\n",
       "      <th>user_rating_cnt_90d</th>\n",
       "      <th>user_rating_avg_prev_rating_90d</th>\n",
       "      <th>user_rating_list_10_recent_asin</th>\n",
       "      <th>item_sequence</th>\n",
       "    </tr>\n",
       "  </thead>\n",
       "  <tbody>\n",
       "    <tr>\n",
       "      <th>1533</th>\n",
       "      <td>AEGELTZNU45ZVX5RLS57L3XRI5QQ</td>\n",
       "      <td>B00897Z27C</td>\n",
       "      <td>0.0</td>\n",
       "      <td>2021-10-07 13:27:46.156</td>\n",
       "      <td>1.0</td>\n",
       "      <td>5.000000</td>\n",
       "      <td>0.0</td>\n",
       "      <td>NaN</td>\n",
       "      <td>0.0</td>\n",
       "      <td>NaN</td>\n",
       "      <td>...</td>\n",
       "      <td>2128</td>\n",
       "      <td>Video Games</td>\n",
       "      <td>ZombiU - Nintendo Wii U</td>\n",
       "      <td>[Can you survive a zombie swarm? London's fall...</td>\n",
       "      <td>[Video Games, Legacy Systems, Nintendo Systems...</td>\n",
       "      <td>14.6</td>\n",
       "      <td>1</td>\n",
       "      <td>NaN</td>\n",
       "      <td>B07KS74Q2X,B0C3KYVDWT,B0795GHTBC,B07P6MD9B7,B0...</td>\n",
       "      <td>[-1, -1, -1, -1, -1, 4034, 4607, 3846, 4124, 3...</td>\n",
       "    </tr>\n",
       "    <tr>\n",
       "      <th>1750</th>\n",
       "      <td>AEKZWIRSLLUT5XOVLBIS5HLVEPCA</td>\n",
       "      <td>B01D63UU52</td>\n",
       "      <td>0.0</td>\n",
       "      <td>2021-11-17 17:37:48.476</td>\n",
       "      <td>2.0</td>\n",
       "      <td>4.500000</td>\n",
       "      <td>0.0</td>\n",
       "      <td>NaN</td>\n",
       "      <td>0.0</td>\n",
       "      <td>NaN</td>\n",
       "      <td>...</td>\n",
       "      <td>3303</td>\n",
       "      <td>Computers</td>\n",
       "      <td>CORSAIR M65 Pro RGB - FPS Gaming Mouse - 12,00...</td>\n",
       "      <td>[The M65 PRO RGB is a competition-grade FPS ga...</td>\n",
       "      <td>[Video Games, PC, Accessories, Gaming Mice]</td>\n",
       "      <td>33.0</td>\n",
       "      <td>1</td>\n",
       "      <td>NaN</td>\n",
       "      <td>B07BDJHFQD,B06WVCWY41,B00MB1I3FU,B01NASEX0C,B0...</td>\n",
       "      <td>[3867, 3559, 2793, 3549, 4159, 3923, 4368, 404...</td>\n",
       "    </tr>\n",
       "    <tr>\n",
       "      <th>1519</th>\n",
       "      <td>AGOQBWRYF7Z4A6F6A4DBSD7YU4VA</td>\n",
       "      <td>B09CG15F86</td>\n",
       "      <td>1.0</td>\n",
       "      <td>2021-12-31 20:55:58.723</td>\n",
       "      <td>5.0</td>\n",
       "      <td>4.600000</td>\n",
       "      <td>1.0</td>\n",
       "      <td>5.000000</td>\n",
       "      <td>0.0</td>\n",
       "      <td>NaN</td>\n",
       "      <td>...</td>\n",
       "      <td>4468</td>\n",
       "      <td>Computers</td>\n",
       "      <td>Razer Doubleshot PBT Keycap Upgrade Set for Me...</td>\n",
       "      <td>[Enjoy durability without cramping your style....</td>\n",
       "      <td>[Video Games, PC, Accessories, Gaming Keyboards]</td>\n",
       "      <td>None</td>\n",
       "      <td>1</td>\n",
       "      <td>NaN</td>\n",
       "      <td>B072HGLS26,B073X4V4V4,B08L6L6KQL,B07ZJ6RY1W,B0...</td>\n",
       "      <td>[-1, -1, -1, 3693, 3727, 4391, 4303, 3788, 363...</td>\n",
       "    </tr>\n",
       "    <tr>\n",
       "      <th>788</th>\n",
       "      <td>AHAOIPSKT4LEWU47ZEN7LMOKRMTA</td>\n",
       "      <td>B002DZKZ5K</td>\n",
       "      <td>0.0</td>\n",
       "      <td>2022-02-02 08:29:00.447</td>\n",
       "      <td>2.0</td>\n",
       "      <td>3.000000</td>\n",
       "      <td>0.0</td>\n",
       "      <td>NaN</td>\n",
       "      <td>0.0</td>\n",
       "      <td>NaN</td>\n",
       "      <td>...</td>\n",
       "      <td>1244</td>\n",
       "      <td>Video Games</td>\n",
       "      <td>Lego Indiana Jones 2: The Adventure Continues ...</td>\n",
       "      <td>[Product Description, LEGO Indiana Jones 2: Th...</td>\n",
       "      <td>[Video Games, Legacy Systems, Nintendo Systems...</td>\n",
       "      <td>28.53</td>\n",
       "      <td>2</td>\n",
       "      <td>2.0</td>\n",
       "      <td>B00L3LQ1FI,B017QU5G1O,B00A878J5I,B07G4YYZ1M,B0...</td>\n",
       "      <td>[2755, 3202, 2267, 3973, 3834, 3698, 4426, 430...</td>\n",
       "    </tr>\n",
       "    <tr>\n",
       "      <th>180</th>\n",
       "      <td>AHN5HTWFC6HFP5JRBXGALC456NCA</td>\n",
       "      <td>B08TG138F1</td>\n",
       "      <td>1.0</td>\n",
       "      <td>2021-08-19 13:56:12.440</td>\n",
       "      <td>8.0</td>\n",
       "      <td>4.750000</td>\n",
       "      <td>1.0</td>\n",
       "      <td>5.000000</td>\n",
       "      <td>1.0</td>\n",
       "      <td>5.0</td>\n",
       "      <td>...</td>\n",
       "      <td>4433</td>\n",
       "      <td>Video Games</td>\n",
       "      <td>PowerA Wired Controller for Nintendo Switch: G...</td>\n",
       "      <td>[GameCube style controllers are widely conside...</td>\n",
       "      <td>[Video Games, Nintendo Switch, Accessories, Co...</td>\n",
       "      <td>24.88</td>\n",
       "      <td>1</td>\n",
       "      <td>NaN</td>\n",
       "      <td>B001EYUY7U,B002L8W5V6,B000FQ9R4E,B001D8PFIK,B0...</td>\n",
       "      <td>[-1, 1041, 1376, 457, 705, 1610, 1913, 1599, 1...</td>\n",
       "    </tr>\n",
       "    <tr>\n",
       "      <th>78</th>\n",
       "      <td>AGC6BKQ2TR6SZAB4YMPA7FINKBXQ</td>\n",
       "      <td>B07P6MD9B7</td>\n",
       "      <td>0.0</td>\n",
       "      <td>2022-01-31 05:49:20.773</td>\n",
       "      <td>4.0</td>\n",
       "      <td>3.500000</td>\n",
       "      <td>1.0</td>\n",
       "      <td>5.000000</td>\n",
       "      <td>1.0</td>\n",
       "      <td>5.0</td>\n",
       "      <td>...</td>\n",
       "      <td>4124</td>\n",
       "      <td>Video Games</td>\n",
       "      <td>LEGO Worlds - Xbox One</td>\n",
       "      <td>[EXPLORE. DISCOVER. CREATE. TOGETHER. LEGO Wor...</td>\n",
       "      <td>[Video Games, Xbox One, Games]</td>\n",
       "      <td>19.22</td>\n",
       "      <td>2</td>\n",
       "      <td>1.0</td>\n",
       "      <td>B005N4HZRO,B07X6KDQ98,B07SM7G9CN,B07V5CFMY4,B0...</td>\n",
       "      <td>[1934, 4262, 4164, 4197, 3846, 2621, 4210, 433...</td>\n",
       "    </tr>\n",
       "    <tr>\n",
       "      <th>1391</th>\n",
       "      <td>AHMKDXEUMTNYFEZLLQFYPU54RYPA</td>\n",
       "      <td>B094YHB1QK</td>\n",
       "      <td>1.0</td>\n",
       "      <td>2021-09-03 20:48:44.778</td>\n",
       "      <td>49.0</td>\n",
       "      <td>4.204082</td>\n",
       "      <td>12.0</td>\n",
       "      <td>4.166667</td>\n",
       "      <td>2.0</td>\n",
       "      <td>5.0</td>\n",
       "      <td>...</td>\n",
       "      <td>4455</td>\n",
       "      <td>Video Games</td>\n",
       "      <td>PlayStation DualSense Wireless Controller – Ga...</td>\n",
       "      <td>[Plot a course for astronomical adventures on ...</td>\n",
       "      <td>[Video Games, PlayStation 5, Accessories, Cont...</td>\n",
       "      <td>74.99</td>\n",
       "      <td>1</td>\n",
       "      <td>NaN</td>\n",
       "      <td>B0C3KYVDWT,B0128UH1VU,B08C3WQ25C,B01N3ASPNV,B0...</td>\n",
       "      <td>[4607, 3113, 4365, 3527, 3811, 2512, 3010, 202...</td>\n",
       "    </tr>\n",
       "    <tr>\n",
       "      <th>1394</th>\n",
       "      <td>AHSSHPP7VQRWVDRV2SX3DGX5MELA</td>\n",
       "      <td>B07XV4NHHN</td>\n",
       "      <td>1.0</td>\n",
       "      <td>2022-01-20 21:00:29.759</td>\n",
       "      <td>12.0</td>\n",
       "      <td>4.500000</td>\n",
       "      <td>2.0</td>\n",
       "      <td>4.500000</td>\n",
       "      <td>1.0</td>\n",
       "      <td>4.0</td>\n",
       "      <td>...</td>\n",
       "      <td>4267</td>\n",
       "      <td>Video Games</td>\n",
       "      <td>Ring Fit Adventure - Nintendo Switch</td>\n",
       "      <td>[Explore a fantastical adventure world to defe...</td>\n",
       "      <td>[Video Games, Nintendo Switch, Accessories]</td>\n",
       "      <td>None</td>\n",
       "      <td>1</td>\n",
       "      <td>NaN</td>\n",
       "      <td>B000N5Z2L4,B087NNZZM8,B087NNPYP3,B087SHFL9B,B0...</td>\n",
       "      <td>[-1, -1, -1, -1, 526, 4343, 4342, 4344, 4203, ...</td>\n",
       "    </tr>\n",
       "    <tr>\n",
       "      <th>1234</th>\n",
       "      <td>AEVTLWMYYFATTYAEK3C5FSDFT3FA</td>\n",
       "      <td>B094YHB1QK</td>\n",
       "      <td>1.0</td>\n",
       "      <td>2021-11-17 15:17:52.304</td>\n",
       "      <td>44.0</td>\n",
       "      <td>4.431818</td>\n",
       "      <td>5.0</td>\n",
       "      <td>4.800000</td>\n",
       "      <td>1.0</td>\n",
       "      <td>5.0</td>\n",
       "      <td>...</td>\n",
       "      <td>4455</td>\n",
       "      <td>Video Games</td>\n",
       "      <td>PlayStation DualSense Wireless Controller – Ga...</td>\n",
       "      <td>[Plot a course for astronomical adventures on ...</td>\n",
       "      <td>[Video Games, PlayStation 5, Accessories, Cont...</td>\n",
       "      <td>74.99</td>\n",
       "      <td>2</td>\n",
       "      <td>1.0</td>\n",
       "      <td>B0051D8QCA,B001JKTC9A,B00CEGCN76,B0995GXFV4,B0...</td>\n",
       "      <td>[-1, 1864, 1103, 2379, 4461, 3081, 4595, 4130,...</td>\n",
       "    </tr>\n",
       "    <tr>\n",
       "      <th>1421</th>\n",
       "      <td>AFERSD24ISKJZNLIKZ5A2V5DGMRA</td>\n",
       "      <td>B087XRWHHL</td>\n",
       "      <td>1.0</td>\n",
       "      <td>2022-02-21 13:27:53.499</td>\n",
       "      <td>20.0</td>\n",
       "      <td>4.000000</td>\n",
       "      <td>2.0</td>\n",
       "      <td>4.500000</td>\n",
       "      <td>0.0</td>\n",
       "      <td>NaN</td>\n",
       "      <td>...</td>\n",
       "      <td>4350</td>\n",
       "      <td>Video Games</td>\n",
       "      <td>Assassin’s Creed Valhalla Xbox Series X|S, Xbo...</td>\n",
       "      <td>[Upgrade to the Xbox Series X S version of the...</td>\n",
       "      <td>[Video Games, Xbox One, Games]</td>\n",
       "      <td>15.79</td>\n",
       "      <td>2</td>\n",
       "      <td>5.0</td>\n",
       "      <td>B00BN5T30E,B07WS5R5DP,B00BAQXJMO,B0086VPUHI,B0...</td>\n",
       "      <td>[-1, -1, 2352, 4218, 2325, 2114, 1378, 1365, 3...</td>\n",
       "    </tr>\n",
       "  </tbody>\n",
       "</table>\n",
       "<p>10 rows × 23 columns</p>\n",
       "</div>"
      ],
      "text/plain": [
       "                           user_id parent_asin  rating  \\\n",
       "1533  AEGELTZNU45ZVX5RLS57L3XRI5QQ  B00897Z27C     0.0   \n",
       "1750  AEKZWIRSLLUT5XOVLBIS5HLVEPCA  B01D63UU52     0.0   \n",
       "1519  AGOQBWRYF7Z4A6F6A4DBSD7YU4VA  B09CG15F86     1.0   \n",
       "788   AHAOIPSKT4LEWU47ZEN7LMOKRMTA  B002DZKZ5K     0.0   \n",
       "180   AHN5HTWFC6HFP5JRBXGALC456NCA  B08TG138F1     1.0   \n",
       "78    AGC6BKQ2TR6SZAB4YMPA7FINKBXQ  B07P6MD9B7     0.0   \n",
       "1391  AHMKDXEUMTNYFEZLLQFYPU54RYPA  B094YHB1QK     1.0   \n",
       "1394  AHSSHPP7VQRWVDRV2SX3DGX5MELA  B07XV4NHHN     1.0   \n",
       "1234  AEVTLWMYYFATTYAEK3C5FSDFT3FA  B094YHB1QK     1.0   \n",
       "1421  AFERSD24ISKJZNLIKZ5A2V5DGMRA  B087XRWHHL     1.0   \n",
       "\n",
       "                   timestamp  parent_asin_rating_cnt_365d  \\\n",
       "1533 2021-10-07 13:27:46.156                          1.0   \n",
       "1750 2021-11-17 17:37:48.476                          2.0   \n",
       "1519 2021-12-31 20:55:58.723                          5.0   \n",
       "788  2022-02-02 08:29:00.447                          2.0   \n",
       "180  2021-08-19 13:56:12.440                          8.0   \n",
       "78   2022-01-31 05:49:20.773                          4.0   \n",
       "1391 2021-09-03 20:48:44.778                         49.0   \n",
       "1394 2022-01-20 21:00:29.759                         12.0   \n",
       "1234 2021-11-17 15:17:52.304                         44.0   \n",
       "1421 2022-02-21 13:27:53.499                         20.0   \n",
       "\n",
       "      parent_asin_rating_avg_prev_rating_365d  parent_asin_rating_cnt_90d  \\\n",
       "1533                                 5.000000                         0.0   \n",
       "1750                                 4.500000                         0.0   \n",
       "1519                                 4.600000                         1.0   \n",
       "788                                  3.000000                         0.0   \n",
       "180                                  4.750000                         1.0   \n",
       "78                                   3.500000                         1.0   \n",
       "1391                                 4.204082                        12.0   \n",
       "1394                                 4.500000                         2.0   \n",
       "1234                                 4.431818                         5.0   \n",
       "1421                                 4.000000                         2.0   \n",
       "\n",
       "      parent_asin_rating_avg_prev_rating_90d  parent_asin_rating_cnt_30d  \\\n",
       "1533                                     NaN                         0.0   \n",
       "1750                                     NaN                         0.0   \n",
       "1519                                5.000000                         0.0   \n",
       "788                                      NaN                         0.0   \n",
       "180                                 5.000000                         1.0   \n",
       "78                                  5.000000                         1.0   \n",
       "1391                                4.166667                         2.0   \n",
       "1394                                4.500000                         1.0   \n",
       "1234                                4.800000                         1.0   \n",
       "1421                                4.500000                         0.0   \n",
       "\n",
       "      parent_asin_rating_avg_prev_rating_30d  ...  item_indice  main_category  \\\n",
       "1533                                     NaN  ...         2128    Video Games   \n",
       "1750                                     NaN  ...         3303      Computers   \n",
       "1519                                     NaN  ...         4468      Computers   \n",
       "788                                      NaN  ...         1244    Video Games   \n",
       "180                                      5.0  ...         4433    Video Games   \n",
       "78                                       5.0  ...         4124    Video Games   \n",
       "1391                                     5.0  ...         4455    Video Games   \n",
       "1394                                     4.0  ...         4267    Video Games   \n",
       "1234                                     5.0  ...         4455    Video Games   \n",
       "1421                                     NaN  ...         4350    Video Games   \n",
       "\n",
       "                                                  title  \\\n",
       "1533                            ZombiU - Nintendo Wii U   \n",
       "1750  CORSAIR M65 Pro RGB - FPS Gaming Mouse - 12,00...   \n",
       "1519  Razer Doubleshot PBT Keycap Upgrade Set for Me...   \n",
       "788   Lego Indiana Jones 2: The Adventure Continues ...   \n",
       "180   PowerA Wired Controller for Nintendo Switch: G...   \n",
       "78                               LEGO Worlds - Xbox One   \n",
       "1391  PlayStation DualSense Wireless Controller – Ga...   \n",
       "1394               Ring Fit Adventure - Nintendo Switch   \n",
       "1234  PlayStation DualSense Wireless Controller – Ga...   \n",
       "1421  Assassin’s Creed Valhalla Xbox Series X|S, Xbo...   \n",
       "\n",
       "                                            description  \\\n",
       "1533  [Can you survive a zombie swarm? London's fall...   \n",
       "1750  [The M65 PRO RGB is a competition-grade FPS ga...   \n",
       "1519  [Enjoy durability without cramping your style....   \n",
       "788   [Product Description, LEGO Indiana Jones 2: Th...   \n",
       "180   [GameCube style controllers are widely conside...   \n",
       "78    [EXPLORE. DISCOVER. CREATE. TOGETHER. LEGO Wor...   \n",
       "1391  [Plot a course for astronomical adventures on ...   \n",
       "1394  [Explore a fantastical adventure world to defe...   \n",
       "1234  [Plot a course for astronomical adventures on ...   \n",
       "1421  [Upgrade to the Xbox Series X S version of the...   \n",
       "\n",
       "                                             categories  price  \\\n",
       "1533  [Video Games, Legacy Systems, Nintendo Systems...   14.6   \n",
       "1750        [Video Games, PC, Accessories, Gaming Mice]   33.0   \n",
       "1519   [Video Games, PC, Accessories, Gaming Keyboards]   None   \n",
       "788   [Video Games, Legacy Systems, Nintendo Systems...  28.53   \n",
       "180   [Video Games, Nintendo Switch, Accessories, Co...  24.88   \n",
       "78                       [Video Games, Xbox One, Games]  19.22   \n",
       "1391  [Video Games, PlayStation 5, Accessories, Cont...  74.99   \n",
       "1394        [Video Games, Nintendo Switch, Accessories]   None   \n",
       "1234  [Video Games, PlayStation 5, Accessories, Cont...  74.99   \n",
       "1421                     [Video Games, Xbox One, Games]  15.79   \n",
       "\n",
       "     user_rating_cnt_90d user_rating_avg_prev_rating_90d  \\\n",
       "1533                   1                             NaN   \n",
       "1750                   1                             NaN   \n",
       "1519                   1                             NaN   \n",
       "788                    2                             2.0   \n",
       "180                    1                             NaN   \n",
       "78                     2                             1.0   \n",
       "1391                   1                             NaN   \n",
       "1394                   1                             NaN   \n",
       "1234                   2                             1.0   \n",
       "1421                   2                             5.0   \n",
       "\n",
       "                        user_rating_list_10_recent_asin  \\\n",
       "1533  B07KS74Q2X,B0C3KYVDWT,B0795GHTBC,B07P6MD9B7,B0...   \n",
       "1750  B07BDJHFQD,B06WVCWY41,B00MB1I3FU,B01NASEX0C,B0...   \n",
       "1519  B072HGLS26,B073X4V4V4,B08L6L6KQL,B07ZJ6RY1W,B0...   \n",
       "788   B00L3LQ1FI,B017QU5G1O,B00A878J5I,B07G4YYZ1M,B0...   \n",
       "180   B001EYUY7U,B002L8W5V6,B000FQ9R4E,B001D8PFIK,B0...   \n",
       "78    B005N4HZRO,B07X6KDQ98,B07SM7G9CN,B07V5CFMY4,B0...   \n",
       "1391  B0C3KYVDWT,B0128UH1VU,B08C3WQ25C,B01N3ASPNV,B0...   \n",
       "1394  B000N5Z2L4,B087NNZZM8,B087NNPYP3,B087SHFL9B,B0...   \n",
       "1234  B0051D8QCA,B001JKTC9A,B00CEGCN76,B0995GXFV4,B0...   \n",
       "1421  B00BN5T30E,B07WS5R5DP,B00BAQXJMO,B0086VPUHI,B0...   \n",
       "\n",
       "                                          item_sequence  \n",
       "1533  [-1, -1, -1, -1, -1, 4034, 4607, 3846, 4124, 3...  \n",
       "1750  [3867, 3559, 2793, 3549, 4159, 3923, 4368, 404...  \n",
       "1519  [-1, -1, -1, 3693, 3727, 4391, 4303, 3788, 363...  \n",
       "788   [2755, 3202, 2267, 3973, 3834, 3698, 4426, 430...  \n",
       "180   [-1, 1041, 1376, 457, 705, 1610, 1913, 1599, 1...  \n",
       "78    [1934, 4262, 4164, 4197, 3846, 2621, 4210, 433...  \n",
       "1391  [4607, 3113, 4365, 3527, 3811, 2512, 3010, 202...  \n",
       "1394  [-1, -1, -1, -1, 526, 4343, 4342, 4344, 4203, ...  \n",
       "1234  [-1, 1864, 1103, 2379, 4461, 3081, 4595, 4130,...  \n",
       "1421  [-1, -1, 2352, 4218, 2325, 2114, 1378, 1365, 3...  \n",
       "\n",
       "[10 rows x 23 columns]"
      ]
     },
     "execution_count": 23,
     "metadata": {},
     "output_type": "execute_result"
    }
   ],
   "source": [
    "val_df = val_rating_dataset.df\n",
    "val_df.sample(10)"
   ]
  },
  {
   "cell_type": "code",
   "execution_count": 24,
   "id": "9eb1583b-40f7-4157-a383-5891389ac119",
   "metadata": {
    "scrolled": true
   },
   "outputs": [
    {
     "data": {
      "text/html": [
       "<div>\n",
       "<style scoped>\n",
       "    .dataframe tbody tr th:only-of-type {\n",
       "        vertical-align: middle;\n",
       "    }\n",
       "\n",
       "    .dataframe tbody tr th {\n",
       "        vertical-align: top;\n",
       "    }\n",
       "\n",
       "    .dataframe thead th {\n",
       "        text-align: right;\n",
       "    }\n",
       "</style>\n",
       "<table border=\"1\" class=\"dataframe\">\n",
       "  <thead>\n",
       "    <tr style=\"text-align: right;\">\n",
       "      <th></th>\n",
       "      <th>user_id</th>\n",
       "      <th>parent_asin</th>\n",
       "      <th>rating</th>\n",
       "      <th>timestamp</th>\n",
       "      <th>parent_asin_rating_cnt_365d</th>\n",
       "      <th>parent_asin_rating_avg_prev_rating_365d</th>\n",
       "      <th>parent_asin_rating_cnt_90d</th>\n",
       "      <th>parent_asin_rating_avg_prev_rating_90d</th>\n",
       "      <th>parent_asin_rating_cnt_30d</th>\n",
       "      <th>parent_asin_rating_avg_prev_rating_30d</th>\n",
       "      <th>...</th>\n",
       "      <th>item_indice</th>\n",
       "      <th>main_category</th>\n",
       "      <th>title</th>\n",
       "      <th>description</th>\n",
       "      <th>categories</th>\n",
       "      <th>price</th>\n",
       "      <th>user_rating_cnt_90d</th>\n",
       "      <th>user_rating_avg_prev_rating_90d</th>\n",
       "      <th>user_rating_list_10_recent_asin</th>\n",
       "      <th>item_sequence</th>\n",
       "    </tr>\n",
       "  </thead>\n",
       "  <tbody>\n",
       "    <tr>\n",
       "      <th>17</th>\n",
       "      <td>AEVKATB3HNRJWVKZ3QFJFFWWRLCA</td>\n",
       "      <td>B006G81HV6</td>\n",
       "      <td>0.0</td>\n",
       "      <td>2022-03-04 01:37:08.233</td>\n",
       "      <td>1.0</td>\n",
       "      <td>5.0</td>\n",
       "      <td>1.0</td>\n",
       "      <td>5.0</td>\n",
       "      <td>0.0</td>\n",
       "      <td>NaN</td>\n",
       "      <td>...</td>\n",
       "      <td>1984</td>\n",
       "      <td>Video Games</td>\n",
       "      <td>FIFA Street - Playstation 3</td>\n",
       "      <td>[Product Description, From the creators of the award-winning EA SPORTS FIFA Football franchise, and inspired by street football styles and stars from around the world, FIFA Street is the most authentic street football game ever made. Enjoy a unique and fun experience where everything from the environments to the gear to the music is true to the sport and its culture. Whether performing one panna after another without breaking a sweat the way the game is played in Amsterdam, or a physical, fight-for-possession style the way players compete in London, fans will enjoy a superior fidelity of ball control and responsiveness than anything ever experienced. Plus, for the first time ever, utilize aerial skills to maneuver past opponents, an all-new sophisticated wall-play mechanic and over 50 brand new spectacular skill moves. Complete Customization - Enjoy customizable matches to replicate the unique ways the game is played around the world. Choose from different size pitches, number of players, and match types. Take on the challenge of performing trick moves and panna's in a game in Amsterdam, authentic futsal styled matches with no wall play in Spain, or a physical 5v5 contest with assigned player positions in the UK. EA SPORTS Football Club - FIFA Street will be connected to EA SPORTS Football Club, so from the first nutmeg on, you will be contributing to your Football Club identity., Amazon.com, Whether you call it soccer or football, one thing's for sure — you've got the technique worthy of the sport's most competitive clubs. You sleep and wake by the black-and-white ball and you've got the foot to kick it all the way to the World Cup. But something's missing. The yellow- and white-painted lines, neatly groomed turf and perfectly squared-off goals are starting to get a bit old. You've seen one field, you've seen them all — or have you? Ditch your cleats, leave the stadium in the dust and get ready to experience fierce soccer action where it's really at — in the streets. From rooftops to parking lots, from Rio de Janeiro to Amsterdam, players are tearing up the pavement and taking soccer to a whole new level. Build up a killer roster and sharpen your skills, you're about to take it to the Street., Take Fifa to the Streets  Play with familiar players   More command &amp; responsiveness, Synopsis, You know the award-winning FIFA franchise always scores when it comes to authentic, immersive and action-packed gameplay. Now, the same creators behind the revolutionary sports series take you out of the stadium and steep you in the rough and gritty culture of underground soccer in FIFA Street. Featuring all of the robust FIFA gameplay engines, like the Impact Engine, Precision Dribbling and Personality+, this fresh installment keeps what's already great, and also kicks it up a notch with the most responsive and authentic ball handling yet, Street Control. Bait and beat opponents using a precise standing dribble, maneuver through tight spaces with the deft street dribble, show your flair by juggling and master more than 50 never-before-seen skills. Prove your talent in global tournaments and challenges that take you from futsal-style matches in Spain to physical five-on-five contests in the UK and pit you against fellow gamers in massive, social competitions. Build your own team and climb your way to the top of the leaderboards, earning brag-worthy, in-game rewards along the way. Say goodbye to soccer the way you once knew it — once you hit the Street, you'll never want to look back., Key Features:, Immerse yourself in the gritty, competitive, action-packed culture of street soccer in painstakingly authentic gameplay from the creators of the award-winning FIFA franchise, Immerse yourself in the gritty, competitive, action-packed culture of street soccer in painstakingly authentic gameplay from the creators of the award-winning FIFA franchise, Own the ball with more command and responsiveness than ever as Street Ball Control replicates the touch, creativity and flair that players bring to the streets, Own the ball with more command and responsiveness than ever as Street Ball Control replicates the touch, creativity and flair that players bring to the streets, Maneuver the ball backwards, forwards and side-to-side in a standing dribble to lure your opponent into making the first move, then rally past him with a panna or trick move, Maneuver the ball backwards, forwards and side-to-side in a standing dribble to lure your opponent into making the first move, then rally past him with a panna or trick move, Slip through tight spaces or fend off the defense using close dribble touches thanks to the finely tuned Street Dribble system, Slip through tight spaces or fend off the defense using close dribble touches thanks to the finely tuned Street Dribble system, Master a massive skill set, including juggling and other aerial maneuvers and more than 50 never-before-seen moves, Master a massive skill set, including juggling and other aerial maneuvers and more than 50 never-before-seen moves, Climb your way to soccer stardom by building your own team and clinching wins in 16 tournaments and 20 challenges, starting off at the local level and rising to European and world-stage competitions, Climb your way to soccer stardom by building your own team and clinching wins in 16 tournaments and 20 challenges, starting off at the local level and rising to European and world-stage competitions, Compete against teams created by other FIFA Street gamers or face off one-on-one in the vast, social World Tour mode, and check your ranking on the leaderboards, Compete against teams created by other FIFA Street gamers or face off one-on-one in the vast, social World Tour mode, and check your ranking on the leaderboards, Discover wild ways to win Street Challenges against up to four players, by kicking the ball through your opponent's legs in Panna Rules, wowing the crowd in Entertainment Points, dwindling your team down one by one in Last Man Standing and more, Discover wild ways to win Street Challenges against up to four players, by kicking the ball through your opponent's legs in Panna Rules, wowing the crowd in Entertainment Points, dwindling your team down one by one in Last Man Standing and more, Flaunt your showmanship in front of Amsterdam crowds, compete without walls in the futsal-style matches of Spain or play rough in physical five-on-five contests in the UK as you experience the unique street cultures around the globe, Flaunt your showmanship in front of Amsterdam crowds, compete without walls in the futsal-style matches of Spain or play rough in physical five-on-five contests in the UK as you experience the unique street cultures around the globe, Take the action from parking lots and parks to gyms and rooftop arenas in authentic, real-world environments, Take the action from parking lots and parks to gyms and rooftop arenas in authentic, real-world environments, Utilize the critically acclaimed FIFA gameplay engines you've already mastered, including the Impact Engine, Precision Dribbling, Personality+ and more, Utilize the critically acclaimed FIFA gameplay engines you've already mastered, including the Impact Engine, Precision Dribbling, Personality+ and more, Play with your favorite stars from the world's top clubs, including Manchester United, Barcelona, Real Madrid and more, each sporting their authentic kits and gear, and meet real freestylers plucked from streets around the world, Play with your favorite stars from the world's top clubs, including Manchester United, Barcelona, Real Madrid and more, each sporting their authentic kits and gear, and meet real freestylers plucked from streets around the world, Earn more then 100 different styles, tricks and celebrations to grow your player and unlock more than 225 items for your squad, including team kits, street wear, boots, environments and teams, Earn more then 100 different styles, tricks and celebrations to grow your player and unlock more than 225 items for your squad, including team kits, street wear, boots, environments and teams]</td>\n",
       "      <td>[Video Games, Legacy Systems, PlayStation Systems, PlayStation 3, Games]</td>\n",
       "      <td>16.0</td>\n",
       "      <td>1</td>\n",
       "      <td>NaN</td>\n",
       "      <td>B0028Y4PUW,B001ELJE1A,B07MB4NPS4,B0026MS1XS,B001EYUXDK,B00005O0I2,B0013OL0BK</td>\n",
       "      <td>[-1, -1, -1, 1190, 770, 4057, 1183, 1022, 162, 652]</td>\n",
       "    </tr>\n",
       "    <tr>\n",
       "      <th>112</th>\n",
       "      <td>AEVKATB3HNRJWVKZ3QFJFFWWRLCA</td>\n",
       "      <td>B07DY1JKRH</td>\n",
       "      <td>1.0</td>\n",
       "      <td>2022-03-04 01:37:08.233</td>\n",
       "      <td>0.0</td>\n",
       "      <td>NaN</td>\n",
       "      <td>0.0</td>\n",
       "      <td>NaN</td>\n",
       "      <td>0.0</td>\n",
       "      <td>NaN</td>\n",
       "      <td>...</td>\n",
       "      <td>3951</td>\n",
       "      <td>Video Games</td>\n",
       "      <td>Dead by Daylight - Xbox One</td>\n",
       "      <td>[\"Death is not an escape…  Dead by Daylight is an asymmetrical, multiplayer (4 vs. 1) horror game where one player takes on the role of a savage killer, and the other four players become Survivors, frantically scurrying to avoid being caught, tortured, and killed.  Survivors play in third-person and have the advatage of better situational awareness. The Killer plays in first-person and is more focused on their prey.  The Survivors' goal in each encounter is to escape the Killing Ground without getting caught by the Killer - in an environment that changes every time you play.\"]</td>\n",
       "      <td>[Video Games, Xbox One, Games]</td>\n",
       "      <td>41.6</td>\n",
       "      <td>1</td>\n",
       "      <td>NaN</td>\n",
       "      <td>B0028Y4PUW,B001ELJE1A,B07MB4NPS4,B0026MS1XS,B001EYUXDK,B00005O0I2,B0013OL0BK</td>\n",
       "      <td>[-1, -1, -1, 1190, 770, 4057, 1183, 1022, 162, 652]</td>\n",
       "    </tr>\n",
       "  </tbody>\n",
       "</table>\n",
       "<p>2 rows × 23 columns</p>\n",
       "</div>"
      ],
      "text/plain": [
       "                          user_id parent_asin  rating               timestamp  \\\n",
       "17   AEVKATB3HNRJWVKZ3QFJFFWWRLCA  B006G81HV6     0.0 2022-03-04 01:37:08.233   \n",
       "112  AEVKATB3HNRJWVKZ3QFJFFWWRLCA  B07DY1JKRH     1.0 2022-03-04 01:37:08.233   \n",
       "\n",
       "     parent_asin_rating_cnt_365d  parent_asin_rating_avg_prev_rating_365d  \\\n",
       "17                           1.0                                      5.0   \n",
       "112                          0.0                                      NaN   \n",
       "\n",
       "     parent_asin_rating_cnt_90d  parent_asin_rating_avg_prev_rating_90d  \\\n",
       "17                          1.0                                     5.0   \n",
       "112                         0.0                                     NaN   \n",
       "\n",
       "     parent_asin_rating_cnt_30d  parent_asin_rating_avg_prev_rating_30d  ...  \\\n",
       "17                          0.0                                     NaN  ...   \n",
       "112                         0.0                                     NaN  ...   \n",
       "\n",
       "     item_indice  main_category                        title  \\\n",
       "17          1984    Video Games  FIFA Street - Playstation 3   \n",
       "112         3951    Video Games  Dead by Daylight - Xbox One   \n",
       "\n",
       "                                                                                                                                                                                                                                                                                                                                                                                                                                                                                                                                                                                                                                                                                                                                                                                                                                                                                                                                                                                                                                                                                                                                                                                                                                                                                                                                                                                                                                                                                                                                                                                                                                                                                                                                                                                                                                                                                                                                                                                                                                                                                                                                                                                                                                                                                                                                                                                                                                                                                                                                                                                                                                                                                                                                                                                                                                                                                                                                                                                                                                                                                                                                                                                                                                                                                                                                                                                                                                                                                                                                                                                                                                                                                                                                                                                                                                                                                                                                                                                                                                                                                                                                                                                                                                                                                                                                                                                                                                                                                                                                                                                                                                                                                                                                                                                                                                                                                                                                                                                                                                                                                                                                                                                                                                                                                                                                                                                                                                                                                                                                                                                                                                                                                                                                                                                                                                                                                                                                                                                                                                                                                                                                                                                                                                                                                                                                                                                                                                                                                                                                                                                                                                                                                                                                                                                                                                                                                                                                                                                                                                                                                                                                                                                                                                                                                                                                                                                                                                                                                                                                                                                                                                                                                                                                                                                                                                                                                                                                                                                                                                                                                                                                                                                                                                                                                                                                                                                                                                            description  \\\n",
       "17   [Product Description, From the creators of the award-winning EA SPORTS FIFA Football franchise, and inspired by street football styles and stars from around the world, FIFA Street is the most authentic street football game ever made. Enjoy a unique and fun experience where everything from the environments to the gear to the music is true to the sport and its culture. Whether performing one panna after another without breaking a sweat the way the game is played in Amsterdam, or a physical, fight-for-possession style the way players compete in London, fans will enjoy a superior fidelity of ball control and responsiveness than anything ever experienced. Plus, for the first time ever, utilize aerial skills to maneuver past opponents, an all-new sophisticated wall-play mechanic and over 50 brand new spectacular skill moves. Complete Customization - Enjoy customizable matches to replicate the unique ways the game is played around the world. Choose from different size pitches, number of players, and match types. Take on the challenge of performing trick moves and panna's in a game in Amsterdam, authentic futsal styled matches with no wall play in Spain, or a physical 5v5 contest with assigned player positions in the UK. EA SPORTS Football Club - FIFA Street will be connected to EA SPORTS Football Club, so from the first nutmeg on, you will be contributing to your Football Club identity., Amazon.com, Whether you call it soccer or football, one thing's for sure — you've got the technique worthy of the sport's most competitive clubs. You sleep and wake by the black-and-white ball and you've got the foot to kick it all the way to the World Cup. But something's missing. The yellow- and white-painted lines, neatly groomed turf and perfectly squared-off goals are starting to get a bit old. You've seen one field, you've seen them all — or have you? Ditch your cleats, leave the stadium in the dust and get ready to experience fierce soccer action where it's really at — in the streets. From rooftops to parking lots, from Rio de Janeiro to Amsterdam, players are tearing up the pavement and taking soccer to a whole new level. Build up a killer roster and sharpen your skills, you're about to take it to the Street., Take Fifa to the Streets  Play with familiar players   More command & responsiveness, Synopsis, You know the award-winning FIFA franchise always scores when it comes to authentic, immersive and action-packed gameplay. Now, the same creators behind the revolutionary sports series take you out of the stadium and steep you in the rough and gritty culture of underground soccer in FIFA Street. Featuring all of the robust FIFA gameplay engines, like the Impact Engine, Precision Dribbling and Personality+, this fresh installment keeps what's already great, and also kicks it up a notch with the most responsive and authentic ball handling yet, Street Control. Bait and beat opponents using a precise standing dribble, maneuver through tight spaces with the deft street dribble, show your flair by juggling and master more than 50 never-before-seen skills. Prove your talent in global tournaments and challenges that take you from futsal-style matches in Spain to physical five-on-five contests in the UK and pit you against fellow gamers in massive, social competitions. Build your own team and climb your way to the top of the leaderboards, earning brag-worthy, in-game rewards along the way. Say goodbye to soccer the way you once knew it — once you hit the Street, you'll never want to look back., Key Features:, Immerse yourself in the gritty, competitive, action-packed culture of street soccer in painstakingly authentic gameplay from the creators of the award-winning FIFA franchise, Immerse yourself in the gritty, competitive, action-packed culture of street soccer in painstakingly authentic gameplay from the creators of the award-winning FIFA franchise, Own the ball with more command and responsiveness than ever as Street Ball Control replicates the touch, creativity and flair that players bring to the streets, Own the ball with more command and responsiveness than ever as Street Ball Control replicates the touch, creativity and flair that players bring to the streets, Maneuver the ball backwards, forwards and side-to-side in a standing dribble to lure your opponent into making the first move, then rally past him with a panna or trick move, Maneuver the ball backwards, forwards and side-to-side in a standing dribble to lure your opponent into making the first move, then rally past him with a panna or trick move, Slip through tight spaces or fend off the defense using close dribble touches thanks to the finely tuned Street Dribble system, Slip through tight spaces or fend off the defense using close dribble touches thanks to the finely tuned Street Dribble system, Master a massive skill set, including juggling and other aerial maneuvers and more than 50 never-before-seen moves, Master a massive skill set, including juggling and other aerial maneuvers and more than 50 never-before-seen moves, Climb your way to soccer stardom by building your own team and clinching wins in 16 tournaments and 20 challenges, starting off at the local level and rising to European and world-stage competitions, Climb your way to soccer stardom by building your own team and clinching wins in 16 tournaments and 20 challenges, starting off at the local level and rising to European and world-stage competitions, Compete against teams created by other FIFA Street gamers or face off one-on-one in the vast, social World Tour mode, and check your ranking on the leaderboards, Compete against teams created by other FIFA Street gamers or face off one-on-one in the vast, social World Tour mode, and check your ranking on the leaderboards, Discover wild ways to win Street Challenges against up to four players, by kicking the ball through your opponent's legs in Panna Rules, wowing the crowd in Entertainment Points, dwindling your team down one by one in Last Man Standing and more, Discover wild ways to win Street Challenges against up to four players, by kicking the ball through your opponent's legs in Panna Rules, wowing the crowd in Entertainment Points, dwindling your team down one by one in Last Man Standing and more, Flaunt your showmanship in front of Amsterdam crowds, compete without walls in the futsal-style matches of Spain or play rough in physical five-on-five contests in the UK as you experience the unique street cultures around the globe, Flaunt your showmanship in front of Amsterdam crowds, compete without walls in the futsal-style matches of Spain or play rough in physical five-on-five contests in the UK as you experience the unique street cultures around the globe, Take the action from parking lots and parks to gyms and rooftop arenas in authentic, real-world environments, Take the action from parking lots and parks to gyms and rooftop arenas in authentic, real-world environments, Utilize the critically acclaimed FIFA gameplay engines you've already mastered, including the Impact Engine, Precision Dribbling, Personality+ and more, Utilize the critically acclaimed FIFA gameplay engines you've already mastered, including the Impact Engine, Precision Dribbling, Personality+ and more, Play with your favorite stars from the world's top clubs, including Manchester United, Barcelona, Real Madrid and more, each sporting their authentic kits and gear, and meet real freestylers plucked from streets around the world, Play with your favorite stars from the world's top clubs, including Manchester United, Barcelona, Real Madrid and more, each sporting their authentic kits and gear, and meet real freestylers plucked from streets around the world, Earn more then 100 different styles, tricks and celebrations to grow your player and unlock more than 225 items for your squad, including team kits, street wear, boots, environments and teams, Earn more then 100 different styles, tricks and celebrations to grow your player and unlock more than 225 items for your squad, including team kits, street wear, boots, environments and teams]   \n",
       "112                                                                                                                                                                                                                                                                                                                                                                                                                                                                                                                                                                                                                                                                                                                                                                                                                                                                                                                                                                                                                                                                                                                                                                                                                                                                                                                                                                                                                                                                                                                                                                                                                                                                                                                                                                                                                                                                                                                                                                                                                                                                                                                                                                                                                                                                                                                                                                                                                                                                                                                                                                                                                                                                                                                                                                                                                                                                                                                                                                                                                                                                                                                                                                                                                                                                                                                                                                                                                                                                                                                                                                                                                                                                                                                                                                                                                                                                                                                                                                                                                                                                                                                                                                                                                                                                                                                                                                                                                                                                                                                                                                                                                                                                                                                                                                                                                                                                                                                                                                                                                                                                                                                                                                                                                                                                                                                                                                                                                                                                                                                                                                                                                                                                                                                                                                                                                                                                                                                                                                                                                                                                                                                                                                                                                                                                                                                                                                                                                                                                                                                                                                                                                                                                                                                                                                                                                                                                                                                                                                                                                                                                                                                                                                                                                                                                                                                                                                                                                                                                                                                                                                                                                                                                                                                                                                                                                                             [\"Death is not an escape…  Dead by Daylight is an asymmetrical, multiplayer (4 vs. 1) horror game where one player takes on the role of a savage killer, and the other four players become Survivors, frantically scurrying to avoid being caught, tortured, and killed.  Survivors play in third-person and have the advatage of better situational awareness. The Killer plays in first-person and is more focused on their prey.  The Survivors' goal in each encounter is to escape the Killing Ground without getting caught by the Killer - in an environment that changes every time you play.\"]   \n",
       "\n",
       "                                                                   categories  \\\n",
       "17   [Video Games, Legacy Systems, PlayStation Systems, PlayStation 3, Games]   \n",
       "112                                            [Video Games, Xbox One, Games]   \n",
       "\n",
       "    price user_rating_cnt_90d user_rating_avg_prev_rating_90d  \\\n",
       "17   16.0                   1                             NaN   \n",
       "112  41.6                   1                             NaN   \n",
       "\n",
       "                                                  user_rating_list_10_recent_asin  \\\n",
       "17   B0028Y4PUW,B001ELJE1A,B07MB4NPS4,B0026MS1XS,B001EYUXDK,B00005O0I2,B0013OL0BK   \n",
       "112  B0028Y4PUW,B001ELJE1A,B07MB4NPS4,B0026MS1XS,B001EYUXDK,B00005O0I2,B0013OL0BK   \n",
       "\n",
       "                                           item_sequence  \n",
       "17   [-1, -1, -1, 1190, 770, 4057, 1183, 1022, 162, 652]  \n",
       "112  [-1, -1, -1, 1190, 770, 4057, 1183, 1022, 162, 652]  \n",
       "\n",
       "[2 rows x 23 columns]"
      ]
     },
     "metadata": {},
     "output_type": "display_data"
    }
   ],
   "source": [
    "user_id = val_df.sample(1)[args.user_col].values[0]\n",
    "# user_id = \"AH4AOFTTDPHPAFAAVFMAF25H2LIQ\"\n",
    "test_df = val_df.loc[lambda df: df[args.user_col].eq(user_id)]\n",
    "with pd.option_context(\"display.max_colwidth\", None):\n",
    "    display(test_df)"
   ]
  },
  {
   "cell_type": "code",
   "execution_count": 25,
   "id": "c48fbc80-eda8-4dff-a246-95f8f2f75082",
   "metadata": {
    "scrolled": true
   },
   "outputs": [
    {
     "name": "stderr",
     "output_type": "stream",
     "text": [
      "\u001b[32m2024-10-28 02:35:37.052\u001b[0m | \u001b[1mINFO    \u001b[0m | \u001b[36m__main__\u001b[0m:\u001b[36m<module>\u001b[0m:\u001b[36m6\u001b[0m - \u001b[1mTest predicting before training with user_id = AEVKATB3HNRJWVKZ3QFJFFWWRLCA and parent_asin = B07DY1JKRH\u001b[0m\n",
      "/var/folders/mq/xtxzhvlj4m97tb8lgwxcnsb40000gn/T/ipykernel_82728/2733117192.py:12: UserWarning:\n",
      "\n",
      "Creating a tensor from a list of numpy.ndarrays is extremely slow. Please consider converting the list to a single numpy.ndarray with numpy.array() before converting to a tensor. (Triggered internally at /Users/runner/work/pytorch/pytorch/pytorch/torch/csrc/utils/tensor_new.cpp:281.)\n",
      "\n"
     ]
    },
    {
     "data": {
      "text/plain": [
       "tensor([[0.4950]], grad_fn=<SigmoidBackward0>)"
      ]
     },
     "execution_count": 25,
     "metadata": {},
     "output_type": "execute_result"
    }
   ],
   "source": [
    "test_row = test_df.loc[lambda df: df[args.rating_col].gt(0)].iloc[0]\n",
    "item_id = test_row[args.item_col]\n",
    "item_sequence = test_row[\"item_sequence\"]\n",
    "row_idx = test_row.name\n",
    "item_feature = val_item_features[row_idx]\n",
    "logger.info(\n",
    "    f\"Test predicting before training with {args.user_col} = {user_id} and {args.item_col} = {item_id}\"\n",
    ")\n",
    "user_indice = idm.get_user_index(user_id)\n",
    "item_indice = idm.get_item_index(item_id)\n",
    "user = torch.tensor([user_indice])\n",
    "item_sequence = torch.tensor([item_sequence])\n",
    "item_feature = torch.tensor([item_feature])\n",
    "item = torch.tensor([item_indice])\n",
    "\n",
    "model.eval()\n",
    "model.predict(user, item_sequence, item_feature, item)"
   ]
  },
  {
   "cell_type": "markdown",
   "id": "c2fd217c-c0c8-4e7c-81fe-6eb36f4729b5",
   "metadata": {},
   "source": [
    "#### Training loop"
   ]
  },
  {
   "cell_type": "markdown",
   "id": "1e9daad4-1365-4e8e-8f73-80ca5513572b",
   "metadata": {},
   "source": [
    "##### Overfit 1 batch"
   ]
  },
  {
   "cell_type": "code",
   "execution_count": 26,
   "id": "1a1cd9bd-e2c6-404b-b6ae-b26a7d35a0ba",
   "metadata": {
    "scrolled": true
   },
   "outputs": [
    {
     "name": "stderr",
     "output_type": "stream",
     "text": [
      "GPU available: True (mps), used: True\n",
      "TPU available: False, using: 0 TPU cores\n",
      "HPU available: False, using: 0 HPUs\n",
      "`Trainer(overfit_batches=1)` was configured so 1 batch will be used.\n",
      "\n",
      "  | Name  | Type   | Params | Mode \n",
      "-----------------------------------------\n",
      "0 | model | Ranker | 3.4 M  | train\n",
      "-----------------------------------------\n",
      "3.4 M     Trainable params\n",
      "0         Non-trainable params\n",
      "3.4 M     Total params\n",
      "13.533    Total estimated model params size (MB)\n",
      "14        Modules in train mode\n",
      "0         Modules in eval mode\n"
     ]
    },
    {
     "data": {
      "application/vnd.jupyter.widget-view+json": {
       "model_id": "",
       "version_major": 2,
       "version_minor": 0
      },
      "text/plain": [
       "Sanity Checking: |                                                                                            …"
      ]
     },
     "metadata": {},
     "output_type": "display_data"
    },
    {
     "name": "stderr",
     "output_type": "stream",
     "text": [
      "/Users/dvq/frostmourne/recsys-mvp/.venv/lib/python3.11/site-packages/lightning/pytorch/trainer/connectors/data_connector.py:251: UserWarning:\n",
      "\n",
      "You requested to overfit but enabled val dataloader shuffling. We are turning off the val dataloader shuffling for you.\n",
      "\n",
      "/Users/dvq/frostmourne/recsys-mvp/.venv/lib/python3.11/site-packages/lightning/pytorch/trainer/connectors/data_connector.py:424: PossibleUserWarning:\n",
      "\n",
      "The 'val_dataloader' does not have many workers which may be a bottleneck. Consider increasing the value of the `num_workers` argument` to `num_workers=10` in the `DataLoader` to improve performance.\n",
      "\n",
      "/Users/dvq/frostmourne/recsys-mvp/.venv/lib/python3.11/site-packages/lightning/pytorch/trainer/connectors/data_connector.py:251: UserWarning:\n",
      "\n",
      "You requested to overfit but enabled train dataloader shuffling. We are turning off the train dataloader shuffling for you.\n",
      "\n",
      "/Users/dvq/frostmourne/recsys-mvp/.venv/lib/python3.11/site-packages/lightning/pytorch/trainer/connectors/data_connector.py:424: PossibleUserWarning:\n",
      "\n",
      "The 'train_dataloader' does not have many workers which may be a bottleneck. Consider increasing the value of the `num_workers` argument` to `num_workers=10` in the `DataLoader` to improve performance.\n",
      "\n",
      "/Users/dvq/frostmourne/recsys-mvp/.venv/lib/python3.11/site-packages/lightning/pytorch/loops/fit_loop.py:298: PossibleUserWarning:\n",
      "\n",
      "The number of training batches (1) is smaller than the logging interval Trainer(log_every_n_steps=50). Set a lower value for log_every_n_steps if you want to see logs for the training epoch.\n",
      "\n"
     ]
    },
    {
     "data": {
      "application/vnd.jupyter.widget-view+json": {
       "model_id": "b0fa08e3d4904a278dbcec8bf332aef9",
       "version_major": 2,
       "version_minor": 0
      },
      "text/plain": [
       "Training: |                                                                                                   …"
      ]
     },
     "metadata": {},
     "output_type": "display_data"
    },
    {
     "data": {
      "application/vnd.jupyter.widget-view+json": {
       "model_id": "",
       "version_major": 2,
       "version_minor": 0
      },
      "text/plain": [
       "Validation: |                                                                                                 …"
      ]
     },
     "metadata": {},
     "output_type": "display_data"
    },
    {
     "data": {
      "application/vnd.jupyter.widget-view+json": {
       "model_id": "",
       "version_major": 2,
       "version_minor": 0
      },
      "text/plain": [
       "Validation: |                                                                                                 …"
      ]
     },
     "metadata": {},
     "output_type": "display_data"
    },
    {
     "data": {
      "application/vnd.jupyter.widget-view+json": {
       "model_id": "",
       "version_major": 2,
       "version_minor": 0
      },
      "text/plain": [
       "Validation: |                                                                                                 …"
      ]
     },
     "metadata": {},
     "output_type": "display_data"
    },
    {
     "data": {
      "application/vnd.jupyter.widget-view+json": {
       "model_id": "",
       "version_major": 2,
       "version_minor": 0
      },
      "text/plain": [
       "Validation: |                                                                                                 …"
      ]
     },
     "metadata": {},
     "output_type": "display_data"
    },
    {
     "data": {
      "application/vnd.jupyter.widget-view+json": {
       "model_id": "",
       "version_major": 2,
       "version_minor": 0
      },
      "text/plain": [
       "Validation: |                                                                                                 …"
      ]
     },
     "metadata": {},
     "output_type": "display_data"
    },
    {
     "data": {
      "application/vnd.jupyter.widget-view+json": {
       "model_id": "",
       "version_major": 2,
       "version_minor": 0
      },
      "text/plain": [
       "Validation: |                                                                                                 …"
      ]
     },
     "metadata": {},
     "output_type": "display_data"
    },
    {
     "data": {
      "application/vnd.jupyter.widget-view+json": {
       "model_id": "",
       "version_major": 2,
       "version_minor": 0
      },
      "text/plain": [
       "Validation: |                                                                                                 …"
      ]
     },
     "metadata": {},
     "output_type": "display_data"
    },
    {
     "data": {
      "application/vnd.jupyter.widget-view+json": {
       "model_id": "",
       "version_major": 2,
       "version_minor": 0
      },
      "text/plain": [
       "Validation: |                                                                                                 …"
      ]
     },
     "metadata": {},
     "output_type": "display_data"
    },
    {
     "data": {
      "application/vnd.jupyter.widget-view+json": {
       "model_id": "",
       "version_major": 2,
       "version_minor": 0
      },
      "text/plain": [
       "Validation: |                                                                                                 …"
      ]
     },
     "metadata": {},
     "output_type": "display_data"
    },
    {
     "data": {
      "application/vnd.jupyter.widget-view+json": {
       "model_id": "",
       "version_major": 2,
       "version_minor": 0
      },
      "text/plain": [
       "Validation: |                                                                                                 …"
      ]
     },
     "metadata": {},
     "output_type": "display_data"
    },
    {
     "data": {
      "application/vnd.jupyter.widget-view+json": {
       "model_id": "",
       "version_major": 2,
       "version_minor": 0
      },
      "text/plain": [
       "Validation: |                                                                                                 …"
      ]
     },
     "metadata": {},
     "output_type": "display_data"
    },
    {
     "data": {
      "application/vnd.jupyter.widget-view+json": {
       "model_id": "",
       "version_major": 2,
       "version_minor": 0
      },
      "text/plain": [
       "Validation: |                                                                                                 …"
      ]
     },
     "metadata": {},
     "output_type": "display_data"
    },
    {
     "data": {
      "application/vnd.jupyter.widget-view+json": {
       "model_id": "",
       "version_major": 2,
       "version_minor": 0
      },
      "text/plain": [
       "Validation: |                                                                                                 …"
      ]
     },
     "metadata": {},
     "output_type": "display_data"
    },
    {
     "data": {
      "application/vnd.jupyter.widget-view+json": {
       "model_id": "",
       "version_major": 2,
       "version_minor": 0
      },
      "text/plain": [
       "Validation: |                                                                                                 …"
      ]
     },
     "metadata": {},
     "output_type": "display_data"
    },
    {
     "data": {
      "application/vnd.jupyter.widget-view+json": {
       "model_id": "",
       "version_major": 2,
       "version_minor": 0
      },
      "text/plain": [
       "Validation: |                                                                                                 …"
      ]
     },
     "metadata": {},
     "output_type": "display_data"
    },
    {
     "data": {
      "application/vnd.jupyter.widget-view+json": {
       "model_id": "",
       "version_major": 2,
       "version_minor": 0
      },
      "text/plain": [
       "Validation: |                                                                                                 …"
      ]
     },
     "metadata": {},
     "output_type": "display_data"
    },
    {
     "data": {
      "application/vnd.jupyter.widget-view+json": {
       "model_id": "",
       "version_major": 2,
       "version_minor": 0
      },
      "text/plain": [
       "Validation: |                                                                                                 …"
      ]
     },
     "metadata": {},
     "output_type": "display_data"
    },
    {
     "data": {
      "application/vnd.jupyter.widget-view+json": {
       "model_id": "",
       "version_major": 2,
       "version_minor": 0
      },
      "text/plain": [
       "Validation: |                                                                                                 …"
      ]
     },
     "metadata": {},
     "output_type": "display_data"
    },
    {
     "data": {
      "application/vnd.jupyter.widget-view+json": {
       "model_id": "",
       "version_major": 2,
       "version_minor": 0
      },
      "text/plain": [
       "Validation: |                                                                                                 …"
      ]
     },
     "metadata": {},
     "output_type": "display_data"
    },
    {
     "data": {
      "application/vnd.jupyter.widget-view+json": {
       "model_id": "",
       "version_major": 2,
       "version_minor": 0
      },
      "text/plain": [
       "Validation: |                                                                                                 …"
      ]
     },
     "metadata": {},
     "output_type": "display_data"
    },
    {
     "data": {
      "application/vnd.jupyter.widget-view+json": {
       "model_id": "",
       "version_major": 2,
       "version_minor": 0
      },
      "text/plain": [
       "Validation: |                                                                                                 …"
      ]
     },
     "metadata": {},
     "output_type": "display_data"
    },
    {
     "data": {
      "application/vnd.jupyter.widget-view+json": {
       "model_id": "",
       "version_major": 2,
       "version_minor": 0
      },
      "text/plain": [
       "Validation: |                                                                                                 …"
      ]
     },
     "metadata": {},
     "output_type": "display_data"
    },
    {
     "data": {
      "application/vnd.jupyter.widget-view+json": {
       "model_id": "",
       "version_major": 2,
       "version_minor": 0
      },
      "text/plain": [
       "Validation: |                                                                                                 …"
      ]
     },
     "metadata": {},
     "output_type": "display_data"
    },
    {
     "data": {
      "application/vnd.jupyter.widget-view+json": {
       "model_id": "",
       "version_major": 2,
       "version_minor": 0
      },
      "text/plain": [
       "Validation: |                                                                                                 …"
      ]
     },
     "metadata": {},
     "output_type": "display_data"
    },
    {
     "data": {
      "application/vnd.jupyter.widget-view+json": {
       "model_id": "",
       "version_major": 2,
       "version_minor": 0
      },
      "text/plain": [
       "Validation: |                                                                                                 …"
      ]
     },
     "metadata": {},
     "output_type": "display_data"
    },
    {
     "data": {
      "application/vnd.jupyter.widget-view+json": {
       "model_id": "",
       "version_major": 2,
       "version_minor": 0
      },
      "text/plain": [
       "Validation: |                                                                                                 …"
      ]
     },
     "metadata": {},
     "output_type": "display_data"
    },
    {
     "data": {
      "application/vnd.jupyter.widget-view+json": {
       "model_id": "",
       "version_major": 2,
       "version_minor": 0
      },
      "text/plain": [
       "Validation: |                                                                                                 …"
      ]
     },
     "metadata": {},
     "output_type": "display_data"
    },
    {
     "data": {
      "application/vnd.jupyter.widget-view+json": {
       "model_id": "",
       "version_major": 2,
       "version_minor": 0
      },
      "text/plain": [
       "Validation: |                                                                                                 …"
      ]
     },
     "metadata": {},
     "output_type": "display_data"
    },
    {
     "data": {
      "application/vnd.jupyter.widget-view+json": {
       "model_id": "",
       "version_major": 2,
       "version_minor": 0
      },
      "text/plain": [
       "Validation: |                                                                                                 …"
      ]
     },
     "metadata": {},
     "output_type": "display_data"
    },
    {
     "data": {
      "application/vnd.jupyter.widget-view+json": {
       "model_id": "",
       "version_major": 2,
       "version_minor": 0
      },
      "text/plain": [
       "Validation: |                                                                                                 …"
      ]
     },
     "metadata": {},
     "output_type": "display_data"
    },
    {
     "data": {
      "application/vnd.jupyter.widget-view+json": {
       "model_id": "",
       "version_major": 2,
       "version_minor": 0
      },
      "text/plain": [
       "Validation: |                                                                                                 …"
      ]
     },
     "metadata": {},
     "output_type": "display_data"
    },
    {
     "data": {
      "application/vnd.jupyter.widget-view+json": {
       "model_id": "",
       "version_major": 2,
       "version_minor": 0
      },
      "text/plain": [
       "Validation: |                                                                                                 …"
      ]
     },
     "metadata": {},
     "output_type": "display_data"
    },
    {
     "data": {
      "application/vnd.jupyter.widget-view+json": {
       "model_id": "",
       "version_major": 2,
       "version_minor": 0
      },
      "text/plain": [
       "Validation: |                                                                                                 …"
      ]
     },
     "metadata": {},
     "output_type": "display_data"
    },
    {
     "data": {
      "application/vnd.jupyter.widget-view+json": {
       "model_id": "",
       "version_major": 2,
       "version_minor": 0
      },
      "text/plain": [
       "Validation: |                                                                                                 …"
      ]
     },
     "metadata": {},
     "output_type": "display_data"
    },
    {
     "data": {
      "application/vnd.jupyter.widget-view+json": {
       "model_id": "",
       "version_major": 2,
       "version_minor": 0
      },
      "text/plain": [
       "Validation: |                                                                                                 …"
      ]
     },
     "metadata": {},
     "output_type": "display_data"
    },
    {
     "data": {
      "application/vnd.jupyter.widget-view+json": {
       "model_id": "",
       "version_major": 2,
       "version_minor": 0
      },
      "text/plain": [
       "Validation: |                                                                                                 …"
      ]
     },
     "metadata": {},
     "output_type": "display_data"
    },
    {
     "data": {
      "application/vnd.jupyter.widget-view+json": {
       "model_id": "",
       "version_major": 2,
       "version_minor": 0
      },
      "text/plain": [
       "Validation: |                                                                                                 …"
      ]
     },
     "metadata": {},
     "output_type": "display_data"
    },
    {
     "data": {
      "application/vnd.jupyter.widget-view+json": {
       "model_id": "",
       "version_major": 2,
       "version_minor": 0
      },
      "text/plain": [
       "Validation: |                                                                                                 …"
      ]
     },
     "metadata": {},
     "output_type": "display_data"
    },
    {
     "data": {
      "application/vnd.jupyter.widget-view+json": {
       "model_id": "",
       "version_major": 2,
       "version_minor": 0
      },
      "text/plain": [
       "Validation: |                                                                                                 …"
      ]
     },
     "metadata": {},
     "output_type": "display_data"
    },
    {
     "data": {
      "application/vnd.jupyter.widget-view+json": {
       "model_id": "",
       "version_major": 2,
       "version_minor": 0
      },
      "text/plain": [
       "Validation: |                                                                                                 …"
      ]
     },
     "metadata": {},
     "output_type": "display_data"
    },
    {
     "data": {
      "application/vnd.jupyter.widget-view+json": {
       "model_id": "",
       "version_major": 2,
       "version_minor": 0
      },
      "text/plain": [
       "Validation: |                                                                                                 …"
      ]
     },
     "metadata": {},
     "output_type": "display_data"
    },
    {
     "data": {
      "application/vnd.jupyter.widget-view+json": {
       "model_id": "",
       "version_major": 2,
       "version_minor": 0
      },
      "text/plain": [
       "Validation: |                                                                                                 …"
      ]
     },
     "metadata": {},
     "output_type": "display_data"
    },
    {
     "data": {
      "application/vnd.jupyter.widget-view+json": {
       "model_id": "",
       "version_major": 2,
       "version_minor": 0
      },
      "text/plain": [
       "Validation: |                                                                                                 …"
      ]
     },
     "metadata": {},
     "output_type": "display_data"
    },
    {
     "data": {
      "application/vnd.jupyter.widget-view+json": {
       "model_id": "",
       "version_major": 2,
       "version_minor": 0
      },
      "text/plain": [
       "Validation: |                                                                                                 …"
      ]
     },
     "metadata": {},
     "output_type": "display_data"
    },
    {
     "data": {
      "application/vnd.jupyter.widget-view+json": {
       "model_id": "",
       "version_major": 2,
       "version_minor": 0
      },
      "text/plain": [
       "Validation: |                                                                                                 …"
      ]
     },
     "metadata": {},
     "output_type": "display_data"
    },
    {
     "data": {
      "application/vnd.jupyter.widget-view+json": {
       "model_id": "",
       "version_major": 2,
       "version_minor": 0
      },
      "text/plain": [
       "Validation: |                                                                                                 …"
      ]
     },
     "metadata": {},
     "output_type": "display_data"
    },
    {
     "data": {
      "application/vnd.jupyter.widget-view+json": {
       "model_id": "",
       "version_major": 2,
       "version_minor": 0
      },
      "text/plain": [
       "Validation: |                                                                                                 …"
      ]
     },
     "metadata": {},
     "output_type": "display_data"
    },
    {
     "data": {
      "application/vnd.jupyter.widget-view+json": {
       "model_id": "",
       "version_major": 2,
       "version_minor": 0
      },
      "text/plain": [
       "Validation: |                                                                                                 …"
      ]
     },
     "metadata": {},
     "output_type": "display_data"
    },
    {
     "data": {
      "application/vnd.jupyter.widget-view+json": {
       "model_id": "",
       "version_major": 2,
       "version_minor": 0
      },
      "text/plain": [
       "Validation: |                                                                                                 …"
      ]
     },
     "metadata": {},
     "output_type": "display_data"
    },
    {
     "data": {
      "application/vnd.jupyter.widget-view+json": {
       "model_id": "",
       "version_major": 2,
       "version_minor": 0
      },
      "text/plain": [
       "Validation: |                                                                                                 …"
      ]
     },
     "metadata": {},
     "output_type": "display_data"
    },
    {
     "data": {
      "application/vnd.jupyter.widget-view+json": {
       "model_id": "",
       "version_major": 2,
       "version_minor": 0
      },
      "text/plain": [
       "Validation: |                                                                                                 …"
      ]
     },
     "metadata": {},
     "output_type": "display_data"
    },
    {
     "data": {
      "application/vnd.jupyter.widget-view+json": {
       "model_id": "",
       "version_major": 2,
       "version_minor": 0
      },
      "text/plain": [
       "Validation: |                                                                                                 …"
      ]
     },
     "metadata": {},
     "output_type": "display_data"
    },
    {
     "data": {
      "application/vnd.jupyter.widget-view+json": {
       "model_id": "",
       "version_major": 2,
       "version_minor": 0
      },
      "text/plain": [
       "Validation: |                                                                                                 …"
      ]
     },
     "metadata": {},
     "output_type": "display_data"
    },
    {
     "data": {
      "application/vnd.jupyter.widget-view+json": {
       "model_id": "",
       "version_major": 2,
       "version_minor": 0
      },
      "text/plain": [
       "Validation: |                                                                                                 …"
      ]
     },
     "metadata": {},
     "output_type": "display_data"
    },
    {
     "data": {
      "application/vnd.jupyter.widget-view+json": {
       "model_id": "",
       "version_major": 2,
       "version_minor": 0
      },
      "text/plain": [
       "Validation: |                                                                                                 …"
      ]
     },
     "metadata": {},
     "output_type": "display_data"
    },
    {
     "data": {
      "application/vnd.jupyter.widget-view+json": {
       "model_id": "",
       "version_major": 2,
       "version_minor": 0
      },
      "text/plain": [
       "Validation: |                                                                                                 …"
      ]
     },
     "metadata": {},
     "output_type": "display_data"
    },
    {
     "data": {
      "application/vnd.jupyter.widget-view+json": {
       "model_id": "",
       "version_major": 2,
       "version_minor": 0
      },
      "text/plain": [
       "Validation: |                                                                                                 …"
      ]
     },
     "metadata": {},
     "output_type": "display_data"
    },
    {
     "data": {
      "application/vnd.jupyter.widget-view+json": {
       "model_id": "",
       "version_major": 2,
       "version_minor": 0
      },
      "text/plain": [
       "Validation: |                                                                                                 …"
      ]
     },
     "metadata": {},
     "output_type": "display_data"
    },
    {
     "data": {
      "application/vnd.jupyter.widget-view+json": {
       "model_id": "",
       "version_major": 2,
       "version_minor": 0
      },
      "text/plain": [
       "Validation: |                                                                                                 …"
      ]
     },
     "metadata": {},
     "output_type": "display_data"
    },
    {
     "data": {
      "application/vnd.jupyter.widget-view+json": {
       "model_id": "",
       "version_major": 2,
       "version_minor": 0
      },
      "text/plain": [
       "Validation: |                                                                                                 …"
      ]
     },
     "metadata": {},
     "output_type": "display_data"
    },
    {
     "data": {
      "application/vnd.jupyter.widget-view+json": {
       "model_id": "",
       "version_major": 2,
       "version_minor": 0
      },
      "text/plain": [
       "Validation: |                                                                                                 …"
      ]
     },
     "metadata": {},
     "output_type": "display_data"
    },
    {
     "data": {
      "application/vnd.jupyter.widget-view+json": {
       "model_id": "",
       "version_major": 2,
       "version_minor": 0
      },
      "text/plain": [
       "Validation: |                                                                                                 …"
      ]
     },
     "metadata": {},
     "output_type": "display_data"
    },
    {
     "data": {
      "application/vnd.jupyter.widget-view+json": {
       "model_id": "",
       "version_major": 2,
       "version_minor": 0
      },
      "text/plain": [
       "Validation: |                                                                                                 …"
      ]
     },
     "metadata": {},
     "output_type": "display_data"
    },
    {
     "data": {
      "application/vnd.jupyter.widget-view+json": {
       "model_id": "",
       "version_major": 2,
       "version_minor": 0
      },
      "text/plain": [
       "Validation: |                                                                                                 …"
      ]
     },
     "metadata": {},
     "output_type": "display_data"
    },
    {
     "data": {
      "application/vnd.jupyter.widget-view+json": {
       "model_id": "",
       "version_major": 2,
       "version_minor": 0
      },
      "text/plain": [
       "Validation: |                                                                                                 …"
      ]
     },
     "metadata": {},
     "output_type": "display_data"
    },
    {
     "data": {
      "application/vnd.jupyter.widget-view+json": {
       "model_id": "",
       "version_major": 2,
       "version_minor": 0
      },
      "text/plain": [
       "Validation: |                                                                                                 …"
      ]
     },
     "metadata": {},
     "output_type": "display_data"
    },
    {
     "data": {
      "application/vnd.jupyter.widget-view+json": {
       "model_id": "",
       "version_major": 2,
       "version_minor": 0
      },
      "text/plain": [
       "Validation: |                                                                                                 …"
      ]
     },
     "metadata": {},
     "output_type": "display_data"
    },
    {
     "data": {
      "application/vnd.jupyter.widget-view+json": {
       "model_id": "",
       "version_major": 2,
       "version_minor": 0
      },
      "text/plain": [
       "Validation: |                                                                                                 …"
      ]
     },
     "metadata": {},
     "output_type": "display_data"
    },
    {
     "data": {
      "application/vnd.jupyter.widget-view+json": {
       "model_id": "",
       "version_major": 2,
       "version_minor": 0
      },
      "text/plain": [
       "Validation: |                                                                                                 …"
      ]
     },
     "metadata": {},
     "output_type": "display_data"
    },
    {
     "data": {
      "application/vnd.jupyter.widget-view+json": {
       "model_id": "",
       "version_major": 2,
       "version_minor": 0
      },
      "text/plain": [
       "Validation: |                                                                                                 …"
      ]
     },
     "metadata": {},
     "output_type": "display_data"
    },
    {
     "data": {
      "application/vnd.jupyter.widget-view+json": {
       "model_id": "",
       "version_major": 2,
       "version_minor": 0
      },
      "text/plain": [
       "Validation: |                                                                                                 …"
      ]
     },
     "metadata": {},
     "output_type": "display_data"
    },
    {
     "data": {
      "application/vnd.jupyter.widget-view+json": {
       "model_id": "",
       "version_major": 2,
       "version_minor": 0
      },
      "text/plain": [
       "Validation: |                                                                                                 …"
      ]
     },
     "metadata": {},
     "output_type": "display_data"
    },
    {
     "data": {
      "application/vnd.jupyter.widget-view+json": {
       "model_id": "",
       "version_major": 2,
       "version_minor": 0
      },
      "text/plain": [
       "Validation: |                                                                                                 …"
      ]
     },
     "metadata": {},
     "output_type": "display_data"
    },
    {
     "data": {
      "application/vnd.jupyter.widget-view+json": {
       "model_id": "",
       "version_major": 2,
       "version_minor": 0
      },
      "text/plain": [
       "Validation: |                                                                                                 …"
      ]
     },
     "metadata": {},
     "output_type": "display_data"
    },
    {
     "data": {
      "application/vnd.jupyter.widget-view+json": {
       "model_id": "",
       "version_major": 2,
       "version_minor": 0
      },
      "text/plain": [
       "Validation: |                                                                                                 …"
      ]
     },
     "metadata": {},
     "output_type": "display_data"
    },
    {
     "data": {
      "application/vnd.jupyter.widget-view+json": {
       "model_id": "",
       "version_major": 2,
       "version_minor": 0
      },
      "text/plain": [
       "Validation: |                                                                                                 …"
      ]
     },
     "metadata": {},
     "output_type": "display_data"
    },
    {
     "data": {
      "application/vnd.jupyter.widget-view+json": {
       "model_id": "",
       "version_major": 2,
       "version_minor": 0
      },
      "text/plain": [
       "Validation: |                                                                                                 …"
      ]
     },
     "metadata": {},
     "output_type": "display_data"
    },
    {
     "data": {
      "application/vnd.jupyter.widget-view+json": {
       "model_id": "",
       "version_major": 2,
       "version_minor": 0
      },
      "text/plain": [
       "Validation: |                                                                                                 …"
      ]
     },
     "metadata": {},
     "output_type": "display_data"
    },
    {
     "data": {
      "application/vnd.jupyter.widget-view+json": {
       "model_id": "",
       "version_major": 2,
       "version_minor": 0
      },
      "text/plain": [
       "Validation: |                                                                                                 …"
      ]
     },
     "metadata": {},
     "output_type": "display_data"
    },
    {
     "data": {
      "application/vnd.jupyter.widget-view+json": {
       "model_id": "",
       "version_major": 2,
       "version_minor": 0
      },
      "text/plain": [
       "Validation: |                                                                                                 …"
      ]
     },
     "metadata": {},
     "output_type": "display_data"
    },
    {
     "data": {
      "application/vnd.jupyter.widget-view+json": {
       "model_id": "",
       "version_major": 2,
       "version_minor": 0
      },
      "text/plain": [
       "Validation: |                                                                                                 …"
      ]
     },
     "metadata": {},
     "output_type": "display_data"
    },
    {
     "data": {
      "application/vnd.jupyter.widget-view+json": {
       "model_id": "",
       "version_major": 2,
       "version_minor": 0
      },
      "text/plain": [
       "Validation: |                                                                                                 …"
      ]
     },
     "metadata": {},
     "output_type": "display_data"
    },
    {
     "data": {
      "application/vnd.jupyter.widget-view+json": {
       "model_id": "",
       "version_major": 2,
       "version_minor": 0
      },
      "text/plain": [
       "Validation: |                                                                                                 …"
      ]
     },
     "metadata": {},
     "output_type": "display_data"
    },
    {
     "data": {
      "application/vnd.jupyter.widget-view+json": {
       "model_id": "",
       "version_major": 2,
       "version_minor": 0
      },
      "text/plain": [
       "Validation: |                                                                                                 …"
      ]
     },
     "metadata": {},
     "output_type": "display_data"
    },
    {
     "data": {
      "application/vnd.jupyter.widget-view+json": {
       "model_id": "",
       "version_major": 2,
       "version_minor": 0
      },
      "text/plain": [
       "Validation: |                                                                                                 …"
      ]
     },
     "metadata": {},
     "output_type": "display_data"
    },
    {
     "data": {
      "application/vnd.jupyter.widget-view+json": {
       "model_id": "",
       "version_major": 2,
       "version_minor": 0
      },
      "text/plain": [
       "Validation: |                                                                                                 …"
      ]
     },
     "metadata": {},
     "output_type": "display_data"
    },
    {
     "data": {
      "application/vnd.jupyter.widget-view+json": {
       "model_id": "",
       "version_major": 2,
       "version_minor": 0
      },
      "text/plain": [
       "Validation: |                                                                                                 …"
      ]
     },
     "metadata": {},
     "output_type": "display_data"
    },
    {
     "data": {
      "application/vnd.jupyter.widget-view+json": {
       "model_id": "",
       "version_major": 2,
       "version_minor": 0
      },
      "text/plain": [
       "Validation: |                                                                                                 …"
      ]
     },
     "metadata": {},
     "output_type": "display_data"
    },
    {
     "data": {
      "application/vnd.jupyter.widget-view+json": {
       "model_id": "",
       "version_major": 2,
       "version_minor": 0
      },
      "text/plain": [
       "Validation: |                                                                                                 …"
      ]
     },
     "metadata": {},
     "output_type": "display_data"
    },
    {
     "data": {
      "application/vnd.jupyter.widget-view+json": {
       "model_id": "",
       "version_major": 2,
       "version_minor": 0
      },
      "text/plain": [
       "Validation: |                                                                                                 …"
      ]
     },
     "metadata": {},
     "output_type": "display_data"
    },
    {
     "data": {
      "application/vnd.jupyter.widget-view+json": {
       "model_id": "",
       "version_major": 2,
       "version_minor": 0
      },
      "text/plain": [
       "Validation: |                                                                                                 …"
      ]
     },
     "metadata": {},
     "output_type": "display_data"
    },
    {
     "data": {
      "application/vnd.jupyter.widget-view+json": {
       "model_id": "",
       "version_major": 2,
       "version_minor": 0
      },
      "text/plain": [
       "Validation: |                                                                                                 …"
      ]
     },
     "metadata": {},
     "output_type": "display_data"
    },
    {
     "data": {
      "application/vnd.jupyter.widget-view+json": {
       "model_id": "",
       "version_major": 2,
       "version_minor": 0
      },
      "text/plain": [
       "Validation: |                                                                                                 …"
      ]
     },
     "metadata": {},
     "output_type": "display_data"
    },
    {
     "data": {
      "application/vnd.jupyter.widget-view+json": {
       "model_id": "",
       "version_major": 2,
       "version_minor": 0
      },
      "text/plain": [
       "Validation: |                                                                                                 …"
      ]
     },
     "metadata": {},
     "output_type": "display_data"
    },
    {
     "data": {
      "application/vnd.jupyter.widget-view+json": {
       "model_id": "",
       "version_major": 2,
       "version_minor": 0
      },
      "text/plain": [
       "Validation: |                                                                                                 …"
      ]
     },
     "metadata": {},
     "output_type": "display_data"
    },
    {
     "data": {
      "application/vnd.jupyter.widget-view+json": {
       "model_id": "",
       "version_major": 2,
       "version_minor": 0
      },
      "text/plain": [
       "Validation: |                                                                                                 …"
      ]
     },
     "metadata": {},
     "output_type": "display_data"
    },
    {
     "data": {
      "application/vnd.jupyter.widget-view+json": {
       "model_id": "",
       "version_major": 2,
       "version_minor": 0
      },
      "text/plain": [
       "Validation: |                                                                                                 …"
      ]
     },
     "metadata": {},
     "output_type": "display_data"
    },
    {
     "data": {
      "application/vnd.jupyter.widget-view+json": {
       "model_id": "",
       "version_major": 2,
       "version_minor": 0
      },
      "text/plain": [
       "Validation: |                                                                                                 …"
      ]
     },
     "metadata": {},
     "output_type": "display_data"
    },
    {
     "data": {
      "application/vnd.jupyter.widget-view+json": {
       "model_id": "",
       "version_major": 2,
       "version_minor": 0
      },
      "text/plain": [
       "Validation: |                                                                                                 …"
      ]
     },
     "metadata": {},
     "output_type": "display_data"
    },
    {
     "data": {
      "application/vnd.jupyter.widget-view+json": {
       "model_id": "",
       "version_major": 2,
       "version_minor": 0
      },
      "text/plain": [
       "Validation: |                                                                                                 …"
      ]
     },
     "metadata": {},
     "output_type": "display_data"
    },
    {
     "name": "stderr",
     "output_type": "stream",
     "text": [
      "`Trainer.fit` stopped: `max_epochs=100` reached.\n",
      "\u001b[32m2024-10-28 02:35:46.147\u001b[0m | \u001b[1mINFO    \u001b[0m | \u001b[36msrc.ranker.trainer\u001b[0m:\u001b[36mon_fit_end\u001b[0m:\u001b[36m158\u001b[0m - \u001b[1mLogging classification metrics...\u001b[0m\n",
      "\u001b[32m2024-10-28 02:36:03.719\u001b[0m | \u001b[1mINFO    \u001b[0m | \u001b[36m__main__\u001b[0m:\u001b[36m<module>\u001b[0m:\u001b[36m28\u001b[0m - \u001b[1mLogs available at /Users/dvq/frostmourne/recsys-mvp/notebooks/data/023-dropout-to-0.4/logs/overfit/lightning_logs/version_1\u001b[0m\n"
     ]
    }
   ],
   "source": [
    "early_stopping = EarlyStopping(\n",
    "    monitor=\"val_loss\", patience=10, mode=\"min\", verbose=False\n",
    ")\n",
    "\n",
    "model = init_model(n_users, n_items, args.embedding_dim, item_feature_size, dropout=0)\n",
    "lit_model = LitRanker(\n",
    "    model,\n",
    "    learning_rate=args.learning_rate,\n",
    "    l2_reg=0.0,\n",
    "    log_dir=args.notebook_persist_dp,\n",
    ")\n",
    "\n",
    "log_dir = f\"{args.notebook_persist_dp}/logs/overfit\"\n",
    "\n",
    "# train model\n",
    "trainer = L.Trainer(\n",
    "    default_root_dir=log_dir,\n",
    "    accelerator=args.device if args.device else \"auto\",\n",
    "    max_epochs=100,\n",
    "    overfit_batches=1,\n",
    "    callbacks=[early_stopping],\n",
    ")\n",
    "trainer.fit(\n",
    "    model=lit_model,\n",
    "    train_dataloaders=train_loader,\n",
    "    val_dataloaders=train_loader,\n",
    ")\n",
    "logger.info(f\"Logs available at {trainer.log_dir}\")"
   ]
  },
  {
   "cell_type": "code",
   "execution_count": 27,
   "id": "b2cc9ae0-a993-4815-bebd-85cc51e68e65",
   "metadata": {},
   "outputs": [
    {
     "data": {
      "text/html": [
       "\n",
       "      <iframe id=\"tensorboard-frame-6616cb56381587f2\" width=\"100%\" height=\"800\" frameborder=\"0\">\n",
       "      </iframe>\n",
       "      <script>\n",
       "        (function() {\n",
       "          const frame = document.getElementById(\"tensorboard-frame-6616cb56381587f2\");\n",
       "          const url = new URL(\"/\", window.location);\n",
       "          const port = 6006;\n",
       "          if (port) {\n",
       "            url.port = port;\n",
       "          }\n",
       "          frame.src = url;\n",
       "        })();\n",
       "      </script>\n",
       "    "
      ],
      "text/plain": [
       "<IPython.core.display.HTML object>"
      ]
     },
     "metadata": {},
     "output_type": "display_data"
    }
   ],
   "source": [
    "%tensorboard --logdir $trainer.log_dir"
   ]
  },
  {
   "cell_type": "markdown",
   "id": "65c7e4af-5c66-454e-9e2c-2ca134f4e1cf",
   "metadata": {},
   "source": [
    "##### Fit on all data"
   ]
  },
  {
   "cell_type": "code",
   "execution_count": 28,
   "id": "65d821e0-3255-4947-b720-81a2f83a4911",
   "metadata": {},
   "outputs": [
    {
     "data": {
      "application/vnd.jupyter.widget-view+json": {
       "model_id": "511bbde5fc954e4998b680d18d028047",
       "version_major": 2,
       "version_minor": 0
      },
      "text/plain": [
       "  0%|          | 0/47 [00:00<?, ?it/s]"
      ]
     },
     "metadata": {},
     "output_type": "display_data"
    }
   ],
   "source": [
    "all_items_df = train_df.drop_duplicates(subset=[\"item_indice\"])\n",
    "all_items_indices = all_items_df[\"item_indice\"].values\n",
    "all_items_features = item_metadata_pipeline.transform(all_items_df).astype(np.float32)\n",
    "if args.use_sbert_features:\n",
    "    all_sbert_vectors = ann_index.get_vector_by_ids(all_items_indices.tolist()).astype(\n",
    "        np.float32\n",
    "    )\n",
    "    all_items_features = np.hstack([all_items_features, all_sbert_vectors])"
   ]
  },
  {
   "cell_type": "code",
   "execution_count": 29,
   "id": "d0e7d5ae-ca82-4c28-92e9-b4e5e057f1f9",
   "metadata": {},
   "outputs": [
    {
     "data": {
      "text/plain": [
       "(4630, 929)"
      ]
     },
     "execution_count": 29,
     "metadata": {},
     "output_type": "execute_result"
    }
   ],
   "source": [
    "all_items_features.shape"
   ]
  },
  {
   "cell_type": "code",
   "execution_count": 30,
   "id": "6fef36c3-5263-4d91-8d7f-364d45c20719",
   "metadata": {
    "scrolled": true
   },
   "outputs": [
    {
     "name": "stderr",
     "output_type": "stream",
     "text": [
      "GPU available: True (mps), used: True\n",
      "TPU available: False, using: 0 TPU cores\n",
      "HPU available: False, using: 0 HPUs\n",
      "/Users/dvq/frostmourne/recsys-mvp/.venv/lib/python3.11/site-packages/lightning/pytorch/callbacks/model_checkpoint.py:654: UserWarning:\n",
      "\n",
      "Checkpoint directory /Users/dvq/frostmourne/recsys-mvp/notebooks/data/023-dropout-to-0.4/checkpoints exists and is not empty.\n",
      "\n",
      "\n",
      "  | Name  | Type   | Params | Mode \n",
      "-----------------------------------------\n",
      "0 | model | Ranker | 3.4 M  | train\n",
      "-----------------------------------------\n",
      "3.4 M     Trainable params\n",
      "0         Non-trainable params\n",
      "3.4 M     Total params\n",
      "13.533    Total estimated model params size (MB)\n",
      "14        Modules in train mode\n",
      "0         Modules in eval mode\n"
     ]
    },
    {
     "data": {
      "application/vnd.jupyter.widget-view+json": {
       "model_id": "",
       "version_major": 2,
       "version_minor": 0
      },
      "text/plain": [
       "Sanity Checking: |                                                                                            …"
      ]
     },
     "metadata": {},
     "output_type": "display_data"
    },
    {
     "name": "stderr",
     "output_type": "stream",
     "text": [
      "/Users/dvq/frostmourne/recsys-mvp/.venv/lib/python3.11/site-packages/lightning/pytorch/trainer/connectors/data_connector.py:424: PossibleUserWarning:\n",
      "\n",
      "The 'val_dataloader' does not have many workers which may be a bottleneck. Consider increasing the value of the `num_workers` argument` to `num_workers=10` in the `DataLoader` to improve performance.\n",
      "\n",
      "/Users/dvq/frostmourne/recsys-mvp/.venv/lib/python3.11/site-packages/lightning/pytorch/trainer/connectors/data_connector.py:424: PossibleUserWarning:\n",
      "\n",
      "The 'train_dataloader' does not have many workers which may be a bottleneck. Consider increasing the value of the `num_workers` argument` to `num_workers=10` in the `DataLoader` to improve performance.\n",
      "\n"
     ]
    },
    {
     "data": {
      "application/vnd.jupyter.widget-view+json": {
       "model_id": "ddaa7f3698f945b28e0df7bb9b054b4c",
       "version_major": 2,
       "version_minor": 0
      },
      "text/plain": [
       "Training: |                                                                                                   …"
      ]
     },
     "metadata": {},
     "output_type": "display_data"
    },
    {
     "data": {
      "application/vnd.jupyter.widget-view+json": {
       "model_id": "",
       "version_major": 2,
       "version_minor": 0
      },
      "text/plain": [
       "Validation: |                                                                                                 …"
      ]
     },
     "metadata": {},
     "output_type": "display_data"
    },
    {
     "data": {
      "application/vnd.jupyter.widget-view+json": {
       "model_id": "",
       "version_major": 2,
       "version_minor": 0
      },
      "text/plain": [
       "Validation: |                                                                                                 …"
      ]
     },
     "metadata": {},
     "output_type": "display_data"
    },
    {
     "data": {
      "application/vnd.jupyter.widget-view+json": {
       "model_id": "",
       "version_major": 2,
       "version_minor": 0
      },
      "text/plain": [
       "Validation: |                                                                                                 …"
      ]
     },
     "metadata": {},
     "output_type": "display_data"
    },
    {
     "data": {
      "application/vnd.jupyter.widget-view+json": {
       "model_id": "",
       "version_major": 2,
       "version_minor": 0
      },
      "text/plain": [
       "Validation: |                                                                                                 …"
      ]
     },
     "metadata": {},
     "output_type": "display_data"
    },
    {
     "data": {
      "application/vnd.jupyter.widget-view+json": {
       "model_id": "",
       "version_major": 2,
       "version_minor": 0
      },
      "text/plain": [
       "Validation: |                                                                                                 …"
      ]
     },
     "metadata": {},
     "output_type": "display_data"
    },
    {
     "data": {
      "application/vnd.jupyter.widget-view+json": {
       "model_id": "",
       "version_major": 2,
       "version_minor": 0
      },
      "text/plain": [
       "Validation: |                                                                                                 …"
      ]
     },
     "metadata": {},
     "output_type": "display_data"
    },
    {
     "data": {
      "application/vnd.jupyter.widget-view+json": {
       "model_id": "",
       "version_major": 2,
       "version_minor": 0
      },
      "text/plain": [
       "Validation: |                                                                                                 …"
      ]
     },
     "metadata": {},
     "output_type": "display_data"
    },
    {
     "data": {
      "application/vnd.jupyter.widget-view+json": {
       "model_id": "",
       "version_major": 2,
       "version_minor": 0
      },
      "text/plain": [
       "Validation: |                                                                                                 …"
      ]
     },
     "metadata": {},
     "output_type": "display_data"
    },
    {
     "data": {
      "application/vnd.jupyter.widget-view+json": {
       "model_id": "",
       "version_major": 2,
       "version_minor": 0
      },
      "text/plain": [
       "Validation: |                                                                                                 …"
      ]
     },
     "metadata": {},
     "output_type": "display_data"
    },
    {
     "data": {
      "application/vnd.jupyter.widget-view+json": {
       "model_id": "",
       "version_major": 2,
       "version_minor": 0
      },
      "text/plain": [
       "Validation: |                                                                                                 …"
      ]
     },
     "metadata": {},
     "output_type": "display_data"
    },
    {
     "data": {
      "application/vnd.jupyter.widget-view+json": {
       "model_id": "",
       "version_major": 2,
       "version_minor": 0
      },
      "text/plain": [
       "Validation: |                                                                                                 …"
      ]
     },
     "metadata": {},
     "output_type": "display_data"
    },
    {
     "data": {
      "application/vnd.jupyter.widget-view+json": {
       "model_id": "",
       "version_major": 2,
       "version_minor": 0
      },
      "text/plain": [
       "Validation: |                                                                                                 …"
      ]
     },
     "metadata": {},
     "output_type": "display_data"
    },
    {
     "data": {
      "application/vnd.jupyter.widget-view+json": {
       "model_id": "",
       "version_major": 2,
       "version_minor": 0
      },
      "text/plain": [
       "Validation: |                                                                                                 …"
      ]
     },
     "metadata": {},
     "output_type": "display_data"
    },
    {
     "name": "stderr",
     "output_type": "stream",
     "text": [
      "\u001b[32m2024-10-28 02:47:56.179\u001b[0m | \u001b[1mINFO    \u001b[0m | \u001b[36msrc.ranker.trainer\u001b[0m:\u001b[36mon_fit_end\u001b[0m:\u001b[36m152\u001b[0m - \u001b[1mLoading best model from /Users/dvq/frostmourne/recsys-mvp/notebooks/data/023-dropout-to-0.4/checkpoints/best-checkpoint-v1.ckpt...\u001b[0m\n",
      "\u001b[32m2024-10-28 02:47:56.389\u001b[0m | \u001b[1mINFO    \u001b[0m | \u001b[36msrc.ranker.trainer\u001b[0m:\u001b[36mon_fit_end\u001b[0m:\u001b[36m158\u001b[0m - \u001b[1mLogging classification metrics...\u001b[0m\n",
      "\u001b[32m2024-10-28 02:47:57.017\u001b[0m | \u001b[1mINFO    \u001b[0m | \u001b[36msrc.ranker.trainer\u001b[0m:\u001b[36mon_fit_end\u001b[0m:\u001b[36m161\u001b[0m - \u001b[1mLogging ranking metrics...\u001b[0m\n"
     ]
    },
    {
     "data": {
      "application/vnd.jupyter.widget-view+json": {
       "model_id": "7099cb37425b43e0a5c9ea1b265c5378",
       "version_major": 2,
       "version_minor": 0
      },
      "text/plain": [
       "Generating recommendations:   0%|          | 0/177 [00:00<?, ?it/s]"
      ]
     },
     "metadata": {},
     "output_type": "display_data"
    },
    {
     "name": "stderr",
     "output_type": "stream",
     "text": [
      "/Users/dvq/frostmourne/recsys-mvp/.venv/lib/python3.11/site-packages/evidently/metrics/recsys/f_beta_top_k.py:64: RuntimeWarning:\n",
      "\n",
      "invalid value encountered in divide\n",
      "\n",
      "2024/10/28 02:48:39 INFO mlflow.tracking._tracking_service.client: 🏃 View run 023-dropout-to-0.4 at: http://localhost:5002/#/experiments/3/runs/9d81ccb8cda843fda71bb497e169ef00.\n",
      "2024/10/28 02:48:39 INFO mlflow.tracking._tracking_service.client: 🧪 View experiment at: http://localhost:5002/#/experiments/3.\n"
     ]
    }
   ],
   "source": [
    "# papermill_description=fit-model\n",
    "early_stopping = EarlyStopping(\n",
    "    monitor=\"val_loss\", patience=args.early_stopping_patience, mode=\"min\", verbose=False\n",
    ")\n",
    "\n",
    "checkpoint_callback = ModelCheckpoint(\n",
    "    dirpath=f\"{args.notebook_persist_dp}/checkpoints\",\n",
    "    filename=\"best-checkpoint\",\n",
    "    save_top_k=1,\n",
    "    monitor=\"val_loss\",\n",
    "    mode=\"min\",\n",
    ")\n",
    "\n",
    "model = init_model(\n",
    "    n_users,\n",
    "    n_items,\n",
    "    args.embedding_dim,\n",
    "    item_feature_size,\n",
    "    dropout=args.dropout,\n",
    "    item_embedding=pretrained_item_embedding,\n",
    ")\n",
    "lit_model = LitRanker(\n",
    "    model,\n",
    "    learning_rate=args.learning_rate,\n",
    "    l2_reg=args.l2_reg,\n",
    "    log_dir=args.notebook_persist_dp,\n",
    "    evaluate_ranking=True,\n",
    "    idm=idm,\n",
    "    all_items_indices=all_items_indices,\n",
    "    all_items_features=all_items_features,\n",
    "    args=args,\n",
    "    neg_to_pos_ratio=args.neg_to_pos_ratio,\n",
    "    checkpoint_callback=checkpoint_callback,\n",
    ")\n",
    "\n",
    "log_dir = f\"{args.notebook_persist_dp}/logs/run\"\n",
    "\n",
    "# train model\n",
    "trainer = L.Trainer(\n",
    "    default_root_dir=log_dir,\n",
    "    max_epochs=args.max_epochs,\n",
    "    callbacks=[early_stopping, checkpoint_callback],\n",
    "    accelerator=args.device if args.device else \"auto\",\n",
    "    logger=args._mlf_logger if args.log_to_mlflow else None,\n",
    ")\n",
    "trainer.fit(\n",
    "    model=lit_model,\n",
    "    train_dataloaders=train_loader,\n",
    "    val_dataloaders=val_loader,\n",
    ")"
   ]
  },
  {
   "cell_type": "code",
   "execution_count": 31,
   "id": "af44bf35-e7c7-4718-97b8-238e89b7f3f0",
   "metadata": {
    "editable": true,
    "scrolled": true,
    "slideshow": {
     "slide_type": ""
    },
    "tags": []
   },
   "outputs": [
    {
     "name": "stderr",
     "output_type": "stream",
     "text": [
      "\u001b[32m2024-10-28 02:48:39.882\u001b[0m | \u001b[1mINFO    \u001b[0m | \u001b[36m__main__\u001b[0m:\u001b[36m<module>\u001b[0m:\u001b[36m1\u001b[0m - \u001b[1mTest predicting after training with user_id = AEVKATB3HNRJWVKZ3QFJFFWWRLCA and parent_asin = B07DY1JKRH\u001b[0m\n"
     ]
    },
    {
     "data": {
      "text/plain": [
       "tensor([[0.0104]], grad_fn=<SigmoidBackward0>)"
      ]
     },
     "execution_count": 31,
     "metadata": {},
     "output_type": "execute_result"
    }
   ],
   "source": [
    "logger.info(\n",
    "    f\"Test predicting after training with {args.user_col} = {user_id} and {args.item_col} = {item_id}\"\n",
    ")\n",
    "model.eval()\n",
    "model.predict(user, item_sequence, item_feature, item)"
   ]
  },
  {
   "cell_type": "markdown",
   "id": "f8e1dd22-bcb9-4582-96d0-30acc4e8b790",
   "metadata": {
    "editable": true,
    "slideshow": {
     "slide_type": ""
    },
    "tags": []
   },
   "source": [
    "# Load best checkpoint"
   ]
  },
  {
   "cell_type": "code",
   "execution_count": 32,
   "id": "092427a8-ac4e-4752-a0ee-10729b6e563c",
   "metadata": {
    "scrolled": true
   },
   "outputs": [
    {
     "name": "stderr",
     "output_type": "stream",
     "text": [
      "\u001b[32m2024-10-28 02:48:39.918\u001b[0m | \u001b[1mINFO    \u001b[0m | \u001b[36m__main__\u001b[0m:\u001b[36m<module>\u001b[0m:\u001b[36m1\u001b[0m - \u001b[1mLoading best checkpoint from /Users/dvq/frostmourne/recsys-mvp/notebooks/data/023-dropout-to-0.4/checkpoints/best-checkpoint-v1.ckpt...\u001b[0m\n"
     ]
    }
   ],
   "source": [
    "logger.info(f\"Loading best checkpoint from {checkpoint_callback.best_model_path}...\")\n",
    "args.best_checkpoint_path = checkpoint_callback.best_model_path\n",
    "\n",
    "best_trainer = LitRanker.load_from_checkpoint(\n",
    "    checkpoint_callback.best_model_path,\n",
    "    model=init_model(\n",
    "        n_users,\n",
    "        n_items,\n",
    "        args.embedding_dim,\n",
    "        item_feature_size,\n",
    "        dropout=0,\n",
    "        item_embedding=pretrained_item_embedding,\n",
    "    ),\n",
    ")"
   ]
  },
  {
   "cell_type": "code",
   "execution_count": 33,
   "id": "e68989e7-cd28-4cb3-9a28-5bd477bb67c4",
   "metadata": {},
   "outputs": [],
   "source": [
    "best_model = best_trainer.model.to(lit_model.device)"
   ]
  },
  {
   "cell_type": "code",
   "execution_count": 34,
   "id": "72062d94-6ee8-480f-b7c6-9dcae2ceeb8b",
   "metadata": {
    "scrolled": true
   },
   "outputs": [
    {
     "data": {
      "text/plain": [
       "tensor([[0.0104]], grad_fn=<SigmoidBackward0>)"
      ]
     },
     "execution_count": 34,
     "metadata": {},
     "output_type": "execute_result"
    }
   ],
   "source": [
    "best_model.eval()\n",
    "best_model.predict(user, item_sequence, item_feature, item)"
   ]
  },
  {
   "cell_type": "markdown",
   "id": "26afc39d-5cbd-4ea4-9484-f6419b460bde",
   "metadata": {
    "scrolled": true
   },
   "source": [
    "### Persist id mapping"
   ]
  },
  {
   "cell_type": "code",
   "execution_count": 35,
   "id": "275bcb81-bf50-4757-9e63-5c7a317b276f",
   "metadata": {},
   "outputs": [],
   "source": [
    "if args.log_to_mlflow:\n",
    "    # Persist id_mapping so that at inference we can predict based on item_ids (string) instead of item_index\n",
    "    run_id = trainer.logger.run_id\n",
    "    mlf_client = trainer.logger.experiment\n",
    "    mlf_client.log_artifact(run_id, idm_fp)\n",
    "    # Persist item_feature_metadata pipeline\n",
    "    mlf_client.log_artifact(run_id, args.item_metadata_pipeline_fp)"
   ]
  },
  {
   "cell_type": "markdown",
   "id": "73a53735-cada-4b16-b6ec-b958e20d8093",
   "metadata": {},
   "source": [
    "### Wrap inference function and register best checkpoint as MLflow model"
   ]
  },
  {
   "cell_type": "code",
   "execution_count": 36,
   "id": "fc1da4ca-1616-4f57-99fb-cb851c535a57",
   "metadata": {},
   "outputs": [],
   "source": [
    "inferrer = RankerInferenceWrapper(best_model)"
   ]
  },
  {
   "cell_type": "code",
   "execution_count": 37,
   "id": "a21791a9-d5fc-4abe-bc3c-820aba9f0759",
   "metadata": {},
   "outputs": [
    {
     "data": {
      "text/plain": [
       "array([0.867823], dtype=float32)"
      ]
     },
     "execution_count": 37,
     "metadata": {},
     "output_type": "execute_result"
    }
   ],
   "source": [
    "sample_input = {\n",
    "    \"user_ids\": [idm.get_user_id(0)],\n",
    "    \"item_sequences\": [[idm.get_item_id(0), idm.get_item_id(1)]],\n",
    "    **{col: [train_df.iloc[0].fillna(0)[col]] for col in args.item_feature_cols},\n",
    "    \"item_ids\": [idm.get_item_id(0)],\n",
    "}\n",
    "sample_output = inferrer.infer([0], [[0, 1]], [train_item_features[0]], [0])\n",
    "sample_output"
   ]
  },
  {
   "cell_type": "code",
   "execution_count": 38,
   "id": "b24b5cf4-5e51-4641-bdfe-6ce289344bf6",
   "metadata": {},
   "outputs": [
    {
     "data": {
      "text/plain": [
       "{'user_ids': ['AE225O22SA7DLBOGOEIFL7FT5VYQ'],\n",
       " 'item_sequences': [['0375869026', '9625990674']],\n",
       " 'main_category': ['Video Games'],\n",
       " 'categories': [array(['Video Games', 'Legacy Systems', 'PlayStation Systems',\n",
       "         'PlayStation 3', 'Accessories', 'Controllers'], dtype=object)],\n",
       " 'price': ['49.99'],\n",
       " 'parent_asin_rating_cnt_365d': [76.0],\n",
       " 'parent_asin_rating_avg_prev_rating_365d': [4.592105263157895],\n",
       " 'parent_asin_rating_cnt_90d': [10.0],\n",
       " 'parent_asin_rating_avg_prev_rating_90d': [4.3],\n",
       " 'parent_asin_rating_cnt_30d': [3.0],\n",
       " 'parent_asin_rating_avg_prev_rating_30d': [5.0],\n",
       " 'parent_asin_rating_cnt_7d': [1.0],\n",
       " 'parent_asin_rating_avg_prev_rating_7d': [5.0],\n",
       " 'item_ids': ['0375869026']}"
      ]
     },
     "execution_count": 38,
     "metadata": {},
     "output_type": "execute_result"
    }
   ],
   "source": [
    "sample_input"
   ]
  },
  {
   "cell_type": "code",
   "execution_count": 39,
   "id": "de2c043a-f777-4ade-ab80-cfa4d90aafa8",
   "metadata": {
    "scrolled": true
   },
   "outputs": [
    {
     "name": "stderr",
     "output_type": "stream",
     "text": [
      "/Users/dvq/frostmourne/recsys-mvp/.venv/lib/python3.11/site-packages/mlflow/models/utils.py:523: FutureWarning:\n",
      "\n",
      "Since MLflow 2.16.0, we no longer convert dictionary input example to pandas Dataframe, and directly save it as a json object. If the model expects a pandas DataFrame input instead, please pass the pandas DataFrame as input example directly.\n",
      "\n"
     ]
    },
    {
     "data": {
      "application/vnd.jupyter.widget-view+json": {
       "model_id": "217f6073c6034221821bbbcb9caa4cc7",
       "version_major": 2,
       "version_minor": 0
      },
      "text/plain": [
       "Downloading artifacts:   0%|          | 0/1 [00:00<?, ?it/s]"
      ]
     },
     "metadata": {},
     "output_type": "display_data"
    },
    {
     "data": {
      "application/vnd.jupyter.widget-view+json": {
       "model_id": "965ca402f4714bde93800401a8a3e1e9",
       "version_major": 2,
       "version_minor": 0
      },
      "text/plain": [
       "Downloading artifacts:   0%|          | 0/1 [00:00<?, ?it/s]"
      ]
     },
     "metadata": {},
     "output_type": "display_data"
    },
    {
     "name": "stderr",
     "output_type": "stream",
     "text": [
      "Registered model 'ranker' already exists. Creating a new version of this model...\n",
      "2024/10/28 02:48:44 INFO mlflow.store.model_registry.abstract_store: Waiting up to 300 seconds for model version to finish creation. Model name: ranker, version 22\n",
      "Created version '22' of model 'ranker'.\n"
     ]
    },
    {
     "data": {
      "application/vnd.jupyter.widget-view+json": {
       "model_id": "1a108a34110b4d2aae2e5a30d3a042d5",
       "version_major": 2,
       "version_minor": 0
      },
      "text/plain": [
       "Downloading artifacts:   0%|          | 0/9 [00:00<?, ?it/s]"
      ]
     },
     "metadata": {},
     "output_type": "display_data"
    },
    {
     "name": "stderr",
     "output_type": "stream",
     "text": [
      "2024/10/28 02:48:44 WARNING mlflow.models.model: Failed to validate serving input example {\n",
      "  \"inputs\": {\n",
      "    \"user_ids\": [\n",
      "      \"AE225O22SA7DLBOGOEIFL7FT5VYQ\"\n",
      "    ],\n",
      "    \"item_sequences\": [\n",
      "      [\n",
      "        \"0375869026\",\n",
      "        \"9625990674\"\n",
      "      ]\n",
      "    ],\n",
      "    \"main_category\": [\n",
      "      \"Video Games\"\n",
      "    ],\n",
      "    \"categories\": [\n",
      "      [\n",
      "        \"Video Games\",\n",
      "        \"Legacy Systems\",\n",
      "        \"PlayStation Systems\",\n",
      "        \"PlayStation 3\",\n",
      "        \"Accessories\",\n",
      "        \"Controllers\"\n",
      "      ]\n",
      "    ],\n",
      "    \"price\": [\n",
      "      \"49.99\"\n",
      "    ],\n",
      "    \"parent_asin_rating_cnt_365d\": [\n",
      "      76.0\n",
      "    ],\n",
      "    \"parent_asin_rating_avg_prev_rating_365d\": [\n",
      "      4.592105263157895\n",
      "    ],\n",
      "    \"parent_asin_rating_cnt_90d\": [\n",
      "      10.0\n",
      "    ],\n",
      "    \"parent_asin_rating_avg_prev_rating_90d\": [\n",
      "      4.3\n",
      "    ],\n",
      "    \"parent_asin_rating_cnt_30d\": [\n",
      "      3.0\n",
      "    ],\n",
      "    \"parent_asin_rating_avg_prev_rating_30d\": [\n",
      "      5.0\n",
      "    ],\n",
      "    \"parent_asin_rating_cnt_7d\": [\n",
      "      1.0\n",
      "    ],\n",
      "    \"parent_asin_rating_avg_prev_rating_7d\": [\n",
      "      5.0\n",
      "    ],\n",
      "    \"item_ids\": [\n",
      "      \"0375869026\"\n",
      "    ]\n",
      "  }\n",
      "}. Alternatively, you can avoid passing input example and pass model signature instead when logging the model. To ensure the input example is valid prior to serving, please try calling `mlflow.models.validate_serving_input` on the model uri and serving input example. A serving input example can be generated from model input example using `mlflow.models.convert_input_example_to_serving_input` function.\n",
      "Got error: Per-column arrays must each be 1-dimensional\n",
      "2024/10/28 02:48:44 INFO mlflow.tracking._tracking_service.client: 🏃 View run 023-dropout-to-0.4 at: http://localhost:5002/#/experiments/3/runs/9d81ccb8cda843fda71bb497e169ef00.\n",
      "2024/10/28 02:48:44 INFO mlflow.tracking._tracking_service.client: 🧪 View experiment at: http://localhost:5002/#/experiments/3.\n"
     ]
    },
    {
     "name": "stdout",
     "output_type": "stream",
     "text": [
      "context.model_config={'use_sbert_features': True}\n",
      "self.use_sbert_features=True\n"
     ]
    }
   ],
   "source": [
    "if args.log_to_mlflow:\n",
    "    run_id = trainer.logger.run_id\n",
    "    sample_output_np = sample_output\n",
    "    signature = infer_signature(sample_input, sample_output_np)\n",
    "    idm_filename = idm_fp.split(\"/\")[-1]\n",
    "    item_metadata_pipeline_filename = args.item_metadata_pipeline_fp.split(\"/\")[-1]\n",
    "    with mlflow.start_run(run_id=run_id):\n",
    "        mlflow.pyfunc.log_model(\n",
    "            python_model=inferrer,\n",
    "            artifact_path=\"inferrer\",\n",
    "            artifacts={\n",
    "                # We log the id_mapping to the predict function so that it can accept item_id and automatically convert ot item_indice for PyTorch model to use\n",
    "                \"idm\": mlflow.get_artifact_uri(idm_filename),\n",
    "                \"item_metadata_pipeline\": mlflow.get_artifact_uri(\n",
    "                    item_metadata_pipeline_filename\n",
    "                ),\n",
    "            },\n",
    "            model_config={\"use_sbert_features\": args.use_sbert_features},\n",
    "            metadata={\"use_sbert_features\": args.use_sbert_features},\n",
    "            signature=signature,\n",
    "            input_example=sample_input,\n",
    "            registered_model_name=args.mlf_model_name,\n",
    "        )"
   ]
  },
  {
   "cell_type": "markdown",
   "id": "f95d5150-9851-4e61-b1af-8e619abc9ea4",
   "metadata": {},
   "source": [
    "# Set the newly trained model as champion"
   ]
  },
  {
   "cell_type": "code",
   "execution_count": 40,
   "id": "cbf6428a-bc47-400a-99ac-666abfa4ce63",
   "metadata": {},
   "outputs": [
    {
     "name": "stderr",
     "output_type": "stream",
     "text": [
      "\u001b[32m2024-10-28 02:48:44.781\u001b[0m | \u001b[1mINFO    \u001b[0m | \u001b[36m__main__\u001b[0m:\u001b[36m<module>\u001b[0m:\u001b[36m7\u001b[0m - \u001b[1mAliasing the new model as champion...\u001b[0m\n"
     ]
    }
   ],
   "source": [
    "if args.log_to_mlflow:\n",
    "    val_roc_auc = trainer.logger.experiment.get_run(trainer.logger.run_id).data.metrics[\n",
    "        \"val_roc_auc\"\n",
    "    ]\n",
    "\n",
    "    if val_roc_auc > args.min_roc_auc:\n",
    "        logger.info(f\"Aliasing the new model as champion...\")\n",
    "        model_version = (\n",
    "            mlf_client.get_registered_model(args.mlf_model_name)\n",
    "            .latest_versions[0]\n",
    "            .version\n",
    "        )\n",
    "\n",
    "        mlf_client.set_registered_model_alias(\n",
    "            name=args.mlf_model_name, alias=\"champion\", version=model_version\n",
    "        )\n",
    "\n",
    "        mlf_client.set_model_version_tag(\n",
    "            name=args.mlf_model_name,\n",
    "            version=model_version,\n",
    "            key=\"author\",\n",
    "            value=\"quy.dinh\",\n",
    "        )"
   ]
  },
  {
   "cell_type": "markdown",
   "id": "32096360-c26a-42de-9564-30634fb76eeb",
   "metadata": {},
   "source": [
    "# Clean up"
   ]
  },
  {
   "cell_type": "code",
   "execution_count": 41,
   "id": "e98c6850-e4de-43fa-b132-0b97f138a0ed",
   "metadata": {
    "scrolled": true
   },
   "outputs": [
    {
     "name": "stderr",
     "output_type": "stream",
     "text": [
      "2024/10/28 02:48:44 INFO mlflow.tracking._tracking_service.client: 🏃 View run 023-dropout-to-0.4 at: http://localhost:5002/#/experiments/3/runs/9d81ccb8cda843fda71bb497e169ef00.\n",
      "2024/10/28 02:48:44 INFO mlflow.tracking._tracking_service.client: 🧪 View experiment at: http://localhost:5002/#/experiments/3.\n"
     ]
    }
   ],
   "source": [
    "all_params = [args]\n",
    "\n",
    "if args.log_to_mlflow:\n",
    "    with mlflow.start_run(run_id=run_id):\n",
    "        for params in all_params:\n",
    "            params_dict = params.dict()\n",
    "            params_ = dict()\n",
    "            for k, v in params_dict.items():\n",
    "                if k == \"top_K\":\n",
    "                    k = \"top_big_K\"\n",
    "                if k == \"top_k\":\n",
    "                    k = \"top_small_k\"\n",
    "                params_[f\"{params.__repr_name__()}.{k}\"] = v\n",
    "            mlflow.log_params(params_)"
   ]
  },
  {
   "cell_type": "code",
   "execution_count": null,
   "id": "30cff81a-484e-4919-be8f-0351cce91a75",
   "metadata": {},
   "outputs": [],
   "source": []
  }
 ],
 "metadata": {
  "kernelspec": {
   "display_name": "Python 3 (ipykernel)",
   "language": "python",
   "name": "python3"
  },
  "language_info": {
   "codemirror_mode": {
    "name": "ipython",
    "version": 3
   },
   "file_extension": ".py",
   "mimetype": "text/x-python",
   "name": "python",
   "nbconvert_exporter": "python",
   "pygments_lexer": "ipython3",
   "version": "3.11.9"
  }
 },
 "nbformat": 4,
 "nbformat_minor": 5
}
