{
 "cells": [
  {
   "cell_type": "markdown",
   "id": "3bf1577c-6f3b-4b1c-a848-8f5e45ff8111",
   "metadata": {},
   "source": [
    "# Ranker that can takes into accound different features"
   ]
  },
  {
   "cell_type": "markdown",
   "id": "9309e017-0449-46ee-b7ca-4c4bcadeedf6",
   "metadata": {},
   "source": [
    "# Set up"
   ]
  },
  {
   "cell_type": "code",
   "execution_count": 1,
   "id": "3c8f6e8d-f776-4d39-898c-d783c5ae3407",
   "metadata": {},
   "outputs": [],
   "source": [
    "%load_ext autoreload\n",
    "%autoreload 2\n",
    "%load_ext tensorboard"
   ]
  },
  {
   "cell_type": "code",
   "execution_count": 2,
   "id": "35b3499d-dc9c-405a-8714-a26341b581e1",
   "metadata": {
    "editable": true,
    "slideshow": {
     "slide_type": ""
    },
    "tags": []
   },
   "outputs": [],
   "source": [
    "import os\n",
    "import sys\n",
    "from typing import List\n",
    "\n",
    "import dill\n",
    "import lightning as L\n",
    "import numpy as np\n",
    "import pandas as pd\n",
    "import torch\n",
    "from tqdm.auto import tqdm\n",
    "from dotenv import load_dotenv\n",
    "from lightning.pytorch.callbacks import ModelCheckpoint\n",
    "from lightning.pytorch.callbacks.early_stopping import EarlyStopping\n",
    "from lightning.pytorch.loggers import MLFlowLogger\n",
    "from loguru import logger\n",
    "from mlflow.models.signature import infer_signature\n",
    "from pydantic import BaseModel\n",
    "from torch.utils.data import DataLoader\n",
    "from qdrant_client import QdrantClient\n",
    "\n",
    "import mlflow\n",
    "\n",
    "load_dotenv()\n",
    "\n",
    "sys.path.insert(0, \"..\")\n",
    "\n",
    "from src.data_prep_utils import chunk_transform\n",
    "from src.dataset import UserItemBinaryDFDataset\n",
    "from src.id_mapper import IDMapper\n",
    "from src.ranker.inference import RankerInferenceWrapper\n",
    "from src.ranker.model import Ranker\n",
    "from src.ranker.trainer import LitRanker\n",
    "from src.viz import blueq_colors"
   ]
  },
  {
   "cell_type": "markdown",
   "id": "fd804021-3424-48e0-973a-e662a72db544",
   "metadata": {},
   "source": [
    "# Controller"
   ]
  },
  {
   "cell_type": "code",
   "execution_count": 3,
   "id": "ce522d9e-f35c-4cc5-a71e-68447956b31f",
   "metadata": {
    "editable": true,
    "slideshow": {
     "slide_type": ""
    },
    "tags": [
     "parameters"
    ]
   },
   "outputs": [],
   "source": [
    "max_epochs = 100"
   ]
  },
  {
   "cell_type": "code",
   "execution_count": 4,
   "id": "ea4e9a93-5b6a-4dec-97f0-b9aa3383c64d",
   "metadata": {},
   "outputs": [
    {
     "name": "stderr",
     "output_type": "stream",
     "text": [
      "\u001b[32m2024-10-27 15:11:35.237\u001b[0m | \u001b[1mINFO    \u001b[0m | \u001b[36m__main__\u001b[0m:\u001b[36minit\u001b[0m:\u001b[36m59\u001b[0m - \u001b[1mSetting up MLflow experiment RecSys MVP - Ranker - run 012-3-neg-samples-and-user-item-out-product...\u001b[0m\n"
     ]
    },
    {
     "name": "stdout",
     "output_type": "stream",
     "text": [
      "{\n",
      "  \"testing\": false,\n",
      "  \"log_to_mlflow\": true,\n",
      "  \"experiment_name\": \"RecSys MVP - Ranker\",\n",
      "  \"run_name\": \"012-3-neg-samples-and-user-item-out-product\",\n",
      "  \"notebook_persist_dp\": \"/Users/dvq/frostmourne/recsys-mvp/notebooks/data/012-3-neg-samples-and-user-item-out-product\",\n",
      "  \"random_seed\": 41,\n",
      "  \"device\": null,\n",
      "  \"item_metadata_pipeline_fp\": \"../data/item_metadata_pipeline.dill\",\n",
      "  \"qdrant_url\": \"localhost:6333\",\n",
      "  \"qdrant_collection_name\": \"item_desc_sbert\",\n",
      "  \"max_epochs\": 100,\n",
      "  \"batch_size\": 128,\n",
      "  \"tfm_chunk_size\": 10000,\n",
      "  \"neg_to_pos_ratio\": 3,\n",
      "  \"user_col\": \"user_id\",\n",
      "  \"item_col\": \"parent_asin\",\n",
      "  \"rating_col\": \"rating\",\n",
      "  \"timestamp_col\": \"timestamp\",\n",
      "  \"item_feature_cols\": [\n",
      "    \"main_category\",\n",
      "    \"categories\"\n",
      "  ],\n",
      "  \"top_K\": 100,\n",
      "  \"top_k\": 10,\n",
      "  \"embedding_dim\": 128,\n",
      "  \"dropout\": 0.3,\n",
      "  \"early_stopping_patience\": 5,\n",
      "  \"learning_rate\": 0.001,\n",
      "  \"l2_reg\": 0.0001,\n",
      "  \"mlf_item2vec_model_name\": \"item2vec\",\n",
      "  \"mlf_model_name\": \"ranker\",\n",
      "  \"min_roc_auc\": 0.7,\n",
      "  \"best_checkpoint_path\": null\n",
      "}\n"
     ]
    }
   ],
   "source": [
    "class Args(BaseModel):\n",
    "    testing: bool = False\n",
    "    log_to_mlflow: bool = True\n",
    "    experiment_name: str = \"RecSys MVP - Ranker\"\n",
    "    run_name: str = \"012-3-neg-samples-and-user-item-out-product\"\n",
    "    notebook_persist_dp: str = None\n",
    "    random_seed: int = 41\n",
    "    device: str = None\n",
    "\n",
    "    item_metadata_pipeline_fp: str = \"../data/item_metadata_pipeline.dill\"\n",
    "    qdrant_url: str = None\n",
    "    qdrant_collection_name: str = \"item_desc_sbert\"\n",
    "\n",
    "    max_epochs: int = max_epochs\n",
    "    batch_size: int = 128\n",
    "    tfm_chunk_size: int = 10000\n",
    "    neg_to_pos_ratio: int = 3\n",
    "\n",
    "    user_col: str = \"user_id\"\n",
    "    item_col: str = \"parent_asin\"\n",
    "    rating_col: str = \"rating\"\n",
    "    timestamp_col: str = \"timestamp\"\n",
    "    item_feature_cols: List[str] = [\"main_category\", \"categories\"]\n",
    "\n",
    "    top_K: int = 100\n",
    "    top_k: int = 10\n",
    "\n",
    "    batch_size: int = 128\n",
    "\n",
    "    embedding_dim: int = 128\n",
    "    dropout: float = 0.3\n",
    "    early_stopping_patience: int = 5\n",
    "    learning_rate: float = 0.001\n",
    "    l2_reg: float = 1e-4\n",
    "\n",
    "    mlf_item2vec_model_name: str = \"item2vec\"\n",
    "    mlf_model_name: str = \"ranker\"\n",
    "    min_roc_auc: float = 0.7\n",
    "\n",
    "    best_checkpoint_path: str = None\n",
    "\n",
    "    def init(self):\n",
    "        self.notebook_persist_dp = os.path.abspath(f\"data/{self.run_name}\")\n",
    "        os.makedirs(self.notebook_persist_dp, exist_ok=True)\n",
    "\n",
    "        if not (qdrant_host := os.getenv(\"QDRANT_HOST\")):\n",
    "            raise Exception(f\"Environment variable QDRANT_HOST is not set.\")\n",
    "\n",
    "        qdrant_port = os.getenv(\"QDRANT_PORT\")\n",
    "        self.qdrant_url = f\"{qdrant_host}:{qdrant_port}\"\n",
    "        \n",
    "        if not (mlflow_uri := os.environ.get(\"MLFLOW_TRACKING_URI\")):\n",
    "            logger.warning(\n",
    "                f\"Environment variable MLFLOW_TRACKING_URI is not set. Setting self.log_to_mlflow to false.\"\n",
    "            )\n",
    "            self.log_to_mlflow = False\n",
    "\n",
    "        if self.log_to_mlflow:\n",
    "            logger.info(\n",
    "                f\"Setting up MLflow experiment {self.experiment_name} - run {self.run_name}...\"\n",
    "            )\n",
    "            self._mlf_logger = MLFlowLogger(\n",
    "                experiment_name=self.experiment_name,\n",
    "                run_name=self.run_name,\n",
    "                tracking_uri=mlflow_uri,\n",
    "                log_model=True,\n",
    "            )\n",
    "\n",
    "        return self\n",
    "\n",
    "\n",
    "args = Args().init()\n",
    "\n",
    "print(args.model_dump_json(indent=2))"
   ]
  },
  {
   "cell_type": "markdown",
   "id": "a5acedcb-89e6-41c6-8969-bf3437fc7898",
   "metadata": {},
   "source": [
    "# Implement"
   ]
  },
  {
   "cell_type": "code",
   "execution_count": 5,
   "id": "5a34cb5b-c7db-4b95-952b-5f4cb2e1a04d",
   "metadata": {},
   "outputs": [],
   "source": [
    "def init_model(\n",
    "    n_users, n_items, embedding_dim, item_feature_size, dropout, item_embedding=None\n",
    "):\n",
    "    model = Ranker(\n",
    "        n_users,\n",
    "        n_items,\n",
    "        embedding_dim,\n",
    "        item_feature_size=item_feature_size,\n",
    "        dropout=dropout,\n",
    "        item_embedding=item_embedding,\n",
    "    )\n",
    "    return model"
   ]
  },
  {
   "cell_type": "markdown",
   "id": "c49b92fb-3b4c-482f-a584-62288873d8c3",
   "metadata": {},
   "source": [
    "## Load pretrained Item2Vec embeddings"
   ]
  },
  {
   "cell_type": "code",
   "execution_count": 6,
   "id": "35cfc84a-75bb-4973-b619-194cc8698ee2",
   "metadata": {
    "scrolled": true
   },
   "outputs": [
    {
     "data": {
      "application/vnd.jupyter.widget-view+json": {
       "model_id": "0b12cb971be345e6924a0a0131f75c5f",
       "version_major": 2,
       "version_minor": 0
      },
      "text/plain": [
       "Downloading artifacts:   0%|          | 0/8 [00:00<?, ?it/s]"
      ]
     },
     "metadata": {},
     "output_type": "display_data"
    }
   ],
   "source": [
    "mlf_client = mlflow.MlflowClient()\n",
    "model = mlflow.pyfunc.load_model(\n",
    "    model_uri=f\"models:/{args.mlf_item2vec_model_name}@champion\"\n",
    ")\n",
    "skipgram_model = model.unwrap_python_model().model\n",
    "embedding_0 = skipgram_model.embeddings(torch.tensor(0))\n",
    "embedding_dim = embedding_0.size()[0]\n",
    "id_mapping = model.unwrap_python_model().id_mapping\n",
    "pretrained_item_embedding = skipgram_model.embeddings"
   ]
  },
  {
   "cell_type": "code",
   "execution_count": 7,
   "id": "f3baa82d-859d-4414-8e19-4c7d92750fa3",
   "metadata": {},
   "outputs": [],
   "source": [
    "assert (\n",
    "    pretrained_item_embedding.embedding_dim == args.embedding_dim\n",
    "), \"Mismatch pretrained item_embedding dimension\""
   ]
  },
  {
   "cell_type": "markdown",
   "id": "a43bc0b9-9d56-4cb2-b821-61dd9b9858b1",
   "metadata": {},
   "source": [
    "## Load vectorized item features"
   ]
  },
  {
   "cell_type": "code",
   "execution_count": 8,
   "id": "8ff750e3-fa06-42b4-a5c3-9b93d3c2b536",
   "metadata": {},
   "outputs": [],
   "source": [
    "with open(args.item_metadata_pipeline_fp, \"rb\") as f:\n",
    "    item_metadata_pipeline = dill.load(f)"
   ]
  },
  {
   "cell_type": "markdown",
   "id": "58607871-619d-46a0-9f7d-405e8f500462",
   "metadata": {},
   "source": [
    "## Load ANN Index"
   ]
  },
  {
   "cell_type": "code",
   "execution_count": 9,
   "id": "6e3a82c4-247e-4402-a87b-198c698be866",
   "metadata": {},
   "outputs": [],
   "source": [
    "ann_index = QdrantClient(url=args.qdrant_url)\n",
    "if not ann_index.collection_exists(args.qdrant_collection_name):\n",
    "    raise Exception(\n",
    "        f\"Required Qdrant collection {args.qdrant_collection_name} does not exist\"\n",
    "    )"
   ]
  },
  {
   "cell_type": "code",
   "execution_count": 10,
   "id": "c4e24bed-4e12-4ea8-9635-03359b8b0818",
   "metadata": {},
   "outputs": [],
   "source": [
    "def get_vector_by_ids(ids: List[int], chunk_size=100):\n",
    "    records = []\n",
    "    for i in tqdm(range(0, len(ids), chunk_size)):\n",
    "        _ids = ids[i:i+chunk_size]\n",
    "        _records = ann_index.retrieve(\n",
    "            collection_name=args.qdrant_collection_name, ids=_ids, with_vectors=True\n",
    "        )\n",
    "        records.extend(_records)\n",
    "    return np.array([record.vector for record in records])"
   ]
  },
  {
   "cell_type": "code",
   "execution_count": 11,
   "id": "830d8094-ca35-4662-88b8-ee9a9aa7530a",
   "metadata": {
    "scrolled": true
   },
   "outputs": [
    {
     "data": {
      "application/vnd.jupyter.widget-view+json": {
       "model_id": "b7f4d075fa7e418b8fe613deed1e94e4",
       "version_major": 2,
       "version_minor": 0
      },
      "text/plain": [
       "  0%|          | 0/1 [00:00<?, ?it/s]"
      ]
     },
     "metadata": {},
     "output_type": "display_data"
    }
   ],
   "source": [
    "vector = get_vector_by_ids([0])[0]\n",
    "sbert_embedding_dim = vector.shape[0]\n",
    "neighbors = ann_index.search(\n",
    "    collection_name=args.qdrant_collection_name, query_vector=vector, limit=5\n",
    ")"
   ]
  },
  {
   "cell_type": "code",
   "execution_count": 12,
   "id": "45498169-b114-4ac6-8315-7c094a43785c",
   "metadata": {
    "scrolled": true
   },
   "outputs": [
    {
     "data": {
      "text/plain": [
       "[ScoredPoint(id=0, version=125, score=1.0, payload={'parent_asin': '0375869026', 'title': 'Wonder'}, vector=None, shard_key=None, order_value=None),\n",
       " ScoredPoint(id=3206, version=95, score=0.81854767, payload={'parent_asin': 'B017VLXJ7G', 'title': ''}, vector=None, shard_key=None, order_value=None),\n",
       " ScoredPoint(id=202, version=22, score=0.8096904, payload={'parent_asin': 'B000066RKC', 'title': 'The Thing'}, vector=None, shard_key=None, order_value=None),\n",
       " ScoredPoint(id=56, version=126, score=0.7248029, payload={'parent_asin': 'B00002SVFQ', 'title': 'F-Zero'}, vector=None, shard_key=None, order_value=None),\n",
       " ScoredPoint(id=437, version=111, score=0.72028804, payload={'parent_asin': 'B000EGELQ4', 'title': 'Big Brain Academy'}, vector=None, shard_key=None, order_value=None)]"
      ]
     },
     "execution_count": 12,
     "metadata": {},
     "output_type": "execute_result"
    }
   ],
   "source": [
    "neighbors"
   ]
  },
  {
   "cell_type": "markdown",
   "id": "377a71da-1ee3-474c-b3f4-4488d2a45dd3",
   "metadata": {},
   "source": [
    "# Test implementation"
   ]
  },
  {
   "cell_type": "code",
   "execution_count": 13,
   "id": "2806284e-20cd-4e8f-a1b9-34483ca094a2",
   "metadata": {
    "scrolled": true
   },
   "outputs": [
    {
     "data": {
      "application/vnd.jupyter.widget-view+json": {
       "model_id": "357540c30547482b8781f09b5f801a1a",
       "version_major": 2,
       "version_minor": 0
      },
      "text/plain": [
       "  0%|          | 0/1 [00:00<?, ?it/s]"
      ]
     },
     "metadata": {},
     "output_type": "display_data"
    },
    {
     "name": "stdout",
     "output_type": "stream",
     "text": [
      "tensor([[0.4631],\n",
      "        [0.4790],\n",
      "        [0.5072],\n",
      "        [0.5027],\n",
      "        [0.4979]], grad_fn=<SigmoidBackward0>)\n"
     ]
    }
   ],
   "source": [
    "embedding_dim = 8\n",
    "batch_size = 2\n",
    "\n",
    "# Mock data\n",
    "user_indices = [0, 0, 1, 2, 2]\n",
    "item_indices = [0, 1, 2, 3, 4]\n",
    "timestamps = [0, 1, 2, 3, 4]\n",
    "ratings = [0, 4, 5, 3, 0]\n",
    "item_sequences = [\n",
    "    [-1, -1, 2, 3],\n",
    "    [-1, -1, 2, 3],\n",
    "    [-1, -1, 1, 3],\n",
    "    [-1, -1, 2, 1],\n",
    "    [-1, -1, 2, 1],\n",
    "]\n",
    "main_category = [\n",
    "    \"All Electronics\",\n",
    "    \"Video Games\",\n",
    "    \"All Electronics\",\n",
    "    \"Video Games\",\n",
    "    \"Unknown\",\n",
    "]\n",
    "categories = [[], [\"Headsets\"], [\"Video Games\"], [], [\"blah blah\"]]\n",
    "title = [\"World of Warcraft\", \"DotA 2\", \"Diablo IV\", \"Football Manager 2024\", \"Unknown\"]\n",
    "description = [[], [], [\"Video games blah blah\"], [], [\"blah blah\"]]\n",
    "price = [\"from 14.99\", \"14.99\", \"price: 9.99\", \"20 dollars\", \"None\"]\n",
    "\n",
    "train_df = pd.DataFrame(\n",
    "    {\n",
    "        \"user_indice\": user_indices,\n",
    "        \"item_indice\": item_indices,\n",
    "        args.timestamp_col: timestamps,\n",
    "        args.rating_col: ratings,\n",
    "        \"item_sequence\": item_sequences,\n",
    "        \"main_category\": main_category,\n",
    "        \"title\": title,\n",
    "        \"description\": description,\n",
    "        \"categories\": categories,\n",
    "        \"price\": price,\n",
    "    }\n",
    ")\n",
    "train_item_features = item_metadata_pipeline.transform(train_df).astype(np.float32)\n",
    "sbert_vectors = get_vector_by_ids(train_df['item_indice'].values.tolist()).astype(np.float32)\n",
    "train_item_features = np.hstack([train_item_features, sbert_vectors])\n",
    "\n",
    "n_users = len(set(user_indices))\n",
    "n_items = len(set(item_indices))\n",
    "item_feature_size = train_item_features.shape[1]\n",
    "\n",
    "model = init_model(n_users, n_items, embedding_dim, item_feature_size, args.dropout)\n",
    "\n",
    "# Example forward pass\n",
    "model.eval()\n",
    "users = torch.tensor(user_indices)\n",
    "items = torch.tensor(item_indices)\n",
    "item_sequences = torch.tensor(item_sequences)\n",
    "item_features = torch.tensor(train_item_features)\n",
    "predictions = model.predict(users, item_sequences, item_features, items)\n",
    "print(predictions)"
   ]
  },
  {
   "cell_type": "code",
   "execution_count": 14,
   "id": "0c0b1fea-0376-4624-ad8a-d000208a97f5",
   "metadata": {
    "scrolled": true
   },
   "outputs": [],
   "source": [
    "rating_dataset = UserItemBinaryDFDataset(\n",
    "    train_df,\n",
    "    \"user_indice\",\n",
    "    \"item_indice\",\n",
    "    args.rating_col,\n",
    "    args.timestamp_col,\n",
    "    item_feature=train_item_features,\n",
    ")\n",
    "\n",
    "train_loader = DataLoader(rating_dataset, batch_size=batch_size, shuffle=False)"
   ]
  },
  {
   "cell_type": "code",
   "execution_count": 15,
   "id": "2e82d3d1-826a-409b-8440-46e0bd924269",
   "metadata": {
    "scrolled": true
   },
   "outputs": [
    {
     "name": "stdout",
     "output_type": "stream",
     "text": [
      "{'user': tensor([0, 0]), 'item': tensor([0, 1]), 'rating': tensor([0., 1.]), 'item_sequence': tensor([[-1, -1,  2,  3],\n",
      "        [-1, -1,  2,  3]]), 'item_feature': tensor([[-1.4698e-02,  5.6424e+00, -1.4698e-02,  ...,  2.6757e-02,\n",
      "         -5.9982e-02,  2.5429e-03],\n",
      "        [-1.4698e-02, -1.7723e-01, -1.4698e-02,  ..., -1.7954e-02,\n",
      "         -2.8491e-02,  2.2718e-03]])}\n",
      "{'user': tensor([1, 2]), 'item': tensor([2, 3]), 'rating': tensor([1., 1.]), 'item_sequence': tensor([[-1, -1,  1,  3],\n",
      "        [-1, -1,  2,  1]]), 'item_feature': tensor([[-1.4698e-02,  5.6424e+00, -1.4698e-02,  ...,  1.4054e-02,\n",
      "         -3.8501e-02, -7.5163e-03],\n",
      "        [-1.4698e-02, -1.7723e-01, -1.4698e-02,  ...,  1.0250e-02,\n",
      "         -7.4514e-02,  2.7393e-03]])}\n",
      "{'user': tensor([2]), 'item': tensor([4]), 'rating': tensor([0.]), 'item_sequence': tensor([[-1, -1,  2,  1]]), 'item_feature': tensor([[-1.4698e-02, -1.7723e-01, -1.4698e-02, -2.5463e-02, -1.4698e-02,\n",
      "         -1.4698e-02, -2.0788e-02, -8.2101e-02, -2.8729e-01, -1.4698e-02,\n",
      "         -3.8912e-02, -2.9405e-02, -2.5463e-02, -1.4698e-02, -1.4698e-02,\n",
      "         -3.8912e-02, -2.0788e-02, -3.8912e-02, -5.0976e-02, -2.4504e+00,\n",
      "         -1.3428e-01, -1.4000e-01, -6.1013e-01, -8.2101e-02, -7.9391e-02,\n",
      "         -2.0788e-02, -1.4698e-02, -1.4698e-02, -5.0976e-02, -1.3260e-01,\n",
      "         -2.5463e-02, -1.4698e-02, -9.0968e-02, -1.3593e-01, -1.4698e-02,\n",
      "         -1.4858e-01, -1.0448e-01, -1.4698e-02, -1.4698e-02, -2.0573e-01,\n",
      "         -2.2601e-01, -2.9405e-02, -2.0788e-02, -1.4698e-02, -2.0788e-02,\n",
      "         -1.4698e-02, -2.9405e-02, -7.3681e-02, -2.0788e-02, -2.0788e-02,\n",
      "         -1.4698e-02, -1.0342e-01, -2.0788e-02, -2.0788e-02, -3.8912e-02,\n",
      "         -1.0342e-01, -5.5072e-02, -1.2479e-01, -6.7500e-02, -1.2390e-01,\n",
      "         -1.6381e-01, -1.1327e+00, -2.0788e-02, -2.0788e-02, -1.3005e-01,\n",
      "         -1.3593e-01, -3.2880e-02, -1.4698e-02, -1.4698e-02, -2.0788e-02,\n",
      "         -1.4698e-02, -2.0788e-02, -4.6524e-02, -1.8361e-01, -9.0968e-02,\n",
      "         -2.5463e-02, -2.0788e-02, -3.8912e-02, -1.1646e+00, -6.9096e-02,\n",
      "         -5.5072e-02, -1.4698e-02, -4.1604e-02, -2.0788e-02, -6.4192e-02,\n",
      "         -3.2880e-02, -2.4392e-01, -8.2101e-02, -1.8298e-01, -2.0788e-02,\n",
      "         -9.2168e-02, -2.4342e-01, -5.5123e-01, -2.0788e-02, -7.0657e-02,\n",
      "         -4.0989e-01, -2.0788e-02, -1.2025e-01, -2.2495e-01, -3.4599e-01,\n",
      "         -3.2243e-01, -5.0976e-02, -6.7500e-02, -3.6022e-02, -5.1850e-01,\n",
      "         -1.5454e-01, -3.6022e-02, -2.5463e-02, -3.6022e-02, -1.4698e-02,\n",
      "         -5.3063e-02, -6.2473e-02, -2.0788e-02, -6.9096e-02, -5.0976e-02,\n",
      "         -6.0706e-02, -2.5463e-02, -8.3424e-02, -2.5463e-02, -1.4698e-02,\n",
      "         -2.9405e-02, -1.2025e-01, -1.4698e-02, -1.4698e-02, -5.5072e-02,\n",
      "         -3.2880e-02, -2.0788e-02, -4.1604e-02, -7.8002e-02, -1.4698e-02,\n",
      "         -2.9405e-02, -2.9405e-02, -5.0976e-02, -1.4698e-02, -1.4698e-02,\n",
      "         -3.8912e-02, -3.2880e-02, -7.1024e+00, -2.0788e-02, -2.5463e-02,\n",
      "         -2.5463e-02, -4.6524e-02, -2.5226e-01, -1.7064e-01, -1.3260e-01,\n",
      "         -3.3652e-01, -2.0788e-02, -2.0788e-02, -5.7011e-02, -2.8861e-01,\n",
      "         -2.0788e-02, -3.7131e-01, -5.4576e-01,  7.2160e-02,  3.8981e-02,\n",
      "         -1.8677e-03,  2.7584e-02, -1.6652e-02,  3.6546e-02,  3.2283e-02,\n",
      "          1.2780e-02, -6.6326e-02, -1.7417e-02,  8.1510e-02, -8.5664e-03,\n",
      "          3.6865e-02,  8.2442e-02, -3.2224e-02, -1.4093e-02,  2.7418e-03,\n",
      "          4.4849e-02, -3.4381e-05,  1.6375e-02, -9.0218e-03,  1.5493e-02,\n",
      "          1.8279e-02, -3.8756e-03, -8.5231e-02,  9.7573e-03,  1.8600e-02,\n",
      "         -2.2530e-02, -5.8930e-05, -9.1093e-02,  9.9318e-02,  1.6559e-02,\n",
      "          2.0523e-02, -6.4145e-02,  1.5157e-06, -2.3285e-02, -2.4161e-02,\n",
      "         -2.9079e-02, -6.9978e-03,  3.4301e-02,  8.5429e-02,  6.0193e-02,\n",
      "         -6.9220e-03,  3.3267e-02, -1.6224e-02,  2.7273e-02,  1.9966e-02,\n",
      "          7.3631e-02, -1.8783e-02, -2.4901e-03, -5.4123e-03, -5.1807e-02,\n",
      "          1.0987e-02, -3.6628e-02,  3.8900e-02,  3.8458e-03, -1.6760e-02,\n",
      "          3.4800e-02,  5.9350e-02, -2.2656e-03,  3.7103e-02,  2.5849e-02,\n",
      "          1.7363e-02,  3.6941e-02,  1.4762e-02, -1.0586e-02, -8.5972e-04,\n",
      "         -2.3992e-02, -4.2532e-02,  9.5037e-03,  4.4847e-02,  2.8284e-02,\n",
      "          4.3377e-02,  6.1906e-02,  2.2582e-02,  6.5691e-03, -5.1423e-03,\n",
      "          3.0783e-02, -3.2572e-02, -6.0826e-02, -1.3788e-02,  2.8267e-02,\n",
      "         -7.2331e-02, -1.4088e-02, -1.3996e-02,  4.8459e-02, -2.1842e-02,\n",
      "          2.7959e-02, -3.1828e-02, -3.7744e-02, -7.7886e-03, -2.6278e-02,\n",
      "          9.2404e-03,  1.5935e-02,  2.5300e-02,  4.6087e-04,  2.5774e-02,\n",
      "         -2.9527e-02,  5.4237e-02, -5.3777e-02,  1.8945e-02,  2.7809e-02,\n",
      "          4.8630e-02,  9.1106e-03,  5.0439e-02, -3.8352e-03,  3.1013e-02,\n",
      "         -5.1712e-02, -7.8685e-02,  7.6173e-02, -6.9164e-03, -1.9791e-02,\n",
      "         -3.1562e-02,  7.5907e-02,  4.6310e-03, -2.7038e-02,  2.9239e-02,\n",
      "         -1.6056e-02, -1.1667e-02,  3.7904e-02, -5.3484e-02,  2.5448e-02,\n",
      "         -1.5352e-02,  9.7205e-03, -2.4116e-02, -3.1151e-02, -7.5243e-02,\n",
      "         -1.5058e-02,  3.8252e-02,  2.5782e-02, -1.6295e-02,  1.5225e-02,\n",
      "          2.9662e-02, -1.8725e-02,  3.8794e-02, -2.0410e-02,  5.3962e-03,\n",
      "         -1.8956e-02,  1.5060e-02, -1.4924e-02, -2.0326e-02,  2.4343e-02,\n",
      "         -8.0642e-03, -1.6519e-02, -5.6771e-02, -1.2452e-02,  5.9449e-02,\n",
      "          2.5664e-02,  6.4696e-03,  1.8893e-02, -2.4977e-02, -1.2853e-02,\n",
      "          4.9180e-02,  1.6123e-03,  1.4517e-02,  2.5390e-02,  7.8374e-02,\n",
      "         -4.5847e-02, -5.5112e-02,  4.7807e-02,  9.7728e-03,  1.1459e-02,\n",
      "          4.6245e-02,  2.3022e-02, -5.0252e-02, -3.0670e-02,  4.5766e-02,\n",
      "         -5.6123e-03,  2.7610e-03,  3.0091e-02, -5.5468e-02,  1.0469e-03,\n",
      "         -1.5569e-02,  5.0885e-02,  1.3107e-02,  1.0845e-01, -3.4945e-02,\n",
      "          2.9814e-02, -5.5348e-02,  3.2801e-02, -5.2442e-02, -7.1795e-02,\n",
      "          2.7228e-02, -9.1700e-03, -1.8240e-02, -8.7009e-04, -1.3396e-02,\n",
      "         -2.0289e-02, -4.7709e-02, -3.8475e-02, -1.3643e-02, -7.1487e-03,\n",
      "          2.8845e-02,  1.7572e-02, -5.3146e-03,  9.2207e-03, -5.1985e-02,\n",
      "         -6.2173e-02, -3.4065e-03, -2.8666e-02, -1.0583e-03, -9.6221e-03,\n",
      "          9.3066e-02,  6.5864e-03,  3.5023e-02,  4.6452e-02, -1.9809e-02,\n",
      "          1.0955e-02, -7.3558e-02,  5.1885e-02, -3.6971e-02,  3.4091e-03,\n",
      "         -4.1196e-02, -2.1377e-02, -4.0374e-02, -5.6749e-02,  3.2209e-02,\n",
      "          3.4640e-02, -4.2927e-02,  3.3390e-02,  1.4721e-02,  8.4655e-02,\n",
      "          2.0669e-02,  6.5887e-04,  4.7848e-02, -3.2811e-02, -7.8816e-03,\n",
      "          1.2973e-03,  2.1559e-02, -5.5359e-04,  8.5583e-03, -3.8500e-02,\n",
      "         -1.1754e-02, -2.1501e-02, -5.9474e-02,  6.3177e-04, -6.6489e-03,\n",
      "          3.9816e-02,  1.9900e-02, -4.6520e-02, -5.4868e-02, -4.0118e-03,\n",
      "         -1.7619e-02,  2.8827e-02, -2.7441e-02, -1.1839e-02, -1.9465e-02,\n",
      "         -1.8636e-02, -3.5064e-02,  9.2404e-03, -2.9718e-02,  1.6088e-03,\n",
      "          3.3113e-02,  1.1144e-02, -2.2409e-02,  5.9574e-03, -1.1262e-01,\n",
      "          7.4064e-02, -6.3180e-02,  4.0079e-02,  1.3766e-02, -4.6969e-02,\n",
      "         -1.1437e-02, -8.5307e-03, -1.7770e-02, -3.5914e-02,  1.9450e-02,\n",
      "          1.1516e-02, -1.2370e-02, -5.1593e-02,  5.0458e-04, -3.9398e-03,\n",
      "          9.1159e-03, -1.3314e-02,  3.1580e-02, -3.2729e-02, -7.0490e-02,\n",
      "          7.2914e-04,  8.9263e-03,  1.5425e-02,  2.5637e-02,  4.0426e-02,\n",
      "         -5.0503e-03,  2.3829e-02,  9.0786e-04,  3.1232e-02,  2.5457e-02,\n",
      "         -6.0415e-02, -1.1155e-01,  9.0604e-03, -3.1173e-02, -2.4100e-02,\n",
      "          4.2150e-02, -3.2048e-02, -4.4878e-02, -1.7575e-02,  7.7702e-02,\n",
      "          3.9674e-02,  2.5107e-02, -2.8334e-02,  1.0765e-02, -3.8218e-02,\n",
      "         -2.6197e-03,  1.7045e-02, -3.9042e-02, -3.0226e-02, -1.5090e-03,\n",
      "         -1.8867e-02,  3.5545e-02,  2.0132e-02,  7.0280e-04,  1.0636e-02,\n",
      "          2.7430e-02, -6.0312e-02, -7.6798e-03,  1.2983e-02, -4.7740e-02,\n",
      "         -7.7497e-02,  1.9864e-02,  8.1296e-02, -1.5429e-03,  1.9115e-02,\n",
      "          3.4730e-02,  3.1726e-02, -2.0102e-02, -7.3952e-02, -4.5844e-02,\n",
      "          8.9924e-03,  7.5153e-02,  1.6930e-02,  1.2600e-03,  3.3440e-02,\n",
      "         -2.3844e-02,  1.6968e-02,  3.9804e-02,  2.9293e-02, -1.5481e-02,\n",
      "         -2.0625e-02, -5.1949e-02,  1.4609e-02,  3.4215e-03, -6.2007e-02,\n",
      "         -1.0272e-02, -3.9757e-02,  4.4528e-02, -4.9453e-02,  4.2224e-02,\n",
      "          4.4088e-02, -7.9995e-02,  6.4485e-03,  5.2441e-04,  4.3627e-02,\n",
      "         -2.0381e-03, -7.0155e-04,  4.5478e-03,  5.8087e-02,  4.6508e-02,\n",
      "         -3.2961e-02, -3.8180e-02, -2.9129e-02, -5.6282e-02, -3.8870e-02,\n",
      "         -2.6285e-02,  1.3956e-02,  1.1017e-02,  5.7945e-02,  2.3116e-02,\n",
      "          2.1412e-02,  9.7261e-03,  1.0105e-02,  2.1357e-02,  3.8758e-02,\n",
      "         -8.7480e-03,  1.8992e-02,  3.2324e-02,  5.0446e-04,  1.6590e-02,\n",
      "          7.6824e-03,  2.0129e-02, -4.8956e-02,  4.9122e-02,  1.6990e-02,\n",
      "          6.8949e-02,  1.6180e-02, -3.9860e-03,  1.6126e-02,  4.1679e-03,\n",
      "         -4.6866e-02, -3.2153e-02, -2.7955e-02, -2.4310e-03,  4.6728e-02,\n",
      "         -3.3722e-02,  1.8528e-02, -3.7981e-02, -1.8751e-02,  1.3517e-02,\n",
      "          5.0489e-03, -3.7502e-02,  1.9802e-03, -1.1618e-03, -1.0668e-02,\n",
      "          1.9600e-02,  1.1975e-02,  4.5970e-02, -1.7651e-02,  3.6082e-02,\n",
      "         -2.6031e-02, -1.4586e-02,  5.0626e-03,  2.4651e-02, -3.4744e-02,\n",
      "         -1.4961e-02,  2.7577e-02,  4.3108e-02, -5.5290e-02,  3.4982e-03,\n",
      "          3.0132e-02,  2.3282e-02,  1.1045e-02,  3.9566e-02,  4.4478e-02,\n",
      "          1.0591e-02,  4.2567e-02,  3.1340e-02, -1.0095e-02,  6.4487e-03,\n",
      "         -5.6625e-03,  1.3629e-03, -4.3844e-02, -3.3971e-02,  5.6285e-02,\n",
      "         -5.1410e-02,  2.4708e-02,  1.4793e-02,  3.2740e-03, -8.2285e-02,\n",
      "         -6.2433e-02,  4.2628e-02, -4.9797e-02, -1.4700e-02,  7.9212e-03,\n",
      "          1.7771e-02,  4.3005e-02, -2.1602e-02, -6.3691e-02,  4.5013e-02,\n",
      "         -4.7596e-02,  3.6237e-02,  5.7192e-03, -4.6970e-02, -2.0175e-02,\n",
      "          2.4440e-02, -1.6523e-02, -1.2025e-02, -4.9793e-02,  7.4811e-02,\n",
      "         -3.6927e-02, -1.6329e-02, -2.4673e-02,  1.7008e-02,  1.3953e-02,\n",
      "         -2.3655e-02,  9.0743e-03,  1.9121e-02, -2.7127e-02,  6.8321e-02,\n",
      "         -1.1634e-03, -1.1672e-02, -1.6453e-02,  7.5793e-02, -3.1835e-03,\n",
      "         -1.1386e-02,  2.8750e-02,  3.8084e-02, -6.4021e-02, -2.1284e-02,\n",
      "         -7.5815e-02,  2.6147e-02,  1.7723e-02, -8.3527e-03, -2.6139e-02,\n",
      "          1.0786e-02,  1.2339e-02, -9.9900e-03,  2.0194e-02,  5.2919e-02,\n",
      "         -3.5289e-02, -1.6335e-02, -1.7225e-02, -4.5396e-03, -8.7834e-02,\n",
      "         -1.8243e-02, -5.0656e-03,  6.6811e-03,  8.8105e-02,  4.5370e-03,\n",
      "         -2.2155e-02,  6.0681e-03, -3.3456e-04, -3.6392e-02, -1.1009e-02,\n",
      "          3.9821e-02, -2.1072e-02,  7.5606e-03,  4.9697e-02,  6.2057e-03,\n",
      "         -1.3080e-03,  3.9485e-02, -3.6177e-02, -3.5103e-04, -6.1449e-03,\n",
      "          2.3839e-02, -1.2310e-02,  4.0618e-02,  2.0656e-02, -5.0620e-02,\n",
      "         -8.0628e-02, -1.1363e-02,  1.4214e-02,  5.2140e-03, -1.3063e-02,\n",
      "         -1.5654e-02, -1.9674e-02, -1.6618e-02,  1.8986e-02,  1.8589e-02,\n",
      "         -9.7348e-03,  1.2720e-02, -7.4032e-03, -4.0121e-02, -2.0405e-02,\n",
      "          2.5367e-02,  3.8059e-02, -4.3008e-02,  5.8500e-02,  1.7838e-02,\n",
      "         -3.0840e-02,  7.9279e-03, -1.2244e-02, -5.7750e-02,  1.2177e-02,\n",
      "          5.0054e-02, -7.1005e-03,  9.1475e-02,  4.3227e-02,  1.1392e-02,\n",
      "          1.6620e-02, -8.8135e-03, -4.1000e-02,  1.7420e-02, -1.8625e-02,\n",
      "         -7.0371e-02,  1.8684e-02, -3.3885e-03, -5.5896e-33,  1.2177e-02,\n",
      "         -6.4553e-02, -3.8841e-02,  1.8652e-02,  7.4503e-03,  5.8487e-02,\n",
      "         -2.5962e-02,  2.7317e-02, -9.0590e-03, -8.4452e-03, -1.8244e-02,\n",
      "         -2.8744e-03,  1.9740e-02,  2.5604e-02,  3.6676e-02, -1.8860e-02,\n",
      "         -9.6430e-03, -3.3091e-03,  2.5289e-02, -3.1078e-02, -5.4062e-03,\n",
      "          2.2377e-02,  3.7774e-02, -2.7488e-02,  3.7695e-02, -3.2842e-02,\n",
      "          1.7954e-03, -2.3776e-02,  4.2410e-02, -3.6219e-02, -2.4477e-02,\n",
      "         -6.6350e-02, -8.3144e-03, -5.8746e-03,  3.4012e-02, -6.0489e-04,\n",
      "         -9.1926e-03, -1.4538e-02,  2.5482e-02, -7.7886e-02,  1.9747e-04,\n",
      "         -4.5038e-02, -1.6620e-02, -3.4386e-03,  1.5721e-02,  2.7790e-02,\n",
      "          4.0401e-02, -1.1594e-02, -5.1186e-02, -1.0813e-02,  7.1053e-03,\n",
      "         -2.1501e-02, -1.5758e-02, -1.4696e-02,  4.6091e-02,  4.2590e-02,\n",
      "          1.7478e-02,  7.8573e-02,  6.5978e-02,  6.0644e-02,  7.7101e-03,\n",
      "          5.8753e-02, -7.9591e-03, -5.0765e-02,  2.8699e-02,  5.5829e-03,\n",
      "         -8.9936e-02,  2.6380e-03, -9.3160e-02, -4.5933e-03, -5.4594e-02,\n",
      "         -4.2056e-03,  8.0570e-02,  3.6875e-03,  4.6294e-02, -3.7738e-02,\n",
      "         -2.3817e-02,  1.1138e-02,  1.2354e-01,  4.6014e-03,  2.5780e-03,\n",
      "         -3.6974e-02, -2.6449e-02, -7.2371e-03, -4.3645e-02,  4.9604e-02,\n",
      "         -3.3567e-02, -1.9458e-02,  1.8667e-02,  7.2079e-03,  4.4426e-02,\n",
      "          3.4713e-02, -1.2294e-02,  5.0086e-02, -5.9878e-05,  2.5537e-03,\n",
      "          7.0941e-02,  2.2072e-02,  5.2700e-03, -6.5275e-02,  1.4328e-02,\n",
      "          3.0407e-02, -5.3476e-03,  3.2488e-02,  1.6290e-02, -5.9083e-02,\n",
      "          5.1542e-03, -1.1045e-02, -4.0527e-02,  8.0119e-03,  1.5235e-02,\n",
      "         -2.6706e-02,  2.1518e-02, -6.1775e-02, -3.1907e-02,  1.1503e-02,\n",
      "          1.1512e-02,  3.8541e-02,  1.8630e-02, -8.0860e-03,  5.5187e-02,\n",
      "         -5.7617e-03, -4.5531e-02,  1.6651e-02, -7.7753e-03, -5.8405e-03,\n",
      "         -1.5470e-02,  5.6731e-02,  1.0347e-02,  1.1758e-02,  3.0576e-03,\n",
      "          1.6944e-02,  2.3399e-07, -2.0123e-02,  4.4388e-02, -3.9337e-02,\n",
      "          1.8877e-02,  2.2122e-03, -3.5882e-02,  6.7664e-03, -7.8793e-03,\n",
      "         -9.9782e-03,  8.1664e-03,  7.3516e-02, -1.3412e-02,  4.1114e-02,\n",
      "         -4.3733e-02, -4.1165e-02, -4.7586e-03, -2.1305e-02, -3.7341e-02,\n",
      "         -4.0327e-02,  1.0730e-02,  1.1547e-01,  7.5536e-03,  3.4881e-02,\n",
      "          8.6955e-03,  1.2060e-02, -2.5069e-02, -8.6268e-03, -8.0505e-02,\n",
      "         -1.2009e-02, -1.4793e-02, -5.1330e-02,  1.5076e-02, -3.2495e-02,\n",
      "         -3.9160e-02,  1.0479e-02, -7.8381e-02,  2.2910e-02,  2.8741e-02,\n",
      "          7.8323e-02, -1.4902e-02, -4.4780e-02,  6.3889e-02, -3.0945e-02,\n",
      "         -4.0759e-02,  1.2839e-02, -2.9941e-04,  1.3613e-02,  2.7369e-02,\n",
      "         -7.4791e-02,  2.8438e-02,  3.6444e-02, -5.7678e-03, -1.2402e-02,\n",
      "          3.6848e-03,  8.0455e-03,  7.8368e-03,  3.5339e-02,  1.3070e-02,\n",
      "          6.2976e-02,  5.0822e-02, -1.9264e-02, -2.7016e-03, -7.4427e-03,\n",
      "         -3.4382e-04,  3.6347e-03, -1.0325e-01, -6.5342e-03,  1.9503e-34,\n",
      "          3.1862e-02, -1.0658e-01, -4.7642e-02, -7.0557e-04, -1.3709e-02,\n",
      "          3.7604e-03, -1.2287e-02, -3.8664e-02, -8.9984e-03, -4.8315e-02,\n",
      "         -9.1812e-03]])}\n"
     ]
    }
   ],
   "source": [
    "for batch_input in train_loader:\n",
    "    print(batch_input)"
   ]
  },
  {
   "cell_type": "code",
   "execution_count": 16,
   "id": "02cb9ca4-11f1-45a8-911b-ed11c8391944",
   "metadata": {
    "scrolled": true
   },
   "outputs": [
    {
     "name": "stderr",
     "output_type": "stream",
     "text": [
      "GPU available: True (mps), used: True\n",
      "TPU available: False, using: 0 TPU cores\n",
      "HPU available: False, using: 0 HPUs\n",
      "\n",
      "  | Name  | Type   | Params | Mode\n",
      "----------------------------------------\n",
      "0 | model | Ranker | 8.2 K  | eval\n",
      "----------------------------------------\n",
      "8.2 K     Trainable params\n",
      "0         Non-trainable params\n",
      "8.2 K     Total params\n",
      "0.033     Total estimated model params size (MB)\n",
      "0         Modules in train mode\n",
      "14        Modules in eval mode\n"
     ]
    },
    {
     "data": {
      "application/vnd.jupyter.widget-view+json": {
       "model_id": "",
       "version_major": 2,
       "version_minor": 0
      },
      "text/plain": [
       "Sanity Checking: |                                                                                            …"
      ]
     },
     "metadata": {},
     "output_type": "display_data"
    },
    {
     "name": "stderr",
     "output_type": "stream",
     "text": [
      "/Users/dvq/frostmourne/recsys-mvp/.venv/lib/python3.11/site-packages/lightning/pytorch/trainer/connectors/data_connector.py:424: The 'val_dataloader' does not have many workers which may be a bottleneck. Consider increasing the value of the `num_workers` argument` to `num_workers=10` in the `DataLoader` to improve performance.\n",
      "/Users/dvq/frostmourne/recsys-mvp/.venv/lib/python3.11/site-packages/lightning/pytorch/trainer/connectors/data_connector.py:424: The 'train_dataloader' does not have many workers which may be a bottleneck. Consider increasing the value of the `num_workers` argument` to `num_workers=10` in the `DataLoader` to improve performance.\n",
      "/Users/dvq/frostmourne/recsys-mvp/.venv/lib/python3.11/site-packages/lightning/pytorch/loops/fit_loop.py:298: The number of training batches (3) is smaller than the logging interval Trainer(log_every_n_steps=50). Set a lower value for log_every_n_steps if you want to see logs for the training epoch.\n"
     ]
    },
    {
     "data": {
      "application/vnd.jupyter.widget-view+json": {
       "model_id": "958adaa6eaa344e4926f048dda7a111a",
       "version_major": 2,
       "version_minor": 0
      },
      "text/plain": [
       "Training: |                                                                                                   …"
      ]
     },
     "metadata": {},
     "output_type": "display_data"
    },
    {
     "data": {
      "application/vnd.jupyter.widget-view+json": {
       "model_id": "",
       "version_major": 2,
       "version_minor": 0
      },
      "text/plain": [
       "Validation: |                                                                                                 …"
      ]
     },
     "metadata": {},
     "output_type": "display_data"
    },
    {
     "data": {
      "application/vnd.jupyter.widget-view+json": {
       "model_id": "",
       "version_major": 2,
       "version_minor": 0
      },
      "text/plain": [
       "Validation: |                                                                                                 …"
      ]
     },
     "metadata": {},
     "output_type": "display_data"
    },
    {
     "name": "stderr",
     "output_type": "stream",
     "text": [
      "`Trainer.fit` stopped: `max_epochs=2` reached.\n",
      "\u001b[32m2024-10-27 15:11:37.489\u001b[0m | \u001b[1mINFO    \u001b[0m | \u001b[36msrc.ranker.trainer\u001b[0m:\u001b[36mon_fit_end\u001b[0m:\u001b[36m133\u001b[0m - \u001b[1mLogging classification metrics...\u001b[0m\n"
     ]
    }
   ],
   "source": [
    "# model\n",
    "lit_model = LitRanker(model, log_dir=args.notebook_persist_dp)\n",
    "\n",
    "# train model\n",
    "trainer = L.Trainer(\n",
    "    default_root_dir=f\"{args.notebook_persist_dp}/test\",\n",
    "    max_epochs=2,\n",
    "    accelerator=args.device if args.device else \"auto\",\n",
    ")\n",
    "trainer.fit(\n",
    "    model=lit_model, train_dataloaders=train_loader, val_dataloaders=train_loader\n",
    ")"
   ]
  },
  {
   "cell_type": "code",
   "execution_count": 17,
   "id": "36778ab4-b228-4bb0-bb0d-801ae7c28cd8",
   "metadata": {},
   "outputs": [
    {
     "name": "stdout",
     "output_type": "stream",
     "text": [
      "tensor([[0.4670],\n",
      "        [0.4987],\n",
      "        [0.5152],\n",
      "        [0.5208],\n",
      "        [0.4987]], grad_fn=<SigmoidBackward0>)\n"
     ]
    }
   ],
   "source": [
    "# After fitting\n",
    "model.eval()\n",
    "predictions = model.predict(users, item_sequences, item_features, items)\n",
    "print(predictions)"
   ]
  },
  {
   "cell_type": "code",
   "execution_count": 18,
   "id": "50fdcf97-6271-406d-81b5-7e91a4c42dec",
   "metadata": {
    "scrolled": true
   },
   "outputs": [
    {
     "data": {
      "application/vnd.jupyter.widget-view+json": {
       "model_id": "a98c0c3ebfc241d69c38a23983a2306d",
       "version_major": 2,
       "version_minor": 0
      },
      "text/plain": [
       "  0%|          | 0/1 [00:00<?, ?it/s]"
      ]
     },
     "metadata": {},
     "output_type": "display_data"
    },
    {
     "data": {
      "application/vnd.jupyter.widget-view+json": {
       "model_id": "0f8943bc17984a54a5ff13cd7319e6f9",
       "version_major": 2,
       "version_minor": 0
      },
      "text/plain": [
       "Generating recommendations:   0%|          | 0/1 [00:00<?, ?it/s]"
      ]
     },
     "metadata": {},
     "output_type": "display_data"
    },
    {
     "data": {
      "text/plain": [
       "{'user_indice': [2, 2, 1, 1, 0, 0],\n",
       " 'recommendation': [1, 3, 1, 2, 1, 3],\n",
       " 'score': [0.5275313258171082,\n",
       "  0.5208275318145752,\n",
       "  0.5420741438865662,\n",
       "  0.5151524543762207,\n",
       "  0.49870458245277405,\n",
       "  0.4703948497772217]}"
      ]
     },
     "execution_count": 18,
     "metadata": {},
     "output_type": "execute_result"
    }
   ],
   "source": [
    "all_items_df = train_df.drop_duplicates(subset=[\"item_indice\"])\n",
    "all_items_indices = all_items_df[\"item_indice\"].values\n",
    "all_items_features = item_metadata_pipeline.transform(all_items_df).astype(np.float32)\n",
    "all_sbert_vectors = get_vector_by_ids(all_items_indices.tolist()).astype(np.float32)\n",
    "all_items_features = np.hstack([all_items_features, all_sbert_vectors])\n",
    "\n",
    "# Get the last row of each item as input for recommendations (containing the most updated item_sequence)\n",
    "to_rec_df = train_df.sort_values(args.timestamp_col, ascending=False).drop_duplicates(\n",
    "    subset=[\"user_indice\"]\n",
    ")\n",
    "recommendations = model.recommend(\n",
    "    torch.tensor(to_rec_df[\"user_indice\"].values.tolist()),\n",
    "    torch.tensor(to_rec_df[\"item_sequence\"].values.tolist()),\n",
    "    torch.tensor(all_items_features),\n",
    "    torch.tensor(all_items_indices),\n",
    "    k=2,\n",
    "    batch_size=4,\n",
    ")\n",
    "recommendations"
   ]
  },
  {
   "cell_type": "markdown",
   "id": "170dec89-a874-4dce-8f94-07d978fcc5b8",
   "metadata": {},
   "source": [
    "# Prep data"
   ]
  },
  {
   "cell_type": "code",
   "execution_count": 19,
   "id": "83803362-5eaa-40bb-b28b-878316d5db5d",
   "metadata": {},
   "outputs": [],
   "source": [
    "train_df = pd.read_parquet(\"../data/train_features_neg_df.parquet\")\n",
    "val_df = pd.read_parquet(\"../data/val_features_neg_df.parquet\")\n",
    "idm_fp = \"../data/idm.json\"\n",
    "idm = IDMapper().load(idm_fp)\n",
    "\n",
    "assert (\n",
    "    train_df[args.user_col].map(lambda s: idm.get_user_index(s))\n",
    "    != train_df[\"user_indice\"]\n",
    ").sum() == 0, \"Mismatch IDM\"\n",
    "assert (\n",
    "    val_df[args.user_col].map(lambda s: idm.get_user_index(s)) != val_df[\"user_indice\"]\n",
    ").sum() == 0, \"Mismatch IDM\""
   ]
  },
  {
   "cell_type": "code",
   "execution_count": 20,
   "id": "a92a8ea7-928c-4656-b92c-2e137d78404a",
   "metadata": {
    "scrolled": true
   },
   "outputs": [
    {
     "data": {
      "text/html": [
       "<div>\n",
       "<style scoped>\n",
       "    .dataframe tbody tr th:only-of-type {\n",
       "        vertical-align: middle;\n",
       "    }\n",
       "\n",
       "    .dataframe tbody tr th {\n",
       "        vertical-align: top;\n",
       "    }\n",
       "\n",
       "    .dataframe thead th {\n",
       "        text-align: right;\n",
       "    }\n",
       "</style>\n",
       "<table border=\"1\" class=\"dataframe\">\n",
       "  <thead>\n",
       "    <tr style=\"text-align: right;\">\n",
       "      <th></th>\n",
       "      <th>user_id</th>\n",
       "      <th>parent_asin</th>\n",
       "      <th>rating</th>\n",
       "      <th>timestamp</th>\n",
       "      <th>user_indice</th>\n",
       "      <th>item_indice</th>\n",
       "      <th>main_category</th>\n",
       "      <th>categories</th>\n",
       "      <th>price</th>\n",
       "      <th>user_rating_cnt_90d</th>\n",
       "      <th>user_rating_avg_prev_rating_90d</th>\n",
       "      <th>user_rating_list_10_recent_asin</th>\n",
       "      <th>item_sequence</th>\n",
       "    </tr>\n",
       "  </thead>\n",
       "  <tbody>\n",
       "    <tr>\n",
       "      <th>0</th>\n",
       "      <td>AEKSUPM7CH53J3G5PA3JLWLJXUMQ</td>\n",
       "      <td>B00QXJFDZO</td>\n",
       "      <td>0.0</td>\n",
       "      <td>2017-10-30 14:23:22.389</td>\n",
       "      <td>2561</td>\n",
       "      <td>2919</td>\n",
       "      <td>Video Games</td>\n",
       "      <td>[Video Games, PlayStation 4, Games]</td>\n",
       "      <td>None</td>\n",
       "      <td>2</td>\n",
       "      <td>5.000000</td>\n",
       "      <td>B005FVBYV8,B003FMTZSI,B01MS6WG9S,B073W2T5F6</td>\n",
       "      <td>[-1, -1, -1, -1, -1, -1, 1912, 1470, 3498, 3723]</td>\n",
       "    </tr>\n",
       "    <tr>\n",
       "      <th>1</th>\n",
       "      <td>AHSNMFN6DUFTNEZAXBVPIYMXWIFQ</td>\n",
       "      <td>B075MYT126</td>\n",
       "      <td>0.0</td>\n",
       "      <td>2017-11-27 22:01:33.258</td>\n",
       "      <td>18413</td>\n",
       "      <td>3777</td>\n",
       "      <td>Video Games</td>\n",
       "      <td>[Video Games, Nintendo Switch, Accessories, Co...</td>\n",
       "      <td>94.98</td>\n",
       "      <td>2</td>\n",
       "      <td>4.000000</td>\n",
       "      <td>B00CJ9OTNE,B0118YZG0A,B008M502H6,B003Y70W4U,B0...</td>\n",
       "      <td>[2391, 3100, 2176, 1588, 3161, 2133, 2906, 166...</td>\n",
       "    </tr>\n",
       "    <tr>\n",
       "      <th>2</th>\n",
       "      <td>AFE47G5MX35LSHZHZXRYEJFMYPUA</td>\n",
       "      <td>B007VYW5K6</td>\n",
       "      <td>0.0</td>\n",
       "      <td>2017-03-23 21:41:18.000</td>\n",
       "      <td>6463</td>\n",
       "      <td>2086</td>\n",
       "      <td>Video Games</td>\n",
       "      <td>[Video Games, PC]</td>\n",
       "      <td>None</td>\n",
       "      <td>1</td>\n",
       "      <td>NaN</td>\n",
       "      <td>B07YBX8RNF,B0166QDJDQ,B01CHU4IY4,B00Z9LUDX4,B0...</td>\n",
       "      <td>[4278, 3183, 3288, 3038, 4508, 3391, 3403, 368...</td>\n",
       "    </tr>\n",
       "    <tr>\n",
       "      <th>3</th>\n",
       "      <td>AFJDWGBE3MGULXTO3FUZ5YB6FKDA</td>\n",
       "      <td>B07L5FKGQH</td>\n",
       "      <td>0.0</td>\n",
       "      <td>2017-01-18 15:50:12.000</td>\n",
       "      <td>7246</td>\n",
       "      <td>4048</td>\n",
       "      <td>Video Games</td>\n",
       "      <td>[Video Games, Xbox One, Games]</td>\n",
       "      <td>49.88</td>\n",
       "      <td>25</td>\n",
       "      <td>4.416667</td>\n",
       "      <td>B00I6E6SH6,B00O65I2VY,B005GISQQG,B00008KTNW,B0...</td>\n",
       "      <td>[2632, 2859, 1920, 253, 1428, 1053, 584, 732, ...</td>\n",
       "    </tr>\n",
       "    <tr>\n",
       "      <th>4</th>\n",
       "      <td>AHFDYGJR3SM2D463ZWKGHJPNBKDA</td>\n",
       "      <td>B002BSA2LQ</td>\n",
       "      <td>0.0</td>\n",
       "      <td>2014-01-29 22:50:20.000</td>\n",
       "      <td>16376</td>\n",
       "      <td>1215</td>\n",
       "      <td>Video Games</td>\n",
       "      <td>[Video Games, Legacy Systems, Xbox Systems, Xb...</td>\n",
       "      <td>31.49</td>\n",
       "      <td>4</td>\n",
       "      <td>5.000000</td>\n",
       "      <td>B002I0K956,B008CZN458,B0050SXVK8</td>\n",
       "      <td>[-1, -1, -1, -1, -1, -1, -1, 1328, 2146, 1843]</td>\n",
       "    </tr>\n",
       "    <tr>\n",
       "      <th>...</th>\n",
       "      <td>...</td>\n",
       "      <td>...</td>\n",
       "      <td>...</td>\n",
       "      <td>...</td>\n",
       "      <td>...</td>\n",
       "      <td>...</td>\n",
       "      <td>...</td>\n",
       "      <td>...</td>\n",
       "      <td>...</td>\n",
       "      <td>...</td>\n",
       "      <td>...</td>\n",
       "      <td>...</td>\n",
       "      <td>...</td>\n",
       "    </tr>\n",
       "    <tr>\n",
       "      <th>657187</th>\n",
       "      <td>AE5TQ7DBEX2L5T665M6ZDPGYZ32Q</td>\n",
       "      <td>B01LDUYTYS</td>\n",
       "      <td>0.0</td>\n",
       "      <td>2013-10-05 20:20:52.000</td>\n",
       "      <td>592</td>\n",
       "      <td>3442</td>\n",
       "      <td>Video Games</td>\n",
       "      <td>[Video Games, Legacy Systems, Nintendo Systems...</td>\n",
       "      <td>249.99</td>\n",
       "      <td>1</td>\n",
       "      <td>NaN</td>\n",
       "      <td>B07X1HF3V6</td>\n",
       "      <td>[-1, -1, -1, -1, -1, -1, -1, -1, -1, 4237]</td>\n",
       "    </tr>\n",
       "    <tr>\n",
       "      <th>657188</th>\n",
       "      <td>AFDG3CXM4DP7X436YNOKTJHVKJQA</td>\n",
       "      <td>B087NNPYP3</td>\n",
       "      <td>5.0</td>\n",
       "      <td>2018-07-10 21:22:10.594</td>\n",
       "      <td>6351</td>\n",
       "      <td>4342</td>\n",
       "      <td>Video Games</td>\n",
       "      <td>[Video Games, Nintendo Switch, Consoles]</td>\n",
       "      <td>None</td>\n",
       "      <td>3</td>\n",
       "      <td>5.000000</td>\n",
       "      <td>B002I0H79C,B00503E9FY,B00KVOVBGM,B00SHXKC8M,B0...</td>\n",
       "      <td>[1292, 1807, 2734, 2940, 3402, 2759, 2702, 104...</td>\n",
       "    </tr>\n",
       "    <tr>\n",
       "      <th>657189</th>\n",
       "      <td>AFOUC3S3RH7AXMPZBZHLO4WMLLVA</td>\n",
       "      <td>B004AM65C6</td>\n",
       "      <td>0.0</td>\n",
       "      <td>2018-12-16 13:39:37.174</td>\n",
       "      <td>8062</td>\n",
       "      <td>1651</td>\n",
       "      <td>Video Games</td>\n",
       "      <td>[Video Games, Legacy Systems, Xbox Systems, Xb...</td>\n",
       "      <td>12.48</td>\n",
       "      <td>2</td>\n",
       "      <td>5.000000</td>\n",
       "      <td>B002BSA388,B00PIEI1DG,B08MBHYJP4,B071GPJVTQ,B0...</td>\n",
       "      <td>[1216, 2898, 4397, 3643, 3642, 3527, 3423, 367...</td>\n",
       "    </tr>\n",
       "    <tr>\n",
       "      <th>657190</th>\n",
       "      <td>AEPOGF2QMAXO4W3TYP27DCQRITGA</td>\n",
       "      <td>B07X1HF3V6</td>\n",
       "      <td>0.0</td>\n",
       "      <td>2013-05-30 22:53:17.000</td>\n",
       "      <td>3373</td>\n",
       "      <td>4237</td>\n",
       "      <td>Video Games</td>\n",
       "      <td>[Video Games, Legacy Systems, PlayStation Syst...</td>\n",
       "      <td>34.43</td>\n",
       "      <td>4</td>\n",
       "      <td>3.666667</td>\n",
       "      <td>B0013OL0BK,B002D2Y3IS,B0044R8X9U,B07VLCRZ21,B0...</td>\n",
       "      <td>[-1, -1, -1, -1, -1, 652, 1240, 1629, 4207, 1707]</td>\n",
       "    </tr>\n",
       "    <tr>\n",
       "      <th>657191</th>\n",
       "      <td>AHZOHLRLN6MKO22GMSPC3A4S5A7Q</td>\n",
       "      <td>B004D1Z3UO</td>\n",
       "      <td>0.0</td>\n",
       "      <td>2014-09-11 21:15:29.000</td>\n",
       "      <td>19506</td>\n",
       "      <td>1672</td>\n",
       "      <td>Video Games</td>\n",
       "      <td>[Video Games, Legacy Systems, PlayStation Syst...</td>\n",
       "      <td>17.87</td>\n",
       "      <td>10</td>\n",
       "      <td>4.666667</td>\n",
       "      <td>B00IAVDQCK,B00GOZSR96,B00DBDPOZ4,B00EI4V3FU,B0...</td>\n",
       "      <td>[-1, 2641, 2581, 2428, 2491, 2024, 2187, 2123,...</td>\n",
       "    </tr>\n",
       "  </tbody>\n",
       "</table>\n",
       "<p>657192 rows × 13 columns</p>\n",
       "</div>"
      ],
      "text/plain": [
       "                             user_id parent_asin  rating  \\\n",
       "0       AEKSUPM7CH53J3G5PA3JLWLJXUMQ  B00QXJFDZO     0.0   \n",
       "1       AHSNMFN6DUFTNEZAXBVPIYMXWIFQ  B075MYT126     0.0   \n",
       "2       AFE47G5MX35LSHZHZXRYEJFMYPUA  B007VYW5K6     0.0   \n",
       "3       AFJDWGBE3MGULXTO3FUZ5YB6FKDA  B07L5FKGQH     0.0   \n",
       "4       AHFDYGJR3SM2D463ZWKGHJPNBKDA  B002BSA2LQ     0.0   \n",
       "...                              ...         ...     ...   \n",
       "657187  AE5TQ7DBEX2L5T665M6ZDPGYZ32Q  B01LDUYTYS     0.0   \n",
       "657188  AFDG3CXM4DP7X436YNOKTJHVKJQA  B087NNPYP3     5.0   \n",
       "657189  AFOUC3S3RH7AXMPZBZHLO4WMLLVA  B004AM65C6     0.0   \n",
       "657190  AEPOGF2QMAXO4W3TYP27DCQRITGA  B07X1HF3V6     0.0   \n",
       "657191  AHZOHLRLN6MKO22GMSPC3A4S5A7Q  B004D1Z3UO     0.0   \n",
       "\n",
       "                     timestamp  user_indice  item_indice main_category  \\\n",
       "0      2017-10-30 14:23:22.389         2561         2919   Video Games   \n",
       "1      2017-11-27 22:01:33.258        18413         3777   Video Games   \n",
       "2      2017-03-23 21:41:18.000         6463         2086   Video Games   \n",
       "3      2017-01-18 15:50:12.000         7246         4048   Video Games   \n",
       "4      2014-01-29 22:50:20.000        16376         1215   Video Games   \n",
       "...                        ...          ...          ...           ...   \n",
       "657187 2013-10-05 20:20:52.000          592         3442   Video Games   \n",
       "657188 2018-07-10 21:22:10.594         6351         4342   Video Games   \n",
       "657189 2018-12-16 13:39:37.174         8062         1651   Video Games   \n",
       "657190 2013-05-30 22:53:17.000         3373         4237   Video Games   \n",
       "657191 2014-09-11 21:15:29.000        19506         1672   Video Games   \n",
       "\n",
       "                                               categories   price  \\\n",
       "0                     [Video Games, PlayStation 4, Games]    None   \n",
       "1       [Video Games, Nintendo Switch, Accessories, Co...   94.98   \n",
       "2                                       [Video Games, PC]    None   \n",
       "3                          [Video Games, Xbox One, Games]   49.88   \n",
       "4       [Video Games, Legacy Systems, Xbox Systems, Xb...   31.49   \n",
       "...                                                   ...     ...   \n",
       "657187  [Video Games, Legacy Systems, Nintendo Systems...  249.99   \n",
       "657188           [Video Games, Nintendo Switch, Consoles]    None   \n",
       "657189  [Video Games, Legacy Systems, Xbox Systems, Xb...   12.48   \n",
       "657190  [Video Games, Legacy Systems, PlayStation Syst...   34.43   \n",
       "657191  [Video Games, Legacy Systems, PlayStation Syst...   17.87   \n",
       "\n",
       "        user_rating_cnt_90d  user_rating_avg_prev_rating_90d  \\\n",
       "0                         2                         5.000000   \n",
       "1                         2                         4.000000   \n",
       "2                         1                              NaN   \n",
       "3                        25                         4.416667   \n",
       "4                         4                         5.000000   \n",
       "...                     ...                              ...   \n",
       "657187                    1                              NaN   \n",
       "657188                    3                         5.000000   \n",
       "657189                    2                         5.000000   \n",
       "657190                    4                         3.666667   \n",
       "657191                   10                         4.666667   \n",
       "\n",
       "                          user_rating_list_10_recent_asin  \\\n",
       "0             B005FVBYV8,B003FMTZSI,B01MS6WG9S,B073W2T5F6   \n",
       "1       B00CJ9OTNE,B0118YZG0A,B008M502H6,B003Y70W4U,B0...   \n",
       "2       B07YBX8RNF,B0166QDJDQ,B01CHU4IY4,B00Z9LUDX4,B0...   \n",
       "3       B00I6E6SH6,B00O65I2VY,B005GISQQG,B00008KTNW,B0...   \n",
       "4                        B002I0K956,B008CZN458,B0050SXVK8   \n",
       "...                                                   ...   \n",
       "657187                                         B07X1HF3V6   \n",
       "657188  B002I0H79C,B00503E9FY,B00KVOVBGM,B00SHXKC8M,B0...   \n",
       "657189  B002BSA388,B00PIEI1DG,B08MBHYJP4,B071GPJVTQ,B0...   \n",
       "657190  B0013OL0BK,B002D2Y3IS,B0044R8X9U,B07VLCRZ21,B0...   \n",
       "657191  B00IAVDQCK,B00GOZSR96,B00DBDPOZ4,B00EI4V3FU,B0...   \n",
       "\n",
       "                                            item_sequence  \n",
       "0        [-1, -1, -1, -1, -1, -1, 1912, 1470, 3498, 3723]  \n",
       "1       [2391, 3100, 2176, 1588, 3161, 2133, 2906, 166...  \n",
       "2       [4278, 3183, 3288, 3038, 4508, 3391, 3403, 368...  \n",
       "3       [2632, 2859, 1920, 253, 1428, 1053, 584, 732, ...  \n",
       "4          [-1, -1, -1, -1, -1, -1, -1, 1328, 2146, 1843]  \n",
       "...                                                   ...  \n",
       "657187         [-1, -1, -1, -1, -1, -1, -1, -1, -1, 4237]  \n",
       "657188  [1292, 1807, 2734, 2940, 3402, 2759, 2702, 104...  \n",
       "657189  [1216, 2898, 4397, 3643, 3642, 3527, 3423, 367...  \n",
       "657190  [-1, -1, -1, -1, -1, 652, 1240, 1629, 4207, 1707]  \n",
       "657191  [-1, 2641, 2581, 2428, 2491, 2024, 2187, 2123,...  \n",
       "\n",
       "[657192 rows x 13 columns]"
      ]
     },
     "execution_count": 20,
     "metadata": {},
     "output_type": "execute_result"
    }
   ],
   "source": [
    "train_df"
   ]
  },
  {
   "cell_type": "code",
   "execution_count": 21,
   "id": "bd469969-aaa6-4763-a0fc-d432961cf4dc",
   "metadata": {
    "scrolled": true
   },
   "outputs": [
    {
     "data": {
      "application/vnd.jupyter.widget-view+json": {
       "model_id": "95e59bb4fd9c4f81afbd4f62a60ac9e6",
       "version_major": 2,
       "version_minor": 0
      },
      "text/plain": [
       "  0%|          | 0/5 [00:00<?, ?it/s]"
      ]
     },
     "metadata": {},
     "output_type": "display_data"
    },
    {
     "data": {
      "application/vnd.jupyter.widget-view+json": {
       "model_id": "5a79e2dbc0254229a6ad7c1a6bdc8efd",
       "version_major": 2,
       "version_minor": 0
      },
      "text/plain": [
       "Transforming chunks:   0%|          | 0/66 [00:00<?, ?it/s]"
      ]
     },
     "metadata": {},
     "output_type": "display_data"
    },
    {
     "data": {
      "application/vnd.jupyter.widget-view+json": {
       "model_id": "4e4fa68dfe824c6687e79a5c62076afc",
       "version_major": 2,
       "version_minor": 0
      },
      "text/plain": [
       "Transforming chunks:   0%|          | 0/1 [00:00<?, ?it/s]"
      ]
     },
     "metadata": {},
     "output_type": "display_data"
    },
    {
     "name": "stderr",
     "output_type": "stream",
     "text": [
      "\u001b[32m2024-10-27 15:11:44.041\u001b[0m | \u001b[1mINFO    \u001b[0m | \u001b[36m__main__\u001b[0m:\u001b[36m<module>\u001b[0m:\u001b[36m19\u001b[0m - \u001b[1mlen(user_indices)=19,578, len(item_indices)=4,630\u001b[0m\n"
     ]
    }
   ],
   "source": [
    "user_indices = train_df[\"user_indice\"].unique()\n",
    "item_indices = train_df[\"item_indice\"].unique()\n",
    "all_sbert_vectors = get_vector_by_ids(item_indices.tolist(), chunk_size=1000).astype(np.float32)\n",
    "\n",
    "train_item_features = chunk_transform(\n",
    "    train_df, item_metadata_pipeline, chunk_size=args.tfm_chunk_size\n",
    ")\n",
    "train_item_features = train_item_features.astype(np.float32)\n",
    "train_sbert_vectors = all_sbert_vectors[train_df['item_indice'].values]\n",
    "train_item_features = np.hstack([train_item_features, train_sbert_vectors])\n",
    "\n",
    "val_item_features = chunk_transform(\n",
    "    val_df, item_metadata_pipeline, chunk_size=args.tfm_chunk_size\n",
    ")\n",
    "val_item_features = val_item_features.astype(np.float32)\n",
    "val_sbert_vectors = all_sbert_vectors[val_df['item_indice'].values]\n",
    "val_item_features = np.hstack([val_item_features, val_sbert_vectors])\n",
    "\n",
    "logger.info(f\"{len(user_indices)=:,.0f}, {len(item_indices)=:,.0f}\")"
   ]
  },
  {
   "cell_type": "markdown",
   "id": "5260fbe7-2f90-44a1-be74-ce5db9b511ee",
   "metadata": {},
   "source": [
    "# Train"
   ]
  },
  {
   "cell_type": "code",
   "execution_count": 22,
   "id": "240a04ed-8898-443f-b0f4-7399bfa63810",
   "metadata": {},
   "outputs": [],
   "source": [
    "rating_dataset = UserItemBinaryDFDataset(\n",
    "    train_df,\n",
    "    \"user_indice\",\n",
    "    \"item_indice\",\n",
    "    args.rating_col,\n",
    "    args.timestamp_col,\n",
    "    item_feature=train_item_features,\n",
    ")\n",
    "val_rating_dataset = UserItemBinaryDFDataset(\n",
    "    val_df,\n",
    "    \"user_indice\",\n",
    "    \"item_indice\",\n",
    "    args.rating_col,\n",
    "    args.timestamp_col,\n",
    "    item_feature=val_item_features,\n",
    ")\n",
    "\n",
    "train_loader = DataLoader(\n",
    "    rating_dataset, batch_size=args.batch_size, shuffle=True, drop_last=True\n",
    ")\n",
    "val_loader = DataLoader(\n",
    "    val_rating_dataset, batch_size=args.batch_size, shuffle=False, drop_last=False\n",
    ")"
   ]
  },
  {
   "cell_type": "code",
   "execution_count": 23,
   "id": "22dcf157-425f-4d15-9b53-e1ff93887def",
   "metadata": {
    "scrolled": true
   },
   "outputs": [
    {
     "data": {
      "text/plain": [
       "Ranker(\n",
       "  (item_embedding): Embedding(4631, 128, padding_idx=4630)\n",
       "  (user_embedding): Embedding(19578, 128)\n",
       "  (gru): GRU(128, 128, batch_first=True)\n",
       "  (relu): ReLU()\n",
       "  (dropout): Dropout(p=0.3, inplace=False)\n",
       "  (item_feature_tower): Sequential(\n",
       "    (0): Linear(in_features=921, out_features=128, bias=True)\n",
       "    (1): BatchNorm1d(128, eps=1e-05, momentum=0.1, affine=True, track_running_stats=True)\n",
       "    (2): ReLU()\n",
       "    (3): Dropout(p=0.3, inplace=False)\n",
       "  )\n",
       "  (fc_rating): Sequential(\n",
       "    (0): Linear(in_features=640, out_features=128, bias=True)\n",
       "    (1): BatchNorm1d(128, eps=1e-05, momentum=0.1, affine=True, track_running_stats=True)\n",
       "    (2): ReLU()\n",
       "    (3): Dropout(p=0.3, inplace=False)\n",
       "    (4): Linear(in_features=128, out_features=1, bias=True)\n",
       "    (5): Sigmoid()\n",
       "  )\n",
       ")"
      ]
     },
     "execution_count": 23,
     "metadata": {},
     "output_type": "execute_result"
    }
   ],
   "source": [
    "n_items = len(item_indices)\n",
    "n_users = len(user_indices)\n",
    "\n",
    "model = init_model(\n",
    "    n_users, n_items, args.embedding_dim, item_feature_size, args.dropout\n",
    ")\n",
    "model"
   ]
  },
  {
   "cell_type": "markdown",
   "id": "b8cbb2a8-a578-4ad2-941e-efd01d930336",
   "metadata": {},
   "source": [
    "#### Predict before train"
   ]
  },
  {
   "cell_type": "code",
   "execution_count": 24,
   "id": "0112de1e-1dce-4982-9663-a1df91fd0001",
   "metadata": {
    "scrolled": true
   },
   "outputs": [
    {
     "data": {
      "text/html": [
       "<div>\n",
       "<style scoped>\n",
       "    .dataframe tbody tr th:only-of-type {\n",
       "        vertical-align: middle;\n",
       "    }\n",
       "\n",
       "    .dataframe tbody tr th {\n",
       "        vertical-align: top;\n",
       "    }\n",
       "\n",
       "    .dataframe thead th {\n",
       "        text-align: right;\n",
       "    }\n",
       "</style>\n",
       "<table border=\"1\" class=\"dataframe\">\n",
       "  <thead>\n",
       "    <tr style=\"text-align: right;\">\n",
       "      <th></th>\n",
       "      <th>user_id</th>\n",
       "      <th>parent_asin</th>\n",
       "      <th>rating</th>\n",
       "      <th>timestamp</th>\n",
       "      <th>user_indice</th>\n",
       "      <th>item_indice</th>\n",
       "      <th>main_category</th>\n",
       "      <th>categories</th>\n",
       "      <th>price</th>\n",
       "      <th>user_rating_cnt_90d</th>\n",
       "      <th>user_rating_avg_prev_rating_90d</th>\n",
       "      <th>user_rating_list_10_recent_asin</th>\n",
       "      <th>item_sequence</th>\n",
       "    </tr>\n",
       "  </thead>\n",
       "  <tbody>\n",
       "    <tr>\n",
       "      <th>3759</th>\n",
       "      <td>AE3NRCMFIBBA2XVODR47YYNLKRDA</td>\n",
       "      <td>B001EYUQC8</td>\n",
       "      <td>1.0</td>\n",
       "      <td>2021-11-13 09:59:46.634</td>\n",
       "      <td>268</td>\n",
       "      <td>908</td>\n",
       "      <td>Video Games</td>\n",
       "      <td>[Video Games, Legacy Systems, PlayStation Syst...</td>\n",
       "      <td>44.49</td>\n",
       "      <td>1</td>\n",
       "      <td>NaN</td>\n",
       "      <td>B000OLXX86,B000B9RI14,B0050SWQ86,B00CTKHXFO,B0...</td>\n",
       "      <td>[-1, -1, -1, 543, 417, 1835, 2407, 3123, 1526,...</td>\n",
       "    </tr>\n",
       "    <tr>\n",
       "      <th>2114</th>\n",
       "      <td>AEILFB67AZEGIKLQ7AQ5XPSIAMFQ</td>\n",
       "      <td>B007VM72BA</td>\n",
       "      <td>0.0</td>\n",
       "      <td>2022-03-09 22:27:41.699</td>\n",
       "      <td>2218</td>\n",
       "      <td>2083</td>\n",
       "      <td>Video Games</td>\n",
       "      <td>[Video Games, Legacy Systems, PlayStation Syst...</td>\n",
       "      <td>89.95</td>\n",
       "      <td>1</td>\n",
       "      <td>NaN</td>\n",
       "      <td>B005B8DRVU,B0015PHMFU,B00TKLFES8,B00MOR1A7Y,B0...</td>\n",
       "      <td>[-1, -1, -1, -1, -1, 1899, 666, 2954, 2806, 2804]</td>\n",
       "    </tr>\n",
       "    <tr>\n",
       "      <th>1467</th>\n",
       "      <td>AGTPSXXK4B2NSMTIDJCOIXELXOIA</td>\n",
       "      <td>B072199RYC</td>\n",
       "      <td>0.0</td>\n",
       "      <td>2021-08-13 13:37:54.242</td>\n",
       "      <td>13677</td>\n",
       "      <td>3674</td>\n",
       "      <td>Video Games</td>\n",
       "      <td>[Video Games, PlayStation 4, Games]</td>\n",
       "      <td>61.99</td>\n",
       "      <td>5</td>\n",
       "      <td>4.5</td>\n",
       "      <td>B07T5QKKVP,B08JHX17ZZ,B07MWB5YJW,B094WQR3H3,B0...</td>\n",
       "      <td>[-1, -1, 4176, 4386, 4068, 4453, 4070, 4387, 3...</td>\n",
       "    </tr>\n",
       "    <tr>\n",
       "      <th>1653</th>\n",
       "      <td>AH4LS5HFN2VGSKNKQGNZGENHBVVA</td>\n",
       "      <td>B0BFFJTZNN</td>\n",
       "      <td>0.0</td>\n",
       "      <td>2021-12-19 22:28:25.889</td>\n",
       "      <td>15027</td>\n",
       "      <td>4544</td>\n",
       "      <td>Video Games</td>\n",
       "      <td>[Video Games, Xbox One, Accessories, Headsets]</td>\n",
       "      <td>135.0</td>\n",
       "      <td>1</td>\n",
       "      <td>NaN</td>\n",
       "      <td>B008FHL56S,B0053B66KE,B00CQ9L1Z6,B017C6OK7S,B0...</td>\n",
       "      <td>[2151, 1871, 2404, 3199, 4403, 2682, 1915, 275...</td>\n",
       "    </tr>\n",
       "    <tr>\n",
       "      <th>1054</th>\n",
       "      <td>AFWIWPE67QV6CN77CXHRUW6PKVHQ</td>\n",
       "      <td>B00K5HTPR2</td>\n",
       "      <td>0.0</td>\n",
       "      <td>2022-01-30 23:38:08.357</td>\n",
       "      <td>9258</td>\n",
       "      <td>2697</td>\n",
       "      <td>Video Games</td>\n",
       "      <td>[Video Games, PlayStation 4, Games]</td>\n",
       "      <td>26.64</td>\n",
       "      <td>1</td>\n",
       "      <td>NaN</td>\n",
       "      <td>B0C8MPWZ1H,B07WZ78VRN,B07624RBWB,B07DK1H3H5,B0...</td>\n",
       "      <td>[-1, -1, -1, -1, 4624, 4233, 3788, 3936, 4603,...</td>\n",
       "    </tr>\n",
       "    <tr>\n",
       "      <th>2229</th>\n",
       "      <td>AHYEDK3YUJ272WRGEYYPKMJYYGBQ</td>\n",
       "      <td>B000N5Z2L4</td>\n",
       "      <td>1.0</td>\n",
       "      <td>2022-01-02 19:30:15.954</td>\n",
       "      <td>19324</td>\n",
       "      <td>526</td>\n",
       "      <td>Video Games</td>\n",
       "      <td>[Video Games, Xbox Digital Content, Subscripti...</td>\n",
       "      <td>9.99</td>\n",
       "      <td>2</td>\n",
       "      <td>4.0</td>\n",
       "      <td>B00DTWEOZ8,B00H727K20,B00JWSJ6G0,B00SN1QEGW,B0...</td>\n",
       "      <td>[2460, 2592, 2690, 2941, 4004, 4476, 4613, 461...</td>\n",
       "    </tr>\n",
       "    <tr>\n",
       "      <th>3470</th>\n",
       "      <td>AERAX4VNX4JDFBK6BOH6NQ57U4BA</td>\n",
       "      <td>B07TC8J6HK</td>\n",
       "      <td>1.0</td>\n",
       "      <td>2022-01-26 17:59:37.364</td>\n",
       "      <td>3634</td>\n",
       "      <td>4180</td>\n",
       "      <td>Cell Phones &amp; Accessories</td>\n",
       "      <td>[Video Games, Legacy Systems, Nintendo Systems...</td>\n",
       "      <td>29.99</td>\n",
       "      <td>3</td>\n",
       "      <td>5.0</td>\n",
       "      <td>B003BFW4OG,B001G7PS4Y,B001BP4JY6,B001QCWSII,B0...</td>\n",
       "      <td>[-1, -1, -1, 1447, 1078, 690, 1140, 1124, 4455...</td>\n",
       "    </tr>\n",
       "    <tr>\n",
       "      <th>3798</th>\n",
       "      <td>AFZ5WJ7R2S75BH4XUIYV7AMPUBZQ</td>\n",
       "      <td>B019WRM1IA</td>\n",
       "      <td>0.0</td>\n",
       "      <td>2021-10-19 15:12:46.725</td>\n",
       "      <td>9657</td>\n",
       "      <td>3242</td>\n",
       "      <td>All Electronics</td>\n",
       "      <td>[Video Games, Legacy Systems, Xbox Systems, Xb...</td>\n",
       "      <td>67.83</td>\n",
       "      <td>2</td>\n",
       "      <td>5.0</td>\n",
       "      <td>B08F4C6HCD,B08JHYYTMT,B08JHX17ZZ,B07NVVV9R7,B0...</td>\n",
       "      <td>[-1, -1, -1, 4372, 4387, 4386, 4103, 3440, 438...</td>\n",
       "    </tr>\n",
       "    <tr>\n",
       "      <th>3089</th>\n",
       "      <td>AF3FBQYJGE2RQRMCI5OOOFTPIJ6A</td>\n",
       "      <td>B00111SFEU</td>\n",
       "      <td>0.0</td>\n",
       "      <td>2022-01-24 20:05:10.086</td>\n",
       "      <td>5128</td>\n",
       "      <td>641</td>\n",
       "      <td>Video Games</td>\n",
       "      <td>[Video Games, Value Games Under $20]</td>\n",
       "      <td>None</td>\n",
       "      <td>2</td>\n",
       "      <td>5.0</td>\n",
       "      <td>B00ZM5ON88,B07Z9Z39ZW,B00DTY9B0O,B07DJRFSL1,B0...</td>\n",
       "      <td>[3073, 4299, 2461, 3933, 4140, 2943, 4158, 272...</td>\n",
       "    </tr>\n",
       "    <tr>\n",
       "      <th>1393</th>\n",
       "      <td>AFQPVFAE6XX4B2HICHSV4BOA2DGA</td>\n",
       "      <td>B002JTX7KA</td>\n",
       "      <td>0.0</td>\n",
       "      <td>2022-03-15 16:34:12.635</td>\n",
       "      <td>8332</td>\n",
       "      <td>1352</td>\n",
       "      <td>Video Games</td>\n",
       "      <td>[Video Games, PC, Games]</td>\n",
       "      <td>None</td>\n",
       "      <td>6</td>\n",
       "      <td>5.0</td>\n",
       "      <td>B06XHLM4DX,B01N3ASPNV,B087NNPYP3,B00MB1I3FU,B0...</td>\n",
       "      <td>[3573, 3527, 4342, 2793, 4391, 4078, 3829, 424...</td>\n",
       "    </tr>\n",
       "  </tbody>\n",
       "</table>\n",
       "</div>"
      ],
      "text/plain": [
       "                           user_id parent_asin  rating  \\\n",
       "3759  AE3NRCMFIBBA2XVODR47YYNLKRDA  B001EYUQC8     1.0   \n",
       "2114  AEILFB67AZEGIKLQ7AQ5XPSIAMFQ  B007VM72BA     0.0   \n",
       "1467  AGTPSXXK4B2NSMTIDJCOIXELXOIA  B072199RYC     0.0   \n",
       "1653  AH4LS5HFN2VGSKNKQGNZGENHBVVA  B0BFFJTZNN     0.0   \n",
       "1054  AFWIWPE67QV6CN77CXHRUW6PKVHQ  B00K5HTPR2     0.0   \n",
       "2229  AHYEDK3YUJ272WRGEYYPKMJYYGBQ  B000N5Z2L4     1.0   \n",
       "3470  AERAX4VNX4JDFBK6BOH6NQ57U4BA  B07TC8J6HK     1.0   \n",
       "3798  AFZ5WJ7R2S75BH4XUIYV7AMPUBZQ  B019WRM1IA     0.0   \n",
       "3089  AF3FBQYJGE2RQRMCI5OOOFTPIJ6A  B00111SFEU     0.0   \n",
       "1393  AFQPVFAE6XX4B2HICHSV4BOA2DGA  B002JTX7KA     0.0   \n",
       "\n",
       "                   timestamp  user_indice  item_indice  \\\n",
       "3759 2021-11-13 09:59:46.634          268          908   \n",
       "2114 2022-03-09 22:27:41.699         2218         2083   \n",
       "1467 2021-08-13 13:37:54.242        13677         3674   \n",
       "1653 2021-12-19 22:28:25.889        15027         4544   \n",
       "1054 2022-01-30 23:38:08.357         9258         2697   \n",
       "2229 2022-01-02 19:30:15.954        19324          526   \n",
       "3470 2022-01-26 17:59:37.364         3634         4180   \n",
       "3798 2021-10-19 15:12:46.725         9657         3242   \n",
       "3089 2022-01-24 20:05:10.086         5128          641   \n",
       "1393 2022-03-15 16:34:12.635         8332         1352   \n",
       "\n",
       "                  main_category  \\\n",
       "3759                Video Games   \n",
       "2114                Video Games   \n",
       "1467                Video Games   \n",
       "1653                Video Games   \n",
       "1054                Video Games   \n",
       "2229                Video Games   \n",
       "3470  Cell Phones & Accessories   \n",
       "3798            All Electronics   \n",
       "3089                Video Games   \n",
       "1393                Video Games   \n",
       "\n",
       "                                             categories  price  \\\n",
       "3759  [Video Games, Legacy Systems, PlayStation Syst...  44.49   \n",
       "2114  [Video Games, Legacy Systems, PlayStation Syst...  89.95   \n",
       "1467                [Video Games, PlayStation 4, Games]  61.99   \n",
       "1653     [Video Games, Xbox One, Accessories, Headsets]  135.0   \n",
       "1054                [Video Games, PlayStation 4, Games]  26.64   \n",
       "2229  [Video Games, Xbox Digital Content, Subscripti...   9.99   \n",
       "3470  [Video Games, Legacy Systems, Nintendo Systems...  29.99   \n",
       "3798  [Video Games, Legacy Systems, Xbox Systems, Xb...  67.83   \n",
       "3089               [Video Games, Value Games Under $20]   None   \n",
       "1393                           [Video Games, PC, Games]   None   \n",
       "\n",
       "      user_rating_cnt_90d  user_rating_avg_prev_rating_90d  \\\n",
       "3759                    1                              NaN   \n",
       "2114                    1                              NaN   \n",
       "1467                    5                              4.5   \n",
       "1653                    1                              NaN   \n",
       "1054                    1                              NaN   \n",
       "2229                    2                              4.0   \n",
       "3470                    3                              5.0   \n",
       "3798                    2                              5.0   \n",
       "3089                    2                              5.0   \n",
       "1393                    6                              5.0   \n",
       "\n",
       "                        user_rating_list_10_recent_asin  \\\n",
       "3759  B000OLXX86,B000B9RI14,B0050SWQ86,B00CTKHXFO,B0...   \n",
       "2114  B005B8DRVU,B0015PHMFU,B00TKLFES8,B00MOR1A7Y,B0...   \n",
       "1467  B07T5QKKVP,B08JHX17ZZ,B07MWB5YJW,B094WQR3H3,B0...   \n",
       "1653  B008FHL56S,B0053B66KE,B00CQ9L1Z6,B017C6OK7S,B0...   \n",
       "1054  B0C8MPWZ1H,B07WZ78VRN,B07624RBWB,B07DK1H3H5,B0...   \n",
       "2229  B00DTWEOZ8,B00H727K20,B00JWSJ6G0,B00SN1QEGW,B0...   \n",
       "3470  B003BFW4OG,B001G7PS4Y,B001BP4JY6,B001QCWSII,B0...   \n",
       "3798  B08F4C6HCD,B08JHYYTMT,B08JHX17ZZ,B07NVVV9R7,B0...   \n",
       "3089  B00ZM5ON88,B07Z9Z39ZW,B00DTY9B0O,B07DJRFSL1,B0...   \n",
       "1393  B06XHLM4DX,B01N3ASPNV,B087NNPYP3,B00MB1I3FU,B0...   \n",
       "\n",
       "                                          item_sequence  \n",
       "3759  [-1, -1, -1, 543, 417, 1835, 2407, 3123, 1526,...  \n",
       "2114  [-1, -1, -1, -1, -1, 1899, 666, 2954, 2806, 2804]  \n",
       "1467  [-1, -1, 4176, 4386, 4068, 4453, 4070, 4387, 3...  \n",
       "1653  [2151, 1871, 2404, 3199, 4403, 2682, 1915, 275...  \n",
       "1054  [-1, -1, -1, -1, 4624, 4233, 3788, 3936, 4603,...  \n",
       "2229  [2460, 2592, 2690, 2941, 4004, 4476, 4613, 461...  \n",
       "3470  [-1, -1, -1, 1447, 1078, 690, 1140, 1124, 4455...  \n",
       "3798  [-1, -1, -1, 4372, 4387, 4386, 4103, 3440, 438...  \n",
       "3089  [3073, 4299, 2461, 3933, 4140, 2943, 4158, 272...  \n",
       "1393  [3573, 3527, 4342, 2793, 4391, 4078, 3829, 424...  "
      ]
     },
     "execution_count": 24,
     "metadata": {},
     "output_type": "execute_result"
    }
   ],
   "source": [
    "val_df = val_rating_dataset.df\n",
    "val_df.sample(10)"
   ]
  },
  {
   "cell_type": "code",
   "execution_count": 25,
   "id": "9eb1583b-40f7-4157-a383-5891389ac119",
   "metadata": {
    "scrolled": true
   },
   "outputs": [
    {
     "data": {
      "text/html": [
       "<div>\n",
       "<style scoped>\n",
       "    .dataframe tbody tr th:only-of-type {\n",
       "        vertical-align: middle;\n",
       "    }\n",
       "\n",
       "    .dataframe tbody tr th {\n",
       "        vertical-align: top;\n",
       "    }\n",
       "\n",
       "    .dataframe thead th {\n",
       "        text-align: right;\n",
       "    }\n",
       "</style>\n",
       "<table border=\"1\" class=\"dataframe\">\n",
       "  <thead>\n",
       "    <tr style=\"text-align: right;\">\n",
       "      <th></th>\n",
       "      <th>user_id</th>\n",
       "      <th>parent_asin</th>\n",
       "      <th>rating</th>\n",
       "      <th>timestamp</th>\n",
       "      <th>user_indice</th>\n",
       "      <th>item_indice</th>\n",
       "      <th>main_category</th>\n",
       "      <th>categories</th>\n",
       "      <th>price</th>\n",
       "      <th>user_rating_cnt_90d</th>\n",
       "      <th>user_rating_avg_prev_rating_90d</th>\n",
       "      <th>user_rating_list_10_recent_asin</th>\n",
       "      <th>item_sequence</th>\n",
       "    </tr>\n",
       "  </thead>\n",
       "  <tbody>\n",
       "    <tr>\n",
       "      <th>635</th>\n",
       "      <td>AGDAPPCYV472FOUKDGAHZRW766GA</td>\n",
       "      <td>B00CMQTVK0</td>\n",
       "      <td>0.0</td>\n",
       "      <td>2021-11-12 00:10:40.778</td>\n",
       "      <td>11176</td>\n",
       "      <td>2399</td>\n",
       "      <td>Video Games</td>\n",
       "      <td>[Video Games, Xbox One, Consoles]</td>\n",
       "      <td>589.99</td>\n",
       "      <td>2</td>\n",
       "      <td>1.0</td>\n",
       "      <td>B001EYUW72,B00HM0RJJG,B00GM5UIN6,B087SHFL9B,B00000DMAT,B001EYUOA2,B0086VPV86,B000095ZH5,B00005O0I2,B07NPZZSRC</td>\n",
       "      <td>[996, 2605, 2569, 4344, 7, 844, 2115, 264, 162, 4090]</td>\n",
       "    </tr>\n",
       "    <tr>\n",
       "      <th>636</th>\n",
       "      <td>AGDAPPCYV472FOUKDGAHZRW766GA</td>\n",
       "      <td>B07NPZZSRC</td>\n",
       "      <td>1.0</td>\n",
       "      <td>2021-09-13 02:35:26.496</td>\n",
       "      <td>11176</td>\n",
       "      <td>4090</td>\n",
       "      <td>Video Games</td>\n",
       "      <td>[Video Games, Xbox One, Games]</td>\n",
       "      <td>26.5</td>\n",
       "      <td>1</td>\n",
       "      <td>NaN</td>\n",
       "      <td>B001ELJPSC,B001EYUW72,B00HM0RJJG,B00GM5UIN6,B087SHFL9B,B00000DMAT,B001EYUOA2,B0086VPV86,B000095ZH5,B00005O0I2</td>\n",
       "      <td>[815, 996, 2605, 2569, 4344, 7, 844, 2115, 264, 162]</td>\n",
       "    </tr>\n",
       "    <tr>\n",
       "      <th>942</th>\n",
       "      <td>AGDAPPCYV472FOUKDGAHZRW766GA</td>\n",
       "      <td>B014SIVGAW</td>\n",
       "      <td>0.0</td>\n",
       "      <td>2021-11-12 00:10:40.778</td>\n",
       "      <td>11176</td>\n",
       "      <td>3152</td>\n",
       "      <td>Computers</td>\n",
       "      <td>[Video Games, Legacy Systems, Xbox Systems, Xbox 360, Accessories, Memory]</td>\n",
       "      <td>33.99</td>\n",
       "      <td>2</td>\n",
       "      <td>1.0</td>\n",
       "      <td>B001EYUW72,B00HM0RJJG,B00GM5UIN6,B087SHFL9B,B00000DMAT,B001EYUOA2,B0086VPV86,B000095ZH5,B00005O0I2,B07NPZZSRC</td>\n",
       "      <td>[996, 2605, 2569, 4344, 7, 844, 2115, 264, 162, 4090]</td>\n",
       "    </tr>\n",
       "    <tr>\n",
       "      <th>1181</th>\n",
       "      <td>AGDAPPCYV472FOUKDGAHZRW766GA</td>\n",
       "      <td>B00UH9DN58</td>\n",
       "      <td>0.0</td>\n",
       "      <td>2022-01-26 23:23:50.857</td>\n",
       "      <td>11176</td>\n",
       "      <td>2964</td>\n",
       "      <td>Video Games</td>\n",
       "      <td>[Video Games, Legacy Systems, Nintendo Systems, Nintendo 3DS &amp; 2DS, Games]</td>\n",
       "      <td>70.74</td>\n",
       "      <td>2</td>\n",
       "      <td>5.0</td>\n",
       "      <td>B00HM0RJJG,B00GM5UIN6,B087SHFL9B,B00000DMAT,B001EYUOA2,B0086VPV86,B000095ZH5,B00005O0I2,B07NPZZSRC,B00004TN9O</td>\n",
       "      <td>[2605, 2569, 4344, 7, 844, 2115, 264, 162, 4090, 102]</td>\n",
       "    </tr>\n",
       "    <tr>\n",
       "      <th>1205</th>\n",
       "      <td>AGDAPPCYV472FOUKDGAHZRW766GA</td>\n",
       "      <td>B00005AV8W</td>\n",
       "      <td>0.0</td>\n",
       "      <td>2022-01-26 23:23:50.857</td>\n",
       "      <td>11176</td>\n",
       "      <td>130</td>\n",
       "      <td>Video Games</td>\n",
       "      <td>[Video Games, Legacy Systems, Nintendo Systems, Nintendo NES, Games]</td>\n",
       "      <td>39.87</td>\n",
       "      <td>2</td>\n",
       "      <td>5.0</td>\n",
       "      <td>B00HM0RJJG,B00GM5UIN6,B087SHFL9B,B00000DMAT,B001EYUOA2,B0086VPV86,B000095ZH5,B00005O0I2,B07NPZZSRC,B00004TN9O</td>\n",
       "      <td>[2605, 2569, 4344, 7, 844, 2115, 264, 162, 4090, 102]</td>\n",
       "    </tr>\n",
       "    <tr>\n",
       "      <th>1259</th>\n",
       "      <td>AGDAPPCYV472FOUKDGAHZRW766GA</td>\n",
       "      <td>B002D2Y3IS</td>\n",
       "      <td>0.0</td>\n",
       "      <td>2022-04-07 05:49:55.659</td>\n",
       "      <td>11176</td>\n",
       "      <td>1240</td>\n",
       "      <td>Video Games</td>\n",
       "      <td>[Video Games, Legacy Systems, Nintendo Systems, Wii, Accessories, Controllers]</td>\n",
       "      <td>24.74</td>\n",
       "      <td>2</td>\n",
       "      <td>1.0</td>\n",
       "      <td>B00GM5UIN6,B087SHFL9B,B00000DMAT,B001EYUOA2,B0086VPV86,B000095ZH5,B00005O0I2,B07NPZZSRC,B00004TN9O,B004UPBXDO</td>\n",
       "      <td>[2569, 4344, 7, 844, 2115, 264, 162, 4090, 102, 1778]</td>\n",
       "    </tr>\n",
       "    <tr>\n",
       "      <th>1545</th>\n",
       "      <td>AGDAPPCYV472FOUKDGAHZRW766GA</td>\n",
       "      <td>B01GWHR1TC</td>\n",
       "      <td>0.0</td>\n",
       "      <td>2022-01-26 23:23:50.857</td>\n",
       "      <td>11176</td>\n",
       "      <td>3369</td>\n",
       "      <td>Video Games</td>\n",
       "      <td>[Video Games, PlayStation 4, Games]</td>\n",
       "      <td>18.0</td>\n",
       "      <td>2</td>\n",
       "      <td>5.0</td>\n",
       "      <td>B00HM0RJJG,B00GM5UIN6,B087SHFL9B,B00000DMAT,B001EYUOA2,B0086VPV86,B000095ZH5,B00005O0I2,B07NPZZSRC,B00004TN9O</td>\n",
       "      <td>[2605, 2569, 4344, 7, 844, 2115, 264, 162, 4090, 102]</td>\n",
       "    </tr>\n",
       "    <tr>\n",
       "      <th>1658</th>\n",
       "      <td>AGDAPPCYV472FOUKDGAHZRW766GA</td>\n",
       "      <td>B00GOOSV98</td>\n",
       "      <td>0.0</td>\n",
       "      <td>2021-09-13 02:35:26.496</td>\n",
       "      <td>11176</td>\n",
       "      <td>2580</td>\n",
       "      <td>Video Games</td>\n",
       "      <td>[Video Games, PlayStation 4, Accessories]</td>\n",
       "      <td>None</td>\n",
       "      <td>1</td>\n",
       "      <td>NaN</td>\n",
       "      <td>B001ELJPSC,B001EYUW72,B00HM0RJJG,B00GM5UIN6,B087SHFL9B,B00000DMAT,B001EYUOA2,B0086VPV86,B000095ZH5,B00005O0I2</td>\n",
       "      <td>[815, 996, 2605, 2569, 4344, 7, 844, 2115, 264, 162]</td>\n",
       "    </tr>\n",
       "    <tr>\n",
       "      <th>1874</th>\n",
       "      <td>AGDAPPCYV472FOUKDGAHZRW766GA</td>\n",
       "      <td>B004UPBXDO</td>\n",
       "      <td>1.0</td>\n",
       "      <td>2022-01-26 23:23:50.857</td>\n",
       "      <td>11176</td>\n",
       "      <td>1778</td>\n",
       "      <td>Video Games</td>\n",
       "      <td>[Video Games, Legacy Systems, PlayStation Systems, PlayStation 3, Games]</td>\n",
       "      <td>34.29</td>\n",
       "      <td>2</td>\n",
       "      <td>5.0</td>\n",
       "      <td>B00HM0RJJG,B00GM5UIN6,B087SHFL9B,B00000DMAT,B001EYUOA2,B0086VPV86,B000095ZH5,B00005O0I2,B07NPZZSRC,B00004TN9O</td>\n",
       "      <td>[2605, 2569, 4344, 7, 844, 2115, 264, 162, 4090, 102]</td>\n",
       "    </tr>\n",
       "    <tr>\n",
       "      <th>2017</th>\n",
       "      <td>AGDAPPCYV472FOUKDGAHZRW766GA</td>\n",
       "      <td>B00KCCNMYW</td>\n",
       "      <td>0.0</td>\n",
       "      <td>2021-11-12 00:10:40.778</td>\n",
       "      <td>11176</td>\n",
       "      <td>2702</td>\n",
       "      <td>Video Games</td>\n",
       "      <td>[Video Games, PlayStation 4, Games]</td>\n",
       "      <td>14.99</td>\n",
       "      <td>2</td>\n",
       "      <td>1.0</td>\n",
       "      <td>B001EYUW72,B00HM0RJJG,B00GM5UIN6,B087SHFL9B,B00000DMAT,B001EYUOA2,B0086VPV86,B000095ZH5,B00005O0I2,B07NPZZSRC</td>\n",
       "      <td>[996, 2605, 2569, 4344, 7, 844, 2115, 264, 162, 4090]</td>\n",
       "    </tr>\n",
       "    <tr>\n",
       "      <th>2857</th>\n",
       "      <td>AGDAPPCYV472FOUKDGAHZRW766GA</td>\n",
       "      <td>B0034ZOAO0</td>\n",
       "      <td>0.0</td>\n",
       "      <td>2021-09-13 02:35:26.496</td>\n",
       "      <td>11176</td>\n",
       "      <td>1423</td>\n",
       "      <td>Video Games</td>\n",
       "      <td>[Video Games, PC, Accessories]</td>\n",
       "      <td>12.11</td>\n",
       "      <td>1</td>\n",
       "      <td>NaN</td>\n",
       "      <td>B001ELJPSC,B001EYUW72,B00HM0RJJG,B00GM5UIN6,B087SHFL9B,B00000DMAT,B001EYUOA2,B0086VPV86,B000095ZH5,B00005O0I2</td>\n",
       "      <td>[815, 996, 2605, 2569, 4344, 7, 844, 2115, 264, 162]</td>\n",
       "    </tr>\n",
       "    <tr>\n",
       "      <th>3467</th>\n",
       "      <td>AGDAPPCYV472FOUKDGAHZRW766GA</td>\n",
       "      <td>B002XVUT3M</td>\n",
       "      <td>0.0</td>\n",
       "      <td>2022-04-07 05:49:55.659</td>\n",
       "      <td>11176</td>\n",
       "      <td>1402</td>\n",
       "      <td>Video Games</td>\n",
       "      <td>[Video Games, Legacy Systems, Nintendo Systems, Wii, Accessories, Controllers, Remotes]</td>\n",
       "      <td>24.99</td>\n",
       "      <td>2</td>\n",
       "      <td>1.0</td>\n",
       "      <td>B00GM5UIN6,B087SHFL9B,B00000DMAT,B001EYUOA2,B0086VPV86,B000095ZH5,B00005O0I2,B07NPZZSRC,B00004TN9O,B004UPBXDO</td>\n",
       "      <td>[2569, 4344, 7, 844, 2115, 264, 162, 4090, 102, 1778]</td>\n",
       "    </tr>\n",
       "    <tr>\n",
       "      <th>3577</th>\n",
       "      <td>AGDAPPCYV472FOUKDGAHZRW766GA</td>\n",
       "      <td>B07WS6ZFTG</td>\n",
       "      <td>0.0</td>\n",
       "      <td>2022-04-07 05:49:55.659</td>\n",
       "      <td>11176</td>\n",
       "      <td>4219</td>\n",
       "      <td>Video Games</td>\n",
       "      <td>[Video Games, Xbox One, Consoles]</td>\n",
       "      <td>299.99</td>\n",
       "      <td>2</td>\n",
       "      <td>1.0</td>\n",
       "      <td>B00GM5UIN6,B087SHFL9B,B00000DMAT,B001EYUOA2,B0086VPV86,B000095ZH5,B00005O0I2,B07NPZZSRC,B00004TN9O,B004UPBXDO</td>\n",
       "      <td>[2569, 4344, 7, 844, 2115, 264, 162, 4090, 102, 1778]</td>\n",
       "    </tr>\n",
       "    <tr>\n",
       "      <th>3734</th>\n",
       "      <td>AGDAPPCYV472FOUKDGAHZRW766GA</td>\n",
       "      <td>B001KMRN0M</td>\n",
       "      <td>0.0</td>\n",
       "      <td>2021-09-13 02:35:26.496</td>\n",
       "      <td>11176</td>\n",
       "      <td>1105</td>\n",
       "      <td>Video Games</td>\n",
       "      <td>[Video Games, Legacy Systems, PlayStation Systems, Sony PSP, Consoles]</td>\n",
       "      <td>248.95</td>\n",
       "      <td>1</td>\n",
       "      <td>NaN</td>\n",
       "      <td>B001ELJPSC,B001EYUW72,B00HM0RJJG,B00GM5UIN6,B087SHFL9B,B00000DMAT,B001EYUOA2,B0086VPV86,B000095ZH5,B00005O0I2</td>\n",
       "      <td>[815, 996, 2605, 2569, 4344, 7, 844, 2115, 264, 162]</td>\n",
       "    </tr>\n",
       "    <tr>\n",
       "      <th>3735</th>\n",
       "      <td>AGDAPPCYV472FOUKDGAHZRW766GA</td>\n",
       "      <td>B000B69E9G</td>\n",
       "      <td>1.0</td>\n",
       "      <td>2022-04-07 05:49:55.659</td>\n",
       "      <td>11176</td>\n",
       "      <td>404</td>\n",
       "      <td>Video Games</td>\n",
       "      <td>[Video Games, Legacy Systems, PlayStation Systems, PlayStation 2, Games]</td>\n",
       "      <td>None</td>\n",
       "      <td>2</td>\n",
       "      <td>1.0</td>\n",
       "      <td>B00GM5UIN6,B087SHFL9B,B00000DMAT,B001EYUOA2,B0086VPV86,B000095ZH5,B00005O0I2,B07NPZZSRC,B00004TN9O,B004UPBXDO</td>\n",
       "      <td>[2569, 4344, 7, 844, 2115, 264, 162, 4090, 102, 1778]</td>\n",
       "    </tr>\n",
       "    <tr>\n",
       "      <th>3810</th>\n",
       "      <td>AGDAPPCYV472FOUKDGAHZRW766GA</td>\n",
       "      <td>B00004TN9O</td>\n",
       "      <td>1.0</td>\n",
       "      <td>2021-11-12 00:10:40.778</td>\n",
       "      <td>11176</td>\n",
       "      <td>102</td>\n",
       "      <td>Video Games</td>\n",
       "      <td>[Video Games, Legacy Systems, PlayStation Systems, PlayStation 2, Consoles]</td>\n",
       "      <td>199.99</td>\n",
       "      <td>2</td>\n",
       "      <td>1.0</td>\n",
       "      <td>B001EYUW72,B00HM0RJJG,B00GM5UIN6,B087SHFL9B,B00000DMAT,B001EYUOA2,B0086VPV86,B000095ZH5,B00005O0I2,B07NPZZSRC</td>\n",
       "      <td>[996, 2605, 2569, 4344, 7, 844, 2115, 264, 162, 4090]</td>\n",
       "    </tr>\n",
       "  </tbody>\n",
       "</table>\n",
       "</div>"
      ],
      "text/plain": [
       "                           user_id parent_asin  rating  \\\n",
       "635   AGDAPPCYV472FOUKDGAHZRW766GA  B00CMQTVK0     0.0   \n",
       "636   AGDAPPCYV472FOUKDGAHZRW766GA  B07NPZZSRC     1.0   \n",
       "942   AGDAPPCYV472FOUKDGAHZRW766GA  B014SIVGAW     0.0   \n",
       "1181  AGDAPPCYV472FOUKDGAHZRW766GA  B00UH9DN58     0.0   \n",
       "1205  AGDAPPCYV472FOUKDGAHZRW766GA  B00005AV8W     0.0   \n",
       "1259  AGDAPPCYV472FOUKDGAHZRW766GA  B002D2Y3IS     0.0   \n",
       "1545  AGDAPPCYV472FOUKDGAHZRW766GA  B01GWHR1TC     0.0   \n",
       "1658  AGDAPPCYV472FOUKDGAHZRW766GA  B00GOOSV98     0.0   \n",
       "1874  AGDAPPCYV472FOUKDGAHZRW766GA  B004UPBXDO     1.0   \n",
       "2017  AGDAPPCYV472FOUKDGAHZRW766GA  B00KCCNMYW     0.0   \n",
       "2857  AGDAPPCYV472FOUKDGAHZRW766GA  B0034ZOAO0     0.0   \n",
       "3467  AGDAPPCYV472FOUKDGAHZRW766GA  B002XVUT3M     0.0   \n",
       "3577  AGDAPPCYV472FOUKDGAHZRW766GA  B07WS6ZFTG     0.0   \n",
       "3734  AGDAPPCYV472FOUKDGAHZRW766GA  B001KMRN0M     0.0   \n",
       "3735  AGDAPPCYV472FOUKDGAHZRW766GA  B000B69E9G     1.0   \n",
       "3810  AGDAPPCYV472FOUKDGAHZRW766GA  B00004TN9O     1.0   \n",
       "\n",
       "                   timestamp  user_indice  item_indice main_category  \\\n",
       "635  2021-11-12 00:10:40.778        11176         2399   Video Games   \n",
       "636  2021-09-13 02:35:26.496        11176         4090   Video Games   \n",
       "942  2021-11-12 00:10:40.778        11176         3152     Computers   \n",
       "1181 2022-01-26 23:23:50.857        11176         2964   Video Games   \n",
       "1205 2022-01-26 23:23:50.857        11176          130   Video Games   \n",
       "1259 2022-04-07 05:49:55.659        11176         1240   Video Games   \n",
       "1545 2022-01-26 23:23:50.857        11176         3369   Video Games   \n",
       "1658 2021-09-13 02:35:26.496        11176         2580   Video Games   \n",
       "1874 2022-01-26 23:23:50.857        11176         1778   Video Games   \n",
       "2017 2021-11-12 00:10:40.778        11176         2702   Video Games   \n",
       "2857 2021-09-13 02:35:26.496        11176         1423   Video Games   \n",
       "3467 2022-04-07 05:49:55.659        11176         1402   Video Games   \n",
       "3577 2022-04-07 05:49:55.659        11176         4219   Video Games   \n",
       "3734 2021-09-13 02:35:26.496        11176         1105   Video Games   \n",
       "3735 2022-04-07 05:49:55.659        11176          404   Video Games   \n",
       "3810 2021-11-12 00:10:40.778        11176          102   Video Games   \n",
       "\n",
       "                                                                                   categories  \\\n",
       "635                                                         [Video Games, Xbox One, Consoles]   \n",
       "636                                                            [Video Games, Xbox One, Games]   \n",
       "942                [Video Games, Legacy Systems, Xbox Systems, Xbox 360, Accessories, Memory]   \n",
       "1181               [Video Games, Legacy Systems, Nintendo Systems, Nintendo 3DS & 2DS, Games]   \n",
       "1205                     [Video Games, Legacy Systems, Nintendo Systems, Nintendo NES, Games]   \n",
       "1259           [Video Games, Legacy Systems, Nintendo Systems, Wii, Accessories, Controllers]   \n",
       "1545                                                      [Video Games, PlayStation 4, Games]   \n",
       "1658                                                [Video Games, PlayStation 4, Accessories]   \n",
       "1874                 [Video Games, Legacy Systems, PlayStation Systems, PlayStation 3, Games]   \n",
       "2017                                                      [Video Games, PlayStation 4, Games]   \n",
       "2857                                                           [Video Games, PC, Accessories]   \n",
       "3467  [Video Games, Legacy Systems, Nintendo Systems, Wii, Accessories, Controllers, Remotes]   \n",
       "3577                                                        [Video Games, Xbox One, Consoles]   \n",
       "3734                   [Video Games, Legacy Systems, PlayStation Systems, Sony PSP, Consoles]   \n",
       "3735                 [Video Games, Legacy Systems, PlayStation Systems, PlayStation 2, Games]   \n",
       "3810              [Video Games, Legacy Systems, PlayStation Systems, PlayStation 2, Consoles]   \n",
       "\n",
       "       price  user_rating_cnt_90d  user_rating_avg_prev_rating_90d  \\\n",
       "635   589.99                    2                              1.0   \n",
       "636     26.5                    1                              NaN   \n",
       "942    33.99                    2                              1.0   \n",
       "1181   70.74                    2                              5.0   \n",
       "1205   39.87                    2                              5.0   \n",
       "1259   24.74                    2                              1.0   \n",
       "1545    18.0                    2                              5.0   \n",
       "1658    None                    1                              NaN   \n",
       "1874   34.29                    2                              5.0   \n",
       "2017   14.99                    2                              1.0   \n",
       "2857   12.11                    1                              NaN   \n",
       "3467   24.99                    2                              1.0   \n",
       "3577  299.99                    2                              1.0   \n",
       "3734  248.95                    1                              NaN   \n",
       "3735    None                    2                              1.0   \n",
       "3810  199.99                    2                              1.0   \n",
       "\n",
       "                                                                                    user_rating_list_10_recent_asin  \\\n",
       "635   B001EYUW72,B00HM0RJJG,B00GM5UIN6,B087SHFL9B,B00000DMAT,B001EYUOA2,B0086VPV86,B000095ZH5,B00005O0I2,B07NPZZSRC   \n",
       "636   B001ELJPSC,B001EYUW72,B00HM0RJJG,B00GM5UIN6,B087SHFL9B,B00000DMAT,B001EYUOA2,B0086VPV86,B000095ZH5,B00005O0I2   \n",
       "942   B001EYUW72,B00HM0RJJG,B00GM5UIN6,B087SHFL9B,B00000DMAT,B001EYUOA2,B0086VPV86,B000095ZH5,B00005O0I2,B07NPZZSRC   \n",
       "1181  B00HM0RJJG,B00GM5UIN6,B087SHFL9B,B00000DMAT,B001EYUOA2,B0086VPV86,B000095ZH5,B00005O0I2,B07NPZZSRC,B00004TN9O   \n",
       "1205  B00HM0RJJG,B00GM5UIN6,B087SHFL9B,B00000DMAT,B001EYUOA2,B0086VPV86,B000095ZH5,B00005O0I2,B07NPZZSRC,B00004TN9O   \n",
       "1259  B00GM5UIN6,B087SHFL9B,B00000DMAT,B001EYUOA2,B0086VPV86,B000095ZH5,B00005O0I2,B07NPZZSRC,B00004TN9O,B004UPBXDO   \n",
       "1545  B00HM0RJJG,B00GM5UIN6,B087SHFL9B,B00000DMAT,B001EYUOA2,B0086VPV86,B000095ZH5,B00005O0I2,B07NPZZSRC,B00004TN9O   \n",
       "1658  B001ELJPSC,B001EYUW72,B00HM0RJJG,B00GM5UIN6,B087SHFL9B,B00000DMAT,B001EYUOA2,B0086VPV86,B000095ZH5,B00005O0I2   \n",
       "1874  B00HM0RJJG,B00GM5UIN6,B087SHFL9B,B00000DMAT,B001EYUOA2,B0086VPV86,B000095ZH5,B00005O0I2,B07NPZZSRC,B00004TN9O   \n",
       "2017  B001EYUW72,B00HM0RJJG,B00GM5UIN6,B087SHFL9B,B00000DMAT,B001EYUOA2,B0086VPV86,B000095ZH5,B00005O0I2,B07NPZZSRC   \n",
       "2857  B001ELJPSC,B001EYUW72,B00HM0RJJG,B00GM5UIN6,B087SHFL9B,B00000DMAT,B001EYUOA2,B0086VPV86,B000095ZH5,B00005O0I2   \n",
       "3467  B00GM5UIN6,B087SHFL9B,B00000DMAT,B001EYUOA2,B0086VPV86,B000095ZH5,B00005O0I2,B07NPZZSRC,B00004TN9O,B004UPBXDO   \n",
       "3577  B00GM5UIN6,B087SHFL9B,B00000DMAT,B001EYUOA2,B0086VPV86,B000095ZH5,B00005O0I2,B07NPZZSRC,B00004TN9O,B004UPBXDO   \n",
       "3734  B001ELJPSC,B001EYUW72,B00HM0RJJG,B00GM5UIN6,B087SHFL9B,B00000DMAT,B001EYUOA2,B0086VPV86,B000095ZH5,B00005O0I2   \n",
       "3735  B00GM5UIN6,B087SHFL9B,B00000DMAT,B001EYUOA2,B0086VPV86,B000095ZH5,B00005O0I2,B07NPZZSRC,B00004TN9O,B004UPBXDO   \n",
       "3810  B001EYUW72,B00HM0RJJG,B00GM5UIN6,B087SHFL9B,B00000DMAT,B001EYUOA2,B0086VPV86,B000095ZH5,B00005O0I2,B07NPZZSRC   \n",
       "\n",
       "                                              item_sequence  \n",
       "635   [996, 2605, 2569, 4344, 7, 844, 2115, 264, 162, 4090]  \n",
       "636    [815, 996, 2605, 2569, 4344, 7, 844, 2115, 264, 162]  \n",
       "942   [996, 2605, 2569, 4344, 7, 844, 2115, 264, 162, 4090]  \n",
       "1181  [2605, 2569, 4344, 7, 844, 2115, 264, 162, 4090, 102]  \n",
       "1205  [2605, 2569, 4344, 7, 844, 2115, 264, 162, 4090, 102]  \n",
       "1259  [2569, 4344, 7, 844, 2115, 264, 162, 4090, 102, 1778]  \n",
       "1545  [2605, 2569, 4344, 7, 844, 2115, 264, 162, 4090, 102]  \n",
       "1658   [815, 996, 2605, 2569, 4344, 7, 844, 2115, 264, 162]  \n",
       "1874  [2605, 2569, 4344, 7, 844, 2115, 264, 162, 4090, 102]  \n",
       "2017  [996, 2605, 2569, 4344, 7, 844, 2115, 264, 162, 4090]  \n",
       "2857   [815, 996, 2605, 2569, 4344, 7, 844, 2115, 264, 162]  \n",
       "3467  [2569, 4344, 7, 844, 2115, 264, 162, 4090, 102, 1778]  \n",
       "3577  [2569, 4344, 7, 844, 2115, 264, 162, 4090, 102, 1778]  \n",
       "3734   [815, 996, 2605, 2569, 4344, 7, 844, 2115, 264, 162]  \n",
       "3735  [2569, 4344, 7, 844, 2115, 264, 162, 4090, 102, 1778]  \n",
       "3810  [996, 2605, 2569, 4344, 7, 844, 2115, 264, 162, 4090]  "
      ]
     },
     "metadata": {},
     "output_type": "display_data"
    }
   ],
   "source": [
    "user_id = val_df.sample(1)[args.user_col].values[0]\n",
    "# user_id = \"AH4AOFTTDPHPAFAAVFMAF25H2LIQ\"\n",
    "test_df = val_df.loc[lambda df: df[args.user_col].eq(user_id)]\n",
    "with pd.option_context(\"display.max_colwidth\", None):\n",
    "    display(test_df)"
   ]
  },
  {
   "cell_type": "code",
   "execution_count": 26,
   "id": "c48fbc80-eda8-4dff-a246-95f8f2f75082",
   "metadata": {
    "scrolled": true
   },
   "outputs": [
    {
     "name": "stderr",
     "output_type": "stream",
     "text": [
      "\u001b[32m2024-10-27 15:11:44.832\u001b[0m | \u001b[1mINFO    \u001b[0m | \u001b[36m__main__\u001b[0m:\u001b[36m<module>\u001b[0m:\u001b[36m6\u001b[0m - \u001b[1mTest predicting before training with user_id = AGDAPPCYV472FOUKDGAHZRW766GA and parent_asin = B07NPZZSRC\u001b[0m\n",
      "/var/folders/mq/xtxzhvlj4m97tb8lgwxcnsb40000gn/T/ipykernel_78321/2733117192.py:12: UserWarning:\n",
      "\n",
      "Creating a tensor from a list of numpy.ndarrays is extremely slow. Please consider converting the list to a single numpy.ndarray with numpy.array() before converting to a tensor. (Triggered internally at /Users/runner/work/pytorch/pytorch/pytorch/torch/csrc/utils/tensor_new.cpp:281.)\n",
      "\n"
     ]
    },
    {
     "data": {
      "text/plain": [
       "tensor([[0.4913]], grad_fn=<SigmoidBackward0>)"
      ]
     },
     "execution_count": 26,
     "metadata": {},
     "output_type": "execute_result"
    }
   ],
   "source": [
    "test_row = test_df.loc[lambda df: df[args.rating_col].gt(0)].iloc[0]\n",
    "item_id = test_row[args.item_col]\n",
    "item_sequence = test_row[\"item_sequence\"]\n",
    "row_idx = test_row.name\n",
    "item_feature = val_item_features[row_idx]\n",
    "logger.info(\n",
    "    f\"Test predicting before training with {args.user_col} = {user_id} and {args.item_col} = {item_id}\"\n",
    ")\n",
    "user_indice = idm.get_user_index(user_id)\n",
    "item_indice = idm.get_item_index(item_id)\n",
    "user = torch.tensor([user_indice])\n",
    "item_sequence = torch.tensor([item_sequence])\n",
    "item_feature = torch.tensor([item_feature])\n",
    "item = torch.tensor([item_indice])\n",
    "\n",
    "model.eval()\n",
    "model.predict(user, item_sequence, item_feature, item)"
   ]
  },
  {
   "cell_type": "markdown",
   "id": "c2fd217c-c0c8-4e7c-81fe-6eb36f4729b5",
   "metadata": {},
   "source": [
    "#### Training loop"
   ]
  },
  {
   "cell_type": "markdown",
   "id": "1e9daad4-1365-4e8e-8f73-80ca5513572b",
   "metadata": {},
   "source": [
    "##### Overfit 1 batch"
   ]
  },
  {
   "cell_type": "code",
   "execution_count": 27,
   "id": "1a1cd9bd-e2c6-404b-b6ae-b26a7d35a0ba",
   "metadata": {
    "scrolled": true
   },
   "outputs": [
    {
     "name": "stderr",
     "output_type": "stream",
     "text": [
      "GPU available: True (mps), used: True\n",
      "TPU available: False, using: 0 TPU cores\n",
      "HPU available: False, using: 0 HPUs\n",
      "`Trainer(overfit_batches=1)` was configured so 1 batch will be used.\n",
      "\n",
      "  | Name  | Type   | Params | Mode \n",
      "-----------------------------------------\n",
      "0 | model | Ranker | 3.4 M  | train\n",
      "-----------------------------------------\n",
      "3.4 M     Trainable params\n",
      "0         Non-trainable params\n",
      "3.4 M     Total params\n",
      "13.594    Total estimated model params size (MB)\n",
      "14        Modules in train mode\n",
      "0         Modules in eval mode\n"
     ]
    },
    {
     "data": {
      "application/vnd.jupyter.widget-view+json": {
       "model_id": "",
       "version_major": 2,
       "version_minor": 0
      },
      "text/plain": [
       "Sanity Checking: |                                                                                            …"
      ]
     },
     "metadata": {},
     "output_type": "display_data"
    },
    {
     "name": "stderr",
     "output_type": "stream",
     "text": [
      "/Users/dvq/frostmourne/recsys-mvp/.venv/lib/python3.11/site-packages/lightning/pytorch/trainer/connectors/data_connector.py:251: UserWarning:\n",
      "\n",
      "You requested to overfit but enabled val dataloader shuffling. We are turning off the val dataloader shuffling for you.\n",
      "\n",
      "/Users/dvq/frostmourne/recsys-mvp/.venv/lib/python3.11/site-packages/lightning/pytorch/trainer/connectors/data_connector.py:424: PossibleUserWarning:\n",
      "\n",
      "The 'val_dataloader' does not have many workers which may be a bottleneck. Consider increasing the value of the `num_workers` argument` to `num_workers=10` in the `DataLoader` to improve performance.\n",
      "\n",
      "/Users/dvq/frostmourne/recsys-mvp/.venv/lib/python3.11/site-packages/lightning/pytorch/trainer/connectors/data_connector.py:251: UserWarning:\n",
      "\n",
      "You requested to overfit but enabled train dataloader shuffling. We are turning off the train dataloader shuffling for you.\n",
      "\n",
      "/Users/dvq/frostmourne/recsys-mvp/.venv/lib/python3.11/site-packages/lightning/pytorch/trainer/connectors/data_connector.py:424: PossibleUserWarning:\n",
      "\n",
      "The 'train_dataloader' does not have many workers which may be a bottleneck. Consider increasing the value of the `num_workers` argument` to `num_workers=10` in the `DataLoader` to improve performance.\n",
      "\n",
      "/Users/dvq/frostmourne/recsys-mvp/.venv/lib/python3.11/site-packages/lightning/pytorch/loops/fit_loop.py:298: PossibleUserWarning:\n",
      "\n",
      "The number of training batches (1) is smaller than the logging interval Trainer(log_every_n_steps=50). Set a lower value for log_every_n_steps if you want to see logs for the training epoch.\n",
      "\n"
     ]
    },
    {
     "data": {
      "application/vnd.jupyter.widget-view+json": {
       "model_id": "b97992baa57a41cd95ed1c98200436d7",
       "version_major": 2,
       "version_minor": 0
      },
      "text/plain": [
       "Training: |                                                                                                   …"
      ]
     },
     "metadata": {},
     "output_type": "display_data"
    },
    {
     "data": {
      "application/vnd.jupyter.widget-view+json": {
       "model_id": "",
       "version_major": 2,
       "version_minor": 0
      },
      "text/plain": [
       "Validation: |                                                                                                 …"
      ]
     },
     "metadata": {},
     "output_type": "display_data"
    },
    {
     "data": {
      "application/vnd.jupyter.widget-view+json": {
       "model_id": "",
       "version_major": 2,
       "version_minor": 0
      },
      "text/plain": [
       "Validation: |                                                                                                 …"
      ]
     },
     "metadata": {},
     "output_type": "display_data"
    },
    {
     "data": {
      "application/vnd.jupyter.widget-view+json": {
       "model_id": "",
       "version_major": 2,
       "version_minor": 0
      },
      "text/plain": [
       "Validation: |                                                                                                 …"
      ]
     },
     "metadata": {},
     "output_type": "display_data"
    },
    {
     "data": {
      "application/vnd.jupyter.widget-view+json": {
       "model_id": "",
       "version_major": 2,
       "version_minor": 0
      },
      "text/plain": [
       "Validation: |                                                                                                 …"
      ]
     },
     "metadata": {},
     "output_type": "display_data"
    },
    {
     "data": {
      "application/vnd.jupyter.widget-view+json": {
       "model_id": "",
       "version_major": 2,
       "version_minor": 0
      },
      "text/plain": [
       "Validation: |                                                                                                 …"
      ]
     },
     "metadata": {},
     "output_type": "display_data"
    },
    {
     "data": {
      "application/vnd.jupyter.widget-view+json": {
       "model_id": "",
       "version_major": 2,
       "version_minor": 0
      },
      "text/plain": [
       "Validation: |                                                                                                 …"
      ]
     },
     "metadata": {},
     "output_type": "display_data"
    },
    {
     "data": {
      "application/vnd.jupyter.widget-view+json": {
       "model_id": "",
       "version_major": 2,
       "version_minor": 0
      },
      "text/plain": [
       "Validation: |                                                                                                 …"
      ]
     },
     "metadata": {},
     "output_type": "display_data"
    },
    {
     "data": {
      "application/vnd.jupyter.widget-view+json": {
       "model_id": "",
       "version_major": 2,
       "version_minor": 0
      },
      "text/plain": [
       "Validation: |                                                                                                 …"
      ]
     },
     "metadata": {},
     "output_type": "display_data"
    },
    {
     "data": {
      "application/vnd.jupyter.widget-view+json": {
       "model_id": "",
       "version_major": 2,
       "version_minor": 0
      },
      "text/plain": [
       "Validation: |                                                                                                 …"
      ]
     },
     "metadata": {},
     "output_type": "display_data"
    },
    {
     "data": {
      "application/vnd.jupyter.widget-view+json": {
       "model_id": "",
       "version_major": 2,
       "version_minor": 0
      },
      "text/plain": [
       "Validation: |                                                                                                 …"
      ]
     },
     "metadata": {},
     "output_type": "display_data"
    },
    {
     "data": {
      "application/vnd.jupyter.widget-view+json": {
       "model_id": "",
       "version_major": 2,
       "version_minor": 0
      },
      "text/plain": [
       "Validation: |                                                                                                 …"
      ]
     },
     "metadata": {},
     "output_type": "display_data"
    },
    {
     "data": {
      "application/vnd.jupyter.widget-view+json": {
       "model_id": "",
       "version_major": 2,
       "version_minor": 0
      },
      "text/plain": [
       "Validation: |                                                                                                 …"
      ]
     },
     "metadata": {},
     "output_type": "display_data"
    },
    {
     "data": {
      "application/vnd.jupyter.widget-view+json": {
       "model_id": "",
       "version_major": 2,
       "version_minor": 0
      },
      "text/plain": [
       "Validation: |                                                                                                 …"
      ]
     },
     "metadata": {},
     "output_type": "display_data"
    },
    {
     "data": {
      "application/vnd.jupyter.widget-view+json": {
       "model_id": "",
       "version_major": 2,
       "version_minor": 0
      },
      "text/plain": [
       "Validation: |                                                                                                 …"
      ]
     },
     "metadata": {},
     "output_type": "display_data"
    },
    {
     "data": {
      "application/vnd.jupyter.widget-view+json": {
       "model_id": "",
       "version_major": 2,
       "version_minor": 0
      },
      "text/plain": [
       "Validation: |                                                                                                 …"
      ]
     },
     "metadata": {},
     "output_type": "display_data"
    },
    {
     "data": {
      "application/vnd.jupyter.widget-view+json": {
       "model_id": "",
       "version_major": 2,
       "version_minor": 0
      },
      "text/plain": [
       "Validation: |                                                                                                 …"
      ]
     },
     "metadata": {},
     "output_type": "display_data"
    },
    {
     "data": {
      "application/vnd.jupyter.widget-view+json": {
       "model_id": "",
       "version_major": 2,
       "version_minor": 0
      },
      "text/plain": [
       "Validation: |                                                                                                 …"
      ]
     },
     "metadata": {},
     "output_type": "display_data"
    },
    {
     "data": {
      "application/vnd.jupyter.widget-view+json": {
       "model_id": "",
       "version_major": 2,
       "version_minor": 0
      },
      "text/plain": [
       "Validation: |                                                                                                 …"
      ]
     },
     "metadata": {},
     "output_type": "display_data"
    },
    {
     "data": {
      "application/vnd.jupyter.widget-view+json": {
       "model_id": "",
       "version_major": 2,
       "version_minor": 0
      },
      "text/plain": [
       "Validation: |                                                                                                 …"
      ]
     },
     "metadata": {},
     "output_type": "display_data"
    },
    {
     "data": {
      "application/vnd.jupyter.widget-view+json": {
       "model_id": "",
       "version_major": 2,
       "version_minor": 0
      },
      "text/plain": [
       "Validation: |                                                                                                 …"
      ]
     },
     "metadata": {},
     "output_type": "display_data"
    },
    {
     "data": {
      "application/vnd.jupyter.widget-view+json": {
       "model_id": "",
       "version_major": 2,
       "version_minor": 0
      },
      "text/plain": [
       "Validation: |                                                                                                 …"
      ]
     },
     "metadata": {},
     "output_type": "display_data"
    },
    {
     "data": {
      "application/vnd.jupyter.widget-view+json": {
       "model_id": "",
       "version_major": 2,
       "version_minor": 0
      },
      "text/plain": [
       "Validation: |                                                                                                 …"
      ]
     },
     "metadata": {},
     "output_type": "display_data"
    },
    {
     "data": {
      "application/vnd.jupyter.widget-view+json": {
       "model_id": "",
       "version_major": 2,
       "version_minor": 0
      },
      "text/plain": [
       "Validation: |                                                                                                 …"
      ]
     },
     "metadata": {},
     "output_type": "display_data"
    },
    {
     "data": {
      "application/vnd.jupyter.widget-view+json": {
       "model_id": "",
       "version_major": 2,
       "version_minor": 0
      },
      "text/plain": [
       "Validation: |                                                                                                 …"
      ]
     },
     "metadata": {},
     "output_type": "display_data"
    },
    {
     "data": {
      "application/vnd.jupyter.widget-view+json": {
       "model_id": "",
       "version_major": 2,
       "version_minor": 0
      },
      "text/plain": [
       "Validation: |                                                                                                 …"
      ]
     },
     "metadata": {},
     "output_type": "display_data"
    },
    {
     "data": {
      "application/vnd.jupyter.widget-view+json": {
       "model_id": "",
       "version_major": 2,
       "version_minor": 0
      },
      "text/plain": [
       "Validation: |                                                                                                 …"
      ]
     },
     "metadata": {},
     "output_type": "display_data"
    },
    {
     "data": {
      "application/vnd.jupyter.widget-view+json": {
       "model_id": "",
       "version_major": 2,
       "version_minor": 0
      },
      "text/plain": [
       "Validation: |                                                                                                 …"
      ]
     },
     "metadata": {},
     "output_type": "display_data"
    },
    {
     "data": {
      "application/vnd.jupyter.widget-view+json": {
       "model_id": "",
       "version_major": 2,
       "version_minor": 0
      },
      "text/plain": [
       "Validation: |                                                                                                 …"
      ]
     },
     "metadata": {},
     "output_type": "display_data"
    },
    {
     "data": {
      "application/vnd.jupyter.widget-view+json": {
       "model_id": "",
       "version_major": 2,
       "version_minor": 0
      },
      "text/plain": [
       "Validation: |                                                                                                 …"
      ]
     },
     "metadata": {},
     "output_type": "display_data"
    },
    {
     "data": {
      "application/vnd.jupyter.widget-view+json": {
       "model_id": "",
       "version_major": 2,
       "version_minor": 0
      },
      "text/plain": [
       "Validation: |                                                                                                 …"
      ]
     },
     "metadata": {},
     "output_type": "display_data"
    },
    {
     "data": {
      "application/vnd.jupyter.widget-view+json": {
       "model_id": "",
       "version_major": 2,
       "version_minor": 0
      },
      "text/plain": [
       "Validation: |                                                                                                 …"
      ]
     },
     "metadata": {},
     "output_type": "display_data"
    },
    {
     "data": {
      "application/vnd.jupyter.widget-view+json": {
       "model_id": "",
       "version_major": 2,
       "version_minor": 0
      },
      "text/plain": [
       "Validation: |                                                                                                 …"
      ]
     },
     "metadata": {},
     "output_type": "display_data"
    },
    {
     "data": {
      "application/vnd.jupyter.widget-view+json": {
       "model_id": "",
       "version_major": 2,
       "version_minor": 0
      },
      "text/plain": [
       "Validation: |                                                                                                 …"
      ]
     },
     "metadata": {},
     "output_type": "display_data"
    },
    {
     "data": {
      "application/vnd.jupyter.widget-view+json": {
       "model_id": "",
       "version_major": 2,
       "version_minor": 0
      },
      "text/plain": [
       "Validation: |                                                                                                 …"
      ]
     },
     "metadata": {},
     "output_type": "display_data"
    },
    {
     "data": {
      "application/vnd.jupyter.widget-view+json": {
       "model_id": "",
       "version_major": 2,
       "version_minor": 0
      },
      "text/plain": [
       "Validation: |                                                                                                 …"
      ]
     },
     "metadata": {},
     "output_type": "display_data"
    },
    {
     "data": {
      "application/vnd.jupyter.widget-view+json": {
       "model_id": "",
       "version_major": 2,
       "version_minor": 0
      },
      "text/plain": [
       "Validation: |                                                                                                 …"
      ]
     },
     "metadata": {},
     "output_type": "display_data"
    },
    {
     "data": {
      "application/vnd.jupyter.widget-view+json": {
       "model_id": "",
       "version_major": 2,
       "version_minor": 0
      },
      "text/plain": [
       "Validation: |                                                                                                 …"
      ]
     },
     "metadata": {},
     "output_type": "display_data"
    },
    {
     "data": {
      "application/vnd.jupyter.widget-view+json": {
       "model_id": "",
       "version_major": 2,
       "version_minor": 0
      },
      "text/plain": [
       "Validation: |                                                                                                 …"
      ]
     },
     "metadata": {},
     "output_type": "display_data"
    },
    {
     "data": {
      "application/vnd.jupyter.widget-view+json": {
       "model_id": "",
       "version_major": 2,
       "version_minor": 0
      },
      "text/plain": [
       "Validation: |                                                                                                 …"
      ]
     },
     "metadata": {},
     "output_type": "display_data"
    },
    {
     "data": {
      "application/vnd.jupyter.widget-view+json": {
       "model_id": "",
       "version_major": 2,
       "version_minor": 0
      },
      "text/plain": [
       "Validation: |                                                                                                 …"
      ]
     },
     "metadata": {},
     "output_type": "display_data"
    },
    {
     "data": {
      "application/vnd.jupyter.widget-view+json": {
       "model_id": "",
       "version_major": 2,
       "version_minor": 0
      },
      "text/plain": [
       "Validation: |                                                                                                 …"
      ]
     },
     "metadata": {},
     "output_type": "display_data"
    },
    {
     "data": {
      "application/vnd.jupyter.widget-view+json": {
       "model_id": "",
       "version_major": 2,
       "version_minor": 0
      },
      "text/plain": [
       "Validation: |                                                                                                 …"
      ]
     },
     "metadata": {},
     "output_type": "display_data"
    },
    {
     "data": {
      "application/vnd.jupyter.widget-view+json": {
       "model_id": "",
       "version_major": 2,
       "version_minor": 0
      },
      "text/plain": [
       "Validation: |                                                                                                 …"
      ]
     },
     "metadata": {},
     "output_type": "display_data"
    },
    {
     "data": {
      "application/vnd.jupyter.widget-view+json": {
       "model_id": "",
       "version_major": 2,
       "version_minor": 0
      },
      "text/plain": [
       "Validation: |                                                                                                 …"
      ]
     },
     "metadata": {},
     "output_type": "display_data"
    },
    {
     "data": {
      "application/vnd.jupyter.widget-view+json": {
       "model_id": "",
       "version_major": 2,
       "version_minor": 0
      },
      "text/plain": [
       "Validation: |                                                                                                 …"
      ]
     },
     "metadata": {},
     "output_type": "display_data"
    },
    {
     "data": {
      "application/vnd.jupyter.widget-view+json": {
       "model_id": "",
       "version_major": 2,
       "version_minor": 0
      },
      "text/plain": [
       "Validation: |                                                                                                 …"
      ]
     },
     "metadata": {},
     "output_type": "display_data"
    },
    {
     "data": {
      "application/vnd.jupyter.widget-view+json": {
       "model_id": "2845efd653924c8fab6b60fccd35b258",
       "version_major": 2,
       "version_minor": 0
      },
      "text/plain": [
       "Validation: |                                                                                                 …"
      ]
     },
     "metadata": {},
     "output_type": "display_data"
    },
    {
     "data": {
      "application/vnd.jupyter.widget-view+json": {
       "model_id": "d09602cdf54a406f99d72bcb8046da98",
       "version_major": 2,
       "version_minor": 0
      },
      "text/plain": [
       "Validation: |                                                                                                 …"
      ]
     },
     "metadata": {},
     "output_type": "display_data"
    },
    {
     "data": {
      "application/vnd.jupyter.widget-view+json": {
       "model_id": "eed240ada9364644b812880745f87029",
       "version_major": 2,
       "version_minor": 0
      },
      "text/plain": [
       "Validation: |                                                                                                 …"
      ]
     },
     "metadata": {},
     "output_type": "display_data"
    },
    {
     "data": {
      "application/vnd.jupyter.widget-view+json": {
       "model_id": "206f9ea9b1624f07ab17298715d0c601",
       "version_major": 2,
       "version_minor": 0
      },
      "text/plain": [
       "Validation: |                                                                                                 …"
      ]
     },
     "metadata": {},
     "output_type": "display_data"
    },
    {
     "data": {
      "application/vnd.jupyter.widget-view+json": {
       "model_id": "49e25807a3ad4e318e041f52d5b1140e",
       "version_major": 2,
       "version_minor": 0
      },
      "text/plain": [
       "Validation: |                                                                                                 …"
      ]
     },
     "metadata": {},
     "output_type": "display_data"
    },
    {
     "data": {
      "application/vnd.jupyter.widget-view+json": {
       "model_id": "94f86f95bedc46fb8d69c4c70392adb3",
       "version_major": 2,
       "version_minor": 0
      },
      "text/plain": [
       "Validation: |                                                                                                 …"
      ]
     },
     "metadata": {},
     "output_type": "display_data"
    },
    {
     "data": {
      "application/vnd.jupyter.widget-view+json": {
       "model_id": "b0a894652e38458d81726d8ebe5457a8",
       "version_major": 2,
       "version_minor": 0
      },
      "text/plain": [
       "Validation: |                                                                                                 …"
      ]
     },
     "metadata": {},
     "output_type": "display_data"
    },
    {
     "data": {
      "application/vnd.jupyter.widget-view+json": {
       "model_id": "bf34d4de611e4858b0db8826f592f26a",
       "version_major": 2,
       "version_minor": 0
      },
      "text/plain": [
       "Validation: |                                                                                                 …"
      ]
     },
     "metadata": {},
     "output_type": "display_data"
    },
    {
     "data": {
      "application/vnd.jupyter.widget-view+json": {
       "model_id": "5c683b0bded843eea392a40ae32c0208",
       "version_major": 2,
       "version_minor": 0
      },
      "text/plain": [
       "Validation: |                                                                                                 …"
      ]
     },
     "metadata": {},
     "output_type": "display_data"
    },
    {
     "data": {
      "application/vnd.jupyter.widget-view+json": {
       "model_id": "574c01d15a02496aac516918d12920b2",
       "version_major": 2,
       "version_minor": 0
      },
      "text/plain": [
       "Validation: |                                                                                                 …"
      ]
     },
     "metadata": {},
     "output_type": "display_data"
    },
    {
     "data": {
      "application/vnd.jupyter.widget-view+json": {
       "model_id": "0d2fe72cd627484fb24d632badb65154",
       "version_major": 2,
       "version_minor": 0
      },
      "text/plain": [
       "Validation: |                                                                                                 …"
      ]
     },
     "metadata": {},
     "output_type": "display_data"
    },
    {
     "data": {
      "application/vnd.jupyter.widget-view+json": {
       "model_id": "7bd6ee508fb5432bb1f89eb4ed83d2a5",
       "version_major": 2,
       "version_minor": 0
      },
      "text/plain": [
       "Validation: |                                                                                                 …"
      ]
     },
     "metadata": {},
     "output_type": "display_data"
    },
    {
     "data": {
      "application/vnd.jupyter.widget-view+json": {
       "model_id": "19aba4f3a9634b87b45224f42748eb74",
       "version_major": 2,
       "version_minor": 0
      },
      "text/plain": [
       "Validation: |                                                                                                 …"
      ]
     },
     "metadata": {},
     "output_type": "display_data"
    },
    {
     "data": {
      "application/vnd.jupyter.widget-view+json": {
       "model_id": "bb9929e89e304ddb9f953a83babab45b",
       "version_major": 2,
       "version_minor": 0
      },
      "text/plain": [
       "Validation: |                                                                                                 …"
      ]
     },
     "metadata": {},
     "output_type": "display_data"
    },
    {
     "data": {
      "application/vnd.jupyter.widget-view+json": {
       "model_id": "c3f81d5b91654a90bc24b4d3ed9b9e3a",
       "version_major": 2,
       "version_minor": 0
      },
      "text/plain": [
       "Validation: |                                                                                                 …"
      ]
     },
     "metadata": {},
     "output_type": "display_data"
    },
    {
     "data": {
      "application/vnd.jupyter.widget-view+json": {
       "model_id": "5f14da26be32448c9b09b8e49b0942c9",
       "version_major": 2,
       "version_minor": 0
      },
      "text/plain": [
       "Validation: |                                                                                                 …"
      ]
     },
     "metadata": {},
     "output_type": "display_data"
    },
    {
     "data": {
      "application/vnd.jupyter.widget-view+json": {
       "model_id": "4825da328e5247dcac0eb5bfe01579cb",
       "version_major": 2,
       "version_minor": 0
      },
      "text/plain": [
       "Validation: |                                                                                                 …"
      ]
     },
     "metadata": {},
     "output_type": "display_data"
    },
    {
     "data": {
      "application/vnd.jupyter.widget-view+json": {
       "model_id": "dcfd52a3e4de4aec823d5aed03769cd4",
       "version_major": 2,
       "version_minor": 0
      },
      "text/plain": [
       "Validation: |                                                                                                 …"
      ]
     },
     "metadata": {},
     "output_type": "display_data"
    },
    {
     "data": {
      "application/vnd.jupyter.widget-view+json": {
       "model_id": "9c15d3d8b0d24d7f944b0018784b2bd6",
       "version_major": 2,
       "version_minor": 0
      },
      "text/plain": [
       "Validation: |                                                                                                 …"
      ]
     },
     "metadata": {},
     "output_type": "display_data"
    },
    {
     "data": {
      "application/vnd.jupyter.widget-view+json": {
       "model_id": "788a78f9f7114ee6802c3ceef62e5991",
       "version_major": 2,
       "version_minor": 0
      },
      "text/plain": [
       "Validation: |                                                                                                 …"
      ]
     },
     "metadata": {},
     "output_type": "display_data"
    },
    {
     "data": {
      "application/vnd.jupyter.widget-view+json": {
       "model_id": "623a5673fcac4f659338663581ed5829",
       "version_major": 2,
       "version_minor": 0
      },
      "text/plain": [
       "Validation: |                                                                                                 …"
      ]
     },
     "metadata": {},
     "output_type": "display_data"
    },
    {
     "data": {
      "application/vnd.jupyter.widget-view+json": {
       "model_id": "58ef370f96a4422f97b049d7793edab8",
       "version_major": 2,
       "version_minor": 0
      },
      "text/plain": [
       "Validation: |                                                                                                 …"
      ]
     },
     "metadata": {},
     "output_type": "display_data"
    },
    {
     "data": {
      "application/vnd.jupyter.widget-view+json": {
       "model_id": "9bb39602929a4ecc9d4003b3487819ca",
       "version_major": 2,
       "version_minor": 0
      },
      "text/plain": [
       "Validation: |                                                                                                 …"
      ]
     },
     "metadata": {},
     "output_type": "display_data"
    },
    {
     "data": {
      "application/vnd.jupyter.widget-view+json": {
       "model_id": "2234af6a272b46d08d97d4dd03a06eec",
       "version_major": 2,
       "version_minor": 0
      },
      "text/plain": [
       "Validation: |                                                                                                 …"
      ]
     },
     "metadata": {},
     "output_type": "display_data"
    },
    {
     "data": {
      "application/vnd.jupyter.widget-view+json": {
       "model_id": "131d81fe17f24be2a3a1cbee41ddf3ea",
       "version_major": 2,
       "version_minor": 0
      },
      "text/plain": [
       "Validation: |                                                                                                 …"
      ]
     },
     "metadata": {},
     "output_type": "display_data"
    },
    {
     "data": {
      "application/vnd.jupyter.widget-view+json": {
       "model_id": "2a98ea2c3d94463aa2d16e8a5b8a09c9",
       "version_major": 2,
       "version_minor": 0
      },
      "text/plain": [
       "Validation: |                                                                                                 …"
      ]
     },
     "metadata": {},
     "output_type": "display_data"
    },
    {
     "data": {
      "application/vnd.jupyter.widget-view+json": {
       "model_id": "fa841ab1ba224cfd99b2da8e833b05b2",
       "version_major": 2,
       "version_minor": 0
      },
      "text/plain": [
       "Validation: |                                                                                                 …"
      ]
     },
     "metadata": {},
     "output_type": "display_data"
    },
    {
     "data": {
      "application/vnd.jupyter.widget-view+json": {
       "model_id": "5aa172d055d34e1caafe372d617f5757",
       "version_major": 2,
       "version_minor": 0
      },
      "text/plain": [
       "Validation: |                                                                                                 …"
      ]
     },
     "metadata": {},
     "output_type": "display_data"
    },
    {
     "data": {
      "application/vnd.jupyter.widget-view+json": {
       "model_id": "bba69d63a0ad42dd84cd62e8b3ccbf43",
       "version_major": 2,
       "version_minor": 0
      },
      "text/plain": [
       "Validation: |                                                                                                 …"
      ]
     },
     "metadata": {},
     "output_type": "display_data"
    },
    {
     "data": {
      "application/vnd.jupyter.widget-view+json": {
       "model_id": "28f6a21cae5d493f8f4393bfcc229603",
       "version_major": 2,
       "version_minor": 0
      },
      "text/plain": [
       "Validation: |                                                                                                 …"
      ]
     },
     "metadata": {},
     "output_type": "display_data"
    },
    {
     "data": {
      "application/vnd.jupyter.widget-view+json": {
       "model_id": "739ccc9f434045dba970e7d723411feb",
       "version_major": 2,
       "version_minor": 0
      },
      "text/plain": [
       "Validation: |                                                                                                 …"
      ]
     },
     "metadata": {},
     "output_type": "display_data"
    },
    {
     "data": {
      "application/vnd.jupyter.widget-view+json": {
       "model_id": "6f2c73f912644c559318b9b40ebf7971",
       "version_major": 2,
       "version_minor": 0
      },
      "text/plain": [
       "Validation: |                                                                                                 …"
      ]
     },
     "metadata": {},
     "output_type": "display_data"
    },
    {
     "data": {
      "application/vnd.jupyter.widget-view+json": {
       "model_id": "6113eebb776d43c780f2c3d6ec0cf205",
       "version_major": 2,
       "version_minor": 0
      },
      "text/plain": [
       "Validation: |                                                                                                 …"
      ]
     },
     "metadata": {},
     "output_type": "display_data"
    },
    {
     "data": {
      "application/vnd.jupyter.widget-view+json": {
       "model_id": "d79adeed12994bbfb3d3f237bd3be185",
       "version_major": 2,
       "version_minor": 0
      },
      "text/plain": [
       "Validation: |                                                                                                 …"
      ]
     },
     "metadata": {},
     "output_type": "display_data"
    },
    {
     "data": {
      "application/vnd.jupyter.widget-view+json": {
       "model_id": "8bf0fd20d0304645ba75e737d5a2c4c1",
       "version_major": 2,
       "version_minor": 0
      },
      "text/plain": [
       "Validation: |                                                                                                 …"
      ]
     },
     "metadata": {},
     "output_type": "display_data"
    },
    {
     "data": {
      "application/vnd.jupyter.widget-view+json": {
       "model_id": "37534930ef354d3f8544052e3e4fbf2f",
       "version_major": 2,
       "version_minor": 0
      },
      "text/plain": [
       "Validation: |                                                                                                 …"
      ]
     },
     "metadata": {},
     "output_type": "display_data"
    },
    {
     "data": {
      "application/vnd.jupyter.widget-view+json": {
       "model_id": "b2e14b20c2ba4c4d8d159ec4fa3fb673",
       "version_major": 2,
       "version_minor": 0
      },
      "text/plain": [
       "Validation: |                                                                                                 …"
      ]
     },
     "metadata": {},
     "output_type": "display_data"
    },
    {
     "data": {
      "application/vnd.jupyter.widget-view+json": {
       "model_id": "99df17aab69a4fc6a66745dfea9bae0f",
       "version_major": 2,
       "version_minor": 0
      },
      "text/plain": [
       "Validation: |                                                                                                 …"
      ]
     },
     "metadata": {},
     "output_type": "display_data"
    },
    {
     "data": {
      "application/vnd.jupyter.widget-view+json": {
       "model_id": "ad438d835a3d46f4a2f4a3929d6714f9",
       "version_major": 2,
       "version_minor": 0
      },
      "text/plain": [
       "Validation: |                                                                                                 …"
      ]
     },
     "metadata": {},
     "output_type": "display_data"
    },
    {
     "data": {
      "application/vnd.jupyter.widget-view+json": {
       "model_id": "5a3f875fe06c4219ae3321f3f1419d42",
       "version_major": 2,
       "version_minor": 0
      },
      "text/plain": [
       "Validation: |                                                                                                 …"
      ]
     },
     "metadata": {},
     "output_type": "display_data"
    },
    {
     "data": {
      "application/vnd.jupyter.widget-view+json": {
       "model_id": "150f2f1549b84438a82cb41354689bd5",
       "version_major": 2,
       "version_minor": 0
      },
      "text/plain": [
       "Validation: |                                                                                                 …"
      ]
     },
     "metadata": {},
     "output_type": "display_data"
    },
    {
     "data": {
      "application/vnd.jupyter.widget-view+json": {
       "model_id": "87ff2ee4934e4a4089fb6771ca1b4808",
       "version_major": 2,
       "version_minor": 0
      },
      "text/plain": [
       "Validation: |                                                                                                 …"
      ]
     },
     "metadata": {},
     "output_type": "display_data"
    },
    {
     "data": {
      "application/vnd.jupyter.widget-view+json": {
       "model_id": "ae26a4bfdc8f4dcdb025815353e8ab0c",
       "version_major": 2,
       "version_minor": 0
      },
      "text/plain": [
       "Validation: |                                                                                                 …"
      ]
     },
     "metadata": {},
     "output_type": "display_data"
    },
    {
     "data": {
      "application/vnd.jupyter.widget-view+json": {
       "model_id": "4b935de3c6de49e78f4cf02715b50b40",
       "version_major": 2,
       "version_minor": 0
      },
      "text/plain": [
       "Validation: |                                                                                                 …"
      ]
     },
     "metadata": {},
     "output_type": "display_data"
    },
    {
     "data": {
      "application/vnd.jupyter.widget-view+json": {
       "model_id": "50bda0bb49ba45daa990246f9b80f38b",
       "version_major": 2,
       "version_minor": 0
      },
      "text/plain": [
       "Validation: |                                                                                                 …"
      ]
     },
     "metadata": {},
     "output_type": "display_data"
    },
    {
     "data": {
      "application/vnd.jupyter.widget-view+json": {
       "model_id": "1e5a8abed45649f6971fef2129196cb5",
       "version_major": 2,
       "version_minor": 0
      },
      "text/plain": [
       "Validation: |                                                                                                 …"
      ]
     },
     "metadata": {},
     "output_type": "display_data"
    },
    {
     "data": {
      "application/vnd.jupyter.widget-view+json": {
       "model_id": "7f773124ff3f48aebae6538606ba03f5",
       "version_major": 2,
       "version_minor": 0
      },
      "text/plain": [
       "Validation: |                                                                                                 …"
      ]
     },
     "metadata": {},
     "output_type": "display_data"
    },
    {
     "data": {
      "application/vnd.jupyter.widget-view+json": {
       "model_id": "7804bdeb12f64de5819aa5943ca7f1b1",
       "version_major": 2,
       "version_minor": 0
      },
      "text/plain": [
       "Validation: |                                                                                                 …"
      ]
     },
     "metadata": {},
     "output_type": "display_data"
    },
    {
     "data": {
      "application/vnd.jupyter.widget-view+json": {
       "model_id": "1666d3a041e641ad9edbc6743896aedb",
       "version_major": 2,
       "version_minor": 0
      },
      "text/plain": [
       "Validation: |                                                                                                 …"
      ]
     },
     "metadata": {},
     "output_type": "display_data"
    },
    {
     "data": {
      "application/vnd.jupyter.widget-view+json": {
       "model_id": "d01c5059436b4a80ab2c6dc0cc823a60",
       "version_major": 2,
       "version_minor": 0
      },
      "text/plain": [
       "Validation: |                                                                                                 …"
      ]
     },
     "metadata": {},
     "output_type": "display_data"
    },
    {
     "data": {
      "application/vnd.jupyter.widget-view+json": {
       "model_id": "8f10f1f75823460a9093dcecefd568be",
       "version_major": 2,
       "version_minor": 0
      },
      "text/plain": [
       "Validation: |                                                                                                 …"
      ]
     },
     "metadata": {},
     "output_type": "display_data"
    },
    {
     "data": {
      "application/vnd.jupyter.widget-view+json": {
       "model_id": "0be6b68420f64b0eba78bdfa6c9d8b43",
       "version_major": 2,
       "version_minor": 0
      },
      "text/plain": [
       "Validation: |                                                                                                 …"
      ]
     },
     "metadata": {},
     "output_type": "display_data"
    },
    {
     "data": {
      "application/vnd.jupyter.widget-view+json": {
       "model_id": "2748468d14c24e1ca1c84dfa17382a61",
       "version_major": 2,
       "version_minor": 0
      },
      "text/plain": [
       "Validation: |                                                                                                 …"
      ]
     },
     "metadata": {},
     "output_type": "display_data"
    },
    {
     "data": {
      "application/vnd.jupyter.widget-view+json": {
       "model_id": "52e166d4447f4b4298b052c25efd357a",
       "version_major": 2,
       "version_minor": 0
      },
      "text/plain": [
       "Validation: |                                                                                                 …"
      ]
     },
     "metadata": {},
     "output_type": "display_data"
    },
    {
     "name": "stderr",
     "output_type": "stream",
     "text": [
      "`Trainer.fit` stopped: `max_epochs=100` reached.\n",
      "\u001b[32m2024-10-27 15:11:53.315\u001b[0m | \u001b[1mINFO    \u001b[0m | \u001b[36msrc.ranker.trainer\u001b[0m:\u001b[36mon_fit_end\u001b[0m:\u001b[36m133\u001b[0m - \u001b[1mLogging classification metrics...\u001b[0m\n",
      "\u001b[32m2024-10-27 15:12:28.807\u001b[0m | \u001b[1mINFO    \u001b[0m | \u001b[36m__main__\u001b[0m:\u001b[36m<module>\u001b[0m:\u001b[36m28\u001b[0m - \u001b[1mLogs available at /Users/dvq/frostmourne/recsys-mvp/notebooks/data/012-3-neg-samples-and-user-item-out-product/logs/overfit/lightning_logs/version_0\u001b[0m\n"
     ]
    }
   ],
   "source": [
    "early_stopping = EarlyStopping(\n",
    "    monitor=\"val_loss\", patience=10, mode=\"min\", verbose=False\n",
    ")\n",
    "\n",
    "model = init_model(n_users, n_items, args.embedding_dim, item_feature_size, dropout=0)\n",
    "lit_model = LitRanker(\n",
    "    model,\n",
    "    learning_rate=args.learning_rate,\n",
    "    l2_reg=0.0,\n",
    "    log_dir=args.notebook_persist_dp,\n",
    ")\n",
    "\n",
    "log_dir = f\"{args.notebook_persist_dp}/logs/overfit\"\n",
    "\n",
    "# train model\n",
    "trainer = L.Trainer(\n",
    "    default_root_dir=log_dir,\n",
    "    accelerator=args.device if args.device else \"auto\",\n",
    "    max_epochs=100,\n",
    "    overfit_batches=1,\n",
    "    callbacks=[early_stopping],\n",
    ")\n",
    "trainer.fit(\n",
    "    model=lit_model,\n",
    "    train_dataloaders=train_loader,\n",
    "    val_dataloaders=train_loader,\n",
    ")\n",
    "logger.info(f\"Logs available at {trainer.log_dir}\")"
   ]
  },
  {
   "cell_type": "code",
   "execution_count": 28,
   "id": "b2cc9ae0-a993-4815-bebd-85cc51e68e65",
   "metadata": {},
   "outputs": [
    {
     "data": {
      "text/html": [
       "\n",
       "      <iframe id=\"tensorboard-frame-d594c193ddc4c3dd\" width=\"100%\" height=\"800\" frameborder=\"0\">\n",
       "      </iframe>\n",
       "      <script>\n",
       "        (function() {\n",
       "          const frame = document.getElementById(\"tensorboard-frame-d594c193ddc4c3dd\");\n",
       "          const url = new URL(\"/\", window.location);\n",
       "          const port = 6006;\n",
       "          if (port) {\n",
       "            url.port = port;\n",
       "          }\n",
       "          frame.src = url;\n",
       "        })();\n",
       "      </script>\n",
       "    "
      ],
      "text/plain": [
       "<IPython.core.display.HTML object>"
      ]
     },
     "metadata": {},
     "output_type": "display_data"
    }
   ],
   "source": [
    "%tensorboard --logdir $trainer.log_dir"
   ]
  },
  {
   "cell_type": "markdown",
   "id": "65c7e4af-5c66-454e-9e2c-2ca134f4e1cf",
   "metadata": {},
   "source": [
    "##### Fit on all data"
   ]
  },
  {
   "cell_type": "code",
   "execution_count": 29,
   "id": "6fef36c3-5263-4d91-8d7f-364d45c20719",
   "metadata": {
    "scrolled": true
   },
   "outputs": [
    {
     "name": "stderr",
     "output_type": "stream",
     "text": [
      "GPU available: True (mps), used: True\n",
      "TPU available: False, using: 0 TPU cores\n",
      "HPU available: False, using: 0 HPUs\n",
      "\n",
      "  | Name  | Type   | Params | Mode \n",
      "-----------------------------------------\n",
      "0 | model | Ranker | 3.4 M  | train\n",
      "-----------------------------------------\n",
      "3.4 M     Trainable params\n",
      "0         Non-trainable params\n",
      "3.4 M     Total params\n",
      "13.594    Total estimated model params size (MB)\n",
      "14        Modules in train mode\n",
      "0         Modules in eval mode\n"
     ]
    },
    {
     "data": {
      "application/vnd.jupyter.widget-view+json": {
       "model_id": "",
       "version_major": 2,
       "version_minor": 0
      },
      "text/plain": [
       "Sanity Checking: |                                                                                            …"
      ]
     },
     "metadata": {},
     "output_type": "display_data"
    },
    {
     "name": "stderr",
     "output_type": "stream",
     "text": [
      "/Users/dvq/frostmourne/recsys-mvp/.venv/lib/python3.11/site-packages/lightning/pytorch/trainer/connectors/data_connector.py:424: PossibleUserWarning:\n",
      "\n",
      "The 'val_dataloader' does not have many workers which may be a bottleneck. Consider increasing the value of the `num_workers` argument` to `num_workers=10` in the `DataLoader` to improve performance.\n",
      "\n",
      "/Users/dvq/frostmourne/recsys-mvp/.venv/lib/python3.11/site-packages/lightning/pytorch/trainer/connectors/data_connector.py:424: PossibleUserWarning:\n",
      "\n",
      "The 'train_dataloader' does not have many workers which may be a bottleneck. Consider increasing the value of the `num_workers` argument` to `num_workers=10` in the `DataLoader` to improve performance.\n",
      "\n"
     ]
    },
    {
     "data": {
      "application/vnd.jupyter.widget-view+json": {
       "model_id": "18dba03eda3944cdb0004642dade11f7",
       "version_major": 2,
       "version_minor": 0
      },
      "text/plain": [
       "Training: |                                                                                                   …"
      ]
     },
     "metadata": {},
     "output_type": "display_data"
    },
    {
     "data": {
      "application/vnd.jupyter.widget-view+json": {
       "model_id": "",
       "version_major": 2,
       "version_minor": 0
      },
      "text/plain": [
       "Validation: |                                                                                                 …"
      ]
     },
     "metadata": {},
     "output_type": "display_data"
    },
    {
     "data": {
      "application/vnd.jupyter.widget-view+json": {
       "model_id": "",
       "version_major": 2,
       "version_minor": 0
      },
      "text/plain": [
       "Validation: |                                                                                                 …"
      ]
     },
     "metadata": {},
     "output_type": "display_data"
    },
    {
     "data": {
      "application/vnd.jupyter.widget-view+json": {
       "model_id": "",
       "version_major": 2,
       "version_minor": 0
      },
      "text/plain": [
       "Validation: |                                                                                                 …"
      ]
     },
     "metadata": {},
     "output_type": "display_data"
    },
    {
     "data": {
      "application/vnd.jupyter.widget-view+json": {
       "model_id": "",
       "version_major": 2,
       "version_minor": 0
      },
      "text/plain": [
       "Validation: |                                                                                                 …"
      ]
     },
     "metadata": {},
     "output_type": "display_data"
    },
    {
     "data": {
      "application/vnd.jupyter.widget-view+json": {
       "model_id": "",
       "version_major": 2,
       "version_minor": 0
      },
      "text/plain": [
       "Validation: |                                                                                                 …"
      ]
     },
     "metadata": {},
     "output_type": "display_data"
    },
    {
     "data": {
      "application/vnd.jupyter.widget-view+json": {
       "model_id": "",
       "version_major": 2,
       "version_minor": 0
      },
      "text/plain": [
       "Validation: |                                                                                                 …"
      ]
     },
     "metadata": {},
     "output_type": "display_data"
    },
    {
     "data": {
      "application/vnd.jupyter.widget-view+json": {
       "model_id": "",
       "version_major": 2,
       "version_minor": 0
      },
      "text/plain": [
       "Validation: |                                                                                                 …"
      ]
     },
     "metadata": {},
     "output_type": "display_data"
    },
    {
     "data": {
      "application/vnd.jupyter.widget-view+json": {
       "model_id": "",
       "version_major": 2,
       "version_minor": 0
      },
      "text/plain": [
       "Validation: |                                                                                                 …"
      ]
     },
     "metadata": {},
     "output_type": "display_data"
    },
    {
     "name": "stderr",
     "output_type": "stream",
     "text": [
      "\u001b[32m2024-10-27 15:27:07.501\u001b[0m | \u001b[1mINFO    \u001b[0m | \u001b[36msrc.ranker.trainer\u001b[0m:\u001b[36mon_fit_end\u001b[0m:\u001b[36m133\u001b[0m - \u001b[1mLogging classification metrics...\u001b[0m\n",
      "\u001b[32m2024-10-27 15:27:13.344\u001b[0m | \u001b[1mINFO    \u001b[0m | \u001b[36msrc.ranker.trainer\u001b[0m:\u001b[36mon_fit_end\u001b[0m:\u001b[36m136\u001b[0m - \u001b[1mLogging ranking metrics...\u001b[0m\n"
     ]
    },
    {
     "data": {
      "application/vnd.jupyter.widget-view+json": {
       "model_id": "8d9ad90c43304c95b4c05e3dcb87af12",
       "version_major": 2,
       "version_minor": 0
      },
      "text/plain": [
       "Generating recommendations:   0%|          | 0/177 [00:00<?, ?it/s]"
      ]
     },
     "metadata": {},
     "output_type": "display_data"
    },
    {
     "name": "stderr",
     "output_type": "stream",
     "text": [
      "2024/10/27 15:27:24 INFO mlflow.tracking._tracking_service.client: 🏃 View run 012-3-neg-samples-and-user-item-out-product at: http://localhost:5002/#/experiments/3/runs/e8efa2dd82ea449aaef04caf5a22c27d.\n",
      "2024/10/27 15:27:24 INFO mlflow.tracking._tracking_service.client: 🧪 View experiment at: http://localhost:5002/#/experiments/3.\n"
     ]
    },
    {
     "ename": "RuntimeError",
     "evalue": "mat1 and mat2 shapes cannot be multiplied (18520x153 and 921x128)",
     "output_type": "error",
     "traceback": [
      "\u001b[0;31m---------------------------------------------------------------------------\u001b[0m",
      "\u001b[0;31mRuntimeError\u001b[0m                              Traceback (most recent call last)",
      "Cell \u001b[0;32mIn[29], line 44\u001b[0m\n\u001b[1;32m     36\u001b[0m \u001b[38;5;66;03m# train model\u001b[39;00m\n\u001b[1;32m     37\u001b[0m trainer \u001b[38;5;241m=\u001b[39m L\u001b[38;5;241m.\u001b[39mTrainer(\n\u001b[1;32m     38\u001b[0m     default_root_dir\u001b[38;5;241m=\u001b[39mlog_dir,\n\u001b[1;32m     39\u001b[0m     max_epochs\u001b[38;5;241m=\u001b[39margs\u001b[38;5;241m.\u001b[39mmax_epochs,\n\u001b[0;32m   (...)\u001b[0m\n\u001b[1;32m     42\u001b[0m     logger\u001b[38;5;241m=\u001b[39margs\u001b[38;5;241m.\u001b[39m_mlf_logger \u001b[38;5;28;01mif\u001b[39;00m args\u001b[38;5;241m.\u001b[39mlog_to_mlflow \u001b[38;5;28;01melse\u001b[39;00m \u001b[38;5;28;01mNone\u001b[39;00m,\n\u001b[1;32m     43\u001b[0m )\n\u001b[0;32m---> 44\u001b[0m \u001b[43mtrainer\u001b[49m\u001b[38;5;241;43m.\u001b[39;49m\u001b[43mfit\u001b[49m\u001b[43m(\u001b[49m\n\u001b[1;32m     45\u001b[0m \u001b[43m    \u001b[49m\u001b[43mmodel\u001b[49m\u001b[38;5;241;43m=\u001b[39;49m\u001b[43mlit_model\u001b[49m\u001b[43m,\u001b[49m\n\u001b[1;32m     46\u001b[0m \u001b[43m    \u001b[49m\u001b[43mtrain_dataloaders\u001b[49m\u001b[38;5;241;43m=\u001b[39;49m\u001b[43mtrain_loader\u001b[49m\u001b[43m,\u001b[49m\n\u001b[1;32m     47\u001b[0m \u001b[43m    \u001b[49m\u001b[43mval_dataloaders\u001b[49m\u001b[38;5;241;43m=\u001b[39;49m\u001b[43mval_loader\u001b[49m\u001b[43m,\u001b[49m\n\u001b[1;32m     48\u001b[0m \u001b[43m)\u001b[49m\n",
      "File \u001b[0;32m~/frostmourne/recsys-mvp/.venv/lib/python3.11/site-packages/lightning/pytorch/trainer/trainer.py:538\u001b[0m, in \u001b[0;36mTrainer.fit\u001b[0;34m(self, model, train_dataloaders, val_dataloaders, datamodule, ckpt_path)\u001b[0m\n\u001b[1;32m    536\u001b[0m \u001b[38;5;28mself\u001b[39m\u001b[38;5;241m.\u001b[39mstate\u001b[38;5;241m.\u001b[39mstatus \u001b[38;5;241m=\u001b[39m TrainerStatus\u001b[38;5;241m.\u001b[39mRUNNING\n\u001b[1;32m    537\u001b[0m \u001b[38;5;28mself\u001b[39m\u001b[38;5;241m.\u001b[39mtraining \u001b[38;5;241m=\u001b[39m \u001b[38;5;28;01mTrue\u001b[39;00m\n\u001b[0;32m--> 538\u001b[0m \u001b[43mcall\u001b[49m\u001b[38;5;241;43m.\u001b[39;49m\u001b[43m_call_and_handle_interrupt\u001b[49m\u001b[43m(\u001b[49m\n\u001b[1;32m    539\u001b[0m \u001b[43m    \u001b[49m\u001b[38;5;28;43mself\u001b[39;49m\u001b[43m,\u001b[49m\u001b[43m \u001b[49m\u001b[38;5;28;43mself\u001b[39;49m\u001b[38;5;241;43m.\u001b[39;49m\u001b[43m_fit_impl\u001b[49m\u001b[43m,\u001b[49m\u001b[43m \u001b[49m\u001b[43mmodel\u001b[49m\u001b[43m,\u001b[49m\u001b[43m \u001b[49m\u001b[43mtrain_dataloaders\u001b[49m\u001b[43m,\u001b[49m\u001b[43m \u001b[49m\u001b[43mval_dataloaders\u001b[49m\u001b[43m,\u001b[49m\u001b[43m \u001b[49m\u001b[43mdatamodule\u001b[49m\u001b[43m,\u001b[49m\u001b[43m \u001b[49m\u001b[43mckpt_path\u001b[49m\n\u001b[1;32m    540\u001b[0m \u001b[43m\u001b[49m\u001b[43m)\u001b[49m\n",
      "File \u001b[0;32m~/frostmourne/recsys-mvp/.venv/lib/python3.11/site-packages/lightning/pytorch/trainer/call.py:47\u001b[0m, in \u001b[0;36m_call_and_handle_interrupt\u001b[0;34m(trainer, trainer_fn, *args, **kwargs)\u001b[0m\n\u001b[1;32m     45\u001b[0m     \u001b[38;5;28;01mif\u001b[39;00m trainer\u001b[38;5;241m.\u001b[39mstrategy\u001b[38;5;241m.\u001b[39mlauncher \u001b[38;5;129;01mis\u001b[39;00m \u001b[38;5;129;01mnot\u001b[39;00m \u001b[38;5;28;01mNone\u001b[39;00m:\n\u001b[1;32m     46\u001b[0m         \u001b[38;5;28;01mreturn\u001b[39;00m trainer\u001b[38;5;241m.\u001b[39mstrategy\u001b[38;5;241m.\u001b[39mlauncher\u001b[38;5;241m.\u001b[39mlaunch(trainer_fn, \u001b[38;5;241m*\u001b[39margs, trainer\u001b[38;5;241m=\u001b[39mtrainer, \u001b[38;5;241m*\u001b[39m\u001b[38;5;241m*\u001b[39mkwargs)\n\u001b[0;32m---> 47\u001b[0m     \u001b[38;5;28;01mreturn\u001b[39;00m \u001b[43mtrainer_fn\u001b[49m\u001b[43m(\u001b[49m\u001b[38;5;241;43m*\u001b[39;49m\u001b[43margs\u001b[49m\u001b[43m,\u001b[49m\u001b[43m \u001b[49m\u001b[38;5;241;43m*\u001b[39;49m\u001b[38;5;241;43m*\u001b[39;49m\u001b[43mkwargs\u001b[49m\u001b[43m)\u001b[49m\n\u001b[1;32m     49\u001b[0m \u001b[38;5;28;01mexcept\u001b[39;00m _TunerExitException:\n\u001b[1;32m     50\u001b[0m     _call_teardown_hook(trainer)\n",
      "File \u001b[0;32m~/frostmourne/recsys-mvp/.venv/lib/python3.11/site-packages/lightning/pytorch/trainer/trainer.py:574\u001b[0m, in \u001b[0;36mTrainer._fit_impl\u001b[0;34m(self, model, train_dataloaders, val_dataloaders, datamodule, ckpt_path)\u001b[0m\n\u001b[1;32m    567\u001b[0m \u001b[38;5;28;01massert\u001b[39;00m \u001b[38;5;28mself\u001b[39m\u001b[38;5;241m.\u001b[39mstate\u001b[38;5;241m.\u001b[39mfn \u001b[38;5;129;01mis\u001b[39;00m \u001b[38;5;129;01mnot\u001b[39;00m \u001b[38;5;28;01mNone\u001b[39;00m\n\u001b[1;32m    568\u001b[0m ckpt_path \u001b[38;5;241m=\u001b[39m \u001b[38;5;28mself\u001b[39m\u001b[38;5;241m.\u001b[39m_checkpoint_connector\u001b[38;5;241m.\u001b[39m_select_ckpt_path(\n\u001b[1;32m    569\u001b[0m     \u001b[38;5;28mself\u001b[39m\u001b[38;5;241m.\u001b[39mstate\u001b[38;5;241m.\u001b[39mfn,\n\u001b[1;32m    570\u001b[0m     ckpt_path,\n\u001b[1;32m    571\u001b[0m     model_provided\u001b[38;5;241m=\u001b[39m\u001b[38;5;28;01mTrue\u001b[39;00m,\n\u001b[1;32m    572\u001b[0m     model_connected\u001b[38;5;241m=\u001b[39m\u001b[38;5;28mself\u001b[39m\u001b[38;5;241m.\u001b[39mlightning_module \u001b[38;5;129;01mis\u001b[39;00m \u001b[38;5;129;01mnot\u001b[39;00m \u001b[38;5;28;01mNone\u001b[39;00m,\n\u001b[1;32m    573\u001b[0m )\n\u001b[0;32m--> 574\u001b[0m \u001b[38;5;28;43mself\u001b[39;49m\u001b[38;5;241;43m.\u001b[39;49m\u001b[43m_run\u001b[49m\u001b[43m(\u001b[49m\u001b[43mmodel\u001b[49m\u001b[43m,\u001b[49m\u001b[43m \u001b[49m\u001b[43mckpt_path\u001b[49m\u001b[38;5;241;43m=\u001b[39;49m\u001b[43mckpt_path\u001b[49m\u001b[43m)\u001b[49m\n\u001b[1;32m    576\u001b[0m \u001b[38;5;28;01massert\u001b[39;00m \u001b[38;5;28mself\u001b[39m\u001b[38;5;241m.\u001b[39mstate\u001b[38;5;241m.\u001b[39mstopped\n\u001b[1;32m    577\u001b[0m \u001b[38;5;28mself\u001b[39m\u001b[38;5;241m.\u001b[39mtraining \u001b[38;5;241m=\u001b[39m \u001b[38;5;28;01mFalse\u001b[39;00m\n",
      "File \u001b[0;32m~/frostmourne/recsys-mvp/.venv/lib/python3.11/site-packages/lightning/pytorch/trainer/trainer.py:991\u001b[0m, in \u001b[0;36mTrainer._run\u001b[0;34m(self, model, ckpt_path)\u001b[0m\n\u001b[1;32m    989\u001b[0m \u001b[38;5;28;01mif\u001b[39;00m \u001b[38;5;28mself\u001b[39m\u001b[38;5;241m.\u001b[39mstate\u001b[38;5;241m.\u001b[39mfn \u001b[38;5;241m==\u001b[39m TrainerFn\u001b[38;5;241m.\u001b[39mFITTING:\n\u001b[1;32m    990\u001b[0m     call\u001b[38;5;241m.\u001b[39m_call_callback_hooks(\u001b[38;5;28mself\u001b[39m, \u001b[38;5;124m\"\u001b[39m\u001b[38;5;124mon_fit_end\u001b[39m\u001b[38;5;124m\"\u001b[39m)\n\u001b[0;32m--> 991\u001b[0m     \u001b[43mcall\u001b[49m\u001b[38;5;241;43m.\u001b[39;49m\u001b[43m_call_lightning_module_hook\u001b[49m\u001b[43m(\u001b[49m\u001b[38;5;28;43mself\u001b[39;49m\u001b[43m,\u001b[49m\u001b[43m \u001b[49m\u001b[38;5;124;43m\"\u001b[39;49m\u001b[38;5;124;43mon_fit_end\u001b[39;49m\u001b[38;5;124;43m\"\u001b[39;49m\u001b[43m)\u001b[49m\n\u001b[1;32m    993\u001b[0m log\u001b[38;5;241m.\u001b[39mdebug(\u001b[38;5;124mf\u001b[39m\u001b[38;5;124m\"\u001b[39m\u001b[38;5;132;01m{\u001b[39;00m\u001b[38;5;28mself\u001b[39m\u001b[38;5;241m.\u001b[39m\u001b[38;5;18m__class__\u001b[39m\u001b[38;5;241m.\u001b[39m\u001b[38;5;18m__name__\u001b[39m\u001b[38;5;132;01m}\u001b[39;00m\u001b[38;5;124m: calling teardown hooks\u001b[39m\u001b[38;5;124m\"\u001b[39m)\n\u001b[1;32m    994\u001b[0m call\u001b[38;5;241m.\u001b[39m_call_teardown_hook(\u001b[38;5;28mself\u001b[39m)\n",
      "File \u001b[0;32m~/frostmourne/recsys-mvp/.venv/lib/python3.11/site-packages/lightning/pytorch/trainer/call.py:167\u001b[0m, in \u001b[0;36m_call_lightning_module_hook\u001b[0;34m(trainer, hook_name, pl_module, *args, **kwargs)\u001b[0m\n\u001b[1;32m    164\u001b[0m pl_module\u001b[38;5;241m.\u001b[39m_current_fx_name \u001b[38;5;241m=\u001b[39m hook_name\n\u001b[1;32m    166\u001b[0m \u001b[38;5;28;01mwith\u001b[39;00m trainer\u001b[38;5;241m.\u001b[39mprofiler\u001b[38;5;241m.\u001b[39mprofile(\u001b[38;5;124mf\u001b[39m\u001b[38;5;124m\"\u001b[39m\u001b[38;5;124m[LightningModule]\u001b[39m\u001b[38;5;132;01m{\u001b[39;00mpl_module\u001b[38;5;241m.\u001b[39m\u001b[38;5;18m__class__\u001b[39m\u001b[38;5;241m.\u001b[39m\u001b[38;5;18m__name__\u001b[39m\u001b[38;5;132;01m}\u001b[39;00m\u001b[38;5;124m.\u001b[39m\u001b[38;5;132;01m{\u001b[39;00mhook_name\u001b[38;5;132;01m}\u001b[39;00m\u001b[38;5;124m\"\u001b[39m):\n\u001b[0;32m--> 167\u001b[0m     output \u001b[38;5;241m=\u001b[39m \u001b[43mfn\u001b[49m\u001b[43m(\u001b[49m\u001b[38;5;241;43m*\u001b[39;49m\u001b[43margs\u001b[49m\u001b[43m,\u001b[49m\u001b[43m \u001b[49m\u001b[38;5;241;43m*\u001b[39;49m\u001b[38;5;241;43m*\u001b[39;49m\u001b[43mkwargs\u001b[49m\u001b[43m)\u001b[49m\n\u001b[1;32m    169\u001b[0m \u001b[38;5;66;03m# restore current_fx when nested context\u001b[39;00m\n\u001b[1;32m    170\u001b[0m pl_module\u001b[38;5;241m.\u001b[39m_current_fx_name \u001b[38;5;241m=\u001b[39m prev_fx_name\n",
      "File \u001b[0;32m~/frostmourne/recsys-mvp/notebooks/../src/ranker/trainer.py:137\u001b[0m, in \u001b[0;36mLitRanker.on_fit_end\u001b[0;34m(self)\u001b[0m\n\u001b[1;32m    135\u001b[0m \u001b[38;5;28;01mif\u001b[39;00m \u001b[38;5;28mself\u001b[39m\u001b[38;5;241m.\u001b[39mevaluate_ranking:\n\u001b[1;32m    136\u001b[0m     logger\u001b[38;5;241m.\u001b[39minfo(\u001b[38;5;124mf\u001b[39m\u001b[38;5;124m\"\u001b[39m\u001b[38;5;124mLogging ranking metrics...\u001b[39m\u001b[38;5;124m\"\u001b[39m)\n\u001b[0;32m--> 137\u001b[0m     \u001b[38;5;28;43mself\u001b[39;49m\u001b[38;5;241;43m.\u001b[39;49m\u001b[43m_log_ranking_metrics\u001b[49m\u001b[43m(\u001b[49m\u001b[43m)\u001b[49m\n",
      "File \u001b[0;32m~/frostmourne/recsys-mvp/notebooks/../src/ranker/trainer.py:262\u001b[0m, in \u001b[0;36mLitRanker._log_ranking_metrics\u001b[0;34m(self)\u001b[0m\n\u001b[1;32m    256\u001b[0m \u001b[38;5;66;03m# Prepare input dataframe for prediction where user_indice is unique and item_sequence contains the last interaction in training data\u001b[39;00m\n\u001b[1;32m    257\u001b[0m \u001b[38;5;66;03m# Retain the first row of each user and use that as input for recommendations\u001b[39;00m\n\u001b[1;32m    258\u001b[0m \u001b[38;5;66;03m# We would compare that predictions with all the items this customer rates in val set\u001b[39;00m\n\u001b[1;32m    259\u001b[0m to_rec_df \u001b[38;5;241m=\u001b[39m val_df\u001b[38;5;241m.\u001b[39msort_values(timestamp_col, ascending\u001b[38;5;241m=\u001b[39m\u001b[38;5;28;01mTrue\u001b[39;00m)\u001b[38;5;241m.\u001b[39mdrop_duplicates(\n\u001b[1;32m    260\u001b[0m     subset\u001b[38;5;241m=\u001b[39m[user_col]\n\u001b[1;32m    261\u001b[0m )\n\u001b[0;32m--> 262\u001b[0m recommendations \u001b[38;5;241m=\u001b[39m \u001b[38;5;28;43mself\u001b[39;49m\u001b[38;5;241;43m.\u001b[39;49m\u001b[43mmodel\u001b[49m\u001b[38;5;241;43m.\u001b[39;49m\u001b[43mrecommend\u001b[49m\u001b[43m(\u001b[49m\n\u001b[1;32m    263\u001b[0m \u001b[43m    \u001b[49m\u001b[43mtorch\u001b[49m\u001b[38;5;241;43m.\u001b[39;49m\u001b[43mtensor\u001b[49m\u001b[43m(\u001b[49m\u001b[43mto_rec_df\u001b[49m\u001b[43m[\u001b[49m\u001b[38;5;124;43m\"\u001b[39;49m\u001b[38;5;124;43muser_indice\u001b[39;49m\u001b[38;5;124;43m\"\u001b[39;49m\u001b[43m]\u001b[49m\u001b[38;5;241;43m.\u001b[39;49m\u001b[43mvalues\u001b[49m\u001b[43m,\u001b[49m\u001b[43m \u001b[49m\u001b[43mdevice\u001b[49m\u001b[38;5;241;43m=\u001b[39;49m\u001b[38;5;28;43mself\u001b[39;49m\u001b[38;5;241;43m.\u001b[39;49m\u001b[43mdevice\u001b[49m\u001b[43m)\u001b[49m\u001b[43m,\u001b[49m\n\u001b[1;32m    264\u001b[0m \u001b[43m    \u001b[49m\u001b[43mtorch\u001b[49m\u001b[38;5;241;43m.\u001b[39;49m\u001b[43mtensor\u001b[49m\u001b[43m(\u001b[49m\n\u001b[1;32m    265\u001b[0m \u001b[43m        \u001b[49m\u001b[43mto_rec_df\u001b[49m\u001b[43m[\u001b[49m\u001b[38;5;124;43m\"\u001b[39;49m\u001b[38;5;124;43mitem_sequence\u001b[39;49m\u001b[38;5;124;43m\"\u001b[39;49m\u001b[43m]\u001b[49m\u001b[38;5;241;43m.\u001b[39;49m\u001b[43mvalues\u001b[49m\u001b[38;5;241;43m.\u001b[39;49m\u001b[43mtolist\u001b[49m\u001b[43m(\u001b[49m\u001b[43m)\u001b[49m\u001b[43m,\u001b[49m\u001b[43m \u001b[49m\u001b[43mdevice\u001b[49m\u001b[38;5;241;43m=\u001b[39;49m\u001b[38;5;28;43mself\u001b[39;49m\u001b[38;5;241;43m.\u001b[39;49m\u001b[43mdevice\u001b[49m\n\u001b[1;32m    266\u001b[0m \u001b[43m    \u001b[49m\u001b[43m)\u001b[49m\u001b[43m,\u001b[49m\n\u001b[1;32m    267\u001b[0m \u001b[43m    \u001b[49m\u001b[43mtorch\u001b[49m\u001b[38;5;241;43m.\u001b[39;49m\u001b[43mtensor\u001b[49m\u001b[43m(\u001b[49m\u001b[43mall_items_features\u001b[49m\u001b[43m,\u001b[49m\u001b[43m \u001b[49m\u001b[43mdevice\u001b[49m\u001b[38;5;241;43m=\u001b[39;49m\u001b[38;5;28;43mself\u001b[39;49m\u001b[38;5;241;43m.\u001b[39;49m\u001b[43mdevice\u001b[49m\u001b[43m)\u001b[49m\u001b[43m,\u001b[49m\n\u001b[1;32m    268\u001b[0m \u001b[43m    \u001b[49m\u001b[43mtorch\u001b[49m\u001b[38;5;241;43m.\u001b[39;49m\u001b[43mtensor\u001b[49m\u001b[43m(\u001b[49m\u001b[43mall_items_indices\u001b[49m\u001b[43m,\u001b[49m\u001b[43m \u001b[49m\u001b[43mdevice\u001b[49m\u001b[38;5;241;43m=\u001b[39;49m\u001b[38;5;28;43mself\u001b[39;49m\u001b[38;5;241;43m.\u001b[39;49m\u001b[43mdevice\u001b[49m\u001b[43m)\u001b[49m\u001b[43m,\u001b[49m\n\u001b[1;32m    269\u001b[0m \u001b[43m    \u001b[49m\u001b[43mk\u001b[49m\u001b[38;5;241;43m=\u001b[39;49m\u001b[43mtop_K\u001b[49m\u001b[43m,\u001b[49m\n\u001b[1;32m    270\u001b[0m \u001b[43m    \u001b[49m\u001b[43mbatch_size\u001b[49m\u001b[38;5;241;43m=\u001b[39;49m\u001b[38;5;241;43m4\u001b[39;49m\u001b[43m,\u001b[49m\n\u001b[1;32m    271\u001b[0m \u001b[43m\u001b[49m\u001b[43m)\u001b[49m\n\u001b[1;32m    273\u001b[0m recommendations_df \u001b[38;5;241m=\u001b[39m pd\u001b[38;5;241m.\u001b[39mDataFrame(recommendations)\u001b[38;5;241m.\u001b[39mpipe(\n\u001b[1;32m    274\u001b[0m     create_rec_df, idm, user_col, item_col\n\u001b[1;32m    275\u001b[0m )\n\u001b[1;32m    277\u001b[0m label_df \u001b[38;5;241m=\u001b[39m create_label_df(\n\u001b[1;32m    278\u001b[0m     val_df,\n\u001b[1;32m    279\u001b[0m     user_col\u001b[38;5;241m=\u001b[39muser_col,\n\u001b[0;32m   (...)\u001b[0m\n\u001b[1;32m    282\u001b[0m     timestamp_col\u001b[38;5;241m=\u001b[39mtimestamp_col,\n\u001b[1;32m    283\u001b[0m )\n",
      "File \u001b[0;32m~/frostmourne/recsys-mvp/notebooks/../src/ranker/model.py:222\u001b[0m, in \u001b[0;36mRanker.recommend\u001b[0;34m(self, users, item_sequences, item_features, item_indices, k, batch_size)\u001b[0m\n\u001b[1;32m    217\u001b[0m items_feature_batch \u001b[38;5;241m=\u001b[39m items_feature_batch\u001b[38;5;241m.\u001b[39mview(\n\u001b[1;32m    218\u001b[0m     \u001b[38;5;241m-\u001b[39m\u001b[38;5;241m1\u001b[39m, items_feature_batch\u001b[38;5;241m.\u001b[39msize(\u001b[38;5;241m-\u001b[39m\u001b[38;5;241m1\u001b[39m)\n\u001b[1;32m    219\u001b[0m )\n\u001b[1;32m    221\u001b[0m \u001b[38;5;66;03m# Predict scores for the batch\u001b[39;00m\n\u001b[0;32m--> 222\u001b[0m batch_scores \u001b[38;5;241m=\u001b[39m \u001b[38;5;28;43mself\u001b[39;49m\u001b[38;5;241;43m.\u001b[39;49m\u001b[43mpredict\u001b[49m\u001b[43m(\u001b[49m\n\u001b[1;32m    223\u001b[0m \u001b[43m    \u001b[49m\u001b[43muser_batch_expanded\u001b[49m\u001b[43m,\u001b[49m\n\u001b[1;32m    224\u001b[0m \u001b[43m    \u001b[49m\u001b[43mitem_sequences_batch\u001b[49m\u001b[43m,\u001b[49m\n\u001b[1;32m    225\u001b[0m \u001b[43m    \u001b[49m\u001b[43mitems_feature_batch\u001b[49m\u001b[43m,\u001b[49m\n\u001b[1;32m    226\u001b[0m \u001b[43m    \u001b[49m\u001b[43mitems_batch\u001b[49m\u001b[43m,\u001b[49m\n\u001b[1;32m    227\u001b[0m \u001b[43m\u001b[49m\u001b[43m)\u001b[49m\u001b[38;5;241m.\u001b[39mview(\u001b[38;5;28mlen\u001b[39m(user_batch), \u001b[38;5;241m-\u001b[39m\u001b[38;5;241m1\u001b[39m)\n\u001b[1;32m    229\u001b[0m \u001b[38;5;66;03m# Get top k items for each user in the batch\u001b[39;00m\n\u001b[1;32m    230\u001b[0m topk_scores, topk_indices \u001b[38;5;241m=\u001b[39m torch\u001b[38;5;241m.\u001b[39mtopk(batch_scores, k, dim\u001b[38;5;241m=\u001b[39m\u001b[38;5;241m1\u001b[39m)\n",
      "File \u001b[0;32m~/frostmourne/recsys-mvp/notebooks/../src/ranker/model.py:157\u001b[0m, in \u001b[0;36mRanker.predict\u001b[0;34m(self, user, item_sequence, item_features, target_item)\u001b[0m\n\u001b[1;32m    143\u001b[0m \u001b[38;5;28;01mdef\u001b[39;00m \u001b[38;5;21mpredict\u001b[39m(\u001b[38;5;28mself\u001b[39m, user, item_sequence, item_features, target_item):\n\u001b[1;32m    144\u001b[0m \u001b[38;5;250m    \u001b[39m\u001b[38;5;124;03m\"\"\"\u001b[39;00m\n\u001b[1;32m    145\u001b[0m \u001b[38;5;124;03m    Predict the rating for a specific user and item sequence using the forward method\u001b[39;00m\n\u001b[1;32m    146\u001b[0m \u001b[38;5;124;03m    and applying a Sigmoid function to the output.\u001b[39;00m\n\u001b[0;32m   (...)\u001b[0m\n\u001b[1;32m    155\u001b[0m \u001b[38;5;124;03m        torch.Tensor: Predicted rating after applying Sigmoid activation.\u001b[39;00m\n\u001b[1;32m    156\u001b[0m \u001b[38;5;124;03m    \"\"\"\u001b[39;00m\n\u001b[0;32m--> 157\u001b[0m     output_rating \u001b[38;5;241m=\u001b[39m \u001b[38;5;28;43mself\u001b[39;49m\u001b[38;5;241;43m.\u001b[39;49m\u001b[43mforward\u001b[49m\u001b[43m(\u001b[49m\u001b[43muser\u001b[49m\u001b[43m,\u001b[49m\u001b[43m \u001b[49m\u001b[43mitem_sequence\u001b[49m\u001b[43m,\u001b[49m\u001b[43m \u001b[49m\u001b[43mitem_features\u001b[49m\u001b[43m,\u001b[49m\u001b[43m \u001b[49m\u001b[43mtarget_item\u001b[49m\u001b[43m)\u001b[49m\n\u001b[1;32m    158\u001b[0m     \u001b[38;5;28;01mreturn\u001b[39;00m output_rating\n",
      "File \u001b[0;32m~/frostmourne/recsys-mvp/notebooks/../src/ranker/model.py:124\u001b[0m, in \u001b[0;36mRanker.forward\u001b[0;34m(self, user_ids, input_seq, item_features, target_item)\u001b[0m\n\u001b[1;32m    121\u001b[0m \u001b[38;5;66;03m# Out product of user and item\u001b[39;00m\n\u001b[1;32m    122\u001b[0m user_item \u001b[38;5;241m=\u001b[39m user_embeddings \u001b[38;5;241m*\u001b[39m embedded_target\n\u001b[0;32m--> 124\u001b[0m item_features_tower_output \u001b[38;5;241m=\u001b[39m \u001b[38;5;28;43mself\u001b[39;49m\u001b[38;5;241;43m.\u001b[39;49m\u001b[43mitem_feature_tower\u001b[49m\u001b[43m(\u001b[49m\u001b[43mitem_features\u001b[49m\u001b[43m)\u001b[49m\n\u001b[1;32m    126\u001b[0m \u001b[38;5;66;03m# Concatenate the GRU output with the target item and user embeddings\u001b[39;00m\n\u001b[1;32m    127\u001b[0m combined_embedding \u001b[38;5;241m=\u001b[39m torch\u001b[38;5;241m.\u001b[39mcat(\n\u001b[1;32m    128\u001b[0m     (\n\u001b[1;32m    129\u001b[0m         gru_output,\n\u001b[0;32m   (...)\u001b[0m\n\u001b[1;32m    135\u001b[0m     dim\u001b[38;5;241m=\u001b[39m\u001b[38;5;241m1\u001b[39m,\n\u001b[1;32m    136\u001b[0m )\n",
      "File \u001b[0;32m~/frostmourne/recsys-mvp/.venv/lib/python3.11/site-packages/torch/nn/modules/module.py:1553\u001b[0m, in \u001b[0;36mModule._wrapped_call_impl\u001b[0;34m(self, *args, **kwargs)\u001b[0m\n\u001b[1;32m   1551\u001b[0m     \u001b[38;5;28;01mreturn\u001b[39;00m \u001b[38;5;28mself\u001b[39m\u001b[38;5;241m.\u001b[39m_compiled_call_impl(\u001b[38;5;241m*\u001b[39margs, \u001b[38;5;241m*\u001b[39m\u001b[38;5;241m*\u001b[39mkwargs)  \u001b[38;5;66;03m# type: ignore[misc]\u001b[39;00m\n\u001b[1;32m   1552\u001b[0m \u001b[38;5;28;01melse\u001b[39;00m:\n\u001b[0;32m-> 1553\u001b[0m     \u001b[38;5;28;01mreturn\u001b[39;00m \u001b[38;5;28;43mself\u001b[39;49m\u001b[38;5;241;43m.\u001b[39;49m\u001b[43m_call_impl\u001b[49m\u001b[43m(\u001b[49m\u001b[38;5;241;43m*\u001b[39;49m\u001b[43margs\u001b[49m\u001b[43m,\u001b[49m\u001b[43m \u001b[49m\u001b[38;5;241;43m*\u001b[39;49m\u001b[38;5;241;43m*\u001b[39;49m\u001b[43mkwargs\u001b[49m\u001b[43m)\u001b[49m\n",
      "File \u001b[0;32m~/frostmourne/recsys-mvp/.venv/lib/python3.11/site-packages/torch/nn/modules/module.py:1562\u001b[0m, in \u001b[0;36mModule._call_impl\u001b[0;34m(self, *args, **kwargs)\u001b[0m\n\u001b[1;32m   1557\u001b[0m \u001b[38;5;66;03m# If we don't have any hooks, we want to skip the rest of the logic in\u001b[39;00m\n\u001b[1;32m   1558\u001b[0m \u001b[38;5;66;03m# this function, and just call forward.\u001b[39;00m\n\u001b[1;32m   1559\u001b[0m \u001b[38;5;28;01mif\u001b[39;00m \u001b[38;5;129;01mnot\u001b[39;00m (\u001b[38;5;28mself\u001b[39m\u001b[38;5;241m.\u001b[39m_backward_hooks \u001b[38;5;129;01mor\u001b[39;00m \u001b[38;5;28mself\u001b[39m\u001b[38;5;241m.\u001b[39m_backward_pre_hooks \u001b[38;5;129;01mor\u001b[39;00m \u001b[38;5;28mself\u001b[39m\u001b[38;5;241m.\u001b[39m_forward_hooks \u001b[38;5;129;01mor\u001b[39;00m \u001b[38;5;28mself\u001b[39m\u001b[38;5;241m.\u001b[39m_forward_pre_hooks\n\u001b[1;32m   1560\u001b[0m         \u001b[38;5;129;01mor\u001b[39;00m _global_backward_pre_hooks \u001b[38;5;129;01mor\u001b[39;00m _global_backward_hooks\n\u001b[1;32m   1561\u001b[0m         \u001b[38;5;129;01mor\u001b[39;00m _global_forward_hooks \u001b[38;5;129;01mor\u001b[39;00m _global_forward_pre_hooks):\n\u001b[0;32m-> 1562\u001b[0m     \u001b[38;5;28;01mreturn\u001b[39;00m \u001b[43mforward_call\u001b[49m\u001b[43m(\u001b[49m\u001b[38;5;241;43m*\u001b[39;49m\u001b[43margs\u001b[49m\u001b[43m,\u001b[49m\u001b[43m \u001b[49m\u001b[38;5;241;43m*\u001b[39;49m\u001b[38;5;241;43m*\u001b[39;49m\u001b[43mkwargs\u001b[49m\u001b[43m)\u001b[49m\n\u001b[1;32m   1564\u001b[0m \u001b[38;5;28;01mtry\u001b[39;00m:\n\u001b[1;32m   1565\u001b[0m     result \u001b[38;5;241m=\u001b[39m \u001b[38;5;28;01mNone\u001b[39;00m\n",
      "File \u001b[0;32m~/frostmourne/recsys-mvp/.venv/lib/python3.11/site-packages/torch/nn/modules/container.py:219\u001b[0m, in \u001b[0;36mSequential.forward\u001b[0;34m(self, input)\u001b[0m\n\u001b[1;32m    217\u001b[0m \u001b[38;5;28;01mdef\u001b[39;00m \u001b[38;5;21mforward\u001b[39m(\u001b[38;5;28mself\u001b[39m, \u001b[38;5;28minput\u001b[39m):\n\u001b[1;32m    218\u001b[0m     \u001b[38;5;28;01mfor\u001b[39;00m module \u001b[38;5;129;01min\u001b[39;00m \u001b[38;5;28mself\u001b[39m:\n\u001b[0;32m--> 219\u001b[0m         \u001b[38;5;28minput\u001b[39m \u001b[38;5;241m=\u001b[39m \u001b[43mmodule\u001b[49m\u001b[43m(\u001b[49m\u001b[38;5;28;43minput\u001b[39;49m\u001b[43m)\u001b[49m\n\u001b[1;32m    220\u001b[0m     \u001b[38;5;28;01mreturn\u001b[39;00m \u001b[38;5;28minput\u001b[39m\n",
      "File \u001b[0;32m~/frostmourne/recsys-mvp/.venv/lib/python3.11/site-packages/torch/nn/modules/module.py:1553\u001b[0m, in \u001b[0;36mModule._wrapped_call_impl\u001b[0;34m(self, *args, **kwargs)\u001b[0m\n\u001b[1;32m   1551\u001b[0m     \u001b[38;5;28;01mreturn\u001b[39;00m \u001b[38;5;28mself\u001b[39m\u001b[38;5;241m.\u001b[39m_compiled_call_impl(\u001b[38;5;241m*\u001b[39margs, \u001b[38;5;241m*\u001b[39m\u001b[38;5;241m*\u001b[39mkwargs)  \u001b[38;5;66;03m# type: ignore[misc]\u001b[39;00m\n\u001b[1;32m   1552\u001b[0m \u001b[38;5;28;01melse\u001b[39;00m:\n\u001b[0;32m-> 1553\u001b[0m     \u001b[38;5;28;01mreturn\u001b[39;00m \u001b[38;5;28;43mself\u001b[39;49m\u001b[38;5;241;43m.\u001b[39;49m\u001b[43m_call_impl\u001b[49m\u001b[43m(\u001b[49m\u001b[38;5;241;43m*\u001b[39;49m\u001b[43margs\u001b[49m\u001b[43m,\u001b[49m\u001b[43m \u001b[49m\u001b[38;5;241;43m*\u001b[39;49m\u001b[38;5;241;43m*\u001b[39;49m\u001b[43mkwargs\u001b[49m\u001b[43m)\u001b[49m\n",
      "File \u001b[0;32m~/frostmourne/recsys-mvp/.venv/lib/python3.11/site-packages/torch/nn/modules/module.py:1562\u001b[0m, in \u001b[0;36mModule._call_impl\u001b[0;34m(self, *args, **kwargs)\u001b[0m\n\u001b[1;32m   1557\u001b[0m \u001b[38;5;66;03m# If we don't have any hooks, we want to skip the rest of the logic in\u001b[39;00m\n\u001b[1;32m   1558\u001b[0m \u001b[38;5;66;03m# this function, and just call forward.\u001b[39;00m\n\u001b[1;32m   1559\u001b[0m \u001b[38;5;28;01mif\u001b[39;00m \u001b[38;5;129;01mnot\u001b[39;00m (\u001b[38;5;28mself\u001b[39m\u001b[38;5;241m.\u001b[39m_backward_hooks \u001b[38;5;129;01mor\u001b[39;00m \u001b[38;5;28mself\u001b[39m\u001b[38;5;241m.\u001b[39m_backward_pre_hooks \u001b[38;5;129;01mor\u001b[39;00m \u001b[38;5;28mself\u001b[39m\u001b[38;5;241m.\u001b[39m_forward_hooks \u001b[38;5;129;01mor\u001b[39;00m \u001b[38;5;28mself\u001b[39m\u001b[38;5;241m.\u001b[39m_forward_pre_hooks\n\u001b[1;32m   1560\u001b[0m         \u001b[38;5;129;01mor\u001b[39;00m _global_backward_pre_hooks \u001b[38;5;129;01mor\u001b[39;00m _global_backward_hooks\n\u001b[1;32m   1561\u001b[0m         \u001b[38;5;129;01mor\u001b[39;00m _global_forward_hooks \u001b[38;5;129;01mor\u001b[39;00m _global_forward_pre_hooks):\n\u001b[0;32m-> 1562\u001b[0m     \u001b[38;5;28;01mreturn\u001b[39;00m \u001b[43mforward_call\u001b[49m\u001b[43m(\u001b[49m\u001b[38;5;241;43m*\u001b[39;49m\u001b[43margs\u001b[49m\u001b[43m,\u001b[49m\u001b[43m \u001b[49m\u001b[38;5;241;43m*\u001b[39;49m\u001b[38;5;241;43m*\u001b[39;49m\u001b[43mkwargs\u001b[49m\u001b[43m)\u001b[49m\n\u001b[1;32m   1564\u001b[0m \u001b[38;5;28;01mtry\u001b[39;00m:\n\u001b[1;32m   1565\u001b[0m     result \u001b[38;5;241m=\u001b[39m \u001b[38;5;28;01mNone\u001b[39;00m\n",
      "File \u001b[0;32m~/frostmourne/recsys-mvp/.venv/lib/python3.11/site-packages/torch/nn/modules/linear.py:117\u001b[0m, in \u001b[0;36mLinear.forward\u001b[0;34m(self, input)\u001b[0m\n\u001b[1;32m    116\u001b[0m \u001b[38;5;28;01mdef\u001b[39;00m \u001b[38;5;21mforward\u001b[39m(\u001b[38;5;28mself\u001b[39m, \u001b[38;5;28minput\u001b[39m: Tensor) \u001b[38;5;241m-\u001b[39m\u001b[38;5;241m>\u001b[39m Tensor:\n\u001b[0;32m--> 117\u001b[0m     \u001b[38;5;28;01mreturn\u001b[39;00m \u001b[43mF\u001b[49m\u001b[38;5;241;43m.\u001b[39;49m\u001b[43mlinear\u001b[49m\u001b[43m(\u001b[49m\u001b[38;5;28;43minput\u001b[39;49m\u001b[43m,\u001b[49m\u001b[43m \u001b[49m\u001b[38;5;28;43mself\u001b[39;49m\u001b[38;5;241;43m.\u001b[39;49m\u001b[43mweight\u001b[49m\u001b[43m,\u001b[49m\u001b[43m \u001b[49m\u001b[38;5;28;43mself\u001b[39;49m\u001b[38;5;241;43m.\u001b[39;49m\u001b[43mbias\u001b[49m\u001b[43m)\u001b[49m\n",
      "\u001b[0;31mRuntimeError\u001b[0m: mat1 and mat2 shapes cannot be multiplied (18520x153 and 921x128)"
     ]
    }
   ],
   "source": [
    "# papermill_description=fit-model\n",
    "early_stopping = EarlyStopping(\n",
    "    monitor=\"val_loss\", patience=args.early_stopping_patience, mode=\"min\", verbose=False\n",
    ")\n",
    "\n",
    "checkpoint_callback = ModelCheckpoint(\n",
    "    dirpath=f\"{args.notebook_persist_dp}/checkpoints\",\n",
    "    filename=\"best-checkpoint\",\n",
    "    save_top_k=1,\n",
    "    monitor=\"val_loss\",\n",
    "    mode=\"min\",\n",
    ")\n",
    "\n",
    "model = init_model(\n",
    "    n_users,\n",
    "    n_items,\n",
    "    args.embedding_dim,\n",
    "    item_feature_size,\n",
    "    dropout=args.dropout,\n",
    "    item_embedding=pretrained_item_embedding,\n",
    ")\n",
    "lit_model = LitRanker(\n",
    "    model,\n",
    "    learning_rate=args.learning_rate,\n",
    "    l2_reg=args.l2_reg,\n",
    "    log_dir=args.notebook_persist_dp,\n",
    "    evaluate_ranking=True,\n",
    "    idm=idm,\n",
    "    item_metadata_pipeline=item_metadata_pipeline,\n",
    "    args=args,\n",
    "    neg_to_pos_ratio=args.neg_to_pos_ratio,\n",
    ")\n",
    "\n",
    "log_dir = f\"{args.notebook_persist_dp}/logs/run\"\n",
    "\n",
    "# train model\n",
    "trainer = L.Trainer(\n",
    "    default_root_dir=log_dir,\n",
    "    max_epochs=args.max_epochs,\n",
    "    callbacks=[early_stopping, checkpoint_callback],\n",
    "    accelerator=args.device if args.device else \"auto\",\n",
    "    logger=args._mlf_logger if args.log_to_mlflow else None,\n",
    ")\n",
    "trainer.fit(\n",
    "    model=lit_model,\n",
    "    train_dataloaders=train_loader,\n",
    "    val_dataloaders=val_loader,\n",
    ")"
   ]
  },
  {
   "cell_type": "code",
   "execution_count": null,
   "id": "af44bf35-e7c7-4718-97b8-238e89b7f3f0",
   "metadata": {
    "editable": true,
    "scrolled": true,
    "slideshow": {
     "slide_type": ""
    },
    "tags": []
   },
   "outputs": [],
   "source": [
    "logger.info(\n",
    "    f\"Test predicting after training with {args.user_col} = {user_id} and {args.item_col} = {item_id}\"\n",
    ")\n",
    "model.eval()\n",
    "model.predict(user, item_sequence, item_feature, item)"
   ]
  },
  {
   "cell_type": "markdown",
   "id": "f8e1dd22-bcb9-4582-96d0-30acc4e8b790",
   "metadata": {
    "editable": true,
    "slideshow": {
     "slide_type": ""
    },
    "tags": []
   },
   "source": [
    "# Load best checkpoint"
   ]
  },
  {
   "cell_type": "code",
   "execution_count": null,
   "id": "092427a8-ac4e-4752-a0ee-10729b6e563c",
   "metadata": {
    "scrolled": true
   },
   "outputs": [],
   "source": [
    "logger.info(f\"Loading best checkpoint from {checkpoint_callback.best_model_path}...\")\n",
    "args.best_checkpoint_path = checkpoint_callback.best_model_path\n",
    "\n",
    "best_trainer = LitRanker.load_from_checkpoint(\n",
    "    checkpoint_callback.best_model_path,\n",
    "    model=init_model(\n",
    "        n_users, n_items, args.embedding_dim, item_feature_size, dropout=0\n",
    "    ),\n",
    ")"
   ]
  },
  {
   "cell_type": "code",
   "execution_count": null,
   "id": "e68989e7-cd28-4cb3-9a28-5bd477bb67c4",
   "metadata": {},
   "outputs": [],
   "source": [
    "best_model = best_trainer.model.to(lit_model.device)"
   ]
  },
  {
   "cell_type": "code",
   "execution_count": null,
   "id": "72062d94-6ee8-480f-b7c6-9dcae2ceeb8b",
   "metadata": {
    "scrolled": true
   },
   "outputs": [],
   "source": [
    "best_model.eval()\n",
    "best_model.predict(user, item_sequence, item_feature, item)"
   ]
  },
  {
   "cell_type": "markdown",
   "id": "26afc39d-5cbd-4ea4-9484-f6419b460bde",
   "metadata": {
    "scrolled": true
   },
   "source": [
    "### Persist id mapping"
   ]
  },
  {
   "cell_type": "code",
   "execution_count": null,
   "id": "275bcb81-bf50-4757-9e63-5c7a317b276f",
   "metadata": {},
   "outputs": [],
   "source": [
    "if args.log_to_mlflow:\n",
    "    # Persist id_mapping so that at inference we can predict based on item_ids (string) instead of item_index\n",
    "    run_id = trainer.logger.run_id\n",
    "    mlf_client = trainer.logger.experiment\n",
    "    mlf_client.log_artifact(run_id, idm_fp)\n",
    "    # Persist item_feature_metadata pipeline\n",
    "    mlf_client.log_artifact(run_id, args.item_metadata_pipeline_fp)"
   ]
  },
  {
   "cell_type": "markdown",
   "id": "73a53735-cada-4b16-b6ec-b958e20d8093",
   "metadata": {},
   "source": [
    "### Wrap inference function and register best checkpoint as MLflow model"
   ]
  },
  {
   "cell_type": "code",
   "execution_count": null,
   "id": "fc1da4ca-1616-4f57-99fb-cb851c535a57",
   "metadata": {},
   "outputs": [],
   "source": [
    "inferrer = RankerInferenceWrapper(best_model)"
   ]
  },
  {
   "cell_type": "code",
   "execution_count": null,
   "id": "a21791a9-d5fc-4abe-bc3c-820aba9f0759",
   "metadata": {},
   "outputs": [],
   "source": [
    "sample_input = {\n",
    "    \"user_ids\": [idm.get_user_id(0)],\n",
    "    \"item_sequences\": [[idm.get_item_id(0), idm.get_item_id(1)]],\n",
    "    **{col: [train_df[col].iloc[0]] for col in args.item_feature_cols},\n",
    "    \"item_ids\": [idm.get_item_id(0)],\n",
    "}\n",
    "sample_output = inferrer.infer([0], [[0, 1]], [train_item_features[0]], [0])\n",
    "sample_output"
   ]
  },
  {
   "cell_type": "code",
   "execution_count": null,
   "id": "b24b5cf4-5e51-4641-bdfe-6ce289344bf6",
   "metadata": {},
   "outputs": [],
   "source": [
    "sample_input"
   ]
  },
  {
   "cell_type": "code",
   "execution_count": null,
   "id": "de2c043a-f777-4ade-ab80-cfa4d90aafa8",
   "metadata": {
    "scrolled": true
   },
   "outputs": [],
   "source": [
    "if args.log_to_mlflow:\n",
    "    run_id = trainer.logger.run_id\n",
    "    sample_output_np = sample_output\n",
    "    signature = infer_signature(sample_input, sample_output_np)\n",
    "    idm_filename = idm_fp.split(\"/\")[-1]\n",
    "    item_metadata_pipeline_filename = args.item_metadata_pipeline_fp.split(\"/\")[-1]\n",
    "    with mlflow.start_run(run_id=run_id):\n",
    "        mlflow.pyfunc.log_model(\n",
    "            python_model=inferrer,\n",
    "            artifact_path=\"inferrer\",\n",
    "            # We log the id_mapping to the predict function so that it can accept item_id and automatically convert ot item_indice for PyTorch model to use\n",
    "            artifacts={\n",
    "                \"idm\": mlflow.get_artifact_uri(idm_filename),\n",
    "                \"item_metadata_pipeline\": mlflow.get_artifact_uri(\n",
    "                    item_metadata_pipeline_filename\n",
    "                ),\n",
    "            },\n",
    "            signature=signature,\n",
    "            input_example=sample_input,\n",
    "            registered_model_name=args.mlf_model_name,\n",
    "        )"
   ]
  },
  {
   "cell_type": "markdown",
   "id": "f95d5150-9851-4e61-b1af-8e619abc9ea4",
   "metadata": {},
   "source": [
    "# Set the newly trained model as champion"
   ]
  },
  {
   "cell_type": "code",
   "execution_count": null,
   "id": "cbf6428a-bc47-400a-99ac-666abfa4ce63",
   "metadata": {},
   "outputs": [],
   "source": [
    "if args.log_to_mlflow:\n",
    "    val_roc_auc = trainer.logger.experiment.get_run(trainer.logger.run_id).data.metrics[\n",
    "        \"val_roc_auc\"\n",
    "    ]\n",
    "\n",
    "    if val_roc_auc > args.min_roc_auc:\n",
    "        logger.info(f\"Aliasing the new model as champion...\")\n",
    "        model_version = (\n",
    "            mlf_client.get_registered_model(args.mlf_model_name)\n",
    "            .latest_versions[0]\n",
    "            .version\n",
    "        )\n",
    "\n",
    "        mlf_client.set_registered_model_alias(\n",
    "            name=args.mlf_model_name, alias=\"champion\", version=model_version\n",
    "        )\n",
    "\n",
    "        mlf_client.set_model_version_tag(\n",
    "            name=args.mlf_model_name,\n",
    "            version=model_version,\n",
    "            key=\"author\",\n",
    "            value=\"quy.dinh\",\n",
    "        )"
   ]
  },
  {
   "cell_type": "markdown",
   "id": "32096360-c26a-42de-9564-30634fb76eeb",
   "metadata": {},
   "source": [
    "# Clean up"
   ]
  },
  {
   "cell_type": "code",
   "execution_count": null,
   "id": "e98c6850-e4de-43fa-b132-0b97f138a0ed",
   "metadata": {
    "scrolled": true
   },
   "outputs": [],
   "source": [
    "all_params = [args]\n",
    "\n",
    "if args.log_to_mlflow:\n",
    "    with mlflow.start_run(run_id=run_id):\n",
    "        for params in all_params:\n",
    "            params_dict = params.dict()\n",
    "            params_ = dict()\n",
    "            for k, v in params_dict.items():\n",
    "                if k == \"top_K\":\n",
    "                    k = \"top_big_K\"\n",
    "                if k == \"top_k\":\n",
    "                    k = \"top_small_k\"\n",
    "                params_[f\"{params.__repr_name__()}.{k}\"] = v\n",
    "            mlflow.log_params(params_)"
   ]
  },
  {
   "cell_type": "code",
   "execution_count": null,
   "id": "30cff81a-484e-4919-be8f-0351cce91a75",
   "metadata": {},
   "outputs": [],
   "source": []
  }
 ],
 "metadata": {
  "kernelspec": {
   "display_name": "Python 3 (ipykernel)",
   "language": "python",
   "name": "python3"
  },
  "language_info": {
   "codemirror_mode": {
    "name": "ipython",
    "version": 3
   },
   "file_extension": ".py",
   "mimetype": "text/x-python",
   "name": "python",
   "nbconvert_exporter": "python",
   "pygments_lexer": "ipython3",
   "version": "3.11.9"
  }
 },
 "nbformat": 4,
 "nbformat_minor": 5
}
