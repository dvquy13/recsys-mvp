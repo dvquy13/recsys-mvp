{
 "cells": [
  {
   "cell_type": "markdown",
   "id": "3bf1577c-6f3b-4b1c-a848-8f5e45ff8111",
   "metadata": {},
   "source": [
    "# Ranker that can takes into accound different features"
   ]
  },
  {
   "cell_type": "markdown",
   "id": "9309e017-0449-46ee-b7ca-4c4bcadeedf6",
   "metadata": {},
   "source": [
    "# Set up"
   ]
  },
  {
   "cell_type": "code",
   "execution_count": 1,
   "id": "3c8f6e8d-f776-4d39-898c-d783c5ae3407",
   "metadata": {},
   "outputs": [],
   "source": [
    "%load_ext autoreload\n",
    "%autoreload 2\n",
    "%load_ext tensorboard"
   ]
  },
  {
   "cell_type": "code",
   "execution_count": 2,
   "id": "35b3499d-dc9c-405a-8714-a26341b581e1",
   "metadata": {
    "editable": true,
    "slideshow": {
     "slide_type": ""
    },
    "tags": []
   },
   "outputs": [],
   "source": [
    "import os\n",
    "import sys\n",
    "\n",
    "import dill\n",
    "import lightning as L\n",
    "import numpy as np\n",
    "import pandas as pd\n",
    "import torch\n",
    "from dotenv import load_dotenv\n",
    "from lightning.pytorch.callbacks import ModelCheckpoint\n",
    "from lightning.pytorch.callbacks.early_stopping import EarlyStopping\n",
    "from lightning.pytorch.loggers import MLFlowLogger\n",
    "from loguru import logger\n",
    "from mlflow.models.signature import infer_signature\n",
    "from pydantic import BaseModel\n",
    "from torch.utils.data import DataLoader\n",
    "\n",
    "import mlflow\n",
    "\n",
    "load_dotenv()\n",
    "\n",
    "sys.path.insert(0, \"..\")\n",
    "\n",
    "from cfg.run_cfg import RunCfg\n",
    "from src.ann import AnnIndex\n",
    "from src.data_prep_utils import chunk_transform\n",
    "from src.dataset import UserItemBinaryDFDataset\n",
    "from src.id_mapper import IDMapper\n",
    "from src.ranker.inference import RankerInferenceWrapper\n",
    "from src.ranker.model import Ranker\n",
    "from src.ranker.trainer import LitRanker\n",
    "from src.viz import blueq_colors"
   ]
  },
  {
   "cell_type": "markdown",
   "id": "fd804021-3424-48e0-973a-e662a72db544",
   "metadata": {},
   "source": [
    "# Controller"
   ]
  },
  {
   "cell_type": "code",
   "execution_count": 3,
   "id": "ce522d9e-f35c-4cc5-a71e-68447956b31f",
   "metadata": {
    "editable": true,
    "slideshow": {
     "slide_type": ""
    },
    "tags": [
     "parameters"
    ]
   },
   "outputs": [],
   "source": [
    "max_epochs = 100"
   ]
  },
  {
   "cell_type": "code",
   "execution_count": 4,
   "id": "ea4e9a93-5b6a-4dec-97f0-b9aa3383c64d",
   "metadata": {
    "scrolled": true
   },
   "outputs": [
    {
     "name": "stderr",
     "output_type": "stream",
     "text": [
      "\u001b[32m2024-11-10 19:23:55.703\u001b[0m | \u001b[34m\u001b[1mDEBUG   \u001b[0m | \u001b[36mcfg.run_cfg\u001b[0m:\u001b[36minit\u001b[0m:\u001b[36m36\u001b[0m - \u001b[34m\u001b[1mSetting use_sbert_features=True requires running notebook 016-sentence-transformers\u001b[0m\n",
      "\u001b[32m2024-11-10 19:23:55.704\u001b[0m | \u001b[34m\u001b[1mDEBUG   \u001b[0m | \u001b[36mcfg.run_cfg\u001b[0m:\u001b[36minit\u001b[0m:\u001b[36m40\u001b[0m - \u001b[34m\u001b[1mSetting use_item_tags_from_llm=True requires running notebook 040-retrieve-item-tags-from-llm\u001b[0m\n",
      "\u001b[32m2024-11-10 19:23:55.704\u001b[0m | \u001b[34m\u001b[1mDEBUG   \u001b[0m | \u001b[36mcfg.run_cfg\u001b[0m:\u001b[36minit\u001b[0m:\u001b[36m43\u001b[0m - \u001b[34m\u001b[1mChanging use_item_tags_from_llm requires re-running notebook 002-features-v2 to get the new item_metadata_pipeline.dill file\u001b[0m\n",
      "\u001b[32m2024-11-10 19:23:55.707\u001b[0m | \u001b[1mINFO    \u001b[0m | \u001b[36m__main__\u001b[0m:\u001b[36minit\u001b[0m:\u001b[36m61\u001b[0m - \u001b[1mSetting up MLflow experiment RecSys MVP - Ranker - run 037-add-llm-item-tags...\u001b[0m\n"
     ]
    },
    {
     "name": "stdout",
     "output_type": "stream",
     "text": [
      "{\n",
      "  \"testing\": false,\n",
      "  \"author\": \"quy.dinh\",\n",
      "  \"log_to_mlflow\": true,\n",
      "  \"experiment_name\": \"RecSys MVP - Ranker\",\n",
      "  \"run_name\": \"037-add-llm-item-tags\",\n",
      "  \"notebook_persist_dp\": \"/home/dvquys/frostmourne/recsys-mvp/notebooks/data/037-add-llm-item-tags\",\n",
      "  \"random_seed\": 41,\n",
      "  \"device\": \"cuda\",\n",
      "  \"rc\": {\n",
      "    \"use_sbert_features\": true,\n",
      "    \"use_item_tags_from_llm\": true,\n",
      "    \"item_feature_cols\": [\n",
      "      \"main_category\",\n",
      "      \"categories\",\n",
      "      \"price\",\n",
      "      \"parent_asin_rating_cnt_365d\",\n",
      "      \"parent_asin_rating_avg_prev_rating_365d\",\n",
      "      \"parent_asin_rating_cnt_90d\",\n",
      "      \"parent_asin_rating_avg_prev_rating_90d\",\n",
      "      \"parent_asin_rating_cnt_30d\",\n",
      "      \"parent_asin_rating_avg_prev_rating_30d\",\n",
      "      \"parent_asin_rating_cnt_7d\",\n",
      "      \"parent_asin_rating_avg_prev_rating_7d\",\n",
      "      \"tags\"\n",
      "    ],\n",
      "    \"item_tags_from_llm_fp\": \"../data/item_tags_from_llm.parquet\"\n",
      "  },\n",
      "  \"item_metadata_pipeline_fp\": \"../data/item_metadata_pipeline.dill\",\n",
      "  \"qdrant_url\": \"localhost:6333\",\n",
      "  \"qdrant_collection_name\": \"item_desc_sbert\",\n",
      "  \"max_epochs\": 100,\n",
      "  \"batch_size\": 128,\n",
      "  \"tfm_chunk_size\": 10000,\n",
      "  \"neg_to_pos_ratio\": 1,\n",
      "  \"user_col\": \"user_id\",\n",
      "  \"item_col\": \"parent_asin\",\n",
      "  \"rating_col\": \"rating\",\n",
      "  \"timestamp_col\": \"timestamp\",\n",
      "  \"top_K\": 100,\n",
      "  \"top_k\": 10,\n",
      "  \"embedding_dim\": 128,\n",
      "  \"item_sequence_ts_bucket_size\": 10,\n",
      "  \"bucket_embedding_dim\": 16,\n",
      "  \"dropout\": 0.3,\n",
      "  \"early_stopping_patience\": 5,\n",
      "  \"learning_rate\": 0.0003,\n",
      "  \"l2_reg\": 0.0001,\n",
      "  \"mlf_item2vec_model_name\": \"item2vec\",\n",
      "  \"mlf_model_name\": \"ranker\",\n",
      "  \"min_roc_auc\": 0.7,\n",
      "  \"best_checkpoint_path\": null\n",
      "}\n"
     ]
    }
   ],
   "source": [
    "class Args(BaseModel):\n",
    "    testing: bool = False\n",
    "    author: str = \"quy.dinh\"\n",
    "    log_to_mlflow: bool = True\n",
    "    experiment_name: str = \"RecSys MVP - Ranker\"\n",
    "    run_name: str = \"037-add-llm-item-tags\"\n",
    "    notebook_persist_dp: str = None\n",
    "    random_seed: int = 41\n",
    "    device: str = None\n",
    "\n",
    "    rc: RunCfg = RunCfg().init()\n",
    "\n",
    "    item_metadata_pipeline_fp: str = \"../data/item_metadata_pipeline.dill\"\n",
    "    qdrant_url: str = None\n",
    "    qdrant_collection_name: str = \"item_desc_sbert\"\n",
    "\n",
    "    max_epochs: int = max_epochs\n",
    "    batch_size: int = 128\n",
    "    tfm_chunk_size: int = 10000\n",
    "    neg_to_pos_ratio: int = 1\n",
    "\n",
    "    user_col: str = \"user_id\"\n",
    "    item_col: str = \"parent_asin\"\n",
    "    rating_col: str = \"rating\"\n",
    "    timestamp_col: str = \"timestamp\"\n",
    "\n",
    "    top_K: int = 100\n",
    "    top_k: int = 10\n",
    "\n",
    "    embedding_dim: int = 128\n",
    "    item_sequence_ts_bucket_size: int = 10\n",
    "    bucket_embedding_dim: int = 16\n",
    "    dropout: float = 0.3\n",
    "    early_stopping_patience: int = 5\n",
    "    learning_rate: float = 0.0003\n",
    "    l2_reg: float = 1e-4\n",
    "\n",
    "    mlf_item2vec_model_name: str = \"item2vec\"\n",
    "    mlf_model_name: str = \"ranker\"\n",
    "    min_roc_auc: float = 0.7\n",
    "\n",
    "    best_checkpoint_path: str = None\n",
    "\n",
    "    def init(self):\n",
    "        self.notebook_persist_dp = os.path.abspath(f\"data/{self.run_name}\")\n",
    "        os.makedirs(self.notebook_persist_dp, exist_ok=True)\n",
    "\n",
    "        if not (qdrant_host := os.getenv(\"QDRANT_HOST\")):\n",
    "            raise Exception(f\"Environment variable QDRANT_HOST is not set.\")\n",
    "\n",
    "        qdrant_port = os.getenv(\"QDRANT_PORT\")\n",
    "        self.qdrant_url = f\"{qdrant_host}:{qdrant_port}\"\n",
    "\n",
    "        if not (mlflow_uri := os.environ.get(\"MLFLOW_TRACKING_URI\")):\n",
    "            logger.warning(\n",
    "                f\"Environment variable MLFLOW_TRACKING_URI is not set. Setting self.log_to_mlflow to false.\"\n",
    "            )\n",
    "            self.log_to_mlflow = False\n",
    "\n",
    "        if self.log_to_mlflow:\n",
    "            logger.info(\n",
    "                f\"Setting up MLflow experiment {self.experiment_name} - run {self.run_name}...\"\n",
    "            )\n",
    "            self._mlf_logger = MLFlowLogger(\n",
    "                experiment_name=self.experiment_name,\n",
    "                run_name=self.run_name,\n",
    "                tracking_uri=mlflow_uri,\n",
    "                log_model=True,\n",
    "            )\n",
    "\n",
    "        if self.device is None:\n",
    "            self.device = (\n",
    "                \"cuda\"\n",
    "                if torch.cuda.is_available()\n",
    "                else \"mps\" if torch.backends.mps.is_available() else \"cpu\"\n",
    "            )\n",
    "\n",
    "        return self\n",
    "\n",
    "\n",
    "args = Args().init()\n",
    "\n",
    "print(args.model_dump_json(indent=2))"
   ]
  },
  {
   "cell_type": "markdown",
   "id": "a5acedcb-89e6-41c6-8969-bf3437fc7898",
   "metadata": {},
   "source": [
    "# Implement"
   ]
  },
  {
   "cell_type": "code",
   "execution_count": 5,
   "id": "5a34cb5b-c7db-4b95-952b-5f4cb2e1a04d",
   "metadata": {},
   "outputs": [],
   "source": [
    "def init_model(\n",
    "    n_users,\n",
    "    n_items,\n",
    "    embedding_dim,\n",
    "    item_sequence_ts_bucket_size,\n",
    "    bucket_embedding_dim,\n",
    "    item_feature_size,\n",
    "    dropout,\n",
    "    item_embedding=None,\n",
    "):\n",
    "    model = Ranker(\n",
    "        n_users,\n",
    "        n_items,\n",
    "        embedding_dim,\n",
    "        item_sequence_ts_bucket_size=item_sequence_ts_bucket_size,\n",
    "        bucket_embedding_dim=bucket_embedding_dim,\n",
    "        item_feature_size=item_feature_size,\n",
    "        dropout=dropout,\n",
    "        item_embedding=item_embedding,\n",
    "    )\n",
    "    return model"
   ]
  },
  {
   "cell_type": "markdown",
   "id": "c49b92fb-3b4c-482f-a584-62288873d8c3",
   "metadata": {},
   "source": [
    "## Load pretrained Item2Vec embeddings"
   ]
  },
  {
   "cell_type": "code",
   "execution_count": 6,
   "id": "35cfc84a-75bb-4973-b619-194cc8698ee2",
   "metadata": {
    "scrolled": true
   },
   "outputs": [
    {
     "data": {
      "application/vnd.jupyter.widget-view+json": {
       "model_id": "4fd3da169ca04c5bb45a5871ecf3cfc2",
       "version_major": 2,
       "version_minor": 0
      },
      "text/plain": [
       "Downloading artifacts:   0%|          | 0/8 [00:00<?, ?it/s]"
      ]
     },
     "metadata": {},
     "output_type": "display_data"
    }
   ],
   "source": [
    "mlf_client = mlflow.MlflowClient()\n",
    "model = mlflow.pyfunc.load_model(\n",
    "    model_uri=f\"models:/{args.mlf_item2vec_model_name}@champion\"\n",
    ")\n",
    "skipgram_model = model.unwrap_python_model().model\n",
    "embedding_0 = skipgram_model.embeddings(torch.tensor(0))\n",
    "embedding_dim = embedding_0.size()[0]\n",
    "id_mapping = model.unwrap_python_model().id_mapping\n",
    "pretrained_item_embedding = skipgram_model.embeddings"
   ]
  },
  {
   "cell_type": "code",
   "execution_count": 7,
   "id": "f3baa82d-859d-4414-8e19-4c7d92750fa3",
   "metadata": {},
   "outputs": [],
   "source": [
    "assert (\n",
    "    pretrained_item_embedding.embedding_dim == args.embedding_dim\n",
    "), \"Mismatch pretrained item_embedding dimension\""
   ]
  },
  {
   "cell_type": "markdown",
   "id": "a43bc0b9-9d56-4cb2-b821-61dd9b9858b1",
   "metadata": {},
   "source": [
    "## Load vectorized item features"
   ]
  },
  {
   "cell_type": "code",
   "execution_count": 8,
   "id": "8ff750e3-fa06-42b4-a5c3-9b93d3c2b536",
   "metadata": {},
   "outputs": [],
   "source": [
    "with open(args.item_metadata_pipeline_fp, \"rb\") as f:\n",
    "    item_metadata_pipeline = dill.load(f)"
   ]
  },
  {
   "cell_type": "markdown",
   "id": "58607871-619d-46a0-9f7d-405e8f500462",
   "metadata": {},
   "source": [
    "## Load ANN Index"
   ]
  },
  {
   "cell_type": "code",
   "execution_count": 9,
   "id": "6e3a82c4-247e-4402-a87b-198c698be866",
   "metadata": {},
   "outputs": [
    {
     "data": {
      "application/vnd.jupyter.widget-view+json": {
       "model_id": "d3070b08623948bc83d62c0f2c330f15",
       "version_major": 2,
       "version_minor": 0
      },
      "text/plain": [
       "  0%|          | 0/1 [00:00<?, ?it/s]"
      ]
     },
     "metadata": {},
     "output_type": "display_data"
    },
    {
     "name": "stderr",
     "output_type": "stream",
     "text": [
      "\u001b[32m2024-11-10 19:23:56.200\u001b[0m | \u001b[1mINFO    \u001b[0m | \u001b[36m__main__\u001b[0m:\u001b[36m<module>\u001b[0m:\u001b[36m5\u001b[0m - \u001b[1msbert_embedding_dim=768\u001b[0m\n"
     ]
    },
    {
     "data": {
      "application/vnd.jupyter.widget-view+json": {
       "model_id": "78d33c38d0094f5da28e9e57361c6ba8",
       "version_major": 2,
       "version_minor": 0
      },
      "text/plain": [
       "  0%|          | 0/1 [00:00<?, ?it/s]"
      ]
     },
     "metadata": {},
     "output_type": "display_data"
    },
    {
     "data": {
      "text/plain": [
       "[ScoredPoint(id=0, version=0, score=0.0, payload={'parent_asin': '0375869026', 'title': 'Wonder'}, vector=None, shard_key=None, order_value=None),\n",
       " ScoredPoint(id=1916, version=59, score=0.3048898, payload={'parent_asin': 'B005GFPZYK', 'title': 'American Sniper: The Autobiography of the Most Lethal Sniper in U.S. Military History'}, vector=None, shard_key=None, order_value=None),\n",
       " ScoredPoint(id=166, version=5, score=0.35464483, payload={'parent_asin': 'B00005OARM', 'title': 'Golden Sun'}, vector=None, shard_key=None, order_value=None),\n",
       " ScoredPoint(id=3845, version=120, score=0.35932326, payload={'parent_asin': 'B0794W1LWG', 'title': 'Life is Strange: Before The Storm Limited Edition - Xbox One'}, vector=None, shard_key=None, order_value=None),\n",
       " ScoredPoint(id=3896, version=121, score=0.36754838, payload={'parent_asin': 'B07CD6F5PX', 'title': 'Dragon Quest Xi: Echoes of An Elusive Age - PlayStation 4'}, vector=None, shard_key=None, order_value=None)]"
      ]
     },
     "metadata": {},
     "output_type": "display_data"
    }
   ],
   "source": [
    "if args.rc.use_sbert_features:\n",
    "    ann_index = AnnIndex(args.qdrant_url, args.qdrant_collection_name)\n",
    "    vector = ann_index.get_vector_by_ids([0])[0]\n",
    "    sbert_embedding_dim = vector.shape[0]\n",
    "    logger.info(f\"{sbert_embedding_dim=}\")\n",
    "    neighbors = ann_index.get_neighbors_by_ids([0])\n",
    "    display(neighbors)"
   ]
  },
  {
   "cell_type": "markdown",
   "id": "377a71da-1ee3-474c-b3f4-4488d2a45dd3",
   "metadata": {},
   "source": [
    "# Test implementation"
   ]
  },
  {
   "cell_type": "code",
   "execution_count": 10,
   "id": "2806284e-20cd-4e8f-a1b9-34483ca094a2",
   "metadata": {
    "scrolled": true
   },
   "outputs": [
    {
     "data": {
      "application/vnd.jupyter.widget-view+json": {
       "model_id": "4675f61e3f024500b331ce062f205bd1",
       "version_major": 2,
       "version_minor": 0
      },
      "text/plain": [
       "  0%|          | 0/1 [00:00<?, ?it/s]"
      ]
     },
     "metadata": {},
     "output_type": "display_data"
    },
    {
     "name": "stdout",
     "output_type": "stream",
     "text": [
      "tensor([[0.4574],\n",
      "        [0.4652],\n",
      "        [0.4525],\n",
      "        [0.5698],\n",
      "        [0.5422]], grad_fn=<SigmoidBackward0>)\n"
     ]
    },
    {
     "data": {
      "text/plain": [
       "Ranker(\n",
       "  (item_embedding): Embedding(6, 8, padding_idx=5)\n",
       "  (user_embedding): Embedding(3, 8)\n",
       "  (item_sequence_ts_bucket_embedding): Embedding(11, 16, padding_idx=10)\n",
       "  (gru): GRU(24, 8, batch_first=True)\n",
       "  (relu): ReLU()\n",
       "  (dropout): Dropout(p=0.3, inplace=False)\n",
       "  (item_feature_tower): Sequential(\n",
       "    (0): Linear(in_features=1229, out_features=8, bias=True)\n",
       "    (1): BatchNorm1d(8, eps=1e-05, momentum=0.1, affine=True, track_running_stats=True)\n",
       "    (2): ReLU()\n",
       "    (3): Dropout(p=0.3, inplace=False)\n",
       "  )\n",
       "  (fc_rating): Sequential(\n",
       "    (0): Linear(in_features=32, out_features=8, bias=True)\n",
       "    (1): BatchNorm1d(8, eps=1e-05, momentum=0.1, affine=True, track_running_stats=True)\n",
       "    (2): ReLU()\n",
       "    (3): Dropout(p=0.3, inplace=False)\n",
       "    (4): Linear(in_features=8, out_features=1, bias=True)\n",
       "    (5): Sigmoid()\n",
       "  )\n",
       ")"
      ]
     },
     "execution_count": 10,
     "metadata": {},
     "output_type": "execute_result"
    }
   ],
   "source": [
    "embedding_dim = 8\n",
    "batch_size = 2\n",
    "\n",
    "# Mock data\n",
    "user_indices = [0, 0, 1, 2, 2]\n",
    "item_indices = [0, 1, 2, 3, 4]\n",
    "timestamps = [0, 1, 2, 3, 4]\n",
    "ratings = [0, 4, 5, 3, 0]\n",
    "item_sequences = [\n",
    "    [-1, -1, 2, 3],\n",
    "    [-1, -1, 2, 3],\n",
    "    [-1, -1, 1, 3],\n",
    "    [-1, -1, 2, 1],\n",
    "    [-1, -1, 2, 1],\n",
    "]\n",
    "item_sequences_ts_buckets = [\n",
    "    [-1, -1, 2, 3],\n",
    "    [-1, -1, 2, 3],\n",
    "    [-1, -1, 1, 3],\n",
    "    [-1, -1, 2, 1],\n",
    "    [-1, -1, 2, 1],\n",
    "]\n",
    "main_category = [\n",
    "    \"All Electronics\",\n",
    "    \"Video Games\",\n",
    "    \"All Electronics\",\n",
    "    \"Video Games\",\n",
    "    \"Unknown\",\n",
    "]\n",
    "categories = [[], [\"Headsets\"], [\"Video Games\"], [], [\"blah blah\"]]\n",
    "tags = categories  # Mock data not important\n",
    "title = [\"World of Warcraft\", \"DotA 2\", \"Diablo IV\", \"Football Manager 2024\", \"Unknown\"]\n",
    "description = [[], [], [\"Video games blah blah\"], [], [\"blah blah\"]]\n",
    "price = [\"from 14.99\", \"14.99\", \"price: 9.99\", \"20 dollars\", \"None\"]\n",
    "parent_asin_rating_cnt_365d = [0, 1, 2, 3, 4]\n",
    "parent_asin_rating_avg_prev_rating_365d = [4.0, 3.5, 4.5, 5.0, 2.0]\n",
    "parent_asin_rating_cnt_90d = [0, 1, 2, 3, 4]\n",
    "parent_asin_rating_avg_prev_rating_90d = [4.0, 3.5, 4.5, 5.0, 2.0]\n",
    "parent_asin_rating_cnt_30d = [0, 1, 2, 3, 4]\n",
    "parent_asin_rating_avg_prev_rating_30d = [4.0, 3.5, 4.5, 5.0, 2.0]\n",
    "parent_asin_rating_cnt_7d = [0, 1, 2, 3, 4]\n",
    "parent_asin_rating_avg_prev_rating_7d = [4.0, 3.5, 4.5, 5.0, 2.0]\n",
    "\n",
    "train_data = {\n",
    "    \"user_indice\": user_indices,\n",
    "    \"item_indice\": item_indices,\n",
    "    args.timestamp_col: timestamps,\n",
    "    args.rating_col: ratings,\n",
    "    \"item_sequence\": item_sequences,\n",
    "    \"item_sequence_ts_bucket\": item_sequences_ts_buckets,\n",
    "    \"main_category\": main_category,\n",
    "    \"title\": title,\n",
    "    \"description\": description,\n",
    "    \"categories\": categories,\n",
    "    \"price\": price,\n",
    "    \"parent_asin_rating_cnt_365d\": parent_asin_rating_cnt_365d,\n",
    "    \"parent_asin_rating_avg_prev_rating_365d\": parent_asin_rating_avg_prev_rating_365d,\n",
    "    \"parent_asin_rating_cnt_90d\": parent_asin_rating_cnt_90d,\n",
    "    \"parent_asin_rating_avg_prev_rating_90d\": parent_asin_rating_avg_prev_rating_90d,\n",
    "    \"parent_asin_rating_cnt_30d\": parent_asin_rating_cnt_30d,\n",
    "    \"parent_asin_rating_avg_prev_rating_30d\": parent_asin_rating_avg_prev_rating_30d,\n",
    "    \"parent_asin_rating_cnt_7d\": parent_asin_rating_cnt_7d,\n",
    "    \"parent_asin_rating_avg_prev_rating_7d\": parent_asin_rating_avg_prev_rating_7d,\n",
    "}\n",
    "\n",
    "if args.rc.use_item_tags_from_llm:\n",
    "    train_data[\"tags\"] = tags\n",
    "\n",
    "train_df = pd.DataFrame(train_data)\n",
    "train_item_features = item_metadata_pipeline.transform(train_df).astype(np.float32)\n",
    "if args.rc.use_sbert_features:\n",
    "    sbert_vectors = ann_index.get_vector_by_ids(\n",
    "        train_df[\"item_indice\"].values.tolist()\n",
    "    ).astype(np.float32)\n",
    "    train_item_features = np.hstack([train_item_features, sbert_vectors])\n",
    "\n",
    "n_users = len(set(user_indices))\n",
    "n_items = len(set(item_indices))\n",
    "item_feature_size = train_item_features.shape[1]\n",
    "\n",
    "model = init_model(\n",
    "    n_users,\n",
    "    n_items,\n",
    "    embedding_dim,\n",
    "    args.item_sequence_ts_bucket_size,\n",
    "    args.bucket_embedding_dim,\n",
    "    item_feature_size,\n",
    "    args.dropout,\n",
    ")\n",
    "\n",
    "# Example forward pass\n",
    "model.eval()\n",
    "users = torch.tensor(user_indices)\n",
    "items = torch.tensor(item_indices)\n",
    "item_sequences = torch.tensor(item_sequences)\n",
    "item_sequences_ts_buckets = torch.tensor(item_sequences_ts_buckets)\n",
    "item_features = torch.tensor(train_item_features)\n",
    "predictions = model.predict(\n",
    "    users, item_sequences, item_sequences_ts_buckets, item_features, items\n",
    ")\n",
    "print(predictions)\n",
    "model.train()"
   ]
  },
  {
   "cell_type": "code",
   "execution_count": 11,
   "id": "0c0b1fea-0376-4624-ad8a-d000208a97f5",
   "metadata": {
    "scrolled": true
   },
   "outputs": [],
   "source": [
    "rating_dataset = UserItemBinaryDFDataset(\n",
    "    train_df,\n",
    "    \"user_indice\",\n",
    "    \"item_indice\",\n",
    "    args.rating_col,\n",
    "    args.timestamp_col,\n",
    "    item_feature=train_item_features,\n",
    ")\n",
    "\n",
    "train_loader = DataLoader(\n",
    "    rating_dataset, batch_size=batch_size, shuffle=False, drop_last=True\n",
    ")"
   ]
  },
  {
   "cell_type": "code",
   "execution_count": 12,
   "id": "2e82d3d1-826a-409b-8440-46e0bd924269",
   "metadata": {
    "scrolled": true
   },
   "outputs": [
    {
     "name": "stdout",
     "output_type": "stream",
     "text": [
      "{'user': tensor([0, 0]), 'item': tensor([0, 1]), 'rating': tensor([0., 1.]), 'item_sequence': tensor([[-1, -1,  2,  3],\n",
      "        [-1, -1,  2,  3]]), 'item_sequence_ts_bucket': tensor([[-1, -1,  2,  3],\n",
      "        [-1, -1,  2,  3]]), 'item_feature': tensor([[-1.4698e-02,  5.6424e+00, -1.4698e-02,  ...,  2.2739e-02,\n",
      "         -2.3894e-02,  1.1594e-03],\n",
      "        [-1.4698e-02, -1.7723e-01, -1.4698e-02,  ..., -2.3171e-03,\n",
      "         -2.9986e-02,  9.9219e-03]])}\n",
      "{'user': tensor([1, 2]), 'item': tensor([2, 3]), 'rating': tensor([1., 1.]), 'item_sequence': tensor([[-1, -1,  1,  3],\n",
      "        [-1, -1,  2,  1]]), 'item_sequence_ts_bucket': tensor([[-1, -1,  1,  3],\n",
      "        [-1, -1,  2,  1]]), 'item_feature': tensor([[-1.4698e-02,  5.6424e+00, -1.4698e-02,  ...,  2.1281e-03,\n",
      "         -3.6321e-02,  4.1318e-04],\n",
      "        [-1.4698e-02, -1.7723e-01, -1.4698e-02,  ..., -4.9983e-03,\n",
      "         -5.8112e-02,  4.0446e-03]])}\n"
     ]
    }
   ],
   "source": [
    "for batch_input in train_loader:\n",
    "    print(batch_input)"
   ]
  },
  {
   "cell_type": "code",
   "execution_count": 13,
   "id": "02cb9ca4-11f1-45a8-911b-ed11c8391944",
   "metadata": {
    "scrolled": true
   },
   "outputs": [
    {
     "data": {
      "application/vnd.jupyter.widget-view+json": {
       "model_id": "856c24ecc70a41cb8a8ffa8c1bbc5005",
       "version_major": 2,
       "version_minor": 0
      },
      "text/plain": [
       "  0%|          | 0/1 [00:00<?, ?it/s]"
      ]
     },
     "metadata": {},
     "output_type": "display_data"
    },
    {
     "name": "stderr",
     "output_type": "stream",
     "text": [
      "GPU available: True (cuda), used: True\n",
      "TPU available: False, using: 0 TPU cores\n",
      "HPU available: False, using: 0 HPUs\n",
      "You are using a CUDA device ('NVIDIA GeForce RTX 4060 Ti') that has Tensor Cores. To properly utilize them, you should set `torch.set_float32_matmul_precision('medium' | 'high')` which will trade-off precision for performance. For more details, read https://pytorch.org/docs/stable/generated/torch.set_float32_matmul_precision.html#torch.set_float32_matmul_precision\n",
      "LOCAL_RANK: 0 - CUDA_VISIBLE_DEVICES: [0]\n",
      "\n",
      "  | Name  | Type   | Params | Mode \n",
      "-----------------------------------------\n",
      "0 | model | Ranker | 11.2 K | train\n",
      "-----------------------------------------\n",
      "11.2 K    Trainable params\n",
      "0         Non-trainable params\n",
      "11.2 K    Total params\n",
      "0.045     Total estimated model params size (MB)\n",
      "15        Modules in train mode\n",
      "0         Modules in eval mode\n"
     ]
    },
    {
     "data": {
      "application/vnd.jupyter.widget-view+json": {
       "model_id": "",
       "version_major": 2,
       "version_minor": 0
      },
      "text/plain": [
       "Sanity Checking: |                                                                                            …"
      ]
     },
     "metadata": {},
     "output_type": "display_data"
    },
    {
     "name": "stderr",
     "output_type": "stream",
     "text": [
      "/home/dvquys/frostmourne/recsys-mvp/.venv/lib/python3.11/site-packages/lightning/pytorch/trainer/connectors/data_connector.py:424: The 'val_dataloader' does not have many workers which may be a bottleneck. Consider increasing the value of the `num_workers` argument` to `num_workers=11` in the `DataLoader` to improve performance.\n",
      "/home/dvquys/frostmourne/recsys-mvp/.venv/lib/python3.11/site-packages/lightning/pytorch/trainer/connectors/data_connector.py:424: The 'train_dataloader' does not have many workers which may be a bottleneck. Consider increasing the value of the `num_workers` argument` to `num_workers=11` in the `DataLoader` to improve performance.\n",
      "/home/dvquys/frostmourne/recsys-mvp/.venv/lib/python3.11/site-packages/lightning/pytorch/loops/fit_loop.py:298: The number of training batches (2) is smaller than the logging interval Trainer(log_every_n_steps=50). Set a lower value for log_every_n_steps if you want to see logs for the training epoch.\n"
     ]
    },
    {
     "data": {
      "application/vnd.jupyter.widget-view+json": {
       "model_id": "441ffaefdd404891929250006d59f969",
       "version_major": 2,
       "version_minor": 0
      },
      "text/plain": [
       "Training: |                                                                                                   …"
      ]
     },
     "metadata": {},
     "output_type": "display_data"
    },
    {
     "data": {
      "application/vnd.jupyter.widget-view+json": {
       "model_id": "",
       "version_major": 2,
       "version_minor": 0
      },
      "text/plain": [
       "Validation: |                                                                                                 …"
      ]
     },
     "metadata": {},
     "output_type": "display_data"
    },
    {
     "data": {
      "application/vnd.jupyter.widget-view+json": {
       "model_id": "",
       "version_major": 2,
       "version_minor": 0
      },
      "text/plain": [
       "Validation: |                                                                                                 …"
      ]
     },
     "metadata": {},
     "output_type": "display_data"
    },
    {
     "name": "stderr",
     "output_type": "stream",
     "text": [
      "`Trainer.fit` stopped: `max_epochs=2` reached.\n",
      "\u001b[32m2024-11-10 19:23:56.726\u001b[0m | \u001b[1mINFO    \u001b[0m | \u001b[36msrc.ranker.trainer\u001b[0m:\u001b[36mon_fit_end\u001b[0m:\u001b[36m171\u001b[0m - \u001b[1mLogging classification metrics...\u001b[0m\n"
     ]
    }
   ],
   "source": [
    "# Prepare all item features for recommendation\n",
    "all_items_df = train_df.drop_duplicates(subset=[\"item_indice\"])\n",
    "all_items_indices = all_items_df[\"item_indice\"].values\n",
    "all_items_features = item_metadata_pipeline.transform(all_items_df).astype(np.float32)\n",
    "if args.rc.use_sbert_features:\n",
    "    all_sbert_vectors = ann_index.get_vector_by_ids(all_items_indices.tolist()).astype(\n",
    "        np.float32\n",
    "    )\n",
    "    all_items_features = np.hstack([all_items_features, all_sbert_vectors])\n",
    "\n",
    "lit_model = LitRanker(\n",
    "    model,\n",
    "    log_dir=args.notebook_persist_dp,\n",
    "    all_items_indices=all_items_indices,\n",
    "    all_items_features=all_items_features,\n",
    ")\n",
    "\n",
    "# train model\n",
    "trainer = L.Trainer(\n",
    "    default_root_dir=f\"{args.notebook_persist_dp}/test\",\n",
    "    max_epochs=2,\n",
    "    accelerator=args.device if args.device else \"auto\",\n",
    ")\n",
    "trainer.fit(\n",
    "    model=lit_model, train_dataloaders=train_loader, val_dataloaders=train_loader\n",
    ")"
   ]
  },
  {
   "cell_type": "code",
   "execution_count": 14,
   "id": "36778ab4-b228-4bb0-bb0d-801ae7c28cd8",
   "metadata": {},
   "outputs": [
    {
     "name": "stdout",
     "output_type": "stream",
     "text": [
      "tensor([[0.4590],\n",
      "        [0.4805],\n",
      "        [0.4564],\n",
      "        [0.5912],\n",
      "        [0.5565]], grad_fn=<SigmoidBackward0>)\n"
     ]
    },
    {
     "data": {
      "text/plain": [
       "Ranker(\n",
       "  (item_embedding): Embedding(6, 8, padding_idx=5)\n",
       "  (user_embedding): Embedding(3, 8)\n",
       "  (item_sequence_ts_bucket_embedding): Embedding(11, 16, padding_idx=10)\n",
       "  (gru): GRU(24, 8, batch_first=True)\n",
       "  (relu): ReLU()\n",
       "  (dropout): Dropout(p=0.3, inplace=False)\n",
       "  (item_feature_tower): Sequential(\n",
       "    (0): Linear(in_features=1229, out_features=8, bias=True)\n",
       "    (1): BatchNorm1d(8, eps=1e-05, momentum=0.1, affine=True, track_running_stats=True)\n",
       "    (2): ReLU()\n",
       "    (3): Dropout(p=0.3, inplace=False)\n",
       "  )\n",
       "  (fc_rating): Sequential(\n",
       "    (0): Linear(in_features=32, out_features=8, bias=True)\n",
       "    (1): BatchNorm1d(8, eps=1e-05, momentum=0.1, affine=True, track_running_stats=True)\n",
       "    (2): ReLU()\n",
       "    (3): Dropout(p=0.3, inplace=False)\n",
       "    (4): Linear(in_features=8, out_features=1, bias=True)\n",
       "    (5): Sigmoid()\n",
       "  )\n",
       ")"
      ]
     },
     "execution_count": 14,
     "metadata": {},
     "output_type": "execute_result"
    }
   ],
   "source": [
    "# After fitting\n",
    "model.eval()\n",
    "predictions = model.predict(\n",
    "    users, item_sequences, item_sequences_ts_buckets, item_features, items\n",
    ")\n",
    "print(predictions)\n",
    "model.train()"
   ]
  },
  {
   "cell_type": "code",
   "execution_count": 15,
   "id": "50fdcf97-6271-406d-81b5-7e91a4c42dec",
   "metadata": {
    "scrolled": true
   },
   "outputs": [
    {
     "data": {
      "application/vnd.jupyter.widget-view+json": {
       "model_id": "86098a08929741e284b2232a35a45c5f",
       "version_major": 2,
       "version_minor": 0
      },
      "text/plain": [
       "Generating recommendations:   0%|          | 0/1 [00:00<?, ?it/s]"
      ]
     },
     "metadata": {},
     "output_type": "display_data"
    },
    {
     "data": {
      "text/plain": [
       "{'user_indice': [2, 2, 1, 1, 0, 0],\n",
       " 'recommendation': [3, 1, 4, 3, 4, 3],\n",
       " 'score': [0.591189444065094,\n",
       "  0.5595508813858032,\n",
       "  0.5168175101280212,\n",
       "  0.4937076270580292,\n",
       "  0.5425406098365784,\n",
       "  0.49553555250167847]}"
      ]
     },
     "execution_count": 15,
     "metadata": {},
     "output_type": "execute_result"
    }
   ],
   "source": [
    "# Get the last row of each item as input for recommendations (containing the most updated item_sequence)\n",
    "to_rec_df = train_df.sort_values(args.timestamp_col, ascending=False).drop_duplicates(\n",
    "    subset=[\"user_indice\"]\n",
    ")\n",
    "recommendations = model.recommend(\n",
    "    torch.tensor(to_rec_df[\"user_indice\"].values.tolist()),\n",
    "    torch.tensor(to_rec_df[\"item_sequence\"].values.tolist()),\n",
    "    torch.tensor(to_rec_df[\"item_sequence_ts_bucket\"].values.tolist()),\n",
    "    torch.tensor(lit_model.all_items_features),\n",
    "    torch.tensor(lit_model.all_items_indices),\n",
    "    k=2,\n",
    "    batch_size=4,\n",
    ")\n",
    "recommendations"
   ]
  },
  {
   "cell_type": "markdown",
   "id": "170dec89-a874-4dce-8f94-07d978fcc5b8",
   "metadata": {},
   "source": [
    "# Prep data"
   ]
  },
  {
   "cell_type": "code",
   "execution_count": 16,
   "id": "83803362-5eaa-40bb-b28b-878316d5db5d",
   "metadata": {},
   "outputs": [],
   "source": [
    "train_df = pd.read_parquet(\"../data/train_features_neg_df.parquet\")\n",
    "val_df = pd.read_parquet(\"../data/val_features_neg_df.parquet\")\n",
    "idm_fp = \"../data/idm.json\"\n",
    "idm = IDMapper().load(idm_fp)\n",
    "\n",
    "assert (\n",
    "    train_df[args.user_col].map(lambda s: idm.get_user_index(s))\n",
    "    != train_df[\"user_indice\"]\n",
    ").sum() == 0, \"Mismatch IDM\"\n",
    "assert (\n",
    "    val_df[args.user_col].map(lambda s: idm.get_user_index(s)) != val_df[\"user_indice\"]\n",
    ").sum() == 0, \"Mismatch IDM\"\n",
    "\n",
    "if args.rc.use_item_tags_from_llm:\n",
    "    assert (\n",
    "        \"tags\" in train_df.columns\n",
    "    ), \"There is no column `tags` in train_df, please make sure you have run notebook 002, 020 with RunCfg.use_item_tags_from_llm=True\""
   ]
  },
  {
   "cell_type": "code",
   "execution_count": 17,
   "id": "a92a8ea7-928c-4656-b92c-2e137d78404a",
   "metadata": {
    "scrolled": true
   },
   "outputs": [
    {
     "data": {
      "text/html": [
       "<div>\n",
       "<style scoped>\n",
       "    .dataframe tbody tr th:only-of-type {\n",
       "        vertical-align: middle;\n",
       "    }\n",
       "\n",
       "    .dataframe tbody tr th {\n",
       "        vertical-align: top;\n",
       "    }\n",
       "\n",
       "    .dataframe thead th {\n",
       "        text-align: right;\n",
       "    }\n",
       "</style>\n",
       "<table border=\"1\" class=\"dataframe\">\n",
       "  <thead>\n",
       "    <tr style=\"text-align: right;\">\n",
       "      <th></th>\n",
       "      <th>user_id</th>\n",
       "      <th>parent_asin</th>\n",
       "      <th>rating</th>\n",
       "      <th>timestamp</th>\n",
       "      <th>timestamp_unix</th>\n",
       "      <th>parent_asin_rating_cnt_365d</th>\n",
       "      <th>parent_asin_rating_avg_prev_rating_365d</th>\n",
       "      <th>parent_asin_rating_cnt_90d</th>\n",
       "      <th>parent_asin_rating_avg_prev_rating_90d</th>\n",
       "      <th>parent_asin_rating_cnt_30d</th>\n",
       "      <th>...</th>\n",
       "      <th>user_rating_list_10_recent_asin_timestamp</th>\n",
       "      <th>item_sequence</th>\n",
       "      <th>item_sequence_ts</th>\n",
       "      <th>item_sequence_ts_bucket</th>\n",
       "      <th>tags</th>\n",
       "      <th>main_category</th>\n",
       "      <th>title</th>\n",
       "      <th>description</th>\n",
       "      <th>categories</th>\n",
       "      <th>price</th>\n",
       "    </tr>\n",
       "  </thead>\n",
       "  <tbody>\n",
       "    <tr>\n",
       "      <th>0</th>\n",
       "      <td>AG57LGJFCNNQJ6P6ABQAVUKXDUDA</td>\n",
       "      <td>B0015AARJI</td>\n",
       "      <td>0.0</td>\n",
       "      <td>2016-01-12 11:59:11.000</td>\n",
       "      <td>NaN</td>\n",
       "      <td>76.0</td>\n",
       "      <td>4.592105</td>\n",
       "      <td>10.0</td>\n",
       "      <td>4.3</td>\n",
       "      <td>3.0</td>\n",
       "      <td>...</td>\n",
       "      <td>1452599936</td>\n",
       "      <td>[-1.0, -1.0, -1.0, -1.0, -1.0, -1.0, -1.0, -1....</td>\n",
       "      <td>[-1, -1, -1, -1, -1, -1, -1, -1, -1, 1452599936]</td>\n",
       "      <td>[-1, -1, -1, -1, -1, -1, -1, -1, -1, 0]</td>\n",
       "      <td>[Controller, Wireless, Gamepad, Ergonomic, Pla...</td>\n",
       "      <td>Video Games</td>\n",
       "      <td>PlayStation 3 Dualshock 3 Wireless Controller ...</td>\n",
       "      <td>[Amazon.com, The Dualshock 3 wireless controll...</td>\n",
       "      <td>[Video Games, Legacy Systems, PlayStation Syst...</td>\n",
       "      <td>49.99</td>\n",
       "    </tr>\n",
       "    <tr>\n",
       "      <th>1</th>\n",
       "      <td>AHWG4EGOV5ZDKPETL56MAYGPLJRQ</td>\n",
       "      <td>B0BMGHMP23</td>\n",
       "      <td>0.0</td>\n",
       "      <td>2016-04-18 19:26:20.000</td>\n",
       "      <td>NaN</td>\n",
       "      <td>NaN</td>\n",
       "      <td>NaN</td>\n",
       "      <td>NaN</td>\n",
       "      <td>NaN</td>\n",
       "      <td>NaN</td>\n",
       "      <td>...</td>\n",
       "      <td>1449254540,1449256005,1449257733,1452715791,14...</td>\n",
       "      <td>[3028.0, 2742.0, 2755.0, 3159.0, 3101.0, 3036....</td>\n",
       "      <td>[1449254540, 1449256005, 1449257733, 145271579...</td>\n",
       "      <td>[5, 5, 5, 5, 5, 5, 5, 5, 5, 5]</td>\n",
       "      <td>[Wireless Mouse, Gaming Precision, High DPI, C...</td>\n",
       "      <td>Computers</td>\n",
       "      <td>Logitech G502 Lightspeed Wireless Gaming Mouse...</td>\n",
       "      <td>[G502 is the best gaming mouse from Logitech G...</td>\n",
       "      <td>[Video Games, PC, Accessories, Gaming Mice]</td>\n",
       "      <td>87.95</td>\n",
       "    </tr>\n",
       "    <tr>\n",
       "      <th>2</th>\n",
       "      <td>AH5PTZ2U74OZ3HT6QVUWM4CV6OVQ</td>\n",
       "      <td>B009AP23NI</td>\n",
       "      <td>0.0</td>\n",
       "      <td>2016-02-10 18:45:08.000</td>\n",
       "      <td>NaN</td>\n",
       "      <td>9.0</td>\n",
       "      <td>4.666667</td>\n",
       "      <td>0.0</td>\n",
       "      <td>NaN</td>\n",
       "      <td>0.0</td>\n",
       "      <td>...</td>\n",
       "      <td>1443454097,1455129080,1455129186,1455129499,14...</td>\n",
       "      <td>[-1.0, -1.0, 3234.0, 2508.0, 2318.0, 2964.0, 1...</td>\n",
       "      <td>[-1, -1, 1443454097, 1455129080, 1455129186, 1...</td>\n",
       "      <td>[-1, -1, 5, 1, 1, 0, 0, 0, 0, 0]</td>\n",
       "      <td>[Controller, Wii U, Japanese Version, Gaming A...</td>\n",
       "      <td>Video Games</td>\n",
       "      <td>Nintendo Wii U Pro U Controller (Japanese Vers...</td>\n",
       "      <td>[Wii U PRO controller (black) (WUP-A-RSKA)]</td>\n",
       "      <td>[Video Games, Legacy Systems, Nintendo Systems...</td>\n",
       "      <td>43.99</td>\n",
       "    </tr>\n",
       "    <tr>\n",
       "      <th>3</th>\n",
       "      <td>AFC5XTCF5D7J3NSDITB2Z26XWWYA</td>\n",
       "      <td>B001E8WQUY</td>\n",
       "      <td>5.0</td>\n",
       "      <td>2019-05-01 21:22:39.265</td>\n",
       "      <td>1.556746e+09</td>\n",
       "      <td>0.0</td>\n",
       "      <td>NaN</td>\n",
       "      <td>0.0</td>\n",
       "      <td>NaN</td>\n",
       "      <td>0.0</td>\n",
       "      <td>...</td>\n",
       "      <td>1327120514,1377289907,1402605836,1402606396,14...</td>\n",
       "      <td>[1987.0, 4569.0, 2114.0, 1606.0, 2159.0, 2279....</td>\n",
       "      <td>[1327120514, 1377289907, 1402605836, 140260639...</td>\n",
       "      <td>[8, 8, 7, 7, 7, 7, 7, 7, 6, 6]</td>\n",
       "      <td>[Music Rhythm, Band Simulation, Multiplayer, N...</td>\n",
       "      <td>Video Games</td>\n",
       "      <td>Rock Band 2 - Nintendo Wii (Game only)</td>\n",
       "      <td>[Product description, Rock Band 2 lets you and...</td>\n",
       "      <td>[Video Games, Legacy Systems, Nintendo Systems...</td>\n",
       "      <td>28.49</td>\n",
       "    </tr>\n",
       "    <tr>\n",
       "      <th>4</th>\n",
       "      <td>AF7LJQOIWF3Y3YD7SGOJ34MA5JPA</td>\n",
       "      <td>B001E8WQKY</td>\n",
       "      <td>5.0</td>\n",
       "      <td>2015-01-09 12:53:25.000</td>\n",
       "      <td>1.420808e+09</td>\n",
       "      <td>16.0</td>\n",
       "      <td>4.375000</td>\n",
       "      <td>8.0</td>\n",
       "      <td>4.5</td>\n",
       "      <td>4.0</td>\n",
       "      <td>...</td>\n",
       "      <td>1420807793,1420807991</td>\n",
       "      <td>[-1.0, -1.0, -1.0, -1.0, -1.0, -1.0, -1.0, -1....</td>\n",
       "      <td>[-1, -1, -1, -1, -1, -1, -1, -1, 1420807793, 1...</td>\n",
       "      <td>[-1, -1, -1, -1, -1, -1, -1, -1, 0, 0]</td>\n",
       "      <td>[Survival Horror, Action, Co-op, Zombies, Thir...</td>\n",
       "      <td>Video Games</td>\n",
       "      <td>Resident Evil 5 - Xbox 360</td>\n",
       "      <td>[]</td>\n",
       "      <td>[Video Games, Legacy Systems, Xbox Systems, Xb...</td>\n",
       "      <td>29.88</td>\n",
       "    </tr>\n",
       "    <tr>\n",
       "      <th>...</th>\n",
       "      <td>...</td>\n",
       "      <td>...</td>\n",
       "      <td>...</td>\n",
       "      <td>...</td>\n",
       "      <td>...</td>\n",
       "      <td>...</td>\n",
       "      <td>...</td>\n",
       "      <td>...</td>\n",
       "      <td>...</td>\n",
       "      <td>...</td>\n",
       "      <td>...</td>\n",
       "      <td>...</td>\n",
       "      <td>...</td>\n",
       "      <td>...</td>\n",
       "      <td>...</td>\n",
       "      <td>...</td>\n",
       "      <td>...</td>\n",
       "      <td>...</td>\n",
       "      <td>...</td>\n",
       "      <td>...</td>\n",
       "      <td>...</td>\n",
       "    </tr>\n",
       "    <tr>\n",
       "      <th>328591</th>\n",
       "      <td>AG4RATLNVLOKZCPXN67HKOAK65CA</td>\n",
       "      <td>B078FBVJMB</td>\n",
       "      <td>0.0</td>\n",
       "      <td>2015-10-31 18:25:09.000</td>\n",
       "      <td>NaN</td>\n",
       "      <td>NaN</td>\n",
       "      <td>NaN</td>\n",
       "      <td>NaN</td>\n",
       "      <td>NaN</td>\n",
       "      <td>NaN</td>\n",
       "      <td>...</td>\n",
       "      <td>1425233294</td>\n",
       "      <td>[-1.0, -1.0, -1.0, -1.0, -1.0, -1.0, -1.0, -1....</td>\n",
       "      <td>[-1, -1, -1, -1, -1, -1, -1, -1, -1, 1425233294]</td>\n",
       "      <td>[-1, -1, -1, -1, -1, -1, -1, -1, -1, 5]</td>\n",
       "      <td>[Co-Op, Action-Adventure, Narrative, Online Mu...</td>\n",
       "      <td>Video Games</td>\n",
       "      <td>A Way Out – PC Origin [Online Game Code]</td>\n",
       "      <td>[From the creators of Brothers - A Tale of Two...</td>\n",
       "      <td>[Video Games, PC, Games]</td>\n",
       "      <td>5.99</td>\n",
       "    </tr>\n",
       "    <tr>\n",
       "      <th>328592</th>\n",
       "      <td>AFBXO3BFWBJX6QS5NW73O37IXF2A</td>\n",
       "      <td>B0771ZXXV6</td>\n",
       "      <td>0.0</td>\n",
       "      <td>2011-03-08 02:06:38.000</td>\n",
       "      <td>NaN</td>\n",
       "      <td>NaN</td>\n",
       "      <td>NaN</td>\n",
       "      <td>NaN</td>\n",
       "      <td>NaN</td>\n",
       "      <td>NaN</td>\n",
       "      <td>...</td>\n",
       "      <td>1299549517,1299549928</td>\n",
       "      <td>[-1.0, -1.0, -1.0, -1.0, -1.0, -1.0, -1.0, -1....</td>\n",
       "      <td>[-1, -1, -1, -1, -1, -1, -1, -1, 1299549517, 1...</td>\n",
       "      <td>[-1, -1, -1, -1, -1, -1, -1, -1, 0, 0]</td>\n",
       "      <td>[Controller, Joy-Con, Nintendo Accessory, Wire...</td>\n",
       "      <td>Video Games</td>\n",
       "      <td>Nintendo Joy-Con (R) - Neon Red - Nintendo Switch</td>\n",
       "      <td>[To be determined]</td>\n",
       "      <td>[Video Games, Nintendo Switch, Accessories, Co...</td>\n",
       "      <td>None</td>\n",
       "    </tr>\n",
       "    <tr>\n",
       "      <th>328593</th>\n",
       "      <td>AHVANA5GZNJ45UABPXWZNAF4ECBQ</td>\n",
       "      <td>B00BBF6MO6</td>\n",
       "      <td>0.0</td>\n",
       "      <td>2015-02-15 05:31:04.000</td>\n",
       "      <td>NaN</td>\n",
       "      <td>3.0</td>\n",
       "      <td>4.666667</td>\n",
       "      <td>0.0</td>\n",
       "      <td>NaN</td>\n",
       "      <td>0.0</td>\n",
       "      <td>...</td>\n",
       "      <td>1370414332,1370414707,1370416530</td>\n",
       "      <td>[-1.0, -1.0, -1.0, -1.0, -1.0, -1.0, -1.0, 137...</td>\n",
       "      <td>[-1, -1, -1, -1, -1, -1, -1, 1370414332, 13704...</td>\n",
       "      <td>[-1, -1, -1, -1, -1, -1, -1, 6, 6, 6]</td>\n",
       "      <td>[Action, Hack and Slash, Stylish Gameplay, Sto...</td>\n",
       "      <td>Video Games</td>\n",
       "      <td>Killer is Dead - Xbox 360</td>\n",
       "      <td>[Killer Is Dead is the latest title from the d...</td>\n",
       "      <td>[Video Games, Legacy Systems, Xbox Systems, Xb...</td>\n",
       "      <td>39.82</td>\n",
       "    </tr>\n",
       "    <tr>\n",
       "      <th>328594</th>\n",
       "      <td>AHAVA5VKMJ3OMOLGDZ3W45CKXEWA</td>\n",
       "      <td>B00KTORA0K</td>\n",
       "      <td>5.0</td>\n",
       "      <td>2019-05-25 04:03:51.505</td>\n",
       "      <td>1.558757e+09</td>\n",
       "      <td>3.0</td>\n",
       "      <td>4.666667</td>\n",
       "      <td>1.0</td>\n",
       "      <td>5.0</td>\n",
       "      <td>1.0</td>\n",
       "      <td>...</td>\n",
       "      <td>1431150669,1431150834,1432041664,1432041986,15...</td>\n",
       "      <td>[-1.0, -1.0, -1.0, 1657.0, 2074.0, 593.0, 583....</td>\n",
       "      <td>[-1, -1, -1, 1431150669, 1431150834, 143204166...</td>\n",
       "      <td>[-1, -1, -1, 7, 7, 7, 7, 5, 5, 0]</td>\n",
       "      <td>[Dance Game, Family-friendly, Party Game, Fitn...</td>\n",
       "      <td>Video Games</td>\n",
       "      <td>Just Dance 2015 - Wii</td>\n",
       "      <td>[With more than 50 million copies of Just Danc...</td>\n",
       "      <td>[Video Games, Legacy Systems, Nintendo Systems...</td>\n",
       "      <td>33.0</td>\n",
       "    </tr>\n",
       "    <tr>\n",
       "      <th>328595</th>\n",
       "      <td>AHAOAIYS3GTCFSVCHOHANFHEVJGA</td>\n",
       "      <td>B07GMV1X1K</td>\n",
       "      <td>0.0</td>\n",
       "      <td>2019-06-27 16:46:01.725</td>\n",
       "      <td>NaN</td>\n",
       "      <td>8.0</td>\n",
       "      <td>4.750000</td>\n",
       "      <td>2.0</td>\n",
       "      <td>4.5</td>\n",
       "      <td>1.0</td>\n",
       "      <td>...</td>\n",
       "      <td>1487438369,1488931311,1490136709,1493063905,15...</td>\n",
       "      <td>[3093.0, 3574.0, 3373.0, 3372.0, 3576.0, 3621....</td>\n",
       "      <td>[1487438369, 1488931311, 1490136709, 149306390...</td>\n",
       "      <td>[6, 6, 6, 6, 6, 6, 6, 5, 5, 5]</td>\n",
       "      <td>[Retro Gaming, Emulation, Mini Console, Commod...</td>\n",
       "      <td>Video Games</td>\n",
       "      <td>retrogames The C64 Mini USA Version - Not Mach...</td>\n",
       "      <td>[It's 1982 and a new home computer graces the ...</td>\n",
       "      <td>[Video Games, Legacy Systems, Commodore System...</td>\n",
       "      <td>44.99</td>\n",
       "    </tr>\n",
       "  </tbody>\n",
       "</table>\n",
       "<p>328596 rows × 28 columns</p>\n",
       "</div>"
      ],
      "text/plain": [
       "                             user_id parent_asin  rating  \\\n",
       "0       AG57LGJFCNNQJ6P6ABQAVUKXDUDA  B0015AARJI     0.0   \n",
       "1       AHWG4EGOV5ZDKPETL56MAYGPLJRQ  B0BMGHMP23     0.0   \n",
       "2       AH5PTZ2U74OZ3HT6QVUWM4CV6OVQ  B009AP23NI     0.0   \n",
       "3       AFC5XTCF5D7J3NSDITB2Z26XWWYA  B001E8WQUY     5.0   \n",
       "4       AF7LJQOIWF3Y3YD7SGOJ34MA5JPA  B001E8WQKY     5.0   \n",
       "...                              ...         ...     ...   \n",
       "328591  AG4RATLNVLOKZCPXN67HKOAK65CA  B078FBVJMB     0.0   \n",
       "328592  AFBXO3BFWBJX6QS5NW73O37IXF2A  B0771ZXXV6     0.0   \n",
       "328593  AHVANA5GZNJ45UABPXWZNAF4ECBQ  B00BBF6MO6     0.0   \n",
       "328594  AHAVA5VKMJ3OMOLGDZ3W45CKXEWA  B00KTORA0K     5.0   \n",
       "328595  AHAOAIYS3GTCFSVCHOHANFHEVJGA  B07GMV1X1K     0.0   \n",
       "\n",
       "                     timestamp  timestamp_unix  parent_asin_rating_cnt_365d  \\\n",
       "0      2016-01-12 11:59:11.000             NaN                         76.0   \n",
       "1      2016-04-18 19:26:20.000             NaN                          NaN   \n",
       "2      2016-02-10 18:45:08.000             NaN                          9.0   \n",
       "3      2019-05-01 21:22:39.265    1.556746e+09                          0.0   \n",
       "4      2015-01-09 12:53:25.000    1.420808e+09                         16.0   \n",
       "...                        ...             ...                          ...   \n",
       "328591 2015-10-31 18:25:09.000             NaN                          NaN   \n",
       "328592 2011-03-08 02:06:38.000             NaN                          NaN   \n",
       "328593 2015-02-15 05:31:04.000             NaN                          3.0   \n",
       "328594 2019-05-25 04:03:51.505    1.558757e+09                          3.0   \n",
       "328595 2019-06-27 16:46:01.725             NaN                          8.0   \n",
       "\n",
       "        parent_asin_rating_avg_prev_rating_365d  parent_asin_rating_cnt_90d  \\\n",
       "0                                      4.592105                        10.0   \n",
       "1                                           NaN                         NaN   \n",
       "2                                      4.666667                         0.0   \n",
       "3                                           NaN                         0.0   \n",
       "4                                      4.375000                         8.0   \n",
       "...                                         ...                         ...   \n",
       "328591                                      NaN                         NaN   \n",
       "328592                                      NaN                         NaN   \n",
       "328593                                 4.666667                         0.0   \n",
       "328594                                 4.666667                         1.0   \n",
       "328595                                 4.750000                         2.0   \n",
       "\n",
       "        parent_asin_rating_avg_prev_rating_90d  parent_asin_rating_cnt_30d  \\\n",
       "0                                          4.3                         3.0   \n",
       "1                                          NaN                         NaN   \n",
       "2                                          NaN                         0.0   \n",
       "3                                          NaN                         0.0   \n",
       "4                                          4.5                         4.0   \n",
       "...                                        ...                         ...   \n",
       "328591                                     NaN                         NaN   \n",
       "328592                                     NaN                         NaN   \n",
       "328593                                     NaN                         0.0   \n",
       "328594                                     5.0                         1.0   \n",
       "328595                                     4.5                         1.0   \n",
       "\n",
       "        ...          user_rating_list_10_recent_asin_timestamp  \\\n",
       "0       ...                                         1452599936   \n",
       "1       ...  1449254540,1449256005,1449257733,1452715791,14...   \n",
       "2       ...  1443454097,1455129080,1455129186,1455129499,14...   \n",
       "3       ...  1327120514,1377289907,1402605836,1402606396,14...   \n",
       "4       ...                              1420807793,1420807991   \n",
       "...     ...                                                ...   \n",
       "328591  ...                                         1425233294   \n",
       "328592  ...                              1299549517,1299549928   \n",
       "328593  ...                   1370414332,1370414707,1370416530   \n",
       "328594  ...  1431150669,1431150834,1432041664,1432041986,15...   \n",
       "328595  ...  1487438369,1488931311,1490136709,1493063905,15...   \n",
       "\n",
       "                                            item_sequence  \\\n",
       "0       [-1.0, -1.0, -1.0, -1.0, -1.0, -1.0, -1.0, -1....   \n",
       "1       [3028.0, 2742.0, 2755.0, 3159.0, 3101.0, 3036....   \n",
       "2       [-1.0, -1.0, 3234.0, 2508.0, 2318.0, 2964.0, 1...   \n",
       "3       [1987.0, 4569.0, 2114.0, 1606.0, 2159.0, 2279....   \n",
       "4       [-1.0, -1.0, -1.0, -1.0, -1.0, -1.0, -1.0, -1....   \n",
       "...                                                   ...   \n",
       "328591  [-1.0, -1.0, -1.0, -1.0, -1.0, -1.0, -1.0, -1....   \n",
       "328592  [-1.0, -1.0, -1.0, -1.0, -1.0, -1.0, -1.0, -1....   \n",
       "328593  [-1.0, -1.0, -1.0, -1.0, -1.0, -1.0, -1.0, 137...   \n",
       "328594  [-1.0, -1.0, -1.0, 1657.0, 2074.0, 593.0, 583....   \n",
       "328595  [3093.0, 3574.0, 3373.0, 3372.0, 3576.0, 3621....   \n",
       "\n",
       "                                         item_sequence_ts  \\\n",
       "0        [-1, -1, -1, -1, -1, -1, -1, -1, -1, 1452599936]   \n",
       "1       [1449254540, 1449256005, 1449257733, 145271579...   \n",
       "2       [-1, -1, 1443454097, 1455129080, 1455129186, 1...   \n",
       "3       [1327120514, 1377289907, 1402605836, 140260639...   \n",
       "4       [-1, -1, -1, -1, -1, -1, -1, -1, 1420807793, 1...   \n",
       "...                                                   ...   \n",
       "328591   [-1, -1, -1, -1, -1, -1, -1, -1, -1, 1425233294]   \n",
       "328592  [-1, -1, -1, -1, -1, -1, -1, -1, 1299549517, 1...   \n",
       "328593  [-1, -1, -1, -1, -1, -1, -1, 1370414332, 13704...   \n",
       "328594  [-1, -1, -1, 1431150669, 1431150834, 143204166...   \n",
       "328595  [1487438369, 1488931311, 1490136709, 149306390...   \n",
       "\n",
       "                        item_sequence_ts_bucket  \\\n",
       "0       [-1, -1, -1, -1, -1, -1, -1, -1, -1, 0]   \n",
       "1                [5, 5, 5, 5, 5, 5, 5, 5, 5, 5]   \n",
       "2              [-1, -1, 5, 1, 1, 0, 0, 0, 0, 0]   \n",
       "3                [8, 8, 7, 7, 7, 7, 7, 7, 6, 6]   \n",
       "4        [-1, -1, -1, -1, -1, -1, -1, -1, 0, 0]   \n",
       "...                                         ...   \n",
       "328591  [-1, -1, -1, -1, -1, -1, -1, -1, -1, 5]   \n",
       "328592   [-1, -1, -1, -1, -1, -1, -1, -1, 0, 0]   \n",
       "328593    [-1, -1, -1, -1, -1, -1, -1, 6, 6, 6]   \n",
       "328594        [-1, -1, -1, 7, 7, 7, 7, 5, 5, 0]   \n",
       "328595           [6, 6, 6, 6, 6, 6, 6, 5, 5, 5]   \n",
       "\n",
       "                                                     tags  main_category  \\\n",
       "0       [Controller, Wireless, Gamepad, Ergonomic, Pla...    Video Games   \n",
       "1       [Wireless Mouse, Gaming Precision, High DPI, C...      Computers   \n",
       "2       [Controller, Wii U, Japanese Version, Gaming A...    Video Games   \n",
       "3       [Music Rhythm, Band Simulation, Multiplayer, N...    Video Games   \n",
       "4       [Survival Horror, Action, Co-op, Zombies, Thir...    Video Games   \n",
       "...                                                   ...            ...   \n",
       "328591  [Co-Op, Action-Adventure, Narrative, Online Mu...    Video Games   \n",
       "328592  [Controller, Joy-Con, Nintendo Accessory, Wire...    Video Games   \n",
       "328593  [Action, Hack and Slash, Stylish Gameplay, Sto...    Video Games   \n",
       "328594  [Dance Game, Family-friendly, Party Game, Fitn...    Video Games   \n",
       "328595  [Retro Gaming, Emulation, Mini Console, Commod...    Video Games   \n",
       "\n",
       "                                                    title  \\\n",
       "0       PlayStation 3 Dualshock 3 Wireless Controller ...   \n",
       "1       Logitech G502 Lightspeed Wireless Gaming Mouse...   \n",
       "2       Nintendo Wii U Pro U Controller (Japanese Vers...   \n",
       "3                  Rock Band 2 - Nintendo Wii (Game only)   \n",
       "4                              Resident Evil 5 - Xbox 360   \n",
       "...                                                   ...   \n",
       "328591           A Way Out – PC Origin [Online Game Code]   \n",
       "328592  Nintendo Joy-Con (R) - Neon Red - Nintendo Switch   \n",
       "328593                          Killer is Dead - Xbox 360   \n",
       "328594                              Just Dance 2015 - Wii   \n",
       "328595  retrogames The C64 Mini USA Version - Not Mach...   \n",
       "\n",
       "                                              description  \\\n",
       "0       [Amazon.com, The Dualshock 3 wireless controll...   \n",
       "1       [G502 is the best gaming mouse from Logitech G...   \n",
       "2             [Wii U PRO controller (black) (WUP-A-RSKA)]   \n",
       "3       [Product description, Rock Band 2 lets you and...   \n",
       "4                                                      []   \n",
       "...                                                   ...   \n",
       "328591  [From the creators of Brothers - A Tale of Two...   \n",
       "328592                                 [To be determined]   \n",
       "328593  [Killer Is Dead is the latest title from the d...   \n",
       "328594  [With more than 50 million copies of Just Danc...   \n",
       "328595  [It's 1982 and a new home computer graces the ...   \n",
       "\n",
       "                                               categories  price  \n",
       "0       [Video Games, Legacy Systems, PlayStation Syst...  49.99  \n",
       "1             [Video Games, PC, Accessories, Gaming Mice]  87.95  \n",
       "2       [Video Games, Legacy Systems, Nintendo Systems...  43.99  \n",
       "3       [Video Games, Legacy Systems, Nintendo Systems...  28.49  \n",
       "4       [Video Games, Legacy Systems, Xbox Systems, Xb...  29.88  \n",
       "...                                                   ...    ...  \n",
       "328591                           [Video Games, PC, Games]   5.99  \n",
       "328592  [Video Games, Nintendo Switch, Accessories, Co...   None  \n",
       "328593  [Video Games, Legacy Systems, Xbox Systems, Xb...  39.82  \n",
       "328594  [Video Games, Legacy Systems, Nintendo Systems...   33.0  \n",
       "328595  [Video Games, Legacy Systems, Commodore System...  44.99  \n",
       "\n",
       "[328596 rows x 28 columns]"
      ]
     },
     "execution_count": 17,
     "metadata": {},
     "output_type": "execute_result"
    }
   ],
   "source": [
    "train_df"
   ]
  },
  {
   "cell_type": "code",
   "execution_count": 18,
   "id": "bd469969-aaa6-4763-a0fc-d432961cf4dc",
   "metadata": {
    "scrolled": true
   },
   "outputs": [
    {
     "data": {
      "application/vnd.jupyter.widget-view+json": {
       "model_id": "d799c7c520ce406d837cc8abbc616b1e",
       "version_major": 2,
       "version_minor": 0
      },
      "text/plain": [
       "  0%|          | 0/5 [00:00<?, ?it/s]"
      ]
     },
     "metadata": {},
     "output_type": "display_data"
    },
    {
     "data": {
      "application/vnd.jupyter.widget-view+json": {
       "model_id": "a89a6b7984404cd3b2d391115a215fb8",
       "version_major": 2,
       "version_minor": 0
      },
      "text/plain": [
       "Transforming chunks:   0%|          | 0/33 [00:00<?, ?it/s]"
      ]
     },
     "metadata": {},
     "output_type": "display_data"
    },
    {
     "data": {
      "application/vnd.jupyter.widget-view+json": {
       "model_id": "7352240384bf4b1f938573128d00c598",
       "version_major": 2,
       "version_minor": 0
      },
      "text/plain": [
       "Transforming chunks:   0%|          | 0/1 [00:00<?, ?it/s]"
      ]
     },
     "metadata": {},
     "output_type": "display_data"
    },
    {
     "name": "stderr",
     "output_type": "stream",
     "text": [
      "\u001b[32m2024-11-10 19:24:03.978\u001b[0m | \u001b[1mINFO    \u001b[0m | \u001b[36m__main__\u001b[0m:\u001b[36m<module>\u001b[0m:\u001b[36m24\u001b[0m - \u001b[1mlen(user_indices)=19,578, len(item_indices)=4,630\u001b[0m\n"
     ]
    }
   ],
   "source": [
    "user_indices = train_df[\"user_indice\"].unique()\n",
    "item_indices = train_df[\"item_indice\"].unique()\n",
    "if args.rc.use_sbert_features:\n",
    "    all_sbert_vectors = ann_index.get_vector_by_ids(\n",
    "        item_indices.tolist(), chunk_size=1000\n",
    "    ).astype(np.float32)\n",
    "\n",
    "train_item_features = chunk_transform(\n",
    "    train_df, item_metadata_pipeline, chunk_size=args.tfm_chunk_size\n",
    ")\n",
    "train_item_features = train_item_features.astype(np.float32)\n",
    "\n",
    "val_item_features = chunk_transform(\n",
    "    val_df, item_metadata_pipeline, chunk_size=args.tfm_chunk_size\n",
    ")\n",
    "val_item_features = val_item_features.astype(np.float32)\n",
    "\n",
    "if args.rc.use_sbert_features:\n",
    "    train_sbert_vectors = all_sbert_vectors[train_df[\"item_indice\"].values]\n",
    "    train_item_features = np.hstack([train_item_features, train_sbert_vectors])\n",
    "    val_sbert_vectors = all_sbert_vectors[val_df[\"item_indice\"].values]\n",
    "    val_item_features = np.hstack([val_item_features, val_sbert_vectors])\n",
    "\n",
    "logger.info(f\"{len(user_indices)=:,.0f}, {len(item_indices)=:,.0f}\")"
   ]
  },
  {
   "cell_type": "markdown",
   "id": "5260fbe7-2f90-44a1-be74-ce5db9b511ee",
   "metadata": {},
   "source": [
    "# Train"
   ]
  },
  {
   "cell_type": "code",
   "execution_count": 19,
   "id": "240a04ed-8898-443f-b0f4-7399bfa63810",
   "metadata": {},
   "outputs": [],
   "source": [
    "rating_dataset = UserItemBinaryDFDataset(\n",
    "    train_df,\n",
    "    \"user_indice\",\n",
    "    \"item_indice\",\n",
    "    args.rating_col,\n",
    "    args.timestamp_col,\n",
    "    item_feature=train_item_features,\n",
    ")\n",
    "val_rating_dataset = UserItemBinaryDFDataset(\n",
    "    val_df,\n",
    "    \"user_indice\",\n",
    "    \"item_indice\",\n",
    "    args.rating_col,\n",
    "    args.timestamp_col,\n",
    "    item_feature=val_item_features,\n",
    ")\n",
    "\n",
    "train_loader = DataLoader(\n",
    "    rating_dataset, batch_size=args.batch_size, shuffle=True, drop_last=True\n",
    ")\n",
    "val_loader = DataLoader(\n",
    "    val_rating_dataset, batch_size=args.batch_size, shuffle=False, drop_last=False\n",
    ")"
   ]
  },
  {
   "cell_type": "code",
   "execution_count": 20,
   "id": "22dcf157-425f-4d15-9b53-e1ff93887def",
   "metadata": {
    "scrolled": true
   },
   "outputs": [
    {
     "data": {
      "text/plain": [
       "Ranker(\n",
       "  (item_embedding): Embedding(4631, 128, padding_idx=4630)\n",
       "  (user_embedding): Embedding(19578, 128)\n",
       "  (item_sequence_ts_bucket_embedding): Embedding(11, 16, padding_idx=10)\n",
       "  (gru): GRU(144, 128, batch_first=True)\n",
       "  (relu): ReLU()\n",
       "  (dropout): Dropout(p=0.3, inplace=False)\n",
       "  (item_feature_tower): Sequential(\n",
       "    (0): Linear(in_features=1229, out_features=128, bias=True)\n",
       "    (1): BatchNorm1d(128, eps=1e-05, momentum=0.1, affine=True, track_running_stats=True)\n",
       "    (2): ReLU()\n",
       "    (3): Dropout(p=0.3, inplace=False)\n",
       "  )\n",
       "  (fc_rating): Sequential(\n",
       "    (0): Linear(in_features=512, out_features=128, bias=True)\n",
       "    (1): BatchNorm1d(128, eps=1e-05, momentum=0.1, affine=True, track_running_stats=True)\n",
       "    (2): ReLU()\n",
       "    (3): Dropout(p=0.3, inplace=False)\n",
       "    (4): Linear(in_features=128, out_features=1, bias=True)\n",
       "    (5): Sigmoid()\n",
       "  )\n",
       ")"
      ]
     },
     "execution_count": 20,
     "metadata": {},
     "output_type": "execute_result"
    }
   ],
   "source": [
    "n_items = len(item_indices)\n",
    "n_users = len(user_indices)\n",
    "\n",
    "model = init_model(\n",
    "    n_users,\n",
    "    n_items,\n",
    "    args.embedding_dim,\n",
    "    args.item_sequence_ts_bucket_size,\n",
    "    args.bucket_embedding_dim,\n",
    "    item_feature_size,\n",
    "    args.dropout,\n",
    ")\n",
    "model"
   ]
  },
  {
   "cell_type": "markdown",
   "id": "b8cbb2a8-a578-4ad2-941e-efd01d930336",
   "metadata": {},
   "source": [
    "#### Predict before train"
   ]
  },
  {
   "cell_type": "code",
   "execution_count": 21,
   "id": "0112de1e-1dce-4982-9663-a1df91fd0001",
   "metadata": {
    "scrolled": true
   },
   "outputs": [
    {
     "data": {
      "text/html": [
       "<div>\n",
       "<style scoped>\n",
       "    .dataframe tbody tr th:only-of-type {\n",
       "        vertical-align: middle;\n",
       "    }\n",
       "\n",
       "    .dataframe tbody tr th {\n",
       "        vertical-align: top;\n",
       "    }\n",
       "\n",
       "    .dataframe thead th {\n",
       "        text-align: right;\n",
       "    }\n",
       "</style>\n",
       "<table border=\"1\" class=\"dataframe\">\n",
       "  <thead>\n",
       "    <tr style=\"text-align: right;\">\n",
       "      <th></th>\n",
       "      <th>user_id</th>\n",
       "      <th>parent_asin</th>\n",
       "      <th>rating</th>\n",
       "      <th>timestamp</th>\n",
       "      <th>timestamp_unix</th>\n",
       "      <th>parent_asin_rating_cnt_365d</th>\n",
       "      <th>parent_asin_rating_avg_prev_rating_365d</th>\n",
       "      <th>parent_asin_rating_cnt_90d</th>\n",
       "      <th>parent_asin_rating_avg_prev_rating_90d</th>\n",
       "      <th>parent_asin_rating_cnt_30d</th>\n",
       "      <th>...</th>\n",
       "      <th>user_rating_list_10_recent_asin_timestamp</th>\n",
       "      <th>item_sequence</th>\n",
       "      <th>item_sequence_ts</th>\n",
       "      <th>item_sequence_ts_bucket</th>\n",
       "      <th>tags</th>\n",
       "      <th>main_category</th>\n",
       "      <th>title</th>\n",
       "      <th>description</th>\n",
       "      <th>categories</th>\n",
       "      <th>price</th>\n",
       "    </tr>\n",
       "  </thead>\n",
       "  <tbody>\n",
       "    <tr>\n",
       "      <th>1746</th>\n",
       "      <td>AFWMJSQPYQIAEJY3A6RPFDHSB7BA</td>\n",
       "      <td>B001ELJE5Q</td>\n",
       "      <td>0.0</td>\n",
       "      <td>2021-10-20 09:53:52.036</td>\n",
       "      <td>NaN</td>\n",
       "      <td>2.0</td>\n",
       "      <td>5.000000</td>\n",
       "      <td>1.0</td>\n",
       "      <td>5.000000</td>\n",
       "      <td>0.0</td>\n",
       "      <td>...</td>\n",
       "      <td>1591649949,1591649979,1591650004,1596447928,16...</td>\n",
       "      <td>[-1, -1, -1, -1, 4067, 4343, 3527, 4357, 4373,...</td>\n",
       "      <td>[-1, -1, -1, -1, 1591649949, 1591649979, 15916...</td>\n",
       "      <td>[-1, -1, -1, -1, 6, 6, 6, 6, 5, 5]</td>\n",
       "      <td>[Music Game, Band Kit, Guitar Controller, Coop...</td>\n",
       "      <td>Video Games</td>\n",
       "      <td>Wii Guitar Hero World Tour Band Kit</td>\n",
       "      <td>[Product description, We've all dreamed of bei...</td>\n",
       "      <td>[Video Games, Legacy Systems, Nintendo Systems...</td>\n",
       "      <td>None</td>\n",
       "    </tr>\n",
       "    <tr>\n",
       "      <th>1205</th>\n",
       "      <td>AGW7IQV7JCRQATCFS46QDGRJ2PMQ</td>\n",
       "      <td>B00OQLWM8M</td>\n",
       "      <td>0.0</td>\n",
       "      <td>2021-08-22 00:57:05.420</td>\n",
       "      <td>NaN</td>\n",
       "      <td>0.0</td>\n",
       "      <td>NaN</td>\n",
       "      <td>0.0</td>\n",
       "      <td>NaN</td>\n",
       "      <td>0.0</td>\n",
       "      <td>...</td>\n",
       "      <td>1612769950,1617677646,1619503875,1619503928,16...</td>\n",
       "      <td>[4170, 1596, 4479, 254, 3723, 3988, 3903, 695,...</td>\n",
       "      <td>[1612769950, 1617677646, 1619503875, 161950392...</td>\n",
       "      <td>[5, 5, 5, 5, 5, 5, 5, 5, 5, 5]</td>\n",
       "      <td>[Role-Playing Game, Pokemon Franchise, Dual Pa...</td>\n",
       "      <td>Video Games</td>\n",
       "      <td>Pokemon Omega Ruby and Pokemon Alpha Sapphire ...</td>\n",
       "      <td>[]</td>\n",
       "      <td>[Video Games, Legacy Systems, Nintendo Systems...</td>\n",
       "      <td>None</td>\n",
       "    </tr>\n",
       "    <tr>\n",
       "      <th>1869</th>\n",
       "      <td>AGCJRJNBQTHOSAWCI7SW5ZV3AZPQ</td>\n",
       "      <td>B004NBXRDE</td>\n",
       "      <td>0.0</td>\n",
       "      <td>2022-04-10 20:34:55.586</td>\n",
       "      <td>NaN</td>\n",
       "      <td>1.0</td>\n",
       "      <td>5.000000</td>\n",
       "      <td>0.0</td>\n",
       "      <td>NaN</td>\n",
       "      <td>0.0</td>\n",
       "      <td>...</td>\n",
       "      <td>1547168420,1586266416,1611119565,1615734901,16...</td>\n",
       "      <td>[-1, -1, -1, 4134, 3594, 3686, 3818, 3851, 369...</td>\n",
       "      <td>[-1, -1, -1, 1547168420, 1586266416, 161111956...</td>\n",
       "      <td>[-1, -1, -1, 7, 6, 6, 6, 5, 5, 5]</td>\n",
       "      <td>[Racing, Adventure Game, Family-Friendly, Base...</td>\n",
       "      <td>Video Games</td>\n",
       "      <td>Cars 2 3DS</td>\n",
       "      <td>[Product Description, Inspired by the upcoming...</td>\n",
       "      <td>[Video Games, Legacy Systems, Nintendo Systems...</td>\n",
       "      <td>49.99</td>\n",
       "    </tr>\n",
       "    <tr>\n",
       "      <th>74</th>\n",
       "      <td>AGPNXILEFTDD373LDWNEGXEAVGGA</td>\n",
       "      <td>B0171RL3P0</td>\n",
       "      <td>0.0</td>\n",
       "      <td>2021-08-30 13:08:09.315</td>\n",
       "      <td>NaN</td>\n",
       "      <td>0.0</td>\n",
       "      <td>NaN</td>\n",
       "      <td>0.0</td>\n",
       "      <td>NaN</td>\n",
       "      <td>0.0</td>\n",
       "      <td>...</td>\n",
       "      <td>1500398091,1500398564,1500399206,1500399307,15...</td>\n",
       "      <td>[-1, -1, -1, -1, -1, 3601, 2478, 3362, 3681, 4...</td>\n",
       "      <td>[-1, -1, -1, -1, -1, 1500398091, 1500398564, 1...</td>\n",
       "      <td>[-1, -1, -1, -1, -1, 7, 7, 7, 7, 7]</td>\n",
       "      <td>[Amiibo, Collector's Item, Card Holder, Ninten...</td>\n",
       "      <td>Video Games</td>\n",
       "      <td>HORI Amiibo Card Folio Officially Licensed by ...</td>\n",
       "      <td>[Officially Licensed by Nintendo. Store and or...</td>\n",
       "      <td>[Video Games, Legacy Systems, Nintendo Systems...</td>\n",
       "      <td>None</td>\n",
       "    </tr>\n",
       "    <tr>\n",
       "      <th>1145</th>\n",
       "      <td>AE76SZJUUWJVL62I2Q44F37SPFXQ</td>\n",
       "      <td>B07D3JSZ8F</td>\n",
       "      <td>1.0</td>\n",
       "      <td>2021-09-27 09:37:20.508</td>\n",
       "      <td>1.632735e+09</td>\n",
       "      <td>6.0</td>\n",
       "      <td>4.833333</td>\n",
       "      <td>2.0</td>\n",
       "      <td>5.000000</td>\n",
       "      <td>1.0</td>\n",
       "      <td>...</td>\n",
       "      <td>1515276861,1516560815,1521206577,1521316155,15...</td>\n",
       "      <td>[-1, -1, -1, -1, 4577, 2643, 3150, 2143, 4003,...</td>\n",
       "      <td>[-1, -1, -1, -1, 1515276861, 1516560815, 15212...</td>\n",
       "      <td>[-1, -1, -1, -1, 7, 7, 7, 7, 6, 6]</td>\n",
       "      <td>[Tactical RPG, Strategy, Crossover Game, Digit...</td>\n",
       "      <td>Video Games</td>\n",
       "      <td>Mario + Rabbids Kingdom Battle - Nintendo Swit...</td>\n",
       "      <td>[Two worlds collide in Mario + Rabbids Kingdom...</td>\n",
       "      <td>[Video Games, Nintendo Switch, Accessories]</td>\n",
       "      <td>59.99</td>\n",
       "    </tr>\n",
       "    <tr>\n",
       "      <th>1071</th>\n",
       "      <td>AH2TF7A2AXRSXVAYTV2CB2OHUYHA</td>\n",
       "      <td>B00Z9TM1KY</td>\n",
       "      <td>0.0</td>\n",
       "      <td>2022-01-03 13:53:41.920</td>\n",
       "      <td>NaN</td>\n",
       "      <td>6.0</td>\n",
       "      <td>4.666667</td>\n",
       "      <td>1.0</td>\n",
       "      <td>5.000000</td>\n",
       "      <td>0.0</td>\n",
       "      <td>...</td>\n",
       "      <td>1436247878,1441733146,1452635529,1470854964,14...</td>\n",
       "      <td>[-1, 2726, 2186, 2436, 3052, 3256, 3334, 3966,...</td>\n",
       "      <td>[-1, 1436247878, 1441733146, 1452635529, 14708...</td>\n",
       "      <td>[-1, 8, 8, 8, 8, 8, 7, 7, 6, 6]</td>\n",
       "      <td>[Open World, Action-Adventure, Single Player, ...</td>\n",
       "      <td>Video Games</td>\n",
       "      <td>Mafia III - PC</td>\n",
       "      <td>[1968. New Bordeaux., After years of combat in...</td>\n",
       "      <td>[Video Games, PC, Games]</td>\n",
       "      <td>7.96</td>\n",
       "    </tr>\n",
       "    <tr>\n",
       "      <th>1518</th>\n",
       "      <td>AG7VW3N64W3DWP46K3ZPBPTHPS5A</td>\n",
       "      <td>B073SC6V1D</td>\n",
       "      <td>1.0</td>\n",
       "      <td>2022-06-24 11:00:40.306</td>\n",
       "      <td>1.656068e+09</td>\n",
       "      <td>1.0</td>\n",
       "      <td>5.000000</td>\n",
       "      <td>0.0</td>\n",
       "      <td>NaN</td>\n",
       "      <td>0.0</td>\n",
       "      <td>...</td>\n",
       "      <td>1368635174,1427214888,1427944362,1473917569,14...</td>\n",
       "      <td>[1556, 2844, 2985, 3665, 2542, 3228, 3319, 338...</td>\n",
       "      <td>[1368635174, 1427214888, 1427944362, 147391756...</td>\n",
       "      <td>[8, 8, 8, 8, 8, 8, 7, 7, 7, 7]</td>\n",
       "      <td>[Gaming Accessories, RGB Backlit, Gaming Mouse...</td>\n",
       "      <td>Computers</td>\n",
       "      <td>havit Gaming Keyboard and Mouse Combo, Backlit...</td>\n",
       "      <td>[]</td>\n",
       "      <td>[Video Games, PC, Accessories, Gaming Keyboards]</td>\n",
       "      <td>None</td>\n",
       "    </tr>\n",
       "    <tr>\n",
       "      <th>1212</th>\n",
       "      <td>AED7Y4FAIQCIYYVDJ6WIW2XTP4YA</td>\n",
       "      <td>B004LLHFAW</td>\n",
       "      <td>0.0</td>\n",
       "      <td>2021-09-15 20:43:08.668</td>\n",
       "      <td>NaN</td>\n",
       "      <td>4.0</td>\n",
       "      <td>3.500000</td>\n",
       "      <td>1.0</td>\n",
       "      <td>5.000000</td>\n",
       "      <td>0.0</td>\n",
       "      <td>...</td>\n",
       "      <td>1222549506,1222550100,1222550300,1222550607,12...</td>\n",
       "      <td>[827, 1043, 1703, 442, 1102, 668, 2055, 3151, ...</td>\n",
       "      <td>[1222549506, 1222550100, 1222550300, 122255060...</td>\n",
       "      <td>[9, 9, 9, 9, 9, 9, 8, 7, 4, 4]</td>\n",
       "      <td>[First-Person Shooter, Multiplayer, War Game, ...</td>\n",
       "      <td>Video Games</td>\n",
       "      <td>Battlefield 3 - Playstation 3</td>\n",
       "      <td>[Battlefield 3 leaps ahead of the competition ...</td>\n",
       "      <td>[Video Games, Legacy Systems, PlayStation Syst...</td>\n",
       "      <td>12.45</td>\n",
       "    </tr>\n",
       "    <tr>\n",
       "      <th>424</th>\n",
       "      <td>AFQDH6ZKGPLWKKVNX2OJY6XPMCFA</td>\n",
       "      <td>B094YHB1QK</td>\n",
       "      <td>1.0</td>\n",
       "      <td>2022-06-06 13:41:16.029</td>\n",
       "      <td>1.654523e+09</td>\n",
       "      <td>29.0</td>\n",
       "      <td>4.310345</td>\n",
       "      <td>6.0</td>\n",
       "      <td>4.333333</td>\n",
       "      <td>4.0</td>\n",
       "      <td>...</td>\n",
       "      <td>1441052986,1504993804,1507574462,1511927540,15...</td>\n",
       "      <td>[-1, -1, 3077, 3752, 3373, 4344, 4418, 4518, 2...</td>\n",
       "      <td>[-1, -1, 1441052986, 1504993804, 1507574462, 1...</td>\n",
       "      <td>[-1, -1, 8, 7, 7, 7, 7, 7, 7, 7]</td>\n",
       "      <td>[Wireless, Controller, PlayStation 5, Ergonomi...</td>\n",
       "      <td>Video Games</td>\n",
       "      <td>PlayStation DualSense Wireless Controller – Ga...</td>\n",
       "      <td>[Plot a course for astronomical adventures on ...</td>\n",
       "      <td>[Video Games, PlayStation 5, Accessories, Cont...</td>\n",
       "      <td>74.99</td>\n",
       "    </tr>\n",
       "    <tr>\n",
       "      <th>1027</th>\n",
       "      <td>AGVAG2GSFQZUAXMRSKKSGKEHGG5A</td>\n",
       "      <td>B09JY72CNG</td>\n",
       "      <td>1.0</td>\n",
       "      <td>2022-01-19 20:57:42.960</td>\n",
       "      <td>1.642626e+09</td>\n",
       "      <td>2.0</td>\n",
       "      <td>4.500000</td>\n",
       "      <td>1.0</td>\n",
       "      <td>4.000000</td>\n",
       "      <td>1.0</td>\n",
       "      <td>...</td>\n",
       "      <td>1357571879,1357572295,1456940615,1456940845,15...</td>\n",
       "      <td>[-1, -1, -1, 1736, 117, 1911, 3747, 4598, 3455...</td>\n",
       "      <td>[-1, -1, -1, 1357571879, 1357572295, 145694061...</td>\n",
       "      <td>[-1, -1, -1, 8, 8, 8, 8, 6, 6, 0]</td>\n",
       "      <td>[Mouse Pad, RGB Lighting, High Precision, Gami...</td>\n",
       "      <td>Computers</td>\n",
       "      <td>Razer Goliathus Extended Chroma Gaming Mouse P...</td>\n",
       "      <td>[The Razer Goliathus extended Chroma soft gami...</td>\n",
       "      <td>[Video Games, PC, Accessories, Gaming Mice]</td>\n",
       "      <td>59.99</td>\n",
       "    </tr>\n",
       "  </tbody>\n",
       "</table>\n",
       "<p>10 rows × 28 columns</p>\n",
       "</div>"
      ],
      "text/plain": [
       "                           user_id parent_asin  rating  \\\n",
       "1746  AFWMJSQPYQIAEJY3A6RPFDHSB7BA  B001ELJE5Q     0.0   \n",
       "1205  AGW7IQV7JCRQATCFS46QDGRJ2PMQ  B00OQLWM8M     0.0   \n",
       "1869  AGCJRJNBQTHOSAWCI7SW5ZV3AZPQ  B004NBXRDE     0.0   \n",
       "74    AGPNXILEFTDD373LDWNEGXEAVGGA  B0171RL3P0     0.0   \n",
       "1145  AE76SZJUUWJVL62I2Q44F37SPFXQ  B07D3JSZ8F     1.0   \n",
       "1071  AH2TF7A2AXRSXVAYTV2CB2OHUYHA  B00Z9TM1KY     0.0   \n",
       "1518  AG7VW3N64W3DWP46K3ZPBPTHPS5A  B073SC6V1D     1.0   \n",
       "1212  AED7Y4FAIQCIYYVDJ6WIW2XTP4YA  B004LLHFAW     0.0   \n",
       "424   AFQDH6ZKGPLWKKVNX2OJY6XPMCFA  B094YHB1QK     1.0   \n",
       "1027  AGVAG2GSFQZUAXMRSKKSGKEHGG5A  B09JY72CNG     1.0   \n",
       "\n",
       "                   timestamp  timestamp_unix  parent_asin_rating_cnt_365d  \\\n",
       "1746 2021-10-20 09:53:52.036             NaN                          2.0   \n",
       "1205 2021-08-22 00:57:05.420             NaN                          0.0   \n",
       "1869 2022-04-10 20:34:55.586             NaN                          1.0   \n",
       "74   2021-08-30 13:08:09.315             NaN                          0.0   \n",
       "1145 2021-09-27 09:37:20.508    1.632735e+09                          6.0   \n",
       "1071 2022-01-03 13:53:41.920             NaN                          6.0   \n",
       "1518 2022-06-24 11:00:40.306    1.656068e+09                          1.0   \n",
       "1212 2021-09-15 20:43:08.668             NaN                          4.0   \n",
       "424  2022-06-06 13:41:16.029    1.654523e+09                         29.0   \n",
       "1027 2022-01-19 20:57:42.960    1.642626e+09                          2.0   \n",
       "\n",
       "      parent_asin_rating_avg_prev_rating_365d  parent_asin_rating_cnt_90d  \\\n",
       "1746                                 5.000000                         1.0   \n",
       "1205                                      NaN                         0.0   \n",
       "1869                                 5.000000                         0.0   \n",
       "74                                        NaN                         0.0   \n",
       "1145                                 4.833333                         2.0   \n",
       "1071                                 4.666667                         1.0   \n",
       "1518                                 5.000000                         0.0   \n",
       "1212                                 3.500000                         1.0   \n",
       "424                                  4.310345                         6.0   \n",
       "1027                                 4.500000                         1.0   \n",
       "\n",
       "      parent_asin_rating_avg_prev_rating_90d  parent_asin_rating_cnt_30d  ...  \\\n",
       "1746                                5.000000                         0.0  ...   \n",
       "1205                                     NaN                         0.0  ...   \n",
       "1869                                     NaN                         0.0  ...   \n",
       "74                                       NaN                         0.0  ...   \n",
       "1145                                5.000000                         1.0  ...   \n",
       "1071                                5.000000                         0.0  ...   \n",
       "1518                                     NaN                         0.0  ...   \n",
       "1212                                5.000000                         0.0  ...   \n",
       "424                                 4.333333                         4.0  ...   \n",
       "1027                                4.000000                         1.0  ...   \n",
       "\n",
       "              user_rating_list_10_recent_asin_timestamp  \\\n",
       "1746  1591649949,1591649979,1591650004,1596447928,16...   \n",
       "1205  1612769950,1617677646,1619503875,1619503928,16...   \n",
       "1869  1547168420,1586266416,1611119565,1615734901,16...   \n",
       "74    1500398091,1500398564,1500399206,1500399307,15...   \n",
       "1145  1515276861,1516560815,1521206577,1521316155,15...   \n",
       "1071  1436247878,1441733146,1452635529,1470854964,14...   \n",
       "1518  1368635174,1427214888,1427944362,1473917569,14...   \n",
       "1212  1222549506,1222550100,1222550300,1222550607,12...   \n",
       "424   1441052986,1504993804,1507574462,1511927540,15...   \n",
       "1027  1357571879,1357572295,1456940615,1456940845,15...   \n",
       "\n",
       "                                          item_sequence  \\\n",
       "1746  [-1, -1, -1, -1, 4067, 4343, 3527, 4357, 4373,...   \n",
       "1205  [4170, 1596, 4479, 254, 3723, 3988, 3903, 695,...   \n",
       "1869  [-1, -1, -1, 4134, 3594, 3686, 3818, 3851, 369...   \n",
       "74    [-1, -1, -1, -1, -1, 3601, 2478, 3362, 3681, 4...   \n",
       "1145  [-1, -1, -1, -1, 4577, 2643, 3150, 2143, 4003,...   \n",
       "1071  [-1, 2726, 2186, 2436, 3052, 3256, 3334, 3966,...   \n",
       "1518  [1556, 2844, 2985, 3665, 2542, 3228, 3319, 338...   \n",
       "1212  [827, 1043, 1703, 442, 1102, 668, 2055, 3151, ...   \n",
       "424   [-1, -1, 3077, 3752, 3373, 4344, 4418, 4518, 2...   \n",
       "1027  [-1, -1, -1, 1736, 117, 1911, 3747, 4598, 3455...   \n",
       "\n",
       "                                       item_sequence_ts  \\\n",
       "1746  [-1, -1, -1, -1, 1591649949, 1591649979, 15916...   \n",
       "1205  [1612769950, 1617677646, 1619503875, 161950392...   \n",
       "1869  [-1, -1, -1, 1547168420, 1586266416, 161111956...   \n",
       "74    [-1, -1, -1, -1, -1, 1500398091, 1500398564, 1...   \n",
       "1145  [-1, -1, -1, -1, 1515276861, 1516560815, 15212...   \n",
       "1071  [-1, 1436247878, 1441733146, 1452635529, 14708...   \n",
       "1518  [1368635174, 1427214888, 1427944362, 147391756...   \n",
       "1212  [1222549506, 1222550100, 1222550300, 122255060...   \n",
       "424   [-1, -1, 1441052986, 1504993804, 1507574462, 1...   \n",
       "1027  [-1, -1, -1, 1357571879, 1357572295, 145694061...   \n",
       "\n",
       "                  item_sequence_ts_bucket  \\\n",
       "1746   [-1, -1, -1, -1, 6, 6, 6, 6, 5, 5]   \n",
       "1205       [5, 5, 5, 5, 5, 5, 5, 5, 5, 5]   \n",
       "1869    [-1, -1, -1, 7, 6, 6, 6, 5, 5, 5]   \n",
       "74    [-1, -1, -1, -1, -1, 7, 7, 7, 7, 7]   \n",
       "1145   [-1, -1, -1, -1, 7, 7, 7, 7, 6, 6]   \n",
       "1071      [-1, 8, 8, 8, 8, 8, 7, 7, 6, 6]   \n",
       "1518       [8, 8, 8, 8, 8, 8, 7, 7, 7, 7]   \n",
       "1212       [9, 9, 9, 9, 9, 9, 8, 7, 4, 4]   \n",
       "424      [-1, -1, 8, 7, 7, 7, 7, 7, 7, 7]   \n",
       "1027    [-1, -1, -1, 8, 8, 8, 8, 6, 6, 0]   \n",
       "\n",
       "                                                   tags  main_category  \\\n",
       "1746  [Music Game, Band Kit, Guitar Controller, Coop...    Video Games   \n",
       "1205  [Role-Playing Game, Pokemon Franchise, Dual Pa...    Video Games   \n",
       "1869  [Racing, Adventure Game, Family-Friendly, Base...    Video Games   \n",
       "74    [Amiibo, Collector's Item, Card Holder, Ninten...    Video Games   \n",
       "1145  [Tactical RPG, Strategy, Crossover Game, Digit...    Video Games   \n",
       "1071  [Open World, Action-Adventure, Single Player, ...    Video Games   \n",
       "1518  [Gaming Accessories, RGB Backlit, Gaming Mouse...      Computers   \n",
       "1212  [First-Person Shooter, Multiplayer, War Game, ...    Video Games   \n",
       "424   [Wireless, Controller, PlayStation 5, Ergonomi...    Video Games   \n",
       "1027  [Mouse Pad, RGB Lighting, High Precision, Gami...      Computers   \n",
       "\n",
       "                                                  title  \\\n",
       "1746                Wii Guitar Hero World Tour Band Kit   \n",
       "1205  Pokemon Omega Ruby and Pokemon Alpha Sapphire ...   \n",
       "1869                                         Cars 2 3DS   \n",
       "74    HORI Amiibo Card Folio Officially Licensed by ...   \n",
       "1145  Mario + Rabbids Kingdom Battle - Nintendo Swit...   \n",
       "1071                                     Mafia III - PC   \n",
       "1518  havit Gaming Keyboard and Mouse Combo, Backlit...   \n",
       "1212                      Battlefield 3 - Playstation 3   \n",
       "424   PlayStation DualSense Wireless Controller – Ga...   \n",
       "1027  Razer Goliathus Extended Chroma Gaming Mouse P...   \n",
       "\n",
       "                                            description  \\\n",
       "1746  [Product description, We've all dreamed of bei...   \n",
       "1205                                                 []   \n",
       "1869  [Product Description, Inspired by the upcoming...   \n",
       "74    [Officially Licensed by Nintendo. Store and or...   \n",
       "1145  [Two worlds collide in Mario + Rabbids Kingdom...   \n",
       "1071  [1968. New Bordeaux., After years of combat in...   \n",
       "1518                                                 []   \n",
       "1212  [Battlefield 3 leaps ahead of the competition ...   \n",
       "424   [Plot a course for astronomical adventures on ...   \n",
       "1027  [The Razer Goliathus extended Chroma soft gami...   \n",
       "\n",
       "                                             categories  price  \n",
       "1746  [Video Games, Legacy Systems, Nintendo Systems...   None  \n",
       "1205  [Video Games, Legacy Systems, Nintendo Systems...   None  \n",
       "1869  [Video Games, Legacy Systems, Nintendo Systems...  49.99  \n",
       "74    [Video Games, Legacy Systems, Nintendo Systems...   None  \n",
       "1145        [Video Games, Nintendo Switch, Accessories]  59.99  \n",
       "1071                           [Video Games, PC, Games]   7.96  \n",
       "1518   [Video Games, PC, Accessories, Gaming Keyboards]   None  \n",
       "1212  [Video Games, Legacy Systems, PlayStation Syst...  12.45  \n",
       "424   [Video Games, PlayStation 5, Accessories, Cont...  74.99  \n",
       "1027        [Video Games, PC, Accessories, Gaming Mice]  59.99  \n",
       "\n",
       "[10 rows x 28 columns]"
      ]
     },
     "execution_count": 21,
     "metadata": {},
     "output_type": "execute_result"
    }
   ],
   "source": [
    "val_df = val_rating_dataset.df\n",
    "val_df.sample(10)"
   ]
  },
  {
   "cell_type": "code",
   "execution_count": 22,
   "id": "9eb1583b-40f7-4157-a383-5891389ac119",
   "metadata": {
    "scrolled": true
   },
   "outputs": [
    {
     "data": {
      "text/html": [
       "<div>\n",
       "<style scoped>\n",
       "    .dataframe tbody tr th:only-of-type {\n",
       "        vertical-align: middle;\n",
       "    }\n",
       "\n",
       "    .dataframe tbody tr th {\n",
       "        vertical-align: top;\n",
       "    }\n",
       "\n",
       "    .dataframe thead th {\n",
       "        text-align: right;\n",
       "    }\n",
       "</style>\n",
       "<table border=\"1\" class=\"dataframe\">\n",
       "  <thead>\n",
       "    <tr style=\"text-align: right;\">\n",
       "      <th></th>\n",
       "      <th>user_id</th>\n",
       "      <th>parent_asin</th>\n",
       "      <th>rating</th>\n",
       "      <th>timestamp</th>\n",
       "      <th>timestamp_unix</th>\n",
       "      <th>parent_asin_rating_cnt_365d</th>\n",
       "      <th>parent_asin_rating_avg_prev_rating_365d</th>\n",
       "      <th>parent_asin_rating_cnt_90d</th>\n",
       "      <th>parent_asin_rating_avg_prev_rating_90d</th>\n",
       "      <th>parent_asin_rating_cnt_30d</th>\n",
       "      <th>...</th>\n",
       "      <th>user_rating_list_10_recent_asin_timestamp</th>\n",
       "      <th>item_sequence</th>\n",
       "      <th>item_sequence_ts</th>\n",
       "      <th>item_sequence_ts_bucket</th>\n",
       "      <th>tags</th>\n",
       "      <th>main_category</th>\n",
       "      <th>title</th>\n",
       "      <th>description</th>\n",
       "      <th>categories</th>\n",
       "      <th>price</th>\n",
       "    </tr>\n",
       "  </thead>\n",
       "  <tbody>\n",
       "    <tr>\n",
       "      <th>1369</th>\n",
       "      <td>AECSORN72UHJMCT4OBY5WFFS7J2A</td>\n",
       "      <td>B0044R8X9U</td>\n",
       "      <td>0.0</td>\n",
       "      <td>2022-01-04 15:59:11.724</td>\n",
       "      <td>NaN</td>\n",
       "      <td>1.0</td>\n",
       "      <td>2.0</td>\n",
       "      <td>0.0</td>\n",
       "      <td>NaN</td>\n",
       "      <td>0.0</td>\n",
       "      <td>...</td>\n",
       "      <td>1537948546,1540584570,1540586056,1556836554,1561690405,1580282861,1580354512</td>\n",
       "      <td>[-1, -1, -1, 3886, 4534, 3840, 4068, 4115, 4267, 4171]</td>\n",
       "      <td>[-1, -1, -1, 1537948546, 1540584570, 1540586056, 1556836554, 1561690405, 1580282861, 1580354512]</td>\n",
       "      <td>[-1, -1, -1, 7, 7, 7, 6, 6, 6, 6]</td>\n",
       "      <td>[Flight Simulator, Combat, Military, Action, Realistic]</td>\n",
       "      <td>Video Games</td>\n",
       "      <td>Ace Combat Assault Horizon - Xbox 360</td>\n",
       "      <td>[Product Description, Developed by the Project Aces team, Ace Combat Assault Horizon intensifies the franchise, escalating combat to the next level with aircraft that are literally torn apart, spewing oil and debris across the sky. Players will engage in combat across the globe, dodging skyscrapers, and turning their enemies into fiery supersonic debris in both single player and online multiplayer. Never before has combat been so fast and in-your-face., From the Manufacturer, Sit in the pilot's seat and take flight, soaring across real-world locations and experiencing an engaging and dramatic wartime storyline!, View larger, ., STEEL CARNAGE, Developed by the Project Aces team, ACE COMBAT® ASSAULT HORIZON intensifies the franchise, escalating combat to the next level with aircraft that are literally torn apart, spewing oil and debris across the sky. Players will engage in combat across the globe, dodging skyscrapers, and turning their enemies into fiery supersonic debris in both single player and online multiplayer. Never before has combat been so fast and in-your-face., Key Game Features, Dramatic realistic storyline – Written by New York Times Best Seller and military author Jim DeFelice, players will experience an engaging war drama spanning real-world locations across the globe, Dramatic realistic storyline, – Written by New York Times Best Seller and military author Jim DeFelice, players will experience an engaging war drama spanning real-world locations across the globe, Steel carnage destruction – Incredible detail and visual reaction for every explosive attack (aircrafts are shredded to pieces, enemy troops annihilated, buildings shattered, machines bleed), Steel carnage destruction, – Incredible detail and visual reaction for every explosive attack (aircrafts are shredded to pieces, enemy troops annihilated, buildings shattered, machines bleed), Entirely new aircrafts to pilot – Experience split-second maneuvering and positioning, pinpoint targeting, hovering attacks and other gameplay diversity through the introduction of the Attack Helicopter, Door Gunner and more, Entirely new aircrafts to pilot, – Experience split-second maneuvering and positioning, pinpoint targeting, hovering attacks and other gameplay diversity through the introduction of the Attack Helicopter, Door Gunner and more, Revolutionary Close-Range Assault system – Delivering high-speed acrobatics, dizzying one-on-one encounters, satisfying visceral low-altitude and high-flying death from above, Revolutionary Close-Range Assault system, – Delivering high-speed acrobatics, dizzying one-on-one encounters, satisfying visceral low-altitude and high-flying death from above, ACE COMBAT online reinvented – Take to the skies and engage hostile forces in a variety of modes, ACE COMBAT online reinvented, – Take to the skies and engage hostile forces in a variety of modes, Additional Screenshots, :, Watch planes explode and shred to pieces in amazing detail!, View larger, ., Deliver defeat using an arsenal of weapons and aircrafts!, View larger, ., Take 'em down with the Attack Helicopter!, View larger, ., Play with your friends to determine the king of the skies!, View larger, .]</td>\n",
       "      <td>[Video Games, Legacy Systems, Xbox Systems, Xbox 360, Games]</td>\n",
       "      <td>12.99</td>\n",
       "    </tr>\n",
       "    <tr>\n",
       "      <th>1414</th>\n",
       "      <td>AECSORN72UHJMCT4OBY5WFFS7J2A</td>\n",
       "      <td>B0BFT941YQ</td>\n",
       "      <td>1.0</td>\n",
       "      <td>2022-01-04 15:59:11.724</td>\n",
       "      <td>1.641312e+09</td>\n",
       "      <td>4.0</td>\n",
       "      <td>5.0</td>\n",
       "      <td>1.0</td>\n",
       "      <td>5.0</td>\n",
       "      <td>0.0</td>\n",
       "      <td>...</td>\n",
       "      <td>1537948546,1540584570,1540586056,1556836554,1561690405,1580282861,1580354512</td>\n",
       "      <td>[-1, -1, -1, 3886, 4534, 3840, 4068, 4115, 4267, 4171]</td>\n",
       "      <td>[-1, -1, -1, 1537948546, 1540584570, 1540586056, 1556836554, 1561690405, 1580282861, 1580354512]</td>\n",
       "      <td>[-1, -1, -1, 7, 7, 7, 6, 6, 6, 6]</td>\n",
       "      <td>[Action RPG, Anime, Single-player, Dragon Ball Franchise, Open World]</td>\n",
       "      <td>Video Games</td>\n",
       "      <td>DRAGON BALL Z: Kakarot - PlayStation 5</td>\n",
       "      <td>[Relive the story of Goku and other Z Fighters in DRAGON BALL Z: KAKAROT! Beyond the epic battles, experience life in the DRAGON BALL Z world as you fight, fish, eat, and train with Goku, Gohan, Vegeta and others. Explore the new areas and adventures as you advance through the story and form powerful bonds with other heroes from the DRAGON BALL Z universe.]</td>\n",
       "      <td>[Video Games, PlayStation 5, Games]</td>\n",
       "      <td>19.99</td>\n",
       "    </tr>\n",
       "  </tbody>\n",
       "</table>\n",
       "<p>2 rows × 28 columns</p>\n",
       "</div>"
      ],
      "text/plain": [
       "                           user_id parent_asin  rating  \\\n",
       "1369  AECSORN72UHJMCT4OBY5WFFS7J2A  B0044R8X9U     0.0   \n",
       "1414  AECSORN72UHJMCT4OBY5WFFS7J2A  B0BFT941YQ     1.0   \n",
       "\n",
       "                   timestamp  timestamp_unix  parent_asin_rating_cnt_365d  \\\n",
       "1369 2022-01-04 15:59:11.724             NaN                          1.0   \n",
       "1414 2022-01-04 15:59:11.724    1.641312e+09                          4.0   \n",
       "\n",
       "      parent_asin_rating_avg_prev_rating_365d  parent_asin_rating_cnt_90d  \\\n",
       "1369                                      2.0                         0.0   \n",
       "1414                                      5.0                         1.0   \n",
       "\n",
       "      parent_asin_rating_avg_prev_rating_90d  parent_asin_rating_cnt_30d  ...  \\\n",
       "1369                                     NaN                         0.0  ...   \n",
       "1414                                     5.0                         0.0  ...   \n",
       "\n",
       "                                         user_rating_list_10_recent_asin_timestamp  \\\n",
       "1369  1537948546,1540584570,1540586056,1556836554,1561690405,1580282861,1580354512   \n",
       "1414  1537948546,1540584570,1540586056,1556836554,1561690405,1580282861,1580354512   \n",
       "\n",
       "                                               item_sequence  \\\n",
       "1369  [-1, -1, -1, 3886, 4534, 3840, 4068, 4115, 4267, 4171]   \n",
       "1414  [-1, -1, -1, 3886, 4534, 3840, 4068, 4115, 4267, 4171]   \n",
       "\n",
       "                                                                                      item_sequence_ts  \\\n",
       "1369  [-1, -1, -1, 1537948546, 1540584570, 1540586056, 1556836554, 1561690405, 1580282861, 1580354512]   \n",
       "1414  [-1, -1, -1, 1537948546, 1540584570, 1540586056, 1556836554, 1561690405, 1580282861, 1580354512]   \n",
       "\n",
       "                item_sequence_ts_bucket  \\\n",
       "1369  [-1, -1, -1, 7, 7, 7, 6, 6, 6, 6]   \n",
       "1414  [-1, -1, -1, 7, 7, 7, 6, 6, 6, 6]   \n",
       "\n",
       "                                                                       tags  \\\n",
       "1369                [Flight Simulator, Combat, Military, Action, Realistic]   \n",
       "1414  [Action RPG, Anime, Single-player, Dragon Ball Franchise, Open World]   \n",
       "\n",
       "      main_category                                   title  \\\n",
       "1369    Video Games   Ace Combat Assault Horizon - Xbox 360   \n",
       "1414    Video Games  DRAGON BALL Z: Kakarot - PlayStation 5   \n",
       "\n",
       "                                                                                                                                                                                                                                                                                                                                                                                                                                                                                                                                                                                                                                                                                                                                                                                                                                                                                                                                                                                                                                                                                                                                                                                                                                                                                                                                                                                                                                                                                                                                                                                                                                                                                                                                                                                                                                                                                                                                                                                                                                                                                                                                                                                                                                                                                                                                                                                                                                                                                                                                                                                                                                                                                                                                                                                                                                                                                                                                                                                                                                                                                                                                                                                                                                                                                                                              description  \\\n",
       "1369  [Product Description, Developed by the Project Aces team, Ace Combat Assault Horizon intensifies the franchise, escalating combat to the next level with aircraft that are literally torn apart, spewing oil and debris across the sky. Players will engage in combat across the globe, dodging skyscrapers, and turning their enemies into fiery supersonic debris in both single player and online multiplayer. Never before has combat been so fast and in-your-face., From the Manufacturer, Sit in the pilot's seat and take flight, soaring across real-world locations and experiencing an engaging and dramatic wartime storyline!, View larger, ., STEEL CARNAGE, Developed by the Project Aces team, ACE COMBAT® ASSAULT HORIZON intensifies the franchise, escalating combat to the next level with aircraft that are literally torn apart, spewing oil and debris across the sky. Players will engage in combat across the globe, dodging skyscrapers, and turning their enemies into fiery supersonic debris in both single player and online multiplayer. Never before has combat been so fast and in-your-face., Key Game Features, Dramatic realistic storyline – Written by New York Times Best Seller and military author Jim DeFelice, players will experience an engaging war drama spanning real-world locations across the globe, Dramatic realistic storyline, – Written by New York Times Best Seller and military author Jim DeFelice, players will experience an engaging war drama spanning real-world locations across the globe, Steel carnage destruction – Incredible detail and visual reaction for every explosive attack (aircrafts are shredded to pieces, enemy troops annihilated, buildings shattered, machines bleed), Steel carnage destruction, – Incredible detail and visual reaction for every explosive attack (aircrafts are shredded to pieces, enemy troops annihilated, buildings shattered, machines bleed), Entirely new aircrafts to pilot – Experience split-second maneuvering and positioning, pinpoint targeting, hovering attacks and other gameplay diversity through the introduction of the Attack Helicopter, Door Gunner and more, Entirely new aircrafts to pilot, – Experience split-second maneuvering and positioning, pinpoint targeting, hovering attacks and other gameplay diversity through the introduction of the Attack Helicopter, Door Gunner and more, Revolutionary Close-Range Assault system – Delivering high-speed acrobatics, dizzying one-on-one encounters, satisfying visceral low-altitude and high-flying death from above, Revolutionary Close-Range Assault system, – Delivering high-speed acrobatics, dizzying one-on-one encounters, satisfying visceral low-altitude and high-flying death from above, ACE COMBAT online reinvented – Take to the skies and engage hostile forces in a variety of modes, ACE COMBAT online reinvented, – Take to the skies and engage hostile forces in a variety of modes, Additional Screenshots, :, Watch planes explode and shred to pieces in amazing detail!, View larger, ., Deliver defeat using an arsenal of weapons and aircrafts!, View larger, ., Take 'em down with the Attack Helicopter!, View larger, ., Play with your friends to determine the king of the skies!, View larger, .]   \n",
       "1414                                                                                                                                                                                                                                                                                                                                                                                                                                                                                                                                                                                                                                                                                                                                                                                                                                                                                                                                                                                                                                                                                                                                                                                                                                                                                                                                                                                                                                                                                                                                                                                                                                                                                                                                                                                                                                                                                                                                                                                                                                                                                                                                                                                                                                                                                                                                                                                                                                                                                                                                                                                                                                                                                                                                                                                                                                                                                                                                                              [Relive the story of Goku and other Z Fighters in DRAGON BALL Z: KAKAROT! Beyond the epic battles, experience life in the DRAGON BALL Z world as you fight, fish, eat, and train with Goku, Gohan, Vegeta and others. Explore the new areas and adventures as you advance through the story and form powerful bonds with other heroes from the DRAGON BALL Z universe.]   \n",
       "\n",
       "                                                        categories  price  \n",
       "1369  [Video Games, Legacy Systems, Xbox Systems, Xbox 360, Games]  12.99  \n",
       "1414                           [Video Games, PlayStation 5, Games]  19.99  \n",
       "\n",
       "[2 rows x 28 columns]"
      ]
     },
     "metadata": {},
     "output_type": "display_data"
    }
   ],
   "source": [
    "user_id = val_df.sample(1)[args.user_col].values[0]\n",
    "test_df = val_df.loc[lambda df: df[args.user_col].eq(user_id)]\n",
    "with pd.option_context(\"display.max_colwidth\", None):\n",
    "    display(test_df)"
   ]
  },
  {
   "cell_type": "code",
   "execution_count": 23,
   "id": "c48fbc80-eda8-4dff-a246-95f8f2f75082",
   "metadata": {
    "scrolled": true
   },
   "outputs": [
    {
     "name": "stderr",
     "output_type": "stream",
     "text": [
      "\u001b[32m2024-11-10 19:24:04.159\u001b[0m | \u001b[1mINFO    \u001b[0m | \u001b[36m__main__\u001b[0m:\u001b[36m<module>\u001b[0m:\u001b[36m7\u001b[0m - \u001b[1mTest predicting before training with user_id = AECSORN72UHJMCT4OBY5WFFS7J2A and parent_asin = B0BFT941YQ\u001b[0m\n",
      "/tmp/ipykernel_242982/1344924415.py:13: UserWarning:\n",
      "\n",
      "Creating a tensor from a list of numpy.ndarrays is extremely slow. Please consider converting the list to a single numpy.ndarray with numpy.array() before converting to a tensor. (Triggered internally at ../torch/csrc/utils/tensor_new.cpp:278.)\n",
      "\n"
     ]
    },
    {
     "data": {
      "text/plain": [
       "Ranker(\n",
       "  (item_embedding): Embedding(4631, 128, padding_idx=4630)\n",
       "  (user_embedding): Embedding(19578, 128)\n",
       "  (item_sequence_ts_bucket_embedding): Embedding(11, 16, padding_idx=10)\n",
       "  (gru): GRU(144, 128, batch_first=True)\n",
       "  (relu): ReLU()\n",
       "  (dropout): Dropout(p=0.3, inplace=False)\n",
       "  (item_feature_tower): Sequential(\n",
       "    (0): Linear(in_features=1229, out_features=128, bias=True)\n",
       "    (1): BatchNorm1d(128, eps=1e-05, momentum=0.1, affine=True, track_running_stats=True)\n",
       "    (2): ReLU()\n",
       "    (3): Dropout(p=0.3, inplace=False)\n",
       "  )\n",
       "  (fc_rating): Sequential(\n",
       "    (0): Linear(in_features=512, out_features=128, bias=True)\n",
       "    (1): BatchNorm1d(128, eps=1e-05, momentum=0.1, affine=True, track_running_stats=True)\n",
       "    (2): ReLU()\n",
       "    (3): Dropout(p=0.3, inplace=False)\n",
       "    (4): Linear(in_features=128, out_features=1, bias=True)\n",
       "    (5): Sigmoid()\n",
       "  )\n",
       ")"
      ]
     },
     "execution_count": 23,
     "metadata": {},
     "output_type": "execute_result"
    }
   ],
   "source": [
    "test_row = test_df.loc[lambda df: df[args.rating_col].gt(0)].iloc[0]\n",
    "item_id = test_row[args.item_col]\n",
    "item_sequence = test_row[\"item_sequence\"]\n",
    "item_sequence_ts_bucket = test_row[\"item_sequence_ts_bucket\"]\n",
    "row_idx = test_row.name\n",
    "item_feature = val_item_features[row_idx]\n",
    "logger.info(\n",
    "    f\"Test predicting before training with {args.user_col} = {user_id} and {args.item_col} = {item_id}\"\n",
    ")\n",
    "user_indice = idm.get_user_index(user_id)\n",
    "item_indice = idm.get_item_index(item_id)\n",
    "user = torch.tensor([user_indice])\n",
    "item_sequence = torch.tensor([item_sequence])\n",
    "item_sequence_ts_bucket = torch.tensor([item_sequence_ts_bucket])\n",
    "item_feature = torch.tensor([item_feature])\n",
    "item = torch.tensor([item_indice])\n",
    "\n",
    "model.eval()\n",
    "model.predict(user, item_sequence, item_sequence_ts_bucket, item_feature, item)\n",
    "model.train()"
   ]
  },
  {
   "cell_type": "markdown",
   "id": "c2fd217c-c0c8-4e7c-81fe-6eb36f4729b5",
   "metadata": {},
   "source": [
    "#### Training loop"
   ]
  },
  {
   "cell_type": "markdown",
   "id": "1e9daad4-1365-4e8e-8f73-80ca5513572b",
   "metadata": {},
   "source": [
    "##### Overfit 1 batch"
   ]
  },
  {
   "cell_type": "code",
   "execution_count": 24,
   "id": "1a1cd9bd-e2c6-404b-b6ae-b26a7d35a0ba",
   "metadata": {
    "scrolled": true
   },
   "outputs": [
    {
     "name": "stderr",
     "output_type": "stream",
     "text": [
      "GPU available: True (cuda), used: True\n",
      "TPU available: False, using: 0 TPU cores\n",
      "HPU available: False, using: 0 HPUs\n",
      "`Trainer(overfit_batches=1)` was configured so 1 batch will be used.\n",
      "LOCAL_RANK: 0 - CUDA_VISIBLE_DEVICES: [0]\n",
      "\n",
      "  | Name  | Type   | Params | Mode \n",
      "-----------------------------------------\n",
      "0 | model | Ranker | 3.4 M  | train\n",
      "-----------------------------------------\n",
      "3.4 M     Trainable params\n",
      "0         Non-trainable params\n",
      "3.4 M     Total params\n",
      "13.712    Total estimated model params size (MB)\n",
      "15        Modules in train mode\n",
      "0         Modules in eval mode\n"
     ]
    },
    {
     "data": {
      "application/vnd.jupyter.widget-view+json": {
       "model_id": "",
       "version_major": 2,
       "version_minor": 0
      },
      "text/plain": [
       "Sanity Checking: |                                                                                            …"
      ]
     },
     "metadata": {},
     "output_type": "display_data"
    },
    {
     "name": "stderr",
     "output_type": "stream",
     "text": [
      "/home/dvquys/frostmourne/recsys-mvp/.venv/lib/python3.11/site-packages/lightning/pytorch/trainer/connectors/data_connector.py:251: UserWarning:\n",
      "\n",
      "You requested to overfit but enabled val dataloader shuffling. We are turning off the val dataloader shuffling for you.\n",
      "\n",
      "/home/dvquys/frostmourne/recsys-mvp/.venv/lib/python3.11/site-packages/lightning/pytorch/trainer/connectors/data_connector.py:424: PossibleUserWarning:\n",
      "\n",
      "The 'val_dataloader' does not have many workers which may be a bottleneck. Consider increasing the value of the `num_workers` argument` to `num_workers=11` in the `DataLoader` to improve performance.\n",
      "\n",
      "/home/dvquys/frostmourne/recsys-mvp/.venv/lib/python3.11/site-packages/lightning/pytorch/trainer/connectors/data_connector.py:251: UserWarning:\n",
      "\n",
      "You requested to overfit but enabled train dataloader shuffling. We are turning off the train dataloader shuffling for you.\n",
      "\n",
      "/home/dvquys/frostmourne/recsys-mvp/.venv/lib/python3.11/site-packages/lightning/pytorch/trainer/connectors/data_connector.py:424: PossibleUserWarning:\n",
      "\n",
      "The 'train_dataloader' does not have many workers which may be a bottleneck. Consider increasing the value of the `num_workers` argument` to `num_workers=11` in the `DataLoader` to improve performance.\n",
      "\n",
      "/home/dvquys/frostmourne/recsys-mvp/.venv/lib/python3.11/site-packages/lightning/pytorch/loops/fit_loop.py:298: PossibleUserWarning:\n",
      "\n",
      "The number of training batches (1) is smaller than the logging interval Trainer(log_every_n_steps=50). Set a lower value for log_every_n_steps if you want to see logs for the training epoch.\n",
      "\n"
     ]
    },
    {
     "data": {
      "application/vnd.jupyter.widget-view+json": {
       "model_id": "7aa465a451d547c49f313ab985245dae",
       "version_major": 2,
       "version_minor": 0
      },
      "text/plain": [
       "Training: |                                                                                                   …"
      ]
     },
     "metadata": {},
     "output_type": "display_data"
    },
    {
     "data": {
      "application/vnd.jupyter.widget-view+json": {
       "model_id": "",
       "version_major": 2,
       "version_minor": 0
      },
      "text/plain": [
       "Validation: |                                                                                                 …"
      ]
     },
     "metadata": {},
     "output_type": "display_data"
    },
    {
     "data": {
      "application/vnd.jupyter.widget-view+json": {
       "model_id": "",
       "version_major": 2,
       "version_minor": 0
      },
      "text/plain": [
       "Validation: |                                                                                                 …"
      ]
     },
     "metadata": {},
     "output_type": "display_data"
    },
    {
     "data": {
      "application/vnd.jupyter.widget-view+json": {
       "model_id": "",
       "version_major": 2,
       "version_minor": 0
      },
      "text/plain": [
       "Validation: |                                                                                                 …"
      ]
     },
     "metadata": {},
     "output_type": "display_data"
    },
    {
     "data": {
      "application/vnd.jupyter.widget-view+json": {
       "model_id": "",
       "version_major": 2,
       "version_minor": 0
      },
      "text/plain": [
       "Validation: |                                                                                                 …"
      ]
     },
     "metadata": {},
     "output_type": "display_data"
    },
    {
     "data": {
      "application/vnd.jupyter.widget-view+json": {
       "model_id": "",
       "version_major": 2,
       "version_minor": 0
      },
      "text/plain": [
       "Validation: |                                                                                                 …"
      ]
     },
     "metadata": {},
     "output_type": "display_data"
    },
    {
     "data": {
      "application/vnd.jupyter.widget-view+json": {
       "model_id": "",
       "version_major": 2,
       "version_minor": 0
      },
      "text/plain": [
       "Validation: |                                                                                                 …"
      ]
     },
     "metadata": {},
     "output_type": "display_data"
    },
    {
     "data": {
      "application/vnd.jupyter.widget-view+json": {
       "model_id": "",
       "version_major": 2,
       "version_minor": 0
      },
      "text/plain": [
       "Validation: |                                                                                                 …"
      ]
     },
     "metadata": {},
     "output_type": "display_data"
    },
    {
     "data": {
      "application/vnd.jupyter.widget-view+json": {
       "model_id": "",
       "version_major": 2,
       "version_minor": 0
      },
      "text/plain": [
       "Validation: |                                                                                                 …"
      ]
     },
     "metadata": {},
     "output_type": "display_data"
    },
    {
     "data": {
      "application/vnd.jupyter.widget-view+json": {
       "model_id": "",
       "version_major": 2,
       "version_minor": 0
      },
      "text/plain": [
       "Validation: |                                                                                                 …"
      ]
     },
     "metadata": {},
     "output_type": "display_data"
    },
    {
     "data": {
      "application/vnd.jupyter.widget-view+json": {
       "model_id": "",
       "version_major": 2,
       "version_minor": 0
      },
      "text/plain": [
       "Validation: |                                                                                                 …"
      ]
     },
     "metadata": {},
     "output_type": "display_data"
    },
    {
     "data": {
      "application/vnd.jupyter.widget-view+json": {
       "model_id": "",
       "version_major": 2,
       "version_minor": 0
      },
      "text/plain": [
       "Validation: |                                                                                                 …"
      ]
     },
     "metadata": {},
     "output_type": "display_data"
    },
    {
     "data": {
      "application/vnd.jupyter.widget-view+json": {
       "model_id": "",
       "version_major": 2,
       "version_minor": 0
      },
      "text/plain": [
       "Validation: |                                                                                                 …"
      ]
     },
     "metadata": {},
     "output_type": "display_data"
    },
    {
     "data": {
      "application/vnd.jupyter.widget-view+json": {
       "model_id": "",
       "version_major": 2,
       "version_minor": 0
      },
      "text/plain": [
       "Validation: |                                                                                                 …"
      ]
     },
     "metadata": {},
     "output_type": "display_data"
    },
    {
     "data": {
      "application/vnd.jupyter.widget-view+json": {
       "model_id": "",
       "version_major": 2,
       "version_minor": 0
      },
      "text/plain": [
       "Validation: |                                                                                                 …"
      ]
     },
     "metadata": {},
     "output_type": "display_data"
    },
    {
     "data": {
      "application/vnd.jupyter.widget-view+json": {
       "model_id": "",
       "version_major": 2,
       "version_minor": 0
      },
      "text/plain": [
       "Validation: |                                                                                                 …"
      ]
     },
     "metadata": {},
     "output_type": "display_data"
    },
    {
     "data": {
      "application/vnd.jupyter.widget-view+json": {
       "model_id": "",
       "version_major": 2,
       "version_minor": 0
      },
      "text/plain": [
       "Validation: |                                                                                                 …"
      ]
     },
     "metadata": {},
     "output_type": "display_data"
    },
    {
     "data": {
      "application/vnd.jupyter.widget-view+json": {
       "model_id": "",
       "version_major": 2,
       "version_minor": 0
      },
      "text/plain": [
       "Validation: |                                                                                                 …"
      ]
     },
     "metadata": {},
     "output_type": "display_data"
    },
    {
     "data": {
      "application/vnd.jupyter.widget-view+json": {
       "model_id": "",
       "version_major": 2,
       "version_minor": 0
      },
      "text/plain": [
       "Validation: |                                                                                                 …"
      ]
     },
     "metadata": {},
     "output_type": "display_data"
    },
    {
     "data": {
      "application/vnd.jupyter.widget-view+json": {
       "model_id": "",
       "version_major": 2,
       "version_minor": 0
      },
      "text/plain": [
       "Validation: |                                                                                                 …"
      ]
     },
     "metadata": {},
     "output_type": "display_data"
    },
    {
     "data": {
      "application/vnd.jupyter.widget-view+json": {
       "model_id": "",
       "version_major": 2,
       "version_minor": 0
      },
      "text/plain": [
       "Validation: |                                                                                                 …"
      ]
     },
     "metadata": {},
     "output_type": "display_data"
    },
    {
     "data": {
      "application/vnd.jupyter.widget-view+json": {
       "model_id": "",
       "version_major": 2,
       "version_minor": 0
      },
      "text/plain": [
       "Validation: |                                                                                                 …"
      ]
     },
     "metadata": {},
     "output_type": "display_data"
    },
    {
     "data": {
      "application/vnd.jupyter.widget-view+json": {
       "model_id": "",
       "version_major": 2,
       "version_minor": 0
      },
      "text/plain": [
       "Validation: |                                                                                                 …"
      ]
     },
     "metadata": {},
     "output_type": "display_data"
    },
    {
     "data": {
      "application/vnd.jupyter.widget-view+json": {
       "model_id": "",
       "version_major": 2,
       "version_minor": 0
      },
      "text/plain": [
       "Validation: |                                                                                                 …"
      ]
     },
     "metadata": {},
     "output_type": "display_data"
    },
    {
     "data": {
      "application/vnd.jupyter.widget-view+json": {
       "model_id": "",
       "version_major": 2,
       "version_minor": 0
      },
      "text/plain": [
       "Validation: |                                                                                                 …"
      ]
     },
     "metadata": {},
     "output_type": "display_data"
    },
    {
     "data": {
      "application/vnd.jupyter.widget-view+json": {
       "model_id": "",
       "version_major": 2,
       "version_minor": 0
      },
      "text/plain": [
       "Validation: |                                                                                                 …"
      ]
     },
     "metadata": {},
     "output_type": "display_data"
    },
    {
     "data": {
      "application/vnd.jupyter.widget-view+json": {
       "model_id": "",
       "version_major": 2,
       "version_minor": 0
      },
      "text/plain": [
       "Validation: |                                                                                                 …"
      ]
     },
     "metadata": {},
     "output_type": "display_data"
    },
    {
     "data": {
      "application/vnd.jupyter.widget-view+json": {
       "model_id": "",
       "version_major": 2,
       "version_minor": 0
      },
      "text/plain": [
       "Validation: |                                                                                                 …"
      ]
     },
     "metadata": {},
     "output_type": "display_data"
    },
    {
     "data": {
      "application/vnd.jupyter.widget-view+json": {
       "model_id": "",
       "version_major": 2,
       "version_minor": 0
      },
      "text/plain": [
       "Validation: |                                                                                                 …"
      ]
     },
     "metadata": {},
     "output_type": "display_data"
    },
    {
     "data": {
      "application/vnd.jupyter.widget-view+json": {
       "model_id": "",
       "version_major": 2,
       "version_minor": 0
      },
      "text/plain": [
       "Validation: |                                                                                                 …"
      ]
     },
     "metadata": {},
     "output_type": "display_data"
    },
    {
     "data": {
      "application/vnd.jupyter.widget-view+json": {
       "model_id": "",
       "version_major": 2,
       "version_minor": 0
      },
      "text/plain": [
       "Validation: |                                                                                                 …"
      ]
     },
     "metadata": {},
     "output_type": "display_data"
    },
    {
     "data": {
      "application/vnd.jupyter.widget-view+json": {
       "model_id": "",
       "version_major": 2,
       "version_minor": 0
      },
      "text/plain": [
       "Validation: |                                                                                                 …"
      ]
     },
     "metadata": {},
     "output_type": "display_data"
    },
    {
     "data": {
      "application/vnd.jupyter.widget-view+json": {
       "model_id": "",
       "version_major": 2,
       "version_minor": 0
      },
      "text/plain": [
       "Validation: |                                                                                                 …"
      ]
     },
     "metadata": {},
     "output_type": "display_data"
    },
    {
     "data": {
      "application/vnd.jupyter.widget-view+json": {
       "model_id": "",
       "version_major": 2,
       "version_minor": 0
      },
      "text/plain": [
       "Validation: |                                                                                                 …"
      ]
     },
     "metadata": {},
     "output_type": "display_data"
    },
    {
     "data": {
      "application/vnd.jupyter.widget-view+json": {
       "model_id": "",
       "version_major": 2,
       "version_minor": 0
      },
      "text/plain": [
       "Validation: |                                                                                                 …"
      ]
     },
     "metadata": {},
     "output_type": "display_data"
    },
    {
     "data": {
      "application/vnd.jupyter.widget-view+json": {
       "model_id": "",
       "version_major": 2,
       "version_minor": 0
      },
      "text/plain": [
       "Validation: |                                                                                                 …"
      ]
     },
     "metadata": {},
     "output_type": "display_data"
    },
    {
     "data": {
      "application/vnd.jupyter.widget-view+json": {
       "model_id": "",
       "version_major": 2,
       "version_minor": 0
      },
      "text/plain": [
       "Validation: |                                                                                                 …"
      ]
     },
     "metadata": {},
     "output_type": "display_data"
    },
    {
     "data": {
      "application/vnd.jupyter.widget-view+json": {
       "model_id": "",
       "version_major": 2,
       "version_minor": 0
      },
      "text/plain": [
       "Validation: |                                                                                                 …"
      ]
     },
     "metadata": {},
     "output_type": "display_data"
    },
    {
     "data": {
      "application/vnd.jupyter.widget-view+json": {
       "model_id": "",
       "version_major": 2,
       "version_minor": 0
      },
      "text/plain": [
       "Validation: |                                                                                                 …"
      ]
     },
     "metadata": {},
     "output_type": "display_data"
    },
    {
     "data": {
      "application/vnd.jupyter.widget-view+json": {
       "model_id": "",
       "version_major": 2,
       "version_minor": 0
      },
      "text/plain": [
       "Validation: |                                                                                                 …"
      ]
     },
     "metadata": {},
     "output_type": "display_data"
    },
    {
     "data": {
      "application/vnd.jupyter.widget-view+json": {
       "model_id": "",
       "version_major": 2,
       "version_minor": 0
      },
      "text/plain": [
       "Validation: |                                                                                                 …"
      ]
     },
     "metadata": {},
     "output_type": "display_data"
    },
    {
     "data": {
      "application/vnd.jupyter.widget-view+json": {
       "model_id": "",
       "version_major": 2,
       "version_minor": 0
      },
      "text/plain": [
       "Validation: |                                                                                                 …"
      ]
     },
     "metadata": {},
     "output_type": "display_data"
    },
    {
     "data": {
      "application/vnd.jupyter.widget-view+json": {
       "model_id": "",
       "version_major": 2,
       "version_minor": 0
      },
      "text/plain": [
       "Validation: |                                                                                                 …"
      ]
     },
     "metadata": {},
     "output_type": "display_data"
    },
    {
     "data": {
      "application/vnd.jupyter.widget-view+json": {
       "model_id": "",
       "version_major": 2,
       "version_minor": 0
      },
      "text/plain": [
       "Validation: |                                                                                                 …"
      ]
     },
     "metadata": {},
     "output_type": "display_data"
    },
    {
     "data": {
      "application/vnd.jupyter.widget-view+json": {
       "model_id": "",
       "version_major": 2,
       "version_minor": 0
      },
      "text/plain": [
       "Validation: |                                                                                                 …"
      ]
     },
     "metadata": {},
     "output_type": "display_data"
    },
    {
     "data": {
      "application/vnd.jupyter.widget-view+json": {
       "model_id": "",
       "version_major": 2,
       "version_minor": 0
      },
      "text/plain": [
       "Validation: |                                                                                                 …"
      ]
     },
     "metadata": {},
     "output_type": "display_data"
    },
    {
     "data": {
      "application/vnd.jupyter.widget-view+json": {
       "model_id": "",
       "version_major": 2,
       "version_minor": 0
      },
      "text/plain": [
       "Validation: |                                                                                                 …"
      ]
     },
     "metadata": {},
     "output_type": "display_data"
    },
    {
     "data": {
      "application/vnd.jupyter.widget-view+json": {
       "model_id": "29b4a0e1fed9459d93f58e30d37887dc",
       "version_major": 2,
       "version_minor": 0
      },
      "text/plain": [
       "Validation: |                                                                                                 …"
      ]
     },
     "metadata": {},
     "output_type": "display_data"
    },
    {
     "data": {
      "application/vnd.jupyter.widget-view+json": {
       "model_id": "278f0d5a55434a27a87a2b23b59c4929",
       "version_major": 2,
       "version_minor": 0
      },
      "text/plain": [
       "Validation: |                                                                                                 …"
      ]
     },
     "metadata": {},
     "output_type": "display_data"
    },
    {
     "data": {
      "application/vnd.jupyter.widget-view+json": {
       "model_id": "18aaa8d7c543403ca5cd3d83827b5084",
       "version_major": 2,
       "version_minor": 0
      },
      "text/plain": [
       "Validation: |                                                                                                 …"
      ]
     },
     "metadata": {},
     "output_type": "display_data"
    },
    {
     "data": {
      "application/vnd.jupyter.widget-view+json": {
       "model_id": "afc521e2748e4a2196baac103ae38570",
       "version_major": 2,
       "version_minor": 0
      },
      "text/plain": [
       "Validation: |                                                                                                 …"
      ]
     },
     "metadata": {},
     "output_type": "display_data"
    },
    {
     "data": {
      "application/vnd.jupyter.widget-view+json": {
       "model_id": "c1ddc2b485a64b838868b446d79f7a03",
       "version_major": 2,
       "version_minor": 0
      },
      "text/plain": [
       "Validation: |                                                                                                 …"
      ]
     },
     "metadata": {},
     "output_type": "display_data"
    },
    {
     "data": {
      "application/vnd.jupyter.widget-view+json": {
       "model_id": "98edc26b3c5a4d7f9c056ed84e643614",
       "version_major": 2,
       "version_minor": 0
      },
      "text/plain": [
       "Validation: |                                                                                                 …"
      ]
     },
     "metadata": {},
     "output_type": "display_data"
    },
    {
     "data": {
      "application/vnd.jupyter.widget-view+json": {
       "model_id": "3cbeebc019a94f298824a4aff9745f50",
       "version_major": 2,
       "version_minor": 0
      },
      "text/plain": [
       "Validation: |                                                                                                 …"
      ]
     },
     "metadata": {},
     "output_type": "display_data"
    },
    {
     "data": {
      "application/vnd.jupyter.widget-view+json": {
       "model_id": "d25e0e605b1648d59bf6cabdc40a37a4",
       "version_major": 2,
       "version_minor": 0
      },
      "text/plain": [
       "Validation: |                                                                                                 …"
      ]
     },
     "metadata": {},
     "output_type": "display_data"
    },
    {
     "data": {
      "application/vnd.jupyter.widget-view+json": {
       "model_id": "36bc942c475b4d1f9f19d6b434f5bd4e",
       "version_major": 2,
       "version_minor": 0
      },
      "text/plain": [
       "Validation: |                                                                                                 …"
      ]
     },
     "metadata": {},
     "output_type": "display_data"
    },
    {
     "data": {
      "application/vnd.jupyter.widget-view+json": {
       "model_id": "f9912f7472c4449685bca1893b9b4539",
       "version_major": 2,
       "version_minor": 0
      },
      "text/plain": [
       "Validation: |                                                                                                 …"
      ]
     },
     "metadata": {},
     "output_type": "display_data"
    },
    {
     "data": {
      "application/vnd.jupyter.widget-view+json": {
       "model_id": "9d082778ed014a71ac9aa9758009bef3",
       "version_major": 2,
       "version_minor": 0
      },
      "text/plain": [
       "Validation: |                                                                                                 …"
      ]
     },
     "metadata": {},
     "output_type": "display_data"
    },
    {
     "data": {
      "application/vnd.jupyter.widget-view+json": {
       "model_id": "41e0b25a0af64cec9aad3fcc11c944be",
       "version_major": 2,
       "version_minor": 0
      },
      "text/plain": [
       "Validation: |                                                                                                 …"
      ]
     },
     "metadata": {},
     "output_type": "display_data"
    },
    {
     "data": {
      "application/vnd.jupyter.widget-view+json": {
       "model_id": "20bdb0283faf4431a687e2ef2cfa6857",
       "version_major": 2,
       "version_minor": 0
      },
      "text/plain": [
       "Validation: |                                                                                                 …"
      ]
     },
     "metadata": {},
     "output_type": "display_data"
    },
    {
     "data": {
      "application/vnd.jupyter.widget-view+json": {
       "model_id": "f0f44f8f120040fc8582eb7cf01c087e",
       "version_major": 2,
       "version_minor": 0
      },
      "text/plain": [
       "Validation: |                                                                                                 …"
      ]
     },
     "metadata": {},
     "output_type": "display_data"
    },
    {
     "data": {
      "application/vnd.jupyter.widget-view+json": {
       "model_id": "ef13024bf144423e90cbc2cc9e39a1ce",
       "version_major": 2,
       "version_minor": 0
      },
      "text/plain": [
       "Validation: |                                                                                                 …"
      ]
     },
     "metadata": {},
     "output_type": "display_data"
    },
    {
     "data": {
      "application/vnd.jupyter.widget-view+json": {
       "model_id": "e0d8ae39eef344ec84ef7d16604fd8b7",
       "version_major": 2,
       "version_minor": 0
      },
      "text/plain": [
       "Validation: |                                                                                                 …"
      ]
     },
     "metadata": {},
     "output_type": "display_data"
    },
    {
     "data": {
      "application/vnd.jupyter.widget-view+json": {
       "model_id": "550e4086195f4fcd8a045a8f855fdbf5",
       "version_major": 2,
       "version_minor": 0
      },
      "text/plain": [
       "Validation: |                                                                                                 …"
      ]
     },
     "metadata": {},
     "output_type": "display_data"
    },
    {
     "data": {
      "application/vnd.jupyter.widget-view+json": {
       "model_id": "5641cbbc899d46ebbf6450e7a0b4cce1",
       "version_major": 2,
       "version_minor": 0
      },
      "text/plain": [
       "Validation: |                                                                                                 …"
      ]
     },
     "metadata": {},
     "output_type": "display_data"
    },
    {
     "data": {
      "application/vnd.jupyter.widget-view+json": {
       "model_id": "1ea56519961b445a911d080c93c6c50a",
       "version_major": 2,
       "version_minor": 0
      },
      "text/plain": [
       "Validation: |                                                                                                 …"
      ]
     },
     "metadata": {},
     "output_type": "display_data"
    },
    {
     "data": {
      "application/vnd.jupyter.widget-view+json": {
       "model_id": "2157ac6177c34a34a29c0e71c3ec6540",
       "version_major": 2,
       "version_minor": 0
      },
      "text/plain": [
       "Validation: |                                                                                                 …"
      ]
     },
     "metadata": {},
     "output_type": "display_data"
    },
    {
     "data": {
      "application/vnd.jupyter.widget-view+json": {
       "model_id": "270e941215a046d4938b9050ce761ae8",
       "version_major": 2,
       "version_minor": 0
      },
      "text/plain": [
       "Validation: |                                                                                                 …"
      ]
     },
     "metadata": {},
     "output_type": "display_data"
    },
    {
     "data": {
      "application/vnd.jupyter.widget-view+json": {
       "model_id": "5a2ca054a2004900b5616dfb0eb19cbf",
       "version_major": 2,
       "version_minor": 0
      },
      "text/plain": [
       "Validation: |                                                                                                 …"
      ]
     },
     "metadata": {},
     "output_type": "display_data"
    },
    {
     "data": {
      "application/vnd.jupyter.widget-view+json": {
       "model_id": "86b6358658d34198b51e18301d51e356",
       "version_major": 2,
       "version_minor": 0
      },
      "text/plain": [
       "Validation: |                                                                                                 …"
      ]
     },
     "metadata": {},
     "output_type": "display_data"
    },
    {
     "data": {
      "application/vnd.jupyter.widget-view+json": {
       "model_id": "a22d8a044abe4d00b5fec7017fa63a16",
       "version_major": 2,
       "version_minor": 0
      },
      "text/plain": [
       "Validation: |                                                                                                 …"
      ]
     },
     "metadata": {},
     "output_type": "display_data"
    },
    {
     "data": {
      "application/vnd.jupyter.widget-view+json": {
       "model_id": "59aa9801f420404ea168fdfe6bd6d6f7",
       "version_major": 2,
       "version_minor": 0
      },
      "text/plain": [
       "Validation: |                                                                                                 …"
      ]
     },
     "metadata": {},
     "output_type": "display_data"
    },
    {
     "data": {
      "application/vnd.jupyter.widget-view+json": {
       "model_id": "6c712d2c8c8f4a94a5b3e97466a55302",
       "version_major": 2,
       "version_minor": 0
      },
      "text/plain": [
       "Validation: |                                                                                                 …"
      ]
     },
     "metadata": {},
     "output_type": "display_data"
    },
    {
     "data": {
      "application/vnd.jupyter.widget-view+json": {
       "model_id": "95a7ee0eea824db18ab37efdeca725e8",
       "version_major": 2,
       "version_minor": 0
      },
      "text/plain": [
       "Validation: |                                                                                                 …"
      ]
     },
     "metadata": {},
     "output_type": "display_data"
    },
    {
     "data": {
      "application/vnd.jupyter.widget-view+json": {
       "model_id": "30ee124252f848069769bed7b1b3317c",
       "version_major": 2,
       "version_minor": 0
      },
      "text/plain": [
       "Validation: |                                                                                                 …"
      ]
     },
     "metadata": {},
     "output_type": "display_data"
    },
    {
     "data": {
      "application/vnd.jupyter.widget-view+json": {
       "model_id": "73179d163738445e936d33d0fb2b29ec",
       "version_major": 2,
       "version_minor": 0
      },
      "text/plain": [
       "Validation: |                                                                                                 …"
      ]
     },
     "metadata": {},
     "output_type": "display_data"
    },
    {
     "data": {
      "application/vnd.jupyter.widget-view+json": {
       "model_id": "910e0f7e546a43e9aa5a13d61e5c3f16",
       "version_major": 2,
       "version_minor": 0
      },
      "text/plain": [
       "Validation: |                                                                                                 …"
      ]
     },
     "metadata": {},
     "output_type": "display_data"
    },
    {
     "data": {
      "application/vnd.jupyter.widget-view+json": {
       "model_id": "908410a1390c44a091aae0bc89c75cb8",
       "version_major": 2,
       "version_minor": 0
      },
      "text/plain": [
       "Validation: |                                                                                                 …"
      ]
     },
     "metadata": {},
     "output_type": "display_data"
    },
    {
     "data": {
      "application/vnd.jupyter.widget-view+json": {
       "model_id": "35c239914c2c498c8afa869f9ac2b1f8",
       "version_major": 2,
       "version_minor": 0
      },
      "text/plain": [
       "Validation: |                                                                                                 …"
      ]
     },
     "metadata": {},
     "output_type": "display_data"
    },
    {
     "data": {
      "application/vnd.jupyter.widget-view+json": {
       "model_id": "eb7914b481e84fbc97fba345b72bb1d5",
       "version_major": 2,
       "version_minor": 0
      },
      "text/plain": [
       "Validation: |                                                                                                 …"
      ]
     },
     "metadata": {},
     "output_type": "display_data"
    },
    {
     "data": {
      "application/vnd.jupyter.widget-view+json": {
       "model_id": "99df7e949fb34080a18e1c12966e8e8f",
       "version_major": 2,
       "version_minor": 0
      },
      "text/plain": [
       "Validation: |                                                                                                 …"
      ]
     },
     "metadata": {},
     "output_type": "display_data"
    },
    {
     "data": {
      "application/vnd.jupyter.widget-view+json": {
       "model_id": "eb0f038bc9ce412e8dc373d1c926323b",
       "version_major": 2,
       "version_minor": 0
      },
      "text/plain": [
       "Validation: |                                                                                                 …"
      ]
     },
     "metadata": {},
     "output_type": "display_data"
    },
    {
     "data": {
      "application/vnd.jupyter.widget-view+json": {
       "model_id": "30221a101bcb416380161494d8c6edbe",
       "version_major": 2,
       "version_minor": 0
      },
      "text/plain": [
       "Validation: |                                                                                                 …"
      ]
     },
     "metadata": {},
     "output_type": "display_data"
    },
    {
     "data": {
      "application/vnd.jupyter.widget-view+json": {
       "model_id": "f15c93b9893a46a5be73979232d11930",
       "version_major": 2,
       "version_minor": 0
      },
      "text/plain": [
       "Validation: |                                                                                                 …"
      ]
     },
     "metadata": {},
     "output_type": "display_data"
    },
    {
     "data": {
      "application/vnd.jupyter.widget-view+json": {
       "model_id": "30944dc6630b4f249bb4f094d485464a",
       "version_major": 2,
       "version_minor": 0
      },
      "text/plain": [
       "Validation: |                                                                                                 …"
      ]
     },
     "metadata": {},
     "output_type": "display_data"
    },
    {
     "data": {
      "application/vnd.jupyter.widget-view+json": {
       "model_id": "802464ea6b4741298a0a65108d0ffbd3",
       "version_major": 2,
       "version_minor": 0
      },
      "text/plain": [
       "Validation: |                                                                                                 …"
      ]
     },
     "metadata": {},
     "output_type": "display_data"
    },
    {
     "data": {
      "application/vnd.jupyter.widget-view+json": {
       "model_id": "b0d9c1b535234556a0279efd8a916d22",
       "version_major": 2,
       "version_minor": 0
      },
      "text/plain": [
       "Validation: |                                                                                                 …"
      ]
     },
     "metadata": {},
     "output_type": "display_data"
    },
    {
     "data": {
      "application/vnd.jupyter.widget-view+json": {
       "model_id": "1cabdcf998124a018703ed8a5fbbfc93",
       "version_major": 2,
       "version_minor": 0
      },
      "text/plain": [
       "Validation: |                                                                                                 …"
      ]
     },
     "metadata": {},
     "output_type": "display_data"
    },
    {
     "data": {
      "application/vnd.jupyter.widget-view+json": {
       "model_id": "fe2582807f8e410083705395bbe2fba8",
       "version_major": 2,
       "version_minor": 0
      },
      "text/plain": [
       "Validation: |                                                                                                 …"
      ]
     },
     "metadata": {},
     "output_type": "display_data"
    },
    {
     "data": {
      "application/vnd.jupyter.widget-view+json": {
       "model_id": "51d5f27b039e49649d1cb0fb6a54faf8",
       "version_major": 2,
       "version_minor": 0
      },
      "text/plain": [
       "Validation: |                                                                                                 …"
      ]
     },
     "metadata": {},
     "output_type": "display_data"
    },
    {
     "data": {
      "application/vnd.jupyter.widget-view+json": {
       "model_id": "2c07e42efdf2438c87638b07888c999f",
       "version_major": 2,
       "version_minor": 0
      },
      "text/plain": [
       "Validation: |                                                                                                 …"
      ]
     },
     "metadata": {},
     "output_type": "display_data"
    },
    {
     "data": {
      "application/vnd.jupyter.widget-view+json": {
       "model_id": "6bf912830e284c778a92a791cda072e9",
       "version_major": 2,
       "version_minor": 0
      },
      "text/plain": [
       "Validation: |                                                                                                 …"
      ]
     },
     "metadata": {},
     "output_type": "display_data"
    },
    {
     "data": {
      "application/vnd.jupyter.widget-view+json": {
       "model_id": "5d85a65f9e404fcbb47bd1a875a74373",
       "version_major": 2,
       "version_minor": 0
      },
      "text/plain": [
       "Validation: |                                                                                                 …"
      ]
     },
     "metadata": {},
     "output_type": "display_data"
    },
    {
     "data": {
      "application/vnd.jupyter.widget-view+json": {
       "model_id": "94b3acd55e264401bdcc802e08caadab",
       "version_major": 2,
       "version_minor": 0
      },
      "text/plain": [
       "Validation: |                                                                                                 …"
      ]
     },
     "metadata": {},
     "output_type": "display_data"
    },
    {
     "data": {
      "application/vnd.jupyter.widget-view+json": {
       "model_id": "ad0af832f84c48aa93acc3daa0db8deb",
       "version_major": 2,
       "version_minor": 0
      },
      "text/plain": [
       "Validation: |                                                                                                 …"
      ]
     },
     "metadata": {},
     "output_type": "display_data"
    },
    {
     "data": {
      "application/vnd.jupyter.widget-view+json": {
       "model_id": "e2e84e33e9474c11a84592af4b8d97c4",
       "version_major": 2,
       "version_minor": 0
      },
      "text/plain": [
       "Validation: |                                                                                                 …"
      ]
     },
     "metadata": {},
     "output_type": "display_data"
    },
    {
     "data": {
      "application/vnd.jupyter.widget-view+json": {
       "model_id": "9b00aa7442884d80964228b6aa98461e",
       "version_major": 2,
       "version_minor": 0
      },
      "text/plain": [
       "Validation: |                                                                                                 …"
      ]
     },
     "metadata": {},
     "output_type": "display_data"
    },
    {
     "data": {
      "application/vnd.jupyter.widget-view+json": {
       "model_id": "a50efff9c3e7453ea47df369275db7dd",
       "version_major": 2,
       "version_minor": 0
      },
      "text/plain": [
       "Validation: |                                                                                                 …"
      ]
     },
     "metadata": {},
     "output_type": "display_data"
    },
    {
     "data": {
      "application/vnd.jupyter.widget-view+json": {
       "model_id": "4d119a3511b84d32a46ae592779556c8",
       "version_major": 2,
       "version_minor": 0
      },
      "text/plain": [
       "Validation: |                                                                                                 …"
      ]
     },
     "metadata": {},
     "output_type": "display_data"
    },
    {
     "data": {
      "application/vnd.jupyter.widget-view+json": {
       "model_id": "1f1b9fa097b540c5a31e765ee1992f91",
       "version_major": 2,
       "version_minor": 0
      },
      "text/plain": [
       "Validation: |                                                                                                 …"
      ]
     },
     "metadata": {},
     "output_type": "display_data"
    },
    {
     "data": {
      "application/vnd.jupyter.widget-view+json": {
       "model_id": "6249fd53a0414c89b7fd8f2c6c9e42da",
       "version_major": 2,
       "version_minor": 0
      },
      "text/plain": [
       "Validation: |                                                                                                 …"
      ]
     },
     "metadata": {},
     "output_type": "display_data"
    },
    {
     "name": "stderr",
     "output_type": "stream",
     "text": [
      "`Trainer.fit` stopped: `max_epochs=100` reached.\n",
      "\u001b[32m2024-11-10 19:24:12.241\u001b[0m | \u001b[1mINFO    \u001b[0m | \u001b[36msrc.ranker.trainer\u001b[0m:\u001b[36mon_fit_end\u001b[0m:\u001b[36m171\u001b[0m - \u001b[1mLogging classification metrics...\u001b[0m\n",
      "\u001b[32m2024-11-10 19:24:30.729\u001b[0m | \u001b[1mINFO    \u001b[0m | \u001b[36m__main__\u001b[0m:\u001b[36m<module>\u001b[0m:\u001b[36m37\u001b[0m - \u001b[1mLogs available at /home/dvquys/frostmourne/recsys-mvp/notebooks/data/037-add-llm-item-tags/logs/overfit/lightning_logs/version_0\u001b[0m\n"
     ]
    }
   ],
   "source": [
    "early_stopping = EarlyStopping(\n",
    "    monitor=\"val_loss\", patience=10, mode=\"min\", verbose=False\n",
    ")\n",
    "\n",
    "model = init_model(\n",
    "    n_users,\n",
    "    n_items,\n",
    "    args.embedding_dim,\n",
    "    args.item_sequence_ts_bucket_size,\n",
    "    args.bucket_embedding_dim,\n",
    "    item_feature_size,\n",
    "    dropout=0,\n",
    ")\n",
    "lit_model = LitRanker(\n",
    "    model,\n",
    "    learning_rate=args.learning_rate,\n",
    "    l2_reg=0.0,\n",
    "    log_dir=args.notebook_persist_dp,\n",
    "    accelerator=args.device,\n",
    ")\n",
    "\n",
    "log_dir = f\"{args.notebook_persist_dp}/logs/overfit\"\n",
    "\n",
    "# train model\n",
    "trainer = L.Trainer(\n",
    "    default_root_dir=log_dir,\n",
    "    accelerator=args.device if args.device else \"auto\",\n",
    "    max_epochs=100,\n",
    "    overfit_batches=1,\n",
    "    callbacks=[early_stopping],\n",
    ")\n",
    "trainer.fit(\n",
    "    model=lit_model,\n",
    "    train_dataloaders=train_loader,\n",
    "    val_dataloaders=train_loader,\n",
    ")\n",
    "logger.info(f\"Logs available at {trainer.log_dir}\")"
   ]
  },
  {
   "cell_type": "code",
   "execution_count": 25,
   "id": "b2cc9ae0-a993-4815-bebd-85cc51e68e65",
   "metadata": {},
   "outputs": [
    {
     "data": {
      "text/html": [
       "\n",
       "      <iframe id=\"tensorboard-frame-fe48f8afd634ff2c\" width=\"100%\" height=\"800\" frameborder=\"0\">\n",
       "      </iframe>\n",
       "      <script>\n",
       "        (function() {\n",
       "          const frame = document.getElementById(\"tensorboard-frame-fe48f8afd634ff2c\");\n",
       "          const url = new URL(\"/\", window.location);\n",
       "          const port = 6006;\n",
       "          if (port) {\n",
       "            url.port = port;\n",
       "          }\n",
       "          frame.src = url;\n",
       "        })();\n",
       "      </script>\n",
       "    "
      ],
      "text/plain": [
       "<IPython.core.display.HTML object>"
      ]
     },
     "metadata": {},
     "output_type": "display_data"
    }
   ],
   "source": [
    "%tensorboard --logdir $trainer.log_dir --host localhost"
   ]
  },
  {
   "cell_type": "markdown",
   "id": "65c7e4af-5c66-454e-9e2c-2ca134f4e1cf",
   "metadata": {},
   "source": [
    "##### Fit on all data"
   ]
  },
  {
   "cell_type": "code",
   "execution_count": 26,
   "id": "65d821e0-3255-4947-b720-81a2f83a4911",
   "metadata": {},
   "outputs": [
    {
     "name": "stderr",
     "output_type": "stream",
     "text": [
      "\u001b[32m2024-11-10 19:24:31.841\u001b[0m | \u001b[1mINFO    \u001b[0m | \u001b[36m__main__\u001b[0m:\u001b[36m<module>\u001b[0m:\u001b[36m4\u001b[0m - \u001b[1mMean std over categorical and numerical features: 0.9988587498664856\u001b[0m\n"
     ]
    },
    {
     "data": {
      "application/vnd.jupyter.widget-view+json": {
       "model_id": "e5ca1e2dd7034d149240307ffdc5758b",
       "version_major": 2,
       "version_minor": 0
      },
      "text/plain": [
       "  0%|          | 0/47 [00:00<?, ?it/s]"
      ]
     },
     "metadata": {},
     "output_type": "display_data"
    },
    {
     "name": "stderr",
     "output_type": "stream",
     "text": [
      "\u001b[32m2024-11-10 19:24:33.073\u001b[0m | \u001b[1mINFO    \u001b[0m | \u001b[36m__main__\u001b[0m:\u001b[36m<module>\u001b[0m:\u001b[36m11\u001b[0m - \u001b[1mMean std over text features: 0.015866756439208984\u001b[0m\n"
     ]
    }
   ],
   "source": [
    "all_items_df = train_df.drop_duplicates(subset=[\"item_indice\"])\n",
    "all_items_indices = all_items_df[\"item_indice\"].values\n",
    "all_items_features = item_metadata_pipeline.transform(all_items_df).astype(np.float32)\n",
    "logger.info(\n",
    "    f\"Mean std over categorical and numerical features: {all_items_features.std(axis=0).mean()}\"\n",
    ")\n",
    "if args.rc.use_sbert_features:\n",
    "    all_sbert_vectors = ann_index.get_vector_by_ids(all_items_indices.tolist()).astype(\n",
    "        np.float32\n",
    "    )\n",
    "    logger.info(f\"Mean std over text features: {all_sbert_vectors.std(axis=0).mean()}\")\n",
    "    all_items_features = np.hstack([all_items_features, all_sbert_vectors])"
   ]
  },
  {
   "cell_type": "code",
   "execution_count": 27,
   "id": "9b3e950d-008b-4564-845e-a68d3c96ef5d",
   "metadata": {
    "scrolled": true
   },
   "outputs": [],
   "source": [
    "# papermill_description=fit-model\n",
    "early_stopping = EarlyStopping(\n",
    "    monitor=\"val_loss\", patience=args.early_stopping_patience, mode=\"min\", verbose=False\n",
    ")\n",
    "\n",
    "checkpoint_callback = ModelCheckpoint(\n",
    "    dirpath=f\"{args.notebook_persist_dp}/checkpoints\",\n",
    "    filename=\"best-checkpoint\",\n",
    "    save_top_k=1,\n",
    "    monitor=\"val_loss\",\n",
    "    mode=\"min\",\n",
    ")\n",
    "\n",
    "model = init_model(\n",
    "    n_users,\n",
    "    n_items,\n",
    "    args.embedding_dim,\n",
    "    args.item_sequence_ts_bucket_size,\n",
    "    args.bucket_embedding_dim,\n",
    "    item_feature_size,\n",
    "    dropout=args.dropout,\n",
    "    item_embedding=pretrained_item_embedding,\n",
    ")\n",
    "lit_model = LitRanker(\n",
    "    model,\n",
    "    learning_rate=args.learning_rate,\n",
    "    l2_reg=args.l2_reg,\n",
    "    log_dir=args.notebook_persist_dp,\n",
    "    evaluate_ranking=True,\n",
    "    idm=idm,\n",
    "    all_items_indices=all_items_indices,\n",
    "    all_items_features=all_items_features,\n",
    "    args=args,\n",
    "    neg_to_pos_ratio=args.neg_to_pos_ratio,\n",
    "    checkpoint_callback=checkpoint_callback,\n",
    "    accelerator=args.device,\n",
    ")"
   ]
  },
  {
   "cell_type": "code",
   "execution_count": 28,
   "id": "2f9142d9-2c1c-47e0-890b-2104f6726ff0",
   "metadata": {
    "scrolled": true
   },
   "outputs": [
    {
     "name": "stderr",
     "output_type": "stream",
     "text": [
      "GPU available: True (cuda), used: True\n",
      "TPU available: False, using: 0 TPU cores\n",
      "HPU available: False, using: 0 HPUs\n",
      "LOCAL_RANK: 0 - CUDA_VISIBLE_DEVICES: [0]\n",
      "\n",
      "  | Name  | Type   | Params | Mode \n",
      "-----------------------------------------\n",
      "0 | model | Ranker | 3.4 M  | train\n",
      "-----------------------------------------\n",
      "3.4 M     Trainable params\n",
      "0         Non-trainable params\n",
      "3.4 M     Total params\n",
      "13.712    Total estimated model params size (MB)\n",
      "15        Modules in train mode\n",
      "0         Modules in eval mode\n"
     ]
    },
    {
     "data": {
      "application/vnd.jupyter.widget-view+json": {
       "model_id": "",
       "version_major": 2,
       "version_minor": 0
      },
      "text/plain": [
       "Sanity Checking: |                                                                                            …"
      ]
     },
     "metadata": {},
     "output_type": "display_data"
    },
    {
     "name": "stderr",
     "output_type": "stream",
     "text": [
      "/home/dvquys/frostmourne/recsys-mvp/.venv/lib/python3.11/site-packages/lightning/pytorch/trainer/connectors/data_connector.py:424: PossibleUserWarning:\n",
      "\n",
      "The 'val_dataloader' does not have many workers which may be a bottleneck. Consider increasing the value of the `num_workers` argument` to `num_workers=11` in the `DataLoader` to improve performance.\n",
      "\n",
      "/home/dvquys/frostmourne/recsys-mvp/.venv/lib/python3.11/site-packages/lightning/pytorch/trainer/connectors/data_connector.py:424: PossibleUserWarning:\n",
      "\n",
      "The 'train_dataloader' does not have many workers which may be a bottleneck. Consider increasing the value of the `num_workers` argument` to `num_workers=11` in the `DataLoader` to improve performance.\n",
      "\n"
     ]
    },
    {
     "data": {
      "application/vnd.jupyter.widget-view+json": {
       "model_id": "1242ba962e3d4efab3f5ff8f7deca7fa",
       "version_major": 2,
       "version_minor": 0
      },
      "text/plain": [
       "Training: |                                                                                                   …"
      ]
     },
     "metadata": {},
     "output_type": "display_data"
    },
    {
     "data": {
      "application/vnd.jupyter.widget-view+json": {
       "model_id": "",
       "version_major": 2,
       "version_minor": 0
      },
      "text/plain": [
       "Validation: |                                                                                                 …"
      ]
     },
     "metadata": {},
     "output_type": "display_data"
    },
    {
     "data": {
      "application/vnd.jupyter.widget-view+json": {
       "model_id": "",
       "version_major": 2,
       "version_minor": 0
      },
      "text/plain": [
       "Validation: |                                                                                                 …"
      ]
     },
     "metadata": {},
     "output_type": "display_data"
    },
    {
     "data": {
      "application/vnd.jupyter.widget-view+json": {
       "model_id": "",
       "version_major": 2,
       "version_minor": 0
      },
      "text/plain": [
       "Validation: |                                                                                                 …"
      ]
     },
     "metadata": {},
     "output_type": "display_data"
    },
    {
     "data": {
      "application/vnd.jupyter.widget-view+json": {
       "model_id": "",
       "version_major": 2,
       "version_minor": 0
      },
      "text/plain": [
       "Validation: |                                                                                                 …"
      ]
     },
     "metadata": {},
     "output_type": "display_data"
    },
    {
     "data": {
      "application/vnd.jupyter.widget-view+json": {
       "model_id": "",
       "version_major": 2,
       "version_minor": 0
      },
      "text/plain": [
       "Validation: |                                                                                                 …"
      ]
     },
     "metadata": {},
     "output_type": "display_data"
    },
    {
     "data": {
      "application/vnd.jupyter.widget-view+json": {
       "model_id": "",
       "version_major": 2,
       "version_minor": 0
      },
      "text/plain": [
       "Validation: |                                                                                                 …"
      ]
     },
     "metadata": {},
     "output_type": "display_data"
    },
    {
     "data": {
      "application/vnd.jupyter.widget-view+json": {
       "model_id": "",
       "version_major": 2,
       "version_minor": 0
      },
      "text/plain": [
       "Validation: |                                                                                                 …"
      ]
     },
     "metadata": {},
     "output_type": "display_data"
    },
    {
     "data": {
      "application/vnd.jupyter.widget-view+json": {
       "model_id": "",
       "version_major": 2,
       "version_minor": 0
      },
      "text/plain": [
       "Validation: |                                                                                                 …"
      ]
     },
     "metadata": {},
     "output_type": "display_data"
    },
    {
     "data": {
      "application/vnd.jupyter.widget-view+json": {
       "model_id": "",
       "version_major": 2,
       "version_minor": 0
      },
      "text/plain": [
       "Validation: |                                                                                                 …"
      ]
     },
     "metadata": {},
     "output_type": "display_data"
    },
    {
     "data": {
      "application/vnd.jupyter.widget-view+json": {
       "model_id": "",
       "version_major": 2,
       "version_minor": 0
      },
      "text/plain": [
       "Validation: |                                                                                                 …"
      ]
     },
     "metadata": {},
     "output_type": "display_data"
    },
    {
     "data": {
      "application/vnd.jupyter.widget-view+json": {
       "model_id": "",
       "version_major": 2,
       "version_minor": 0
      },
      "text/plain": [
       "Validation: |                                                                                                 …"
      ]
     },
     "metadata": {},
     "output_type": "display_data"
    },
    {
     "data": {
      "application/vnd.jupyter.widget-view+json": {
       "model_id": "",
       "version_major": 2,
       "version_minor": 0
      },
      "text/plain": [
       "Validation: |                                                                                                 …"
      ]
     },
     "metadata": {},
     "output_type": "display_data"
    },
    {
     "data": {
      "application/vnd.jupyter.widget-view+json": {
       "model_id": "",
       "version_major": 2,
       "version_minor": 0
      },
      "text/plain": [
       "Validation: |                                                                                                 …"
      ]
     },
     "metadata": {},
     "output_type": "display_data"
    },
    {
     "name": "stderr",
     "output_type": "stream",
     "text": [
      "\u001b[32m2024-11-10 19:29:15.787\u001b[0m | \u001b[1mINFO    \u001b[0m | \u001b[36msrc.ranker.trainer\u001b[0m:\u001b[36mon_fit_end\u001b[0m:\u001b[36m164\u001b[0m - \u001b[1mLoading best model from /home/dvquys/frostmourne/recsys-mvp/notebooks/data/037-add-llm-item-tags/checkpoints/best-checkpoint.ckpt...\u001b[0m\n",
      "\u001b[32m2024-11-10 19:29:15.967\u001b[0m | \u001b[1mINFO    \u001b[0m | \u001b[36msrc.ranker.trainer\u001b[0m:\u001b[36mon_fit_end\u001b[0m:\u001b[36m171\u001b[0m - \u001b[1mLogging classification metrics...\u001b[0m\n",
      "\u001b[32m2024-11-10 19:29:16.469\u001b[0m | \u001b[1mINFO    \u001b[0m | \u001b[36msrc.ranker.trainer\u001b[0m:\u001b[36mon_fit_end\u001b[0m:\u001b[36m174\u001b[0m - \u001b[1mLogging ranking metrics...\u001b[0m\n"
     ]
    },
    {
     "data": {
      "application/vnd.jupyter.widget-view+json": {
       "model_id": "73ce07cd03d24b3e86b3d4aae7d67d48",
       "version_major": 2,
       "version_minor": 0
      },
      "text/plain": [
       "Generating recommendations:   0%|          | 0/177 [00:00<?, ?it/s]"
      ]
     },
     "metadata": {},
     "output_type": "display_data"
    },
    {
     "name": "stderr",
     "output_type": "stream",
     "text": [
      "2024/11/10 19:29:22 INFO mlflow.tracking._tracking_service.client: 🏃 View run 037-add-llm-item-tags at: http://localhost:5002/#/experiments/3/runs/0fa27d4da91a41f0bb5b3bce829e506b.\n",
      "2024/11/10 19:29:22 INFO mlflow.tracking._tracking_service.client: 🧪 View experiment at: http://localhost:5002/#/experiments/3.\n"
     ]
    }
   ],
   "source": [
    "log_dir = f\"{args.notebook_persist_dp}/logs/run\"\n",
    "\n",
    "# train model\n",
    "trainer = L.Trainer(\n",
    "    default_root_dir=log_dir,\n",
    "    max_epochs=args.max_epochs,\n",
    "    callbacks=[early_stopping, checkpoint_callback],\n",
    "    accelerator=args.device if args.device else \"auto\",\n",
    "    logger=args._mlf_logger if args.log_to_mlflow else None,\n",
    ")\n",
    "trainer.fit(\n",
    "    model=lit_model,\n",
    "    train_dataloaders=train_loader,\n",
    "    val_dataloaders=val_loader,\n",
    ")"
   ]
  },
  {
   "cell_type": "code",
   "execution_count": 29,
   "id": "af44bf35-e7c7-4718-97b8-238e89b7f3f0",
   "metadata": {
    "editable": true,
    "scrolled": true,
    "slideshow": {
     "slide_type": ""
    },
    "tags": []
   },
   "outputs": [
    {
     "name": "stderr",
     "output_type": "stream",
     "text": [
      "\u001b[32m2024-11-10 19:29:22.930\u001b[0m | \u001b[1mINFO    \u001b[0m | \u001b[36m__main__\u001b[0m:\u001b[36m<module>\u001b[0m:\u001b[36m1\u001b[0m - \u001b[1mTest predicting after training with user_id = AECSORN72UHJMCT4OBY5WFFS7J2A and parent_asin = B0BFT941YQ\u001b[0m\n"
     ]
    },
    {
     "data": {
      "text/plain": [
       "Ranker(\n",
       "  (item_embedding): Embedding(4631, 128, padding_idx=4630)\n",
       "  (user_embedding): Embedding(19578, 128)\n",
       "  (item_sequence_ts_bucket_embedding): Embedding(11, 16, padding_idx=10)\n",
       "  (gru): GRU(144, 128, batch_first=True)\n",
       "  (relu): ReLU()\n",
       "  (dropout): Dropout(p=0.3, inplace=False)\n",
       "  (item_feature_tower): Sequential(\n",
       "    (0): Linear(in_features=1229, out_features=128, bias=True)\n",
       "    (1): BatchNorm1d(128, eps=1e-05, momentum=0.1, affine=True, track_running_stats=True)\n",
       "    (2): ReLU()\n",
       "    (3): Dropout(p=0.3, inplace=False)\n",
       "  )\n",
       "  (fc_rating): Sequential(\n",
       "    (0): Linear(in_features=512, out_features=128, bias=True)\n",
       "    (1): BatchNorm1d(128, eps=1e-05, momentum=0.1, affine=True, track_running_stats=True)\n",
       "    (2): ReLU()\n",
       "    (3): Dropout(p=0.3, inplace=False)\n",
       "    (4): Linear(in_features=128, out_features=1, bias=True)\n",
       "    (5): Sigmoid()\n",
       "  )\n",
       ")"
      ]
     },
     "execution_count": 29,
     "metadata": {},
     "output_type": "execute_result"
    }
   ],
   "source": [
    "logger.info(\n",
    "    f\"Test predicting after training with {args.user_col} = {user_id} and {args.item_col} = {item_id}\"\n",
    ")\n",
    "model.eval()\n",
    "model = model.to(user.device)  # Move model back to align with data device\n",
    "model.predict(user, item_sequence, item_sequence_ts_bucket, item_feature, item)\n",
    "model.train()"
   ]
  },
  {
   "cell_type": "markdown",
   "id": "f8e1dd22-bcb9-4582-96d0-30acc4e8b790",
   "metadata": {
    "editable": true,
    "slideshow": {
     "slide_type": ""
    },
    "tags": []
   },
   "source": [
    "# Load best checkpoint"
   ]
  },
  {
   "cell_type": "code",
   "execution_count": 30,
   "id": "092427a8-ac4e-4752-a0ee-10729b6e563c",
   "metadata": {
    "scrolled": true
   },
   "outputs": [
    {
     "name": "stderr",
     "output_type": "stream",
     "text": [
      "\u001b[32m2024-11-10 19:29:22.958\u001b[0m | \u001b[1mINFO    \u001b[0m | \u001b[36m__main__\u001b[0m:\u001b[36m<module>\u001b[0m:\u001b[36m1\u001b[0m - \u001b[1mLoading best checkpoint from /home/dvquys/frostmourne/recsys-mvp/notebooks/data/037-add-llm-item-tags/checkpoints/best-checkpoint.ckpt...\u001b[0m\n"
     ]
    }
   ],
   "source": [
    "logger.info(f\"Loading best checkpoint from {checkpoint_callback.best_model_path}...\")\n",
    "args.best_checkpoint_path = checkpoint_callback.best_model_path\n",
    "\n",
    "best_trainer = LitRanker.load_from_checkpoint(\n",
    "    checkpoint_callback.best_model_path,\n",
    "    model=init_model(\n",
    "        n_users,\n",
    "        n_items,\n",
    "        args.embedding_dim,\n",
    "        args.item_sequence_ts_bucket_size,\n",
    "        args.bucket_embedding_dim,\n",
    "        item_feature_size,\n",
    "        dropout=0,\n",
    "        item_embedding=pretrained_item_embedding,\n",
    "    ),\n",
    ")"
   ]
  },
  {
   "cell_type": "code",
   "execution_count": 31,
   "id": "e68989e7-cd28-4cb3-9a28-5bd477bb67c4",
   "metadata": {},
   "outputs": [],
   "source": [
    "best_model = best_trainer.model.to(lit_model.device)"
   ]
  },
  {
   "cell_type": "code",
   "execution_count": 32,
   "id": "72062d94-6ee8-480f-b7c6-9dcae2ceeb8b",
   "metadata": {
    "scrolled": true
   },
   "outputs": [
    {
     "data": {
      "text/plain": [
       "Ranker(\n",
       "  (item_embedding): Embedding(4631, 128, padding_idx=4630)\n",
       "  (user_embedding): Embedding(19578, 128)\n",
       "  (item_sequence_ts_bucket_embedding): Embedding(11, 16, padding_idx=10)\n",
       "  (gru): GRU(144, 128, batch_first=True)\n",
       "  (relu): ReLU()\n",
       "  (dropout): Dropout(p=0, inplace=False)\n",
       "  (item_feature_tower): Sequential(\n",
       "    (0): Linear(in_features=1229, out_features=128, bias=True)\n",
       "    (1): BatchNorm1d(128, eps=1e-05, momentum=0.1, affine=True, track_running_stats=True)\n",
       "    (2): ReLU()\n",
       "    (3): Dropout(p=0, inplace=False)\n",
       "  )\n",
       "  (fc_rating): Sequential(\n",
       "    (0): Linear(in_features=512, out_features=128, bias=True)\n",
       "    (1): BatchNorm1d(128, eps=1e-05, momentum=0.1, affine=True, track_running_stats=True)\n",
       "    (2): ReLU()\n",
       "    (3): Dropout(p=0, inplace=False)\n",
       "    (4): Linear(in_features=128, out_features=1, bias=True)\n",
       "    (5): Sigmoid()\n",
       "  )\n",
       ")"
      ]
     },
     "execution_count": 32,
     "metadata": {},
     "output_type": "execute_result"
    }
   ],
   "source": [
    "best_model.eval()\n",
    "best_model.predict(user, item_sequence, item_sequence_ts_bucket, item_feature, item)\n",
    "best_model.train()"
   ]
  },
  {
   "cell_type": "markdown",
   "id": "26afc39d-5cbd-4ea4-9484-f6419b460bde",
   "metadata": {
    "scrolled": true
   },
   "source": [
    "### Persist artifacts"
   ]
  },
  {
   "cell_type": "code",
   "execution_count": 33,
   "id": "275bcb81-bf50-4757-9e63-5c7a317b276f",
   "metadata": {},
   "outputs": [],
   "source": [
    "if args.log_to_mlflow:\n",
    "    # Persist id_mapping so that at inference we can predict based on item_ids (string) instead of item_index\n",
    "    run_id = trainer.logger.run_id\n",
    "    mlf_client = trainer.logger.experiment\n",
    "    mlf_client.log_artifact(run_id, idm_fp)\n",
    "    # Persist item_feature_metadata pipeline\n",
    "    mlf_client.log_artifact(run_id, args.item_metadata_pipeline_fp)\n",
    "\n",
    "    # Persist model architecture\n",
    "    model_architecture_fp = f\"{args.notebook_persist_dp}/model_architecture.txt\"\n",
    "    with open(model_architecture_fp, \"w\") as f:\n",
    "        f.write(repr(model))\n",
    "    mlf_client.log_artifact(run_id, model_architecture_fp)"
   ]
  },
  {
   "cell_type": "markdown",
   "id": "73a53735-cada-4b16-b6ec-b958e20d8093",
   "metadata": {},
   "source": [
    "### Wrap inference function and register best checkpoint as MLflow model"
   ]
  },
  {
   "cell_type": "code",
   "execution_count": 34,
   "id": "fc1da4ca-1616-4f57-99fb-cb851c535a57",
   "metadata": {},
   "outputs": [],
   "source": [
    "inferrer = RankerInferenceWrapper(best_model)"
   ]
  },
  {
   "cell_type": "code",
   "execution_count": 35,
   "id": "f91c26a5-d86e-4d3a-b3a2-87e6a5e88427",
   "metadata": {},
   "outputs": [],
   "source": [
    "def generate_sample_item_features():\n",
    "    sample_row = train_df.iloc[0].fillna(0)\n",
    "    output = dict()\n",
    "    for col in args.rc.item_feature_cols:\n",
    "        v = sample_row[col]\n",
    "        if isinstance(v, np.ndarray):\n",
    "            v = \"__\".join(\n",
    "                sample_row[col].tolist()\n",
    "            )  # Workaround to avoid MLflow Got error: Per-column arrays must each be 1-dimensional\n",
    "        output[col] = [v]\n",
    "    return output"
   ]
  },
  {
   "cell_type": "code",
   "execution_count": 36,
   "id": "a21791a9-d5fc-4abe-bc3c-820aba9f0759",
   "metadata": {},
   "outputs": [
    {
     "data": {
      "text/plain": [
       "array([0.8922505], dtype=float32)"
      ]
     },
     "execution_count": 36,
     "metadata": {},
     "output_type": "execute_result"
    }
   ],
   "source": [
    "sample_input = {\n",
    "    args.user_col: [idm.get_user_id(0)],\n",
    "    \"item_sequence\": [\",\".join([idm.get_item_id(0), idm.get_item_id(1)])],\n",
    "    \"item_sequence_ts\": [\n",
    "        \"1095133116,109770848\"\n",
    "    ],  # Here we input unix timestamp seconds instead of timestamp bucket because we need to calculate the bucket\n",
    "    # **{col: [train_df.iloc[0].fillna(0)[col]] for col in args.item_feature_cols},\n",
    "    **generate_sample_item_features(),\n",
    "    args.item_col: [idm.get_item_id(0)],\n",
    "}\n",
    "sample_output = inferrer.infer([0], [[0, 1]], [[2, 0]], [train_item_features[0]], [0])\n",
    "sample_output"
   ]
  },
  {
   "cell_type": "code",
   "execution_count": 37,
   "id": "b24b5cf4-5e51-4641-bdfe-6ce289344bf6",
   "metadata": {},
   "outputs": [
    {
     "data": {
      "text/plain": [
       "{'user_id': ['AE225O22SA7DLBOGOEIFL7FT5VYQ'],\n",
       " 'item_sequence': ['0375869026,9625990674'],\n",
       " 'item_sequence_ts': ['1095133116,109770848'],\n",
       " 'main_category': ['Video Games'],\n",
       " 'categories': ['Video Games__Legacy Systems__PlayStation Systems__PlayStation 3__Accessories__Controllers'],\n",
       " 'price': ['49.99'],\n",
       " 'parent_asin_rating_cnt_365d': [76.0],\n",
       " 'parent_asin_rating_avg_prev_rating_365d': [4.592105263157895],\n",
       " 'parent_asin_rating_cnt_90d': [10.0],\n",
       " 'parent_asin_rating_avg_prev_rating_90d': [4.3],\n",
       " 'parent_asin_rating_cnt_30d': [3.0],\n",
       " 'parent_asin_rating_avg_prev_rating_30d': [5.0],\n",
       " 'parent_asin_rating_cnt_7d': [1.0],\n",
       " 'parent_asin_rating_avg_prev_rating_7d': [5.0],\n",
       " 'tags': ['Controller__Wireless__Gamepad__Ergonomic__PlayStation 3 Accessory'],\n",
       " 'parent_asin': ['0375869026']}"
      ]
     },
     "execution_count": 37,
     "metadata": {},
     "output_type": "execute_result"
    }
   ],
   "source": [
    "sample_input"
   ]
  },
  {
   "cell_type": "code",
   "execution_count": 38,
   "id": "de2c043a-f777-4ade-ab80-cfa4d90aafa8",
   "metadata": {
    "scrolled": true
   },
   "outputs": [
    {
     "name": "stderr",
     "output_type": "stream",
     "text": [
      "/home/dvquys/frostmourne/recsys-mvp/.venv/lib/python3.11/site-packages/mlflow/models/utils.py:523: FutureWarning:\n",
      "\n",
      "Since MLflow 2.16.0, we no longer convert dictionary input example to pandas Dataframe, and directly save it as a json object. If the model expects a pandas DataFrame input instead, please pass the pandas DataFrame as input example directly.\n",
      "\n"
     ]
    },
    {
     "data": {
      "application/vnd.jupyter.widget-view+json": {
       "model_id": "675c798d614c438d89f0e8e7943a908d",
       "version_major": 2,
       "version_minor": 0
      },
      "text/plain": [
       "Downloading artifacts:   0%|          | 0/1 [00:00<?, ?it/s]"
      ]
     },
     "metadata": {},
     "output_type": "display_data"
    },
    {
     "data": {
      "application/vnd.jupyter.widget-view+json": {
       "model_id": "8742569b1f8743c1bc8b17bce89e551f",
       "version_major": 2,
       "version_minor": 0
      },
      "text/plain": [
       "Downloading artifacts:   0%|          | 0/1 [00:00<?, ?it/s]"
      ]
     },
     "metadata": {},
     "output_type": "display_data"
    },
    {
     "name": "stderr",
     "output_type": "stream",
     "text": [
      "Registered model 'ranker' already exists. Creating a new version of this model...\n",
      "2024/11/10 19:29:26 INFO mlflow.store.model_registry.abstract_store: Waiting up to 300 seconds for model version to finish creation. Model name: ranker, version 5\n",
      "Created version '5' of model 'ranker'.\n"
     ]
    },
    {
     "data": {
      "application/vnd.jupyter.widget-view+json": {
       "model_id": "eded27972ef443a7b89b9faaa6f5aa51",
       "version_major": 2,
       "version_minor": 0
      },
      "text/plain": [
       "Downloading artifacts:   0%|          | 0/9 [00:00<?, ?it/s]"
      ]
     },
     "metadata": {},
     "output_type": "display_data"
    },
    {
     "data": {
      "application/vnd.jupyter.widget-view+json": {
       "model_id": "52cf726eae1d49bc9b68ebd6c82ebd63",
       "version_major": 2,
       "version_minor": 0
      },
      "text/plain": [
       "  0%|          | 0/1 [00:00<?, ?it/s]"
      ]
     },
     "metadata": {},
     "output_type": "display_data"
    },
    {
     "name": "stderr",
     "output_type": "stream",
     "text": [
      "2024/11/10 19:29:26 INFO mlflow.tracking._tracking_service.client: 🏃 View run 037-add-llm-item-tags at: http://localhost:5002/#/experiments/3/runs/0fa27d4da91a41f0bb5b3bce829e506b.\n",
      "2024/11/10 19:29:26 INFO mlflow.tracking._tracking_service.client: 🧪 View experiment at: http://localhost:5002/#/experiments/3.\n"
     ]
    }
   ],
   "source": [
    "if args.log_to_mlflow:\n",
    "    run_id = trainer.logger.run_id\n",
    "    sample_output_np = sample_output\n",
    "    signature = infer_signature(sample_input, sample_output_np)\n",
    "    idm_filename = idm_fp.split(\"/\")[-1]\n",
    "    item_metadata_pipeline_filename = args.item_metadata_pipeline_fp.split(\"/\")[-1]\n",
    "    with mlflow.start_run(run_id=run_id):\n",
    "        mlflow.pyfunc.log_model(\n",
    "            python_model=inferrer,\n",
    "            artifact_path=\"inferrer\",\n",
    "            artifacts={\n",
    "                # We log the id_mapping to the predict function so that it can accept item_id and automatically convert ot item_indice for PyTorch model to use\n",
    "                \"idm\": mlflow.get_artifact_uri(idm_filename),\n",
    "                \"item_metadata_pipeline\": mlflow.get_artifact_uri(\n",
    "                    item_metadata_pipeline_filename\n",
    "                ),\n",
    "            },\n",
    "            model_config={\"use_sbert_features\": args.rc.use_sbert_features},\n",
    "            signature=signature,\n",
    "            input_example=sample_input,\n",
    "            registered_model_name=args.mlf_model_name,\n",
    "        )"
   ]
  },
  {
   "cell_type": "markdown",
   "id": "f95d5150-9851-4e61-b1af-8e619abc9ea4",
   "metadata": {},
   "source": [
    "# Set the newly trained model as champion"
   ]
  },
  {
   "cell_type": "code",
   "execution_count": 39,
   "id": "cbf6428a-bc47-400a-99ac-666abfa4ce63",
   "metadata": {},
   "outputs": [
    {
     "name": "stderr",
     "output_type": "stream",
     "text": [
      "\u001b[32m2024-11-10 19:29:26.786\u001b[0m | \u001b[1mINFO    \u001b[0m | \u001b[36m__main__\u001b[0m:\u001b[36m<module>\u001b[0m:\u001b[36m7\u001b[0m - \u001b[1mAliasing the new model as champion...\u001b[0m\n"
     ]
    }
   ],
   "source": [
    "if args.log_to_mlflow:\n",
    "    val_roc_auc = trainer.logger.experiment.get_run(trainer.logger.run_id).data.metrics[\n",
    "        \"val_roc_auc\"\n",
    "    ]\n",
    "\n",
    "    if val_roc_auc > args.min_roc_auc:\n",
    "        logger.info(f\"Aliasing the new model as champion...\")\n",
    "        model_version = (\n",
    "            mlf_client.get_registered_model(args.mlf_model_name)\n",
    "            .latest_versions[0]\n",
    "            .version\n",
    "        )\n",
    "\n",
    "        mlf_client.set_registered_model_alias(\n",
    "            name=args.mlf_model_name, alias=\"champion\", version=model_version\n",
    "        )\n",
    "\n",
    "        mlf_client.set_model_version_tag(\n",
    "            name=args.mlf_model_name,\n",
    "            version=model_version,\n",
    "            key=\"author\",\n",
    "            value=args.author,\n",
    "        )"
   ]
  },
  {
   "cell_type": "markdown",
   "id": "32096360-c26a-42de-9564-30634fb76eeb",
   "metadata": {},
   "source": [
    "# Clean up"
   ]
  },
  {
   "cell_type": "code",
   "execution_count": 40,
   "id": "e98c6850-e4de-43fa-b132-0b97f138a0ed",
   "metadata": {
    "scrolled": true
   },
   "outputs": [
    {
     "name": "stderr",
     "output_type": "stream",
     "text": [
      "2024/11/10 19:29:26 INFO mlflow.tracking._tracking_service.client: 🏃 View run 037-add-llm-item-tags at: http://localhost:5002/#/experiments/3/runs/0fa27d4da91a41f0bb5b3bce829e506b.\n",
      "2024/11/10 19:29:26 INFO mlflow.tracking._tracking_service.client: 🧪 View experiment at: http://localhost:5002/#/experiments/3.\n"
     ]
    }
   ],
   "source": [
    "all_params = [args]\n",
    "\n",
    "if args.log_to_mlflow:\n",
    "    with mlflow.start_run(run_id=run_id):\n",
    "        for params in all_params:\n",
    "            params_dict = params.dict()\n",
    "            params_ = dict()\n",
    "            for k, v in params_dict.items():\n",
    "                if k == \"top_K\":\n",
    "                    k = \"top_big_K\"\n",
    "                if k == \"top_k\":\n",
    "                    k = \"top_small_k\"\n",
    "                params_[f\"{params.__repr_name__()}.{k}\"] = v\n",
    "            mlflow.log_params(params_)"
   ]
  },
  {
   "cell_type": "code",
   "execution_count": null,
   "id": "30cff81a-484e-4919-be8f-0351cce91a75",
   "metadata": {},
   "outputs": [],
   "source": []
  }
 ],
 "metadata": {
  "kernelspec": {
   "display_name": "Python 3 (ipykernel)",
   "language": "python",
   "name": "python3"
  },
  "language_info": {
   "codemirror_mode": {
    "name": "ipython",
    "version": 3
   },
   "file_extension": ".py",
   "mimetype": "text/x-python",
   "name": "python",
   "nbconvert_exporter": "python",
   "pygments_lexer": "ipython3",
   "version": "3.11.9"
  }
 },
 "nbformat": 4,
 "nbformat_minor": 5
}
