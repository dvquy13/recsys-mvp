{
 "cells": [
  {
   "cell_type": "markdown",
   "id": "3bf1577c-6f3b-4b1c-a848-8f5e45ff8111",
   "metadata": {},
   "source": [
    "# Ranker that can takes into accound different features"
   ]
  },
  {
   "cell_type": "markdown",
   "id": "9309e017-0449-46ee-b7ca-4c4bcadeedf6",
   "metadata": {},
   "source": [
    "# Set up"
   ]
  },
  {
   "cell_type": "code",
   "execution_count": 1,
   "id": "3c8f6e8d-f776-4d39-898c-d783c5ae3407",
   "metadata": {},
   "outputs": [],
   "source": [
    "%load_ext autoreload\n",
    "%autoreload 2\n",
    "%load_ext tensorboard"
   ]
  },
  {
   "cell_type": "code",
   "execution_count": 2,
   "id": "35b3499d-dc9c-405a-8714-a26341b581e1",
   "metadata": {
    "editable": true,
    "slideshow": {
     "slide_type": ""
    },
    "tags": []
   },
   "outputs": [],
   "source": [
    "import os\n",
    "import sys\n",
    "from typing import List\n",
    "\n",
    "import dill\n",
    "import lightning as L\n",
    "import numpy as np\n",
    "import pandas as pd\n",
    "import torch\n",
    "from dotenv import load_dotenv\n",
    "from lightning.pytorch.callbacks import ModelCheckpoint\n",
    "from lightning.pytorch.callbacks.early_stopping import EarlyStopping\n",
    "from lightning.pytorch.loggers import MLFlowLogger\n",
    "from loguru import logger\n",
    "from mlflow.models.signature import infer_signature\n",
    "from pydantic import BaseModel\n",
    "from torch.utils.data import DataLoader\n",
    "\n",
    "import mlflow\n",
    "\n",
    "load_dotenv()\n",
    "\n",
    "sys.path.insert(0, \"..\")\n",
    "\n",
    "from src.ann import AnnIndex\n",
    "from src.data_prep_utils import chunk_transform\n",
    "from src.dataset import UserItemBinaryDFDataset\n",
    "from src.id_mapper import IDMapper\n",
    "from src.ranker.inference import RankerInferenceWrapper\n",
    "from src.ranker.model import Ranker\n",
    "from src.ranker.trainer import LitRanker\n",
    "from src.viz import blueq_colors"
   ]
  },
  {
   "cell_type": "markdown",
   "id": "fd804021-3424-48e0-973a-e662a72db544",
   "metadata": {},
   "source": [
    "# Controller"
   ]
  },
  {
   "cell_type": "code",
   "execution_count": 3,
   "id": "ce522d9e-f35c-4cc5-a71e-68447956b31f",
   "metadata": {
    "editable": true,
    "slideshow": {
     "slide_type": ""
    },
    "tags": [
     "parameters"
    ]
   },
   "outputs": [],
   "source": [
    "max_epochs = 100"
   ]
  },
  {
   "cell_type": "code",
   "execution_count": 4,
   "id": "ea4e9a93-5b6a-4dec-97f0-b9aa3383c64d",
   "metadata": {
    "scrolled": true
   },
   "outputs": [
    {
     "name": "stderr",
     "output_type": "stream",
     "text": [
      "\u001b[32m2024-10-28 16:52:34.923\u001b[0m | \u001b[1mINFO    \u001b[0m | \u001b[36m__main__\u001b[0m:\u001b[36minit\u001b[0m:\u001b[36m74\u001b[0m - \u001b[1mSetting up MLflow experiment RecSys MVP - Ranker - run 030-position-encoder-reduce-dim-to-16...\u001b[0m\n"
     ]
    },
    {
     "name": "stdout",
     "output_type": "stream",
     "text": [
      "{\n",
      "  \"testing\": false,\n",
      "  \"log_to_mlflow\": true,\n",
      "  \"experiment_name\": \"RecSys MVP - Ranker\",\n",
      "  \"run_name\": \"030-position-encoder-reduce-dim-to-16\",\n",
      "  \"notebook_persist_dp\": \"/Users/dvq/frostmourne/recsys-mvp/notebooks/data/030-position-encoder-reduce-dim-to-16\",\n",
      "  \"random_seed\": 41,\n",
      "  \"device\": null,\n",
      "  \"use_sbert_features\": true,\n",
      "  \"item_metadata_pipeline_fp\": \"../data/item_metadata_pipeline.dill\",\n",
      "  \"qdrant_url\": \"localhost:6333\",\n",
      "  \"qdrant_collection_name\": \"item_desc_sbert\",\n",
      "  \"max_epochs\": 100,\n",
      "  \"batch_size\": 128,\n",
      "  \"tfm_chunk_size\": 10000,\n",
      "  \"neg_to_pos_ratio\": 1,\n",
      "  \"user_col\": \"user_id\",\n",
      "  \"item_col\": \"parent_asin\",\n",
      "  \"rating_col\": \"rating\",\n",
      "  \"timestamp_col\": \"timestamp\",\n",
      "  \"item_feature_cols\": [\n",
      "    \"main_category\",\n",
      "    \"categories\",\n",
      "    \"price\",\n",
      "    \"parent_asin_rating_cnt_365d\",\n",
      "    \"parent_asin_rating_avg_prev_rating_365d\",\n",
      "    \"parent_asin_rating_cnt_90d\",\n",
      "    \"parent_asin_rating_avg_prev_rating_90d\",\n",
      "    \"parent_asin_rating_cnt_30d\",\n",
      "    \"parent_asin_rating_avg_prev_rating_30d\",\n",
      "    \"parent_asin_rating_cnt_7d\",\n",
      "    \"parent_asin_rating_avg_prev_rating_7d\"\n",
      "  ],\n",
      "  \"top_K\": 100,\n",
      "  \"top_k\": 10,\n",
      "  \"embedding_dim\": 128,\n",
      "  \"item_sequence_ts_bucket_size\": 10,\n",
      "  \"bucket_embedding_dim\": 16,\n",
      "  \"dropout\": 0.3,\n",
      "  \"early_stopping_patience\": 5,\n",
      "  \"learning_rate\": 0.0003,\n",
      "  \"l2_reg\": 0.0001,\n",
      "  \"mlf_item2vec_model_name\": \"item2vec\",\n",
      "  \"mlf_model_name\": \"ranker\",\n",
      "  \"min_roc_auc\": 0.7,\n",
      "  \"best_checkpoint_path\": null\n",
      "}\n"
     ]
    }
   ],
   "source": [
    "class Args(BaseModel):\n",
    "    testing: bool = False\n",
    "    log_to_mlflow: bool = True\n",
    "    experiment_name: str = \"RecSys MVP - Ranker\"\n",
    "    run_name: str = \"030-position-encoder-reduce-dim-to-16\"\n",
    "    notebook_persist_dp: str = None\n",
    "    random_seed: int = 41\n",
    "    device: str = None\n",
    "\n",
    "    # Feature flagS\n",
    "    use_sbert_features: bool = True\n",
    "\n",
    "    item_metadata_pipeline_fp: str = \"../data/item_metadata_pipeline.dill\"\n",
    "    qdrant_url: str = None\n",
    "    qdrant_collection_name: str = \"item_desc_sbert\"\n",
    "\n",
    "    max_epochs: int = max_epochs\n",
    "    batch_size: int = 128\n",
    "    tfm_chunk_size: int = 10000\n",
    "    neg_to_pos_ratio: int = 1\n",
    "\n",
    "    user_col: str = \"user_id\"\n",
    "    item_col: str = \"parent_asin\"\n",
    "    rating_col: str = \"rating\"\n",
    "    timestamp_col: str = \"timestamp\"\n",
    "    item_feature_cols: List[str] = [\n",
    "        \"main_category\",\n",
    "        \"categories\",\n",
    "        \"price\",\n",
    "        \"parent_asin_rating_cnt_365d\",\n",
    "        \"parent_asin_rating_avg_prev_rating_365d\",\n",
    "        \"parent_asin_rating_cnt_90d\",\n",
    "        \"parent_asin_rating_avg_prev_rating_90d\",\n",
    "        \"parent_asin_rating_cnt_30d\",\n",
    "        \"parent_asin_rating_avg_prev_rating_30d\",\n",
    "        \"parent_asin_rating_cnt_7d\",\n",
    "        \"parent_asin_rating_avg_prev_rating_7d\",\n",
    "    ]\n",
    "\n",
    "    top_K: int = 100\n",
    "    top_k: int = 10\n",
    "\n",
    "    embedding_dim: int = 128\n",
    "    item_sequence_ts_bucket_size: int = 10\n",
    "    bucket_embedding_dim: int = 16\n",
    "    dropout: float = 0.3\n",
    "    early_stopping_patience: int = 5\n",
    "    learning_rate: float = 0.0003\n",
    "    l2_reg: float = 1e-4\n",
    "\n",
    "    mlf_item2vec_model_name: str = \"item2vec\"\n",
    "    mlf_model_name: str = \"ranker\"\n",
    "    min_roc_auc: float = 0.7\n",
    "\n",
    "    best_checkpoint_path: str = None\n",
    "\n",
    "    def init(self):\n",
    "        self.notebook_persist_dp = os.path.abspath(f\"data/{self.run_name}\")\n",
    "        os.makedirs(self.notebook_persist_dp, exist_ok=True)\n",
    "\n",
    "        if not (qdrant_host := os.getenv(\"QDRANT_HOST\")):\n",
    "            raise Exception(f\"Environment variable QDRANT_HOST is not set.\")\n",
    "\n",
    "        qdrant_port = os.getenv(\"QDRANT_PORT\")\n",
    "        self.qdrant_url = f\"{qdrant_host}:{qdrant_port}\"\n",
    "\n",
    "        if not (mlflow_uri := os.environ.get(\"MLFLOW_TRACKING_URI\")):\n",
    "            logger.warning(\n",
    "                f\"Environment variable MLFLOW_TRACKING_URI is not set. Setting self.log_to_mlflow to false.\"\n",
    "            )\n",
    "            self.log_to_mlflow = False\n",
    "\n",
    "        if self.log_to_mlflow:\n",
    "            logger.info(\n",
    "                f\"Setting up MLflow experiment {self.experiment_name} - run {self.run_name}...\"\n",
    "            )\n",
    "            self._mlf_logger = MLFlowLogger(\n",
    "                experiment_name=self.experiment_name,\n",
    "                run_name=self.run_name,\n",
    "                tracking_uri=mlflow_uri,\n",
    "                log_model=True,\n",
    "            )\n",
    "\n",
    "        return self\n",
    "\n",
    "\n",
    "args = Args().init()\n",
    "\n",
    "print(args.model_dump_json(indent=2))"
   ]
  },
  {
   "cell_type": "markdown",
   "id": "a5acedcb-89e6-41c6-8969-bf3437fc7898",
   "metadata": {},
   "source": [
    "# Implement"
   ]
  },
  {
   "cell_type": "code",
   "execution_count": 5,
   "id": "5a34cb5b-c7db-4b95-952b-5f4cb2e1a04d",
   "metadata": {},
   "outputs": [],
   "source": [
    "def init_model(\n",
    "    n_users, n_items, embedding_dim, item_sequence_ts_bucket_size, bucket_embedding_dim, item_feature_size, dropout, item_embedding=None\n",
    "):\n",
    "    model = Ranker(\n",
    "        n_users,\n",
    "        n_items,\n",
    "        embedding_dim,\n",
    "        item_sequence_ts_bucket_size=item_sequence_ts_bucket_size,\n",
    "        bucket_embedding_dim=bucket_embedding_dim,\n",
    "        item_feature_size=item_feature_size,\n",
    "        dropout=dropout,\n",
    "        item_embedding=item_embedding,\n",
    "    )\n",
    "    return model"
   ]
  },
  {
   "cell_type": "markdown",
   "id": "c49b92fb-3b4c-482f-a584-62288873d8c3",
   "metadata": {},
   "source": [
    "## Load pretrained Item2Vec embeddings"
   ]
  },
  {
   "cell_type": "code",
   "execution_count": 6,
   "id": "35cfc84a-75bb-4973-b619-194cc8698ee2",
   "metadata": {
    "scrolled": true
   },
   "outputs": [
    {
     "data": {
      "application/vnd.jupyter.widget-view+json": {
       "model_id": "f520dfa39582458dabb0e3cb49005e10",
       "version_major": 2,
       "version_minor": 0
      },
      "text/plain": [
       "Downloading artifacts:   0%|          | 0/8 [00:00<?, ?it/s]"
      ]
     },
     "metadata": {},
     "output_type": "display_data"
    }
   ],
   "source": [
    "mlf_client = mlflow.MlflowClient()\n",
    "model = mlflow.pyfunc.load_model(\n",
    "    model_uri=f\"models:/{args.mlf_item2vec_model_name}@champion\"\n",
    ")\n",
    "skipgram_model = model.unwrap_python_model().model\n",
    "embedding_0 = skipgram_model.embeddings(torch.tensor(0))\n",
    "embedding_dim = embedding_0.size()[0]\n",
    "id_mapping = model.unwrap_python_model().id_mapping\n",
    "pretrained_item_embedding = skipgram_model.embeddings"
   ]
  },
  {
   "cell_type": "code",
   "execution_count": 7,
   "id": "f3baa82d-859d-4414-8e19-4c7d92750fa3",
   "metadata": {},
   "outputs": [],
   "source": [
    "assert (\n",
    "    pretrained_item_embedding.embedding_dim == args.embedding_dim\n",
    "), \"Mismatch pretrained item_embedding dimension\""
   ]
  },
  {
   "cell_type": "markdown",
   "id": "a43bc0b9-9d56-4cb2-b821-61dd9b9858b1",
   "metadata": {},
   "source": [
    "## Load vectorized item features"
   ]
  },
  {
   "cell_type": "code",
   "execution_count": 8,
   "id": "8ff750e3-fa06-42b4-a5c3-9b93d3c2b536",
   "metadata": {},
   "outputs": [],
   "source": [
    "with open(args.item_metadata_pipeline_fp, \"rb\") as f:\n",
    "    item_metadata_pipeline = dill.load(f)"
   ]
  },
  {
   "cell_type": "markdown",
   "id": "58607871-619d-46a0-9f7d-405e8f500462",
   "metadata": {},
   "source": [
    "## Load ANN Index"
   ]
  },
  {
   "cell_type": "code",
   "execution_count": 9,
   "id": "6e3a82c4-247e-4402-a87b-198c698be866",
   "metadata": {},
   "outputs": [],
   "source": [
    "ann_index = AnnIndex(args.qdrant_url, args.qdrant_collection_name)"
   ]
  },
  {
   "cell_type": "code",
   "execution_count": 10,
   "id": "e1da3414-17d8-4ee9-9c33-93f8c2a0d478",
   "metadata": {},
   "outputs": [
    {
     "data": {
      "application/vnd.jupyter.widget-view+json": {
       "model_id": "a7f3d19630e945dea246d9e9f3a2e18a",
       "version_major": 2,
       "version_minor": 0
      },
      "text/plain": [
       "  0%|          | 0/1 [00:00<?, ?it/s]"
      ]
     },
     "metadata": {},
     "output_type": "display_data"
    }
   ],
   "source": [
    "vector = ann_index.get_vector_by_ids([0])[0]\n",
    "embedding_dim = vector.shape[0]"
   ]
  },
  {
   "cell_type": "code",
   "execution_count": 11,
   "id": "830d8094-ca35-4662-88b8-ee9a9aa7530a",
   "metadata": {
    "scrolled": true
   },
   "outputs": [
    {
     "data": {
      "application/vnd.jupyter.widget-view+json": {
       "model_id": "73ac57cbf49f4ba3b028490409267e35",
       "version_major": 2,
       "version_minor": 0
      },
      "text/plain": [
       "  0%|          | 0/1 [00:00<?, ?it/s]"
      ]
     },
     "metadata": {},
     "output_type": "display_data"
    },
    {
     "data": {
      "text/plain": [
       "[ScoredPoint(id=0, version=0, score=0.0, payload={'parent_asin': '0375869026', 'title': 'Wonder'}, vector=None, shard_key=None, order_value=None),\n",
       " ScoredPoint(id=1916, version=59, score=0.3048898, payload={'parent_asin': 'B005GFPZYK', 'title': 'American Sniper: The Autobiography of the Most Lethal Sniper in U.S. Military History'}, vector=None, shard_key=None, order_value=None),\n",
       " ScoredPoint(id=166, version=5, score=0.35464486, payload={'parent_asin': 'B00005OARM', 'title': 'Golden Sun'}, vector=None, shard_key=None, order_value=None),\n",
       " ScoredPoint(id=3845, version=120, score=0.3593233, payload={'parent_asin': 'B0794W1LWG', 'title': 'Life is Strange: Before The Storm Limited Edition - Xbox One'}, vector=None, shard_key=None, order_value=None),\n",
       " ScoredPoint(id=3896, version=121, score=0.3675484, payload={'parent_asin': 'B07CD6F5PX', 'title': 'Dragon Quest Xi: Echoes of An Elusive Age - PlayStation 4'}, vector=None, shard_key=None, order_value=None)]"
      ]
     },
     "execution_count": 11,
     "metadata": {},
     "output_type": "execute_result"
    }
   ],
   "source": [
    "sbert_embedding_dim = vector.shape[0]\n",
    "neighbors = ann_index.get_neighbors_by_ids([0])\n",
    "neighbors"
   ]
  },
  {
   "cell_type": "markdown",
   "id": "377a71da-1ee3-474c-b3f4-4488d2a45dd3",
   "metadata": {},
   "source": [
    "# Test implementation"
   ]
  },
  {
   "cell_type": "code",
   "execution_count": 12,
   "id": "2806284e-20cd-4e8f-a1b9-34483ca094a2",
   "metadata": {
    "scrolled": true
   },
   "outputs": [
    {
     "data": {
      "application/vnd.jupyter.widget-view+json": {
       "model_id": "3a0246261d3644c093bc0db15ad7c6d4",
       "version_major": 2,
       "version_minor": 0
      },
      "text/plain": [
       "  0%|          | 0/1 [00:00<?, ?it/s]"
      ]
     },
     "metadata": {},
     "output_type": "display_data"
    },
    {
     "name": "stdout",
     "output_type": "stream",
     "text": [
      "tensor([[0.4347],\n",
      "        [0.4392],\n",
      "        [0.3852],\n",
      "        [0.4436],\n",
      "        [0.4361]], grad_fn=<SigmoidBackward0>)\n"
     ]
    }
   ],
   "source": [
    "embedding_dim = 8\n",
    "batch_size = 2\n",
    "\n",
    "# Mock data\n",
    "user_indices = [0, 0, 1, 2, 2]\n",
    "item_indices = [0, 1, 2, 3, 4]\n",
    "timestamps = [0, 1, 2, 3, 4]\n",
    "ratings = [0, 4, 5, 3, 0]\n",
    "item_sequences = [\n",
    "    [-1, -1, 2, 3],\n",
    "    [-1, -1, 2, 3],\n",
    "    [-1, -1, 1, 3],\n",
    "    [-1, -1, 2, 1],\n",
    "    [-1, -1, 2, 1],\n",
    "]\n",
    "item_sequences_ts_buckets = [\n",
    "    [-1, -1, 2, 3],\n",
    "    [-1, -1, 2, 3],\n",
    "    [-1, -1, 1, 3],\n",
    "    [-1, -1, 2, 1],\n",
    "    [-1, -1, 2, 1],\n",
    "]\n",
    "main_category = [\n",
    "    \"All Electronics\",\n",
    "    \"Video Games\",\n",
    "    \"All Electronics\",\n",
    "    \"Video Games\",\n",
    "    \"Unknown\",\n",
    "]\n",
    "categories = [[], [\"Headsets\"], [\"Video Games\"], [], [\"blah blah\"]]\n",
    "title = [\"World of Warcraft\", \"DotA 2\", \"Diablo IV\", \"Football Manager 2024\", \"Unknown\"]\n",
    "description = [[], [], [\"Video games blah blah\"], [], [\"blah blah\"]]\n",
    "price = [\"from 14.99\", \"14.99\", \"price: 9.99\", \"20 dollars\", \"None\"]\n",
    "parent_asin_rating_cnt_365d = [0, 1, 2, 3, 4]\n",
    "parent_asin_rating_avg_prev_rating_365d = [4.0, 3.5, 4.5, 5.0, 2.0]\n",
    "parent_asin_rating_cnt_90d = [0, 1, 2, 3, 4]\n",
    "parent_asin_rating_avg_prev_rating_90d = [4.0, 3.5, 4.5, 5.0, 2.0]\n",
    "parent_asin_rating_cnt_30d = [0, 1, 2, 3, 4]\n",
    "parent_asin_rating_avg_prev_rating_30d = [4.0, 3.5, 4.5, 5.0, 2.0]\n",
    "parent_asin_rating_cnt_7d = [0, 1, 2, 3, 4]\n",
    "parent_asin_rating_avg_prev_rating_7d = [4.0, 3.5, 4.5, 5.0, 2.0]\n",
    "\n",
    "train_df = pd.DataFrame(\n",
    "    {\n",
    "        \"user_indice\": user_indices,\n",
    "        \"item_indice\": item_indices,\n",
    "        args.timestamp_col: timestamps,\n",
    "        args.rating_col: ratings,\n",
    "        \"item_sequence\": item_sequences,\n",
    "        \"item_sequence_ts_bucket\": item_sequences_ts_buckets,\n",
    "        \"main_category\": main_category,\n",
    "        \"title\": title,\n",
    "        \"description\": description,\n",
    "        \"categories\": categories,\n",
    "        \"price\": price,\n",
    "        \"parent_asin_rating_cnt_365d\": parent_asin_rating_cnt_365d,\n",
    "        \"parent_asin_rating_avg_prev_rating_365d\": parent_asin_rating_avg_prev_rating_365d,\n",
    "        \"parent_asin_rating_cnt_90d\": parent_asin_rating_cnt_90d,\n",
    "        \"parent_asin_rating_avg_prev_rating_90d\": parent_asin_rating_avg_prev_rating_90d,\n",
    "        \"parent_asin_rating_cnt_30d\": parent_asin_rating_cnt_30d,\n",
    "        \"parent_asin_rating_avg_prev_rating_30d\": parent_asin_rating_avg_prev_rating_30d,\n",
    "        \"parent_asin_rating_cnt_7d\": parent_asin_rating_cnt_7d,\n",
    "        \"parent_asin_rating_avg_prev_rating_7d\": parent_asin_rating_avg_prev_rating_7d,\n",
    "    }\n",
    ")\n",
    "train_item_features = item_metadata_pipeline.transform(train_df).astype(np.float32)\n",
    "if args.use_sbert_features:\n",
    "    sbert_vectors = ann_index.get_vector_by_ids(\n",
    "        train_df[\"item_indice\"].values.tolist()\n",
    "    ).astype(np.float32)\n",
    "    train_item_features = np.hstack([train_item_features, sbert_vectors])\n",
    "\n",
    "n_users = len(set(user_indices))\n",
    "n_items = len(set(item_indices))\n",
    "item_feature_size = train_item_features.shape[1]\n",
    "\n",
    "model = init_model(n_users, n_items, embedding_dim, args.item_sequence_ts_bucket_size, args.bucket_embedding_dim, item_feature_size, args.dropout)\n",
    "\n",
    "# Example forward pass\n",
    "model.eval()\n",
    "users = torch.tensor(user_indices)\n",
    "items = torch.tensor(item_indices)\n",
    "item_sequences = torch.tensor(item_sequences)\n",
    "item_sequences_ts_buckets = torch.tensor(item_sequences_ts_buckets)\n",
    "item_features = torch.tensor(train_item_features)\n",
    "predictions = model.predict(users, item_sequences, item_sequences_ts_buckets, item_features, items)\n",
    "print(predictions)\n",
    "model.train()"
   ]
  },
  {
   "cell_type": "code",
   "execution_count": 13,
   "id": "0c0b1fea-0376-4624-ad8a-d000208a97f5",
   "metadata": {
    "scrolled": true
   },
   "outputs": [],
   "source": [
    "rating_dataset = UserItemBinaryDFDataset(\n",
    "    train_df,\n",
    "    \"user_indice\",\n",
    "    \"item_indice\",\n",
    "    args.rating_col,\n",
    "    args.timestamp_col,\n",
    "    item_feature=train_item_features,\n",
    ")\n",
    "\n",
    "train_loader = DataLoader(rating_dataset, batch_size=batch_size, shuffle=False, drop_last=True)"
   ]
  },
  {
   "cell_type": "code",
   "execution_count": 14,
   "id": "2e82d3d1-826a-409b-8440-46e0bd924269",
   "metadata": {
    "scrolled": true
   },
   "outputs": [
    {
     "name": "stdout",
     "output_type": "stream",
     "text": [
      "{'user': tensor([0, 0]), 'item': tensor([0, 1]), 'rating': tensor([0., 1.]), 'item_sequence': tensor([[-1, -1,  2,  3],\n",
      "        [-1, -1,  2,  3]]), 'item_sequence_ts_bucket': tensor([[-1, -1,  2,  3],\n",
      "        [-1, -1,  2,  3]]), 'item_feature': tensor([[-1.4698e-02,  5.6424e+00, -1.4698e-02,  ...,  2.2739e-02,\n",
      "         -2.3894e-02,  1.1594e-03],\n",
      "        [-1.4698e-02, -1.7723e-01, -1.4698e-02,  ..., -2.3171e-03,\n",
      "         -2.9986e-02,  9.9219e-03]])}\n",
      "{'user': tensor([1, 2]), 'item': tensor([2, 3]), 'rating': tensor([1., 1.]), 'item_sequence': tensor([[-1, -1,  1,  3],\n",
      "        [-1, -1,  2,  1]]), 'item_sequence_ts_bucket': tensor([[-1, -1,  1,  3],\n",
      "        [-1, -1,  2,  1]]), 'item_feature': tensor([[-1.4698e-02,  5.6424e+00, -1.4698e-02,  ...,  2.1281e-03,\n",
      "         -3.6321e-02,  4.1318e-04],\n",
      "        [-1.4698e-02, -1.7723e-01, -1.4698e-02,  ..., -4.9983e-03,\n",
      "         -5.8112e-02,  4.0446e-03]])}\n",
      "{'user': tensor([2]), 'item': tensor([4]), 'rating': tensor([0.]), 'item_sequence': tensor([[-1, -1,  2,  1]]), 'item_sequence_ts_bucket': tensor([[-1, -1,  2,  1]]), 'item_feature': tensor([[-1.4698e-02, -1.7723e-01, -1.4698e-02, -2.5463e-02, -1.4698e-02,\n",
      "         -1.4698e-02, -2.0788e-02, -8.2101e-02, -2.8729e-01, -1.4698e-02,\n",
      "         -3.8912e-02, -2.9405e-02, -2.5463e-02, -1.4698e-02, -1.4698e-02,\n",
      "         -3.8912e-02, -2.0788e-02, -3.8912e-02, -5.0976e-02, -2.4504e+00,\n",
      "         -1.3428e-01, -1.4000e-01, -6.1013e-01, -8.2101e-02, -7.9391e-02,\n",
      "         -2.0788e-02, -1.4698e-02, -1.4698e-02, -5.0976e-02, -1.3260e-01,\n",
      "         -2.5463e-02, -1.4698e-02, -9.0968e-02, -1.3593e-01, -1.4698e-02,\n",
      "         -1.4858e-01, -1.0448e-01, -1.4698e-02, -1.4698e-02, -2.0573e-01,\n",
      "         -2.2601e-01, -2.9405e-02, -2.0788e-02, -1.4698e-02, -2.0788e-02,\n",
      "         -1.4698e-02, -2.9405e-02, -7.3681e-02, -2.0788e-02, -2.0788e-02,\n",
      "         -1.4698e-02, -1.0342e-01, -2.0788e-02, -2.0788e-02, -3.8912e-02,\n",
      "         -1.0342e-01, -5.5072e-02, -1.2479e-01, -6.7500e-02, -1.2390e-01,\n",
      "         -1.6381e-01, -1.1327e+00, -2.0788e-02, -2.0788e-02, -1.3005e-01,\n",
      "         -1.3593e-01, -3.2880e-02, -1.4698e-02, -1.4698e-02, -2.0788e-02,\n",
      "         -1.4698e-02, -2.0788e-02, -4.6524e-02, -1.8361e-01, -9.0968e-02,\n",
      "         -2.5463e-02, -2.0788e-02, -3.8912e-02, -1.1646e+00, -6.9096e-02,\n",
      "         -5.5072e-02, -1.4698e-02, -4.1604e-02, -2.0788e-02, -6.4192e-02,\n",
      "         -3.2880e-02, -2.4392e-01, -8.2101e-02, -1.8298e-01, -2.0788e-02,\n",
      "         -9.2168e-02, -2.4342e-01, -5.5123e-01, -2.0788e-02, -7.0657e-02,\n",
      "         -4.0989e-01, -2.0788e-02, -1.2025e-01, -2.2495e-01, -3.4599e-01,\n",
      "         -3.2243e-01, -5.0976e-02, -6.7500e-02, -3.6022e-02, -5.1850e-01,\n",
      "         -1.5454e-01, -3.6022e-02, -2.5463e-02, -3.6022e-02, -1.4698e-02,\n",
      "         -5.3063e-02, -6.2473e-02, -2.0788e-02, -6.9096e-02, -5.0976e-02,\n",
      "         -6.0706e-02, -2.5463e-02, -8.3424e-02, -2.5463e-02, -1.4698e-02,\n",
      "         -2.9405e-02, -1.2025e-01, -1.4698e-02, -1.4698e-02, -5.5072e-02,\n",
      "         -3.2880e-02, -2.0788e-02, -4.1604e-02, -7.8002e-02, -1.4698e-02,\n",
      "         -2.9405e-02, -2.9405e-02, -5.0976e-02, -1.4698e-02, -1.4698e-02,\n",
      "         -3.8912e-02, -3.2880e-02, -7.1024e+00, -2.0788e-02, -2.5463e-02,\n",
      "         -2.5463e-02, -4.6524e-02, -2.5226e-01, -1.7064e-01, -1.3260e-01,\n",
      "         -3.3652e-01, -2.0788e-02, -2.0788e-02, -5.7011e-02, -2.8861e-01,\n",
      "         -2.0788e-02, -3.7131e-01, -5.4576e-01, -2.5171e-01, -1.0098e+00,\n",
      "          1.0291e-01, -3.4294e-01,  6.0107e-01,  1.1057e-01,  2.1350e+00,\n",
      "          6.9604e-01,  5.8324e-02, -3.5558e-03, -1.1762e-02,  2.9313e-02,\n",
      "         -1.7947e-02,  4.4230e-02,  1.9715e-02,  1.6747e-02, -4.9954e-02,\n",
      "         -1.3518e-02,  5.2685e-02,  1.5744e-02,  3.1438e-02,  3.6896e-02,\n",
      "         -2.7815e-02, -2.0330e-02, -3.0954e-03,  3.0746e-02,  1.8552e-02,\n",
      "          9.6583e-03,  4.4197e-03,  1.5087e-02,  6.5039e-03, -1.9019e-03,\n",
      "         -4.4309e-02, -1.1564e-02,  3.2616e-02, -1.0787e-02,  1.5955e-02,\n",
      "         -5.4729e-02,  8.9790e-02, -1.0274e-03,  1.2987e-02, -5.1745e-02,\n",
      "          1.5979e-06, -1.0993e-02, -1.1033e-02, -4.3195e-02,  3.8166e-02,\n",
      "          1.7665e-02,  7.6680e-02,  3.4666e-02,  1.1909e-03,  3.9057e-02,\n",
      "          1.0059e-03,  2.4285e-03,  8.6831e-03,  7.2536e-02, -1.7158e-02,\n",
      "          2.7287e-02, -2.3776e-03, -3.9206e-02, -1.4549e-02, -1.3008e-02,\n",
      "          4.1935e-02, -1.2738e-04, -1.7059e-02,  6.5678e-03,  2.8161e-02,\n",
      "          7.4166e-03,  2.3682e-02,  3.3191e-02, -1.2162e-02,  2.6638e-02,\n",
      "          2.5351e-02,  3.9712e-03,  6.3534e-03, -2.3572e-02, -2.3132e-02,\n",
      "          4.4788e-03,  5.1527e-02,  1.8513e-03,  4.1114e-02,  3.1166e-02,\n",
      "         -8.0032e-04,  9.7128e-03, -8.2380e-03,  1.9294e-02, -3.6935e-02,\n",
      "         -4.5212e-02, -4.2452e-03,  2.6179e-02, -4.3087e-02, -1.6099e-02,\n",
      "         -1.0209e-02,  2.6912e-02, -9.5608e-03,  5.0911e-03, -3.9069e-02,\n",
      "         -3.3184e-02,  2.7768e-02, -2.0732e-02,  4.0319e-03,  2.0523e-03,\n",
      "          1.1370e-02, -4.9288e-03,  4.3173e-03, -1.5241e-02,  3.5405e-02,\n",
      "         -5.9396e-02,  3.4852e-02,  1.6967e-02,  2.8332e-02,  8.7139e-03,\n",
      "          2.5929e-02, -9.6261e-03,  1.3536e-02, -4.8048e-02, -7.6682e-02,\n",
      "          6.5163e-02, -1.3349e-02, -1.9140e-02, -3.3471e-02,  4.2949e-02,\n",
      "          4.2758e-03, -3.4124e-02,  2.8875e-02, -1.1629e-02,  7.5197e-03,\n",
      "          3.7966e-02, -5.0656e-02,  2.5374e-02, -9.6529e-04, -3.3937e-03,\n",
      "         -1.5228e-03, -1.3463e-02, -6.1289e-02, -1.1767e-03,  5.5931e-03,\n",
      "         -2.0232e-03, -2.1581e-03,  3.2271e-02,  1.0410e-02, -1.3786e-02,\n",
      "          1.6050e-02,  6.1795e-03,  4.8753e-03, -1.0577e-02, -1.7343e-02,\n",
      "          1.0021e-02, -2.5466e-03, -6.1237e-04,  1.6023e-03, -1.1337e-02,\n",
      "         -3.7339e-02,  7.6273e-03,  4.7036e-02,  1.0720e-02,  3.9873e-04,\n",
      "          3.6887e-02, -6.4114e-03,  4.1815e-03,  2.1562e-02,  1.3422e-02,\n",
      "          7.4242e-03,  2.1062e-02,  6.0485e-02, -1.3722e-02, -3.2337e-02,\n",
      "          2.6295e-02,  2.8615e-02,  2.0585e-02,  1.1869e-02,  1.5351e-02,\n",
      "         -3.3853e-02, -1.6188e-02,  1.8318e-02,  6.3890e-03,  5.3706e-03,\n",
      "          2.4701e-02, -4.7584e-02,  6.4695e-03, -1.2033e-03,  6.2107e-02,\n",
      "          3.1671e-02,  9.5992e-02, -6.0003e-02,  2.8309e-02, -4.7458e-02,\n",
      "          3.6418e-02, -5.5947e-02, -4.0401e-02,  8.9310e-03, -1.8521e-02,\n",
      "         -1.8184e-02,  8.8759e-03, -2.4624e-04, -7.1276e-03, -4.0537e-02,\n",
      "         -1.6923e-02, -2.5244e-02, -1.8080e-02,  5.8044e-03, -6.1258e-03,\n",
      "         -5.6204e-03,  4.3975e-03, -2.9798e-02, -3.4736e-02, -1.1226e-02,\n",
      "         -2.2287e-02, -2.4025e-02,  4.6998e-03,  9.2806e-02,  2.2259e-02,\n",
      "          6.5870e-03,  8.8868e-03, -5.9227e-03, -1.1188e-02, -1.7043e-02,\n",
      "          5.1613e-02, -2.9038e-02,  1.2457e-02, -3.1471e-02, -1.6788e-02,\n",
      "         -2.4421e-02, -4.5573e-02,  3.0357e-02,  4.0608e-02, -5.7507e-02,\n",
      "          3.0435e-02,  1.8881e-02,  6.5172e-02,  3.7954e-03,  3.0678e-03,\n",
      "          1.9205e-02, -1.6472e-02, -4.7273e-03, -5.2933e-03,  1.4057e-02,\n",
      "          7.7532e-04,  6.7986e-03, -9.4085e-03, -8.2156e-03, -2.7112e-02,\n",
      "         -3.2747e-02,  2.9800e-02, -1.6389e-02,  2.9866e-02,  1.3273e-02,\n",
      "         -7.6186e-02, -3.4499e-02,  1.2762e-02, -4.7690e-03,  2.8185e-02,\n",
      "          1.0149e-02, -2.3805e-02, -1.8704e-02, -3.4735e-03, -1.2129e-02,\n",
      "          1.1582e-02, -2.2599e-02,  1.0385e-02,  2.4944e-02,  2.4530e-02,\n",
      "         -5.9642e-03, -1.0382e-02, -7.1596e-02,  7.1223e-02, -4.4624e-02,\n",
      "          3.5881e-02,  1.4242e-02, -3.2427e-02, -3.6055e-03, -1.0988e-04,\n",
      "         -7.3232e-03, -2.0512e-02,  4.2723e-02, -8.9311e-04, -2.0253e-02,\n",
      "         -3.4589e-02, -2.1352e-02,  6.7135e-03, -5.3663e-03, -2.0572e-02,\n",
      "          2.4120e-02, -1.3016e-02, -1.6854e-02,  1.2832e-02, -1.0363e-03,\n",
      "          1.4870e-02,  1.2061e-02,  2.0079e-02,  5.8301e-03,  1.8944e-02,\n",
      "         -7.3224e-03,  3.3806e-02,  3.2597e-02, -3.6816e-02, -7.9461e-02,\n",
      "          8.2087e-03, -2.0427e-02, -2.3086e-02,  2.9141e-02, -1.9786e-02,\n",
      "         -1.7383e-02, -9.1641e-03,  3.3746e-02,  4.8766e-02,  2.3506e-02,\n",
      "         -1.0262e-02,  9.5341e-04, -3.3188e-02, -3.8588e-03, -1.3900e-03,\n",
      "         -2.2566e-02, -1.1366e-02, -1.4147e-03, -1.4774e-02,  3.6912e-02,\n",
      "          1.7216e-02,  1.3906e-02,  1.1993e-02,  3.8212e-03, -1.2181e-02,\n",
      "         -1.0561e-02,  2.0527e-02, -4.7198e-02, -6.2170e-02,  5.5420e-03,\n",
      "          4.3886e-02,  8.4003e-03,  1.0277e-02,  2.0153e-02,  4.0961e-02,\n",
      "          1.1308e-02, -6.3338e-02, -2.2485e-02,  1.7966e-02,  4.1550e-02,\n",
      "         -1.8387e-02, -1.3045e-04,  3.8104e-02, -2.4482e-02,  3.0621e-02,\n",
      "          1.6446e-02,  4.1700e-02, -8.7917e-04, -6.7168e-03, -3.8205e-02,\n",
      "          2.4621e-02,  4.2379e-03, -4.8356e-02,  1.0975e-03, -3.0089e-02,\n",
      "          4.0687e-03, -5.1305e-02,  1.4878e-02,  1.6568e-02, -7.4943e-02,\n",
      "         -1.8622e-02,  1.3042e-03,  1.9302e-02, -3.5115e-03,  7.8528e-03,\n",
      "         -1.8677e-03,  2.3835e-02,  2.5860e-02, -4.3618e-02, -3.0692e-02,\n",
      "         -2.2634e-02, -2.2979e-02, -7.1388e-03, -2.0620e-02,  2.9293e-04,\n",
      "         -4.1120e-03,  4.3753e-02,  1.6542e-02,  1.4033e-02, -4.2834e-03,\n",
      "         -1.1855e-02, -4.4363e-03,  3.3251e-02, -1.3414e-02,  2.9628e-02,\n",
      "          7.8496e-03,  1.5558e-02,  8.9067e-03, -8.7288e-03,  4.3355e-03,\n",
      "         -3.0181e-02,  1.6745e-02, -1.1237e-02,  4.4655e-02,  7.5167e-03,\n",
      "          9.2148e-03,  1.4788e-02, -5.5803e-03, -2.7316e-02, -2.7693e-02,\n",
      "         -1.0456e-02,  2.9711e-03,  4.0393e-03, -4.4498e-02,  1.6073e-02,\n",
      "         -3.5819e-02, -1.1923e-02,  4.3370e-03, -5.4020e-03, -3.0531e-02,\n",
      "          1.5830e-02,  4.1392e-03, -1.6154e-03,  8.8164e-03,  2.3377e-03,\n",
      "          1.3073e-02, -1.0990e-02,  1.4880e-02, -2.9495e-03, -1.1673e-02,\n",
      "          6.9107e-03,  1.3475e-03, -6.3553e-02, -4.0327e-03,  1.8467e-02,\n",
      "          3.9459e-02, -5.6541e-02, -8.4119e-03,  2.9368e-02,  1.4416e-02,\n",
      "          3.3324e-03,  1.7163e-02,  5.1999e-02, -3.9347e-03,  2.7767e-02,\n",
      "          2.1383e-02,  3.3897e-03,  3.1206e-02,  1.7966e-02,  1.8945e-02,\n",
      "         -2.5730e-02, -3.4764e-03,  2.3006e-02, -2.9583e-02,  2.5581e-02,\n",
      "         -1.8379e-03, -1.3506e-02, -5.5799e-02, -4.3038e-02,  1.8547e-02,\n",
      "         -3.6617e-02, -1.3895e-02, -1.4465e-03,  2.4347e-02,  4.7107e-02,\n",
      "          5.1711e-03, -2.6805e-02,  2.5108e-02, -5.0249e-02,  1.4673e-02,\n",
      "         -1.4846e-03, -2.2907e-02,  1.1760e-02,  1.8323e-02,  2.0018e-02,\n",
      "         -5.7730e-03, -2.4442e-02,  1.8628e-02, -1.4473e-02, -1.8166e-02,\n",
      "         -4.3418e-03,  1.5458e-02,  1.7868e-02, -1.5475e-02,  8.5912e-03,\n",
      "          8.0243e-03,  6.6017e-05,  4.4450e-02, -3.7536e-02,  5.1142e-03,\n",
      "         -1.0713e-02,  3.7047e-02,  3.3015e-03, -3.7982e-03,  2.2910e-02,\n",
      "          2.7904e-02, -2.7409e-02, -2.1540e-02, -5.9295e-02,  2.3210e-02,\n",
      "          1.5482e-02, -7.6352e-04,  6.9805e-03, -3.0771e-04, -2.6725e-02,\n",
      "         -2.0501e-02,  2.5071e-03,  3.4600e-02, -2.2038e-02, -1.8017e-02,\n",
      "          9.7987e-03,  4.1705e-03, -6.1273e-02, -2.8742e-02, -1.2253e-02,\n",
      "         -3.1576e-02,  5.0317e-02, -1.3115e-02, -1.0568e-02, -1.2459e-02,\n",
      "          2.9230e-05, -3.5433e-02, -1.4699e-02,  1.5968e-02,  2.5251e-02,\n",
      "         -2.0121e-03,  3.4416e-02,  1.4517e-02, -5.3992e-03,  3.6931e-02,\n",
      "         -3.5910e-02,  1.9243e-03,  7.8619e-03,  4.0833e-03, -1.7863e-02,\n",
      "          9.9128e-03,  1.2803e-02, -2.5584e-02, -8.1507e-02, -1.1034e-02,\n",
      "          2.5602e-02, -3.8083e-04, -1.2823e-02,  7.9046e-04, -2.7044e-02,\n",
      "         -3.1953e-02,  2.3335e-02,  8.3789e-03,  3.4292e-03,  3.3354e-03,\n",
      "          6.1046e-04, -3.6970e-02, -7.6787e-04,  3.8824e-02,  1.9031e-02,\n",
      "         -4.1449e-02,  4.1897e-02,  5.3840e-02, -3.4676e-02, -5.1619e-03,\n",
      "         -1.2428e-02, -3.3925e-02, -4.7866e-03,  3.2847e-02,  1.2054e-02,\n",
      "          7.4162e-02,  2.9322e-02,  9.6573e-03,  5.9935e-03,  5.6563e-03,\n",
      "         -2.8322e-02,  7.5995e-03,  1.0704e-02, -7.2189e-02,  3.3538e-02,\n",
      "         -1.5878e-03, -5.8174e-33, -9.2268e-03, -4.4815e-02, -1.9517e-02,\n",
      "          2.1338e-02, -3.2264e-02,  2.0263e-02, -2.0153e-02,  2.5965e-02,\n",
      "          1.7725e-03,  1.9742e-03, -1.2019e-02,  2.2366e-02,  2.0187e-02,\n",
      "          2.4747e-02,  3.2418e-02, -3.0071e-02,  7.5691e-03,  1.1897e-03,\n",
      "          1.6810e-02, -2.0667e-02,  9.1900e-03,  1.0633e-02,  3.0235e-02,\n",
      "         -6.7131e-02,  7.7978e-03, -5.7649e-02, -1.8866e-02, -2.0314e-02,\n",
      "          2.1669e-02, -1.8972e-02, -2.0086e-02, -4.9592e-02,  2.8181e-03,\n",
      "          2.4375e-03,  2.2414e-02,  3.2236e-02, -4.8074e-03, -3.2287e-02,\n",
      "          2.2281e-02, -3.6757e-02,  5.5557e-03, -4.6556e-02, -2.7165e-02,\n",
      "         -3.3342e-03, -3.3199e-04,  2.9793e-03,  4.5053e-02, -2.9502e-02,\n",
      "         -2.3342e-02, -9.4881e-04, -2.8074e-02, -4.2634e-03, -1.8003e-02,\n",
      "         -6.8442e-03,  2.8141e-02,  4.0166e-02,  1.3679e-02,  5.9287e-02,\n",
      "          4.3429e-02,  4.8887e-02,  7.3783e-03,  4.1325e-02, -1.9658e-02,\n",
      "         -1.7458e-02,  2.7040e-02,  1.8805e-02, -4.6514e-02, -1.5009e-03,\n",
      "         -6.8983e-02, -7.4320e-03, -5.1687e-02,  1.4076e-02,  4.5338e-02,\n",
      "          1.2624e-02,  4.4197e-03, -2.2902e-02, -2.5950e-02,  1.0703e-02,\n",
      "          6.2154e-02,  2.5731e-02, -2.5750e-03, -2.0984e-02, -3.2278e-02,\n",
      "         -6.4182e-03, -2.0384e-02,  1.1670e-02, -2.5348e-02, -2.0115e-02,\n",
      "          2.2838e-02,  1.2933e-02,  1.0017e-02,  2.5905e-02, -1.0292e-02,\n",
      "          1.8872e-02,  2.5080e-02,  1.8143e-03,  5.3956e-02,  6.4393e-03,\n",
      "         -8.7790e-03, -2.9519e-02, -1.5556e-02, -1.6049e-02, -1.7229e-02,\n",
      "          2.8240e-02,  1.2445e-02, -2.2250e-02, -8.5349e-03, -2.6165e-02,\n",
      "         -4.4822e-02,  1.7788e-03,  1.6079e-02, -3.9372e-02,  8.3088e-03,\n",
      "         -4.3891e-02, -3.3231e-02,  2.3529e-02,  7.6387e-03,  5.2261e-02,\n",
      "          2.4646e-02, -7.2527e-03,  3.8841e-02, -1.3147e-02, -3.0023e-02,\n",
      "          2.0278e-02, -4.8862e-03, -1.3484e-03, -9.4782e-03,  4.5404e-02,\n",
      "          6.1587e-03, -1.3864e-02, -5.5870e-03, -1.7948e-03,  2.3968e-07,\n",
      "         -2.6354e-02,  3.4542e-02, -1.0140e-03,  1.1908e-02, -1.3971e-02,\n",
      "         -5.3470e-03, -5.8437e-03,  1.4917e-02, -3.8029e-03,  5.4595e-03,\n",
      "          7.8139e-02, -1.1286e-02,  1.7408e-02, -3.6183e-02, -4.1627e-02,\n",
      "          2.7625e-02, -4.0001e-02, -4.3888e-02, -3.0781e-02,  1.0268e-02,\n",
      "          8.0342e-02, -4.7380e-03,  1.8143e-02,  1.5098e-02,  1.8878e-02,\n",
      "         -2.7033e-02, -3.4619e-03, -5.6712e-02, -2.2116e-02,  1.1673e-03,\n",
      "         -1.2919e-02, -4.9119e-03, -4.1230e-02, -2.3709e-02,  1.5537e-02,\n",
      "         -5.3596e-02,  2.4378e-02,  8.1744e-03,  5.0315e-02,  1.6983e-02,\n",
      "         -4.2703e-02,  4.1120e-02, -1.6077e-02, -4.5638e-02,  1.5280e-02,\n",
      "         -5.1774e-04,  1.3264e-02,  1.1275e-02, -5.4372e-02,  1.1863e-02,\n",
      "          3.4162e-02, -1.0918e-02, -1.4549e-02, -1.1667e-02,  1.7194e-03,\n",
      "          1.4742e-02,  2.5746e-02,  4.6241e-03,  6.0080e-02,  5.3621e-02,\n",
      "         -1.7151e-02,  9.9720e-03,  5.9183e-03,  2.0157e-02,  5.2306e-03,\n",
      "         -6.8270e-02, -8.5857e-03,  1.6697e-34,  3.0344e-02, -6.9680e-02,\n",
      "         -4.9869e-02, -2.1066e-02, -2.1247e-02,  2.3350e-03, -1.5978e-02,\n",
      "         -1.7531e-02,  8.1216e-03, -3.4633e-02, -4.2576e-03]])}\n"
     ]
    }
   ],
   "source": [
    "for batch_input in train_loader:\n",
    "    print(batch_input)"
   ]
  },
  {
   "cell_type": "code",
   "execution_count": 15,
   "id": "02cb9ca4-11f1-45a8-911b-ed11c8391944",
   "metadata": {
    "scrolled": true
   },
   "outputs": [
    {
     "data": {
      "application/vnd.jupyter.widget-view+json": {
       "model_id": "1e3fd92e4d0143d19bf695a3423c1a07",
       "version_major": 2,
       "version_minor": 0
      },
      "text/plain": [
       "  0%|          | 0/1 [00:00<?, ?it/s]"
      ]
     },
     "metadata": {},
     "output_type": "display_data"
    },
    {
     "name": "stderr",
     "output_type": "stream",
     "text": [
      "GPU available: True (mps), used: True\n",
      "TPU available: False, using: 0 TPU cores\n",
      "HPU available: False, using: 0 HPUs\n",
      "\n",
      "  | Name  | Type   | Params | Mode\n",
      "----------------------------------------\n",
      "0 | model | Ranker | 8.8 K  | eval\n",
      "----------------------------------------\n",
      "8.8 K     Trainable params\n",
      "0         Non-trainable params\n",
      "8.8 K     Total params\n",
      "0.035     Total estimated model params size (MB)\n",
      "0         Modules in train mode\n",
      "15        Modules in eval mode\n"
     ]
    },
    {
     "data": {
      "application/vnd.jupyter.widget-view+json": {
       "model_id": "",
       "version_major": 2,
       "version_minor": 0
      },
      "text/plain": [
       "Sanity Checking: |                                                                                            …"
      ]
     },
     "metadata": {},
     "output_type": "display_data"
    },
    {
     "name": "stderr",
     "output_type": "stream",
     "text": [
      "/Users/dvq/frostmourne/recsys-mvp/.venv/lib/python3.11/site-packages/lightning/pytorch/trainer/connectors/data_connector.py:424: The 'val_dataloader' does not have many workers which may be a bottleneck. Consider increasing the value of the `num_workers` argument` to `num_workers=10` in the `DataLoader` to improve performance.\n",
      "/Users/dvq/frostmourne/recsys-mvp/.venv/lib/python3.11/site-packages/lightning/pytorch/trainer/connectors/data_connector.py:424: The 'train_dataloader' does not have many workers which may be a bottleneck. Consider increasing the value of the `num_workers` argument` to `num_workers=10` in the `DataLoader` to improve performance.\n",
      "/Users/dvq/frostmourne/recsys-mvp/.venv/lib/python3.11/site-packages/lightning/pytorch/loops/fit_loop.py:298: The number of training batches (3) is smaller than the logging interval Trainer(log_every_n_steps=50). Set a lower value for log_every_n_steps if you want to see logs for the training epoch.\n"
     ]
    },
    {
     "data": {
      "application/vnd.jupyter.widget-view+json": {
       "model_id": "6ec5736cd1634b429125c43a56d14818",
       "version_major": 2,
       "version_minor": 0
      },
      "text/plain": [
       "Training: |                                                                                                   …"
      ]
     },
     "metadata": {},
     "output_type": "display_data"
    },
    {
     "data": {
      "application/vnd.jupyter.widget-view+json": {
       "model_id": "",
       "version_major": 2,
       "version_minor": 0
      },
      "text/plain": [
       "Validation: |                                                                                                 …"
      ]
     },
     "metadata": {},
     "output_type": "display_data"
    },
    {
     "data": {
      "application/vnd.jupyter.widget-view+json": {
       "model_id": "",
       "version_major": 2,
       "version_minor": 0
      },
      "text/plain": [
       "Validation: |                                                                                                 …"
      ]
     },
     "metadata": {},
     "output_type": "display_data"
    },
    {
     "name": "stderr",
     "output_type": "stream",
     "text": [
      "`Trainer.fit` stopped: `max_epochs=2` reached.\n",
      "\u001b[32m2024-10-28 16:52:37.577\u001b[0m | \u001b[1mINFO    \u001b[0m | \u001b[36msrc.ranker.trainer\u001b[0m:\u001b[36mon_fit_end\u001b[0m:\u001b[36m168\u001b[0m - \u001b[1mLogging classification metrics...\u001b[0m\n",
      "/Users/dvq/frostmourne/recsys-mvp/.venv/lib/python3.11/site-packages/sklearn/metrics/_classification.py:1531: UndefinedMetricWarning: Precision is ill-defined and being set to 0.0 due to no predicted samples. Use `zero_division` parameter to control this behavior.\n",
      "  _warn_prf(average, modifier, f\"{metric.capitalize()} is\", len(result))\n",
      "/Users/dvq/frostmourne/recsys-mvp/.venv/lib/python3.11/site-packages/sklearn/metrics/_classification.py:1531: UndefinedMetricWarning: Precision is ill-defined and being set to 0.0 in labels with no predicted samples. Use `zero_division` parameter to control this behavior.\n",
      "  _warn_prf(average, modifier, f\"{metric.capitalize()} is\", len(result))\n",
      "/Users/dvq/frostmourne/recsys-mvp/.venv/lib/python3.11/site-packages/sklearn/metrics/_classification.py:1531: UndefinedMetricWarning: Precision is ill-defined and being set to 0.0 in labels with no predicted samples. Use `zero_division` parameter to control this behavior.\n",
      "  _warn_prf(average, modifier, f\"{metric.capitalize()} is\", len(result))\n",
      "/Users/dvq/frostmourne/recsys-mvp/.venv/lib/python3.11/site-packages/sklearn/metrics/_classification.py:1531: UndefinedMetricWarning: Precision is ill-defined and being set to 0.0 in labels with no predicted samples. Use `zero_division` parameter to control this behavior.\n",
      "  _warn_prf(average, modifier, f\"{metric.capitalize()} is\", len(result))\n"
     ]
    }
   ],
   "source": [
    "# Prepare all item features for recommendation\n",
    "all_items_df = train_df.drop_duplicates(subset=[\"item_indice\"])\n",
    "all_items_indices = all_items_df[\"item_indice\"].values\n",
    "all_items_features = item_metadata_pipeline.transform(all_items_df).astype(np.float32)\n",
    "if args.use_sbert_features:\n",
    "    all_sbert_vectors = ann_index.get_vector_by_ids(all_items_indices.tolist()).astype(\n",
    "        np.float32\n",
    "    )\n",
    "    all_items_features = np.hstack([all_items_features, all_sbert_vectors])\n",
    "\n",
    "lit_model = LitRanker(\n",
    "    model,\n",
    "    log_dir=args.notebook_persist_dp,\n",
    "    all_items_indices=all_items_indices,\n",
    "    all_items_features=all_items_features,\n",
    ")\n",
    "\n",
    "# train model\n",
    "trainer = L.Trainer(\n",
    "    default_root_dir=f\"{args.notebook_persist_dp}/test\",\n",
    "    max_epochs=2,\n",
    "    accelerator=args.device if args.device else \"auto\",\n",
    ")\n",
    "trainer.fit(\n",
    "    model=lit_model, train_dataloaders=train_loader, val_dataloaders=train_loader\n",
    ")"
   ]
  },
  {
   "cell_type": "code",
   "execution_count": 16,
   "id": "36778ab4-b228-4bb0-bb0d-801ae7c28cd8",
   "metadata": {},
   "outputs": [
    {
     "name": "stdout",
     "output_type": "stream",
     "text": [
      "tensor([[0.4371],\n",
      "        [0.4480],\n",
      "        [0.3948],\n",
      "        [0.4527],\n",
      "        [0.4311]], grad_fn=<SigmoidBackward0>)\n"
     ]
    }
   ],
   "source": [
    "# After fitting\n",
    "model.eval()\n",
    "predictions = model.predict(users, item_sequences, item_sequences_ts_buckets,  item_features, items)\n",
    "print(predictions)\n",
    "model.train()"
   ]
  },
  {
   "cell_type": "code",
   "execution_count": 17,
   "id": "50fdcf97-6271-406d-81b5-7e91a4c42dec",
   "metadata": {
    "scrolled": true
   },
   "outputs": [
    {
     "data": {
      "application/vnd.jupyter.widget-view+json": {
       "model_id": "adad0ce164e94ad6afaaa6946b8b638f",
       "version_major": 2,
       "version_minor": 0
      },
      "text/plain": [
       "Generating recommendations:   0%|          | 0/1 [00:00<?, ?it/s]"
      ]
     },
     "metadata": {},
     "output_type": "display_data"
    },
    {
     "data": {
      "text/plain": [
       "{'user_indice': [2, 2, 1, 1, 0, 0],\n",
       " 'recommendation': [3, 2, 4, 3, 1, 3],\n",
       " 'score': [0.4526557922363281,\n",
       "  0.44092822074890137,\n",
       "  0.42592495679855347,\n",
       "  0.42221295833587646,\n",
       "  0.4479605555534363,\n",
       "  0.4411386549472809]}"
      ]
     },
     "execution_count": 17,
     "metadata": {},
     "output_type": "execute_result"
    }
   ],
   "source": [
    "# Get the last row of each item as input for recommendations (containing the most updated item_sequence)\n",
    "to_rec_df = train_df.sort_values(args.timestamp_col, ascending=False).drop_duplicates(\n",
    "    subset=[\"user_indice\"]\n",
    ")\n",
    "recommendations = model.recommend(\n",
    "    torch.tensor(to_rec_df[\"user_indice\"].values.tolist()),\n",
    "    torch.tensor(to_rec_df[\"item_sequence\"].values.tolist()),\n",
    "    torch.tensor(to_rec_df[\"item_sequence_ts_bucket\"].values.tolist()),\n",
    "    torch.tensor(lit_model.all_items_features),\n",
    "    torch.tensor(lit_model.all_items_indices),\n",
    "    k=2,\n",
    "    batch_size=4,\n",
    ")\n",
    "recommendations"
   ]
  },
  {
   "cell_type": "markdown",
   "id": "170dec89-a874-4dce-8f94-07d978fcc5b8",
   "metadata": {},
   "source": [
    "# Prep data"
   ]
  },
  {
   "cell_type": "code",
   "execution_count": 18,
   "id": "83803362-5eaa-40bb-b28b-878316d5db5d",
   "metadata": {},
   "outputs": [],
   "source": [
    "train_df = pd.read_parquet(\"../data/train_features_neg_df.parquet\")\n",
    "val_df = pd.read_parquet(\"../data/val_features_neg_df.parquet\")\n",
    "idm_fp = \"../data/idm.json\"\n",
    "idm = IDMapper().load(idm_fp)\n",
    "\n",
    "assert (\n",
    "    train_df[args.user_col].map(lambda s: idm.get_user_index(s))\n",
    "    != train_df[\"user_indice\"]\n",
    ").sum() == 0, \"Mismatch IDM\"\n",
    "assert (\n",
    "    val_df[args.user_col].map(lambda s: idm.get_user_index(s)) != val_df[\"user_indice\"]\n",
    ").sum() == 0, \"Mismatch IDM\""
   ]
  },
  {
   "cell_type": "code",
   "execution_count": 19,
   "id": "a92a8ea7-928c-4656-b92c-2e137d78404a",
   "metadata": {
    "scrolled": true
   },
   "outputs": [
    {
     "data": {
      "text/html": [
       "<div>\n",
       "<style scoped>\n",
       "    .dataframe tbody tr th:only-of-type {\n",
       "        vertical-align: middle;\n",
       "    }\n",
       "\n",
       "    .dataframe tbody tr th {\n",
       "        vertical-align: top;\n",
       "    }\n",
       "\n",
       "    .dataframe thead th {\n",
       "        text-align: right;\n",
       "    }\n",
       "</style>\n",
       "<table border=\"1\" class=\"dataframe\">\n",
       "  <thead>\n",
       "    <tr style=\"text-align: right;\">\n",
       "      <th></th>\n",
       "      <th>user_id</th>\n",
       "      <th>parent_asin</th>\n",
       "      <th>rating</th>\n",
       "      <th>timestamp</th>\n",
       "      <th>timestamp_unix</th>\n",
       "      <th>parent_asin_rating_cnt_365d</th>\n",
       "      <th>parent_asin_rating_avg_prev_rating_365d</th>\n",
       "      <th>parent_asin_rating_cnt_90d</th>\n",
       "      <th>parent_asin_rating_avg_prev_rating_90d</th>\n",
       "      <th>parent_asin_rating_cnt_30d</th>\n",
       "      <th>...</th>\n",
       "      <th>user_rating_list_10_recent_asin</th>\n",
       "      <th>user_rating_list_10_recent_asin_timestamp</th>\n",
       "      <th>item_sequence</th>\n",
       "      <th>item_sequence_ts</th>\n",
       "      <th>item_sequence_ts_bucket</th>\n",
       "      <th>main_category</th>\n",
       "      <th>title</th>\n",
       "      <th>description</th>\n",
       "      <th>categories</th>\n",
       "      <th>price</th>\n",
       "    </tr>\n",
       "  </thead>\n",
       "  <tbody>\n",
       "    <tr>\n",
       "      <th>0</th>\n",
       "      <td>AG57LGJFCNNQJ6P6ABQAVUKXDUDA</td>\n",
       "      <td>B0015AARJI</td>\n",
       "      <td>0.0</td>\n",
       "      <td>2016-01-12 11:59:11.000</td>\n",
       "      <td>NaN</td>\n",
       "      <td>76.0</td>\n",
       "      <td>4.592105</td>\n",
       "      <td>10.0</td>\n",
       "      <td>4.3</td>\n",
       "      <td>3.0</td>\n",
       "      <td>...</td>\n",
       "      <td>B00J00BLRM</td>\n",
       "      <td>1452599936</td>\n",
       "      <td>[-1.0, -1.0, -1.0, -1.0, -1.0, -1.0, -1.0, -1....</td>\n",
       "      <td>[-1, -1, -1, -1, -1, -1, -1, -1, -1, 1452599936]</td>\n",
       "      <td>[-1, -1, -1, -1, -1, -1, -1, -1, -1, 0]</td>\n",
       "      <td>Video Games</td>\n",
       "      <td>PlayStation 3 Dualshock 3 Wireless Controller ...</td>\n",
       "      <td>[Amazon.com, The Dualshock 3 wireless controll...</td>\n",
       "      <td>[Video Games, Legacy Systems, PlayStation Syst...</td>\n",
       "      <td>49.99</td>\n",
       "    </tr>\n",
       "    <tr>\n",
       "      <th>1</th>\n",
       "      <td>AHWG4EGOV5ZDKPETL56MAYGPLJRQ</td>\n",
       "      <td>B0BMGHMP23</td>\n",
       "      <td>0.0</td>\n",
       "      <td>2016-04-18 19:26:20.000</td>\n",
       "      <td>NaN</td>\n",
       "      <td>NaN</td>\n",
       "      <td>NaN</td>\n",
       "      <td>NaN</td>\n",
       "      <td>NaN</td>\n",
       "      <td>NaN</td>\n",
       "      <td>...</td>\n",
       "      <td>B00YOGZFCO,B00KWFCSB2,B00L3LQ1FI,B0151K6J9Y,B0...</td>\n",
       "      <td>1449254540,1449256005,1449257733,1452715791,14...</td>\n",
       "      <td>[3028.0, 2742.0, 2755.0, 3159.0, 3101.0, 3036....</td>\n",
       "      <td>[1449254540, 1449256005, 1449257733, 145271579...</td>\n",
       "      <td>[5, 5, 5, 5, 5, 5, 5, 5, 5, 5]</td>\n",
       "      <td>Computers</td>\n",
       "      <td>Logitech G502 Lightspeed Wireless Gaming Mouse...</td>\n",
       "      <td>[G502 is the best gaming mouse from Logitech G...</td>\n",
       "      <td>[Video Games, PC, Accessories, Gaming Mice]</td>\n",
       "      <td>87.95</td>\n",
       "    </tr>\n",
       "    <tr>\n",
       "      <th>2</th>\n",
       "      <td>AH5PTZ2U74OZ3HT6QVUWM4CV6OVQ</td>\n",
       "      <td>B009AP23NI</td>\n",
       "      <td>0.0</td>\n",
       "      <td>2016-02-10 18:45:08.000</td>\n",
       "      <td>NaN</td>\n",
       "      <td>9.0</td>\n",
       "      <td>4.666667</td>\n",
       "      <td>0.0</td>\n",
       "      <td>NaN</td>\n",
       "      <td>0.0</td>\n",
       "      <td>...</td>\n",
       "      <td>B0199OXR0W,B00EVPR4FY,B00B7ELWAU,B00UH9DN58,B0...</td>\n",
       "      <td>1443454097,1455129080,1455129186,1455129499,14...</td>\n",
       "      <td>[-1.0, -1.0, 3234.0, 2508.0, 2318.0, 2964.0, 1...</td>\n",
       "      <td>[-1, -1, 1443454097, 1455129080, 1455129186, 1...</td>\n",
       "      <td>[-1, -1, 5, 1, 1, 0, 0, 0, 0, 0]</td>\n",
       "      <td>Video Games</td>\n",
       "      <td>Nintendo Wii U Pro U Controller (Japanese Vers...</td>\n",
       "      <td>[Wii U PRO controller (black) (WUP-A-RSKA)]</td>\n",
       "      <td>[Video Games, Legacy Systems, Nintendo Systems...</td>\n",
       "      <td>43.99</td>\n",
       "    </tr>\n",
       "    <tr>\n",
       "      <th>3</th>\n",
       "      <td>AFC5XTCF5D7J3NSDITB2Z26XWWYA</td>\n",
       "      <td>B001E8WQUY</td>\n",
       "      <td>5.0</td>\n",
       "      <td>2019-05-01 21:22:39.265</td>\n",
       "      <td>1.556746e+09</td>\n",
       "      <td>0.0</td>\n",
       "      <td>NaN</td>\n",
       "      <td>0.0</td>\n",
       "      <td>NaN</td>\n",
       "      <td>0.0</td>\n",
       "      <td>...</td>\n",
       "      <td>B006HZA6VK,B0BN2FNKLM,B0086VPUHI,B0040UAYI4,B0...</td>\n",
       "      <td>1327120514,1377289907,1402605836,1402606396,14...</td>\n",
       "      <td>[1987.0, 4569.0, 2114.0, 1606.0, 2159.0, 2279....</td>\n",
       "      <td>[1327120514, 1377289907, 1402605836, 140260639...</td>\n",
       "      <td>[8, 8, 7, 7, 7, 7, 7, 7, 6, 6]</td>\n",
       "      <td>Video Games</td>\n",
       "      <td>Rock Band 2 - Nintendo Wii (Game only)</td>\n",
       "      <td>[Product description, Rock Band 2 lets you and...</td>\n",
       "      <td>[Video Games, Legacy Systems, Nintendo Systems...</td>\n",
       "      <td>28.49</td>\n",
       "    </tr>\n",
       "    <tr>\n",
       "      <th>4</th>\n",
       "      <td>AF7LJQOIWF3Y3YD7SGOJ34MA5JPA</td>\n",
       "      <td>B001E8WQKY</td>\n",
       "      <td>5.0</td>\n",
       "      <td>2015-01-09 12:53:25.000</td>\n",
       "      <td>1.420808e+09</td>\n",
       "      <td>16.0</td>\n",
       "      <td>4.375000</td>\n",
       "      <td>8.0</td>\n",
       "      <td>4.5</td>\n",
       "      <td>4.0</td>\n",
       "      <td>...</td>\n",
       "      <td>B00A2ML6XG,B003VUO6LU</td>\n",
       "      <td>1420807793,1420807991</td>\n",
       "      <td>[-1.0, -1.0, -1.0, -1.0, -1.0, -1.0, -1.0, -1....</td>\n",
       "      <td>[-1, -1, -1, -1, -1, -1, -1, -1, 1420807793, 1...</td>\n",
       "      <td>[-1, -1, -1, -1, -1, -1, -1, -1, 0, 0]</td>\n",
       "      <td>Video Games</td>\n",
       "      <td>Resident Evil 5 - Xbox 360</td>\n",
       "      <td>[]</td>\n",
       "      <td>[Video Games, Legacy Systems, Xbox Systems, Xb...</td>\n",
       "      <td>29.88</td>\n",
       "    </tr>\n",
       "    <tr>\n",
       "      <th>...</th>\n",
       "      <td>...</td>\n",
       "      <td>...</td>\n",
       "      <td>...</td>\n",
       "      <td>...</td>\n",
       "      <td>...</td>\n",
       "      <td>...</td>\n",
       "      <td>...</td>\n",
       "      <td>...</td>\n",
       "      <td>...</td>\n",
       "      <td>...</td>\n",
       "      <td>...</td>\n",
       "      <td>...</td>\n",
       "      <td>...</td>\n",
       "      <td>...</td>\n",
       "      <td>...</td>\n",
       "      <td>...</td>\n",
       "      <td>...</td>\n",
       "      <td>...</td>\n",
       "      <td>...</td>\n",
       "      <td>...</td>\n",
       "      <td>...</td>\n",
       "    </tr>\n",
       "    <tr>\n",
       "      <th>328591</th>\n",
       "      <td>AG4RATLNVLOKZCPXN67HKOAK65CA</td>\n",
       "      <td>B078FBVJMB</td>\n",
       "      <td>0.0</td>\n",
       "      <td>2015-10-31 18:25:09.000</td>\n",
       "      <td>NaN</td>\n",
       "      <td>NaN</td>\n",
       "      <td>NaN</td>\n",
       "      <td>NaN</td>\n",
       "      <td>NaN</td>\n",
       "      <td>NaN</td>\n",
       "      <td>...</td>\n",
       "      <td>B00TFVD688</td>\n",
       "      <td>1425233294</td>\n",
       "      <td>[-1.0, -1.0, -1.0, -1.0, -1.0, -1.0, -1.0, -1....</td>\n",
       "      <td>[-1, -1, -1, -1, -1, -1, -1, -1, -1, 1425233294]</td>\n",
       "      <td>[-1, -1, -1, -1, -1, -1, -1, -1, -1, 5]</td>\n",
       "      <td>Video Games</td>\n",
       "      <td>A Way Out – PC Origin [Online Game Code]</td>\n",
       "      <td>[From the creators of Brothers - A Tale of Two...</td>\n",
       "      <td>[Video Games, PC, Games]</td>\n",
       "      <td>5.99</td>\n",
       "    </tr>\n",
       "    <tr>\n",
       "      <th>328592</th>\n",
       "      <td>AFBXO3BFWBJX6QS5NW73O37IXF2A</td>\n",
       "      <td>B0771ZXXV6</td>\n",
       "      <td>0.0</td>\n",
       "      <td>2011-03-08 02:06:38.000</td>\n",
       "      <td>NaN</td>\n",
       "      <td>NaN</td>\n",
       "      <td>NaN</td>\n",
       "      <td>NaN</td>\n",
       "      <td>NaN</td>\n",
       "      <td>NaN</td>\n",
       "      <td>...</td>\n",
       "      <td>B003JVCA9Q,B0029NZ4HA</td>\n",
       "      <td>1299549517,1299549928</td>\n",
       "      <td>[-1.0, -1.0, -1.0, -1.0, -1.0, -1.0, -1.0, -1....</td>\n",
       "      <td>[-1, -1, -1, -1, -1, -1, -1, -1, 1299549517, 1...</td>\n",
       "      <td>[-1, -1, -1, -1, -1, -1, -1, -1, 0, 0]</td>\n",
       "      <td>Video Games</td>\n",
       "      <td>Nintendo Joy-Con (R) - Neon Red - Nintendo Switch</td>\n",
       "      <td>[To be determined]</td>\n",
       "      <td>[Video Games, Nintendo Switch, Accessories, Co...</td>\n",
       "      <td>None</td>\n",
       "    </tr>\n",
       "    <tr>\n",
       "      <th>328593</th>\n",
       "      <td>AHVANA5GZNJ45UABPXWZNAF4ECBQ</td>\n",
       "      <td>B00BBF6MO6</td>\n",
       "      <td>0.0</td>\n",
       "      <td>2015-02-15 05:31:04.000</td>\n",
       "      <td>NaN</td>\n",
       "      <td>3.0</td>\n",
       "      <td>4.666667</td>\n",
       "      <td>0.0</td>\n",
       "      <td>NaN</td>\n",
       "      <td>0.0</td>\n",
       "      <td>...</td>\n",
       "      <td>B002L93F0A,B002KJ02ZC,B001H4NMNA</td>\n",
       "      <td>1370414332,1370414707,1370416530</td>\n",
       "      <td>[-1.0, -1.0, -1.0, -1.0, -1.0, -1.0, -1.0, 137...</td>\n",
       "      <td>[-1, -1, -1, -1, -1, -1, -1, 1370414332, 13704...</td>\n",
       "      <td>[-1, -1, -1, -1, -1, -1, -1, 6, 6, 6]</td>\n",
       "      <td>Video Games</td>\n",
       "      <td>Killer is Dead - Xbox 360</td>\n",
       "      <td>[Killer Is Dead is the latest title from the d...</td>\n",
       "      <td>[Video Games, Legacy Systems, Xbox Systems, Xb...</td>\n",
       "      <td>39.82</td>\n",
       "    </tr>\n",
       "    <tr>\n",
       "      <th>328594</th>\n",
       "      <td>AHAVA5VKMJ3OMOLGDZ3W45CKXEWA</td>\n",
       "      <td>B00KTORA0K</td>\n",
       "      <td>5.0</td>\n",
       "      <td>2019-05-25 04:03:51.505</td>\n",
       "      <td>1.558757e+09</td>\n",
       "      <td>3.0</td>\n",
       "      <td>4.666667</td>\n",
       "      <td>1.0</td>\n",
       "      <td>5.0</td>\n",
       "      <td>1.0</td>\n",
       "      <td>...</td>\n",
       "      <td>B004AYCNR0,B007NUQICE,B000TYQL1O,B000SEU92W,B0...</td>\n",
       "      <td>1431150669,1431150834,1432041664,1432041986,15...</td>\n",
       "      <td>[-1.0, -1.0, -1.0, 1657.0, 2074.0, 593.0, 583....</td>\n",
       "      <td>[-1, -1, -1, 1431150669, 1431150834, 143204166...</td>\n",
       "      <td>[-1, -1, -1, 7, 7, 7, 7, 5, 5, 0]</td>\n",
       "      <td>Video Games</td>\n",
       "      <td>Just Dance 2015 - Wii</td>\n",
       "      <td>[With more than 50 million copies of Just Danc...</td>\n",
       "      <td>[Video Games, Legacy Systems, Nintendo Systems...</td>\n",
       "      <td>33.0</td>\n",
       "    </tr>\n",
       "    <tr>\n",
       "      <th>328595</th>\n",
       "      <td>AHAOAIYS3GTCFSVCHOHANFHEVJGA</td>\n",
       "      <td>B07GMV1X1K</td>\n",
       "      <td>0.0</td>\n",
       "      <td>2019-06-27 16:46:01.725</td>\n",
       "      <td>NaN</td>\n",
       "      <td>8.0</td>\n",
       "      <td>4.750000</td>\n",
       "      <td>2.0</td>\n",
       "      <td>4.5</td>\n",
       "      <td>1.0</td>\n",
       "      <td>...</td>\n",
       "      <td>B010QCD9WW,B06XHMPPLH,B01GY35HKE,B01GY35GIM,B0...</td>\n",
       "      <td>1487438369,1488931311,1490136709,1493063905,15...</td>\n",
       "      <td>[3093.0, 3574.0, 3373.0, 3372.0, 3576.0, 3621....</td>\n",
       "      <td>[1487438369, 1488931311, 1490136709, 149306390...</td>\n",
       "      <td>[6, 6, 6, 6, 6, 6, 6, 5, 5, 5]</td>\n",
       "      <td>Video Games</td>\n",
       "      <td>retrogames The C64 Mini USA Version - Not Mach...</td>\n",
       "      <td>[It's 1982 and a new home computer graces the ...</td>\n",
       "      <td>[Video Games, Legacy Systems, Commodore System...</td>\n",
       "      <td>44.99</td>\n",
       "    </tr>\n",
       "  </tbody>\n",
       "</table>\n",
       "<p>328596 rows × 27 columns</p>\n",
       "</div>"
      ],
      "text/plain": [
       "                             user_id parent_asin  rating  \\\n",
       "0       AG57LGJFCNNQJ6P6ABQAVUKXDUDA  B0015AARJI     0.0   \n",
       "1       AHWG4EGOV5ZDKPETL56MAYGPLJRQ  B0BMGHMP23     0.0   \n",
       "2       AH5PTZ2U74OZ3HT6QVUWM4CV6OVQ  B009AP23NI     0.0   \n",
       "3       AFC5XTCF5D7J3NSDITB2Z26XWWYA  B001E8WQUY     5.0   \n",
       "4       AF7LJQOIWF3Y3YD7SGOJ34MA5JPA  B001E8WQKY     5.0   \n",
       "...                              ...         ...     ...   \n",
       "328591  AG4RATLNVLOKZCPXN67HKOAK65CA  B078FBVJMB     0.0   \n",
       "328592  AFBXO3BFWBJX6QS5NW73O37IXF2A  B0771ZXXV6     0.0   \n",
       "328593  AHVANA5GZNJ45UABPXWZNAF4ECBQ  B00BBF6MO6     0.0   \n",
       "328594  AHAVA5VKMJ3OMOLGDZ3W45CKXEWA  B00KTORA0K     5.0   \n",
       "328595  AHAOAIYS3GTCFSVCHOHANFHEVJGA  B07GMV1X1K     0.0   \n",
       "\n",
       "                     timestamp  timestamp_unix  parent_asin_rating_cnt_365d  \\\n",
       "0      2016-01-12 11:59:11.000             NaN                         76.0   \n",
       "1      2016-04-18 19:26:20.000             NaN                          NaN   \n",
       "2      2016-02-10 18:45:08.000             NaN                          9.0   \n",
       "3      2019-05-01 21:22:39.265    1.556746e+09                          0.0   \n",
       "4      2015-01-09 12:53:25.000    1.420808e+09                         16.0   \n",
       "...                        ...             ...                          ...   \n",
       "328591 2015-10-31 18:25:09.000             NaN                          NaN   \n",
       "328592 2011-03-08 02:06:38.000             NaN                          NaN   \n",
       "328593 2015-02-15 05:31:04.000             NaN                          3.0   \n",
       "328594 2019-05-25 04:03:51.505    1.558757e+09                          3.0   \n",
       "328595 2019-06-27 16:46:01.725             NaN                          8.0   \n",
       "\n",
       "        parent_asin_rating_avg_prev_rating_365d  parent_asin_rating_cnt_90d  \\\n",
       "0                                      4.592105                        10.0   \n",
       "1                                           NaN                         NaN   \n",
       "2                                      4.666667                         0.0   \n",
       "3                                           NaN                         0.0   \n",
       "4                                      4.375000                         8.0   \n",
       "...                                         ...                         ...   \n",
       "328591                                      NaN                         NaN   \n",
       "328592                                      NaN                         NaN   \n",
       "328593                                 4.666667                         0.0   \n",
       "328594                                 4.666667                         1.0   \n",
       "328595                                 4.750000                         2.0   \n",
       "\n",
       "        parent_asin_rating_avg_prev_rating_90d  parent_asin_rating_cnt_30d  \\\n",
       "0                                          4.3                         3.0   \n",
       "1                                          NaN                         NaN   \n",
       "2                                          NaN                         0.0   \n",
       "3                                          NaN                         0.0   \n",
       "4                                          4.5                         4.0   \n",
       "...                                        ...                         ...   \n",
       "328591                                     NaN                         NaN   \n",
       "328592                                     NaN                         NaN   \n",
       "328593                                     NaN                         0.0   \n",
       "328594                                     5.0                         1.0   \n",
       "328595                                     4.5                         1.0   \n",
       "\n",
       "        ...                    user_rating_list_10_recent_asin  \\\n",
       "0       ...                                         B00J00BLRM   \n",
       "1       ...  B00YOGZFCO,B00KWFCSB2,B00L3LQ1FI,B0151K6J9Y,B0...   \n",
       "2       ...  B0199OXR0W,B00EVPR4FY,B00B7ELWAU,B00UH9DN58,B0...   \n",
       "3       ...  B006HZA6VK,B0BN2FNKLM,B0086VPUHI,B0040UAYI4,B0...   \n",
       "4       ...                              B00A2ML6XG,B003VUO6LU   \n",
       "...     ...                                                ...   \n",
       "328591  ...                                         B00TFVD688   \n",
       "328592  ...                              B003JVCA9Q,B0029NZ4HA   \n",
       "328593  ...                   B002L93F0A,B002KJ02ZC,B001H4NMNA   \n",
       "328594  ...  B004AYCNR0,B007NUQICE,B000TYQL1O,B000SEU92W,B0...   \n",
       "328595  ...  B010QCD9WW,B06XHMPPLH,B01GY35HKE,B01GY35GIM,B0...   \n",
       "\n",
       "                user_rating_list_10_recent_asin_timestamp  \\\n",
       "0                                              1452599936   \n",
       "1       1449254540,1449256005,1449257733,1452715791,14...   \n",
       "2       1443454097,1455129080,1455129186,1455129499,14...   \n",
       "3       1327120514,1377289907,1402605836,1402606396,14...   \n",
       "4                                   1420807793,1420807991   \n",
       "...                                                   ...   \n",
       "328591                                         1425233294   \n",
       "328592                              1299549517,1299549928   \n",
       "328593                   1370414332,1370414707,1370416530   \n",
       "328594  1431150669,1431150834,1432041664,1432041986,15...   \n",
       "328595  1487438369,1488931311,1490136709,1493063905,15...   \n",
       "\n",
       "                                            item_sequence  \\\n",
       "0       [-1.0, -1.0, -1.0, -1.0, -1.0, -1.0, -1.0, -1....   \n",
       "1       [3028.0, 2742.0, 2755.0, 3159.0, 3101.0, 3036....   \n",
       "2       [-1.0, -1.0, 3234.0, 2508.0, 2318.0, 2964.0, 1...   \n",
       "3       [1987.0, 4569.0, 2114.0, 1606.0, 2159.0, 2279....   \n",
       "4       [-1.0, -1.0, -1.0, -1.0, -1.0, -1.0, -1.0, -1....   \n",
       "...                                                   ...   \n",
       "328591  [-1.0, -1.0, -1.0, -1.0, -1.0, -1.0, -1.0, -1....   \n",
       "328592  [-1.0, -1.0, -1.0, -1.0, -1.0, -1.0, -1.0, -1....   \n",
       "328593  [-1.0, -1.0, -1.0, -1.0, -1.0, -1.0, -1.0, 137...   \n",
       "328594  [-1.0, -1.0, -1.0, 1657.0, 2074.0, 593.0, 583....   \n",
       "328595  [3093.0, 3574.0, 3373.0, 3372.0, 3576.0, 3621....   \n",
       "\n",
       "                                         item_sequence_ts  \\\n",
       "0        [-1, -1, -1, -1, -1, -1, -1, -1, -1, 1452599936]   \n",
       "1       [1449254540, 1449256005, 1449257733, 145271579...   \n",
       "2       [-1, -1, 1443454097, 1455129080, 1455129186, 1...   \n",
       "3       [1327120514, 1377289907, 1402605836, 140260639...   \n",
       "4       [-1, -1, -1, -1, -1, -1, -1, -1, 1420807793, 1...   \n",
       "...                                                   ...   \n",
       "328591   [-1, -1, -1, -1, -1, -1, -1, -1, -1, 1425233294]   \n",
       "328592  [-1, -1, -1, -1, -1, -1, -1, -1, 1299549517, 1...   \n",
       "328593  [-1, -1, -1, -1, -1, -1, -1, 1370414332, 13704...   \n",
       "328594  [-1, -1, -1, 1431150669, 1431150834, 143204166...   \n",
       "328595  [1487438369, 1488931311, 1490136709, 149306390...   \n",
       "\n",
       "                        item_sequence_ts_bucket  main_category  \\\n",
       "0       [-1, -1, -1, -1, -1, -1, -1, -1, -1, 0]    Video Games   \n",
       "1                [5, 5, 5, 5, 5, 5, 5, 5, 5, 5]      Computers   \n",
       "2              [-1, -1, 5, 1, 1, 0, 0, 0, 0, 0]    Video Games   \n",
       "3                [8, 8, 7, 7, 7, 7, 7, 7, 6, 6]    Video Games   \n",
       "4        [-1, -1, -1, -1, -1, -1, -1, -1, 0, 0]    Video Games   \n",
       "...                                         ...            ...   \n",
       "328591  [-1, -1, -1, -1, -1, -1, -1, -1, -1, 5]    Video Games   \n",
       "328592   [-1, -1, -1, -1, -1, -1, -1, -1, 0, 0]    Video Games   \n",
       "328593    [-1, -1, -1, -1, -1, -1, -1, 6, 6, 6]    Video Games   \n",
       "328594        [-1, -1, -1, 7, 7, 7, 7, 5, 5, 0]    Video Games   \n",
       "328595           [6, 6, 6, 6, 6, 6, 6, 5, 5, 5]    Video Games   \n",
       "\n",
       "                                                    title  \\\n",
       "0       PlayStation 3 Dualshock 3 Wireless Controller ...   \n",
       "1       Logitech G502 Lightspeed Wireless Gaming Mouse...   \n",
       "2       Nintendo Wii U Pro U Controller (Japanese Vers...   \n",
       "3                  Rock Band 2 - Nintendo Wii (Game only)   \n",
       "4                              Resident Evil 5 - Xbox 360   \n",
       "...                                                   ...   \n",
       "328591           A Way Out – PC Origin [Online Game Code]   \n",
       "328592  Nintendo Joy-Con (R) - Neon Red - Nintendo Switch   \n",
       "328593                          Killer is Dead - Xbox 360   \n",
       "328594                              Just Dance 2015 - Wii   \n",
       "328595  retrogames The C64 Mini USA Version - Not Mach...   \n",
       "\n",
       "                                              description  \\\n",
       "0       [Amazon.com, The Dualshock 3 wireless controll...   \n",
       "1       [G502 is the best gaming mouse from Logitech G...   \n",
       "2             [Wii U PRO controller (black) (WUP-A-RSKA)]   \n",
       "3       [Product description, Rock Band 2 lets you and...   \n",
       "4                                                      []   \n",
       "...                                                   ...   \n",
       "328591  [From the creators of Brothers - A Tale of Two...   \n",
       "328592                                 [To be determined]   \n",
       "328593  [Killer Is Dead is the latest title from the d...   \n",
       "328594  [With more than 50 million copies of Just Danc...   \n",
       "328595  [It's 1982 and a new home computer graces the ...   \n",
       "\n",
       "                                               categories  price  \n",
       "0       [Video Games, Legacy Systems, PlayStation Syst...  49.99  \n",
       "1             [Video Games, PC, Accessories, Gaming Mice]  87.95  \n",
       "2       [Video Games, Legacy Systems, Nintendo Systems...  43.99  \n",
       "3       [Video Games, Legacy Systems, Nintendo Systems...  28.49  \n",
       "4       [Video Games, Legacy Systems, Xbox Systems, Xb...  29.88  \n",
       "...                                                   ...    ...  \n",
       "328591                           [Video Games, PC, Games]   5.99  \n",
       "328592  [Video Games, Nintendo Switch, Accessories, Co...   None  \n",
       "328593  [Video Games, Legacy Systems, Xbox Systems, Xb...  39.82  \n",
       "328594  [Video Games, Legacy Systems, Nintendo Systems...   33.0  \n",
       "328595  [Video Games, Legacy Systems, Commodore System...  44.99  \n",
       "\n",
       "[328596 rows x 27 columns]"
      ]
     },
     "execution_count": 19,
     "metadata": {},
     "output_type": "execute_result"
    }
   ],
   "source": [
    "train_df"
   ]
  },
  {
   "cell_type": "code",
   "execution_count": 20,
   "id": "bd469969-aaa6-4763-a0fc-d432961cf4dc",
   "metadata": {
    "scrolled": true
   },
   "outputs": [
    {
     "data": {
      "application/vnd.jupyter.widget-view+json": {
       "model_id": "a55a19f39ea346c7bbef5217ecd482cb",
       "version_major": 2,
       "version_minor": 0
      },
      "text/plain": [
       "  0%|          | 0/5 [00:00<?, ?it/s]"
      ]
     },
     "metadata": {},
     "output_type": "display_data"
    },
    {
     "data": {
      "application/vnd.jupyter.widget-view+json": {
       "model_id": "ae6603a0580e41b9a8addfe7174a769b",
       "version_major": 2,
       "version_minor": 0
      },
      "text/plain": [
       "Transforming chunks:   0%|          | 0/33 [00:00<?, ?it/s]"
      ]
     },
     "metadata": {},
     "output_type": "display_data"
    },
    {
     "data": {
      "application/vnd.jupyter.widget-view+json": {
       "model_id": "213dd53f696240cd9ce283caa1ded257",
       "version_major": 2,
       "version_minor": 0
      },
      "text/plain": [
       "Transforming chunks:   0%|          | 0/1 [00:00<?, ?it/s]"
      ]
     },
     "metadata": {},
     "output_type": "display_data"
    },
    {
     "name": "stderr",
     "output_type": "stream",
     "text": [
      "\u001b[32m2024-10-28 16:52:43.589\u001b[0m | \u001b[1mINFO    \u001b[0m | \u001b[36m__main__\u001b[0m:\u001b[36m<module>\u001b[0m:\u001b[36m24\u001b[0m - \u001b[1mlen(user_indices)=19,578, len(item_indices)=4,630\u001b[0m\n"
     ]
    }
   ],
   "source": [
    "user_indices = train_df[\"user_indice\"].unique()\n",
    "item_indices = train_df[\"item_indice\"].unique()\n",
    "if args.use_sbert_features:\n",
    "    all_sbert_vectors = ann_index.get_vector_by_ids(\n",
    "        item_indices.tolist(), chunk_size=1000\n",
    "    ).astype(np.float32)\n",
    "\n",
    "train_item_features = chunk_transform(\n",
    "    train_df, item_metadata_pipeline, chunk_size=args.tfm_chunk_size\n",
    ")\n",
    "train_item_features = train_item_features.astype(np.float32)\n",
    "\n",
    "val_item_features = chunk_transform(\n",
    "    val_df, item_metadata_pipeline, chunk_size=args.tfm_chunk_size\n",
    ")\n",
    "val_item_features = val_item_features.astype(np.float32)\n",
    "\n",
    "if args.use_sbert_features:\n",
    "    train_sbert_vectors = all_sbert_vectors[train_df[\"item_indice\"].values]\n",
    "    train_item_features = np.hstack([train_item_features, train_sbert_vectors])\n",
    "    val_sbert_vectors = all_sbert_vectors[val_df[\"item_indice\"].values]\n",
    "    val_item_features = np.hstack([val_item_features, val_sbert_vectors])\n",
    "\n",
    "logger.info(f\"{len(user_indices)=:,.0f}, {len(item_indices)=:,.0f}\")"
   ]
  },
  {
   "cell_type": "markdown",
   "id": "5260fbe7-2f90-44a1-be74-ce5db9b511ee",
   "metadata": {},
   "source": [
    "# Train"
   ]
  },
  {
   "cell_type": "code",
   "execution_count": 21,
   "id": "240a04ed-8898-443f-b0f4-7399bfa63810",
   "metadata": {},
   "outputs": [],
   "source": [
    "rating_dataset = UserItemBinaryDFDataset(\n",
    "    train_df,\n",
    "    \"user_indice\",\n",
    "    \"item_indice\",\n",
    "    args.rating_col,\n",
    "    args.timestamp_col,\n",
    "    item_feature=train_item_features,\n",
    ")\n",
    "val_rating_dataset = UserItemBinaryDFDataset(\n",
    "    val_df,\n",
    "    \"user_indice\",\n",
    "    \"item_indice\",\n",
    "    args.rating_col,\n",
    "    args.timestamp_col,\n",
    "    item_feature=val_item_features,\n",
    ")\n",
    "\n",
    "train_loader = DataLoader(\n",
    "    rating_dataset, batch_size=args.batch_size, shuffle=True, drop_last=True\n",
    ")\n",
    "val_loader = DataLoader(\n",
    "    val_rating_dataset, batch_size=args.batch_size, shuffle=False, drop_last=False\n",
    ")"
   ]
  },
  {
   "cell_type": "code",
   "execution_count": 22,
   "id": "22dcf157-425f-4d15-9b53-e1ff93887def",
   "metadata": {
    "scrolled": true
   },
   "outputs": [
    {
     "data": {
      "text/plain": [
       "Ranker(\n",
       "  (item_embedding): Embedding(4631, 128, padding_idx=4630)\n",
       "  (user_embedding): Embedding(19578, 128)\n",
       "  (item_sequence_ts_bucket_embedding): Embedding(11, 16, padding_idx=10)\n",
       "  (gru): GRU(144, 128, batch_first=True)\n",
       "  (relu): ReLU()\n",
       "  (dropout): Dropout(p=0.3, inplace=False)\n",
       "  (item_feature_tower): Sequential(\n",
       "    (0): Linear(in_features=929, out_features=128, bias=True)\n",
       "    (1): BatchNorm1d(128, eps=1e-05, momentum=0.1, affine=True, track_running_stats=True)\n",
       "    (2): ReLU()\n",
       "    (3): Dropout(p=0.3, inplace=False)\n",
       "  )\n",
       "  (fc_rating): Sequential(\n",
       "    (0): Linear(in_features=512, out_features=128, bias=True)\n",
       "    (1): BatchNorm1d(128, eps=1e-05, momentum=0.1, affine=True, track_running_stats=True)\n",
       "    (2): ReLU()\n",
       "    (3): Dropout(p=0.3, inplace=False)\n",
       "    (4): Linear(in_features=128, out_features=1, bias=True)\n",
       "    (5): Sigmoid()\n",
       "  )\n",
       ")"
      ]
     },
     "execution_count": 22,
     "metadata": {},
     "output_type": "execute_result"
    }
   ],
   "source": [
    "n_items = len(item_indices)\n",
    "n_users = len(user_indices)\n",
    "\n",
    "model = init_model(\n",
    "    n_users, n_items, args.embedding_dim, args.item_sequence_ts_bucket_size, args.bucket_embedding_dim, item_feature_size, args.dropout\n",
    ")\n",
    "model"
   ]
  },
  {
   "cell_type": "markdown",
   "id": "b8cbb2a8-a578-4ad2-941e-efd01d930336",
   "metadata": {},
   "source": [
    "#### Predict before train"
   ]
  },
  {
   "cell_type": "code",
   "execution_count": 23,
   "id": "0112de1e-1dce-4982-9663-a1df91fd0001",
   "metadata": {
    "scrolled": true
   },
   "outputs": [
    {
     "data": {
      "text/html": [
       "<div>\n",
       "<style scoped>\n",
       "    .dataframe tbody tr th:only-of-type {\n",
       "        vertical-align: middle;\n",
       "    }\n",
       "\n",
       "    .dataframe tbody tr th {\n",
       "        vertical-align: top;\n",
       "    }\n",
       "\n",
       "    .dataframe thead th {\n",
       "        text-align: right;\n",
       "    }\n",
       "</style>\n",
       "<table border=\"1\" class=\"dataframe\">\n",
       "  <thead>\n",
       "    <tr style=\"text-align: right;\">\n",
       "      <th></th>\n",
       "      <th>user_id</th>\n",
       "      <th>parent_asin</th>\n",
       "      <th>rating</th>\n",
       "      <th>timestamp</th>\n",
       "      <th>timestamp_unix</th>\n",
       "      <th>parent_asin_rating_cnt_365d</th>\n",
       "      <th>parent_asin_rating_avg_prev_rating_365d</th>\n",
       "      <th>parent_asin_rating_cnt_90d</th>\n",
       "      <th>parent_asin_rating_avg_prev_rating_90d</th>\n",
       "      <th>parent_asin_rating_cnt_30d</th>\n",
       "      <th>...</th>\n",
       "      <th>user_rating_list_10_recent_asin</th>\n",
       "      <th>user_rating_list_10_recent_asin_timestamp</th>\n",
       "      <th>item_sequence</th>\n",
       "      <th>item_sequence_ts</th>\n",
       "      <th>item_sequence_ts_bucket</th>\n",
       "      <th>main_category</th>\n",
       "      <th>title</th>\n",
       "      <th>description</th>\n",
       "      <th>categories</th>\n",
       "      <th>price</th>\n",
       "    </tr>\n",
       "  </thead>\n",
       "  <tbody>\n",
       "    <tr>\n",
       "      <th>615</th>\n",
       "      <td>AHTA73F2LZ2J7BOHHSVU2LUFFYBA</td>\n",
       "      <td>B008FPMBNG</td>\n",
       "      <td>1.0</td>\n",
       "      <td>2022-04-01 05:34:57.305</td>\n",
       "      <td>1.648791e+09</td>\n",
       "      <td>2.0</td>\n",
       "      <td>5.000000</td>\n",
       "      <td>0.0</td>\n",
       "      <td>NaN</td>\n",
       "      <td>0.0</td>\n",
       "      <td>...</td>\n",
       "      <td>B001EYUY4S,B00Z9TI06S,B00DC7G0GG,B001QCWSGU,B0...</td>\n",
       "      <td>1394905692,1481655097,1481985675,1530684361,15...</td>\n",
       "      <td>[1036, 3041, 2435, 1137, 3963, 2606, 3653, 995...</td>\n",
       "      <td>[1394905692, 1481655097, 1481985675, 153068436...</td>\n",
       "      <td>[8, 8, 8, 7, 7, 7, 6, 6, 6, 6]</td>\n",
       "      <td>Video Games</td>\n",
       "      <td>Action Replay 4M Plus - Ultimate enhancement f...</td>\n",
       "      <td>[This cartridge will allow you to play many of...</td>\n",
       "      <td>[Video Games, Legacy Systems, Sega Systems, Se...</td>\n",
       "      <td>39.99</td>\n",
       "    </tr>\n",
       "    <tr>\n",
       "      <th>486</th>\n",
       "      <td>AFWECADQYB5X6IIFCPWRJ26NFMMA</td>\n",
       "      <td>B0B1PB5L93</td>\n",
       "      <td>1.0</td>\n",
       "      <td>2022-01-01 07:43:09.410</td>\n",
       "      <td>1.641023e+09</td>\n",
       "      <td>7.0</td>\n",
       "      <td>4.285714</td>\n",
       "      <td>0.0</td>\n",
       "      <td>NaN</td>\n",
       "      <td>0.0</td>\n",
       "      <td>...</td>\n",
       "      <td>B004Q8L46G,B00Z9TL6KA,B071S1FT72,B0B96RSG2Y,B0...</td>\n",
       "      <td>1353775289,1441381657,1504731201,1544594427,15...</td>\n",
       "      <td>[-1, -1, -1, -1, 1752, 3055, 3655, 4536, 3479,...</td>\n",
       "      <td>[-1, -1, -1, -1, 1353775289, 1441381657, 15047...</td>\n",
       "      <td>[-1, -1, -1, -1, 8, 8, 7, 7, 7, 7]</td>\n",
       "      <td>Computers</td>\n",
       "      <td>Razer Viper Ultimate Lightweight Wireless Gami...</td>\n",
       "      <td>[Forget about average and claim the unfair adv...</td>\n",
       "      <td>[Video Games, PC, Accessories, Gaming Mice]</td>\n",
       "      <td>89.99</td>\n",
       "    </tr>\n",
       "    <tr>\n",
       "      <th>1516</th>\n",
       "      <td>AHK6ZCLZJANT56XN76F7H42TDAAQ</td>\n",
       "      <td>B0716ZFWWV</td>\n",
       "      <td>0.0</td>\n",
       "      <td>2022-03-22 10:56:51.032</td>\n",
       "      <td>NaN</td>\n",
       "      <td>3.0</td>\n",
       "      <td>1.333333</td>\n",
       "      <td>0.0</td>\n",
       "      <td>NaN</td>\n",
       "      <td>0.0</td>\n",
       "      <td>...</td>\n",
       "      <td>B00I5LAGM8,B00SBXBQDS,B06ZY9R6P1,B07PZ8NZSZ,B0...</td>\n",
       "      <td>1395731374,1476504922,1477725050,1479995484,14...</td>\n",
       "      <td>[-1, -1, -1, -1, -1, 2630, 2939, 3612, 4134, 2...</td>\n",
       "      <td>[-1, -1, -1, -1, -1, 1395731374, 1476504922, 1...</td>\n",
       "      <td>[-1, -1, -1, -1, -1, 8, 8, 8, 8, 8]</td>\n",
       "      <td>Computers</td>\n",
       "      <td>Logitech G903 LIGHTSPEED Gaming Mouse with POW...</td>\n",
       "      <td>[Trusted by top eSports professionals, G903 wi...</td>\n",
       "      <td>[Video Games, PC, Accessories, Gaming Mice]</td>\n",
       "      <td>96.98</td>\n",
       "    </tr>\n",
       "    <tr>\n",
       "      <th>1682</th>\n",
       "      <td>AG6GEX4CV6F5Q55PABEQJYXT53MA</td>\n",
       "      <td>B09T5VN7D1</td>\n",
       "      <td>1.0</td>\n",
       "      <td>2022-04-24 03:48:37.119</td>\n",
       "      <td>1.650772e+09</td>\n",
       "      <td>0.0</td>\n",
       "      <td>NaN</td>\n",
       "      <td>0.0</td>\n",
       "      <td>NaN</td>\n",
       "      <td>0.0</td>\n",
       "      <td>...</td>\n",
       "      <td>B001ELJDUM,B001E58B1K,B001EYUWV8,B00005BW7Q,B0...</td>\n",
       "      <td>1172045840,1178967609,1179216394,1179216486,11...</td>\n",
       "      <td>[-1, 763, 717, 1009, 139, 334, 474, 115, 502, ...</td>\n",
       "      <td>[-1, 1172045840, 1178967609, 1179216394, 11792...</td>\n",
       "      <td>[-1, 9, 9, 9, 9, 9, 9, 9, 9, 5]</td>\n",
       "      <td>Video Games</td>\n",
       "      <td>13 Sentinels: Aegis Rim - PlayStation 4</td>\n",
       "      <td>[Vanillaware, the storytellers behind Odin Sph...</td>\n",
       "      <td>[Video Games, PlayStation 4, Games]</td>\n",
       "      <td>23.06</td>\n",
       "    </tr>\n",
       "    <tr>\n",
       "      <th>1461</th>\n",
       "      <td>AH7GYKBRDAWT2673HJKOXPIT57JQ</td>\n",
       "      <td>B08XD54VJY</td>\n",
       "      <td>1.0</td>\n",
       "      <td>2021-08-13 06:15:46.333</td>\n",
       "      <td>1.628835e+09</td>\n",
       "      <td>10.0</td>\n",
       "      <td>3.900000</td>\n",
       "      <td>10.0</td>\n",
       "      <td>3.900</td>\n",
       "      <td>10.0</td>\n",
       "      <td>...</td>\n",
       "      <td>B008982OUO,B0036EWMIK,B003OAE79S,B000N5Z2L4,B0...</td>\n",
       "      <td>1425243377,1425243421,1425243651,1425243713,14...</td>\n",
       "      <td>[2129, 1426, 1526, 526, 4272, 758, 2356, 1406,...</td>\n",
       "      <td>[1425243377, 1425243421, 1425243651, 142524371...</td>\n",
       "      <td>[8, 8, 8, 8, 8, 8, 8, 8, 8, 8]</td>\n",
       "      <td>Video Games</td>\n",
       "      <td>The Legend of Zelda: Skyward Sword HD - Ninten...</td>\n",
       "      <td>[Solve puzzles, explore dungeons, and soar the...</td>\n",
       "      <td>[Video Games, Nintendo Switch, Games]</td>\n",
       "      <td>48.49</td>\n",
       "    </tr>\n",
       "    <tr>\n",
       "      <th>1893</th>\n",
       "      <td>AFQPVFAE6XX4B2HICHSV4BOA2DGA</td>\n",
       "      <td>B08DF248LD</td>\n",
       "      <td>1.0</td>\n",
       "      <td>2022-03-15 16:34:12.635</td>\n",
       "      <td>1.647362e+09</td>\n",
       "      <td>8.0</td>\n",
       "      <td>2.875000</td>\n",
       "      <td>0.0</td>\n",
       "      <td>NaN</td>\n",
       "      <td>0.0</td>\n",
       "      <td>...</td>\n",
       "      <td>B06XHLM4DX,B01N3ASPNV,B087NNPYP3,B00MB1I3FU,B0...</td>\n",
       "      <td>1594828163,1594828245,1594828260,1594828341,15...</td>\n",
       "      <td>[3573, 3527, 4342, 2793, 4391, 4078, 3829, 424...</td>\n",
       "      <td>[1594828163, 1594828245, 1594828260, 159482834...</td>\n",
       "      <td>[6, 6, 6, 6, 6, 0, 0, 0, 0, 0]</td>\n",
       "      <td>Video Games</td>\n",
       "      <td>Xbox Core Wireless Controller – Carbon Black</td>\n",
       "      <td>[Experience the modernized design of the Xbox ...</td>\n",
       "      <td>[]</td>\n",
       "      <td>45.5</td>\n",
       "    </tr>\n",
       "    <tr>\n",
       "      <th>257</th>\n",
       "      <td>AF5NKVKUZGRPBR7HAYYDUS25RGRQ</td>\n",
       "      <td>B0B5VZ3358</td>\n",
       "      <td>1.0</td>\n",
       "      <td>2022-05-20 21:02:19.754</td>\n",
       "      <td>1.653081e+09</td>\n",
       "      <td>6.0</td>\n",
       "      <td>4.500000</td>\n",
       "      <td>2.0</td>\n",
       "      <td>5.000</td>\n",
       "      <td>1.0</td>\n",
       "      <td>...</td>\n",
       "      <td>B0B6HPDH51,B01HNXGKT6,B08D3XL1KF,B074JFY4JF,B0...</td>\n",
       "      <td>1518997273,1518997558,1545061257,1545061483,15...</td>\n",
       "      <td>[4530, 3392, 4368, 3750, 3908, 3788, 3527, 173...</td>\n",
       "      <td>[1518997273, 1518997558, 1545061257, 154506148...</td>\n",
       "      <td>[7, 7, 7, 7, 7, 7, 7, 7, 7, 6]</td>\n",
       "      <td>Computers</td>\n",
       "      <td>Logitech G604 LIGHTSPEED Gaming Mouse with 15 ...</td>\n",
       "      <td>[With 15 programmable controls, LIGHTSPEED wir...</td>\n",
       "      <td>[Video Games, PC, Accessories, Gaming Mice]</td>\n",
       "      <td>59.99</td>\n",
       "    </tr>\n",
       "    <tr>\n",
       "      <th>406</th>\n",
       "      <td>AGNSHALKFUUFHPRBXUET4KUSDHRQ</td>\n",
       "      <td>B08LT6PT1X</td>\n",
       "      <td>1.0</td>\n",
       "      <td>2021-10-01 20:58:48.261</td>\n",
       "      <td>1.633122e+09</td>\n",
       "      <td>32.0</td>\n",
       "      <td>3.718750</td>\n",
       "      <td>8.0</td>\n",
       "      <td>3.875</td>\n",
       "      <td>3.0</td>\n",
       "      <td>...</td>\n",
       "      <td>B00ZDNNRB8,B00DB2BI8M,B000N5Z2L4,B015NHBBOS,B0...</td>\n",
       "      <td>1498591508,1505173028,1505173517,1505173544,15...</td>\n",
       "      <td>[-1, -1, -1, -1, 3066, 2425, 526, 3172, 3085, ...</td>\n",
       "      <td>[-1, -1, -1, -1, 1498591508, 1505173028, 15051...</td>\n",
       "      <td>[-1, -1, -1, -1, 7, 7, 7, 7, 7, 7]</td>\n",
       "      <td>Video Games</td>\n",
       "      <td>Xbox Elite Wireless Controller Series 2 – Black</td>\n",
       "      <td>[Experience the Xbox Elite Wireless Controller...</td>\n",
       "      <td>[Video Games, Xbox One, Accessories, Controllers]</td>\n",
       "      <td>144.99</td>\n",
       "    </tr>\n",
       "    <tr>\n",
       "      <th>1556</th>\n",
       "      <td>AFLDO6CCUQ6JJHFAVR3GIFNXUKEQ</td>\n",
       "      <td>B007CM0K86</td>\n",
       "      <td>0.0</td>\n",
       "      <td>2022-05-02 22:50:46.188</td>\n",
       "      <td>NaN</td>\n",
       "      <td>0.0</td>\n",
       "      <td>NaN</td>\n",
       "      <td>0.0</td>\n",
       "      <td>NaN</td>\n",
       "      <td>0.0</td>\n",
       "      <td>...</td>\n",
       "      <td>B074PJ7X5X,B00E4MQODC,B01N3ASPNV,B07T5QKKVP,B0...</td>\n",
       "      <td>1554841160,1562016549,1563404977,1591169493,16...</td>\n",
       "      <td>[-1, -1, -1, -1, -1, 3756, 2478, 3527, 4176, 4...</td>\n",
       "      <td>[-1, -1, -1, -1, -1, 1554841160, 1562016549, 1...</td>\n",
       "      <td>[-1, -1, -1, -1, -1, 7, 6, 6, 6, 6]</td>\n",
       "      <td>Video Games</td>\n",
       "      <td>The Last of Us - PlayStation 3</td>\n",
       "      <td>[The Last of Us is a third-person Survival-Act...</td>\n",
       "      <td>[Video Games, Legacy Systems, PlayStation Syst...</td>\n",
       "      <td>23.72</td>\n",
       "    </tr>\n",
       "    <tr>\n",
       "      <th>1757</th>\n",
       "      <td>AHYEDK3YUJ272WRGEYYPKMJYYGBQ</td>\n",
       "      <td>B0BMGHMP23</td>\n",
       "      <td>1.0</td>\n",
       "      <td>2022-02-23 00:56:16.297</td>\n",
       "      <td>1.645578e+09</td>\n",
       "      <td>5.0</td>\n",
       "      <td>4.400000</td>\n",
       "      <td>1.0</td>\n",
       "      <td>4.000</td>\n",
       "      <td>0.0</td>\n",
       "      <td>...</td>\n",
       "      <td>B00H727K20,B00JWSJ6G0,B00SN1QEGW,B07HHW8C4V,B0...</td>\n",
       "      <td>1483832981,1483833548,1531755340,1547852644,15...</td>\n",
       "      <td>[2592, 2690, 2941, 4004, 4476, 4613, 4610, 404...</td>\n",
       "      <td>[1483832981, 1483833548, 1531755340, 154785264...</td>\n",
       "      <td>[8, 8, 7, 7, 6, 6, 6, 6, 5, 5]</td>\n",
       "      <td>Computers</td>\n",
       "      <td>Logitech G502 Lightspeed Wireless Gaming Mouse...</td>\n",
       "      <td>[G502 is the best gaming mouse from Logitech G...</td>\n",
       "      <td>[Video Games, PC, Accessories, Gaming Mice]</td>\n",
       "      <td>87.95</td>\n",
       "    </tr>\n",
       "  </tbody>\n",
       "</table>\n",
       "<p>10 rows × 27 columns</p>\n",
       "</div>"
      ],
      "text/plain": [
       "                           user_id parent_asin  rating  \\\n",
       "615   AHTA73F2LZ2J7BOHHSVU2LUFFYBA  B008FPMBNG     1.0   \n",
       "486   AFWECADQYB5X6IIFCPWRJ26NFMMA  B0B1PB5L93     1.0   \n",
       "1516  AHK6ZCLZJANT56XN76F7H42TDAAQ  B0716ZFWWV     0.0   \n",
       "1682  AG6GEX4CV6F5Q55PABEQJYXT53MA  B09T5VN7D1     1.0   \n",
       "1461  AH7GYKBRDAWT2673HJKOXPIT57JQ  B08XD54VJY     1.0   \n",
       "1893  AFQPVFAE6XX4B2HICHSV4BOA2DGA  B08DF248LD     1.0   \n",
       "257   AF5NKVKUZGRPBR7HAYYDUS25RGRQ  B0B5VZ3358     1.0   \n",
       "406   AGNSHALKFUUFHPRBXUET4KUSDHRQ  B08LT6PT1X     1.0   \n",
       "1556  AFLDO6CCUQ6JJHFAVR3GIFNXUKEQ  B007CM0K86     0.0   \n",
       "1757  AHYEDK3YUJ272WRGEYYPKMJYYGBQ  B0BMGHMP23     1.0   \n",
       "\n",
       "                   timestamp  timestamp_unix  parent_asin_rating_cnt_365d  \\\n",
       "615  2022-04-01 05:34:57.305    1.648791e+09                          2.0   \n",
       "486  2022-01-01 07:43:09.410    1.641023e+09                          7.0   \n",
       "1516 2022-03-22 10:56:51.032             NaN                          3.0   \n",
       "1682 2022-04-24 03:48:37.119    1.650772e+09                          0.0   \n",
       "1461 2021-08-13 06:15:46.333    1.628835e+09                         10.0   \n",
       "1893 2022-03-15 16:34:12.635    1.647362e+09                          8.0   \n",
       "257  2022-05-20 21:02:19.754    1.653081e+09                          6.0   \n",
       "406  2021-10-01 20:58:48.261    1.633122e+09                         32.0   \n",
       "1556 2022-05-02 22:50:46.188             NaN                          0.0   \n",
       "1757 2022-02-23 00:56:16.297    1.645578e+09                          5.0   \n",
       "\n",
       "      parent_asin_rating_avg_prev_rating_365d  parent_asin_rating_cnt_90d  \\\n",
       "615                                  5.000000                         0.0   \n",
       "486                                  4.285714                         0.0   \n",
       "1516                                 1.333333                         0.0   \n",
       "1682                                      NaN                         0.0   \n",
       "1461                                 3.900000                        10.0   \n",
       "1893                                 2.875000                         0.0   \n",
       "257                                  4.500000                         2.0   \n",
       "406                                  3.718750                         8.0   \n",
       "1556                                      NaN                         0.0   \n",
       "1757                                 4.400000                         1.0   \n",
       "\n",
       "      parent_asin_rating_avg_prev_rating_90d  parent_asin_rating_cnt_30d  ...  \\\n",
       "615                                      NaN                         0.0  ...   \n",
       "486                                      NaN                         0.0  ...   \n",
       "1516                                     NaN                         0.0  ...   \n",
       "1682                                     NaN                         0.0  ...   \n",
       "1461                                   3.900                        10.0  ...   \n",
       "1893                                     NaN                         0.0  ...   \n",
       "257                                    5.000                         1.0  ...   \n",
       "406                                    3.875                         3.0  ...   \n",
       "1556                                     NaN                         0.0  ...   \n",
       "1757                                   4.000                         0.0  ...   \n",
       "\n",
       "                        user_rating_list_10_recent_asin  \\\n",
       "615   B001EYUY4S,B00Z9TI06S,B00DC7G0GG,B001QCWSGU,B0...   \n",
       "486   B004Q8L46G,B00Z9TL6KA,B071S1FT72,B0B96RSG2Y,B0...   \n",
       "1516  B00I5LAGM8,B00SBXBQDS,B06ZY9R6P1,B07PZ8NZSZ,B0...   \n",
       "1682  B001ELJDUM,B001E58B1K,B001EYUWV8,B00005BW7Q,B0...   \n",
       "1461  B008982OUO,B0036EWMIK,B003OAE79S,B000N5Z2L4,B0...   \n",
       "1893  B06XHLM4DX,B01N3ASPNV,B087NNPYP3,B00MB1I3FU,B0...   \n",
       "257   B0B6HPDH51,B01HNXGKT6,B08D3XL1KF,B074JFY4JF,B0...   \n",
       "406   B00ZDNNRB8,B00DB2BI8M,B000N5Z2L4,B015NHBBOS,B0...   \n",
       "1556  B074PJ7X5X,B00E4MQODC,B01N3ASPNV,B07T5QKKVP,B0...   \n",
       "1757  B00H727K20,B00JWSJ6G0,B00SN1QEGW,B07HHW8C4V,B0...   \n",
       "\n",
       "              user_rating_list_10_recent_asin_timestamp  \\\n",
       "615   1394905692,1481655097,1481985675,1530684361,15...   \n",
       "486   1353775289,1441381657,1504731201,1544594427,15...   \n",
       "1516  1395731374,1476504922,1477725050,1479995484,14...   \n",
       "1682  1172045840,1178967609,1179216394,1179216486,11...   \n",
       "1461  1425243377,1425243421,1425243651,1425243713,14...   \n",
       "1893  1594828163,1594828245,1594828260,1594828341,15...   \n",
       "257   1518997273,1518997558,1545061257,1545061483,15...   \n",
       "406   1498591508,1505173028,1505173517,1505173544,15...   \n",
       "1556  1554841160,1562016549,1563404977,1591169493,16...   \n",
       "1757  1483832981,1483833548,1531755340,1547852644,15...   \n",
       "\n",
       "                                          item_sequence  \\\n",
       "615   [1036, 3041, 2435, 1137, 3963, 2606, 3653, 995...   \n",
       "486   [-1, -1, -1, -1, 1752, 3055, 3655, 4536, 3479,...   \n",
       "1516  [-1, -1, -1, -1, -1, 2630, 2939, 3612, 4134, 2...   \n",
       "1682  [-1, 763, 717, 1009, 139, 334, 474, 115, 502, ...   \n",
       "1461  [2129, 1426, 1526, 526, 4272, 758, 2356, 1406,...   \n",
       "1893  [3573, 3527, 4342, 2793, 4391, 4078, 3829, 424...   \n",
       "257   [4530, 3392, 4368, 3750, 3908, 3788, 3527, 173...   \n",
       "406   [-1, -1, -1, -1, 3066, 2425, 526, 3172, 3085, ...   \n",
       "1556  [-1, -1, -1, -1, -1, 3756, 2478, 3527, 4176, 4...   \n",
       "1757  [2592, 2690, 2941, 4004, 4476, 4613, 4610, 404...   \n",
       "\n",
       "                                       item_sequence_ts  \\\n",
       "615   [1394905692, 1481655097, 1481985675, 153068436...   \n",
       "486   [-1, -1, -1, -1, 1353775289, 1441381657, 15047...   \n",
       "1516  [-1, -1, -1, -1, -1, 1395731374, 1476504922, 1...   \n",
       "1682  [-1, 1172045840, 1178967609, 1179216394, 11792...   \n",
       "1461  [1425243377, 1425243421, 1425243651, 142524371...   \n",
       "1893  [1594828163, 1594828245, 1594828260, 159482834...   \n",
       "257   [1518997273, 1518997558, 1545061257, 154506148...   \n",
       "406   [-1, -1, -1, -1, 1498591508, 1505173028, 15051...   \n",
       "1556  [-1, -1, -1, -1, -1, 1554841160, 1562016549, 1...   \n",
       "1757  [1483832981, 1483833548, 1531755340, 154785264...   \n",
       "\n",
       "                  item_sequence_ts_bucket  main_category  \\\n",
       "615        [8, 8, 8, 7, 7, 7, 6, 6, 6, 6]    Video Games   \n",
       "486    [-1, -1, -1, -1, 8, 8, 7, 7, 7, 7]      Computers   \n",
       "1516  [-1, -1, -1, -1, -1, 8, 8, 8, 8, 8]      Computers   \n",
       "1682      [-1, 9, 9, 9, 9, 9, 9, 9, 9, 5]    Video Games   \n",
       "1461       [8, 8, 8, 8, 8, 8, 8, 8, 8, 8]    Video Games   \n",
       "1893       [6, 6, 6, 6, 6, 0, 0, 0, 0, 0]    Video Games   \n",
       "257        [7, 7, 7, 7, 7, 7, 7, 7, 7, 6]      Computers   \n",
       "406    [-1, -1, -1, -1, 7, 7, 7, 7, 7, 7]    Video Games   \n",
       "1556  [-1, -1, -1, -1, -1, 7, 6, 6, 6, 6]    Video Games   \n",
       "1757       [8, 8, 7, 7, 6, 6, 6, 6, 5, 5]      Computers   \n",
       "\n",
       "                                                  title  \\\n",
       "615   Action Replay 4M Plus - Ultimate enhancement f...   \n",
       "486   Razer Viper Ultimate Lightweight Wireless Gami...   \n",
       "1516  Logitech G903 LIGHTSPEED Gaming Mouse with POW...   \n",
       "1682            13 Sentinels: Aegis Rim - PlayStation 4   \n",
       "1461  The Legend of Zelda: Skyward Sword HD - Ninten...   \n",
       "1893       Xbox Core Wireless Controller – Carbon Black   \n",
       "257   Logitech G604 LIGHTSPEED Gaming Mouse with 15 ...   \n",
       "406     Xbox Elite Wireless Controller Series 2 – Black   \n",
       "1556                     The Last of Us - PlayStation 3   \n",
       "1757  Logitech G502 Lightspeed Wireless Gaming Mouse...   \n",
       "\n",
       "                                            description  \\\n",
       "615   [This cartridge will allow you to play many of...   \n",
       "486   [Forget about average and claim the unfair adv...   \n",
       "1516  [Trusted by top eSports professionals, G903 wi...   \n",
       "1682  [Vanillaware, the storytellers behind Odin Sph...   \n",
       "1461  [Solve puzzles, explore dungeons, and soar the...   \n",
       "1893  [Experience the modernized design of the Xbox ...   \n",
       "257   [With 15 programmable controls, LIGHTSPEED wir...   \n",
       "406   [Experience the Xbox Elite Wireless Controller...   \n",
       "1556  [The Last of Us is a third-person Survival-Act...   \n",
       "1757  [G502 is the best gaming mouse from Logitech G...   \n",
       "\n",
       "                                             categories   price  \n",
       "615   [Video Games, Legacy Systems, Sega Systems, Se...   39.99  \n",
       "486         [Video Games, PC, Accessories, Gaming Mice]   89.99  \n",
       "1516        [Video Games, PC, Accessories, Gaming Mice]   96.98  \n",
       "1682                [Video Games, PlayStation 4, Games]   23.06  \n",
       "1461              [Video Games, Nintendo Switch, Games]   48.49  \n",
       "1893                                                 []    45.5  \n",
       "257         [Video Games, PC, Accessories, Gaming Mice]   59.99  \n",
       "406   [Video Games, Xbox One, Accessories, Controllers]  144.99  \n",
       "1556  [Video Games, Legacy Systems, PlayStation Syst...   23.72  \n",
       "1757        [Video Games, PC, Accessories, Gaming Mice]   87.95  \n",
       "\n",
       "[10 rows x 27 columns]"
      ]
     },
     "execution_count": 23,
     "metadata": {},
     "output_type": "execute_result"
    }
   ],
   "source": [
    "val_df = val_rating_dataset.df\n",
    "val_df.sample(10)"
   ]
  },
  {
   "cell_type": "code",
   "execution_count": 24,
   "id": "9eb1583b-40f7-4157-a383-5891389ac119",
   "metadata": {
    "scrolled": true
   },
   "outputs": [
    {
     "data": {
      "text/html": [
       "<div>\n",
       "<style scoped>\n",
       "    .dataframe tbody tr th:only-of-type {\n",
       "        vertical-align: middle;\n",
       "    }\n",
       "\n",
       "    .dataframe tbody tr th {\n",
       "        vertical-align: top;\n",
       "    }\n",
       "\n",
       "    .dataframe thead th {\n",
       "        text-align: right;\n",
       "    }\n",
       "</style>\n",
       "<table border=\"1\" class=\"dataframe\">\n",
       "  <thead>\n",
       "    <tr style=\"text-align: right;\">\n",
       "      <th></th>\n",
       "      <th>user_id</th>\n",
       "      <th>parent_asin</th>\n",
       "      <th>rating</th>\n",
       "      <th>timestamp</th>\n",
       "      <th>timestamp_unix</th>\n",
       "      <th>parent_asin_rating_cnt_365d</th>\n",
       "      <th>parent_asin_rating_avg_prev_rating_365d</th>\n",
       "      <th>parent_asin_rating_cnt_90d</th>\n",
       "      <th>parent_asin_rating_avg_prev_rating_90d</th>\n",
       "      <th>parent_asin_rating_cnt_30d</th>\n",
       "      <th>...</th>\n",
       "      <th>user_rating_list_10_recent_asin</th>\n",
       "      <th>user_rating_list_10_recent_asin_timestamp</th>\n",
       "      <th>item_sequence</th>\n",
       "      <th>item_sequence_ts</th>\n",
       "      <th>item_sequence_ts_bucket</th>\n",
       "      <th>main_category</th>\n",
       "      <th>title</th>\n",
       "      <th>description</th>\n",
       "      <th>categories</th>\n",
       "      <th>price</th>\n",
       "    </tr>\n",
       "  </thead>\n",
       "  <tbody>\n",
       "    <tr>\n",
       "      <th>51</th>\n",
       "      <td>AHGP7R23VTX7DAZ4DXY5SP7I4RTQ</td>\n",
       "      <td>B000ZK695U</td>\n",
       "      <td>1.0</td>\n",
       "      <td>2021-12-05 10:21:47.294</td>\n",
       "      <td>1.638700e+09</td>\n",
       "      <td>0.0</td>\n",
       "      <td>NaN</td>\n",
       "      <td>0.0</td>\n",
       "      <td>NaN</td>\n",
       "      <td>0.0</td>\n",
       "      <td>...</td>\n",
       "      <td>B00K0NV5J2,B0095CZL8A,B07NQV3X7K,B004CVKGSY,B07P574T71,B00BQVXVYY,B00004Y57G,B001ELJE5Q,B003VUO6LU,B006HZA8EA</td>\n",
       "      <td>1417780770,1417780803,1418817491,1418817576,1418817643,1418817668,1634826772,1634827022,1634827183,1634828445</td>\n",
       "      <td>[2692, 2208, 4098, 1669, 4123, 2357, 115, 777, 1579, 1989]</td>\n",
       "      <td>[1417780770, 1417780803, 1418817491, 1418817576, 1418817643, 1418817668, 1634826772, 1634827022, 1634827183, 1634828445]</td>\n",
       "      <td>[8, 8, 8, 8, 8, 8, 5, 5, 5, 5]</td>\n",
       "      <td>Video Games</td>\n",
       "      <td>White Knight Chronicles International Edition - Playstation 3</td>\n",
       "      <td>[Product Description, White Knight Chronicles is an epic fantasy tale about two kingdoms in midst of a longstanding war. The King of Balandor, wishing to put an end to the war, invites the duke of Faria to his castle to celebrate his daughter's coming of age. But this celebration is sabotaged by the Magi, a rogue sect seeking to steal the White Knight, an ancient weapon of war sealed beneath Balandor castle, in order to take over the world. During the ensuing chaos, a young man named Leonard accidentally unlocks the power of the White Knight as he attempts to save the princess. With this power, Leonard manages to fend off the Magi attack, but not before they escape with the princess. With the kingdoms in chaos, Leonard is entrusted with the mission to find the Magi and rescue the princess. With the help of his trusted companions, they travel throughout Balandor and beyond on a quest to save the princess before the Magi unlock the other knights. The journey is fraught with danger, with Magi warriors at every turn, mythical beasts and monsters to battle, and forbidden powers revealed. As Leonard learns more about the power of the Knight, he realizes that unsealing all of them could trigger a calamity that could end the world., Amazon.com, White Knight Chronicles International Edition, is a Japanese RPG (role-playing game) which allows players to explore an expansive and exciting world of turn-based combat, adventure and comradery A PlayStation 3 exclusive, it was created by noted Japanese RPG game developer Level-5 and features both single player and online multiplayer action, the awesome power to assume the shape of the White Knight, the ability to build a persistent online town/lobby, communication via online blogs, message boards and quest logs, voice chat and beautiful game environments. .caption { font-family: Verdana, Helvetica neue, Arial, serif; font-size: 10px; font-weight: bold; font-style: italic; } ul.indent { list-style: inside disc; text-indent: -15px; } table.callout { font-family: verdana; font-size: 11px; line-height: 1. 3em; } td.vgoverview { height: 125px; background: #9DC4D8 url(https://images-na.ssl-images-amazon.com/images/G/01/electronics/detail-page/callout-bg.png) repeat-x; border-left: 1px solid #999999; border-right: 1px solid #999999; padding-left: 20px; padding-right: 20px; padding-bottom: 10px; width: 250px; font-family: verdana; font-size: 12px; }, Unleash the power of the White Knight., View larger, ., Character customization options., View larger, ., An accessible turn-based battle system., View larger, ., Exciting RPG action with 4-player online support., View larger, ., Story, The story of, White Knight Chronicles, is set in the fictional Kingdom of Balandor and follows the adventures of a boy named Leonard who realizes his role in a drama started thousands of years in the past. Working in the proximity of the palace, Leonard stumbles on a plot to kidnap the enigmatic Princess Cisna. As he helps her escape he also becomes aware of his connection to a transformative power which allows him to take on the ancient shape, and harness the devastating power of the White Knight. Yet there are other elements at work here as well, including the forces of an evil wizard with powers that stretch back to the same ancient times which produced the White Knight. With the help of his friends and the power of the White Knight, these are the forces that Leonard will have to face in his quests., Gameplay, White Knight Chronicles, is a Japanese RPG (JRPG) centered around a turn-based battle system in a local single player story-driven campaign that is supported by online multiplayer functionality. Gameplay questing occurs from a third-person perspective and follows Leonard and up to three other AI companions, which can include the customizable character that players assume in multiplayer mode. Once quest members are assembled, players utilize the strengths of the overall group as a whole, and are able to switch between characters at will. Combat being turn-based, players must be able to cue up and control the actions of each character in quick sequence for each combat scenario faced. The game facilitates this via the Function Palette, located in its Battle Preparation menu, allowing players to prepare in advance a series of commands for each character to carry out. These can involve magic or weapons use and can be merged into combos. Multiple palettes can be saved, making it possible to optimize actions for specific types of enemies, and making for quick changing of commands. As with any RPG, throughout quests players accumulate experience which allows their character to level up, purchase items and abilities and generally grow stronger with an eye towards besting the increasingly challenging creatures, bosses and situations faced., Online Multiplayer, Along with a compelling single player campaign,, White Knight Chronicles, also contains an exciting online multiplayer component. Within this, up to four players can engage in more than 50 multiplayer quests, with each player creating their own unique customizable character which can be leveled up in a combined group effort, and take advantage of created items and new skills. Although unique to the online game mode, which is designed for multiplayer action, these quests can also be played alone if players wish. In addition to this functionality available in the online multiplayer mode also includes a variety of ways to interact with the wider, White Knight Chronicles, community on the PlayStation 3 platform. Included in this is town building through the Georama functionality, which allows players to construct a town to their own specifications that can be populated offline with characters from throughout the single player campaign and then taken online where it serves as a base for quests hosted by players, as well as a persistent online location that other players can visit and buy items your town's population has for sale. The game also offers an online interface known as GeoNet that allows players to communicate with others via blogs, forums, quest logs and voice chat functionality, as well as post snapshots from their journeys using the Crystal Camera in-game tool., Key Game Features, White Knight Transformation - During single player combat players can transform into the giant White Knight, gaining the ability to challenge large enemies as well as troops of soldiers throughout the adventure., White Knight Transformation, - During single player combat players can transform into the giant White Knight, gaining the ability to challenge large enemies as well as troops of soldiers throughout the adventure., The Customizable Avatar Character - Using a wide array of sliders and customization options, players are able to create a unique character that can join the adventure in single player mode as well as online., The Customizable Avatar Character, - Using a wide array of sliders and customization options, players are able to create a unique character that can join the adventure in single player mode as well as online., Combo Battle System - Engage in an accessible, active turn-based battle system that caters to players of all levels allowing both default attack settings and a system for for maximum damage., Combo Battle System, - Engage in an accessible, active turn-based battle system that caters to players of all levels allowing both default attack settings and a system for for maximum damage., JRPG (Japanese RPG) Action for PS3 - Experience true JRPG action on PS3 that incorporates a variety of online gameplay elements., JRPG (Japanese RPG) Action for PS3, - Experience true JRPG action on PS3 that incorporates a variety of online gameplay elements., Beautiful Environments - Players traverse through 13 stages, as well as visit up to six towns/villages to visit and purchase items at shops or interact with NPCs. Stages include lush fields, open desert, vast wastelands, tunnels, and ruins., Beautiful Environments, - Players traverse through 13 stages, as well as visit up to six towns/villages to visit and purchase items at shops or interact with NPCs. Stages include lush fields, open desert, vast wastelands, tunnels, and ruins., Multiple Playable Characters - Six playable characters are available, with up to three controllable characters on the screen at the same time., Multiple Playable Characters, - Six playable characters are available, with up to three controllable characters on the screen at the same time., Build Special Weapons and Items - Combine different weapons and items to create a huge variety of weapons., Build Special Weapons and Items, - Combine different weapons and items to create a huge variety of weapons., Quests Galore - Engage in 50+ unique online side quests in which players can gain special items along with unique weapons and armor., Quests Galore, - Engage in 50+ unique online side quests in which players can gain special items along with unique weapons and armor., Town Building - Build an online village for your character where you can invite friends to complete quests online and purchase unique items and gear., Town Building, - Build an online village for your character where you can invite friends to complete quests online and purchase unique items and gear., GeoNet - Through the online component, players have the ability to write their own blogs, communicate with other players via voice chat and more., GeoNet, - Through the online component, players have the ability to write their own blogs, communicate with other players via voice chat and more., Take Snapshots with Crystal Camera - With Crystal Camera functionality players can take pictures during their journeys which can be shared with other players via their GeoNet page., Take Snapshots with Crystal Camera, - With Crystal Camera functionality players can take pictures during their journeys which can be shared with other players via their GeoNet page.]</td>\n",
       "      <td>[Video Games, Legacy Systems, PlayStation Systems, PlayStation 3, Games]</td>\n",
       "      <td>18.99</td>\n",
       "    </tr>\n",
       "    <tr>\n",
       "      <th>220</th>\n",
       "      <td>AHGP7R23VTX7DAZ4DXY5SP7I4RTQ</td>\n",
       "      <td>B002I0K622</td>\n",
       "      <td>0.0</td>\n",
       "      <td>2021-10-21 14:37:02.124</td>\n",
       "      <td>NaN</td>\n",
       "      <td>0.0</td>\n",
       "      <td>NaN</td>\n",
       "      <td>0.0</td>\n",
       "      <td>NaN</td>\n",
       "      <td>0.0</td>\n",
       "      <td>...</td>\n",
       "      <td>B00K0NV5J2,B0095CZL8A,B07NQV3X7K,B004CVKGSY,B07P574T71,B00BQVXVYY,B00004Y57G</td>\n",
       "      <td>1417780770,1417780803,1418817491,1418817576,1418817643,1418817668,1634826772</td>\n",
       "      <td>[-1, -1, -1, 2692, 2208, 4098, 1669, 4123, 2357, 115]</td>\n",
       "      <td>[-1, -1, -1, 1417780770, 1417780803, 1418817491, 1418817576, 1418817643, 1418817668, 1634826772]</td>\n",
       "      <td>[-1, -1, -1, 8, 8, 8, 8, 8, 8, 0]</td>\n",
       "      <td>Video Games</td>\n",
       "      <td>PlayStation Move Sharp Shooter for PlayStation 3</td>\n",
       "      <td>[The official PlayStation Move sharp shooter attachment houses the motion controller and navigation controller to provide the most intuitive and immersive control experience for shooter games. Its authentic design and precision ensure the most engaging gameplay experience. The design includes easily accessible buttons, digital trigger, adjustable shoulder stock and convenient access to the navigation controller. In addition, the sharp shooter has incorporated a firing mode selector, pump-action grip and reload button that allow for new ways of engagement*. The sharp shooter is perfect for PlayStation Move owners who want to experience the most realistic action possible.]</td>\n",
       "      <td>[Video Games, Legacy Systems, PlayStation Systems, PlayStation 3, Accessories, Controllers]</td>\n",
       "      <td>55.0</td>\n",
       "    </tr>\n",
       "    <tr>\n",
       "      <th>485</th>\n",
       "      <td>AHGP7R23VTX7DAZ4DXY5SP7I4RTQ</td>\n",
       "      <td>B07L5FKGQH</td>\n",
       "      <td>0.0</td>\n",
       "      <td>2021-10-21 15:00:45.457</td>\n",
       "      <td>NaN</td>\n",
       "      <td>2.0</td>\n",
       "      <td>5.000000</td>\n",
       "      <td>0.0</td>\n",
       "      <td>NaN</td>\n",
       "      <td>0.0</td>\n",
       "      <td>...</td>\n",
       "      <td>B00K0NV5J2,B0095CZL8A,B07NQV3X7K,B004CVKGSY,B07P574T71,B00BQVXVYY,B00004Y57G,B001ELJE5Q,B003VUO6LU</td>\n",
       "      <td>1417780770,1417780803,1418817491,1418817576,1418817643,1418817668,1634826772,1634827022,1634827183</td>\n",
       "      <td>[-1, 2692, 2208, 4098, 1669, 4123, 2357, 115, 777, 1579]</td>\n",
       "      <td>[-1, 1417780770, 1417780803, 1418817491, 1418817576, 1418817643, 1418817668, 1634826772, 1634827022, 1634827183]</td>\n",
       "      <td>[-1, 8, 8, 8, 8, 8, 8, 1, 1, 1]</td>\n",
       "      <td>Video Games</td>\n",
       "      <td>Far Cry New Dawn - Deluxe Edition - Xbox [Digital Code]</td>\n",
       "      <td>[Dive into a transformed, post-apocalyptic Hope County, Montana, 17 years after a global nuclear catastrophe in the latest installment of Far Cry. With the Deluxe Edition, receive additional weapons, outfits, and vehicles to help you survive a new dangerous frontier., System Requirements:, Supported Platforms: One - Microsoft Xbox, Supported Platforms:, One - Microsoft Xbox, Xbox, account required for game activation and installation]</td>\n",
       "      <td>[Video Games, Xbox One, Games]</td>\n",
       "      <td>49.88</td>\n",
       "    </tr>\n",
       "    <tr>\n",
       "      <th>500</th>\n",
       "      <td>AHGP7R23VTX7DAZ4DXY5SP7I4RTQ</td>\n",
       "      <td>B07GHWHFR5</td>\n",
       "      <td>0.0</td>\n",
       "      <td>2021-12-05 10:22:05.181</td>\n",
       "      <td>NaN</td>\n",
       "      <td>3.0</td>\n",
       "      <td>3.666667</td>\n",
       "      <td>0.0</td>\n",
       "      <td>NaN</td>\n",
       "      <td>0.0</td>\n",
       "      <td>...</td>\n",
       "      <td>B0095CZL8A,B07NQV3X7K,B004CVKGSY,B07P574T71,B00BQVXVYY,B00004Y57G,B001ELJE5Q,B003VUO6LU,B006HZA8EA,B000ZK695U</td>\n",
       "      <td>1417780803,1418817491,1418817576,1418817643,1418817668,1634826772,1634827022,1634827183,1634828445,1638699707</td>\n",
       "      <td>[2208, 4098, 1669, 4123, 2357, 115, 777, 1579, 1989, 633]</td>\n",
       "      <td>[1417780803, 1418817491, 1418817576, 1418817643, 1418817668, 1634826772, 1634827022, 1634827183, 1634828445, 1638699707]</td>\n",
       "      <td>[8, 8, 8, 8, 8, 5, 5, 5, 5, 0]</td>\n",
       "      <td>Video Games</td>\n",
       "      <td>Xbox Wireless Controller – Grey And Blue</td>\n",
       "      <td>[Experience the enhanced comfort and feel of the Xbox Wireless Controller, featuring a dark grey design with light grey and blue accents, and textured grip. Enjoy custom button mapping on Xbox One and Windows 10 and plug in any compatible headset with the 3.5mm stereo headset jack. And with Bluetooth technology, play your favorite games on Windows 10 PCs and tablets.]</td>\n",
       "      <td>[Video Games, Xbox One, Accessories, Controllers]</td>\n",
       "      <td>59.0</td>\n",
       "    </tr>\n",
       "    <tr>\n",
       "      <th>739</th>\n",
       "      <td>AHGP7R23VTX7DAZ4DXY5SP7I4RTQ</td>\n",
       "      <td>B00004Y57G</td>\n",
       "      <td>1.0</td>\n",
       "      <td>2021-10-21 14:32:52.074</td>\n",
       "      <td>1.634827e+09</td>\n",
       "      <td>0.0</td>\n",
       "      <td>NaN</td>\n",
       "      <td>0.0</td>\n",
       "      <td>NaN</td>\n",
       "      <td>0.0</td>\n",
       "      <td>...</td>\n",
       "      <td>B00K0NV5J2,B0095CZL8A,B07NQV3X7K,B004CVKGSY,B07P574T71,B00BQVXVYY</td>\n",
       "      <td>1417780770,1417780803,1418817491,1418817576,1418817643,1418817668</td>\n",
       "      <td>[-1, -1, -1, -1, 2692, 2208, 4098, 1669, 4123, 2357]</td>\n",
       "      <td>[-1, -1, -1, -1, 1417780770, 1417780803, 1418817491, 1418817576, 1418817643, 1418817668]</td>\n",
       "      <td>[-1, -1, -1, -1, 8, 8, 8, 8, 8, 8]</td>\n",
       "      <td>Video Games</td>\n",
       "      <td>Final Fantasy IX</td>\n",
       "      <td>[FINAL FANTASY IX-GREATEST HITS]</td>\n",
       "      <td>[Video Games, Legacy Systems, PlayStation Systems, PlayStation, Games]</td>\n",
       "      <td>None</td>\n",
       "    </tr>\n",
       "    <tr>\n",
       "      <th>1121</th>\n",
       "      <td>AHGP7R23VTX7DAZ4DXY5SP7I4RTQ</td>\n",
       "      <td>B001ELJE5Q</td>\n",
       "      <td>1.0</td>\n",
       "      <td>2021-10-21 14:37:02.124</td>\n",
       "      <td>1.634827e+09</td>\n",
       "      <td>3.0</td>\n",
       "      <td>5.000000</td>\n",
       "      <td>0.0</td>\n",
       "      <td>NaN</td>\n",
       "      <td>0.0</td>\n",
       "      <td>...</td>\n",
       "      <td>B00K0NV5J2,B0095CZL8A,B07NQV3X7K,B004CVKGSY,B07P574T71,B00BQVXVYY,B00004Y57G</td>\n",
       "      <td>1417780770,1417780803,1418817491,1418817576,1418817643,1418817668,1634826772</td>\n",
       "      <td>[-1, -1, -1, 2692, 2208, 4098, 1669, 4123, 2357, 115]</td>\n",
       "      <td>[-1, -1, -1, 1417780770, 1417780803, 1418817491, 1418817576, 1418817643, 1418817668, 1634826772]</td>\n",
       "      <td>[-1, -1, -1, 8, 8, 8, 8, 8, 8, 0]</td>\n",
       "      <td>Video Games</td>\n",
       "      <td>Wii Guitar Hero World Tour Band Kit</td>\n",
       "      <td>[Product description, We've all dreamed of being in a band, but unfortunately, not all of us are so musically inclined. At least you can pretend with Guitar Hero World Tour!This is the Complete Band Game package for Wii: it comes with the Guitar Hero World Tour game, wireless guitar controller, wireless drum kit, and wired microphone. Get ready for a whole new set list of awesome songs to rock out to, including Michael Jackson's \"Beat It, \" Van Halen's \"Hot for Teacher\" and more. The best part? They're all master tracks, no lame covers!The wireless guitar features a neck slider for tackling those intense solos, and a dedicated star power button and re-designed controls to further enhance your finger work. Quiet surface, pressure-sensitive pads and an authentic arrangement make the wireless drum kit as close to the real thing as you can get. You can choose to play solo, with the band, or play 4 vs. 4 Battle of the Bands play. And once you've dominated all the songs in the game? Go ahead and create your own recorded content! The Guitar Hero World Tour game package offers endless hours of interactive fun, so hurry up and order today!, Amazon.com, Start a Band...the, Guitar Hero, Way, Guitar Hero World Tour, transforms music gaming by expanding, Guitar Hero's, signature guitar gameplay into a cooperative band experience that combines advanced wireless instruments with online and offline gameplay modes including online Band Career and 8-player \"Battle of the Bands,\" which allows two full bands to compete head-to-head online. The game features a slick redesigned guitar, an authentic electronic drum kit, and a microphone, as well as a Music Studio music creator that lets players compose, record, edit and share their own rock ‘n’ roll anthems., Wireless Instruments, New to, GHWT, is a redesigned, more responsive guitar controller, which features a touch-sensitive slide bar on the neck that allows the player to play through certain song passages without needing to strum. Check out the drum kit featuring three drum pads, two raised cymbals, and a bass kick pedal. The drum controller combines larger and quieter, velocity-sensitive drum heads with soft rubber construction to deliver authentic bounce back and is easy to set up, move, break down and store., Be the Next Great Songwriter, Music Studio lets players express their musical creativity by giving them access to a full complement of tools to create digital music from scratch utilizing the guitar controller and drum kit. Players can create their tracks and then play them in-game or share the recordings with the entire, Guitar Hero, community through, GHTunes, ., GHTunes, allows other gamers from around the world to download and play the community's original tracks., Create the Band, Budding rock stars can live out their rock ‘n’ roll fantasies by playing either a single instrument or any combination of instruments, in addition to the full band experience. When rocking as part of a band, up to four players can jam together in quickplay or as they progress through a career. Both band and single-player careers feature non-linear progression giving artists the option to change difficulty and instruments with a variety of different gigs available at any time., Never Jam Solo Again, Virtual musicians in need of band mates can take their careers online forming worldwide ensembles so no rock star ever has to play a gig solo. Plus,, GHWT, adds a \"Battle of the Bands\" modes, which allows eight players to join online and challenge each other band-to-band to establish global supremacy., A Game Play Mode Just for the Wii, Jump into the \"Mii Freestyle\" game play mode that is unique to the Wii. Create Blues, Rock or Metal masterpieces by yourself, or join with friends to jam freely together on guitar controllers and the drum kit controller., Customize Everything, The character creator allows gamers to create a rock star with style as unique as their own. Absolute customization from the clothes, to the facial and body structure, to the tattoos and accessories, players are encouraged to unleash their inner rock legend. The Rock Star Creator doesn't just allow players to build the ultimate rock god; the in-depth creators include the ability to customize guitars, drums and microphones. Adding yet another layer of personalization, gamers can create custom logos for their instruments, band, or album covers., A Set List for the Ages, The, Guitar Hero World Tour, set list is comprised entirely of master recordings from some of the greatest artists of all-time including Van Halen, Linkin Park, The Eagles, and Sublime. There are over 85 tracks, plus frequent downloadable singles and track packs. In addition to the killer track list, the game will feature rock icons such as Hayley Williams of Paramore and Travis Barker of +44 and blink-182., The Full Set List, 311 - \"Beautiful Disaster\", 311 - \"Beautiful Disaster\", 30 Seconds To Mars - \"The Kill\", 30 Seconds To Mars - \"The Kill\", Airbourne - \"Too Much Too Young\", Airbourne - \"Too Much Too Young\", The Allman Brothers Band - \"Ramblin' Man\", The Allman Brothers Band - \"Ramblin' Man\", Anouk - \"Good God\", Anouk - \"Good God\", The Answer - \"Never Too Late\", The Answer - \"Never Too Late\", At The Drive-In - \"One Armed Scissor\", At The Drive-In - \"One Armed Scissor\", Beastie Boys - \"No Sleep Till Brooklyn\", Beastie Boys - \"No Sleep Till Brooklyn\", Beatsteaks - \"Hail to the Freaks\", Beatsteaks - \"Hail to the Freaks\", Billy Idol - \"Rebel Yell\", Billy Idol - \"Rebel Yell\", Black Label Society - \"Stillborn\", Black Label Society - \"Stillborn\", Black Rebel Motorcycle Club - \"Weapon of Choice\", Black Rebel Motorcycle Club - \"Weapon of Choice\", blink-182 - \"Dammit\", blink-182 - \"Dammit\", Blondie - \"One Way or Another\", Blondie - \"One Way or Another\", Bob Seger &amp; The Silver Bullet Band - \"Hollywood Nights\", Bob Seger &amp; The Silver Bullet Band - \"Hollywood Nights\", Bon Jovi - \"Livin' On A Prayer\", Bon Jovi - \"Livin' On A Prayer\", Bullet For My Valentine - \"Scream Aim Fire\", Bullet For My Valentine - \"Scream Aim Fire\", Coldplay - \"Shiver\", Coldplay - \"Shiver\", Creedence Clearwater Revival - \"Up Around The Bend\", Creedence Clearwater Revival - \"Up Around The Bend\", The Cult - \"Love Removal Machine\", The Cult - \"Love Removal Machine\", Dinosaur Jr. - \"Feel The Pain\", Dinosaur Jr. - \"Feel The Pain\", The Doors - \"Love Me Two Times\", The Doors - \"Love Me Two Times\", Dream Theater - \"Pull Me Under\", Dream Theater - \"Pull Me Under\", The Eagles - \"Hotel California\", The Eagles - \"Hotel California\", The Enemy - \"Aggro\", The Enemy - \"Aggro\", Filter - \"Hey Man, Nice Shot\", Filter - \"Hey Man, Nice Shot\", Fleetwood Mac - \"Go Your Own Way\", Fleetwood Mac - \"Go Your Own Way\", Foo Fighters - \"Everlong\", Foo Fighters - \"Everlong\", The Guess Who - \"American Woman\", The Guess Who - \"American Woman\", Hush Puppies - \"You're Gonna Say Yeah!\", Hush Puppies - \"You're Gonna Say Yeah!\", Interpol - \"Obstacle 1\", Interpol - \"Obstacle 1\", Jane's Addiction - \"Mountain Song\", ...]</td>\n",
       "      <td>[Video Games, Legacy Systems, Nintendo Systems, Wii, Games]</td>\n",
       "      <td>None</td>\n",
       "    </tr>\n",
       "    <tr>\n",
       "      <th>1179</th>\n",
       "      <td>AHGP7R23VTX7DAZ4DXY5SP7I4RTQ</td>\n",
       "      <td>B08D3XL1KF</td>\n",
       "      <td>0.0</td>\n",
       "      <td>2021-12-05 10:21:47.294</td>\n",
       "      <td>NaN</td>\n",
       "      <td>18.0</td>\n",
       "      <td>4.388889</td>\n",
       "      <td>0.0</td>\n",
       "      <td>NaN</td>\n",
       "      <td>0.0</td>\n",
       "      <td>...</td>\n",
       "      <td>B00K0NV5J2,B0095CZL8A,B07NQV3X7K,B004CVKGSY,B07P574T71,B00BQVXVYY,B00004Y57G,B001ELJE5Q,B003VUO6LU,B006HZA8EA</td>\n",
       "      <td>1417780770,1417780803,1418817491,1418817576,1418817643,1418817668,1634826772,1634827022,1634827183,1634828445</td>\n",
       "      <td>[2692, 2208, 4098, 1669, 4123, 2357, 115, 777, 1579, 1989]</td>\n",
       "      <td>[1417780770, 1417780803, 1418817491, 1418817576, 1418817643, 1418817668, 1634826772, 1634827022, 1634827183, 1634828445]</td>\n",
       "      <td>[8, 8, 8, 8, 8, 8, 5, 5, 5, 5]</td>\n",
       "      <td>Video Games</td>\n",
       "      <td>Super Smash Bros. Ultimate: Challenger Pack 2 - [Switch Digital Code]</td>\n",
       "      <td>[The Hero from the DRAGON QUEST XI game joins Super Smash Bros. Ultimate as a playable fighter!, Wielding the Supreme Sword of Light and a trusty shield, he can slice his foes and block incoming attacks. When Hero pulls up his Command Selection screen, he'll have access to a random selection of spells that could turn the tide of battle in his favor! This pack also includes the Yggdrasil's Altar stage, which sweeps across nearby areas around the sacred Tree of Life, as well as a selection of music from the DRAGON QUEST series., Challenger Pack 2 includes Hero as a playable fighter, his stage, Yggdrasil's Altar, and a selection of music from the DRAGON QUEST series., Note: The content of this Challenger Pack is already included in the Super Smash Bros. Ultimate Fighters Pass (sold separately)., • Hero joins the battle as a playable fighter! • Challenger Pack 2 also includes the Yggdrasil’s Altar stage, and DRAGON QUEST series music tracks, 2018 Nintendo, Original Game: Nintendo / HAL Laboratory, Inc. Characters: Nintendo / HAL Laboratory, Inc. / Pokémon. / Creatures Inc. / GAME FREAK inc. / SHIGESATO ITOI / APE inc. / INTELLIGENT SYSTEMS / Konami Digital Entertainment / SEGA / CAPCOM CO., LTD. / BANDAI NAMCO Entertainment Inc. / MONOLITHSOFT / CAPCOM U.S.A., INC. / SQUARE ENIX CO., LTD. / ATLUS / Microsoft. Super Smash Bros. and Nintendo Switch are trademarks of Nintendo. 2019 Nintendo., Full version of game required to use DLC. Sold separately.The Challenger Pack may require additional storage. Nintendo Switch storage can be expanded with a microSD card if needed (sold separately).​, Nintendo Play, account required to download and install.]</td>\n",
       "      <td>[Video Games, Nintendo Switch, Games]</td>\n",
       "      <td>5.99</td>\n",
       "    </tr>\n",
       "    <tr>\n",
       "      <th>1195</th>\n",
       "      <td>AHGP7R23VTX7DAZ4DXY5SP7I4RTQ</td>\n",
       "      <td>B00ISW0TGW</td>\n",
       "      <td>0.0</td>\n",
       "      <td>2021-10-21 14:39:42.971</td>\n",
       "      <td>NaN</td>\n",
       "      <td>5.0</td>\n",
       "      <td>4.400000</td>\n",
       "      <td>1.0</td>\n",
       "      <td>5.0</td>\n",
       "      <td>0.0</td>\n",
       "      <td>...</td>\n",
       "      <td>B00K0NV5J2,B0095CZL8A,B07NQV3X7K,B004CVKGSY,B07P574T71,B00BQVXVYY,B00004Y57G,B001ELJE5Q</td>\n",
       "      <td>1417780770,1417780803,1418817491,1418817576,1418817643,1418817668,1634826772,1634827022</td>\n",
       "      <td>[-1, -1, 2692, 2208, 4098, 1669, 4123, 2357, 115, 777]</td>\n",
       "      <td>[-1, -1, 1417780770, 1417780803, 1418817491, 1418817576, 1418817643, 1418817668, 1634826772, 1634827022]</td>\n",
       "      <td>[-1, -1, 8, 8, 8, 8, 8, 8, 0, 0]</td>\n",
       "      <td>Video Games</td>\n",
       "      <td>KontrolFreek FPS Freek Vortex Performance Thumbsticks for PlayStation 4 Controller (PS4)</td>\n",
       "      <td>[]</td>\n",
       "      <td>[Video Games, PlayStation 4, Accessories, Thumb Grips]</td>\n",
       "      <td>16.99</td>\n",
       "    </tr>\n",
       "    <tr>\n",
       "      <th>1451</th>\n",
       "      <td>AHGP7R23VTX7DAZ4DXY5SP7I4RTQ</td>\n",
       "      <td>B003VUO6LU</td>\n",
       "      <td>1.0</td>\n",
       "      <td>2021-10-21 14:39:42.971</td>\n",
       "      <td>1.634827e+09</td>\n",
       "      <td>2.0</td>\n",
       "      <td>3.500000</td>\n",
       "      <td>1.0</td>\n",
       "      <td>5.0</td>\n",
       "      <td>0.0</td>\n",
       "      <td>...</td>\n",
       "      <td>B00K0NV5J2,B0095CZL8A,B07NQV3X7K,B004CVKGSY,B07P574T71,B00BQVXVYY,B00004Y57G,B001ELJE5Q</td>\n",
       "      <td>1417780770,1417780803,1418817491,1418817576,1418817643,1418817668,1634826772,1634827022</td>\n",
       "      <td>[-1, -1, 2692, 2208, 4098, 1669, 4123, 2357, 115, 777]</td>\n",
       "      <td>[-1, -1, 1417780770, 1417780803, 1418817491, 1418817576, 1418817643, 1418817668, 1634826772, 1634827022]</td>\n",
       "      <td>[-1, -1, 8, 8, 8, 8, 8, 8, 0, 0]</td>\n",
       "      <td>Video Games</td>\n",
       "      <td>Sony PlayStation 3 Slim 320 GB Charcoal Black Console</td>\n",
       "      <td>[Product Description, The PS3 system is now slimmer and lighter than ever before. While the form factor may have changed, the PS3 system still comes with free access to the PlayStation Network, built-in Wi-Fi, and hard disk drive storage for games, music, videos, and photos. Plus, the PS3 system is the only gaming console with a Blu-ray player to give you the best high-definition viewing experience on your television. With five times the capacity of standard DVDs, Blu-ray discs gives you more realistic and immersive gameplay that can only be possible on the PS3 system with games such as Gran Turismo 5, Uncharted 2: Among Thieves Game of the Year, and MAG. All PlayStation 3 systems are already equipped with everything you need to play stereoscopic 3D games., Amazon.com, The fourth generation of hardware released for the PlayStation 3 entertainment platform, the PlayStation 3 320GB system is the next stage in the evolution of Sony's console gaming powerhouse. Loaded with a mix of multimedia features and functions available on earlier PlayStation 3 models, as well as a series of new advancements and refinements, the PlayStation 3 320GB system is destined to push the envelope in the realm of Next-Generation entertainment. .caption { font-family: Verdana, Helvetica neue, Arial, serif; font-size: 10px; font-weight: bold; font-style: italic; } ul.indent { list-style: inside disc; text-indent: -15px; } table.callout { font-family: verdana; font-size: 11px; line-height: 1. 3em; } td.vgoverview { height: 125px; background: #9DC4D8 url(https://images-na.ssl-images-amazon.com/images/G/01/electronics/detail-page/callout-bg.png) repeat-x; border-left: 1px solid #999999; border-right: 1px solid #999999; padding-left: 20px; padding-right: 20px; padding-bottom: 10px; width: 250px; font-family: verdana; font-size: 12px; }, What's Under the Hood, As with previous models, the PlayStation 3 320GB system features an IBM \"Cell\" processor and a co-developed NVIDIA graphics processor that together allow the system to perform two trillion calculations per second. Yet the 320GB system manages to improve on this with its 45nm version of the processor, which although running at the same 60+nm speed as previous PS3 versions, uses less energy. This makes the unit's smaller size and quieter fan possible. Along with the traditional AV and composite connections, the 320GB system also boasts an HDMI (High-Definition Multimedia Interface) port, which delivers uncompressed, unconverted digital picture and sound to compatible high-definition TVs and projectors (the system is capable of 128-bit pixel precision and 1080p resolution for a full HD experience). This console also provides for an extreme sound experience by supporting Dolby Digital 5.1, DTS 5.1, as well as Linear PCM 7.1. Finally, it features cross connectivity with your PC network and PlayStation Portable (PSP) and its pre-installed, 320GB hard disc drive allows you to save games as well as download content from the internet. Unlike other models of the PlayStation 3, The 320GB system does not offer backwards compatibility., The same functionality now in a smaller, more quiet and energy efficient package, View larger, ., Space saving when placed upright..., View larger, ., As well as when horizontal, View larger, ., A textured, no fingerprint finish, View larger, ., Blu-ray, PlayStation Network Downloads and Beyond, PlayStation 3 utilizes Blu-ray disc media format, which gives you the best high-definition viewing experience on your television, by way of the format's ability to hold six times as much data as traditional DVDs. This tremendous capacity, combined with the awesome power of the system's processor and graphics card, promises an endless stream of mind-blowing games, and other multimedia content. However, this does not mean that the PS3 is limited to Blu-ray discs - it also supports CD-ROM, CD-RW, DVD, DVD-ROM, DVD-R, DVD+R formats. In addition, PlayStation 3 system software includes BD Live support that allows you to play discs that support Blu-ray Disc Profile 2.0 (BD-LIVE). This means that you can also connect to the internet while playing discs that support this format to obtain additional features. Of course, PS3 owners also receive free access to the PlayStation Network (PSN), where through the PlayStation Store and PlayStation Home, they can download games, game demos, movies, and other content, as well as chat with friends, play mini-games, compete in tournaments and explore dedicated game spaces., Sensational Controller, The Dualshock 3 wireless controller included with the PlayStation 3 320GB system provides the most intuitive gameplay experience, with pressure sensors in each action button and the inclusion of the highly sensitive Sixaxis motion sensing technology. Each hit, crash and explosion is more realistic when the user feels the rumble right in the palm of their hand. It can even detect natural movements for real-time and high-precision interactive play, acting as a natural extension of the user’s body. Dualshock 3 utilizes Bluetooth technology for wireless gameplay and the controller’s detachable USB cable to seamlessly and automatically charge the controller when connected to the PlayStation 3. By integrating all of these features into the popular PlayStation controller design, the Dualshock 3 further enhances the advanced gameplay experience that can only be found on the PlayStation 3 system., Synch with Your Other Sony HDMI Devices, The PlayStation 3 320GB system features HDMI + Bravia Synch functionality. Bravia Synch allows connectivity between Sony HDMI products, without having to utilize multiple remote controls. This means that with the push of a button, users can control compliant Sony devices connected to your PS3 via HDMI cable., What's in The Box, :, New slimmer and lighter PS3 system with a 320 GB HDD, Internet-ready built-in Wi-Fi, 2 USB ports and HDMI + Bravia Synch output for 1080p resolution and connectivity between other Sony HDMI products., New slimmer and lighter PS3 system with a 320 GB HDD, Internet-ready built-in Wi-Fi, 2 USB ports and HDMI + Bravia Synch output for 1080p resolution and connectivity between other Sony HDMI products., Dualshock 3 wireless controller., Dualshock 3 wireless controller., AC power cord, AV cable and USB cable., AC power cord, AV cable and USB cable., Free PlayStation Network membership., Free PlayStation Network membership., System Specifications:, CPU Cell Broadband Engine (Cell/B.E.) GPU RSX Sound LPCM 7.1ch, Dolby Digital, Dolby Digital Plus, Dolby TrueHD, DTs, DTS-HD, AAC Memory 256MB XDR Main RAM, 256MB GDDR3 VRAM HDD 2.5\" Serial ATA 320GB Networking Ethernet X1 (10BASE-T,100BASE-TX, 1000BASE-T) IEEE 802.11 b/g Included Bluetooth 2.0 (EDR) Included Controller Dualshock 3 wireless controller included AV Output Resolution 1080p, 1080i, 720p, 480p, 480i (for PAL 576p, 576i) HDMI OUT + Bravia Synch 1 AV MULTI OUT 1 DIGITAL OUT (OPTICAL) 1 BD/DVD/CD Drive(Read Only) Maximum Read Speed BD 2x (BD-ROM) DVD 8x (DVD-ROM) CD 24x (CD-ROM) USB Ports 2 Backwards Compatibility No Dimensions 13.385\"(w) x 13.385\"(h) x 6.299\"(d) Weight Approx. 7.05 lb.]</td>\n",
       "      <td>[Video Games, Legacy Systems, PlayStation Systems, PlayStation 3, Consoles]</td>\n",
       "      <td>235.88</td>\n",
       "    </tr>\n",
       "    <tr>\n",
       "      <th>1513</th>\n",
       "      <td>AHGP7R23VTX7DAZ4DXY5SP7I4RTQ</td>\n",
       "      <td>B002Z01QO2</td>\n",
       "      <td>0.0</td>\n",
       "      <td>2021-10-21 14:32:52.074</td>\n",
       "      <td>NaN</td>\n",
       "      <td>2.0</td>\n",
       "      <td>4.500000</td>\n",
       "      <td>0.0</td>\n",
       "      <td>NaN</td>\n",
       "      <td>0.0</td>\n",
       "      <td>...</td>\n",
       "      <td>B00K0NV5J2,B0095CZL8A,B07NQV3X7K,B004CVKGSY,B07P574T71,B00BQVXVYY</td>\n",
       "      <td>1417780770,1417780803,1418817491,1418817576,1418817643,1418817668</td>\n",
       "      <td>[-1, -1, -1, -1, 2692, 2208, 4098, 1669, 4123, 2357]</td>\n",
       "      <td>[-1, -1, -1, -1, 1417780770, 1417780803, 1418817491, 1418817576, 1418817643, 1418817668]</td>\n",
       "      <td>[-1, -1, -1, -1, 8, 8, 8, 8, 8, 8]</td>\n",
       "      <td>Video Games</td>\n",
       "      <td>New Super Mario Bros. Wii</td>\n",
       "      <td>[Product Description, New Super Mario Bros. Wii, Amazon.com, Developers at Nintendo have dreamed of creating a simultaneous multiplayer, Super Mario Bros., game for decades. The Wii console finally makes that dream come true for everyone with, New Super Mario Bros. Wii., Supporting 2-4 players in side-scrolling co-op and competitive platforming action, and featuring a mix of fan favorites and new characters, new powerups and various input options via the Wii Remote, it is destined to become an instant classic in one of the most beloved game franchises of all-time. .caption { font-family: Verdana, Helvetica neue, Arial, serif; font-size: 10px; font-weight: bold; font-style: italic; } ul.indent { list-style: inside disc; text-indent: -15px; } table.callout { font-family: verdana; font-size: 11px; line-height: 1. 3em; } td.vgoverview { height: 125px; background: #9DC4D8 url(https://images-na.ssl-images-amazon.com/images/G/01/electronics/detail-page/callout-bg.png) repeat-x; border-left: 1px solid #999999; border-right: 1px solid #999999; padding-left: 20px; padding-right: 20px; padding-bottom: 10px; width: 250px; font-family: verdana; font-size: 12px; }, Co-op/competitive simultaneous multiplayer., View larger, ., Classic environments with a twist., View larger, ., Wacky new powerups, View larger, ., Gameplay, New Super Mario Bros. Wii, , like all the previous releases in the, Super Mario Bros., franchise is a side-scrolling platforming game where players collect coins as they attempt to make their way through progressively more difficult game levels using their ability to time jumps over obstacles and avoid a slew of enemies. But although the game contain several well-deserved nods to previous games in the series in the form of iconic characters like Mario, Luigi and two Toads, as well as familiar enemies, sound effects and levels, it is not simply another trip down, Mario Bros., memory lane. Taking advantage of the flexibility and power of the Wii and Wii Remote,, New Super Mario Bros. Wii, manages to preserve the retro experience that fans love about the series, while adding new game features. Notable additions among these include, expansive play levels and new powerups and characters, but by far the most important, and in fact game-defining new feature is simultaneous multiplayer., A Franchise First: Simultaneous Multiplayer, Since the very first, Super Mario Bros., game took the world by storm in the late 1980s gamers anxious to get into the action have patiently and impatiently waited their turn as the infamous 'player 2.' Those days are no more. In, New Super Mario Bros. Wii, players can now navigate the side-scrolling worlds alone as before or invite up to three others to join them at the same time, on the same level, at any point in the game for competitive and cooperative multiplayer fun. With the multiplayer mode, the newest installment of the most popular video game franchise is designed to bring yet another type of family entertainment into living rooms and engage groups of friends in fast-paced, Super Mario Bros., fun., Controller Choices Via the Wii Remote, In another nod to the series' Nintendo Entertainment System (NES) roots, the Wii Remote controller used with, New Super Mario Bros. Wii, is held sideways, allowing for easy, classic inputs using the D-pad to direct playable characters, the 1 button to jump and 2 button to spit out projectiles like snowballs and fireballs. In addition, players can access powerups with their choice of either the push of a button, or by shaking the Wii remote, again demonstrating the perfect merging of classic gameplay and modern game design which is, New Super Mario Bros. Wii, ., Key Game Features, New Super Mario Bros. Wii offers a combination of cooperation and competition. Players can pick each other up to save them from danger or toss them into it., New Super Mario Bros. Wii, offers a combination of cooperation and competition. Players can pick each other up to save them from danger or toss them into it., Supports 2-4 players in multiplayer mode., Supports 2-4 players in multiplayer mode., Mario, Luigi and two Toads are all playable characters, while many others from the Mushroom Kingdom make appearances throughout the game. Players can even ride different Yoshi characters and use their tongues to swallow enemies – or their fellow players., Mario, Luigi and two Toads are all playable characters, while many others from the Mushroom Kingdom make appearances throughout the game. Players can even ride different Yoshi characters and use their tongues to swallow enemies – or their fellow players., In some areas, players use the motion abilities of the Wii Remote controller. The first player to reach a seesaw might make it tilt to help his or her character reach a higher platform – and then tilt it incorrectly just to mess with other players., In some areas, players use the motion abilities of the Wii Remote controller. The first player to reach a seesaw might make it tilt to help his or her character reach a higher platform – and then tilt it incorrectly just to mess with other players., New items include the propeller suit, which will shoot players high into the sky with just a shake of the Wii Remote and Mario’s new ability to transform into Penguin Mario., New items include the propeller suit, which will shoot players high into the sky with just a shake of the Wii Remote and Mario’s new ability to transform into Penguin Mario., At the end of each stage during the simultaneous multiplayer mode, players are ranked based on their score, the coins collected and the number of enemies defeated., At the end of each stage during the simultaneous multiplayer mode, players are ranked based on their score, the coins collected and the number of enemies defeated.]</td>\n",
       "      <td>[Video Games, Legacy Systems, Nintendo Systems, Wii, Games]</td>\n",
       "      <td>71.95</td>\n",
       "    </tr>\n",
       "    <tr>\n",
       "      <th>1661</th>\n",
       "      <td>AHGP7R23VTX7DAZ4DXY5SP7I4RTQ</td>\n",
       "      <td>B006HZA8EA</td>\n",
       "      <td>1.0</td>\n",
       "      <td>2021-10-21 15:00:45.457</td>\n",
       "      <td>1.634828e+09</td>\n",
       "      <td>0.0</td>\n",
       "      <td>NaN</td>\n",
       "      <td>0.0</td>\n",
       "      <td>NaN</td>\n",
       "      <td>0.0</td>\n",
       "      <td>...</td>\n",
       "      <td>B00K0NV5J2,B0095CZL8A,B07NQV3X7K,B004CVKGSY,B07P574T71,B00BQVXVYY,B00004Y57G,B001ELJE5Q,B003VUO6LU</td>\n",
       "      <td>1417780770,1417780803,1418817491,1418817576,1418817643,1418817668,1634826772,1634827022,1634827183</td>\n",
       "      <td>[-1, 2692, 2208, 4098, 1669, 4123, 2357, 115, 777, 1579]</td>\n",
       "      <td>[-1, 1417780770, 1417780803, 1418817491, 1418817576, 1418817643, 1418817668, 1634826772, 1634827022, 1634827183]</td>\n",
       "      <td>[-1, 8, 8, 8, 8, 8, 8, 1, 1, 1]</td>\n",
       "      <td>Video Games</td>\n",
       "      <td>UFC Undisputed 3</td>\n",
       "      <td>[Product Description, The critically acclaimed and best-selling MMA videogame franchise returns to take players inside the Octagon with UFC Undisputed 3, delivering intense UFC action focused on brutal toe-to-toe combat, impressive visual presentation, increased accessibility and raw fight emotion., Amazon.com, UFC Undisputed 3, is a mixed martial arts (MMA) fighting game in which players step into the iconic octagon fighting cage to battle in one-on-one action for the ultimate fighting championship (UFC). Just as in real MMA bouts, players of, UFC Undisputed 3, use a variety of martial arts disciplines separated into striking and grappling techniques in an attempt to knockout an opponent, force him to submit or win a decision on points. The game features a huge roster of real UFC fighters in multiple weight classes, as well as a new submission system, simplified controls and an improved online component., Step Inside the Octagon Once Again, The critically acclaimed and best-selling MMA video game franchise returns to take players inside the Octagon with, UFC Undisputed 3, , delivering UFC action focused on intense toe-to-toe combat, impressive visual presentation and increased accessibility. One of the most exciting additions of, UFC Undisputed 3, is the inclusion of the new Pride mode. Pride mode is a no-holds-barred Japanese MMA league that augments standard gameplay. Along with a separate belt, it brings with it brutal soccer-style kicks, head stomps and ground knees to the head that make for an entirely separate type of fight. The game also expands the available roster of real, playable fighters in-game to more than 150. The selection of fighters is spread across seven UFC weight classes and feature current superstars and classic fighters, as well as hungry up-and-coming fighters to look for in the UFC., Battle within the iconic UFC octagon for the undisputed championship. View larger, The game also features a brand new submission system, new ways to finish the fight and increased accessibility through both traditional and simplified gameplay controls. Players also experience the excitement of a live UFC event through significant visual improvements. Improvements include broadcasting from cage-side, new camera positions and the introduction of much-anticipated fighter entrances. Rounding out the UFC experience with a significantly improved online feature set, including new and updated offerings,, UFC Undisputed 3, lets players have their fights – their way – to deliver the most competitive and engaging experience to date for the franchise., Key Game Features, Pride Mode - Compete for the first time within the legendary Pride environment featuring official announcers and renowned Japanese MMA league rules, including soccer-style kicks, head stomps and ground knees to the head, Pride Mode, - Compete for the first time within the legendary Pride environment featuring official announcers and renowned Japanese MMA league rules, including soccer-style kicks, head stomps and ground knees to the head, Finish the Fight - With punishing new moves, a brand new submission system and increased focus on presentation, players will have more options than ever to take advantage of a downed opponent, Finish the Fight, - With punishing new moves, a brand new submission system and increased focus on presentation, players will have more options than ever to take advantage of a downed opponent, From Broadcast to Cage-side - Experience the intensity of UFC with new camera positions, compelling fighter entrances, improved facial animations and a gritty, high contrast appearance, From Broadcast to Cage-side, - Experience the intensity of UFC with new camera positions, compelling fighter entrances, improved facial animations and a gritty, high contrast appearance, Extraordinary Roster - Go head to head with more than 150 prolific UFC fighters, including the addition of Featherweight and Bantamweight divisions, Extraordinary Roster, - Go head to head with more than 150 prolific UFC fighters, including the addition of Featherweight and Bantamweight divisions, Gameplay Accessibility - Get right inside the Octagon with simplified gameplay control options, brutalizing opponents after stepping into the cage for the first time, Gameplay Accessibility, - Get right inside the Octagon with simplified gameplay control options, brutalizing opponents after stepping into the cage for the first time, Extensive Online Gameplay Offering - A significantly revamped online experience, including both new and updated features, rounds of the best competitive fighting experience to date for the franchise, Extensive Online Gameplay Offering, - A significantly revamped online experience, including both new and updated features, rounds of the best competitive fighting experience to date for the franchise, Additional Screenshots]</td>\n",
       "      <td>[Video Games, Legacy Systems, PlayStation Systems, PlayStation 3, Games]</td>\n",
       "      <td>36.76</td>\n",
       "    </tr>\n",
       "    <tr>\n",
       "      <th>1723</th>\n",
       "      <td>AHGP7R23VTX7DAZ4DXY5SP7I4RTQ</td>\n",
       "      <td>B001EYUY8Y</td>\n",
       "      <td>1.0</td>\n",
       "      <td>2021-12-05 10:22:05.181</td>\n",
       "      <td>1.638700e+09</td>\n",
       "      <td>0.0</td>\n",
       "      <td>NaN</td>\n",
       "      <td>0.0</td>\n",
       "      <td>NaN</td>\n",
       "      <td>0.0</td>\n",
       "      <td>...</td>\n",
       "      <td>B0095CZL8A,B07NQV3X7K,B004CVKGSY,B07P574T71,B00BQVXVYY,B00004Y57G,B001ELJE5Q,B003VUO6LU,B006HZA8EA,B000ZK695U</td>\n",
       "      <td>1417780803,1418817491,1418817576,1418817643,1418817668,1634826772,1634827022,1634827183,1634828445,1638699707</td>\n",
       "      <td>[2208, 4098, 1669, 4123, 2357, 115, 777, 1579, 1989, 633]</td>\n",
       "      <td>[1417780803, 1418817491, 1418817576, 1418817643, 1418817668, 1634826772, 1634827022, 1634827183, 1634828445, 1638699707]</td>\n",
       "      <td>[8, 8, 8, 8, 8, 5, 5, 5, 5, 0]</td>\n",
       "      <td>Video Games</td>\n",
       "      <td>Soul Calibur IV - Xbox 360</td>\n",
       "      <td>[Product Description, The world's premier weapon based fighting game franchise returns to deliver a true next generation fighting experience. Set to finally reveal the origins of the Soulcalibur saga, Soulcalibur IV features both new and familiar faces from across the galaxy, seeking the rival swords for vengeance, honor and salvation. In a monumental alliance, legendary Star Wars icons, Darth Vader and Yoda invade the Soulcalibur IV continues the series' tradition of reinventing, enhancing and breaking new boundaries. Now the world's favorite fighting game redefines the entire genre for the next generation of both new, and fiercely loyal Soulcalibur fans., Amazon.com, The Classic Fighter Returns, Return to witness the epic struggle between the spirit sword, Soul Calibur, and the cursed sword, Soul Edge, in, Soul Calibur IV, . Warriors from far reaches of the galaxy battle to control the powerful swords and use them for their own goals. Should these fighters succeed, they will face the ultimate judgment. The ongoing story continues with new revelations, exciting new gameplay features and stunning visuals. And perhaps most exciting of all, a character from the Star Wars universe will also make an appearance.]</td>\n",
       "      <td>[Video Games, Legacy Systems, Xbox Systems, Xbox 360, Games]</td>\n",
       "      <td>29.99</td>\n",
       "    </tr>\n",
       "  </tbody>\n",
       "</table>\n",
       "<p>12 rows × 27 columns</p>\n",
       "</div>"
      ],
      "text/plain": [
       "                           user_id parent_asin  rating  \\\n",
       "51    AHGP7R23VTX7DAZ4DXY5SP7I4RTQ  B000ZK695U     1.0   \n",
       "220   AHGP7R23VTX7DAZ4DXY5SP7I4RTQ  B002I0K622     0.0   \n",
       "485   AHGP7R23VTX7DAZ4DXY5SP7I4RTQ  B07L5FKGQH     0.0   \n",
       "500   AHGP7R23VTX7DAZ4DXY5SP7I4RTQ  B07GHWHFR5     0.0   \n",
       "739   AHGP7R23VTX7DAZ4DXY5SP7I4RTQ  B00004Y57G     1.0   \n",
       "1121  AHGP7R23VTX7DAZ4DXY5SP7I4RTQ  B001ELJE5Q     1.0   \n",
       "1179  AHGP7R23VTX7DAZ4DXY5SP7I4RTQ  B08D3XL1KF     0.0   \n",
       "1195  AHGP7R23VTX7DAZ4DXY5SP7I4RTQ  B00ISW0TGW     0.0   \n",
       "1451  AHGP7R23VTX7DAZ4DXY5SP7I4RTQ  B003VUO6LU     1.0   \n",
       "1513  AHGP7R23VTX7DAZ4DXY5SP7I4RTQ  B002Z01QO2     0.0   \n",
       "1661  AHGP7R23VTX7DAZ4DXY5SP7I4RTQ  B006HZA8EA     1.0   \n",
       "1723  AHGP7R23VTX7DAZ4DXY5SP7I4RTQ  B001EYUY8Y     1.0   \n",
       "\n",
       "                   timestamp  timestamp_unix  parent_asin_rating_cnt_365d  \\\n",
       "51   2021-12-05 10:21:47.294    1.638700e+09                          0.0   \n",
       "220  2021-10-21 14:37:02.124             NaN                          0.0   \n",
       "485  2021-10-21 15:00:45.457             NaN                          2.0   \n",
       "500  2021-12-05 10:22:05.181             NaN                          3.0   \n",
       "739  2021-10-21 14:32:52.074    1.634827e+09                          0.0   \n",
       "1121 2021-10-21 14:37:02.124    1.634827e+09                          3.0   \n",
       "1179 2021-12-05 10:21:47.294             NaN                         18.0   \n",
       "1195 2021-10-21 14:39:42.971             NaN                          5.0   \n",
       "1451 2021-10-21 14:39:42.971    1.634827e+09                          2.0   \n",
       "1513 2021-10-21 14:32:52.074             NaN                          2.0   \n",
       "1661 2021-10-21 15:00:45.457    1.634828e+09                          0.0   \n",
       "1723 2021-12-05 10:22:05.181    1.638700e+09                          0.0   \n",
       "\n",
       "      parent_asin_rating_avg_prev_rating_365d  parent_asin_rating_cnt_90d  \\\n",
       "51                                        NaN                         0.0   \n",
       "220                                       NaN                         0.0   \n",
       "485                                  5.000000                         0.0   \n",
       "500                                  3.666667                         0.0   \n",
       "739                                       NaN                         0.0   \n",
       "1121                                 5.000000                         0.0   \n",
       "1179                                 4.388889                         0.0   \n",
       "1195                                 4.400000                         1.0   \n",
       "1451                                 3.500000                         1.0   \n",
       "1513                                 4.500000                         0.0   \n",
       "1661                                      NaN                         0.0   \n",
       "1723                                      NaN                         0.0   \n",
       "\n",
       "      parent_asin_rating_avg_prev_rating_90d  parent_asin_rating_cnt_30d  ...  \\\n",
       "51                                       NaN                         0.0  ...   \n",
       "220                                      NaN                         0.0  ...   \n",
       "485                                      NaN                         0.0  ...   \n",
       "500                                      NaN                         0.0  ...   \n",
       "739                                      NaN                         0.0  ...   \n",
       "1121                                     NaN                         0.0  ...   \n",
       "1179                                     NaN                         0.0  ...   \n",
       "1195                                     5.0                         0.0  ...   \n",
       "1451                                     5.0                         0.0  ...   \n",
       "1513                                     NaN                         0.0  ...   \n",
       "1661                                     NaN                         0.0  ...   \n",
       "1723                                     NaN                         0.0  ...   \n",
       "\n",
       "                                                                                    user_rating_list_10_recent_asin  \\\n",
       "51    B00K0NV5J2,B0095CZL8A,B07NQV3X7K,B004CVKGSY,B07P574T71,B00BQVXVYY,B00004Y57G,B001ELJE5Q,B003VUO6LU,B006HZA8EA   \n",
       "220                                    B00K0NV5J2,B0095CZL8A,B07NQV3X7K,B004CVKGSY,B07P574T71,B00BQVXVYY,B00004Y57G   \n",
       "485              B00K0NV5J2,B0095CZL8A,B07NQV3X7K,B004CVKGSY,B07P574T71,B00BQVXVYY,B00004Y57G,B001ELJE5Q,B003VUO6LU   \n",
       "500   B0095CZL8A,B07NQV3X7K,B004CVKGSY,B07P574T71,B00BQVXVYY,B00004Y57G,B001ELJE5Q,B003VUO6LU,B006HZA8EA,B000ZK695U   \n",
       "739                                               B00K0NV5J2,B0095CZL8A,B07NQV3X7K,B004CVKGSY,B07P574T71,B00BQVXVYY   \n",
       "1121                                   B00K0NV5J2,B0095CZL8A,B07NQV3X7K,B004CVKGSY,B07P574T71,B00BQVXVYY,B00004Y57G   \n",
       "1179  B00K0NV5J2,B0095CZL8A,B07NQV3X7K,B004CVKGSY,B07P574T71,B00BQVXVYY,B00004Y57G,B001ELJE5Q,B003VUO6LU,B006HZA8EA   \n",
       "1195                        B00K0NV5J2,B0095CZL8A,B07NQV3X7K,B004CVKGSY,B07P574T71,B00BQVXVYY,B00004Y57G,B001ELJE5Q   \n",
       "1451                        B00K0NV5J2,B0095CZL8A,B07NQV3X7K,B004CVKGSY,B07P574T71,B00BQVXVYY,B00004Y57G,B001ELJE5Q   \n",
       "1513                                              B00K0NV5J2,B0095CZL8A,B07NQV3X7K,B004CVKGSY,B07P574T71,B00BQVXVYY   \n",
       "1661             B00K0NV5J2,B0095CZL8A,B07NQV3X7K,B004CVKGSY,B07P574T71,B00BQVXVYY,B00004Y57G,B001ELJE5Q,B003VUO6LU   \n",
       "1723  B0095CZL8A,B07NQV3X7K,B004CVKGSY,B07P574T71,B00BQVXVYY,B00004Y57G,B001ELJE5Q,B003VUO6LU,B006HZA8EA,B000ZK695U   \n",
       "\n",
       "                                                                          user_rating_list_10_recent_asin_timestamp  \\\n",
       "51    1417780770,1417780803,1418817491,1418817576,1418817643,1418817668,1634826772,1634827022,1634827183,1634828445   \n",
       "220                                    1417780770,1417780803,1418817491,1418817576,1418817643,1418817668,1634826772   \n",
       "485              1417780770,1417780803,1418817491,1418817576,1418817643,1418817668,1634826772,1634827022,1634827183   \n",
       "500   1417780803,1418817491,1418817576,1418817643,1418817668,1634826772,1634827022,1634827183,1634828445,1638699707   \n",
       "739                                               1417780770,1417780803,1418817491,1418817576,1418817643,1418817668   \n",
       "1121                                   1417780770,1417780803,1418817491,1418817576,1418817643,1418817668,1634826772   \n",
       "1179  1417780770,1417780803,1418817491,1418817576,1418817643,1418817668,1634826772,1634827022,1634827183,1634828445   \n",
       "1195                        1417780770,1417780803,1418817491,1418817576,1418817643,1418817668,1634826772,1634827022   \n",
       "1451                        1417780770,1417780803,1418817491,1418817576,1418817643,1418817668,1634826772,1634827022   \n",
       "1513                                              1417780770,1417780803,1418817491,1418817576,1418817643,1418817668   \n",
       "1661             1417780770,1417780803,1418817491,1418817576,1418817643,1418817668,1634826772,1634827022,1634827183   \n",
       "1723  1417780803,1418817491,1418817576,1418817643,1418817668,1634826772,1634827022,1634827183,1634828445,1638699707   \n",
       "\n",
       "                                                   item_sequence  \\\n",
       "51    [2692, 2208, 4098, 1669, 4123, 2357, 115, 777, 1579, 1989]   \n",
       "220        [-1, -1, -1, 2692, 2208, 4098, 1669, 4123, 2357, 115]   \n",
       "485     [-1, 2692, 2208, 4098, 1669, 4123, 2357, 115, 777, 1579]   \n",
       "500    [2208, 4098, 1669, 4123, 2357, 115, 777, 1579, 1989, 633]   \n",
       "739         [-1, -1, -1, -1, 2692, 2208, 4098, 1669, 4123, 2357]   \n",
       "1121       [-1, -1, -1, 2692, 2208, 4098, 1669, 4123, 2357, 115]   \n",
       "1179  [2692, 2208, 4098, 1669, 4123, 2357, 115, 777, 1579, 1989]   \n",
       "1195      [-1, -1, 2692, 2208, 4098, 1669, 4123, 2357, 115, 777]   \n",
       "1451      [-1, -1, 2692, 2208, 4098, 1669, 4123, 2357, 115, 777]   \n",
       "1513        [-1, -1, -1, -1, 2692, 2208, 4098, 1669, 4123, 2357]   \n",
       "1661    [-1, 2692, 2208, 4098, 1669, 4123, 2357, 115, 777, 1579]   \n",
       "1723   [2208, 4098, 1669, 4123, 2357, 115, 777, 1579, 1989, 633]   \n",
       "\n",
       "                                                                                                              item_sequence_ts  \\\n",
       "51    [1417780770, 1417780803, 1418817491, 1418817576, 1418817643, 1418817668, 1634826772, 1634827022, 1634827183, 1634828445]   \n",
       "220                           [-1, -1, -1, 1417780770, 1417780803, 1418817491, 1418817576, 1418817643, 1418817668, 1634826772]   \n",
       "485           [-1, 1417780770, 1417780803, 1418817491, 1418817576, 1418817643, 1418817668, 1634826772, 1634827022, 1634827183]   \n",
       "500   [1417780803, 1418817491, 1418817576, 1418817643, 1418817668, 1634826772, 1634827022, 1634827183, 1634828445, 1638699707]   \n",
       "739                                   [-1, -1, -1, -1, 1417780770, 1417780803, 1418817491, 1418817576, 1418817643, 1418817668]   \n",
       "1121                          [-1, -1, -1, 1417780770, 1417780803, 1418817491, 1418817576, 1418817643, 1418817668, 1634826772]   \n",
       "1179  [1417780770, 1417780803, 1418817491, 1418817576, 1418817643, 1418817668, 1634826772, 1634827022, 1634827183, 1634828445]   \n",
       "1195                  [-1, -1, 1417780770, 1417780803, 1418817491, 1418817576, 1418817643, 1418817668, 1634826772, 1634827022]   \n",
       "1451                  [-1, -1, 1417780770, 1417780803, 1418817491, 1418817576, 1418817643, 1418817668, 1634826772, 1634827022]   \n",
       "1513                                  [-1, -1, -1, -1, 1417780770, 1417780803, 1418817491, 1418817576, 1418817643, 1418817668]   \n",
       "1661          [-1, 1417780770, 1417780803, 1418817491, 1418817576, 1418817643, 1418817668, 1634826772, 1634827022, 1634827183]   \n",
       "1723  [1417780803, 1418817491, 1418817576, 1418817643, 1418817668, 1634826772, 1634827022, 1634827183, 1634828445, 1638699707]   \n",
       "\n",
       "                 item_sequence_ts_bucket  main_category  \\\n",
       "51        [8, 8, 8, 8, 8, 8, 5, 5, 5, 5]    Video Games   \n",
       "220    [-1, -1, -1, 8, 8, 8, 8, 8, 8, 0]    Video Games   \n",
       "485      [-1, 8, 8, 8, 8, 8, 8, 1, 1, 1]    Video Games   \n",
       "500       [8, 8, 8, 8, 8, 5, 5, 5, 5, 0]    Video Games   \n",
       "739   [-1, -1, -1, -1, 8, 8, 8, 8, 8, 8]    Video Games   \n",
       "1121   [-1, -1, -1, 8, 8, 8, 8, 8, 8, 0]    Video Games   \n",
       "1179      [8, 8, 8, 8, 8, 8, 5, 5, 5, 5]    Video Games   \n",
       "1195    [-1, -1, 8, 8, 8, 8, 8, 8, 0, 0]    Video Games   \n",
       "1451    [-1, -1, 8, 8, 8, 8, 8, 8, 0, 0]    Video Games   \n",
       "1513  [-1, -1, -1, -1, 8, 8, 8, 8, 8, 8]    Video Games   \n",
       "1661     [-1, 8, 8, 8, 8, 8, 8, 1, 1, 1]    Video Games   \n",
       "1723      [8, 8, 8, 8, 8, 5, 5, 5, 5, 0]    Video Games   \n",
       "\n",
       "                                                                                         title  \\\n",
       "51                               White Knight Chronicles International Edition - Playstation 3   \n",
       "220                                           PlayStation Move Sharp Shooter for PlayStation 3   \n",
       "485                                    Far Cry New Dawn - Deluxe Edition - Xbox [Digital Code]   \n",
       "500                                                   Xbox Wireless Controller – Grey And Blue   \n",
       "739                                                                           Final Fantasy IX   \n",
       "1121                                                       Wii Guitar Hero World Tour Band Kit   \n",
       "1179                     Super Smash Bros. Ultimate: Challenger Pack 2 - [Switch Digital Code]   \n",
       "1195  KontrolFreek FPS Freek Vortex Performance Thumbsticks for PlayStation 4 Controller (PS4)   \n",
       "1451                                     Sony PlayStation 3 Slim 320 GB Charcoal Black Console   \n",
       "1513                                                                 New Super Mario Bros. Wii   \n",
       "1661                                                                          UFC Undisputed 3   \n",
       "1723                                                                Soul Calibur IV - Xbox 360   \n",
       "\n",
       "                                                                                                                                                                                                                                                                                                                                                                                                                                                                                                                                                                                                                                                                                                                                                                                                                                                                                                                                                                                                                                                                                                                                                                                                                                                                                                                                                                                                                                                                                                                                                                                                                                                                                                                                                                                                                                                                                                                                                                                                                                                                                                                                                                                                                                                                                                                                                                                                                                                                                                                                                                                                                                                                                                                                                                                                                                                                                                                                                                                                                                                                                                                                                                                                                                                                                                                                                                                                                                                                                                                                                                                                                                                                                                                                                                                                                                                                                                                                                                                                                                                                                                                                                                                                                                                                                                                                                                                                                                                                                                                                                                                                                                                                                                                                                                                                                                                                                                                                                                                                                                                                                                                                                                                                                                                                                                                                                                                                                                                                                                                                                                                                                                                                                                                                                                                                                                                                                                                                                                                                                                                                                                                                                                                                                                                                                                                                                                                                                                                                                                                                                                                                                                                                                                                                                                                                                                                                                                                                                                                                                                                                                                                                                                                                                                                                                                                                                                                                                                                                                                                                                                                                                                                                                                                                                                                                                                                                                                                                                                                                                                                                                                                                                                                                                                                                                                                                                                                                                                                                                                                                                                                                                                                                                                                                                                                                                                                                                                                                                                                                                                                                                                                                                                                                                                                                                                                                                                                                                                                                                                                                                                                                                                                                                                                                                                                                                                                                                                                                                                                                                                                                                                                                                                                                                                                                                                                                                                                        description  \\\n",
       "51    [Product Description, White Knight Chronicles is an epic fantasy tale about two kingdoms in midst of a longstanding war. The King of Balandor, wishing to put an end to the war, invites the duke of Faria to his castle to celebrate his daughter's coming of age. But this celebration is sabotaged by the Magi, a rogue sect seeking to steal the White Knight, an ancient weapon of war sealed beneath Balandor castle, in order to take over the world. During the ensuing chaos, a young man named Leonard accidentally unlocks the power of the White Knight as he attempts to save the princess. With this power, Leonard manages to fend off the Magi attack, but not before they escape with the princess. With the kingdoms in chaos, Leonard is entrusted with the mission to find the Magi and rescue the princess. With the help of his trusted companions, they travel throughout Balandor and beyond on a quest to save the princess before the Magi unlock the other knights. The journey is fraught with danger, with Magi warriors at every turn, mythical beasts and monsters to battle, and forbidden powers revealed. As Leonard learns more about the power of the Knight, he realizes that unsealing all of them could trigger a calamity that could end the world., Amazon.com, White Knight Chronicles International Edition, is a Japanese RPG (role-playing game) which allows players to explore an expansive and exciting world of turn-based combat, adventure and comradery A PlayStation 3 exclusive, it was created by noted Japanese RPG game developer Level-5 and features both single player and online multiplayer action, the awesome power to assume the shape of the White Knight, the ability to build a persistent online town/lobby, communication via online blogs, message boards and quest logs, voice chat and beautiful game environments. .caption { font-family: Verdana, Helvetica neue, Arial, serif; font-size: 10px; font-weight: bold; font-style: italic; } ul.indent { list-style: inside disc; text-indent: -15px; } table.callout { font-family: verdana; font-size: 11px; line-height: 1. 3em; } td.vgoverview { height: 125px; background: #9DC4D8 url(https://images-na.ssl-images-amazon.com/images/G/01/electronics/detail-page/callout-bg.png) repeat-x; border-left: 1px solid #999999; border-right: 1px solid #999999; padding-left: 20px; padding-right: 20px; padding-bottom: 10px; width: 250px; font-family: verdana; font-size: 12px; }, Unleash the power of the White Knight., View larger, ., Character customization options., View larger, ., An accessible turn-based battle system., View larger, ., Exciting RPG action with 4-player online support., View larger, ., Story, The story of, White Knight Chronicles, is set in the fictional Kingdom of Balandor and follows the adventures of a boy named Leonard who realizes his role in a drama started thousands of years in the past. Working in the proximity of the palace, Leonard stumbles on a plot to kidnap the enigmatic Princess Cisna. As he helps her escape he also becomes aware of his connection to a transformative power which allows him to take on the ancient shape, and harness the devastating power of the White Knight. Yet there are other elements at work here as well, including the forces of an evil wizard with powers that stretch back to the same ancient times which produced the White Knight. With the help of his friends and the power of the White Knight, these are the forces that Leonard will have to face in his quests., Gameplay, White Knight Chronicles, is a Japanese RPG (JRPG) centered around a turn-based battle system in a local single player story-driven campaign that is supported by online multiplayer functionality. Gameplay questing occurs from a third-person perspective and follows Leonard and up to three other AI companions, which can include the customizable character that players assume in multiplayer mode. Once quest members are assembled, players utilize the strengths of the overall group as a whole, and are able to switch between characters at will. Combat being turn-based, players must be able to cue up and control the actions of each character in quick sequence for each combat scenario faced. The game facilitates this via the Function Palette, located in its Battle Preparation menu, allowing players to prepare in advance a series of commands for each character to carry out. These can involve magic or weapons use and can be merged into combos. Multiple palettes can be saved, making it possible to optimize actions for specific types of enemies, and making for quick changing of commands. As with any RPG, throughout quests players accumulate experience which allows their character to level up, purchase items and abilities and generally grow stronger with an eye towards besting the increasingly challenging creatures, bosses and situations faced., Online Multiplayer, Along with a compelling single player campaign,, White Knight Chronicles, also contains an exciting online multiplayer component. Within this, up to four players can engage in more than 50 multiplayer quests, with each player creating their own unique customizable character which can be leveled up in a combined group effort, and take advantage of created items and new skills. Although unique to the online game mode, which is designed for multiplayer action, these quests can also be played alone if players wish. In addition to this functionality available in the online multiplayer mode also includes a variety of ways to interact with the wider, White Knight Chronicles, community on the PlayStation 3 platform. Included in this is town building through the Georama functionality, which allows players to construct a town to their own specifications that can be populated offline with characters from throughout the single player campaign and then taken online where it serves as a base for quests hosted by players, as well as a persistent online location that other players can visit and buy items your town's population has for sale. The game also offers an online interface known as GeoNet that allows players to communicate with others via blogs, forums, quest logs and voice chat functionality, as well as post snapshots from their journeys using the Crystal Camera in-game tool., Key Game Features, White Knight Transformation - During single player combat players can transform into the giant White Knight, gaining the ability to challenge large enemies as well as troops of soldiers throughout the adventure., White Knight Transformation, - During single player combat players can transform into the giant White Knight, gaining the ability to challenge large enemies as well as troops of soldiers throughout the adventure., The Customizable Avatar Character - Using a wide array of sliders and customization options, players are able to create a unique character that can join the adventure in single player mode as well as online., The Customizable Avatar Character, - Using a wide array of sliders and customization options, players are able to create a unique character that can join the adventure in single player mode as well as online., Combo Battle System - Engage in an accessible, active turn-based battle system that caters to players of all levels allowing both default attack settings and a system for for maximum damage., Combo Battle System, - Engage in an accessible, active turn-based battle system that caters to players of all levels allowing both default attack settings and a system for for maximum damage., JRPG (Japanese RPG) Action for PS3 - Experience true JRPG action on PS3 that incorporates a variety of online gameplay elements., JRPG (Japanese RPG) Action for PS3, - Experience true JRPG action on PS3 that incorporates a variety of online gameplay elements., Beautiful Environments - Players traverse through 13 stages, as well as visit up to six towns/villages to visit and purchase items at shops or interact with NPCs. Stages include lush fields, open desert, vast wastelands, tunnels, and ruins., Beautiful Environments, - Players traverse through 13 stages, as well as visit up to six towns/villages to visit and purchase items at shops or interact with NPCs. Stages include lush fields, open desert, vast wastelands, tunnels, and ruins., Multiple Playable Characters - Six playable characters are available, with up to three controllable characters on the screen at the same time., Multiple Playable Characters, - Six playable characters are available, with up to three controllable characters on the screen at the same time., Build Special Weapons and Items - Combine different weapons and items to create a huge variety of weapons., Build Special Weapons and Items, - Combine different weapons and items to create a huge variety of weapons., Quests Galore - Engage in 50+ unique online side quests in which players can gain special items along with unique weapons and armor., Quests Galore, - Engage in 50+ unique online side quests in which players can gain special items along with unique weapons and armor., Town Building - Build an online village for your character where you can invite friends to complete quests online and purchase unique items and gear., Town Building, - Build an online village for your character where you can invite friends to complete quests online and purchase unique items and gear., GeoNet - Through the online component, players have the ability to write their own blogs, communicate with other players via voice chat and more., GeoNet, - Through the online component, players have the ability to write their own blogs, communicate with other players via voice chat and more., Take Snapshots with Crystal Camera - With Crystal Camera functionality players can take pictures during their journeys which can be shared with other players via their GeoNet page., Take Snapshots with Crystal Camera, - With Crystal Camera functionality players can take pictures during their journeys which can be shared with other players via their GeoNet page.]   \n",
       "220                                                                                                                                                                                                                                                                                                                                                                                                                                                                                                                                                                                                                                                                                                                                                                                                                                                                                                                                                                                                                                                                                                                                                                                                                                                                                                                                                                                                                                                                                                                                                                                                                                                                                                                                                                                                                                                                                                                                                                                                                                                                                                                                                                                                                                                                                                                                                                                                                                                                                                                                                                                                                                                                                                                                                                                                                                                                                                                                                                                                                                                                                                                                                                                                                                                                                                                                                                                                                                                                                                                                                                                                                                                                                                                                                                                                                                                                                                                                                                                                                                                                                                                                                                                                                                                                                                                                                                                                                                                                                                                                                                                                                                                                                                                                                                                                                                                                                                                                                                                                                                                                                                                                                                                                                                                                                                                                                                                                                                                                                                                                                                                                                                                                                                                                                                                                                                                                                                                                                                                                                                                                                                                                                                                                                                                                                                                                                                                                                                                                                                                                                                                                                                                                                                                                                                                                                                                                                                                                                                                                                                                                                                                                                                                                                                                                                                                                                                                                                                                                                                                                                                                                                                                                                                                                                                                                                                                                                                                                                                                                                                                                                                                                                                                                                                                                                                                                                                                                                                                                                                                                                                                                                                                                                                                                                                                                                                                                                                                                                                                                                                                                                                                                                                                                                                                                                                                                                                                                                                                                                                                                                                                                                                                                                         [The official PlayStation Move sharp shooter attachment houses the motion controller and navigation controller to provide the most intuitive and immersive control experience for shooter games. Its authentic design and precision ensure the most engaging gameplay experience. The design includes easily accessible buttons, digital trigger, adjustable shoulder stock and convenient access to the navigation controller. In addition, the sharp shooter has incorporated a firing mode selector, pump-action grip and reload button that allow for new ways of engagement*. The sharp shooter is perfect for PlayStation Move owners who want to experience the most realistic action possible.]   \n",
       "485                                                                                                                                                                                                                                                                                                                                                                                                                                                                                                                                                                                                                                                                                                                                                                                                                                                                                                                                                                                                                                                                                                                                                                                                                                                                                                                                                                                                                                                                                                                                                                                                                                                                                                                                                                                                                                                                                                                                                                                                                                                                                                                                                                                                                                                                                                                                                                                                                                                                                                                                                                                                                                                                                                                                                                                                                                                                                                                                                                                                                                                                                                                                                                                                                                                                                                                                                                                                                                                                                                                                                                                                                                                                                                                                                                                                                                                                                                                                                                                                                                                                                                                                                                                                                                                                                                                                                                                                                                                                                                                                                                                                                                                                                                                                                                                                                                                                                                                                                                                                                                                                                                                                                                                                                                                                                                                                                                                                                                                                                                                                                                                                                                                                                                                                                                                                                                                                                                                                                                                                                                                                                                                                                                                                                                                                                                                                                                                                                                                                                                                                                                                                                                                                                                                                                                                                                                                                                                                                                                                                                                                                                                                                                                                                                                                                                                                                                                                                                                                                                                                                                                                                                                                                                                                                                                                                                                                                                                                                                                                                                                                                                                                                                                                                                                                                                                                                                                                                                                                                                                                                                                                                                                                                                                                                                                                                                                                                                                                                                                                                                                                                                                                                                                                                                                                                                                                                                                                                                                                                                                                                                                                                                                                                                                                                                                                                                                                                                                                                          [Dive into a transformed, post-apocalyptic Hope County, Montana, 17 years after a global nuclear catastrophe in the latest installment of Far Cry. With the Deluxe Edition, receive additional weapons, outfits, and vehicles to help you survive a new dangerous frontier., System Requirements:, Supported Platforms: One - Microsoft Xbox, Supported Platforms:, One - Microsoft Xbox, Xbox, account required for game activation and installation]   \n",
       "500                                                                                                                                                                                                                                                                                                                                                                                                                                                                                                                                                                                                                                                                                                                                                                                                                                                                                                                                                                                                                                                                                                                                                                                                                                                                                                                                                                                                                                                                                                                                                                                                                                                                                                                                                                                                                                                                                                                                                                                                                                                                                                                                                                                                                                                                                                                                                                                                                                                                                                                                                                                                                                                                                                                                                                                                                                                                                                                                                                                                                                                                                                                                                                                                                                                                                                                                                                                                                                                                                                                                                                                                                                                                                                                                                                                                                                                                                                                                                                                                                                                                                                                                                                                                                                                                                                                                                                                                                                                                                                                                                                                                                                                                                                                                                                                                                                                                                                                                                                                                                                                                                                                                                                                                                                                                                                                                                                                                                                                                                                                                                                                                                                                                                                                                                                                                                                                                                                                                                                                                                                                                                                                                                                                                                                                                                                                                                                                                                                                                                                                                                                                                                                                                                                                                                                                                                                                                                                                                                                                                                                                                                                                                                                                                                                                                                                                                                                                                                                                                                                                                                                                                                                                                                                                                                                                                                                                                                                                                                                                                                                                                                                                                                                                                                                                                                                                                                                                                                                                                                                                                                                                                                                                                                                                                                                                                                                                                                                                                                                                                                                                                                                                                                                                                                                                                                                                                                                                                                                                                                                                                                                                                                                                                                                                                                                                                                                                                                                                                                                                                              [Experience the enhanced comfort and feel of the Xbox Wireless Controller, featuring a dark grey design with light grey and blue accents, and textured grip. Enjoy custom button mapping on Xbox One and Windows 10 and plug in any compatible headset with the 3.5mm stereo headset jack. And with Bluetooth technology, play your favorite games on Windows 10 PCs and tablets.]   \n",
       "739                                                                                                                                                                                                                                                                                                                                                                                                                                                                                                                                                                                                                                                                                                                                                                                                                                                                                                                                                                                                                                                                                                                                                                                                                                                                                                                                                                                                                                                                                                                                                                                                                                                                                                                                                                                                                                                                                                                                                                                                                                                                                                                                                                                                                                                                                                                                                                                                                                                                                                                                                                                                                                                                                                                                                                                                                                                                                                                                                                                                                                                                                                                                                                                                                                                                                                                                                                                                                                                                                                                                                                                                                                                                                                                                                                                                                                                                                                                                                                                                                                                                                                                                                                                                                                                                                                                                                                                                                                                                                                                                                                                                                                                                                                                                                                                                                                                                                                                                                                                                                                                                                                                                                                                                                                                                                                                                                                                                                                                                                                                                                                                                                                                                                                                                                                                                                                                                                                                                                                                                                                                                                                                                                                                                                                                                                                                                                                                                                                                                                                                                                                                                                                                                                                                                                                                                                                                                                                                                                                                                                                                                                                                                                                                                                                                                                                                                                                                                                                                                                                                                                                                                                                                                                                                                                                                                                                                                                                                                                                                                                                                                                                                                                                                                                                                                                                                                                                                                                                                                                                                                                                                                                                                                                                                                                                                                                                                                                                                                                                                                                                                                                                                                                                                                                                                                                                                                                                                                                                                                                                                                                                                                                                                                                                                                                                                                                                                                                                                                                                                                                                                                                                                                                                                                                                                                                                                                                                [FINAL FANTASY IX-GREATEST HITS]   \n",
       "1121                                                                                                                                                                                                                                                                                                                                                                                                                                                                                                                                                                                                                                                                                                                                                                                                                                                                                                                                                                                                                                                                                                                                                                                                                                                                                                                                                                                                                                                                                                                                                                                                                                                                                                                                                                                                                                                                                                                                                                                                                                                                                                                                                                                                                                                                                                                                                                                                                                                                                                                                                                                                                                                                                                                                                                                                                                                                                                                                                                                                                                                                             [Product description, We've all dreamed of being in a band, but unfortunately, not all of us are so musically inclined. At least you can pretend with Guitar Hero World Tour!This is the Complete Band Game package for Wii: it comes with the Guitar Hero World Tour game, wireless guitar controller, wireless drum kit, and wired microphone. Get ready for a whole new set list of awesome songs to rock out to, including Michael Jackson's \"Beat It, \" Van Halen's \"Hot for Teacher\" and more. The best part? They're all master tracks, no lame covers!The wireless guitar features a neck slider for tackling those intense solos, and a dedicated star power button and re-designed controls to further enhance your finger work. Quiet surface, pressure-sensitive pads and an authentic arrangement make the wireless drum kit as close to the real thing as you can get. You can choose to play solo, with the band, or play 4 vs. 4 Battle of the Bands play. And once you've dominated all the songs in the game? Go ahead and create your own recorded content! The Guitar Hero World Tour game package offers endless hours of interactive fun, so hurry up and order today!, Amazon.com, Start a Band...the, Guitar Hero, Way, Guitar Hero World Tour, transforms music gaming by expanding, Guitar Hero's, signature guitar gameplay into a cooperative band experience that combines advanced wireless instruments with online and offline gameplay modes including online Band Career and 8-player \"Battle of the Bands,\" which allows two full bands to compete head-to-head online. The game features a slick redesigned guitar, an authentic electronic drum kit, and a microphone, as well as a Music Studio music creator that lets players compose, record, edit and share their own rock ‘n’ roll anthems., Wireless Instruments, New to, GHWT, is a redesigned, more responsive guitar controller, which features a touch-sensitive slide bar on the neck that allows the player to play through certain song passages without needing to strum. Check out the drum kit featuring three drum pads, two raised cymbals, and a bass kick pedal. The drum controller combines larger and quieter, velocity-sensitive drum heads with soft rubber construction to deliver authentic bounce back and is easy to set up, move, break down and store., Be the Next Great Songwriter, Music Studio lets players express their musical creativity by giving them access to a full complement of tools to create digital music from scratch utilizing the guitar controller and drum kit. Players can create their tracks and then play them in-game or share the recordings with the entire, Guitar Hero, community through, GHTunes, ., GHTunes, allows other gamers from around the world to download and play the community's original tracks., Create the Band, Budding rock stars can live out their rock ‘n’ roll fantasies by playing either a single instrument or any combination of instruments, in addition to the full band experience. When rocking as part of a band, up to four players can jam together in quickplay or as they progress through a career. Both band and single-player careers feature non-linear progression giving artists the option to change difficulty and instruments with a variety of different gigs available at any time., Never Jam Solo Again, Virtual musicians in need of band mates can take their careers online forming worldwide ensembles so no rock star ever has to play a gig solo. Plus,, GHWT, adds a \"Battle of the Bands\" modes, which allows eight players to join online and challenge each other band-to-band to establish global supremacy., A Game Play Mode Just for the Wii, Jump into the \"Mii Freestyle\" game play mode that is unique to the Wii. Create Blues, Rock or Metal masterpieces by yourself, or join with friends to jam freely together on guitar controllers and the drum kit controller., Customize Everything, The character creator allows gamers to create a rock star with style as unique as their own. Absolute customization from the clothes, to the facial and body structure, to the tattoos and accessories, players are encouraged to unleash their inner rock legend. The Rock Star Creator doesn't just allow players to build the ultimate rock god; the in-depth creators include the ability to customize guitars, drums and microphones. Adding yet another layer of personalization, gamers can create custom logos for their instruments, band, or album covers., A Set List for the Ages, The, Guitar Hero World Tour, set list is comprised entirely of master recordings from some of the greatest artists of all-time including Van Halen, Linkin Park, The Eagles, and Sublime. There are over 85 tracks, plus frequent downloadable singles and track packs. In addition to the killer track list, the game will feature rock icons such as Hayley Williams of Paramore and Travis Barker of +44 and blink-182., The Full Set List, 311 - \"Beautiful Disaster\", 311 - \"Beautiful Disaster\", 30 Seconds To Mars - \"The Kill\", 30 Seconds To Mars - \"The Kill\", Airbourne - \"Too Much Too Young\", Airbourne - \"Too Much Too Young\", The Allman Brothers Band - \"Ramblin' Man\", The Allman Brothers Band - \"Ramblin' Man\", Anouk - \"Good God\", Anouk - \"Good God\", The Answer - \"Never Too Late\", The Answer - \"Never Too Late\", At The Drive-In - \"One Armed Scissor\", At The Drive-In - \"One Armed Scissor\", Beastie Boys - \"No Sleep Till Brooklyn\", Beastie Boys - \"No Sleep Till Brooklyn\", Beatsteaks - \"Hail to the Freaks\", Beatsteaks - \"Hail to the Freaks\", Billy Idol - \"Rebel Yell\", Billy Idol - \"Rebel Yell\", Black Label Society - \"Stillborn\", Black Label Society - \"Stillborn\", Black Rebel Motorcycle Club - \"Weapon of Choice\", Black Rebel Motorcycle Club - \"Weapon of Choice\", blink-182 - \"Dammit\", blink-182 - \"Dammit\", Blondie - \"One Way or Another\", Blondie - \"One Way or Another\", Bob Seger & The Silver Bullet Band - \"Hollywood Nights\", Bob Seger & The Silver Bullet Band - \"Hollywood Nights\", Bon Jovi - \"Livin' On A Prayer\", Bon Jovi - \"Livin' On A Prayer\", Bullet For My Valentine - \"Scream Aim Fire\", Bullet For My Valentine - \"Scream Aim Fire\", Coldplay - \"Shiver\", Coldplay - \"Shiver\", Creedence Clearwater Revival - \"Up Around The Bend\", Creedence Clearwater Revival - \"Up Around The Bend\", The Cult - \"Love Removal Machine\", The Cult - \"Love Removal Machine\", Dinosaur Jr. - \"Feel The Pain\", Dinosaur Jr. - \"Feel The Pain\", The Doors - \"Love Me Two Times\", The Doors - \"Love Me Two Times\", Dream Theater - \"Pull Me Under\", Dream Theater - \"Pull Me Under\", The Eagles - \"Hotel California\", The Eagles - \"Hotel California\", The Enemy - \"Aggro\", The Enemy - \"Aggro\", Filter - \"Hey Man, Nice Shot\", Filter - \"Hey Man, Nice Shot\", Fleetwood Mac - \"Go Your Own Way\", Fleetwood Mac - \"Go Your Own Way\", Foo Fighters - \"Everlong\", Foo Fighters - \"Everlong\", The Guess Who - \"American Woman\", The Guess Who - \"American Woman\", Hush Puppies - \"You're Gonna Say Yeah!\", Hush Puppies - \"You're Gonna Say Yeah!\", Interpol - \"Obstacle 1\", Interpol - \"Obstacle 1\", Jane's Addiction - \"Mountain Song\", ...]   \n",
       "1179                                                                                                                                                                                                                                                                                                                                                                                                                                                                                                                                                                                                                                                                                                                                                                                                                                                                                                                                                                                                                                                                                                                                                                                                                                                                                                                                                                                                                                                                                                                                                                                                                                                                                                                                                                                                                                                                                                                                                                                                                                                                                                                                                                                                                                                                                                                                                                                                                                                                                                                                                                                                                                                                                                                                                                                                                                                                                                                                                                                                                                                                                                                                                                                                                                                                                                                                                                                                                                                                                                                                                                                                                                                                                                                                                                                                                                                                                                                                                                                                                                                                                                                                                                                                                                                                                                                                                                                                                                                                                                                                                                                                                                                                                                                                                                                                                                                                                                                                                                                                                                                                                                                                                                                                                                                                                                                                                                                                                                                                                                                                                                                                                                                                                                                                                                                                                                                                                                                                                                                                                                                                                                                                                                                                                                                                                                                                                                                                                                                                                                                                                                                                                                                                                                                                                                                                                                                                                                                                                                                                                                                                                                                                                                                                                                                                                                                                                                                                                                                                                                                                                                                                                                                                                                                                                                                                                                                                                                                                                                                                                                                                                                                                                                                                                                                                                                                                                                                                                                                                                                                                                                                                                                                            [The Hero from the DRAGON QUEST XI game joins Super Smash Bros. Ultimate as a playable fighter!, Wielding the Supreme Sword of Light and a trusty shield, he can slice his foes and block incoming attacks. When Hero pulls up his Command Selection screen, he'll have access to a random selection of spells that could turn the tide of battle in his favor! This pack also includes the Yggdrasil's Altar stage, which sweeps across nearby areas around the sacred Tree of Life, as well as a selection of music from the DRAGON QUEST series., Challenger Pack 2 includes Hero as a playable fighter, his stage, Yggdrasil's Altar, and a selection of music from the DRAGON QUEST series., Note: The content of this Challenger Pack is already included in the Super Smash Bros. Ultimate Fighters Pass (sold separately)., • Hero joins the battle as a playable fighter! • Challenger Pack 2 also includes the Yggdrasil’s Altar stage, and DRAGON QUEST series music tracks, 2018 Nintendo, Original Game: Nintendo / HAL Laboratory, Inc. Characters: Nintendo / HAL Laboratory, Inc. / Pokémon. / Creatures Inc. / GAME FREAK inc. / SHIGESATO ITOI / APE inc. / INTELLIGENT SYSTEMS / Konami Digital Entertainment / SEGA / CAPCOM CO., LTD. / BANDAI NAMCO Entertainment Inc. / MONOLITHSOFT / CAPCOM U.S.A., INC. / SQUARE ENIX CO., LTD. / ATLUS / Microsoft. Super Smash Bros. and Nintendo Switch are trademarks of Nintendo. 2019 Nintendo., Full version of game required to use DLC. Sold separately.The Challenger Pack may require additional storage. Nintendo Switch storage can be expanded with a microSD card if needed (sold separately).​, Nintendo Play, account required to download and install.]   \n",
       "1195                                                                                                                                                                                                                                                                                                                                                                                                                                                                                                                                                                                                                                                                                                                                                                                                                                                                                                                                                                                                                                                                                                                                                                                                                                                                                                                                                                                                                                                                                                                                                                                                                                                                                                                                                                                                                                                                                                                                                                                                                                                                                                                                                                                                                                                                                                                                                                                                                                                                                                                                                                                                                                                                                                                                                                                                                                                                                                                                                                                                                                                                                                                                                                                                                                                                                                                                                                                                                                                                                                                                                                                                                                                                                                                                                                                                                                                                                                                                                                                                                                                                                                                                                                                                                                                                                                                                                                                                                                                                                                                                                                                                                                                                                                                                                                                                                                                                                                                                                                                                                                                                                                                                                                                                                                                                                                                                                                                                                                                                                                                                                                                                                                                                                                                                                                                                                                                                                                                                                                                                                                                                                                                                                                                                                                                                                                                                                                                                                                                                                                                                                                                                                                                                                                                                                                                                                                                                                                                                                                                                                                                                                                                                                                                                                                                                                                                                                                                                                                                                                                                                                                                                                                                                                                                                                                                                                                                                                                                                                                                                                                                                                                                                                                                                                                                                                                                                                                                                                                                                                                                                                                                                                                                                                                                                                                                                                                                                                                                                                                                                                                                                                                                                                                                                                                                                                                                                                                                                                                                                                                                                                                                                                                                                                                                                                                                                                                                                                                                                                                                                                                                                                                                                                                                                                                                                                                                                                                                             []   \n",
       "1451                                                                                                                                                                                                                                                                                                                                                                                                                                                                                                                                                                                                                                                                                                                                                                                                                                                                                                                                                                                                                                                                                                                                                                                                                                                                                                                                                                                                                                                                                                                                                                                                                                                                                                                                                                                                                                                                                                                                                                                                                                                                                                                                                                                                                                                                                                                                                                                                                                                                                                                                                                                                                                                                                                                                                                                                                                                                                                                       [Product Description, The PS3 system is now slimmer and lighter than ever before. While the form factor may have changed, the PS3 system still comes with free access to the PlayStation Network, built-in Wi-Fi, and hard disk drive storage for games, music, videos, and photos. Plus, the PS3 system is the only gaming console with a Blu-ray player to give you the best high-definition viewing experience on your television. With five times the capacity of standard DVDs, Blu-ray discs gives you more realistic and immersive gameplay that can only be possible on the PS3 system with games such as Gran Turismo 5, Uncharted 2: Among Thieves Game of the Year, and MAG. All PlayStation 3 systems are already equipped with everything you need to play stereoscopic 3D games., Amazon.com, The fourth generation of hardware released for the PlayStation 3 entertainment platform, the PlayStation 3 320GB system is the next stage in the evolution of Sony's console gaming powerhouse. Loaded with a mix of multimedia features and functions available on earlier PlayStation 3 models, as well as a series of new advancements and refinements, the PlayStation 3 320GB system is destined to push the envelope in the realm of Next-Generation entertainment. .caption { font-family: Verdana, Helvetica neue, Arial, serif; font-size: 10px; font-weight: bold; font-style: italic; } ul.indent { list-style: inside disc; text-indent: -15px; } table.callout { font-family: verdana; font-size: 11px; line-height: 1. 3em; } td.vgoverview { height: 125px; background: #9DC4D8 url(https://images-na.ssl-images-amazon.com/images/G/01/electronics/detail-page/callout-bg.png) repeat-x; border-left: 1px solid #999999; border-right: 1px solid #999999; padding-left: 20px; padding-right: 20px; padding-bottom: 10px; width: 250px; font-family: verdana; font-size: 12px; }, What's Under the Hood, As with previous models, the PlayStation 3 320GB system features an IBM \"Cell\" processor and a co-developed NVIDIA graphics processor that together allow the system to perform two trillion calculations per second. Yet the 320GB system manages to improve on this with its 45nm version of the processor, which although running at the same 60+nm speed as previous PS3 versions, uses less energy. This makes the unit's smaller size and quieter fan possible. Along with the traditional AV and composite connections, the 320GB system also boasts an HDMI (High-Definition Multimedia Interface) port, which delivers uncompressed, unconverted digital picture and sound to compatible high-definition TVs and projectors (the system is capable of 128-bit pixel precision and 1080p resolution for a full HD experience). This console also provides for an extreme sound experience by supporting Dolby Digital 5.1, DTS 5.1, as well as Linear PCM 7.1. Finally, it features cross connectivity with your PC network and PlayStation Portable (PSP) and its pre-installed, 320GB hard disc drive allows you to save games as well as download content from the internet. Unlike other models of the PlayStation 3, The 320GB system does not offer backwards compatibility., The same functionality now in a smaller, more quiet and energy efficient package, View larger, ., Space saving when placed upright..., View larger, ., As well as when horizontal, View larger, ., A textured, no fingerprint finish, View larger, ., Blu-ray, PlayStation Network Downloads and Beyond, PlayStation 3 utilizes Blu-ray disc media format, which gives you the best high-definition viewing experience on your television, by way of the format's ability to hold six times as much data as traditional DVDs. This tremendous capacity, combined with the awesome power of the system's processor and graphics card, promises an endless stream of mind-blowing games, and other multimedia content. However, this does not mean that the PS3 is limited to Blu-ray discs - it also supports CD-ROM, CD-RW, DVD, DVD-ROM, DVD-R, DVD+R formats. In addition, PlayStation 3 system software includes BD Live support that allows you to play discs that support Blu-ray Disc Profile 2.0 (BD-LIVE). This means that you can also connect to the internet while playing discs that support this format to obtain additional features. Of course, PS3 owners also receive free access to the PlayStation Network (PSN), where through the PlayStation Store and PlayStation Home, they can download games, game demos, movies, and other content, as well as chat with friends, play mini-games, compete in tournaments and explore dedicated game spaces., Sensational Controller, The Dualshock 3 wireless controller included with the PlayStation 3 320GB system provides the most intuitive gameplay experience, with pressure sensors in each action button and the inclusion of the highly sensitive Sixaxis motion sensing technology. Each hit, crash and explosion is more realistic when the user feels the rumble right in the palm of their hand. It can even detect natural movements for real-time and high-precision interactive play, acting as a natural extension of the user’s body. Dualshock 3 utilizes Bluetooth technology for wireless gameplay and the controller’s detachable USB cable to seamlessly and automatically charge the controller when connected to the PlayStation 3. By integrating all of these features into the popular PlayStation controller design, the Dualshock 3 further enhances the advanced gameplay experience that can only be found on the PlayStation 3 system., Synch with Your Other Sony HDMI Devices, The PlayStation 3 320GB system features HDMI + Bravia Synch functionality. Bravia Synch allows connectivity between Sony HDMI products, without having to utilize multiple remote controls. This means that with the push of a button, users can control compliant Sony devices connected to your PS3 via HDMI cable., What's in The Box, :, New slimmer and lighter PS3 system with a 320 GB HDD, Internet-ready built-in Wi-Fi, 2 USB ports and HDMI + Bravia Synch output for 1080p resolution and connectivity between other Sony HDMI products., New slimmer and lighter PS3 system with a 320 GB HDD, Internet-ready built-in Wi-Fi, 2 USB ports and HDMI + Bravia Synch output for 1080p resolution and connectivity between other Sony HDMI products., Dualshock 3 wireless controller., Dualshock 3 wireless controller., AC power cord, AV cable and USB cable., AC power cord, AV cable and USB cable., Free PlayStation Network membership., Free PlayStation Network membership., System Specifications:, CPU Cell Broadband Engine (Cell/B.E.) GPU RSX Sound LPCM 7.1ch, Dolby Digital, Dolby Digital Plus, Dolby TrueHD, DTs, DTS-HD, AAC Memory 256MB XDR Main RAM, 256MB GDDR3 VRAM HDD 2.5\" Serial ATA 320GB Networking Ethernet X1 (10BASE-T,100BASE-TX, 1000BASE-T) IEEE 802.11 b/g Included Bluetooth 2.0 (EDR) Included Controller Dualshock 3 wireless controller included AV Output Resolution 1080p, 1080i, 720p, 480p, 480i (for PAL 576p, 576i) HDMI OUT + Bravia Synch 1 AV MULTI OUT 1 DIGITAL OUT (OPTICAL) 1 BD/DVD/CD Drive(Read Only) Maximum Read Speed BD 2x (BD-ROM) DVD 8x (DVD-ROM) CD 24x (CD-ROM) USB Ports 2 Backwards Compatibility No Dimensions 13.385\"(w) x 13.385\"(h) x 6.299\"(d) Weight Approx. 7.05 lb.]   \n",
       "1513                                                                                                                                                                                                                                                                                                                                                                                                                                                                                                                                                                                                                                                                                                                                                                                                                                                                                                                                                                                                                                                                                                                                                                                                                                                                                                                                                                                                                                                                                                                                                                                                                                                                                                                                                                                                                                                                                                                                                                                                                                                                                                                                                                                                                                                                                                                                                                                                                                                                                                                                                                                                                                                                                                                                                                                                                                                                                                                                                                                                                                                                                                                                                                                                                                                                                                                                                                                                                                                                                                                                                                                                                                                                                                                                                                                                                                                                                                                                                                                                                                                                                                                                                                                                                                                                                                                                                [Product Description, New Super Mario Bros. Wii, Amazon.com, Developers at Nintendo have dreamed of creating a simultaneous multiplayer, Super Mario Bros., game for decades. The Wii console finally makes that dream come true for everyone with, New Super Mario Bros. Wii., Supporting 2-4 players in side-scrolling co-op and competitive platforming action, and featuring a mix of fan favorites and new characters, new powerups and various input options via the Wii Remote, it is destined to become an instant classic in one of the most beloved game franchises of all-time. .caption { font-family: Verdana, Helvetica neue, Arial, serif; font-size: 10px; font-weight: bold; font-style: italic; } ul.indent { list-style: inside disc; text-indent: -15px; } table.callout { font-family: verdana; font-size: 11px; line-height: 1. 3em; } td.vgoverview { height: 125px; background: #9DC4D8 url(https://images-na.ssl-images-amazon.com/images/G/01/electronics/detail-page/callout-bg.png) repeat-x; border-left: 1px solid #999999; border-right: 1px solid #999999; padding-left: 20px; padding-right: 20px; padding-bottom: 10px; width: 250px; font-family: verdana; font-size: 12px; }, Co-op/competitive simultaneous multiplayer., View larger, ., Classic environments with a twist., View larger, ., Wacky new powerups, View larger, ., Gameplay, New Super Mario Bros. Wii, , like all the previous releases in the, Super Mario Bros., franchise is a side-scrolling platforming game where players collect coins as they attempt to make their way through progressively more difficult game levels using their ability to time jumps over obstacles and avoid a slew of enemies. But although the game contain several well-deserved nods to previous games in the series in the form of iconic characters like Mario, Luigi and two Toads, as well as familiar enemies, sound effects and levels, it is not simply another trip down, Mario Bros., memory lane. Taking advantage of the flexibility and power of the Wii and Wii Remote,, New Super Mario Bros. Wii, manages to preserve the retro experience that fans love about the series, while adding new game features. Notable additions among these include, expansive play levels and new powerups and characters, but by far the most important, and in fact game-defining new feature is simultaneous multiplayer., A Franchise First: Simultaneous Multiplayer, Since the very first, Super Mario Bros., game took the world by storm in the late 1980s gamers anxious to get into the action have patiently and impatiently waited their turn as the infamous 'player 2.' Those days are no more. In, New Super Mario Bros. Wii, players can now navigate the side-scrolling worlds alone as before or invite up to three others to join them at the same time, on the same level, at any point in the game for competitive and cooperative multiplayer fun. With the multiplayer mode, the newest installment of the most popular video game franchise is designed to bring yet another type of family entertainment into living rooms and engage groups of friends in fast-paced, Super Mario Bros., fun., Controller Choices Via the Wii Remote, In another nod to the series' Nintendo Entertainment System (NES) roots, the Wii Remote controller used with, New Super Mario Bros. Wii, is held sideways, allowing for easy, classic inputs using the D-pad to direct playable characters, the 1 button to jump and 2 button to spit out projectiles like snowballs and fireballs. In addition, players can access powerups with their choice of either the push of a button, or by shaking the Wii remote, again demonstrating the perfect merging of classic gameplay and modern game design which is, New Super Mario Bros. Wii, ., Key Game Features, New Super Mario Bros. Wii offers a combination of cooperation and competition. Players can pick each other up to save them from danger or toss them into it., New Super Mario Bros. Wii, offers a combination of cooperation and competition. Players can pick each other up to save them from danger or toss them into it., Supports 2-4 players in multiplayer mode., Supports 2-4 players in multiplayer mode., Mario, Luigi and two Toads are all playable characters, while many others from the Mushroom Kingdom make appearances throughout the game. Players can even ride different Yoshi characters and use their tongues to swallow enemies – or their fellow players., Mario, Luigi and two Toads are all playable characters, while many others from the Mushroom Kingdom make appearances throughout the game. Players can even ride different Yoshi characters and use their tongues to swallow enemies – or their fellow players., In some areas, players use the motion abilities of the Wii Remote controller. The first player to reach a seesaw might make it tilt to help his or her character reach a higher platform – and then tilt it incorrectly just to mess with other players., In some areas, players use the motion abilities of the Wii Remote controller. The first player to reach a seesaw might make it tilt to help his or her character reach a higher platform – and then tilt it incorrectly just to mess with other players., New items include the propeller suit, which will shoot players high into the sky with just a shake of the Wii Remote and Mario’s new ability to transform into Penguin Mario., New items include the propeller suit, which will shoot players high into the sky with just a shake of the Wii Remote and Mario’s new ability to transform into Penguin Mario., At the end of each stage during the simultaneous multiplayer mode, players are ranked based on their score, the coins collected and the number of enemies defeated., At the end of each stage during the simultaneous multiplayer mode, players are ranked based on their score, the coins collected and the number of enemies defeated.]   \n",
       "1661                                                                                                                                                                                                                                                                                                                                                                                                                                                                                                                                                                                                                                                                                                                                                                                                                                                                                                                                                                                                                                                                                                                                                                                                                                                                                                                                                                                                                                                                                                                                                                                                                                                                                                                                                                                                                                                                                                                                                                                                                                                                                                                                                                                                                                                                                                                                                                                                                                                                                                                                                                                                                                                                                                                                                                                                                                                                                                                                                                                                                                                                                                                                                                                                                                                                                                                                                                                                                                                                                                                                                                                                                                                                                                                                                                                                                                                                                                                                                                                                                                                                                                                                                                                                                                                                                                                                                                                                                                                                                                                                                                                                                                                                                                                                                                                                                                                                                                                                                                                                                                                                                                                                                                                                                                                                                                                       [Product Description, The critically acclaimed and best-selling MMA videogame franchise returns to take players inside the Octagon with UFC Undisputed 3, delivering intense UFC action focused on brutal toe-to-toe combat, impressive visual presentation, increased accessibility and raw fight emotion., Amazon.com, UFC Undisputed 3, is a mixed martial arts (MMA) fighting game in which players step into the iconic octagon fighting cage to battle in one-on-one action for the ultimate fighting championship (UFC). Just as in real MMA bouts, players of, UFC Undisputed 3, use a variety of martial arts disciplines separated into striking and grappling techniques in an attempt to knockout an opponent, force him to submit or win a decision on points. The game features a huge roster of real UFC fighters in multiple weight classes, as well as a new submission system, simplified controls and an improved online component., Step Inside the Octagon Once Again, The critically acclaimed and best-selling MMA video game franchise returns to take players inside the Octagon with, UFC Undisputed 3, , delivering UFC action focused on intense toe-to-toe combat, impressive visual presentation and increased accessibility. One of the most exciting additions of, UFC Undisputed 3, is the inclusion of the new Pride mode. Pride mode is a no-holds-barred Japanese MMA league that augments standard gameplay. Along with a separate belt, it brings with it brutal soccer-style kicks, head stomps and ground knees to the head that make for an entirely separate type of fight. The game also expands the available roster of real, playable fighters in-game to more than 150. The selection of fighters is spread across seven UFC weight classes and feature current superstars and classic fighters, as well as hungry up-and-coming fighters to look for in the UFC., Battle within the iconic UFC octagon for the undisputed championship. View larger, The game also features a brand new submission system, new ways to finish the fight and increased accessibility through both traditional and simplified gameplay controls. Players also experience the excitement of a live UFC event through significant visual improvements. Improvements include broadcasting from cage-side, new camera positions and the introduction of much-anticipated fighter entrances. Rounding out the UFC experience with a significantly improved online feature set, including new and updated offerings,, UFC Undisputed 3, lets players have their fights – their way – to deliver the most competitive and engaging experience to date for the franchise., Key Game Features, Pride Mode - Compete for the first time within the legendary Pride environment featuring official announcers and renowned Japanese MMA league rules, including soccer-style kicks, head stomps and ground knees to the head, Pride Mode, - Compete for the first time within the legendary Pride environment featuring official announcers and renowned Japanese MMA league rules, including soccer-style kicks, head stomps and ground knees to the head, Finish the Fight - With punishing new moves, a brand new submission system and increased focus on presentation, players will have more options than ever to take advantage of a downed opponent, Finish the Fight, - With punishing new moves, a brand new submission system and increased focus on presentation, players will have more options than ever to take advantage of a downed opponent, From Broadcast to Cage-side - Experience the intensity of UFC with new camera positions, compelling fighter entrances, improved facial animations and a gritty, high contrast appearance, From Broadcast to Cage-side, - Experience the intensity of UFC with new camera positions, compelling fighter entrances, improved facial animations and a gritty, high contrast appearance, Extraordinary Roster - Go head to head with more than 150 prolific UFC fighters, including the addition of Featherweight and Bantamweight divisions, Extraordinary Roster, - Go head to head with more than 150 prolific UFC fighters, including the addition of Featherweight and Bantamweight divisions, Gameplay Accessibility - Get right inside the Octagon with simplified gameplay control options, brutalizing opponents after stepping into the cage for the first time, Gameplay Accessibility, - Get right inside the Octagon with simplified gameplay control options, brutalizing opponents after stepping into the cage for the first time, Extensive Online Gameplay Offering - A significantly revamped online experience, including both new and updated features, rounds of the best competitive fighting experience to date for the franchise, Extensive Online Gameplay Offering, - A significantly revamped online experience, including both new and updated features, rounds of the best competitive fighting experience to date for the franchise, Additional Screenshots]   \n",
       "1723                                                                                                                                                                                                                                                                                                                                                                                                                                                                                                                                                                                                                                                                                                                                                                                                                                                                                                                                                                                                                                                                                                                                                                                                                                                                                                                                                                                                                                                                                                                                                                                                                                                                                                                                                                                                                                                                                                                                                                                                                                                                                                                                                                                                                                                                                                                                                                                                                                                                                                                                                                                                                                                                                                                                                                                                                                                                                                                                                                                                                                                                                                                                                                                                                                                                                                                                                                                                                                                                                                                                                                                                                                                                                                                                                                                                                                                                                                                                                                                                                                                                                                                                                                                                                                                                                                                                                                                                                                                                                                                                                                                                                                                                                                                                                                                                                                                                                                                                                                                                                                                                                                                                                                                                                                                                                                                                                                                                                                                                                                                                                                                                                                                                                                                                                                                                                                                                                                                                                                                                                                                                                                                                                                                                                                                                                                                                                                                                                                                                                                                                                                                                                                                                                                                                                                                                                                                                                                                                                                                                                                                                                                                                                                                                                                                                                                                                                                                                                                                                                                                                                                                                                                                                                                                                                                                                                                                                                                                                                                                                                                                                                                                                                                                                                                                                                                                                                                                                                                                                                                                                                                                                                                                                                                                                                                                                                                                                                                                                                                                                                                                                                                                    [Product Description, The world's premier weapon based fighting game franchise returns to deliver a true next generation fighting experience. Set to finally reveal the origins of the Soulcalibur saga, Soulcalibur IV features both new and familiar faces from across the galaxy, seeking the rival swords for vengeance, honor and salvation. In a monumental alliance, legendary Star Wars icons, Darth Vader and Yoda invade the Soulcalibur IV continues the series' tradition of reinventing, enhancing and breaking new boundaries. Now the world's favorite fighting game redefines the entire genre for the next generation of both new, and fiercely loyal Soulcalibur fans., Amazon.com, The Classic Fighter Returns, Return to witness the epic struggle between the spirit sword, Soul Calibur, and the cursed sword, Soul Edge, in, Soul Calibur IV, . Warriors from far reaches of the galaxy battle to control the powerful swords and use them for their own goals. Should these fighters succeed, they will face the ultimate judgment. The ongoing story continues with new revelations, exciting new gameplay features and stunning visuals. And perhaps most exciting of all, a character from the Star Wars universe will also make an appearance.]   \n",
       "\n",
       "                                                                                       categories  \\\n",
       "51                       [Video Games, Legacy Systems, PlayStation Systems, PlayStation 3, Games]   \n",
       "220   [Video Games, Legacy Systems, PlayStation Systems, PlayStation 3, Accessories, Controllers]   \n",
       "485                                                                [Video Games, Xbox One, Games]   \n",
       "500                                             [Video Games, Xbox One, Accessories, Controllers]   \n",
       "739                        [Video Games, Legacy Systems, PlayStation Systems, PlayStation, Games]   \n",
       "1121                                  [Video Games, Legacy Systems, Nintendo Systems, Wii, Games]   \n",
       "1179                                                        [Video Games, Nintendo Switch, Games]   \n",
       "1195                                       [Video Games, PlayStation 4, Accessories, Thumb Grips]   \n",
       "1451                  [Video Games, Legacy Systems, PlayStation Systems, PlayStation 3, Consoles]   \n",
       "1513                                  [Video Games, Legacy Systems, Nintendo Systems, Wii, Games]   \n",
       "1661                     [Video Games, Legacy Systems, PlayStation Systems, PlayStation 3, Games]   \n",
       "1723                                 [Video Games, Legacy Systems, Xbox Systems, Xbox 360, Games]   \n",
       "\n",
       "       price  \n",
       "51     18.99  \n",
       "220     55.0  \n",
       "485    49.88  \n",
       "500     59.0  \n",
       "739     None  \n",
       "1121    None  \n",
       "1179    5.99  \n",
       "1195   16.99  \n",
       "1451  235.88  \n",
       "1513   71.95  \n",
       "1661   36.76  \n",
       "1723   29.99  \n",
       "\n",
       "[12 rows x 27 columns]"
      ]
     },
     "metadata": {},
     "output_type": "display_data"
    }
   ],
   "source": [
    "user_id = val_df.sample(1)[args.user_col].values[0]\n",
    "# user_id = \"AH4AOFTTDPHPAFAAVFMAF25H2LIQ\"\n",
    "test_df = val_df.loc[lambda df: df[args.user_col].eq(user_id)]\n",
    "with pd.option_context(\"display.max_colwidth\", None):\n",
    "    display(test_df)"
   ]
  },
  {
   "cell_type": "code",
   "execution_count": 25,
   "id": "c48fbc80-eda8-4dff-a246-95f8f2f75082",
   "metadata": {
    "scrolled": true
   },
   "outputs": [
    {
     "name": "stderr",
     "output_type": "stream",
     "text": [
      "\u001b[32m2024-10-28 16:52:43.909\u001b[0m | \u001b[1mINFO    \u001b[0m | \u001b[36m__main__\u001b[0m:\u001b[36m<module>\u001b[0m:\u001b[36m7\u001b[0m - \u001b[1mTest predicting before training with user_id = AHGP7R23VTX7DAZ4DXY5SP7I4RTQ and parent_asin = B000ZK695U\u001b[0m\n",
      "/var/folders/mq/xtxzhvlj4m97tb8lgwxcnsb40000gn/T/ipykernel_33115/552555214.py:13: UserWarning:\n",
      "\n",
      "Creating a tensor from a list of numpy.ndarrays is extremely slow. Please consider converting the list to a single numpy.ndarray with numpy.array() before converting to a tensor. (Triggered internally at /Users/runner/work/pytorch/pytorch/pytorch/torch/csrc/utils/tensor_new.cpp:281.)\n",
      "\n"
     ]
    },
    {
     "data": {
      "text/plain": [
       "tensor([[0.5084]], grad_fn=<SigmoidBackward0>)"
      ]
     },
     "execution_count": 25,
     "metadata": {},
     "output_type": "execute_result"
    }
   ],
   "source": [
    "test_row = test_df.loc[lambda df: df[args.rating_col].gt(0)].iloc[0]\n",
    "item_id = test_row[args.item_col]\n",
    "item_sequence = test_row[\"item_sequence\"]\n",
    "item_sequence_ts_bucket = test_row[\"item_sequence_ts_bucket\"]\n",
    "row_idx = test_row.name\n",
    "item_feature = val_item_features[row_idx]\n",
    "logger.info(\n",
    "    f\"Test predicting before training with {args.user_col} = {user_id} and {args.item_col} = {item_id}\"\n",
    ")\n",
    "user_indice = idm.get_user_index(user_id)\n",
    "item_indice = idm.get_item_index(item_id)\n",
    "user = torch.tensor([user_indice])\n",
    "item_sequence = torch.tensor([item_sequence])\n",
    "item_sequence_ts_bucket = torch.tensor([item_sequence_ts_bucket])\n",
    "item_feature = torch.tensor([item_feature])\n",
    "item = torch.tensor([item_indice])\n",
    "\n",
    "model.eval()\n",
    "model.predict(user, item_sequence, item_sequence_ts_bucket, item_feature, item)\n",
    "model.train()"
   ]
  },
  {
   "cell_type": "markdown",
   "id": "c2fd217c-c0c8-4e7c-81fe-6eb36f4729b5",
   "metadata": {},
   "source": [
    "#### Training loop"
   ]
  },
  {
   "cell_type": "markdown",
   "id": "1e9daad4-1365-4e8e-8f73-80ca5513572b",
   "metadata": {},
   "source": [
    "##### Overfit 1 batch"
   ]
  },
  {
   "cell_type": "code",
   "execution_count": 26,
   "id": "1a1cd9bd-e2c6-404b-b6ae-b26a7d35a0ba",
   "metadata": {
    "scrolled": true
   },
   "outputs": [
    {
     "name": "stderr",
     "output_type": "stream",
     "text": [
      "GPU available: True (mps), used: True\n",
      "TPU available: False, using: 0 TPU cores\n",
      "HPU available: False, using: 0 HPUs\n",
      "`Trainer(overfit_batches=1)` was configured so 1 batch will be used.\n",
      "\n",
      "  | Name  | Type   | Params | Mode \n",
      "-----------------------------------------\n",
      "0 | model | Ranker | 3.4 M  | train\n",
      "-----------------------------------------\n",
      "3.4 M     Trainable params\n",
      "0         Non-trainable params\n",
      "3.4 M     Total params\n",
      "13.558    Total estimated model params size (MB)\n",
      "15        Modules in train mode\n",
      "0         Modules in eval mode\n"
     ]
    },
    {
     "data": {
      "application/vnd.jupyter.widget-view+json": {
       "model_id": "",
       "version_major": 2,
       "version_minor": 0
      },
      "text/plain": [
       "Sanity Checking: |                                                                                            …"
      ]
     },
     "metadata": {},
     "output_type": "display_data"
    },
    {
     "name": "stderr",
     "output_type": "stream",
     "text": [
      "/Users/dvq/frostmourne/recsys-mvp/.venv/lib/python3.11/site-packages/lightning/pytorch/trainer/connectors/data_connector.py:251: UserWarning:\n",
      "\n",
      "You requested to overfit but enabled val dataloader shuffling. We are turning off the val dataloader shuffling for you.\n",
      "\n",
      "/Users/dvq/frostmourne/recsys-mvp/.venv/lib/python3.11/site-packages/lightning/pytorch/trainer/connectors/data_connector.py:424: PossibleUserWarning:\n",
      "\n",
      "The 'val_dataloader' does not have many workers which may be a bottleneck. Consider increasing the value of the `num_workers` argument` to `num_workers=10` in the `DataLoader` to improve performance.\n",
      "\n",
      "/Users/dvq/frostmourne/recsys-mvp/.venv/lib/python3.11/site-packages/lightning/pytorch/trainer/connectors/data_connector.py:251: UserWarning:\n",
      "\n",
      "You requested to overfit but enabled train dataloader shuffling. We are turning off the train dataloader shuffling for you.\n",
      "\n",
      "/Users/dvq/frostmourne/recsys-mvp/.venv/lib/python3.11/site-packages/lightning/pytorch/trainer/connectors/data_connector.py:424: PossibleUserWarning:\n",
      "\n",
      "The 'train_dataloader' does not have many workers which may be a bottleneck. Consider increasing the value of the `num_workers` argument` to `num_workers=10` in the `DataLoader` to improve performance.\n",
      "\n",
      "/Users/dvq/frostmourne/recsys-mvp/.venv/lib/python3.11/site-packages/lightning/pytorch/loops/fit_loop.py:298: PossibleUserWarning:\n",
      "\n",
      "The number of training batches (1) is smaller than the logging interval Trainer(log_every_n_steps=50). Set a lower value for log_every_n_steps if you want to see logs for the training epoch.\n",
      "\n"
     ]
    },
    {
     "data": {
      "application/vnd.jupyter.widget-view+json": {
       "model_id": "dc38405cf0a24eb2a1a0212d639bfa99",
       "version_major": 2,
       "version_minor": 0
      },
      "text/plain": [
       "Training: |                                                                                                   …"
      ]
     },
     "metadata": {},
     "output_type": "display_data"
    },
    {
     "data": {
      "application/vnd.jupyter.widget-view+json": {
       "model_id": "",
       "version_major": 2,
       "version_minor": 0
      },
      "text/plain": [
       "Validation: |                                                                                                 …"
      ]
     },
     "metadata": {},
     "output_type": "display_data"
    },
    {
     "data": {
      "application/vnd.jupyter.widget-view+json": {
       "model_id": "",
       "version_major": 2,
       "version_minor": 0
      },
      "text/plain": [
       "Validation: |                                                                                                 …"
      ]
     },
     "metadata": {},
     "output_type": "display_data"
    },
    {
     "data": {
      "application/vnd.jupyter.widget-view+json": {
       "model_id": "",
       "version_major": 2,
       "version_minor": 0
      },
      "text/plain": [
       "Validation: |                                                                                                 …"
      ]
     },
     "metadata": {},
     "output_type": "display_data"
    },
    {
     "data": {
      "application/vnd.jupyter.widget-view+json": {
       "model_id": "",
       "version_major": 2,
       "version_minor": 0
      },
      "text/plain": [
       "Validation: |                                                                                                 …"
      ]
     },
     "metadata": {},
     "output_type": "display_data"
    },
    {
     "data": {
      "application/vnd.jupyter.widget-view+json": {
       "model_id": "",
       "version_major": 2,
       "version_minor": 0
      },
      "text/plain": [
       "Validation: |                                                                                                 …"
      ]
     },
     "metadata": {},
     "output_type": "display_data"
    },
    {
     "data": {
      "application/vnd.jupyter.widget-view+json": {
       "model_id": "",
       "version_major": 2,
       "version_minor": 0
      },
      "text/plain": [
       "Validation: |                                                                                                 …"
      ]
     },
     "metadata": {},
     "output_type": "display_data"
    },
    {
     "data": {
      "application/vnd.jupyter.widget-view+json": {
       "model_id": "",
       "version_major": 2,
       "version_minor": 0
      },
      "text/plain": [
       "Validation: |                                                                                                 …"
      ]
     },
     "metadata": {},
     "output_type": "display_data"
    },
    {
     "data": {
      "application/vnd.jupyter.widget-view+json": {
       "model_id": "",
       "version_major": 2,
       "version_minor": 0
      },
      "text/plain": [
       "Validation: |                                                                                                 …"
      ]
     },
     "metadata": {},
     "output_type": "display_data"
    },
    {
     "data": {
      "application/vnd.jupyter.widget-view+json": {
       "model_id": "",
       "version_major": 2,
       "version_minor": 0
      },
      "text/plain": [
       "Validation: |                                                                                                 …"
      ]
     },
     "metadata": {},
     "output_type": "display_data"
    },
    {
     "data": {
      "application/vnd.jupyter.widget-view+json": {
       "model_id": "",
       "version_major": 2,
       "version_minor": 0
      },
      "text/plain": [
       "Validation: |                                                                                                 …"
      ]
     },
     "metadata": {},
     "output_type": "display_data"
    },
    {
     "data": {
      "application/vnd.jupyter.widget-view+json": {
       "model_id": "",
       "version_major": 2,
       "version_minor": 0
      },
      "text/plain": [
       "Validation: |                                                                                                 …"
      ]
     },
     "metadata": {},
     "output_type": "display_data"
    },
    {
     "data": {
      "application/vnd.jupyter.widget-view+json": {
       "model_id": "",
       "version_major": 2,
       "version_minor": 0
      },
      "text/plain": [
       "Validation: |                                                                                                 …"
      ]
     },
     "metadata": {},
     "output_type": "display_data"
    },
    {
     "data": {
      "application/vnd.jupyter.widget-view+json": {
       "model_id": "",
       "version_major": 2,
       "version_minor": 0
      },
      "text/plain": [
       "Validation: |                                                                                                 …"
      ]
     },
     "metadata": {},
     "output_type": "display_data"
    },
    {
     "data": {
      "application/vnd.jupyter.widget-view+json": {
       "model_id": "",
       "version_major": 2,
       "version_minor": 0
      },
      "text/plain": [
       "Validation: |                                                                                                 …"
      ]
     },
     "metadata": {},
     "output_type": "display_data"
    },
    {
     "data": {
      "application/vnd.jupyter.widget-view+json": {
       "model_id": "",
       "version_major": 2,
       "version_minor": 0
      },
      "text/plain": [
       "Validation: |                                                                                                 …"
      ]
     },
     "metadata": {},
     "output_type": "display_data"
    },
    {
     "data": {
      "application/vnd.jupyter.widget-view+json": {
       "model_id": "",
       "version_major": 2,
       "version_minor": 0
      },
      "text/plain": [
       "Validation: |                                                                                                 …"
      ]
     },
     "metadata": {},
     "output_type": "display_data"
    },
    {
     "data": {
      "application/vnd.jupyter.widget-view+json": {
       "model_id": "",
       "version_major": 2,
       "version_minor": 0
      },
      "text/plain": [
       "Validation: |                                                                                                 …"
      ]
     },
     "metadata": {},
     "output_type": "display_data"
    },
    {
     "data": {
      "application/vnd.jupyter.widget-view+json": {
       "model_id": "",
       "version_major": 2,
       "version_minor": 0
      },
      "text/plain": [
       "Validation: |                                                                                                 …"
      ]
     },
     "metadata": {},
     "output_type": "display_data"
    },
    {
     "data": {
      "application/vnd.jupyter.widget-view+json": {
       "model_id": "",
       "version_major": 2,
       "version_minor": 0
      },
      "text/plain": [
       "Validation: |                                                                                                 …"
      ]
     },
     "metadata": {},
     "output_type": "display_data"
    },
    {
     "data": {
      "application/vnd.jupyter.widget-view+json": {
       "model_id": "",
       "version_major": 2,
       "version_minor": 0
      },
      "text/plain": [
       "Validation: |                                                                                                 …"
      ]
     },
     "metadata": {},
     "output_type": "display_data"
    },
    {
     "data": {
      "application/vnd.jupyter.widget-view+json": {
       "model_id": "",
       "version_major": 2,
       "version_minor": 0
      },
      "text/plain": [
       "Validation: |                                                                                                 …"
      ]
     },
     "metadata": {},
     "output_type": "display_data"
    },
    {
     "data": {
      "application/vnd.jupyter.widget-view+json": {
       "model_id": "",
       "version_major": 2,
       "version_minor": 0
      },
      "text/plain": [
       "Validation: |                                                                                                 …"
      ]
     },
     "metadata": {},
     "output_type": "display_data"
    },
    {
     "data": {
      "application/vnd.jupyter.widget-view+json": {
       "model_id": "",
       "version_major": 2,
       "version_minor": 0
      },
      "text/plain": [
       "Validation: |                                                                                                 …"
      ]
     },
     "metadata": {},
     "output_type": "display_data"
    },
    {
     "data": {
      "application/vnd.jupyter.widget-view+json": {
       "model_id": "",
       "version_major": 2,
       "version_minor": 0
      },
      "text/plain": [
       "Validation: |                                                                                                 …"
      ]
     },
     "metadata": {},
     "output_type": "display_data"
    },
    {
     "data": {
      "application/vnd.jupyter.widget-view+json": {
       "model_id": "",
       "version_major": 2,
       "version_minor": 0
      },
      "text/plain": [
       "Validation: |                                                                                                 …"
      ]
     },
     "metadata": {},
     "output_type": "display_data"
    },
    {
     "data": {
      "application/vnd.jupyter.widget-view+json": {
       "model_id": "",
       "version_major": 2,
       "version_minor": 0
      },
      "text/plain": [
       "Validation: |                                                                                                 …"
      ]
     },
     "metadata": {},
     "output_type": "display_data"
    },
    {
     "data": {
      "application/vnd.jupyter.widget-view+json": {
       "model_id": "",
       "version_major": 2,
       "version_minor": 0
      },
      "text/plain": [
       "Validation: |                                                                                                 …"
      ]
     },
     "metadata": {},
     "output_type": "display_data"
    },
    {
     "data": {
      "application/vnd.jupyter.widget-view+json": {
       "model_id": "",
       "version_major": 2,
       "version_minor": 0
      },
      "text/plain": [
       "Validation: |                                                                                                 …"
      ]
     },
     "metadata": {},
     "output_type": "display_data"
    },
    {
     "data": {
      "application/vnd.jupyter.widget-view+json": {
       "model_id": "",
       "version_major": 2,
       "version_minor": 0
      },
      "text/plain": [
       "Validation: |                                                                                                 …"
      ]
     },
     "metadata": {},
     "output_type": "display_data"
    },
    {
     "data": {
      "application/vnd.jupyter.widget-view+json": {
       "model_id": "",
       "version_major": 2,
       "version_minor": 0
      },
      "text/plain": [
       "Validation: |                                                                                                 …"
      ]
     },
     "metadata": {},
     "output_type": "display_data"
    },
    {
     "data": {
      "application/vnd.jupyter.widget-view+json": {
       "model_id": "",
       "version_major": 2,
       "version_minor": 0
      },
      "text/plain": [
       "Validation: |                                                                                                 …"
      ]
     },
     "metadata": {},
     "output_type": "display_data"
    },
    {
     "data": {
      "application/vnd.jupyter.widget-view+json": {
       "model_id": "",
       "version_major": 2,
       "version_minor": 0
      },
      "text/plain": [
       "Validation: |                                                                                                 …"
      ]
     },
     "metadata": {},
     "output_type": "display_data"
    },
    {
     "data": {
      "application/vnd.jupyter.widget-view+json": {
       "model_id": "",
       "version_major": 2,
       "version_minor": 0
      },
      "text/plain": [
       "Validation: |                                                                                                 …"
      ]
     },
     "metadata": {},
     "output_type": "display_data"
    },
    {
     "data": {
      "application/vnd.jupyter.widget-view+json": {
       "model_id": "",
       "version_major": 2,
       "version_minor": 0
      },
      "text/plain": [
       "Validation: |                                                                                                 …"
      ]
     },
     "metadata": {},
     "output_type": "display_data"
    },
    {
     "data": {
      "application/vnd.jupyter.widget-view+json": {
       "model_id": "",
       "version_major": 2,
       "version_minor": 0
      },
      "text/plain": [
       "Validation: |                                                                                                 …"
      ]
     },
     "metadata": {},
     "output_type": "display_data"
    },
    {
     "data": {
      "application/vnd.jupyter.widget-view+json": {
       "model_id": "",
       "version_major": 2,
       "version_minor": 0
      },
      "text/plain": [
       "Validation: |                                                                                                 …"
      ]
     },
     "metadata": {},
     "output_type": "display_data"
    },
    {
     "data": {
      "application/vnd.jupyter.widget-view+json": {
       "model_id": "",
       "version_major": 2,
       "version_minor": 0
      },
      "text/plain": [
       "Validation: |                                                                                                 …"
      ]
     },
     "metadata": {},
     "output_type": "display_data"
    },
    {
     "data": {
      "application/vnd.jupyter.widget-view+json": {
       "model_id": "",
       "version_major": 2,
       "version_minor": 0
      },
      "text/plain": [
       "Validation: |                                                                                                 …"
      ]
     },
     "metadata": {},
     "output_type": "display_data"
    },
    {
     "data": {
      "application/vnd.jupyter.widget-view+json": {
       "model_id": "",
       "version_major": 2,
       "version_minor": 0
      },
      "text/plain": [
       "Validation: |                                                                                                 …"
      ]
     },
     "metadata": {},
     "output_type": "display_data"
    },
    {
     "data": {
      "application/vnd.jupyter.widget-view+json": {
       "model_id": "",
       "version_major": 2,
       "version_minor": 0
      },
      "text/plain": [
       "Validation: |                                                                                                 …"
      ]
     },
     "metadata": {},
     "output_type": "display_data"
    },
    {
     "data": {
      "application/vnd.jupyter.widget-view+json": {
       "model_id": "",
       "version_major": 2,
       "version_minor": 0
      },
      "text/plain": [
       "Validation: |                                                                                                 …"
      ]
     },
     "metadata": {},
     "output_type": "display_data"
    },
    {
     "data": {
      "application/vnd.jupyter.widget-view+json": {
       "model_id": "",
       "version_major": 2,
       "version_minor": 0
      },
      "text/plain": [
       "Validation: |                                                                                                 …"
      ]
     },
     "metadata": {},
     "output_type": "display_data"
    },
    {
     "data": {
      "application/vnd.jupyter.widget-view+json": {
       "model_id": "",
       "version_major": 2,
       "version_minor": 0
      },
      "text/plain": [
       "Validation: |                                                                                                 …"
      ]
     },
     "metadata": {},
     "output_type": "display_data"
    },
    {
     "data": {
      "application/vnd.jupyter.widget-view+json": {
       "model_id": "",
       "version_major": 2,
       "version_minor": 0
      },
      "text/plain": [
       "Validation: |                                                                                                 …"
      ]
     },
     "metadata": {},
     "output_type": "display_data"
    },
    {
     "data": {
      "application/vnd.jupyter.widget-view+json": {
       "model_id": "",
       "version_major": 2,
       "version_minor": 0
      },
      "text/plain": [
       "Validation: |                                                                                                 …"
      ]
     },
     "metadata": {},
     "output_type": "display_data"
    },
    {
     "data": {
      "application/vnd.jupyter.widget-view+json": {
       "model_id": "",
       "version_major": 2,
       "version_minor": 0
      },
      "text/plain": [
       "Validation: |                                                                                                 …"
      ]
     },
     "metadata": {},
     "output_type": "display_data"
    },
    {
     "data": {
      "application/vnd.jupyter.widget-view+json": {
       "model_id": "cbd4dbfa5d55404aa09e057fd7e5d5ef",
       "version_major": 2,
       "version_minor": 0
      },
      "text/plain": [
       "Validation: |                                                                                                 …"
      ]
     },
     "metadata": {},
     "output_type": "display_data"
    },
    {
     "data": {
      "application/vnd.jupyter.widget-view+json": {
       "model_id": "0afc361e950945ffa70f42f4b65a84ea",
       "version_major": 2,
       "version_minor": 0
      },
      "text/plain": [
       "Validation: |                                                                                                 …"
      ]
     },
     "metadata": {},
     "output_type": "display_data"
    },
    {
     "data": {
      "application/vnd.jupyter.widget-view+json": {
       "model_id": "f8ec1abfbd3f4953a49d9cb804dfd2cd",
       "version_major": 2,
       "version_minor": 0
      },
      "text/plain": [
       "Validation: |                                                                                                 …"
      ]
     },
     "metadata": {},
     "output_type": "display_data"
    },
    {
     "data": {
      "application/vnd.jupyter.widget-view+json": {
       "model_id": "d667fbef9d7143e89ca0b43e1b1e1293",
       "version_major": 2,
       "version_minor": 0
      },
      "text/plain": [
       "Validation: |                                                                                                 …"
      ]
     },
     "metadata": {},
     "output_type": "display_data"
    },
    {
     "data": {
      "application/vnd.jupyter.widget-view+json": {
       "model_id": "6e87494cb0534eb8b83b4d64a62d21bb",
       "version_major": 2,
       "version_minor": 0
      },
      "text/plain": [
       "Validation: |                                                                                                 …"
      ]
     },
     "metadata": {},
     "output_type": "display_data"
    },
    {
     "data": {
      "application/vnd.jupyter.widget-view+json": {
       "model_id": "3c86b99db18f4a1aa8684ed6815e42a1",
       "version_major": 2,
       "version_minor": 0
      },
      "text/plain": [
       "Validation: |                                                                                                 …"
      ]
     },
     "metadata": {},
     "output_type": "display_data"
    },
    {
     "data": {
      "application/vnd.jupyter.widget-view+json": {
       "model_id": "4862985ebff848a79c1afa8f56939e3e",
       "version_major": 2,
       "version_minor": 0
      },
      "text/plain": [
       "Validation: |                                                                                                 …"
      ]
     },
     "metadata": {},
     "output_type": "display_data"
    },
    {
     "data": {
      "application/vnd.jupyter.widget-view+json": {
       "model_id": "33ff8b65ad294cc4abd58fd5f882ed7e",
       "version_major": 2,
       "version_minor": 0
      },
      "text/plain": [
       "Validation: |                                                                                                 …"
      ]
     },
     "metadata": {},
     "output_type": "display_data"
    },
    {
     "data": {
      "application/vnd.jupyter.widget-view+json": {
       "model_id": "10ec8d24fe8343ea88ed4b7a8cf1ea2b",
       "version_major": 2,
       "version_minor": 0
      },
      "text/plain": [
       "Validation: |                                                                                                 …"
      ]
     },
     "metadata": {},
     "output_type": "display_data"
    },
    {
     "data": {
      "application/vnd.jupyter.widget-view+json": {
       "model_id": "a608909eaba043d1b11ca6733eadaae6",
       "version_major": 2,
       "version_minor": 0
      },
      "text/plain": [
       "Validation: |                                                                                                 …"
      ]
     },
     "metadata": {},
     "output_type": "display_data"
    },
    {
     "data": {
      "application/vnd.jupyter.widget-view+json": {
       "model_id": "c8fecc4a4da549c8ba36ac3d8228c34f",
       "version_major": 2,
       "version_minor": 0
      },
      "text/plain": [
       "Validation: |                                                                                                 …"
      ]
     },
     "metadata": {},
     "output_type": "display_data"
    },
    {
     "data": {
      "application/vnd.jupyter.widget-view+json": {
       "model_id": "c857a82f4a89459783b07648412958a4",
       "version_major": 2,
       "version_minor": 0
      },
      "text/plain": [
       "Validation: |                                                                                                 …"
      ]
     },
     "metadata": {},
     "output_type": "display_data"
    },
    {
     "data": {
      "application/vnd.jupyter.widget-view+json": {
       "model_id": "4f09e50a2cd145f7b0088f8200e964db",
       "version_major": 2,
       "version_minor": 0
      },
      "text/plain": [
       "Validation: |                                                                                                 …"
      ]
     },
     "metadata": {},
     "output_type": "display_data"
    },
    {
     "data": {
      "application/vnd.jupyter.widget-view+json": {
       "model_id": "c0c3760a96fd42c08f79c2bbf9504ed3",
       "version_major": 2,
       "version_minor": 0
      },
      "text/plain": [
       "Validation: |                                                                                                 …"
      ]
     },
     "metadata": {},
     "output_type": "display_data"
    },
    {
     "data": {
      "application/vnd.jupyter.widget-view+json": {
       "model_id": "0028ee8c88ab44ae98d1a3deda9d0a46",
       "version_major": 2,
       "version_minor": 0
      },
      "text/plain": [
       "Validation: |                                                                                                 …"
      ]
     },
     "metadata": {},
     "output_type": "display_data"
    },
    {
     "data": {
      "application/vnd.jupyter.widget-view+json": {
       "model_id": "56bcbd44f36f40e8927c286d73c6b422",
       "version_major": 2,
       "version_minor": 0
      },
      "text/plain": [
       "Validation: |                                                                                                 …"
      ]
     },
     "metadata": {},
     "output_type": "display_data"
    },
    {
     "data": {
      "application/vnd.jupyter.widget-view+json": {
       "model_id": "308043be1a71441d8bd1b907e91f79bc",
       "version_major": 2,
       "version_minor": 0
      },
      "text/plain": [
       "Validation: |                                                                                                 …"
      ]
     },
     "metadata": {},
     "output_type": "display_data"
    },
    {
     "data": {
      "application/vnd.jupyter.widget-view+json": {
       "model_id": "7b159888aac54c77881fa6d0810fc1f2",
       "version_major": 2,
       "version_minor": 0
      },
      "text/plain": [
       "Validation: |                                                                                                 …"
      ]
     },
     "metadata": {},
     "output_type": "display_data"
    },
    {
     "data": {
      "application/vnd.jupyter.widget-view+json": {
       "model_id": "c9510fb824454028a5f9b991a18d8766",
       "version_major": 2,
       "version_minor": 0
      },
      "text/plain": [
       "Validation: |                                                                                                 …"
      ]
     },
     "metadata": {},
     "output_type": "display_data"
    },
    {
     "data": {
      "application/vnd.jupyter.widget-view+json": {
       "model_id": "c50a452e41d2492db0d8fdead7ae2451",
       "version_major": 2,
       "version_minor": 0
      },
      "text/plain": [
       "Validation: |                                                                                                 …"
      ]
     },
     "metadata": {},
     "output_type": "display_data"
    },
    {
     "data": {
      "application/vnd.jupyter.widget-view+json": {
       "model_id": "44f1e93a16f143528f1271453f695452",
       "version_major": 2,
       "version_minor": 0
      },
      "text/plain": [
       "Validation: |                                                                                                 …"
      ]
     },
     "metadata": {},
     "output_type": "display_data"
    },
    {
     "data": {
      "application/vnd.jupyter.widget-view+json": {
       "model_id": "120c0615ba5c4191aa50867f422fbe07",
       "version_major": 2,
       "version_minor": 0
      },
      "text/plain": [
       "Validation: |                                                                                                 …"
      ]
     },
     "metadata": {},
     "output_type": "display_data"
    },
    {
     "data": {
      "application/vnd.jupyter.widget-view+json": {
       "model_id": "fd3f496dfba94ee29eadf035f9d72676",
       "version_major": 2,
       "version_minor": 0
      },
      "text/plain": [
       "Validation: |                                                                                                 …"
      ]
     },
     "metadata": {},
     "output_type": "display_data"
    },
    {
     "data": {
      "application/vnd.jupyter.widget-view+json": {
       "model_id": "2a6df318413a41f1a1b30ac9c3233b42",
       "version_major": 2,
       "version_minor": 0
      },
      "text/plain": [
       "Validation: |                                                                                                 …"
      ]
     },
     "metadata": {},
     "output_type": "display_data"
    },
    {
     "data": {
      "application/vnd.jupyter.widget-view+json": {
       "model_id": "801c0d02b0c043849a59c16704772cbd",
       "version_major": 2,
       "version_minor": 0
      },
      "text/plain": [
       "Validation: |                                                                                                 …"
      ]
     },
     "metadata": {},
     "output_type": "display_data"
    },
    {
     "data": {
      "application/vnd.jupyter.widget-view+json": {
       "model_id": "ff572aac199647e494d81af4e24bda9b",
       "version_major": 2,
       "version_minor": 0
      },
      "text/plain": [
       "Validation: |                                                                                                 …"
      ]
     },
     "metadata": {},
     "output_type": "display_data"
    },
    {
     "data": {
      "application/vnd.jupyter.widget-view+json": {
       "model_id": "b9d99dd4de584b0dac0de12142730d1b",
       "version_major": 2,
       "version_minor": 0
      },
      "text/plain": [
       "Validation: |                                                                                                 …"
      ]
     },
     "metadata": {},
     "output_type": "display_data"
    },
    {
     "data": {
      "application/vnd.jupyter.widget-view+json": {
       "model_id": "9b509044d0f24aad8d84c9688ea83200",
       "version_major": 2,
       "version_minor": 0
      },
      "text/plain": [
       "Validation: |                                                                                                 …"
      ]
     },
     "metadata": {},
     "output_type": "display_data"
    },
    {
     "data": {
      "application/vnd.jupyter.widget-view+json": {
       "model_id": "2fa621c822c44047883384816510f8bc",
       "version_major": 2,
       "version_minor": 0
      },
      "text/plain": [
       "Validation: |                                                                                                 …"
      ]
     },
     "metadata": {},
     "output_type": "display_data"
    },
    {
     "data": {
      "application/vnd.jupyter.widget-view+json": {
       "model_id": "067bf18cbe5e4692a3bcdad9e9e9d01e",
       "version_major": 2,
       "version_minor": 0
      },
      "text/plain": [
       "Validation: |                                                                                                 …"
      ]
     },
     "metadata": {},
     "output_type": "display_data"
    },
    {
     "data": {
      "application/vnd.jupyter.widget-view+json": {
       "model_id": "4a5f03182dfa407cb0b4580e34fc059b",
       "version_major": 2,
       "version_minor": 0
      },
      "text/plain": [
       "Validation: |                                                                                                 …"
      ]
     },
     "metadata": {},
     "output_type": "display_data"
    },
    {
     "data": {
      "application/vnd.jupyter.widget-view+json": {
       "model_id": "2399613c845d4d9ab1666a659fee7dc8",
       "version_major": 2,
       "version_minor": 0
      },
      "text/plain": [
       "Validation: |                                                                                                 …"
      ]
     },
     "metadata": {},
     "output_type": "display_data"
    },
    {
     "data": {
      "application/vnd.jupyter.widget-view+json": {
       "model_id": "9b077c0f10ac4e9db946a14fb5375078",
       "version_major": 2,
       "version_minor": 0
      },
      "text/plain": [
       "Validation: |                                                                                                 …"
      ]
     },
     "metadata": {},
     "output_type": "display_data"
    },
    {
     "data": {
      "application/vnd.jupyter.widget-view+json": {
       "model_id": "69e7b8ba24844551a6f6fd0ac60ad315",
       "version_major": 2,
       "version_minor": 0
      },
      "text/plain": [
       "Validation: |                                                                                                 …"
      ]
     },
     "metadata": {},
     "output_type": "display_data"
    },
    {
     "data": {
      "application/vnd.jupyter.widget-view+json": {
       "model_id": "9e8859b069544d2daff6bc4d5d45bb84",
       "version_major": 2,
       "version_minor": 0
      },
      "text/plain": [
       "Validation: |                                                                                                 …"
      ]
     },
     "metadata": {},
     "output_type": "display_data"
    },
    {
     "data": {
      "application/vnd.jupyter.widget-view+json": {
       "model_id": "1619498774104fb7b5702642650e1675",
       "version_major": 2,
       "version_minor": 0
      },
      "text/plain": [
       "Validation: |                                                                                                 …"
      ]
     },
     "metadata": {},
     "output_type": "display_data"
    },
    {
     "data": {
      "application/vnd.jupyter.widget-view+json": {
       "model_id": "566d7414e1bc438eae3e62b3dcaf2644",
       "version_major": 2,
       "version_minor": 0
      },
      "text/plain": [
       "Validation: |                                                                                                 …"
      ]
     },
     "metadata": {},
     "output_type": "display_data"
    },
    {
     "data": {
      "application/vnd.jupyter.widget-view+json": {
       "model_id": "e819714165894580a341588d1a2e6acd",
       "version_major": 2,
       "version_minor": 0
      },
      "text/plain": [
       "Validation: |                                                                                                 …"
      ]
     },
     "metadata": {},
     "output_type": "display_data"
    },
    {
     "data": {
      "application/vnd.jupyter.widget-view+json": {
       "model_id": "d4f3bb4f4cc74c8288a3543105f5fbb1",
       "version_major": 2,
       "version_minor": 0
      },
      "text/plain": [
       "Validation: |                                                                                                 …"
      ]
     },
     "metadata": {},
     "output_type": "display_data"
    },
    {
     "data": {
      "application/vnd.jupyter.widget-view+json": {
       "model_id": "87ea5f5c6c704a1d901b91979ffa4596",
       "version_major": 2,
       "version_minor": 0
      },
      "text/plain": [
       "Validation: |                                                                                                 …"
      ]
     },
     "metadata": {},
     "output_type": "display_data"
    },
    {
     "data": {
      "application/vnd.jupyter.widget-view+json": {
       "model_id": "26f7efe48ceb4adfb91d5f3c018b7408",
       "version_major": 2,
       "version_minor": 0
      },
      "text/plain": [
       "Validation: |                                                                                                 …"
      ]
     },
     "metadata": {},
     "output_type": "display_data"
    },
    {
     "data": {
      "application/vnd.jupyter.widget-view+json": {
       "model_id": "57d418cb18e5465f8d599aac796a74b2",
       "version_major": 2,
       "version_minor": 0
      },
      "text/plain": [
       "Validation: |                                                                                                 …"
      ]
     },
     "metadata": {},
     "output_type": "display_data"
    },
    {
     "data": {
      "application/vnd.jupyter.widget-view+json": {
       "model_id": "912de1f338b74f1fbab980aa9a88a09a",
       "version_major": 2,
       "version_minor": 0
      },
      "text/plain": [
       "Validation: |                                                                                                 …"
      ]
     },
     "metadata": {},
     "output_type": "display_data"
    },
    {
     "data": {
      "application/vnd.jupyter.widget-view+json": {
       "model_id": "3c6b0f6ebbe144a4b6f406fd0efe07eb",
       "version_major": 2,
       "version_minor": 0
      },
      "text/plain": [
       "Validation: |                                                                                                 …"
      ]
     },
     "metadata": {},
     "output_type": "display_data"
    },
    {
     "data": {
      "application/vnd.jupyter.widget-view+json": {
       "model_id": "1b9e1729835c400991ec81e3d66402a0",
       "version_major": 2,
       "version_minor": 0
      },
      "text/plain": [
       "Validation: |                                                                                                 …"
      ]
     },
     "metadata": {},
     "output_type": "display_data"
    },
    {
     "data": {
      "application/vnd.jupyter.widget-view+json": {
       "model_id": "8d356dc146d444dead28c0172d6e5468",
       "version_major": 2,
       "version_minor": 0
      },
      "text/plain": [
       "Validation: |                                                                                                 …"
      ]
     },
     "metadata": {},
     "output_type": "display_data"
    },
    {
     "data": {
      "application/vnd.jupyter.widget-view+json": {
       "model_id": "ba715a0868264135add996f421556e2a",
       "version_major": 2,
       "version_minor": 0
      },
      "text/plain": [
       "Validation: |                                                                                                 …"
      ]
     },
     "metadata": {},
     "output_type": "display_data"
    },
    {
     "data": {
      "application/vnd.jupyter.widget-view+json": {
       "model_id": "ad1bb4f9a7364a3181815a98a94882a3",
       "version_major": 2,
       "version_minor": 0
      },
      "text/plain": [
       "Validation: |                                                                                                 …"
      ]
     },
     "metadata": {},
     "output_type": "display_data"
    },
    {
     "data": {
      "application/vnd.jupyter.widget-view+json": {
       "model_id": "96551512c29c4b0a830f284fa85cbfa7",
       "version_major": 2,
       "version_minor": 0
      },
      "text/plain": [
       "Validation: |                                                                                                 …"
      ]
     },
     "metadata": {},
     "output_type": "display_data"
    },
    {
     "data": {
      "application/vnd.jupyter.widget-view+json": {
       "model_id": "b0c931ac0e9e47e2bc00f97cf0d8a1cf",
       "version_major": 2,
       "version_minor": 0
      },
      "text/plain": [
       "Validation: |                                                                                                 …"
      ]
     },
     "metadata": {},
     "output_type": "display_data"
    },
    {
     "data": {
      "application/vnd.jupyter.widget-view+json": {
       "model_id": "012acaf970394868bea03de8e8eba275",
       "version_major": 2,
       "version_minor": 0
      },
      "text/plain": [
       "Validation: |                                                                                                 …"
      ]
     },
     "metadata": {},
     "output_type": "display_data"
    },
    {
     "data": {
      "application/vnd.jupyter.widget-view+json": {
       "model_id": "03c44910ee014d1faa96eee613b73d70",
       "version_major": 2,
       "version_minor": 0
      },
      "text/plain": [
       "Validation: |                                                                                                 …"
      ]
     },
     "metadata": {},
     "output_type": "display_data"
    },
    {
     "data": {
      "application/vnd.jupyter.widget-view+json": {
       "model_id": "6de0607e39254589aa04488500cff4d8",
       "version_major": 2,
       "version_minor": 0
      },
      "text/plain": [
       "Validation: |                                                                                                 …"
      ]
     },
     "metadata": {},
     "output_type": "display_data"
    },
    {
     "data": {
      "application/vnd.jupyter.widget-view+json": {
       "model_id": "e4901bc375fd4d2185d52dfede89a219",
       "version_major": 2,
       "version_minor": 0
      },
      "text/plain": [
       "Validation: |                                                                                                 …"
      ]
     },
     "metadata": {},
     "output_type": "display_data"
    },
    {
     "name": "stderr",
     "output_type": "stream",
     "text": [
      "`Trainer.fit` stopped: `max_epochs=100` reached.\n",
      "\u001b[32m2024-10-28 16:52:55.504\u001b[0m | \u001b[1mINFO    \u001b[0m | \u001b[36msrc.ranker.trainer\u001b[0m:\u001b[36mon_fit_end\u001b[0m:\u001b[36m168\u001b[0m - \u001b[1mLogging classification metrics...\u001b[0m\n",
      "\u001b[32m2024-10-28 16:53:14.829\u001b[0m | \u001b[1mINFO    \u001b[0m | \u001b[36m__main__\u001b[0m:\u001b[36m<module>\u001b[0m:\u001b[36m28\u001b[0m - \u001b[1mLogs available at /Users/dvq/frostmourne/recsys-mvp/notebooks/data/030-position-encoder-reduce-dim-to-16/logs/overfit/lightning_logs/version_0\u001b[0m\n"
     ]
    }
   ],
   "source": [
    "early_stopping = EarlyStopping(\n",
    "    monitor=\"val_loss\", patience=10, mode=\"min\", verbose=False\n",
    ")\n",
    "\n",
    "model = init_model(n_users, n_items, args.embedding_dim, args.item_sequence_ts_bucket_size, args.bucket_embedding_dim, item_feature_size, dropout=0)\n",
    "lit_model = LitRanker(\n",
    "    model,\n",
    "    learning_rate=args.learning_rate,\n",
    "    l2_reg=0.0,\n",
    "    log_dir=args.notebook_persist_dp,\n",
    ")\n",
    "\n",
    "log_dir = f\"{args.notebook_persist_dp}/logs/overfit\"\n",
    "\n",
    "# train model\n",
    "trainer = L.Trainer(\n",
    "    default_root_dir=log_dir,\n",
    "    accelerator=args.device if args.device else \"auto\",\n",
    "    max_epochs=100,\n",
    "    overfit_batches=1,\n",
    "    callbacks=[early_stopping],\n",
    ")\n",
    "trainer.fit(\n",
    "    model=lit_model,\n",
    "    train_dataloaders=train_loader,\n",
    "    val_dataloaders=train_loader,\n",
    ")\n",
    "logger.info(f\"Logs available at {trainer.log_dir}\")"
   ]
  },
  {
   "cell_type": "code",
   "execution_count": 27,
   "id": "b2cc9ae0-a993-4815-bebd-85cc51e68e65",
   "metadata": {},
   "outputs": [
    {
     "data": {
      "text/html": [
       "\n",
       "      <iframe id=\"tensorboard-frame-38b14dbc9fd91778\" width=\"100%\" height=\"800\" frameborder=\"0\">\n",
       "      </iframe>\n",
       "      <script>\n",
       "        (function() {\n",
       "          const frame = document.getElementById(\"tensorboard-frame-38b14dbc9fd91778\");\n",
       "          const url = new URL(\"/\", window.location);\n",
       "          const port = 6006;\n",
       "          if (port) {\n",
       "            url.port = port;\n",
       "          }\n",
       "          frame.src = url;\n",
       "        })();\n",
       "      </script>\n",
       "    "
      ],
      "text/plain": [
       "<IPython.core.display.HTML object>"
      ]
     },
     "metadata": {},
     "output_type": "display_data"
    }
   ],
   "source": [
    "%tensorboard --logdir $trainer.log_dir"
   ]
  },
  {
   "cell_type": "markdown",
   "id": "65c7e4af-5c66-454e-9e2c-2ca134f4e1cf",
   "metadata": {},
   "source": [
    "##### Fit on all data"
   ]
  },
  {
   "cell_type": "code",
   "execution_count": 28,
   "id": "65d821e0-3255-4947-b720-81a2f83a4911",
   "metadata": {},
   "outputs": [
    {
     "name": "stderr",
     "output_type": "stream",
     "text": [
      "\u001b[32m2024-10-28 16:53:16.143\u001b[0m | \u001b[1mINFO    \u001b[0m | \u001b[36m__main__\u001b[0m:\u001b[36m<module>\u001b[0m:\u001b[36m4\u001b[0m - \u001b[1mMean std over categorical and numerical features: 0.996731698513031\u001b[0m\n"
     ]
    },
    {
     "data": {
      "application/vnd.jupyter.widget-view+json": {
       "model_id": "dd5bdba0dad142d0a71f8e5413fd5b62",
       "version_major": 2,
       "version_minor": 0
      },
      "text/plain": [
       "  0%|          | 0/47 [00:00<?, ?it/s]"
      ]
     },
     "metadata": {},
     "output_type": "display_data"
    },
    {
     "name": "stderr",
     "output_type": "stream",
     "text": [
      "\u001b[32m2024-10-28 16:53:17.457\u001b[0m | \u001b[1mINFO    \u001b[0m | \u001b[36m__main__\u001b[0m:\u001b[36m<module>\u001b[0m:\u001b[36m9\u001b[0m - \u001b[1mMean std over text features: 0.015866756439208984\u001b[0m\n"
     ]
    }
   ],
   "source": [
    "all_items_df = train_df.drop_duplicates(subset=[\"item_indice\"])\n",
    "all_items_indices = all_items_df[\"item_indice\"].values\n",
    "all_items_features = item_metadata_pipeline.transform(all_items_df).astype(np.float32)\n",
    "logger.info(f\"Mean std over categorical and numerical features: {all_items_features.std(axis=0).mean()}\")\n",
    "if args.use_sbert_features:\n",
    "    all_sbert_vectors = ann_index.get_vector_by_ids(all_items_indices.tolist()).astype(\n",
    "        np.float32\n",
    "    )\n",
    "    logger.info(f\"Mean std over text features: {all_sbert_vectors.std(axis=0).mean()}\")\n",
    "    all_items_features = np.hstack([all_items_features, all_sbert_vectors])"
   ]
  },
  {
   "cell_type": "code",
   "execution_count": 29,
   "id": "6fef36c3-5263-4d91-8d7f-364d45c20719",
   "metadata": {
    "scrolled": true
   },
   "outputs": [
    {
     "name": "stderr",
     "output_type": "stream",
     "text": [
      "GPU available: True (mps), used: True\n",
      "TPU available: False, using: 0 TPU cores\n",
      "HPU available: False, using: 0 HPUs\n",
      "\n",
      "  | Name  | Type   | Params | Mode \n",
      "-----------------------------------------\n",
      "0 | model | Ranker | 3.4 M  | train\n",
      "-----------------------------------------\n",
      "3.4 M     Trainable params\n",
      "0         Non-trainable params\n",
      "3.4 M     Total params\n",
      "13.558    Total estimated model params size (MB)\n",
      "15        Modules in train mode\n",
      "0         Modules in eval mode\n"
     ]
    },
    {
     "data": {
      "application/vnd.jupyter.widget-view+json": {
       "model_id": "",
       "version_major": 2,
       "version_minor": 0
      },
      "text/plain": [
       "Sanity Checking: |                                                                                            …"
      ]
     },
     "metadata": {},
     "output_type": "display_data"
    },
    {
     "name": "stderr",
     "output_type": "stream",
     "text": [
      "/Users/dvq/frostmourne/recsys-mvp/.venv/lib/python3.11/site-packages/lightning/pytorch/trainer/connectors/data_connector.py:424: PossibleUserWarning:\n",
      "\n",
      "The 'val_dataloader' does not have many workers which may be a bottleneck. Consider increasing the value of the `num_workers` argument` to `num_workers=10` in the `DataLoader` to improve performance.\n",
      "\n",
      "/Users/dvq/frostmourne/recsys-mvp/.venv/lib/python3.11/site-packages/lightning/pytorch/trainer/connectors/data_connector.py:424: PossibleUserWarning:\n",
      "\n",
      "The 'train_dataloader' does not have many workers which may be a bottleneck. Consider increasing the value of the `num_workers` argument` to `num_workers=10` in the `DataLoader` to improve performance.\n",
      "\n"
     ]
    },
    {
     "data": {
      "application/vnd.jupyter.widget-view+json": {
       "model_id": "d2201fc2e8bc42588c0c5da4e3cf85ae",
       "version_major": 2,
       "version_minor": 0
      },
      "text/plain": [
       "Training: |                                                                                                   …"
      ]
     },
     "metadata": {},
     "output_type": "display_data"
    },
    {
     "data": {
      "application/vnd.jupyter.widget-view+json": {
       "model_id": "",
       "version_major": 2,
       "version_minor": 0
      },
      "text/plain": [
       "Validation: |                                                                                                 …"
      ]
     },
     "metadata": {},
     "output_type": "display_data"
    },
    {
     "data": {
      "application/vnd.jupyter.widget-view+json": {
       "model_id": "",
       "version_major": 2,
       "version_minor": 0
      },
      "text/plain": [
       "Validation: |                                                                                                 …"
      ]
     },
     "metadata": {},
     "output_type": "display_data"
    },
    {
     "data": {
      "application/vnd.jupyter.widget-view+json": {
       "model_id": "",
       "version_major": 2,
       "version_minor": 0
      },
      "text/plain": [
       "Validation: |                                                                                                 …"
      ]
     },
     "metadata": {},
     "output_type": "display_data"
    },
    {
     "data": {
      "application/vnd.jupyter.widget-view+json": {
       "model_id": "",
       "version_major": 2,
       "version_minor": 0
      },
      "text/plain": [
       "Validation: |                                                                                                 …"
      ]
     },
     "metadata": {},
     "output_type": "display_data"
    },
    {
     "data": {
      "application/vnd.jupyter.widget-view+json": {
       "model_id": "",
       "version_major": 2,
       "version_minor": 0
      },
      "text/plain": [
       "Validation: |                                                                                                 …"
      ]
     },
     "metadata": {},
     "output_type": "display_data"
    },
    {
     "data": {
      "application/vnd.jupyter.widget-view+json": {
       "model_id": "",
       "version_major": 2,
       "version_minor": 0
      },
      "text/plain": [
       "Validation: |                                                                                                 …"
      ]
     },
     "metadata": {},
     "output_type": "display_data"
    },
    {
     "data": {
      "application/vnd.jupyter.widget-view+json": {
       "model_id": "",
       "version_major": 2,
       "version_minor": 0
      },
      "text/plain": [
       "Validation: |                                                                                                 …"
      ]
     },
     "metadata": {},
     "output_type": "display_data"
    },
    {
     "data": {
      "application/vnd.jupyter.widget-view+json": {
       "model_id": "",
       "version_major": 2,
       "version_minor": 0
      },
      "text/plain": [
       "Validation: |                                                                                                 …"
      ]
     },
     "metadata": {},
     "output_type": "display_data"
    },
    {
     "data": {
      "application/vnd.jupyter.widget-view+json": {
       "model_id": "",
       "version_major": 2,
       "version_minor": 0
      },
      "text/plain": [
       "Validation: |                                                                                                 …"
      ]
     },
     "metadata": {},
     "output_type": "display_data"
    },
    {
     "data": {
      "application/vnd.jupyter.widget-view+json": {
       "model_id": "",
       "version_major": 2,
       "version_minor": 0
      },
      "text/plain": [
       "Validation: |                                                                                                 …"
      ]
     },
     "metadata": {},
     "output_type": "display_data"
    },
    {
     "data": {
      "application/vnd.jupyter.widget-view+json": {
       "model_id": "",
       "version_major": 2,
       "version_minor": 0
      },
      "text/plain": [
       "Validation: |                                                                                                 …"
      ]
     },
     "metadata": {},
     "output_type": "display_data"
    },
    {
     "data": {
      "application/vnd.jupyter.widget-view+json": {
       "model_id": "",
       "version_major": 2,
       "version_minor": 0
      },
      "text/plain": [
       "Validation: |                                                                                                 …"
      ]
     },
     "metadata": {},
     "output_type": "display_data"
    },
    {
     "data": {
      "application/vnd.jupyter.widget-view+json": {
       "model_id": "",
       "version_major": 2,
       "version_minor": 0
      },
      "text/plain": [
       "Validation: |                                                                                                 …"
      ]
     },
     "metadata": {},
     "output_type": "display_data"
    },
    {
     "data": {
      "application/vnd.jupyter.widget-view+json": {
       "model_id": "",
       "version_major": 2,
       "version_minor": 0
      },
      "text/plain": [
       "Validation: |                                                                                                 …"
      ]
     },
     "metadata": {},
     "output_type": "display_data"
    },
    {
     "name": "stderr",
     "output_type": "stream",
     "text": [
      "\u001b[32m2024-10-28 17:07:29.642\u001b[0m | \u001b[1mINFO    \u001b[0m | \u001b[36msrc.ranker.trainer\u001b[0m:\u001b[36mon_fit_end\u001b[0m:\u001b[36m162\u001b[0m - \u001b[1mLoading best model from /Users/dvq/frostmourne/recsys-mvp/notebooks/data/030-position-encoder-reduce-dim-to-16/checkpoints/best-checkpoint.ckpt...\u001b[0m\n",
      "\u001b[32m2024-10-28 17:07:29.856\u001b[0m | \u001b[1mINFO    \u001b[0m | \u001b[36msrc.ranker.trainer\u001b[0m:\u001b[36mon_fit_end\u001b[0m:\u001b[36m168\u001b[0m - \u001b[1mLogging classification metrics...\u001b[0m\n",
      "\u001b[32m2024-10-28 17:07:30.648\u001b[0m | \u001b[1mINFO    \u001b[0m | \u001b[36msrc.ranker.trainer\u001b[0m:\u001b[36mon_fit_end\u001b[0m:\u001b[36m171\u001b[0m - \u001b[1mLogging ranking metrics...\u001b[0m\n"
     ]
    },
    {
     "data": {
      "application/vnd.jupyter.widget-view+json": {
       "model_id": "e5e730080960476789b5e63fbae30635",
       "version_major": 2,
       "version_minor": 0
      },
      "text/plain": [
       "Generating recommendations:   0%|          | 0/177 [00:00<?, ?it/s]"
      ]
     },
     "metadata": {},
     "output_type": "display_data"
    },
    {
     "name": "stderr",
     "output_type": "stream",
     "text": [
      "2024/10/28 17:08:15 INFO mlflow.tracking._tracking_service.client: 🏃 View run 030-position-encoder-reduce-dim-to-16 at: http://localhost:5002/#/experiments/3/runs/96d66c957c874c6099e1bbe055436859.\n",
      "2024/10/28 17:08:15 INFO mlflow.tracking._tracking_service.client: 🧪 View experiment at: http://localhost:5002/#/experiments/3.\n"
     ]
    }
   ],
   "source": [
    "# papermill_description=fit-model\n",
    "early_stopping = EarlyStopping(\n",
    "    monitor=\"val_loss\", patience=args.early_stopping_patience, mode=\"min\", verbose=False\n",
    ")\n",
    "\n",
    "checkpoint_callback = ModelCheckpoint(\n",
    "    dirpath=f\"{args.notebook_persist_dp}/checkpoints\",\n",
    "    filename=\"best-checkpoint\",\n",
    "    save_top_k=1,\n",
    "    monitor=\"val_loss\",\n",
    "    mode=\"min\",\n",
    ")\n",
    "\n",
    "model = init_model(\n",
    "    n_users,\n",
    "    n_items,\n",
    "    args.embedding_dim,\n",
    "    args.item_sequence_ts_bucket_size,\n",
    "    args.bucket_embedding_dim,\n",
    "    item_feature_size,\n",
    "    dropout=args.dropout,\n",
    "    item_embedding=pretrained_item_embedding,\n",
    ")\n",
    "lit_model = LitRanker(\n",
    "    model,\n",
    "    learning_rate=args.learning_rate,\n",
    "    l2_reg=args.l2_reg,\n",
    "    log_dir=args.notebook_persist_dp,\n",
    "    evaluate_ranking=True,\n",
    "    idm=idm,\n",
    "    all_items_indices=all_items_indices,\n",
    "    all_items_features=all_items_features,\n",
    "    args=args,\n",
    "    neg_to_pos_ratio=args.neg_to_pos_ratio,\n",
    "    checkpoint_callback=checkpoint_callback,\n",
    ")\n",
    "\n",
    "log_dir = f\"{args.notebook_persist_dp}/logs/run\"\n",
    "\n",
    "# train model\n",
    "trainer = L.Trainer(\n",
    "    default_root_dir=log_dir,\n",
    "    max_epochs=args.max_epochs,\n",
    "    callbacks=[early_stopping, checkpoint_callback],\n",
    "    accelerator=args.device if args.device else \"auto\",\n",
    "    logger=args._mlf_logger if args.log_to_mlflow else None,\n",
    ")\n",
    "trainer.fit(\n",
    "    model=lit_model,\n",
    "    train_dataloaders=train_loader,\n",
    "    val_dataloaders=val_loader,\n",
    ")"
   ]
  },
  {
   "cell_type": "code",
   "execution_count": 30,
   "id": "af44bf35-e7c7-4718-97b8-238e89b7f3f0",
   "metadata": {
    "editable": true,
    "scrolled": true,
    "slideshow": {
     "slide_type": ""
    },
    "tags": []
   },
   "outputs": [
    {
     "name": "stderr",
     "output_type": "stream",
     "text": [
      "\u001b[32m2024-10-28 17:08:15.537\u001b[0m | \u001b[1mINFO    \u001b[0m | \u001b[36m__main__\u001b[0m:\u001b[36m<module>\u001b[0m:\u001b[36m1\u001b[0m - \u001b[1mTest predicting after training with user_id = AHGP7R23VTX7DAZ4DXY5SP7I4RTQ and parent_asin = B000ZK695U\u001b[0m\n"
     ]
    },
    {
     "data": {
      "text/plain": [
       "tensor([[0.4925]], grad_fn=<SigmoidBackward0>)"
      ]
     },
     "execution_count": 30,
     "metadata": {},
     "output_type": "execute_result"
    }
   ],
   "source": [
    "logger.info(\n",
    "    f\"Test predicting after training with {args.user_col} = {user_id} and {args.item_col} = {item_id}\"\n",
    ")\n",
    "model.eval()\n",
    "model.predict(user, item_sequence, item_sequence_ts_bucket, item_feature, item)\n",
    "model.train()"
   ]
  },
  {
   "cell_type": "markdown",
   "id": "f8e1dd22-bcb9-4582-96d0-30acc4e8b790",
   "metadata": {
    "editable": true,
    "slideshow": {
     "slide_type": ""
    },
    "tags": []
   },
   "source": [
    "# Load best checkpoint"
   ]
  },
  {
   "cell_type": "code",
   "execution_count": 31,
   "id": "092427a8-ac4e-4752-a0ee-10729b6e563c",
   "metadata": {
    "scrolled": true
   },
   "outputs": [
    {
     "name": "stderr",
     "output_type": "stream",
     "text": [
      "\u001b[32m2024-10-28 17:08:15.571\u001b[0m | \u001b[1mINFO    \u001b[0m | \u001b[36m__main__\u001b[0m:\u001b[36m<module>\u001b[0m:\u001b[36m1\u001b[0m - \u001b[1mLoading best checkpoint from /Users/dvq/frostmourne/recsys-mvp/notebooks/data/030-position-encoder-reduce-dim-to-16/checkpoints/best-checkpoint.ckpt...\u001b[0m\n"
     ]
    }
   ],
   "source": [
    "logger.info(f\"Loading best checkpoint from {checkpoint_callback.best_model_path}...\")\n",
    "args.best_checkpoint_path = checkpoint_callback.best_model_path\n",
    "\n",
    "best_trainer = LitRanker.load_from_checkpoint(\n",
    "    checkpoint_callback.best_model_path,\n",
    "    model=init_model(\n",
    "        n_users,\n",
    "        n_items,\n",
    "        args.embedding_dim,\n",
    "        args.item_sequence_ts_bucket_size,\n",
    "        args.bucket_embedding_dim, \n",
    "        item_feature_size,\n",
    "        dropout=0,\n",
    "        item_embedding=pretrained_item_embedding,\n",
    "    ),\n",
    ")"
   ]
  },
  {
   "cell_type": "code",
   "execution_count": 32,
   "id": "e68989e7-cd28-4cb3-9a28-5bd477bb67c4",
   "metadata": {},
   "outputs": [],
   "source": [
    "best_model = best_trainer.model.to(lit_model.device)"
   ]
  },
  {
   "cell_type": "code",
   "execution_count": 33,
   "id": "72062d94-6ee8-480f-b7c6-9dcae2ceeb8b",
   "metadata": {
    "scrolled": true
   },
   "outputs": [
    {
     "data": {
      "text/plain": [
       "tensor([[0.4925]], grad_fn=<SigmoidBackward0>)"
      ]
     },
     "execution_count": 33,
     "metadata": {},
     "output_type": "execute_result"
    }
   ],
   "source": [
    "best_model.eval()\n",
    "best_model.predict(user, item_sequence, item_sequence_ts_bucket, item_feature, item)\n",
    "best_model.train()"
   ]
  },
  {
   "cell_type": "markdown",
   "id": "26afc39d-5cbd-4ea4-9484-f6419b460bde",
   "metadata": {
    "scrolled": true
   },
   "source": [
    "### Persist id mapping"
   ]
  },
  {
   "cell_type": "code",
   "execution_count": 34,
   "id": "275bcb81-bf50-4757-9e63-5c7a317b276f",
   "metadata": {},
   "outputs": [],
   "source": [
    "if args.log_to_mlflow:\n",
    "    # Persist id_mapping so that at inference we can predict based on item_ids (string) instead of item_index\n",
    "    run_id = trainer.logger.run_id\n",
    "    mlf_client = trainer.logger.experiment\n",
    "    mlf_client.log_artifact(run_id, idm_fp)\n",
    "    # Persist item_feature_metadata pipeline\n",
    "    mlf_client.log_artifact(run_id, args.item_metadata_pipeline_fp)"
   ]
  },
  {
   "cell_type": "markdown",
   "id": "73a53735-cada-4b16-b6ec-b958e20d8093",
   "metadata": {},
   "source": [
    "### Wrap inference function and register best checkpoint as MLflow model"
   ]
  },
  {
   "cell_type": "code",
   "execution_count": 42,
   "id": "fc1da4ca-1616-4f57-99fb-cb851c535a57",
   "metadata": {},
   "outputs": [],
   "source": [
    "inferrer = RankerInferenceWrapper(best_model)"
   ]
  },
  {
   "cell_type": "code",
   "execution_count": 43,
   "id": "f91c26a5-d86e-4d3a-b3a2-87e6a5e88427",
   "metadata": {},
   "outputs": [],
   "source": [
    "def generate_sample_item_features():\n",
    "    sample_row = train_df.iloc[0].fillna(0)\n",
    "    output = dict()\n",
    "    for col in args.item_feature_cols:\n",
    "        v = sample_row[col]\n",
    "        if isinstance(v, np.ndarray):\n",
    "            v = '__'.join(sample_row[col].tolist())  # Workaround to avoid MLflow Got error: Per-column arrays must each be 1-dimensional\n",
    "        output[col] = [v]\n",
    "    return output"
   ]
  },
  {
   "cell_type": "code",
   "execution_count": 44,
   "id": "a21791a9-d5fc-4abe-bc3c-820aba9f0759",
   "metadata": {},
   "outputs": [
    {
     "data": {
      "text/plain": [
       "array([0.8772923], dtype=float32)"
      ]
     },
     "execution_count": 44,
     "metadata": {},
     "output_type": "execute_result"
    }
   ],
   "source": [
    "sample_input = {\n",
    "    args.user_col: [idm.get_user_id(0)],\n",
    "    \"item_sequence\": [\",\".join([idm.get_item_id(0), idm.get_item_id(1)])],\n",
    "    \"item_sequence_ts\": [\"1095133116,109770848\"],  # Here we input unix timestamp seconds instead of timestamp bucket because we need to calculate the bucket\n",
    "    # **{col: [train_df.iloc[0].fillna(0)[col]] for col in args.item_feature_cols},\n",
    "    **generate_sample_item_features(),\n",
    "    args.item_col: [idm.get_item_id(0)],\n",
    "}\n",
    "sample_output = inferrer.infer([0], [[0, 1]], [[2, 0]], [train_item_features[0]], [0])\n",
    "sample_output"
   ]
  },
  {
   "cell_type": "code",
   "execution_count": 45,
   "id": "b24b5cf4-5e51-4641-bdfe-6ce289344bf6",
   "metadata": {},
   "outputs": [
    {
     "data": {
      "text/plain": [
       "{'user_id': ['AE225O22SA7DLBOGOEIFL7FT5VYQ'],\n",
       " 'item_sequence': ['0375869026,9625990674'],\n",
       " 'item_sequence_ts': ['1095133116,109770848'],\n",
       " 'main_category': ['Video Games'],\n",
       " 'categories': ['Video Games__Legacy Systems__PlayStation Systems__PlayStation 3__Accessories__Controllers'],\n",
       " 'price': ['49.99'],\n",
       " 'parent_asin_rating_cnt_365d': [76.0],\n",
       " 'parent_asin_rating_avg_prev_rating_365d': [4.592105263157895],\n",
       " 'parent_asin_rating_cnt_90d': [10.0],\n",
       " 'parent_asin_rating_avg_prev_rating_90d': [4.3],\n",
       " 'parent_asin_rating_cnt_30d': [3.0],\n",
       " 'parent_asin_rating_avg_prev_rating_30d': [5.0],\n",
       " 'parent_asin_rating_cnt_7d': [1.0],\n",
       " 'parent_asin_rating_avg_prev_rating_7d': [5.0],\n",
       " 'parent_asin': ['0375869026']}"
      ]
     },
     "execution_count": 45,
     "metadata": {},
     "output_type": "execute_result"
    }
   ],
   "source": [
    "sample_input"
   ]
  },
  {
   "cell_type": "code",
   "execution_count": 46,
   "id": "de2c043a-f777-4ade-ab80-cfa4d90aafa8",
   "metadata": {
    "scrolled": true
   },
   "outputs": [
    {
     "name": "stderr",
     "output_type": "stream",
     "text": [
      "/Users/dvq/frostmourne/recsys-mvp/.venv/lib/python3.11/site-packages/mlflow/models/utils.py:523: FutureWarning:\n",
      "\n",
      "Since MLflow 2.16.0, we no longer convert dictionary input example to pandas Dataframe, and directly save it as a json object. If the model expects a pandas DataFrame input instead, please pass the pandas DataFrame as input example directly.\n",
      "\n"
     ]
    },
    {
     "data": {
      "application/vnd.jupyter.widget-view+json": {
       "model_id": "0e5ad7165c184011ba2697e344f3fed9",
       "version_major": 2,
       "version_minor": 0
      },
      "text/plain": [
       "Downloading artifacts:   0%|          | 0/1 [00:00<?, ?it/s]"
      ]
     },
     "metadata": {},
     "output_type": "display_data"
    },
    {
     "data": {
      "application/vnd.jupyter.widget-view+json": {
       "model_id": "904887357f2041fe9cc0d100a31c7fa8",
       "version_major": 2,
       "version_minor": 0
      },
      "text/plain": [
       "Downloading artifacts:   0%|          | 0/1 [00:00<?, ?it/s]"
      ]
     },
     "metadata": {},
     "output_type": "display_data"
    },
    {
     "name": "stderr",
     "output_type": "stream",
     "text": [
      "Registered model 'ranker' already exists. Creating a new version of this model...\n",
      "2024/10/28 17:38:14 INFO mlflow.store.model_registry.abstract_store: Waiting up to 300 seconds for model version to finish creation. Model name: ranker, version 39\n",
      "Created version '39' of model 'ranker'.\n"
     ]
    },
    {
     "data": {
      "application/vnd.jupyter.widget-view+json": {
       "model_id": "964f46e8f41e48f7814abff26d768c2e",
       "version_major": 2,
       "version_minor": 0
      },
      "text/plain": [
       "Downloading artifacts:   0%|          | 0/9 [00:00<?, ?it/s]"
      ]
     },
     "metadata": {},
     "output_type": "display_data"
    },
    {
     "data": {
      "application/vnd.jupyter.widget-view+json": {
       "model_id": "e3d1b09590a4437f96b5cd524b65fcf9",
       "version_major": 2,
       "version_minor": 0
      },
      "text/plain": [
       "  0%|          | 0/1 [00:00<?, ?it/s]"
      ]
     },
     "metadata": {},
     "output_type": "display_data"
    },
    {
     "name": "stderr",
     "output_type": "stream",
     "text": [
      "2024/10/28 17:38:15 INFO mlflow.tracking._tracking_service.client: 🏃 View run 030-position-encoder-reduce-dim-to-16 at: http://localhost:5002/#/experiments/3/runs/96d66c957c874c6099e1bbe055436859.\n",
      "2024/10/28 17:38:15 INFO mlflow.tracking._tracking_service.client: 🧪 View experiment at: http://localhost:5002/#/experiments/3.\n"
     ]
    }
   ],
   "source": [
    "if args.log_to_mlflow:\n",
    "    run_id = trainer.logger.run_id\n",
    "    sample_output_np = sample_output\n",
    "    signature = infer_signature(sample_input, sample_output_np)\n",
    "    idm_filename = idm_fp.split(\"/\")[-1]\n",
    "    item_metadata_pipeline_filename = args.item_metadata_pipeline_fp.split(\"/\")[-1]\n",
    "    with mlflow.start_run(run_id=run_id):\n",
    "        mlflow.pyfunc.log_model(\n",
    "            python_model=inferrer,\n",
    "            artifact_path=\"inferrer\",\n",
    "            artifacts={\n",
    "                # We log the id_mapping to the predict function so that it can accept item_id and automatically convert ot item_indice for PyTorch model to use\n",
    "                \"idm\": mlflow.get_artifact_uri(idm_filename),\n",
    "                \"item_metadata_pipeline\": mlflow.get_artifact_uri(\n",
    "                    item_metadata_pipeline_filename\n",
    "                ),\n",
    "            },\n",
    "            model_config={\"use_sbert_features\": args.use_sbert_features},\n",
    "            metadata={\"use_sbert_features\": args.use_sbert_features},\n",
    "            signature=signature,\n",
    "            input_example=sample_input,\n",
    "            registered_model_name=args.mlf_model_name,\n",
    "        )"
   ]
  },
  {
   "cell_type": "markdown",
   "id": "f95d5150-9851-4e61-b1af-8e619abc9ea4",
   "metadata": {},
   "source": [
    "# Set the newly trained model as champion"
   ]
  },
  {
   "cell_type": "code",
   "execution_count": 47,
   "id": "cbf6428a-bc47-400a-99ac-666abfa4ce63",
   "metadata": {},
   "outputs": [
    {
     "name": "stderr",
     "output_type": "stream",
     "text": [
      "\u001b[32m2024-10-28 17:38:21.370\u001b[0m | \u001b[1mINFO    \u001b[0m | \u001b[36m__main__\u001b[0m:\u001b[36m<module>\u001b[0m:\u001b[36m7\u001b[0m - \u001b[1mAliasing the new model as champion...\u001b[0m\n"
     ]
    }
   ],
   "source": [
    "if args.log_to_mlflow:\n",
    "    val_roc_auc = trainer.logger.experiment.get_run(trainer.logger.run_id).data.metrics[\n",
    "        \"val_roc_auc\"\n",
    "    ]\n",
    "\n",
    "    if val_roc_auc > args.min_roc_auc:\n",
    "        logger.info(f\"Aliasing the new model as champion...\")\n",
    "        model_version = (\n",
    "            mlf_client.get_registered_model(args.mlf_model_name)\n",
    "            .latest_versions[0]\n",
    "            .version\n",
    "        )\n",
    "\n",
    "        mlf_client.set_registered_model_alias(\n",
    "            name=args.mlf_model_name, alias=\"champion\", version=model_version\n",
    "        )\n",
    "\n",
    "        mlf_client.set_model_version_tag(\n",
    "            name=args.mlf_model_name,\n",
    "            version=model_version,\n",
    "            key=\"author\",\n",
    "            value=\"quy.dinh\",\n",
    "        )"
   ]
  },
  {
   "cell_type": "markdown",
   "id": "32096360-c26a-42de-9564-30634fb76eeb",
   "metadata": {},
   "source": [
    "# Clean up"
   ]
  },
  {
   "cell_type": "code",
   "execution_count": 48,
   "id": "e98c6850-e4de-43fa-b132-0b97f138a0ed",
   "metadata": {
    "scrolled": true
   },
   "outputs": [
    {
     "name": "stderr",
     "output_type": "stream",
     "text": [
      "2024/10/28 17:38:21 INFO mlflow.tracking._tracking_service.client: 🏃 View run 030-position-encoder-reduce-dim-to-16 at: http://localhost:5002/#/experiments/3/runs/96d66c957c874c6099e1bbe055436859.\n",
      "2024/10/28 17:38:21 INFO mlflow.tracking._tracking_service.client: 🧪 View experiment at: http://localhost:5002/#/experiments/3.\n"
     ]
    }
   ],
   "source": [
    "all_params = [args]\n",
    "\n",
    "if args.log_to_mlflow:\n",
    "    with mlflow.start_run(run_id=run_id):\n",
    "        for params in all_params:\n",
    "            params_dict = params.dict()\n",
    "            params_ = dict()\n",
    "            for k, v in params_dict.items():\n",
    "                if k == \"top_K\":\n",
    "                    k = \"top_big_K\"\n",
    "                if k == \"top_k\":\n",
    "                    k = \"top_small_k\"\n",
    "                params_[f\"{params.__repr_name__()}.{k}\"] = v\n",
    "            mlflow.log_params(params_)"
   ]
  },
  {
   "cell_type": "code",
   "execution_count": null,
   "id": "30cff81a-484e-4919-be8f-0351cce91a75",
   "metadata": {},
   "outputs": [],
   "source": []
  }
 ],
 "metadata": {
  "kernelspec": {
   "display_name": "Python 3 (ipykernel)",
   "language": "python",
   "name": "python3"
  },
  "language_info": {
   "codemirror_mode": {
    "name": "ipython",
    "version": 3
   },
   "file_extension": ".py",
   "mimetype": "text/x-python",
   "name": "python",
   "nbconvert_exporter": "python",
   "pygments_lexer": "ipython3",
   "version": "3.11.9"
  }
 },
 "nbformat": 4,
 "nbformat_minor": 5
}
