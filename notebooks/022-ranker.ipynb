{
 "cells": [
  {
   "cell_type": "markdown",
   "id": "3bf1577c-6f3b-4b1c-a848-8f5e45ff8111",
   "metadata": {},
   "source": [
    "# Ranker that can takes into accound different features"
   ]
  },
  {
   "cell_type": "markdown",
   "id": "9309e017-0449-46ee-b7ca-4c4bcadeedf6",
   "metadata": {},
   "source": [
    "# Set up"
   ]
  },
  {
   "cell_type": "code",
   "execution_count": 1,
   "id": "3c8f6e8d-f776-4d39-898c-d783c5ae3407",
   "metadata": {},
   "outputs": [],
   "source": [
    "%load_ext autoreload\n",
    "%autoreload 2\n",
    "%load_ext tensorboard"
   ]
  },
  {
   "cell_type": "code",
   "execution_count": 2,
   "id": "35b3499d-dc9c-405a-8714-a26341b581e1",
   "metadata": {
    "editable": true,
    "slideshow": {
     "slide_type": ""
    },
    "tags": []
   },
   "outputs": [],
   "source": [
    "import os\n",
    "import sys\n",
    "from typing import List\n",
    "\n",
    "import dill\n",
    "import lightning as L\n",
    "import numpy as np\n",
    "import pandas as pd\n",
    "import torch\n",
    "from dotenv import load_dotenv\n",
    "from lightning.pytorch.callbacks import ModelCheckpoint\n",
    "from lightning.pytorch.callbacks.early_stopping import EarlyStopping\n",
    "from lightning.pytorch.loggers import MLFlowLogger\n",
    "from loguru import logger\n",
    "from mlflow.models.signature import infer_signature\n",
    "from pydantic import BaseModel\n",
    "from torch.utils.data import DataLoader\n",
    "\n",
    "import mlflow\n",
    "\n",
    "load_dotenv()\n",
    "\n",
    "sys.path.insert(0, \"..\")\n",
    "\n",
    "from src.ann import AnnIndex\n",
    "from src.data_prep_utils import chunk_transform\n",
    "from src.dataset import UserItemBinaryDFDataset\n",
    "from src.id_mapper import IDMapper\n",
    "from src.ranker.inference import RankerInferenceWrapper\n",
    "from src.ranker.model import Ranker\n",
    "from src.ranker.trainer import LitRanker\n",
    "from src.viz import blueq_colors"
   ]
  },
  {
   "cell_type": "markdown",
   "id": "fd804021-3424-48e0-973a-e662a72db544",
   "metadata": {},
   "source": [
    "# Controller"
   ]
  },
  {
   "cell_type": "code",
   "execution_count": 3,
   "id": "ce522d9e-f35c-4cc5-a71e-68447956b31f",
   "metadata": {
    "editable": true,
    "slideshow": {
     "slide_type": ""
    },
    "tags": [
     "parameters"
    ]
   },
   "outputs": [],
   "source": [
    "max_epochs = 100"
   ]
  },
  {
   "cell_type": "code",
   "execution_count": 4,
   "id": "ea4e9a93-5b6a-4dec-97f0-b9aa3383c64d",
   "metadata": {
    "scrolled": true
   },
   "outputs": [
    {
     "name": "stderr",
     "output_type": "stream",
     "text": [
      "\u001b[32m2024-10-28 11:39:29.221\u001b[0m | \u001b[1mINFO    \u001b[0m | \u001b[36m__main__\u001b[0m:\u001b[36minit\u001b[0m:\u001b[36m72\u001b[0m - \u001b[1mSetting up MLflow experiment RecSys MVP - Ranker - run 027-refit-with-features-and-title...\u001b[0m\n"
     ]
    },
    {
     "name": "stdout",
     "output_type": "stream",
     "text": [
      "{\n",
      "  \"testing\": false,\n",
      "  \"log_to_mlflow\": true,\n",
      "  \"experiment_name\": \"RecSys MVP - Ranker\",\n",
      "  \"run_name\": \"027-refit-with-features-and-title\",\n",
      "  \"notebook_persist_dp\": \"/Users/dvq/frostmourne/recsys-mvp/notebooks/data/027-refit-with-features-and-title\",\n",
      "  \"random_seed\": 41,\n",
      "  \"device\": null,\n",
      "  \"use_sbert_features\": true,\n",
      "  \"item_metadata_pipeline_fp\": \"../data/item_metadata_pipeline.dill\",\n",
      "  \"qdrant_url\": \"localhost:6333\",\n",
      "  \"qdrant_collection_name\": \"item_desc_sbert\",\n",
      "  \"max_epochs\": 100,\n",
      "  \"batch_size\": 128,\n",
      "  \"tfm_chunk_size\": 10000,\n",
      "  \"neg_to_pos_ratio\": 1,\n",
      "  \"user_col\": \"user_id\",\n",
      "  \"item_col\": \"parent_asin\",\n",
      "  \"rating_col\": \"rating\",\n",
      "  \"timestamp_col\": \"timestamp\",\n",
      "  \"item_feature_cols\": [\n",
      "    \"main_category\",\n",
      "    \"categories\",\n",
      "    \"price\",\n",
      "    \"parent_asin_rating_cnt_365d\",\n",
      "    \"parent_asin_rating_avg_prev_rating_365d\",\n",
      "    \"parent_asin_rating_cnt_90d\",\n",
      "    \"parent_asin_rating_avg_prev_rating_90d\",\n",
      "    \"parent_asin_rating_cnt_30d\",\n",
      "    \"parent_asin_rating_avg_prev_rating_30d\",\n",
      "    \"parent_asin_rating_cnt_7d\",\n",
      "    \"parent_asin_rating_avg_prev_rating_7d\"\n",
      "  ],\n",
      "  \"top_K\": 100,\n",
      "  \"top_k\": 10,\n",
      "  \"embedding_dim\": 128,\n",
      "  \"dropout\": 0.3,\n",
      "  \"early_stopping_patience\": 5,\n",
      "  \"learning_rate\": 0.0003,\n",
      "  \"l2_reg\": 0.0001,\n",
      "  \"mlf_item2vec_model_name\": \"item2vec\",\n",
      "  \"mlf_model_name\": \"ranker\",\n",
      "  \"min_roc_auc\": 0.7,\n",
      "  \"best_checkpoint_path\": null\n",
      "}\n"
     ]
    }
   ],
   "source": [
    "class Args(BaseModel):\n",
    "    testing: bool = False\n",
    "    log_to_mlflow: bool = True\n",
    "    experiment_name: str = \"RecSys MVP - Ranker\"\n",
    "    run_name: str = \"027-refit-with-features-and-title\"\n",
    "    notebook_persist_dp: str = None\n",
    "    random_seed: int = 41\n",
    "    device: str = None\n",
    "\n",
    "    # Feature flagS\n",
    "    use_sbert_features: bool = True\n",
    "\n",
    "    item_metadata_pipeline_fp: str = \"../data/item_metadata_pipeline.dill\"\n",
    "    qdrant_url: str = None\n",
    "    qdrant_collection_name: str = \"item_desc_sbert\"\n",
    "\n",
    "    max_epochs: int = max_epochs\n",
    "    batch_size: int = 128\n",
    "    tfm_chunk_size: int = 10000\n",
    "    neg_to_pos_ratio: int = 1\n",
    "\n",
    "    user_col: str = \"user_id\"\n",
    "    item_col: str = \"parent_asin\"\n",
    "    rating_col: str = \"rating\"\n",
    "    timestamp_col: str = \"timestamp\"\n",
    "    item_feature_cols: List[str] = [\n",
    "        \"main_category\",\n",
    "        \"categories\",\n",
    "        \"price\",\n",
    "        \"parent_asin_rating_cnt_365d\",\n",
    "        \"parent_asin_rating_avg_prev_rating_365d\",\n",
    "        \"parent_asin_rating_cnt_90d\",\n",
    "        \"parent_asin_rating_avg_prev_rating_90d\",\n",
    "        \"parent_asin_rating_cnt_30d\",\n",
    "        \"parent_asin_rating_avg_prev_rating_30d\",\n",
    "        \"parent_asin_rating_cnt_7d\",\n",
    "        \"parent_asin_rating_avg_prev_rating_7d\",\n",
    "    ]\n",
    "\n",
    "    top_K: int = 100\n",
    "    top_k: int = 10\n",
    "\n",
    "    embedding_dim: int = 128\n",
    "    dropout: float = 0.3\n",
    "    early_stopping_patience: int = 5\n",
    "    learning_rate: float = 0.0003\n",
    "    l2_reg: float = 1e-4\n",
    "\n",
    "    mlf_item2vec_model_name: str = \"item2vec\"\n",
    "    mlf_model_name: str = \"ranker\"\n",
    "    min_roc_auc: float = 0.7\n",
    "\n",
    "    best_checkpoint_path: str = None\n",
    "\n",
    "    def init(self):\n",
    "        self.notebook_persist_dp = os.path.abspath(f\"data/{self.run_name}\")\n",
    "        os.makedirs(self.notebook_persist_dp, exist_ok=True)\n",
    "\n",
    "        if not (qdrant_host := os.getenv(\"QDRANT_HOST\")):\n",
    "            raise Exception(f\"Environment variable QDRANT_HOST is not set.\")\n",
    "\n",
    "        qdrant_port = os.getenv(\"QDRANT_PORT\")\n",
    "        self.qdrant_url = f\"{qdrant_host}:{qdrant_port}\"\n",
    "\n",
    "        if not (mlflow_uri := os.environ.get(\"MLFLOW_TRACKING_URI\")):\n",
    "            logger.warning(\n",
    "                f\"Environment variable MLFLOW_TRACKING_URI is not set. Setting self.log_to_mlflow to false.\"\n",
    "            )\n",
    "            self.log_to_mlflow = False\n",
    "\n",
    "        if self.log_to_mlflow:\n",
    "            logger.info(\n",
    "                f\"Setting up MLflow experiment {self.experiment_name} - run {self.run_name}...\"\n",
    "            )\n",
    "            self._mlf_logger = MLFlowLogger(\n",
    "                experiment_name=self.experiment_name,\n",
    "                run_name=self.run_name,\n",
    "                tracking_uri=mlflow_uri,\n",
    "                log_model=True,\n",
    "            )\n",
    "\n",
    "        return self\n",
    "\n",
    "\n",
    "args = Args().init()\n",
    "\n",
    "print(args.model_dump_json(indent=2))"
   ]
  },
  {
   "cell_type": "markdown",
   "id": "a5acedcb-89e6-41c6-8969-bf3437fc7898",
   "metadata": {},
   "source": [
    "# Implement"
   ]
  },
  {
   "cell_type": "code",
   "execution_count": 5,
   "id": "5a34cb5b-c7db-4b95-952b-5f4cb2e1a04d",
   "metadata": {},
   "outputs": [],
   "source": [
    "def init_model(\n",
    "    n_users, n_items, embedding_dim, item_feature_size, dropout, item_embedding=None\n",
    "):\n",
    "    model = Ranker(\n",
    "        n_users,\n",
    "        n_items,\n",
    "        embedding_dim,\n",
    "        item_feature_size=item_feature_size,\n",
    "        dropout=dropout,\n",
    "        item_embedding=item_embedding,\n",
    "    )\n",
    "    return model"
   ]
  },
  {
   "cell_type": "markdown",
   "id": "c49b92fb-3b4c-482f-a584-62288873d8c3",
   "metadata": {},
   "source": [
    "## Load pretrained Item2Vec embeddings"
   ]
  },
  {
   "cell_type": "code",
   "execution_count": 6,
   "id": "35cfc84a-75bb-4973-b619-194cc8698ee2",
   "metadata": {
    "scrolled": true
   },
   "outputs": [
    {
     "data": {
      "application/vnd.jupyter.widget-view+json": {
       "model_id": "e8260cfb762c41afa8a713448a564932",
       "version_major": 2,
       "version_minor": 0
      },
      "text/plain": [
       "Downloading artifacts:   0%|          | 0/8 [00:00<?, ?it/s]"
      ]
     },
     "metadata": {},
     "output_type": "display_data"
    }
   ],
   "source": [
    "mlf_client = mlflow.MlflowClient()\n",
    "model = mlflow.pyfunc.load_model(\n",
    "    model_uri=f\"models:/{args.mlf_item2vec_model_name}@champion\"\n",
    ")\n",
    "skipgram_model = model.unwrap_python_model().model\n",
    "embedding_0 = skipgram_model.embeddings(torch.tensor(0))\n",
    "embedding_dim = embedding_0.size()[0]\n",
    "id_mapping = model.unwrap_python_model().id_mapping\n",
    "pretrained_item_embedding = skipgram_model.embeddings"
   ]
  },
  {
   "cell_type": "code",
   "execution_count": 7,
   "id": "f3baa82d-859d-4414-8e19-4c7d92750fa3",
   "metadata": {},
   "outputs": [],
   "source": [
    "assert (\n",
    "    pretrained_item_embedding.embedding_dim == args.embedding_dim\n",
    "), \"Mismatch pretrained item_embedding dimension\""
   ]
  },
  {
   "cell_type": "markdown",
   "id": "a43bc0b9-9d56-4cb2-b821-61dd9b9858b1",
   "metadata": {},
   "source": [
    "## Load vectorized item features"
   ]
  },
  {
   "cell_type": "code",
   "execution_count": 8,
   "id": "8ff750e3-fa06-42b4-a5c3-9b93d3c2b536",
   "metadata": {},
   "outputs": [],
   "source": [
    "with open(args.item_metadata_pipeline_fp, \"rb\") as f:\n",
    "    item_metadata_pipeline = dill.load(f)"
   ]
  },
  {
   "cell_type": "markdown",
   "id": "58607871-619d-46a0-9f7d-405e8f500462",
   "metadata": {},
   "source": [
    "## Load ANN Index"
   ]
  },
  {
   "cell_type": "code",
   "execution_count": 9,
   "id": "6e3a82c4-247e-4402-a87b-198c698be866",
   "metadata": {},
   "outputs": [],
   "source": [
    "ann_index = AnnIndex(args.qdrant_url, args.qdrant_collection_name)"
   ]
  },
  {
   "cell_type": "code",
   "execution_count": 10,
   "id": "e1da3414-17d8-4ee9-9c33-93f8c2a0d478",
   "metadata": {},
   "outputs": [
    {
     "data": {
      "application/vnd.jupyter.widget-view+json": {
       "model_id": "c53d4a9a6d394f59b493a7aa89ccf70f",
       "version_major": 2,
       "version_minor": 0
      },
      "text/plain": [
       "  0%|          | 0/1 [00:00<?, ?it/s]"
      ]
     },
     "metadata": {},
     "output_type": "display_data"
    }
   ],
   "source": [
    "vector = ann_index.get_vector_by_ids([0])[0]\n",
    "embedding_dim = vector.shape[0]"
   ]
  },
  {
   "cell_type": "code",
   "execution_count": 11,
   "id": "830d8094-ca35-4662-88b8-ee9a9aa7530a",
   "metadata": {
    "scrolled": true
   },
   "outputs": [
    {
     "data": {
      "application/vnd.jupyter.widget-view+json": {
       "model_id": "3344674780124e2db4be06fbd194ce7b",
       "version_major": 2,
       "version_minor": 0
      },
      "text/plain": [
       "  0%|          | 0/1 [00:00<?, ?it/s]"
      ]
     },
     "metadata": {},
     "output_type": "display_data"
    },
    {
     "data": {
      "text/plain": [
       "[ScoredPoint(id=0, version=0, score=0.0, payload={'parent_asin': '0375869026', 'title': 'Wonder'}, vector=None, shard_key=None, order_value=None),\n",
       " ScoredPoint(id=1916, version=59, score=0.3048898, payload={'parent_asin': 'B005GFPZYK', 'title': 'American Sniper: The Autobiography of the Most Lethal Sniper in U.S. Military History'}, vector=None, shard_key=None, order_value=None),\n",
       " ScoredPoint(id=166, version=5, score=0.35464486, payload={'parent_asin': 'B00005OARM', 'title': 'Golden Sun'}, vector=None, shard_key=None, order_value=None),\n",
       " ScoredPoint(id=3845, version=120, score=0.3593233, payload={'parent_asin': 'B0794W1LWG', 'title': 'Life is Strange: Before The Storm Limited Edition - Xbox One'}, vector=None, shard_key=None, order_value=None),\n",
       " ScoredPoint(id=3896, version=121, score=0.3675484, payload={'parent_asin': 'B07CD6F5PX', 'title': 'Dragon Quest Xi: Echoes of An Elusive Age - PlayStation 4'}, vector=None, shard_key=None, order_value=None)]"
      ]
     },
     "execution_count": 11,
     "metadata": {},
     "output_type": "execute_result"
    }
   ],
   "source": [
    "sbert_embedding_dim = vector.shape[0]\n",
    "neighbors = ann_index.get_neighbors_by_ids([0])\n",
    "neighbors"
   ]
  },
  {
   "cell_type": "markdown",
   "id": "377a71da-1ee3-474c-b3f4-4488d2a45dd3",
   "metadata": {},
   "source": [
    "# Test implementation"
   ]
  },
  {
   "cell_type": "code",
   "execution_count": 12,
   "id": "2806284e-20cd-4e8f-a1b9-34483ca094a2",
   "metadata": {
    "scrolled": true
   },
   "outputs": [
    {
     "data": {
      "application/vnd.jupyter.widget-view+json": {
       "model_id": "f11f83a853f8476bb88c1ea6983cc38d",
       "version_major": 2,
       "version_minor": 0
      },
      "text/plain": [
       "  0%|          | 0/1 [00:00<?, ?it/s]"
      ]
     },
     "metadata": {},
     "output_type": "display_data"
    },
    {
     "name": "stdout",
     "output_type": "stream",
     "text": [
      "tensor([[0.4601],\n",
      "        [0.4034],\n",
      "        [0.5219],\n",
      "        [0.5240],\n",
      "        [0.4168]], grad_fn=<SigmoidBackward0>)\n"
     ]
    }
   ],
   "source": [
    "embedding_dim = 8\n",
    "batch_size = 2\n",
    "\n",
    "# Mock data\n",
    "user_indices = [0, 0, 1, 2, 2]\n",
    "item_indices = [0, 1, 2, 3, 4]\n",
    "timestamps = [0, 1, 2, 3, 4]\n",
    "ratings = [0, 4, 5, 3, 0]\n",
    "item_sequences = [\n",
    "    [-1, -1, 2, 3],\n",
    "    [-1, -1, 2, 3],\n",
    "    [-1, -1, 1, 3],\n",
    "    [-1, -1, 2, 1],\n",
    "    [-1, -1, 2, 1],\n",
    "]\n",
    "main_category = [\n",
    "    \"All Electronics\",\n",
    "    \"Video Games\",\n",
    "    \"All Electronics\",\n",
    "    \"Video Games\",\n",
    "    \"Unknown\",\n",
    "]\n",
    "categories = [[], [\"Headsets\"], [\"Video Games\"], [], [\"blah blah\"]]\n",
    "title = [\"World of Warcraft\", \"DotA 2\", \"Diablo IV\", \"Football Manager 2024\", \"Unknown\"]\n",
    "description = [[], [], [\"Video games blah blah\"], [], [\"blah blah\"]]\n",
    "price = [\"from 14.99\", \"14.99\", \"price: 9.99\", \"20 dollars\", \"None\"]\n",
    "parent_asin_rating_cnt_365d = [0, 1, 2, 3, 4]\n",
    "parent_asin_rating_avg_prev_rating_365d = [4.0, 3.5, 4.5, 5.0, 2.0]\n",
    "parent_asin_rating_cnt_90d = [0, 1, 2, 3, 4]\n",
    "parent_asin_rating_avg_prev_rating_90d = [4.0, 3.5, 4.5, 5.0, 2.0]\n",
    "parent_asin_rating_cnt_30d = [0, 1, 2, 3, 4]\n",
    "parent_asin_rating_avg_prev_rating_30d = [4.0, 3.5, 4.5, 5.0, 2.0]\n",
    "parent_asin_rating_cnt_7d = [0, 1, 2, 3, 4]\n",
    "parent_asin_rating_avg_prev_rating_7d = [4.0, 3.5, 4.5, 5.0, 2.0]\n",
    "\n",
    "train_df = pd.DataFrame(\n",
    "    {\n",
    "        \"user_indice\": user_indices,\n",
    "        \"item_indice\": item_indices,\n",
    "        args.timestamp_col: timestamps,\n",
    "        args.rating_col: ratings,\n",
    "        \"item_sequence\": item_sequences,\n",
    "        \"main_category\": main_category,\n",
    "        \"title\": title,\n",
    "        \"description\": description,\n",
    "        \"categories\": categories,\n",
    "        \"price\": price,\n",
    "        \"parent_asin_rating_cnt_365d\": parent_asin_rating_cnt_365d,\n",
    "        \"parent_asin_rating_avg_prev_rating_365d\": parent_asin_rating_avg_prev_rating_365d,\n",
    "        \"parent_asin_rating_cnt_90d\": parent_asin_rating_cnt_90d,\n",
    "        \"parent_asin_rating_avg_prev_rating_90d\": parent_asin_rating_avg_prev_rating_90d,\n",
    "        \"parent_asin_rating_cnt_30d\": parent_asin_rating_cnt_30d,\n",
    "        \"parent_asin_rating_avg_prev_rating_30d\": parent_asin_rating_avg_prev_rating_30d,\n",
    "        \"parent_asin_rating_cnt_7d\": parent_asin_rating_cnt_7d,\n",
    "        \"parent_asin_rating_avg_prev_rating_7d\": parent_asin_rating_avg_prev_rating_7d,\n",
    "    }\n",
    ")\n",
    "train_item_features = item_metadata_pipeline.transform(train_df).astype(np.float32)\n",
    "if args.use_sbert_features:\n",
    "    sbert_vectors = ann_index.get_vector_by_ids(\n",
    "        train_df[\"item_indice\"].values.tolist()\n",
    "    ).astype(np.float32)\n",
    "    train_item_features = np.hstack([train_item_features, sbert_vectors])\n",
    "\n",
    "n_users = len(set(user_indices))\n",
    "n_items = len(set(item_indices))\n",
    "item_feature_size = train_item_features.shape[1]\n",
    "\n",
    "model = init_model(n_users, n_items, embedding_dim, item_feature_size, args.dropout)\n",
    "\n",
    "# Example forward pass\n",
    "model.eval()\n",
    "users = torch.tensor(user_indices)\n",
    "items = torch.tensor(item_indices)\n",
    "item_sequences = torch.tensor(item_sequences)\n",
    "item_features = torch.tensor(train_item_features)\n",
    "predictions = model.predict(users, item_sequences, item_features, items)\n",
    "print(predictions)"
   ]
  },
  {
   "cell_type": "code",
   "execution_count": 13,
   "id": "0c0b1fea-0376-4624-ad8a-d000208a97f5",
   "metadata": {
    "scrolled": true
   },
   "outputs": [],
   "source": [
    "rating_dataset = UserItemBinaryDFDataset(\n",
    "    train_df,\n",
    "    \"user_indice\",\n",
    "    \"item_indice\",\n",
    "    args.rating_col,\n",
    "    args.timestamp_col,\n",
    "    item_feature=train_item_features,\n",
    ")\n",
    "\n",
    "train_loader = DataLoader(rating_dataset, batch_size=batch_size, shuffle=False)"
   ]
  },
  {
   "cell_type": "code",
   "execution_count": 14,
   "id": "2e82d3d1-826a-409b-8440-46e0bd924269",
   "metadata": {
    "scrolled": true
   },
   "outputs": [
    {
     "name": "stdout",
     "output_type": "stream",
     "text": [
      "{'user': tensor([0, 0]), 'item': tensor([0, 1]), 'rating': tensor([0., 1.]), 'item_sequence': tensor([[-1, -1,  2,  3],\n",
      "        [-1, -1,  2,  3]]), 'item_feature': tensor([[-1.4698e-02,  5.6424e+00, -1.4698e-02,  ...,  2.2739e-02,\n",
      "         -2.3894e-02,  1.1594e-03],\n",
      "        [-1.4698e-02, -1.7723e-01, -1.4698e-02,  ..., -2.3171e-03,\n",
      "         -2.9986e-02,  9.9219e-03]])}\n",
      "{'user': tensor([1, 2]), 'item': tensor([2, 3]), 'rating': tensor([1., 1.]), 'item_sequence': tensor([[-1, -1,  1,  3],\n",
      "        [-1, -1,  2,  1]]), 'item_feature': tensor([[-1.4698e-02,  5.6424e+00, -1.4698e-02,  ...,  2.1281e-03,\n",
      "         -3.6321e-02,  4.1318e-04],\n",
      "        [-1.4698e-02, -1.7723e-01, -1.4698e-02,  ..., -4.9983e-03,\n",
      "         -5.8112e-02,  4.0446e-03]])}\n",
      "{'user': tensor([2]), 'item': tensor([4]), 'rating': tensor([0.]), 'item_sequence': tensor([[-1, -1,  2,  1]]), 'item_feature': tensor([[-1.4698e-02, -1.7723e-01, -1.4698e-02, -2.5463e-02, -1.4698e-02,\n",
      "         -1.4698e-02, -2.0788e-02, -8.2101e-02, -2.8729e-01, -1.4698e-02,\n",
      "         -3.8912e-02, -2.9405e-02, -2.5463e-02, -1.4698e-02, -1.4698e-02,\n",
      "         -3.8912e-02, -2.0788e-02, -3.8912e-02, -5.0976e-02, -2.4504e+00,\n",
      "         -1.3428e-01, -1.4000e-01, -6.1013e-01, -8.2101e-02, -7.9391e-02,\n",
      "         -2.0788e-02, -1.4698e-02, -1.4698e-02, -5.0976e-02, -1.3260e-01,\n",
      "         -2.5463e-02, -1.4698e-02, -9.0968e-02, -1.3593e-01, -1.4698e-02,\n",
      "         -1.4858e-01, -1.0448e-01, -1.4698e-02, -1.4698e-02, -2.0573e-01,\n",
      "         -2.2601e-01, -2.9405e-02, -2.0788e-02, -1.4698e-02, -2.0788e-02,\n",
      "         -1.4698e-02, -2.9405e-02, -7.3681e-02, -2.0788e-02, -2.0788e-02,\n",
      "         -1.4698e-02, -1.0342e-01, -2.0788e-02, -2.0788e-02, -3.8912e-02,\n",
      "         -1.0342e-01, -5.5072e-02, -1.2479e-01, -6.7500e-02, -1.2390e-01,\n",
      "         -1.6381e-01, -1.1327e+00, -2.0788e-02, -2.0788e-02, -1.3005e-01,\n",
      "         -1.3593e-01, -3.2880e-02, -1.4698e-02, -1.4698e-02, -2.0788e-02,\n",
      "         -1.4698e-02, -2.0788e-02, -4.6524e-02, -1.8361e-01, -9.0968e-02,\n",
      "         -2.5463e-02, -2.0788e-02, -3.8912e-02, -1.1646e+00, -6.9096e-02,\n",
      "         -5.5072e-02, -1.4698e-02, -4.1604e-02, -2.0788e-02, -6.4192e-02,\n",
      "         -3.2880e-02, -2.4392e-01, -8.2101e-02, -1.8298e-01, -2.0788e-02,\n",
      "         -9.2168e-02, -2.4342e-01, -5.5123e-01, -2.0788e-02, -7.0657e-02,\n",
      "         -4.0989e-01, -2.0788e-02, -1.2025e-01, -2.2495e-01, -3.4599e-01,\n",
      "         -3.2243e-01, -5.0976e-02, -6.7500e-02, -3.6022e-02, -5.1850e-01,\n",
      "         -1.5454e-01, -3.6022e-02, -2.5463e-02, -3.6022e-02, -1.4698e-02,\n",
      "         -5.3063e-02, -6.2473e-02, -2.0788e-02, -6.9096e-02, -5.0976e-02,\n",
      "         -6.0706e-02, -2.5463e-02, -8.3424e-02, -2.5463e-02, -1.4698e-02,\n",
      "         -2.9405e-02, -1.2025e-01, -1.4698e-02, -1.4698e-02, -5.5072e-02,\n",
      "         -3.2880e-02, -2.0788e-02, -4.1604e-02, -7.8002e-02, -1.4698e-02,\n",
      "         -2.9405e-02, -2.9405e-02, -5.0976e-02, -1.4698e-02, -1.4698e-02,\n",
      "         -3.8912e-02, -3.2880e-02, -7.1024e+00, -2.0788e-02, -2.5463e-02,\n",
      "         -2.5463e-02, -4.6524e-02, -2.5226e-01, -1.7064e-01, -1.3260e-01,\n",
      "         -3.3652e-01, -2.0788e-02, -2.0788e-02, -5.7011e-02, -2.8861e-01,\n",
      "         -2.0788e-02, -3.7131e-01, -5.4576e-01, -2.5171e-01, -1.0098e+00,\n",
      "          1.0291e-01, -3.4294e-01,  6.0107e-01,  1.1057e-01,  2.1350e+00,\n",
      "          6.9604e-01,  5.8324e-02, -3.5558e-03, -1.1762e-02,  2.9313e-02,\n",
      "         -1.7947e-02,  4.4230e-02,  1.9715e-02,  1.6747e-02, -4.9954e-02,\n",
      "         -1.3518e-02,  5.2685e-02,  1.5744e-02,  3.1438e-02,  3.6896e-02,\n",
      "         -2.7815e-02, -2.0330e-02, -3.0954e-03,  3.0746e-02,  1.8552e-02,\n",
      "          9.6583e-03,  4.4197e-03,  1.5087e-02,  6.5039e-03, -1.9019e-03,\n",
      "         -4.4309e-02, -1.1564e-02,  3.2616e-02, -1.0787e-02,  1.5955e-02,\n",
      "         -5.4729e-02,  8.9790e-02, -1.0274e-03,  1.2987e-02, -5.1745e-02,\n",
      "          1.5979e-06, -1.0993e-02, -1.1033e-02, -4.3195e-02,  3.8166e-02,\n",
      "          1.7665e-02,  7.6680e-02,  3.4666e-02,  1.1909e-03,  3.9057e-02,\n",
      "          1.0059e-03,  2.4285e-03,  8.6831e-03,  7.2536e-02, -1.7158e-02,\n",
      "          2.7287e-02, -2.3776e-03, -3.9206e-02, -1.4549e-02, -1.3008e-02,\n",
      "          4.1935e-02, -1.2738e-04, -1.7059e-02,  6.5678e-03,  2.8161e-02,\n",
      "          7.4166e-03,  2.3682e-02,  3.3191e-02, -1.2162e-02,  2.6638e-02,\n",
      "          2.5351e-02,  3.9712e-03,  6.3534e-03, -2.3572e-02, -2.3132e-02,\n",
      "          4.4788e-03,  5.1527e-02,  1.8513e-03,  4.1114e-02,  3.1166e-02,\n",
      "         -8.0032e-04,  9.7128e-03, -8.2380e-03,  1.9294e-02, -3.6935e-02,\n",
      "         -4.5212e-02, -4.2452e-03,  2.6179e-02, -4.3087e-02, -1.6099e-02,\n",
      "         -1.0209e-02,  2.6912e-02, -9.5608e-03,  5.0911e-03, -3.9069e-02,\n",
      "         -3.3184e-02,  2.7768e-02, -2.0732e-02,  4.0319e-03,  2.0523e-03,\n",
      "          1.1370e-02, -4.9288e-03,  4.3173e-03, -1.5241e-02,  3.5405e-02,\n",
      "         -5.9396e-02,  3.4852e-02,  1.6967e-02,  2.8332e-02,  8.7139e-03,\n",
      "          2.5929e-02, -9.6261e-03,  1.3536e-02, -4.8048e-02, -7.6682e-02,\n",
      "          6.5163e-02, -1.3349e-02, -1.9140e-02, -3.3471e-02,  4.2949e-02,\n",
      "          4.2758e-03, -3.4124e-02,  2.8875e-02, -1.1629e-02,  7.5197e-03,\n",
      "          3.7966e-02, -5.0656e-02,  2.5374e-02, -9.6529e-04, -3.3937e-03,\n",
      "         -1.5228e-03, -1.3463e-02, -6.1289e-02, -1.1767e-03,  5.5931e-03,\n",
      "         -2.0232e-03, -2.1581e-03,  3.2271e-02,  1.0410e-02, -1.3786e-02,\n",
      "          1.6050e-02,  6.1795e-03,  4.8753e-03, -1.0577e-02, -1.7343e-02,\n",
      "          1.0021e-02, -2.5466e-03, -6.1237e-04,  1.6023e-03, -1.1337e-02,\n",
      "         -3.7339e-02,  7.6273e-03,  4.7036e-02,  1.0720e-02,  3.9873e-04,\n",
      "          3.6887e-02, -6.4114e-03,  4.1815e-03,  2.1562e-02,  1.3422e-02,\n",
      "          7.4242e-03,  2.1062e-02,  6.0485e-02, -1.3722e-02, -3.2337e-02,\n",
      "          2.6295e-02,  2.8615e-02,  2.0585e-02,  1.1869e-02,  1.5351e-02,\n",
      "         -3.3853e-02, -1.6188e-02,  1.8318e-02,  6.3890e-03,  5.3706e-03,\n",
      "          2.4701e-02, -4.7584e-02,  6.4695e-03, -1.2033e-03,  6.2107e-02,\n",
      "          3.1671e-02,  9.5992e-02, -6.0003e-02,  2.8309e-02, -4.7458e-02,\n",
      "          3.6418e-02, -5.5947e-02, -4.0401e-02,  8.9310e-03, -1.8521e-02,\n",
      "         -1.8184e-02,  8.8759e-03, -2.4624e-04, -7.1276e-03, -4.0537e-02,\n",
      "         -1.6923e-02, -2.5244e-02, -1.8080e-02,  5.8044e-03, -6.1258e-03,\n",
      "         -5.6204e-03,  4.3975e-03, -2.9798e-02, -3.4736e-02, -1.1226e-02,\n",
      "         -2.2287e-02, -2.4025e-02,  4.6998e-03,  9.2806e-02,  2.2259e-02,\n",
      "          6.5870e-03,  8.8868e-03, -5.9227e-03, -1.1188e-02, -1.7043e-02,\n",
      "          5.1613e-02, -2.9038e-02,  1.2457e-02, -3.1471e-02, -1.6788e-02,\n",
      "         -2.4421e-02, -4.5573e-02,  3.0357e-02,  4.0608e-02, -5.7507e-02,\n",
      "          3.0435e-02,  1.8881e-02,  6.5172e-02,  3.7954e-03,  3.0678e-03,\n",
      "          1.9205e-02, -1.6472e-02, -4.7273e-03, -5.2933e-03,  1.4057e-02,\n",
      "          7.7532e-04,  6.7986e-03, -9.4085e-03, -8.2156e-03, -2.7112e-02,\n",
      "         -3.2747e-02,  2.9800e-02, -1.6389e-02,  2.9866e-02,  1.3273e-02,\n",
      "         -7.6186e-02, -3.4499e-02,  1.2762e-02, -4.7690e-03,  2.8185e-02,\n",
      "          1.0149e-02, -2.3805e-02, -1.8704e-02, -3.4735e-03, -1.2129e-02,\n",
      "          1.1582e-02, -2.2599e-02,  1.0385e-02,  2.4944e-02,  2.4530e-02,\n",
      "         -5.9642e-03, -1.0382e-02, -7.1596e-02,  7.1223e-02, -4.4624e-02,\n",
      "          3.5881e-02,  1.4242e-02, -3.2427e-02, -3.6055e-03, -1.0988e-04,\n",
      "         -7.3232e-03, -2.0512e-02,  4.2723e-02, -8.9311e-04, -2.0253e-02,\n",
      "         -3.4589e-02, -2.1352e-02,  6.7135e-03, -5.3663e-03, -2.0572e-02,\n",
      "          2.4120e-02, -1.3016e-02, -1.6854e-02,  1.2832e-02, -1.0363e-03,\n",
      "          1.4870e-02,  1.2061e-02,  2.0079e-02,  5.8301e-03,  1.8944e-02,\n",
      "         -7.3224e-03,  3.3806e-02,  3.2597e-02, -3.6816e-02, -7.9461e-02,\n",
      "          8.2087e-03, -2.0427e-02, -2.3086e-02,  2.9141e-02, -1.9786e-02,\n",
      "         -1.7383e-02, -9.1641e-03,  3.3746e-02,  4.8766e-02,  2.3506e-02,\n",
      "         -1.0262e-02,  9.5341e-04, -3.3188e-02, -3.8588e-03, -1.3900e-03,\n",
      "         -2.2566e-02, -1.1366e-02, -1.4147e-03, -1.4774e-02,  3.6912e-02,\n",
      "          1.7216e-02,  1.3906e-02,  1.1993e-02,  3.8212e-03, -1.2181e-02,\n",
      "         -1.0561e-02,  2.0527e-02, -4.7198e-02, -6.2170e-02,  5.5420e-03,\n",
      "          4.3886e-02,  8.4003e-03,  1.0277e-02,  2.0153e-02,  4.0961e-02,\n",
      "          1.1308e-02, -6.3338e-02, -2.2485e-02,  1.7966e-02,  4.1550e-02,\n",
      "         -1.8387e-02, -1.3045e-04,  3.8104e-02, -2.4482e-02,  3.0621e-02,\n",
      "          1.6446e-02,  4.1700e-02, -8.7917e-04, -6.7168e-03, -3.8205e-02,\n",
      "          2.4621e-02,  4.2379e-03, -4.8356e-02,  1.0975e-03, -3.0089e-02,\n",
      "          4.0687e-03, -5.1305e-02,  1.4878e-02,  1.6568e-02, -7.4943e-02,\n",
      "         -1.8622e-02,  1.3042e-03,  1.9302e-02, -3.5115e-03,  7.8528e-03,\n",
      "         -1.8677e-03,  2.3835e-02,  2.5860e-02, -4.3618e-02, -3.0692e-02,\n",
      "         -2.2634e-02, -2.2979e-02, -7.1388e-03, -2.0620e-02,  2.9293e-04,\n",
      "         -4.1120e-03,  4.3753e-02,  1.6542e-02,  1.4033e-02, -4.2834e-03,\n",
      "         -1.1855e-02, -4.4363e-03,  3.3251e-02, -1.3414e-02,  2.9628e-02,\n",
      "          7.8496e-03,  1.5558e-02,  8.9067e-03, -8.7288e-03,  4.3355e-03,\n",
      "         -3.0181e-02,  1.6745e-02, -1.1237e-02,  4.4655e-02,  7.5167e-03,\n",
      "          9.2148e-03,  1.4788e-02, -5.5803e-03, -2.7316e-02, -2.7693e-02,\n",
      "         -1.0456e-02,  2.9711e-03,  4.0393e-03, -4.4498e-02,  1.6073e-02,\n",
      "         -3.5819e-02, -1.1923e-02,  4.3370e-03, -5.4020e-03, -3.0531e-02,\n",
      "          1.5830e-02,  4.1392e-03, -1.6154e-03,  8.8164e-03,  2.3377e-03,\n",
      "          1.3073e-02, -1.0990e-02,  1.4880e-02, -2.9495e-03, -1.1673e-02,\n",
      "          6.9107e-03,  1.3475e-03, -6.3553e-02, -4.0327e-03,  1.8467e-02,\n",
      "          3.9459e-02, -5.6541e-02, -8.4119e-03,  2.9368e-02,  1.4416e-02,\n",
      "          3.3324e-03,  1.7163e-02,  5.1999e-02, -3.9347e-03,  2.7767e-02,\n",
      "          2.1383e-02,  3.3897e-03,  3.1206e-02,  1.7966e-02,  1.8945e-02,\n",
      "         -2.5730e-02, -3.4764e-03,  2.3006e-02, -2.9583e-02,  2.5581e-02,\n",
      "         -1.8379e-03, -1.3506e-02, -5.5799e-02, -4.3038e-02,  1.8547e-02,\n",
      "         -3.6617e-02, -1.3895e-02, -1.4465e-03,  2.4347e-02,  4.7107e-02,\n",
      "          5.1711e-03, -2.6805e-02,  2.5108e-02, -5.0249e-02,  1.4673e-02,\n",
      "         -1.4846e-03, -2.2907e-02,  1.1760e-02,  1.8323e-02,  2.0018e-02,\n",
      "         -5.7730e-03, -2.4442e-02,  1.8628e-02, -1.4473e-02, -1.8166e-02,\n",
      "         -4.3418e-03,  1.5458e-02,  1.7868e-02, -1.5475e-02,  8.5912e-03,\n",
      "          8.0243e-03,  6.6017e-05,  4.4450e-02, -3.7536e-02,  5.1142e-03,\n",
      "         -1.0713e-02,  3.7047e-02,  3.3015e-03, -3.7982e-03,  2.2910e-02,\n",
      "          2.7904e-02, -2.7409e-02, -2.1540e-02, -5.9295e-02,  2.3210e-02,\n",
      "          1.5482e-02, -7.6352e-04,  6.9805e-03, -3.0771e-04, -2.6725e-02,\n",
      "         -2.0501e-02,  2.5071e-03,  3.4600e-02, -2.2038e-02, -1.8017e-02,\n",
      "          9.7987e-03,  4.1705e-03, -6.1273e-02, -2.8742e-02, -1.2253e-02,\n",
      "         -3.1576e-02,  5.0317e-02, -1.3115e-02, -1.0568e-02, -1.2459e-02,\n",
      "          2.9230e-05, -3.5433e-02, -1.4699e-02,  1.5968e-02,  2.5251e-02,\n",
      "         -2.0121e-03,  3.4416e-02,  1.4517e-02, -5.3992e-03,  3.6931e-02,\n",
      "         -3.5910e-02,  1.9243e-03,  7.8619e-03,  4.0833e-03, -1.7863e-02,\n",
      "          9.9128e-03,  1.2803e-02, -2.5584e-02, -8.1507e-02, -1.1034e-02,\n",
      "          2.5602e-02, -3.8083e-04, -1.2823e-02,  7.9046e-04, -2.7044e-02,\n",
      "         -3.1953e-02,  2.3335e-02,  8.3789e-03,  3.4292e-03,  3.3354e-03,\n",
      "          6.1046e-04, -3.6970e-02, -7.6787e-04,  3.8824e-02,  1.9031e-02,\n",
      "         -4.1449e-02,  4.1897e-02,  5.3840e-02, -3.4676e-02, -5.1619e-03,\n",
      "         -1.2428e-02, -3.3925e-02, -4.7866e-03,  3.2847e-02,  1.2054e-02,\n",
      "          7.4162e-02,  2.9322e-02,  9.6573e-03,  5.9935e-03,  5.6563e-03,\n",
      "         -2.8322e-02,  7.5995e-03,  1.0704e-02, -7.2189e-02,  3.3538e-02,\n",
      "         -1.5878e-03, -5.8174e-33, -9.2268e-03, -4.4815e-02, -1.9517e-02,\n",
      "          2.1338e-02, -3.2264e-02,  2.0263e-02, -2.0153e-02,  2.5965e-02,\n",
      "          1.7725e-03,  1.9742e-03, -1.2019e-02,  2.2366e-02,  2.0187e-02,\n",
      "          2.4747e-02,  3.2418e-02, -3.0071e-02,  7.5691e-03,  1.1897e-03,\n",
      "          1.6810e-02, -2.0667e-02,  9.1900e-03,  1.0633e-02,  3.0235e-02,\n",
      "         -6.7131e-02,  7.7978e-03, -5.7649e-02, -1.8866e-02, -2.0314e-02,\n",
      "          2.1669e-02, -1.8972e-02, -2.0086e-02, -4.9592e-02,  2.8181e-03,\n",
      "          2.4375e-03,  2.2414e-02,  3.2236e-02, -4.8074e-03, -3.2287e-02,\n",
      "          2.2281e-02, -3.6757e-02,  5.5557e-03, -4.6556e-02, -2.7165e-02,\n",
      "         -3.3342e-03, -3.3199e-04,  2.9793e-03,  4.5053e-02, -2.9502e-02,\n",
      "         -2.3342e-02, -9.4881e-04, -2.8074e-02, -4.2634e-03, -1.8003e-02,\n",
      "         -6.8442e-03,  2.8141e-02,  4.0166e-02,  1.3679e-02,  5.9287e-02,\n",
      "          4.3429e-02,  4.8887e-02,  7.3783e-03,  4.1325e-02, -1.9658e-02,\n",
      "         -1.7458e-02,  2.7040e-02,  1.8805e-02, -4.6514e-02, -1.5009e-03,\n",
      "         -6.8983e-02, -7.4320e-03, -5.1687e-02,  1.4076e-02,  4.5338e-02,\n",
      "          1.2624e-02,  4.4197e-03, -2.2902e-02, -2.5950e-02,  1.0703e-02,\n",
      "          6.2154e-02,  2.5731e-02, -2.5750e-03, -2.0984e-02, -3.2278e-02,\n",
      "         -6.4182e-03, -2.0384e-02,  1.1670e-02, -2.5348e-02, -2.0115e-02,\n",
      "          2.2838e-02,  1.2933e-02,  1.0017e-02,  2.5905e-02, -1.0292e-02,\n",
      "          1.8872e-02,  2.5080e-02,  1.8143e-03,  5.3956e-02,  6.4393e-03,\n",
      "         -8.7790e-03, -2.9519e-02, -1.5556e-02, -1.6049e-02, -1.7229e-02,\n",
      "          2.8240e-02,  1.2445e-02, -2.2250e-02, -8.5349e-03, -2.6165e-02,\n",
      "         -4.4822e-02,  1.7788e-03,  1.6079e-02, -3.9372e-02,  8.3088e-03,\n",
      "         -4.3891e-02, -3.3231e-02,  2.3529e-02,  7.6387e-03,  5.2261e-02,\n",
      "          2.4646e-02, -7.2527e-03,  3.8841e-02, -1.3147e-02, -3.0023e-02,\n",
      "          2.0278e-02, -4.8862e-03, -1.3484e-03, -9.4782e-03,  4.5404e-02,\n",
      "          6.1587e-03, -1.3864e-02, -5.5870e-03, -1.7948e-03,  2.3968e-07,\n",
      "         -2.6354e-02,  3.4542e-02, -1.0140e-03,  1.1908e-02, -1.3971e-02,\n",
      "         -5.3470e-03, -5.8437e-03,  1.4917e-02, -3.8029e-03,  5.4595e-03,\n",
      "          7.8139e-02, -1.1286e-02,  1.7408e-02, -3.6183e-02, -4.1627e-02,\n",
      "          2.7625e-02, -4.0001e-02, -4.3888e-02, -3.0781e-02,  1.0268e-02,\n",
      "          8.0342e-02, -4.7380e-03,  1.8143e-02,  1.5098e-02,  1.8878e-02,\n",
      "         -2.7033e-02, -3.4619e-03, -5.6712e-02, -2.2116e-02,  1.1673e-03,\n",
      "         -1.2919e-02, -4.9119e-03, -4.1230e-02, -2.3709e-02,  1.5537e-02,\n",
      "         -5.3596e-02,  2.4378e-02,  8.1744e-03,  5.0315e-02,  1.6983e-02,\n",
      "         -4.2703e-02,  4.1120e-02, -1.6077e-02, -4.5638e-02,  1.5280e-02,\n",
      "         -5.1774e-04,  1.3264e-02,  1.1275e-02, -5.4372e-02,  1.1863e-02,\n",
      "          3.4162e-02, -1.0918e-02, -1.4549e-02, -1.1667e-02,  1.7194e-03,\n",
      "          1.4742e-02,  2.5746e-02,  4.6241e-03,  6.0080e-02,  5.3621e-02,\n",
      "         -1.7151e-02,  9.9720e-03,  5.9183e-03,  2.0157e-02,  5.2306e-03,\n",
      "         -6.8270e-02, -8.5857e-03,  1.6697e-34,  3.0344e-02, -6.9680e-02,\n",
      "         -4.9869e-02, -2.1066e-02, -2.1247e-02,  2.3350e-03, -1.5978e-02,\n",
      "         -1.7531e-02,  8.1216e-03, -3.4633e-02, -4.2576e-03]])}\n"
     ]
    }
   ],
   "source": [
    "for batch_input in train_loader:\n",
    "    print(batch_input)"
   ]
  },
  {
   "cell_type": "code",
   "execution_count": 15,
   "id": "02cb9ca4-11f1-45a8-911b-ed11c8391944",
   "metadata": {
    "scrolled": true
   },
   "outputs": [
    {
     "data": {
      "application/vnd.jupyter.widget-view+json": {
       "model_id": "63edd0f0ef4c4719b265e98d93c6f18b",
       "version_major": 2,
       "version_minor": 0
      },
      "text/plain": [
       "  0%|          | 0/1 [00:00<?, ?it/s]"
      ]
     },
     "metadata": {},
     "output_type": "display_data"
    },
    {
     "name": "stderr",
     "output_type": "stream",
     "text": [
      "GPU available: True (mps), used: True\n",
      "TPU available: False, using: 0 TPU cores\n",
      "HPU available: False, using: 0 HPUs\n",
      "\n",
      "  | Name  | Type   | Params | Mode\n",
      "----------------------------------------\n",
      "0 | model | Ranker | 8.2 K  | eval\n",
      "----------------------------------------\n",
      "8.2 K     Trainable params\n",
      "0         Non-trainable params\n",
      "8.2 K     Total params\n",
      "0.033     Total estimated model params size (MB)\n",
      "0         Modules in train mode\n",
      "14        Modules in eval mode\n"
     ]
    },
    {
     "data": {
      "application/vnd.jupyter.widget-view+json": {
       "model_id": "",
       "version_major": 2,
       "version_minor": 0
      },
      "text/plain": [
       "Sanity Checking: |                                                                                            …"
      ]
     },
     "metadata": {},
     "output_type": "display_data"
    },
    {
     "name": "stderr",
     "output_type": "stream",
     "text": [
      "/Users/dvq/frostmourne/recsys-mvp/.venv/lib/python3.11/site-packages/lightning/pytorch/trainer/connectors/data_connector.py:424: The 'val_dataloader' does not have many workers which may be a bottleneck. Consider increasing the value of the `num_workers` argument` to `num_workers=10` in the `DataLoader` to improve performance.\n",
      "/Users/dvq/frostmourne/recsys-mvp/.venv/lib/python3.11/site-packages/lightning/pytorch/trainer/connectors/data_connector.py:424: The 'train_dataloader' does not have many workers which may be a bottleneck. Consider increasing the value of the `num_workers` argument` to `num_workers=10` in the `DataLoader` to improve performance.\n",
      "/Users/dvq/frostmourne/recsys-mvp/.venv/lib/python3.11/site-packages/lightning/pytorch/loops/fit_loop.py:298: The number of training batches (3) is smaller than the logging interval Trainer(log_every_n_steps=50). Set a lower value for log_every_n_steps if you want to see logs for the training epoch.\n"
     ]
    },
    {
     "data": {
      "application/vnd.jupyter.widget-view+json": {
       "model_id": "2549f99ba0134ac9a016b1a39f56cd63",
       "version_major": 2,
       "version_minor": 0
      },
      "text/plain": [
       "Training: |                                                                                                   …"
      ]
     },
     "metadata": {},
     "output_type": "display_data"
    },
    {
     "data": {
      "application/vnd.jupyter.widget-view+json": {
       "model_id": "",
       "version_major": 2,
       "version_minor": 0
      },
      "text/plain": [
       "Validation: |                                                                                                 …"
      ]
     },
     "metadata": {},
     "output_type": "display_data"
    },
    {
     "data": {
      "application/vnd.jupyter.widget-view+json": {
       "model_id": "",
       "version_major": 2,
       "version_minor": 0
      },
      "text/plain": [
       "Validation: |                                                                                                 …"
      ]
     },
     "metadata": {},
     "output_type": "display_data"
    },
    {
     "name": "stderr",
     "output_type": "stream",
     "text": [
      "`Trainer.fit` stopped: `max_epochs=2` reached.\n",
      "\u001b[32m2024-10-28 11:39:31.573\u001b[0m | \u001b[1mINFO    \u001b[0m | \u001b[36msrc.ranker.trainer\u001b[0m:\u001b[36mon_fit_end\u001b[0m:\u001b[36m158\u001b[0m - \u001b[1mLogging classification metrics...\u001b[0m\n"
     ]
    }
   ],
   "source": [
    "# Prepare all item features for recommendation\n",
    "all_items_df = train_df.drop_duplicates(subset=[\"item_indice\"])\n",
    "all_items_indices = all_items_df[\"item_indice\"].values\n",
    "all_items_features = item_metadata_pipeline.transform(all_items_df).astype(np.float32)\n",
    "if args.use_sbert_features:\n",
    "    all_sbert_vectors = ann_index.get_vector_by_ids(all_items_indices.tolist()).astype(\n",
    "        np.float32\n",
    "    )\n",
    "    all_items_features = np.hstack([all_items_features, all_sbert_vectors])\n",
    "\n",
    "lit_model = LitRanker(\n",
    "    model,\n",
    "    log_dir=args.notebook_persist_dp,\n",
    "    all_items_indices=all_items_indices,\n",
    "    all_items_features=all_items_features,\n",
    ")\n",
    "\n",
    "# train model\n",
    "trainer = L.Trainer(\n",
    "    default_root_dir=f\"{args.notebook_persist_dp}/test\",\n",
    "    max_epochs=2,\n",
    "    accelerator=args.device if args.device else \"auto\",\n",
    ")\n",
    "trainer.fit(\n",
    "    model=lit_model, train_dataloaders=train_loader, val_dataloaders=train_loader\n",
    ")"
   ]
  },
  {
   "cell_type": "code",
   "execution_count": 16,
   "id": "36778ab4-b228-4bb0-bb0d-801ae7c28cd8",
   "metadata": {},
   "outputs": [
    {
     "name": "stdout",
     "output_type": "stream",
     "text": [
      "tensor([[0.4521],\n",
      "        [0.4149],\n",
      "        [0.5390],\n",
      "        [0.5351],\n",
      "        [0.4201]], grad_fn=<SigmoidBackward0>)\n"
     ]
    }
   ],
   "source": [
    "# After fitting\n",
    "model.eval()\n",
    "predictions = model.predict(users, item_sequences, item_features, items)\n",
    "print(predictions)"
   ]
  },
  {
   "cell_type": "code",
   "execution_count": 17,
   "id": "50fdcf97-6271-406d-81b5-7e91a4c42dec",
   "metadata": {
    "scrolled": true
   },
   "outputs": [
    {
     "data": {
      "application/vnd.jupyter.widget-view+json": {
       "model_id": "8d68c32fbe6c4195bea1b1630311b15e",
       "version_major": 2,
       "version_minor": 0
      },
      "text/plain": [
       "Generating recommendations:   0%|          | 0/1 [00:00<?, ?it/s]"
      ]
     },
     "metadata": {},
     "output_type": "display_data"
    },
    {
     "data": {
      "text/plain": [
       "{'user_indice': [2, 2, 1, 1, 0, 0],\n",
       " 'recommendation': [2, 3, 3, 2, 3, 2],\n",
       " 'score': [0.5518050789833069,\n",
       "  0.5350745916366577,\n",
       "  0.5438730716705322,\n",
       "  0.5389871597290039,\n",
       "  0.4857848286628723,\n",
       "  0.4834492802619934]}"
      ]
     },
     "execution_count": 17,
     "metadata": {},
     "output_type": "execute_result"
    }
   ],
   "source": [
    "# Get the last row of each item as input for recommendations (containing the most updated item_sequence)\n",
    "to_rec_df = train_df.sort_values(args.timestamp_col, ascending=False).drop_duplicates(\n",
    "    subset=[\"user_indice\"]\n",
    ")\n",
    "recommendations = model.recommend(\n",
    "    torch.tensor(to_rec_df[\"user_indice\"].values.tolist()),\n",
    "    torch.tensor(to_rec_df[\"item_sequence\"].values.tolist()),\n",
    "    torch.tensor(lit_model.all_items_features),\n",
    "    torch.tensor(lit_model.all_items_indices),\n",
    "    k=2,\n",
    "    batch_size=4,\n",
    ")\n",
    "recommendations"
   ]
  },
  {
   "cell_type": "markdown",
   "id": "170dec89-a874-4dce-8f94-07d978fcc5b8",
   "metadata": {},
   "source": [
    "# Prep data"
   ]
  },
  {
   "cell_type": "code",
   "execution_count": 18,
   "id": "83803362-5eaa-40bb-b28b-878316d5db5d",
   "metadata": {},
   "outputs": [],
   "source": [
    "train_df = pd.read_parquet(\"../data/train_features_neg_df.parquet\")\n",
    "val_df = pd.read_parquet(\"../data/val_features_neg_df.parquet\")\n",
    "idm_fp = \"../data/idm.json\"\n",
    "idm = IDMapper().load(idm_fp)\n",
    "\n",
    "assert (\n",
    "    train_df[args.user_col].map(lambda s: idm.get_user_index(s))\n",
    "    != train_df[\"user_indice\"]\n",
    ").sum() == 0, \"Mismatch IDM\"\n",
    "assert (\n",
    "    val_df[args.user_col].map(lambda s: idm.get_user_index(s)) != val_df[\"user_indice\"]\n",
    ").sum() == 0, \"Mismatch IDM\""
   ]
  },
  {
   "cell_type": "code",
   "execution_count": 19,
   "id": "a92a8ea7-928c-4656-b92c-2e137d78404a",
   "metadata": {
    "scrolled": true
   },
   "outputs": [
    {
     "data": {
      "text/html": [
       "<div>\n",
       "<style scoped>\n",
       "    .dataframe tbody tr th:only-of-type {\n",
       "        vertical-align: middle;\n",
       "    }\n",
       "\n",
       "    .dataframe tbody tr th {\n",
       "        vertical-align: top;\n",
       "    }\n",
       "\n",
       "    .dataframe thead th {\n",
       "        text-align: right;\n",
       "    }\n",
       "</style>\n",
       "<table border=\"1\" class=\"dataframe\">\n",
       "  <thead>\n",
       "    <tr style=\"text-align: right;\">\n",
       "      <th></th>\n",
       "      <th>user_id</th>\n",
       "      <th>parent_asin</th>\n",
       "      <th>rating</th>\n",
       "      <th>timestamp</th>\n",
       "      <th>parent_asin_rating_cnt_365d</th>\n",
       "      <th>parent_asin_rating_avg_prev_rating_365d</th>\n",
       "      <th>parent_asin_rating_cnt_90d</th>\n",
       "      <th>parent_asin_rating_avg_prev_rating_90d</th>\n",
       "      <th>parent_asin_rating_cnt_30d</th>\n",
       "      <th>parent_asin_rating_avg_prev_rating_30d</th>\n",
       "      <th>...</th>\n",
       "      <th>item_indice</th>\n",
       "      <th>main_category</th>\n",
       "      <th>title</th>\n",
       "      <th>description</th>\n",
       "      <th>categories</th>\n",
       "      <th>price</th>\n",
       "      <th>user_rating_cnt_90d</th>\n",
       "      <th>user_rating_avg_prev_rating_90d</th>\n",
       "      <th>user_rating_list_10_recent_asin</th>\n",
       "      <th>item_sequence</th>\n",
       "    </tr>\n",
       "  </thead>\n",
       "  <tbody>\n",
       "    <tr>\n",
       "      <th>0</th>\n",
       "      <td>AG57LGJFCNNQJ6P6ABQAVUKXDUDA</td>\n",
       "      <td>B0015AARJI</td>\n",
       "      <td>0.0</td>\n",
       "      <td>2016-01-12 11:59:11.000</td>\n",
       "      <td>76.0</td>\n",
       "      <td>4.592105</td>\n",
       "      <td>10.0</td>\n",
       "      <td>4.3</td>\n",
       "      <td>3.0</td>\n",
       "      <td>5.0</td>\n",
       "      <td>...</td>\n",
       "      <td>660</td>\n",
       "      <td>Video Games</td>\n",
       "      <td>PlayStation 3 Dualshock 3 Wireless Controller ...</td>\n",
       "      <td>[Amazon.com, The Dualshock 3 wireless controll...</td>\n",
       "      <td>[Video Games, Legacy Systems, PlayStation Syst...</td>\n",
       "      <td>49.99</td>\n",
       "      <td>2</td>\n",
       "      <td>5.000000</td>\n",
       "      <td>B00J00BLRM</td>\n",
       "      <td>[-1, -1, -1, -1, -1, -1, -1, -1, -1, 2662]</td>\n",
       "    </tr>\n",
       "    <tr>\n",
       "      <th>1</th>\n",
       "      <td>AHWG4EGOV5ZDKPETL56MAYGPLJRQ</td>\n",
       "      <td>B0BMGHMP23</td>\n",
       "      <td>0.0</td>\n",
       "      <td>2016-04-18 19:26:20.000</td>\n",
       "      <td>NaN</td>\n",
       "      <td>NaN</td>\n",
       "      <td>NaN</td>\n",
       "      <td>NaN</td>\n",
       "      <td>NaN</td>\n",
       "      <td>NaN</td>\n",
       "      <td>...</td>\n",
       "      <td>4568</td>\n",
       "      <td>Computers</td>\n",
       "      <td>Logitech G502 Lightspeed Wireless Gaming Mouse...</td>\n",
       "      <td>[G502 is the best gaming mouse from Logitech G...</td>\n",
       "      <td>[Video Games, PC, Accessories, Gaming Mice]</td>\n",
       "      <td>87.95</td>\n",
       "      <td>3</td>\n",
       "      <td>5.000000</td>\n",
       "      <td>B00YOGZFCO,B00KWFCSB2,B00L3LQ1FI,B0151K6J9Y,B0...</td>\n",
       "      <td>[3028, 2742, 2755, 3159, 3101, 3036, 3051, 313...</td>\n",
       "    </tr>\n",
       "    <tr>\n",
       "      <th>2</th>\n",
       "      <td>AH5PTZ2U74OZ3HT6QVUWM4CV6OVQ</td>\n",
       "      <td>B009AP23NI</td>\n",
       "      <td>0.0</td>\n",
       "      <td>2016-02-10 18:45:08.000</td>\n",
       "      <td>9.0</td>\n",
       "      <td>4.666667</td>\n",
       "      <td>0.0</td>\n",
       "      <td>NaN</td>\n",
       "      <td>0.0</td>\n",
       "      <td>NaN</td>\n",
       "      <td>...</td>\n",
       "      <td>2219</td>\n",
       "      <td>Video Games</td>\n",
       "      <td>Nintendo Wii U Pro U Controller (Japanese Vers...</td>\n",
       "      <td>[Wii U PRO controller (black) (WUP-A-RSKA)]</td>\n",
       "      <td>[Video Games, Legacy Systems, Nintendo Systems...</td>\n",
       "      <td>43.99</td>\n",
       "      <td>8</td>\n",
       "      <td>4.428571</td>\n",
       "      <td>B0199OXR0W,B00EVPR4FY,B00B7ELWAU,B00UH9DN58,B0...</td>\n",
       "      <td>[-1, -1, 3234, 2508, 2318, 2964, 1258, 2439, 4...</td>\n",
       "    </tr>\n",
       "    <tr>\n",
       "      <th>3</th>\n",
       "      <td>AFC5XTCF5D7J3NSDITB2Z26XWWYA</td>\n",
       "      <td>B001E8WQUY</td>\n",
       "      <td>5.0</td>\n",
       "      <td>2019-05-01 21:22:39.265</td>\n",
       "      <td>0.0</td>\n",
       "      <td>NaN</td>\n",
       "      <td>0.0</td>\n",
       "      <td>NaN</td>\n",
       "      <td>0.0</td>\n",
       "      <td>NaN</td>\n",
       "      <td>...</td>\n",
       "      <td>724</td>\n",
       "      <td>Video Games</td>\n",
       "      <td>Rock Band 2 - Nintendo Wii (Game only)</td>\n",
       "      <td>[Product description, Rock Band 2 lets you and...</td>\n",
       "      <td>[Video Games, Legacy Systems, Nintendo Systems...</td>\n",
       "      <td>28.49</td>\n",
       "      <td>1</td>\n",
       "      <td>NaN</td>\n",
       "      <td>B006HZA6VK,B0BN2FNKLM,B0086VPUHI,B0040UAYI4,B0...</td>\n",
       "      <td>[1987, 4569, 2114, 1606, 2159, 2279, 2447, 441...</td>\n",
       "    </tr>\n",
       "    <tr>\n",
       "      <th>4</th>\n",
       "      <td>AF7LJQOIWF3Y3YD7SGOJ34MA5JPA</td>\n",
       "      <td>B001E8WQKY</td>\n",
       "      <td>5.0</td>\n",
       "      <td>2015-01-09 12:53:25.000</td>\n",
       "      <td>16.0</td>\n",
       "      <td>4.375000</td>\n",
       "      <td>8.0</td>\n",
       "      <td>4.5</td>\n",
       "      <td>4.0</td>\n",
       "      <td>4.5</td>\n",
       "      <td>...</td>\n",
       "      <td>722</td>\n",
       "      <td>Video Games</td>\n",
       "      <td>Resident Evil 5 - Xbox 360</td>\n",
       "      <td>[]</td>\n",
       "      <td>[Video Games, Legacy Systems, Xbox Systems, Xb...</td>\n",
       "      <td>29.88</td>\n",
       "      <td>3</td>\n",
       "      <td>5.000000</td>\n",
       "      <td>B00A2ML6XG,B003VUO6LU</td>\n",
       "      <td>[-1, -1, -1, -1, -1, -1, -1, -1, 2261, 1579]</td>\n",
       "    </tr>\n",
       "    <tr>\n",
       "      <th>...</th>\n",
       "      <td>...</td>\n",
       "      <td>...</td>\n",
       "      <td>...</td>\n",
       "      <td>...</td>\n",
       "      <td>...</td>\n",
       "      <td>...</td>\n",
       "      <td>...</td>\n",
       "      <td>...</td>\n",
       "      <td>...</td>\n",
       "      <td>...</td>\n",
       "      <td>...</td>\n",
       "      <td>...</td>\n",
       "      <td>...</td>\n",
       "      <td>...</td>\n",
       "      <td>...</td>\n",
       "      <td>...</td>\n",
       "      <td>...</td>\n",
       "      <td>...</td>\n",
       "      <td>...</td>\n",
       "      <td>...</td>\n",
       "      <td>...</td>\n",
       "    </tr>\n",
       "    <tr>\n",
       "      <th>328591</th>\n",
       "      <td>AG4RATLNVLOKZCPXN67HKOAK65CA</td>\n",
       "      <td>B078FBVJMB</td>\n",
       "      <td>0.0</td>\n",
       "      <td>2015-10-31 18:25:09.000</td>\n",
       "      <td>NaN</td>\n",
       "      <td>NaN</td>\n",
       "      <td>NaN</td>\n",
       "      <td>NaN</td>\n",
       "      <td>NaN</td>\n",
       "      <td>NaN</td>\n",
       "      <td>...</td>\n",
       "      <td>3829</td>\n",
       "      <td>Video Games</td>\n",
       "      <td>A Way Out – PC Origin [Online Game Code]</td>\n",
       "      <td>[From the creators of Brothers - A Tale of Two...</td>\n",
       "      <td>[Video Games, PC, Games]</td>\n",
       "      <td>5.99</td>\n",
       "      <td>1</td>\n",
       "      <td>NaN</td>\n",
       "      <td>B00TFVD688</td>\n",
       "      <td>[-1, -1, -1, -1, -1, -1, -1, -1, -1, 2951]</td>\n",
       "    </tr>\n",
       "    <tr>\n",
       "      <th>328592</th>\n",
       "      <td>AFBXO3BFWBJX6QS5NW73O37IXF2A</td>\n",
       "      <td>B0771ZXXV6</td>\n",
       "      <td>0.0</td>\n",
       "      <td>2011-03-08 02:06:38.000</td>\n",
       "      <td>NaN</td>\n",
       "      <td>NaN</td>\n",
       "      <td>NaN</td>\n",
       "      <td>NaN</td>\n",
       "      <td>NaN</td>\n",
       "      <td>NaN</td>\n",
       "      <td>...</td>\n",
       "      <td>3806</td>\n",
       "      <td>Video Games</td>\n",
       "      <td>Nintendo Joy-Con (R) - Neon Red - Nintendo Switch</td>\n",
       "      <td>[To be determined]</td>\n",
       "      <td>[Video Games, Nintendo Switch, Accessories, Co...</td>\n",
       "      <td>None</td>\n",
       "      <td>3</td>\n",
       "      <td>4.000000</td>\n",
       "      <td>B003JVCA9Q,B0029NZ4HA</td>\n",
       "      <td>[-1, -1, -1, -1, -1, -1, -1, -1, 1488, 1199]</td>\n",
       "    </tr>\n",
       "    <tr>\n",
       "      <th>328593</th>\n",
       "      <td>AHVANA5GZNJ45UABPXWZNAF4ECBQ</td>\n",
       "      <td>B00BBF6MO6</td>\n",
       "      <td>0.0</td>\n",
       "      <td>2015-02-15 05:31:04.000</td>\n",
       "      <td>3.0</td>\n",
       "      <td>4.666667</td>\n",
       "      <td>0.0</td>\n",
       "      <td>NaN</td>\n",
       "      <td>0.0</td>\n",
       "      <td>NaN</td>\n",
       "      <td>...</td>\n",
       "      <td>2327</td>\n",
       "      <td>Video Games</td>\n",
       "      <td>Killer is Dead - Xbox 360</td>\n",
       "      <td>[Killer Is Dead is the latest title from the d...</td>\n",
       "      <td>[Video Games, Legacy Systems, Xbox Systems, Xb...</td>\n",
       "      <td>39.82</td>\n",
       "      <td>1</td>\n",
       "      <td>NaN</td>\n",
       "      <td>B002L93F0A,B002KJ02ZC,B001H4NMNA</td>\n",
       "      <td>[-1, -1, -1, -1, -1, -1, -1, 1377, 1374, 1092]</td>\n",
       "    </tr>\n",
       "    <tr>\n",
       "      <th>328594</th>\n",
       "      <td>AHAVA5VKMJ3OMOLGDZ3W45CKXEWA</td>\n",
       "      <td>B00KTORA0K</td>\n",
       "      <td>5.0</td>\n",
       "      <td>2019-05-25 04:03:51.505</td>\n",
       "      <td>3.0</td>\n",
       "      <td>4.666667</td>\n",
       "      <td>1.0</td>\n",
       "      <td>5.0</td>\n",
       "      <td>1.0</td>\n",
       "      <td>5.0</td>\n",
       "      <td>...</td>\n",
       "      <td>2726</td>\n",
       "      <td>Video Games</td>\n",
       "      <td>Just Dance 2015 - Wii</td>\n",
       "      <td>[With more than 50 million copies of Just Danc...</td>\n",
       "      <td>[Video Games, Legacy Systems, Nintendo Systems...</td>\n",
       "      <td>33.0</td>\n",
       "      <td>2</td>\n",
       "      <td>5.000000</td>\n",
       "      <td>B004AYCNR0,B007NUQICE,B000TYQL1O,B000SEU92W,B0...</td>\n",
       "      <td>[-1, -1, -1, 1657, 2074, 593, 583, 3715, 3448,...</td>\n",
       "    </tr>\n",
       "    <tr>\n",
       "      <th>328595</th>\n",
       "      <td>AHAOAIYS3GTCFSVCHOHANFHEVJGA</td>\n",
       "      <td>B07GMV1X1K</td>\n",
       "      <td>0.0</td>\n",
       "      <td>2019-06-27 16:46:01.725</td>\n",
       "      <td>8.0</td>\n",
       "      <td>4.750000</td>\n",
       "      <td>2.0</td>\n",
       "      <td>4.5</td>\n",
       "      <td>1.0</td>\n",
       "      <td>5.0</td>\n",
       "      <td>...</td>\n",
       "      <td>3980</td>\n",
       "      <td>Video Games</td>\n",
       "      <td>retrogames The C64 Mini USA Version - Not Mach...</td>\n",
       "      <td>[It's 1982 and a new home computer graces the ...</td>\n",
       "      <td>[Video Games, Legacy Systems, Commodore System...</td>\n",
       "      <td>44.99</td>\n",
       "      <td>2</td>\n",
       "      <td>4.000000</td>\n",
       "      <td>B010QCD9WW,B06XHMPPLH,B01GY35HKE,B01GY35GIM,B0...</td>\n",
       "      <td>[3093, 3574, 3373, 3372, 3576, 3621, 3514, 394...</td>\n",
       "    </tr>\n",
       "  </tbody>\n",
       "</table>\n",
       "<p>328596 rows × 23 columns</p>\n",
       "</div>"
      ],
      "text/plain": [
       "                             user_id parent_asin  rating  \\\n",
       "0       AG57LGJFCNNQJ6P6ABQAVUKXDUDA  B0015AARJI     0.0   \n",
       "1       AHWG4EGOV5ZDKPETL56MAYGPLJRQ  B0BMGHMP23     0.0   \n",
       "2       AH5PTZ2U74OZ3HT6QVUWM4CV6OVQ  B009AP23NI     0.0   \n",
       "3       AFC5XTCF5D7J3NSDITB2Z26XWWYA  B001E8WQUY     5.0   \n",
       "4       AF7LJQOIWF3Y3YD7SGOJ34MA5JPA  B001E8WQKY     5.0   \n",
       "...                              ...         ...     ...   \n",
       "328591  AG4RATLNVLOKZCPXN67HKOAK65CA  B078FBVJMB     0.0   \n",
       "328592  AFBXO3BFWBJX6QS5NW73O37IXF2A  B0771ZXXV6     0.0   \n",
       "328593  AHVANA5GZNJ45UABPXWZNAF4ECBQ  B00BBF6MO6     0.0   \n",
       "328594  AHAVA5VKMJ3OMOLGDZ3W45CKXEWA  B00KTORA0K     5.0   \n",
       "328595  AHAOAIYS3GTCFSVCHOHANFHEVJGA  B07GMV1X1K     0.0   \n",
       "\n",
       "                     timestamp  parent_asin_rating_cnt_365d  \\\n",
       "0      2016-01-12 11:59:11.000                         76.0   \n",
       "1      2016-04-18 19:26:20.000                          NaN   \n",
       "2      2016-02-10 18:45:08.000                          9.0   \n",
       "3      2019-05-01 21:22:39.265                          0.0   \n",
       "4      2015-01-09 12:53:25.000                         16.0   \n",
       "...                        ...                          ...   \n",
       "328591 2015-10-31 18:25:09.000                          NaN   \n",
       "328592 2011-03-08 02:06:38.000                          NaN   \n",
       "328593 2015-02-15 05:31:04.000                          3.0   \n",
       "328594 2019-05-25 04:03:51.505                          3.0   \n",
       "328595 2019-06-27 16:46:01.725                          8.0   \n",
       "\n",
       "        parent_asin_rating_avg_prev_rating_365d  parent_asin_rating_cnt_90d  \\\n",
       "0                                      4.592105                        10.0   \n",
       "1                                           NaN                         NaN   \n",
       "2                                      4.666667                         0.0   \n",
       "3                                           NaN                         0.0   \n",
       "4                                      4.375000                         8.0   \n",
       "...                                         ...                         ...   \n",
       "328591                                      NaN                         NaN   \n",
       "328592                                      NaN                         NaN   \n",
       "328593                                 4.666667                         0.0   \n",
       "328594                                 4.666667                         1.0   \n",
       "328595                                 4.750000                         2.0   \n",
       "\n",
       "        parent_asin_rating_avg_prev_rating_90d  parent_asin_rating_cnt_30d  \\\n",
       "0                                          4.3                         3.0   \n",
       "1                                          NaN                         NaN   \n",
       "2                                          NaN                         0.0   \n",
       "3                                          NaN                         0.0   \n",
       "4                                          4.5                         4.0   \n",
       "...                                        ...                         ...   \n",
       "328591                                     NaN                         NaN   \n",
       "328592                                     NaN                         NaN   \n",
       "328593                                     NaN                         0.0   \n",
       "328594                                     5.0                         1.0   \n",
       "328595                                     4.5                         1.0   \n",
       "\n",
       "        parent_asin_rating_avg_prev_rating_30d  ...  item_indice  \\\n",
       "0                                          5.0  ...          660   \n",
       "1                                          NaN  ...         4568   \n",
       "2                                          NaN  ...         2219   \n",
       "3                                          NaN  ...          724   \n",
       "4                                          4.5  ...          722   \n",
       "...                                        ...  ...          ...   \n",
       "328591                                     NaN  ...         3829   \n",
       "328592                                     NaN  ...         3806   \n",
       "328593                                     NaN  ...         2327   \n",
       "328594                                     5.0  ...         2726   \n",
       "328595                                     5.0  ...         3980   \n",
       "\n",
       "        main_category                                              title  \\\n",
       "0         Video Games  PlayStation 3 Dualshock 3 Wireless Controller ...   \n",
       "1           Computers  Logitech G502 Lightspeed Wireless Gaming Mouse...   \n",
       "2         Video Games  Nintendo Wii U Pro U Controller (Japanese Vers...   \n",
       "3         Video Games             Rock Band 2 - Nintendo Wii (Game only)   \n",
       "4         Video Games                         Resident Evil 5 - Xbox 360   \n",
       "...               ...                                                ...   \n",
       "328591    Video Games           A Way Out – PC Origin [Online Game Code]   \n",
       "328592    Video Games  Nintendo Joy-Con (R) - Neon Red - Nintendo Switch   \n",
       "328593    Video Games                          Killer is Dead - Xbox 360   \n",
       "328594    Video Games                              Just Dance 2015 - Wii   \n",
       "328595    Video Games  retrogames The C64 Mini USA Version - Not Mach...   \n",
       "\n",
       "                                              description  \\\n",
       "0       [Amazon.com, The Dualshock 3 wireless controll...   \n",
       "1       [G502 is the best gaming mouse from Logitech G...   \n",
       "2             [Wii U PRO controller (black) (WUP-A-RSKA)]   \n",
       "3       [Product description, Rock Band 2 lets you and...   \n",
       "4                                                      []   \n",
       "...                                                   ...   \n",
       "328591  [From the creators of Brothers - A Tale of Two...   \n",
       "328592                                 [To be determined]   \n",
       "328593  [Killer Is Dead is the latest title from the d...   \n",
       "328594  [With more than 50 million copies of Just Danc...   \n",
       "328595  [It's 1982 and a new home computer graces the ...   \n",
       "\n",
       "                                               categories  price  \\\n",
       "0       [Video Games, Legacy Systems, PlayStation Syst...  49.99   \n",
       "1             [Video Games, PC, Accessories, Gaming Mice]  87.95   \n",
       "2       [Video Games, Legacy Systems, Nintendo Systems...  43.99   \n",
       "3       [Video Games, Legacy Systems, Nintendo Systems...  28.49   \n",
       "4       [Video Games, Legacy Systems, Xbox Systems, Xb...  29.88   \n",
       "...                                                   ...    ...   \n",
       "328591                           [Video Games, PC, Games]   5.99   \n",
       "328592  [Video Games, Nintendo Switch, Accessories, Co...   None   \n",
       "328593  [Video Games, Legacy Systems, Xbox Systems, Xb...  39.82   \n",
       "328594  [Video Games, Legacy Systems, Nintendo Systems...   33.0   \n",
       "328595  [Video Games, Legacy Systems, Commodore System...  44.99   \n",
       "\n",
       "       user_rating_cnt_90d user_rating_avg_prev_rating_90d  \\\n",
       "0                        2                        5.000000   \n",
       "1                        3                        5.000000   \n",
       "2                        8                        4.428571   \n",
       "3                        1                             NaN   \n",
       "4                        3                        5.000000   \n",
       "...                    ...                             ...   \n",
       "328591                   1                             NaN   \n",
       "328592                   3                        4.000000   \n",
       "328593                   1                             NaN   \n",
       "328594                   2                        5.000000   \n",
       "328595                   2                        4.000000   \n",
       "\n",
       "                          user_rating_list_10_recent_asin  \\\n",
       "0                                              B00J00BLRM   \n",
       "1       B00YOGZFCO,B00KWFCSB2,B00L3LQ1FI,B0151K6J9Y,B0...   \n",
       "2       B0199OXR0W,B00EVPR4FY,B00B7ELWAU,B00UH9DN58,B0...   \n",
       "3       B006HZA6VK,B0BN2FNKLM,B0086VPUHI,B0040UAYI4,B0...   \n",
       "4                                   B00A2ML6XG,B003VUO6LU   \n",
       "...                                                   ...   \n",
       "328591                                         B00TFVD688   \n",
       "328592                              B003JVCA9Q,B0029NZ4HA   \n",
       "328593                   B002L93F0A,B002KJ02ZC,B001H4NMNA   \n",
       "328594  B004AYCNR0,B007NUQICE,B000TYQL1O,B000SEU92W,B0...   \n",
       "328595  B010QCD9WW,B06XHMPPLH,B01GY35HKE,B01GY35GIM,B0...   \n",
       "\n",
       "                                            item_sequence  \n",
       "0              [-1, -1, -1, -1, -1, -1, -1, -1, -1, 2662]  \n",
       "1       [3028, 2742, 2755, 3159, 3101, 3036, 3051, 313...  \n",
       "2       [-1, -1, 3234, 2508, 2318, 2964, 1258, 2439, 4...  \n",
       "3       [1987, 4569, 2114, 1606, 2159, 2279, 2447, 441...  \n",
       "4            [-1, -1, -1, -1, -1, -1, -1, -1, 2261, 1579]  \n",
       "...                                                   ...  \n",
       "328591         [-1, -1, -1, -1, -1, -1, -1, -1, -1, 2951]  \n",
       "328592       [-1, -1, -1, -1, -1, -1, -1, -1, 1488, 1199]  \n",
       "328593     [-1, -1, -1, -1, -1, -1, -1, 1377, 1374, 1092]  \n",
       "328594  [-1, -1, -1, 1657, 2074, 593, 583, 3715, 3448,...  \n",
       "328595  [3093, 3574, 3373, 3372, 3576, 3621, 3514, 394...  \n",
       "\n",
       "[328596 rows x 23 columns]"
      ]
     },
     "execution_count": 19,
     "metadata": {},
     "output_type": "execute_result"
    }
   ],
   "source": [
    "train_df"
   ]
  },
  {
   "cell_type": "code",
   "execution_count": 20,
   "id": "bd469969-aaa6-4763-a0fc-d432961cf4dc",
   "metadata": {
    "scrolled": true
   },
   "outputs": [
    {
     "data": {
      "application/vnd.jupyter.widget-view+json": {
       "model_id": "c9e3cc0329e14564b25c557dc7fe4e2d",
       "version_major": 2,
       "version_minor": 0
      },
      "text/plain": [
       "  0%|          | 0/5 [00:00<?, ?it/s]"
      ]
     },
     "metadata": {},
     "output_type": "display_data"
    },
    {
     "data": {
      "application/vnd.jupyter.widget-view+json": {
       "model_id": "45b6a9f531124a9284918b651796a260",
       "version_major": 2,
       "version_minor": 0
      },
      "text/plain": [
       "Transforming chunks:   0%|          | 0/33 [00:00<?, ?it/s]"
      ]
     },
     "metadata": {},
     "output_type": "display_data"
    },
    {
     "data": {
      "application/vnd.jupyter.widget-view+json": {
       "model_id": "35dcc28c0ffb470f91aa705ea1508c0e",
       "version_major": 2,
       "version_minor": 0
      },
      "text/plain": [
       "Transforming chunks:   0%|          | 0/1 [00:00<?, ?it/s]"
      ]
     },
     "metadata": {},
     "output_type": "display_data"
    },
    {
     "name": "stderr",
     "output_type": "stream",
     "text": [
      "\u001b[32m2024-10-28 11:39:37.121\u001b[0m | \u001b[1mINFO    \u001b[0m | \u001b[36m__main__\u001b[0m:\u001b[36m<module>\u001b[0m:\u001b[36m24\u001b[0m - \u001b[1mlen(user_indices)=19,578, len(item_indices)=4,630\u001b[0m\n"
     ]
    }
   ],
   "source": [
    "user_indices = train_df[\"user_indice\"].unique()\n",
    "item_indices = train_df[\"item_indice\"].unique()\n",
    "if args.use_sbert_features:\n",
    "    all_sbert_vectors = ann_index.get_vector_by_ids(\n",
    "        item_indices.tolist(), chunk_size=1000\n",
    "    ).astype(np.float32)\n",
    "\n",
    "train_item_features = chunk_transform(\n",
    "    train_df, item_metadata_pipeline, chunk_size=args.tfm_chunk_size\n",
    ")\n",
    "train_item_features = train_item_features.astype(np.float32)\n",
    "\n",
    "val_item_features = chunk_transform(\n",
    "    val_df, item_metadata_pipeline, chunk_size=args.tfm_chunk_size\n",
    ")\n",
    "val_item_features = val_item_features.astype(np.float32)\n",
    "\n",
    "if args.use_sbert_features:\n",
    "    train_sbert_vectors = all_sbert_vectors[train_df[\"item_indice\"].values]\n",
    "    train_item_features = np.hstack([train_item_features, train_sbert_vectors])\n",
    "    val_sbert_vectors = all_sbert_vectors[val_df[\"item_indice\"].values]\n",
    "    val_item_features = np.hstack([val_item_features, val_sbert_vectors])\n",
    "\n",
    "logger.info(f\"{len(user_indices)=:,.0f}, {len(item_indices)=:,.0f}\")"
   ]
  },
  {
   "cell_type": "markdown",
   "id": "5260fbe7-2f90-44a1-be74-ce5db9b511ee",
   "metadata": {},
   "source": [
    "# Train"
   ]
  },
  {
   "cell_type": "code",
   "execution_count": 21,
   "id": "240a04ed-8898-443f-b0f4-7399bfa63810",
   "metadata": {},
   "outputs": [],
   "source": [
    "rating_dataset = UserItemBinaryDFDataset(\n",
    "    train_df,\n",
    "    \"user_indice\",\n",
    "    \"item_indice\",\n",
    "    args.rating_col,\n",
    "    args.timestamp_col,\n",
    "    item_feature=train_item_features,\n",
    ")\n",
    "val_rating_dataset = UserItemBinaryDFDataset(\n",
    "    val_df,\n",
    "    \"user_indice\",\n",
    "    \"item_indice\",\n",
    "    args.rating_col,\n",
    "    args.timestamp_col,\n",
    "    item_feature=val_item_features,\n",
    ")\n",
    "\n",
    "train_loader = DataLoader(\n",
    "    rating_dataset, batch_size=args.batch_size, shuffle=True, drop_last=True\n",
    ")\n",
    "val_loader = DataLoader(\n",
    "    val_rating_dataset, batch_size=args.batch_size, shuffle=False, drop_last=False\n",
    ")"
   ]
  },
  {
   "cell_type": "code",
   "execution_count": 22,
   "id": "22dcf157-425f-4d15-9b53-e1ff93887def",
   "metadata": {
    "scrolled": true
   },
   "outputs": [
    {
     "data": {
      "text/plain": [
       "Ranker(\n",
       "  (item_embedding): Embedding(4631, 128, padding_idx=4630)\n",
       "  (user_embedding): Embedding(19578, 128)\n",
       "  (gru): GRU(128, 128, batch_first=True)\n",
       "  (relu): ReLU()\n",
       "  (dropout): Dropout(p=0.3, inplace=False)\n",
       "  (item_feature_tower): Sequential(\n",
       "    (0): Linear(in_features=929, out_features=128, bias=True)\n",
       "    (1): BatchNorm1d(128, eps=1e-05, momentum=0.1, affine=True, track_running_stats=True)\n",
       "    (2): ReLU()\n",
       "    (3): Dropout(p=0.3, inplace=False)\n",
       "  )\n",
       "  (fc_rating): Sequential(\n",
       "    (0): Linear(in_features=512, out_features=128, bias=True)\n",
       "    (1): BatchNorm1d(128, eps=1e-05, momentum=0.1, affine=True, track_running_stats=True)\n",
       "    (2): ReLU()\n",
       "    (3): Dropout(p=0.3, inplace=False)\n",
       "    (4): Linear(in_features=128, out_features=1, bias=True)\n",
       "    (5): Sigmoid()\n",
       "  )\n",
       ")"
      ]
     },
     "execution_count": 22,
     "metadata": {},
     "output_type": "execute_result"
    }
   ],
   "source": [
    "n_items = len(item_indices)\n",
    "n_users = len(user_indices)\n",
    "\n",
    "model = init_model(\n",
    "    n_users, n_items, args.embedding_dim, item_feature_size, args.dropout\n",
    ")\n",
    "model"
   ]
  },
  {
   "cell_type": "markdown",
   "id": "b8cbb2a8-a578-4ad2-941e-efd01d930336",
   "metadata": {},
   "source": [
    "#### Predict before train"
   ]
  },
  {
   "cell_type": "code",
   "execution_count": 23,
   "id": "0112de1e-1dce-4982-9663-a1df91fd0001",
   "metadata": {
    "scrolled": true
   },
   "outputs": [
    {
     "data": {
      "text/html": [
       "<div>\n",
       "<style scoped>\n",
       "    .dataframe tbody tr th:only-of-type {\n",
       "        vertical-align: middle;\n",
       "    }\n",
       "\n",
       "    .dataframe tbody tr th {\n",
       "        vertical-align: top;\n",
       "    }\n",
       "\n",
       "    .dataframe thead th {\n",
       "        text-align: right;\n",
       "    }\n",
       "</style>\n",
       "<table border=\"1\" class=\"dataframe\">\n",
       "  <thead>\n",
       "    <tr style=\"text-align: right;\">\n",
       "      <th></th>\n",
       "      <th>user_id</th>\n",
       "      <th>parent_asin</th>\n",
       "      <th>rating</th>\n",
       "      <th>timestamp</th>\n",
       "      <th>parent_asin_rating_cnt_365d</th>\n",
       "      <th>parent_asin_rating_avg_prev_rating_365d</th>\n",
       "      <th>parent_asin_rating_cnt_90d</th>\n",
       "      <th>parent_asin_rating_avg_prev_rating_90d</th>\n",
       "      <th>parent_asin_rating_cnt_30d</th>\n",
       "      <th>parent_asin_rating_avg_prev_rating_30d</th>\n",
       "      <th>...</th>\n",
       "      <th>item_indice</th>\n",
       "      <th>main_category</th>\n",
       "      <th>title</th>\n",
       "      <th>description</th>\n",
       "      <th>categories</th>\n",
       "      <th>price</th>\n",
       "      <th>user_rating_cnt_90d</th>\n",
       "      <th>user_rating_avg_prev_rating_90d</th>\n",
       "      <th>user_rating_list_10_recent_asin</th>\n",
       "      <th>item_sequence</th>\n",
       "    </tr>\n",
       "  </thead>\n",
       "  <tbody>\n",
       "    <tr>\n",
       "      <th>1025</th>\n",
       "      <td>AGOKYUNVDXPVGKFK7EISFW6WKZQA</td>\n",
       "      <td>B09PNLW45Z</td>\n",
       "      <td>1.0</td>\n",
       "      <td>2021-12-03 17:34:12.409</td>\n",
       "      <td>2.0</td>\n",
       "      <td>4.50</td>\n",
       "      <td>0.0</td>\n",
       "      <td>NaN</td>\n",
       "      <td>0.0</td>\n",
       "      <td>NaN</td>\n",
       "      <td>...</td>\n",
       "      <td>4495</td>\n",
       "      <td>Video Games</td>\n",
       "      <td>SteelSeries Arctis Pro Wireless Gaming Headset...</td>\n",
       "      <td>[Arctis Pro Wireless features rock solid dual ...</td>\n",
       "      <td>[Video Games, PlayStation 4, Accessories, Head...</td>\n",
       "      <td>434.51</td>\n",
       "      <td>1</td>\n",
       "      <td>NaN</td>\n",
       "      <td>B004AYCNQ6,B004LLHFAW,B00IRHE892,B01MG8P418,B0...</td>\n",
       "      <td>[-1, -1, 1655, 1733, 2655, 3491, 3625, 4626, 3...</td>\n",
       "    </tr>\n",
       "    <tr>\n",
       "      <th>344</th>\n",
       "      <td>AH7GYKBRDAWT2673HJKOXPIT57JQ</td>\n",
       "      <td>B00ANHBJBY</td>\n",
       "      <td>0.0</td>\n",
       "      <td>2022-01-26 22:31:23.759</td>\n",
       "      <td>0.0</td>\n",
       "      <td>NaN</td>\n",
       "      <td>0.0</td>\n",
       "      <td>NaN</td>\n",
       "      <td>0.0</td>\n",
       "      <td>NaN</td>\n",
       "      <td>...</td>\n",
       "      <td>2286</td>\n",
       "      <td>Video Games</td>\n",
       "      <td>Pro Commander for Wii U</td>\n",
       "      <td>[Take command of your favorite Wii U games wit...</td>\n",
       "      <td>[]</td>\n",
       "      <td>None</td>\n",
       "      <td>1</td>\n",
       "      <td>NaN</td>\n",
       "      <td>B0036EWMIK,B003OAE79S,B000N5Z2L4,B07YBX5FVF,B0...</td>\n",
       "      <td>[1426, 1526, 526, 4272, 758, 2356, 1406, 1487,...</td>\n",
       "    </tr>\n",
       "    <tr>\n",
       "      <th>949</th>\n",
       "      <td>AGYJI6XSILTABA3ZWALFM6SMEVOQ</td>\n",
       "      <td>B005ZBNXMG</td>\n",
       "      <td>0.0</td>\n",
       "      <td>2022-04-22 22:32:31.047</td>\n",
       "      <td>1.0</td>\n",
       "      <td>5.00</td>\n",
       "      <td>0.0</td>\n",
       "      <td>NaN</td>\n",
       "      <td>0.0</td>\n",
       "      <td>NaN</td>\n",
       "      <td>...</td>\n",
       "      <td>1966</td>\n",
       "      <td>Video Games</td>\n",
       "      <td>Mario &amp; Sonic at the London 2012 Olympic Games...</td>\n",
       "      <td>[Product Description, Arriving on Nintendo’s n...</td>\n",
       "      <td>[Video Games, Legacy Systems, Nintendo Systems...</td>\n",
       "      <td>29.72</td>\n",
       "      <td>1</td>\n",
       "      <td>NaN</td>\n",
       "      <td>B07SM7G9CN,B07G1SC6BW,B07L6MJ6LD,B07J3P1GJM,B0...</td>\n",
       "      <td>[-1, 4164, 3970, 4049, 4018, 4388, 3697, 3576,...</td>\n",
       "    </tr>\n",
       "    <tr>\n",
       "      <th>1320</th>\n",
       "      <td>AHTLGOWRXF4PNX6DEUZXVZWBBVTQ</td>\n",
       "      <td>B075S5CYZR</td>\n",
       "      <td>1.0</td>\n",
       "      <td>2022-03-31 17:41:58.454</td>\n",
       "      <td>0.0</td>\n",
       "      <td>NaN</td>\n",
       "      <td>0.0</td>\n",
       "      <td>NaN</td>\n",
       "      <td>0.0</td>\n",
       "      <td>NaN</td>\n",
       "      <td>...</td>\n",
       "      <td>3784</td>\n",
       "      <td>Video Games</td>\n",
       "      <td>Dragon's Dogma: Dark Arisen - Standard Edition...</td>\n",
       "      <td>[Set in a huge open world, Dragon's Dogma: Dar...</td>\n",
       "      <td>[Video Games, PlayStation 4, Games]</td>\n",
       "      <td>34.42</td>\n",
       "      <td>5</td>\n",
       "      <td>3.000000</td>\n",
       "      <td>B01BF9X6LO,B07YBXFDYN,B07VRD1TT1,B01GW3H3U8,B0...</td>\n",
       "      <td>[3277, 4282, 4209, 3360, 4299, 3940, 4276, 415...</td>\n",
       "    </tr>\n",
       "    <tr>\n",
       "      <th>1455</th>\n",
       "      <td>AEAIDF2BE3UEOTRCCON2NIVLUDBA</td>\n",
       "      <td>B08N7VJBH6</td>\n",
       "      <td>1.0</td>\n",
       "      <td>2022-01-18 03:07:48.175</td>\n",
       "      <td>2.0</td>\n",
       "      <td>5.00</td>\n",
       "      <td>0.0</td>\n",
       "      <td>NaN</td>\n",
       "      <td>0.0</td>\n",
       "      <td>NaN</td>\n",
       "      <td>...</td>\n",
       "      <td>4419</td>\n",
       "      <td>Video Games</td>\n",
       "      <td>Super Mario Maker 2 - Nintendo Switch</td>\n",
       "      <td>[Platform:Nintendo Switch | Edition:Standard M...</td>\n",
       "      <td>[Video Games, Nintendo Switch, Games]</td>\n",
       "      <td>49.94</td>\n",
       "      <td>2</td>\n",
       "      <td>5.000000</td>\n",
       "      <td>B087NNZZM8,B07X5CZXKH,B07QQ8N7LL,B07348JQ3L,B0...</td>\n",
       "      <td>[-1, -1, -1, 4343, 4254, 4140, 3707, 4368, 438...</td>\n",
       "    </tr>\n",
       "    <tr>\n",
       "      <th>1357</th>\n",
       "      <td>AHCFZPQLIV7236UBXSGU3I5SMXBQ</td>\n",
       "      <td>B008M4BNQ6</td>\n",
       "      <td>0.0</td>\n",
       "      <td>2021-11-11 03:37:41.655</td>\n",
       "      <td>1.0</td>\n",
       "      <td>4.00</td>\n",
       "      <td>0.0</td>\n",
       "      <td>NaN</td>\n",
       "      <td>0.0</td>\n",
       "      <td>NaN</td>\n",
       "      <td>...</td>\n",
       "      <td>2174</td>\n",
       "      <td>Video Games</td>\n",
       "      <td>Turtle Beach - Ear Force XLa Gaming Headset - ...</td>\n",
       "      <td>[Turtle Beach Ear Force XLa, view larger, The,...</td>\n",
       "      <td>[Video Games, Legacy Systems, Xbox Systems, Xb...</td>\n",
       "      <td>None</td>\n",
       "      <td>4</td>\n",
       "      <td>4.666667</td>\n",
       "      <td>B07STWQ38X,B072V478NR,B076GXJNDZ,B0C5HQ6L7F,B0...</td>\n",
       "      <td>[4170, 3705, 3798, 4612, 3691, 3087, 3479, 372...</td>\n",
       "    </tr>\n",
       "    <tr>\n",
       "      <th>1133</th>\n",
       "      <td>AEXLFLCDXVF6CJ6JVGZADT2Z3R2Q</td>\n",
       "      <td>B07982R9BZ</td>\n",
       "      <td>1.0</td>\n",
       "      <td>2022-02-27 20:40:17.200</td>\n",
       "      <td>1.0</td>\n",
       "      <td>5.00</td>\n",
       "      <td>0.0</td>\n",
       "      <td>NaN</td>\n",
       "      <td>0.0</td>\n",
       "      <td>NaN</td>\n",
       "      <td>...</td>\n",
       "      <td>3848</td>\n",
       "      <td>Video Games</td>\n",
       "      <td>Skull &amp; Co. Skin, CQC and FPS Thumb Grip Set J...</td>\n",
       "      <td>[3 different designs - to meet all gamersâ n...</td>\n",
       "      <td>[Video Games, Nintendo Switch, Accessories, Ha...</td>\n",
       "      <td>10.99</td>\n",
       "      <td>1</td>\n",
       "      <td>NaN</td>\n",
       "      <td>B003JBHG7C,B00BLDJ1T6,B005DONQWC,B0088TN73M,B0...</td>\n",
       "      <td>[-1, -1, -1, -1, 1483, 2350, 1904, 2123, 4542,...</td>\n",
       "    </tr>\n",
       "    <tr>\n",
       "      <th>579</th>\n",
       "      <td>AE4QIOB3UZVH6UIF2GYTHHQ772GQ</td>\n",
       "      <td>B087LSSNG1</td>\n",
       "      <td>1.0</td>\n",
       "      <td>2021-09-27 13:13:32.839</td>\n",
       "      <td>6.0</td>\n",
       "      <td>4.50</td>\n",
       "      <td>1.0</td>\n",
       "      <td>5.0</td>\n",
       "      <td>1.0</td>\n",
       "      <td>5.0</td>\n",
       "      <td>...</td>\n",
       "      <td>4337</td>\n",
       "      <td>Video Games</td>\n",
       "      <td>Xenoblade Chronicles: Definitive Edition - Nin...</td>\n",
       "      <td>[Discover the origins of Shulk as he and his c...</td>\n",
       "      <td>[Video Games, Nintendo Switch, Games]</td>\n",
       "      <td>54.98</td>\n",
       "      <td>1</td>\n",
       "      <td>NaN</td>\n",
       "      <td>B001NJMMHG,B087STK7JZ,B01N3ASPNV,B07T5QKKVP,B0...</td>\n",
       "      <td>[-1, -1, -1, -1, -1, 1114, 4348, 3527, 4176, 4...</td>\n",
       "    </tr>\n",
       "    <tr>\n",
       "      <th>719</th>\n",
       "      <td>AEMGKQWYD5AY4SQQWERK57RDE5JQ</td>\n",
       "      <td>B0BN942894</td>\n",
       "      <td>1.0</td>\n",
       "      <td>2021-10-01 02:55:25.812</td>\n",
       "      <td>20.0</td>\n",
       "      <td>4.65</td>\n",
       "      <td>1.0</td>\n",
       "      <td>5.0</td>\n",
       "      <td>0.0</td>\n",
       "      <td>NaN</td>\n",
       "      <td>...</td>\n",
       "      <td>4573</td>\n",
       "      <td>Computers</td>\n",
       "      <td>BENGOO Stereo Pro Gaming Headset for PS4, PC, ...</td>\n",
       "      <td>[]</td>\n",
       "      <td>[Video Games, PC, Accessories, Headsets]</td>\n",
       "      <td>33.99</td>\n",
       "      <td>2</td>\n",
       "      <td>5.000000</td>\n",
       "      <td>B00Z9TMH1W,B01MG6DORB,B01GY35W22,B001EYUSSA,B0...</td>\n",
       "      <td>[-1, -1, 3061, 3490, 3377, 958, 4611, 3388, 10...</td>\n",
       "    </tr>\n",
       "    <tr>\n",
       "      <th>1816</th>\n",
       "      <td>AGDAPPCYV472FOUKDGAHZRW766GA</td>\n",
       "      <td>B000B69E9G</td>\n",
       "      <td>1.0</td>\n",
       "      <td>2022-04-07 05:49:55.659</td>\n",
       "      <td>1.0</td>\n",
       "      <td>5.00</td>\n",
       "      <td>0.0</td>\n",
       "      <td>NaN</td>\n",
       "      <td>0.0</td>\n",
       "      <td>NaN</td>\n",
       "      <td>...</td>\n",
       "      <td>404</td>\n",
       "      <td>Video Games</td>\n",
       "      <td>Resident Evil 4 - PlayStation 2</td>\n",
       "      <td>[In Resident Evil 4 you'll know a new type of ...</td>\n",
       "      <td>[Video Games, Legacy Systems, PlayStation Syst...</td>\n",
       "      <td>None</td>\n",
       "      <td>2</td>\n",
       "      <td>1.000000</td>\n",
       "      <td>B00GM5UIN6,B087SHFL9B,B00000DMAT,B001EYUOA2,B0...</td>\n",
       "      <td>[2569, 4344, 7, 844, 2115, 264, 162, 4090, 102...</td>\n",
       "    </tr>\n",
       "  </tbody>\n",
       "</table>\n",
       "<p>10 rows × 23 columns</p>\n",
       "</div>"
      ],
      "text/plain": [
       "                           user_id parent_asin  rating  \\\n",
       "1025  AGOKYUNVDXPVGKFK7EISFW6WKZQA  B09PNLW45Z     1.0   \n",
       "344   AH7GYKBRDAWT2673HJKOXPIT57JQ  B00ANHBJBY     0.0   \n",
       "949   AGYJI6XSILTABA3ZWALFM6SMEVOQ  B005ZBNXMG     0.0   \n",
       "1320  AHTLGOWRXF4PNX6DEUZXVZWBBVTQ  B075S5CYZR     1.0   \n",
       "1455  AEAIDF2BE3UEOTRCCON2NIVLUDBA  B08N7VJBH6     1.0   \n",
       "1357  AHCFZPQLIV7236UBXSGU3I5SMXBQ  B008M4BNQ6     0.0   \n",
       "1133  AEXLFLCDXVF6CJ6JVGZADT2Z3R2Q  B07982R9BZ     1.0   \n",
       "579   AE4QIOB3UZVH6UIF2GYTHHQ772GQ  B087LSSNG1     1.0   \n",
       "719   AEMGKQWYD5AY4SQQWERK57RDE5JQ  B0BN942894     1.0   \n",
       "1816  AGDAPPCYV472FOUKDGAHZRW766GA  B000B69E9G     1.0   \n",
       "\n",
       "                   timestamp  parent_asin_rating_cnt_365d  \\\n",
       "1025 2021-12-03 17:34:12.409                          2.0   \n",
       "344  2022-01-26 22:31:23.759                          0.0   \n",
       "949  2022-04-22 22:32:31.047                          1.0   \n",
       "1320 2022-03-31 17:41:58.454                          0.0   \n",
       "1455 2022-01-18 03:07:48.175                          2.0   \n",
       "1357 2021-11-11 03:37:41.655                          1.0   \n",
       "1133 2022-02-27 20:40:17.200                          1.0   \n",
       "579  2021-09-27 13:13:32.839                          6.0   \n",
       "719  2021-10-01 02:55:25.812                         20.0   \n",
       "1816 2022-04-07 05:49:55.659                          1.0   \n",
       "\n",
       "      parent_asin_rating_avg_prev_rating_365d  parent_asin_rating_cnt_90d  \\\n",
       "1025                                     4.50                         0.0   \n",
       "344                                       NaN                         0.0   \n",
       "949                                      5.00                         0.0   \n",
       "1320                                      NaN                         0.0   \n",
       "1455                                     5.00                         0.0   \n",
       "1357                                     4.00                         0.0   \n",
       "1133                                     5.00                         0.0   \n",
       "579                                      4.50                         1.0   \n",
       "719                                      4.65                         1.0   \n",
       "1816                                     5.00                         0.0   \n",
       "\n",
       "      parent_asin_rating_avg_prev_rating_90d  parent_asin_rating_cnt_30d  \\\n",
       "1025                                     NaN                         0.0   \n",
       "344                                      NaN                         0.0   \n",
       "949                                      NaN                         0.0   \n",
       "1320                                     NaN                         0.0   \n",
       "1455                                     NaN                         0.0   \n",
       "1357                                     NaN                         0.0   \n",
       "1133                                     NaN                         0.0   \n",
       "579                                      5.0                         1.0   \n",
       "719                                      5.0                         0.0   \n",
       "1816                                     NaN                         0.0   \n",
       "\n",
       "      parent_asin_rating_avg_prev_rating_30d  ...  item_indice  main_category  \\\n",
       "1025                                     NaN  ...         4495    Video Games   \n",
       "344                                      NaN  ...         2286    Video Games   \n",
       "949                                      NaN  ...         1966    Video Games   \n",
       "1320                                     NaN  ...         3784    Video Games   \n",
       "1455                                     NaN  ...         4419    Video Games   \n",
       "1357                                     NaN  ...         2174    Video Games   \n",
       "1133                                     NaN  ...         3848    Video Games   \n",
       "579                                      5.0  ...         4337    Video Games   \n",
       "719                                      NaN  ...         4573      Computers   \n",
       "1816                                     NaN  ...          404    Video Games   \n",
       "\n",
       "                                                  title  \\\n",
       "1025  SteelSeries Arctis Pro Wireless Gaming Headset...   \n",
       "344                             Pro Commander for Wii U   \n",
       "949   Mario & Sonic at the London 2012 Olympic Games...   \n",
       "1320  Dragon's Dogma: Dark Arisen - Standard Edition...   \n",
       "1455              Super Mario Maker 2 - Nintendo Switch   \n",
       "1357  Turtle Beach - Ear Force XLa Gaming Headset - ...   \n",
       "1133  Skull & Co. Skin, CQC and FPS Thumb Grip Set J...   \n",
       "579   Xenoblade Chronicles: Definitive Edition - Nin...   \n",
       "719   BENGOO Stereo Pro Gaming Headset for PS4, PC, ...   \n",
       "1816                    Resident Evil 4 - PlayStation 2   \n",
       "\n",
       "                                            description  \\\n",
       "1025  [Arctis Pro Wireless features rock solid dual ...   \n",
       "344   [Take command of your favorite Wii U games wit...   \n",
       "949   [Product Description, Arriving on Nintendo’s n...   \n",
       "1320  [Set in a huge open world, Dragon's Dogma: Dar...   \n",
       "1455  [Platform:Nintendo Switch | Edition:Standard M...   \n",
       "1357  [Turtle Beach Ear Force XLa, view larger, The,...   \n",
       "1133  [3 different designs - to meet all gamersâ n...   \n",
       "579   [Discover the origins of Shulk as he and his c...   \n",
       "719                                                  []   \n",
       "1816  [In Resident Evil 4 you'll know a new type of ...   \n",
       "\n",
       "                                             categories   price  \\\n",
       "1025  [Video Games, PlayStation 4, Accessories, Head...  434.51   \n",
       "344                                                  []    None   \n",
       "949   [Video Games, Legacy Systems, Nintendo Systems...   29.72   \n",
       "1320                [Video Games, PlayStation 4, Games]   34.42   \n",
       "1455              [Video Games, Nintendo Switch, Games]   49.94   \n",
       "1357  [Video Games, Legacy Systems, Xbox Systems, Xb...    None   \n",
       "1133  [Video Games, Nintendo Switch, Accessories, Ha...   10.99   \n",
       "579               [Video Games, Nintendo Switch, Games]   54.98   \n",
       "719            [Video Games, PC, Accessories, Headsets]   33.99   \n",
       "1816  [Video Games, Legacy Systems, PlayStation Syst...    None   \n",
       "\n",
       "     user_rating_cnt_90d user_rating_avg_prev_rating_90d  \\\n",
       "1025                   1                             NaN   \n",
       "344                    1                             NaN   \n",
       "949                    1                             NaN   \n",
       "1320                   5                        3.000000   \n",
       "1455                   2                        5.000000   \n",
       "1357                   4                        4.666667   \n",
       "1133                   1                             NaN   \n",
       "579                    1                             NaN   \n",
       "719                    2                        5.000000   \n",
       "1816                   2                        1.000000   \n",
       "\n",
       "                        user_rating_list_10_recent_asin  \\\n",
       "1025  B004AYCNQ6,B004LLHFAW,B00IRHE892,B01MG8P418,B0...   \n",
       "344   B0036EWMIK,B003OAE79S,B000N5Z2L4,B07YBX5FVF,B0...   \n",
       "949   B07SM7G9CN,B07G1SC6BW,B07L6MJ6LD,B07J3P1GJM,B0...   \n",
       "1320  B01BF9X6LO,B07YBXFDYN,B07VRD1TT1,B01GW3H3U8,B0...   \n",
       "1455  B087NNZZM8,B07X5CZXKH,B07QQ8N7LL,B07348JQ3L,B0...   \n",
       "1357  B07STWQ38X,B072V478NR,B076GXJNDZ,B0C5HQ6L7F,B0...   \n",
       "1133  B003JBHG7C,B00BLDJ1T6,B005DONQWC,B0088TN73M,B0...   \n",
       "579   B001NJMMHG,B087STK7JZ,B01N3ASPNV,B07T5QKKVP,B0...   \n",
       "719   B00Z9TMH1W,B01MG6DORB,B01GY35W22,B001EYUSSA,B0...   \n",
       "1816  B00GM5UIN6,B087SHFL9B,B00000DMAT,B001EYUOA2,B0...   \n",
       "\n",
       "                                          item_sequence  \n",
       "1025  [-1, -1, 1655, 1733, 2655, 3491, 3625, 4626, 3...  \n",
       "344   [1426, 1526, 526, 4272, 758, 2356, 1406, 1487,...  \n",
       "949   [-1, 4164, 3970, 4049, 4018, 4388, 3697, 3576,...  \n",
       "1320  [3277, 4282, 4209, 3360, 4299, 3940, 4276, 415...  \n",
       "1455  [-1, -1, -1, 4343, 4254, 4140, 3707, 4368, 438...  \n",
       "1357  [4170, 3705, 3798, 4612, 3691, 3087, 3479, 372...  \n",
       "1133  [-1, -1, -1, -1, 1483, 2350, 1904, 2123, 4542,...  \n",
       "579   [-1, -1, -1, -1, -1, 1114, 4348, 3527, 4176, 4...  \n",
       "719   [-1, -1, 3061, 3490, 3377, 958, 4611, 3388, 10...  \n",
       "1816  [2569, 4344, 7, 844, 2115, 264, 162, 4090, 102...  \n",
       "\n",
       "[10 rows x 23 columns]"
      ]
     },
     "execution_count": 23,
     "metadata": {},
     "output_type": "execute_result"
    }
   ],
   "source": [
    "val_df = val_rating_dataset.df\n",
    "val_df.sample(10)"
   ]
  },
  {
   "cell_type": "code",
   "execution_count": 24,
   "id": "9eb1583b-40f7-4157-a383-5891389ac119",
   "metadata": {
    "scrolled": true
   },
   "outputs": [
    {
     "data": {
      "text/html": [
       "<div>\n",
       "<style scoped>\n",
       "    .dataframe tbody tr th:only-of-type {\n",
       "        vertical-align: middle;\n",
       "    }\n",
       "\n",
       "    .dataframe tbody tr th {\n",
       "        vertical-align: top;\n",
       "    }\n",
       "\n",
       "    .dataframe thead th {\n",
       "        text-align: right;\n",
       "    }\n",
       "</style>\n",
       "<table border=\"1\" class=\"dataframe\">\n",
       "  <thead>\n",
       "    <tr style=\"text-align: right;\">\n",
       "      <th></th>\n",
       "      <th>user_id</th>\n",
       "      <th>parent_asin</th>\n",
       "      <th>rating</th>\n",
       "      <th>timestamp</th>\n",
       "      <th>parent_asin_rating_cnt_365d</th>\n",
       "      <th>parent_asin_rating_avg_prev_rating_365d</th>\n",
       "      <th>parent_asin_rating_cnt_90d</th>\n",
       "      <th>parent_asin_rating_avg_prev_rating_90d</th>\n",
       "      <th>parent_asin_rating_cnt_30d</th>\n",
       "      <th>parent_asin_rating_avg_prev_rating_30d</th>\n",
       "      <th>...</th>\n",
       "      <th>item_indice</th>\n",
       "      <th>main_category</th>\n",
       "      <th>title</th>\n",
       "      <th>description</th>\n",
       "      <th>categories</th>\n",
       "      <th>price</th>\n",
       "      <th>user_rating_cnt_90d</th>\n",
       "      <th>user_rating_avg_prev_rating_90d</th>\n",
       "      <th>user_rating_list_10_recent_asin</th>\n",
       "      <th>item_sequence</th>\n",
       "    </tr>\n",
       "  </thead>\n",
       "  <tbody>\n",
       "    <tr>\n",
       "      <th>361</th>\n",
       "      <td>AGBP6HAY2K6QPNW3KENGNXURANWQ</td>\n",
       "      <td>B00OUSKMQA</td>\n",
       "      <td>0.0</td>\n",
       "      <td>2022-07-01 01:16:06.861</td>\n",
       "      <td>9.0</td>\n",
       "      <td>3.000000</td>\n",
       "      <td>0.0</td>\n",
       "      <td>NaN</td>\n",
       "      <td>0.0</td>\n",
       "      <td>NaN</td>\n",
       "      <td>...</td>\n",
       "      <td>2879</td>\n",
       "      <td>Computers</td>\n",
       "      <td>Corsair Vengeance 1400 Gaming Headset (CA-9011123-NA-Y)</td>\n",
       "      <td>[Vengeance 1400 helps you get the most out of your high-end sound card and enjoy gaming audio the way that the designer intended. The massive 50 mm drivers give you accurate audio reproduction with deep, satisfying lows, clear midrange and sparkling highs, without the overloading and distortion that can occur on lesser gaming headsets. The circumaural, closed-back ear cups help block outside sound, with memory foam ear pads and synthetic leather covers that provide a comfortable fit that conforms to the shape of your head without binding or pinching. And, the noise-cancelling microphone is tuned to capture your voice loudly and clearly, while screening out distracting background noises. The Vengeance 1400 has a single 3.5mm headphone/microphone port and an adapter with separate 3.5mm headphone and microphone connectors for wide compatibility with PCs, Macs, PlayStation 4, and most mobile devices.]</td>\n",
       "      <td>[Video Games, PC, Accessories, Headsets]</td>\n",
       "      <td>86.95</td>\n",
       "      <td>3</td>\n",
       "      <td>5.0</td>\n",
       "      <td>B07SQZ3GJG,B00ANZR7X0,B000ARPXU0,B01GY35YXO,B07XYPDH7T,B003C1PV4O,B087SHFL9B,B00EU61DL0,B002BSC4ZS,B07X5X5KF9</td>\n",
       "      <td>[4166, 2288, 400, 3378, 4268, 1453, 4344, 2505, 1219, 4257]</td>\n",
       "    </tr>\n",
       "    <tr>\n",
       "      <th>441</th>\n",
       "      <td>AGBP6HAY2K6QPNW3KENGNXURANWQ</td>\n",
       "      <td>B003IPCF02</td>\n",
       "      <td>0.0</td>\n",
       "      <td>2022-05-15 19:20:40.786</td>\n",
       "      <td>3.0</td>\n",
       "      <td>3.666667</td>\n",
       "      <td>1.0</td>\n",
       "      <td>1.0</td>\n",
       "      <td>0.0</td>\n",
       "      <td>NaN</td>\n",
       "      <td>...</td>\n",
       "      <td>1482</td>\n",
       "      <td>Video Games</td>\n",
       "      <td>Halo Reach - Legendary Edition</td>\n",
       "      <td>[Product Description, The complete Halo: Reach collection. In addition to the game disc and the complete contents of the Limited Edition, the Legendary Edition includes a Noble Team statue expertly crafted by the artisans at McFarlane Toys. In addition to this, the statute is placed in UNSC-themed custom packaging exclusive and the game includes an exclusive, multiplayer Spartan armor effect - a flaming helmet., From the Manufacturer, Product Overview, “Halo: Reach,” developed exclusively for Xbox 360, is theblockbuster prequel to the landmark “Halo” video game franchise and is the biggest game yet in the Halo series.“Halo” is one of the biggest video game series in history, and is the top selling franchise on Xbox. It has defined a generation of gamers and changed how people view video games., “Halo: Reach” tells the tragic and heroic story of Noble Team, a group of Spartans, who through great sacrifice and courage saved countless lives in the face of impossible odds. The planet Reach is humanity’s last line of defense between the encroaching Covenant and their ultimate goal, the destruction of Earth. If it falls, humanity will be perched on the brink of destruction., Product Features, Welcome to Noble Team. “Halo: Reach” immerses you in the ominous and heroic story of “Halo: Reach” as you play as a member of Noble Team, a squad of iconic Spartan soldiers, each with deadly talents as unique as their individual personalities and customized gear., Welcome to Noble Team. “Halo: Reach” immerses you in the ominous and heroic story of “Halo: Reach” as you play as a member of Noble Team, a squad of iconic Spartan soldiers, each with deadly talents as unique as their individual personalities and customized gear., An Intense and Epic Campaign. Live the events that set the stage for the “Halo” trilogy as the UNSC and Covenant clash at the height of their military power. New weapons, vehicles, and abilities complement the familiar “Halo” arsenal for the largest-scale battles ever witnessed in the “Halo” universe. Fiercely cunning artificial intelligence (AI) adds depth and complexity to each encounter, helping make every play-through a unique and challenging experience, whether players go it alone or connect with up to three friends to launch a cooperative assault., An Intense and Epic Campaign. Live the events that set the stage for the “Halo” trilogy as the UNSC and Covenant clash at the height of their military power. New weapons, vehicles, and abilities complement the familiar “Halo” arsenal for the largest-scale battles ever witnessed in the “Halo” universe. Fiercely cunning artificial intelligence (AI) adds depth and complexity to each encounter, helping make every play-through a unique and challenging experience, whether players go it alone or connect with up to three friends to launch a cooperative assault., The Definitive Multiplayer Experience. The “Halo” series has set the gold standard for the multiplayer experience in video games. “Halo: Reach” continues that rich tradition by introducing a dramatically expanded suite of multiplayer offerings that promise once again to redefine the landscape of online gaming., The Definitive Multiplayer Experience. The “Halo” series has set the gold standard for the multiplayer experience in video games. “Halo: Reach” continues that rich tradition by introducing a dramatically expanded suite of multiplayer offerings that promise once again to redefine the landscape of online gaming., Stunning Technical Advancements. “Halo: Reach”takes a significant leap forward with all-new enginetechnology representing the next generation of art,audio, AI, animation and Hollywood-style specialeffects. Power through massive scale combat across sweeping open environments and fight up close and personal along side new characters and creatures as you unravel mysteries buried deep in the “Halo”universe., Stunning Technical Advancements. “Halo: Reach”takes a significant leap forward with all-new enginetechnology representing the next generation of art,audio, AI, animation and Hollywood-style specialeffects. Power through massive scale combat across sweeping open environments and fight up close and personal along side new characters and creatures as you unravel mysteries buried deep in the “Halo”universe., New social settings for match making enable you to play with the people you want, find like-minded teammates, vote on preferred maps and game types and also keep an active roster., New social settings for match making enable you to play with the people you want, find like-minded teammates, vote on preferred maps and game types and also keep an active roster., Matchmaking is now integrated across every facet of “Halo: Reach,” including campaign mode and Firefight., Matchmaking is now integrated across every facet of “Halo: Reach,” including campaign mode and Firefight., The next generation of Firefight mode lets players go head-to-head in versus mode and allows for an incredibly deep level of customization and replay ability by allowing players to change game rules and settings., The next generation of Firefight mode lets players go head-to-head in versus mode and allows for an incredibly deep level of customization and replay ability by allowing players to change game rules and settings., New multiplayer game modes like “Invasion” and “Arena” offer competitive players a chance to show off their skills like never before., New multiplayer game modes like “Invasion” and “Arena” offer competitive players a chance to show off their skills like never before., Forge tools and the advent of the Forge World space enable players to construct entirely new maps and game modes and share them with the “Halo” community over Xbox LIVE. The future of “Halo” multiplayer experiences will continue to grow and be shaped by the people who play it for years to come., Forge tools and the advent of the Forge World space enable players to construct entirely new maps and game modes and share them with the “Halo” community over Xbox LIVE. The future of “Halo” multiplayer experiences will continue to grow and be shaped by the people who play it for years to come., Player Customization &amp; Reward. “Halo: Reach” gives you the ability to customize and personalize your Spartan with a staggering array of armor accessories that will appear in both multiplayer and campaign play. Across every game mode, you’re rewarded for everything you do, for every style of play, earning valuable credits that can be used to unlock additional cosmetic upgrades via the Armory., Player Customization &amp; Reward. “Halo: Reach” gives you the ability to customize and personalize your Spartan with a staggering array of armor accessories that will appear in both multiplayer and campaign play. Across every game mode, you’re rewarded for everything you do, for every style of play, earning valuable credits that can be used to unlock additional cosmetic upgrades via the Armory.]</td>\n",
       "      <td>[Video Games, Legacy Systems, Xbox Systems, Xbox 360, Games]</td>\n",
       "      <td>749.99</td>\n",
       "      <td>1</td>\n",
       "      <td>NaN</td>\n",
       "      <td>B0C3KYVDWT,B07SQZ3GJG,B00ANZR7X0,B000ARPXU0,B01GY35YXO,B07XYPDH7T,B003C1PV4O,B087SHFL9B,B00EU61DL0</td>\n",
       "      <td>[-1, 4607, 4166, 2288, 400, 3378, 4268, 1453, 4344, 2505]</td>\n",
       "    </tr>\n",
       "    <tr>\n",
       "      <th>761</th>\n",
       "      <td>AGBP6HAY2K6QPNW3KENGNXURANWQ</td>\n",
       "      <td>B001QCWS9M</td>\n",
       "      <td>1.0</td>\n",
       "      <td>2022-07-01 01:16:06.861</td>\n",
       "      <td>0.0</td>\n",
       "      <td>NaN</td>\n",
       "      <td>0.0</td>\n",
       "      <td>NaN</td>\n",
       "      <td>0.0</td>\n",
       "      <td>NaN</td>\n",
       "      <td>...</td>\n",
       "      <td>1131</td>\n",
       "      <td>Video Games</td>\n",
       "      <td>Overlord 2</td>\n",
       "      <td>[Product Description, Overlor II is the sequel to the hit warped fantasy action adventure that had players being delightfully despotic. In Overlord II, a new Overlord and a more powerful army of Minions take on the Glorious Empire, an advanced Romanesque nation, in a truly epic, yet familiarly warped, adventure. As the Glorious Empire conquers kingdoms and destroys any sign of magic it finds, it¿s time to go Minion Maximus with a rousing cry of ¿Veni, Vidi, Vici¿ and send in the horde. The Minions return smarter, deadlier (and funnier) and are ready to fight in large scale battles that will see their wild pack mentality squaring up to the organised legions of the Glorious Empire. As ever, they¿ll do anything and everything the Overlord commands of them, especially now that they can run ravage and wreck buildings and scenery. They¿ve also learnt to ride: In Overlord II, Minions will be able to mount up and ride wolves and other magical creatures around the landscape and take them into battle, making our band of merry fighters faster and fiercer than ever before, Amazon.com, Overlord II, is the sequel to the hit warped fantasy action adventure that had players being delightfully despotic. In, Overlord II, , a new overlord and a more powerful army of Minions take on an entire empire in a truly epic adventure, inspired by the rise of the Roman Empire. As this new enemy, the Glorious Empire, conquers kingdoms and destroys any sign of magic it finds, it’s time to go Minion Maximus and send in the horde. .caption { font-family: Verdana, Helvetica neue, Arial, serif; font-size: 10px; font-weight: bold; font-style: italic; } ul.indent { list-style: inside disc; text-indent: -15px; } table.callout { font-family: verdana; font-size: 11px; line-height: 1. 3em; } td.vgoverview { height: 125px; background: #9DC4D8 url(https://images-na.ssl-images-amazon.com/images/G/01/electronics/detail-page/callout-bg.png) repeat-x; border-left: 1px solid #999999; border-right: 1px solid #999999; padding-left: 20px; padding-right: 20px; padding-bottom: 10px; width: 250px; font-family: verdana; font-size: 12px; }, Become the new overlord., View larger, ., Battle the Glorious Empire., View larger, ., Minion-specific mounts., View larger, ., Large-scale battles &amp; bosses., View larger, ., Story, Overlord II, picks up right where the previous game left off. In it the original overlord is no more, and in his absence the order of things have changed dramatically. The comically evil, but still deadly gremlin-like army known as Minions are lost without a leader to focus their chaotic power for good, ill or both. Yet change finally appears to be in the air. Sensing that something is afoot, the Minion horde has made its way north to the town of Nordberg. Here they find a male child the likes of which has not been seen since the coming of the original overlord. This child is obviously special, but time is short and he has much to learn. In recent days a new power has arisen, known as the \"Glorious Empire.\" Based in Roman-like legionary tactics, the power of this new enemy is being used to take over all the relinquished territories of the old overlord, and to extinguish all the magic in the land in order to weaken all potential enemies. As the new overlord it's your task to gain all the strength and skills you can, harness the power of the Minion horde and take back what is yours., Gameplay - Destroy or Dominate, Overlord II, features a brand new corruption system that empowers players to enact their evil will through either domination or destruction. Play as a dominating overlord and villages and people will fall under your command with rewards and benefits coming over time. Follow a destructive path, obliterating anything that stands in your way, and you’ll become a demonic lord of chaos. The choice is yours., Manage Your Minions, Effective control your Minions was a big part of, Overlord, , and in, Overlord II, all four varieties of Minions return smarter, deadlier (and funnier) and are ready to fight in large scale battles that will see their wild pack mentality squaring up to the organized legions of the Glorious Empire. As in the previous game, they'll do anything and everything their overlord commands of them, especially now that they can run ravage and wreck buildings and scenery and each have their own specialty in combat; Browns are the main general use soldier units, Reds with their fire-throwing ability are useful for long-range combat, Greens are experts at stealth maneuvers and Blues provide support and healing to other Minions. In addition, they've also learned a powerful new skill, how to ride. Three of the four kinds of Minions feature exclusive mounts: Browns on wolves, Greens on giant spiders that can climb walls and the Reds on salamanders. Atop their mounts these merry fighters are faster, and stronger than ever before., Multiplayer Options, Along with a robust single player campaign, Overlord II, features a wealth of multiplayer play options. Players will enjoy four unique multiplayer campaigns in co-op and versus modes both online and offline, each with their own unique maps. These include:, Co-op Modes: Arena Survival – Two players, both as overlords with their own minions, help each other stay alive as they battle against wave after wave of enemies coming at them in an arena setting.Kill A General – Two players, both as overlords with their own minions, go through a series of lands together on a mission to kill a Glorious Empire general., Co-op Modes:, Arena Survival – Two players, both as overlords with their own minions, help each other stay alive as they battle against wave after wave of enemies coming at them in an arena setting., Arena Survival – Two players, both as overlords with their own minions, help each other stay alive as they battle against wave after wave of enemies coming at them in an arena setting., Kill A General – Two players, both as overlords with their own minions, go through a series of lands together on a mission to kill a Glorious Empire general., Kill A General – Two players, both as overlords with their own minions, go through a series of lands together on a mission to kill a Glorious Empire general., Versus Modes: Treasure Hunt – Two overlords and their minion armies square off against each other to collect gold and other treasure. Whichever overlord has the most treasure at the end of this timed contest wins.King Of The Hill/Capture The Flag – Two overlords and their minions face each other on a battlefield with several hills with flags on top of them. Whoever captures the most flags at the end of this timed event is the winner. Creatures from the overlord world are also on the battlefield wreaking havoc adding an even greater challenge to victory., Versus Modes:, Treasure Hunt – Two overlords and their minion armies square off against each other to collect gold and other treasure. Whichever overlord has the most treasure at the end of this timed contest wins., Treasure Hunt – Two overlords and their minion armies square off against each other to collect gold and other treasure. Whichever overlord has the most treasure at the end of this timed contest wins., King Of The Hill/Capture The Flag – Two overlords and their minions face each other on a battlefield with several hills with flags on top of them. Whoever captures the most flags at the end of this timed event is the winner. Creatures from the overlord world are also on the battlefield wreaking havoc adding an even greater challenge to victory., King Of The Hill/Capture The Flag – Two overlords and their minions face each other on a battlefield with several hills with flags on top of them. Whoever captures the most flags at the end of this timed event is the winner. Creatures from the overlord world are also on the battlefield wreaking havoc adding an even greater challenge to victory., Laughter on the Battlefield, Written by award-winning games writer, Rhianna Pratchett,, Overlord II, puts the laughter into slaughter and continues the series’ trademark humor, playing on the mischievous physical comedy of the minion’s antics with a sprinkling of parody for good measure.]</td>\n",
       "      <td>[Video Games, Legacy Systems, Xbox Systems, Xbox 360, Games]</td>\n",
       "      <td>10.02</td>\n",
       "      <td>3</td>\n",
       "      <td>5.0</td>\n",
       "      <td>B07SQZ3GJG,B00ANZR7X0,B000ARPXU0,B01GY35YXO,B07XYPDH7T,B003C1PV4O,B087SHFL9B,B00EU61DL0,B002BSC4ZS,B07X5X5KF9</td>\n",
       "      <td>[4166, 2288, 400, 3378, 4268, 1453, 4344, 2505, 1219, 4257]</td>\n",
       "    </tr>\n",
       "    <tr>\n",
       "      <th>1230</th>\n",
       "      <td>AGBP6HAY2K6QPNW3KENGNXURANWQ</td>\n",
       "      <td>B002BSC4ZS</td>\n",
       "      <td>1.0</td>\n",
       "      <td>2022-05-15 19:20:40.786</td>\n",
       "      <td>1.0</td>\n",
       "      <td>4.000000</td>\n",
       "      <td>0.0</td>\n",
       "      <td>NaN</td>\n",
       "      <td>0.0</td>\n",
       "      <td>NaN</td>\n",
       "      <td>...</td>\n",
       "      <td>1219</td>\n",
       "      <td>Video Games</td>\n",
       "      <td>Metroid: Other M</td>\n",
       "      <td>[Product Description, Metroid Franchise’s Heroine Gets Personal. For decades, Samus Aran has been known as one of the first female protagonists in video games and one of the most enigmatic. Having traded her haunted past for the solitary life of a bounty hunter, Samus finally tells her own tale in this revealing, personal story of her failings, her flaws and ultimately her motivation. Metroid: Other M is an unprecedented collaboration that blends the slick, action-packed production of the world-renowned Team Ninja development team with the game design talents of the creators of the original Metroid. Metroid: Other M is a dramatic new direction for a legendary franchise and a bold new blend between cinematics, storytelling and the best in interactive entertainment., From the Manufacturer, Metroid: Other M, is a single player shooter for Wii that takes the beloved, Metroid, franchise into uncharted and exciting new territory. Set between the events of, Super Metroid, and, Metroid Fusion, , the game features unprecedented access to the backstory, thoughts and in-game interactions of the usually closed off heroine of the series, Samus Aran. Developed jointly by Nintendo and the celebrated Japanese development studio, Team Ninja, the game also features exciting play options, including the ability to switch between first-person and third-person perspectives, pointer and sideways Wii Remote controller orientation, stunning in-game cinematics and a classic blend of Metroid action and puzzle-solving gameplay. .caption { font-family: Verdana, Helvetica neue, Arial, serif; font-size: 10px; font-weight: bold; font-style: italic; } ul.indent { list-style: inside disc; text-indent: -15px; } table.callout { font-family: verdana; font-size: 11px; line-height: 1. 3em; } td.vgoverview { height: 125px; background: #9DC4D8 url(https://images-na.ssl-images-amazon.com/images/G/01/electronics/detail-page/callout-bg.png) repeat-x; border-left: 1px solid #999999; border-right: 1px solid #999999; padding-left: 20px; padding-right: 20px; padding-bottom: 10px; width: 250px; font-family: verdana; font-size: 12px; }, Continue the Metroid saga and learn much more about Samus Aran., View larger, ., Metroid Franchise's Heroine Gets Personal, For decades, Samus Aran has been known as one of the first female protagonists in video games, and one of the most enigmatic. Having traded her haunted past for the solitary life of a bounty hunter, Samus finally tells her own tale in this revealing, personal story of her failings, her flaws and ultimately her motivation., Metroid: Other M, is an unprecedented collaboration that blends the slick, action-packed production of the world-renowned Team Ninja development team with the game design talents of the creators of the original, Metroid. Metroid: Other M, is a dramatic new direction for a legendary franchise and a bold new blend between cinematics, storytelling and the best in interactive entertainment., Key Game Features, Metroid: Other M takes the best elements of 1st-person and 3rd-person gaming to create a seamless blend between gameplay, storytelling and dynamic cinematography, that feels like a movie the player can control. Players hold the Wii Remote controller sideways while navigating and battling in 3rd-person. However, at any moment, players can switch immediately to Wii Remote pointer controls to examine and explore the environments in 1st-person perspective., Metroid: Other M, takes the best elements of 1st-person and 3rd-person gaming to create a seamless blend between gameplay, storytelling and dynamic cinematography, that feels like a movie the player can control. Players hold the Wii Remote controller sideways while navigating and battling in 3rd-person. However, at any moment, players can switch immediately to Wii Remote pointer controls to examine and explore the environments in 1st-person perspective., Metroid fans know more about Samus' suits and weapons than they do about what drives her. That's about to change. The story begins immediately following the events of Super Metroid, when a baby Metroid gave its life to protect Samus. With voice acting and a rich story, players learn the engaging backstory of Samus as she weaves through an action-packed adventure aboard the Bottle Ship, a decommissioned space facility. As she hurtles into this new adventure, Samus will encounter her first mentor and Commanding Officer of the Galactic Federation, Adam Malkovich., Metroid, fans know more about Samus' suits and weapons than they do about what drives her. That's about to change. The story begins immediately following the events of, Super Metroid, , when a baby Metroid gave its life to protect Samus. With voice acting and a rich story, players learn the engaging backstory of Samus as she weaves through an action-packed adventure aboard the Bottle Ship, a decommissioned space facility. As she hurtles into this new adventure, Samus will encounter her first mentor and Commanding Officer of the Galactic Federation, Adam Malkovich., The development of Metroid: Other M is an exciting collaboration between Nintendo's Yoshio Sakamoto and Team Ninja. Sakamoto was the director of Super Metroid in 1994. Team Ninja is the renowned action developer of Ninja Gaiden. Metroid: Other M pairs Sakamoto's expert level design and exploratory focus of the classic Metroid series with Team Ninja's signature stylish, no-holds-barred action., The development of, Metroid: Other M, is an exciting collaboration between Nintendo's Yoshio Sakamoto and Team Ninja. Sakamoto was the director of, Super Metroid, in 1994. Team Ninja is the renowned action developer of, Ninja Gaiden, ., Metroid: Other M, pairs Sakamoto's expert level design and exploratory focus of the classic, Metroid, series with Team Ninja's signature stylish, no-holds-barred action., Additional Screenshots, :, 1st &amp; 3rd person play options., View larger, ., Classic Metroid action., View larger, ., Beautiful in-game cinematics., View larger, ., 2D &amp; 3D puzzle-solving., View larger, .]</td>\n",
       "      <td>[Video Games, Legacy Systems, Nintendo Systems, Wii, Games]</td>\n",
       "      <td>39.5</td>\n",
       "      <td>1</td>\n",
       "      <td>NaN</td>\n",
       "      <td>B0C3KYVDWT,B07SQZ3GJG,B00ANZR7X0,B000ARPXU0,B01GY35YXO,B07XYPDH7T,B003C1PV4O,B087SHFL9B,B00EU61DL0</td>\n",
       "      <td>[-1, 4607, 4166, 2288, 400, 3378, 4268, 1453, 4344, 2505]</td>\n",
       "    </tr>\n",
       "    <tr>\n",
       "      <th>1638</th>\n",
       "      <td>AGBP6HAY2K6QPNW3KENGNXURANWQ</td>\n",
       "      <td>B0053BCO00</td>\n",
       "      <td>0.0</td>\n",
       "      <td>2022-07-01 01:13:49.018</td>\n",
       "      <td>2.0</td>\n",
       "      <td>5.000000</td>\n",
       "      <td>1.0</td>\n",
       "      <td>5.0</td>\n",
       "      <td>0.0</td>\n",
       "      <td>NaN</td>\n",
       "      <td>...</td>\n",
       "      <td>1875</td>\n",
       "      <td>Video Games</td>\n",
       "      <td>Mario Kart 7</td>\n",
       "      <td>[The newest installment of the fan-favorite Mario Kart franchise brings Mushroom Kingdom racing fun into glorious 3D. For the first time, drivers explore new competitive kart possibilities, such as soaring through the skies or plunging to the depths of the sea. New courses, strategic new abilities and customizable karts bring the racing excitement to new heights.]</td>\n",
       "      <td>[Video Games, Legacy Systems, Nintendo Systems, Nintendo 3DS &amp; 2DS, Games]</td>\n",
       "      <td>32.93</td>\n",
       "      <td>2</td>\n",
       "      <td>5.0</td>\n",
       "      <td>B0C3KYVDWT,B07SQZ3GJG,B00ANZR7X0,B000ARPXU0,B01GY35YXO,B07XYPDH7T,B003C1PV4O,B087SHFL9B,B00EU61DL0,B002BSC4ZS</td>\n",
       "      <td>[4607, 4166, 2288, 400, 3378, 4268, 1453, 4344, 2505, 1219]</td>\n",
       "    </tr>\n",
       "    <tr>\n",
       "      <th>1864</th>\n",
       "      <td>AGBP6HAY2K6QPNW3KENGNXURANWQ</td>\n",
       "      <td>B07X5X5KF9</td>\n",
       "      <td>1.0</td>\n",
       "      <td>2022-07-01 01:13:49.018</td>\n",
       "      <td>0.0</td>\n",
       "      <td>NaN</td>\n",
       "      <td>0.0</td>\n",
       "      <td>NaN</td>\n",
       "      <td>0.0</td>\n",
       "      <td>NaN</td>\n",
       "      <td>...</td>\n",
       "      <td>4257</td>\n",
       "      <td>Video Games</td>\n",
       "      <td>WB Games Middle Earth: Shadow of Mordor - Playstation 4</td>\n",
       "      <td>[Exploit the individual fears, weakness and memories of your enemies as you dismantle Sauron's forces from within.]</td>\n",
       "      <td>[Video Games, PlayStation 4, Games]</td>\n",
       "      <td>20.6</td>\n",
       "      <td>2</td>\n",
       "      <td>5.0</td>\n",
       "      <td>B0C3KYVDWT,B07SQZ3GJG,B00ANZR7X0,B000ARPXU0,B01GY35YXO,B07XYPDH7T,B003C1PV4O,B087SHFL9B,B00EU61DL0,B002BSC4ZS</td>\n",
       "      <td>[4607, 4166, 2288, 400, 3378, 4268, 1453, 4344, 2505, 1219]</td>\n",
       "    </tr>\n",
       "  </tbody>\n",
       "</table>\n",
       "<p>6 rows × 23 columns</p>\n",
       "</div>"
      ],
      "text/plain": [
       "                           user_id parent_asin  rating  \\\n",
       "361   AGBP6HAY2K6QPNW3KENGNXURANWQ  B00OUSKMQA     0.0   \n",
       "441   AGBP6HAY2K6QPNW3KENGNXURANWQ  B003IPCF02     0.0   \n",
       "761   AGBP6HAY2K6QPNW3KENGNXURANWQ  B001QCWS9M     1.0   \n",
       "1230  AGBP6HAY2K6QPNW3KENGNXURANWQ  B002BSC4ZS     1.0   \n",
       "1638  AGBP6HAY2K6QPNW3KENGNXURANWQ  B0053BCO00     0.0   \n",
       "1864  AGBP6HAY2K6QPNW3KENGNXURANWQ  B07X5X5KF9     1.0   \n",
       "\n",
       "                   timestamp  parent_asin_rating_cnt_365d  \\\n",
       "361  2022-07-01 01:16:06.861                          9.0   \n",
       "441  2022-05-15 19:20:40.786                          3.0   \n",
       "761  2022-07-01 01:16:06.861                          0.0   \n",
       "1230 2022-05-15 19:20:40.786                          1.0   \n",
       "1638 2022-07-01 01:13:49.018                          2.0   \n",
       "1864 2022-07-01 01:13:49.018                          0.0   \n",
       "\n",
       "      parent_asin_rating_avg_prev_rating_365d  parent_asin_rating_cnt_90d  \\\n",
       "361                                  3.000000                         0.0   \n",
       "441                                  3.666667                         1.0   \n",
       "761                                       NaN                         0.0   \n",
       "1230                                 4.000000                         0.0   \n",
       "1638                                 5.000000                         1.0   \n",
       "1864                                      NaN                         0.0   \n",
       "\n",
       "      parent_asin_rating_avg_prev_rating_90d  parent_asin_rating_cnt_30d  \\\n",
       "361                                      NaN                         0.0   \n",
       "441                                      1.0                         0.0   \n",
       "761                                      NaN                         0.0   \n",
       "1230                                     NaN                         0.0   \n",
       "1638                                     5.0                         0.0   \n",
       "1864                                     NaN                         0.0   \n",
       "\n",
       "      parent_asin_rating_avg_prev_rating_30d  ...  item_indice  main_category  \\\n",
       "361                                      NaN  ...         2879      Computers   \n",
       "441                                      NaN  ...         1482    Video Games   \n",
       "761                                      NaN  ...         1131    Video Games   \n",
       "1230                                     NaN  ...         1219    Video Games   \n",
       "1638                                     NaN  ...         1875    Video Games   \n",
       "1864                                     NaN  ...         4257    Video Games   \n",
       "\n",
       "                                                        title  \\\n",
       "361   Corsair Vengeance 1400 Gaming Headset (CA-9011123-NA-Y)   \n",
       "441                            Halo Reach - Legendary Edition   \n",
       "761                                                Overlord 2   \n",
       "1230                                         Metroid: Other M   \n",
       "1638                                             Mario Kart 7   \n",
       "1864  WB Games Middle Earth: Shadow of Mordor - Playstation 4   \n",
       "\n",
       "                                                                                                                                                                                                                                                                                                                                                                                                                                                                                                                                                                                                                                                                                                                                                                                                                                                                                                                                                                                                                                                                                                                                                                                                                                                                                                                                                                                                                                                                                                                                                                                                                                                                                                                                                                                                                                                                                                                                                                                                                                                                                                                                                                                                                                                                                                                                                                                                                                                                                                                                                                                                                                                                                                                                                                                                                                                                                                                                                                                                                                                                                                                                                                                                                                                                                                                                                                                                                                                                                                                                                                                                                                                                                                                                                                                                                                                                                                                                                                                                                                                                                                                                                                                                                                                                                                                                                                                                                                                                                                                                                                                                                                                                                                                                                                                                                                                                                                                                                                                                                                                                                                                                                                                                                                                                                                                                                                                                                                                                                                                                                                                                                                                                                                                                                                                                                                                                                                                                                                                                                                                                                                                                                                                                                                                                                                                                                                                                                                                                                                                                                                                                                                                                                                                                                                                                                                                                                                                                                                                                                                                                                                                                                                                                                                                                                                                                                                                                                                                                                                                                                                                                                                                                                                                                                                                                                                                                                                                                                                                                                                                                                                                                                                                                                                                                                                                                                                                                                                                                                                                            description  \\\n",
       "361                                                                                                                                                                                                                                                                                                                                                                                                                                                                                                                                                                                                                                                                                                                                                                                                                                                                                                                                                                                                                                                                                                                                                                                                                                                                                                                                                                                                                                                                                                                                                                                                                                                                                                                                                                                                                                                                                                                                                                                                                                                                                                                                                                                                                                                                                                                                                                                                                                                                                                                                                                                                                                                                                                                                                                                                                                                                                                                                                                                                                                                                                                                                                                                                                                                                                                                                                                                                                                                                                                                                                                                                                                                                                                                                                                                                                                                                                                                                                                                                                                                                                                                                                                                                                                                                                                                                                                                                                                                                                                                                                                                                                                                                                                                                                                                                                                                                                                                                                                                                                                                                                                                                                                                                                                                                                                                                                                                                                                                                                                                                                                                                                                                                                                                                                                                                                                                                                                                                                                                                                                                                                                                                                                                                                                                                                                                                                                                                                                                                                                                                                                                                                                                                                                                                                                                                                                                                                                                                                                                                                                                                                                                                                                                                                                                                                                                                                                                                                                                                                                                                                                                      [Vengeance 1400 helps you get the most out of your high-end sound card and enjoy gaming audio the way that the designer intended. The massive 50 mm drivers give you accurate audio reproduction with deep, satisfying lows, clear midrange and sparkling highs, without the overloading and distortion that can occur on lesser gaming headsets. The circumaural, closed-back ear cups help block outside sound, with memory foam ear pads and synthetic leather covers that provide a comfortable fit that conforms to the shape of your head without binding or pinching. And, the noise-cancelling microphone is tuned to capture your voice loudly and clearly, while screening out distracting background noises. The Vengeance 1400 has a single 3.5mm headphone/microphone port and an adapter with separate 3.5mm headphone and microphone connectors for wide compatibility with PCs, Macs, PlayStation 4, and most mobile devices.]   \n",
       "441                                                                                                                                                                                                                                                                                                                                                                                                                                                                                                                                                                                                                                                                                                                                                                                                                                                                                                                                                                                                                                                                                                                                                                                                                                                                                     [Product Description, The complete Halo: Reach collection. In addition to the game disc and the complete contents of the Limited Edition, the Legendary Edition includes a Noble Team statue expertly crafted by the artisans at McFarlane Toys. In addition to this, the statute is placed in UNSC-themed custom packaging exclusive and the game includes an exclusive, multiplayer Spartan armor effect - a flaming helmet., From the Manufacturer, Product Overview, “Halo: Reach,” developed exclusively for Xbox 360, is theblockbuster prequel to the landmark “Halo” video game franchise and is the biggest game yet in the Halo series.“Halo” is one of the biggest video game series in history, and is the top selling franchise on Xbox. It has defined a generation of gamers and changed how people view video games., “Halo: Reach” tells the tragic and heroic story of Noble Team, a group of Spartans, who through great sacrifice and courage saved countless lives in the face of impossible odds. The planet Reach is humanity’s last line of defense between the encroaching Covenant and their ultimate goal, the destruction of Earth. If it falls, humanity will be perched on the brink of destruction., Product Features, Welcome to Noble Team. “Halo: Reach” immerses you in the ominous and heroic story of “Halo: Reach” as you play as a member of Noble Team, a squad of iconic Spartan soldiers, each with deadly talents as unique as their individual personalities and customized gear., Welcome to Noble Team. “Halo: Reach” immerses you in the ominous and heroic story of “Halo: Reach” as you play as a member of Noble Team, a squad of iconic Spartan soldiers, each with deadly talents as unique as their individual personalities and customized gear., An Intense and Epic Campaign. Live the events that set the stage for the “Halo” trilogy as the UNSC and Covenant clash at the height of their military power. New weapons, vehicles, and abilities complement the familiar “Halo” arsenal for the largest-scale battles ever witnessed in the “Halo” universe. Fiercely cunning artificial intelligence (AI) adds depth and complexity to each encounter, helping make every play-through a unique and challenging experience, whether players go it alone or connect with up to three friends to launch a cooperative assault., An Intense and Epic Campaign. Live the events that set the stage for the “Halo” trilogy as the UNSC and Covenant clash at the height of their military power. New weapons, vehicles, and abilities complement the familiar “Halo” arsenal for the largest-scale battles ever witnessed in the “Halo” universe. Fiercely cunning artificial intelligence (AI) adds depth and complexity to each encounter, helping make every play-through a unique and challenging experience, whether players go it alone or connect with up to three friends to launch a cooperative assault., The Definitive Multiplayer Experience. The “Halo” series has set the gold standard for the multiplayer experience in video games. “Halo: Reach” continues that rich tradition by introducing a dramatically expanded suite of multiplayer offerings that promise once again to redefine the landscape of online gaming., The Definitive Multiplayer Experience. The “Halo” series has set the gold standard for the multiplayer experience in video games. “Halo: Reach” continues that rich tradition by introducing a dramatically expanded suite of multiplayer offerings that promise once again to redefine the landscape of online gaming., Stunning Technical Advancements. “Halo: Reach”takes a significant leap forward with all-new enginetechnology representing the next generation of art,audio, AI, animation and Hollywood-style specialeffects. Power through massive scale combat across sweeping open environments and fight up close and personal along side new characters and creatures as you unravel mysteries buried deep in the “Halo”universe., Stunning Technical Advancements. “Halo: Reach”takes a significant leap forward with all-new enginetechnology representing the next generation of art,audio, AI, animation and Hollywood-style specialeffects. Power through massive scale combat across sweeping open environments and fight up close and personal along side new characters and creatures as you unravel mysteries buried deep in the “Halo”universe., New social settings for match making enable you to play with the people you want, find like-minded teammates, vote on preferred maps and game types and also keep an active roster., New social settings for match making enable you to play with the people you want, find like-minded teammates, vote on preferred maps and game types and also keep an active roster., Matchmaking is now integrated across every facet of “Halo: Reach,” including campaign mode and Firefight., Matchmaking is now integrated across every facet of “Halo: Reach,” including campaign mode and Firefight., The next generation of Firefight mode lets players go head-to-head in versus mode and allows for an incredibly deep level of customization and replay ability by allowing players to change game rules and settings., The next generation of Firefight mode lets players go head-to-head in versus mode and allows for an incredibly deep level of customization and replay ability by allowing players to change game rules and settings., New multiplayer game modes like “Invasion” and “Arena” offer competitive players a chance to show off their skills like never before., New multiplayer game modes like “Invasion” and “Arena” offer competitive players a chance to show off their skills like never before., Forge tools and the advent of the Forge World space enable players to construct entirely new maps and game modes and share them with the “Halo” community over Xbox LIVE. The future of “Halo” multiplayer experiences will continue to grow and be shaped by the people who play it for years to come., Forge tools and the advent of the Forge World space enable players to construct entirely new maps and game modes and share them with the “Halo” community over Xbox LIVE. The future of “Halo” multiplayer experiences will continue to grow and be shaped by the people who play it for years to come., Player Customization & Reward. “Halo: Reach” gives you the ability to customize and personalize your Spartan with a staggering array of armor accessories that will appear in both multiplayer and campaign play. Across every game mode, you’re rewarded for everything you do, for every style of play, earning valuable credits that can be used to unlock additional cosmetic upgrades via the Armory., Player Customization & Reward. “Halo: Reach” gives you the ability to customize and personalize your Spartan with a staggering array of armor accessories that will appear in both multiplayer and campaign play. Across every game mode, you’re rewarded for everything you do, for every style of play, earning valuable credits that can be used to unlock additional cosmetic upgrades via the Armory.]   \n",
       "761   [Product Description, Overlor II is the sequel to the hit warped fantasy action adventure that had players being delightfully despotic. In Overlord II, a new Overlord and a more powerful army of Minions take on the Glorious Empire, an advanced Romanesque nation, in a truly epic, yet familiarly warped, adventure. As the Glorious Empire conquers kingdoms and destroys any sign of magic it finds, it¿s time to go Minion Maximus with a rousing cry of ¿Veni, Vidi, Vici¿ and send in the horde. The Minions return smarter, deadlier (and funnier) and are ready to fight in large scale battles that will see their wild pack mentality squaring up to the organised legions of the Glorious Empire. As ever, they¿ll do anything and everything the Overlord commands of them, especially now that they can run ravage and wreck buildings and scenery. They¿ve also learnt to ride: In Overlord II, Minions will be able to mount up and ride wolves and other magical creatures around the landscape and take them into battle, making our band of merry fighters faster and fiercer than ever before, Amazon.com, Overlord II, is the sequel to the hit warped fantasy action adventure that had players being delightfully despotic. In, Overlord II, , a new overlord and a more powerful army of Minions take on an entire empire in a truly epic adventure, inspired by the rise of the Roman Empire. As this new enemy, the Glorious Empire, conquers kingdoms and destroys any sign of magic it finds, it’s time to go Minion Maximus and send in the horde. .caption { font-family: Verdana, Helvetica neue, Arial, serif; font-size: 10px; font-weight: bold; font-style: italic; } ul.indent { list-style: inside disc; text-indent: -15px; } table.callout { font-family: verdana; font-size: 11px; line-height: 1. 3em; } td.vgoverview { height: 125px; background: #9DC4D8 url(https://images-na.ssl-images-amazon.com/images/G/01/electronics/detail-page/callout-bg.png) repeat-x; border-left: 1px solid #999999; border-right: 1px solid #999999; padding-left: 20px; padding-right: 20px; padding-bottom: 10px; width: 250px; font-family: verdana; font-size: 12px; }, Become the new overlord., View larger, ., Battle the Glorious Empire., View larger, ., Minion-specific mounts., View larger, ., Large-scale battles & bosses., View larger, ., Story, Overlord II, picks up right where the previous game left off. In it the original overlord is no more, and in his absence the order of things have changed dramatically. The comically evil, but still deadly gremlin-like army known as Minions are lost without a leader to focus their chaotic power for good, ill or both. Yet change finally appears to be in the air. Sensing that something is afoot, the Minion horde has made its way north to the town of Nordberg. Here they find a male child the likes of which has not been seen since the coming of the original overlord. This child is obviously special, but time is short and he has much to learn. In recent days a new power has arisen, known as the \"Glorious Empire.\" Based in Roman-like legionary tactics, the power of this new enemy is being used to take over all the relinquished territories of the old overlord, and to extinguish all the magic in the land in order to weaken all potential enemies. As the new overlord it's your task to gain all the strength and skills you can, harness the power of the Minion horde and take back what is yours., Gameplay - Destroy or Dominate, Overlord II, features a brand new corruption system that empowers players to enact their evil will through either domination or destruction. Play as a dominating overlord and villages and people will fall under your command with rewards and benefits coming over time. Follow a destructive path, obliterating anything that stands in your way, and you’ll become a demonic lord of chaos. The choice is yours., Manage Your Minions, Effective control your Minions was a big part of, Overlord, , and in, Overlord II, all four varieties of Minions return smarter, deadlier (and funnier) and are ready to fight in large scale battles that will see their wild pack mentality squaring up to the organized legions of the Glorious Empire. As in the previous game, they'll do anything and everything their overlord commands of them, especially now that they can run ravage and wreck buildings and scenery and each have their own specialty in combat; Browns are the main general use soldier units, Reds with their fire-throwing ability are useful for long-range combat, Greens are experts at stealth maneuvers and Blues provide support and healing to other Minions. In addition, they've also learned a powerful new skill, how to ride. Three of the four kinds of Minions feature exclusive mounts: Browns on wolves, Greens on giant spiders that can climb walls and the Reds on salamanders. Atop their mounts these merry fighters are faster, and stronger than ever before., Multiplayer Options, Along with a robust single player campaign, Overlord II, features a wealth of multiplayer play options. Players will enjoy four unique multiplayer campaigns in co-op and versus modes both online and offline, each with their own unique maps. These include:, Co-op Modes: Arena Survival – Two players, both as overlords with their own minions, help each other stay alive as they battle against wave after wave of enemies coming at them in an arena setting.Kill A General – Two players, both as overlords with their own minions, go through a series of lands together on a mission to kill a Glorious Empire general., Co-op Modes:, Arena Survival – Two players, both as overlords with their own minions, help each other stay alive as they battle against wave after wave of enemies coming at them in an arena setting., Arena Survival – Two players, both as overlords with their own minions, help each other stay alive as they battle against wave after wave of enemies coming at them in an arena setting., Kill A General – Two players, both as overlords with their own minions, go through a series of lands together on a mission to kill a Glorious Empire general., Kill A General – Two players, both as overlords with their own minions, go through a series of lands together on a mission to kill a Glorious Empire general., Versus Modes: Treasure Hunt – Two overlords and their minion armies square off against each other to collect gold and other treasure. Whichever overlord has the most treasure at the end of this timed contest wins.King Of The Hill/Capture The Flag – Two overlords and their minions face each other on a battlefield with several hills with flags on top of them. Whoever captures the most flags at the end of this timed event is the winner. Creatures from the overlord world are also on the battlefield wreaking havoc adding an even greater challenge to victory., Versus Modes:, Treasure Hunt – Two overlords and their minion armies square off against each other to collect gold and other treasure. Whichever overlord has the most treasure at the end of this timed contest wins., Treasure Hunt – Two overlords and their minion armies square off against each other to collect gold and other treasure. Whichever overlord has the most treasure at the end of this timed contest wins., King Of The Hill/Capture The Flag – Two overlords and their minions face each other on a battlefield with several hills with flags on top of them. Whoever captures the most flags at the end of this timed event is the winner. Creatures from the overlord world are also on the battlefield wreaking havoc adding an even greater challenge to victory., King Of The Hill/Capture The Flag – Two overlords and their minions face each other on a battlefield with several hills with flags on top of them. Whoever captures the most flags at the end of this timed event is the winner. Creatures from the overlord world are also on the battlefield wreaking havoc adding an even greater challenge to victory., Laughter on the Battlefield, Written by award-winning games writer, Rhianna Pratchett,, Overlord II, puts the laughter into slaughter and continues the series’ trademark humor, playing on the mischievous physical comedy of the minion’s antics with a sprinkling of parody for good measure.]   \n",
       "1230                                                                                                                                                                                                                                                                                                                                                                                                                                                                                                                                                                                                                                                                                                                                                                                                                                                                                                                                                                                                                                                                                                                                                                                                                                                                                                                                                                                                                                                                                                                                                                                                                                                                                                                                                                                                                                                                                                                                                                                                                                                                                                                                                                                                                                  [Product Description, Metroid Franchise’s Heroine Gets Personal. For decades, Samus Aran has been known as one of the first female protagonists in video games and one of the most enigmatic. Having traded her haunted past for the solitary life of a bounty hunter, Samus finally tells her own tale in this revealing, personal story of her failings, her flaws and ultimately her motivation. Metroid: Other M is an unprecedented collaboration that blends the slick, action-packed production of the world-renowned Team Ninja development team with the game design talents of the creators of the original Metroid. Metroid: Other M is a dramatic new direction for a legendary franchise and a bold new blend between cinematics, storytelling and the best in interactive entertainment., From the Manufacturer, Metroid: Other M, is a single player shooter for Wii that takes the beloved, Metroid, franchise into uncharted and exciting new territory. Set between the events of, Super Metroid, and, Metroid Fusion, , the game features unprecedented access to the backstory, thoughts and in-game interactions of the usually closed off heroine of the series, Samus Aran. Developed jointly by Nintendo and the celebrated Japanese development studio, Team Ninja, the game also features exciting play options, including the ability to switch between first-person and third-person perspectives, pointer and sideways Wii Remote controller orientation, stunning in-game cinematics and a classic blend of Metroid action and puzzle-solving gameplay. .caption { font-family: Verdana, Helvetica neue, Arial, serif; font-size: 10px; font-weight: bold; font-style: italic; } ul.indent { list-style: inside disc; text-indent: -15px; } table.callout { font-family: verdana; font-size: 11px; line-height: 1. 3em; } td.vgoverview { height: 125px; background: #9DC4D8 url(https://images-na.ssl-images-amazon.com/images/G/01/electronics/detail-page/callout-bg.png) repeat-x; border-left: 1px solid #999999; border-right: 1px solid #999999; padding-left: 20px; padding-right: 20px; padding-bottom: 10px; width: 250px; font-family: verdana; font-size: 12px; }, Continue the Metroid saga and learn much more about Samus Aran., View larger, ., Metroid Franchise's Heroine Gets Personal, For decades, Samus Aran has been known as one of the first female protagonists in video games, and one of the most enigmatic. Having traded her haunted past for the solitary life of a bounty hunter, Samus finally tells her own tale in this revealing, personal story of her failings, her flaws and ultimately her motivation., Metroid: Other M, is an unprecedented collaboration that blends the slick, action-packed production of the world-renowned Team Ninja development team with the game design talents of the creators of the original, Metroid. Metroid: Other M, is a dramatic new direction for a legendary franchise and a bold new blend between cinematics, storytelling and the best in interactive entertainment., Key Game Features, Metroid: Other M takes the best elements of 1st-person and 3rd-person gaming to create a seamless blend between gameplay, storytelling and dynamic cinematography, that feels like a movie the player can control. Players hold the Wii Remote controller sideways while navigating and battling in 3rd-person. However, at any moment, players can switch immediately to Wii Remote pointer controls to examine and explore the environments in 1st-person perspective., Metroid: Other M, takes the best elements of 1st-person and 3rd-person gaming to create a seamless blend between gameplay, storytelling and dynamic cinematography, that feels like a movie the player can control. Players hold the Wii Remote controller sideways while navigating and battling in 3rd-person. However, at any moment, players can switch immediately to Wii Remote pointer controls to examine and explore the environments in 1st-person perspective., Metroid fans know more about Samus' suits and weapons than they do about what drives her. That's about to change. The story begins immediately following the events of Super Metroid, when a baby Metroid gave its life to protect Samus. With voice acting and a rich story, players learn the engaging backstory of Samus as she weaves through an action-packed adventure aboard the Bottle Ship, a decommissioned space facility. As she hurtles into this new adventure, Samus will encounter her first mentor and Commanding Officer of the Galactic Federation, Adam Malkovich., Metroid, fans know more about Samus' suits and weapons than they do about what drives her. That's about to change. The story begins immediately following the events of, Super Metroid, , when a baby Metroid gave its life to protect Samus. With voice acting and a rich story, players learn the engaging backstory of Samus as she weaves through an action-packed adventure aboard the Bottle Ship, a decommissioned space facility. As she hurtles into this new adventure, Samus will encounter her first mentor and Commanding Officer of the Galactic Federation, Adam Malkovich., The development of Metroid: Other M is an exciting collaboration between Nintendo's Yoshio Sakamoto and Team Ninja. Sakamoto was the director of Super Metroid in 1994. Team Ninja is the renowned action developer of Ninja Gaiden. Metroid: Other M pairs Sakamoto's expert level design and exploratory focus of the classic Metroid series with Team Ninja's signature stylish, no-holds-barred action., The development of, Metroid: Other M, is an exciting collaboration between Nintendo's Yoshio Sakamoto and Team Ninja. Sakamoto was the director of, Super Metroid, in 1994. Team Ninja is the renowned action developer of, Ninja Gaiden, ., Metroid: Other M, pairs Sakamoto's expert level design and exploratory focus of the classic, Metroid, series with Team Ninja's signature stylish, no-holds-barred action., Additional Screenshots, :, 1st & 3rd person play options., View larger, ., Classic Metroid action., View larger, ., Beautiful in-game cinematics., View larger, ., 2D & 3D puzzle-solving., View larger, .]   \n",
       "1638                                                                                                                                                                                                                                                                                                                                                                                                                                                                                                                                                                                                                                                                                                                                                                                                                                                                                                                                                                                                                                                                                                                                                                                                                                                                                                                                                                                                                                                                                                                                                                                                                                                                                                                                                                                                                                                                                                                                                                                                                                                                                                                                                                                                                                                                                                                                                                                                                                                                                                                                                                                                                                                                                                                                                                                                                                                                                                                                                                                                                                                                                                                                                                                                                                                                                                                                                                                                                                                                                                                                                                                                                                                                                                                                                                                                                                                                                                                                                                                                                                                                                                                                                                                                                                                                                                                                                                                                                                                                                                                                                                                                                                                                                                                                                                                                                                                                                                                                                                                                                                                                                                                                                                                                                                                                                                                                                                                                                                                                                                                                                                                                                                                                                                                                                                                                                                                                                                                                                                                                                                                                                                                                                                                                                                                                                                                                                                                                                                                                                                                                                                                                                                                                                                                                                                                                                                                                                                                                                                                                                                                                                                                                                                                                                                                                                                                                                                                                                                                                                                                                                                                                                                                                                                                                                                                                                                                                                                                                                                                                                                                                                                                                                     [The newest installment of the fan-favorite Mario Kart franchise brings Mushroom Kingdom racing fun into glorious 3D. For the first time, drivers explore new competitive kart possibilities, such as soaring through the skies or plunging to the depths of the sea. New courses, strategic new abilities and customizable karts bring the racing excitement to new heights.]   \n",
       "1864                                                                                                                                                                                                                                                                                                                                                                                                                                                                                                                                                                                                                                                                                                                                                                                                                                                                                                                                                                                                                                                                                                                                                                                                                                                                                                                                                                                                                                                                                                                                                                                                                                                                                                                                                                                                                                                                                                                                                                                                                                                                                                                                                                                                                                                                                                                                                                                                                                                                                                                                                                                                                                                                                                                                                                                                                                                                                                                                                                                                                                                                                                                                                                                                                                                                                                                                                                                                                                                                                                                                                                                                                                                                                                                                                                                                                                                                                                                                                                                                                                                                                                                                                                                                                                                                                                                                                                                                                                                                                                                                                                                                                                                                                                                                                                                                                                                                                                                                                                                                                                                                                                                                                                                                                                                                                                                                                                                                                                                                                                                                                                                                                                                                                                                                                                                                                                                                                                                                                                                                                                                                                                                                                                                                                                                                                                                                                                                                                                                                                                                                                                                                                                                                                                                                                                                                                                                                                                                                                                                                                                                                                                                                                                                                                                                                                                                                                                                                                                                                                                                                                                                                                                                                                                                                                                                                                                                                                                                                                                                                                                                                                                                                                                                                                                                                                                                                                                                                                [Exploit the individual fears, weakness and memories of your enemies as you dismantle Sauron's forces from within.]   \n",
       "\n",
       "                                                                      categories  \\\n",
       "361                                     [Video Games, PC, Accessories, Headsets]   \n",
       "441                 [Video Games, Legacy Systems, Xbox Systems, Xbox 360, Games]   \n",
       "761                 [Video Games, Legacy Systems, Xbox Systems, Xbox 360, Games]   \n",
       "1230                 [Video Games, Legacy Systems, Nintendo Systems, Wii, Games]   \n",
       "1638  [Video Games, Legacy Systems, Nintendo Systems, Nintendo 3DS & 2DS, Games]   \n",
       "1864                                         [Video Games, PlayStation 4, Games]   \n",
       "\n",
       "       price user_rating_cnt_90d user_rating_avg_prev_rating_90d  \\\n",
       "361    86.95                   3                             5.0   \n",
       "441   749.99                   1                             NaN   \n",
       "761    10.02                   3                             5.0   \n",
       "1230    39.5                   1                             NaN   \n",
       "1638   32.93                   2                             5.0   \n",
       "1864    20.6                   2                             5.0   \n",
       "\n",
       "                                                                                    user_rating_list_10_recent_asin  \\\n",
       "361   B07SQZ3GJG,B00ANZR7X0,B000ARPXU0,B01GY35YXO,B07XYPDH7T,B003C1PV4O,B087SHFL9B,B00EU61DL0,B002BSC4ZS,B07X5X5KF9   \n",
       "441              B0C3KYVDWT,B07SQZ3GJG,B00ANZR7X0,B000ARPXU0,B01GY35YXO,B07XYPDH7T,B003C1PV4O,B087SHFL9B,B00EU61DL0   \n",
       "761   B07SQZ3GJG,B00ANZR7X0,B000ARPXU0,B01GY35YXO,B07XYPDH7T,B003C1PV4O,B087SHFL9B,B00EU61DL0,B002BSC4ZS,B07X5X5KF9   \n",
       "1230             B0C3KYVDWT,B07SQZ3GJG,B00ANZR7X0,B000ARPXU0,B01GY35YXO,B07XYPDH7T,B003C1PV4O,B087SHFL9B,B00EU61DL0   \n",
       "1638  B0C3KYVDWT,B07SQZ3GJG,B00ANZR7X0,B000ARPXU0,B01GY35YXO,B07XYPDH7T,B003C1PV4O,B087SHFL9B,B00EU61DL0,B002BSC4ZS   \n",
       "1864  B0C3KYVDWT,B07SQZ3GJG,B00ANZR7X0,B000ARPXU0,B01GY35YXO,B07XYPDH7T,B003C1PV4O,B087SHFL9B,B00EU61DL0,B002BSC4ZS   \n",
       "\n",
       "                                                    item_sequence  \n",
       "361   [4166, 2288, 400, 3378, 4268, 1453, 4344, 2505, 1219, 4257]  \n",
       "441     [-1, 4607, 4166, 2288, 400, 3378, 4268, 1453, 4344, 2505]  \n",
       "761   [4166, 2288, 400, 3378, 4268, 1453, 4344, 2505, 1219, 4257]  \n",
       "1230    [-1, 4607, 4166, 2288, 400, 3378, 4268, 1453, 4344, 2505]  \n",
       "1638  [4607, 4166, 2288, 400, 3378, 4268, 1453, 4344, 2505, 1219]  \n",
       "1864  [4607, 4166, 2288, 400, 3378, 4268, 1453, 4344, 2505, 1219]  \n",
       "\n",
       "[6 rows x 23 columns]"
      ]
     },
     "metadata": {},
     "output_type": "display_data"
    }
   ],
   "source": [
    "user_id = val_df.sample(1)[args.user_col].values[0]\n",
    "# user_id = \"AH4AOFTTDPHPAFAAVFMAF25H2LIQ\"\n",
    "test_df = val_df.loc[lambda df: df[args.user_col].eq(user_id)]\n",
    "with pd.option_context(\"display.max_colwidth\", None):\n",
    "    display(test_df)"
   ]
  },
  {
   "cell_type": "code",
   "execution_count": 25,
   "id": "c48fbc80-eda8-4dff-a246-95f8f2f75082",
   "metadata": {
    "scrolled": true
   },
   "outputs": [
    {
     "name": "stderr",
     "output_type": "stream",
     "text": [
      "\u001b[32m2024-10-28 11:39:37.502\u001b[0m | \u001b[1mINFO    \u001b[0m | \u001b[36m__main__\u001b[0m:\u001b[36m<module>\u001b[0m:\u001b[36m6\u001b[0m - \u001b[1mTest predicting before training with user_id = AGBP6HAY2K6QPNW3KENGNXURANWQ and parent_asin = B001QCWS9M\u001b[0m\n",
      "/var/folders/mq/xtxzhvlj4m97tb8lgwxcnsb40000gn/T/ipykernel_54361/2733117192.py:12: UserWarning:\n",
      "\n",
      "Creating a tensor from a list of numpy.ndarrays is extremely slow. Please consider converting the list to a single numpy.ndarray with numpy.array() before converting to a tensor. (Triggered internally at /Users/runner/work/pytorch/pytorch/pytorch/torch/csrc/utils/tensor_new.cpp:281.)\n",
      "\n"
     ]
    },
    {
     "data": {
      "text/plain": [
       "tensor([[0.4522]], grad_fn=<SigmoidBackward0>)"
      ]
     },
     "execution_count": 25,
     "metadata": {},
     "output_type": "execute_result"
    }
   ],
   "source": [
    "test_row = test_df.loc[lambda df: df[args.rating_col].gt(0)].iloc[0]\n",
    "item_id = test_row[args.item_col]\n",
    "item_sequence = test_row[\"item_sequence\"]\n",
    "row_idx = test_row.name\n",
    "item_feature = val_item_features[row_idx]\n",
    "logger.info(\n",
    "    f\"Test predicting before training with {args.user_col} = {user_id} and {args.item_col} = {item_id}\"\n",
    ")\n",
    "user_indice = idm.get_user_index(user_id)\n",
    "item_indice = idm.get_item_index(item_id)\n",
    "user = torch.tensor([user_indice])\n",
    "item_sequence = torch.tensor([item_sequence])\n",
    "item_feature = torch.tensor([item_feature])\n",
    "item = torch.tensor([item_indice])\n",
    "\n",
    "model.eval()\n",
    "model.predict(user, item_sequence, item_feature, item)"
   ]
  },
  {
   "cell_type": "markdown",
   "id": "c2fd217c-c0c8-4e7c-81fe-6eb36f4729b5",
   "metadata": {},
   "source": [
    "#### Training loop"
   ]
  },
  {
   "cell_type": "markdown",
   "id": "1e9daad4-1365-4e8e-8f73-80ca5513572b",
   "metadata": {},
   "source": [
    "##### Overfit 1 batch"
   ]
  },
  {
   "cell_type": "code",
   "execution_count": 26,
   "id": "1a1cd9bd-e2c6-404b-b6ae-b26a7d35a0ba",
   "metadata": {
    "scrolled": true
   },
   "outputs": [
    {
     "name": "stderr",
     "output_type": "stream",
     "text": [
      "GPU available: True (mps), used: True\n",
      "TPU available: False, using: 0 TPU cores\n",
      "HPU available: False, using: 0 HPUs\n",
      "`Trainer(overfit_batches=1)` was configured so 1 batch will be used.\n",
      "\n",
      "  | Name  | Type   | Params | Mode \n",
      "-----------------------------------------\n",
      "0 | model | Ranker | 3.4 M  | train\n",
      "-----------------------------------------\n",
      "3.4 M     Trainable params\n",
      "0         Non-trainable params\n",
      "3.4 M     Total params\n",
      "13.533    Total estimated model params size (MB)\n",
      "14        Modules in train mode\n",
      "0         Modules in eval mode\n"
     ]
    },
    {
     "data": {
      "application/vnd.jupyter.widget-view+json": {
       "model_id": "",
       "version_major": 2,
       "version_minor": 0
      },
      "text/plain": [
       "Sanity Checking: |                                                                                            …"
      ]
     },
     "metadata": {},
     "output_type": "display_data"
    },
    {
     "name": "stderr",
     "output_type": "stream",
     "text": [
      "/Users/dvq/frostmourne/recsys-mvp/.venv/lib/python3.11/site-packages/lightning/pytorch/trainer/connectors/data_connector.py:251: UserWarning:\n",
      "\n",
      "You requested to overfit but enabled val dataloader shuffling. We are turning off the val dataloader shuffling for you.\n",
      "\n",
      "/Users/dvq/frostmourne/recsys-mvp/.venv/lib/python3.11/site-packages/lightning/pytorch/trainer/connectors/data_connector.py:424: PossibleUserWarning:\n",
      "\n",
      "The 'val_dataloader' does not have many workers which may be a bottleneck. Consider increasing the value of the `num_workers` argument` to `num_workers=10` in the `DataLoader` to improve performance.\n",
      "\n",
      "/Users/dvq/frostmourne/recsys-mvp/.venv/lib/python3.11/site-packages/lightning/pytorch/trainer/connectors/data_connector.py:251: UserWarning:\n",
      "\n",
      "You requested to overfit but enabled train dataloader shuffling. We are turning off the train dataloader shuffling for you.\n",
      "\n",
      "/Users/dvq/frostmourne/recsys-mvp/.venv/lib/python3.11/site-packages/lightning/pytorch/trainer/connectors/data_connector.py:424: PossibleUserWarning:\n",
      "\n",
      "The 'train_dataloader' does not have many workers which may be a bottleneck. Consider increasing the value of the `num_workers` argument` to `num_workers=10` in the `DataLoader` to improve performance.\n",
      "\n",
      "/Users/dvq/frostmourne/recsys-mvp/.venv/lib/python3.11/site-packages/lightning/pytorch/loops/fit_loop.py:298: PossibleUserWarning:\n",
      "\n",
      "The number of training batches (1) is smaller than the logging interval Trainer(log_every_n_steps=50). Set a lower value for log_every_n_steps if you want to see logs for the training epoch.\n",
      "\n"
     ]
    },
    {
     "data": {
      "application/vnd.jupyter.widget-view+json": {
       "model_id": "67bc3e3d220040b596f79fc09b4f0587",
       "version_major": 2,
       "version_minor": 0
      },
      "text/plain": [
       "Training: |                                                                                                   …"
      ]
     },
     "metadata": {},
     "output_type": "display_data"
    },
    {
     "data": {
      "application/vnd.jupyter.widget-view+json": {
       "model_id": "",
       "version_major": 2,
       "version_minor": 0
      },
      "text/plain": [
       "Validation: |                                                                                                 …"
      ]
     },
     "metadata": {},
     "output_type": "display_data"
    },
    {
     "data": {
      "application/vnd.jupyter.widget-view+json": {
       "model_id": "",
       "version_major": 2,
       "version_minor": 0
      },
      "text/plain": [
       "Validation: |                                                                                                 …"
      ]
     },
     "metadata": {},
     "output_type": "display_data"
    },
    {
     "data": {
      "application/vnd.jupyter.widget-view+json": {
       "model_id": "",
       "version_major": 2,
       "version_minor": 0
      },
      "text/plain": [
       "Validation: |                                                                                                 …"
      ]
     },
     "metadata": {},
     "output_type": "display_data"
    },
    {
     "data": {
      "application/vnd.jupyter.widget-view+json": {
       "model_id": "",
       "version_major": 2,
       "version_minor": 0
      },
      "text/plain": [
       "Validation: |                                                                                                 …"
      ]
     },
     "metadata": {},
     "output_type": "display_data"
    },
    {
     "data": {
      "application/vnd.jupyter.widget-view+json": {
       "model_id": "",
       "version_major": 2,
       "version_minor": 0
      },
      "text/plain": [
       "Validation: |                                                                                                 …"
      ]
     },
     "metadata": {},
     "output_type": "display_data"
    },
    {
     "data": {
      "application/vnd.jupyter.widget-view+json": {
       "model_id": "",
       "version_major": 2,
       "version_minor": 0
      },
      "text/plain": [
       "Validation: |                                                                                                 …"
      ]
     },
     "metadata": {},
     "output_type": "display_data"
    },
    {
     "data": {
      "application/vnd.jupyter.widget-view+json": {
       "model_id": "",
       "version_major": 2,
       "version_minor": 0
      },
      "text/plain": [
       "Validation: |                                                                                                 …"
      ]
     },
     "metadata": {},
     "output_type": "display_data"
    },
    {
     "data": {
      "application/vnd.jupyter.widget-view+json": {
       "model_id": "",
       "version_major": 2,
       "version_minor": 0
      },
      "text/plain": [
       "Validation: |                                                                                                 …"
      ]
     },
     "metadata": {},
     "output_type": "display_data"
    },
    {
     "data": {
      "application/vnd.jupyter.widget-view+json": {
       "model_id": "",
       "version_major": 2,
       "version_minor": 0
      },
      "text/plain": [
       "Validation: |                                                                                                 …"
      ]
     },
     "metadata": {},
     "output_type": "display_data"
    },
    {
     "data": {
      "application/vnd.jupyter.widget-view+json": {
       "model_id": "",
       "version_major": 2,
       "version_minor": 0
      },
      "text/plain": [
       "Validation: |                                                                                                 …"
      ]
     },
     "metadata": {},
     "output_type": "display_data"
    },
    {
     "data": {
      "application/vnd.jupyter.widget-view+json": {
       "model_id": "",
       "version_major": 2,
       "version_minor": 0
      },
      "text/plain": [
       "Validation: |                                                                                                 …"
      ]
     },
     "metadata": {},
     "output_type": "display_data"
    },
    {
     "data": {
      "application/vnd.jupyter.widget-view+json": {
       "model_id": "",
       "version_major": 2,
       "version_minor": 0
      },
      "text/plain": [
       "Validation: |                                                                                                 …"
      ]
     },
     "metadata": {},
     "output_type": "display_data"
    },
    {
     "data": {
      "application/vnd.jupyter.widget-view+json": {
       "model_id": "",
       "version_major": 2,
       "version_minor": 0
      },
      "text/plain": [
       "Validation: |                                                                                                 …"
      ]
     },
     "metadata": {},
     "output_type": "display_data"
    },
    {
     "data": {
      "application/vnd.jupyter.widget-view+json": {
       "model_id": "",
       "version_major": 2,
       "version_minor": 0
      },
      "text/plain": [
       "Validation: |                                                                                                 …"
      ]
     },
     "metadata": {},
     "output_type": "display_data"
    },
    {
     "data": {
      "application/vnd.jupyter.widget-view+json": {
       "model_id": "",
       "version_major": 2,
       "version_minor": 0
      },
      "text/plain": [
       "Validation: |                                                                                                 …"
      ]
     },
     "metadata": {},
     "output_type": "display_data"
    },
    {
     "data": {
      "application/vnd.jupyter.widget-view+json": {
       "model_id": "",
       "version_major": 2,
       "version_minor": 0
      },
      "text/plain": [
       "Validation: |                                                                                                 …"
      ]
     },
     "metadata": {},
     "output_type": "display_data"
    },
    {
     "data": {
      "application/vnd.jupyter.widget-view+json": {
       "model_id": "",
       "version_major": 2,
       "version_minor": 0
      },
      "text/plain": [
       "Validation: |                                                                                                 …"
      ]
     },
     "metadata": {},
     "output_type": "display_data"
    },
    {
     "data": {
      "application/vnd.jupyter.widget-view+json": {
       "model_id": "",
       "version_major": 2,
       "version_minor": 0
      },
      "text/plain": [
       "Validation: |                                                                                                 …"
      ]
     },
     "metadata": {},
     "output_type": "display_data"
    },
    {
     "data": {
      "application/vnd.jupyter.widget-view+json": {
       "model_id": "",
       "version_major": 2,
       "version_minor": 0
      },
      "text/plain": [
       "Validation: |                                                                                                 …"
      ]
     },
     "metadata": {},
     "output_type": "display_data"
    },
    {
     "data": {
      "application/vnd.jupyter.widget-view+json": {
       "model_id": "",
       "version_major": 2,
       "version_minor": 0
      },
      "text/plain": [
       "Validation: |                                                                                                 …"
      ]
     },
     "metadata": {},
     "output_type": "display_data"
    },
    {
     "data": {
      "application/vnd.jupyter.widget-view+json": {
       "model_id": "",
       "version_major": 2,
       "version_minor": 0
      },
      "text/plain": [
       "Validation: |                                                                                                 …"
      ]
     },
     "metadata": {},
     "output_type": "display_data"
    },
    {
     "data": {
      "application/vnd.jupyter.widget-view+json": {
       "model_id": "",
       "version_major": 2,
       "version_minor": 0
      },
      "text/plain": [
       "Validation: |                                                                                                 …"
      ]
     },
     "metadata": {},
     "output_type": "display_data"
    },
    {
     "data": {
      "application/vnd.jupyter.widget-view+json": {
       "model_id": "",
       "version_major": 2,
       "version_minor": 0
      },
      "text/plain": [
       "Validation: |                                                                                                 …"
      ]
     },
     "metadata": {},
     "output_type": "display_data"
    },
    {
     "data": {
      "application/vnd.jupyter.widget-view+json": {
       "model_id": "",
       "version_major": 2,
       "version_minor": 0
      },
      "text/plain": [
       "Validation: |                                                                                                 …"
      ]
     },
     "metadata": {},
     "output_type": "display_data"
    },
    {
     "data": {
      "application/vnd.jupyter.widget-view+json": {
       "model_id": "",
       "version_major": 2,
       "version_minor": 0
      },
      "text/plain": [
       "Validation: |                                                                                                 …"
      ]
     },
     "metadata": {},
     "output_type": "display_data"
    },
    {
     "data": {
      "application/vnd.jupyter.widget-view+json": {
       "model_id": "",
       "version_major": 2,
       "version_minor": 0
      },
      "text/plain": [
       "Validation: |                                                                                                 …"
      ]
     },
     "metadata": {},
     "output_type": "display_data"
    },
    {
     "data": {
      "application/vnd.jupyter.widget-view+json": {
       "model_id": "",
       "version_major": 2,
       "version_minor": 0
      },
      "text/plain": [
       "Validation: |                                                                                                 …"
      ]
     },
     "metadata": {},
     "output_type": "display_data"
    },
    {
     "data": {
      "application/vnd.jupyter.widget-view+json": {
       "model_id": "",
       "version_major": 2,
       "version_minor": 0
      },
      "text/plain": [
       "Validation: |                                                                                                 …"
      ]
     },
     "metadata": {},
     "output_type": "display_data"
    },
    {
     "data": {
      "application/vnd.jupyter.widget-view+json": {
       "model_id": "",
       "version_major": 2,
       "version_minor": 0
      },
      "text/plain": [
       "Validation: |                                                                                                 …"
      ]
     },
     "metadata": {},
     "output_type": "display_data"
    },
    {
     "data": {
      "application/vnd.jupyter.widget-view+json": {
       "model_id": "",
       "version_major": 2,
       "version_minor": 0
      },
      "text/plain": [
       "Validation: |                                                                                                 …"
      ]
     },
     "metadata": {},
     "output_type": "display_data"
    },
    {
     "data": {
      "application/vnd.jupyter.widget-view+json": {
       "model_id": "",
       "version_major": 2,
       "version_minor": 0
      },
      "text/plain": [
       "Validation: |                                                                                                 …"
      ]
     },
     "metadata": {},
     "output_type": "display_data"
    },
    {
     "data": {
      "application/vnd.jupyter.widget-view+json": {
       "model_id": "",
       "version_major": 2,
       "version_minor": 0
      },
      "text/plain": [
       "Validation: |                                                                                                 …"
      ]
     },
     "metadata": {},
     "output_type": "display_data"
    },
    {
     "data": {
      "application/vnd.jupyter.widget-view+json": {
       "model_id": "",
       "version_major": 2,
       "version_minor": 0
      },
      "text/plain": [
       "Validation: |                                                                                                 …"
      ]
     },
     "metadata": {},
     "output_type": "display_data"
    },
    {
     "data": {
      "application/vnd.jupyter.widget-view+json": {
       "model_id": "",
       "version_major": 2,
       "version_minor": 0
      },
      "text/plain": [
       "Validation: |                                                                                                 …"
      ]
     },
     "metadata": {},
     "output_type": "display_data"
    },
    {
     "data": {
      "application/vnd.jupyter.widget-view+json": {
       "model_id": "",
       "version_major": 2,
       "version_minor": 0
      },
      "text/plain": [
       "Validation: |                                                                                                 …"
      ]
     },
     "metadata": {},
     "output_type": "display_data"
    },
    {
     "data": {
      "application/vnd.jupyter.widget-view+json": {
       "model_id": "",
       "version_major": 2,
       "version_minor": 0
      },
      "text/plain": [
       "Validation: |                                                                                                 …"
      ]
     },
     "metadata": {},
     "output_type": "display_data"
    },
    {
     "data": {
      "application/vnd.jupyter.widget-view+json": {
       "model_id": "",
       "version_major": 2,
       "version_minor": 0
      },
      "text/plain": [
       "Validation: |                                                                                                 …"
      ]
     },
     "metadata": {},
     "output_type": "display_data"
    },
    {
     "data": {
      "application/vnd.jupyter.widget-view+json": {
       "model_id": "",
       "version_major": 2,
       "version_minor": 0
      },
      "text/plain": [
       "Validation: |                                                                                                 …"
      ]
     },
     "metadata": {},
     "output_type": "display_data"
    },
    {
     "data": {
      "application/vnd.jupyter.widget-view+json": {
       "model_id": "",
       "version_major": 2,
       "version_minor": 0
      },
      "text/plain": [
       "Validation: |                                                                                                 …"
      ]
     },
     "metadata": {},
     "output_type": "display_data"
    },
    {
     "data": {
      "application/vnd.jupyter.widget-view+json": {
       "model_id": "",
       "version_major": 2,
       "version_minor": 0
      },
      "text/plain": [
       "Validation: |                                                                                                 …"
      ]
     },
     "metadata": {},
     "output_type": "display_data"
    },
    {
     "data": {
      "application/vnd.jupyter.widget-view+json": {
       "model_id": "",
       "version_major": 2,
       "version_minor": 0
      },
      "text/plain": [
       "Validation: |                                                                                                 …"
      ]
     },
     "metadata": {},
     "output_type": "display_data"
    },
    {
     "data": {
      "application/vnd.jupyter.widget-view+json": {
       "model_id": "",
       "version_major": 2,
       "version_minor": 0
      },
      "text/plain": [
       "Validation: |                                                                                                 …"
      ]
     },
     "metadata": {},
     "output_type": "display_data"
    },
    {
     "data": {
      "application/vnd.jupyter.widget-view+json": {
       "model_id": "",
       "version_major": 2,
       "version_minor": 0
      },
      "text/plain": [
       "Validation: |                                                                                                 …"
      ]
     },
     "metadata": {},
     "output_type": "display_data"
    },
    {
     "data": {
      "application/vnd.jupyter.widget-view+json": {
       "model_id": "",
       "version_major": 2,
       "version_minor": 0
      },
      "text/plain": [
       "Validation: |                                                                                                 …"
      ]
     },
     "metadata": {},
     "output_type": "display_data"
    },
    {
     "data": {
      "application/vnd.jupyter.widget-view+json": {
       "model_id": "",
       "version_major": 2,
       "version_minor": 0
      },
      "text/plain": [
       "Validation: |                                                                                                 …"
      ]
     },
     "metadata": {},
     "output_type": "display_data"
    },
    {
     "data": {
      "application/vnd.jupyter.widget-view+json": {
       "model_id": "",
       "version_major": 2,
       "version_minor": 0
      },
      "text/plain": [
       "Validation: |                                                                                                 …"
      ]
     },
     "metadata": {},
     "output_type": "display_data"
    },
    {
     "data": {
      "application/vnd.jupyter.widget-view+json": {
       "model_id": "ffaa6a1182b14579a8565549f73d3d4f",
       "version_major": 2,
       "version_minor": 0
      },
      "text/plain": [
       "Validation: |                                                                                                 …"
      ]
     },
     "metadata": {},
     "output_type": "display_data"
    },
    {
     "data": {
      "application/vnd.jupyter.widget-view+json": {
       "model_id": "f3d4e98940cf4f1481359ec931b01005",
       "version_major": 2,
       "version_minor": 0
      },
      "text/plain": [
       "Validation: |                                                                                                 …"
      ]
     },
     "metadata": {},
     "output_type": "display_data"
    },
    {
     "data": {
      "application/vnd.jupyter.widget-view+json": {
       "model_id": "74d6682938ae4dbf8cfab92c2ea1b240",
       "version_major": 2,
       "version_minor": 0
      },
      "text/plain": [
       "Validation: |                                                                                                 …"
      ]
     },
     "metadata": {},
     "output_type": "display_data"
    },
    {
     "data": {
      "application/vnd.jupyter.widget-view+json": {
       "model_id": "01e6f1a10d754a67810ec9aa7a4c0667",
       "version_major": 2,
       "version_minor": 0
      },
      "text/plain": [
       "Validation: |                                                                                                 …"
      ]
     },
     "metadata": {},
     "output_type": "display_data"
    },
    {
     "data": {
      "application/vnd.jupyter.widget-view+json": {
       "model_id": "6447830faa7a4734be7555f7be285b89",
       "version_major": 2,
       "version_minor": 0
      },
      "text/plain": [
       "Validation: |                                                                                                 …"
      ]
     },
     "metadata": {},
     "output_type": "display_data"
    },
    {
     "data": {
      "application/vnd.jupyter.widget-view+json": {
       "model_id": "04900358e4cb49deb82a47d94b46a2e0",
       "version_major": 2,
       "version_minor": 0
      },
      "text/plain": [
       "Validation: |                                                                                                 …"
      ]
     },
     "metadata": {},
     "output_type": "display_data"
    },
    {
     "data": {
      "application/vnd.jupyter.widget-view+json": {
       "model_id": "2a2786f79ded4056aad5be0404f98c71",
       "version_major": 2,
       "version_minor": 0
      },
      "text/plain": [
       "Validation: |                                                                                                 …"
      ]
     },
     "metadata": {},
     "output_type": "display_data"
    },
    {
     "data": {
      "application/vnd.jupyter.widget-view+json": {
       "model_id": "c39dcfad4506463fbbecd5e2364b8ddc",
       "version_major": 2,
       "version_minor": 0
      },
      "text/plain": [
       "Validation: |                                                                                                 …"
      ]
     },
     "metadata": {},
     "output_type": "display_data"
    },
    {
     "data": {
      "application/vnd.jupyter.widget-view+json": {
       "model_id": "c646490fc3274d2fa507d0e78f688202",
       "version_major": 2,
       "version_minor": 0
      },
      "text/plain": [
       "Validation: |                                                                                                 …"
      ]
     },
     "metadata": {},
     "output_type": "display_data"
    },
    {
     "data": {
      "application/vnd.jupyter.widget-view+json": {
       "model_id": "601de71000484d3b87b93f8954e44750",
       "version_major": 2,
       "version_minor": 0
      },
      "text/plain": [
       "Validation: |                                                                                                 …"
      ]
     },
     "metadata": {},
     "output_type": "display_data"
    },
    {
     "data": {
      "application/vnd.jupyter.widget-view+json": {
       "model_id": "f538f2c9fef84357b8417cfb0b7c55d7",
       "version_major": 2,
       "version_minor": 0
      },
      "text/plain": [
       "Validation: |                                                                                                 …"
      ]
     },
     "metadata": {},
     "output_type": "display_data"
    },
    {
     "data": {
      "application/vnd.jupyter.widget-view+json": {
       "model_id": "6dbb156f0dbc4de7957008cbe99944a3",
       "version_major": 2,
       "version_minor": 0
      },
      "text/plain": [
       "Validation: |                                                                                                 …"
      ]
     },
     "metadata": {},
     "output_type": "display_data"
    },
    {
     "data": {
      "application/vnd.jupyter.widget-view+json": {
       "model_id": "3e600d29e75c4f93a285d80f2b7f6959",
       "version_major": 2,
       "version_minor": 0
      },
      "text/plain": [
       "Validation: |                                                                                                 …"
      ]
     },
     "metadata": {},
     "output_type": "display_data"
    },
    {
     "data": {
      "application/vnd.jupyter.widget-view+json": {
       "model_id": "95e3f060bca745fb9ecaee52806314d8",
       "version_major": 2,
       "version_minor": 0
      },
      "text/plain": [
       "Validation: |                                                                                                 …"
      ]
     },
     "metadata": {},
     "output_type": "display_data"
    },
    {
     "data": {
      "application/vnd.jupyter.widget-view+json": {
       "model_id": "3b94e6659bd44aeea4f5f7ddd89e6977",
       "version_major": 2,
       "version_minor": 0
      },
      "text/plain": [
       "Validation: |                                                                                                 …"
      ]
     },
     "metadata": {},
     "output_type": "display_data"
    },
    {
     "data": {
      "application/vnd.jupyter.widget-view+json": {
       "model_id": "4a0b875935094193b8b7f3a38a0c462c",
       "version_major": 2,
       "version_minor": 0
      },
      "text/plain": [
       "Validation: |                                                                                                 …"
      ]
     },
     "metadata": {},
     "output_type": "display_data"
    },
    {
     "data": {
      "application/vnd.jupyter.widget-view+json": {
       "model_id": "e2fcab3ed2de4214ac8d29f98702e037",
       "version_major": 2,
       "version_minor": 0
      },
      "text/plain": [
       "Validation: |                                                                                                 …"
      ]
     },
     "metadata": {},
     "output_type": "display_data"
    },
    {
     "data": {
      "application/vnd.jupyter.widget-view+json": {
       "model_id": "f3532d7b245f491db1b294229e68cae4",
       "version_major": 2,
       "version_minor": 0
      },
      "text/plain": [
       "Validation: |                                                                                                 …"
      ]
     },
     "metadata": {},
     "output_type": "display_data"
    },
    {
     "data": {
      "application/vnd.jupyter.widget-view+json": {
       "model_id": "2b0ceabd93074edb98b39ad64394d9ae",
       "version_major": 2,
       "version_minor": 0
      },
      "text/plain": [
       "Validation: |                                                                                                 …"
      ]
     },
     "metadata": {},
     "output_type": "display_data"
    },
    {
     "data": {
      "application/vnd.jupyter.widget-view+json": {
       "model_id": "2c86eb88ae7849e59b567e5284148d45",
       "version_major": 2,
       "version_minor": 0
      },
      "text/plain": [
       "Validation: |                                                                                                 …"
      ]
     },
     "metadata": {},
     "output_type": "display_data"
    },
    {
     "data": {
      "application/vnd.jupyter.widget-view+json": {
       "model_id": "bd22cc10eb444ec691779c124a14d724",
       "version_major": 2,
       "version_minor": 0
      },
      "text/plain": [
       "Validation: |                                                                                                 …"
      ]
     },
     "metadata": {},
     "output_type": "display_data"
    },
    {
     "data": {
      "application/vnd.jupyter.widget-view+json": {
       "model_id": "1cc57bc56f7d4172a0090d0684fc3e44",
       "version_major": 2,
       "version_minor": 0
      },
      "text/plain": [
       "Validation: |                                                                                                 …"
      ]
     },
     "metadata": {},
     "output_type": "display_data"
    },
    {
     "data": {
      "application/vnd.jupyter.widget-view+json": {
       "model_id": "e886068800e74ce3b838f28f56c382e3",
       "version_major": 2,
       "version_minor": 0
      },
      "text/plain": [
       "Validation: |                                                                                                 …"
      ]
     },
     "metadata": {},
     "output_type": "display_data"
    },
    {
     "data": {
      "application/vnd.jupyter.widget-view+json": {
       "model_id": "bc26ecb1429d427c95e47d01648997b7",
       "version_major": 2,
       "version_minor": 0
      },
      "text/plain": [
       "Validation: |                                                                                                 …"
      ]
     },
     "metadata": {},
     "output_type": "display_data"
    },
    {
     "data": {
      "application/vnd.jupyter.widget-view+json": {
       "model_id": "10b936c83a3c4b498656c8351d360548",
       "version_major": 2,
       "version_minor": 0
      },
      "text/plain": [
       "Validation: |                                                                                                 …"
      ]
     },
     "metadata": {},
     "output_type": "display_data"
    },
    {
     "data": {
      "application/vnd.jupyter.widget-view+json": {
       "model_id": "726bd288d3b4411fb35696892b2f6ef1",
       "version_major": 2,
       "version_minor": 0
      },
      "text/plain": [
       "Validation: |                                                                                                 …"
      ]
     },
     "metadata": {},
     "output_type": "display_data"
    },
    {
     "data": {
      "application/vnd.jupyter.widget-view+json": {
       "model_id": "f7920ac6bb674adca886158f734cc9bb",
       "version_major": 2,
       "version_minor": 0
      },
      "text/plain": [
       "Validation: |                                                                                                 …"
      ]
     },
     "metadata": {},
     "output_type": "display_data"
    },
    {
     "data": {
      "application/vnd.jupyter.widget-view+json": {
       "model_id": "5a4bc37ad7634332b2648ccb6208bfb2",
       "version_major": 2,
       "version_minor": 0
      },
      "text/plain": [
       "Validation: |                                                                                                 …"
      ]
     },
     "metadata": {},
     "output_type": "display_data"
    },
    {
     "data": {
      "application/vnd.jupyter.widget-view+json": {
       "model_id": "b190c03d4d844de091c1508ba05a99f3",
       "version_major": 2,
       "version_minor": 0
      },
      "text/plain": [
       "Validation: |                                                                                                 …"
      ]
     },
     "metadata": {},
     "output_type": "display_data"
    },
    {
     "data": {
      "application/vnd.jupyter.widget-view+json": {
       "model_id": "aa0a5f53f7934f499b19b272aaec44e3",
       "version_major": 2,
       "version_minor": 0
      },
      "text/plain": [
       "Validation: |                                                                                                 …"
      ]
     },
     "metadata": {},
     "output_type": "display_data"
    },
    {
     "data": {
      "application/vnd.jupyter.widget-view+json": {
       "model_id": "0d3d18839154428aa89bd826241e90f4",
       "version_major": 2,
       "version_minor": 0
      },
      "text/plain": [
       "Validation: |                                                                                                 …"
      ]
     },
     "metadata": {},
     "output_type": "display_data"
    },
    {
     "data": {
      "application/vnd.jupyter.widget-view+json": {
       "model_id": "ebf86f74493440ebb15044a707da8a08",
       "version_major": 2,
       "version_minor": 0
      },
      "text/plain": [
       "Validation: |                                                                                                 …"
      ]
     },
     "metadata": {},
     "output_type": "display_data"
    },
    {
     "data": {
      "application/vnd.jupyter.widget-view+json": {
       "model_id": "950bd87b97c94037a2766370c7826a9a",
       "version_major": 2,
       "version_minor": 0
      },
      "text/plain": [
       "Validation: |                                                                                                 …"
      ]
     },
     "metadata": {},
     "output_type": "display_data"
    },
    {
     "data": {
      "application/vnd.jupyter.widget-view+json": {
       "model_id": "f7f2dd3b15b449dab776a5bb4658521b",
       "version_major": 2,
       "version_minor": 0
      },
      "text/plain": [
       "Validation: |                                                                                                 …"
      ]
     },
     "metadata": {},
     "output_type": "display_data"
    },
    {
     "data": {
      "application/vnd.jupyter.widget-view+json": {
       "model_id": "04cb0b6cdfba4159a701afda68460459",
       "version_major": 2,
       "version_minor": 0
      },
      "text/plain": [
       "Validation: |                                                                                                 …"
      ]
     },
     "metadata": {},
     "output_type": "display_data"
    },
    {
     "data": {
      "application/vnd.jupyter.widget-view+json": {
       "model_id": "184f9549d3a541e9adf4189396e406ff",
       "version_major": 2,
       "version_minor": 0
      },
      "text/plain": [
       "Validation: |                                                                                                 …"
      ]
     },
     "metadata": {},
     "output_type": "display_data"
    },
    {
     "data": {
      "application/vnd.jupyter.widget-view+json": {
       "model_id": "3588f1bde36942499fc604e4663b9987",
       "version_major": 2,
       "version_minor": 0
      },
      "text/plain": [
       "Validation: |                                                                                                 …"
      ]
     },
     "metadata": {},
     "output_type": "display_data"
    },
    {
     "data": {
      "application/vnd.jupyter.widget-view+json": {
       "model_id": "0347e37073834cc7a0f12b926abf7acb",
       "version_major": 2,
       "version_minor": 0
      },
      "text/plain": [
       "Validation: |                                                                                                 …"
      ]
     },
     "metadata": {},
     "output_type": "display_data"
    },
    {
     "data": {
      "application/vnd.jupyter.widget-view+json": {
       "model_id": "af75902bd32b412eb3622d4bfc8373cb",
       "version_major": 2,
       "version_minor": 0
      },
      "text/plain": [
       "Validation: |                                                                                                 …"
      ]
     },
     "metadata": {},
     "output_type": "display_data"
    },
    {
     "data": {
      "application/vnd.jupyter.widget-view+json": {
       "model_id": "4dbfd4a4184d46079730296dcb2389d8",
       "version_major": 2,
       "version_minor": 0
      },
      "text/plain": [
       "Validation: |                                                                                                 …"
      ]
     },
     "metadata": {},
     "output_type": "display_data"
    },
    {
     "data": {
      "application/vnd.jupyter.widget-view+json": {
       "model_id": "172c564e63bd4abca62d772821087672",
       "version_major": 2,
       "version_minor": 0
      },
      "text/plain": [
       "Validation: |                                                                                                 …"
      ]
     },
     "metadata": {},
     "output_type": "display_data"
    },
    {
     "data": {
      "application/vnd.jupyter.widget-view+json": {
       "model_id": "d8dcde0579b742089e225c1dcb246721",
       "version_major": 2,
       "version_minor": 0
      },
      "text/plain": [
       "Validation: |                                                                                                 …"
      ]
     },
     "metadata": {},
     "output_type": "display_data"
    },
    {
     "data": {
      "application/vnd.jupyter.widget-view+json": {
       "model_id": "b0aee2c8e6824f9cb5d09f37be429bbf",
       "version_major": 2,
       "version_minor": 0
      },
      "text/plain": [
       "Validation: |                                                                                                 …"
      ]
     },
     "metadata": {},
     "output_type": "display_data"
    },
    {
     "data": {
      "application/vnd.jupyter.widget-view+json": {
       "model_id": "f963fe1779d644de99ac5261e5f45eb3",
       "version_major": 2,
       "version_minor": 0
      },
      "text/plain": [
       "Validation: |                                                                                                 …"
      ]
     },
     "metadata": {},
     "output_type": "display_data"
    },
    {
     "data": {
      "application/vnd.jupyter.widget-view+json": {
       "model_id": "d47e8b822c354a64b6d34597779a1017",
       "version_major": 2,
       "version_minor": 0
      },
      "text/plain": [
       "Validation: |                                                                                                 …"
      ]
     },
     "metadata": {},
     "output_type": "display_data"
    },
    {
     "data": {
      "application/vnd.jupyter.widget-view+json": {
       "model_id": "f4f18c82ffeb4c94ab5df507ac37d549",
       "version_major": 2,
       "version_minor": 0
      },
      "text/plain": [
       "Validation: |                                                                                                 …"
      ]
     },
     "metadata": {},
     "output_type": "display_data"
    },
    {
     "data": {
      "application/vnd.jupyter.widget-view+json": {
       "model_id": "a167561a41f14c06af353b334a46fbd7",
       "version_major": 2,
       "version_minor": 0
      },
      "text/plain": [
       "Validation: |                                                                                                 …"
      ]
     },
     "metadata": {},
     "output_type": "display_data"
    },
    {
     "data": {
      "application/vnd.jupyter.widget-view+json": {
       "model_id": "1c00fc4d55fa4b3ca76e39d60ea6498b",
       "version_major": 2,
       "version_minor": 0
      },
      "text/plain": [
       "Validation: |                                                                                                 …"
      ]
     },
     "metadata": {},
     "output_type": "display_data"
    },
    {
     "data": {
      "application/vnd.jupyter.widget-view+json": {
       "model_id": "79c36c9d539745f5b58a3f0183523b96",
       "version_major": 2,
       "version_minor": 0
      },
      "text/plain": [
       "Validation: |                                                                                                 …"
      ]
     },
     "metadata": {},
     "output_type": "display_data"
    },
    {
     "data": {
      "application/vnd.jupyter.widget-view+json": {
       "model_id": "5a441b8a60d849cd95efe4d0a2a0b3d1",
       "version_major": 2,
       "version_minor": 0
      },
      "text/plain": [
       "Validation: |                                                                                                 …"
      ]
     },
     "metadata": {},
     "output_type": "display_data"
    },
    {
     "data": {
      "application/vnd.jupyter.widget-view+json": {
       "model_id": "1a4b71ea40024f8d8b44b60f660853d0",
       "version_major": 2,
       "version_minor": 0
      },
      "text/plain": [
       "Validation: |                                                                                                 …"
      ]
     },
     "metadata": {},
     "output_type": "display_data"
    },
    {
     "data": {
      "application/vnd.jupyter.widget-view+json": {
       "model_id": "9259e7a02bf1492da7f5d089dbbd9586",
       "version_major": 2,
       "version_minor": 0
      },
      "text/plain": [
       "Validation: |                                                                                                 …"
      ]
     },
     "metadata": {},
     "output_type": "display_data"
    },
    {
     "data": {
      "application/vnd.jupyter.widget-view+json": {
       "model_id": "983eef30e0d74f82966d4ed35dc51504",
       "version_major": 2,
       "version_minor": 0
      },
      "text/plain": [
       "Validation: |                                                                                                 …"
      ]
     },
     "metadata": {},
     "output_type": "display_data"
    },
    {
     "data": {
      "application/vnd.jupyter.widget-view+json": {
       "model_id": "8a979dbf05f04f50a4538fe6e9ab288d",
       "version_major": 2,
       "version_minor": 0
      },
      "text/plain": [
       "Validation: |                                                                                                 …"
      ]
     },
     "metadata": {},
     "output_type": "display_data"
    },
    {
     "name": "stderr",
     "output_type": "stream",
     "text": [
      "`Trainer.fit` stopped: `max_epochs=100` reached.\n",
      "\u001b[32m2024-10-28 11:39:46.803\u001b[0m | \u001b[1mINFO    \u001b[0m | \u001b[36msrc.ranker.trainer\u001b[0m:\u001b[36mon_fit_end\u001b[0m:\u001b[36m158\u001b[0m - \u001b[1mLogging classification metrics...\u001b[0m\n",
      "\u001b[32m2024-10-28 11:40:03.683\u001b[0m | \u001b[1mINFO    \u001b[0m | \u001b[36m__main__\u001b[0m:\u001b[36m<module>\u001b[0m:\u001b[36m28\u001b[0m - \u001b[1mLogs available at /Users/dvq/frostmourne/recsys-mvp/notebooks/data/027-refit-with-features-and-title/logs/overfit/lightning_logs/version_0\u001b[0m\n"
     ]
    }
   ],
   "source": [
    "early_stopping = EarlyStopping(\n",
    "    monitor=\"val_loss\", patience=10, mode=\"min\", verbose=False\n",
    ")\n",
    "\n",
    "model = init_model(n_users, n_items, args.embedding_dim, item_feature_size, dropout=0)\n",
    "lit_model = LitRanker(\n",
    "    model,\n",
    "    learning_rate=args.learning_rate,\n",
    "    l2_reg=0.0,\n",
    "    log_dir=args.notebook_persist_dp,\n",
    ")\n",
    "\n",
    "log_dir = f\"{args.notebook_persist_dp}/logs/overfit\"\n",
    "\n",
    "# train model\n",
    "trainer = L.Trainer(\n",
    "    default_root_dir=log_dir,\n",
    "    accelerator=args.device if args.device else \"auto\",\n",
    "    max_epochs=100,\n",
    "    overfit_batches=1,\n",
    "    callbacks=[early_stopping],\n",
    ")\n",
    "trainer.fit(\n",
    "    model=lit_model,\n",
    "    train_dataloaders=train_loader,\n",
    "    val_dataloaders=train_loader,\n",
    ")\n",
    "logger.info(f\"Logs available at {trainer.log_dir}\")"
   ]
  },
  {
   "cell_type": "code",
   "execution_count": 27,
   "id": "b2cc9ae0-a993-4815-bebd-85cc51e68e65",
   "metadata": {},
   "outputs": [
    {
     "data": {
      "text/html": [
       "\n",
       "      <iframe id=\"tensorboard-frame-f1488f5abeb9e11\" width=\"100%\" height=\"800\" frameborder=\"0\">\n",
       "      </iframe>\n",
       "      <script>\n",
       "        (function() {\n",
       "          const frame = document.getElementById(\"tensorboard-frame-f1488f5abeb9e11\");\n",
       "          const url = new URL(\"/\", window.location);\n",
       "          const port = 6006;\n",
       "          if (port) {\n",
       "            url.port = port;\n",
       "          }\n",
       "          frame.src = url;\n",
       "        })();\n",
       "      </script>\n",
       "    "
      ],
      "text/plain": [
       "<IPython.core.display.HTML object>"
      ]
     },
     "metadata": {},
     "output_type": "display_data"
    }
   ],
   "source": [
    "%tensorboard --logdir $trainer.log_dir"
   ]
  },
  {
   "cell_type": "markdown",
   "id": "65c7e4af-5c66-454e-9e2c-2ca134f4e1cf",
   "metadata": {},
   "source": [
    "##### Fit on all data"
   ]
  },
  {
   "cell_type": "code",
   "execution_count": 28,
   "id": "65d821e0-3255-4947-b720-81a2f83a4911",
   "metadata": {},
   "outputs": [
    {
     "name": "stderr",
     "output_type": "stream",
     "text": [
      "\u001b[32m2024-10-28 11:40:04.961\u001b[0m | \u001b[1mINFO    \u001b[0m | \u001b[36m__main__\u001b[0m:\u001b[36m<module>\u001b[0m:\u001b[36m4\u001b[0m - \u001b[1mMean std over categorical and numerical features: 0.996731698513031\u001b[0m\n"
     ]
    },
    {
     "data": {
      "application/vnd.jupyter.widget-view+json": {
       "model_id": "08e9c3be57a74de6a7fb49ceb558acf9",
       "version_major": 2,
       "version_minor": 0
      },
      "text/plain": [
       "  0%|          | 0/47 [00:00<?, ?it/s]"
      ]
     },
     "metadata": {},
     "output_type": "display_data"
    },
    {
     "name": "stderr",
     "output_type": "stream",
     "text": [
      "\u001b[32m2024-10-28 11:40:06.146\u001b[0m | \u001b[1mINFO    \u001b[0m | \u001b[36m__main__\u001b[0m:\u001b[36m<module>\u001b[0m:\u001b[36m9\u001b[0m - \u001b[1mMean std over text features: 0.015866756439208984\u001b[0m\n"
     ]
    }
   ],
   "source": [
    "all_items_df = train_df.drop_duplicates(subset=[\"item_indice\"])\n",
    "all_items_indices = all_items_df[\"item_indice\"].values\n",
    "all_items_features = item_metadata_pipeline.transform(all_items_df).astype(np.float32)\n",
    "logger.info(\n",
    "    f\"Mean std over categorical and numerical features: {all_items_features.std(axis=0).mean()}\"\n",
    ")\n",
    "if args.use_sbert_features:\n",
    "    all_sbert_vectors = ann_index.get_vector_by_ids(all_items_indices.tolist()).astype(\n",
    "        np.float32\n",
    "    )\n",
    "    logger.info(f\"Mean std over text features: {all_sbert_vectors.std(axis=0).mean()}\")\n",
    "    all_items_features = np.hstack([all_items_features, all_sbert_vectors])"
   ]
  },
  {
   "cell_type": "code",
   "execution_count": 29,
   "id": "6fef36c3-5263-4d91-8d7f-364d45c20719",
   "metadata": {
    "scrolled": true
   },
   "outputs": [
    {
     "name": "stderr",
     "output_type": "stream",
     "text": [
      "GPU available: True (mps), used: True\n",
      "TPU available: False, using: 0 TPU cores\n",
      "HPU available: False, using: 0 HPUs\n",
      "\n",
      "  | Name  | Type   | Params | Mode \n",
      "-----------------------------------------\n",
      "0 | model | Ranker | 3.4 M  | train\n",
      "-----------------------------------------\n",
      "3.4 M     Trainable params\n",
      "0         Non-trainable params\n",
      "3.4 M     Total params\n",
      "13.533    Total estimated model params size (MB)\n",
      "14        Modules in train mode\n",
      "0         Modules in eval mode\n"
     ]
    },
    {
     "data": {
      "application/vnd.jupyter.widget-view+json": {
       "model_id": "",
       "version_major": 2,
       "version_minor": 0
      },
      "text/plain": [
       "Sanity Checking: |                                                                                            …"
      ]
     },
     "metadata": {},
     "output_type": "display_data"
    },
    {
     "name": "stderr",
     "output_type": "stream",
     "text": [
      "/Users/dvq/frostmourne/recsys-mvp/.venv/lib/python3.11/site-packages/lightning/pytorch/trainer/connectors/data_connector.py:424: PossibleUserWarning:\n",
      "\n",
      "The 'val_dataloader' does not have many workers which may be a bottleneck. Consider increasing the value of the `num_workers` argument` to `num_workers=10` in the `DataLoader` to improve performance.\n",
      "\n",
      "/Users/dvq/frostmourne/recsys-mvp/.venv/lib/python3.11/site-packages/lightning/pytorch/trainer/connectors/data_connector.py:424: PossibleUserWarning:\n",
      "\n",
      "The 'train_dataloader' does not have many workers which may be a bottleneck. Consider increasing the value of the `num_workers` argument` to `num_workers=10` in the `DataLoader` to improve performance.\n",
      "\n"
     ]
    },
    {
     "data": {
      "application/vnd.jupyter.widget-view+json": {
       "model_id": "4a6f2e5b00944a14a6341d6293fe5064",
       "version_major": 2,
       "version_minor": 0
      },
      "text/plain": [
       "Training: |                                                                                                   …"
      ]
     },
     "metadata": {},
     "output_type": "display_data"
    },
    {
     "data": {
      "application/vnd.jupyter.widget-view+json": {
       "model_id": "",
       "version_major": 2,
       "version_minor": 0
      },
      "text/plain": [
       "Validation: |                                                                                                 …"
      ]
     },
     "metadata": {},
     "output_type": "display_data"
    },
    {
     "data": {
      "application/vnd.jupyter.widget-view+json": {
       "model_id": "",
       "version_major": 2,
       "version_minor": 0
      },
      "text/plain": [
       "Validation: |                                                                                                 …"
      ]
     },
     "metadata": {},
     "output_type": "display_data"
    },
    {
     "data": {
      "application/vnd.jupyter.widget-view+json": {
       "model_id": "",
       "version_major": 2,
       "version_minor": 0
      },
      "text/plain": [
       "Validation: |                                                                                                 …"
      ]
     },
     "metadata": {},
     "output_type": "display_data"
    },
    {
     "data": {
      "application/vnd.jupyter.widget-view+json": {
       "model_id": "",
       "version_major": 2,
       "version_minor": 0
      },
      "text/plain": [
       "Validation: |                                                                                                 …"
      ]
     },
     "metadata": {},
     "output_type": "display_data"
    },
    {
     "data": {
      "application/vnd.jupyter.widget-view+json": {
       "model_id": "",
       "version_major": 2,
       "version_minor": 0
      },
      "text/plain": [
       "Validation: |                                                                                                 …"
      ]
     },
     "metadata": {},
     "output_type": "display_data"
    },
    {
     "data": {
      "application/vnd.jupyter.widget-view+json": {
       "model_id": "",
       "version_major": 2,
       "version_minor": 0
      },
      "text/plain": [
       "Validation: |                                                                                                 …"
      ]
     },
     "metadata": {},
     "output_type": "display_data"
    },
    {
     "data": {
      "application/vnd.jupyter.widget-view+json": {
       "model_id": "",
       "version_major": 2,
       "version_minor": 0
      },
      "text/plain": [
       "Validation: |                                                                                                 …"
      ]
     },
     "metadata": {},
     "output_type": "display_data"
    },
    {
     "data": {
      "application/vnd.jupyter.widget-view+json": {
       "model_id": "",
       "version_major": 2,
       "version_minor": 0
      },
      "text/plain": [
       "Validation: |                                                                                                 …"
      ]
     },
     "metadata": {},
     "output_type": "display_data"
    },
    {
     "data": {
      "application/vnd.jupyter.widget-view+json": {
       "model_id": "",
       "version_major": 2,
       "version_minor": 0
      },
      "text/plain": [
       "Validation: |                                                                                                 …"
      ]
     },
     "metadata": {},
     "output_type": "display_data"
    },
    {
     "data": {
      "application/vnd.jupyter.widget-view+json": {
       "model_id": "",
       "version_major": 2,
       "version_minor": 0
      },
      "text/plain": [
       "Validation: |                                                                                                 …"
      ]
     },
     "metadata": {},
     "output_type": "display_data"
    },
    {
     "data": {
      "application/vnd.jupyter.widget-view+json": {
       "model_id": "",
       "version_major": 2,
       "version_minor": 0
      },
      "text/plain": [
       "Validation: |                                                                                                 …"
      ]
     },
     "metadata": {},
     "output_type": "display_data"
    },
    {
     "data": {
      "application/vnd.jupyter.widget-view+json": {
       "model_id": "",
       "version_major": 2,
       "version_minor": 0
      },
      "text/plain": [
       "Validation: |                                                                                                 …"
      ]
     },
     "metadata": {},
     "output_type": "display_data"
    },
    {
     "name": "stderr",
     "output_type": "stream",
     "text": [
      "\u001b[32m2024-10-28 11:50:49.513\u001b[0m | \u001b[1mINFO    \u001b[0m | \u001b[36msrc.ranker.trainer\u001b[0m:\u001b[36mon_fit_end\u001b[0m:\u001b[36m152\u001b[0m - \u001b[1mLoading best model from /Users/dvq/frostmourne/recsys-mvp/notebooks/data/027-refit-with-features-and-title/checkpoints/best-checkpoint.ckpt...\u001b[0m\n",
      "\u001b[32m2024-10-28 11:50:49.770\u001b[0m | \u001b[1mINFO    \u001b[0m | \u001b[36msrc.ranker.trainer\u001b[0m:\u001b[36mon_fit_end\u001b[0m:\u001b[36m158\u001b[0m - \u001b[1mLogging classification metrics...\u001b[0m\n",
      "\u001b[32m2024-10-28 11:50:50.357\u001b[0m | \u001b[1mINFO    \u001b[0m | \u001b[36msrc.ranker.trainer\u001b[0m:\u001b[36mon_fit_end\u001b[0m:\u001b[36m161\u001b[0m - \u001b[1mLogging ranking metrics...\u001b[0m\n"
     ]
    },
    {
     "data": {
      "application/vnd.jupyter.widget-view+json": {
       "model_id": "d931acd2012f4ce5b960f2f4662d4093",
       "version_major": 2,
       "version_minor": 0
      },
      "text/plain": [
       "Generating recommendations:   0%|          | 0/177 [00:00<?, ?it/s]"
      ]
     },
     "metadata": {},
     "output_type": "display_data"
    },
    {
     "name": "stderr",
     "output_type": "stream",
     "text": [
      "/Users/dvq/frostmourne/recsys-mvp/.venv/lib/python3.11/site-packages/evidently/metrics/recsys/f_beta_top_k.py:64: RuntimeWarning:\n",
      "\n",
      "invalid value encountered in divide\n",
      "\n",
      "2024/10/28 11:51:31 INFO mlflow.tracking._tracking_service.client: 🏃 View run 027-refit-with-features-and-title at: http://localhost:5002/#/experiments/3/runs/8ee774a1531241098fabc21d944af626.\n",
      "2024/10/28 11:51:31 INFO mlflow.tracking._tracking_service.client: 🧪 View experiment at: http://localhost:5002/#/experiments/3.\n"
     ]
    }
   ],
   "source": [
    "# papermill_description=fit-model\n",
    "early_stopping = EarlyStopping(\n",
    "    monitor=\"val_loss\", patience=args.early_stopping_patience, mode=\"min\", verbose=False\n",
    ")\n",
    "\n",
    "checkpoint_callback = ModelCheckpoint(\n",
    "    dirpath=f\"{args.notebook_persist_dp}/checkpoints\",\n",
    "    filename=\"best-checkpoint\",\n",
    "    save_top_k=1,\n",
    "    monitor=\"val_loss\",\n",
    "    mode=\"min\",\n",
    ")\n",
    "\n",
    "model = init_model(\n",
    "    n_users,\n",
    "    n_items,\n",
    "    args.embedding_dim,\n",
    "    item_feature_size,\n",
    "    dropout=args.dropout,\n",
    "    item_embedding=pretrained_item_embedding,\n",
    ")\n",
    "lit_model = LitRanker(\n",
    "    model,\n",
    "    learning_rate=args.learning_rate,\n",
    "    l2_reg=args.l2_reg,\n",
    "    log_dir=args.notebook_persist_dp,\n",
    "    evaluate_ranking=True,\n",
    "    idm=idm,\n",
    "    all_items_indices=all_items_indices,\n",
    "    all_items_features=all_items_features,\n",
    "    args=args,\n",
    "    neg_to_pos_ratio=args.neg_to_pos_ratio,\n",
    "    checkpoint_callback=checkpoint_callback,\n",
    ")\n",
    "\n",
    "log_dir = f\"{args.notebook_persist_dp}/logs/run\"\n",
    "\n",
    "# train model\n",
    "trainer = L.Trainer(\n",
    "    default_root_dir=log_dir,\n",
    "    max_epochs=args.max_epochs,\n",
    "    callbacks=[early_stopping, checkpoint_callback],\n",
    "    accelerator=args.device if args.device else \"auto\",\n",
    "    logger=args._mlf_logger if args.log_to_mlflow else None,\n",
    ")\n",
    "trainer.fit(\n",
    "    model=lit_model,\n",
    "    train_dataloaders=train_loader,\n",
    "    val_dataloaders=val_loader,\n",
    ")"
   ]
  },
  {
   "cell_type": "code",
   "execution_count": 30,
   "id": "af44bf35-e7c7-4718-97b8-238e89b7f3f0",
   "metadata": {
    "editable": true,
    "scrolled": true,
    "slideshow": {
     "slide_type": ""
    },
    "tags": []
   },
   "outputs": [
    {
     "name": "stderr",
     "output_type": "stream",
     "text": [
      "\u001b[32m2024-10-28 11:51:31.248\u001b[0m | \u001b[1mINFO    \u001b[0m | \u001b[36m__main__\u001b[0m:\u001b[36m<module>\u001b[0m:\u001b[36m1\u001b[0m - \u001b[1mTest predicting after training with user_id = AGBP6HAY2K6QPNW3KENGNXURANWQ and parent_asin = B001QCWS9M\u001b[0m\n"
     ]
    },
    {
     "data": {
      "text/plain": [
       "tensor([[0.3505]], grad_fn=<SigmoidBackward0>)"
      ]
     },
     "execution_count": 30,
     "metadata": {},
     "output_type": "execute_result"
    }
   ],
   "source": [
    "logger.info(\n",
    "    f\"Test predicting after training with {args.user_col} = {user_id} and {args.item_col} = {item_id}\"\n",
    ")\n",
    "model.eval()\n",
    "model.predict(user, item_sequence, item_feature, item)"
   ]
  },
  {
   "cell_type": "markdown",
   "id": "f8e1dd22-bcb9-4582-96d0-30acc4e8b790",
   "metadata": {
    "editable": true,
    "slideshow": {
     "slide_type": ""
    },
    "tags": []
   },
   "source": [
    "# Load best checkpoint"
   ]
  },
  {
   "cell_type": "code",
   "execution_count": 31,
   "id": "092427a8-ac4e-4752-a0ee-10729b6e563c",
   "metadata": {
    "scrolled": true
   },
   "outputs": [
    {
     "name": "stderr",
     "output_type": "stream",
     "text": [
      "\u001b[32m2024-10-28 11:51:31.278\u001b[0m | \u001b[1mINFO    \u001b[0m | \u001b[36m__main__\u001b[0m:\u001b[36m<module>\u001b[0m:\u001b[36m1\u001b[0m - \u001b[1mLoading best checkpoint from /Users/dvq/frostmourne/recsys-mvp/notebooks/data/027-refit-with-features-and-title/checkpoints/best-checkpoint.ckpt...\u001b[0m\n"
     ]
    }
   ],
   "source": [
    "logger.info(f\"Loading best checkpoint from {checkpoint_callback.best_model_path}...\")\n",
    "args.best_checkpoint_path = checkpoint_callback.best_model_path\n",
    "\n",
    "best_trainer = LitRanker.load_from_checkpoint(\n",
    "    checkpoint_callback.best_model_path,\n",
    "    model=init_model(\n",
    "        n_users,\n",
    "        n_items,\n",
    "        args.embedding_dim,\n",
    "        item_feature_size,\n",
    "        dropout=0,\n",
    "        item_embedding=pretrained_item_embedding,\n",
    "    ),\n",
    ")"
   ]
  },
  {
   "cell_type": "code",
   "execution_count": 32,
   "id": "e68989e7-cd28-4cb3-9a28-5bd477bb67c4",
   "metadata": {},
   "outputs": [],
   "source": [
    "best_model = best_trainer.model.to(lit_model.device)"
   ]
  },
  {
   "cell_type": "code",
   "execution_count": 33,
   "id": "72062d94-6ee8-480f-b7c6-9dcae2ceeb8b",
   "metadata": {
    "scrolled": true
   },
   "outputs": [
    {
     "data": {
      "text/plain": [
       "tensor([[0.3505]], grad_fn=<SigmoidBackward0>)"
      ]
     },
     "execution_count": 33,
     "metadata": {},
     "output_type": "execute_result"
    }
   ],
   "source": [
    "best_model.eval()\n",
    "best_model.predict(user, item_sequence, item_feature, item)"
   ]
  },
  {
   "cell_type": "markdown",
   "id": "26afc39d-5cbd-4ea4-9484-f6419b460bde",
   "metadata": {
    "scrolled": true
   },
   "source": [
    "### Persist id mapping"
   ]
  },
  {
   "cell_type": "code",
   "execution_count": 34,
   "id": "275bcb81-bf50-4757-9e63-5c7a317b276f",
   "metadata": {},
   "outputs": [],
   "source": [
    "if args.log_to_mlflow:\n",
    "    # Persist id_mapping so that at inference we can predict based on item_ids (string) instead of item_index\n",
    "    run_id = trainer.logger.run_id\n",
    "    mlf_client = trainer.logger.experiment\n",
    "    mlf_client.log_artifact(run_id, idm_fp)\n",
    "    # Persist item_feature_metadata pipeline\n",
    "    mlf_client.log_artifact(run_id, args.item_metadata_pipeline_fp)"
   ]
  },
  {
   "cell_type": "markdown",
   "id": "73a53735-cada-4b16-b6ec-b958e20d8093",
   "metadata": {},
   "source": [
    "### Wrap inference function and register best checkpoint as MLflow model"
   ]
  },
  {
   "cell_type": "code",
   "execution_count": 35,
   "id": "fc1da4ca-1616-4f57-99fb-cb851c535a57",
   "metadata": {},
   "outputs": [],
   "source": [
    "inferrer = RankerInferenceWrapper(best_model)"
   ]
  },
  {
   "cell_type": "code",
   "execution_count": 36,
   "id": "a21791a9-d5fc-4abe-bc3c-820aba9f0759",
   "metadata": {},
   "outputs": [
    {
     "data": {
      "text/plain": [
       "array([0.8046768], dtype=float32)"
      ]
     },
     "execution_count": 36,
     "metadata": {},
     "output_type": "execute_result"
    }
   ],
   "source": [
    "sample_input = {\n",
    "    \"user_ids\": [idm.get_user_id(0)],\n",
    "    \"item_sequences\": [[idm.get_item_id(0), idm.get_item_id(1)]],\n",
    "    **{col: [train_df.iloc[0].fillna(0)[col]] for col in args.item_feature_cols},\n",
    "    \"item_ids\": [idm.get_item_id(0)],\n",
    "}\n",
    "sample_output = inferrer.infer([0], [[0, 1]], [train_item_features[0]], [0])\n",
    "sample_output"
   ]
  },
  {
   "cell_type": "code",
   "execution_count": 37,
   "id": "b24b5cf4-5e51-4641-bdfe-6ce289344bf6",
   "metadata": {},
   "outputs": [
    {
     "data": {
      "text/plain": [
       "{'user_ids': ['AE225O22SA7DLBOGOEIFL7FT5VYQ'],\n",
       " 'item_sequences': [['0375869026', '9625990674']],\n",
       " 'main_category': ['Video Games'],\n",
       " 'categories': [array(['Video Games', 'Legacy Systems', 'PlayStation Systems',\n",
       "         'PlayStation 3', 'Accessories', 'Controllers'], dtype=object)],\n",
       " 'price': ['49.99'],\n",
       " 'parent_asin_rating_cnt_365d': [76.0],\n",
       " 'parent_asin_rating_avg_prev_rating_365d': [4.592105263157895],\n",
       " 'parent_asin_rating_cnt_90d': [10.0],\n",
       " 'parent_asin_rating_avg_prev_rating_90d': [4.3],\n",
       " 'parent_asin_rating_cnt_30d': [3.0],\n",
       " 'parent_asin_rating_avg_prev_rating_30d': [5.0],\n",
       " 'parent_asin_rating_cnt_7d': [1.0],\n",
       " 'parent_asin_rating_avg_prev_rating_7d': [5.0],\n",
       " 'item_ids': ['0375869026']}"
      ]
     },
     "execution_count": 37,
     "metadata": {},
     "output_type": "execute_result"
    }
   ],
   "source": [
    "sample_input"
   ]
  },
  {
   "cell_type": "code",
   "execution_count": 38,
   "id": "de2c043a-f777-4ade-ab80-cfa4d90aafa8",
   "metadata": {
    "scrolled": true
   },
   "outputs": [
    {
     "name": "stderr",
     "output_type": "stream",
     "text": [
      "/Users/dvq/frostmourne/recsys-mvp/.venv/lib/python3.11/site-packages/mlflow/models/utils.py:523: FutureWarning:\n",
      "\n",
      "Since MLflow 2.16.0, we no longer convert dictionary input example to pandas Dataframe, and directly save it as a json object. If the model expects a pandas DataFrame input instead, please pass the pandas DataFrame as input example directly.\n",
      "\n"
     ]
    },
    {
     "data": {
      "application/vnd.jupyter.widget-view+json": {
       "model_id": "9a1c07b6c8d848128ee5eb1337c266fd",
       "version_major": 2,
       "version_minor": 0
      },
      "text/plain": [
       "Downloading artifacts:   0%|          | 0/1 [00:00<?, ?it/s]"
      ]
     },
     "metadata": {},
     "output_type": "display_data"
    },
    {
     "data": {
      "application/vnd.jupyter.widget-view+json": {
       "model_id": "307db6156ecc49e9a976b019a015fecf",
       "version_major": 2,
       "version_minor": 0
      },
      "text/plain": [
       "Downloading artifacts:   0%|          | 0/1 [00:00<?, ?it/s]"
      ]
     },
     "metadata": {},
     "output_type": "display_data"
    },
    {
     "name": "stderr",
     "output_type": "stream",
     "text": [
      "Registered model 'ranker' already exists. Creating a new version of this model...\n",
      "2024/10/28 11:51:35 INFO mlflow.store.model_registry.abstract_store: Waiting up to 300 seconds for model version to finish creation. Model name: ranker, version 26\n",
      "Created version '26' of model 'ranker'.\n"
     ]
    },
    {
     "data": {
      "application/vnd.jupyter.widget-view+json": {
       "model_id": "317a83af5a04421c80ffe8ec12e57410",
       "version_major": 2,
       "version_minor": 0
      },
      "text/plain": [
       "Downloading artifacts:   0%|          | 0/9 [00:00<?, ?it/s]"
      ]
     },
     "metadata": {},
     "output_type": "display_data"
    },
    {
     "name": "stderr",
     "output_type": "stream",
     "text": [
      "2024/10/28 11:51:40 WARNING mlflow.models.model: Failed to validate serving input example {\n",
      "  \"inputs\": {\n",
      "    \"user_ids\": [\n",
      "      \"AE225O22SA7DLBOGOEIFL7FT5VYQ\"\n",
      "    ],\n",
      "    \"item_sequences\": [\n",
      "      [\n",
      "        \"0375869026\",\n",
      "        \"9625990674\"\n",
      "      ]\n",
      "    ],\n",
      "    \"main_category\": [\n",
      "      \"Video Games\"\n",
      "    ],\n",
      "    \"categories\": [\n",
      "      [\n",
      "        \"Video Games\",\n",
      "        \"Legacy Systems\",\n",
      "        \"PlayStation Systems\",\n",
      "        \"PlayStation 3\",\n",
      "        \"Accessories\",\n",
      "        \"Controllers\"\n",
      "      ]\n",
      "    ],\n",
      "    \"price\": [\n",
      "      \"49.99\"\n",
      "    ],\n",
      "    \"parent_asin_rating_cnt_365d\": [\n",
      "      76.0\n",
      "    ],\n",
      "    \"parent_asin_rating_avg_prev_rating_365d\": [\n",
      "      4.592105263157895\n",
      "    ],\n",
      "    \"parent_asin_rating_cnt_90d\": [\n",
      "      10.0\n",
      "    ],\n",
      "    \"parent_asin_rating_avg_prev_rating_90d\": [\n",
      "      4.3\n",
      "    ],\n",
      "    \"parent_asin_rating_cnt_30d\": [\n",
      "      3.0\n",
      "    ],\n",
      "    \"parent_asin_rating_avg_prev_rating_30d\": [\n",
      "      5.0\n",
      "    ],\n",
      "    \"parent_asin_rating_cnt_7d\": [\n",
      "      1.0\n",
      "    ],\n",
      "    \"parent_asin_rating_avg_prev_rating_7d\": [\n",
      "      5.0\n",
      "    ],\n",
      "    \"item_ids\": [\n",
      "      \"0375869026\"\n",
      "    ]\n",
      "  }\n",
      "}. Alternatively, you can avoid passing input example and pass model signature instead when logging the model. To ensure the input example is valid prior to serving, please try calling `mlflow.models.validate_serving_input` on the model uri and serving input example. A serving input example can be generated from model input example using `mlflow.models.convert_input_example_to_serving_input` function.\n",
      "Got error: Per-column arrays must each be 1-dimensional\n",
      "2024/10/28 11:51:40 INFO mlflow.tracking._tracking_service.client: 🏃 View run 027-refit-with-features-and-title at: http://localhost:5002/#/experiments/3/runs/8ee774a1531241098fabc21d944af626.\n",
      "2024/10/28 11:51:40 INFO mlflow.tracking._tracking_service.client: 🧪 View experiment at: http://localhost:5002/#/experiments/3.\n"
     ]
    }
   ],
   "source": [
    "if args.log_to_mlflow:\n",
    "    run_id = trainer.logger.run_id\n",
    "    sample_output_np = sample_output\n",
    "    signature = infer_signature(sample_input, sample_output_np)\n",
    "    idm_filename = idm_fp.split(\"/\")[-1]\n",
    "    item_metadata_pipeline_filename = args.item_metadata_pipeline_fp.split(\"/\")[-1]\n",
    "    with mlflow.start_run(run_id=run_id):\n",
    "        mlflow.pyfunc.log_model(\n",
    "            python_model=inferrer,\n",
    "            artifact_path=\"inferrer\",\n",
    "            artifacts={\n",
    "                # We log the id_mapping to the predict function so that it can accept item_id and automatically convert ot item_indice for PyTorch model to use\n",
    "                \"idm\": mlflow.get_artifact_uri(idm_filename),\n",
    "                \"item_metadata_pipeline\": mlflow.get_artifact_uri(\n",
    "                    item_metadata_pipeline_filename\n",
    "                ),\n",
    "            },\n",
    "            model_config={\"use_sbert_features\": args.use_sbert_features},\n",
    "            metadata={\"use_sbert_features\": args.use_sbert_features},\n",
    "            signature=signature,\n",
    "            input_example=sample_input,\n",
    "            registered_model_name=args.mlf_model_name,\n",
    "        )"
   ]
  },
  {
   "cell_type": "markdown",
   "id": "f95d5150-9851-4e61-b1af-8e619abc9ea4",
   "metadata": {},
   "source": [
    "# Set the newly trained model as champion"
   ]
  },
  {
   "cell_type": "code",
   "execution_count": 39,
   "id": "cbf6428a-bc47-400a-99ac-666abfa4ce63",
   "metadata": {},
   "outputs": [
    {
     "name": "stderr",
     "output_type": "stream",
     "text": [
      "\u001b[32m2024-10-28 11:51:40.735\u001b[0m | \u001b[1mINFO    \u001b[0m | \u001b[36m__main__\u001b[0m:\u001b[36m<module>\u001b[0m:\u001b[36m7\u001b[0m - \u001b[1mAliasing the new model as champion...\u001b[0m\n"
     ]
    }
   ],
   "source": [
    "if args.log_to_mlflow:\n",
    "    val_roc_auc = trainer.logger.experiment.get_run(trainer.logger.run_id).data.metrics[\n",
    "        \"val_roc_auc\"\n",
    "    ]\n",
    "\n",
    "    if val_roc_auc > args.min_roc_auc:\n",
    "        logger.info(f\"Aliasing the new model as champion...\")\n",
    "        model_version = (\n",
    "            mlf_client.get_registered_model(args.mlf_model_name)\n",
    "            .latest_versions[0]\n",
    "            .version\n",
    "        )\n",
    "\n",
    "        mlf_client.set_registered_model_alias(\n",
    "            name=args.mlf_model_name, alias=\"champion\", version=model_version\n",
    "        )\n",
    "\n",
    "        mlf_client.set_model_version_tag(\n",
    "            name=args.mlf_model_name,\n",
    "            version=model_version,\n",
    "            key=\"author\",\n",
    "            value=\"quy.dinh\",\n",
    "        )"
   ]
  },
  {
   "cell_type": "markdown",
   "id": "32096360-c26a-42de-9564-30634fb76eeb",
   "metadata": {},
   "source": [
    "# Clean up"
   ]
  },
  {
   "cell_type": "code",
   "execution_count": 40,
   "id": "e98c6850-e4de-43fa-b132-0b97f138a0ed",
   "metadata": {
    "scrolled": true
   },
   "outputs": [
    {
     "name": "stderr",
     "output_type": "stream",
     "text": [
      "2024/10/28 11:51:40 INFO mlflow.tracking._tracking_service.client: 🏃 View run 027-refit-with-features-and-title at: http://localhost:5002/#/experiments/3/runs/8ee774a1531241098fabc21d944af626.\n",
      "2024/10/28 11:51:40 INFO mlflow.tracking._tracking_service.client: 🧪 View experiment at: http://localhost:5002/#/experiments/3.\n"
     ]
    }
   ],
   "source": [
    "all_params = [args]\n",
    "\n",
    "if args.log_to_mlflow:\n",
    "    with mlflow.start_run(run_id=run_id):\n",
    "        for params in all_params:\n",
    "            params_dict = params.dict()\n",
    "            params_ = dict()\n",
    "            for k, v in params_dict.items():\n",
    "                if k == \"top_K\":\n",
    "                    k = \"top_big_K\"\n",
    "                if k == \"top_k\":\n",
    "                    k = \"top_small_k\"\n",
    "                params_[f\"{params.__repr_name__()}.{k}\"] = v\n",
    "            mlflow.log_params(params_)"
   ]
  },
  {
   "cell_type": "code",
   "execution_count": null,
   "id": "30cff81a-484e-4919-be8f-0351cce91a75",
   "metadata": {},
   "outputs": [],
   "source": []
  }
 ],
 "metadata": {
  "kernelspec": {
   "display_name": "Python 3 (ipykernel)",
   "language": "python",
   "name": "python3"
  },
  "language_info": {
   "codemirror_mode": {
    "name": "ipython",
    "version": 3
   },
   "file_extension": ".py",
   "mimetype": "text/x-python",
   "name": "python",
   "nbconvert_exporter": "python",
   "pygments_lexer": "ipython3",
   "version": "3.11.9"
  }
 },
 "nbformat": 4,
 "nbformat_minor": 5
}
