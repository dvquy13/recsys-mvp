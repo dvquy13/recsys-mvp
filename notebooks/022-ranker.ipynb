{
 "cells": [
  {
   "cell_type": "markdown",
   "id": "3bf1577c-6f3b-4b1c-a848-8f5e45ff8111",
   "metadata": {},
   "source": [
    "# Ranker that can takes into accound different features"
   ]
  },
  {
   "cell_type": "markdown",
   "id": "9309e017-0449-46ee-b7ca-4c4bcadeedf6",
   "metadata": {},
   "source": [
    "# Set up"
   ]
  },
  {
   "cell_type": "code",
   "execution_count": 1,
   "id": "3c8f6e8d-f776-4d39-898c-d783c5ae3407",
   "metadata": {},
   "outputs": [],
   "source": [
    "%load_ext autoreload\n",
    "%autoreload 2\n",
    "%load_ext tensorboard"
   ]
  },
  {
   "cell_type": "code",
   "execution_count": 2,
   "id": "35b3499d-dc9c-405a-8714-a26341b581e1",
   "metadata": {
    "editable": true,
    "slideshow": {
     "slide_type": ""
    },
    "tags": []
   },
   "outputs": [],
   "source": [
    "import os\n",
    "import sys\n",
    "\n",
    "import dill\n",
    "import lightning as L\n",
    "import numpy as np\n",
    "import pandas as pd\n",
    "import torch\n",
    "from dotenv import load_dotenv\n",
    "from lightning.pytorch.callbacks import ModelCheckpoint\n",
    "from lightning.pytorch.callbacks.early_stopping import EarlyStopping\n",
    "from lightning.pytorch.loggers import MLFlowLogger\n",
    "from loguru import logger\n",
    "from mlflow.exceptions import MlflowException\n",
    "from mlflow.models.signature import infer_signature\n",
    "from pydantic import BaseModel\n",
    "from torch.utils.data import DataLoader\n",
    "\n",
    "import mlflow\n",
    "\n",
    "load_dotenv()\n",
    "\n",
    "sys.path.insert(0, \"..\")\n",
    "\n",
    "from cfg.run_cfg import RunCfg\n",
    "from src.ann import AnnIndex\n",
    "from src.data_prep_utils import chunk_transform\n",
    "from src.dataset import UserItemBinaryDFDataset\n",
    "from src.eval.compare_runs import ModelMetricsComparisonVisualizer\n",
    "from src.id_mapper import IDMapper\n",
    "from src.ranker.inference import RankerInferenceWrapper\n",
    "from src.ranker.model import Ranker\n",
    "from src.ranker.trainer import LitRanker\n",
    "from src.viz import blueq_colors"
   ]
  },
  {
   "cell_type": "markdown",
   "id": "fd804021-3424-48e0-973a-e662a72db544",
   "metadata": {},
   "source": [
    "# Controller"
   ]
  },
  {
   "cell_type": "code",
   "execution_count": 3,
   "id": "ce522d9e-f35c-4cc5-a71e-68447956b31f",
   "metadata": {
    "editable": true,
    "slideshow": {
     "slide_type": ""
    },
    "tags": [
     "parameters"
    ]
   },
   "outputs": [],
   "source": [
    "max_epochs = 1"
   ]
  },
  {
   "cell_type": "code",
   "execution_count": 4,
   "id": "ea4e9a93-5b6a-4dec-97f0-b9aa3383c64d",
   "metadata": {
    "scrolled": true
   },
   "outputs": [
    {
     "name": "stderr",
     "output_type": "stream",
     "text": [
      "\u001b[32m2024-11-16 16:57:54.399\u001b[0m | \u001b[34m\u001b[1mDEBUG   \u001b[0m | \u001b[36mcfg.run_cfg\u001b[0m:\u001b[36minit\u001b[0m:\u001b[36m43\u001b[0m - \u001b[34m\u001b[1mChanging use_item_tags_from_llm requires re-running notebook 002-features-v2 to get the new item_metadata_pipeline.dill file\u001b[0m\n",
      "\u001b[32m2024-11-16 16:57:54.402\u001b[0m | \u001b[1mINFO    \u001b[0m | \u001b[36m__main__\u001b[0m:\u001b[36minit\u001b[0m:\u001b[36m61\u001b[0m - \u001b[1mSetting up MLflow experiment RecSys MVP - Ranker - run 038-update-compare-metrics...\u001b[0m\n"
     ]
    },
    {
     "name": "stdout",
     "output_type": "stream",
     "text": [
      "{\n",
      "  \"testing\": false,\n",
      "  \"author\": \"quy.dinh\",\n",
      "  \"log_to_mlflow\": true,\n",
      "  \"experiment_name\": \"RecSys MVP - Ranker\",\n",
      "  \"run_name\": \"038-update-compare-metrics\",\n",
      "  \"notebook_persist_dp\": \"/home/dvquys/frostmourne/recsys-mvp/notebooks/data/038-update-compare-metrics\",\n",
      "  \"random_seed\": 41,\n",
      "  \"device\": \"cuda\",\n",
      "  \"rc\": {\n",
      "    \"use_sbert_features\": false,\n",
      "    \"use_item_tags_from_llm\": false,\n",
      "    \"item_feature_cols\": [\n",
      "      \"main_category\",\n",
      "      \"categories\",\n",
      "      \"price\",\n",
      "      \"parent_asin_rating_cnt_365d\",\n",
      "      \"parent_asin_rating_avg_prev_rating_365d\",\n",
      "      \"parent_asin_rating_cnt_90d\",\n",
      "      \"parent_asin_rating_avg_prev_rating_90d\",\n",
      "      \"parent_asin_rating_cnt_30d\",\n",
      "      \"parent_asin_rating_avg_prev_rating_30d\",\n",
      "      \"parent_asin_rating_cnt_7d\",\n",
      "      \"parent_asin_rating_avg_prev_rating_7d\"\n",
      "    ],\n",
      "    \"item_tags_from_llm_fp\": \"../data/item_tags_from_llm.parquet\"\n",
      "  },\n",
      "  \"item_metadata_pipeline_fp\": \"../data/item_metadata_pipeline.dill\",\n",
      "  \"qdrant_url\": \"localhost:6333\",\n",
      "  \"qdrant_collection_name\": \"item_desc_sbert\",\n",
      "  \"max_epochs\": 1,\n",
      "  \"batch_size\": 128,\n",
      "  \"tfm_chunk_size\": 10000,\n",
      "  \"neg_to_pos_ratio\": 1,\n",
      "  \"user_col\": \"user_id\",\n",
      "  \"item_col\": \"parent_asin\",\n",
      "  \"rating_col\": \"rating\",\n",
      "  \"timestamp_col\": \"timestamp\",\n",
      "  \"top_K\": 100,\n",
      "  \"top_k\": 10,\n",
      "  \"embedding_dim\": 128,\n",
      "  \"item_sequence_ts_bucket_size\": 10,\n",
      "  \"bucket_embedding_dim\": 16,\n",
      "  \"dropout\": 0.3,\n",
      "  \"early_stopping_patience\": 5,\n",
      "  \"learning_rate\": 0.0003,\n",
      "  \"l2_reg\": 0.0001,\n",
      "  \"mlf_item2vec_model_name\": \"item2vec\",\n",
      "  \"mlf_model_name\": \"ranker\",\n",
      "  \"min_roc_auc\": 0.7,\n",
      "  \"best_checkpoint_path\": null\n",
      "}\n"
     ]
    }
   ],
   "source": [
    "class Args(BaseModel):\n",
    "    testing: bool = False\n",
    "    author: str = \"quy.dinh\"\n",
    "    log_to_mlflow: bool = True\n",
    "    experiment_name: str = \"RecSys MVP - Ranker\"\n",
    "    run_name: str = \"038-update-compare-metrics\"\n",
    "    notebook_persist_dp: str = None\n",
    "    random_seed: int = 41\n",
    "    device: str = None\n",
    "\n",
    "    rc: RunCfg = RunCfg().init()\n",
    "\n",
    "    item_metadata_pipeline_fp: str = \"../data/item_metadata_pipeline.dill\"\n",
    "    qdrant_url: str = None\n",
    "    qdrant_collection_name: str = \"item_desc_sbert\"\n",
    "\n",
    "    max_epochs: int = max_epochs\n",
    "    batch_size: int = 128\n",
    "    tfm_chunk_size: int = 10000\n",
    "    neg_to_pos_ratio: int = 1\n",
    "\n",
    "    user_col: str = \"user_id\"\n",
    "    item_col: str = \"parent_asin\"\n",
    "    rating_col: str = \"rating\"\n",
    "    timestamp_col: str = \"timestamp\"\n",
    "\n",
    "    top_K: int = 100\n",
    "    top_k: int = 10\n",
    "\n",
    "    embedding_dim: int = 128\n",
    "    item_sequence_ts_bucket_size: int = 10\n",
    "    bucket_embedding_dim: int = 16\n",
    "    dropout: float = 0.3\n",
    "    early_stopping_patience: int = 5\n",
    "    learning_rate: float = 0.0003\n",
    "    l2_reg: float = 1e-4\n",
    "\n",
    "    mlf_item2vec_model_name: str = \"item2vec\"\n",
    "    mlf_model_name: str = \"ranker\"\n",
    "    min_roc_auc: float = 0.7\n",
    "\n",
    "    best_checkpoint_path: str = None\n",
    "\n",
    "    def init(self):\n",
    "        self.notebook_persist_dp = os.path.abspath(f\"data/{self.run_name}\")\n",
    "        os.makedirs(self.notebook_persist_dp, exist_ok=True)\n",
    "\n",
    "        if not (qdrant_host := os.getenv(\"QDRANT_HOST\")):\n",
    "            raise Exception(f\"Environment variable QDRANT_HOST is not set.\")\n",
    "\n",
    "        qdrant_port = os.getenv(\"QDRANT_PORT\")\n",
    "        self.qdrant_url = f\"{qdrant_host}:{qdrant_port}\"\n",
    "\n",
    "        if not (mlflow_uri := os.environ.get(\"MLFLOW_TRACKING_URI\")):\n",
    "            logger.warning(\n",
    "                f\"Environment variable MLFLOW_TRACKING_URI is not set. Setting self.log_to_mlflow to false.\"\n",
    "            )\n",
    "            self.log_to_mlflow = False\n",
    "\n",
    "        if self.log_to_mlflow:\n",
    "            logger.info(\n",
    "                f\"Setting up MLflow experiment {self.experiment_name} - run {self.run_name}...\"\n",
    "            )\n",
    "            self._mlf_logger = MLFlowLogger(\n",
    "                experiment_name=self.experiment_name,\n",
    "                run_name=self.run_name,\n",
    "                tracking_uri=mlflow_uri,\n",
    "                log_model=True,\n",
    "            )\n",
    "\n",
    "        if self.device is None:\n",
    "            self.device = (\n",
    "                \"cuda\"\n",
    "                if torch.cuda.is_available()\n",
    "                else \"mps\" if torch.backends.mps.is_available() else \"cpu\"\n",
    "            )\n",
    "\n",
    "        return self\n",
    "\n",
    "\n",
    "args = Args().init()\n",
    "\n",
    "print(args.model_dump_json(indent=2))"
   ]
  },
  {
   "cell_type": "markdown",
   "id": "a5acedcb-89e6-41c6-8969-bf3437fc7898",
   "metadata": {},
   "source": [
    "# Implement"
   ]
  },
  {
   "cell_type": "code",
   "execution_count": 5,
   "id": "5a34cb5b-c7db-4b95-952b-5f4cb2e1a04d",
   "metadata": {},
   "outputs": [],
   "source": [
    "def init_model(\n",
    "    n_users,\n",
    "    n_items,\n",
    "    embedding_dim,\n",
    "    item_sequence_ts_bucket_size,\n",
    "    bucket_embedding_dim,\n",
    "    item_feature_size,\n",
    "    dropout,\n",
    "    item_embedding=None,\n",
    "):\n",
    "    model = Ranker(\n",
    "        n_users,\n",
    "        n_items,\n",
    "        embedding_dim,\n",
    "        item_sequence_ts_bucket_size=item_sequence_ts_bucket_size,\n",
    "        bucket_embedding_dim=bucket_embedding_dim,\n",
    "        item_feature_size=item_feature_size,\n",
    "        dropout=dropout,\n",
    "        item_embedding=item_embedding,\n",
    "    )\n",
    "    return model"
   ]
  },
  {
   "cell_type": "markdown",
   "id": "c49b92fb-3b4c-482f-a584-62288873d8c3",
   "metadata": {},
   "source": [
    "## Load pretrained Item2Vec embeddings"
   ]
  },
  {
   "cell_type": "code",
   "execution_count": 6,
   "id": "35cfc84a-75bb-4973-b619-194cc8698ee2",
   "metadata": {
    "scrolled": true
   },
   "outputs": [
    {
     "data": {
      "application/vnd.jupyter.widget-view+json": {
       "model_id": "8231c5349c7843fb83742444c77e49c8",
       "version_major": 2,
       "version_minor": 0
      },
      "text/plain": [
       "Downloading artifacts:   0%|          | 0/8 [00:00<?, ?it/s]"
      ]
     },
     "metadata": {},
     "output_type": "display_data"
    }
   ],
   "source": [
    "mlf_client = mlflow.MlflowClient()\n",
    "model = mlflow.pyfunc.load_model(\n",
    "    model_uri=f\"models:/{args.mlf_item2vec_model_name}@champion\"\n",
    ")\n",
    "skipgram_model = model.unwrap_python_model().model\n",
    "embedding_0 = skipgram_model.embeddings(torch.tensor(0))\n",
    "embedding_dim = embedding_0.size()[0]\n",
    "id_mapping = model.unwrap_python_model().id_mapping\n",
    "pretrained_item_embedding = skipgram_model.embeddings"
   ]
  },
  {
   "cell_type": "code",
   "execution_count": 7,
   "id": "f3baa82d-859d-4414-8e19-4c7d92750fa3",
   "metadata": {},
   "outputs": [],
   "source": [
    "assert (\n",
    "    pretrained_item_embedding.embedding_dim == args.embedding_dim\n",
    "), \"Mismatch pretrained item_embedding dimension\""
   ]
  },
  {
   "cell_type": "markdown",
   "id": "a43bc0b9-9d56-4cb2-b821-61dd9b9858b1",
   "metadata": {},
   "source": [
    "## Load vectorized item features"
   ]
  },
  {
   "cell_type": "code",
   "execution_count": 8,
   "id": "8ff750e3-fa06-42b4-a5c3-9b93d3c2b536",
   "metadata": {},
   "outputs": [],
   "source": [
    "with open(args.item_metadata_pipeline_fp, \"rb\") as f:\n",
    "    item_metadata_pipeline = dill.load(f)"
   ]
  },
  {
   "cell_type": "markdown",
   "id": "58607871-619d-46a0-9f7d-405e8f500462",
   "metadata": {},
   "source": [
    "## Load ANN Index"
   ]
  },
  {
   "cell_type": "code",
   "execution_count": 9,
   "id": "6e3a82c4-247e-4402-a87b-198c698be866",
   "metadata": {},
   "outputs": [],
   "source": [
    "if args.rc.use_sbert_features:\n",
    "    ann_index = AnnIndex(args.qdrant_url, args.qdrant_collection_name)\n",
    "    vector = ann_index.get_vector_by_ids([0])[0]\n",
    "    sbert_embedding_dim = vector.shape[0]\n",
    "    logger.info(f\"{sbert_embedding_dim=}\")\n",
    "    neighbors = ann_index.get_neighbors_by_ids([0])\n",
    "    display(neighbors)"
   ]
  },
  {
   "cell_type": "markdown",
   "id": "170dec89-a874-4dce-8f94-07d978fcc5b8",
   "metadata": {},
   "source": [
    "# Prep data"
   ]
  },
  {
   "cell_type": "code",
   "execution_count": 10,
   "id": "83803362-5eaa-40bb-b28b-878316d5db5d",
   "metadata": {},
   "outputs": [],
   "source": [
    "train_df = pd.read_parquet(\"../data/train_features_neg_df.parquet\")\n",
    "val_df = pd.read_parquet(\"../data/val_features_neg_df.parquet\")\n",
    "idm_fp = \"../data/idm.json\"\n",
    "idm = IDMapper().load(idm_fp)\n",
    "\n",
    "assert (\n",
    "    train_df[args.user_col].map(lambda s: idm.get_user_index(s))\n",
    "    != train_df[\"user_indice\"]\n",
    ").sum() == 0, \"Mismatch IDM\"\n",
    "assert (\n",
    "    val_df[args.user_col].map(lambda s: idm.get_user_index(s)) != val_df[\"user_indice\"]\n",
    ").sum() == 0, \"Mismatch IDM\"\n",
    "\n",
    "if args.rc.use_item_tags_from_llm:\n",
    "    assert (\n",
    "        \"tags\" in train_df.columns\n",
    "    ), \"There is no column `tags` in train_df, please make sure you have run notebook 002, 020 with RunCfg.use_item_tags_from_llm=True\""
   ]
  },
  {
   "cell_type": "code",
   "execution_count": 11,
   "id": "a92a8ea7-928c-4656-b92c-2e137d78404a",
   "metadata": {
    "scrolled": true
   },
   "outputs": [
    {
     "data": {
      "text/html": [
       "<div>\n",
       "<style scoped>\n",
       "    .dataframe tbody tr th:only-of-type {\n",
       "        vertical-align: middle;\n",
       "    }\n",
       "\n",
       "    .dataframe tbody tr th {\n",
       "        vertical-align: top;\n",
       "    }\n",
       "\n",
       "    .dataframe thead th {\n",
       "        text-align: right;\n",
       "    }\n",
       "</style>\n",
       "<table border=\"1\" class=\"dataframe\">\n",
       "  <thead>\n",
       "    <tr style=\"text-align: right;\">\n",
       "      <th></th>\n",
       "      <th>user_id</th>\n",
       "      <th>parent_asin</th>\n",
       "      <th>rating</th>\n",
       "      <th>timestamp</th>\n",
       "      <th>timestamp_unix</th>\n",
       "      <th>parent_asin_rating_cnt_365d</th>\n",
       "      <th>parent_asin_rating_avg_prev_rating_365d</th>\n",
       "      <th>parent_asin_rating_cnt_90d</th>\n",
       "      <th>parent_asin_rating_avg_prev_rating_90d</th>\n",
       "      <th>parent_asin_rating_cnt_30d</th>\n",
       "      <th>...</th>\n",
       "      <th>user_rating_list_10_recent_asin_timestamp</th>\n",
       "      <th>item_sequence</th>\n",
       "      <th>item_sequence_ts</th>\n",
       "      <th>item_sequence_ts_bucket</th>\n",
       "      <th>tags</th>\n",
       "      <th>main_category</th>\n",
       "      <th>title</th>\n",
       "      <th>description</th>\n",
       "      <th>categories</th>\n",
       "      <th>price</th>\n",
       "    </tr>\n",
       "  </thead>\n",
       "  <tbody>\n",
       "    <tr>\n",
       "      <th>0</th>\n",
       "      <td>AG57LGJFCNNQJ6P6ABQAVUKXDUDA</td>\n",
       "      <td>B0015AARJI</td>\n",
       "      <td>0.0</td>\n",
       "      <td>2016-01-12 11:59:11.000</td>\n",
       "      <td>NaN</td>\n",
       "      <td>76.0</td>\n",
       "      <td>4.592105</td>\n",
       "      <td>10.0</td>\n",
       "      <td>4.3</td>\n",
       "      <td>3.0</td>\n",
       "      <td>...</td>\n",
       "      <td>1452599936</td>\n",
       "      <td>[-1.0, -1.0, -1.0, -1.0, -1.0, -1.0, -1.0, -1....</td>\n",
       "      <td>[-1, -1, -1, -1, -1, -1, -1, -1, -1, 1452599936]</td>\n",
       "      <td>[-1, -1, -1, -1, -1, -1, -1, -1, -1, 0]</td>\n",
       "      <td>[Controller, Wireless, Gamepad, Ergonomic, Pla...</td>\n",
       "      <td>Video Games</td>\n",
       "      <td>PlayStation 3 Dualshock 3 Wireless Controller ...</td>\n",
       "      <td>[Amazon.com, The Dualshock 3 wireless controll...</td>\n",
       "      <td>[Video Games, Legacy Systems, PlayStation Syst...</td>\n",
       "      <td>49.99</td>\n",
       "    </tr>\n",
       "    <tr>\n",
       "      <th>1</th>\n",
       "      <td>AHWG4EGOV5ZDKPETL56MAYGPLJRQ</td>\n",
       "      <td>B0BMGHMP23</td>\n",
       "      <td>0.0</td>\n",
       "      <td>2016-04-18 19:26:20.000</td>\n",
       "      <td>NaN</td>\n",
       "      <td>NaN</td>\n",
       "      <td>NaN</td>\n",
       "      <td>NaN</td>\n",
       "      <td>NaN</td>\n",
       "      <td>NaN</td>\n",
       "      <td>...</td>\n",
       "      <td>1449254540,1449256005,1449257733,1452715791,14...</td>\n",
       "      <td>[3028.0, 2742.0, 2755.0, 3159.0, 3101.0, 3036....</td>\n",
       "      <td>[1449254540, 1449256005, 1449257733, 145271579...</td>\n",
       "      <td>[5, 5, 5, 5, 5, 5, 5, 5, 5, 5]</td>\n",
       "      <td>[Wireless Mouse, Gaming Precision, High DPI, C...</td>\n",
       "      <td>Computers</td>\n",
       "      <td>Logitech G502 Lightspeed Wireless Gaming Mouse...</td>\n",
       "      <td>[G502 is the best gaming mouse from Logitech G...</td>\n",
       "      <td>[Video Games, PC, Accessories, Gaming Mice]</td>\n",
       "      <td>87.95</td>\n",
       "    </tr>\n",
       "    <tr>\n",
       "      <th>2</th>\n",
       "      <td>AH5PTZ2U74OZ3HT6QVUWM4CV6OVQ</td>\n",
       "      <td>B009AP23NI</td>\n",
       "      <td>0.0</td>\n",
       "      <td>2016-02-10 18:45:08.000</td>\n",
       "      <td>NaN</td>\n",
       "      <td>9.0</td>\n",
       "      <td>4.666667</td>\n",
       "      <td>0.0</td>\n",
       "      <td>NaN</td>\n",
       "      <td>0.0</td>\n",
       "      <td>...</td>\n",
       "      <td>1443454097,1455129080,1455129186,1455129499,14...</td>\n",
       "      <td>[-1.0, -1.0, 3234.0, 2508.0, 2318.0, 2964.0, 1...</td>\n",
       "      <td>[-1, -1, 1443454097, 1455129080, 1455129186, 1...</td>\n",
       "      <td>[-1, -1, 5, 1, 1, 0, 0, 0, 0, 0]</td>\n",
       "      <td>[Controller, Wii U, Japanese Version, Gaming A...</td>\n",
       "      <td>Video Games</td>\n",
       "      <td>Nintendo Wii U Pro U Controller (Japanese Vers...</td>\n",
       "      <td>[Wii U PRO controller (black) (WUP-A-RSKA)]</td>\n",
       "      <td>[Video Games, Legacy Systems, Nintendo Systems...</td>\n",
       "      <td>43.99</td>\n",
       "    </tr>\n",
       "    <tr>\n",
       "      <th>3</th>\n",
       "      <td>AFC5XTCF5D7J3NSDITB2Z26XWWYA</td>\n",
       "      <td>B001E8WQUY</td>\n",
       "      <td>5.0</td>\n",
       "      <td>2019-05-01 21:22:39.265</td>\n",
       "      <td>1.556746e+09</td>\n",
       "      <td>0.0</td>\n",
       "      <td>NaN</td>\n",
       "      <td>0.0</td>\n",
       "      <td>NaN</td>\n",
       "      <td>0.0</td>\n",
       "      <td>...</td>\n",
       "      <td>1327120514,1377289907,1402605836,1402606396,14...</td>\n",
       "      <td>[1987.0, 4569.0, 2114.0, 1606.0, 2159.0, 2279....</td>\n",
       "      <td>[1327120514, 1377289907, 1402605836, 140260639...</td>\n",
       "      <td>[8, 8, 7, 7, 7, 7, 7, 7, 6, 6]</td>\n",
       "      <td>[Music Rhythm, Band Simulation, Multiplayer, N...</td>\n",
       "      <td>Video Games</td>\n",
       "      <td>Rock Band 2 - Nintendo Wii (Game only)</td>\n",
       "      <td>[Product description, Rock Band 2 lets you and...</td>\n",
       "      <td>[Video Games, Legacy Systems, Nintendo Systems...</td>\n",
       "      <td>28.49</td>\n",
       "    </tr>\n",
       "    <tr>\n",
       "      <th>4</th>\n",
       "      <td>AF7LJQOIWF3Y3YD7SGOJ34MA5JPA</td>\n",
       "      <td>B001E8WQKY</td>\n",
       "      <td>5.0</td>\n",
       "      <td>2015-01-09 12:53:25.000</td>\n",
       "      <td>1.420808e+09</td>\n",
       "      <td>16.0</td>\n",
       "      <td>4.375000</td>\n",
       "      <td>8.0</td>\n",
       "      <td>4.5</td>\n",
       "      <td>4.0</td>\n",
       "      <td>...</td>\n",
       "      <td>1420807793,1420807991</td>\n",
       "      <td>[-1.0, -1.0, -1.0, -1.0, -1.0, -1.0, -1.0, -1....</td>\n",
       "      <td>[-1, -1, -1, -1, -1, -1, -1, -1, 1420807793, 1...</td>\n",
       "      <td>[-1, -1, -1, -1, -1, -1, -1, -1, 0, 0]</td>\n",
       "      <td>[Survival Horror, Action, Co-op, Zombies, Thir...</td>\n",
       "      <td>Video Games</td>\n",
       "      <td>Resident Evil 5 - Xbox 360</td>\n",
       "      <td>[]</td>\n",
       "      <td>[Video Games, Legacy Systems, Xbox Systems, Xb...</td>\n",
       "      <td>29.88</td>\n",
       "    </tr>\n",
       "    <tr>\n",
       "      <th>...</th>\n",
       "      <td>...</td>\n",
       "      <td>...</td>\n",
       "      <td>...</td>\n",
       "      <td>...</td>\n",
       "      <td>...</td>\n",
       "      <td>...</td>\n",
       "      <td>...</td>\n",
       "      <td>...</td>\n",
       "      <td>...</td>\n",
       "      <td>...</td>\n",
       "      <td>...</td>\n",
       "      <td>...</td>\n",
       "      <td>...</td>\n",
       "      <td>...</td>\n",
       "      <td>...</td>\n",
       "      <td>...</td>\n",
       "      <td>...</td>\n",
       "      <td>...</td>\n",
       "      <td>...</td>\n",
       "      <td>...</td>\n",
       "      <td>...</td>\n",
       "    </tr>\n",
       "    <tr>\n",
       "      <th>328591</th>\n",
       "      <td>AG4RATLNVLOKZCPXN67HKOAK65CA</td>\n",
       "      <td>B078FBVJMB</td>\n",
       "      <td>0.0</td>\n",
       "      <td>2015-10-31 18:25:09.000</td>\n",
       "      <td>NaN</td>\n",
       "      <td>NaN</td>\n",
       "      <td>NaN</td>\n",
       "      <td>NaN</td>\n",
       "      <td>NaN</td>\n",
       "      <td>NaN</td>\n",
       "      <td>...</td>\n",
       "      <td>1425233294</td>\n",
       "      <td>[-1.0, -1.0, -1.0, -1.0, -1.0, -1.0, -1.0, -1....</td>\n",
       "      <td>[-1, -1, -1, -1, -1, -1, -1, -1, -1, 1425233294]</td>\n",
       "      <td>[-1, -1, -1, -1, -1, -1, -1, -1, -1, 5]</td>\n",
       "      <td>[Co-Op, Action-Adventure, Narrative, Online Mu...</td>\n",
       "      <td>Video Games</td>\n",
       "      <td>A Way Out – PC Origin [Online Game Code]</td>\n",
       "      <td>[From the creators of Brothers - A Tale of Two...</td>\n",
       "      <td>[Video Games, PC, Games]</td>\n",
       "      <td>5.99</td>\n",
       "    </tr>\n",
       "    <tr>\n",
       "      <th>328592</th>\n",
       "      <td>AFBXO3BFWBJX6QS5NW73O37IXF2A</td>\n",
       "      <td>B0771ZXXV6</td>\n",
       "      <td>0.0</td>\n",
       "      <td>2011-03-08 02:06:38.000</td>\n",
       "      <td>NaN</td>\n",
       "      <td>NaN</td>\n",
       "      <td>NaN</td>\n",
       "      <td>NaN</td>\n",
       "      <td>NaN</td>\n",
       "      <td>NaN</td>\n",
       "      <td>...</td>\n",
       "      <td>1299549517,1299549928</td>\n",
       "      <td>[-1.0, -1.0, -1.0, -1.0, -1.0, -1.0, -1.0, -1....</td>\n",
       "      <td>[-1, -1, -1, -1, -1, -1, -1, -1, 1299549517, 1...</td>\n",
       "      <td>[-1, -1, -1, -1, -1, -1, -1, -1, 0, 0]</td>\n",
       "      <td>[Controller, Joy-Con, Nintendo Accessory, Wire...</td>\n",
       "      <td>Video Games</td>\n",
       "      <td>Nintendo Joy-Con (R) - Neon Red - Nintendo Switch</td>\n",
       "      <td>[To be determined]</td>\n",
       "      <td>[Video Games, Nintendo Switch, Accessories, Co...</td>\n",
       "      <td>None</td>\n",
       "    </tr>\n",
       "    <tr>\n",
       "      <th>328593</th>\n",
       "      <td>AHVANA5GZNJ45UABPXWZNAF4ECBQ</td>\n",
       "      <td>B00BBF6MO6</td>\n",
       "      <td>0.0</td>\n",
       "      <td>2015-02-15 05:31:04.000</td>\n",
       "      <td>NaN</td>\n",
       "      <td>3.0</td>\n",
       "      <td>4.666667</td>\n",
       "      <td>0.0</td>\n",
       "      <td>NaN</td>\n",
       "      <td>0.0</td>\n",
       "      <td>...</td>\n",
       "      <td>1370414332,1370414707,1370416530</td>\n",
       "      <td>[-1.0, -1.0, -1.0, -1.0, -1.0, -1.0, -1.0, 137...</td>\n",
       "      <td>[-1, -1, -1, -1, -1, -1, -1, 1370414332, 13704...</td>\n",
       "      <td>[-1, -1, -1, -1, -1, -1, -1, 6, 6, 6]</td>\n",
       "      <td>[Action, Hack and Slash, Stylish Gameplay, Sto...</td>\n",
       "      <td>Video Games</td>\n",
       "      <td>Killer is Dead - Xbox 360</td>\n",
       "      <td>[Killer Is Dead is the latest title from the d...</td>\n",
       "      <td>[Video Games, Legacy Systems, Xbox Systems, Xb...</td>\n",
       "      <td>39.82</td>\n",
       "    </tr>\n",
       "    <tr>\n",
       "      <th>328594</th>\n",
       "      <td>AHAVA5VKMJ3OMOLGDZ3W45CKXEWA</td>\n",
       "      <td>B00KTORA0K</td>\n",
       "      <td>5.0</td>\n",
       "      <td>2019-05-25 04:03:51.505</td>\n",
       "      <td>1.558757e+09</td>\n",
       "      <td>3.0</td>\n",
       "      <td>4.666667</td>\n",
       "      <td>1.0</td>\n",
       "      <td>5.0</td>\n",
       "      <td>1.0</td>\n",
       "      <td>...</td>\n",
       "      <td>1431150669,1431150834,1432041664,1432041986,15...</td>\n",
       "      <td>[-1.0, -1.0, -1.0, 1657.0, 2074.0, 593.0, 583....</td>\n",
       "      <td>[-1, -1, -1, 1431150669, 1431150834, 143204166...</td>\n",
       "      <td>[-1, -1, -1, 7, 7, 7, 7, 5, 5, 0]</td>\n",
       "      <td>[Dance Game, Family-friendly, Party Game, Fitn...</td>\n",
       "      <td>Video Games</td>\n",
       "      <td>Just Dance 2015 - Wii</td>\n",
       "      <td>[With more than 50 million copies of Just Danc...</td>\n",
       "      <td>[Video Games, Legacy Systems, Nintendo Systems...</td>\n",
       "      <td>33.0</td>\n",
       "    </tr>\n",
       "    <tr>\n",
       "      <th>328595</th>\n",
       "      <td>AHAOAIYS3GTCFSVCHOHANFHEVJGA</td>\n",
       "      <td>B07GMV1X1K</td>\n",
       "      <td>0.0</td>\n",
       "      <td>2019-06-27 16:46:01.725</td>\n",
       "      <td>NaN</td>\n",
       "      <td>8.0</td>\n",
       "      <td>4.750000</td>\n",
       "      <td>2.0</td>\n",
       "      <td>4.5</td>\n",
       "      <td>1.0</td>\n",
       "      <td>...</td>\n",
       "      <td>1487438369,1488931311,1490136709,1493063905,15...</td>\n",
       "      <td>[3093.0, 3574.0, 3373.0, 3372.0, 3576.0, 3621....</td>\n",
       "      <td>[1487438369, 1488931311, 1490136709, 149306390...</td>\n",
       "      <td>[6, 6, 6, 6, 6, 6, 6, 5, 5, 5]</td>\n",
       "      <td>[Retro Gaming, Emulation, Mini Console, Commod...</td>\n",
       "      <td>Video Games</td>\n",
       "      <td>retrogames The C64 Mini USA Version - Not Mach...</td>\n",
       "      <td>[It's 1982 and a new home computer graces the ...</td>\n",
       "      <td>[Video Games, Legacy Systems, Commodore System...</td>\n",
       "      <td>44.99</td>\n",
       "    </tr>\n",
       "  </tbody>\n",
       "</table>\n",
       "<p>328596 rows × 28 columns</p>\n",
       "</div>"
      ],
      "text/plain": [
       "                             user_id parent_asin  rating  \\\n",
       "0       AG57LGJFCNNQJ6P6ABQAVUKXDUDA  B0015AARJI     0.0   \n",
       "1       AHWG4EGOV5ZDKPETL56MAYGPLJRQ  B0BMGHMP23     0.0   \n",
       "2       AH5PTZ2U74OZ3HT6QVUWM4CV6OVQ  B009AP23NI     0.0   \n",
       "3       AFC5XTCF5D7J3NSDITB2Z26XWWYA  B001E8WQUY     5.0   \n",
       "4       AF7LJQOIWF3Y3YD7SGOJ34MA5JPA  B001E8WQKY     5.0   \n",
       "...                              ...         ...     ...   \n",
       "328591  AG4RATLNVLOKZCPXN67HKOAK65CA  B078FBVJMB     0.0   \n",
       "328592  AFBXO3BFWBJX6QS5NW73O37IXF2A  B0771ZXXV6     0.0   \n",
       "328593  AHVANA5GZNJ45UABPXWZNAF4ECBQ  B00BBF6MO6     0.0   \n",
       "328594  AHAVA5VKMJ3OMOLGDZ3W45CKXEWA  B00KTORA0K     5.0   \n",
       "328595  AHAOAIYS3GTCFSVCHOHANFHEVJGA  B07GMV1X1K     0.0   \n",
       "\n",
       "                     timestamp  timestamp_unix  parent_asin_rating_cnt_365d  \\\n",
       "0      2016-01-12 11:59:11.000             NaN                         76.0   \n",
       "1      2016-04-18 19:26:20.000             NaN                          NaN   \n",
       "2      2016-02-10 18:45:08.000             NaN                          9.0   \n",
       "3      2019-05-01 21:22:39.265    1.556746e+09                          0.0   \n",
       "4      2015-01-09 12:53:25.000    1.420808e+09                         16.0   \n",
       "...                        ...             ...                          ...   \n",
       "328591 2015-10-31 18:25:09.000             NaN                          NaN   \n",
       "328592 2011-03-08 02:06:38.000             NaN                          NaN   \n",
       "328593 2015-02-15 05:31:04.000             NaN                          3.0   \n",
       "328594 2019-05-25 04:03:51.505    1.558757e+09                          3.0   \n",
       "328595 2019-06-27 16:46:01.725             NaN                          8.0   \n",
       "\n",
       "        parent_asin_rating_avg_prev_rating_365d  parent_asin_rating_cnt_90d  \\\n",
       "0                                      4.592105                        10.0   \n",
       "1                                           NaN                         NaN   \n",
       "2                                      4.666667                         0.0   \n",
       "3                                           NaN                         0.0   \n",
       "4                                      4.375000                         8.0   \n",
       "...                                         ...                         ...   \n",
       "328591                                      NaN                         NaN   \n",
       "328592                                      NaN                         NaN   \n",
       "328593                                 4.666667                         0.0   \n",
       "328594                                 4.666667                         1.0   \n",
       "328595                                 4.750000                         2.0   \n",
       "\n",
       "        parent_asin_rating_avg_prev_rating_90d  parent_asin_rating_cnt_30d  \\\n",
       "0                                          4.3                         3.0   \n",
       "1                                          NaN                         NaN   \n",
       "2                                          NaN                         0.0   \n",
       "3                                          NaN                         0.0   \n",
       "4                                          4.5                         4.0   \n",
       "...                                        ...                         ...   \n",
       "328591                                     NaN                         NaN   \n",
       "328592                                     NaN                         NaN   \n",
       "328593                                     NaN                         0.0   \n",
       "328594                                     5.0                         1.0   \n",
       "328595                                     4.5                         1.0   \n",
       "\n",
       "        ...          user_rating_list_10_recent_asin_timestamp  \\\n",
       "0       ...                                         1452599936   \n",
       "1       ...  1449254540,1449256005,1449257733,1452715791,14...   \n",
       "2       ...  1443454097,1455129080,1455129186,1455129499,14...   \n",
       "3       ...  1327120514,1377289907,1402605836,1402606396,14...   \n",
       "4       ...                              1420807793,1420807991   \n",
       "...     ...                                                ...   \n",
       "328591  ...                                         1425233294   \n",
       "328592  ...                              1299549517,1299549928   \n",
       "328593  ...                   1370414332,1370414707,1370416530   \n",
       "328594  ...  1431150669,1431150834,1432041664,1432041986,15...   \n",
       "328595  ...  1487438369,1488931311,1490136709,1493063905,15...   \n",
       "\n",
       "                                            item_sequence  \\\n",
       "0       [-1.0, -1.0, -1.0, -1.0, -1.0, -1.0, -1.0, -1....   \n",
       "1       [3028.0, 2742.0, 2755.0, 3159.0, 3101.0, 3036....   \n",
       "2       [-1.0, -1.0, 3234.0, 2508.0, 2318.0, 2964.0, 1...   \n",
       "3       [1987.0, 4569.0, 2114.0, 1606.0, 2159.0, 2279....   \n",
       "4       [-1.0, -1.0, -1.0, -1.0, -1.0, -1.0, -1.0, -1....   \n",
       "...                                                   ...   \n",
       "328591  [-1.0, -1.0, -1.0, -1.0, -1.0, -1.0, -1.0, -1....   \n",
       "328592  [-1.0, -1.0, -1.0, -1.0, -1.0, -1.0, -1.0, -1....   \n",
       "328593  [-1.0, -1.0, -1.0, -1.0, -1.0, -1.0, -1.0, 137...   \n",
       "328594  [-1.0, -1.0, -1.0, 1657.0, 2074.0, 593.0, 583....   \n",
       "328595  [3093.0, 3574.0, 3373.0, 3372.0, 3576.0, 3621....   \n",
       "\n",
       "                                         item_sequence_ts  \\\n",
       "0        [-1, -1, -1, -1, -1, -1, -1, -1, -1, 1452599936]   \n",
       "1       [1449254540, 1449256005, 1449257733, 145271579...   \n",
       "2       [-1, -1, 1443454097, 1455129080, 1455129186, 1...   \n",
       "3       [1327120514, 1377289907, 1402605836, 140260639...   \n",
       "4       [-1, -1, -1, -1, -1, -1, -1, -1, 1420807793, 1...   \n",
       "...                                                   ...   \n",
       "328591   [-1, -1, -1, -1, -1, -1, -1, -1, -1, 1425233294]   \n",
       "328592  [-1, -1, -1, -1, -1, -1, -1, -1, 1299549517, 1...   \n",
       "328593  [-1, -1, -1, -1, -1, -1, -1, 1370414332, 13704...   \n",
       "328594  [-1, -1, -1, 1431150669, 1431150834, 143204166...   \n",
       "328595  [1487438369, 1488931311, 1490136709, 149306390...   \n",
       "\n",
       "                        item_sequence_ts_bucket  \\\n",
       "0       [-1, -1, -1, -1, -1, -1, -1, -1, -1, 0]   \n",
       "1                [5, 5, 5, 5, 5, 5, 5, 5, 5, 5]   \n",
       "2              [-1, -1, 5, 1, 1, 0, 0, 0, 0, 0]   \n",
       "3                [8, 8, 7, 7, 7, 7, 7, 7, 6, 6]   \n",
       "4        [-1, -1, -1, -1, -1, -1, -1, -1, 0, 0]   \n",
       "...                                         ...   \n",
       "328591  [-1, -1, -1, -1, -1, -1, -1, -1, -1, 5]   \n",
       "328592   [-1, -1, -1, -1, -1, -1, -1, -1, 0, 0]   \n",
       "328593    [-1, -1, -1, -1, -1, -1, -1, 6, 6, 6]   \n",
       "328594        [-1, -1, -1, 7, 7, 7, 7, 5, 5, 0]   \n",
       "328595           [6, 6, 6, 6, 6, 6, 6, 5, 5, 5]   \n",
       "\n",
       "                                                     tags  main_category  \\\n",
       "0       [Controller, Wireless, Gamepad, Ergonomic, Pla...    Video Games   \n",
       "1       [Wireless Mouse, Gaming Precision, High DPI, C...      Computers   \n",
       "2       [Controller, Wii U, Japanese Version, Gaming A...    Video Games   \n",
       "3       [Music Rhythm, Band Simulation, Multiplayer, N...    Video Games   \n",
       "4       [Survival Horror, Action, Co-op, Zombies, Thir...    Video Games   \n",
       "...                                                   ...            ...   \n",
       "328591  [Co-Op, Action-Adventure, Narrative, Online Mu...    Video Games   \n",
       "328592  [Controller, Joy-Con, Nintendo Accessory, Wire...    Video Games   \n",
       "328593  [Action, Hack and Slash, Stylish Gameplay, Sto...    Video Games   \n",
       "328594  [Dance Game, Family-friendly, Party Game, Fitn...    Video Games   \n",
       "328595  [Retro Gaming, Emulation, Mini Console, Commod...    Video Games   \n",
       "\n",
       "                                                    title  \\\n",
       "0       PlayStation 3 Dualshock 3 Wireless Controller ...   \n",
       "1       Logitech G502 Lightspeed Wireless Gaming Mouse...   \n",
       "2       Nintendo Wii U Pro U Controller (Japanese Vers...   \n",
       "3                  Rock Band 2 - Nintendo Wii (Game only)   \n",
       "4                              Resident Evil 5 - Xbox 360   \n",
       "...                                                   ...   \n",
       "328591           A Way Out – PC Origin [Online Game Code]   \n",
       "328592  Nintendo Joy-Con (R) - Neon Red - Nintendo Switch   \n",
       "328593                          Killer is Dead - Xbox 360   \n",
       "328594                              Just Dance 2015 - Wii   \n",
       "328595  retrogames The C64 Mini USA Version - Not Mach...   \n",
       "\n",
       "                                              description  \\\n",
       "0       [Amazon.com, The Dualshock 3 wireless controll...   \n",
       "1       [G502 is the best gaming mouse from Logitech G...   \n",
       "2             [Wii U PRO controller (black) (WUP-A-RSKA)]   \n",
       "3       [Product description, Rock Band 2 lets you and...   \n",
       "4                                                      []   \n",
       "...                                                   ...   \n",
       "328591  [From the creators of Brothers - A Tale of Two...   \n",
       "328592                                 [To be determined]   \n",
       "328593  [Killer Is Dead is the latest title from the d...   \n",
       "328594  [With more than 50 million copies of Just Danc...   \n",
       "328595  [It's 1982 and a new home computer graces the ...   \n",
       "\n",
       "                                               categories  price  \n",
       "0       [Video Games, Legacy Systems, PlayStation Syst...  49.99  \n",
       "1             [Video Games, PC, Accessories, Gaming Mice]  87.95  \n",
       "2       [Video Games, Legacy Systems, Nintendo Systems...  43.99  \n",
       "3       [Video Games, Legacy Systems, Nintendo Systems...  28.49  \n",
       "4       [Video Games, Legacy Systems, Xbox Systems, Xb...  29.88  \n",
       "...                                                   ...    ...  \n",
       "328591                           [Video Games, PC, Games]   5.99  \n",
       "328592  [Video Games, Nintendo Switch, Accessories, Co...   None  \n",
       "328593  [Video Games, Legacy Systems, Xbox Systems, Xb...  39.82  \n",
       "328594  [Video Games, Legacy Systems, Nintendo Systems...   33.0  \n",
       "328595  [Video Games, Legacy Systems, Commodore System...  44.99  \n",
       "\n",
       "[328596 rows x 28 columns]"
      ]
     },
     "execution_count": 11,
     "metadata": {},
     "output_type": "execute_result"
    }
   ],
   "source": [
    "train_df"
   ]
  },
  {
   "cell_type": "code",
   "execution_count": 12,
   "id": "bd469969-aaa6-4763-a0fc-d432961cf4dc",
   "metadata": {
    "scrolled": true
   },
   "outputs": [
    {
     "data": {
      "application/vnd.jupyter.widget-view+json": {
       "model_id": "47c414d524f14629963658e7e6017ff0",
       "version_major": 2,
       "version_minor": 0
      },
      "text/plain": [
       "Transforming chunks:   0%|          | 0/33 [00:00<?, ?it/s]"
      ]
     },
     "metadata": {},
     "output_type": "display_data"
    },
    {
     "data": {
      "application/vnd.jupyter.widget-view+json": {
       "model_id": "5617a816db6e404e9b5c014d2666ae60",
       "version_major": 2,
       "version_minor": 0
      },
      "text/plain": [
       "Transforming chunks:   0%|          | 0/1 [00:00<?, ?it/s]"
      ]
     },
     "metadata": {},
     "output_type": "display_data"
    },
    {
     "name": "stderr",
     "output_type": "stream",
     "text": [
      "\u001b[32m2024-11-16 16:58:00.283\u001b[0m | \u001b[1mINFO    \u001b[0m | \u001b[36m__main__\u001b[0m:\u001b[36m<module>\u001b[0m:\u001b[36m24\u001b[0m - \u001b[1mlen(user_indices)=19,578, len(item_indices)=4,630\u001b[0m\n"
     ]
    }
   ],
   "source": [
    "user_indices = train_df[\"user_indice\"].unique()\n",
    "item_indices = train_df[\"item_indice\"].unique()\n",
    "if args.rc.use_sbert_features:\n",
    "    all_sbert_vectors = ann_index.get_vector_by_ids(\n",
    "        item_indices.tolist(), chunk_size=1000\n",
    "    ).astype(np.float32)\n",
    "\n",
    "train_item_features = chunk_transform(\n",
    "    train_df, item_metadata_pipeline, chunk_size=args.tfm_chunk_size\n",
    ")\n",
    "train_item_features = train_item_features.astype(np.float32)\n",
    "\n",
    "val_item_features = chunk_transform(\n",
    "    val_df, item_metadata_pipeline, chunk_size=args.tfm_chunk_size\n",
    ")\n",
    "val_item_features = val_item_features.astype(np.float32)\n",
    "\n",
    "if args.rc.use_sbert_features:\n",
    "    train_sbert_vectors = all_sbert_vectors[train_df[\"item_indice\"].values]\n",
    "    train_item_features = np.hstack([train_item_features, train_sbert_vectors])\n",
    "    val_sbert_vectors = all_sbert_vectors[val_df[\"item_indice\"].values]\n",
    "    val_item_features = np.hstack([val_item_features, val_sbert_vectors])\n",
    "\n",
    "logger.info(f\"{len(user_indices)=:,.0f}, {len(item_indices)=:,.0f}\")"
   ]
  },
  {
   "cell_type": "markdown",
   "id": "5260fbe7-2f90-44a1-be74-ce5db9b511ee",
   "metadata": {},
   "source": [
    "# Train"
   ]
  },
  {
   "cell_type": "code",
   "execution_count": 13,
   "id": "240a04ed-8898-443f-b0f4-7399bfa63810",
   "metadata": {},
   "outputs": [],
   "source": [
    "rating_dataset = UserItemBinaryDFDataset(\n",
    "    train_df,\n",
    "    \"user_indice\",\n",
    "    \"item_indice\",\n",
    "    args.rating_col,\n",
    "    args.timestamp_col,\n",
    "    item_feature=train_item_features,\n",
    ")\n",
    "val_rating_dataset = UserItemBinaryDFDataset(\n",
    "    val_df,\n",
    "    \"user_indice\",\n",
    "    \"item_indice\",\n",
    "    args.rating_col,\n",
    "    args.timestamp_col,\n",
    "    item_feature=val_item_features,\n",
    ")\n",
    "\n",
    "train_loader = DataLoader(\n",
    "    rating_dataset, batch_size=args.batch_size, shuffle=True, drop_last=True\n",
    ")\n",
    "val_loader = DataLoader(\n",
    "    val_rating_dataset, batch_size=args.batch_size, shuffle=False, drop_last=False\n",
    ")"
   ]
  },
  {
   "cell_type": "code",
   "execution_count": 14,
   "id": "22dcf157-425f-4d15-9b53-e1ff93887def",
   "metadata": {
    "scrolled": true
   },
   "outputs": [
    {
     "data": {
      "text/plain": [
       "Ranker(\n",
       "  (item_embedding): Embedding(4631, 128, padding_idx=4630)\n",
       "  (user_embedding): Embedding(19578, 128)\n",
       "  (item_sequence_ts_bucket_embedding): Embedding(11, 16, padding_idx=10)\n",
       "  (gru): GRU(144, 128, batch_first=True)\n",
       "  (relu): ReLU()\n",
       "  (dropout): Dropout(p=0.3, inplace=False)\n",
       "  (item_feature_tower): Sequential(\n",
       "    (0): Linear(in_features=461, out_features=128, bias=True)\n",
       "    (1): BatchNorm1d(128, eps=1e-05, momentum=0.1, affine=True, track_running_stats=True)\n",
       "    (2): ReLU()\n",
       "    (3): Dropout(p=0.3, inplace=False)\n",
       "  )\n",
       "  (fc_rating): Sequential(\n",
       "    (0): Linear(in_features=512, out_features=128, bias=True)\n",
       "    (1): BatchNorm1d(128, eps=1e-05, momentum=0.1, affine=True, track_running_stats=True)\n",
       "    (2): ReLU()\n",
       "    (3): Dropout(p=0.3, inplace=False)\n",
       "    (4): Linear(in_features=128, out_features=1, bias=True)\n",
       "    (5): Sigmoid()\n",
       "  )\n",
       ")"
      ]
     },
     "execution_count": 14,
     "metadata": {},
     "output_type": "execute_result"
    }
   ],
   "source": [
    "n_items = len(item_indices)\n",
    "n_users = len(user_indices)\n",
    "item_feature_size = train_item_features.shape[1]\n",
    "\n",
    "model = init_model(\n",
    "    n_users,\n",
    "    n_items,\n",
    "    args.embedding_dim,\n",
    "    args.item_sequence_ts_bucket_size,\n",
    "    args.bucket_embedding_dim,\n",
    "    item_feature_size,\n",
    "    args.dropout,\n",
    ")\n",
    "model"
   ]
  },
  {
   "cell_type": "markdown",
   "id": "b8cbb2a8-a578-4ad2-941e-efd01d930336",
   "metadata": {},
   "source": [
    "#### Predict before train"
   ]
  },
  {
   "cell_type": "code",
   "execution_count": 15,
   "id": "0112de1e-1dce-4982-9663-a1df91fd0001",
   "metadata": {
    "scrolled": true
   },
   "outputs": [
    {
     "data": {
      "text/html": [
       "<div>\n",
       "<style scoped>\n",
       "    .dataframe tbody tr th:only-of-type {\n",
       "        vertical-align: middle;\n",
       "    }\n",
       "\n",
       "    .dataframe tbody tr th {\n",
       "        vertical-align: top;\n",
       "    }\n",
       "\n",
       "    .dataframe thead th {\n",
       "        text-align: right;\n",
       "    }\n",
       "</style>\n",
       "<table border=\"1\" class=\"dataframe\">\n",
       "  <thead>\n",
       "    <tr style=\"text-align: right;\">\n",
       "      <th></th>\n",
       "      <th>user_id</th>\n",
       "      <th>parent_asin</th>\n",
       "      <th>rating</th>\n",
       "      <th>timestamp</th>\n",
       "      <th>timestamp_unix</th>\n",
       "      <th>parent_asin_rating_cnt_365d</th>\n",
       "      <th>parent_asin_rating_avg_prev_rating_365d</th>\n",
       "      <th>parent_asin_rating_cnt_90d</th>\n",
       "      <th>parent_asin_rating_avg_prev_rating_90d</th>\n",
       "      <th>parent_asin_rating_cnt_30d</th>\n",
       "      <th>...</th>\n",
       "      <th>user_rating_list_10_recent_asin_timestamp</th>\n",
       "      <th>item_sequence</th>\n",
       "      <th>item_sequence_ts</th>\n",
       "      <th>item_sequence_ts_bucket</th>\n",
       "      <th>tags</th>\n",
       "      <th>main_category</th>\n",
       "      <th>title</th>\n",
       "      <th>description</th>\n",
       "      <th>categories</th>\n",
       "      <th>price</th>\n",
       "    </tr>\n",
       "  </thead>\n",
       "  <tbody>\n",
       "    <tr>\n",
       "      <th>97</th>\n",
       "      <td>AFILCGTMVK5NH4PK75F23LHWH67Q</td>\n",
       "      <td>B079FPFV3X</td>\n",
       "      <td>1.0</td>\n",
       "      <td>2022-03-08 19:15:59.095</td>\n",
       "      <td>1.646767e+09</td>\n",
       "      <td>6.0</td>\n",
       "      <td>4.166667</td>\n",
       "      <td>0.0</td>\n",
       "      <td>NaN</td>\n",
       "      <td>0.0</td>\n",
       "      <td>...</td>\n",
       "      <td>1458314491,1458314828,1493443918,1494549215,14...</td>\n",
       "      <td>[-1, -1, -1, -1, -1, 1665, 589, 628, 3257, 98]</td>\n",
       "      <td>[-1, -1, -1, -1, -1, 1458314491, 1458314828, 1...</td>\n",
       "      <td>[-1, -1, -1, -1, -1, 8, 8, 7, 7, 7]</td>\n",
       "      <td>[Cooling Stand, Controller Charger, Vertical S...</td>\n",
       "      <td>All Electronics</td>\n",
       "      <td>OIVO PS4 Stand Cooling Fan Station for Playsta...</td>\n",
       "      <td>[]</td>\n",
       "      <td>[Video Games, PlayStation 4, Accessories, Cool...</td>\n",
       "      <td>29.99</td>\n",
       "    </tr>\n",
       "    <tr>\n",
       "      <th>263</th>\n",
       "      <td>AGM6YQSMWATCHIJNRZLAR6VQA3BQ</td>\n",
       "      <td>B005FMLZQQ</td>\n",
       "      <td>1.0</td>\n",
       "      <td>2021-12-18 17:59:04.227</td>\n",
       "      <td>1.639850e+09</td>\n",
       "      <td>0.0</td>\n",
       "      <td>NaN</td>\n",
       "      <td>0.0</td>\n",
       "      <td>NaN</td>\n",
       "      <td>0.0</td>\n",
       "      <td>...</td>\n",
       "      <td>1398304794,1398304916,1398305701,1408210033,14...</td>\n",
       "      <td>[622, 2363, 1618, 1718, 1645, 1909, 1483, 1601...</td>\n",
       "      <td>[1398304794, 1398304916, 1398305701, 140821003...</td>\n",
       "      <td>[8, 8, 8, 8, 8, 8, 8, 8, 8, 6]</td>\n",
       "      <td>[Media Accessory, Remote Control, Entertainmen...</td>\n",
       "      <td>Video Games</td>\n",
       "      <td>Xbox 360 Media Remote</td>\n",
       "      <td>[Product Description, Control your console ent...</td>\n",
       "      <td>[Video Games, Legacy Systems, Xbox Systems, Xb...</td>\n",
       "      <td>None</td>\n",
       "    </tr>\n",
       "    <tr>\n",
       "      <th>385</th>\n",
       "      <td>AEM3OVK4EKZQS4LLOCCHV3DODVHQ</td>\n",
       "      <td>B01M6C7YE8</td>\n",
       "      <td>1.0</td>\n",
       "      <td>2022-04-06 22:29:42.038</td>\n",
       "      <td>1.649284e+09</td>\n",
       "      <td>2.0</td>\n",
       "      <td>5.000000</td>\n",
       "      <td>0.0</td>\n",
       "      <td>NaN</td>\n",
       "      <td>0.0</td>\n",
       "      <td>...</td>\n",
       "      <td>1493057775,1493349602,1494506961,1494653926,14...</td>\n",
       "      <td>[3111, 4286, 3255, 1508, 94, 307, 3849, 3949, ...</td>\n",
       "      <td>[1493057775, 1493349602, 1494506961, 149465392...</td>\n",
       "      <td>[7, 7, 7, 7, 7, 7, 7, 7, 7, 7]</td>\n",
       "      <td>[Open World, Action Adventure, Western, Single...</td>\n",
       "      <td>Video Games</td>\n",
       "      <td>Red Dead Redemption 2 Playstation 4</td>\n",
       "      <td>[Winner of over 175 Game of the Year Awards an...</td>\n",
       "      <td>[Video Games, PlayStation 4, Games]</td>\n",
       "      <td>19.98</td>\n",
       "    </tr>\n",
       "    <tr>\n",
       "      <th>1282</th>\n",
       "      <td>AFXYMLJDPRYRC4PHVLYQVH2TXVJA</td>\n",
       "      <td>B07BLRF329</td>\n",
       "      <td>0.0</td>\n",
       "      <td>2021-12-03 20:49:24.531</td>\n",
       "      <td>NaN</td>\n",
       "      <td>1.0</td>\n",
       "      <td>5.000000</td>\n",
       "      <td>1.0</td>\n",
       "      <td>5.0</td>\n",
       "      <td>1.0</td>\n",
       "      <td>...</td>\n",
       "      <td>1389137426,1389137541,1482821739,1482821765,15...</td>\n",
       "      <td>[-1, -1, 417, 2400, 3807, 3432, 3886, 4607, 41...</td>\n",
       "      <td>[-1, -1, 1389137426, 1389137541, 1482821739, 1...</td>\n",
       "      <td>[-1, -1, 8, 8, 7, 7, 7, 6, 6, 6]</td>\n",
       "      <td>[Action-Adventure, Exploration, Narrative Focu...</td>\n",
       "      <td>Video Games</td>\n",
       "      <td>Rise of the Tomb Raider - Xbox One Digital Code</td>\n",
       "      <td>[Featuring epic, high-octane action moments se...</td>\n",
       "      <td>[Video Games, Xbox One, Games]</td>\n",
       "      <td>None</td>\n",
       "    </tr>\n",
       "    <tr>\n",
       "      <th>43</th>\n",
       "      <td>AGD2KE77JSUWQKD5CGYVGCQYJPHQ</td>\n",
       "      <td>B07TRQJ819</td>\n",
       "      <td>0.0</td>\n",
       "      <td>2021-12-13 02:24:44.720</td>\n",
       "      <td>NaN</td>\n",
       "      <td>2.0</td>\n",
       "      <td>2.000000</td>\n",
       "      <td>0.0</td>\n",
       "      <td>NaN</td>\n",
       "      <td>0.0</td>\n",
       "      <td>...</td>\n",
       "      <td>1413412240,1417465548,1421001578,1421001632,14...</td>\n",
       "      <td>[2148, 2467, 2900, 2168, 2341, 2338, 1351, 282...</td>\n",
       "      <td>[1413412240, 1417465548, 1421001578, 142100163...</td>\n",
       "      <td>[8, 8, 8, 8, 8, 8, 8, 8, 8, 6]</td>\n",
       "      <td>[Action RPG, Narrative-driven, Vampires, Choic...</td>\n",
       "      <td>Video Games</td>\n",
       "      <td>Vampyr - Xbox One</td>\n",
       "      <td>[London, 1918. You are newly-turned Vampyr Dr....</td>\n",
       "      <td>[Video Games, Xbox One, Games]</td>\n",
       "      <td>16.6</td>\n",
       "    </tr>\n",
       "    <tr>\n",
       "      <th>918</th>\n",
       "      <td>AEK4BDRZUAXZEEPCSG3HODIY2LDA</td>\n",
       "      <td>B09C4DLF4P</td>\n",
       "      <td>1.0</td>\n",
       "      <td>2021-09-13 02:24:29.136</td>\n",
       "      <td>1.631500e+09</td>\n",
       "      <td>8.0</td>\n",
       "      <td>4.000000</td>\n",
       "      <td>2.0</td>\n",
       "      <td>4.5</td>\n",
       "      <td>0.0</td>\n",
       "      <td>...</td>\n",
       "      <td>1498855752,1503263124,1607158037,1607714521,16...</td>\n",
       "      <td>[-1, -1, -1, -1, 3339, 2402, 4584, 4351, 4530,...</td>\n",
       "      <td>[-1, -1, -1, -1, 1498855752, 1503263124, 16071...</td>\n",
       "      <td>[-1, -1, -1, -1, 7, 7, 5, 5, 5, 3]</td>\n",
       "      <td>[Gaming Headset, Surround Sound, Lightweight, ...</td>\n",
       "      <td>Computers</td>\n",
       "      <td>Razer Kraken X Ultralight Gaming Headset: 7.1 ...</td>\n",
       "      <td>[The ultra-light Razer Kraken x is a multi-pla...</td>\n",
       "      <td>[Video Games, PC, Accessories, Headsets]</td>\n",
       "      <td>29.99</td>\n",
       "    </tr>\n",
       "    <tr>\n",
       "      <th>1726</th>\n",
       "      <td>AFT6OQC26LJIJXZVFFQKYYSGWUIQ</td>\n",
       "      <td>B0083GAF12</td>\n",
       "      <td>0.0</td>\n",
       "      <td>2021-09-05 06:51:05.599</td>\n",
       "      <td>NaN</td>\n",
       "      <td>1.0</td>\n",
       "      <td>5.000000</td>\n",
       "      <td>0.0</td>\n",
       "      <td>NaN</td>\n",
       "      <td>0.0</td>\n",
       "      <td>...</td>\n",
       "      <td>1405833312,1405833399,1405833740,1405833776,14...</td>\n",
       "      <td>[2537, 2418, 1767, 1197, 1921, 4023, 3059, 361...</td>\n",
       "      <td>[1405833312, 1405833399, 1405833740, 140583377...</td>\n",
       "      <td>[8, 8, 8, 8, 8, 8, 7, 6, 6, 5]</td>\n",
       "      <td>[Sports, Soccer, Multiplayer, Realistic Simula...</td>\n",
       "      <td>Video Games</td>\n",
       "      <td>FIFA Soccer 13 [Download]</td>\n",
       "      <td>[Amazon.com, FIFA 13, is the 2012 release in E...</td>\n",
       "      <td>[Video Games, PC]</td>\n",
       "      <td>None</td>\n",
       "    </tr>\n",
       "    <tr>\n",
       "      <th>1614</th>\n",
       "      <td>AFT6OQC26LJIJXZVFFQKYYSGWUIQ</td>\n",
       "      <td>B08QFPS48J</td>\n",
       "      <td>1.0</td>\n",
       "      <td>2021-09-05 06:51:05.599</td>\n",
       "      <td>1.630825e+09</td>\n",
       "      <td>29.0</td>\n",
       "      <td>3.724138</td>\n",
       "      <td>9.0</td>\n",
       "      <td>4.0</td>\n",
       "      <td>2.0</td>\n",
       "      <td>...</td>\n",
       "      <td>1405833312,1405833399,1405833740,1405833776,14...</td>\n",
       "      <td>[2537, 2418, 1767, 1197, 1921, 4023, 3059, 361...</td>\n",
       "      <td>[1405833312, 1405833399, 1405833740, 140583377...</td>\n",
       "      <td>[8, 8, 8, 8, 8, 8, 7, 6, 6, 5]</td>\n",
       "      <td>[Action, Rogue-lite, Single Player, Sci-fi, PS...</td>\n",
       "      <td>Video Games</td>\n",
       "      <td>Returnal - PlayStation 5</td>\n",
       "      <td>[After crash-landing on this shape-shifting wo...</td>\n",
       "      <td>[Video Games, PlayStation 5, Games]</td>\n",
       "      <td>26.99</td>\n",
       "    </tr>\n",
       "    <tr>\n",
       "      <th>612</th>\n",
       "      <td>AG4XZVKXT3XUVPT4BYTTKPMHV6EQ</td>\n",
       "      <td>B0C3BNJFBV</td>\n",
       "      <td>1.0</td>\n",
       "      <td>2022-04-28 07:38:55.970</td>\n",
       "      <td>1.651132e+09</td>\n",
       "      <td>4.0</td>\n",
       "      <td>3.250000</td>\n",
       "      <td>0.0</td>\n",
       "      <td>NaN</td>\n",
       "      <td>0.0</td>\n",
       "      <td>...</td>\n",
       "      <td>1281047480,1283901714,1290774854,1301346066,13...</td>\n",
       "      <td>[1312, 1219, 1489, 1592, 1714, 1522, 3788, 434...</td>\n",
       "      <td>[1281047480, 1283901714, 1290774854, 130134606...</td>\n",
       "      <td>[9, 9, 9, 9, 9, 8, 7, 7, 7, 6]</td>\n",
       "      <td>[Mechanical Keyboard, RGB Lighting, Gaming Acc...</td>\n",
       "      <td>Computers</td>\n",
       "      <td>Logitech G815 LIGHTSYNC RGB Mechanical Gaming ...</td>\n",
       "      <td>[G815 packs advanced gaming technologies into ...</td>\n",
       "      <td>[Video Games, PC, Accessories, Gaming Keyboards]</td>\n",
       "      <td>None</td>\n",
       "    </tr>\n",
       "    <tr>\n",
       "      <th>487</th>\n",
       "      <td>AEXHQ66IC7A4YPW74BHVRCBSG2MQ</td>\n",
       "      <td>B0748MPHVX</td>\n",
       "      <td>0.0</td>\n",
       "      <td>2022-03-27 18:18:01.421</td>\n",
       "      <td>NaN</td>\n",
       "      <td>0.0</td>\n",
       "      <td>NaN</td>\n",
       "      <td>0.0</td>\n",
       "      <td>NaN</td>\n",
       "      <td>0.0</td>\n",
       "      <td>...</td>\n",
       "      <td>1299618096,1430726055,1458978689,1461554413,14...</td>\n",
       "      <td>[-1, -1, -1, -1, -1, 1711, 2187, 2967, 3854, 3...</td>\n",
       "      <td>[-1, -1, -1, -1, -1, 1299618096, 1430726055, 1...</td>\n",
       "      <td>[-1, -1, -1, -1, -1, 9, 8, 8, 8, 8]</td>\n",
       "      <td>[Surround Sound, High Fidelity, Multi-Platform...</td>\n",
       "      <td>Computers</td>\n",
       "      <td>CORSAIR VOID PRO SURROUND Gaming Headset - Dol...</td>\n",
       "      <td>[The VOID PRO SURROUND headset provides except...</td>\n",
       "      <td>[Video Games, PC, Accessories, Headsets]</td>\n",
       "      <td>None</td>\n",
       "    </tr>\n",
       "  </tbody>\n",
       "</table>\n",
       "<p>10 rows × 28 columns</p>\n",
       "</div>"
      ],
      "text/plain": [
       "                           user_id parent_asin  rating  \\\n",
       "97    AFILCGTMVK5NH4PK75F23LHWH67Q  B079FPFV3X     1.0   \n",
       "263   AGM6YQSMWATCHIJNRZLAR6VQA3BQ  B005FMLZQQ     1.0   \n",
       "385   AEM3OVK4EKZQS4LLOCCHV3DODVHQ  B01M6C7YE8     1.0   \n",
       "1282  AFXYMLJDPRYRC4PHVLYQVH2TXVJA  B07BLRF329     0.0   \n",
       "43    AGD2KE77JSUWQKD5CGYVGCQYJPHQ  B07TRQJ819     0.0   \n",
       "918   AEK4BDRZUAXZEEPCSG3HODIY2LDA  B09C4DLF4P     1.0   \n",
       "1726  AFT6OQC26LJIJXZVFFQKYYSGWUIQ  B0083GAF12     0.0   \n",
       "1614  AFT6OQC26LJIJXZVFFQKYYSGWUIQ  B08QFPS48J     1.0   \n",
       "612   AG4XZVKXT3XUVPT4BYTTKPMHV6EQ  B0C3BNJFBV     1.0   \n",
       "487   AEXHQ66IC7A4YPW74BHVRCBSG2MQ  B0748MPHVX     0.0   \n",
       "\n",
       "                   timestamp  timestamp_unix  parent_asin_rating_cnt_365d  \\\n",
       "97   2022-03-08 19:15:59.095    1.646767e+09                          6.0   \n",
       "263  2021-12-18 17:59:04.227    1.639850e+09                          0.0   \n",
       "385  2022-04-06 22:29:42.038    1.649284e+09                          2.0   \n",
       "1282 2021-12-03 20:49:24.531             NaN                          1.0   \n",
       "43   2021-12-13 02:24:44.720             NaN                          2.0   \n",
       "918  2021-09-13 02:24:29.136    1.631500e+09                          8.0   \n",
       "1726 2021-09-05 06:51:05.599             NaN                          1.0   \n",
       "1614 2021-09-05 06:51:05.599    1.630825e+09                         29.0   \n",
       "612  2022-04-28 07:38:55.970    1.651132e+09                          4.0   \n",
       "487  2022-03-27 18:18:01.421             NaN                          0.0   \n",
       "\n",
       "      parent_asin_rating_avg_prev_rating_365d  parent_asin_rating_cnt_90d  \\\n",
       "97                                   4.166667                         0.0   \n",
       "263                                       NaN                         0.0   \n",
       "385                                  5.000000                         0.0   \n",
       "1282                                 5.000000                         1.0   \n",
       "43                                   2.000000                         0.0   \n",
       "918                                  4.000000                         2.0   \n",
       "1726                                 5.000000                         0.0   \n",
       "1614                                 3.724138                         9.0   \n",
       "612                                  3.250000                         0.0   \n",
       "487                                       NaN                         0.0   \n",
       "\n",
       "      parent_asin_rating_avg_prev_rating_90d  parent_asin_rating_cnt_30d  ...  \\\n",
       "97                                       NaN                         0.0  ...   \n",
       "263                                      NaN                         0.0  ...   \n",
       "385                                      NaN                         0.0  ...   \n",
       "1282                                     5.0                         1.0  ...   \n",
       "43                                       NaN                         0.0  ...   \n",
       "918                                      4.5                         0.0  ...   \n",
       "1726                                     NaN                         0.0  ...   \n",
       "1614                                     4.0                         2.0  ...   \n",
       "612                                      NaN                         0.0  ...   \n",
       "487                                      NaN                         0.0  ...   \n",
       "\n",
       "              user_rating_list_10_recent_asin_timestamp  \\\n",
       "97    1458314491,1458314828,1493443918,1494549215,14...   \n",
       "263   1398304794,1398304916,1398305701,1408210033,14...   \n",
       "385   1493057775,1493349602,1494506961,1494653926,14...   \n",
       "1282  1389137426,1389137541,1482821739,1482821765,15...   \n",
       "43    1413412240,1417465548,1421001578,1421001632,14...   \n",
       "918   1498855752,1503263124,1607158037,1607714521,16...   \n",
       "1726  1405833312,1405833399,1405833740,1405833776,14...   \n",
       "1614  1405833312,1405833399,1405833740,1405833776,14...   \n",
       "612   1281047480,1283901714,1290774854,1301346066,13...   \n",
       "487   1299618096,1430726055,1458978689,1461554413,14...   \n",
       "\n",
       "                                          item_sequence  \\\n",
       "97       [-1, -1, -1, -1, -1, 1665, 589, 628, 3257, 98]   \n",
       "263   [622, 2363, 1618, 1718, 1645, 1909, 1483, 1601...   \n",
       "385   [3111, 4286, 3255, 1508, 94, 307, 3849, 3949, ...   \n",
       "1282  [-1, -1, 417, 2400, 3807, 3432, 3886, 4607, 41...   \n",
       "43    [2148, 2467, 2900, 2168, 2341, 2338, 1351, 282...   \n",
       "918   [-1, -1, -1, -1, 3339, 2402, 4584, 4351, 4530,...   \n",
       "1726  [2537, 2418, 1767, 1197, 1921, 4023, 3059, 361...   \n",
       "1614  [2537, 2418, 1767, 1197, 1921, 4023, 3059, 361...   \n",
       "612   [1312, 1219, 1489, 1592, 1714, 1522, 3788, 434...   \n",
       "487   [-1, -1, -1, -1, -1, 1711, 2187, 2967, 3854, 3...   \n",
       "\n",
       "                                       item_sequence_ts  \\\n",
       "97    [-1, -1, -1, -1, -1, 1458314491, 1458314828, 1...   \n",
       "263   [1398304794, 1398304916, 1398305701, 140821003...   \n",
       "385   [1493057775, 1493349602, 1494506961, 149465392...   \n",
       "1282  [-1, -1, 1389137426, 1389137541, 1482821739, 1...   \n",
       "43    [1413412240, 1417465548, 1421001578, 142100163...   \n",
       "918   [-1, -1, -1, -1, 1498855752, 1503263124, 16071...   \n",
       "1726  [1405833312, 1405833399, 1405833740, 140583377...   \n",
       "1614  [1405833312, 1405833399, 1405833740, 140583377...   \n",
       "612   [1281047480, 1283901714, 1290774854, 130134606...   \n",
       "487   [-1, -1, -1, -1, -1, 1299618096, 1430726055, 1...   \n",
       "\n",
       "                  item_sequence_ts_bucket  \\\n",
       "97    [-1, -1, -1, -1, -1, 8, 8, 7, 7, 7]   \n",
       "263        [8, 8, 8, 8, 8, 8, 8, 8, 8, 6]   \n",
       "385        [7, 7, 7, 7, 7, 7, 7, 7, 7, 7]   \n",
       "1282     [-1, -1, 8, 8, 7, 7, 7, 6, 6, 6]   \n",
       "43         [8, 8, 8, 8, 8, 8, 8, 8, 8, 6]   \n",
       "918    [-1, -1, -1, -1, 7, 7, 5, 5, 5, 3]   \n",
       "1726       [8, 8, 8, 8, 8, 8, 7, 6, 6, 5]   \n",
       "1614       [8, 8, 8, 8, 8, 8, 7, 6, 6, 5]   \n",
       "612        [9, 9, 9, 9, 9, 8, 7, 7, 7, 6]   \n",
       "487   [-1, -1, -1, -1, -1, 9, 8, 8, 8, 8]   \n",
       "\n",
       "                                                   tags    main_category  \\\n",
       "97    [Cooling Stand, Controller Charger, Vertical S...  All Electronics   \n",
       "263   [Media Accessory, Remote Control, Entertainmen...      Video Games   \n",
       "385   [Open World, Action Adventure, Western, Single...      Video Games   \n",
       "1282  [Action-Adventure, Exploration, Narrative Focu...      Video Games   \n",
       "43    [Action RPG, Narrative-driven, Vampires, Choic...      Video Games   \n",
       "918   [Gaming Headset, Surround Sound, Lightweight, ...        Computers   \n",
       "1726  [Sports, Soccer, Multiplayer, Realistic Simula...      Video Games   \n",
       "1614  [Action, Rogue-lite, Single Player, Sci-fi, PS...      Video Games   \n",
       "612   [Mechanical Keyboard, RGB Lighting, Gaming Acc...        Computers   \n",
       "487   [Surround Sound, High Fidelity, Multi-Platform...        Computers   \n",
       "\n",
       "                                                  title  \\\n",
       "97    OIVO PS4 Stand Cooling Fan Station for Playsta...   \n",
       "263                               Xbox 360 Media Remote   \n",
       "385                 Red Dead Redemption 2 Playstation 4   \n",
       "1282    Rise of the Tomb Raider - Xbox One Digital Code   \n",
       "43                                    Vampyr - Xbox One   \n",
       "918   Razer Kraken X Ultralight Gaming Headset: 7.1 ...   \n",
       "1726                          FIFA Soccer 13 [Download]   \n",
       "1614                           Returnal - PlayStation 5   \n",
       "612   Logitech G815 LIGHTSYNC RGB Mechanical Gaming ...   \n",
       "487   CORSAIR VOID PRO SURROUND Gaming Headset - Dol...   \n",
       "\n",
       "                                            description  \\\n",
       "97                                                   []   \n",
       "263   [Product Description, Control your console ent...   \n",
       "385   [Winner of over 175 Game of the Year Awards an...   \n",
       "1282  [Featuring epic, high-octane action moments se...   \n",
       "43    [London, 1918. You are newly-turned Vampyr Dr....   \n",
       "918   [The ultra-light Razer Kraken x is a multi-pla...   \n",
       "1726  [Amazon.com, FIFA 13, is the 2012 release in E...   \n",
       "1614  [After crash-landing on this shape-shifting wo...   \n",
       "612   [G815 packs advanced gaming technologies into ...   \n",
       "487   [The VOID PRO SURROUND headset provides except...   \n",
       "\n",
       "                                             categories  price  \n",
       "97    [Video Games, PlayStation 4, Accessories, Cool...  29.99  \n",
       "263   [Video Games, Legacy Systems, Xbox Systems, Xb...   None  \n",
       "385                 [Video Games, PlayStation 4, Games]  19.98  \n",
       "1282                     [Video Games, Xbox One, Games]   None  \n",
       "43                       [Video Games, Xbox One, Games]   16.6  \n",
       "918            [Video Games, PC, Accessories, Headsets]  29.99  \n",
       "1726                                  [Video Games, PC]   None  \n",
       "1614                [Video Games, PlayStation 5, Games]  26.99  \n",
       "612    [Video Games, PC, Accessories, Gaming Keyboards]   None  \n",
       "487            [Video Games, PC, Accessories, Headsets]   None  \n",
       "\n",
       "[10 rows x 28 columns]"
      ]
     },
     "execution_count": 15,
     "metadata": {},
     "output_type": "execute_result"
    }
   ],
   "source": [
    "val_df = val_rating_dataset.df\n",
    "val_df.sample(10)"
   ]
  },
  {
   "cell_type": "code",
   "execution_count": 16,
   "id": "9eb1583b-40f7-4157-a383-5891389ac119",
   "metadata": {
    "scrolled": true
   },
   "outputs": [
    {
     "data": {
      "text/html": [
       "<div>\n",
       "<style scoped>\n",
       "    .dataframe tbody tr th:only-of-type {\n",
       "        vertical-align: middle;\n",
       "    }\n",
       "\n",
       "    .dataframe tbody tr th {\n",
       "        vertical-align: top;\n",
       "    }\n",
       "\n",
       "    .dataframe thead th {\n",
       "        text-align: right;\n",
       "    }\n",
       "</style>\n",
       "<table border=\"1\" class=\"dataframe\">\n",
       "  <thead>\n",
       "    <tr style=\"text-align: right;\">\n",
       "      <th></th>\n",
       "      <th>user_id</th>\n",
       "      <th>parent_asin</th>\n",
       "      <th>rating</th>\n",
       "      <th>timestamp</th>\n",
       "      <th>timestamp_unix</th>\n",
       "      <th>parent_asin_rating_cnt_365d</th>\n",
       "      <th>parent_asin_rating_avg_prev_rating_365d</th>\n",
       "      <th>parent_asin_rating_cnt_90d</th>\n",
       "      <th>parent_asin_rating_avg_prev_rating_90d</th>\n",
       "      <th>parent_asin_rating_cnt_30d</th>\n",
       "      <th>...</th>\n",
       "      <th>user_rating_list_10_recent_asin_timestamp</th>\n",
       "      <th>item_sequence</th>\n",
       "      <th>item_sequence_ts</th>\n",
       "      <th>item_sequence_ts_bucket</th>\n",
       "      <th>tags</th>\n",
       "      <th>main_category</th>\n",
       "      <th>title</th>\n",
       "      <th>description</th>\n",
       "      <th>categories</th>\n",
       "      <th>price</th>\n",
       "    </tr>\n",
       "  </thead>\n",
       "  <tbody>\n",
       "    <tr>\n",
       "      <th>1084</th>\n",
       "      <td>AH6FNJPYDJ3MTVOUIHIZGL3GTKXA</td>\n",
       "      <td>B0039LME9W</td>\n",
       "      <td>0.0</td>\n",
       "      <td>2022-04-11 19:22:22.143</td>\n",
       "      <td>NaN</td>\n",
       "      <td>0.0</td>\n",
       "      <td>NaN</td>\n",
       "      <td>0.0</td>\n",
       "      <td>NaN</td>\n",
       "      <td>0.0</td>\n",
       "      <td>...</td>\n",
       "      <td>1420650289,1576447432,1585734315,1616656288,1623308629</td>\n",
       "      <td>[-1, -1, -1, -1, -1, 1267, 4196, 4373, 2511, 3386]</td>\n",
       "      <td>[-1, -1, -1, -1, -1, 1420650289, 1576447432, 1585734315, 1616656288, 1623308629]</td>\n",
       "      <td>[-1, -1, -1, -1, -1, 8, 6, 6, 6, 5]</td>\n",
       "      <td>[DSi XL, Handheld Console, Bundle, Portable Gaming, Mario Kart, Retro Gaming]</td>\n",
       "      <td>Video Games</td>\n",
       "      <td>Nintendo DSi XL Red Bundle with Mario Kart</td>\n",
       "      <td>[Product Description, The Nintendo DSi XL is a high-powered handheld video-game system with an extra large, wide viewing angle screen, and a full size, easy to hold stylus. It comes with features like touch-screen control for a unique gaming experience. Snap photos with the built-in camera, edit and send them to friends, play back your music with Nintendo DSi Sound, or browse the Internet with the Nintendo DSi Browser. From playing games to just playing around, the Nintendo DSi XL does it all. Includes: Red Nintendo DSi XL System, Mark Kart DS Game Pack, rated “E” w/Comic Mischief, Nintendo DSi AC Adapter, Rechargeable Battery, Nintendo DSi XL Stylus (2), Easy Start Guide, Manuals (Basic &amp; Controls) and Support Booklet., Amazon.com, Modern handheld gaming has long been dominated by Nintendo and Sony. Each hardware manufacturer has multiple viable offerings derived either directly, or evolving from the respective DS and PlayStation Portable product lines. All of these devices are impressive multifunctional devices, with designs meant to encourage gameplay on the go, integration with the Internet, backwards compatibility to previous games, and so on, but each goes about this in different ways. Taking a few minutes to examine the main features, and getting more familiar with available options, accessories and possible limitations of each handheld is the optimal way to determine which is the best choice for a player., Handheld Console Choices, Nintendo 3DS, View larger, Nintendo DSi/DSi XL, View larger, PSP, View larger, PSPgo, View larger, PlayStation Vita, View larger, Suggested Retail Price (prices may vary) $169.99 $149.99/$169.99 $149.99 $199.99 $249.99 - $299.99 (February 2012) Display Dual screen: upper - 3.53\" LCD, lower - 3.02\" LCD touch screen Dual screen, backlit, 3.25\"/4.2\", LCD with 256 x 192 resolution 4.3\" full transparent 3.8\" full transparent 5\" OLED multi-touch screen Internal Usable Memory 64 MB NA 64 MB 16 GB TBD External Media Storage SD memory card SD memory card Sony Memory Stick Duo Memory stick micro New proprietary \"NVG\" flash cards Size 5.3\" (l) x 2.9\" (w) x 0.8\" (h) 5.4\" (w) x 2.9\" (l) x 0.74\" (h) / 6.3\" (w) x 3.6\" (l) x 0.84\" (h) 6.7 (w) x 2.7\" (w) x 0.7\" (h) 5.0 (w) x 2.71\" (h) x 0.65\" (d) 7.2 (l) x 3.3\" (w) x 0.73\" (d) Weight 8 oz. 7.5/11.1 oz. 6.7 oz. 5.5 oz. TBD Colors Aqua Blue, Flaming Red, Cosmo Black 7.5 oz. Piano black (other colors via bundles) Piano black, Pearl white Black (other colors to follow) Backwards Compatibility Plays most DS and DSi games Plays all DS games Plays all PSP games in UMD format, or available via download; also plays downloadable PS1 games for PSP Plays all PSP games available via download and PS1 games for PSP Plays all PSP games available via download and PS1 games for PSP Wireless Communications Supports local Nintendo wireless connectivity between devices and IEEE802.11 b/g Wi-Fi connectivity Supports local Nintendo wireless connectivity between devices and IEEE802.11 b/g Wi-Fi connectivity Local ad hoc connectivity between PSP devices and infrastructure Wi-Fi connection options Local ad hoc connectivity between PSP devices and infrastructure Wi-Fi connection options 3G support in one or two hardware releases; standard ad hoc connectivity between devices and infrastructure Wi-Fi connection options in both Online Media Portal Nintendo eShop Nintendo DSi Shop PlayStation Network PlayStation Network PlayStation Network Streaming Video Netflix, *, No PSN movie rentals, and other video content PSN movie rentals, and other video content PSN movie rentals, and other video content Internet Browser Built-in Built-in Built-in Built-in Built-in Console Integration Yes, with Wii Yes, with Wii Yes, with PS3 Yes, with PS3 Yes, with PS3 Game Media Game card and digital download Game card and digital download UMD disc and digital download Digital download Digital download, alternate media TBD Online Multiplayer Yes Yes Yes Yes Yes Local Wireless Multiplayer Yes Yes Yes Yes Yes Estimated Battery Life 3-8 hrs 3-14 hrs 4-6 hours 4-6 hours TBD Input Method Touch screen, face and shoulder buttons, circle pad, motion/gyro sensor Touch screen, face and shoulder buttons Analog stick, D-pad, face buttons and shoulder buttons Analog stick, D-pad, face buttons and shoulder buttons Front and rear touch inputs, 2 analog sticks, D-pad, face buttons and shoulder buttons Digital Camera(s) 3 (0.3 megapixels); 3D capabilities 2 (0.3 megapixels) No No 2 Built-in Microphone Yes Yes Yes Yes Yes Graphic Quality Top adjustable 3D screen - 800 x 240 resolution; lower screen - 320 x 240 resolution 256 x 192 resolution 480 x 272 resolution (16:9 aspect ratio) 480 x 272 resolution (16:9 aspect ratio) 960 x 544 resolution (16:9 aspect ratio) General Game Price Range Standard:$19.99 - $39.99Downloads:$1.99 - $4.99 Standard:$19.99 - $39.99Downloads:$1.99 - $4.99 Standard:$19.99 - $39.99Downloads:$1.99 - $4.99 Standard:$19.99 - $39.99Downloads:$1.99 - $4.99 Standard:$19.99 - $39.99Downloads:$1.99 - $4.99, Online Play and Functionality, The wireless revolution in personal electronics has made online functionality and connectivity to the Internet a huge focus in handheld gaming. Every handheld console has an online arena that has either been built specifically for it, or that has been adapted to suit the needs of online players. By utilizing these portals players can greatly expand their chosen platform's potential, maximize gaming fun and increase the overall entertainment value of their devices., The Nintendo eShop is your one-stop shop for exciting downloadable games, videos, applications, and so much more. Discover all-new 3D software, plus legendary titles from gaming past remastered in 3D. Revisit with classic portable \"Virtual Console\" games starring Mario, Link, many other faces from the Nintendo catalog of games. Gain access to hundreds of previously released DSiWare games, applications and much more. Browsing the Nintendo eShop is incredibly easy, and fun. Find any title in seconds, then view screenshots, game info, and even video to help you make your purchase. You'll even find details and 3D video of Nintendo 3DS games available at retail stores. All games are able to be saved in your own custom wishlist so you can always remember the titles you want to get., DSiWare through the DSi Shop is a service that allows DSi players to download games and applications directly to their handheld console in exchange for DSi Points purchased through a local retailer. Experience new and innovative gameplay, fresh takes on the classics-and much more. Just shop, download, and enjoy. Visiting the DSi Shop is easy, just establish wireless broadband connection, click on the Nintendo DSi Shop icon from your menu screen and browse the shop and use Nintendo DSi Points. Games and applications can be saved to SD cards (sold separately)., PlayStation Network is an all access pass not only to a world of gaming, but also one of entertainment at-large. The service is 100% free, only requiring a PlayStation handheld (or a PS3) and a broadband connection to the Internet Once you are in visit the PlayStation Store where users can download games, first run and classic movies, previews, DLC add-ons for games, game demos, music and original PlayStation oriented streaming video content. Purchases can be made using a credit card or a PlayStation Network Card purchased offline. Content can be stored on external media or within the hard drive of the PSPgo., * Existing Netflix unlimited membership account required.]</td>\n",
       "      <td>[Video Games, Legacy Systems, Nintendo Systems, Nintendo DS, Consoles]</td>\n",
       "      <td>188.73</td>\n",
       "    </tr>\n",
       "    <tr>\n",
       "      <th>1640</th>\n",
       "      <td>AH6FNJPYDJ3MTVOUIHIZGL3GTKXA</td>\n",
       "      <td>B0C6BV5XQZ</td>\n",
       "      <td>1.0</td>\n",
       "      <td>2022-04-11 19:22:22.143</td>\n",
       "      <td>1.649705e+09</td>\n",
       "      <td>1.0</td>\n",
       "      <td>3.0</td>\n",
       "      <td>0.0</td>\n",
       "      <td>NaN</td>\n",
       "      <td>0.0</td>\n",
       "      <td>...</td>\n",
       "      <td>1420650289,1576447432,1585734315,1616656288,1623308629</td>\n",
       "      <td>[-1, -1, -1, -1, -1, 1267, 4196, 4373, 2511, 3386]</td>\n",
       "      <td>[-1, -1, -1, -1, -1, 1420650289, 1576447432, 1585734315, 1616656288, 1623308629]</td>\n",
       "      <td>[-1, -1, -1, -1, -1, 8, 6, 6, 6, 5]</td>\n",
       "      <td>[Guitar Accessory, Music Gaming, Learning Tool, Real Instrument]</td>\n",
       "      <td>Video Games</td>\n",
       "      <td>Rocksmith Real Tone Cable</td>\n",
       "      <td>[Connect any electric guitar or bass via 1/4\" output directly to your console or PC and get real-time note detection and virtual effects in Rocksmith+.]</td>\n",
       "      <td>[Video Games, Ubisoft]</td>\n",
       "      <td>24.97</td>\n",
       "    </tr>\n",
       "  </tbody>\n",
       "</table>\n",
       "<p>2 rows × 28 columns</p>\n",
       "</div>"
      ],
      "text/plain": [
       "                           user_id parent_asin  rating  \\\n",
       "1084  AH6FNJPYDJ3MTVOUIHIZGL3GTKXA  B0039LME9W     0.0   \n",
       "1640  AH6FNJPYDJ3MTVOUIHIZGL3GTKXA  B0C6BV5XQZ     1.0   \n",
       "\n",
       "                   timestamp  timestamp_unix  parent_asin_rating_cnt_365d  \\\n",
       "1084 2022-04-11 19:22:22.143             NaN                          0.0   \n",
       "1640 2022-04-11 19:22:22.143    1.649705e+09                          1.0   \n",
       "\n",
       "      parent_asin_rating_avg_prev_rating_365d  parent_asin_rating_cnt_90d  \\\n",
       "1084                                      NaN                         0.0   \n",
       "1640                                      3.0                         0.0   \n",
       "\n",
       "      parent_asin_rating_avg_prev_rating_90d  parent_asin_rating_cnt_30d  ...  \\\n",
       "1084                                     NaN                         0.0  ...   \n",
       "1640                                     NaN                         0.0  ...   \n",
       "\n",
       "                   user_rating_list_10_recent_asin_timestamp  \\\n",
       "1084  1420650289,1576447432,1585734315,1616656288,1623308629   \n",
       "1640  1420650289,1576447432,1585734315,1616656288,1623308629   \n",
       "\n",
       "                                           item_sequence  \\\n",
       "1084  [-1, -1, -1, -1, -1, 1267, 4196, 4373, 2511, 3386]   \n",
       "1640  [-1, -1, -1, -1, -1, 1267, 4196, 4373, 2511, 3386]   \n",
       "\n",
       "                                                                      item_sequence_ts  \\\n",
       "1084  [-1, -1, -1, -1, -1, 1420650289, 1576447432, 1585734315, 1616656288, 1623308629]   \n",
       "1640  [-1, -1, -1, -1, -1, 1420650289, 1576447432, 1585734315, 1616656288, 1623308629]   \n",
       "\n",
       "                  item_sequence_ts_bucket  \\\n",
       "1084  [-1, -1, -1, -1, -1, 8, 6, 6, 6, 5]   \n",
       "1640  [-1, -1, -1, -1, -1, 8, 6, 6, 6, 5]   \n",
       "\n",
       "                                                                               tags  \\\n",
       "1084  [DSi XL, Handheld Console, Bundle, Portable Gaming, Mario Kart, Retro Gaming]   \n",
       "1640               [Guitar Accessory, Music Gaming, Learning Tool, Real Instrument]   \n",
       "\n",
       "      main_category                                       title  \\\n",
       "1084    Video Games  Nintendo DSi XL Red Bundle with Mario Kart   \n",
       "1640    Video Games                   Rocksmith Real Tone Cable   \n",
       "\n",
       "                                                                                                                                                                                                                                                                                                                                                                                                                                                                                                                                                                                                                                                                                                                                                                                                                                                                                                                                                                                                                                                                                                                                                                                                                                                                                                                                                                                                                                                                                                                                                                                                                                                                                                                                                                                                                                                                                                                                                                                                                                                                                                                                                                                                                                                                                                                                                                                                                                                                                                                                                                                                                                                                                                                                                                                                                                                                                                                                                                                                                                                                                                                                                                                                                                                                                                                                                                                                                                                                                                                                                                                                                                                                                                                                                                                                                                                                                                                                                                                                                                                                                                                                                                                                                                                                                                                                                                                                                                                                                                                                                                                                                                                                                                                                                                                                                                                                                                                                                                                                                                                                                                                                                                                                                                                                                                                                                                                                                                                                                                                                                                                                                                                                                                                                                                                                                                                                                                                                                                                                                                                                                                                                                                                                                                                                                                                                                                                                                                                                                                                                                                                                                                                                                                                                                                                                                                                                                                                                                                                                                                                                                                                                                                                                                                                                                                                                                                                                                                                                                                                                                                                                                                                                                                                                                                                                                                                     description  \\\n",
       "1084  [Product Description, The Nintendo DSi XL is a high-powered handheld video-game system with an extra large, wide viewing angle screen, and a full size, easy to hold stylus. It comes with features like touch-screen control for a unique gaming experience. Snap photos with the built-in camera, edit and send them to friends, play back your music with Nintendo DSi Sound, or browse the Internet with the Nintendo DSi Browser. From playing games to just playing around, the Nintendo DSi XL does it all. Includes: Red Nintendo DSi XL System, Mark Kart DS Game Pack, rated “E” w/Comic Mischief, Nintendo DSi AC Adapter, Rechargeable Battery, Nintendo DSi XL Stylus (2), Easy Start Guide, Manuals (Basic & Controls) and Support Booklet., Amazon.com, Modern handheld gaming has long been dominated by Nintendo and Sony. Each hardware manufacturer has multiple viable offerings derived either directly, or evolving from the respective DS and PlayStation Portable product lines. All of these devices are impressive multifunctional devices, with designs meant to encourage gameplay on the go, integration with the Internet, backwards compatibility to previous games, and so on, but each goes about this in different ways. Taking a few minutes to examine the main features, and getting more familiar with available options, accessories and possible limitations of each handheld is the optimal way to determine which is the best choice for a player., Handheld Console Choices, Nintendo 3DS, View larger, Nintendo DSi/DSi XL, View larger, PSP, View larger, PSPgo, View larger, PlayStation Vita, View larger, Suggested Retail Price (prices may vary) $169.99 $149.99/$169.99 $149.99 $199.99 $249.99 - $299.99 (February 2012) Display Dual screen: upper - 3.53\" LCD, lower - 3.02\" LCD touch screen Dual screen, backlit, 3.25\"/4.2\", LCD with 256 x 192 resolution 4.3\" full transparent 3.8\" full transparent 5\" OLED multi-touch screen Internal Usable Memory 64 MB NA 64 MB 16 GB TBD External Media Storage SD memory card SD memory card Sony Memory Stick Duo Memory stick micro New proprietary \"NVG\" flash cards Size 5.3\" (l) x 2.9\" (w) x 0.8\" (h) 5.4\" (w) x 2.9\" (l) x 0.74\" (h) / 6.3\" (w) x 3.6\" (l) x 0.84\" (h) 6.7 (w) x 2.7\" (w) x 0.7\" (h) 5.0 (w) x 2.71\" (h) x 0.65\" (d) 7.2 (l) x 3.3\" (w) x 0.73\" (d) Weight 8 oz. 7.5/11.1 oz. 6.7 oz. 5.5 oz. TBD Colors Aqua Blue, Flaming Red, Cosmo Black 7.5 oz. Piano black (other colors via bundles) Piano black, Pearl white Black (other colors to follow) Backwards Compatibility Plays most DS and DSi games Plays all DS games Plays all PSP games in UMD format, or available via download; also plays downloadable PS1 games for PSP Plays all PSP games available via download and PS1 games for PSP Plays all PSP games available via download and PS1 games for PSP Wireless Communications Supports local Nintendo wireless connectivity between devices and IEEE802.11 b/g Wi-Fi connectivity Supports local Nintendo wireless connectivity between devices and IEEE802.11 b/g Wi-Fi connectivity Local ad hoc connectivity between PSP devices and infrastructure Wi-Fi connection options Local ad hoc connectivity between PSP devices and infrastructure Wi-Fi connection options 3G support in one or two hardware releases; standard ad hoc connectivity between devices and infrastructure Wi-Fi connection options in both Online Media Portal Nintendo eShop Nintendo DSi Shop PlayStation Network PlayStation Network PlayStation Network Streaming Video Netflix, *, No PSN movie rentals, and other video content PSN movie rentals, and other video content PSN movie rentals, and other video content Internet Browser Built-in Built-in Built-in Built-in Built-in Console Integration Yes, with Wii Yes, with Wii Yes, with PS3 Yes, with PS3 Yes, with PS3 Game Media Game card and digital download Game card and digital download UMD disc and digital download Digital download Digital download, alternate media TBD Online Multiplayer Yes Yes Yes Yes Yes Local Wireless Multiplayer Yes Yes Yes Yes Yes Estimated Battery Life 3-8 hrs 3-14 hrs 4-6 hours 4-6 hours TBD Input Method Touch screen, face and shoulder buttons, circle pad, motion/gyro sensor Touch screen, face and shoulder buttons Analog stick, D-pad, face buttons and shoulder buttons Analog stick, D-pad, face buttons and shoulder buttons Front and rear touch inputs, 2 analog sticks, D-pad, face buttons and shoulder buttons Digital Camera(s) 3 (0.3 megapixels); 3D capabilities 2 (0.3 megapixels) No No 2 Built-in Microphone Yes Yes Yes Yes Yes Graphic Quality Top adjustable 3D screen - 800 x 240 resolution; lower screen - 320 x 240 resolution 256 x 192 resolution 480 x 272 resolution (16:9 aspect ratio) 480 x 272 resolution (16:9 aspect ratio) 960 x 544 resolution (16:9 aspect ratio) General Game Price Range Standard:$19.99 - $39.99Downloads:$1.99 - $4.99 Standard:$19.99 - $39.99Downloads:$1.99 - $4.99 Standard:$19.99 - $39.99Downloads:$1.99 - $4.99 Standard:$19.99 - $39.99Downloads:$1.99 - $4.99 Standard:$19.99 - $39.99Downloads:$1.99 - $4.99, Online Play and Functionality, The wireless revolution in personal electronics has made online functionality and connectivity to the Internet a huge focus in handheld gaming. Every handheld console has an online arena that has either been built specifically for it, or that has been adapted to suit the needs of online players. By utilizing these portals players can greatly expand their chosen platform's potential, maximize gaming fun and increase the overall entertainment value of their devices., The Nintendo eShop is your one-stop shop for exciting downloadable games, videos, applications, and so much more. Discover all-new 3D software, plus legendary titles from gaming past remastered in 3D. Revisit with classic portable \"Virtual Console\" games starring Mario, Link, many other faces from the Nintendo catalog of games. Gain access to hundreds of previously released DSiWare games, applications and much more. Browsing the Nintendo eShop is incredibly easy, and fun. Find any title in seconds, then view screenshots, game info, and even video to help you make your purchase. You'll even find details and 3D video of Nintendo 3DS games available at retail stores. All games are able to be saved in your own custom wishlist so you can always remember the titles you want to get., DSiWare through the DSi Shop is a service that allows DSi players to download games and applications directly to their handheld console in exchange for DSi Points purchased through a local retailer. Experience new and innovative gameplay, fresh takes on the classics-and much more. Just shop, download, and enjoy. Visiting the DSi Shop is easy, just establish wireless broadband connection, click on the Nintendo DSi Shop icon from your menu screen and browse the shop and use Nintendo DSi Points. Games and applications can be saved to SD cards (sold separately)., PlayStation Network is an all access pass not only to a world of gaming, but also one of entertainment at-large. The service is 100% free, only requiring a PlayStation handheld (or a PS3) and a broadband connection to the Internet Once you are in visit the PlayStation Store where users can download games, first run and classic movies, previews, DLC add-ons for games, game demos, music and original PlayStation oriented streaming video content. Purchases can be made using a credit card or a PlayStation Network Card purchased offline. Content can be stored on external media or within the hard drive of the PSPgo., * Existing Netflix unlimited membership account required.]   \n",
       "1640                                                                                                                                                                                                                                                                                                                                                                                                                                                                                                                                                                                                                                                                                                                                                                                                                                                                                                                                                                                                                                                                                                                                                                                                                                                                                                                                                                                                                                                                                                                                                                                                                                                                                                                                                                                                                                                                                                                                                                                                                                                                                                                                                                                                                                                                                                                                                                                                                                                                                                                                                                                                                                                                                                                                                                                                                                                                                                                                                                                                                                                                                                                                                                                                                                                                                                                                                                                                                                                                                                                                                                                                                                                                                                                                                                                                                                                                                                                                                                                                                                                                                                                                                                                                                                                                                                                                                                                                                                                                                                                                                                                                                                                                                                                                                                                                                                                                                                                                                                                                                                                                                                                                                                                                                                                                                                                                                                                                                                                                                                                                                                                                                                                                                                                                                                                                                                                                                                                                                                                                                                                                                                                                                                                                                                                                                                                                                                                                                                                                                                                                                                                                                                                                                                                                                                                                                                                                                                                                                                                                                                                                                                                                                                                                                                                                                                                                                                                                                                                                                                                                                                                                                                                                                                    [Connect any electric guitar or bass via 1/4\" output directly to your console or PC and get real-time note detection and virtual effects in Rocksmith+.]   \n",
       "\n",
       "                                                                  categories  \\\n",
       "1084  [Video Games, Legacy Systems, Nintendo Systems, Nintendo DS, Consoles]   \n",
       "1640                                                  [Video Games, Ubisoft]   \n",
       "\n",
       "       price  \n",
       "1084  188.73  \n",
       "1640   24.97  \n",
       "\n",
       "[2 rows x 28 columns]"
      ]
     },
     "metadata": {},
     "output_type": "display_data"
    }
   ],
   "source": [
    "user_id = val_df.sample(1)[args.user_col].values[0]\n",
    "test_df = val_df.loc[lambda df: df[args.user_col].eq(user_id)]\n",
    "with pd.option_context(\"display.max_colwidth\", None):\n",
    "    display(test_df)"
   ]
  },
  {
   "cell_type": "code",
   "execution_count": 17,
   "id": "c48fbc80-eda8-4dff-a246-95f8f2f75082",
   "metadata": {
    "scrolled": true
   },
   "outputs": [
    {
     "name": "stderr",
     "output_type": "stream",
     "text": [
      "\u001b[32m2024-11-16 16:58:00.461\u001b[0m | \u001b[1mINFO    \u001b[0m | \u001b[36m__main__\u001b[0m:\u001b[36m<module>\u001b[0m:\u001b[36m7\u001b[0m - \u001b[1mTest predicting before training with user_id = AH6FNJPYDJ3MTVOUIHIZGL3GTKXA and parent_asin = B0C6BV5XQZ\u001b[0m\n",
      "/tmp/ipykernel_1794229/1344924415.py:13: UserWarning: Creating a tensor from a list of numpy.ndarrays is extremely slow. Please consider converting the list to a single numpy.ndarray with numpy.array() before converting to a tensor. (Triggered internally at ../torch/csrc/utils/tensor_new.cpp:278.)\n",
      "  item_sequence = torch.tensor([item_sequence])\n"
     ]
    },
    {
     "data": {
      "text/plain": [
       "Ranker(\n",
       "  (item_embedding): Embedding(4631, 128, padding_idx=4630)\n",
       "  (user_embedding): Embedding(19578, 128)\n",
       "  (item_sequence_ts_bucket_embedding): Embedding(11, 16, padding_idx=10)\n",
       "  (gru): GRU(144, 128, batch_first=True)\n",
       "  (relu): ReLU()\n",
       "  (dropout): Dropout(p=0.3, inplace=False)\n",
       "  (item_feature_tower): Sequential(\n",
       "    (0): Linear(in_features=461, out_features=128, bias=True)\n",
       "    (1): BatchNorm1d(128, eps=1e-05, momentum=0.1, affine=True, track_running_stats=True)\n",
       "    (2): ReLU()\n",
       "    (3): Dropout(p=0.3, inplace=False)\n",
       "  )\n",
       "  (fc_rating): Sequential(\n",
       "    (0): Linear(in_features=512, out_features=128, bias=True)\n",
       "    (1): BatchNorm1d(128, eps=1e-05, momentum=0.1, affine=True, track_running_stats=True)\n",
       "    (2): ReLU()\n",
       "    (3): Dropout(p=0.3, inplace=False)\n",
       "    (4): Linear(in_features=128, out_features=1, bias=True)\n",
       "    (5): Sigmoid()\n",
       "  )\n",
       ")"
      ]
     },
     "execution_count": 17,
     "metadata": {},
     "output_type": "execute_result"
    }
   ],
   "source": [
    "test_row = test_df.loc[lambda df: df[args.rating_col].gt(0)].iloc[0]\n",
    "item_id = test_row[args.item_col]\n",
    "item_sequence = test_row[\"item_sequence\"]\n",
    "item_sequence_ts_bucket = test_row[\"item_sequence_ts_bucket\"]\n",
    "row_idx = test_row.name\n",
    "item_feature = val_item_features[row_idx]\n",
    "logger.info(\n",
    "    f\"Test predicting before training with {args.user_col} = {user_id} and {args.item_col} = {item_id}\"\n",
    ")\n",
    "user_indice = idm.get_user_index(user_id)\n",
    "item_indice = idm.get_item_index(item_id)\n",
    "user = torch.tensor([user_indice])\n",
    "item_sequence = torch.tensor([item_sequence])\n",
    "item_sequence_ts_bucket = torch.tensor([item_sequence_ts_bucket])\n",
    "item_feature = torch.tensor([item_feature])\n",
    "item = torch.tensor([item_indice])\n",
    "\n",
    "model.eval()\n",
    "model.predict(user, item_sequence, item_sequence_ts_bucket, item_feature, item)\n",
    "model.train()"
   ]
  },
  {
   "cell_type": "markdown",
   "id": "c2fd217c-c0c8-4e7c-81fe-6eb36f4729b5",
   "metadata": {},
   "source": [
    "#### Training loop"
   ]
  },
  {
   "cell_type": "markdown",
   "id": "1e9daad4-1365-4e8e-8f73-80ca5513572b",
   "metadata": {},
   "source": [
    "##### Overfit 1 batch"
   ]
  },
  {
   "cell_type": "code",
   "execution_count": 18,
   "id": "1a1cd9bd-e2c6-404b-b6ae-b26a7d35a0ba",
   "metadata": {
    "scrolled": true
   },
   "outputs": [
    {
     "name": "stderr",
     "output_type": "stream",
     "text": [
      "GPU available: True (cuda), used: True\n",
      "TPU available: False, using: 0 TPU cores\n",
      "HPU available: False, using: 0 HPUs\n",
      "`Trainer(overfit_batches=1)` was configured so 1 batch will be used.\n",
      "You are using a CUDA device ('NVIDIA GeForce RTX 4060 Ti') that has Tensor Cores. To properly utilize them, you should set `torch.set_float32_matmul_precision('medium' | 'high')` which will trade-off precision for performance. For more details, read https://pytorch.org/docs/stable/generated/torch.set_float32_matmul_precision.html#torch.set_float32_matmul_precision\n",
      "LOCAL_RANK: 0 - CUDA_VISIBLE_DEVICES: [0]\n",
      "\n",
      "  | Name  | Type   | Params | Mode \n",
      "-----------------------------------------\n",
      "0 | model | Ranker | 3.3 M  | train\n",
      "-----------------------------------------\n",
      "3.3 M     Trainable params\n",
      "0         Non-trainable params\n",
      "3.3 M     Total params\n",
      "13.318    Total estimated model params size (MB)\n",
      "15        Modules in train mode\n",
      "0         Modules in eval mode\n"
     ]
    },
    {
     "data": {
      "application/vnd.jupyter.widget-view+json": {
       "model_id": "",
       "version_major": 2,
       "version_minor": 0
      },
      "text/plain": [
       "Sanity Checking: |                                                                                            …"
      ]
     },
     "metadata": {},
     "output_type": "display_data"
    },
    {
     "name": "stderr",
     "output_type": "stream",
     "text": [
      "/home/dvquys/frostmourne/recsys-mvp/.venv/lib/python3.11/site-packages/lightning/pytorch/trainer/connectors/data_connector.py:251: You requested to overfit but enabled val dataloader shuffling. We are turning off the val dataloader shuffling for you.\n",
      "/home/dvquys/frostmourne/recsys-mvp/.venv/lib/python3.11/site-packages/lightning/pytorch/trainer/connectors/data_connector.py:424: The 'val_dataloader' does not have many workers which may be a bottleneck. Consider increasing the value of the `num_workers` argument` to `num_workers=11` in the `DataLoader` to improve performance.\n",
      "/home/dvquys/frostmourne/recsys-mvp/.venv/lib/python3.11/site-packages/lightning/pytorch/trainer/connectors/data_connector.py:251: You requested to overfit but enabled train dataloader shuffling. We are turning off the train dataloader shuffling for you.\n",
      "/home/dvquys/frostmourne/recsys-mvp/.venv/lib/python3.11/site-packages/lightning/pytorch/trainer/connectors/data_connector.py:424: The 'train_dataloader' does not have many workers which may be a bottleneck. Consider increasing the value of the `num_workers` argument` to `num_workers=11` in the `DataLoader` to improve performance.\n",
      "/home/dvquys/frostmourne/recsys-mvp/.venv/lib/python3.11/site-packages/lightning/pytorch/loops/fit_loop.py:298: The number of training batches (1) is smaller than the logging interval Trainer(log_every_n_steps=50). Set a lower value for log_every_n_steps if you want to see logs for the training epoch.\n"
     ]
    },
    {
     "data": {
      "application/vnd.jupyter.widget-view+json": {
       "model_id": "e39efe3c1dfd40b69ab37206725ce44c",
       "version_major": 2,
       "version_minor": 0
      },
      "text/plain": [
       "Training: |                                                                                                   …"
      ]
     },
     "metadata": {},
     "output_type": "display_data"
    },
    {
     "data": {
      "application/vnd.jupyter.widget-view+json": {
       "model_id": "",
       "version_major": 2,
       "version_minor": 0
      },
      "text/plain": [
       "Validation: |                                                                                                 …"
      ]
     },
     "metadata": {},
     "output_type": "display_data"
    },
    {
     "data": {
      "application/vnd.jupyter.widget-view+json": {
       "model_id": "",
       "version_major": 2,
       "version_minor": 0
      },
      "text/plain": [
       "Validation: |                                                                                                 …"
      ]
     },
     "metadata": {},
     "output_type": "display_data"
    },
    {
     "data": {
      "application/vnd.jupyter.widget-view+json": {
       "model_id": "",
       "version_major": 2,
       "version_minor": 0
      },
      "text/plain": [
       "Validation: |                                                                                                 …"
      ]
     },
     "metadata": {},
     "output_type": "display_data"
    },
    {
     "data": {
      "application/vnd.jupyter.widget-view+json": {
       "model_id": "",
       "version_major": 2,
       "version_minor": 0
      },
      "text/plain": [
       "Validation: |                                                                                                 …"
      ]
     },
     "metadata": {},
     "output_type": "display_data"
    },
    {
     "data": {
      "application/vnd.jupyter.widget-view+json": {
       "model_id": "",
       "version_major": 2,
       "version_minor": 0
      },
      "text/plain": [
       "Validation: |                                                                                                 …"
      ]
     },
     "metadata": {},
     "output_type": "display_data"
    },
    {
     "data": {
      "application/vnd.jupyter.widget-view+json": {
       "model_id": "",
       "version_major": 2,
       "version_minor": 0
      },
      "text/plain": [
       "Validation: |                                                                                                 …"
      ]
     },
     "metadata": {},
     "output_type": "display_data"
    },
    {
     "data": {
      "application/vnd.jupyter.widget-view+json": {
       "model_id": "",
       "version_major": 2,
       "version_minor": 0
      },
      "text/plain": [
       "Validation: |                                                                                                 …"
      ]
     },
     "metadata": {},
     "output_type": "display_data"
    },
    {
     "data": {
      "application/vnd.jupyter.widget-view+json": {
       "model_id": "",
       "version_major": 2,
       "version_minor": 0
      },
      "text/plain": [
       "Validation: |                                                                                                 …"
      ]
     },
     "metadata": {},
     "output_type": "display_data"
    },
    {
     "data": {
      "application/vnd.jupyter.widget-view+json": {
       "model_id": "",
       "version_major": 2,
       "version_minor": 0
      },
      "text/plain": [
       "Validation: |                                                                                                 …"
      ]
     },
     "metadata": {},
     "output_type": "display_data"
    },
    {
     "data": {
      "application/vnd.jupyter.widget-view+json": {
       "model_id": "",
       "version_major": 2,
       "version_minor": 0
      },
      "text/plain": [
       "Validation: |                                                                                                 …"
      ]
     },
     "metadata": {},
     "output_type": "display_data"
    },
    {
     "data": {
      "application/vnd.jupyter.widget-view+json": {
       "model_id": "",
       "version_major": 2,
       "version_minor": 0
      },
      "text/plain": [
       "Validation: |                                                                                                 …"
      ]
     },
     "metadata": {},
     "output_type": "display_data"
    },
    {
     "data": {
      "application/vnd.jupyter.widget-view+json": {
       "model_id": "",
       "version_major": 2,
       "version_minor": 0
      },
      "text/plain": [
       "Validation: |                                                                                                 …"
      ]
     },
     "metadata": {},
     "output_type": "display_data"
    },
    {
     "data": {
      "application/vnd.jupyter.widget-view+json": {
       "model_id": "",
       "version_major": 2,
       "version_minor": 0
      },
      "text/plain": [
       "Validation: |                                                                                                 …"
      ]
     },
     "metadata": {},
     "output_type": "display_data"
    },
    {
     "data": {
      "application/vnd.jupyter.widget-view+json": {
       "model_id": "",
       "version_major": 2,
       "version_minor": 0
      },
      "text/plain": [
       "Validation: |                                                                                                 …"
      ]
     },
     "metadata": {},
     "output_type": "display_data"
    },
    {
     "data": {
      "application/vnd.jupyter.widget-view+json": {
       "model_id": "",
       "version_major": 2,
       "version_minor": 0
      },
      "text/plain": [
       "Validation: |                                                                                                 …"
      ]
     },
     "metadata": {},
     "output_type": "display_data"
    },
    {
     "data": {
      "application/vnd.jupyter.widget-view+json": {
       "model_id": "",
       "version_major": 2,
       "version_minor": 0
      },
      "text/plain": [
       "Validation: |                                                                                                 …"
      ]
     },
     "metadata": {},
     "output_type": "display_data"
    },
    {
     "data": {
      "application/vnd.jupyter.widget-view+json": {
       "model_id": "",
       "version_major": 2,
       "version_minor": 0
      },
      "text/plain": [
       "Validation: |                                                                                                 …"
      ]
     },
     "metadata": {},
     "output_type": "display_data"
    },
    {
     "data": {
      "application/vnd.jupyter.widget-view+json": {
       "model_id": "",
       "version_major": 2,
       "version_minor": 0
      },
      "text/plain": [
       "Validation: |                                                                                                 …"
      ]
     },
     "metadata": {},
     "output_type": "display_data"
    },
    {
     "data": {
      "application/vnd.jupyter.widget-view+json": {
       "model_id": "",
       "version_major": 2,
       "version_minor": 0
      },
      "text/plain": [
       "Validation: |                                                                                                 …"
      ]
     },
     "metadata": {},
     "output_type": "display_data"
    },
    {
     "data": {
      "application/vnd.jupyter.widget-view+json": {
       "model_id": "",
       "version_major": 2,
       "version_minor": 0
      },
      "text/plain": [
       "Validation: |                                                                                                 …"
      ]
     },
     "metadata": {},
     "output_type": "display_data"
    },
    {
     "data": {
      "application/vnd.jupyter.widget-view+json": {
       "model_id": "",
       "version_major": 2,
       "version_minor": 0
      },
      "text/plain": [
       "Validation: |                                                                                                 …"
      ]
     },
     "metadata": {},
     "output_type": "display_data"
    },
    {
     "data": {
      "application/vnd.jupyter.widget-view+json": {
       "model_id": "",
       "version_major": 2,
       "version_minor": 0
      },
      "text/plain": [
       "Validation: |                                                                                                 …"
      ]
     },
     "metadata": {},
     "output_type": "display_data"
    },
    {
     "data": {
      "application/vnd.jupyter.widget-view+json": {
       "model_id": "",
       "version_major": 2,
       "version_minor": 0
      },
      "text/plain": [
       "Validation: |                                                                                                 …"
      ]
     },
     "metadata": {},
     "output_type": "display_data"
    },
    {
     "data": {
      "application/vnd.jupyter.widget-view+json": {
       "model_id": "",
       "version_major": 2,
       "version_minor": 0
      },
      "text/plain": [
       "Validation: |                                                                                                 …"
      ]
     },
     "metadata": {},
     "output_type": "display_data"
    },
    {
     "data": {
      "application/vnd.jupyter.widget-view+json": {
       "model_id": "",
       "version_major": 2,
       "version_minor": 0
      },
      "text/plain": [
       "Validation: |                                                                                                 …"
      ]
     },
     "metadata": {},
     "output_type": "display_data"
    },
    {
     "data": {
      "application/vnd.jupyter.widget-view+json": {
       "model_id": "",
       "version_major": 2,
       "version_minor": 0
      },
      "text/plain": [
       "Validation: |                                                                                                 …"
      ]
     },
     "metadata": {},
     "output_type": "display_data"
    },
    {
     "data": {
      "application/vnd.jupyter.widget-view+json": {
       "model_id": "",
       "version_major": 2,
       "version_minor": 0
      },
      "text/plain": [
       "Validation: |                                                                                                 …"
      ]
     },
     "metadata": {},
     "output_type": "display_data"
    },
    {
     "data": {
      "application/vnd.jupyter.widget-view+json": {
       "model_id": "",
       "version_major": 2,
       "version_minor": 0
      },
      "text/plain": [
       "Validation: |                                                                                                 …"
      ]
     },
     "metadata": {},
     "output_type": "display_data"
    },
    {
     "data": {
      "application/vnd.jupyter.widget-view+json": {
       "model_id": "",
       "version_major": 2,
       "version_minor": 0
      },
      "text/plain": [
       "Validation: |                                                                                                 …"
      ]
     },
     "metadata": {},
     "output_type": "display_data"
    },
    {
     "data": {
      "application/vnd.jupyter.widget-view+json": {
       "model_id": "",
       "version_major": 2,
       "version_minor": 0
      },
      "text/plain": [
       "Validation: |                                                                                                 …"
      ]
     },
     "metadata": {},
     "output_type": "display_data"
    },
    {
     "data": {
      "application/vnd.jupyter.widget-view+json": {
       "model_id": "",
       "version_major": 2,
       "version_minor": 0
      },
      "text/plain": [
       "Validation: |                                                                                                 …"
      ]
     },
     "metadata": {},
     "output_type": "display_data"
    },
    {
     "data": {
      "application/vnd.jupyter.widget-view+json": {
       "model_id": "",
       "version_major": 2,
       "version_minor": 0
      },
      "text/plain": [
       "Validation: |                                                                                                 …"
      ]
     },
     "metadata": {},
     "output_type": "display_data"
    },
    {
     "data": {
      "application/vnd.jupyter.widget-view+json": {
       "model_id": "",
       "version_major": 2,
       "version_minor": 0
      },
      "text/plain": [
       "Validation: |                                                                                                 …"
      ]
     },
     "metadata": {},
     "output_type": "display_data"
    },
    {
     "data": {
      "application/vnd.jupyter.widget-view+json": {
       "model_id": "",
       "version_major": 2,
       "version_minor": 0
      },
      "text/plain": [
       "Validation: |                                                                                                 …"
      ]
     },
     "metadata": {},
     "output_type": "display_data"
    },
    {
     "data": {
      "application/vnd.jupyter.widget-view+json": {
       "model_id": "",
       "version_major": 2,
       "version_minor": 0
      },
      "text/plain": [
       "Validation: |                                                                                                 …"
      ]
     },
     "metadata": {},
     "output_type": "display_data"
    },
    {
     "data": {
      "application/vnd.jupyter.widget-view+json": {
       "model_id": "",
       "version_major": 2,
       "version_minor": 0
      },
      "text/plain": [
       "Validation: |                                                                                                 …"
      ]
     },
     "metadata": {},
     "output_type": "display_data"
    },
    {
     "data": {
      "application/vnd.jupyter.widget-view+json": {
       "model_id": "",
       "version_major": 2,
       "version_minor": 0
      },
      "text/plain": [
       "Validation: |                                                                                                 …"
      ]
     },
     "metadata": {},
     "output_type": "display_data"
    },
    {
     "data": {
      "application/vnd.jupyter.widget-view+json": {
       "model_id": "",
       "version_major": 2,
       "version_minor": 0
      },
      "text/plain": [
       "Validation: |                                                                                                 …"
      ]
     },
     "metadata": {},
     "output_type": "display_data"
    },
    {
     "data": {
      "application/vnd.jupyter.widget-view+json": {
       "model_id": "",
       "version_major": 2,
       "version_minor": 0
      },
      "text/plain": [
       "Validation: |                                                                                                 …"
      ]
     },
     "metadata": {},
     "output_type": "display_data"
    },
    {
     "data": {
      "application/vnd.jupyter.widget-view+json": {
       "model_id": "",
       "version_major": 2,
       "version_minor": 0
      },
      "text/plain": [
       "Validation: |                                                                                                 …"
      ]
     },
     "metadata": {},
     "output_type": "display_data"
    },
    {
     "data": {
      "application/vnd.jupyter.widget-view+json": {
       "model_id": "",
       "version_major": 2,
       "version_minor": 0
      },
      "text/plain": [
       "Validation: |                                                                                                 …"
      ]
     },
     "metadata": {},
     "output_type": "display_data"
    },
    {
     "data": {
      "application/vnd.jupyter.widget-view+json": {
       "model_id": "",
       "version_major": 2,
       "version_minor": 0
      },
      "text/plain": [
       "Validation: |                                                                                                 …"
      ]
     },
     "metadata": {},
     "output_type": "display_data"
    },
    {
     "data": {
      "application/vnd.jupyter.widget-view+json": {
       "model_id": "",
       "version_major": 2,
       "version_minor": 0
      },
      "text/plain": [
       "Validation: |                                                                                                 …"
      ]
     },
     "metadata": {},
     "output_type": "display_data"
    },
    {
     "data": {
      "application/vnd.jupyter.widget-view+json": {
       "model_id": "",
       "version_major": 2,
       "version_minor": 0
      },
      "text/plain": [
       "Validation: |                                                                                                 …"
      ]
     },
     "metadata": {},
     "output_type": "display_data"
    },
    {
     "data": {
      "application/vnd.jupyter.widget-view+json": {
       "model_id": "",
       "version_major": 2,
       "version_minor": 0
      },
      "text/plain": [
       "Validation: |                                                                                                 …"
      ]
     },
     "metadata": {},
     "output_type": "display_data"
    },
    {
     "data": {
      "application/vnd.jupyter.widget-view+json": {
       "model_id": "",
       "version_major": 2,
       "version_minor": 0
      },
      "text/plain": [
       "Validation: |                                                                                                 …"
      ]
     },
     "metadata": {},
     "output_type": "display_data"
    },
    {
     "data": {
      "application/vnd.jupyter.widget-view+json": {
       "model_id": "71756bbc5cd849088906d11cf265b146",
       "version_major": 2,
       "version_minor": 0
      },
      "text/plain": [
       "Validation: |                                                                                                 …"
      ]
     },
     "metadata": {},
     "output_type": "display_data"
    },
    {
     "data": {
      "application/vnd.jupyter.widget-view+json": {
       "model_id": "3cd33e76e0f0477e814abdd49ebe0286",
       "version_major": 2,
       "version_minor": 0
      },
      "text/plain": [
       "Validation: |                                                                                                 …"
      ]
     },
     "metadata": {},
     "output_type": "display_data"
    },
    {
     "data": {
      "application/vnd.jupyter.widget-view+json": {
       "model_id": "d185a1c36bd549c88b1be9ffffe28418",
       "version_major": 2,
       "version_minor": 0
      },
      "text/plain": [
       "Validation: |                                                                                                 …"
      ]
     },
     "metadata": {},
     "output_type": "display_data"
    },
    {
     "data": {
      "application/vnd.jupyter.widget-view+json": {
       "model_id": "3d24f436d4f7482495f75e3049298e5b",
       "version_major": 2,
       "version_minor": 0
      },
      "text/plain": [
       "Validation: |                                                                                                 …"
      ]
     },
     "metadata": {},
     "output_type": "display_data"
    },
    {
     "data": {
      "application/vnd.jupyter.widget-view+json": {
       "model_id": "9b03c10f96d143618a0fa368f87f3635",
       "version_major": 2,
       "version_minor": 0
      },
      "text/plain": [
       "Validation: |                                                                                                 …"
      ]
     },
     "metadata": {},
     "output_type": "display_data"
    },
    {
     "data": {
      "application/vnd.jupyter.widget-view+json": {
       "model_id": "fa06bb9a7beb45fa82fd49e1df242dd7",
       "version_major": 2,
       "version_minor": 0
      },
      "text/plain": [
       "Validation: |                                                                                                 …"
      ]
     },
     "metadata": {},
     "output_type": "display_data"
    },
    {
     "data": {
      "application/vnd.jupyter.widget-view+json": {
       "model_id": "81ac7b59391e49688bb2a46048c8edb3",
       "version_major": 2,
       "version_minor": 0
      },
      "text/plain": [
       "Validation: |                                                                                                 …"
      ]
     },
     "metadata": {},
     "output_type": "display_data"
    },
    {
     "data": {
      "application/vnd.jupyter.widget-view+json": {
       "model_id": "3c080b60ec7e4a76950e296fcf8db652",
       "version_major": 2,
       "version_minor": 0
      },
      "text/plain": [
       "Validation: |                                                                                                 …"
      ]
     },
     "metadata": {},
     "output_type": "display_data"
    },
    {
     "data": {
      "application/vnd.jupyter.widget-view+json": {
       "model_id": "cfe149ae8cef4d7684004b226ce602d1",
       "version_major": 2,
       "version_minor": 0
      },
      "text/plain": [
       "Validation: |                                                                                                 …"
      ]
     },
     "metadata": {},
     "output_type": "display_data"
    },
    {
     "data": {
      "application/vnd.jupyter.widget-view+json": {
       "model_id": "da7dfc39dd2744029e73f925c3ec9b3f",
       "version_major": 2,
       "version_minor": 0
      },
      "text/plain": [
       "Validation: |                                                                                                 …"
      ]
     },
     "metadata": {},
     "output_type": "display_data"
    },
    {
     "data": {
      "application/vnd.jupyter.widget-view+json": {
       "model_id": "f98b1eccd6104525b7dc90bdf81760b4",
       "version_major": 2,
       "version_minor": 0
      },
      "text/plain": [
       "Validation: |                                                                                                 …"
      ]
     },
     "metadata": {},
     "output_type": "display_data"
    },
    {
     "data": {
      "application/vnd.jupyter.widget-view+json": {
       "model_id": "3c7610eadb484a3e9dec4e6271cf6385",
       "version_major": 2,
       "version_minor": 0
      },
      "text/plain": [
       "Validation: |                                                                                                 …"
      ]
     },
     "metadata": {},
     "output_type": "display_data"
    },
    {
     "data": {
      "application/vnd.jupyter.widget-view+json": {
       "model_id": "b3f07c3205724dfeaceeedff32813525",
       "version_major": 2,
       "version_minor": 0
      },
      "text/plain": [
       "Validation: |                                                                                                 …"
      ]
     },
     "metadata": {},
     "output_type": "display_data"
    },
    {
     "data": {
      "application/vnd.jupyter.widget-view+json": {
       "model_id": "2d94bb62bce3404a8e0115ddd99367f9",
       "version_major": 2,
       "version_minor": 0
      },
      "text/plain": [
       "Validation: |                                                                                                 …"
      ]
     },
     "metadata": {},
     "output_type": "display_data"
    },
    {
     "data": {
      "application/vnd.jupyter.widget-view+json": {
       "model_id": "0cf32b03fac941978e7ddff11958d4ef",
       "version_major": 2,
       "version_minor": 0
      },
      "text/plain": [
       "Validation: |                                                                                                 …"
      ]
     },
     "metadata": {},
     "output_type": "display_data"
    },
    {
     "data": {
      "application/vnd.jupyter.widget-view+json": {
       "model_id": "4055728085e246f991ff68a4685649cd",
       "version_major": 2,
       "version_minor": 0
      },
      "text/plain": [
       "Validation: |                                                                                                 …"
      ]
     },
     "metadata": {},
     "output_type": "display_data"
    },
    {
     "data": {
      "application/vnd.jupyter.widget-view+json": {
       "model_id": "40ae4d2362534020b78ac85acd645818",
       "version_major": 2,
       "version_minor": 0
      },
      "text/plain": [
       "Validation: |                                                                                                 …"
      ]
     },
     "metadata": {},
     "output_type": "display_data"
    },
    {
     "data": {
      "application/vnd.jupyter.widget-view+json": {
       "model_id": "a6ad96b5815944bb9aa3173422ea1dcc",
       "version_major": 2,
       "version_minor": 0
      },
      "text/plain": [
       "Validation: |                                                                                                 …"
      ]
     },
     "metadata": {},
     "output_type": "display_data"
    },
    {
     "data": {
      "application/vnd.jupyter.widget-view+json": {
       "model_id": "291c928e8eb241ccbdde323819debfa1",
       "version_major": 2,
       "version_minor": 0
      },
      "text/plain": [
       "Validation: |                                                                                                 …"
      ]
     },
     "metadata": {},
     "output_type": "display_data"
    },
    {
     "data": {
      "application/vnd.jupyter.widget-view+json": {
       "model_id": "155553e6fe8d44ee83aed35a5f12d52e",
       "version_major": 2,
       "version_minor": 0
      },
      "text/plain": [
       "Validation: |                                                                                                 …"
      ]
     },
     "metadata": {},
     "output_type": "display_data"
    },
    {
     "data": {
      "application/vnd.jupyter.widget-view+json": {
       "model_id": "26b08f8f46f648289317ed4cee2a7e2e",
       "version_major": 2,
       "version_minor": 0
      },
      "text/plain": [
       "Validation: |                                                                                                 …"
      ]
     },
     "metadata": {},
     "output_type": "display_data"
    },
    {
     "data": {
      "application/vnd.jupyter.widget-view+json": {
       "model_id": "c6622f5809c54cf0a0b6cfe911eb7757",
       "version_major": 2,
       "version_minor": 0
      },
      "text/plain": [
       "Validation: |                                                                                                 …"
      ]
     },
     "metadata": {},
     "output_type": "display_data"
    },
    {
     "data": {
      "application/vnd.jupyter.widget-view+json": {
       "model_id": "e146ef58302a4ba5b5a382d05e15c111",
       "version_major": 2,
       "version_minor": 0
      },
      "text/plain": [
       "Validation: |                                                                                                 …"
      ]
     },
     "metadata": {},
     "output_type": "display_data"
    },
    {
     "data": {
      "application/vnd.jupyter.widget-view+json": {
       "model_id": "0642e98196d14ea4b0dd1b5224faeae9",
       "version_major": 2,
       "version_minor": 0
      },
      "text/plain": [
       "Validation: |                                                                                                 …"
      ]
     },
     "metadata": {},
     "output_type": "display_data"
    },
    {
     "data": {
      "application/vnd.jupyter.widget-view+json": {
       "model_id": "0915663c38d5474eb2c95c4f1e419d5b",
       "version_major": 2,
       "version_minor": 0
      },
      "text/plain": [
       "Validation: |                                                                                                 …"
      ]
     },
     "metadata": {},
     "output_type": "display_data"
    },
    {
     "data": {
      "application/vnd.jupyter.widget-view+json": {
       "model_id": "db8a859773204d43bf5914e3e4207095",
       "version_major": 2,
       "version_minor": 0
      },
      "text/plain": [
       "Validation: |                                                                                                 …"
      ]
     },
     "metadata": {},
     "output_type": "display_data"
    },
    {
     "data": {
      "application/vnd.jupyter.widget-view+json": {
       "model_id": "bcd738eb5437440383d55261306791f9",
       "version_major": 2,
       "version_minor": 0
      },
      "text/plain": [
       "Validation: |                                                                                                 …"
      ]
     },
     "metadata": {},
     "output_type": "display_data"
    },
    {
     "data": {
      "application/vnd.jupyter.widget-view+json": {
       "model_id": "870fe6b13a6c42ffbccce72e8c890b14",
       "version_major": 2,
       "version_minor": 0
      },
      "text/plain": [
       "Validation: |                                                                                                 …"
      ]
     },
     "metadata": {},
     "output_type": "display_data"
    },
    {
     "data": {
      "application/vnd.jupyter.widget-view+json": {
       "model_id": "a8cd06abb2b246ba968a1a0419961e11",
       "version_major": 2,
       "version_minor": 0
      },
      "text/plain": [
       "Validation: |                                                                                                 …"
      ]
     },
     "metadata": {},
     "output_type": "display_data"
    },
    {
     "data": {
      "application/vnd.jupyter.widget-view+json": {
       "model_id": "0fcb33a4f2c7418a905c37cb88fe6372",
       "version_major": 2,
       "version_minor": 0
      },
      "text/plain": [
       "Validation: |                                                                                                 …"
      ]
     },
     "metadata": {},
     "output_type": "display_data"
    },
    {
     "data": {
      "application/vnd.jupyter.widget-view+json": {
       "model_id": "811d514ef7a64b6c99038f2adfe554cf",
       "version_major": 2,
       "version_minor": 0
      },
      "text/plain": [
       "Validation: |                                                                                                 …"
      ]
     },
     "metadata": {},
     "output_type": "display_data"
    },
    {
     "data": {
      "application/vnd.jupyter.widget-view+json": {
       "model_id": "d16c8fcbc03f4baf9cec53c21917524e",
       "version_major": 2,
       "version_minor": 0
      },
      "text/plain": [
       "Validation: |                                                                                                 …"
      ]
     },
     "metadata": {},
     "output_type": "display_data"
    },
    {
     "data": {
      "application/vnd.jupyter.widget-view+json": {
       "model_id": "c3b7782011e44416a27cb1067762d6df",
       "version_major": 2,
       "version_minor": 0
      },
      "text/plain": [
       "Validation: |                                                                                                 …"
      ]
     },
     "metadata": {},
     "output_type": "display_data"
    },
    {
     "data": {
      "application/vnd.jupyter.widget-view+json": {
       "model_id": "6b669a3ae0e343bca03b03f35aa4be0d",
       "version_major": 2,
       "version_minor": 0
      },
      "text/plain": [
       "Validation: |                                                                                                 …"
      ]
     },
     "metadata": {},
     "output_type": "display_data"
    },
    {
     "data": {
      "application/vnd.jupyter.widget-view+json": {
       "model_id": "8df268bc3fe14372b13551d2e63bfb1d",
       "version_major": 2,
       "version_minor": 0
      },
      "text/plain": [
       "Validation: |                                                                                                 …"
      ]
     },
     "metadata": {},
     "output_type": "display_data"
    },
    {
     "data": {
      "application/vnd.jupyter.widget-view+json": {
       "model_id": "7c1b9c6f3488486b8292dfe33fb4d5b8",
       "version_major": 2,
       "version_minor": 0
      },
      "text/plain": [
       "Validation: |                                                                                                 …"
      ]
     },
     "metadata": {},
     "output_type": "display_data"
    },
    {
     "data": {
      "application/vnd.jupyter.widget-view+json": {
       "model_id": "9f4d150e0fc744bfbc1f5ef820d226c2",
       "version_major": 2,
       "version_minor": 0
      },
      "text/plain": [
       "Validation: |                                                                                                 …"
      ]
     },
     "metadata": {},
     "output_type": "display_data"
    },
    {
     "data": {
      "application/vnd.jupyter.widget-view+json": {
       "model_id": "a1d3105f2c0e407f8470d6207f64e506",
       "version_major": 2,
       "version_minor": 0
      },
      "text/plain": [
       "Validation: |                                                                                                 …"
      ]
     },
     "metadata": {},
     "output_type": "display_data"
    },
    {
     "data": {
      "application/vnd.jupyter.widget-view+json": {
       "model_id": "f9b8ad24cd6541349bc83874f44cfdd5",
       "version_major": 2,
       "version_minor": 0
      },
      "text/plain": [
       "Validation: |                                                                                                 …"
      ]
     },
     "metadata": {},
     "output_type": "display_data"
    },
    {
     "data": {
      "application/vnd.jupyter.widget-view+json": {
       "model_id": "00078485530643d19c24310966083d49",
       "version_major": 2,
       "version_minor": 0
      },
      "text/plain": [
       "Validation: |                                                                                                 …"
      ]
     },
     "metadata": {},
     "output_type": "display_data"
    },
    {
     "data": {
      "application/vnd.jupyter.widget-view+json": {
       "model_id": "4a7fee357b0246b4af9c5ae4e4dfdc1b",
       "version_major": 2,
       "version_minor": 0
      },
      "text/plain": [
       "Validation: |                                                                                                 …"
      ]
     },
     "metadata": {},
     "output_type": "display_data"
    },
    {
     "data": {
      "application/vnd.jupyter.widget-view+json": {
       "model_id": "68fb623e89c84deab9c20598ce19edab",
       "version_major": 2,
       "version_minor": 0
      },
      "text/plain": [
       "Validation: |                                                                                                 …"
      ]
     },
     "metadata": {},
     "output_type": "display_data"
    },
    {
     "data": {
      "application/vnd.jupyter.widget-view+json": {
       "model_id": "12053ea43226488db05c090b3dcd552f",
       "version_major": 2,
       "version_minor": 0
      },
      "text/plain": [
       "Validation: |                                                                                                 …"
      ]
     },
     "metadata": {},
     "output_type": "display_data"
    },
    {
     "data": {
      "application/vnd.jupyter.widget-view+json": {
       "model_id": "9e3953d70e404fe3b8c4b1b50c0eb0d5",
       "version_major": 2,
       "version_minor": 0
      },
      "text/plain": [
       "Validation: |                                                                                                 …"
      ]
     },
     "metadata": {},
     "output_type": "display_data"
    },
    {
     "data": {
      "application/vnd.jupyter.widget-view+json": {
       "model_id": "56d155b42e184051a790a4803b1c7383",
       "version_major": 2,
       "version_minor": 0
      },
      "text/plain": [
       "Validation: |                                                                                                 …"
      ]
     },
     "metadata": {},
     "output_type": "display_data"
    },
    {
     "data": {
      "application/vnd.jupyter.widget-view+json": {
       "model_id": "80929a1847934723adc92f37dd3efcf1",
       "version_major": 2,
       "version_minor": 0
      },
      "text/plain": [
       "Validation: |                                                                                                 …"
      ]
     },
     "metadata": {},
     "output_type": "display_data"
    },
    {
     "data": {
      "application/vnd.jupyter.widget-view+json": {
       "model_id": "a6a1ff37848640d382d72b222895b563",
       "version_major": 2,
       "version_minor": 0
      },
      "text/plain": [
       "Validation: |                                                                                                 …"
      ]
     },
     "metadata": {},
     "output_type": "display_data"
    },
    {
     "data": {
      "application/vnd.jupyter.widget-view+json": {
       "model_id": "dcbf78544f1b49698c2a96797e0bc8b8",
       "version_major": 2,
       "version_minor": 0
      },
      "text/plain": [
       "Validation: |                                                                                                 …"
      ]
     },
     "metadata": {},
     "output_type": "display_data"
    },
    {
     "data": {
      "application/vnd.jupyter.widget-view+json": {
       "model_id": "995da99aff13478c835ac1a382ca3aa7",
       "version_major": 2,
       "version_minor": 0
      },
      "text/plain": [
       "Validation: |                                                                                                 …"
      ]
     },
     "metadata": {},
     "output_type": "display_data"
    },
    {
     "data": {
      "application/vnd.jupyter.widget-view+json": {
       "model_id": "3aa4f6ad9fac4ea2b0e45bb07328d312",
       "version_major": 2,
       "version_minor": 0
      },
      "text/plain": [
       "Validation: |                                                                                                 …"
      ]
     },
     "metadata": {},
     "output_type": "display_data"
    },
    {
     "data": {
      "application/vnd.jupyter.widget-view+json": {
       "model_id": "87d64179df1047b9a3b832313ceec76e",
       "version_major": 2,
       "version_minor": 0
      },
      "text/plain": [
       "Validation: |                                                                                                 …"
      ]
     },
     "metadata": {},
     "output_type": "display_data"
    },
    {
     "data": {
      "application/vnd.jupyter.widget-view+json": {
       "model_id": "3a1293a92fd1443b9087554d2d2f6a2e",
       "version_major": 2,
       "version_minor": 0
      },
      "text/plain": [
       "Validation: |                                                                                                 …"
      ]
     },
     "metadata": {},
     "output_type": "display_data"
    },
    {
     "data": {
      "application/vnd.jupyter.widget-view+json": {
       "model_id": "c21c538599b8468088ca993f7841ef3b",
       "version_major": 2,
       "version_minor": 0
      },
      "text/plain": [
       "Validation: |                                                                                                 …"
      ]
     },
     "metadata": {},
     "output_type": "display_data"
    },
    {
     "data": {
      "application/vnd.jupyter.widget-view+json": {
       "model_id": "173d371326404258adb2b821d27bdaf9",
       "version_major": 2,
       "version_minor": 0
      },
      "text/plain": [
       "Validation: |                                                                                                 …"
      ]
     },
     "metadata": {},
     "output_type": "display_data"
    },
    {
     "name": "stderr",
     "output_type": "stream",
     "text": [
      "`Trainer.fit` stopped: `max_epochs=100` reached.\n",
      "\u001b[32m2024-11-16 16:58:08.649\u001b[0m | \u001b[1mINFO    \u001b[0m | \u001b[36msrc.ranker.trainer\u001b[0m:\u001b[36mon_fit_end\u001b[0m:\u001b[36m171\u001b[0m - \u001b[1mLogging classification metrics...\u001b[0m\n",
      "\u001b[32m2024-11-16 16:58:26.753\u001b[0m | \u001b[1mINFO    \u001b[0m | \u001b[36m__main__\u001b[0m:\u001b[36m<module>\u001b[0m:\u001b[36m37\u001b[0m - \u001b[1mLogs available at /home/dvquys/frostmourne/recsys-mvp/notebooks/data/038-update-compare-metrics/logs/overfit/lightning_logs/version_5\u001b[0m\n"
     ]
    }
   ],
   "source": [
    "early_stopping = EarlyStopping(\n",
    "    monitor=\"val_loss\", patience=10, mode=\"min\", verbose=False\n",
    ")\n",
    "\n",
    "model = init_model(\n",
    "    n_users,\n",
    "    n_items,\n",
    "    args.embedding_dim,\n",
    "    args.item_sequence_ts_bucket_size,\n",
    "    args.bucket_embedding_dim,\n",
    "    item_feature_size,\n",
    "    dropout=0,\n",
    ")\n",
    "lit_model = LitRanker(\n",
    "    model,\n",
    "    learning_rate=args.learning_rate,\n",
    "    l2_reg=0.0,\n",
    "    log_dir=args.notebook_persist_dp,\n",
    "    accelerator=args.device,\n",
    ")\n",
    "\n",
    "log_dir = f\"{args.notebook_persist_dp}/logs/overfit\"\n",
    "\n",
    "# train model\n",
    "trainer = L.Trainer(\n",
    "    default_root_dir=log_dir,\n",
    "    accelerator=args.device if args.device else \"auto\",\n",
    "    max_epochs=100,\n",
    "    overfit_batches=1,\n",
    "    callbacks=[early_stopping],\n",
    ")\n",
    "trainer.fit(\n",
    "    model=lit_model,\n",
    "    train_dataloaders=train_loader,\n",
    "    val_dataloaders=train_loader,\n",
    ")\n",
    "logger.info(f\"Logs available at {trainer.log_dir}\")"
   ]
  },
  {
   "cell_type": "code",
   "execution_count": 19,
   "id": "b2cc9ae0-a993-4815-bebd-85cc51e68e65",
   "metadata": {},
   "outputs": [
    {
     "data": {
      "text/html": [
       "\n",
       "      <iframe id=\"tensorboard-frame-8831bdc34fb24928\" width=\"100%\" height=\"800\" frameborder=\"0\">\n",
       "      </iframe>\n",
       "      <script>\n",
       "        (function() {\n",
       "          const frame = document.getElementById(\"tensorboard-frame-8831bdc34fb24928\");\n",
       "          const url = new URL(\"/\", window.location);\n",
       "          const port = 6006;\n",
       "          if (port) {\n",
       "            url.port = port;\n",
       "          }\n",
       "          frame.src = url;\n",
       "        })();\n",
       "      </script>\n",
       "    "
      ],
      "text/plain": [
       "<IPython.core.display.HTML object>"
      ]
     },
     "metadata": {},
     "output_type": "display_data"
    }
   ],
   "source": [
    "%tensorboard --logdir $trainer.log_dir --host localhost"
   ]
  },
  {
   "cell_type": "markdown",
   "id": "65c7e4af-5c66-454e-9e2c-2ca134f4e1cf",
   "metadata": {},
   "source": [
    "##### Fit on all data"
   ]
  },
  {
   "cell_type": "code",
   "execution_count": 20,
   "id": "65d821e0-3255-4947-b720-81a2f83a4911",
   "metadata": {},
   "outputs": [
    {
     "name": "stderr",
     "output_type": "stream",
     "text": [
      "\u001b[32m2024-11-16 16:58:27.879\u001b[0m | \u001b[1mINFO    \u001b[0m | \u001b[36m__main__\u001b[0m:\u001b[36m<module>\u001b[0m:\u001b[36m4\u001b[0m - \u001b[1mMean std over categorical and numerical features: 0.9988587498664856\u001b[0m\n"
     ]
    }
   ],
   "source": [
    "all_items_df = train_df.drop_duplicates(subset=[\"item_indice\"])\n",
    "all_items_indices = all_items_df[\"item_indice\"].values\n",
    "all_items_features = item_metadata_pipeline.transform(all_items_df).astype(np.float32)\n",
    "logger.info(\n",
    "    f\"Mean std over categorical and numerical features: {all_items_features.std(axis=0).mean()}\"\n",
    ")\n",
    "if args.rc.use_sbert_features:\n",
    "    all_sbert_vectors = ann_index.get_vector_by_ids(all_items_indices.tolist()).astype(\n",
    "        np.float32\n",
    "    )\n",
    "    logger.info(f\"Mean std over text features: {all_sbert_vectors.std(axis=0).mean()}\")\n",
    "    all_items_features = np.hstack([all_items_features, all_sbert_vectors])"
   ]
  },
  {
   "cell_type": "code",
   "execution_count": 21,
   "id": "9b3e950d-008b-4564-845e-a68d3c96ef5d",
   "metadata": {
    "scrolled": true
   },
   "outputs": [],
   "source": [
    "# papermill_description=fit-model\n",
    "early_stopping = EarlyStopping(\n",
    "    monitor=\"val_loss\", patience=args.early_stopping_patience, mode=\"min\", verbose=False\n",
    ")\n",
    "\n",
    "checkpoint_callback = ModelCheckpoint(\n",
    "    dirpath=f\"{args.notebook_persist_dp}/checkpoints\",\n",
    "    filename=\"best-checkpoint\",\n",
    "    save_top_k=1,\n",
    "    monitor=\"val_loss\",\n",
    "    mode=\"min\",\n",
    ")\n",
    "\n",
    "model = init_model(\n",
    "    n_users,\n",
    "    n_items,\n",
    "    args.embedding_dim,\n",
    "    args.item_sequence_ts_bucket_size,\n",
    "    args.bucket_embedding_dim,\n",
    "    item_feature_size,\n",
    "    dropout=args.dropout,\n",
    "    item_embedding=pretrained_item_embedding,\n",
    ")\n",
    "lit_model = LitRanker(\n",
    "    model,\n",
    "    learning_rate=args.learning_rate,\n",
    "    l2_reg=args.l2_reg,\n",
    "    log_dir=args.notebook_persist_dp,\n",
    "    evaluate_ranking=True,\n",
    "    idm=idm,\n",
    "    all_items_indices=all_items_indices,\n",
    "    all_items_features=all_items_features,\n",
    "    args=args,\n",
    "    neg_to_pos_ratio=args.neg_to_pos_ratio,\n",
    "    checkpoint_callback=checkpoint_callback,\n",
    "    accelerator=args.device,\n",
    ")"
   ]
  },
  {
   "cell_type": "code",
   "execution_count": 22,
   "id": "2f9142d9-2c1c-47e0-890b-2104f6726ff0",
   "metadata": {
    "scrolled": true
   },
   "outputs": [
    {
     "name": "stderr",
     "output_type": "stream",
     "text": [
      "GPU available: True (cuda), used: True\n",
      "TPU available: False, using: 0 TPU cores\n",
      "HPU available: False, using: 0 HPUs\n",
      "/home/dvquys/frostmourne/recsys-mvp/.venv/lib/python3.11/site-packages/lightning/pytorch/callbacks/model_checkpoint.py:654: UserWarning:\n",
      "\n",
      "Checkpoint directory /home/dvquys/frostmourne/recsys-mvp/notebooks/data/038-update-compare-metrics/checkpoints exists and is not empty.\n",
      "\n",
      "LOCAL_RANK: 0 - CUDA_VISIBLE_DEVICES: [0]\n",
      "\n",
      "  | Name  | Type   | Params | Mode \n",
      "-----------------------------------------\n",
      "0 | model | Ranker | 3.3 M  | train\n",
      "-----------------------------------------\n",
      "3.3 M     Trainable params\n",
      "0         Non-trainable params\n",
      "3.3 M     Total params\n",
      "13.318    Total estimated model params size (MB)\n",
      "15        Modules in train mode\n",
      "0         Modules in eval mode\n"
     ]
    },
    {
     "data": {
      "application/vnd.jupyter.widget-view+json": {
       "model_id": "",
       "version_major": 2,
       "version_minor": 0
      },
      "text/plain": [
       "Sanity Checking: |                                                                                            …"
      ]
     },
     "metadata": {},
     "output_type": "display_data"
    },
    {
     "name": "stderr",
     "output_type": "stream",
     "text": [
      "/home/dvquys/frostmourne/recsys-mvp/.venv/lib/python3.11/site-packages/lightning/pytorch/trainer/connectors/data_connector.py:424: PossibleUserWarning:\n",
      "\n",
      "The 'val_dataloader' does not have many workers which may be a bottleneck. Consider increasing the value of the `num_workers` argument` to `num_workers=11` in the `DataLoader` to improve performance.\n",
      "\n",
      "/home/dvquys/frostmourne/recsys-mvp/.venv/lib/python3.11/site-packages/lightning/pytorch/trainer/connectors/data_connector.py:424: PossibleUserWarning:\n",
      "\n",
      "The 'train_dataloader' does not have many workers which may be a bottleneck. Consider increasing the value of the `num_workers` argument` to `num_workers=11` in the `DataLoader` to improve performance.\n",
      "\n"
     ]
    },
    {
     "data": {
      "application/vnd.jupyter.widget-view+json": {
       "model_id": "d710a13042ec4fe9b6e1daea88916334",
       "version_major": 2,
       "version_minor": 0
      },
      "text/plain": [
       "Training: |                                                                                                   …"
      ]
     },
     "metadata": {},
     "output_type": "display_data"
    },
    {
     "data": {
      "application/vnd.jupyter.widget-view+json": {
       "model_id": "",
       "version_major": 2,
       "version_minor": 0
      },
      "text/plain": [
       "Validation: |                                                                                                 …"
      ]
     },
     "metadata": {},
     "output_type": "display_data"
    },
    {
     "name": "stderr",
     "output_type": "stream",
     "text": [
      "`Trainer.fit` stopped: `max_epochs=1` reached.\n",
      "\u001b[32m2024-11-16 16:58:49.346\u001b[0m | \u001b[1mINFO    \u001b[0m | \u001b[36msrc.ranker.trainer\u001b[0m:\u001b[36mon_fit_end\u001b[0m:\u001b[36m164\u001b[0m - \u001b[1mLoading best model from /home/dvquys/frostmourne/recsys-mvp/notebooks/data/038-update-compare-metrics/checkpoints/best-checkpoint-v4.ckpt...\u001b[0m\n",
      "\u001b[32m2024-11-16 16:58:49.513\u001b[0m | \u001b[1mINFO    \u001b[0m | \u001b[36msrc.ranker.trainer\u001b[0m:\u001b[36mon_fit_end\u001b[0m:\u001b[36m171\u001b[0m - \u001b[1mLogging classification metrics...\u001b[0m\n",
      "\u001b[32m2024-11-16 16:58:50.407\u001b[0m | \u001b[1mINFO    \u001b[0m | \u001b[36msrc.ranker.trainer\u001b[0m:\u001b[36mon_fit_end\u001b[0m:\u001b[36m174\u001b[0m - \u001b[1mLogging ranking metrics...\u001b[0m\n"
     ]
    },
    {
     "data": {
      "application/vnd.jupyter.widget-view+json": {
       "model_id": "c5b9c976c100456ba2ace173b8d30eac",
       "version_major": 2,
       "version_minor": 0
      },
      "text/plain": [
       "Generating recommendations:   0%|          | 0/177 [00:00<?, ?it/s]"
      ]
     },
     "metadata": {},
     "output_type": "display_data"
    },
    {
     "name": "stderr",
     "output_type": "stream",
     "text": [
      "/home/dvquys/frostmourne/recsys-mvp/.venv/lib/python3.11/site-packages/evidently/metrics/recsys/f_beta_top_k.py:64: RuntimeWarning:\n",
      "\n",
      "invalid value encountered in divide\n",
      "\n",
      "2024/11/16 16:58:56 INFO mlflow.tracking._tracking_service.client: 🏃 View run 038-update-compare-metrics at: http://localhost:5002/#/experiments/3/runs/c18ad4e5fa9d47039119a9a66110ac43.\n",
      "2024/11/16 16:58:56 INFO mlflow.tracking._tracking_service.client: 🧪 View experiment at: http://localhost:5002/#/experiments/3.\n"
     ]
    }
   ],
   "source": [
    "log_dir = f\"{args.notebook_persist_dp}/logs/run\"\n",
    "\n",
    "# train model\n",
    "trainer = L.Trainer(\n",
    "    default_root_dir=log_dir,\n",
    "    max_epochs=args.max_epochs,\n",
    "    callbacks=[early_stopping, checkpoint_callback],\n",
    "    accelerator=args.device if args.device else \"auto\",\n",
    "    logger=args._mlf_logger if args.log_to_mlflow else None,\n",
    ")\n",
    "trainer.fit(\n",
    "    model=lit_model,\n",
    "    train_dataloaders=train_loader,\n",
    "    val_dataloaders=val_loader,\n",
    ")"
   ]
  },
  {
   "cell_type": "code",
   "execution_count": 23,
   "id": "af44bf35-e7c7-4718-97b8-238e89b7f3f0",
   "metadata": {
    "editable": true,
    "scrolled": true,
    "slideshow": {
     "slide_type": ""
    },
    "tags": []
   },
   "outputs": [
    {
     "name": "stderr",
     "output_type": "stream",
     "text": [
      "\u001b[32m2024-11-16 16:58:57.034\u001b[0m | \u001b[1mINFO    \u001b[0m | \u001b[36m__main__\u001b[0m:\u001b[36m<module>\u001b[0m:\u001b[36m1\u001b[0m - \u001b[1mTest predicting after training with user_id = AH6FNJPYDJ3MTVOUIHIZGL3GTKXA and parent_asin = B0C6BV5XQZ\u001b[0m\n"
     ]
    },
    {
     "data": {
      "text/plain": [
       "Ranker(\n",
       "  (item_embedding): Embedding(4631, 128, padding_idx=4630)\n",
       "  (user_embedding): Embedding(19578, 128)\n",
       "  (item_sequence_ts_bucket_embedding): Embedding(11, 16, padding_idx=10)\n",
       "  (gru): GRU(144, 128, batch_first=True)\n",
       "  (relu): ReLU()\n",
       "  (dropout): Dropout(p=0.3, inplace=False)\n",
       "  (item_feature_tower): Sequential(\n",
       "    (0): Linear(in_features=461, out_features=128, bias=True)\n",
       "    (1): BatchNorm1d(128, eps=1e-05, momentum=0.1, affine=True, track_running_stats=True)\n",
       "    (2): ReLU()\n",
       "    (3): Dropout(p=0.3, inplace=False)\n",
       "  )\n",
       "  (fc_rating): Sequential(\n",
       "    (0): Linear(in_features=512, out_features=128, bias=True)\n",
       "    (1): BatchNorm1d(128, eps=1e-05, momentum=0.1, affine=True, track_running_stats=True)\n",
       "    (2): ReLU()\n",
       "    (3): Dropout(p=0.3, inplace=False)\n",
       "    (4): Linear(in_features=128, out_features=1, bias=True)\n",
       "    (5): Sigmoid()\n",
       "  )\n",
       ")"
      ]
     },
     "execution_count": 23,
     "metadata": {},
     "output_type": "execute_result"
    }
   ],
   "source": [
    "logger.info(\n",
    "    f\"Test predicting after training with {args.user_col} = {user_id} and {args.item_col} = {item_id}\"\n",
    ")\n",
    "model.eval()\n",
    "model = model.to(user.device)  # Move model back to align with data device\n",
    "model.predict(user, item_sequence, item_sequence_ts_bucket, item_feature, item)\n",
    "model.train()"
   ]
  },
  {
   "cell_type": "markdown",
   "id": "f8e1dd22-bcb9-4582-96d0-30acc4e8b790",
   "metadata": {
    "editable": true,
    "slideshow": {
     "slide_type": ""
    },
    "tags": []
   },
   "source": [
    "# Load best checkpoint"
   ]
  },
  {
   "cell_type": "code",
   "execution_count": 24,
   "id": "092427a8-ac4e-4752-a0ee-10729b6e563c",
   "metadata": {
    "scrolled": true
   },
   "outputs": [
    {
     "name": "stderr",
     "output_type": "stream",
     "text": [
      "\u001b[32m2024-11-16 16:58:57.061\u001b[0m | \u001b[1mINFO    \u001b[0m | \u001b[36m__main__\u001b[0m:\u001b[36m<module>\u001b[0m:\u001b[36m1\u001b[0m - \u001b[1mLoading best checkpoint from /home/dvquys/frostmourne/recsys-mvp/notebooks/data/038-update-compare-metrics/checkpoints/best-checkpoint-v4.ckpt...\u001b[0m\n"
     ]
    }
   ],
   "source": [
    "logger.info(f\"Loading best checkpoint from {checkpoint_callback.best_model_path}...\")\n",
    "args.best_checkpoint_path = checkpoint_callback.best_model_path\n",
    "\n",
    "best_trainer = LitRanker.load_from_checkpoint(\n",
    "    checkpoint_callback.best_model_path,\n",
    "    model=init_model(\n",
    "        n_users,\n",
    "        n_items,\n",
    "        args.embedding_dim,\n",
    "        args.item_sequence_ts_bucket_size,\n",
    "        args.bucket_embedding_dim,\n",
    "        item_feature_size,\n",
    "        dropout=0,\n",
    "        item_embedding=pretrained_item_embedding,\n",
    "    ),\n",
    ")"
   ]
  },
  {
   "cell_type": "code",
   "execution_count": 25,
   "id": "e68989e7-cd28-4cb3-9a28-5bd477bb67c4",
   "metadata": {},
   "outputs": [],
   "source": [
    "best_model = best_trainer.model.to(lit_model.device)"
   ]
  },
  {
   "cell_type": "code",
   "execution_count": 26,
   "id": "72062d94-6ee8-480f-b7c6-9dcae2ceeb8b",
   "metadata": {
    "scrolled": true
   },
   "outputs": [
    {
     "data": {
      "text/plain": [
       "Ranker(\n",
       "  (item_embedding): Embedding(4631, 128, padding_idx=4630)\n",
       "  (user_embedding): Embedding(19578, 128)\n",
       "  (item_sequence_ts_bucket_embedding): Embedding(11, 16, padding_idx=10)\n",
       "  (gru): GRU(144, 128, batch_first=True)\n",
       "  (relu): ReLU()\n",
       "  (dropout): Dropout(p=0, inplace=False)\n",
       "  (item_feature_tower): Sequential(\n",
       "    (0): Linear(in_features=461, out_features=128, bias=True)\n",
       "    (1): BatchNorm1d(128, eps=1e-05, momentum=0.1, affine=True, track_running_stats=True)\n",
       "    (2): ReLU()\n",
       "    (3): Dropout(p=0, inplace=False)\n",
       "  )\n",
       "  (fc_rating): Sequential(\n",
       "    (0): Linear(in_features=512, out_features=128, bias=True)\n",
       "    (1): BatchNorm1d(128, eps=1e-05, momentum=0.1, affine=True, track_running_stats=True)\n",
       "    (2): ReLU()\n",
       "    (3): Dropout(p=0, inplace=False)\n",
       "    (4): Linear(in_features=128, out_features=1, bias=True)\n",
       "    (5): Sigmoid()\n",
       "  )\n",
       ")"
      ]
     },
     "execution_count": 26,
     "metadata": {},
     "output_type": "execute_result"
    }
   ],
   "source": [
    "best_model.eval()\n",
    "best_model.predict(user, item_sequence, item_sequence_ts_bucket, item_feature, item)\n",
    "best_model.train()"
   ]
  },
  {
   "cell_type": "markdown",
   "id": "26afc39d-5cbd-4ea4-9484-f6419b460bde",
   "metadata": {
    "scrolled": true
   },
   "source": [
    "### Persist artifacts"
   ]
  },
  {
   "cell_type": "code",
   "execution_count": 27,
   "id": "275bcb81-bf50-4757-9e63-5c7a317b276f",
   "metadata": {},
   "outputs": [],
   "source": [
    "if args.log_to_mlflow:\n",
    "    # Persist id_mapping so that at inference we can predict based on item_ids (string) instead of item_index\n",
    "    run_id = trainer.logger.run_id\n",
    "    mlf_client = trainer.logger.experiment\n",
    "    mlf_client.log_artifact(run_id, idm_fp)\n",
    "    # Persist item_feature_metadata pipeline\n",
    "    mlf_client.log_artifact(run_id, args.item_metadata_pipeline_fp)\n",
    "\n",
    "    # Persist model architecture\n",
    "    model_architecture_fp = f\"{args.notebook_persist_dp}/model_architecture.txt\"\n",
    "    with open(model_architecture_fp, \"w\") as f:\n",
    "        f.write(repr(model))\n",
    "    mlf_client.log_artifact(run_id, model_architecture_fp)"
   ]
  },
  {
   "cell_type": "markdown",
   "id": "73a53735-cada-4b16-b6ec-b958e20d8093",
   "metadata": {},
   "source": [
    "### Wrap inference function and register best checkpoint as MLflow model"
   ]
  },
  {
   "cell_type": "code",
   "execution_count": 28,
   "id": "fc1da4ca-1616-4f57-99fb-cb851c535a57",
   "metadata": {},
   "outputs": [],
   "source": [
    "inferrer = RankerInferenceWrapper(best_model)"
   ]
  },
  {
   "cell_type": "code",
   "execution_count": 29,
   "id": "f91c26a5-d86e-4d3a-b3a2-87e6a5e88427",
   "metadata": {},
   "outputs": [],
   "source": [
    "def generate_sample_item_features():\n",
    "    sample_row = train_df.iloc[0].fillna(0)\n",
    "    output = dict()\n",
    "    for col in args.rc.item_feature_cols:\n",
    "        v = sample_row[col]\n",
    "        if isinstance(v, np.ndarray):\n",
    "            v = \"__\".join(\n",
    "                sample_row[col].tolist()\n",
    "            )  # Workaround to avoid MLflow Got error: Per-column arrays must each be 1-dimensional\n",
    "        output[col] = [v]\n",
    "    return output"
   ]
  },
  {
   "cell_type": "code",
   "execution_count": 30,
   "id": "a21791a9-d5fc-4abe-bc3c-820aba9f0759",
   "metadata": {},
   "outputs": [
    {
     "data": {
      "text/plain": [
       "array([0.74452615], dtype=float32)"
      ]
     },
     "execution_count": 30,
     "metadata": {},
     "output_type": "execute_result"
    }
   ],
   "source": [
    "sample_input = {\n",
    "    args.user_col: [idm.get_user_id(0)],\n",
    "    \"item_sequence\": [\",\".join([idm.get_item_id(0), idm.get_item_id(1)])],\n",
    "    \"item_sequence_ts\": [\n",
    "        \"1095133116,109770848\"\n",
    "    ],  # Here we input unix timestamp seconds instead of timestamp bucket because we need to calculate the bucket\n",
    "    # **{col: [train_df.iloc[0].fillna(0)[col]] for col in args.item_feature_cols},\n",
    "    **generate_sample_item_features(),\n",
    "    args.item_col: [idm.get_item_id(0)],\n",
    "}\n",
    "sample_output = inferrer.infer([0], [[0, 1]], [[2, 0]], [train_item_features[0]], [0])\n",
    "sample_output"
   ]
  },
  {
   "cell_type": "code",
   "execution_count": 31,
   "id": "b24b5cf4-5e51-4641-bdfe-6ce289344bf6",
   "metadata": {},
   "outputs": [
    {
     "data": {
      "text/plain": [
       "{'user_id': ['AE225O22SA7DLBOGOEIFL7FT5VYQ'],\n",
       " 'item_sequence': ['0375869026,9625990674'],\n",
       " 'item_sequence_ts': ['1095133116,109770848'],\n",
       " 'main_category': ['Video Games'],\n",
       " 'categories': ['Video Games__Legacy Systems__PlayStation Systems__PlayStation 3__Accessories__Controllers'],\n",
       " 'price': ['49.99'],\n",
       " 'parent_asin_rating_cnt_365d': [76.0],\n",
       " 'parent_asin_rating_avg_prev_rating_365d': [4.592105263157895],\n",
       " 'parent_asin_rating_cnt_90d': [10.0],\n",
       " 'parent_asin_rating_avg_prev_rating_90d': [4.3],\n",
       " 'parent_asin_rating_cnt_30d': [3.0],\n",
       " 'parent_asin_rating_avg_prev_rating_30d': [5.0],\n",
       " 'parent_asin_rating_cnt_7d': [1.0],\n",
       " 'parent_asin_rating_avg_prev_rating_7d': [5.0],\n",
       " 'parent_asin': ['0375869026']}"
      ]
     },
     "execution_count": 31,
     "metadata": {},
     "output_type": "execute_result"
    }
   ],
   "source": [
    "sample_input"
   ]
  },
  {
   "cell_type": "code",
   "execution_count": 32,
   "id": "de2c043a-f777-4ade-ab80-cfa4d90aafa8",
   "metadata": {
    "scrolled": true
   },
   "outputs": [
    {
     "name": "stderr",
     "output_type": "stream",
     "text": [
      "/home/dvquys/frostmourne/recsys-mvp/.venv/lib/python3.11/site-packages/mlflow/models/utils.py:523: FutureWarning:\n",
      "\n",
      "Since MLflow 2.16.0, we no longer convert dictionary input example to pandas Dataframe, and directly save it as a json object. If the model expects a pandas DataFrame input instead, please pass the pandas DataFrame as input example directly.\n",
      "\n"
     ]
    },
    {
     "data": {
      "application/vnd.jupyter.widget-view+json": {
       "model_id": "8c079c6986a8417aa46284e09e40f8a1",
       "version_major": 2,
       "version_minor": 0
      },
      "text/plain": [
       "Downloading artifacts:   0%|          | 0/1 [00:00<?, ?it/s]"
      ]
     },
     "metadata": {},
     "output_type": "display_data"
    },
    {
     "data": {
      "application/vnd.jupyter.widget-view+json": {
       "model_id": "d450c166a8c44569a5cafe99ef3ba70f",
       "version_major": 2,
       "version_minor": 0
      },
      "text/plain": [
       "Downloading artifacts:   0%|          | 0/1 [00:00<?, ?it/s]"
      ]
     },
     "metadata": {},
     "output_type": "display_data"
    },
    {
     "name": "stderr",
     "output_type": "stream",
     "text": [
      "2024/11/16 16:58:59 WARNING mlflow.utils.requirements_utils: Failed to run predict on input_example, dependencies introduced in predict are not captured.\n",
      "ValueError(\"columns are missing: {'tags'}\")Traceback (most recent call last):\n",
      "\n",
      "\n",
      "  File \"/home/dvquys/frostmourne/recsys-mvp/.venv/lib/python3.11/site-packages/mlflow/utils/_capture_modules.py\", line 165, in load_model_and_predict\n",
      "    model.predict(input_example, params=params)\n",
      "\n",
      "\n",
      "  File \"/home/dvquys/frostmourne/recsys-mvp/.venv/lib/python3.11/site-packages/mlflow/pyfunc/model.py\", line 637, in predict\n",
      "    return self.python_model.predict(\n",
      "           ^^^^^^^^^^^^^^^^^^^^^^^^^^\n",
      "\n",
      "\n",
      "  File \"/home/dvquys/frostmourne/recsys-mvp/notebooks/../src/ranker/inference.py\", line 91, in predict\n",
      "    item_features = self.item_metadata_pipeline.transform(\n",
      "                    ^^^^^^^^^^^^^^^^^^^^^^^^^^^^^^^^^^^^^^\n",
      "\n",
      "\n",
      "  File \"/home/dvquys/frostmourne/recsys-mvp/.venv/lib/python3.11/site-packages/sklearn/pipeline.py\", line 903, in transform\n",
      "    Xt = transform.transform(Xt, **routed_params[name].transform)\n",
      "         ^^^^^^^^^^^^^^^^^^^^^^^^^^^^^^^^^^^^^^^^^^^^^^^^^^^^^^^^\n",
      "\n",
      "\n",
      "  File \"/home/dvquys/frostmourne/recsys-mvp/.venv/lib/python3.11/site-packages/sklearn/utils/_set_output.py\", line 316, in wrapped\n",
      "    data_to_wrap = f(self, X, *args, **kwargs)\n",
      "                   ^^^^^^^^^^^^^^^^^^^^^^^^^^^\n",
      "\n",
      "\n",
      "  File \"/home/dvquys/frostmourne/recsys-mvp/.venv/lib/python3.11/site-packages/sklearn/compose/_column_transformer.py\", line 1065, in transform\n",
      "    raise ValueError(f\"columns are missing: {diff}\")\n",
      "\n",
      "\n",
      "ValueError: columns are missing: {'tags'}\n",
      "Registered model 'ranker' already exists. Creating a new version of this model...\n",
      "2024/11/16 16:59:00 INFO mlflow.store.model_registry.abstract_store: Waiting up to 300 seconds for model version to finish creation. Model name: ranker, version 11\n",
      "Created version '11' of model 'ranker'.\n"
     ]
    },
    {
     "data": {
      "application/vnd.jupyter.widget-view+json": {
       "model_id": "e13944f00bd245a09f5ca9234b239da9",
       "version_major": 2,
       "version_minor": 0
      },
      "text/plain": [
       "Downloading artifacts:   0%|          | 0/9 [00:00<?, ?it/s]"
      ]
     },
     "metadata": {},
     "output_type": "display_data"
    },
    {
     "name": "stderr",
     "output_type": "stream",
     "text": [
      "2024/11/16 16:59:00 WARNING mlflow.models.model: Failed to validate serving input example {\n",
      "  \"inputs\": {\n",
      "    \"user_id\": [\n",
      "      \"AE225O22SA7DLBOGOEIFL7FT5VYQ\"\n",
      "    ],\n",
      "    \"item_sequence\": [\n",
      "      \"0375869026,9625990674\"\n",
      "    ],\n",
      "    \"item_sequence_ts\": [\n",
      "      \"1095133116,109770848\"\n",
      "    ],\n",
      "    \"main_category\": [\n",
      "      \"Video Games\"\n",
      "    ],\n",
      "    \"categories\": [\n",
      "      \"Video Games__Legacy Systems__PlayStation Systems__PlayStation 3__Accessories__Controllers\"\n",
      "    ],\n",
      "    \"price\": [\n",
      "      \"49.99\"\n",
      "    ],\n",
      "    \"parent_asin_rating_cnt_365d\": [\n",
      "      76.0\n",
      "    ],\n",
      "    \"parent_asin_rating_avg_prev_rating_365d\": [\n",
      "      4.592105263157895\n",
      "    ],\n",
      "    \"parent_asin_rating_cnt_90d\": [\n",
      "      10.0\n",
      "    ],\n",
      "    \"parent_asin_rating_avg_prev_rating_90d\": [\n",
      "      4.3\n",
      "    ],\n",
      "    \"parent_asin_rating_cnt_30d\": [\n",
      "      3.0\n",
      "    ],\n",
      "    \"parent_asin_rating_avg_prev_rating_30d\": [\n",
      "      5.0\n",
      "    ],\n",
      "    \"parent_asin_rating_cnt_7d\": [\n",
      "      1.0\n",
      "    ],\n",
      "    \"parent_asin_rating_avg_prev_rating_7d\": [\n",
      "      5.0\n",
      "    ],\n",
      "    \"parent_asin\": [\n",
      "      \"0375869026\"\n",
      "    ]\n",
      "  }\n",
      "}. Alternatively, you can avoid passing input example and pass model signature instead when logging the model. To ensure the input example is valid prior to serving, please try calling `mlflow.models.validate_serving_input` on the model uri and serving input example. A serving input example can be generated from model input example using `mlflow.models.convert_input_example_to_serving_input` function.\n",
      "Got error: columns are missing: {'tags'}\n",
      "2024/11/16 16:59:00 INFO mlflow.tracking._tracking_service.client: 🏃 View run 038-update-compare-metrics at: http://localhost:5002/#/experiments/3/runs/c18ad4e5fa9d47039119a9a66110ac43.\n",
      "2024/11/16 16:59:00 INFO mlflow.tracking._tracking_service.client: 🧪 View experiment at: http://localhost:5002/#/experiments/3.\n"
     ]
    }
   ],
   "source": [
    "if args.log_to_mlflow:\n",
    "    run_id = trainer.logger.run_id\n",
    "    sample_output_np = sample_output\n",
    "    signature = infer_signature(sample_input, sample_output_np)\n",
    "    idm_filename = idm_fp.split(\"/\")[-1]\n",
    "    item_metadata_pipeline_filename = args.item_metadata_pipeline_fp.split(\"/\")[-1]\n",
    "    with mlflow.start_run(run_id=run_id):\n",
    "        mlflow.pyfunc.log_model(\n",
    "            python_model=inferrer,\n",
    "            artifact_path=\"inferrer\",\n",
    "            artifacts={\n",
    "                # We log the id_mapping to the predict function so that it can accept item_id and automatically convert ot item_indice for PyTorch model to use\n",
    "                \"idm\": mlflow.get_artifact_uri(idm_filename),\n",
    "                \"item_metadata_pipeline\": mlflow.get_artifact_uri(\n",
    "                    item_metadata_pipeline_filename\n",
    "                ),\n",
    "            },\n",
    "            model_config={\"use_sbert_features\": args.rc.use_sbert_features},\n",
    "            signature=signature,\n",
    "            input_example=sample_input,\n",
    "            registered_model_name=args.mlf_model_name,\n",
    "        )"
   ]
  },
  {
   "cell_type": "markdown",
   "id": "f95d5150-9851-4e61-b1af-8e619abc9ea4",
   "metadata": {},
   "source": [
    "# Set the newly trained model as champion"
   ]
  },
  {
   "cell_type": "code",
   "execution_count": 38,
   "id": "d72c27d5-6f7c-401b-9322-7d428ab51240",
   "metadata": {},
   "outputs": [
    {
     "name": "stderr",
     "output_type": "stream",
     "text": [
      "\u001b[32m2024-11-16 17:04:43.306\u001b[0m | \u001b[1mINFO    \u001b[0m | \u001b[36m__main__\u001b[0m:\u001b[36m<module>\u001b[0m:\u001b[36m27\u001b[0m - \u001b[1mCurrent champion model has 0.8766 ROC-AUC. Setting it to the deploy baseline...\u001b[0m\n"
     ]
    },
    {
     "name": "stdout",
     "output_type": "stream",
     "text": [
      "Comparing metrics between new run and current champion:\n"
     ]
    },
    {
     "data": {
      "text/html": [
       "<style type=\"text/css\">\n",
       "#T_9cbef_row0_col3 {\n",
       "  width: 10em;\n",
       "  background: linear-gradient(90deg, transparent 81.7%, red 81.7%, red 95.6%, transparent 95.6%);\n",
       "}\n",
       "#T_9cbef_row1_col3 {\n",
       "  width: 10em;\n",
       "  background: linear-gradient(90deg, transparent 35.5%, red 35.5%, red 95.6%, transparent 95.6%);\n",
       "}\n",
       "#T_9cbef_row2_col3 {\n",
       "  width: 10em;\n",
       "  background: linear-gradient(90deg, transparent 4.3%, red 4.3%, red 95.6%, transparent 95.6%);\n",
       "}\n",
       "#T_9cbef_row3_col3 {\n",
       "  width: 10em;\n",
       "  background: linear-gradient(90deg, transparent 95.6%, green 95.6%, green 100.0%, transparent 100.0%);\n",
       "}\n",
       "#T_9cbef_row4_col3 {\n",
       "  width: 10em;\n",
       "  background: linear-gradient(90deg, red 95.6%, transparent 95.6%);\n",
       "}\n",
       "#T_9cbef_row5_col3 {\n",
       "  width: 10em;\n",
       "  background: linear-gradient(90deg, transparent 88.6%, red 88.6%, red 95.6%, transparent 95.6%);\n",
       "}\n",
       "#T_9cbef_row6_col3 {\n",
       "  width: 10em;\n",
       "  background: linear-gradient(90deg, transparent 4.2%, red 4.2%, red 95.6%, transparent 95.6%);\n",
       "}\n",
       "#T_9cbef_row7_col3 {\n",
       "  width: 10em;\n",
       "  background: linear-gradient(90deg, transparent 88.9%, red 88.9%, red 95.6%, transparent 95.6%);\n",
       "}\n",
       "#T_9cbef_row8_col3 {\n",
       "  width: 10em;\n",
       "  background: linear-gradient(90deg, transparent 5.3%, red 5.3%, red 95.6%, transparent 95.6%);\n",
       "}\n",
       "</style>\n",
       "<table id=\"T_9cbef\">\n",
       "  <thead>\n",
       "    <tr>\n",
       "      <th class=\"blank level0\" >&nbsp;</th>\n",
       "      <th id=\"T_9cbef_level0_col0\" class=\"col_heading level0 col0\" >curr</th>\n",
       "      <th id=\"T_9cbef_level0_col1\" class=\"col_heading level0 col1\" >new</th>\n",
       "      <th id=\"T_9cbef_level0_col2\" class=\"col_heading level0 col2\" >diff</th>\n",
       "      <th id=\"T_9cbef_level0_col3\" class=\"col_heading level0 col3\" >diff_perc</th>\n",
       "    </tr>\n",
       "    <tr>\n",
       "      <th class=\"index_name level0\" >metric</th>\n",
       "      <th class=\"blank col0\" >&nbsp;</th>\n",
       "      <th class=\"blank col1\" >&nbsp;</th>\n",
       "      <th class=\"blank col2\" >&nbsp;</th>\n",
       "      <th class=\"blank col3\" >&nbsp;</th>\n",
       "    </tr>\n",
       "  </thead>\n",
       "  <tbody>\n",
       "    <tr>\n",
       "      <th id=\"T_9cbef_level0_row0\" class=\"row_heading level0 row0\" >val_roc_auc</th>\n",
       "      <td id=\"T_9cbef_row0_col0\" class=\"data row0 col0\" >0.88</td>\n",
       "      <td id=\"T_9cbef_row0_col1\" class=\"data row0 col1\" >0.80</td>\n",
       "      <td id=\"T_9cbef_row0_col2\" class=\"data row0 col2\" >-0.08</td>\n",
       "      <td id=\"T_9cbef_row0_col3\" class=\"data row0 col3\" >-8.61%</td>\n",
       "    </tr>\n",
       "    <tr>\n",
       "      <th id=\"T_9cbef_level0_row1\" class=\"row_heading level0 row1\" >val_PersonalizationMetric</th>\n",
       "      <td id=\"T_9cbef_row1_col0\" class=\"data row1 col0\" >0.34</td>\n",
       "      <td id=\"T_9cbef_row1_col1\" class=\"data row1 col1\" >0.21</td>\n",
       "      <td id=\"T_9cbef_row1_col2\" class=\"data row1 col2\" >-0.13</td>\n",
       "      <td id=\"T_9cbef_row1_col3\" class=\"data row1 col3\" >-37.15%</td>\n",
       "    </tr>\n",
       "    <tr>\n",
       "      <th id=\"T_9cbef_level0_row2\" class=\"row_heading level0 row2\" >val_FBetaTopKMetric_at_k_as_step</th>\n",
       "      <td id=\"T_9cbef_row2_col0\" class=\"data row2 col0\" >0.01</td>\n",
       "      <td id=\"T_9cbef_row2_col1\" class=\"data row2 col1\" >0.00</td>\n",
       "      <td id=\"T_9cbef_row2_col2\" class=\"data row2 col2\" >-0.00</td>\n",
       "      <td id=\"T_9cbef_row2_col3\" class=\"data row2 col3\" >-56.46%</td>\n",
       "    </tr>\n",
       "    <tr>\n",
       "      <th id=\"T_9cbef_level0_row3\" class=\"row_heading level0 row3\" >val_loss</th>\n",
       "      <td id=\"T_9cbef_row3_col0\" class=\"data row3 col0\" >0.54</td>\n",
       "      <td id=\"T_9cbef_row3_col1\" class=\"data row3 col1\" >0.56</td>\n",
       "      <td id=\"T_9cbef_row3_col2\" class=\"data row3 col2\" >0.01</td>\n",
       "      <td id=\"T_9cbef_row3_col3\" class=\"data row3 col3\" >2.72%</td>\n",
       "    </tr>\n",
       "    <tr>\n",
       "      <th id=\"T_9cbef_level0_row4\" class=\"row_heading level0 row4\" >val_NDCGKMetric_at_k_as_step</th>\n",
       "      <td id=\"T_9cbef_row4_col0\" class=\"data row4 col0\" >0.01</td>\n",
       "      <td id=\"T_9cbef_row4_col1\" class=\"data row4 col1\" >0.00</td>\n",
       "      <td id=\"T_9cbef_row4_col2\" class=\"data row4 col2\" >-0.01</td>\n",
       "      <td id=\"T_9cbef_row4_col3\" class=\"data row4 col3\" >-59.11%</td>\n",
       "    </tr>\n",
       "    <tr>\n",
       "      <th id=\"T_9cbef_level0_row5\" class=\"row_heading level0 row5\" >val_precision_at_prob_as_threshold_step</th>\n",
       "      <td id=\"T_9cbef_row5_col0\" class=\"data row5 col0\" >96.90</td>\n",
       "      <td id=\"T_9cbef_row5_col1\" class=\"data row5 col1\" >92.70</td>\n",
       "      <td id=\"T_9cbef_row5_col2\" class=\"data row5 col2\" >-4.20</td>\n",
       "      <td id=\"T_9cbef_row5_col3\" class=\"data row5 col3\" >-4.33%</td>\n",
       "    </tr>\n",
       "    <tr>\n",
       "      <th id=\"T_9cbef_level0_row6\" class=\"row_heading level0 row6\" >val_PrecisionTopKMetric_at_k_as_step</th>\n",
       "      <td id=\"T_9cbef_row6_col0\" class=\"data row6 col0\" >0.00</td>\n",
       "      <td id=\"T_9cbef_row6_col1\" class=\"data row6 col1\" >0.00</td>\n",
       "      <td id=\"T_9cbef_row6_col2\" class=\"data row6 col2\" >-0.00</td>\n",
       "      <td id=\"T_9cbef_row6_col3\" class=\"data row6 col3\" >-56.52%</td>\n",
       "    </tr>\n",
       "    <tr>\n",
       "      <th id=\"T_9cbef_level0_row7\" class=\"row_heading level0 row7\" >val_recall_at_prob_as_threshold_step</th>\n",
       "      <td id=\"T_9cbef_row7_col0\" class=\"data row7 col0\" >9.70</td>\n",
       "      <td id=\"T_9cbef_row7_col1\" class=\"data row7 col1\" >9.30</td>\n",
       "      <td id=\"T_9cbef_row7_col2\" class=\"data row7 col2\" >-0.40</td>\n",
       "      <td id=\"T_9cbef_row7_col3\" class=\"data row7 col3\" >-4.12%</td>\n",
       "    </tr>\n",
       "    <tr>\n",
       "      <th id=\"T_9cbef_level0_row8\" class=\"row_heading level0 row8\" >val_RecallTopKMetric_at_k_as_step</th>\n",
       "      <td id=\"T_9cbef_row8_col0\" class=\"data row8 col0\" >0.17</td>\n",
       "      <td id=\"T_9cbef_row8_col1\" class=\"data row8 col1\" >0.07</td>\n",
       "      <td id=\"T_9cbef_row8_col2\" class=\"data row8 col2\" >-0.09</td>\n",
       "      <td id=\"T_9cbef_row8_col3\" class=\"data row8 col3\" >-55.81%</td>\n",
       "    </tr>\n",
       "  </tbody>\n",
       "</table>\n"
      ],
      "text/plain": [
       "<pandas.io.formats.style.Styler at 0x7a295f548310>"
      ]
     },
     "metadata": {},
     "output_type": "display_data"
    },
    {
     "data": {
      "application/vnd.plotly.v1+json": {
       "config": {
        "plotlyServerURL": "https://plot.ly"
       },
       "data": [
        {
         "marker": {
          "color": "#114B8F"
         },
         "name": "curr",
         "showlegend": true,
         "texttemplate": "%{y:.2}",
         "type": "bar",
         "x": [
          "val_roc_auc"
         ],
         "xaxis": "x",
         "y": [
          0.8766224644603023
         ],
         "yaxis": "y"
        },
        {
         "marker": {
          "color": "#248F11"
         },
         "name": "new",
         "showlegend": true,
         "texttemplate": "%{y:.2}",
         "type": "bar",
         "x": [
          "val_roc_auc"
         ],
         "xaxis": "x",
         "y": [
          0.801172194103587
         ],
         "yaxis": "y"
        },
        {
         "marker": {
          "color": "#114B8F"
         },
         "name": "curr",
         "showlegend": false,
         "texttemplate": "%{y:.2}",
         "type": "bar",
         "x": [
          "val_PersonalizationMetric"
         ],
         "xaxis": "x2",
         "y": [
          0.34079623458713904
         ],
         "yaxis": "y2"
        },
        {
         "marker": {
          "color": "#248F11"
         },
         "name": "new",
         "showlegend": false,
         "texttemplate": "%{y:.2}",
         "type": "bar",
         "x": [
          "val_PersonalizationMetric"
         ],
         "xaxis": "x2",
         "y": [
          0.2141766355812337
         ],
         "yaxis": "y2"
        },
        {
         "marker": {
          "color": "#114B8F"
         },
         "name": "curr",
         "showlegend": false,
         "texttemplate": "%{y:.2}",
         "type": "bar",
         "x": [
          "val_FBetaTopKMetric_at_k_as_step"
         ],
         "xaxis": "x3",
         "y": [
          0.0056720737582752765
         ],
         "yaxis": "y3"
        },
        {
         "marker": {
          "color": "#248F11"
         },
         "name": "new",
         "showlegend": false,
         "texttemplate": "%{y:.2}",
         "type": "bar",
         "x": [
          "val_FBetaTopKMetric_at_k_as_step"
         ],
         "xaxis": "x3",
         "y": [
          0.0024695306115197387
         ],
         "yaxis": "y3"
        },
        {
         "marker": {
          "color": "#114B8F"
         },
         "name": "curr",
         "showlegend": false,
         "texttemplate": "%{y:.2}",
         "type": "bar",
         "x": [
          "val_loss"
         ],
         "xaxis": "x4",
         "y": [
          0.5424774289131165
         ],
         "yaxis": "y4"
        },
        {
         "marker": {
          "color": "#248F11"
         },
         "name": "new",
         "showlegend": false,
         "texttemplate": "%{y:.2}",
         "type": "bar",
         "x": [
          "val_loss"
         ],
         "xaxis": "x4",
         "y": [
          0.557258665561676
         ],
         "yaxis": "y4"
        },
        {
         "marker": {
          "color": "#114B8F"
         },
         "name": "curr",
         "showlegend": false,
         "texttemplate": "%{y:.2}",
         "type": "bar",
         "x": [
          "val_NDCGKMetric_at_k_as_step"
         ],
         "xaxis": "x5",
         "y": [
          0.010636336151036735
         ],
         "yaxis": "y5"
        },
        {
         "marker": {
          "color": "#248F11"
         },
         "name": "new",
         "showlegend": false,
         "texttemplate": "%{y:.2}",
         "type": "bar",
         "x": [
          "val_NDCGKMetric_at_k_as_step"
         ],
         "xaxis": "x5",
         "y": [
          0.00434950546077993
         ],
         "yaxis": "y5"
        },
        {
         "marker": {
          "color": "#114B8F"
         },
         "name": "curr",
         "showlegend": false,
         "texttemplate": "%{y:.2}",
         "type": "bar",
         "x": [
          "val_precision_at_prob_as_threshold_step"
         ],
         "xaxis": "x6",
         "y": [
          96.9
         ],
         "yaxis": "y6"
        },
        {
         "marker": {
          "color": "#248F11"
         },
         "name": "new",
         "showlegend": false,
         "texttemplate": "%{y:.2}",
         "type": "bar",
         "x": [
          "val_precision_at_prob_as_threshold_step"
         ],
         "xaxis": "x6",
         "y": [
          92.7
         ],
         "yaxis": "y6"
        },
        {
         "marker": {
          "color": "#114B8F"
         },
         "name": "curr",
         "showlegend": false,
         "texttemplate": "%{y:.2}",
         "type": "bar",
         "x": [
          "val_PrecisionTopKMetric_at_k_as_step"
         ],
         "xaxis": "x7",
         "y": [
          0.0032485875706214687
         ],
         "yaxis": "y7"
        },
        {
         "marker": {
          "color": "#248F11"
         },
         "name": "new",
         "showlegend": false,
         "texttemplate": "%{y:.2}",
         "type": "bar",
         "x": [
          "val_PrecisionTopKMetric_at_k_as_step"
         ],
         "xaxis": "x7",
         "y": [
          0.0014124293785310734
         ],
         "yaxis": "y7"
        },
        {
         "marker": {
          "color": "#114B8F"
         },
         "name": "curr",
         "showlegend": false,
         "texttemplate": "%{y:.2}",
         "type": "bar",
         "x": [
          "val_recall_at_prob_as_threshold_step"
         ],
         "xaxis": "x8",
         "y": [
          9.7
         ],
         "yaxis": "y8"
        },
        {
         "marker": {
          "color": "#248F11"
         },
         "name": "new",
         "showlegend": false,
         "texttemplate": "%{y:.2}",
         "type": "bar",
         "x": [
          "val_recall_at_prob_as_threshold_step"
         ],
         "xaxis": "x8",
         "y": [
          9.3
         ],
         "yaxis": "y8"
        },
        {
         "marker": {
          "color": "#114B8F"
         },
         "name": "curr",
         "showlegend": false,
         "texttemplate": "%{y:.2}",
         "type": "bar",
         "x": [
          "val_RecallTopKMetric_at_k_as_step"
         ],
         "xaxis": "x9",
         "y": [
          0.16572672854452514
         ],
         "yaxis": "y9"
        },
        {
         "marker": {
          "color": "#248F11"
         },
         "name": "new",
         "showlegend": false,
         "texttemplate": "%{y:.2}",
         "type": "bar",
         "x": [
          "val_RecallTopKMetric_at_k_as_step"
         ],
         "xaxis": "x9",
         "y": [
          0.0732355842525334
         ],
         "yaxis": "y9"
        }
       ],
       "layout": {
        "annotations": [
         {
          "font": {
           "color": "black",
           "size": 14
          },
          "showarrow": false,
          "text": "Δ=-8.61%",
          "x": "val_roc_auc",
          "xref": "x",
          "y": 0.9642847109063326,
          "yref": "y"
         },
         {
          "font": {
           "color": "black",
           "size": 14
          },
          "showarrow": false,
          "text": "Δ=-37.15%",
          "x": "val_PersonalizationMetric",
          "xref": "x2",
          "y": 0.374875858045853,
          "yref": "y2"
         },
         {
          "font": {
           "color": "black",
           "size": 14
          },
          "showarrow": false,
          "text": "Δ=-56.46%",
          "x": "val_FBetaTopKMetric_at_k_as_step",
          "xref": "x3",
          "y": 0.0062392811341028045,
          "yref": "y3"
         },
         {
          "font": {
           "color": "black",
           "size": 14
          },
          "showarrow": false,
          "text": "Δ=2.72%",
          "x": "val_loss",
          "xref": "x4",
          "y": 0.5967251718044282,
          "yref": "y4"
         },
         {
          "font": {
           "color": "black",
           "size": 14
          },
          "showarrow": false,
          "text": "Δ=-59.11%",
          "x": "val_NDCGKMetric_at_k_as_step",
          "xref": "x5",
          "y": 0.011699969766140409,
          "yref": "y5"
         },
         {
          "font": {
           "color": "black",
           "size": 14
          },
          "showarrow": false,
          "text": "Δ=-4.33%",
          "x": "val_precision_at_prob_as_threshold_step",
          "xref": "x6",
          "y": 106.59000000000002,
          "yref": "y6"
         },
         {
          "font": {
           "color": "black",
           "size": 14
          },
          "showarrow": false,
          "text": "Δ=-56.52%",
          "x": "val_PrecisionTopKMetric_at_k_as_step",
          "xref": "x7",
          "y": 0.003573446327683616,
          "yref": "y7"
         },
         {
          "font": {
           "color": "black",
           "size": 14
          },
          "showarrow": false,
          "text": "Δ=-4.12%",
          "x": "val_recall_at_prob_as_threshold_step",
          "xref": "x8",
          "y": 10.67,
          "yref": "y8"
         },
         {
          "font": {
           "color": "black",
           "size": 14
          },
          "showarrow": false,
          "text": "Δ=-55.81%",
          "x": "val_RecallTopKMetric_at_k_as_step",
          "xref": "x9",
          "y": 0.18229940139897766,
          "yref": "y9"
         }
        ],
        "autosize": true,
        "bargap": 0.5,
        "bargroupgap": 0.3,
        "showlegend": true,
        "template": {
         "layout": {
          "colorway": [
           "#114B8F",
           "#248F11",
           "#8F6211",
           "#8F116C",
           "#1A293A"
          ],
          "font": {
           "family": "Inter Variable, Inter"
          },
          "showlegend": false,
          "template": {
           "data": {
            "bar": [
             {
              "error_x": {
               "color": "rgb(36,36,36)"
              },
              "error_y": {
               "color": "rgb(36,36,36)"
              },
              "marker": {
               "line": {
                "color": "white",
                "width": 0.5
               },
               "pattern": {
                "fillmode": "overlay",
                "size": 10,
                "solidity": 0.2
               }
              },
              "type": "bar"
             }
            ],
            "barpolar": [
             {
              "marker": {
               "line": {
                "color": "white",
                "width": 0.5
               },
               "pattern": {
                "fillmode": "overlay",
                "size": 10,
                "solidity": 0.2
               }
              },
              "type": "barpolar"
             }
            ],
            "carpet": [
             {
              "aaxis": {
               "endlinecolor": "rgb(36,36,36)",
               "gridcolor": "white",
               "linecolor": "white",
               "minorgridcolor": "white",
               "startlinecolor": "rgb(36,36,36)"
              },
              "baxis": {
               "endlinecolor": "rgb(36,36,36)",
               "gridcolor": "white",
               "linecolor": "white",
               "minorgridcolor": "white",
               "startlinecolor": "rgb(36,36,36)"
              },
              "type": "carpet"
             }
            ],
            "choropleth": [
             {
              "colorbar": {
               "outlinewidth": 1,
               "tickcolor": "rgb(36,36,36)",
               "ticks": "outside"
              },
              "type": "choropleth"
             }
            ],
            "contour": [
             {
              "colorbar": {
               "outlinewidth": 1,
               "tickcolor": "rgb(36,36,36)",
               "ticks": "outside"
              },
              "colorscale": [
               [
                0,
                "#440154"
               ],
               [
                0.1111111111111111,
                "#482878"
               ],
               [
                0.2222222222222222,
                "#3e4989"
               ],
               [
                0.3333333333333333,
                "#31688e"
               ],
               [
                0.4444444444444444,
                "#26828e"
               ],
               [
                0.5555555555555556,
                "#1f9e89"
               ],
               [
                0.6666666666666666,
                "#35b779"
               ],
               [
                0.7777777777777778,
                "#6ece58"
               ],
               [
                0.8888888888888888,
                "#b5de2b"
               ],
               [
                1,
                "#fde725"
               ]
              ],
              "type": "contour"
             }
            ],
            "contourcarpet": [
             {
              "colorbar": {
               "outlinewidth": 1,
               "tickcolor": "rgb(36,36,36)",
               "ticks": "outside"
              },
              "type": "contourcarpet"
             }
            ],
            "heatmap": [
             {
              "colorbar": {
               "outlinewidth": 1,
               "tickcolor": "rgb(36,36,36)",
               "ticks": "outside"
              },
              "colorscale": [
               [
                0,
                "#440154"
               ],
               [
                0.1111111111111111,
                "#482878"
               ],
               [
                0.2222222222222222,
                "#3e4989"
               ],
               [
                0.3333333333333333,
                "#31688e"
               ],
               [
                0.4444444444444444,
                "#26828e"
               ],
               [
                0.5555555555555556,
                "#1f9e89"
               ],
               [
                0.6666666666666666,
                "#35b779"
               ],
               [
                0.7777777777777778,
                "#6ece58"
               ],
               [
                0.8888888888888888,
                "#b5de2b"
               ],
               [
                1,
                "#fde725"
               ]
              ],
              "type": "heatmap"
             }
            ],
            "heatmapgl": [
             {
              "colorbar": {
               "outlinewidth": 1,
               "tickcolor": "rgb(36,36,36)",
               "ticks": "outside"
              },
              "colorscale": [
               [
                0,
                "#440154"
               ],
               [
                0.1111111111111111,
                "#482878"
               ],
               [
                0.2222222222222222,
                "#3e4989"
               ],
               [
                0.3333333333333333,
                "#31688e"
               ],
               [
                0.4444444444444444,
                "#26828e"
               ],
               [
                0.5555555555555556,
                "#1f9e89"
               ],
               [
                0.6666666666666666,
                "#35b779"
               ],
               [
                0.7777777777777778,
                "#6ece58"
               ],
               [
                0.8888888888888888,
                "#b5de2b"
               ],
               [
                1,
                "#fde725"
               ]
              ],
              "type": "heatmapgl"
             }
            ],
            "histogram": [
             {
              "marker": {
               "line": {
                "color": "white",
                "width": 0.6
               }
              },
              "type": "histogram"
             }
            ],
            "histogram2d": [
             {
              "colorbar": {
               "outlinewidth": 1,
               "tickcolor": "rgb(36,36,36)",
               "ticks": "outside"
              },
              "colorscale": [
               [
                0,
                "#440154"
               ],
               [
                0.1111111111111111,
                "#482878"
               ],
               [
                0.2222222222222222,
                "#3e4989"
               ],
               [
                0.3333333333333333,
                "#31688e"
               ],
               [
                0.4444444444444444,
                "#26828e"
               ],
               [
                0.5555555555555556,
                "#1f9e89"
               ],
               [
                0.6666666666666666,
                "#35b779"
               ],
               [
                0.7777777777777778,
                "#6ece58"
               ],
               [
                0.8888888888888888,
                "#b5de2b"
               ],
               [
                1,
                "#fde725"
               ]
              ],
              "type": "histogram2d"
             }
            ],
            "histogram2dcontour": [
             {
              "colorbar": {
               "outlinewidth": 1,
               "tickcolor": "rgb(36,36,36)",
               "ticks": "outside"
              },
              "colorscale": [
               [
                0,
                "#440154"
               ],
               [
                0.1111111111111111,
                "#482878"
               ],
               [
                0.2222222222222222,
                "#3e4989"
               ],
               [
                0.3333333333333333,
                "#31688e"
               ],
               [
                0.4444444444444444,
                "#26828e"
               ],
               [
                0.5555555555555556,
                "#1f9e89"
               ],
               [
                0.6666666666666666,
                "#35b779"
               ],
               [
                0.7777777777777778,
                "#6ece58"
               ],
               [
                0.8888888888888888,
                "#b5de2b"
               ],
               [
                1,
                "#fde725"
               ]
              ],
              "type": "histogram2dcontour"
             }
            ],
            "mesh3d": [
             {
              "colorbar": {
               "outlinewidth": 1,
               "tickcolor": "rgb(36,36,36)",
               "ticks": "outside"
              },
              "type": "mesh3d"
             }
            ],
            "parcoords": [
             {
              "line": {
               "colorbar": {
                "outlinewidth": 1,
                "tickcolor": "rgb(36,36,36)",
                "ticks": "outside"
               }
              },
              "type": "parcoords"
             }
            ],
            "pie": [
             {
              "automargin": true,
              "type": "pie"
             }
            ],
            "scatter": [
             {
              "fillpattern": {
               "fillmode": "overlay",
               "size": 10,
               "solidity": 0.2
              },
              "type": "scatter"
             }
            ],
            "scatter3d": [
             {
              "line": {
               "colorbar": {
                "outlinewidth": 1,
                "tickcolor": "rgb(36,36,36)",
                "ticks": "outside"
               }
              },
              "marker": {
               "colorbar": {
                "outlinewidth": 1,
                "tickcolor": "rgb(36,36,36)",
                "ticks": "outside"
               }
              },
              "type": "scatter3d"
             }
            ],
            "scattercarpet": [
             {
              "marker": {
               "colorbar": {
                "outlinewidth": 1,
                "tickcolor": "rgb(36,36,36)",
                "ticks": "outside"
               }
              },
              "type": "scattercarpet"
             }
            ],
            "scattergeo": [
             {
              "marker": {
               "colorbar": {
                "outlinewidth": 1,
                "tickcolor": "rgb(36,36,36)",
                "ticks": "outside"
               }
              },
              "type": "scattergeo"
             }
            ],
            "scattergl": [
             {
              "marker": {
               "colorbar": {
                "outlinewidth": 1,
                "tickcolor": "rgb(36,36,36)",
                "ticks": "outside"
               }
              },
              "type": "scattergl"
             }
            ],
            "scattermapbox": [
             {
              "marker": {
               "colorbar": {
                "outlinewidth": 1,
                "tickcolor": "rgb(36,36,36)",
                "ticks": "outside"
               }
              },
              "type": "scattermapbox"
             }
            ],
            "scatterpolar": [
             {
              "marker": {
               "colorbar": {
                "outlinewidth": 1,
                "tickcolor": "rgb(36,36,36)",
                "ticks": "outside"
               }
              },
              "type": "scatterpolar"
             }
            ],
            "scatterpolargl": [
             {
              "marker": {
               "colorbar": {
                "outlinewidth": 1,
                "tickcolor": "rgb(36,36,36)",
                "ticks": "outside"
               }
              },
              "type": "scatterpolargl"
             }
            ],
            "scatterternary": [
             {
              "marker": {
               "colorbar": {
                "outlinewidth": 1,
                "tickcolor": "rgb(36,36,36)",
                "ticks": "outside"
               }
              },
              "type": "scatterternary"
             }
            ],
            "surface": [
             {
              "colorbar": {
               "outlinewidth": 1,
               "tickcolor": "rgb(36,36,36)",
               "ticks": "outside"
              },
              "colorscale": [
               [
                0,
                "#440154"
               ],
               [
                0.1111111111111111,
                "#482878"
               ],
               [
                0.2222222222222222,
                "#3e4989"
               ],
               [
                0.3333333333333333,
                "#31688e"
               ],
               [
                0.4444444444444444,
                "#26828e"
               ],
               [
                0.5555555555555556,
                "#1f9e89"
               ],
               [
                0.6666666666666666,
                "#35b779"
               ],
               [
                0.7777777777777778,
                "#6ece58"
               ],
               [
                0.8888888888888888,
                "#b5de2b"
               ],
               [
                1,
                "#fde725"
               ]
              ],
              "type": "surface"
             }
            ],
            "table": [
             {
              "cells": {
               "fill": {
                "color": "rgb(237,237,237)"
               },
               "line": {
                "color": "white"
               }
              },
              "header": {
               "fill": {
                "color": "rgb(217,217,217)"
               },
               "line": {
                "color": "white"
               }
              },
              "type": "table"
             }
            ]
           },
           "layout": {
            "annotationdefaults": {
             "arrowhead": 0,
             "arrowwidth": 1
            },
            "autotypenumbers": "strict",
            "coloraxis": {
             "colorbar": {
              "outlinewidth": 1,
              "tickcolor": "rgb(36,36,36)",
              "ticks": "outside"
             }
            },
            "colorscale": {
             "diverging": [
              [
               0,
               "rgb(103,0,31)"
              ],
              [
               0.1,
               "rgb(178,24,43)"
              ],
              [
               0.2,
               "rgb(214,96,77)"
              ],
              [
               0.3,
               "rgb(244,165,130)"
              ],
              [
               0.4,
               "rgb(253,219,199)"
              ],
              [
               0.5,
               "rgb(247,247,247)"
              ],
              [
               0.6,
               "rgb(209,229,240)"
              ],
              [
               0.7,
               "rgb(146,197,222)"
              ],
              [
               0.8,
               "rgb(67,147,195)"
              ],
              [
               0.9,
               "rgb(33,102,172)"
              ],
              [
               1,
               "rgb(5,48,97)"
              ]
             ],
             "sequential": [
              [
               0,
               "#440154"
              ],
              [
               0.1111111111111111,
               "#482878"
              ],
              [
               0.2222222222222222,
               "#3e4989"
              ],
              [
               0.3333333333333333,
               "#31688e"
              ],
              [
               0.4444444444444444,
               "#26828e"
              ],
              [
               0.5555555555555556,
               "#1f9e89"
              ],
              [
               0.6666666666666666,
               "#35b779"
              ],
              [
               0.7777777777777778,
               "#6ece58"
              ],
              [
               0.8888888888888888,
               "#b5de2b"
              ],
              [
               1,
               "#fde725"
              ]
             ],
             "sequentialminus": [
              [
               0,
               "#440154"
              ],
              [
               0.1111111111111111,
               "#482878"
              ],
              [
               0.2222222222222222,
               "#3e4989"
              ],
              [
               0.3333333333333333,
               "#31688e"
              ],
              [
               0.4444444444444444,
               "#26828e"
              ],
              [
               0.5555555555555556,
               "#1f9e89"
              ],
              [
               0.6666666666666666,
               "#35b779"
              ],
              [
               0.7777777777777778,
               "#6ece58"
              ],
              [
               0.8888888888888888,
               "#b5de2b"
              ],
              [
               1,
               "#fde725"
              ]
             ]
            },
            "colorway": [
             "#1F77B4",
             "#FF7F0E",
             "#2CA02C",
             "#D62728",
             "#9467BD",
             "#8C564B",
             "#E377C2",
             "#7F7F7F",
             "#BCBD22",
             "#17BECF"
            ],
            "font": {
             "color": "rgb(36,36,36)"
            },
            "geo": {
             "bgcolor": "white",
             "lakecolor": "white",
             "landcolor": "white",
             "showlakes": true,
             "showland": true,
             "subunitcolor": "white"
            },
            "hoverlabel": {
             "align": "left"
            },
            "hovermode": "closest",
            "mapbox": {
             "style": "light"
            },
            "paper_bgcolor": "white",
            "plot_bgcolor": "white",
            "polar": {
             "angularaxis": {
              "gridcolor": "rgb(232,232,232)",
              "linecolor": "rgb(36,36,36)",
              "showgrid": false,
              "showline": true,
              "ticks": "outside"
             },
             "bgcolor": "white",
             "radialaxis": {
              "gridcolor": "rgb(232,232,232)",
              "linecolor": "rgb(36,36,36)",
              "showgrid": false,
              "showline": true,
              "ticks": "outside"
             }
            },
            "scene": {
             "xaxis": {
              "backgroundcolor": "white",
              "gridcolor": "rgb(232,232,232)",
              "gridwidth": 2,
              "linecolor": "rgb(36,36,36)",
              "showbackground": true,
              "showgrid": false,
              "showline": true,
              "ticks": "outside",
              "zeroline": false,
              "zerolinecolor": "rgb(36,36,36)"
             },
             "yaxis": {
              "backgroundcolor": "white",
              "gridcolor": "rgb(232,232,232)",
              "gridwidth": 2,
              "linecolor": "rgb(36,36,36)",
              "showbackground": true,
              "showgrid": false,
              "showline": true,
              "ticks": "outside",
              "zeroline": false,
              "zerolinecolor": "rgb(36,36,36)"
             },
             "zaxis": {
              "backgroundcolor": "white",
              "gridcolor": "rgb(232,232,232)",
              "gridwidth": 2,
              "linecolor": "rgb(36,36,36)",
              "showbackground": true,
              "showgrid": false,
              "showline": true,
              "ticks": "outside",
              "zeroline": false,
              "zerolinecolor": "rgb(36,36,36)"
             }
            },
            "shapedefaults": {
             "fillcolor": "black",
             "line": {
              "width": 0
             },
             "opacity": 0.3
            },
            "ternary": {
             "aaxis": {
              "gridcolor": "rgb(232,232,232)",
              "linecolor": "rgb(36,36,36)",
              "showgrid": false,
              "showline": true,
              "ticks": "outside"
             },
             "baxis": {
              "gridcolor": "rgb(232,232,232)",
              "linecolor": "rgb(36,36,36)",
              "showgrid": false,
              "showline": true,
              "ticks": "outside"
             },
             "bgcolor": "white",
             "caxis": {
              "gridcolor": "rgb(232,232,232)",
              "linecolor": "rgb(36,36,36)",
              "showgrid": false,
              "showline": true,
              "ticks": "outside"
             }
            },
            "title": {
             "x": 0.05
            },
            "xaxis": {
             "automargin": true,
             "gridcolor": "rgb(232,232,232)",
             "linecolor": "rgb(36,36,36)",
             "showgrid": false,
             "showline": true,
             "ticks": "outside",
             "title": {
              "standoff": 15
             },
             "zeroline": false,
             "zerolinecolor": "rgb(36,36,36)"
            },
            "yaxis": {
             "automargin": true,
             "gridcolor": "rgb(232,232,232)",
             "linecolor": "rgb(36,36,36)",
             "showgrid": false,
             "showline": true,
             "ticks": "outside",
             "title": {
              "standoff": 15
             },
             "zeroline": false,
             "zerolinecolor": "rgb(36,36,36)"
            }
           }
          },
          "title": {
           "font": {
            "family": "Inter Variable, Inter Tight, Inter",
            "weight": "bold"
           }
          },
          "xaxis": {
           "showgrid": false
          },
          "yaxis": {
           "showgrid": false
          }
         }
        },
        "title": {
         "text": "Metric Comparisons"
        },
        "xaxis": {
         "anchor": "y",
         "autorange": true,
         "domain": [
          0,
          0.16799999999999998
         ],
         "range": [
          -0.5,
          0.5
         ],
         "type": "category"
        },
        "xaxis10": {
         "anchor": "y10",
         "domain": [
          0.832,
          1
         ]
        },
        "xaxis2": {
         "anchor": "y2",
         "autorange": true,
         "domain": [
          0.208,
          0.376
         ],
         "range": [
          -0.5,
          0.5
         ],
         "type": "category"
        },
        "xaxis3": {
         "anchor": "y3",
         "autorange": true,
         "domain": [
          0.416,
          0.584
         ],
         "range": [
          -0.5,
          0.5
         ],
         "type": "category"
        },
        "xaxis4": {
         "anchor": "y4",
         "autorange": true,
         "domain": [
          0.624,
          0.792
         ],
         "range": [
          -0.5,
          0.5
         ],
         "type": "category"
        },
        "xaxis5": {
         "anchor": "y5",
         "autorange": true,
         "domain": [
          0.832,
          1
         ],
         "range": [
          -0.5,
          0.5
         ],
         "type": "category"
        },
        "xaxis6": {
         "anchor": "y6",
         "autorange": true,
         "domain": [
          0,
          0.16799999999999998
         ],
         "range": [
          -0.5,
          0.5
         ],
         "type": "category"
        },
        "xaxis7": {
         "anchor": "y7",
         "autorange": true,
         "domain": [
          0.208,
          0.376
         ],
         "range": [
          -0.5,
          0.5
         ],
         "type": "category"
        },
        "xaxis8": {
         "anchor": "y8",
         "autorange": true,
         "domain": [
          0.416,
          0.584
         ],
         "range": [
          -0.5,
          0.5
         ],
         "type": "category"
        },
        "xaxis9": {
         "anchor": "y9",
         "autorange": true,
         "domain": [
          0.624,
          0.792
         ],
         "range": [
          -0.5,
          0.5
         ],
         "type": "category"
        },
        "yaxis": {
         "anchor": "x",
         "autorange": true,
         "domain": [
          0.575,
          1
         ],
         "range": [
          0,
          1.004304432109955
         ],
         "type": "linear",
         "visible": false
        },
        "yaxis10": {
         "anchor": "x10",
         "domain": [
          0,
          0.425
         ],
         "visible": false
        },
        "yaxis2": {
         "anchor": "x2",
         "autorange": true,
         "domain": [
          0.575,
          1
         ],
         "range": [
          0,
          0.39043394701613543
         ],
         "type": "linear",
         "visible": false
        },
        "yaxis3": {
         "anchor": "x3",
         "autorange": true,
         "domain": [
          0.575,
          1
         ],
         "range": [
          0,
          0.006498223631763197
         ],
         "type": "linear",
         "visible": false
        },
        "yaxis4": {
         "anchor": "x4",
         "autorange": true,
         "domain": [
          0.575,
          1
         ],
         "range": [
          0,
          0.6214904457330704
         ],
         "type": "linear",
         "visible": false
        },
        "yaxis5": {
         "anchor": "x5",
         "autorange": true,
         "domain": [
          0.575,
          1
         ],
         "range": [
          0,
          0.01218554163390513
         ],
         "type": "linear",
         "visible": false
        },
        "yaxis6": {
         "anchor": "x6",
         "autorange": true,
         "domain": [
          0,
          0.425
         ],
         "range": [
          0,
          111.01369565217394
         ],
         "type": "linear",
         "visible": false
        },
        "yaxis7": {
         "anchor": "x7",
         "autorange": true,
         "domain": [
          0,
          0.425
         ],
         "range": [
          0,
          0.0037217514124293785
         ],
         "type": "linear",
         "visible": false
        },
        "yaxis8": {
         "anchor": "x8",
         "autorange": true,
         "domain": [
          0,
          0.425
         ],
         "range": [
          0,
          11.112826086956522
         ],
         "type": "linear",
         "visible": false
        },
        "yaxis9": {
         "anchor": "x9",
         "autorange": true,
         "domain": [
          0,
          0.425
         ],
         "range": [
          0,
          0.18986518683253206
         ],
         "type": "linear",
         "visible": false
        }
       }
      },
      "image/png": "[encoded data removed]",
      "text/html": [
       "<div>                            <div id=\"6b7b1208-a7a9-41b3-a904-adf4133c305f\" class=\"plotly-graph-div\" style=\"height:800px; width:100%;\"></div>            <script type=\"text/javascript\">                require([\"plotly\"], function(Plotly) {                    window.PLOTLYENV=window.PLOTLYENV || {};                                    if (document.getElementById(\"6b7b1208-a7a9-41b3-a904-adf4133c305f\")) {                    Plotly.newPlot(                        \"6b7b1208-a7a9-41b3-a904-adf4133c305f\",                        [{\"marker\":{\"color\":\"#114B8F\"},\"name\":\"curr\",\"showlegend\":true,\"texttemplate\":\"%{y:.2}\",\"x\":[\"val_roc_auc\"],\"y\":[0.8766224644603023],\"type\":\"bar\",\"xaxis\":\"x\",\"yaxis\":\"y\"},{\"marker\":{\"color\":\"#248F11\"},\"name\":\"new\",\"showlegend\":true,\"texttemplate\":\"%{y:.2}\",\"x\":[\"val_roc_auc\"],\"y\":[0.801172194103587],\"type\":\"bar\",\"xaxis\":\"x\",\"yaxis\":\"y\"},{\"marker\":{\"color\":\"#114B8F\"},\"name\":\"curr\",\"showlegend\":false,\"texttemplate\":\"%{y:.2}\",\"x\":[\"val_PersonalizationMetric\"],\"y\":[0.34079623458713904],\"type\":\"bar\",\"xaxis\":\"x2\",\"yaxis\":\"y2\"},{\"marker\":{\"color\":\"#248F11\"},\"name\":\"new\",\"showlegend\":false,\"texttemplate\":\"%{y:.2}\",\"x\":[\"val_PersonalizationMetric\"],\"y\":[0.2141766355812337],\"type\":\"bar\",\"xaxis\":\"x2\",\"yaxis\":\"y2\"},{\"marker\":{\"color\":\"#114B8F\"},\"name\":\"curr\",\"showlegend\":false,\"texttemplate\":\"%{y:.2}\",\"x\":[\"val_FBetaTopKMetric_at_k_as_step\"],\"y\":[0.0056720737582752765],\"type\":\"bar\",\"xaxis\":\"x3\",\"yaxis\":\"y3\"},{\"marker\":{\"color\":\"#248F11\"},\"name\":\"new\",\"showlegend\":false,\"texttemplate\":\"%{y:.2}\",\"x\":[\"val_FBetaTopKMetric_at_k_as_step\"],\"y\":[0.0024695306115197387],\"type\":\"bar\",\"xaxis\":\"x3\",\"yaxis\":\"y3\"},{\"marker\":{\"color\":\"#114B8F\"},\"name\":\"curr\",\"showlegend\":false,\"texttemplate\":\"%{y:.2}\",\"x\":[\"val_loss\"],\"y\":[0.5424774289131165],\"type\":\"bar\",\"xaxis\":\"x4\",\"yaxis\":\"y4\"},{\"marker\":{\"color\":\"#248F11\"},\"name\":\"new\",\"showlegend\":false,\"texttemplate\":\"%{y:.2}\",\"x\":[\"val_loss\"],\"y\":[0.557258665561676],\"type\":\"bar\",\"xaxis\":\"x4\",\"yaxis\":\"y4\"},{\"marker\":{\"color\":\"#114B8F\"},\"name\":\"curr\",\"showlegend\":false,\"texttemplate\":\"%{y:.2}\",\"x\":[\"val_NDCGKMetric_at_k_as_step\"],\"y\":[0.010636336151036735],\"type\":\"bar\",\"xaxis\":\"x5\",\"yaxis\":\"y5\"},{\"marker\":{\"color\":\"#248F11\"},\"name\":\"new\",\"showlegend\":false,\"texttemplate\":\"%{y:.2}\",\"x\":[\"val_NDCGKMetric_at_k_as_step\"],\"y\":[0.00434950546077993],\"type\":\"bar\",\"xaxis\":\"x5\",\"yaxis\":\"y5\"},{\"marker\":{\"color\":\"#114B8F\"},\"name\":\"curr\",\"showlegend\":false,\"texttemplate\":\"%{y:.2}\",\"x\":[\"val_precision_at_prob_as_threshold_step\"],\"y\":[96.9],\"type\":\"bar\",\"xaxis\":\"x6\",\"yaxis\":\"y6\"},{\"marker\":{\"color\":\"#248F11\"},\"name\":\"new\",\"showlegend\":false,\"texttemplate\":\"%{y:.2}\",\"x\":[\"val_precision_at_prob_as_threshold_step\"],\"y\":[92.7],\"type\":\"bar\",\"xaxis\":\"x6\",\"yaxis\":\"y6\"},{\"marker\":{\"color\":\"#114B8F\"},\"name\":\"curr\",\"showlegend\":false,\"texttemplate\":\"%{y:.2}\",\"x\":[\"val_PrecisionTopKMetric_at_k_as_step\"],\"y\":[0.0032485875706214687],\"type\":\"bar\",\"xaxis\":\"x7\",\"yaxis\":\"y7\"},{\"marker\":{\"color\":\"#248F11\"},\"name\":\"new\",\"showlegend\":false,\"texttemplate\":\"%{y:.2}\",\"x\":[\"val_PrecisionTopKMetric_at_k_as_step\"],\"y\":[0.0014124293785310734],\"type\":\"bar\",\"xaxis\":\"x7\",\"yaxis\":\"y7\"},{\"marker\":{\"color\":\"#114B8F\"},\"name\":\"curr\",\"showlegend\":false,\"texttemplate\":\"%{y:.2}\",\"x\":[\"val_recall_at_prob_as_threshold_step\"],\"y\":[9.7],\"type\":\"bar\",\"xaxis\":\"x8\",\"yaxis\":\"y8\"},{\"marker\":{\"color\":\"#248F11\"},\"name\":\"new\",\"showlegend\":false,\"texttemplate\":\"%{y:.2}\",\"x\":[\"val_recall_at_prob_as_threshold_step\"],\"y\":[9.3],\"type\":\"bar\",\"xaxis\":\"x8\",\"yaxis\":\"y8\"},{\"marker\":{\"color\":\"#114B8F\"},\"name\":\"curr\",\"showlegend\":false,\"texttemplate\":\"%{y:.2}\",\"x\":[\"val_RecallTopKMetric_at_k_as_step\"],\"y\":[0.16572672854452514],\"type\":\"bar\",\"xaxis\":\"x9\",\"yaxis\":\"y9\"},{\"marker\":{\"color\":\"#248F11\"},\"name\":\"new\",\"showlegend\":false,\"texttemplate\":\"%{y:.2}\",\"x\":[\"val_RecallTopKMetric_at_k_as_step\"],\"y\":[0.0732355842525334],\"type\":\"bar\",\"xaxis\":\"x9\",\"yaxis\":\"y9\"}],                        {\"template\":{\"layout\":{\"colorway\":[\"#114B8F\",\"#248F11\",\"#8F6211\",\"#8F116C\",\"#1A293A\"],\"font\":{\"family\":\"Inter Variable, Inter\"},\"showlegend\":false,\"template\":{\"data\":{\"barpolar\":[{\"marker\":{\"line\":{\"color\":\"white\",\"width\":0.5},\"pattern\":{\"fillmode\":\"overlay\",\"size\":10,\"solidity\":0.2}},\"type\":\"barpolar\"}],\"bar\":[{\"error_x\":{\"color\":\"rgb(36,36,36)\"},\"error_y\":{\"color\":\"rgb(36,36,36)\"},\"marker\":{\"line\":{\"color\":\"white\",\"width\":0.5},\"pattern\":{\"fillmode\":\"overlay\",\"size\":10,\"solidity\":0.2}},\"type\":\"bar\"}],\"carpet\":[{\"aaxis\":{\"endlinecolor\":\"rgb(36,36,36)\",\"gridcolor\":\"white\",\"linecolor\":\"white\",\"minorgridcolor\":\"white\",\"startlinecolor\":\"rgb(36,36,36)\"},\"baxis\":{\"endlinecolor\":\"rgb(36,36,36)\",\"gridcolor\":\"white\",\"linecolor\":\"white\",\"minorgridcolor\":\"white\",\"startlinecolor\":\"rgb(36,36,36)\"},\"type\":\"carpet\"}],\"choropleth\":[{\"colorbar\":{\"outlinewidth\":1,\"tickcolor\":\"rgb(36,36,36)\",\"ticks\":\"outside\"},\"type\":\"choropleth\"}],\"contourcarpet\":[{\"colorbar\":{\"outlinewidth\":1,\"tickcolor\":\"rgb(36,36,36)\",\"ticks\":\"outside\"},\"type\":\"contourcarpet\"}],\"contour\":[{\"colorbar\":{\"outlinewidth\":1,\"tickcolor\":\"rgb(36,36,36)\",\"ticks\":\"outside\"},\"colorscale\":[[0.0,\"#440154\"],[0.1111111111111111,\"#482878\"],[0.2222222222222222,\"#3e4989\"],[0.3333333333333333,\"#31688e\"],[0.4444444444444444,\"#26828e\"],[0.5555555555555556,\"#1f9e89\"],[0.6666666666666666,\"#35b779\"],[0.7777777777777778,\"#6ece58\"],[0.8888888888888888,\"#b5de2b\"],[1.0,\"#fde725\"]],\"type\":\"contour\"}],\"heatmapgl\":[{\"colorbar\":{\"outlinewidth\":1,\"tickcolor\":\"rgb(36,36,36)\",\"ticks\":\"outside\"},\"colorscale\":[[0.0,\"#440154\"],[0.1111111111111111,\"#482878\"],[0.2222222222222222,\"#3e4989\"],[0.3333333333333333,\"#31688e\"],[0.4444444444444444,\"#26828e\"],[0.5555555555555556,\"#1f9e89\"],[0.6666666666666666,\"#35b779\"],[0.7777777777777778,\"#6ece58\"],[0.8888888888888888,\"#b5de2b\"],[1.0,\"#fde725\"]],\"type\":\"heatmapgl\"}],\"heatmap\":[{\"colorbar\":{\"outlinewidth\":1,\"tickcolor\":\"rgb(36,36,36)\",\"ticks\":\"outside\"},\"colorscale\":[[0.0,\"#440154\"],[0.1111111111111111,\"#482878\"],[0.2222222222222222,\"#3e4989\"],[0.3333333333333333,\"#31688e\"],[0.4444444444444444,\"#26828e\"],[0.5555555555555556,\"#1f9e89\"],[0.6666666666666666,\"#35b779\"],[0.7777777777777778,\"#6ece58\"],[0.8888888888888888,\"#b5de2b\"],[1.0,\"#fde725\"]],\"type\":\"heatmap\"}],\"histogram2dcontour\":[{\"colorbar\":{\"outlinewidth\":1,\"tickcolor\":\"rgb(36,36,36)\",\"ticks\":\"outside\"},\"colorscale\":[[0.0,\"#440154\"],[0.1111111111111111,\"#482878\"],[0.2222222222222222,\"#3e4989\"],[0.3333333333333333,\"#31688e\"],[0.4444444444444444,\"#26828e\"],[0.5555555555555556,\"#1f9e89\"],[0.6666666666666666,\"#35b779\"],[0.7777777777777778,\"#6ece58\"],[0.8888888888888888,\"#b5de2b\"],[1.0,\"#fde725\"]],\"type\":\"histogram2dcontour\"}],\"histogram2d\":[{\"colorbar\":{\"outlinewidth\":1,\"tickcolor\":\"rgb(36,36,36)\",\"ticks\":\"outside\"},\"colorscale\":[[0.0,\"#440154\"],[0.1111111111111111,\"#482878\"],[0.2222222222222222,\"#3e4989\"],[0.3333333333333333,\"#31688e\"],[0.4444444444444444,\"#26828e\"],[0.5555555555555556,\"#1f9e89\"],[0.6666666666666666,\"#35b779\"],[0.7777777777777778,\"#6ece58\"],[0.8888888888888888,\"#b5de2b\"],[1.0,\"#fde725\"]],\"type\":\"histogram2d\"}],\"histogram\":[{\"marker\":{\"line\":{\"color\":\"white\",\"width\":0.6}},\"type\":\"histogram\"}],\"mesh3d\":[{\"colorbar\":{\"outlinewidth\":1,\"tickcolor\":\"rgb(36,36,36)\",\"ticks\":\"outside\"},\"type\":\"mesh3d\"}],\"parcoords\":[{\"line\":{\"colorbar\":{\"outlinewidth\":1,\"tickcolor\":\"rgb(36,36,36)\",\"ticks\":\"outside\"}},\"type\":\"parcoords\"}],\"pie\":[{\"automargin\":true,\"type\":\"pie\"}],\"scatter3d\":[{\"line\":{\"colorbar\":{\"outlinewidth\":1,\"tickcolor\":\"rgb(36,36,36)\",\"ticks\":\"outside\"}},\"marker\":{\"colorbar\":{\"outlinewidth\":1,\"tickcolor\":\"rgb(36,36,36)\",\"ticks\":\"outside\"}},\"type\":\"scatter3d\"}],\"scattercarpet\":[{\"marker\":{\"colorbar\":{\"outlinewidth\":1,\"tickcolor\":\"rgb(36,36,36)\",\"ticks\":\"outside\"}},\"type\":\"scattercarpet\"}],\"scattergeo\":[{\"marker\":{\"colorbar\":{\"outlinewidth\":1,\"tickcolor\":\"rgb(36,36,36)\",\"ticks\":\"outside\"}},\"type\":\"scattergeo\"}],\"scattergl\":[{\"marker\":{\"colorbar\":{\"outlinewidth\":1,\"tickcolor\":\"rgb(36,36,36)\",\"ticks\":\"outside\"}},\"type\":\"scattergl\"}],\"scattermapbox\":[{\"marker\":{\"colorbar\":{\"outlinewidth\":1,\"tickcolor\":\"rgb(36,36,36)\",\"ticks\":\"outside\"}},\"type\":\"scattermapbox\"}],\"scatterpolargl\":[{\"marker\":{\"colorbar\":{\"outlinewidth\":1,\"tickcolor\":\"rgb(36,36,36)\",\"ticks\":\"outside\"}},\"type\":\"scatterpolargl\"}],\"scatterpolar\":[{\"marker\":{\"colorbar\":{\"outlinewidth\":1,\"tickcolor\":\"rgb(36,36,36)\",\"ticks\":\"outside\"}},\"type\":\"scatterpolar\"}],\"scatter\":[{\"fillpattern\":{\"fillmode\":\"overlay\",\"size\":10,\"solidity\":0.2},\"type\":\"scatter\"}],\"scatterternary\":[{\"marker\":{\"colorbar\":{\"outlinewidth\":1,\"tickcolor\":\"rgb(36,36,36)\",\"ticks\":\"outside\"}},\"type\":\"scatterternary\"}],\"surface\":[{\"colorbar\":{\"outlinewidth\":1,\"tickcolor\":\"rgb(36,36,36)\",\"ticks\":\"outside\"},\"colorscale\":[[0.0,\"#440154\"],[0.1111111111111111,\"#482878\"],[0.2222222222222222,\"#3e4989\"],[0.3333333333333333,\"#31688e\"],[0.4444444444444444,\"#26828e\"],[0.5555555555555556,\"#1f9e89\"],[0.6666666666666666,\"#35b779\"],[0.7777777777777778,\"#6ece58\"],[0.8888888888888888,\"#b5de2b\"],[1.0,\"#fde725\"]],\"type\":\"surface\"}],\"table\":[{\"cells\":{\"fill\":{\"color\":\"rgb(237,237,237)\"},\"line\":{\"color\":\"white\"}},\"header\":{\"fill\":{\"color\":\"rgb(217,217,217)\"},\"line\":{\"color\":\"white\"}},\"type\":\"table\"}]},\"layout\":{\"annotationdefaults\":{\"arrowhead\":0,\"arrowwidth\":1},\"autotypenumbers\":\"strict\",\"coloraxis\":{\"colorbar\":{\"outlinewidth\":1,\"tickcolor\":\"rgb(36,36,36)\",\"ticks\":\"outside\"}},\"colorscale\":{\"diverging\":[[0.0,\"rgb(103,0,31)\"],[0.1,\"rgb(178,24,43)\"],[0.2,\"rgb(214,96,77)\"],[0.3,\"rgb(244,165,130)\"],[0.4,\"rgb(253,219,199)\"],[0.5,\"rgb(247,247,247)\"],[0.6,\"rgb(209,229,240)\"],[0.7,\"rgb(146,197,222)\"],[0.8,\"rgb(67,147,195)\"],[0.9,\"rgb(33,102,172)\"],[1.0,\"rgb(5,48,97)\"]],\"sequential\":[[0.0,\"#440154\"],[0.1111111111111111,\"#482878\"],[0.2222222222222222,\"#3e4989\"],[0.3333333333333333,\"#31688e\"],[0.4444444444444444,\"#26828e\"],[0.5555555555555556,\"#1f9e89\"],[0.6666666666666666,\"#35b779\"],[0.7777777777777778,\"#6ece58\"],[0.8888888888888888,\"#b5de2b\"],[1.0,\"#fde725\"]],\"sequentialminus\":[[0.0,\"#440154\"],[0.1111111111111111,\"#482878\"],[0.2222222222222222,\"#3e4989\"],[0.3333333333333333,\"#31688e\"],[0.4444444444444444,\"#26828e\"],[0.5555555555555556,\"#1f9e89\"],[0.6666666666666666,\"#35b779\"],[0.7777777777777778,\"#6ece58\"],[0.8888888888888888,\"#b5de2b\"],[1.0,\"#fde725\"]]},\"colorway\":[\"#1F77B4\",\"#FF7F0E\",\"#2CA02C\",\"#D62728\",\"#9467BD\",\"#8C564B\",\"#E377C2\",\"#7F7F7F\",\"#BCBD22\",\"#17BECF\"],\"font\":{\"color\":\"rgb(36,36,36)\"},\"geo\":{\"bgcolor\":\"white\",\"lakecolor\":\"white\",\"landcolor\":\"white\",\"showlakes\":true,\"showland\":true,\"subunitcolor\":\"white\"},\"hoverlabel\":{\"align\":\"left\"},\"hovermode\":\"closest\",\"mapbox\":{\"style\":\"light\"},\"paper_bgcolor\":\"white\",\"plot_bgcolor\":\"white\",\"polar\":{\"angularaxis\":{\"gridcolor\":\"rgb(232,232,232)\",\"linecolor\":\"rgb(36,36,36)\",\"showgrid\":false,\"showline\":true,\"ticks\":\"outside\"},\"bgcolor\":\"white\",\"radialaxis\":{\"gridcolor\":\"rgb(232,232,232)\",\"linecolor\":\"rgb(36,36,36)\",\"showgrid\":false,\"showline\":true,\"ticks\":\"outside\"}},\"scene\":{\"xaxis\":{\"backgroundcolor\":\"white\",\"gridcolor\":\"rgb(232,232,232)\",\"gridwidth\":2,\"linecolor\":\"rgb(36,36,36)\",\"showbackground\":true,\"showgrid\":false,\"showline\":true,\"ticks\":\"outside\",\"zeroline\":false,\"zerolinecolor\":\"rgb(36,36,36)\"},\"yaxis\":{\"backgroundcolor\":\"white\",\"gridcolor\":\"rgb(232,232,232)\",\"gridwidth\":2,\"linecolor\":\"rgb(36,36,36)\",\"showbackground\":true,\"showgrid\":false,\"showline\":true,\"ticks\":\"outside\",\"zeroline\":false,\"zerolinecolor\":\"rgb(36,36,36)\"},\"zaxis\":{\"backgroundcolor\":\"white\",\"gridcolor\":\"rgb(232,232,232)\",\"gridwidth\":2,\"linecolor\":\"rgb(36,36,36)\",\"showbackground\":true,\"showgrid\":false,\"showline\":true,\"ticks\":\"outside\",\"zeroline\":false,\"zerolinecolor\":\"rgb(36,36,36)\"}},\"shapedefaults\":{\"fillcolor\":\"black\",\"line\":{\"width\":0},\"opacity\":0.3},\"ternary\":{\"aaxis\":{\"gridcolor\":\"rgb(232,232,232)\",\"linecolor\":\"rgb(36,36,36)\",\"showgrid\":false,\"showline\":true,\"ticks\":\"outside\"},\"baxis\":{\"gridcolor\":\"rgb(232,232,232)\",\"linecolor\":\"rgb(36,36,36)\",\"showgrid\":false,\"showline\":true,\"ticks\":\"outside\"},\"bgcolor\":\"white\",\"caxis\":{\"gridcolor\":\"rgb(232,232,232)\",\"linecolor\":\"rgb(36,36,36)\",\"showgrid\":false,\"showline\":true,\"ticks\":\"outside\"}},\"title\":{\"x\":0.05},\"xaxis\":{\"automargin\":true,\"gridcolor\":\"rgb(232,232,232)\",\"linecolor\":\"rgb(36,36,36)\",\"showgrid\":false,\"showline\":true,\"ticks\":\"outside\",\"title\":{\"standoff\":15},\"zeroline\":false,\"zerolinecolor\":\"rgb(36,36,36)\"},\"yaxis\":{\"automargin\":true,\"gridcolor\":\"rgb(232,232,232)\",\"linecolor\":\"rgb(36,36,36)\",\"showgrid\":false,\"showline\":true,\"ticks\":\"outside\",\"title\":{\"standoff\":15},\"zeroline\":false,\"zerolinecolor\":\"rgb(36,36,36)\"}}},\"title\":{\"font\":{\"family\":\"Inter Variable, Inter Tight, Inter\",\"weight\":\"bold\"}},\"xaxis\":{\"showgrid\":false},\"yaxis\":{\"showgrid\":false}}},\"xaxis\":{\"anchor\":\"y\",\"domain\":[0.0,0.16799999999999998]},\"yaxis\":{\"anchor\":\"x\",\"domain\":[0.575,1.0],\"visible\":false},\"xaxis2\":{\"anchor\":\"y2\",\"domain\":[0.208,0.376]},\"yaxis2\":{\"anchor\":\"x2\",\"domain\":[0.575,1.0],\"visible\":false},\"xaxis3\":{\"anchor\":\"y3\",\"domain\":[0.416,0.584]},\"yaxis3\":{\"anchor\":\"x3\",\"domain\":[0.575,1.0],\"visible\":false},\"xaxis4\":{\"anchor\":\"y4\",\"domain\":[0.624,0.792]},\"yaxis4\":{\"anchor\":\"x4\",\"domain\":[0.575,1.0],\"visible\":false},\"xaxis5\":{\"anchor\":\"y5\",\"domain\":[0.832,1.0]},\"yaxis5\":{\"anchor\":\"x5\",\"domain\":[0.575,1.0],\"visible\":false},\"xaxis6\":{\"anchor\":\"y6\",\"domain\":[0.0,0.16799999999999998]},\"yaxis6\":{\"anchor\":\"x6\",\"domain\":[0.0,0.425],\"visible\":false},\"xaxis7\":{\"anchor\":\"y7\",\"domain\":[0.208,0.376]},\"yaxis7\":{\"anchor\":\"x7\",\"domain\":[0.0,0.425],\"visible\":false},\"xaxis8\":{\"anchor\":\"y8\",\"domain\":[0.416,0.584]},\"yaxis8\":{\"anchor\":\"x8\",\"domain\":[0.0,0.425],\"visible\":false},\"xaxis9\":{\"anchor\":\"y9\",\"domain\":[0.624,0.792]},\"yaxis9\":{\"anchor\":\"x9\",\"domain\":[0.0,0.425],\"visible\":false},\"xaxis10\":{\"anchor\":\"y10\",\"domain\":[0.832,1.0]},\"yaxis10\":{\"anchor\":\"x10\",\"domain\":[0.0,0.425],\"visible\":false},\"annotations\":[{\"font\":{\"color\":\"black\",\"size\":14},\"showarrow\":false,\"text\":\"Δ=-8.61%\",\"x\":\"val_roc_auc\",\"xref\":\"x\",\"y\":0.9642847109063326,\"yref\":\"y\"},{\"font\":{\"color\":\"black\",\"size\":14},\"showarrow\":false,\"text\":\"Δ=-37.15%\",\"x\":\"val_PersonalizationMetric\",\"xref\":\"x2\",\"y\":0.374875858045853,\"yref\":\"y2\"},{\"font\":{\"color\":\"black\",\"size\":14},\"showarrow\":false,\"text\":\"Δ=-56.46%\",\"x\":\"val_FBetaTopKMetric_at_k_as_step\",\"xref\":\"x3\",\"y\":0.0062392811341028045,\"yref\":\"y3\"},{\"font\":{\"color\":\"black\",\"size\":14},\"showarrow\":false,\"text\":\"Δ=2.72%\",\"x\":\"val_loss\",\"xref\":\"x4\",\"y\":0.5967251718044282,\"yref\":\"y4\"},{\"font\":{\"color\":\"black\",\"size\":14},\"showarrow\":false,\"text\":\"Δ=-59.11%\",\"x\":\"val_NDCGKMetric_at_k_as_step\",\"xref\":\"x5\",\"y\":0.011699969766140409,\"yref\":\"y5\"},{\"font\":{\"color\":\"black\",\"size\":14},\"showarrow\":false,\"text\":\"Δ=-4.33%\",\"x\":\"val_precision_at_prob_as_threshold_step\",\"xref\":\"x6\",\"y\":106.59000000000002,\"yref\":\"y6\"},{\"font\":{\"color\":\"black\",\"size\":14},\"showarrow\":false,\"text\":\"Δ=-56.52%\",\"x\":\"val_PrecisionTopKMetric_at_k_as_step\",\"xref\":\"x7\",\"y\":0.003573446327683616,\"yref\":\"y7\"},{\"font\":{\"color\":\"black\",\"size\":14},\"showarrow\":false,\"text\":\"Δ=-4.12%\",\"x\":\"val_recall_at_prob_as_threshold_step\",\"xref\":\"x8\",\"y\":10.67,\"yref\":\"y8\"},{\"font\":{\"color\":\"black\",\"size\":14},\"showarrow\":false,\"text\":\"Δ=-55.81%\",\"x\":\"val_RecallTopKMetric_at_k_as_step\",\"xref\":\"x9\",\"y\":0.18229940139897766,\"yref\":\"y9\"}],\"height\":800,\"title\":{\"text\":\"Metric Comparisons\"},\"showlegend\":true,\"bargroupgap\":0.3,\"bargap\":0.5},                        {\"responsive\": true}                    ).then(function(){\n",
       "                            \n",
       "var gd = document.getElementById('6b7b1208-a7a9-41b3-a904-adf4133c305f');\n",
       "var x = new MutationObserver(function (mutations, observer) {{\n",
       "        var display = window.getComputedStyle(gd).display;\n",
       "        if (!display || display === 'none') {{\n",
       "            console.log([gd, 'removed!']);\n",
       "            Plotly.purge(gd);\n",
       "            observer.disconnect();\n",
       "        }}\n",
       "}});\n",
       "\n",
       "// Listen for the removal of the full notebook cells\n",
       "var notebookContainer = gd.closest('#notebook-container');\n",
       "if (notebookContainer) {{\n",
       "    x.observe(notebookContainer, {childList: true});\n",
       "}}\n",
       "\n",
       "// Listen for the clearing of the current output cell\n",
       "var outputEl = gd.closest('.output');\n",
       "if (outputEl) {{\n",
       "    x.observe(outputEl, {childList: true});\n",
       "}}\n",
       "\n",
       "                        })                };                });            </script>        </div>"
      ]
     },
     "metadata": {},
     "output_type": "display_data"
    },
    {
     "data": {
      "application/vnd.plotly.v1+json": {
       "config": {
        "plotlyServerURL": "https://plot.ly"
       },
       "data": [
        {
         "alignmentgroup": "True",
         "hovertemplate": "variable=diff_perc<br>metric=%{x}<br>value=%{y}<extra></extra>",
         "legendgroup": "diff_perc",
         "marker": {
          "color": "#114B8F",
          "pattern": {
           "shape": ""
          }
         },
         "name": "diff_perc",
         "offsetgroup": "diff_perc",
         "orientation": "v",
         "showlegend": true,
         "textposition": "auto",
         "type": "bar",
         "x": [
          "val_roc_auc",
          "val_PersonalizationMetric",
          "val_FBetaTopKMetric_at_k_as_step",
          "val_loss",
          "val_NDCGKMetric_at_k_as_step",
          "val_precision_at_prob_as_threshold_step",
          "val_PrecisionTopKMetric_at_k_as_step",
          "val_recall_at_prob_as_threshold_step",
          "val_RecallTopKMetric_at_k_as_step"
         ],
         "xaxis": "x",
         "y": [
          -0.08606928685448047,
          -0.3715404871162966,
          -0.5646159206027928,
          0.027247652825251358,
          -0.5910710794566248,
          -0.04334365325077402,
          -0.5652173913043478,
          -0.04123711340206171,
          -0.5580943104608651
         ],
         "yaxis": "y"
        }
       ],
       "layout": {
        "autosize": true,
        "barmode": "group",
        "legend": {
         "title": {
          "text": "variable"
         },
         "tracegroupgap": 0
        },
        "margin": {
         "t": 60
        },
        "template": {
         "layout": {
          "colorway": [
           "#114B8F",
           "#248F11",
           "#8F6211",
           "#8F116C",
           "#1A293A"
          ],
          "font": {
           "family": "Inter Variable, Inter"
          },
          "showlegend": false,
          "template": {
           "data": {
            "bar": [
             {
              "error_x": {
               "color": "rgb(36,36,36)"
              },
              "error_y": {
               "color": "rgb(36,36,36)"
              },
              "marker": {
               "line": {
                "color": "white",
                "width": 0.5
               },
               "pattern": {
                "fillmode": "overlay",
                "size": 10,
                "solidity": 0.2
               }
              },
              "type": "bar"
             }
            ],
            "barpolar": [
             {
              "marker": {
               "line": {
                "color": "white",
                "width": 0.5
               },
               "pattern": {
                "fillmode": "overlay",
                "size": 10,
                "solidity": 0.2
               }
              },
              "type": "barpolar"
             }
            ],
            "carpet": [
             {
              "aaxis": {
               "endlinecolor": "rgb(36,36,36)",
               "gridcolor": "white",
               "linecolor": "white",
               "minorgridcolor": "white",
               "startlinecolor": "rgb(36,36,36)"
              },
              "baxis": {
               "endlinecolor": "rgb(36,36,36)",
               "gridcolor": "white",
               "linecolor": "white",
               "minorgridcolor": "white",
               "startlinecolor": "rgb(36,36,36)"
              },
              "type": "carpet"
             }
            ],
            "choropleth": [
             {
              "colorbar": {
               "outlinewidth": 1,
               "tickcolor": "rgb(36,36,36)",
               "ticks": "outside"
              },
              "type": "choropleth"
             }
            ],
            "contour": [
             {
              "colorbar": {
               "outlinewidth": 1,
               "tickcolor": "rgb(36,36,36)",
               "ticks": "outside"
              },
              "colorscale": [
               [
                0,
                "#440154"
               ],
               [
                0.1111111111111111,
                "#482878"
               ],
               [
                0.2222222222222222,
                "#3e4989"
               ],
               [
                0.3333333333333333,
                "#31688e"
               ],
               [
                0.4444444444444444,
                "#26828e"
               ],
               [
                0.5555555555555556,
                "#1f9e89"
               ],
               [
                0.6666666666666666,
                "#35b779"
               ],
               [
                0.7777777777777778,
                "#6ece58"
               ],
               [
                0.8888888888888888,
                "#b5de2b"
               ],
               [
                1,
                "#fde725"
               ]
              ],
              "type": "contour"
             }
            ],
            "contourcarpet": [
             {
              "colorbar": {
               "outlinewidth": 1,
               "tickcolor": "rgb(36,36,36)",
               "ticks": "outside"
              },
              "type": "contourcarpet"
             }
            ],
            "heatmap": [
             {
              "colorbar": {
               "outlinewidth": 1,
               "tickcolor": "rgb(36,36,36)",
               "ticks": "outside"
              },
              "colorscale": [
               [
                0,
                "#440154"
               ],
               [
                0.1111111111111111,
                "#482878"
               ],
               [
                0.2222222222222222,
                "#3e4989"
               ],
               [
                0.3333333333333333,
                "#31688e"
               ],
               [
                0.4444444444444444,
                "#26828e"
               ],
               [
                0.5555555555555556,
                "#1f9e89"
               ],
               [
                0.6666666666666666,
                "#35b779"
               ],
               [
                0.7777777777777778,
                "#6ece58"
               ],
               [
                0.8888888888888888,
                "#b5de2b"
               ],
               [
                1,
                "#fde725"
               ]
              ],
              "type": "heatmap"
             }
            ],
            "heatmapgl": [
             {
              "colorbar": {
               "outlinewidth": 1,
               "tickcolor": "rgb(36,36,36)",
               "ticks": "outside"
              },
              "colorscale": [
               [
                0,
                "#440154"
               ],
               [
                0.1111111111111111,
                "#482878"
               ],
               [
                0.2222222222222222,
                "#3e4989"
               ],
               [
                0.3333333333333333,
                "#31688e"
               ],
               [
                0.4444444444444444,
                "#26828e"
               ],
               [
                0.5555555555555556,
                "#1f9e89"
               ],
               [
                0.6666666666666666,
                "#35b779"
               ],
               [
                0.7777777777777778,
                "#6ece58"
               ],
               [
                0.8888888888888888,
                "#b5de2b"
               ],
               [
                1,
                "#fde725"
               ]
              ],
              "type": "heatmapgl"
             }
            ],
            "histogram": [
             {
              "marker": {
               "line": {
                "color": "white",
                "width": 0.6
               }
              },
              "type": "histogram"
             }
            ],
            "histogram2d": [
             {
              "colorbar": {
               "outlinewidth": 1,
               "tickcolor": "rgb(36,36,36)",
               "ticks": "outside"
              },
              "colorscale": [
               [
                0,
                "#440154"
               ],
               [
                0.1111111111111111,
                "#482878"
               ],
               [
                0.2222222222222222,
                "#3e4989"
               ],
               [
                0.3333333333333333,
                "#31688e"
               ],
               [
                0.4444444444444444,
                "#26828e"
               ],
               [
                0.5555555555555556,
                "#1f9e89"
               ],
               [
                0.6666666666666666,
                "#35b779"
               ],
               [
                0.7777777777777778,
                "#6ece58"
               ],
               [
                0.8888888888888888,
                "#b5de2b"
               ],
               [
                1,
                "#fde725"
               ]
              ],
              "type": "histogram2d"
             }
            ],
            "histogram2dcontour": [
             {
              "colorbar": {
               "outlinewidth": 1,
               "tickcolor": "rgb(36,36,36)",
               "ticks": "outside"
              },
              "colorscale": [
               [
                0,
                "#440154"
               ],
               [
                0.1111111111111111,
                "#482878"
               ],
               [
                0.2222222222222222,
                "#3e4989"
               ],
               [
                0.3333333333333333,
                "#31688e"
               ],
               [
                0.4444444444444444,
                "#26828e"
               ],
               [
                0.5555555555555556,
                "#1f9e89"
               ],
               [
                0.6666666666666666,
                "#35b779"
               ],
               [
                0.7777777777777778,
                "#6ece58"
               ],
               [
                0.8888888888888888,
                "#b5de2b"
               ],
               [
                1,
                "#fde725"
               ]
              ],
              "type": "histogram2dcontour"
             }
            ],
            "mesh3d": [
             {
              "colorbar": {
               "outlinewidth": 1,
               "tickcolor": "rgb(36,36,36)",
               "ticks": "outside"
              },
              "type": "mesh3d"
             }
            ],
            "parcoords": [
             {
              "line": {
               "colorbar": {
                "outlinewidth": 1,
                "tickcolor": "rgb(36,36,36)",
                "ticks": "outside"
               }
              },
              "type": "parcoords"
             }
            ],
            "pie": [
             {
              "automargin": true,
              "type": "pie"
             }
            ],
            "scatter": [
             {
              "fillpattern": {
               "fillmode": "overlay",
               "size": 10,
               "solidity": 0.2
              },
              "type": "scatter"
             }
            ],
            "scatter3d": [
             {
              "line": {
               "colorbar": {
                "outlinewidth": 1,
                "tickcolor": "rgb(36,36,36)",
                "ticks": "outside"
               }
              },
              "marker": {
               "colorbar": {
                "outlinewidth": 1,
                "tickcolor": "rgb(36,36,36)",
                "ticks": "outside"
               }
              },
              "type": "scatter3d"
             }
            ],
            "scattercarpet": [
             {
              "marker": {
               "colorbar": {
                "outlinewidth": 1,
                "tickcolor": "rgb(36,36,36)",
                "ticks": "outside"
               }
              },
              "type": "scattercarpet"
             }
            ],
            "scattergeo": [
             {
              "marker": {
               "colorbar": {
                "outlinewidth": 1,
                "tickcolor": "rgb(36,36,36)",
                "ticks": "outside"
               }
              },
              "type": "scattergeo"
             }
            ],
            "scattergl": [
             {
              "marker": {
               "colorbar": {
                "outlinewidth": 1,
                "tickcolor": "rgb(36,36,36)",
                "ticks": "outside"
               }
              },
              "type": "scattergl"
             }
            ],
            "scattermapbox": [
             {
              "marker": {
               "colorbar": {
                "outlinewidth": 1,
                "tickcolor": "rgb(36,36,36)",
                "ticks": "outside"
               }
              },
              "type": "scattermapbox"
             }
            ],
            "scatterpolar": [
             {
              "marker": {
               "colorbar": {
                "outlinewidth": 1,
                "tickcolor": "rgb(36,36,36)",
                "ticks": "outside"
               }
              },
              "type": "scatterpolar"
             }
            ],
            "scatterpolargl": [
             {
              "marker": {
               "colorbar": {
                "outlinewidth": 1,
                "tickcolor": "rgb(36,36,36)",
                "ticks": "outside"
               }
              },
              "type": "scatterpolargl"
             }
            ],
            "scatterternary": [
             {
              "marker": {
               "colorbar": {
                "outlinewidth": 1,
                "tickcolor": "rgb(36,36,36)",
                "ticks": "outside"
               }
              },
              "type": "scatterternary"
             }
            ],
            "surface": [
             {
              "colorbar": {
               "outlinewidth": 1,
               "tickcolor": "rgb(36,36,36)",
               "ticks": "outside"
              },
              "colorscale": [
               [
                0,
                "#440154"
               ],
               [
                0.1111111111111111,
                "#482878"
               ],
               [
                0.2222222222222222,
                "#3e4989"
               ],
               [
                0.3333333333333333,
                "#31688e"
               ],
               [
                0.4444444444444444,
                "#26828e"
               ],
               [
                0.5555555555555556,
                "#1f9e89"
               ],
               [
                0.6666666666666666,
                "#35b779"
               ],
               [
                0.7777777777777778,
                "#6ece58"
               ],
               [
                0.8888888888888888,
                "#b5de2b"
               ],
               [
                1,
                "#fde725"
               ]
              ],
              "type": "surface"
             }
            ],
            "table": [
             {
              "cells": {
               "fill": {
                "color": "rgb(237,237,237)"
               },
               "line": {
                "color": "white"
               }
              },
              "header": {
               "fill": {
                "color": "rgb(217,217,217)"
               },
               "line": {
                "color": "white"
               }
              },
              "type": "table"
             }
            ]
           },
           "layout": {
            "annotationdefaults": {
             "arrowhead": 0,
             "arrowwidth": 1
            },
            "autotypenumbers": "strict",
            "coloraxis": {
             "colorbar": {
              "outlinewidth": 1,
              "tickcolor": "rgb(36,36,36)",
              "ticks": "outside"
             }
            },
            "colorscale": {
             "diverging": [
              [
               0,
               "rgb(103,0,31)"
              ],
              [
               0.1,
               "rgb(178,24,43)"
              ],
              [
               0.2,
               "rgb(214,96,77)"
              ],
              [
               0.3,
               "rgb(244,165,130)"
              ],
              [
               0.4,
               "rgb(253,219,199)"
              ],
              [
               0.5,
               "rgb(247,247,247)"
              ],
              [
               0.6,
               "rgb(209,229,240)"
              ],
              [
               0.7,
               "rgb(146,197,222)"
              ],
              [
               0.8,
               "rgb(67,147,195)"
              ],
              [
               0.9,
               "rgb(33,102,172)"
              ],
              [
               1,
               "rgb(5,48,97)"
              ]
             ],
             "sequential": [
              [
               0,
               "#440154"
              ],
              [
               0.1111111111111111,
               "#482878"
              ],
              [
               0.2222222222222222,
               "#3e4989"
              ],
              [
               0.3333333333333333,
               "#31688e"
              ],
              [
               0.4444444444444444,
               "#26828e"
              ],
              [
               0.5555555555555556,
               "#1f9e89"
              ],
              [
               0.6666666666666666,
               "#35b779"
              ],
              [
               0.7777777777777778,
               "#6ece58"
              ],
              [
               0.8888888888888888,
               "#b5de2b"
              ],
              [
               1,
               "#fde725"
              ]
             ],
             "sequentialminus": [
              [
               0,
               "#440154"
              ],
              [
               0.1111111111111111,
               "#482878"
              ],
              [
               0.2222222222222222,
               "#3e4989"
              ],
              [
               0.3333333333333333,
               "#31688e"
              ],
              [
               0.4444444444444444,
               "#26828e"
              ],
              [
               0.5555555555555556,
               "#1f9e89"
              ],
              [
               0.6666666666666666,
               "#35b779"
              ],
              [
               0.7777777777777778,
               "#6ece58"
              ],
              [
               0.8888888888888888,
               "#b5de2b"
              ],
              [
               1,
               "#fde725"
              ]
             ]
            },
            "colorway": [
             "#1F77B4",
             "#FF7F0E",
             "#2CA02C",
             "#D62728",
             "#9467BD",
             "#8C564B",
             "#E377C2",
             "#7F7F7F",
             "#BCBD22",
             "#17BECF"
            ],
            "font": {
             "color": "rgb(36,36,36)"
            },
            "geo": {
             "bgcolor": "white",
             "lakecolor": "white",
             "landcolor": "white",
             "showlakes": true,
             "showland": true,
             "subunitcolor": "white"
            },
            "hoverlabel": {
             "align": "left"
            },
            "hovermode": "closest",
            "mapbox": {
             "style": "light"
            },
            "paper_bgcolor": "white",
            "plot_bgcolor": "white",
            "polar": {
             "angularaxis": {
              "gridcolor": "rgb(232,232,232)",
              "linecolor": "rgb(36,36,36)",
              "showgrid": false,
              "showline": true,
              "ticks": "outside"
             },
             "bgcolor": "white",
             "radialaxis": {
              "gridcolor": "rgb(232,232,232)",
              "linecolor": "rgb(36,36,36)",
              "showgrid": false,
              "showline": true,
              "ticks": "outside"
             }
            },
            "scene": {
             "xaxis": {
              "backgroundcolor": "white",
              "gridcolor": "rgb(232,232,232)",
              "gridwidth": 2,
              "linecolor": "rgb(36,36,36)",
              "showbackground": true,
              "showgrid": false,
              "showline": true,
              "ticks": "outside",
              "zeroline": false,
              "zerolinecolor": "rgb(36,36,36)"
             },
             "yaxis": {
              "backgroundcolor": "white",
              "gridcolor": "rgb(232,232,232)",
              "gridwidth": 2,
              "linecolor": "rgb(36,36,36)",
              "showbackground": true,
              "showgrid": false,
              "showline": true,
              "ticks": "outside",
              "zeroline": false,
              "zerolinecolor": "rgb(36,36,36)"
             },
             "zaxis": {
              "backgroundcolor": "white",
              "gridcolor": "rgb(232,232,232)",
              "gridwidth": 2,
              "linecolor": "rgb(36,36,36)",
              "showbackground": true,
              "showgrid": false,
              "showline": true,
              "ticks": "outside",
              "zeroline": false,
              "zerolinecolor": "rgb(36,36,36)"
             }
            },
            "shapedefaults": {
             "fillcolor": "black",
             "line": {
              "width": 0
             },
             "opacity": 0.3
            },
            "ternary": {
             "aaxis": {
              "gridcolor": "rgb(232,232,232)",
              "linecolor": "rgb(36,36,36)",
              "showgrid": false,
              "showline": true,
              "ticks": "outside"
             },
             "baxis": {
              "gridcolor": "rgb(232,232,232)",
              "linecolor": "rgb(36,36,36)",
              "showgrid": false,
              "showline": true,
              "ticks": "outside"
             },
             "bgcolor": "white",
             "caxis": {
              "gridcolor": "rgb(232,232,232)",
              "linecolor": "rgb(36,36,36)",
              "showgrid": false,
              "showline": true,
              "ticks": "outside"
             }
            },
            "title": {
             "x": 0.05
            },
            "xaxis": {
             "automargin": true,
             "gridcolor": "rgb(232,232,232)",
             "linecolor": "rgb(36,36,36)",
             "showgrid": false,
             "showline": true,
             "ticks": "outside",
             "title": {
              "standoff": 15
             },
             "zeroline": false,
             "zerolinecolor": "rgb(36,36,36)"
            },
            "yaxis": {
             "automargin": true,
             "gridcolor": "rgb(232,232,232)",
             "linecolor": "rgb(36,36,36)",
             "showgrid": false,
             "showline": true,
             "ticks": "outside",
             "title": {
              "standoff": 15
             },
             "zeroline": false,
             "zerolinecolor": "rgb(36,36,36)"
            }
           }
          },
          "title": {
           "font": {
            "family": "Inter Variable, Inter Tight, Inter",
            "weight": "bold"
           }
          },
          "xaxis": {
           "showgrid": false
          },
          "yaxis": {
           "showgrid": false
          }
         }
        },
        "title": {
         "text": "Metric Diff Comparisons"
        },
        "xaxis": {
         "anchor": "y",
         "autorange": true,
         "domain": [
          0,
          1
         ],
         "range": [
          -0.5,
          8.5
         ],
         "title": {
          "text": "Metric"
         },
         "type": "category"
        },
        "yaxis": {
         "anchor": "x",
         "autorange": true,
         "domain": [
          0,
          1
         ],
         "range": [
          -0.6254221201389513,
          0.06159869350757781
         ],
         "title": {
          "text": "% Difference (new - curr)"
         },
         "type": "linear"
        }
       }
      },
      "image/png": "[encoded data removed]",
      "text/html": [
       "<div>                            <div id=\"f65f2fa4-8529-480f-abec-decb13e7a267\" class=\"plotly-graph-div\" style=\"height:525px; width:100%;\"></div>            <script type=\"text/javascript\">                require([\"plotly\"], function(Plotly) {                    window.PLOTLYENV=window.PLOTLYENV || {};                                    if (document.getElementById(\"f65f2fa4-8529-480f-abec-decb13e7a267\")) {                    Plotly.newPlot(                        \"f65f2fa4-8529-480f-abec-decb13e7a267\",                        [{\"alignmentgroup\":\"True\",\"hovertemplate\":\"variable=diff_perc\\u003cbr\\u003emetric=%{x}\\u003cbr\\u003evalue=%{y}\\u003cextra\\u003e\\u003c\\u002fextra\\u003e\",\"legendgroup\":\"diff_perc\",\"marker\":{\"color\":\"#114B8F\",\"pattern\":{\"shape\":\"\"}},\"name\":\"diff_perc\",\"offsetgroup\":\"diff_perc\",\"orientation\":\"v\",\"showlegend\":true,\"textposition\":\"auto\",\"x\":[\"val_roc_auc\",\"val_PersonalizationMetric\",\"val_FBetaTopKMetric_at_k_as_step\",\"val_loss\",\"val_NDCGKMetric_at_k_as_step\",\"val_precision_at_prob_as_threshold_step\",\"val_PrecisionTopKMetric_at_k_as_step\",\"val_recall_at_prob_as_threshold_step\",\"val_RecallTopKMetric_at_k_as_step\"],\"xaxis\":\"x\",\"y\":[-0.08606928685448047,-0.3715404871162966,-0.5646159206027928,0.027247652825251358,-0.5910710794566248,-0.04334365325077402,-0.5652173913043478,-0.04123711340206171,-0.5580943104608651],\"yaxis\":\"y\",\"type\":\"bar\"}],                        {\"template\":{\"layout\":{\"colorway\":[\"#114B8F\",\"#248F11\",\"#8F6211\",\"#8F116C\",\"#1A293A\"],\"font\":{\"family\":\"Inter Variable, Inter\"},\"showlegend\":false,\"template\":{\"data\":{\"barpolar\":[{\"marker\":{\"line\":{\"color\":\"white\",\"width\":0.5},\"pattern\":{\"fillmode\":\"overlay\",\"size\":10,\"solidity\":0.2}},\"type\":\"barpolar\"}],\"bar\":[{\"error_x\":{\"color\":\"rgb(36,36,36)\"},\"error_y\":{\"color\":\"rgb(36,36,36)\"},\"marker\":{\"line\":{\"color\":\"white\",\"width\":0.5},\"pattern\":{\"fillmode\":\"overlay\",\"size\":10,\"solidity\":0.2}},\"type\":\"bar\"}],\"carpet\":[{\"aaxis\":{\"endlinecolor\":\"rgb(36,36,36)\",\"gridcolor\":\"white\",\"linecolor\":\"white\",\"minorgridcolor\":\"white\",\"startlinecolor\":\"rgb(36,36,36)\"},\"baxis\":{\"endlinecolor\":\"rgb(36,36,36)\",\"gridcolor\":\"white\",\"linecolor\":\"white\",\"minorgridcolor\":\"white\",\"startlinecolor\":\"rgb(36,36,36)\"},\"type\":\"carpet\"}],\"choropleth\":[{\"colorbar\":{\"outlinewidth\":1,\"tickcolor\":\"rgb(36,36,36)\",\"ticks\":\"outside\"},\"type\":\"choropleth\"}],\"contourcarpet\":[{\"colorbar\":{\"outlinewidth\":1,\"tickcolor\":\"rgb(36,36,36)\",\"ticks\":\"outside\"},\"type\":\"contourcarpet\"}],\"contour\":[{\"colorbar\":{\"outlinewidth\":1,\"tickcolor\":\"rgb(36,36,36)\",\"ticks\":\"outside\"},\"colorscale\":[[0.0,\"#440154\"],[0.1111111111111111,\"#482878\"],[0.2222222222222222,\"#3e4989\"],[0.3333333333333333,\"#31688e\"],[0.4444444444444444,\"#26828e\"],[0.5555555555555556,\"#1f9e89\"],[0.6666666666666666,\"#35b779\"],[0.7777777777777778,\"#6ece58\"],[0.8888888888888888,\"#b5de2b\"],[1.0,\"#fde725\"]],\"type\":\"contour\"}],\"heatmapgl\":[{\"colorbar\":{\"outlinewidth\":1,\"tickcolor\":\"rgb(36,36,36)\",\"ticks\":\"outside\"},\"colorscale\":[[0.0,\"#440154\"],[0.1111111111111111,\"#482878\"],[0.2222222222222222,\"#3e4989\"],[0.3333333333333333,\"#31688e\"],[0.4444444444444444,\"#26828e\"],[0.5555555555555556,\"#1f9e89\"],[0.6666666666666666,\"#35b779\"],[0.7777777777777778,\"#6ece58\"],[0.8888888888888888,\"#b5de2b\"],[1.0,\"#fde725\"]],\"type\":\"heatmapgl\"}],\"heatmap\":[{\"colorbar\":{\"outlinewidth\":1,\"tickcolor\":\"rgb(36,36,36)\",\"ticks\":\"outside\"},\"colorscale\":[[0.0,\"#440154\"],[0.1111111111111111,\"#482878\"],[0.2222222222222222,\"#3e4989\"],[0.3333333333333333,\"#31688e\"],[0.4444444444444444,\"#26828e\"],[0.5555555555555556,\"#1f9e89\"],[0.6666666666666666,\"#35b779\"],[0.7777777777777778,\"#6ece58\"],[0.8888888888888888,\"#b5de2b\"],[1.0,\"#fde725\"]],\"type\":\"heatmap\"}],\"histogram2dcontour\":[{\"colorbar\":{\"outlinewidth\":1,\"tickcolor\":\"rgb(36,36,36)\",\"ticks\":\"outside\"},\"colorscale\":[[0.0,\"#440154\"],[0.1111111111111111,\"#482878\"],[0.2222222222222222,\"#3e4989\"],[0.3333333333333333,\"#31688e\"],[0.4444444444444444,\"#26828e\"],[0.5555555555555556,\"#1f9e89\"],[0.6666666666666666,\"#35b779\"],[0.7777777777777778,\"#6ece58\"],[0.8888888888888888,\"#b5de2b\"],[1.0,\"#fde725\"]],\"type\":\"histogram2dcontour\"}],\"histogram2d\":[{\"colorbar\":{\"outlinewidth\":1,\"tickcolor\":\"rgb(36,36,36)\",\"ticks\":\"outside\"},\"colorscale\":[[0.0,\"#440154\"],[0.1111111111111111,\"#482878\"],[0.2222222222222222,\"#3e4989\"],[0.3333333333333333,\"#31688e\"],[0.4444444444444444,\"#26828e\"],[0.5555555555555556,\"#1f9e89\"],[0.6666666666666666,\"#35b779\"],[0.7777777777777778,\"#6ece58\"],[0.8888888888888888,\"#b5de2b\"],[1.0,\"#fde725\"]],\"type\":\"histogram2d\"}],\"histogram\":[{\"marker\":{\"line\":{\"color\":\"white\",\"width\":0.6}},\"type\":\"histogram\"}],\"mesh3d\":[{\"colorbar\":{\"outlinewidth\":1,\"tickcolor\":\"rgb(36,36,36)\",\"ticks\":\"outside\"},\"type\":\"mesh3d\"}],\"parcoords\":[{\"line\":{\"colorbar\":{\"outlinewidth\":1,\"tickcolor\":\"rgb(36,36,36)\",\"ticks\":\"outside\"}},\"type\":\"parcoords\"}],\"pie\":[{\"automargin\":true,\"type\":\"pie\"}],\"scatter3d\":[{\"line\":{\"colorbar\":{\"outlinewidth\":1,\"tickcolor\":\"rgb(36,36,36)\",\"ticks\":\"outside\"}},\"marker\":{\"colorbar\":{\"outlinewidth\":1,\"tickcolor\":\"rgb(36,36,36)\",\"ticks\":\"outside\"}},\"type\":\"scatter3d\"}],\"scattercarpet\":[{\"marker\":{\"colorbar\":{\"outlinewidth\":1,\"tickcolor\":\"rgb(36,36,36)\",\"ticks\":\"outside\"}},\"type\":\"scattercarpet\"}],\"scattergeo\":[{\"marker\":{\"colorbar\":{\"outlinewidth\":1,\"tickcolor\":\"rgb(36,36,36)\",\"ticks\":\"outside\"}},\"type\":\"scattergeo\"}],\"scattergl\":[{\"marker\":{\"colorbar\":{\"outlinewidth\":1,\"tickcolor\":\"rgb(36,36,36)\",\"ticks\":\"outside\"}},\"type\":\"scattergl\"}],\"scattermapbox\":[{\"marker\":{\"colorbar\":{\"outlinewidth\":1,\"tickcolor\":\"rgb(36,36,36)\",\"ticks\":\"outside\"}},\"type\":\"scattermapbox\"}],\"scatterpolargl\":[{\"marker\":{\"colorbar\":{\"outlinewidth\":1,\"tickcolor\":\"rgb(36,36,36)\",\"ticks\":\"outside\"}},\"type\":\"scatterpolargl\"}],\"scatterpolar\":[{\"marker\":{\"colorbar\":{\"outlinewidth\":1,\"tickcolor\":\"rgb(36,36,36)\",\"ticks\":\"outside\"}},\"type\":\"scatterpolar\"}],\"scatter\":[{\"fillpattern\":{\"fillmode\":\"overlay\",\"size\":10,\"solidity\":0.2},\"type\":\"scatter\"}],\"scatterternary\":[{\"marker\":{\"colorbar\":{\"outlinewidth\":1,\"tickcolor\":\"rgb(36,36,36)\",\"ticks\":\"outside\"}},\"type\":\"scatterternary\"}],\"surface\":[{\"colorbar\":{\"outlinewidth\":1,\"tickcolor\":\"rgb(36,36,36)\",\"ticks\":\"outside\"},\"colorscale\":[[0.0,\"#440154\"],[0.1111111111111111,\"#482878\"],[0.2222222222222222,\"#3e4989\"],[0.3333333333333333,\"#31688e\"],[0.4444444444444444,\"#26828e\"],[0.5555555555555556,\"#1f9e89\"],[0.6666666666666666,\"#35b779\"],[0.7777777777777778,\"#6ece58\"],[0.8888888888888888,\"#b5de2b\"],[1.0,\"#fde725\"]],\"type\":\"surface\"}],\"table\":[{\"cells\":{\"fill\":{\"color\":\"rgb(237,237,237)\"},\"line\":{\"color\":\"white\"}},\"header\":{\"fill\":{\"color\":\"rgb(217,217,217)\"},\"line\":{\"color\":\"white\"}},\"type\":\"table\"}]},\"layout\":{\"annotationdefaults\":{\"arrowhead\":0,\"arrowwidth\":1},\"autotypenumbers\":\"strict\",\"coloraxis\":{\"colorbar\":{\"outlinewidth\":1,\"tickcolor\":\"rgb(36,36,36)\",\"ticks\":\"outside\"}},\"colorscale\":{\"diverging\":[[0.0,\"rgb(103,0,31)\"],[0.1,\"rgb(178,24,43)\"],[0.2,\"rgb(214,96,77)\"],[0.3,\"rgb(244,165,130)\"],[0.4,\"rgb(253,219,199)\"],[0.5,\"rgb(247,247,247)\"],[0.6,\"rgb(209,229,240)\"],[0.7,\"rgb(146,197,222)\"],[0.8,\"rgb(67,147,195)\"],[0.9,\"rgb(33,102,172)\"],[1.0,\"rgb(5,48,97)\"]],\"sequential\":[[0.0,\"#440154\"],[0.1111111111111111,\"#482878\"],[0.2222222222222222,\"#3e4989\"],[0.3333333333333333,\"#31688e\"],[0.4444444444444444,\"#26828e\"],[0.5555555555555556,\"#1f9e89\"],[0.6666666666666666,\"#35b779\"],[0.7777777777777778,\"#6ece58\"],[0.8888888888888888,\"#b5de2b\"],[1.0,\"#fde725\"]],\"sequentialminus\":[[0.0,\"#440154\"],[0.1111111111111111,\"#482878\"],[0.2222222222222222,\"#3e4989\"],[0.3333333333333333,\"#31688e\"],[0.4444444444444444,\"#26828e\"],[0.5555555555555556,\"#1f9e89\"],[0.6666666666666666,\"#35b779\"],[0.7777777777777778,\"#6ece58\"],[0.8888888888888888,\"#b5de2b\"],[1.0,\"#fde725\"]]},\"colorway\":[\"#1F77B4\",\"#FF7F0E\",\"#2CA02C\",\"#D62728\",\"#9467BD\",\"#8C564B\",\"#E377C2\",\"#7F7F7F\",\"#BCBD22\",\"#17BECF\"],\"font\":{\"color\":\"rgb(36,36,36)\"},\"geo\":{\"bgcolor\":\"white\",\"lakecolor\":\"white\",\"landcolor\":\"white\",\"showlakes\":true,\"showland\":true,\"subunitcolor\":\"white\"},\"hoverlabel\":{\"align\":\"left\"},\"hovermode\":\"closest\",\"mapbox\":{\"style\":\"light\"},\"paper_bgcolor\":\"white\",\"plot_bgcolor\":\"white\",\"polar\":{\"angularaxis\":{\"gridcolor\":\"rgb(232,232,232)\",\"linecolor\":\"rgb(36,36,36)\",\"showgrid\":false,\"showline\":true,\"ticks\":\"outside\"},\"bgcolor\":\"white\",\"radialaxis\":{\"gridcolor\":\"rgb(232,232,232)\",\"linecolor\":\"rgb(36,36,36)\",\"showgrid\":false,\"showline\":true,\"ticks\":\"outside\"}},\"scene\":{\"xaxis\":{\"backgroundcolor\":\"white\",\"gridcolor\":\"rgb(232,232,232)\",\"gridwidth\":2,\"linecolor\":\"rgb(36,36,36)\",\"showbackground\":true,\"showgrid\":false,\"showline\":true,\"ticks\":\"outside\",\"zeroline\":false,\"zerolinecolor\":\"rgb(36,36,36)\"},\"yaxis\":{\"backgroundcolor\":\"white\",\"gridcolor\":\"rgb(232,232,232)\",\"gridwidth\":2,\"linecolor\":\"rgb(36,36,36)\",\"showbackground\":true,\"showgrid\":false,\"showline\":true,\"ticks\":\"outside\",\"zeroline\":false,\"zerolinecolor\":\"rgb(36,36,36)\"},\"zaxis\":{\"backgroundcolor\":\"white\",\"gridcolor\":\"rgb(232,232,232)\",\"gridwidth\":2,\"linecolor\":\"rgb(36,36,36)\",\"showbackground\":true,\"showgrid\":false,\"showline\":true,\"ticks\":\"outside\",\"zeroline\":false,\"zerolinecolor\":\"rgb(36,36,36)\"}},\"shapedefaults\":{\"fillcolor\":\"black\",\"line\":{\"width\":0},\"opacity\":0.3},\"ternary\":{\"aaxis\":{\"gridcolor\":\"rgb(232,232,232)\",\"linecolor\":\"rgb(36,36,36)\",\"showgrid\":false,\"showline\":true,\"ticks\":\"outside\"},\"baxis\":{\"gridcolor\":\"rgb(232,232,232)\",\"linecolor\":\"rgb(36,36,36)\",\"showgrid\":false,\"showline\":true,\"ticks\":\"outside\"},\"bgcolor\":\"white\",\"caxis\":{\"gridcolor\":\"rgb(232,232,232)\",\"linecolor\":\"rgb(36,36,36)\",\"showgrid\":false,\"showline\":true,\"ticks\":\"outside\"}},\"title\":{\"x\":0.05},\"xaxis\":{\"automargin\":true,\"gridcolor\":\"rgb(232,232,232)\",\"linecolor\":\"rgb(36,36,36)\",\"showgrid\":false,\"showline\":true,\"ticks\":\"outside\",\"title\":{\"standoff\":15},\"zeroline\":false,\"zerolinecolor\":\"rgb(36,36,36)\"},\"yaxis\":{\"automargin\":true,\"gridcolor\":\"rgb(232,232,232)\",\"linecolor\":\"rgb(36,36,36)\",\"showgrid\":false,\"showline\":true,\"ticks\":\"outside\",\"title\":{\"standoff\":15},\"zeroline\":false,\"zerolinecolor\":\"rgb(36,36,36)\"}}},\"title\":{\"font\":{\"family\":\"Inter Variable, Inter Tight, Inter\",\"weight\":\"bold\"}},\"xaxis\":{\"showgrid\":false},\"yaxis\":{\"showgrid\":false}}},\"xaxis\":{\"anchor\":\"y\",\"domain\":[0.0,1.0],\"title\":{\"text\":\"Metric\"}},\"yaxis\":{\"anchor\":\"x\",\"domain\":[0.0,1.0],\"title\":{\"text\":\"% Difference (new - curr)\"}},\"legend\":{\"title\":{\"text\":\"variable\"},\"tracegroupgap\":0},\"margin\":{\"t\":60},\"barmode\":\"group\",\"title\":{\"text\":\"Metric Diff Comparisons\"}},                        {\"responsive\": true}                    ).then(function(){\n",
       "                            \n",
       "var gd = document.getElementById('f65f2fa4-8529-480f-abec-decb13e7a267');\n",
       "var x = new MutationObserver(function (mutations, observer) {{\n",
       "        var display = window.getComputedStyle(gd).display;\n",
       "        if (!display || display === 'none') {{\n",
       "            console.log([gd, 'removed!']);\n",
       "            Plotly.purge(gd);\n",
       "            observer.disconnect();\n",
       "        }}\n",
       "}});\n",
       "\n",
       "// Listen for the removal of the full notebook cells\n",
       "var notebookContainer = gd.closest('#notebook-container');\n",
       "if (notebookContainer) {{\n",
       "    x.observe(notebookContainer, {childList: true});\n",
       "}}\n",
       "\n",
       "// Listen for the clearing of the current output cell\n",
       "var outputEl = gd.closest('.output');\n",
       "if (outputEl) {{\n",
       "    x.observe(outputEl, {childList: true});\n",
       "}}\n",
       "\n",
       "                        })                };                });            </script>        </div>"
      ]
     },
     "metadata": {},
     "output_type": "display_data"
    },
    {
     "name": "stderr",
     "output_type": "stream",
     "text": [
      "\u001b[32m2024-11-16 17:04:43.363\u001b[0m | \u001b[1mINFO    \u001b[0m | \u001b[36m__main__\u001b[0m:\u001b[36m<module>\u001b[0m:\u001b[36m41\u001b[0m - \u001b[1mCurrent run has ROC-AUC = 0.8012, smaller than 0.8766. Skip aliasing this model as the new champion..\u001b[0m\n"
     ]
    }
   ],
   "source": [
    "if args.log_to_mlflow:\n",
    "    # Get current champion\n",
    "    deploy_alias = \"champion\"\n",
    "    curr_model_run_id = None\n",
    "\n",
    "    min_roc_auc = args.min_roc_auc\n",
    "\n",
    "    try:\n",
    "        curr_champion_model = mlf_client.get_model_version_by_alias(\n",
    "            args.mlf_model_name, deploy_alias\n",
    "        )\n",
    "        curr_model_run_id = curr_champion_model.run_id\n",
    "    except MlflowException as e:\n",
    "        if \"not found\" in str(e).lower():\n",
    "            logger.info(\n",
    "                f\"There is no {deploy_alias} alias for model {args.mlf_model_name}\"\n",
    "            )\n",
    "\n",
    "    # Compare new vs curr models\n",
    "    new_mlf_run = trainer.logger.experiment.get_run(trainer.logger.run_id)\n",
    "    new_metrics = new_mlf_run.data.metrics\n",
    "    val_roc_auc = new_metrics[\"val_roc_auc\"]\n",
    "    if curr_model_run_id:\n",
    "        curr_model_run_info = mlf_client.get_run(curr_model_run_id)\n",
    "        curr_metrics = curr_model_run_info.data.metrics\n",
    "        if (curr_roc_auc := curr_metrics[\"val_roc_auc\"]) > min_roc_auc:\n",
    "            logger.info(\n",
    "                f\"Current {deploy_alias} model has {curr_roc_auc:,.4f} ROC-AUC. Setting it to the deploy baseline...\"\n",
    "            )\n",
    "            min_roc_auc = curr_roc_auc\n",
    "\n",
    "        top_metrics = [\"val_roc_auc\", \"val_PersonalizationMetric\"]\n",
    "        vizer = ModelMetricsComparisonVisualizer(curr_metrics, new_metrics, top_metrics)\n",
    "        print(f\"Comparing metrics between new run and current champion:\")\n",
    "        display(vizer.compare_metrics_df())\n",
    "        vizer.create_metrics_comparison_plot(n_cols=5)\n",
    "        vizer.plot_diff()\n",
    "\n",
    "    # Register new champion\n",
    "    if val_roc_auc < min_roc_auc:\n",
    "        logger.info(\n",
    "            f\"Current run has ROC-AUC = {val_roc_auc:,.4f}, smaller than {min_roc_auc:,.4f}. Skip aliasing this model as the new {deploy_alias}..\"\n",
    "        )\n",
    "    else:\n",
    "        logger.info(f\"Aliasing the new model as champion...\")\n",
    "        # Get the model version for current run by assuming it's the most recent registered version\n",
    "        model_version = (\n",
    "            mlf_client.get_registered_model(args.mlf_model_name)\n",
    "            .latest_versions[0]\n",
    "            .version\n",
    "        )\n",
    "\n",
    "        mlf_client.set_registered_model_alias(\n",
    "            name=args.mlf_model_name, alias=\"champion\", version=model_version\n",
    "        )\n",
    "\n",
    "        mlf_client.set_model_version_tag(\n",
    "            name=args.mlf_model_name,\n",
    "            version=model_version,\n",
    "            key=\"author\",\n",
    "            value=args.author,\n",
    "        )"
   ]
  },
  {
   "cell_type": "markdown",
   "id": "fd09b91a-023e-4db4-8f10-e0444b118c85",
   "metadata": {},
   "source": [
    "# Clean up"
   ]
  },
  {
   "cell_type": "code",
   "execution_count": 34,
   "id": "719214cc-6c54-44ad-997e-ad3e18fbba95",
   "metadata": {
    "scrolled": true
   },
   "outputs": [
    {
     "name": "stderr",
     "output_type": "stream",
     "text": [
      "2024/11/16 16:59:01 INFO mlflow.tracking._tracking_service.client: 🏃 View run 038-update-compare-metrics at: http://localhost:5002/#/experiments/3/runs/c18ad4e5fa9d47039119a9a66110ac43.\n",
      "2024/11/16 16:59:01 INFO mlflow.tracking._tracking_service.client: 🧪 View experiment at: http://localhost:5002/#/experiments/3.\n"
     ]
    }
   ],
   "source": [
    "all_params = [args]\n",
    "\n",
    "if args.log_to_mlflow:\n",
    "    with mlflow.start_run(run_id=run_id):\n",
    "        for params in all_params:\n",
    "            params_dict = params.dict()\n",
    "            params_ = dict()\n",
    "            for k, v in params_dict.items():\n",
    "                if k == \"top_K\":\n",
    "                    k = \"top_big_K\"\n",
    "                if k == \"top_k\":\n",
    "                    k = \"top_small_k\"\n",
    "                params_[f\"{params.__repr_name__()}.{k}\"] = v\n",
    "            mlflow.log_params(params_)"
   ]
  },
  {
   "cell_type": "code",
   "execution_count": null,
   "id": "30cff81a-484e-4919-be8f-0351cce91a75",
   "metadata": {},
   "outputs": [],
   "source": []
  }
 ],
 "metadata": {
  "kernelspec": {
   "display_name": "Python 3 (ipykernel)",
   "language": "python",
   "name": "python3"
  },
  "language_info": {
   "codemirror_mode": {
    "name": "ipython",
    "version": 3
   },
   "file_extension": ".py",
   "mimetype": "text/x-python",
   "name": "python",
   "nbconvert_exporter": "python",
   "pygments_lexer": "ipython3",
   "version": "3.11.9"
  }
 },
 "nbformat": 4,
 "nbformat_minor": 5
}
