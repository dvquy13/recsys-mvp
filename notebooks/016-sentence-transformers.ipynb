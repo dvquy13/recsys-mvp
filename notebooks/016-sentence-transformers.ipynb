{
 "cells": [
  {
   "cell_type": "code",
   "execution_count": 1,
   "id": "df353e13-622b-4bc2-858f-f3f9a28a9ec0",
   "metadata": {},
   "outputs": [
    {
     "data": {
      "text/plain": [
       "True"
      ]
     },
     "execution_count": 1,
     "metadata": {},
     "output_type": "execute_result"
    }
   ],
   "source": [
    "import sys\n",
    "import os\n",
    "import pandas as pd\n",
    "from datasets import load_dataset\n",
    "from tqdm.auto import tqdm\n",
    "import numpy as np\n",
    "from sentence_transformers import SentenceTransformer\n",
    "import torch\n",
    "from dotenv import load_dotenv\n",
    "from loguru import logger\n",
    "from pydantic import BaseModel\n",
    "from qdrant_client import QdrantClient\n",
    "from qdrant_client.models import Distance, PointStruct, VectorParams\n",
    "\n",
    "sys.path.insert(0, '..')\n",
    "\n",
    "from src.id_mapper import IDMapper\n",
    "\n",
    "load_dotenv()"
   ]
  },
  {
   "cell_type": "markdown",
   "id": "cdb2a457-148f-4ee7-a8ac-12c84126e821",
   "metadata": {},
   "source": [
    "# Controller"
   ]
  },
  {
   "cell_type": "code",
   "execution_count": 2,
   "id": "0397659a-be35-4cae-869c-4831aa50795d",
   "metadata": {
    "scrolled": true
   },
   "outputs": [
    {
     "name": "stdout",
     "output_type": "stream",
     "text": [
      "{\n",
      "  \"testing\": false,\n",
      "  \"notebook_persist_dp\": null,\n",
      "  \"random_seed\": 41,\n",
      "  \"user_col\": \"user_id\",\n",
      "  \"item_col\": \"parent_asin\",\n",
      "  \"rating_col\": \"rating\",\n",
      "  \"timestamp_col\": \"timestamp\",\n",
      "  \"qdrant_url\": \"localhost:6333\",\n",
      "  \"qdrant_collection_name\": \"item_desc_sbert\",\n",
      "  \"top_k\": 10\n",
      "}\n"
     ]
    }
   ],
   "source": [
    "class Args(BaseModel):\n",
    "    testing: bool = False\n",
    "    notebook_persist_dp: str = None\n",
    "    random_seed: int = 41\n",
    "\n",
    "    user_col: str = \"user_id\"\n",
    "    item_col: str = \"parent_asin\"\n",
    "    rating_col: str = \"rating\"\n",
    "    timestamp_col: str = \"timestamp\"\n",
    "\n",
    "    qdrant_url: str = None\n",
    "    qdrant_collection_name: str = \"item_desc_sbert\"\n",
    "\n",
    "    top_k: int = 10\n",
    "\n",
    "    def init(self):\n",
    "        if not (qdrant_host := os.getenv(\"QDRANT_HOST\")):\n",
    "            raise Exception(f\"Environment variable QDRANT_HOST is not set.\")\n",
    "\n",
    "        qdrant_port = os.getenv(\"QDRANT_PORT\")\n",
    "        self.qdrant_url = f\"{qdrant_host}:{qdrant_port}\"\n",
    "\n",
    "        return self\n",
    "\n",
    "args = Args().init()\n",
    "\n",
    "print(args.model_dump_json(indent=2))"
   ]
  },
  {
   "cell_type": "markdown",
   "id": "e5646094-7f08-4814-8a32-8bba264dfeb3",
   "metadata": {},
   "source": [
    "# Load model"
   ]
  },
  {
   "cell_type": "code",
   "execution_count": 4,
   "id": "975072a3-4a43-42f7-ba4b-0e0bfa00b65b",
   "metadata": {},
   "outputs": [
    {
     "name": "stderr",
     "output_type": "stream",
     "text": [
      "Default prompt name is set to 'clustering'. This prompt will be applied to all `encode()` calls, except if `encode()` is called with `prompt` or `prompt_name` parameters.\n"
     ]
    },
    {
     "name": "stdout",
     "output_type": "stream",
     "text": [
      "(7, 768)\n",
      "tensor([[1.0000, 0.7523, 0.7229, 0.6226, 0.6043, 0.6279, 0.6148],\n",
      "        [0.7523, 1.0000, 0.6922, 0.6775, 0.6057, 0.6701, 0.6665],\n",
      "        [0.7229, 0.6922, 1.0000, 0.7260, 0.6649, 0.6406, 0.6467],\n",
      "        [0.6226, 0.6775, 0.7260, 1.0000, 0.7900, 0.7606, 0.7804],\n",
      "        [0.6043, 0.6057, 0.6649, 0.7900, 1.0000, 0.7972, 0.8204],\n",
      "        [0.6279, 0.6701, 0.6406, 0.7606, 0.7972, 1.0000, 0.9076],\n",
      "        [0.6148, 0.6665, 0.6467, 0.7804, 0.8204, 0.9076, 1.0000]])\n"
     ]
    }
   ],
   "source": [
    "model = SentenceTransformer(\n",
    "    \"all-mpnet-base-v2\",\n",
    "    prompts={\n",
    "        \"classification\": \"Classify the following entertainment product description into different characteristics: \",\n",
    "        \"retrieval\": \"Retrieve semantically similar text: \",\n",
    "        \"clustering\": \"Identify the topic or theme based on the text: \",\n",
    "    },\n",
    "    default_prompt_name=\"clustering\",\n",
    ")\n",
    "\n",
    "# The sentences to encode\n",
    "sentences = [\n",
    "    \"Super Mario\",\n",
    "    \"Pokemon\",\n",
    "    \"Final Fantasy\",\n",
    "    \"Diablo 3\",\n",
    "    \"World of Warcraft\",\n",
    "    \"Dota\",\n",
    "    \"League of Legends\"\n",
    "]\n",
    "\n",
    "# 2. Calculate embeddings by calling model.encode()\n",
    "embeddings = model.encode(sentences)\n",
    "print(embeddings.shape)\n",
    "\n",
    "# 3. Calculate the embedding similarities\n",
    "similarities = model.similarity(embeddings, embeddings)\n",
    "print(similarities)"
   ]
  },
  {
   "cell_type": "markdown",
   "id": "03bb8fdd-5e7b-4e8d-8ad7-97e29e8f0997",
   "metadata": {},
   "source": [
    "# Load data"
   ]
  },
  {
   "cell_type": "code",
   "execution_count": 5,
   "id": "e2a76c05-f49f-452e-8aa5-6e633d42d1d0",
   "metadata": {},
   "outputs": [],
   "source": [
    "idm_fp = \"../data/idm.json\"\n",
    "idm = IDMapper().load(idm_fp)"
   ]
  },
  {
   "cell_type": "code",
   "execution_count": 6,
   "id": "d1b4bede-7ad3-4d33-acb4-a96895856fc4",
   "metadata": {
    "scrolled": true
   },
   "outputs": [
    {
     "data": {
      "text/html": [
       "<div>\n",
       "<style scoped>\n",
       "    .dataframe tbody tr th:only-of-type {\n",
       "        vertical-align: middle;\n",
       "    }\n",
       "\n",
       "    .dataframe tbody tr th {\n",
       "        vertical-align: top;\n",
       "    }\n",
       "\n",
       "    .dataframe thead th {\n",
       "        text-align: right;\n",
       "    }\n",
       "</style>\n",
       "<table border=\"1\" class=\"dataframe\">\n",
       "  <thead>\n",
       "    <tr style=\"text-align: right;\">\n",
       "      <th></th>\n",
       "      <th>main_category</th>\n",
       "      <th>title</th>\n",
       "      <th>average_rating</th>\n",
       "      <th>rating_number</th>\n",
       "      <th>features</th>\n",
       "      <th>description</th>\n",
       "      <th>price</th>\n",
       "      <th>images</th>\n",
       "      <th>videos</th>\n",
       "      <th>store</th>\n",
       "      <th>categories</th>\n",
       "      <th>details</th>\n",
       "      <th>parent_asin</th>\n",
       "      <th>bought_together</th>\n",
       "      <th>subtitle</th>\n",
       "      <th>author</th>\n",
       "      <th>item_indice</th>\n",
       "    </tr>\n",
       "  </thead>\n",
       "  <tbody>\n",
       "    <tr>\n",
       "      <th>2</th>\n",
       "      <td>Video Games</td>\n",
       "      <td>NBA 2K17 - Early Tip Off Edition - PlayStation 4</td>\n",
       "      <td>4.3</td>\n",
       "      <td>223</td>\n",
       "      <td>[The #1 rated NBA video game simulation series...</td>\n",
       "      <td>[Following the record-breaking launch of NBA 2...</td>\n",
       "      <td>58.0</td>\n",
       "      <td>{'hi_res': ['https://m.media-amazon.com/images...</td>\n",
       "      <td>{'title': ['NBA 2K17 - Kobe: Haters vs Players...</td>\n",
       "      <td>2K</td>\n",
       "      <td>[Video Games, PlayStation 4, Games]</td>\n",
       "      <td>{\"Release date\": \"September 16, 2016\", \"Best S...</td>\n",
       "      <td>B00Z9TLVK0</td>\n",
       "      <td>None</td>\n",
       "      <td>None</td>\n",
       "      <td>None</td>\n",
       "      <td>3057</td>\n",
       "    </tr>\n",
       "    <tr>\n",
       "      <th>15</th>\n",
       "      <td>Video Games</td>\n",
       "      <td>Warhammer 40,000 Dawn of War Game of the Year ...</td>\n",
       "      <td>4.0</td>\n",
       "      <td>68</td>\n",
       "      <td>[Real-time strategy game based on the popular ...</td>\n",
       "      <td>[From the Manufacturer, This Game of The Year ...</td>\n",
       "      <td>29.95</td>\n",
       "      <td>{'hi_res': [None, 'https://m.media-amazon.com/...</td>\n",
       "      <td>{'title': [], 'url': [], 'user_id': []}</td>\n",
       "      <td>THQ</td>\n",
       "      <td>[Video Games, PC, Games]</td>\n",
       "      <td>{\"Release date\": \"September 20, 2005\", \"Best S...</td>\n",
       "      <td>B001EYUX4Y</td>\n",
       "      <td>None</td>\n",
       "      <td>None</td>\n",
       "      <td>None</td>\n",
       "      <td>1020</td>\n",
       "    </tr>\n",
       "    <tr>\n",
       "      <th>46</th>\n",
       "      <td>Video Games</td>\n",
       "      <td>Polk Audio Striker Zx Xbox One Gaming Headset ...</td>\n",
       "      <td>3.9</td>\n",
       "      <td>169</td>\n",
       "      <td>[Powered by 40 years of audio heritage and tun...</td>\n",
       "      <td>[Our ProFit Comfort system creates a lightweig...</td>\n",
       "      <td>None</td>\n",
       "      <td>{'hi_res': ['https://m.media-amazon.com/images...</td>\n",
       "      <td>{'title': [], 'url': [], 'user_id': []}</td>\n",
       "      <td>Polk Audio</td>\n",
       "      <td>[Video Games, Xbox One, Accessories, Headsets]</td>\n",
       "      <td>{\"Release date\": \"October 5, 2014\", \"Best Sell...</td>\n",
       "      <td>B00OLOQGAY</td>\n",
       "      <td>None</td>\n",
       "      <td>None</td>\n",
       "      <td>None</td>\n",
       "      <td>2876</td>\n",
       "    </tr>\n",
       "    <tr>\n",
       "      <th>63</th>\n",
       "      <td>Video Games</td>\n",
       "      <td>The Legend of Heroes: Trails in the Sky - Sony...</td>\n",
       "      <td>4.4</td>\n",
       "      <td>91</td>\n",
       "      <td>[After a brief hiatus since its last release i...</td>\n",
       "      <td>[Product Description, In the peaceful town of ...</td>\n",
       "      <td>185.0</td>\n",
       "      <td>{'hi_res': ['https://m.media-amazon.com/images...</td>\n",
       "      <td>{'title': ['The Legend of Heroes: Trails in th...</td>\n",
       "      <td>Xseed Games</td>\n",
       "      <td>[Video Games, Legacy Systems, PlayStation Syst...</td>\n",
       "      <td>{\"Release date\": \"March 29, 2011\", \"Best Selle...</td>\n",
       "      <td>B004BV5O0U</td>\n",
       "      <td>None</td>\n",
       "      <td>None</td>\n",
       "      <td>None</td>\n",
       "      <td>1663</td>\n",
       "    </tr>\n",
       "    <tr>\n",
       "      <th>65</th>\n",
       "      <td>Video Games</td>\n",
       "      <td>Harry Potter: Goblet of Fire - Sony PSP</td>\n",
       "      <td>3.6</td>\n",
       "      <td>38</td>\n",
       "      <td>[All the Magic of the Movie - Characters model...</td>\n",
       "      <td>[From the Manufacturer, Be Harry Potter in a n...</td>\n",
       "      <td>19.43</td>\n",
       "      <td>{'hi_res': [None, 'https://m.media-amazon.com/...</td>\n",
       "      <td>{'title': [], 'url': [], 'user_id': []}</td>\n",
       "      <td>Electronic Arts</td>\n",
       "      <td>[Purchase Circles, Geography, United States, M...</td>\n",
       "      <td>{\"Release date\": \"September 8, 2006\", \"Best Se...</td>\n",
       "      <td>B001ELJEA6</td>\n",
       "      <td>None</td>\n",
       "      <td>None</td>\n",
       "      <td>None</td>\n",
       "      <td>785</td>\n",
       "    </tr>\n",
       "    <tr>\n",
       "      <th>...</th>\n",
       "      <td>...</td>\n",
       "      <td>...</td>\n",
       "      <td>...</td>\n",
       "      <td>...</td>\n",
       "      <td>...</td>\n",
       "      <td>...</td>\n",
       "      <td>...</td>\n",
       "      <td>...</td>\n",
       "      <td>...</td>\n",
       "      <td>...</td>\n",
       "      <td>...</td>\n",
       "      <td>...</td>\n",
       "      <td>...</td>\n",
       "      <td>...</td>\n",
       "      <td>...</td>\n",
       "      <td>...</td>\n",
       "      <td>...</td>\n",
       "    </tr>\n",
       "    <tr>\n",
       "      <th>118437</th>\n",
       "      <td>Video Games</td>\n",
       "      <td>Resident Evil 4</td>\n",
       "      <td>4.6</td>\n",
       "      <td>1133</td>\n",
       "      <td>[]</td>\n",
       "      <td>[In Resident Evil 4 you'll know a new type of ...</td>\n",
       "      <td>44.98</td>\n",
       "      <td>{'hi_res': ['https://m.media-amazon.com/images...</td>\n",
       "      <td>{'title': [], 'url': [], 'user_id': []}</td>\n",
       "      <td>Capcom</td>\n",
       "      <td>[Video Games, Legacy Systems, Nintendo Systems...</td>\n",
       "      <td>{\"Release date\": \"June 19, 2007\", \"Best Seller...</td>\n",
       "      <td>B000P46NKC</td>\n",
       "      <td>None</td>\n",
       "      <td>None</td>\n",
       "      <td>None</td>\n",
       "      <td>551</td>\n",
       "    </tr>\n",
       "    <tr>\n",
       "      <th>118457</th>\n",
       "      <td>All Electronics</td>\n",
       "      <td>ivoler Carrying Storage Case for Nintendo Swit...</td>\n",
       "      <td>4.8</td>\n",
       "      <td>13702</td>\n",
       "      <td>[Deluxe Travel Carrying Case. Specially design...</td>\n",
       "      <td>[]</td>\n",
       "      <td>26.39</td>\n",
       "      <td>{'hi_res': ['https://m.media-amazon.com/images...</td>\n",
       "      <td>{'title': [], 'url': [], 'user_id': []}</td>\n",
       "      <td>ivoler</td>\n",
       "      <td>[Video Games, Legacy Systems, Nintendo Systems...</td>\n",
       "      <td>{\"Product Dimensions\": \"11.2 x 4 x 9 inches\", ...</td>\n",
       "      <td>B076GYVWRY</td>\n",
       "      <td>None</td>\n",
       "      <td>None</td>\n",
       "      <td>None</td>\n",
       "      <td>3799</td>\n",
       "    </tr>\n",
       "    <tr>\n",
       "      <th>118459</th>\n",
       "      <td>Video Games</td>\n",
       "      <td>EastVita New Charger Dock + 4 x Battery for Ni...</td>\n",
       "      <td>3.9</td>\n",
       "      <td>676</td>\n",
       "      <td>[Include: 1x Remote Controller Charger 4 x 280...</td>\n",
       "      <td>[Charger Dock + 4 x Battery for Wii Remote]</td>\n",
       "      <td>None</td>\n",
       "      <td>{'hi_res': ['https://m.media-amazon.com/images...</td>\n",
       "      <td>{'title': [], 'url': [], 'user_id': []}</td>\n",
       "      <td>EastVita</td>\n",
       "      <td>[Video Games, Legacy Systems, Nintendo Systems...</td>\n",
       "      <td>{\"Pricing\": \"The strikethrough price is the Li...</td>\n",
       "      <td>B004Y2VAVS</td>\n",
       "      <td>None</td>\n",
       "      <td>None</td>\n",
       "      <td>None</td>\n",
       "      <td>1795</td>\n",
       "    </tr>\n",
       "    <tr>\n",
       "      <th>118510</th>\n",
       "      <td>Video Games</td>\n",
       "      <td>Mario &amp; Luigi: Partners In Time</td>\n",
       "      <td>4.6</td>\n",
       "      <td>607</td>\n",
       "      <td>[Players use the top screen to study the land,...</td>\n",
       "      <td>[Mario and Luigi: Partners In Time an insane s...</td>\n",
       "      <td>99.99</td>\n",
       "      <td>{'hi_res': ['https://m.media-amazon.com/images...</td>\n",
       "      <td>{'title': [], 'url': [], 'user_id': []}</td>\n",
       "      <td>Nintendo</td>\n",
       "      <td>[Video Games, Legacy Systems, Nintendo Systems...</td>\n",
       "      <td>{\"Release date\": \"November 28, 2005\", \"Best Se...</td>\n",
       "      <td>B000B8J7K0</td>\n",
       "      <td>None</td>\n",
       "      <td>None</td>\n",
       "      <td>None</td>\n",
       "      <td>415</td>\n",
       "    </tr>\n",
       "    <tr>\n",
       "      <th>118595</th>\n",
       "      <td>Toys &amp; Games</td>\n",
       "      <td>DC Superman Fun Pack - LEGO Dimensions</td>\n",
       "      <td>4.7</td>\n",
       "      <td>436</td>\n",
       "      <td>[Brand New in box. The product ships with all ...</td>\n",
       "      <td>[When a mysterious and powerful vortex suddenl...</td>\n",
       "      <td>None</td>\n",
       "      <td>{'hi_res': ['https://m.media-amazon.com/images...</td>\n",
       "      <td>{'title': [], 'url': [], 'user_id': []}</td>\n",
       "      <td>WARNER BROS</td>\n",
       "      <td>[Video Games, Legacy Systems, PlayStation Syst...</td>\n",
       "      <td>{\"Product Dimensions\": \"7.99 x 6.77 x 7.4 inch...</td>\n",
       "      <td>B00XUYWTUC</td>\n",
       "      <td>None</td>\n",
       "      <td>None</td>\n",
       "      <td>None</td>\n",
       "      <td>3013</td>\n",
       "    </tr>\n",
       "  </tbody>\n",
       "</table>\n",
       "<p>4630 rows × 17 columns</p>\n",
       "</div>"
      ],
      "text/plain": [
       "          main_category                                              title  \\\n",
       "2           Video Games   NBA 2K17 - Early Tip Off Edition - PlayStation 4   \n",
       "15          Video Games  Warhammer 40,000 Dawn of War Game of the Year ...   \n",
       "46          Video Games  Polk Audio Striker Zx Xbox One Gaming Headset ...   \n",
       "63          Video Games  The Legend of Heroes: Trails in the Sky - Sony...   \n",
       "65          Video Games            Harry Potter: Goblet of Fire - Sony PSP   \n",
       "...                 ...                                                ...   \n",
       "118437      Video Games                                    Resident Evil 4   \n",
       "118457  All Electronics  ivoler Carrying Storage Case for Nintendo Swit...   \n",
       "118459      Video Games  EastVita New Charger Dock + 4 x Battery for Ni...   \n",
       "118510      Video Games                    Mario & Luigi: Partners In Time   \n",
       "118595     Toys & Games             DC Superman Fun Pack - LEGO Dimensions   \n",
       "\n",
       "        average_rating  rating_number  \\\n",
       "2                  4.3            223   \n",
       "15                 4.0             68   \n",
       "46                 3.9            169   \n",
       "63                 4.4             91   \n",
       "65                 3.6             38   \n",
       "...                ...            ...   \n",
       "118437             4.6           1133   \n",
       "118457             4.8          13702   \n",
       "118459             3.9            676   \n",
       "118510             4.6            607   \n",
       "118595             4.7            436   \n",
       "\n",
       "                                                 features  \\\n",
       "2       [The #1 rated NBA video game simulation series...   \n",
       "15      [Real-time strategy game based on the popular ...   \n",
       "46      [Powered by 40 years of audio heritage and tun...   \n",
       "63      [After a brief hiatus since its last release i...   \n",
       "65      [All the Magic of the Movie - Characters model...   \n",
       "...                                                   ...   \n",
       "118437                                                 []   \n",
       "118457  [Deluxe Travel Carrying Case. Specially design...   \n",
       "118459  [Include: 1x Remote Controller Charger 4 x 280...   \n",
       "118510  [Players use the top screen to study the land,...   \n",
       "118595  [Brand New in box. The product ships with all ...   \n",
       "\n",
       "                                              description  price  \\\n",
       "2       [Following the record-breaking launch of NBA 2...   58.0   \n",
       "15      [From the Manufacturer, This Game of The Year ...  29.95   \n",
       "46      [Our ProFit Comfort system creates a lightweig...   None   \n",
       "63      [Product Description, In the peaceful town of ...  185.0   \n",
       "65      [From the Manufacturer, Be Harry Potter in a n...  19.43   \n",
       "...                                                   ...    ...   \n",
       "118437  [In Resident Evil 4 you'll know a new type of ...  44.98   \n",
       "118457                                                 []  26.39   \n",
       "118459        [Charger Dock + 4 x Battery for Wii Remote]   None   \n",
       "118510  [Mario and Luigi: Partners In Time an insane s...  99.99   \n",
       "118595  [When a mysterious and powerful vortex suddenl...   None   \n",
       "\n",
       "                                                   images  \\\n",
       "2       {'hi_res': ['https://m.media-amazon.com/images...   \n",
       "15      {'hi_res': [None, 'https://m.media-amazon.com/...   \n",
       "46      {'hi_res': ['https://m.media-amazon.com/images...   \n",
       "63      {'hi_res': ['https://m.media-amazon.com/images...   \n",
       "65      {'hi_res': [None, 'https://m.media-amazon.com/...   \n",
       "...                                                   ...   \n",
       "118437  {'hi_res': ['https://m.media-amazon.com/images...   \n",
       "118457  {'hi_res': ['https://m.media-amazon.com/images...   \n",
       "118459  {'hi_res': ['https://m.media-amazon.com/images...   \n",
       "118510  {'hi_res': ['https://m.media-amazon.com/images...   \n",
       "118595  {'hi_res': ['https://m.media-amazon.com/images...   \n",
       "\n",
       "                                                   videos            store  \\\n",
       "2       {'title': ['NBA 2K17 - Kobe: Haters vs Players...               2K   \n",
       "15                {'title': [], 'url': [], 'user_id': []}              THQ   \n",
       "46                {'title': [], 'url': [], 'user_id': []}       Polk Audio   \n",
       "63      {'title': ['The Legend of Heroes: Trails in th...      Xseed Games   \n",
       "65                {'title': [], 'url': [], 'user_id': []}  Electronic Arts   \n",
       "...                                                   ...              ...   \n",
       "118437            {'title': [], 'url': [], 'user_id': []}           Capcom   \n",
       "118457            {'title': [], 'url': [], 'user_id': []}           ivoler   \n",
       "118459            {'title': [], 'url': [], 'user_id': []}         EastVita   \n",
       "118510            {'title': [], 'url': [], 'user_id': []}         Nintendo   \n",
       "118595            {'title': [], 'url': [], 'user_id': []}      WARNER BROS   \n",
       "\n",
       "                                               categories  \\\n",
       "2                     [Video Games, PlayStation 4, Games]   \n",
       "15                               [Video Games, PC, Games]   \n",
       "46         [Video Games, Xbox One, Accessories, Headsets]   \n",
       "63      [Video Games, Legacy Systems, PlayStation Syst...   \n",
       "65      [Purchase Circles, Geography, United States, M...   \n",
       "...                                                   ...   \n",
       "118437  [Video Games, Legacy Systems, Nintendo Systems...   \n",
       "118457  [Video Games, Legacy Systems, Nintendo Systems...   \n",
       "118459  [Video Games, Legacy Systems, Nintendo Systems...   \n",
       "118510  [Video Games, Legacy Systems, Nintendo Systems...   \n",
       "118595  [Video Games, Legacy Systems, PlayStation Syst...   \n",
       "\n",
       "                                                  details parent_asin  \\\n",
       "2       {\"Release date\": \"September 16, 2016\", \"Best S...  B00Z9TLVK0   \n",
       "15      {\"Release date\": \"September 20, 2005\", \"Best S...  B001EYUX4Y   \n",
       "46      {\"Release date\": \"October 5, 2014\", \"Best Sell...  B00OLOQGAY   \n",
       "63      {\"Release date\": \"March 29, 2011\", \"Best Selle...  B004BV5O0U   \n",
       "65      {\"Release date\": \"September 8, 2006\", \"Best Se...  B001ELJEA6   \n",
       "...                                                   ...         ...   \n",
       "118437  {\"Release date\": \"June 19, 2007\", \"Best Seller...  B000P46NKC   \n",
       "118457  {\"Product Dimensions\": \"11.2 x 4 x 9 inches\", ...  B076GYVWRY   \n",
       "118459  {\"Pricing\": \"The strikethrough price is the Li...  B004Y2VAVS   \n",
       "118510  {\"Release date\": \"November 28, 2005\", \"Best Se...  B000B8J7K0   \n",
       "118595  {\"Product Dimensions\": \"7.99 x 6.77 x 7.4 inch...  B00XUYWTUC   \n",
       "\n",
       "       bought_together subtitle author  item_indice  \n",
       "2                 None     None   None         3057  \n",
       "15                None     None   None         1020  \n",
       "46                None     None   None         2876  \n",
       "63                None     None   None         1663  \n",
       "65                None     None   None          785  \n",
       "...                ...      ...    ...          ...  \n",
       "118437            None     None   None          551  \n",
       "118457            None     None   None         3799  \n",
       "118459            None     None   None         1795  \n",
       "118510            None     None   None          415  \n",
       "118595            None     None   None         3013  \n",
       "\n",
       "[4630 rows x 17 columns]"
      ]
     },
     "execution_count": 6,
     "metadata": {},
     "output_type": "execute_result"
    }
   ],
   "source": [
    "metadata_raw = load_dataset(\n",
    "    \"McAuley-Lab/Amazon-Reviews-2023\", \"raw_meta_Video_Games\", trust_remote_code=True\n",
    ")\n",
    "metadata_df = (\n",
    "    metadata_raw[\"full\"]\n",
    "    .to_pandas()\n",
    "    .loc[lambda df: df[args.item_col].isin(list(idm.item_to_index.keys()))]\n",
    "    .assign(\n",
    "        item_indice=lambda df: df[args.item_col].map(lambda s: idm.get_item_index(s))\n",
    "    )\n",
    ")\n",
    "assert metadata_df[args.item_col].duplicated().sum() == 0\n",
    "metadata_df"
   ]
  },
  {
   "cell_type": "code",
   "execution_count": 7,
   "id": "34e4af68-51b4-4705-99e3-0a09520d76dc",
   "metadata": {},
   "outputs": [
    {
     "data": {
      "text/plain": [
       "array(['NBA 2K17 - Early Tip Off Edition - PlayStation 4',\n",
       "       'Warhammer 40,000 Dawn of War Game of the Year - PC',\n",
       "       'Polk Audio Striker Zx Xbox One Gaming Headset - Black',\n",
       "       'The Legend of Heroes: Trails in the Sky - Sony PSP',\n",
       "       'Harry Potter: Goblet of Fire - Sony PSP'], dtype=object)"
      ]
     },
     "execution_count": 7,
     "metadata": {},
     "output_type": "execute_result"
    }
   ],
   "source": [
    "titles = metadata_df['title'].values\n",
    "titles[:5]"
   ]
  },
  {
   "cell_type": "code",
   "execution_count": 8,
   "id": "20a4e0a8-e116-43ee-88b1-477f001e9b94",
   "metadata": {},
   "outputs": [
    {
     "name": "stdout",
     "output_type": "stream",
     "text": [
      "CPU times: user 14 s, sys: 2.39 s, total: 16.4 s\n",
      "Wall time: 13 s\n"
     ]
    }
   ],
   "source": [
    "%%time\n",
    "title_embeddings = model.encode(titles)\n",
    "embedding_dim = title_embeddings.shape[1]"
   ]
  },
  {
   "cell_type": "code",
   "execution_count": 9,
   "id": "50995435-a1ab-4957-a093-bcaed874e210",
   "metadata": {},
   "outputs": [
    {
     "data": {
      "text/plain": [
       "array([[ 0.05771705, -0.04336544, -0.02406197, ...,  0.00534384,\n",
       "        -0.04260172, -0.00983627],\n",
       "       [ 0.01018465,  0.03246344, -0.00325039, ..., -0.00215585,\n",
       "        -0.05831467, -0.01222209],\n",
       "       [ 0.03833957, -0.06638431, -0.00046459, ...,  0.00164709,\n",
       "        -0.06160014,  0.00236448],\n",
       "       ...,\n",
       "       [ 0.07847869, -0.05095147,  0.0042989 , ..., -0.03248303,\n",
       "        -0.05708611, -0.01929816],\n",
       "       [ 0.05220518,  0.00836591, -0.02224629, ..., -0.01255159,\n",
       "         0.01264354, -0.00346215],\n",
       "       [ 0.03613825, -0.02936018, -0.02450047, ...,  0.006214  ,\n",
       "        -0.06865519, -0.00285492]], dtype=float32)"
      ]
     },
     "execution_count": 9,
     "metadata": {},
     "output_type": "execute_result"
    }
   ],
   "source": [
    "title_embeddings"
   ]
  },
  {
   "cell_type": "code",
   "execution_count": 10,
   "id": "25de9bb4-23d1-459b-99a9-c805380284e1",
   "metadata": {},
   "outputs": [],
   "source": [
    "query = 'harry potter'\n",
    "query_embedding = model.encode(query)\n",
    "similarities = model.similarity(query_embedding, title_embeddings)"
   ]
  },
  {
   "cell_type": "code",
   "execution_count": 11,
   "id": "890ef574-43bd-4017-ae99-84cb68d1ac1b",
   "metadata": {},
   "outputs": [
    {
     "data": {
      "text/plain": [
       "tensor([[0.5050, 0.5411, 0.4574,  ..., 0.4853, 0.5794, 0.5575]])"
      ]
     },
     "execution_count": 11,
     "metadata": {},
     "output_type": "execute_result"
    }
   ],
   "source": [
    "similarities"
   ]
  },
  {
   "cell_type": "code",
   "execution_count": 12,
   "id": "64405e2d-eb08-44d1-a8b9-99557be3f905",
   "metadata": {},
   "outputs": [],
   "source": [
    "similarities = similarities.squeeze().detach().numpy()\n",
    "nn_indices = np.argpartition(similarities, -10)[-10:]"
   ]
  },
  {
   "cell_type": "code",
   "execution_count": 13,
   "id": "69e2cf99-d90f-4da1-86e2-e3da850f67e6",
   "metadata": {},
   "outputs": [
    {
     "data": {
      "text/html": [
       "<div>\n",
       "<style scoped>\n",
       "    .dataframe tbody tr th:only-of-type {\n",
       "        vertical-align: middle;\n",
       "    }\n",
       "\n",
       "    .dataframe tbody tr th {\n",
       "        vertical-align: top;\n",
       "    }\n",
       "\n",
       "    .dataframe thead th {\n",
       "        text-align: right;\n",
       "    }\n",
       "</style>\n",
       "<table border=\"1\" class=\"dataframe\">\n",
       "  <thead>\n",
       "    <tr style=\"text-align: right;\">\n",
       "      <th></th>\n",
       "      <th>target</th>\n",
       "      <th>score</th>\n",
       "      <th>titles</th>\n",
       "    </tr>\n",
       "  </thead>\n",
       "  <tbody>\n",
       "    <tr>\n",
       "      <th>0</th>\n",
       "      <td>harry potter</td>\n",
       "      <td>0.786267</td>\n",
       "      <td>LEGO Harry Potter: Years 5-7 - Playstation 3</td>\n",
       "    </tr>\n",
       "    <tr>\n",
       "      <th>1</th>\n",
       "      <td>harry potter</td>\n",
       "      <td>0.792318</td>\n",
       "      <td>Lego Harry Potter: Years 5-7 - PlayStation Vita</td>\n",
       "    </tr>\n",
       "    <tr>\n",
       "      <th>2</th>\n",
       "      <td>harry potter</td>\n",
       "      <td>0.852925</td>\n",
       "      <td>Harry Potter and the Deathly Hallows Part 1 - ...</td>\n",
       "    </tr>\n",
       "    <tr>\n",
       "      <th>3</th>\n",
       "      <td>harry potter</td>\n",
       "      <td>0.854980</td>\n",
       "      <td>Harry Potter: Prisoner of Azkaban - Xbox</td>\n",
       "    </tr>\n",
       "    <tr>\n",
       "      <th>4</th>\n",
       "      <td>harry potter</td>\n",
       "      <td>0.872698</td>\n",
       "      <td>Harry Potter: Goblet of Fire - Sony PSP</td>\n",
       "    </tr>\n",
       "    <tr>\n",
       "      <th>5</th>\n",
       "      <td>harry potter</td>\n",
       "      <td>0.877665</td>\n",
       "      <td>Harry Potter and the Sorcerer's Stone - PC</td>\n",
       "    </tr>\n",
       "    <tr>\n",
       "      <th>6</th>\n",
       "      <td>harry potter</td>\n",
       "      <td>0.878635</td>\n",
       "      <td>Harry Potter and the Order of the Phoenix - Ni...</td>\n",
       "    </tr>\n",
       "    <tr>\n",
       "      <th>7</th>\n",
       "      <td>harry potter</td>\n",
       "      <td>0.894921</td>\n",
       "      <td>Harry Potter and the Half Blood Prince - Xbox 360</td>\n",
       "    </tr>\n",
       "    <tr>\n",
       "      <th>8</th>\n",
       "      <td>harry potter</td>\n",
       "      <td>0.897954</td>\n",
       "      <td>Harry Potter and the Chamber of Secrets</td>\n",
       "    </tr>\n",
       "    <tr>\n",
       "      <th>9</th>\n",
       "      <td>harry potter</td>\n",
       "      <td>0.903514</td>\n",
       "      <td>Harry Potter and the Deathly Hallows, Part 2</td>\n",
       "    </tr>\n",
       "  </tbody>\n",
       "</table>\n",
       "</div>"
      ],
      "text/plain": [
       "         target     score                                             titles\n",
       "0  harry potter  0.786267       LEGO Harry Potter: Years 5-7 - Playstation 3\n",
       "1  harry potter  0.792318    Lego Harry Potter: Years 5-7 - PlayStation Vita\n",
       "2  harry potter  0.852925  Harry Potter and the Deathly Hallows Part 1 - ...\n",
       "3  harry potter  0.854980           Harry Potter: Prisoner of Azkaban - Xbox\n",
       "4  harry potter  0.872698            Harry Potter: Goblet of Fire - Sony PSP\n",
       "5  harry potter  0.877665         Harry Potter and the Sorcerer's Stone - PC\n",
       "6  harry potter  0.878635  Harry Potter and the Order of the Phoenix - Ni...\n",
       "7  harry potter  0.894921  Harry Potter and the Half Blood Prince - Xbox 360\n",
       "8  harry potter  0.897954            Harry Potter and the Chamber of Secrets\n",
       "9  harry potter  0.903514       Harry Potter and the Deathly Hallows, Part 2"
      ]
     },
     "execution_count": 13,
     "metadata": {},
     "output_type": "execute_result"
    }
   ],
   "source": [
    "pd.DataFrame({\n",
    "    'target': [query] * 10,\n",
    "    'score': similarities[nn_indices],\n",
    "    'titles': titles[nn_indices]\n",
    "})"
   ]
  },
  {
   "cell_type": "code",
   "execution_count": 14,
   "id": "db37a94d-820d-4bc8-b0ce-3f70c7b705e4",
   "metadata": {},
   "outputs": [
    {
     "data": {
      "text/plain": [
       "array(['LEGO Harry Potter: Years 5-7 - Playstation 3',\n",
       "       'Lego Harry Potter: Years 5-7 - PlayStation Vita',\n",
       "       'Harry Potter and the Deathly Hallows Part 1 - Playstation 3',\n",
       "       'Harry Potter: Prisoner of Azkaban - Xbox',\n",
       "       'Harry Potter: Goblet of Fire - Sony PSP',\n",
       "       \"Harry Potter and the Sorcerer's Stone - PC\",\n",
       "       'Harry Potter and the Order of the Phoenix - Nintendo Wii',\n",
       "       'Harry Potter and the Half Blood Prince - Xbox 360',\n",
       "       'Harry Potter and the Chamber of Secrets',\n",
       "       'Harry Potter and the Deathly Hallows, Part 2'], dtype=object)"
      ]
     },
     "execution_count": 14,
     "metadata": {},
     "output_type": "execute_result"
    }
   ],
   "source": [
    "titles[nn_indices]"
   ]
  },
  {
   "cell_type": "markdown",
   "id": "3ea1fd0d-e0d1-43d9-a47b-b48f9512e683",
   "metadata": {},
   "source": [
    "# Push to Qdrant"
   ]
  },
  {
   "cell_type": "code",
   "execution_count": 15,
   "id": "b5e9703e-4286-4ca3-ba8a-6952ba098763",
   "metadata": {},
   "outputs": [],
   "source": [
    "ann_index = QdrantClient(url=args.qdrant_url)"
   ]
  },
  {
   "cell_type": "code",
   "execution_count": 16,
   "id": "e030bd3d-d312-477a-9c0c-c135d26e8aef",
   "metadata": {
    "scrolled": true
   },
   "outputs": [
    {
     "name": "stderr",
     "output_type": "stream",
     "text": [
      "\u001b[32m2024-10-26 23:10:24.081\u001b[0m | \u001b[1mINFO    \u001b[0m | \u001b[36m__main__\u001b[0m:\u001b[36m<module>\u001b[0m:\u001b[36m3\u001b[0m - \u001b[1mDeleting existing Qdrant collection item_desc_sbert...\u001b[0m\n"
     ]
    }
   ],
   "source": [
    "collection_exists = ann_index.collection_exists(args.qdrant_collection_name)\n",
    "if collection_exists:\n",
    "    logger.info(f\"Deleting existing Qdrant collection {args.qdrant_collection_name}...\")\n",
    "    ann_index.delete_collection(args.qdrant_collection_name)\n",
    "\n",
    "create_collection_result = ann_index.create_collection(\n",
    "    collection_name=args.qdrant_collection_name,\n",
    "    vectors_config=VectorParams(size=embedding_dim, distance=Distance.COSINE),\n",
    ")\n",
    "\n",
    "assert create_collection_result == True"
   ]
  },
  {
   "cell_type": "code",
   "execution_count": 18,
   "id": "4dd26b0c-c87a-495f-9bc8-2c612511e7ad",
   "metadata": {
    "scrolled": true
   },
   "outputs": [],
   "source": [
    "points = []\n",
    "\n",
    "for i, row in metadata_df.reset_index(drop=True).iterrows():\n",
    "    item_indice = int(row['item_indice'])\n",
    "    vector = title_embeddings[i].tolist()\n",
    "    payload = {\n",
    "        args.item_col: row[args.item_col],\n",
    "        'title': row['title'],\n",
    "    }\n",
    "    point = PointStruct(id=item_indice, vector=vector, payload=payload)\n",
    "    points.append(point)"
   ]
  },
  {
   "cell_type": "code",
   "execution_count": 19,
   "id": "24e54de8-8e56-49cd-b309-6b17d97d9283",
   "metadata": {
    "scrolled": true
   },
   "outputs": [
    {
     "data": {
      "application/vnd.jupyter.widget-view+json": {
       "model_id": "cb986ae2ca8b451caef9af6f5a25475e",
       "version_major": 2,
       "version_minor": 0
      },
      "text/plain": [
       "  0%|          | 0/145 [00:00<?, ?it/s]"
      ]
     },
     "metadata": {},
     "output_type": "display_data"
    },
    {
     "data": {
      "text/plain": [
       "UpdateResult(operation_id=144, status=<UpdateStatus.COMPLETED: 'completed'>)"
      ]
     },
     "execution_count": 19,
     "metadata": {},
     "output_type": "execute_result"
    }
   ],
   "source": [
    "batch_size = 32\n",
    "\n",
    "for i in tqdm(range(0, len(points), batch_size)):\n",
    "    batch_points = points[i:i+batch_size]\n",
    "    upsert_result = ann_index.upsert(\n",
    "        collection_name=args.qdrant_collection_name,\n",
    "        points=batch_points,\n",
    "    )\n",
    "    assert str(upsert_result.status) == \"completed\"\n",
    "upsert_result"
   ]
  },
  {
   "cell_type": "code",
   "execution_count": 20,
   "id": "e94ee9de-9eda-4a1f-bdda-fc16963a1533",
   "metadata": {},
   "outputs": [],
   "source": [
    "query_vector = title_embeddings[0]\n",
    "\n",
    "hits = ann_index.search(\n",
    "    collection_name=args.qdrant_collection_name,\n",
    "    query_vector=query_vector,\n",
    "    limit=args.top_k,\n",
    ")"
   ]
  },
  {
   "cell_type": "code",
   "execution_count": 21,
   "id": "01ab88cd-2246-44e4-a970-7f06669b552a",
   "metadata": {},
   "outputs": [
    {
     "data": {
      "text/plain": [
       "[ScoredPoint(id=3057, version=0, score=0.9999999, payload={'parent_asin': 'B00Z9TLVK0', 'title': 'NBA 2K17 - Early Tip Off Edition - PlayStation 4'}, vector=None, shard_key=None, order_value=None),\n",
       " ScoredPoint(id=3490, version=1, score=0.94643676, payload={'parent_asin': 'B01MG6DORB', 'title': 'NBA 2K17 Standard Edition - PlayStation 4'}, vector=None, shard_key=None, order_value=None),\n",
       " ScoredPoint(id=968, version=40, score=0.9246316, payload={'parent_asin': 'B001EYUTL6', 'title': 'NBA 2K7 - PlayStation 2'}, vector=None, shard_key=None, order_value=None),\n",
       " ScoredPoint(id=3019, version=8, score=0.92061067, payload={'parent_asin': 'B00XZQ58AI', 'title': 'NBA 2K16 - PlayStation 3'}, vector=None, shard_key=None, order_value=None),\n",
       " ScoredPoint(id=967, version=87, score=0.90808296, payload={'parent_asin': 'B001EYUTKW', 'title': 'NBA 2K6 - PlayStation 2'}, vector=None, shard_key=None, order_value=None),\n",
       " ScoredPoint(id=969, version=27, score=0.90576637, payload={'parent_asin': 'B001EYUTMA', 'title': 'NBA 2K9 - Playstation 3'}, vector=None, shard_key=None, order_value=None),\n",
       " ScoredPoint(id=2697, version=31, score=0.9033138, payload={'parent_asin': 'B00K5HTPR2', 'title': 'NBA 2K15 - PlayStation 3'}, vector=None, shard_key=None, order_value=None),\n",
       " ScoredPoint(id=2380, version=34, score=0.9011831, payload={'parent_asin': 'B00CES8EFY', 'title': 'NBA 2K14 - Xbox 360'}, vector=None, shard_key=None, order_value=None),\n",
       " ScoredPoint(id=3791, version=9, score=0.89576054, payload={'parent_asin': 'B076541PNM', 'title': 'Nba 2K18 Standard Edition - Xbox One'}, vector=None, shard_key=None, order_value=None),\n",
       " ScoredPoint(id=2083, version=18, score=0.89366627, payload={'parent_asin': 'B007VM72BA', 'title': 'NBA 2K13 - Sony PSP'}, vector=None, shard_key=None, order_value=None)]"
      ]
     },
     "execution_count": 21,
     "metadata": {},
     "output_type": "execute_result"
    }
   ],
   "source": [
    "hits"
   ]
  },
  {
   "cell_type": "code",
   "execution_count": null,
   "id": "26e5eecf-ae31-4bf2-a5e9-a7b0a9de3010",
   "metadata": {},
   "outputs": [],
   "source": []
  }
 ],
 "metadata": {
  "kernelspec": {
   "display_name": "Python 3 (ipykernel)",
   "language": "python",
   "name": "python3"
  },
  "language_info": {
   "codemirror_mode": {
    "name": "ipython",
    "version": 3
   },
   "file_extension": ".py",
   "mimetype": "text/x-python",
   "name": "python",
   "nbconvert_exporter": "python",
   "pygments_lexer": "ipython3",
   "version": "3.11.9"
  }
 },
 "nbformat": 4,
 "nbformat_minor": 5
}
